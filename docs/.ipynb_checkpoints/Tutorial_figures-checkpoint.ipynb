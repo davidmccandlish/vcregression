{
 "cells": [
  {
   "cell_type": "code",
   "execution_count": 7,
   "metadata": {},
   "outputs": [],
   "source": [
    "import sys\n",
    "sys.executable = \"/Users/keitokiddo/Library/Python/3.8\"\n",
    "sys.path.append(\"/Users/keitokiddo/Library/Python/3.8/lib/python/site-packages\")\n",
    "sys.path.insert(1, '/Users/keitokiddo/variance_component_regression/VC_py')"
   ]
  },
  {
   "cell_type": "code",
   "execution_count": 8,
   "metadata": {},
   "outputs": [],
   "source": [
    "import vc_regression as vc\n",
    "\n",
    "import scipy as sp\n",
    "import itertools\n",
    "import os\n",
    "import math\n",
    "import csv\n",
    "import pandas as pd\n",
    "import matplotlib.pyplot as plt\n",
    "import numpy as np\n",
    "import random as rd\n",
    "import statistics as stat\n",
    "import timeit\n",
    "import time\n",
    "import datetime\n",
    "\n",
    "from sklearn.metrics import r2_score\n",
    "\n",
    "import scipy.stats as st\n",
    "\n",
    "from scipy.sparse import csr_matrix, dia_matrix\n",
    "from scipy.optimize import minimize\n",
    "from scipy.special import comb\n",
    "from scipy.spatial.distance import hamming\n",
    "from scipy.sparse.linalg import LinearOperator\n",
    "from scipy.sparse.linalg import cg\n",
    "from scipy.special import comb"
   ]
  },
  {
   "cell_type": "code",
   "execution_count": 9,
   "metadata": {},
   "outputs": [],
   "source": [
    "import pandas as pd\n",
    "import random as rd\n",
    "import numpy as np\n",
    "import itertools"
   ]
  },
  {
   "cell_type": "code",
   "execution_count": 10,
   "metadata": {},
   "outputs": [],
   "source": [
    "from scipy.stats import pearsonr as r2"
   ]
  },
  {
   "cell_type": "code",
   "execution_count": 12,
   "metadata": {},
   "outputs": [
    {
     "name": "stdout",
     "output_type": "stream",
     "text": [
      "4 bases:\n",
      "[0, 1, 2, 3]\n",
      "\n",
      "sequence length = 8\n",
      "\n"
     ]
    }
   ],
   "source": [
    "#\n",
    "# Specify alpha & l\n",
    "#\n",
    "\n",
    "alpha, l = 4, 8\n",
    "\n",
    "# ----------\n",
    "\n",
    "G = alpha**l\n",
    "bases = np.array(range(alpha))\n",
    "seqs = list(itertools.product(bases, repeat=l))\n",
    "\n",
    "print('%d bases:' % alpha)\n",
    "print(list(bases))\n",
    "print()\n",
    "print('sequence length = %d' % l)\n",
    "print()"
   ]
  },
  {
   "cell_type": "code",
   "execution_count": 13,
   "metadata": {},
   "outputs": [
    {
     "name": "stdout",
     "output_type": "stream",
     "text": [
      "Constructing L_sparse ...\n",
      "Constructing L_sparse ...\n",
      "25.17 sec\n"
     ]
    }
   ],
   "source": [
    "#\n",
    "# Preliminary preparation\n",
    "#\n",
    "\n",
    "vc.preliminary_preparation(alpha, l)"
   ]
  },
  {
   "cell_type": "code",
   "execution_count": 16,
   "metadata": {
    "scrolled": true
   },
   "outputs": [],
   "source": [
    "!cd /Users/keitokiddo/variance_component_regression/VC_py/smn1"
   ]
  },
  {
   "cell_type": "code",
   "execution_count": null,
   "metadata": {},
   "outputs": [],
   "source": []
  }
 ],
 "metadata": {
  "kernelspec": {
   "display_name": "Python 3",
   "language": "python",
   "name": "python3"
  },
  "language_info": {
   "codemirror_mode": {
    "name": "ipython",
    "version": 3
   },
   "file_extension": ".py",
   "mimetype": "text/x-python",
   "name": "python",
   "nbconvert_exporter": "python",
   "pygments_lexer": "ipython3",
   "version": "3.8.2"
  }
 },
 "nbformat": 4,
 "nbformat_minor": 2
}
