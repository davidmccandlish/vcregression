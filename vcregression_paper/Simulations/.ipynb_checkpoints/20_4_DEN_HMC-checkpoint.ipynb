{
 "cells": [
  {
   "cell_type": "code",
   "execution_count": 1,
   "metadata": {},
   "outputs": [],
   "source": [
    "import matplotlib.pyplot as plt"
   ]
  },
  {
   "cell_type": "code",
   "execution_count": 2,
   "metadata": {},
   "outputs": [
    {
     "name": "stdout",
     "output_type": "stream",
     "text": [
      "Loading L_sparse ...\n",
      "0.04 sec\n"
     ]
    }
   ],
   "source": [
    "fl_name = \"2_16_DEN\"\n",
    "alpha, l = 2, 16 \n",
    "\n",
    "import os\n",
    "\n",
    "os.chdir(\"/Users/keitokiddo/VC_revision/Simulations/\" + fl_name)\n",
    "import scipy as sp\n",
    "import sys\n",
    "sys.path.insert(1, '/Users/keitokiddo/git/vcregression/vcregression')\n",
    "\n",
    "import vc_regression as vc\n",
    "import itertools\n",
    "import os\n",
    "import csv\n",
    "import pandas as pd\n",
    "import numpy as np\n",
    "import arrow\n",
    "import scipy as sp\n",
    "\n",
    "#define sequence space parameters\n",
    "\n",
    "G = alpha**l\n",
    "bases = np.array(range(alpha))\n",
    "seqs = list(itertools.product(bases, repeat=l)) #generate all possible sequences\n",
    "\n",
    "dirin = \"data/\"\n",
    "dirout = \"out/\"\n",
    "vc.preliminary_preparation(alpha, l)\n"
   ]
  },
  {
   "cell_type": "code",
   "execution_count": 3,
   "metadata": {},
   "outputs": [],
   "source": [
    "import matplotlib.pyplot as plt"
   ]
  },
  {
   "cell_type": "code",
   "execution_count": 4,
   "metadata": {},
   "outputs": [],
   "source": [
    "noise_props=[0.05, 0.1, 0.2, 0.3, 0.4, 0.5, 0.8]"
   ]
  },
  {
   "cell_type": "code",
   "execution_count": 5,
   "metadata": {},
   "outputs": [],
   "source": [
    "vc.seqsAll = np.arange(G)\n",
    "vc.dirout = dirout\n",
    "\n",
    "varall = 0*np.ones(G)\n",
    "\n",
    "f = 'f'\n",
    "train = 'tr'\n",
    "scheme = 'random'"
   ]
  },
  {
   "cell_type": "code",
   "execution_count": 8,
   "metadata": {},
   "outputs": [],
   "source": [
    "i=0\n",
    "j=9\n",
    "\n",
    "\n",
    "vc.outpath = \"out\"\n",
    "vc.sample_name = \"hmc\"\n",
    "\n",
    "name = [fl_name, f, str(i + 1)]\n",
    "tr_name = [train, str(j + 1)]\n",
    "map_name = [fl_name, scheme, \"vc\", str(i + 1), str(j + 1)]\n",
    "lda_name = [fl_name, scheme, \"lda\", str(i + 1), str(j + 1)]\n",
    "response = pd.read_csv(dirin + \"_\".join(name) + \".tsv\", header = None)\n",
    "response = response.to_numpy()\n",
    "response = response.squeeze()\n",
    "tr = pd.read_csv(dirin + \"_\".join(tr_name) + \".tsv\", header = None)\n",
    "tr = np.array(tr).flatten()\n",
    "tr -= 1"
   ]
  },
  {
   "cell_type": "code",
   "execution_count": 20,
   "metadata": {},
   "outputs": [],
   "source": [
    "lda = pd.read_csv(dirout + \"_\".join(lda_name) + \".tsv\", header=None).to_numpy().squeeze()\n",
    "map = pd.read_csv(dirout + \"_\".join(map_name) + \".tsv\", header=None).to_numpy().squeeze()"
   ]
  },
  {
   "cell_type": "code",
   "execution_count": 11,
   "metadata": {},
   "outputs": [],
   "source": [
    "vc.lda_star = lda\n",
    "noise_std = .01\n",
    "noise = np.random.normal(0, noise_std, G)\n",
    "varall = noise_std**2*np.ones(G)\n",
    "\n",
    "vc.set_data_as_global_parameters(np.array(seqs)[tr], np.array(response)[tr], np.array(varall)[tr])\n"
   ]
  },
  {
   "cell_type": "code",
   "execution_count": 12,
   "metadata": {},
   "outputs": [
    {
     "name": "stderr",
     "output_type": "stream",
     "text": [
      "\r",
      "  0%|          | 0/100 [00:00<?, ?it/s]"
     ]
    },
    {
     "name": "stdout",
     "output_type": "stream",
     "text": [
      "currently working on step 1\n"
     ]
    },
    {
     "name": "stderr",
     "output_type": "stream",
     "text": [
      "100%|██████████| 100/100 [00:10<00:00,  9.35it/s]\n",
      "  0%|          | 0/98 [00:00<?, ?it/s]"
     ]
    },
    {
     "name": "stdout",
     "output_type": "stream",
     "text": [
      "initial_potential =  0.0\n",
      "final_potential =  2.71830205476442e-08\n",
      "energy_change =  -1.4551915228366852e-11\n",
      "p accept =  1.000000000014552\n",
      "current step size = 2.362434292201779e-08\n",
      "current acceptance ratio = 1.0\n",
      "currently working on step 2\n"
     ]
    },
    {
     "name": "stderr",
     "output_type": "stream",
     "text": [
      "100%|██████████| 98/98 [00:08<00:00, 11.48it/s]\n",
      "  0%|          | 0/99 [00:00<?, ?it/s]"
     ]
    },
    {
     "name": "stdout",
     "output_type": "stream",
     "text": [
      "initial_potential =  2.71830205476442e-08\n",
      "final_potential =  0.0013948369024374316\n",
      "energy_change =  1.4551915228366852e-11\n",
      "p accept =  0.9999999999854481\n",
      "current step size = 4.15809362276333e-07\n",
      "current acceptance ratio = 1.0\n",
      "currently working on step 3\n"
     ]
    },
    {
     "name": "stderr",
     "output_type": "stream",
     "text": [
      "100%|██████████| 99/99 [00:10<00:00,  9.87it/s]\n",
      "  0%|          | 0/99 [00:00<?, ?it/s]"
     ]
    },
    {
     "name": "stdout",
     "output_type": "stream",
     "text": [
      "initial_potential =  0.0013948369024374316\n",
      "final_potential =  0.4654740126812816\n",
      "energy_change =  2.0372681319713593e-10\n",
      "p accept =  0.9999999997962732\n",
      "current step size = 5.769000013425986e-06\n",
      "current acceptance ratio = 1.0\n",
      "currently working on step 4\n"
     ]
    },
    {
     "name": "stderr",
     "output_type": "stream",
     "text": [
      "100%|██████████| 99/99 [00:08<00:00, 11.33it/s]\n",
      "  0%|          | 0/98 [00:00<?, ?it/s]"
     ]
    },
    {
     "name": "stdout",
     "output_type": "stream",
     "text": [
      "initial_potential =  0.4654740126812816\n",
      "final_potential =  87.82531905236007\n",
      "energy_change =  7.3234259616583586e-06\n",
      "p accept =  0.9999926766008546\n",
      "current step size = 6.57729080249185e-05\n",
      "current acceptance ratio = 1.0\n",
      "currently working on step 5\n"
     ]
    },
    {
     "name": "stderr",
     "output_type": "stream",
     "text": [
      "100%|██████████| 98/98 [00:07<00:00, 12.75it/s]\n",
      "  0%|          | 0/97 [00:00<?, ?it/s]"
     ]
    },
    {
     "name": "stdout",
     "output_type": "stream",
     "text": [
      "initial_potential =  87.82531905236007\n",
      "final_potential =  9721.503526463825\n",
      "energy_change =  0.10555783806194086\n",
      "p accept =  0.8998224273564035\n",
      "current step size = 0.00037233575735269207\n",
      "current acceptance ratio = 1.0\n",
      "currently working on step 6\n"
     ]
    },
    {
     "name": "stderr",
     "output_type": "stream",
     "text": [
      "100%|██████████| 97/97 [00:08<00:00, 10.91it/s]\n",
      "  0%|          | 0/100 [00:00<?, ?it/s]"
     ]
    },
    {
     "name": "stdout",
     "output_type": "stream",
     "text": [
      "initial_potential =  9721.503526463825\n",
      "final_potential =  15252.430419921297\n",
      "energy_change =  1.7646498915710254\n",
      "p accept =  0.17124673091473114\n",
      "current step size = 4.413098074906927e-05\n",
      "current acceptance ratio = 0.8333333333333334\n",
      "currently working on step 7\n"
     ]
    },
    {
     "name": "stderr",
     "output_type": "stream",
     "text": [
      "100%|██████████| 100/100 [00:08<00:00, 11.91it/s]\n",
      "  0%|          | 0/99 [00:00<?, ?it/s]"
     ]
    },
    {
     "name": "stdout",
     "output_type": "stream",
     "text": [
      "initial_potential =  9721.503526463825\n",
      "final_potential =  12864.319279049958\n",
      "energy_change =  0.015540889711701311\n",
      "p accept =  0.9845792467670816\n",
      "current step size = 0.00035440847358943266\n",
      "current acceptance ratio = 0.8571428571428571\n",
      "currently working on step 8\n"
     ]
    },
    {
     "name": "stderr",
     "output_type": "stream",
     "text": [
      "100%|██████████| 99/99 [00:08<00:00, 12.26it/s]\n",
      "  0%|          | 0/101 [00:00<?, ?it/s]"
     ]
    },
    {
     "name": "stdout",
     "output_type": "stream",
     "text": [
      "initial_potential =  12864.319279049958\n",
      "final_potential =  15128.81207353972\n",
      "energy_change =  0.5167942375992425\n",
      "p accept =  0.5964294977742661\n",
      "current step size = 0.0003863240914453972\n",
      "current acceptance ratio = 0.75\n",
      "currently working on step 9\n"
     ]
    },
    {
     "name": "stderr",
     "output_type": "stream",
     "text": [
      "100%|██████████| 101/101 [00:08<00:00, 12.40it/s]\n",
      "  0%|          | 0/101 [00:00<?, ?it/s]"
     ]
    },
    {
     "name": "stdout",
     "output_type": "stream",
     "text": [
      "initial_potential =  12864.319279049958\n",
      "final_potential =  21303.093739866614\n",
      "energy_change =  2.9909586835856317\n",
      "p accept =  0.050239250085001796\n",
      "current step size = 3.226660576193555e-05\n",
      "current acceptance ratio = 0.6666666666666666\n",
      "currently working on step 10\n"
     ]
    },
    {
     "name": "stderr",
     "output_type": "stream",
     "text": [
      "100%|██████████| 101/101 [00:07<00:00, 12.90it/s]\n",
      "  0%|          | 0/97 [00:00<?, ?it/s]"
     ]
    },
    {
     "name": "stdout",
     "output_type": "stream",
     "text": [
      "initial_potential =  12864.319279049958\n",
      "final_potential =  14341.336107462528\n",
      "energy_change =  0.004039938532514498\n",
      "p accept =  0.9959682110408732\n",
      "current step size = 0.00023812445499866384\n",
      "current acceptance ratio = 0.7\n",
      "currently working on step 11\n"
     ]
    },
    {
     "name": "stderr",
     "output_type": "stream",
     "text": [
      "100%|██████████| 97/97 [00:08<00:00, 11.05it/s]\n",
      "  0%|          | 0/97 [00:00<?, ?it/s]"
     ]
    },
    {
     "name": "stdout",
     "output_type": "stream",
     "text": [
      "initial_potential =  14341.336107462528\n",
      "final_potential =  20658.49265351596\n",
      "energy_change =  0.8727815444435691\n",
      "p accept =  0.4177878361039219\n",
      "current step size = 0.00012049966678111598\n",
      "current acceptance ratio = 0.6363636363636364\n",
      "currently working on step 12\n"
     ]
    },
    {
     "name": "stderr",
     "output_type": "stream",
     "text": [
      "100%|██████████| 97/97 [00:08<00:00, 11.59it/s]\n",
      "  0%|          | 0/100 [00:00<?, ?it/s]"
     ]
    },
    {
     "name": "stdout",
     "output_type": "stream",
     "text": [
      "initial_potential =  14341.336107462528\n",
      "final_potential =  24696.863948196104\n",
      "energy_change =  0.38834138099628035\n",
      "p accept =  0.6781807857093949\n",
      "current step size = 0.00019781592948078184\n",
      "current acceptance ratio = 0.5833333333333334\n",
      "currently working on step 13\n"
     ]
    },
    {
     "name": "stderr",
     "output_type": "stream",
     "text": [
      "100%|██████████| 100/100 [00:08<00:00, 11.93it/s]\n",
      "  0%|          | 0/101 [00:00<?, ?it/s]"
     ]
    },
    {
     "name": "stdout",
     "output_type": "stream",
     "text": [
      "initial_potential =  14341.336107462528\n",
      "final_potential =  24378.165409000405\n",
      "energy_change =  0.9755252585164271\n",
      "p accept =  0.3769942820910344\n",
      "current step size = 8.845149992636189e-05\n",
      "current acceptance ratio = 0.5384615384615384\n",
      "currently working on step 14\n"
     ]
    },
    {
     "name": "stderr",
     "output_type": "stream",
     "text": [
      "100%|██████████| 101/101 [00:09<00:00, 10.68it/s]\n",
      "  0%|          | 0/98 [00:00<?, ?it/s]"
     ]
    },
    {
     "name": "stdout",
     "output_type": "stream",
     "text": [
      "initial_potential =  14341.336107462528\n",
      "final_potential =  21688.047459257272\n",
      "energy_change =  0.14139644747774582\n",
      "p accept =  0.868145069542072\n",
      "current step size = 0.00031969281962868665\n",
      "current acceptance ratio = 0.5714285714285714\n",
      "currently working on step 15\n"
     ]
    },
    {
     "name": "stderr",
     "output_type": "stream",
     "text": [
      "100%|██████████| 98/98 [00:08<00:00, 11.41it/s]\n",
      "  0%|          | 0/98 [00:00<?, ?it/s]"
     ]
    },
    {
     "name": "stdout",
     "output_type": "stream",
     "text": [
      "initial_potential =  21688.047459257272\n",
      "final_potential =  22157.98003973862\n",
      "energy_change =  0.0056404175265925005\n",
      "p accept =  0.9943754597628048\n",
      "current step size = 0.0018422916281875935\n",
      "current acceptance ratio = 0.6\n",
      "currently working on step 16\n"
     ]
    },
    {
     "name": "stderr",
     "output_type": "stream",
     "text": [
      "100%|██████████| 98/98 [00:08<00:00, 11.65it/s]\n",
      "  0%|          | 0/101 [00:00<?, ?it/s]"
     ]
    },
    {
     "name": "stdout",
     "output_type": "stream",
     "text": [
      "initial_potential =  22157.98003973862\n",
      "final_potential =  27262.96300392242\n",
      "energy_change =  11.305644282576395\n",
      "p accept =  1.2303284698526041e-05\n",
      "current step size = 0.00018629656292148248\n",
      "current acceptance ratio = 0.5625\n",
      "currently working on step 17\n"
     ]
    },
    {
     "name": "stderr",
     "output_type": "stream",
     "text": [
      "100%|██████████| 101/101 [00:07<00:00, 13.00it/s]\n",
      "  0%|          | 0/100 [00:00<?, ?it/s]"
     ]
    },
    {
     "name": "stdout",
     "output_type": "stream",
     "text": [
      "initial_potential =  22157.98003973862\n",
      "final_potential =  26732.111266643962\n",
      "energy_change =  0.4014789984939853\n",
      "p accept =  0.6693293764770426\n",
      "current step size = 0.0002859591414263991\n",
      "current acceptance ratio = 0.5882352941176471\n",
      "currently working on step 18\n"
     ]
    },
    {
     "name": "stderr",
     "output_type": "stream",
     "text": [
      "100%|██████████| 100/100 [00:08<00:00, 12.48it/s]\n",
      "  0%|          | 0/99 [00:00<?, ?it/s]"
     ]
    },
    {
     "name": "stdout",
     "output_type": "stream",
     "text": [
      "initial_potential =  26732.111266643962\n",
      "final_potential =  27015.33163734372\n",
      "energy_change =  -0.00033117245766334236\n",
      "p accept =  1.0003312273013159\n",
      "current step size = 0.0015492022556019523\n",
      "current acceptance ratio = 0.6111111111111112\n",
      "currently working on step 19\n"
     ]
    },
    {
     "name": "stderr",
     "output_type": "stream",
     "text": [
      "100%|██████████| 99/99 [00:07<00:00, 12.95it/s]\n",
      "  0%|          | 0/99 [00:00<?, ?it/s]"
     ]
    },
    {
     "name": "stdout",
     "output_type": "stream",
     "text": [
      "initial_potential =  27015.33163734372\n",
      "final_potential =  30166.148733881586\n",
      "energy_change =  0.38040832651313394\n",
      "p accept =  0.6835822274701979\n",
      "current step size = 0.002398346062014404\n",
      "current acceptance ratio = 0.5789473684210527\n",
      "currently working on step 20\n"
     ]
    },
    {
     "name": "stderr",
     "output_type": "stream",
     "text": [
      "100%|██████████| 99/99 [00:07<00:00, 12.87it/s]\n",
      "  0%|          | 0/98 [00:00<?, ?it/s]"
     ]
    },
    {
     "name": "stdout",
     "output_type": "stream",
     "text": [
      "initial_potential =  27015.33163734372\n",
      "final_potential =  31109.777276491623\n",
      "energy_change =  4.721501760621322\n",
      "p accept =  0.008901800132466933\n",
      "current step size = 0.00029980699521515845\n",
      "current acceptance ratio = 0.55\n",
      "currently working on step 21\n"
     ]
    },
    {
     "name": "stderr",
     "output_type": "stream",
     "text": [
      "100%|██████████| 98/98 [00:08<00:00, 12.15it/s]\n",
      "  0%|          | 0/98 [00:00<?, ?it/s]"
     ]
    },
    {
     "name": "stdout",
     "output_type": "stream",
     "text": [
      "initial_potential =  27015.33163734372\n",
      "final_potential =  27318.33797773231\n",
      "energy_change =  0.009882748665404506\n",
      "p accept =  0.9901659252192981\n",
      "current step size = 0.0014524526875981647\n",
      "current acceptance ratio = 0.5714285714285714\n",
      "currently working on step 22\n"
     ]
    },
    {
     "name": "stderr",
     "output_type": "stream",
     "text": [
      "100%|██████████| 98/98 [00:08<00:00, 11.83it/s]\n",
      "  0%|          | 0/97 [00:00<?, ?it/s]"
     ]
    },
    {
     "name": "stdout",
     "output_type": "stream",
     "text": [
      "initial_potential =  27318.33797773231\n",
      "final_potential =  30523.4857320665\n",
      "energy_change =  2.3563373833167134\n",
      "p accept =  0.09476668236728512\n",
      "current step size = 0.0002689810355827769\n",
      "current acceptance ratio = 0.5454545454545454\n",
      "currently working on step 23\n"
     ]
    },
    {
     "name": "stderr",
     "output_type": "stream",
     "text": [
      "100%|██████████| 97/97 [00:08<00:00, 11.93it/s]\n",
      "  0%|          | 0/100 [00:00<?, ?it/s]"
     ]
    },
    {
     "name": "stdout",
     "output_type": "stream",
     "text": [
      "initial_potential =  27318.33797773231\n",
      "final_potential =  27490.347516410853\n",
      "energy_change =  -0.003927438257960603\n",
      "p accept =  1.0039351607501563\n",
      "current step size = 0.0012940180143760159\n",
      "current acceptance ratio = 0.5652173913043478\n",
      "currently working on step 24\n"
     ]
    },
    {
     "name": "stderr",
     "output_type": "stream",
     "text": [
      "100%|██████████| 100/100 [00:08<00:00, 12.30it/s]\n",
      "  0%|          | 0/101 [00:00<?, ?it/s]"
     ]
    },
    {
     "name": "stdout",
     "output_type": "stream",
     "text": [
      "initial_potential =  27490.347516410853\n",
      "final_potential =  29850.22479424788\n",
      "energy_change =  -0.08528199919965118\n",
      "p accept =  1.089024127333246\n",
      "current step size = 0.005951582120841254\n",
      "current acceptance ratio = 0.5833333333333334\n",
      "currently working on step 25\n"
     ]
    },
    {
     "name": "stderr",
     "output_type": "stream",
     "text": [
      "100%|██████████| 101/101 [00:08<00:00, 11.72it/s]\n",
      "  0%|          | 0/99 [00:00<?, ?it/s]"
     ]
    },
    {
     "name": "stdout",
     "output_type": "stream",
     "text": [
      "initial_potential =  29850.22479424788\n",
      "final_potential =  33829.8207857067\n",
      "energy_change =  231.53531612652296\n",
      "p accept =  2.7892654061427767e-101\n",
      "current step size = 0.0008500668199864492\n",
      "current acceptance ratio = 0.56\n",
      "currently working on step 26\n"
     ]
    },
    {
     "name": "stderr",
     "output_type": "stream",
     "text": [
      "100%|██████████| 99/99 [00:08<00:00, 12.14it/s]\n",
      "  0%|          | 0/97 [00:00<?, ?it/s]"
     ]
    },
    {
     "name": "stdout",
     "output_type": "stream",
     "text": [
      "initial_potential =  29850.22479424788\n",
      "final_potential =  30311.947675005395\n",
      "energy_change =  -0.023626583017176017\n",
      "p accept =  1.0239079018953363\n",
      "current step size = 0.003786381798616225\n",
      "current acceptance ratio = 0.5769230769230769\n",
      "currently working on step 27\n"
     ]
    },
    {
     "name": "stderr",
     "output_type": "stream",
     "text": [
      "100%|██████████| 97/97 [00:08<00:00, 11.28it/s]\n",
      "  0%|          | 0/98 [00:00<?, ?it/s]"
     ]
    },
    {
     "name": "stdout",
     "output_type": "stream",
     "text": [
      "initial_potential =  30311.947675005395\n",
      "final_potential =  32170.61824472473\n",
      "energy_change =  3.4524133844533935\n",
      "p accept =  0.03166911432847385\n",
      "current step size = 0.0006430405142279692\n",
      "current acceptance ratio = 0.5555555555555556\n",
      "currently working on step 28\n"
     ]
    },
    {
     "name": "stderr",
     "output_type": "stream",
     "text": [
      "100%|██████████| 98/98 [00:07<00:00, 12.90it/s]\n",
      "  0%|          | 0/98 [00:00<?, ?it/s]"
     ]
    },
    {
     "name": "stdout",
     "output_type": "stream",
     "text": [
      "initial_potential =  30311.947675005395\n",
      "final_potential =  30569.88737659078\n",
      "energy_change =  0.0855551579297753\n",
      "p accept =  0.9180025065398798\n",
      "current step size = 0.002118840631910644\n",
      "current acceptance ratio = 0.5714285714285714\n",
      "currently working on step 29\n"
     ]
    },
    {
     "name": "stderr",
     "output_type": "stream",
     "text": [
      "100%|██████████| 98/98 [00:08<00:00, 11.82it/s]\n",
      "  1%|          | 1/98 [00:00<00:10,  9.01it/s]"
     ]
    },
    {
     "name": "stdout",
     "output_type": "stream",
     "text": [
      "initial_potential =  30569.88737659078\n",
      "final_potential =  31934.014730490566\n",
      "energy_change =  1.7736802794970572\n",
      "p accept =  0.1697072679390912\n",
      "current step size = 0.0005982881651804535\n",
      "current acceptance ratio = 0.5517241379310345\n",
      "currently working on step 30\n"
     ]
    },
    {
     "name": "stderr",
     "output_type": "stream",
     "text": [
      "100%|██████████| 98/98 [00:08<00:00, 12.18it/s]\n",
      "  0%|          | 0/99 [00:00<?, ?it/s]"
     ]
    },
    {
     "name": "stdout",
     "output_type": "stream",
     "text": [
      "initial_potential =  30569.88737659078\n",
      "final_potential =  30761.356015721132\n",
      "energy_change =  0.016642487680655904\n",
      "p accept =  0.9834952334516239\n",
      "current step size = 0.0023704920361808696\n",
      "current acceptance ratio = 0.5666666666666667\n",
      "currently working on step 31\n"
     ]
    },
    {
     "name": "stderr",
     "output_type": "stream",
     "text": [
      "100%|██████████| 99/99 [00:08<00:00, 11.71it/s]\n",
      "  0%|          | 0/98 [00:00<?, ?it/s]"
     ]
    },
    {
     "name": "stdout",
     "output_type": "stream",
     "text": [
      "initial_potential =  30761.356015721132\n",
      "final_potential =  32537.19491624907\n",
      "energy_change =  7.6506566080934135\n",
      "p accept =  0.0004757316571913245\n",
      "current step size = 0.00040608985717763973\n",
      "current acceptance ratio = 0.5483870967741935\n",
      "currently working on step 32\n"
     ]
    },
    {
     "name": "stderr",
     "output_type": "stream",
     "text": [
      "100%|██████████| 98/98 [00:08<00:00, 12.20it/s]\n",
      "  0%|          | 0/101 [00:00<?, ?it/s]"
     ]
    },
    {
     "name": "stdout",
     "output_type": "stream",
     "text": [
      "initial_potential =  30761.356015721132\n",
      "final_potential =  30862.365770737782\n",
      "energy_change =  0.022931731524295174\n",
      "p accept =  0.9773292022707669\n",
      "current step size = 0.001539228147580499\n",
      "current acceptance ratio = 0.5625\n",
      "currently working on step 33\n"
     ]
    },
    {
     "name": "stderr",
     "output_type": "stream",
     "text": [
      "100%|██████████| 101/101 [00:08<00:00, 12.35it/s]\n",
      "  0%|          | 0/101 [00:00<?, ?it/s]"
     ]
    },
    {
     "name": "stdout",
     "output_type": "stream",
     "text": [
      "initial_potential =  30862.365770737782\n",
      "final_potential =  31637.287166361733\n",
      "energy_change =  0.05012177051685285\n",
      "p accept =  0.9511135998542036\n",
      "current step size = 0.005221691893797068\n",
      "current acceptance ratio = 0.5757575757575758\n",
      "currently working on step 34\n"
     ]
    },
    {
     "name": "stderr",
     "output_type": "stream",
     "text": [
      "100%|██████████| 101/101 [00:08<00:00, 12.01it/s]\n",
      "  0%|          | 0/99 [00:00<?, ?it/s]"
     ]
    },
    {
     "name": "stdout",
     "output_type": "stream",
     "text": [
      "initial_potential =  31637.287166361733\n",
      "final_potential =  32681.198826583226\n",
      "energy_change =  16.663377176824724\n",
      "p accept =  5.796785658554639e-08\n",
      "current step size = 0.000948298030953974\n",
      "current acceptance ratio = 0.5588235294117647\n",
      "currently working on step 35\n"
     ]
    },
    {
     "name": "stderr",
     "output_type": "stream",
     "text": [
      "100%|██████████| 99/99 [00:08<00:00, 11.93it/s]\n",
      "  0%|          | 0/100 [00:00<?, ?it/s]"
     ]
    },
    {
     "name": "stdout",
     "output_type": "stream",
     "text": [
      "initial_potential =  31637.287166361733\n",
      "final_potential =  31794.93701297055\n",
      "energy_change =  0.09518734837183729\n",
      "p accept =  0.9092025808877972\n",
      "current step size = 0.002782683482314929\n",
      "current acceptance ratio = 0.5714285714285714\n",
      "currently working on step 36\n"
     ]
    },
    {
     "name": "stderr",
     "output_type": "stream",
     "text": [
      "100%|██████████| 100/100 [00:08<00:00, 11.75it/s]\n",
      "  0%|          | 0/100 [00:00<?, ?it/s]"
     ]
    },
    {
     "name": "stdout",
     "output_type": "stream",
     "text": [
      "initial_potential =  31794.93701297055\n",
      "final_potential =  32448.119267231923\n",
      "energy_change =  0.1275978656631196\n",
      "p accept =  0.880207269550791\n",
      "current step size = 0.007324109278767999\n",
      "current acceptance ratio = 0.5833333333333334\n",
      "currently working on step 37\n"
     ]
    },
    {
     "name": "stderr",
     "output_type": "stream",
     "text": [
      "100%|██████████| 100/100 [00:08<00:00, 12.27it/s]\n",
      "  0%|          | 0/98 [00:00<?, ?it/s]"
     ]
    },
    {
     "name": "stdout",
     "output_type": "stream",
     "text": [
      "initial_potential =  32448.119267231923\n",
      "final_potential =  1279019556844149.8\n",
      "energy_change =  1287826932818021.8\n",
      "p accept =  0.0\n",
      "current step size = 0.0014105732394991733\n",
      "current acceptance ratio = 0.5675675675675675\n",
      "currently working on step 38\n"
     ]
    },
    {
     "name": "stderr",
     "output_type": "stream",
     "text": [
      "100%|██████████| 98/98 [00:08<00:00, 12.21it/s]\n",
      "  0%|          | 0/98 [00:00<?, ?it/s]"
     ]
    },
    {
     "name": "stdout",
     "output_type": "stream",
     "text": [
      "initial_potential =  32448.119267231923\n",
      "final_potential =  32772.109433546975\n",
      "energy_change =  1.6540046052541584\n",
      "p accept =  0.19128236243313118\n",
      "current step size = 0.0004925946442143678\n",
      "current acceptance ratio = 0.5526315789473685\n",
      "currently working on step 39\n"
     ]
    },
    {
     "name": "stderr",
     "output_type": "stream",
     "text": [
      "100%|██████████| 98/98 [00:08<00:00, 11.96it/s]\n",
      "  0%|          | 0/100 [00:00<?, ?it/s]"
     ]
    },
    {
     "name": "stdout",
     "output_type": "stream",
     "text": [
      "initial_potential =  32448.119267231923\n",
      "final_potential =  32544.200414336447\n",
      "energy_change =  0.036427865212317556\n",
      "p accept =  0.9642276457442432\n",
      "current step size = 0.0016401482476129353\n",
      "current acceptance ratio = 0.5641025641025641\n",
      "currently working on step 40\n"
     ]
    },
    {
     "name": "stderr",
     "output_type": "stream",
     "text": [
      "100%|██████████| 100/100 [00:08<00:00, 11.60it/s]\n",
      "  0%|          | 0/97 [00:00<?, ?it/s]"
     ]
    },
    {
     "name": "stdout",
     "output_type": "stream",
     "text": [
      "initial_potential =  32544.200414336447\n",
      "final_potential =  32763.233331469502\n",
      "energy_change =  0.5176376811141381\n",
      "p accept =  0.59592665527171\n",
      "current step size = 0.0018628109897342996\n",
      "current acceptance ratio = 0.55\n",
      "currently working on step 41\n"
     ]
    },
    {
     "name": "stderr",
     "output_type": "stream",
     "text": [
      "100%|██████████| 97/97 [00:08<00:00, 11.81it/s]\n",
      "  0%|          | 0/100 [00:00<?, ?it/s]"
     ]
    },
    {
     "name": "stdout",
     "output_type": "stream",
     "text": [
      "initial_potential =  32544.200414336447\n",
      "final_potential =  32678.56321077641\n",
      "energy_change =  0.30948389883269556\n",
      "p accept =  0.7338255867519768\n",
      "current step size = 0.0031215825526679994\n",
      "current acceptance ratio = 0.5609756097560976\n",
      "currently working on step 42\n"
     ]
    },
    {
     "name": "stderr",
     "output_type": "stream",
     "text": [
      "100%|██████████| 100/100 [00:08<00:00, 12.13it/s]\n",
      "  0%|          | 0/100 [00:00<?, ?it/s]"
     ]
    },
    {
     "name": "stdout",
     "output_type": "stream",
     "text": [
      "initial_potential =  32678.56321077641\n",
      "final_potential =  32716.194378112188\n",
      "energy_change =  -1.6481663542363094\n",
      "p accept =  5.197440818931866\n",
      "current step size = 0.01092755974036245\n",
      "current acceptance ratio = 0.5714285714285714\n",
      "currently working on step 43\n"
     ]
    },
    {
     "name": "stderr",
     "output_type": "stream",
     "text": [
      "100%|██████████| 100/100 [00:08<00:00, 11.83it/s]\n",
      "  0%|          | 0/98 [00:00<?, ?it/s]"
     ]
    },
    {
     "name": "stdout",
     "output_type": "stream",
     "text": [
      "initial_potential =  32716.194378112188\n",
      "final_potential =  5.798421777353239e+169\n",
      "energy_change =  1.3214197000006034e+170\n",
      "p accept =  0.0\n",
      "current step size = 0.002334847143981926\n",
      "current acceptance ratio = 0.5581395348837209\n",
      "currently working on step 44\n"
     ]
    },
    {
     "name": "stderr",
     "output_type": "stream",
     "text": [
      "100%|██████████| 98/98 [00:08<00:00, 11.46it/s]\n",
      "  0%|          | 0/97 [00:00<?, ?it/s]"
     ]
    },
    {
     "name": "stdout",
     "output_type": "stream",
     "text": [
      "initial_potential =  32716.194378112188\n",
      "final_potential =  33073.13380572301\n",
      "energy_change =  4.744100826763315\n",
      "p accept =  0.008702883888929362\n",
      "current step size = 0.0005269003680788448\n",
      "current acceptance ratio = 0.5454545454545454\n",
      "currently working on step 45\n"
     ]
    },
    {
     "name": "stderr",
     "output_type": "stream",
     "text": [
      "100%|██████████| 97/97 [00:08<00:00, 11.69it/s]\n",
      "  0%|          | 0/100 [00:00<?, ?it/s]"
     ]
    },
    {
     "name": "stdout",
     "output_type": "stream",
     "text": [
      "initial_potential =  32716.194378112188\n",
      "final_potential =  33076.4614793708\n",
      "energy_change =  0.25911335287673865\n",
      "p accept =  0.7717355396420497\n",
      "current step size = 0.0009765474154125312\n",
      "current acceptance ratio = 0.5333333333333333\n",
      "currently working on step 46\n"
     ]
    },
    {
     "name": "stderr",
     "output_type": "stream",
     "text": [
      "100%|██████████| 100/100 [00:08<00:00, 11.94it/s]\n",
      "  0%|          | 0/99 [00:00<?, ?it/s]"
     ]
    },
    {
     "name": "stdout",
     "output_type": "stream",
     "text": [
      "initial_potential =  32716.194378112188\n",
      "final_potential =  32895.345017186504\n",
      "energy_change =  0.3871509566961322\n",
      "p accept =  0.6789885893157227\n",
      "current step size = 0.001395160415292866\n",
      "current acceptance ratio = 0.5434782608695652\n",
      "currently working on step 47\n"
     ]
    },
    {
     "name": "stderr",
     "output_type": "stream",
     "text": [
      "100%|██████████| 99/99 [00:08<00:00, 11.46it/s]\n",
      "  0%|          | 0/98 [00:00<?, ?it/s]"
     ]
    },
    {
     "name": "stdout",
     "output_type": "stream",
     "text": [
      "initial_potential =  32895.345017186504\n",
      "final_potential =  32912.04100089586\n",
      "energy_change =  -0.6751953394268639\n",
      "p accept =  1.964416666519441\n",
      "current step size = 0.004675894551238914\n",
      "current acceptance ratio = 0.5531914893617021\n",
      "currently working on step 48\n"
     ]
    },
    {
     "name": "stderr",
     "output_type": "stream",
     "text": [
      "100%|██████████| 98/98 [00:07<00:00, 12.32it/s]\n",
      "  0%|          | 0/98 [00:00<?, ?it/s]"
     ]
    },
    {
     "name": "stdout",
     "output_type": "stream",
     "text": [
      "initial_potential =  32912.04100089586\n",
      "final_potential =  33220.75703769244\n",
      "energy_change =  15.906957796396455\n",
      "p accept =  1.2350826050976456e-07\n",
      "current step size = 0.0010860786676839202\n",
      "current acceptance ratio = 0.5416666666666666\n",
      "currently working on step 49\n"
     ]
    },
    {
     "name": "stderr",
     "output_type": "stream",
     "text": [
      "100%|██████████| 98/98 [00:07<00:00, 12.33it/s]\n",
      "  0%|          | 0/101 [00:00<?, ?it/s]"
     ]
    },
    {
     "name": "stdout",
     "output_type": "stream",
     "text": [
      "initial_potential =  32912.04100089586\n",
      "final_potential =  32923.338656559805\n",
      "energy_change =  0.2645188621681882\n",
      "p accept =  0.7675751705990626\n",
      "current step size = 0.0019443514602406967\n",
      "current acceptance ratio = 0.5510204081632653\n",
      "currently working on step 50\n"
     ]
    },
    {
     "name": "stderr",
     "output_type": "stream",
     "text": [
      "100%|██████████| 101/101 [00:09<00:00, 10.45it/s]\n",
      "  0%|          | 0/100 [00:00<?, ?it/s]"
     ]
    },
    {
     "name": "stdout",
     "output_type": "stream",
     "text": [
      "initial_potential =  32923.338656559805\n",
      "final_potential =  33113.678556476734\n",
      "energy_change =  2.732648435543524\n",
      "p accept =  0.06504678911237821\n",
      "current step size = 0.0013027354983038138\n",
      "current acceptance ratio = 0.54\n",
      "currently working on step 51\n"
     ]
    },
    {
     "name": "stderr",
     "output_type": "stream",
     "text": [
      "100%|██████████| 100/100 [00:08<00:00, 11.69it/s]\n",
      "  0%|          | 0/97 [00:00<?, ?it/s]"
     ]
    },
    {
     "name": "stdout",
     "output_type": "stream",
     "text": [
      "initial_potential =  32923.338656559805\n",
      "final_potential =  32847.550441718115\n",
      "energy_change =  -0.24077010528708342\n",
      "p accept =  1.2722285230749328\n",
      "current step size = 0.0013027354983038138\n",
      "current acceptance ratio = 0.5490196078431373\n",
      "currently working on step 52\n"
     ]
    },
    {
     "name": "stderr",
     "output_type": "stream",
     "text": [
      "100%|██████████| 97/97 [00:08<00:00, 11.44it/s]\n",
      "  0%|          | 0/101 [00:00<?, ?it/s]"
     ]
    },
    {
     "name": "stdout",
     "output_type": "stream",
     "text": [
      "initial_potential =  32847.550441718115\n",
      "final_potential =  32878.61332527592\n",
      "energy_change =  0.0592915680463193\n",
      "p accept =  0.9424319460529293\n",
      "current step size = 0.0013027354983038138\n",
      "current acceptance ratio = 0.5576923076923077\n",
      "currently working on step 53\n"
     ]
    },
    {
     "name": "stderr",
     "output_type": "stream",
     "text": [
      "100%|██████████| 101/101 [00:09<00:00, 11.20it/s]\n",
      "  0%|          | 0/97 [00:00<?, ?it/s]"
     ]
    },
    {
     "name": "stdout",
     "output_type": "stream",
     "text": [
      "initial_potential =  32878.61332527592\n",
      "final_potential =  33043.55661227935\n",
      "energy_change =  0.9530542748543667\n",
      "p accept =  0.38556161211147016\n",
      "current step size = 0.0013027354983038138\n",
      "current acceptance ratio = 0.5471698113207547\n",
      "currently working on step 54\n"
     ]
    },
    {
     "name": "stderr",
     "output_type": "stream",
     "text": [
      "100%|██████████| 97/97 [00:08<00:00, 11.05it/s]\n",
      "  0%|          | 0/100 [00:00<?, ?it/s]"
     ]
    },
    {
     "name": "stdout",
     "output_type": "stream",
     "text": [
      "initial_potential =  32878.61332527592\n",
      "final_potential =  32780.59398327588\n",
      "energy_change =  -0.1831822000676766\n",
      "p accept =  1.2010332164800974\n",
      "current step size = 0.0013027354983038138\n",
      "current acceptance ratio = 0.5555555555555556\n",
      "currently working on step 55\n"
     ]
    },
    {
     "name": "stderr",
     "output_type": "stream",
     "text": [
      "100%|██████████| 100/100 [00:09<00:00, 10.94it/s]\n",
      "  0%|          | 0/99 [00:00<?, ?it/s]"
     ]
    },
    {
     "name": "stdout",
     "output_type": "stream",
     "text": [
      "initial_potential =  32780.59398327588\n",
      "final_potential =  32824.67567828224\n",
      "energy_change =  0.3282135684567038\n",
      "p accept =  0.7202091893141607\n",
      "current step size = 0.0013027354983038138\n",
      "current acceptance ratio = 0.5636363636363636\n",
      "currently working on step 56\n"
     ]
    },
    {
     "name": "stderr",
     "output_type": "stream",
     "text": [
      "100%|██████████| 99/99 [00:08<00:00, 11.49it/s]\n",
      "  0%|          | 0/99 [00:00<?, ?it/s]"
     ]
    },
    {
     "name": "stdout",
     "output_type": "stream",
     "text": [
      "initial_potential =  32824.67567828224\n",
      "final_potential =  32622.700950050777\n",
      "energy_change =  -0.11140233729383908\n",
      "p accept =  1.1178445669488788\n",
      "current step size = 0.0013027354983038138\n",
      "current acceptance ratio = 0.5714285714285714\n",
      "currently working on step 57\n"
     ]
    },
    {
     "name": "stderr",
     "output_type": "stream",
     "text": [
      "100%|██████████| 99/99 [00:08<00:00, 11.19it/s]\n",
      "  0%|          | 0/97 [00:00<?, ?it/s]"
     ]
    },
    {
     "name": "stdout",
     "output_type": "stream",
     "text": [
      "initial_potential =  32622.700950050777\n",
      "final_potential =  32802.815229956876\n",
      "energy_change =  -0.2592904132034164\n",
      "p accept =  1.296010128633819\n",
      "current step size = 0.0013027354983038138\n",
      "current acceptance ratio = 0.5789473684210527\n",
      "currently working on step 58\n"
     ]
    },
    {
     "name": "stderr",
     "output_type": "stream",
     "text": [
      "100%|██████████| 97/97 [00:08<00:00, 11.07it/s]\n",
      "  0%|          | 0/97 [00:00<?, ?it/s]"
     ]
    },
    {
     "name": "stdout",
     "output_type": "stream",
     "text": [
      "initial_potential =  32802.815229956876\n",
      "final_potential =  33004.84381512476\n",
      "energy_change =  0.7147536008706084\n",
      "p accept =  0.4893126631580488\n",
      "current step size = 0.0013027354983038138\n",
      "current acceptance ratio = 0.5689655172413793\n",
      "currently working on step 59\n"
     ]
    },
    {
     "name": "stderr",
     "output_type": "stream",
     "text": [
      "100%|██████████| 97/97 [00:08<00:00, 11.26it/s]\n",
      "  0%|          | 0/101 [00:00<?, ?it/s]"
     ]
    },
    {
     "name": "stdout",
     "output_type": "stream",
     "text": [
      "initial_potential =  32802.815229956876\n",
      "final_potential =  32799.45318763416\n",
      "energy_change =  0.09624807050568052\n",
      "p accept =  0.9082386808915087\n",
      "current step size = 0.0013027354983038138\n",
      "current acceptance ratio = 0.576271186440678\n",
      "currently working on step 60\n"
     ]
    },
    {
     "name": "stderr",
     "output_type": "stream",
     "text": [
      "100%|██████████| 101/101 [00:08<00:00, 11.31it/s]\n",
      "  0%|          | 0/98 [00:00<?, ?it/s]"
     ]
    },
    {
     "name": "stdout",
     "output_type": "stream",
     "text": [
      "initial_potential =  32799.45318763416\n",
      "final_potential =  32949.25561130515\n",
      "energy_change =  0.9108314776967745\n",
      "p accept =  0.4021896732239833\n",
      "current step size = 0.0013027354983038138\n",
      "current acceptance ratio = 0.5833333333333334\n",
      "currently working on step 61\n"
     ]
    },
    {
     "name": "stderr",
     "output_type": "stream",
     "text": [
      "100%|██████████| 98/98 [00:08<00:00, 11.79it/s]\n",
      "  0%|          | 0/98 [00:00<?, ?it/s]"
     ]
    },
    {
     "name": "stdout",
     "output_type": "stream",
     "text": [
      "initial_potential =  32949.25561130515\n",
      "final_potential =  32820.56114059161\n",
      "energy_change =  -0.5377258921798784\n",
      "p accept =  1.7121089114202155\n",
      "current step size = 0.0013027354983038138\n",
      "current acceptance ratio = 0.5901639344262295\n",
      "currently working on step 62\n"
     ]
    },
    {
     "name": "stderr",
     "output_type": "stream",
     "text": [
      "100%|██████████| 98/98 [00:08<00:00, 11.27it/s]\n",
      "  0%|          | 0/99 [00:00<?, ?it/s]"
     ]
    },
    {
     "name": "stdout",
     "output_type": "stream",
     "text": [
      "initial_potential =  32820.56114059161\n",
      "final_potential =  32838.08553885436\n",
      "energy_change =  -0.06821785254578572\n",
      "p accept =  1.070598515687617\n",
      "current step size = 0.0013027354983038138\n",
      "current acceptance ratio = 0.5967741935483871\n",
      "currently working on step 63\n"
     ]
    },
    {
     "name": "stderr",
     "output_type": "stream",
     "text": [
      "100%|██████████| 99/99 [00:08<00:00, 11.20it/s]\n",
      "  0%|          | 0/99 [00:00<?, ?it/s]"
     ]
    },
    {
     "name": "stdout",
     "output_type": "stream",
     "text": [
      "initial_potential =  32838.08553885436\n",
      "final_potential =  32882.23535871009\n",
      "energy_change =  0.04358956073701847\n",
      "p accept =  0.9573468095655058\n",
      "current step size = 0.0013027354983038138\n",
      "current acceptance ratio = 0.6031746031746031\n",
      "currently working on step 64\n"
     ]
    },
    {
     "name": "stderr",
     "output_type": "stream",
     "text": [
      "100%|██████████| 99/99 [00:08<00:00, 11.35it/s]\n",
      "  0%|          | 0/97 [00:00<?, ?it/s]"
     ]
    },
    {
     "name": "stdout",
     "output_type": "stream",
     "text": [
      "initial_potential =  32882.23535871009\n",
      "final_potential =  32957.897047908664\n",
      "energy_change =  -0.18323119427077472\n",
      "p accept =  1.201092061586956\n",
      "current step size = 0.0013027354983038138\n",
      "current acceptance ratio = 0.609375\n",
      "currently working on step 65\n"
     ]
    },
    {
     "name": "stderr",
     "output_type": "stream",
     "text": [
      "100%|██████████| 97/97 [00:08<00:00, 11.12it/s]\n",
      "  0%|          | 0/97 [00:00<?, ?it/s]"
     ]
    },
    {
     "name": "stdout",
     "output_type": "stream",
     "text": [
      "initial_potential =  32957.897047908664\n",
      "final_potential =  33163.27275145607\n",
      "energy_change =  0.901624666978023\n",
      "p accept =  0.40590965572869\n",
      "current step size = 0.0013027354983038138\n",
      "current acceptance ratio = 0.6153846153846154\n",
      "currently working on step 66\n"
     ]
    },
    {
     "name": "stderr",
     "output_type": "stream",
     "text": [
      "100%|██████████| 97/97 [00:08<00:00, 11.52it/s]\n",
      "  0%|          | 0/98 [00:00<?, ?it/s]"
     ]
    },
    {
     "name": "stdout",
     "output_type": "stream",
     "text": [
      "initial_potential =  33163.27275145607\n",
      "final_potential =  33099.63706166753\n",
      "energy_change =  0.11972045183938462\n",
      "p accept =  0.8871684083522464\n",
      "current step size = 0.0013027354983038138\n",
      "current acceptance ratio = 0.6212121212121212\n",
      "currently working on step 67\n"
     ]
    },
    {
     "name": "stderr",
     "output_type": "stream",
     "text": [
      "100%|██████████| 98/98 [00:08<00:00, 11.28it/s]\n",
      "  0%|          | 0/101 [00:00<?, ?it/s]"
     ]
    },
    {
     "name": "stdout",
     "output_type": "stream",
     "text": [
      "initial_potential =  33099.63706166753\n",
      "final_potential =  33131.688805925805\n",
      "energy_change =  -0.07913945028849412\n",
      "p accept =  1.082355246298206\n",
      "current step size = 0.0013027354983038138\n",
      "current acceptance ratio = 0.6268656716417911\n",
      "currently working on step 68\n"
     ]
    },
    {
     "name": "stderr",
     "output_type": "stream",
     "text": [
      "100%|██████████| 101/101 [00:08<00:00, 11.76it/s]\n",
      "  0%|          | 0/97 [00:00<?, ?it/s]"
     ]
    },
    {
     "name": "stdout",
     "output_type": "stream",
     "text": [
      "initial_potential =  33131.688805925805\n",
      "final_potential =  33016.58269240697\n",
      "energy_change =  -0.392811679164879\n",
      "p accept =  1.48113943364843\n",
      "current step size = 0.0013027354983038138\n",
      "current acceptance ratio = 0.6323529411764706\n",
      "currently working on step 69\n"
     ]
    },
    {
     "name": "stderr",
     "output_type": "stream",
     "text": [
      "100%|██████████| 97/97 [00:08<00:00, 12.08it/s]\n",
      "  0%|          | 0/101 [00:00<?, ?it/s]"
     ]
    },
    {
     "name": "stdout",
     "output_type": "stream",
     "text": [
      "initial_potential =  33016.58269240697\n",
      "final_potential =  32975.048377482584\n",
      "energy_change =  -0.03602970672363881\n",
      "p accept =  1.0366866425970875\n",
      "current step size = 0.0013027354983038138\n",
      "current acceptance ratio = 0.6376811594202898\n",
      "currently working on step 70\n"
     ]
    },
    {
     "name": "stderr",
     "output_type": "stream",
     "text": [
      "100%|██████████| 101/101 [00:08<00:00, 12.13it/s]\n",
      "  0%|          | 0/98 [00:00<?, ?it/s]"
     ]
    },
    {
     "name": "stdout",
     "output_type": "stream",
     "text": [
      "initial_potential =  32975.048377482584\n",
      "final_potential =  33067.519547041986\n",
      "energy_change =  -0.20151108542631846\n",
      "p accept =  1.2232497972331458\n",
      "current step size = 0.0013027354983038138\n",
      "current acceptance ratio = 0.6428571428571429\n",
      "currently working on step 71\n"
     ]
    },
    {
     "name": "stderr",
     "output_type": "stream",
     "text": [
      "100%|██████████| 98/98 [00:08<00:00, 12.15it/s]\n",
      "  0%|          | 0/97 [00:00<?, ?it/s]"
     ]
    },
    {
     "name": "stdout",
     "output_type": "stream",
     "text": [
      "initial_potential =  33067.519547041986\n",
      "final_potential =  33062.59207313838\n",
      "energy_change =  0.10051914595533162\n",
      "p accept =  0.9043677972615637\n",
      "current step size = 0.0013027354983038138\n",
      "current acceptance ratio = 0.6338028169014085\n",
      "currently working on step 72\n"
     ]
    },
    {
     "name": "stderr",
     "output_type": "stream",
     "text": [
      "100%|██████████| 97/97 [00:08<00:00, 11.90it/s]\n",
      "  0%|          | 0/100 [00:00<?, ?it/s]"
     ]
    },
    {
     "name": "stdout",
     "output_type": "stream",
     "text": [
      "initial_potential =  33067.519547041986\n",
      "final_potential =  32881.06515822103\n",
      "energy_change =  -0.22102521987108048\n",
      "p accept =  1.2473548882968577\n",
      "current step size = 0.0013027354983038138\n",
      "current acceptance ratio = 0.6388888888888888\n",
      "currently working on step 73\n"
     ]
    },
    {
     "name": "stderr",
     "output_type": "stream",
     "text": [
      "100%|██████████| 100/100 [00:08<00:00, 11.83it/s]\n",
      "  0%|          | 0/97 [00:00<?, ?it/s]"
     ]
    },
    {
     "name": "stdout",
     "output_type": "stream",
     "text": [
      "initial_potential =  32881.06515822103\n",
      "final_potential =  33037.49911407276\n",
      "energy_change =  0.41292961849831045\n",
      "p accept =  0.6617088532517541\n",
      "current step size = 0.0013027354983038138\n",
      "current acceptance ratio = 0.6438356164383562\n",
      "currently working on step 74\n"
     ]
    },
    {
     "name": "stderr",
     "output_type": "stream",
     "text": [
      "100%|██████████| 97/97 [00:08<00:00, 11.56it/s]\n",
      "  0%|          | 0/101 [00:00<?, ?it/s]"
     ]
    },
    {
     "name": "stdout",
     "output_type": "stream",
     "text": [
      "initial_potential =  33037.49911407276\n",
      "final_potential =  33050.55915854795\n",
      "energy_change =  -0.011671582818962634\n",
      "p accept =  1.0117399615119558\n",
      "current step size = 0.0013027354983038138\n",
      "current acceptance ratio = 0.6486486486486487\n",
      "currently working on step 75\n"
     ]
    },
    {
     "name": "stderr",
     "output_type": "stream",
     "text": [
      "100%|██████████| 101/101 [00:09<00:00, 11.08it/s]\n",
      "  0%|          | 0/101 [00:00<?, ?it/s]"
     ]
    },
    {
     "name": "stdout",
     "output_type": "stream",
     "text": [
      "initial_potential =  33050.55915854795\n",
      "final_potential =  32953.13617820579\n",
      "energy_change =  -0.39342291132197715\n",
      "p accept =  1.4820450304361665\n",
      "current step size = 0.0013027354983038138\n",
      "current acceptance ratio = 0.6533333333333333\n",
      "currently working on step 76\n"
     ]
    },
    {
     "name": "stderr",
     "output_type": "stream",
     "text": [
      "100%|██████████| 101/101 [00:09<00:00, 11.05it/s]\n",
      "  0%|          | 0/97 [00:00<?, ?it/s]"
     ]
    },
    {
     "name": "stdout",
     "output_type": "stream",
     "text": [
      "initial_potential =  32953.13617820579\n",
      "final_potential =  33047.68958082324\n",
      "energy_change =  0.17063183969003148\n",
      "p accept =  0.8431319240492343\n",
      "current step size = 0.0013027354983038138\n",
      "current acceptance ratio = 0.6447368421052632\n",
      "currently working on step 77\n"
     ]
    },
    {
     "name": "stderr",
     "output_type": "stream",
     "text": [
      "100%|██████████| 97/97 [00:09<00:00, 10.25it/s]\n",
      "  0%|          | 0/98 [00:00<?, ?it/s]"
     ]
    },
    {
     "name": "stdout",
     "output_type": "stream",
     "text": [
      "initial_potential =  32953.13617820579\n",
      "final_potential =  33037.06270814492\n",
      "energy_change =  0.6140744815929793\n",
      "p accept =  0.5411415000332226\n",
      "current step size = 0.0013027354983038138\n",
      "current acceptance ratio = 0.6493506493506493\n",
      "currently working on step 78\n"
     ]
    },
    {
     "name": "stderr",
     "output_type": "stream",
     "text": [
      "100%|██████████| 98/98 [00:08<00:00, 11.21it/s]\n",
      "  0%|          | 0/98 [00:00<?, ?it/s]"
     ]
    },
    {
     "name": "stdout",
     "output_type": "stream",
     "text": [
      "initial_potential =  33037.06270814492\n",
      "final_potential =  33100.65320350144\n",
      "energy_change =  0.32734896609326825\n",
      "p accept =  0.720832153150605\n",
      "current step size = 0.0013027354983038138\n",
      "current acceptance ratio = 0.6410256410256411\n",
      "currently working on step 79\n"
     ]
    },
    {
     "name": "stderr",
     "output_type": "stream",
     "text": [
      "100%|██████████| 98/98 [00:08<00:00, 11.57it/s]\n",
      "  0%|          | 0/98 [00:00<?, ?it/s]"
     ]
    },
    {
     "name": "stdout",
     "output_type": "stream",
     "text": [
      "initial_potential =  33037.06270814492\n",
      "final_potential =  33097.59598067465\n",
      "energy_change =  0.13951887714210898\n",
      "p accept =  0.869776604152867\n",
      "current step size = 0.0013027354983038138\n",
      "current acceptance ratio = 0.6455696202531646\n",
      "currently working on step 80\n"
     ]
    },
    {
     "name": "stderr",
     "output_type": "stream",
     "text": [
      "100%|██████████| 98/98 [00:08<00:00, 11.84it/s]\n",
      "  0%|          | 0/100 [00:00<?, ?it/s]"
     ]
    },
    {
     "name": "stdout",
     "output_type": "stream",
     "text": [
      "initial_potential =  33097.59598067465\n",
      "final_potential =  33157.747250651366\n",
      "energy_change =  -0.18144912063144147\n",
      "p accept =  1.1989535331591177\n",
      "current step size = 0.0013027354983038138\n",
      "current acceptance ratio = 0.65\n",
      "currently working on step 81\n"
     ]
    },
    {
     "name": "stderr",
     "output_type": "stream",
     "text": [
      "100%|██████████| 100/100 [00:08<00:00, 12.23it/s]\n",
      "  0%|          | 0/101 [00:00<?, ?it/s]"
     ]
    },
    {
     "name": "stdout",
     "output_type": "stream",
     "text": [
      "initial_potential =  33157.747250651366\n",
      "final_potential =  32864.55914072911\n",
      "energy_change =  -0.592315063579008\n",
      "p accept =  1.8081696012634254\n",
      "current step size = 0.0013027354983038138\n",
      "current acceptance ratio = 0.654320987654321\n",
      "currently working on step 82\n"
     ]
    },
    {
     "name": "stderr",
     "output_type": "stream",
     "text": [
      "100%|██████████| 101/101 [00:08<00:00, 12.32it/s]\n",
      "  0%|          | 0/97 [00:00<?, ?it/s]"
     ]
    },
    {
     "name": "stdout",
     "output_type": "stream",
     "text": [
      "initial_potential =  32864.55914072911\n",
      "final_potential =  32886.784766182995\n",
      "energy_change =  0.11973785504233092\n",
      "p accept =  0.8871529689147365\n",
      "current step size = 0.0013027354983038138\n",
      "current acceptance ratio = 0.6585365853658537\n",
      "currently working on step 83\n"
     ]
    },
    {
     "name": "stderr",
     "output_type": "stream",
     "text": [
      "100%|██████████| 97/97 [00:08<00:00, 12.02it/s]\n",
      "  0%|          | 0/97 [00:00<?, ?it/s]"
     ]
    },
    {
     "name": "stdout",
     "output_type": "stream",
     "text": [
      "initial_potential =  32886.784766182995\n",
      "final_potential =  32948.16412296108\n",
      "energy_change =  -0.031598644171026535\n",
      "p accept =  1.0321031815370385\n",
      "current step size = 0.0013027354983038138\n",
      "current acceptance ratio = 0.6626506024096386\n",
      "currently working on step 84\n"
     ]
    },
    {
     "name": "stderr",
     "output_type": "stream",
     "text": [
      "100%|██████████| 97/97 [00:08<00:00, 11.73it/s]\n",
      "  0%|          | 0/100 [00:00<?, ?it/s]"
     ]
    },
    {
     "name": "stdout",
     "output_type": "stream",
     "text": [
      "initial_potential =  32948.16412296108\n",
      "final_potential =  33012.60312859928\n",
      "energy_change =  -0.1378380973765161\n",
      "p accept =  1.1477897050657133\n",
      "current step size = 0.0013027354983038138\n",
      "current acceptance ratio = 0.6666666666666666\n",
      "currently working on step 85\n"
     ]
    },
    {
     "name": "stderr",
     "output_type": "stream",
     "text": [
      "100%|██████████| 100/100 [00:08<00:00, 11.81it/s]\n",
      "  0%|          | 0/101 [00:00<?, ?it/s]"
     ]
    },
    {
     "name": "stdout",
     "output_type": "stream",
     "text": [
      "initial_potential =  33012.60312859928\n",
      "final_potential =  33030.46643606226\n",
      "energy_change =  0.6932289273099741\n",
      "p accept =  0.4999591282955729\n",
      "current step size = 0.0013027354983038138\n",
      "current acceptance ratio = 0.6705882352941176\n",
      "currently working on step 86\n"
     ]
    },
    {
     "name": "stderr",
     "output_type": "stream",
     "text": [
      "100%|██████████| 101/101 [00:08<00:00, 11.49it/s]\n",
      "  0%|          | 0/99 [00:00<?, ?it/s]"
     ]
    },
    {
     "name": "stdout",
     "output_type": "stream",
     "text": [
      "initial_potential =  33030.46643606226\n",
      "final_potential =  32913.48281012943\n",
      "energy_change =  -0.48388250431162305\n",
      "p accept =  1.6223610140291445\n",
      "current step size = 0.0013027354983038138\n",
      "current acceptance ratio = 0.6744186046511628\n",
      "currently working on step 87\n"
     ]
    },
    {
     "name": "stderr",
     "output_type": "stream",
     "text": [
      "100%|██████████| 99/99 [00:08<00:00, 12.31it/s]\n",
      "  0%|          | 0/100 [00:00<?, ?it/s]"
     ]
    },
    {
     "name": "stdout",
     "output_type": "stream",
     "text": [
      "initial_potential =  32913.48281012943\n",
      "final_potential =  33086.376443627545\n",
      "energy_change =  0.6980507355183363\n",
      "p accept =  0.49755422392020765\n",
      "current step size = 0.0013027354983038138\n",
      "current acceptance ratio = 0.6666666666666666\n",
      "currently working on step 88\n"
     ]
    },
    {
     "name": "stderr",
     "output_type": "stream",
     "text": [
      "100%|██████████| 100/100 [00:09<00:00, 10.80it/s]\n",
      "  0%|          | 0/99 [00:00<?, ?it/s]"
     ]
    },
    {
     "name": "stdout",
     "output_type": "stream",
     "text": [
      "initial_potential =  32913.48281012943\n",
      "final_potential =  32896.35902890907\n",
      "energy_change =  -0.17828782272408716\n",
      "p accept =  1.1951692686091275\n",
      "current step size = 0.0013027354983038138\n",
      "current acceptance ratio = 0.6704545454545454\n",
      "currently working on step 89\n"
     ]
    },
    {
     "name": "stderr",
     "output_type": "stream",
     "text": [
      "100%|██████████| 99/99 [00:09<00:00, 10.92it/s]\n",
      "  0%|          | 0/100 [00:00<?, ?it/s]"
     ]
    },
    {
     "name": "stdout",
     "output_type": "stream",
     "text": [
      "initial_potential =  32896.35902890907\n",
      "final_potential =  32673.29451173928\n",
      "energy_change =  -0.7073781173967291\n",
      "p accept =  2.0286653573454565\n",
      "current step size = 0.0013027354983038138\n",
      "current acceptance ratio = 0.6741573033707865\n",
      "currently working on step 90\n"
     ]
    },
    {
     "name": "stderr",
     "output_type": "stream",
     "text": [
      "100%|██████████| 100/100 [00:10<00:00,  9.88it/s]\n",
      "  0%|          | 0/100 [00:00<?, ?it/s]"
     ]
    },
    {
     "name": "stdout",
     "output_type": "stream",
     "text": [
      "initial_potential =  32673.29451173928\n",
      "final_potential =  32908.96041678048\n",
      "energy_change =  1.045596908297739\n",
      "p accept =  0.35148195425418133\n",
      "current step size = 0.0013027354983038138\n",
      "current acceptance ratio = 0.6666666666666666\n",
      "currently working on step 91\n"
     ]
    },
    {
     "name": "stderr",
     "output_type": "stream",
     "text": [
      "100%|██████████| 100/100 [00:10<00:00,  9.53it/s]\n",
      "  0%|          | 0/99 [00:00<?, ?it/s]"
     ]
    },
    {
     "name": "stdout",
     "output_type": "stream",
     "text": [
      "initial_potential =  32673.29451173928\n",
      "final_potential =  32761.444803766797\n",
      "energy_change =  0.46482356771593913\n",
      "p accept =  0.6282459382779282\n",
      "current step size = 0.0013027354983038138\n",
      "current acceptance ratio = 0.6703296703296703\n",
      "currently working on step 92\n"
     ]
    },
    {
     "name": "stderr",
     "output_type": "stream",
     "text": [
      "100%|██████████| 99/99 [00:11<00:00,  8.98it/s]\n",
      "  0%|          | 0/99 [00:00<?, ?it/s]"
     ]
    },
    {
     "name": "stdout",
     "output_type": "stream",
     "text": [
      "initial_potential =  32761.444803766797\n",
      "final_potential =  32667.85831911744\n",
      "energy_change =  -0.550487607717514\n",
      "p accept =  1.73409837149904\n",
      "current step size = 0.0013027354983038138\n",
      "current acceptance ratio = 0.6739130434782609\n",
      "currently working on step 93\n"
     ]
    },
    {
     "name": "stderr",
     "output_type": "stream",
     "text": [
      "100%|██████████| 99/99 [00:08<00:00, 11.01it/s]\n",
      "  0%|          | 0/100 [00:00<?, ?it/s]"
     ]
    },
    {
     "name": "stdout",
     "output_type": "stream",
     "text": [
      "initial_potential =  32667.85831911744\n",
      "final_potential =  32774.06786252934\n",
      "energy_change =  0.6943894837022526\n",
      "p accept =  0.499379234098398\n",
      "current step size = 0.0013027354983038138\n",
      "current acceptance ratio = 0.6666666666666666\n",
      "currently working on step 94\n"
     ]
    },
    {
     "name": "stderr",
     "output_type": "stream",
     "text": [
      "100%|██████████| 100/100 [00:08<00:00, 12.08it/s]\n",
      "  0%|          | 0/99 [00:00<?, ?it/s]"
     ]
    },
    {
     "name": "stdout",
     "output_type": "stream",
     "text": [
      "initial_potential =  32667.85831911744\n",
      "final_potential =  32510.05578286468\n",
      "energy_change =  -0.6930929010704858\n",
      "p accept =  1.9998914439672908\n",
      "current step size = 0.0013027354983038138\n",
      "current acceptance ratio = 0.6702127659574468\n",
      "currently working on step 95\n"
     ]
    },
    {
     "name": "stderr",
     "output_type": "stream",
     "text": [
      "100%|██████████| 99/99 [00:09<00:00, 10.48it/s]\n",
      "  0%|          | 0/97 [00:00<?, ?it/s]"
     ]
    },
    {
     "name": "stdout",
     "output_type": "stream",
     "text": [
      "initial_potential =  32510.05578286468\n",
      "final_potential =  32588.923704334822\n",
      "energy_change =  -0.009636545190005563\n",
      "p accept =  1.009683126198034\n",
      "current step size = 0.0013027354983038138\n",
      "current acceptance ratio = 0.6736842105263158\n",
      "currently working on step 96\n"
     ]
    },
    {
     "name": "stderr",
     "output_type": "stream",
     "text": [
      "100%|██████████| 97/97 [00:10<00:00,  9.47it/s]\n",
      "  0%|          | 0/98 [00:00<?, ?it/s]"
     ]
    },
    {
     "name": "stdout",
     "output_type": "stream",
     "text": [
      "initial_potential =  32588.923704334822\n",
      "final_potential =  32582.827330522094\n",
      "energy_change =  0.1637782953766873\n",
      "p accept =  0.8489302127710818\n",
      "current step size = 0.0013027354983038138\n",
      "current acceptance ratio = 0.6770833333333334\n",
      "currently working on step 97\n"
     ]
    },
    {
     "name": "stderr",
     "output_type": "stream",
     "text": [
      "100%|██████████| 98/98 [00:08<00:00, 11.33it/s]\n",
      "  0%|          | 0/99 [00:00<?, ?it/s]"
     ]
    },
    {
     "name": "stdout",
     "output_type": "stream",
     "text": [
      "initial_potential =  32582.827330522094\n",
      "final_potential =  32627.655873201234\n",
      "energy_change =  0.41198154250741936\n",
      "p accept =  0.6623365010103541\n",
      "current step size = 0.0013027354983038138\n",
      "current acceptance ratio = 0.6804123711340206\n",
      "currently working on step 98\n"
     ]
    },
    {
     "name": "stderr",
     "output_type": "stream",
     "text": [
      "100%|██████████| 99/99 [00:09<00:00, 10.24it/s]\n",
      "  0%|          | 0/97 [00:00<?, ?it/s]"
     ]
    },
    {
     "name": "stdout",
     "output_type": "stream",
     "text": [
      "initial_potential =  32627.655873201234\n",
      "final_potential =  32747.56867971061\n",
      "energy_change =  0.22946952460915782\n",
      "p accept =  0.7949551948389523\n",
      "current step size = 0.0013027354983038138\n",
      "current acceptance ratio = 0.6836734693877551\n",
      "currently working on step 99\n"
     ]
    },
    {
     "name": "stderr",
     "output_type": "stream",
     "text": [
      "100%|██████████| 97/97 [00:08<00:00, 11.42it/s]\n",
      "  0%|          | 0/97 [00:00<?, ?it/s]"
     ]
    },
    {
     "name": "stdout",
     "output_type": "stream",
     "text": [
      "initial_potential =  32747.56867971061\n",
      "final_potential =  32868.51664071018\n",
      "energy_change =  0.1949477179296082\n",
      "p accept =  0.8228776786801255\n",
      "current step size = 0.0013027354983038138\n",
      "current acceptance ratio = 0.6868686868686869\n",
      "currently working on step 100\n"
     ]
    },
    {
     "name": "stderr",
     "output_type": "stream",
     "text": [
      "100%|██████████| 97/97 [00:09<00:00,  9.98it/s]\n",
      "  0%|          | 0/100 [00:00<?, ?it/s]"
     ]
    },
    {
     "name": "stdout",
     "output_type": "stream",
     "text": [
      "initial_potential =  32868.51664071018\n",
      "final_potential =  32663.048895975753\n",
      "energy_change =  -0.46324095540330745\n",
      "p accept =  1.5892162265220349\n",
      "current step size = 0.0013027354983038138\n",
      "current acceptance ratio = 0.69\n",
      "currently working on step 101\n"
     ]
    },
    {
     "name": "stderr",
     "output_type": "stream",
     "text": [
      "100%|██████████| 100/100 [00:11<00:00,  9.03it/s]\n",
      "  0%|          | 0/97 [00:00<?, ?it/s]"
     ]
    },
    {
     "name": "stdout",
     "output_type": "stream",
     "text": [
      "initial_potential =  32663.048895975753\n",
      "final_potential =  32602.004666295725\n",
      "energy_change =  -0.43611739520565607\n",
      "p accept =  1.5466903581245124\n",
      "current step size = 0.0013027354983038138\n",
      "current acceptance ratio = 0.693069306930693\n",
      "currently working on step 102\n"
     ]
    },
    {
     "name": "stderr",
     "output_type": "stream",
     "text": [
      "100%|██████████| 97/97 [00:10<00:00,  9.09it/s]\n",
      "  0%|          | 0/97 [00:00<?, ?it/s]"
     ]
    },
    {
     "name": "stdout",
     "output_type": "stream",
     "text": [
      "initial_potential =  32602.004666295725\n",
      "final_potential =  32510.72443276328\n",
      "energy_change =  0.16484021639917046\n",
      "p accept =  0.8480291944213542\n",
      "current step size = 0.0013027354983038138\n",
      "current acceptance ratio = 0.696078431372549\n",
      "currently working on step 103\n"
     ]
    },
    {
     "name": "stderr",
     "output_type": "stream",
     "text": [
      "100%|██████████| 97/97 [00:10<00:00,  8.99it/s]\n",
      "  0%|          | 0/97 [00:00<?, ?it/s]"
     ]
    },
    {
     "name": "stdout",
     "output_type": "stream",
     "text": [
      "initial_potential =  32510.72443276328\n",
      "final_potential =  32406.17531298539\n",
      "energy_change =  -0.1762833117536502\n",
      "p accept =  1.192775938228553\n",
      "current step size = 0.0013027354983038138\n",
      "current acceptance ratio = 0.6990291262135923\n",
      "currently working on step 104\n"
     ]
    },
    {
     "name": "stderr",
     "output_type": "stream",
     "text": [
      "100%|██████████| 97/97 [00:12<00:00,  8.07it/s]\n",
      "  0%|          | 0/98 [00:00<?, ?it/s]"
     ]
    },
    {
     "name": "stdout",
     "output_type": "stream",
     "text": [
      "initial_potential =  32406.17531298539\n",
      "final_potential =  32555.22474197797\n",
      "energy_change =  0.21854329519555904\n",
      "p accept =  0.8036886828327066\n",
      "current step size = 0.0013027354983038138\n",
      "current acceptance ratio = 0.7019230769230769\n",
      "currently working on step 105\n"
     ]
    },
    {
     "name": "stderr",
     "output_type": "stream",
     "text": [
      "100%|██████████| 98/98 [00:11<00:00,  8.72it/s]\n",
      "  0%|          | 0/98 [00:00<?, ?it/s]"
     ]
    },
    {
     "name": "stdout",
     "output_type": "stream",
     "text": [
      "initial_potential =  32555.22474197797\n",
      "final_potential =  32512.900764218\n",
      "energy_change =  0.41584838811832014\n",
      "p accept =  0.6597802934336464\n",
      "current step size = 0.0013027354983038138\n",
      "current acceptance ratio = 0.6952380952380952\n",
      "currently working on step 106\n"
     ]
    },
    {
     "name": "stderr",
     "output_type": "stream",
     "text": [
      "100%|██████████| 98/98 [00:10<00:00,  9.15it/s]\n",
      "  0%|          | 0/101 [00:00<?, ?it/s]"
     ]
    },
    {
     "name": "stdout",
     "output_type": "stream",
     "text": [
      "initial_potential =  32555.22474197797\n",
      "final_potential =  32511.984735617447\n",
      "energy_change =  -0.12328834104118869\n",
      "p accept =  1.131210548354588\n",
      "current step size = 0.0013027354983038138\n",
      "current acceptance ratio = 0.6981132075471698\n",
      "currently working on step 107\n"
     ]
    },
    {
     "name": "stderr",
     "output_type": "stream",
     "text": [
      "100%|██████████| 101/101 [00:09<00:00, 11.19it/s]\n",
      "  0%|          | 0/100 [00:00<?, ?it/s]"
     ]
    },
    {
     "name": "stdout",
     "output_type": "stream",
     "text": [
      "initial_potential =  32511.984735617447\n",
      "final_potential =  32617.892088842393\n",
      "energy_change =  -0.37047399718721863\n",
      "p accept =  1.4484209994578938\n",
      "current step size = 0.0013027354983038138\n",
      "current acceptance ratio = 0.7009345794392523\n",
      "currently working on step 108\n"
     ]
    },
    {
     "name": "stderr",
     "output_type": "stream",
     "text": [
      "100%|██████████| 100/100 [00:10<00:00,  9.55it/s]\n",
      "  0%|          | 0/100 [00:00<?, ?it/s]"
     ]
    },
    {
     "name": "stdout",
     "output_type": "stream",
     "text": [
      "initial_potential =  32617.892088842393\n",
      "final_potential =  32604.159280188527\n",
      "energy_change =  0.3355607532284921\n",
      "p accept =  0.7149370706571054\n",
      "current step size = 0.0013027354983038138\n",
      "current acceptance ratio = 0.6944444444444444\n",
      "currently working on step 109\n"
     ]
    },
    {
     "name": "stderr",
     "output_type": "stream",
     "text": [
      "100%|██████████| 100/100 [00:09<00:00, 10.08it/s]\n",
      "  0%|          | 0/99 [00:00<?, ?it/s]"
     ]
    },
    {
     "name": "stdout",
     "output_type": "stream",
     "text": [
      "initial_potential =  32617.892088842393\n",
      "final_potential =  32411.176088598306\n",
      "energy_change =  -0.47162268409738317\n",
      "p accept =  1.6025925859657422\n",
      "current step size = 0.0013027354983038138\n",
      "current acceptance ratio = 0.6972477064220184\n",
      "currently working on step 110\n"
     ]
    },
    {
     "name": "stderr",
     "output_type": "stream",
     "text": [
      "100%|██████████| 99/99 [00:08<00:00, 11.66it/s]\n",
      "  0%|          | 0/100 [00:00<?, ?it/s]"
     ]
    },
    {
     "name": "stdout",
     "output_type": "stream",
     "text": [
      "initial_potential =  32411.176088598306\n",
      "final_potential =  32533.33068528398\n",
      "energy_change =  0.5914733818353852\n",
      "p accept =  0.5535111503687381\n",
      "current step size = 0.0013027354983038138\n",
      "current acceptance ratio = 0.6909090909090909\n",
      "currently working on step 111\n"
     ]
    },
    {
     "name": "stderr",
     "output_type": "stream",
     "text": [
      "100%|██████████| 100/100 [00:08<00:00, 12.27it/s]\n",
      "  0%|          | 0/101 [00:00<?, ?it/s]"
     ]
    },
    {
     "name": "stdout",
     "output_type": "stream",
     "text": [
      "initial_potential =  32411.176088598306\n",
      "final_potential =  32454.658898457237\n",
      "energy_change =  0.591348503381596\n",
      "p accept =  0.5535802763014311\n",
      "current step size = 0.0013027354983038138\n",
      "current acceptance ratio = 0.6936936936936937\n",
      "currently working on step 112\n"
     ]
    },
    {
     "name": "stderr",
     "output_type": "stream",
     "text": [
      "100%|██████████| 101/101 [00:09<00:00, 11.02it/s]\n",
      "  0%|          | 0/98 [00:00<?, ?it/s]"
     ]
    },
    {
     "name": "stdout",
     "output_type": "stream",
     "text": [
      "initial_potential =  32454.658898457237\n",
      "final_potential =  32808.70420820267\n",
      "energy_change =  1.6329533820971847\n",
      "p accept =  0.19535177288428435\n",
      "current step size = 0.0013027354983038138\n",
      "current acceptance ratio = 0.6875\n",
      "currently working on step 113\n"
     ]
    },
    {
     "name": "stderr",
     "output_type": "stream",
     "text": [
      "100%|██████████| 98/98 [00:09<00:00, 10.81it/s]\n",
      "  0%|          | 0/97 [00:00<?, ?it/s]"
     ]
    },
    {
     "name": "stdout",
     "output_type": "stream",
     "text": [
      "initial_potential =  32454.658898457237\n",
      "final_potential =  32367.686813466553\n",
      "energy_change =  -0.28209226386388764\n",
      "p accept =  1.3259010470972572\n",
      "current step size = 0.0013027354983038138\n",
      "current acceptance ratio = 0.6902654867256637\n",
      "currently working on step 114\n"
     ]
    },
    {
     "name": "stderr",
     "output_type": "stream",
     "text": [
      "100%|██████████| 97/97 [00:08<00:00, 11.74it/s]\n",
      "  0%|          | 0/97 [00:00<?, ?it/s]"
     ]
    },
    {
     "name": "stdout",
     "output_type": "stream",
     "text": [
      "initial_potential =  32367.686813466553\n",
      "final_potential =  32586.138059694877\n",
      "energy_change =  1.0807970469759312\n",
      "p accept =  0.3393249598993126\n",
      "current step size = 0.0013027354983038138\n",
      "current acceptance ratio = 0.6929824561403509\n",
      "currently working on step 115\n"
     ]
    },
    {
     "name": "stderr",
     "output_type": "stream",
     "text": [
      "100%|██████████| 97/97 [00:08<00:00, 10.91it/s]\n",
      "  0%|          | 0/99 [00:00<?, ?it/s]"
     ]
    },
    {
     "name": "stdout",
     "output_type": "stream",
     "text": [
      "initial_potential =  32586.138059694877\n",
      "final_potential =  32690.23915056086\n",
      "energy_change =  -0.029386597525444813\n",
      "p accept =  1.0298226444135898\n",
      "current step size = 0.0013027354983038138\n",
      "current acceptance ratio = 0.6956521739130435\n",
      "currently working on step 116\n"
     ]
    },
    {
     "name": "stderr",
     "output_type": "stream",
     "text": [
      "100%|██████████| 99/99 [00:09<00:00, 10.81it/s]\n",
      "  0%|          | 0/101 [00:00<?, ?it/s]"
     ]
    },
    {
     "name": "stdout",
     "output_type": "stream",
     "text": [
      "initial_potential =  32690.23915056086\n",
      "final_potential =  32609.671918967804\n",
      "energy_change =  0.08626322040800005\n",
      "p accept =  0.9173527334771923\n",
      "current step size = 0.0013027354983038138\n",
      "current acceptance ratio = 0.6982758620689655\n",
      "currently working on step 117\n"
     ]
    },
    {
     "name": "stderr",
     "output_type": "stream",
     "text": [
      "100%|██████████| 101/101 [00:09<00:00, 10.14it/s]\n",
      "  0%|          | 0/98 [00:00<?, ?it/s]"
     ]
    },
    {
     "name": "stdout",
     "output_type": "stream",
     "text": [
      "initial_potential =  32609.671918967804\n",
      "final_potential =  32557.893352152358\n",
      "energy_change =  -0.8761354597372701\n",
      "p accept =  2.4016006672611403\n",
      "current step size = 0.0013027354983038138\n",
      "current acceptance ratio = 0.7008547008547008\n",
      "currently working on step 118\n"
     ]
    },
    {
     "name": "stderr",
     "output_type": "stream",
     "text": [
      "100%|██████████| 98/98 [00:08<00:00, 11.16it/s]\n",
      "  0%|          | 0/101 [00:00<?, ?it/s]"
     ]
    },
    {
     "name": "stdout",
     "output_type": "stream",
     "text": [
      "initial_potential =  32557.893352152358\n",
      "final_potential =  32456.598452185095\n",
      "energy_change =  0.2514352694270201\n",
      "p accept =  0.7776837958982424\n",
      "current step size = 0.0013027354983038138\n",
      "current acceptance ratio = 0.6949152542372882\n",
      "currently working on step 119\n"
     ]
    },
    {
     "name": "stderr",
     "output_type": "stream",
     "text": [
      "100%|██████████| 101/101 [00:08<00:00, 11.23it/s]\n",
      "  0%|          | 0/100 [00:00<?, ?it/s]"
     ]
    },
    {
     "name": "stdout",
     "output_type": "stream",
     "text": [
      "initial_potential =  32557.893352152358\n",
      "final_potential =  32484.74425805181\n",
      "energy_change =  0.6612373429379659\n",
      "p accept =  0.5162122076340824\n",
      "current step size = 0.0013027354983038138\n",
      "current acceptance ratio = 0.6890756302521008\n",
      "currently working on step 120\n"
     ]
    },
    {
     "name": "stderr",
     "output_type": "stream",
     "text": [
      "100%|██████████| 100/100 [00:08<00:00, 11.38it/s]\n",
      "  0%|          | 0/97 [00:00<?, ?it/s]"
     ]
    },
    {
     "name": "stdout",
     "output_type": "stream",
     "text": [
      "initial_potential =  32557.893352152358\n",
      "final_potential =  32663.09625534521\n",
      "energy_change =  0.64703410922084\n",
      "p accept =  0.5235964058782346\n",
      "current step size = 0.0013027354983038138\n",
      "current acceptance ratio = 0.6916666666666667\n",
      "currently working on step 121\n"
     ]
    },
    {
     "name": "stderr",
     "output_type": "stream",
     "text": [
      "100%|██████████| 97/97 [00:10<00:00,  9.09it/s]\n",
      "  0%|          | 0/101 [00:00<?, ?it/s]"
     ]
    },
    {
     "name": "stdout",
     "output_type": "stream",
     "text": [
      "initial_potential =  32663.09625534521\n",
      "final_potential =  32937.74339665171\n",
      "energy_change =  0.22559508866106626\n",
      "p accept =  0.7980411721733532\n",
      "current step size = 0.0013027354983038138\n",
      "current acceptance ratio = 0.6942148760330579\n",
      "currently working on step 122\n"
     ]
    },
    {
     "name": "stderr",
     "output_type": "stream",
     "text": [
      "100%|██████████| 101/101 [00:09<00:00, 10.80it/s]\n",
      "  0%|          | 0/100 [00:00<?, ?it/s]"
     ]
    },
    {
     "name": "stdout",
     "output_type": "stream",
     "text": [
      "initial_potential =  32937.74339665171\n",
      "final_potential =  32990.719647719256\n",
      "energy_change =  1.1591033362346934\n",
      "p accept =  0.31376739864197284\n",
      "current step size = 0.0013027354983038138\n",
      "current acceptance ratio = 0.6885245901639344\n",
      "currently working on step 123\n"
     ]
    },
    {
     "name": "stderr",
     "output_type": "stream",
     "text": [
      "100%|██████████| 100/100 [00:08<00:00, 11.52it/s]\n",
      "  0%|          | 0/100 [00:00<?, ?it/s]"
     ]
    },
    {
     "name": "stdout",
     "output_type": "stream",
     "text": [
      "initial_potential =  32937.74339665171\n",
      "final_potential =  32837.21907940851\n",
      "energy_change =  -0.13743425958091393\n",
      "p accept =  1.1473262777824291\n",
      "current step size = 0.0013027354983038138\n",
      "current acceptance ratio = 0.6910569105691057\n",
      "currently working on step 124\n"
     ]
    },
    {
     "name": "stderr",
     "output_type": "stream",
     "text": [
      "100%|██████████| 100/100 [00:08<00:00, 11.21it/s]\n",
      "  0%|          | 0/99 [00:00<?, ?it/s]"
     ]
    },
    {
     "name": "stdout",
     "output_type": "stream",
     "text": [
      "initial_potential =  32837.21907940851\n",
      "final_potential =  32906.904445099295\n",
      "energy_change =  0.7530275354511105\n",
      "p accept =  0.47093860892264605\n",
      "current step size = 0.0013027354983038138\n",
      "current acceptance ratio = 0.6935483870967742\n",
      "currently working on step 125\n"
     ]
    },
    {
     "name": "stderr",
     "output_type": "stream",
     "text": [
      "100%|██████████| 99/99 [00:09<00:00, 10.51it/s]\n",
      "  0%|          | 0/100 [00:00<?, ?it/s]"
     ]
    },
    {
     "name": "stdout",
     "output_type": "stream",
     "text": [
      "initial_potential =  32906.904445099295\n",
      "final_potential =  32864.707668121744\n",
      "energy_change =  0.39150717233133037\n",
      "p accept =  0.6760372017145087\n",
      "current step size = 0.0013027354983038138\n",
      "current acceptance ratio = 0.688\n",
      "currently working on step 126\n"
     ]
    },
    {
     "name": "stderr",
     "output_type": "stream",
     "text": [
      "100%|██████████| 100/100 [00:08<00:00, 11.86it/s]\n",
      "  0%|          | 0/99 [00:00<?, ?it/s]"
     ]
    },
    {
     "name": "stdout",
     "output_type": "stream",
     "text": [
      "initial_potential =  32906.904445099295\n",
      "final_potential =  32883.59145429503\n",
      "energy_change =  -0.08704840026621241\n",
      "p accept =  1.0909494806857665\n",
      "current step size = 0.0013027354983038138\n",
      "current acceptance ratio = 0.6904761904761905\n",
      "currently working on step 127\n"
     ]
    },
    {
     "name": "stderr",
     "output_type": "stream",
     "text": [
      "100%|██████████| 99/99 [00:08<00:00, 11.50it/s]\n",
      "  0%|          | 0/101 [00:00<?, ?it/s]"
     ]
    },
    {
     "name": "stdout",
     "output_type": "stream",
     "text": [
      "initial_potential =  32883.59145429503\n",
      "final_potential =  32739.678239361972\n",
      "energy_change =  -0.5878240190504584\n",
      "p accept =  1.8000672387228258\n",
      "current step size = 0.0013027354983038138\n",
      "current acceptance ratio = 0.6929133858267716\n",
      "currently working on step 128\n"
     ]
    },
    {
     "name": "stderr",
     "output_type": "stream",
     "text": [
      "100%|██████████| 101/101 [00:09<00:00, 10.70it/s]\n",
      "  0%|          | 0/101 [00:00<?, ?it/s]"
     ]
    },
    {
     "name": "stdout",
     "output_type": "stream",
     "text": [
      "initial_potential =  32739.678239361972\n",
      "final_potential =  33124.766184177715\n",
      "energy_change =  1.8623306295630755\n",
      "p accept =  0.15531023759918824\n",
      "current step size = 0.0013027354983038138\n",
      "current acceptance ratio = 0.6875\n",
      "currently working on step 129\n"
     ]
    },
    {
     "name": "stderr",
     "output_type": "stream",
     "text": [
      "100%|██████████| 101/101 [00:08<00:00, 11.33it/s]\n",
      "  0%|          | 0/99 [00:00<?, ?it/s]"
     ]
    },
    {
     "name": "stdout",
     "output_type": "stream",
     "text": [
      "initial_potential =  32739.678239361972\n",
      "final_potential =  32773.11709878188\n",
      "energy_change =  0.023858706263126805\n",
      "p accept =  0.9764236625598008\n",
      "current step size = 0.0013027354983038138\n",
      "current acceptance ratio = 0.689922480620155\n",
      "currently working on step 130\n"
     ]
    },
    {
     "name": "stderr",
     "output_type": "stream",
     "text": [
      "100%|██████████| 99/99 [00:08<00:00, 11.34it/s]\n",
      "  0%|          | 0/98 [00:00<?, ?it/s]"
     ]
    },
    {
     "name": "stdout",
     "output_type": "stream",
     "text": [
      "initial_potential =  32773.11709878188\n",
      "final_potential =  32715.694507730666\n",
      "energy_change =  0.4330804283672478\n",
      "p accept =  0.6485083312411813\n",
      "current step size = 0.0013027354983038138\n",
      "current acceptance ratio = 0.6846153846153846\n",
      "currently working on step 131\n"
     ]
    },
    {
     "name": "stderr",
     "output_type": "stream",
     "text": [
      "100%|██████████| 98/98 [00:08<00:00, 12.15it/s]\n",
      "  0%|          | 0/100 [00:00<?, ?it/s]"
     ]
    },
    {
     "name": "stdout",
     "output_type": "stream",
     "text": [
      "initial_potential =  32773.11709878188\n",
      "final_potential =  32738.84671813537\n",
      "energy_change =  0.383200479336665\n",
      "p accept =  0.6816762235889964\n",
      "current step size = 0.0013027354983038138\n",
      "current acceptance ratio = 0.6870229007633588\n",
      "currently working on step 132\n"
     ]
    },
    {
     "name": "stderr",
     "output_type": "stream",
     "text": [
      "100%|██████████| 100/100 [00:08<00:00, 11.79it/s]\n",
      "  0%|          | 0/101 [00:00<?, ?it/s]"
     ]
    },
    {
     "name": "stdout",
     "output_type": "stream",
     "text": [
      "initial_potential =  32738.84671813537\n",
      "final_potential =  32800.639116398495\n",
      "energy_change =  -0.12465947431337554\n",
      "p accept =  1.1327626526030103\n",
      "current step size = 0.0013027354983038138\n",
      "current acceptance ratio = 0.6893939393939394\n",
      "currently working on step 133\n"
     ]
    },
    {
     "name": "stderr",
     "output_type": "stream",
     "text": [
      "100%|██████████| 101/101 [00:08<00:00, 12.13it/s]\n",
      "  0%|          | 0/97 [00:00<?, ?it/s]"
     ]
    },
    {
     "name": "stdout",
     "output_type": "stream",
     "text": [
      "initial_potential =  32800.639116398495\n",
      "final_potential =  32576.55360639451\n",
      "energy_change =  -0.4324035839672433\n",
      "p accept =  1.5409568951795716\n",
      "current step size = 0.0013027354983038138\n",
      "current acceptance ratio = 0.6917293233082706\n",
      "currently working on step 134\n"
     ]
    },
    {
     "name": "stderr",
     "output_type": "stream",
     "text": [
      "100%|██████████| 97/97 [00:08<00:00, 11.85it/s]\n",
      "  0%|          | 0/100 [00:00<?, ?it/s]"
     ]
    },
    {
     "name": "stdout",
     "output_type": "stream",
     "text": [
      "initial_potential =  32576.55360639451\n",
      "final_potential =  32687.24084190955\n",
      "energy_change =  0.4429067894234322\n",
      "p accept =  0.6421670610602546\n",
      "current step size = 0.0013027354983038138\n",
      "current acceptance ratio = 0.6940298507462687\n",
      "currently working on step 135\n"
     ]
    },
    {
     "name": "stderr",
     "output_type": "stream",
     "text": [
      "100%|██████████| 100/100 [00:08<00:00, 11.64it/s]\n",
      "  0%|          | 0/97 [00:00<?, ?it/s]"
     ]
    },
    {
     "name": "stdout",
     "output_type": "stream",
     "text": [
      "initial_potential =  32687.24084190955\n",
      "final_potential =  32930.93233569199\n",
      "energy_change =  0.4529661482665688\n",
      "p accept =  0.6357396541514627\n",
      "current step size = 0.0013027354983038138\n",
      "current acceptance ratio = 0.6888888888888889\n",
      "currently working on step 136\n"
     ]
    },
    {
     "name": "stderr",
     "output_type": "stream",
     "text": [
      "100%|██████████| 97/97 [00:08<00:00, 11.34it/s]\n",
      "  0%|          | 0/100 [00:00<?, ?it/s]"
     ]
    },
    {
     "name": "stdout",
     "output_type": "stream",
     "text": [
      "initial_potential =  32687.24084190955\n",
      "final_potential =  32717.805434537604\n",
      "energy_change =  0.355099042863003\n",
      "p accept =  0.7011040004222583\n",
      "current step size = 0.0013027354983038138\n",
      "current acceptance ratio = 0.6838235294117647\n",
      "currently working on step 137\n"
     ]
    },
    {
     "name": "stderr",
     "output_type": "stream",
     "text": [
      "100%|██████████| 100/100 [00:08<00:00, 12.12it/s]\n",
      "  0%|          | 0/97 [00:00<?, ?it/s]"
     ]
    },
    {
     "name": "stdout",
     "output_type": "stream",
     "text": [
      "initial_potential =  32687.24084190955\n",
      "final_potential =  32903.519658526275\n",
      "energy_change =  0.7473179221415194\n",
      "p accept =  0.47363517712740516\n",
      "current step size = 0.0013027354983038138\n",
      "current acceptance ratio = 0.6788321167883211\n",
      "currently working on step 138\n"
     ]
    },
    {
     "name": "stderr",
     "output_type": "stream",
     "text": [
      "100%|██████████| 97/97 [00:08<00:00, 11.50it/s]\n",
      "  0%|          | 0/97 [00:00<?, ?it/s]"
     ]
    },
    {
     "name": "stdout",
     "output_type": "stream",
     "text": [
      "initial_potential =  32687.24084190955\n",
      "final_potential =  32672.49174375156\n",
      "energy_change =  0.2420954655681271\n",
      "p accept =  0.7849812352950873\n",
      "current step size = 0.0013027354983038138\n",
      "current acceptance ratio = 0.6811594202898551\n",
      "currently working on step 139\n"
     ]
    },
    {
     "name": "stderr",
     "output_type": "stream",
     "text": [
      "100%|██████████| 97/97 [00:08<00:00, 12.08it/s]\n",
      "  0%|          | 0/97 [00:00<?, ?it/s]"
     ]
    },
    {
     "name": "stdout",
     "output_type": "stream",
     "text": [
      "initial_potential =  32672.49174375156\n",
      "final_potential =  32792.03006906985\n",
      "energy_change =  0.23323812792659737\n",
      "p accept =  0.7919649620940197\n",
      "current step size = 0.0013027354983038138\n",
      "current acceptance ratio = 0.6762589928057554\n",
      "currently working on step 140\n"
     ]
    },
    {
     "name": "stderr",
     "output_type": "stream",
     "text": [
      "100%|██████████| 97/97 [00:08<00:00, 11.82it/s]\n",
      "  0%|          | 0/98 [00:00<?, ?it/s]"
     ]
    },
    {
     "name": "stdout",
     "output_type": "stream",
     "text": [
      "initial_potential =  32672.49174375156\n",
      "final_potential =  32894.88514897481\n",
      "energy_change =  0.2921483672980685\n",
      "p accept =  0.7466577481622395\n",
      "current step size = 0.0013027354983038138\n",
      "current acceptance ratio = 0.6714285714285714\n",
      "currently working on step 141\n"
     ]
    },
    {
     "name": "stderr",
     "output_type": "stream",
     "text": [
      "100%|██████████| 98/98 [00:08<00:00, 11.99it/s]\n",
      "  0%|          | 0/100 [00:00<?, ?it/s]"
     ]
    },
    {
     "name": "stdout",
     "output_type": "stream",
     "text": [
      "initial_potential =  32672.49174375156\n",
      "final_potential =  32642.20963471187\n",
      "energy_change =  -0.06372805530554615\n",
      "p accept =  1.0658025200071455\n",
      "current step size = 0.0013027354983038138\n",
      "current acceptance ratio = 0.6737588652482269\n",
      "currently working on step 142\n"
     ]
    },
    {
     "name": "stderr",
     "output_type": "stream",
     "text": [
      "100%|██████████| 100/100 [00:09<00:00, 10.74it/s]\n",
      "  0%|          | 0/100 [00:00<?, ?it/s]"
     ]
    },
    {
     "name": "stdout",
     "output_type": "stream",
     "text": [
      "initial_potential =  32642.20963471187\n",
      "final_potential =  32627.287780304156\n",
      "energy_change =  -0.28769946776446886\n",
      "p accept =  1.3333565272853163\n",
      "current step size = 0.0013027354983038138\n",
      "current acceptance ratio = 0.676056338028169\n",
      "currently working on step 143\n"
     ]
    },
    {
     "name": "stderr",
     "output_type": "stream",
     "text": [
      "100%|██████████| 100/100 [00:08<00:00, 11.18it/s]\n",
      "  0%|          | 0/100 [00:00<?, ?it/s]"
     ]
    },
    {
     "name": "stdout",
     "output_type": "stream",
     "text": [
      "initial_potential =  32627.287780304156\n",
      "final_potential =  32917.178093927694\n",
      "energy_change =  0.3050865912809968\n",
      "p accept =  0.7370595486978007\n",
      "current step size = 0.0013027354983038138\n",
      "current acceptance ratio = 0.6783216783216783\n",
      "currently working on step 144\n"
     ]
    },
    {
     "name": "stderr",
     "output_type": "stream",
     "text": [
      "100%|██████████| 100/100 [00:08<00:00, 12.25it/s]\n",
      "  0%|          | 0/99 [00:00<?, ?it/s]"
     ]
    },
    {
     "name": "stdout",
     "output_type": "stream",
     "text": [
      "initial_potential =  32917.178093927694\n",
      "final_potential =  32940.962894402284\n",
      "energy_change =  0.3351084092137171\n",
      "p accept =  0.7152605413164507\n",
      "current step size = 0.0013027354983038138\n",
      "current acceptance ratio = 0.6805555555555556\n",
      "currently working on step 145\n"
     ]
    },
    {
     "name": "stderr",
     "output_type": "stream",
     "text": [
      "100%|██████████| 99/99 [00:09<00:00, 10.98it/s]\n",
      "  0%|          | 0/100 [00:00<?, ?it/s]"
     ]
    },
    {
     "name": "stdout",
     "output_type": "stream",
     "text": [
      "initial_potential =  32940.962894402284\n",
      "final_potential =  32884.40237674058\n",
      "energy_change =  -0.46959074900951236\n",
      "p accept =  1.5993395279793474\n",
      "current step size = 0.0013027354983038138\n",
      "current acceptance ratio = 0.6827586206896552\n",
      "currently working on step 146\n"
     ]
    },
    {
     "name": "stderr",
     "output_type": "stream",
     "text": [
      "100%|██████████| 100/100 [00:08<00:00, 11.83it/s]\n",
      "  0%|          | 0/101 [00:00<?, ?it/s]"
     ]
    },
    {
     "name": "stdout",
     "output_type": "stream",
     "text": [
      "initial_potential =  32884.40237674058\n",
      "final_potential =  32961.08905287\n",
      "energy_change =  -0.10948665767500643\n",
      "p accept =  1.115705184734668\n",
      "current step size = 0.0013027354983038138\n",
      "current acceptance ratio = 0.684931506849315\n",
      "currently working on step 147\n"
     ]
    },
    {
     "name": "stderr",
     "output_type": "stream",
     "text": [
      "100%|██████████| 101/101 [00:08<00:00, 11.83it/s]\n",
      "  0%|          | 0/97 [00:00<?, ?it/s]"
     ]
    },
    {
     "name": "stdout",
     "output_type": "stream",
     "text": [
      "initial_potential =  32961.08905287\n",
      "final_potential =  32873.65575494622\n",
      "energy_change =  0.5895894005370792\n",
      "p accept =  0.5545549379538478\n",
      "current step size = 0.0013027354983038138\n",
      "current acceptance ratio = 0.6802721088435374\n",
      "currently working on step 148\n"
     ]
    },
    {
     "name": "stderr",
     "output_type": "stream",
     "text": [
      "100%|██████████| 97/97 [00:08<00:00, 12.04it/s]\n",
      "  0%|          | 0/97 [00:00<?, ?it/s]"
     ]
    },
    {
     "name": "stdout",
     "output_type": "stream",
     "text": [
      "initial_potential =  32961.08905287\n",
      "final_potential =  32851.14943760767\n",
      "energy_change =  0.030378874667803757\n",
      "p accept =  0.9700779259623618\n",
      "current step size = 0.0013027354983038138\n",
      "current acceptance ratio = 0.6824324324324325\n",
      "currently working on step 149\n"
     ]
    },
    {
     "name": "stderr",
     "output_type": "stream",
     "text": [
      "100%|██████████| 97/97 [00:08<00:00, 11.87it/s]\n",
      "  0%|          | 0/100 [00:00<?, ?it/s]"
     ]
    },
    {
     "name": "stdout",
     "output_type": "stream",
     "text": [
      "initial_potential =  32851.14943760767\n",
      "final_potential =  33036.057798796166\n",
      "energy_change =  0.611815566837322\n",
      "p accept =  0.542365274232966\n",
      "current step size = 0.0013027354983038138\n",
      "current acceptance ratio = 0.6845637583892618\n",
      "currently working on step 150\n"
     ]
    },
    {
     "name": "stderr",
     "output_type": "stream",
     "text": [
      "100%|██████████| 100/100 [00:08<00:00, 11.82it/s]\n",
      "  0%|          | 0/101 [00:00<?, ?it/s]"
     ]
    },
    {
     "name": "stdout",
     "output_type": "stream",
     "text": [
      "initial_potential =  33036.057798796166\n",
      "final_potential =  32841.92490986092\n",
      "energy_change =  -0.35615363909164444\n",
      "p accept =  1.4278269014409648\n",
      "current step size = 0.0013027354983038138\n",
      "current acceptance ratio = 0.6866666666666666\n",
      "currently working on step 151\n"
     ]
    },
    {
     "name": "stderr",
     "output_type": "stream",
     "text": [
      "100%|██████████| 101/101 [00:08<00:00, 12.23it/s]\n",
      "  0%|          | 0/99 [00:00<?, ?it/s]"
     ]
    },
    {
     "name": "stdout",
     "output_type": "stream",
     "text": [
      "initial_potential =  32841.92490986092\n",
      "final_potential =  32969.867358653035\n",
      "energy_change =  0.17753518671088386\n",
      "p accept =  0.837331535874729\n",
      "current step size = 0.0013027354983038138\n",
      "current acceptance ratio = 0.6887417218543046\n",
      "currently working on step 152\n"
     ]
    },
    {
     "name": "stderr",
     "output_type": "stream",
     "text": [
      "100%|██████████| 99/99 [00:08<00:00, 11.85it/s]\n",
      "  0%|          | 0/101 [00:00<?, ?it/s]"
     ]
    },
    {
     "name": "stdout",
     "output_type": "stream",
     "text": [
      "initial_potential =  32969.867358653035\n",
      "final_potential =  33042.222835056986\n",
      "energy_change =  0.5522389235266019\n",
      "p accept =  0.5756595088585739\n",
      "current step size = 0.0013027354983038138\n",
      "current acceptance ratio = 0.6842105263157895\n",
      "currently working on step 153\n"
     ]
    },
    {
     "name": "stderr",
     "output_type": "stream",
     "text": [
      "100%|██████████| 101/101 [00:08<00:00, 11.88it/s]\n",
      "  0%|          | 0/98 [00:00<?, ?it/s]"
     ]
    },
    {
     "name": "stdout",
     "output_type": "stream",
     "text": [
      "initial_potential =  32969.867358653035\n",
      "final_potential =  32862.020809962836\n",
      "energy_change =  0.38333884520397987\n",
      "p accept =  0.6815819093921749\n",
      "current step size = 0.0013027354983038138\n",
      "current acceptance ratio = 0.6862745098039216\n",
      "currently working on step 154\n"
     ]
    },
    {
     "name": "stderr",
     "output_type": "stream",
     "text": [
      "100%|██████████| 98/98 [00:08<00:00, 12.00it/s]\n",
      "  0%|          | 0/99 [00:00<?, ?it/s]"
     ]
    },
    {
     "name": "stdout",
     "output_type": "stream",
     "text": [
      "initial_potential =  32862.020809962836\n",
      "final_potential =  32671.9758576599\n",
      "energy_change =  -1.028009900037432\n",
      "p accept =  2.7954969768161804\n",
      "current step size = 0.0013027354983038138\n",
      "current acceptance ratio = 0.6883116883116883\n",
      "currently working on step 155\n"
     ]
    },
    {
     "name": "stderr",
     "output_type": "stream",
     "text": [
      "100%|██████████| 99/99 [00:08<00:00, 11.85it/s]\n",
      "  0%|          | 0/99 [00:00<?, ?it/s]"
     ]
    },
    {
     "name": "stdout",
     "output_type": "stream",
     "text": [
      "initial_potential =  32671.9758576599\n",
      "final_potential =  32568.875742849756\n",
      "energy_change =  0.12742684027762152\n",
      "p accept =  0.8803578202120096\n",
      "current step size = 0.0013027354983038138\n",
      "current acceptance ratio = 0.6903225806451613\n",
      "currently working on step 156\n"
     ]
    },
    {
     "name": "stderr",
     "output_type": "stream",
     "text": [
      "100%|██████████| 99/99 [00:08<00:00, 12.20it/s]\n",
      "  0%|          | 0/97 [00:00<?, ?it/s]"
     ]
    },
    {
     "name": "stdout",
     "output_type": "stream",
     "text": [
      "initial_potential =  32568.875742849756\n",
      "final_potential =  32656.331876349093\n",
      "energy_change =  0.09787788090761751\n",
      "p accept =  0.9067596296558926\n",
      "current step size = 0.0013027354983038138\n",
      "current acceptance ratio = 0.6923076923076923\n",
      "currently working on step 157\n"
     ]
    },
    {
     "name": "stderr",
     "output_type": "stream",
     "text": [
      "100%|██████████| 97/97 [00:08<00:00, 11.80it/s]\n",
      "  0%|          | 0/101 [00:00<?, ?it/s]"
     ]
    },
    {
     "name": "stdout",
     "output_type": "stream",
     "text": [
      "initial_potential =  32656.331876349093\n",
      "final_potential =  32687.59599005508\n",
      "energy_change =  0.03073355185915716\n",
      "p accept =  0.9697339224568923\n",
      "current step size = 0.0013027354983038138\n",
      "current acceptance ratio = 0.6942675159235668\n",
      "currently working on step 158\n"
     ]
    },
    {
     "name": "stderr",
     "output_type": "stream",
     "text": [
      "100%|██████████| 101/101 [00:08<00:00, 12.03it/s]\n",
      "  0%|          | 0/100 [00:00<?, ?it/s]"
     ]
    },
    {
     "name": "stdout",
     "output_type": "stream",
     "text": [
      "initial_potential =  32687.59599005508\n",
      "final_potential =  32997.42190576208\n",
      "energy_change =  0.5026079900271725\n",
      "p accept =  0.6049508947020372\n",
      "current step size = 0.0013027354983038138\n",
      "current acceptance ratio = 0.6962025316455697\n",
      "currently working on step 159\n"
     ]
    },
    {
     "name": "stderr",
     "output_type": "stream",
     "text": [
      "100%|██████████| 100/100 [00:08<00:00, 11.88it/s]\n",
      "  0%|          | 0/100 [00:00<?, ?it/s]"
     ]
    },
    {
     "name": "stdout",
     "output_type": "stream",
     "text": [
      "initial_potential =  32997.42190576208\n",
      "final_potential =  32688.839611739517\n",
      "energy_change =  -1.0090712697128765\n",
      "p accept =  2.743052275926706\n",
      "current step size = 0.0013027354983038138\n",
      "current acceptance ratio = 0.6981132075471698\n",
      "currently working on step 160\n"
     ]
    },
    {
     "name": "stderr",
     "output_type": "stream",
     "text": [
      "100%|██████████| 100/100 [00:08<00:00, 11.83it/s]\n",
      "  0%|          | 0/97 [00:00<?, ?it/s]"
     ]
    },
    {
     "name": "stdout",
     "output_type": "stream",
     "text": [
      "initial_potential =  32688.839611739517\n",
      "final_potential =  32855.28883955491\n",
      "energy_change =  0.6166456737701083\n",
      "p accept =  0.5397519084606602\n",
      "current step size = 0.0013027354983038138\n",
      "current acceptance ratio = 0.69375\n",
      "currently working on step 161\n"
     ]
    },
    {
     "name": "stderr",
     "output_type": "stream",
     "text": [
      "100%|██████████| 97/97 [00:07<00:00, 12.21it/s]\n",
      "  0%|          | 0/98 [00:00<?, ?it/s]"
     ]
    },
    {
     "name": "stdout",
     "output_type": "stream",
     "text": [
      "initial_potential =  32688.839611739517\n",
      "final_potential =  32512.84938337323\n",
      "energy_change =  -0.07334005026496015\n",
      "p accept =  1.0760964015714682\n",
      "current step size = 0.0013027354983038138\n",
      "current acceptance ratio = 0.6956521739130435\n",
      "currently working on step 162\n"
     ]
    },
    {
     "name": "stderr",
     "output_type": "stream",
     "text": [
      "100%|██████████| 98/98 [00:08<00:00, 11.88it/s]\n",
      "  0%|          | 0/101 [00:00<?, ?it/s]"
     ]
    },
    {
     "name": "stdout",
     "output_type": "stream",
     "text": [
      "initial_potential =  32512.84938337323\n",
      "final_potential =  32742.580759208788\n",
      "energy_change =  0.9814991491148248\n",
      "p accept =  0.37474887308520016\n",
      "current step size = 0.0013027354983038138\n",
      "current acceptance ratio = 0.691358024691358\n",
      "currently working on step 163\n"
     ]
    },
    {
     "name": "stderr",
     "output_type": "stream",
     "text": [
      "100%|██████████| 101/101 [00:08<00:00, 12.12it/s]\n",
      "  0%|          | 0/101 [00:00<?, ?it/s]"
     ]
    },
    {
     "name": "stdout",
     "output_type": "stream",
     "text": [
      "initial_potential =  32512.84938337323\n",
      "final_potential =  32848.59040616212\n",
      "energy_change =  1.0749181956925895\n",
      "p accept =  0.3413256760694908\n",
      "current step size = 0.0013027354983038138\n",
      "current acceptance ratio = 0.6932515337423313\n",
      "currently working on step 164\n"
     ]
    },
    {
     "name": "stderr",
     "output_type": "stream",
     "text": [
      "100%|██████████| 101/101 [00:08<00:00, 11.86it/s]\n",
      "  0%|          | 0/97 [00:00<?, ?it/s]"
     ]
    },
    {
     "name": "stdout",
     "output_type": "stream",
     "text": [
      "initial_potential =  32848.59040616212\n",
      "final_potential =  32783.094013019036\n",
      "energy_change =  -0.20489302091300488\n",
      "p accept =  1.2273937524764345\n",
      "current step size = 0.0013027354983038138\n",
      "current acceptance ratio = 0.6951219512195121\n",
      "currently working on step 165\n"
     ]
    },
    {
     "name": "stderr",
     "output_type": "stream",
     "text": [
      "100%|██████████| 97/97 [00:08<00:00, 11.86it/s]\n",
      "  0%|          | 0/99 [00:00<?, ?it/s]"
     ]
    },
    {
     "name": "stdout",
     "output_type": "stream",
     "text": [
      "initial_potential =  32783.094013019036\n",
      "final_potential =  32703.868983577526\n",
      "energy_change =  -0.2015863994747633\n",
      "p accept =  1.2233419285969842\n",
      "current step size = 0.0013027354983038138\n",
      "current acceptance ratio = 0.696969696969697\n",
      "currently working on step 166\n"
     ]
    },
    {
     "name": "stderr",
     "output_type": "stream",
     "text": [
      "100%|██████████| 99/99 [00:08<00:00, 12.15it/s]\n",
      "  0%|          | 0/100 [00:00<?, ?it/s]"
     ]
    },
    {
     "name": "stdout",
     "output_type": "stream",
     "text": [
      "initial_potential =  32703.868983577526\n",
      "final_potential =  32707.525252503052\n",
      "energy_change =  -0.2147358647780493\n",
      "p accept =  1.2395344490158908\n",
      "current step size = 0.0013027354983038138\n",
      "current acceptance ratio = 0.6987951807228916\n",
      "currently working on step 167\n"
     ]
    },
    {
     "name": "stderr",
     "output_type": "stream",
     "text": [
      "100%|██████████| 100/100 [00:08<00:00, 11.87it/s]\n",
      "  0%|          | 0/98 [00:00<?, ?it/s]"
     ]
    },
    {
     "name": "stdout",
     "output_type": "stream",
     "text": [
      "initial_potential =  32707.525252503052\n",
      "final_potential =  32678.92254808936\n",
      "energy_change =  -0.005757107166573405\n",
      "p accept =  1.005773711156394\n",
      "current step size = 0.0013027354983038138\n",
      "current acceptance ratio = 0.7005988023952096\n",
      "currently working on step 168\n"
     ]
    },
    {
     "name": "stderr",
     "output_type": "stream",
     "text": [
      "100%|██████████| 98/98 [00:08<00:00, 12.22it/s]\n",
      "  0%|          | 0/99 [00:00<?, ?it/s]"
     ]
    },
    {
     "name": "stdout",
     "output_type": "stream",
     "text": [
      "initial_potential =  32678.92254808936\n",
      "final_potential =  32610.688356948227\n",
      "energy_change =  -0.25146634837437887\n",
      "p accept =  1.2859096263864616\n",
      "current step size = 0.0013027354983038138\n",
      "current acceptance ratio = 0.7023809523809523\n",
      "currently working on step 169\n"
     ]
    },
    {
     "name": "stderr",
     "output_type": "stream",
     "text": [
      "100%|██████████| 99/99 [00:08<00:00, 11.86it/s]\n",
      "  0%|          | 0/99 [00:00<?, ?it/s]"
     ]
    },
    {
     "name": "stdout",
     "output_type": "stream",
     "text": [
      "initial_potential =  32610.688356948227\n",
      "final_potential =  32775.84620247319\n",
      "energy_change =  0.21441528656578157\n",
      "p accept =  0.8070131736936745\n",
      "current step size = 0.0013027354983038138\n",
      "current acceptance ratio = 0.7041420118343196\n",
      "currently working on step 170\n"
     ]
    },
    {
     "name": "stderr",
     "output_type": "stream",
     "text": [
      "100%|██████████| 99/99 [00:08<00:00, 12.23it/s]\n",
      "  0%|          | 0/99 [00:00<?, ?it/s]"
     ]
    },
    {
     "name": "stdout",
     "output_type": "stream",
     "text": [
      "initial_potential =  32775.84620247319\n",
      "final_potential =  32848.942982351924\n",
      "energy_change =  0.17845653387485072\n",
      "p accept =  0.8365604181269747\n",
      "current step size = 0.0013027354983038138\n",
      "current acceptance ratio = 0.7058823529411765\n",
      "currently working on step 171\n"
     ]
    },
    {
     "name": "stderr",
     "output_type": "stream",
     "text": [
      "100%|██████████| 99/99 [00:08<00:00, 11.81it/s]\n",
      "  0%|          | 0/100 [00:00<?, ?it/s]"
     ]
    },
    {
     "name": "stdout",
     "output_type": "stream",
     "text": [
      "initial_potential =  32848.942982351924\n",
      "final_potential =  32432.110361992214\n",
      "energy_change =  -0.9834600973699708\n",
      "p accept =  2.673691488176238\n",
      "current step size = 0.0013027354983038138\n",
      "current acceptance ratio = 0.7076023391812866\n",
      "currently working on step 172\n"
     ]
    },
    {
     "name": "stderr",
     "output_type": "stream",
     "text": [
      "100%|██████████| 100/100 [00:08<00:00, 11.86it/s]\n",
      "  0%|          | 0/99 [00:00<?, ?it/s]"
     ]
    },
    {
     "name": "stdout",
     "output_type": "stream",
     "text": [
      "initial_potential =  32432.110361992214\n",
      "final_potential =  32859.77197670375\n",
      "energy_change =  0.9328643320186529\n",
      "p accept =  0.39342519453948716\n",
      "current step size = 0.0013027354983038138\n",
      "current acceptance ratio = 0.7034883720930233\n",
      "currently working on step 173\n"
     ]
    },
    {
     "name": "stderr",
     "output_type": "stream",
     "text": [
      "100%|██████████| 99/99 [00:08<00:00, 12.14it/s]\n",
      "  0%|          | 0/99 [00:00<?, ?it/s]"
     ]
    },
    {
     "name": "stdout",
     "output_type": "stream",
     "text": [
      "initial_potential =  32432.110361992214\n",
      "final_potential =  32637.478210865167\n",
      "energy_change =  0.4142750134196831\n",
      "p accept =  0.6608191921281377\n",
      "current step size = 0.0013027354983038138\n",
      "current acceptance ratio = 0.6994219653179191\n",
      "currently working on step 174\n"
     ]
    },
    {
     "name": "stderr",
     "output_type": "stream",
     "text": [
      "100%|██████████| 99/99 [00:08<00:00, 11.78it/s]\n",
      "  0%|          | 0/101 [00:00<?, ?it/s]"
     ]
    },
    {
     "name": "stdout",
     "output_type": "stream",
     "text": [
      "initial_potential =  32432.110361992214\n",
      "final_potential =  32734.19755169885\n",
      "energy_change =  0.814150190926739\n",
      "p accept =  0.4430156461548401\n",
      "current step size = 0.0013027354983038138\n",
      "current acceptance ratio = 0.7011494252873564\n",
      "currently working on step 175\n"
     ]
    },
    {
     "name": "stderr",
     "output_type": "stream",
     "text": [
      "100%|██████████| 101/101 [00:08<00:00, 11.92it/s]\n",
      "  0%|          | 0/99 [00:00<?, ?it/s]"
     ]
    },
    {
     "name": "stdout",
     "output_type": "stream",
     "text": [
      "initial_potential =  32734.19755169885\n",
      "final_potential =  32858.48180573486\n",
      "energy_change =  0.6449140011973213\n",
      "p accept =  0.524707664397228\n",
      "current step size = 0.0013027354983038138\n",
      "current acceptance ratio = 0.6971428571428572\n",
      "currently working on step 176\n"
     ]
    },
    {
     "name": "stderr",
     "output_type": "stream",
     "text": [
      "100%|██████████| 99/99 [00:08<00:00, 11.83it/s]\n",
      "  0%|          | 0/100 [00:00<?, ?it/s]"
     ]
    },
    {
     "name": "stdout",
     "output_type": "stream",
     "text": [
      "initial_potential =  32734.19755169885\n",
      "final_potential =  32857.18625854321\n",
      "energy_change =  0.3151467592106201\n",
      "p accept =  0.7296817788887587\n",
      "current step size = 0.0013027354983038138\n",
      "current acceptance ratio = 0.6931818181818182\n",
      "currently working on step 177\n"
     ]
    },
    {
     "name": "stderr",
     "output_type": "stream",
     "text": [
      "100%|██████████| 100/100 [00:08<00:00, 12.17it/s]\n",
      "  0%|          | 0/101 [00:00<?, ?it/s]"
     ]
    },
    {
     "name": "stdout",
     "output_type": "stream",
     "text": [
      "initial_potential =  32734.19755169885\n",
      "final_potential =  32754.172751007536\n",
      "energy_change =  0.17159165076736826\n",
      "p accept =  0.8423230649269443\n",
      "current step size = 0.0013027354983038138\n",
      "current acceptance ratio = 0.6949152542372882\n",
      "currently working on step 178\n"
     ]
    },
    {
     "name": "stderr",
     "output_type": "stream",
     "text": [
      "100%|██████████| 101/101 [00:08<00:00, 11.80it/s]\n",
      "  0%|          | 0/99 [00:00<?, ?it/s]"
     ]
    },
    {
     "name": "stdout",
     "output_type": "stream",
     "text": [
      "initial_potential =  32754.172751007536\n",
      "final_potential =  33040.98556472753\n",
      "energy_change =  1.2339994626236148\n",
      "p accept =  0.29112589904022645\n",
      "current step size = 0.0013027354983038138\n",
      "current acceptance ratio = 0.6910112359550562\n",
      "currently working on step 179\n"
     ]
    },
    {
     "name": "stderr",
     "output_type": "stream",
     "text": [
      "100%|██████████| 99/99 [00:08<00:00, 11.97it/s]\n",
      "  0%|          | 0/100 [00:00<?, ?it/s]"
     ]
    },
    {
     "name": "stdout",
     "output_type": "stream",
     "text": [
      "initial_potential =  32754.172751007536\n",
      "final_potential =  32863.97941090863\n",
      "energy_change =  0.5778647603292484\n",
      "p accept =  0.5610951610360904\n",
      "current step size = 0.0013027354983038138\n",
      "current acceptance ratio = 0.6927374301675978\n",
      "currently working on step 180\n"
     ]
    },
    {
     "name": "stderr",
     "output_type": "stream",
     "text": [
      "100%|██████████| 100/100 [00:08<00:00, 12.08it/s]\n",
      "  0%|          | 0/101 [00:00<?, ?it/s]"
     ]
    },
    {
     "name": "stdout",
     "output_type": "stream",
     "text": [
      "initial_potential =  32863.97941090863\n",
      "final_potential =  33053.09994137219\n",
      "energy_change =  0.6732633767096559\n",
      "p accept =  0.5100414017229978\n",
      "current step size = 0.0013027354983038138\n",
      "current acceptance ratio = 0.6888888888888889\n",
      "currently working on step 181\n"
     ]
    },
    {
     "name": "stderr",
     "output_type": "stream",
     "text": [
      "100%|██████████| 101/101 [00:08<00:00, 11.81it/s]\n",
      "  0%|          | 0/101 [00:00<?, ?it/s]"
     ]
    },
    {
     "name": "stdout",
     "output_type": "stream",
     "text": [
      "initial_potential =  32863.97941090863\n",
      "final_potential =  32990.930569733115\n",
      "energy_change =  0.13822874322067946\n",
      "p accept =  0.8708994566132304\n",
      "current step size = 0.0013027354983038138\n",
      "current acceptance ratio = 0.6906077348066298\n",
      "currently working on step 182\n"
     ]
    },
    {
     "name": "stderr",
     "output_type": "stream",
     "text": [
      "100%|██████████| 101/101 [00:08<00:00, 12.10it/s]\n",
      "  0%|          | 0/99 [00:00<?, ?it/s]"
     ]
    },
    {
     "name": "stdout",
     "output_type": "stream",
     "text": [
      "initial_potential =  32990.930569733115\n",
      "final_potential =  32870.398264398114\n",
      "energy_change =  -0.23375520102854352\n",
      "p accept =  1.263335191195628\n",
      "current step size = 0.0013027354983038138\n",
      "current acceptance ratio = 0.6923076923076923\n",
      "currently working on step 183\n"
     ]
    },
    {
     "name": "stderr",
     "output_type": "stream",
     "text": [
      "100%|██████████| 99/99 [00:08<00:00, 11.90it/s]\n",
      "  0%|          | 0/98 [00:00<?, ?it/s]"
     ]
    },
    {
     "name": "stdout",
     "output_type": "stream",
     "text": [
      "initial_potential =  32870.398264398114\n",
      "final_potential =  32715.172521098146\n",
      "energy_change =  -0.32736199321516324\n",
      "p accept =  1.387303580779385\n",
      "current step size = 0.0013027354983038138\n",
      "current acceptance ratio = 0.6939890710382514\n",
      "currently working on step 184\n"
     ]
    },
    {
     "name": "stderr",
     "output_type": "stream",
     "text": [
      "100%|██████████| 98/98 [00:08<00:00, 11.92it/s]\n",
      "  0%|          | 0/100 [00:00<?, ?it/s]"
     ]
    },
    {
     "name": "stdout",
     "output_type": "stream",
     "text": [
      "initial_potential =  32715.172521098146\n",
      "final_potential =  32875.33451261883\n",
      "energy_change =  0.6572196243214421\n",
      "p accept =  0.5182903749810983\n",
      "current step size = 0.0013027354983038138\n",
      "current acceptance ratio = 0.6902173913043478\n",
      "currently working on step 185\n"
     ]
    },
    {
     "name": "stderr",
     "output_type": "stream",
     "text": [
      "100%|██████████| 100/100 [00:08<00:00, 12.24it/s]\n",
      "  0%|          | 0/97 [00:00<?, ?it/s]"
     ]
    },
    {
     "name": "stdout",
     "output_type": "stream",
     "text": [
      "initial_potential =  32715.172521098146\n",
      "final_potential =  32781.27416128281\n",
      "energy_change =  0.24417881609406322\n",
      "p accept =  0.7833475465896954\n",
      "current step size = 0.0013027354983038138\n",
      "current acceptance ratio = 0.6918918918918919\n",
      "currently working on step 186\n"
     ]
    },
    {
     "name": "stderr",
     "output_type": "stream",
     "text": [
      "100%|██████████| 97/97 [00:08<00:00, 11.84it/s]\n",
      "  0%|          | 0/98 [00:00<?, ?it/s]"
     ]
    },
    {
     "name": "stdout",
     "output_type": "stream",
     "text": [
      "initial_potential =  32781.27416128281\n",
      "final_potential =  32935.93679824171\n",
      "energy_change =  0.7686912669887533\n",
      "p accept =  0.4636194254916484\n",
      "current step size = 0.0013027354983038138\n",
      "current acceptance ratio = 0.6935483870967742\n",
      "currently working on step 187\n"
     ]
    },
    {
     "name": "stderr",
     "output_type": "stream",
     "text": [
      "100%|██████████| 98/98 [00:07<00:00, 12.25it/s]\n",
      "  0%|          | 0/98 [00:00<?, ?it/s]"
     ]
    },
    {
     "name": "stdout",
     "output_type": "stream",
     "text": [
      "initial_potential =  32935.93679824171\n",
      "final_potential =  32890.93393525584\n",
      "energy_change =  -0.19403559231432155\n",
      "p accept =  1.2141394962217782\n",
      "current step size = 0.0013027354983038138\n",
      "current acceptance ratio = 0.6951871657754011\n",
      "currently working on step 188\n"
     ]
    },
    {
     "name": "stderr",
     "output_type": "stream",
     "text": [
      "100%|██████████| 98/98 [00:08<00:00, 11.85it/s]\n",
      "  0%|          | 0/99 [00:00<?, ?it/s]"
     ]
    },
    {
     "name": "stdout",
     "output_type": "stream",
     "text": [
      "initial_potential =  32890.93393525584\n",
      "final_potential =  32774.0817011448\n",
      "energy_change =  -0.42638671715394594\n",
      "p accept =  1.5317130003061905\n",
      "current step size = 0.0013027354983038138\n",
      "current acceptance ratio = 0.6968085106382979\n",
      "currently working on step 189\n"
     ]
    },
    {
     "name": "stderr",
     "output_type": "stream",
     "text": [
      "100%|██████████| 99/99 [00:08<00:00, 11.78it/s]\n",
      "  0%|          | 0/98 [00:00<?, ?it/s]"
     ]
    },
    {
     "name": "stdout",
     "output_type": "stream",
     "text": [
      "initial_potential =  32774.0817011448\n",
      "final_potential =  32859.14363156361\n",
      "energy_change =  0.20682183076860383\n",
      "p accept =  0.8131645179788454\n",
      "current step size = 0.0013027354983038138\n",
      "current acceptance ratio = 0.6984126984126984\n",
      "currently working on step 190\n"
     ]
    },
    {
     "name": "stderr",
     "output_type": "stream",
     "text": [
      "100%|██████████| 98/98 [00:08<00:00, 12.22it/s]\n",
      "  0%|          | 0/99 [00:00<?, ?it/s]"
     ]
    },
    {
     "name": "stdout",
     "output_type": "stream",
     "text": [
      "initial_potential =  32859.14363156361\n",
      "final_potential =  32745.90439802846\n",
      "energy_change =  0.22191321484569926\n",
      "p accept =  0.8009848749143343\n",
      "current step size = 0.0013027354983038138\n",
      "current acceptance ratio = 0.7\n",
      "currently working on step 191\n"
     ]
    },
    {
     "name": "stderr",
     "output_type": "stream",
     "text": [
      "100%|██████████| 99/99 [00:08<00:00, 11.90it/s]\n",
      "  0%|          | 0/97 [00:00<?, ?it/s]"
     ]
    },
    {
     "name": "stdout",
     "output_type": "stream",
     "text": [
      "initial_potential =  32745.90439802846\n",
      "final_potential =  32688.646602786634\n",
      "energy_change =  -0.5824581597553333\n",
      "p accept =  1.7904341990789514\n",
      "current step size = 0.0013027354983038138\n",
      "current acceptance ratio = 0.7015706806282722\n",
      "currently working on step 192\n"
     ]
    },
    {
     "name": "stderr",
     "output_type": "stream",
     "text": [
      "100%|██████████| 97/97 [00:08<00:00, 11.87it/s]\n",
      "  0%|          | 0/100 [00:00<?, ?it/s]"
     ]
    },
    {
     "name": "stdout",
     "output_type": "stream",
     "text": [
      "initial_potential =  32688.646602786634\n",
      "final_potential =  32685.19945756813\n",
      "energy_change =  -0.3084069650940364\n",
      "p accept =  1.3612548594384044\n",
      "current step size = 0.0013027354983038138\n",
      "current acceptance ratio = 0.703125\n",
      "currently working on step 193\n"
     ]
    },
    {
     "name": "stderr",
     "output_type": "stream",
     "text": [
      "100%|██████████| 100/100 [00:08<00:00, 12.22it/s]\n",
      "  0%|          | 0/97 [00:00<?, ?it/s]"
     ]
    },
    {
     "name": "stdout",
     "output_type": "stream",
     "text": [
      "initial_potential =  32685.19945756813\n",
      "final_potential =  32726.930246006425\n",
      "energy_change =  0.3602480905101402\n",
      "p accept =  0.6975032606642135\n",
      "current step size = 0.0013027354983038138\n",
      "current acceptance ratio = 0.7046632124352331\n",
      "currently working on step 194\n"
     ]
    },
    {
     "name": "stderr",
     "output_type": "stream",
     "text": [
      "100%|██████████| 97/97 [00:08<00:00, 11.85it/s]\n",
      "  0%|          | 0/98 [00:00<?, ?it/s]"
     ]
    },
    {
     "name": "stdout",
     "output_type": "stream",
     "text": [
      "initial_potential =  32726.930246006425\n",
      "final_potential =  32710.537519848793\n",
      "energy_change =  -0.06511743077135179\n",
      "p accept =  1.067284349049923\n",
      "current step size = 0.0013027354983038138\n",
      "current acceptance ratio = 0.7061855670103093\n",
      "currently working on step 195\n"
     ]
    },
    {
     "name": "stderr",
     "output_type": "stream",
     "text": [
      "100%|██████████| 98/98 [00:08<00:00, 11.88it/s]\n",
      "  0%|          | 0/98 [00:00<?, ?it/s]"
     ]
    },
    {
     "name": "stdout",
     "output_type": "stream",
     "text": [
      "initial_potential =  32710.537519848793\n",
      "final_potential =  32725.566462366303\n",
      "energy_change =  -0.1352873706346145\n",
      "p accept =  1.1448657378769012\n",
      "current step size = 0.0013027354983038138\n",
      "current acceptance ratio = 0.7076923076923077\n",
      "currently working on step 196\n"
     ]
    },
    {
     "name": "stderr",
     "output_type": "stream",
     "text": [
      "100%|██████████| 98/98 [00:08<00:00, 12.15it/s]\n",
      "  0%|          | 0/101 [00:00<?, ?it/s]"
     ]
    },
    {
     "name": "stdout",
     "output_type": "stream",
     "text": [
      "initial_potential =  32725.566462366303\n",
      "final_potential =  32838.15142154499\n",
      "energy_change =  0.19757411589671392\n",
      "p accept =  0.8207193100258823\n",
      "current step size = 0.0013027354983038138\n",
      "current acceptance ratio = 0.7091836734693877\n",
      "currently working on step 197\n"
     ]
    },
    {
     "name": "stderr",
     "output_type": "stream",
     "text": [
      "100%|██████████| 101/101 [00:08<00:00, 11.88it/s]\n",
      "  0%|          | 0/101 [00:00<?, ?it/s]"
     ]
    },
    {
     "name": "stdout",
     "output_type": "stream",
     "text": [
      "initial_potential =  32838.15142154499\n",
      "final_potential =  32938.71260522749\n",
      "energy_change =  0.1038408512249589\n",
      "p accept =  0.901368737737198\n",
      "current step size = 0.0013027354983038138\n",
      "current acceptance ratio = 0.7106598984771574\n",
      "currently working on step 198\n"
     ]
    },
    {
     "name": "stderr",
     "output_type": "stream",
     "text": [
      "100%|██████████| 101/101 [00:08<00:00, 12.21it/s]\n",
      "  0%|          | 0/100 [00:00<?, ?it/s]"
     ]
    },
    {
     "name": "stdout",
     "output_type": "stream",
     "text": [
      "initial_potential =  32938.71260522749\n",
      "final_potential =  32999.16958817971\n",
      "energy_change =  0.7495527065475471\n",
      "p accept =  0.47257788646778615\n",
      "current step size = 0.0013027354983038138\n",
      "current acceptance ratio = 0.7070707070707071\n",
      "currently working on step 199\n"
     ]
    },
    {
     "name": "stderr",
     "output_type": "stream",
     "text": [
      "100%|██████████| 100/100 [00:08<00:00, 11.86it/s]\n",
      "  0%|          | 0/101 [00:00<?, ?it/s]"
     ]
    },
    {
     "name": "stdout",
     "output_type": "stream",
     "text": [
      "initial_potential =  32938.71260522749\n",
      "final_potential =  32602.799497415537\n",
      "energy_change =  -0.8738816120312549\n",
      "p accept =  2.3961939203872675\n",
      "current step size = 0.0013027354983038138\n",
      "current acceptance ratio = 0.7085427135678392\n",
      "currently working on step 200\n"
     ]
    },
    {
     "name": "stderr",
     "output_type": "stream",
     "text": [
      "100%|██████████| 101/101 [00:08<00:00, 11.79it/s]\n",
      "  0%|          | 0/98 [00:00<?, ?it/s]"
     ]
    },
    {
     "name": "stdout",
     "output_type": "stream",
     "text": [
      "initial_potential =  32602.799497415537\n",
      "final_potential =  33080.02304653244\n",
      "energy_change =  1.0967826431733556\n",
      "p accept =  0.33394377343912013\n",
      "current step size = 0.0013027354983038138\n",
      "current acceptance ratio = 0.71\n",
      "currently working on step 201\n"
     ]
    },
    {
     "name": "stderr",
     "output_type": "stream",
     "text": [
      "100%|██████████| 98/98 [00:08<00:00, 12.23it/s]\n",
      "  0%|          | 0/99 [00:00<?, ?it/s]"
     ]
    },
    {
     "name": "stdout",
     "output_type": "stream",
     "text": [
      "initial_potential =  33080.02304653244\n",
      "final_potential =  33009.533672942256\n",
      "energy_change =  0.23683160696236882\n",
      "p accept =  0.7891241598442948\n",
      "current step size = 0.0013027354983038138\n",
      "current acceptance ratio = 0.7114427860696517\n",
      "currently working on step 202\n"
     ]
    },
    {
     "name": "stderr",
     "output_type": "stream",
     "text": [
      "100%|██████████| 99/99 [00:08<00:00, 11.85it/s]\n",
      "  0%|          | 0/99 [00:00<?, ?it/s]"
     ]
    },
    {
     "name": "stdout",
     "output_type": "stream",
     "text": [
      "initial_potential =  33009.533672942256\n",
      "final_potential =  32896.72113639371\n",
      "energy_change =  -0.08392465974611696\n",
      "p accept =  1.087546954658533\n",
      "current step size = 0.0013027354983038138\n",
      "current acceptance ratio = 0.7128712871287128\n",
      "currently working on step 203\n"
     ]
    },
    {
     "name": "stderr",
     "output_type": "stream",
     "text": [
      "100%|██████████| 99/99 [00:08<00:00, 12.15it/s]\n",
      "  0%|          | 0/101 [00:00<?, ?it/s]"
     ]
    },
    {
     "name": "stdout",
     "output_type": "stream",
     "text": [
      "initial_potential =  32896.72113639371\n",
      "final_potential =  32701.11905222558\n",
      "energy_change =  -0.8757018187752692\n",
      "p accept =  2.40055946060869\n",
      "current step size = 0.0013027354983038138\n",
      "current acceptance ratio = 0.7142857142857143\n",
      "currently working on step 204\n"
     ]
    },
    {
     "name": "stderr",
     "output_type": "stream",
     "text": [
      "100%|██████████| 101/101 [00:08<00:00, 11.86it/s]\n",
      "  0%|          | 0/101 [00:00<?, ?it/s]"
     ]
    },
    {
     "name": "stdout",
     "output_type": "stream",
     "text": [
      "initial_potential =  32701.11905222558\n",
      "final_potential =  32859.85272662417\n",
      "energy_change =  0.390823049863684\n",
      "p accept =  0.6764998521899145\n",
      "current step size = 0.0013027354983038138\n",
      "current acceptance ratio = 0.7107843137254902\n",
      "currently working on step 205\n"
     ]
    },
    {
     "name": "stderr",
     "output_type": "stream",
     "text": [
      "100%|██████████| 101/101 [00:08<00:00, 11.92it/s]\n",
      "  0%|          | 0/99 [00:00<?, ?it/s]"
     ]
    },
    {
     "name": "stdout",
     "output_type": "stream",
     "text": [
      "initial_potential =  32701.11905222558\n",
      "final_potential =  32925.3813711732\n",
      "energy_change =  0.9388928208645666\n",
      "p accept =  0.3910605698606501\n",
      "current step size = 0.0013027354983038138\n",
      "current acceptance ratio = 0.7121951219512195\n",
      "currently working on step 206\n"
     ]
    },
    {
     "name": "stderr",
     "output_type": "stream",
     "text": [
      "100%|██████████| 99/99 [00:08<00:00, 12.28it/s]\n",
      "  0%|          | 0/101 [00:00<?, ?it/s]"
     ]
    },
    {
     "name": "stdout",
     "output_type": "stream",
     "text": [
      "initial_potential =  32925.3813711732\n",
      "final_potential =  32906.57089937954\n",
      "energy_change =  -0.3068053681636229\n",
      "p accept =  1.3590764227884045\n",
      "current step size = 0.0013027354983038138\n",
      "current acceptance ratio = 0.7135922330097088\n",
      "currently working on step 207\n"
     ]
    },
    {
     "name": "stderr",
     "output_type": "stream",
     "text": [
      "100%|██████████| 101/101 [00:08<00:00, 11.88it/s]\n",
      "  0%|          | 0/101 [00:00<?, ?it/s]"
     ]
    },
    {
     "name": "stdout",
     "output_type": "stream",
     "text": [
      "initial_potential =  32906.57089937954\n",
      "final_potential =  32695.188545899306\n",
      "energy_change =  -0.577535458971397\n",
      "p accept =  1.781642085470756\n",
      "current step size = 0.0013027354983038138\n",
      "current acceptance ratio = 0.714975845410628\n",
      "currently working on step 208\n"
     ]
    },
    {
     "name": "stderr",
     "output_type": "stream",
     "text": [
      "100%|██████████| 101/101 [00:08<00:00, 11.92it/s]\n",
      "  0%|          | 0/99 [00:00<?, ?it/s]"
     ]
    },
    {
     "name": "stdout",
     "output_type": "stream",
     "text": [
      "initial_potential =  32695.188545899306\n",
      "final_potential =  32976.49215107883\n",
      "energy_change =  0.9487261397734983\n",
      "p accept =  0.38723399138169173\n",
      "current step size = 0.0013027354983038138\n",
      "current acceptance ratio = 0.7163461538461539\n",
      "currently working on step 209\n"
     ]
    },
    {
     "name": "stderr",
     "output_type": "stream",
     "text": [
      "100%|██████████| 99/99 [00:08<00:00, 12.21it/s]\n",
      "  0%|          | 0/99 [00:00<?, ?it/s]"
     ]
    },
    {
     "name": "stdout",
     "output_type": "stream",
     "text": [
      "initial_potential =  32976.49215107883\n",
      "final_potential =  32860.152309787794\n",
      "energy_change =  -0.5574115475756116\n",
      "p accept =  1.7461468275895102\n",
      "current step size = 0.0013027354983038138\n",
      "current acceptance ratio = 0.7177033492822966\n",
      "currently working on step 210\n"
     ]
    },
    {
     "name": "stderr",
     "output_type": "stream",
     "text": [
      "100%|██████████| 99/99 [00:08<00:00, 11.82it/s]\n",
      "  0%|          | 0/99 [00:00<?, ?it/s]"
     ]
    },
    {
     "name": "stdout",
     "output_type": "stream",
     "text": [
      "initial_potential =  32860.152309787794\n",
      "final_potential =  33065.852381966455\n",
      "energy_change =  0.8460783984919544\n",
      "p accept =  0.4290943738891026\n",
      "current step size = 0.0013027354983038138\n",
      "current acceptance ratio = 0.7142857142857143\n",
      "currently working on step 211\n"
     ]
    },
    {
     "name": "stderr",
     "output_type": "stream",
     "text": [
      "100%|██████████| 99/99 [00:08<00:00, 11.86it/s]\n",
      "  0%|          | 0/100 [00:00<?, ?it/s]"
     ]
    },
    {
     "name": "stdout",
     "output_type": "stream",
     "text": [
      "initial_potential =  32860.152309787794\n",
      "final_potential =  33021.07785696882\n",
      "energy_change =  1.0989236263703788\n",
      "p accept =  0.33322957025276134\n",
      "current step size = 0.0013027354983038138\n",
      "current acceptance ratio = 0.7109004739336493\n",
      "currently working on step 212\n"
     ]
    },
    {
     "name": "stderr",
     "output_type": "stream",
     "text": [
      "100%|██████████| 100/100 [00:08<00:00, 12.25it/s]\n",
      "  0%|          | 0/101 [00:00<?, ?it/s]"
     ]
    },
    {
     "name": "stdout",
     "output_type": "stream",
     "text": [
      "initial_potential =  32860.152309787794\n",
      "final_potential =  32683.581416228415\n",
      "energy_change =  0.06986009009415284\n",
      "p accept =  0.9325242801636321\n",
      "current step size = 0.0013027354983038138\n",
      "current acceptance ratio = 0.7122641509433962\n",
      "currently working on step 213\n"
     ]
    },
    {
     "name": "stderr",
     "output_type": "stream",
     "text": [
      "100%|██████████| 101/101 [00:08<00:00, 11.92it/s]\n",
      "  0%|          | 0/99 [00:00<?, ?it/s]"
     ]
    },
    {
     "name": "stdout",
     "output_type": "stream",
     "text": [
      "initial_potential =  32683.581416228415\n",
      "final_potential =  32858.93062502486\n",
      "energy_change =  0.28086350520607084\n",
      "p accept =  0.7551313999509919\n",
      "current step size = 0.0013027354983038138\n",
      "current acceptance ratio = 0.7136150234741784\n",
      "currently working on step 214\n"
     ]
    },
    {
     "name": "stderr",
     "output_type": "stream",
     "text": [
      "100%|██████████| 99/99 [00:08<00:00, 11.89it/s]\n",
      "  0%|          | 0/97 [00:00<?, ?it/s]"
     ]
    },
    {
     "name": "stdout",
     "output_type": "stream",
     "text": [
      "initial_potential =  32858.93062502486\n",
      "final_potential =  32612.008438306664\n",
      "energy_change =  -0.9225701019749977\n",
      "p accept =  2.515747816691441\n",
      "current step size = 0.0013027354983038138\n",
      "current acceptance ratio = 0.7149532710280374\n",
      "currently working on step 215\n"
     ]
    },
    {
     "name": "stderr",
     "output_type": "stream",
     "text": [
      "100%|██████████| 97/97 [00:08<00:00, 12.02it/s]\n",
      "  0%|          | 0/101 [00:00<?, ?it/s]"
     ]
    },
    {
     "name": "stdout",
     "output_type": "stream",
     "text": [
      "initial_potential =  32612.008438306664\n",
      "final_potential =  32815.40603521078\n",
      "energy_change =  0.3768597986345412\n",
      "p accept =  0.6860122470078137\n",
      "current step size = 0.0013027354983038138\n",
      "current acceptance ratio = 0.7162790697674418\n",
      "currently working on step 216\n"
     ]
    },
    {
     "name": "stderr",
     "output_type": "stream",
     "text": [
      "100%|██████████| 101/101 [00:08<00:00, 12.14it/s]\n",
      "  0%|          | 0/97 [00:00<?, ?it/s]"
     ]
    },
    {
     "name": "stdout",
     "output_type": "stream",
     "text": [
      "initial_potential =  32815.40603521078\n",
      "final_potential =  32887.40832586157\n",
      "energy_change =  0.4237607997638406\n",
      "p accept =  0.6545804389794572\n",
      "current step size = 0.0013027354983038138\n",
      "current acceptance ratio = 0.7129629629629629\n",
      "currently working on step 217\n"
     ]
    },
    {
     "name": "stderr",
     "output_type": "stream",
     "text": [
      "100%|██████████| 97/97 [00:08<00:00, 11.86it/s]\n",
      "  1%|          | 1/98 [00:00<00:09,  9.90it/s]"
     ]
    },
    {
     "name": "stdout",
     "output_type": "stream",
     "text": [
      "initial_potential =  32815.40603521078\n",
      "final_potential =  32704.132931605178\n",
      "energy_change =  -0.57330817815091\n",
      "p accept =  1.774126480532103\n",
      "current step size = 0.0013027354983038138\n",
      "current acceptance ratio = 0.7142857142857143\n",
      "currently working on step 218\n"
     ]
    },
    {
     "name": "stderr",
     "output_type": "stream",
     "text": [
      "100%|██████████| 98/98 [00:08<00:00, 11.88it/s]\n",
      "  0%|          | 0/100 [00:00<?, ?it/s]"
     ]
    },
    {
     "name": "stdout",
     "output_type": "stream",
     "text": [
      "initial_potential =  32704.132931605178\n",
      "final_potential =  32779.670998223664\n",
      "energy_change =  0.5535151831136318\n",
      "p accept =  0.574925286520338\n",
      "current step size = 0.0013027354983038138\n",
      "current acceptance ratio = 0.7110091743119266\n",
      "currently working on step 219\n"
     ]
    },
    {
     "name": "stderr",
     "output_type": "stream",
     "text": [
      "100%|██████████| 100/100 [00:08<00:00, 12.17it/s]\n",
      "  0%|          | 0/98 [00:00<?, ?it/s]"
     ]
    },
    {
     "name": "stdout",
     "output_type": "stream",
     "text": [
      "initial_potential =  32704.132931605178\n",
      "final_potential =  32803.729878688566\n",
      "energy_change =  0.5350879439210985\n",
      "p accept =  0.5856177863557073\n",
      "current step size = 0.0013027354983038138\n",
      "current acceptance ratio = 0.7123287671232876\n",
      "currently working on step 220\n"
     ]
    },
    {
     "name": "stderr",
     "output_type": "stream",
     "text": [
      "100%|██████████| 98/98 [00:08<00:00, 11.92it/s]\n",
      "  0%|          | 0/97 [00:00<?, ?it/s]"
     ]
    },
    {
     "name": "stdout",
     "output_type": "stream",
     "text": [
      "initial_potential =  32803.729878688566\n",
      "final_potential =  32777.57795501643\n",
      "energy_change =  -0.05711200414225459\n",
      "p accept =  1.0587743908721146\n",
      "current step size = 0.0013027354983038138\n",
      "current acceptance ratio = 0.7136363636363636\n",
      "currently working on step 221\n"
     ]
    },
    {
     "name": "stderr",
     "output_type": "stream",
     "text": [
      "100%|██████████| 97/97 [00:08<00:00, 11.84it/s]\n",
      "  0%|          | 0/100 [00:00<?, ?it/s]"
     ]
    },
    {
     "name": "stdout",
     "output_type": "stream",
     "text": [
      "initial_potential =  32777.57795501643\n",
      "final_potential =  32657.279029259444\n",
      "energy_change =  -0.09634067010483705\n",
      "p accept =  1.1011341235818772\n",
      "current step size = 0.0013027354983038138\n",
      "current acceptance ratio = 0.7149321266968326\n",
      "currently working on step 222\n"
     ]
    },
    {
     "name": "stderr",
     "output_type": "stream",
     "text": [
      "100%|██████████| 100/100 [00:08<00:00, 12.22it/s]\n",
      "  0%|          | 0/100 [00:00<?, ?it/s]"
     ]
    },
    {
     "name": "stdout",
     "output_type": "stream",
     "text": [
      "initial_potential =  32657.279029259444\n",
      "final_potential =  32834.75689360541\n",
      "energy_change =  0.3451550577301532\n",
      "p accept =  0.7081105469407384\n",
      "current step size = 0.0013027354983038138\n",
      "current acceptance ratio = 0.7162162162162162\n",
      "currently working on step 223\n"
     ]
    },
    {
     "name": "stderr",
     "output_type": "stream",
     "text": [
      "100%|██████████| 100/100 [00:08<00:00, 11.91it/s]\n",
      "  0%|          | 0/99 [00:00<?, ?it/s]"
     ]
    },
    {
     "name": "stdout",
     "output_type": "stream",
     "text": [
      "initial_potential =  32834.75689360541\n",
      "final_potential =  32820.7762738257\n",
      "energy_change =  -0.15043291766778566\n",
      "p accept =  1.1623373301888664\n",
      "current step size = 0.0013027354983038138\n",
      "current acceptance ratio = 0.7174887892376681\n",
      "currently working on step 224\n"
     ]
    },
    {
     "name": "stderr",
     "output_type": "stream",
     "text": [
      "100%|██████████| 99/99 [00:08<00:00, 11.91it/s]\n",
      "  0%|          | 0/101 [00:00<?, ?it/s]"
     ]
    },
    {
     "name": "stdout",
     "output_type": "stream",
     "text": [
      "initial_potential =  32820.7762738257\n",
      "final_potential =  32978.48147263317\n",
      "energy_change =  0.37434037087950855\n",
      "p accept =  0.6877427843697635\n",
      "current step size = 0.0013027354983038138\n",
      "current acceptance ratio = 0.71875\n",
      "currently working on step 225\n"
     ]
    },
    {
     "name": "stderr",
     "output_type": "stream",
     "text": [
      "100%|██████████| 101/101 [00:08<00:00, 12.20it/s]\n",
      "  0%|          | 0/99 [00:00<?, ?it/s]"
     ]
    },
    {
     "name": "stdout",
     "output_type": "stream",
     "text": [
      "initial_potential =  32978.48147263317\n",
      "final_potential =  32968.60575815143\n",
      "energy_change =  0.1982616624009097\n",
      "p accept =  0.820155221274194\n",
      "current step size = 0.0013027354983038138\n",
      "current acceptance ratio = 0.72\n",
      "currently working on step 226\n"
     ]
    },
    {
     "name": "stderr",
     "output_type": "stream",
     "text": [
      "100%|██████████| 99/99 [00:08<00:00, 11.89it/s]\n",
      "  0%|          | 0/97 [00:00<?, ?it/s]"
     ]
    },
    {
     "name": "stdout",
     "output_type": "stream",
     "text": [
      "initial_potential =  32968.60575815143\n",
      "final_potential =  33002.308866733096\n",
      "energy_change =  -0.04500139404262882\n",
      "p accept =  1.046029318117161\n",
      "current step size = 0.0013027354983038138\n",
      "current acceptance ratio = 0.7212389380530974\n",
      "currently working on step 227\n"
     ]
    },
    {
     "name": "stderr",
     "output_type": "stream",
     "text": [
      "100%|██████████| 97/97 [00:08<00:00, 11.86it/s]\n",
      "  0%|          | 0/100 [00:00<?, ?it/s]"
     ]
    },
    {
     "name": "stdout",
     "output_type": "stream",
     "text": [
      "initial_potential =  33002.308866733096\n",
      "final_potential =  32822.18980665639\n",
      "energy_change =  -0.5161820268840529\n",
      "p accept =  1.6756179571550918\n",
      "current step size = 0.0013027354983038138\n",
      "current acceptance ratio = 0.7224669603524229\n",
      "currently working on step 228\n"
     ]
    },
    {
     "name": "stderr",
     "output_type": "stream",
     "text": [
      "100%|██████████| 100/100 [00:08<00:00, 12.21it/s]\n",
      "  0%|          | 0/100 [00:00<?, ?it/s]"
     ]
    },
    {
     "name": "stdout",
     "output_type": "stream",
     "text": [
      "initial_potential =  32822.18980665639\n",
      "final_potential =  32821.76787988012\n",
      "energy_change =  0.1276645252801245\n",
      "p accept =  0.8801485972268769\n",
      "current step size = 0.0013027354983038138\n",
      "current acceptance ratio = 0.7236842105263158\n",
      "currently working on step 229\n"
     ]
    },
    {
     "name": "stderr",
     "output_type": "stream",
     "text": [
      "100%|██████████| 100/100 [00:08<00:00, 11.90it/s]\n",
      "  0%|          | 0/99 [00:00<?, ?it/s]"
     ]
    },
    {
     "name": "stdout",
     "output_type": "stream",
     "text": [
      "initial_potential =  32821.76787988012\n",
      "final_potential =  32730.899027815085\n",
      "energy_change =  0.05243090842850506\n",
      "p accept =  0.948919881156762\n",
      "current step size = 0.0013027354983038138\n",
      "current acceptance ratio = 0.7248908296943232\n",
      "currently working on step 230\n"
     ]
    },
    {
     "name": "stderr",
     "output_type": "stream",
     "text": [
      "100%|██████████| 99/99 [00:08<00:00, 11.90it/s]\n",
      "  0%|          | 0/99 [00:00<?, ?it/s]"
     ]
    },
    {
     "name": "stdout",
     "output_type": "stream",
     "text": [
      "initial_potential =  32730.899027815085\n",
      "final_potential =  32602.718528813486\n",
      "energy_change =  -0.03371927757689264\n",
      "p accept =  1.034294216391854\n",
      "current step size = 0.0013027354983038138\n",
      "current acceptance ratio = 0.7260869565217392\n",
      "currently working on step 231\n"
     ]
    },
    {
     "name": "stderr",
     "output_type": "stream",
     "text": [
      "100%|██████████| 99/99 [00:08<00:00, 12.27it/s]\n",
      "  0%|          | 0/101 [00:00<?, ?it/s]"
     ]
    },
    {
     "name": "stdout",
     "output_type": "stream",
     "text": [
      "initial_potential =  32602.718528813486\n",
      "final_potential =  32530.593185143\n",
      "energy_change =  -0.5085443677089643\n",
      "p accept =  1.6628689067167364\n",
      "current step size = 0.0013027354983038138\n",
      "current acceptance ratio = 0.7272727272727273\n",
      "currently working on step 232\n"
     ]
    },
    {
     "name": "stderr",
     "output_type": "stream",
     "text": [
      "100%|██████████| 101/101 [00:08<00:00, 11.81it/s]\n",
      "  0%|          | 0/98 [00:00<?, ?it/s]"
     ]
    },
    {
     "name": "stdout",
     "output_type": "stream",
     "text": [
      "initial_potential =  32530.593185143\n",
      "final_potential =  32798.98249373709\n",
      "energy_change =  0.5588090034434572\n",
      "p accept =  0.5718897771600653\n",
      "current step size = 0.0013027354983038138\n",
      "current acceptance ratio = 0.728448275862069\n",
      "currently working on step 233\n"
     ]
    },
    {
     "name": "stderr",
     "output_type": "stream",
     "text": [
      "100%|██████████| 98/98 [00:08<00:00, 11.89it/s]\n",
      "  0%|          | 0/101 [00:00<?, ?it/s]"
     ]
    },
    {
     "name": "stdout",
     "output_type": "stream",
     "text": [
      "initial_potential =  32798.98249373709\n",
      "final_potential =  32706.329870169957\n",
      "energy_change =  -0.04739820946997497\n",
      "p accept =  1.0485394643011552\n",
      "current step size = 0.0013027354983038138\n",
      "current acceptance ratio = 0.7296137339055794\n",
      "currently working on step 234\n"
     ]
    },
    {
     "name": "stderr",
     "output_type": "stream",
     "text": [
      "100%|██████████| 101/101 [00:08<00:00, 12.23it/s]\n",
      "  0%|          | 0/97 [00:00<?, ?it/s]"
     ]
    },
    {
     "name": "stdout",
     "output_type": "stream",
     "text": [
      "initial_potential =  32706.329870169957\n",
      "final_potential =  32831.82933486834\n",
      "energy_change =  0.11883778183255345\n",
      "p accept =  0.8879518309982791\n",
      "current step size = 0.0013027354983038138\n",
      "current acceptance ratio = 0.7307692307692307\n",
      "currently working on step 235\n"
     ]
    },
    {
     "name": "stderr",
     "output_type": "stream",
     "text": [
      "100%|██████████| 97/97 [00:08<00:00, 11.85it/s]\n",
      "  0%|          | 0/99 [00:00<?, ?it/s]"
     ]
    },
    {
     "name": "stdout",
     "output_type": "stream",
     "text": [
      "initial_potential =  32831.82933486834\n",
      "final_potential =  32865.26938445727\n",
      "energy_change =  -0.04327095072949305\n",
      "p accept =  1.0442207889082127\n",
      "current step size = 0.0013027354983038138\n",
      "current acceptance ratio = 0.7319148936170212\n",
      "currently working on step 236\n"
     ]
    },
    {
     "name": "stderr",
     "output_type": "stream",
     "text": [
      "100%|██████████| 99/99 [00:08<00:00, 11.93it/s]\n",
      "  0%|          | 0/97 [00:00<?, ?it/s]"
     ]
    },
    {
     "name": "stdout",
     "output_type": "stream",
     "text": [
      "initial_potential =  32865.26938445727\n",
      "final_potential =  32802.33345537688\n",
      "energy_change =  -0.1732201377308229\n",
      "p accept =  1.1891278481793661\n",
      "current step size = 0.0013027354983038138\n",
      "current acceptance ratio = 0.7330508474576272\n",
      "currently working on step 237\n"
     ]
    },
    {
     "name": "stderr",
     "output_type": "stream",
     "text": [
      "100%|██████████| 97/97 [00:07<00:00, 12.18it/s]\n",
      "  0%|          | 0/97 [00:00<?, ?it/s]"
     ]
    },
    {
     "name": "stdout",
     "output_type": "stream",
     "text": [
      "initial_potential =  32802.33345537688\n",
      "final_potential =  32807.042527716854\n",
      "energy_change =  0.1303990647138562\n",
      "p accept =  0.877745083928893\n",
      "current step size = 0.0013027354983038138\n",
      "current acceptance ratio = 0.7341772151898734\n",
      "currently working on step 238\n"
     ]
    },
    {
     "name": "stderr",
     "output_type": "stream",
     "text": [
      "100%|██████████| 97/97 [00:08<00:00, 11.89it/s]\n",
      "  0%|          | 0/98 [00:00<?, ?it/s]"
     ]
    },
    {
     "name": "stdout",
     "output_type": "stream",
     "text": [
      "initial_potential =  32807.042527716854\n",
      "final_potential =  32836.464399347286\n",
      "energy_change =  -0.025309028176707216\n",
      "p accept =  1.0256320207497023\n",
      "current step size = 0.0013027354983038138\n",
      "current acceptance ratio = 0.7352941176470589\n",
      "currently working on step 239\n"
     ]
    },
    {
     "name": "stderr",
     "output_type": "stream",
     "text": [
      "100%|██████████| 98/98 [00:08<00:00, 11.69it/s]\n",
      "  0%|          | 0/101 [00:00<?, ?it/s]"
     ]
    },
    {
     "name": "stdout",
     "output_type": "stream",
     "text": [
      "initial_potential =  32836.464399347286\n",
      "final_potential =  32947.90218076272\n",
      "energy_change =  0.280549828268704\n",
      "p accept =  0.7553683044096281\n",
      "current step size = 0.0013027354983038138\n",
      "current acceptance ratio = 0.7364016736401674\n",
      "currently working on step 240\n"
     ]
    },
    {
     "name": "stderr",
     "output_type": "stream",
     "text": [
      "100%|██████████| 101/101 [00:08<00:00, 11.91it/s]\n",
      "  0%|          | 0/98 [00:00<?, ?it/s]"
     ]
    },
    {
     "name": "stdout",
     "output_type": "stream",
     "text": [
      "initial_potential =  32947.90218076272\n",
      "final_potential =  32847.614737305485\n",
      "energy_change =  -0.052153005395666696\n",
      "p accept =  1.0535369270163686\n",
      "current step size = 0.0013027354983038138\n",
      "current acceptance ratio = 0.7375\n",
      "currently working on step 241\n"
     ]
    },
    {
     "name": "stderr",
     "output_type": "stream",
     "text": [
      "100%|██████████| 98/98 [00:08<00:00, 11.14it/s]\n",
      "  0%|          | 0/97 [00:00<?, ?it/s]"
     ]
    },
    {
     "name": "stdout",
     "output_type": "stream",
     "text": [
      "initial_potential =  32847.614737305485\n",
      "final_potential =  32922.57568198977\n",
      "energy_change =  0.16027374895929825\n",
      "p accept =  0.8519105474170816\n",
      "current step size = 0.0013027354983038138\n",
      "current acceptance ratio = 0.7385892116182573\n",
      "currently working on step 242\n"
     ]
    },
    {
     "name": "stderr",
     "output_type": "stream",
     "text": [
      "100%|██████████| 97/97 [00:09<00:00, 10.55it/s]\n",
      "  0%|          | 0/97 [00:00<?, ?it/s]"
     ]
    },
    {
     "name": "stdout",
     "output_type": "stream",
     "text": [
      "initial_potential =  32922.57568198977\n",
      "final_potential =  32933.46230013126\n",
      "energy_change =  -0.37704589078202844\n",
      "p accept =  1.457971215275276\n",
      "current step size = 0.0013027354983038138\n",
      "current acceptance ratio = 0.7396694214876033\n",
      "currently working on step 243\n"
     ]
    },
    {
     "name": "stderr",
     "output_type": "stream",
     "text": [
      "100%|██████████| 97/97 [00:08<00:00, 10.89it/s]\n",
      "  0%|          | 0/97 [00:00<?, ?it/s]"
     ]
    },
    {
     "name": "stdout",
     "output_type": "stream",
     "text": [
      "initial_potential =  32933.46230013126\n",
      "final_potential =  32951.252140442666\n",
      "energy_change =  -0.1334913310565753\n",
      "p accept =  1.1428113591251503\n",
      "current step size = 0.0013027354983038138\n",
      "current acceptance ratio = 0.7407407407407407\n",
      "currently working on step 244\n"
     ]
    },
    {
     "name": "stderr",
     "output_type": "stream",
     "text": [
      "100%|██████████| 97/97 [00:08<00:00, 12.05it/s]\n",
      "  0%|          | 0/98 [00:00<?, ?it/s]"
     ]
    },
    {
     "name": "stdout",
     "output_type": "stream",
     "text": [
      "initial_potential =  32951.252140442666\n",
      "final_potential =  32997.06307808718\n",
      "energy_change =  0.024370010301936418\n",
      "p accept =  0.9759245408099019\n",
      "current step size = 0.0013027354983038138\n",
      "current acceptance ratio = 0.7418032786885246\n",
      "currently working on step 245\n"
     ]
    },
    {
     "name": "stderr",
     "output_type": "stream",
     "text": [
      "100%|██████████| 98/98 [00:09<00:00, 10.76it/s]\n",
      "  0%|          | 0/101 [00:00<?, ?it/s]"
     ]
    },
    {
     "name": "stdout",
     "output_type": "stream",
     "text": [
      "initial_potential =  32997.06307808718\n",
      "final_potential =  32793.72877608241\n",
      "energy_change =  0.0850331877154531\n",
      "p accept =  0.9184818015829528\n",
      "current step size = 0.0013027354983038138\n",
      "current acceptance ratio = 0.7428571428571429\n",
      "currently working on step 246\n"
     ]
    },
    {
     "name": "stderr",
     "output_type": "stream",
     "text": [
      "100%|██████████| 101/101 [00:08<00:00, 12.04it/s]\n",
      "  0%|          | 0/101 [00:00<?, ?it/s]"
     ]
    },
    {
     "name": "stdout",
     "output_type": "stream",
     "text": [
      "initial_potential =  32793.72877608241\n",
      "final_potential =  32936.33452830219\n",
      "energy_change =  0.02216084982501343\n",
      "p accept =  0.978082897934744\n",
      "current step size = 0.0013027354983038138\n",
      "current acceptance ratio = 0.7439024390243902\n",
      "currently working on step 247\n"
     ]
    },
    {
     "name": "stderr",
     "output_type": "stream",
     "text": [
      "100%|██████████| 101/101 [00:08<00:00, 11.33it/s]\n",
      "  0%|          | 0/101 [00:00<?, ?it/s]"
     ]
    },
    {
     "name": "stdout",
     "output_type": "stream",
     "text": [
      "initial_potential =  32936.33452830219\n",
      "final_potential =  32988.36451490299\n",
      "energy_change =  0.40069667421630584\n",
      "p accept =  0.6698532139767044\n",
      "current step size = 0.0013027354983038138\n",
      "current acceptance ratio = 0.7449392712550608\n",
      "currently working on step 248\n"
     ]
    },
    {
     "name": "stderr",
     "output_type": "stream",
     "text": [
      "100%|██████████| 101/101 [00:09<00:00, 11.12it/s]\n",
      "  0%|          | 0/98 [00:00<?, ?it/s]"
     ]
    },
    {
     "name": "stdout",
     "output_type": "stream",
     "text": [
      "initial_potential =  32988.36451490299\n",
      "final_potential =  32787.677238568845\n",
      "energy_change =  -0.28464483632706106\n",
      "p accept =  1.3292898288144153\n",
      "current step size = 0.0013027354983038138\n",
      "current acceptance ratio = 0.7459677419354839\n",
      "currently working on step 249\n"
     ]
    },
    {
     "name": "stderr",
     "output_type": "stream",
     "text": [
      "100%|██████████| 98/98 [00:09<00:00, 10.88it/s]\n",
      "  0%|          | 0/98 [00:00<?, ?it/s]"
     ]
    },
    {
     "name": "stdout",
     "output_type": "stream",
     "text": [
      "initial_potential =  32787.677238568845\n",
      "final_potential =  32618.41045866992\n",
      "energy_change =  -0.9018157860991778\n",
      "p accept =  2.4640732815040627\n",
      "current step size = 0.0013027354983038138\n",
      "current acceptance ratio = 0.7469879518072289\n",
      "currently working on step 250\n"
     ]
    },
    {
     "name": "stderr",
     "output_type": "stream",
     "text": [
      "100%|██████████| 98/98 [00:09<00:00, 10.67it/s]\n",
      "  0%|          | 0/100 [00:00<?, ?it/s]"
     ]
    },
    {
     "name": "stdout",
     "output_type": "stream",
     "text": [
      "initial_potential =  32618.41045866992\n",
      "final_potential =  32788.68163424225\n",
      "energy_change =  0.7928101324505406\n",
      "p accept =  0.45257122158910673\n",
      "current step size = 0.0013027354983038138\n",
      "current acceptance ratio = 0.744\n",
      "currently working on step 251\n"
     ]
    },
    {
     "name": "stderr",
     "output_type": "stream",
     "text": [
      "100%|██████████| 100/100 [00:09<00:00, 10.84it/s]\n",
      "  0%|          | 0/101 [00:00<?, ?it/s]"
     ]
    },
    {
     "name": "stdout",
     "output_type": "stream",
     "text": [
      "initial_potential =  32618.41045866992\n",
      "final_potential =  32852.64047770871\n",
      "energy_change =  0.9199077313533053\n",
      "p accept =  0.39855581359356584\n",
      "current step size = 0.0013027354983038138\n",
      "current acceptance ratio = 0.7410358565737052\n",
      "currently working on step 252\n"
     ]
    },
    {
     "name": "stderr",
     "output_type": "stream",
     "text": [
      "100%|██████████| 101/101 [00:09<00:00, 10.76it/s]\n",
      "  0%|          | 0/97 [00:00<?, ?it/s]"
     ]
    },
    {
     "name": "stdout",
     "output_type": "stream",
     "text": [
      "initial_potential =  32618.41045866992\n",
      "final_potential =  33030.46646274235\n",
      "energy_change =  1.3520117705047596\n",
      "p accept =  0.25871925298551923\n",
      "current step size = 0.0013027354983038138\n",
      "current acceptance ratio = 0.7380952380952381\n",
      "currently working on step 253\n"
     ]
    },
    {
     "name": "stderr",
     "output_type": "stream",
     "text": [
      "100%|██████████| 97/97 [00:08<00:00, 10.98it/s]\n",
      "  0%|          | 0/97 [00:00<?, ?it/s]"
     ]
    },
    {
     "name": "stdout",
     "output_type": "stream",
     "text": [
      "initial_potential =  32618.41045866992\n",
      "final_potential =  32532.67264946563\n",
      "energy_change =  -0.08305134605325293\n",
      "p accept =  1.0865975996141146\n",
      "current step size = 0.0013027354983038138\n",
      "current acceptance ratio = 0.7391304347826086\n",
      "currently working on step 254\n"
     ]
    },
    {
     "name": "stderr",
     "output_type": "stream",
     "text": [
      "100%|██████████| 97/97 [00:08<00:00, 10.85it/s]\n",
      "  0%|          | 0/97 [00:00<?, ?it/s]"
     ]
    },
    {
     "name": "stdout",
     "output_type": "stream",
     "text": [
      "initial_potential =  32532.67264946563\n",
      "final_potential =  32596.576932179272\n",
      "energy_change =  -0.17077545734355226\n",
      "p accept =  1.1862243611459156\n",
      "current step size = 0.0013027354983038138\n",
      "current acceptance ratio = 0.7401574803149606\n",
      "currently working on step 255\n"
     ]
    },
    {
     "name": "stderr",
     "output_type": "stream",
     "text": [
      "100%|██████████| 97/97 [00:09<00:00, 10.69it/s]\n",
      "  0%|          | 0/100 [00:00<?, ?it/s]"
     ]
    },
    {
     "name": "stdout",
     "output_type": "stream",
     "text": [
      "initial_potential =  32596.576932179272\n",
      "final_potential =  32637.408164528497\n",
      "energy_change =  -0.15785929981211666\n",
      "p accept =  1.1710014229960086\n",
      "current step size = 0.0013027354983038138\n",
      "current acceptance ratio = 0.7411764705882353\n",
      "currently working on step 256\n"
     ]
    },
    {
     "name": "stderr",
     "output_type": "stream",
     "text": [
      "100%|██████████| 100/100 [00:09<00:00, 10.43it/s]\n",
      "  0%|          | 0/99 [00:00<?, ?it/s]"
     ]
    },
    {
     "name": "stdout",
     "output_type": "stream",
     "text": [
      "initial_potential =  32637.408164528497\n",
      "final_potential =  32550.00944402529\n",
      "energy_change =  -0.046431530703557655\n",
      "p accept =  1.047526353220643\n",
      "current step size = 0.0013027354983038138\n",
      "current acceptance ratio = 0.7421875\n",
      "currently working on step 257\n"
     ]
    },
    {
     "name": "stderr",
     "output_type": "stream",
     "text": [
      "100%|██████████| 99/99 [00:09<00:00, 10.04it/s]\n",
      "  0%|          | 0/101 [00:00<?, ?it/s]"
     ]
    },
    {
     "name": "stdout",
     "output_type": "stream",
     "text": [
      "initial_potential =  32550.00944402529\n",
      "final_potential =  32522.478890791695\n",
      "energy_change =  -0.21803522390837315\n",
      "p accept =  1.243630872387469\n",
      "current step size = 0.0013027354983038138\n",
      "current acceptance ratio = 0.7431906614785992\n",
      "currently working on step 258\n"
     ]
    },
    {
     "name": "stderr",
     "output_type": "stream",
     "text": [
      "100%|██████████| 101/101 [00:08<00:00, 11.37it/s]\n",
      "  0%|          | 0/98 [00:00<?, ?it/s]"
     ]
    },
    {
     "name": "stdout",
     "output_type": "stream",
     "text": [
      "initial_potential =  32522.478890791695\n",
      "final_potential =  32835.146405011896\n",
      "energy_change =  1.5305326139059616\n",
      "p accept =  0.2164203681161621\n",
      "current step size = 0.0013027354983038138\n",
      "current acceptance ratio = 0.7441860465116279\n",
      "currently working on step 259\n"
     ]
    },
    {
     "name": "stderr",
     "output_type": "stream",
     "text": [
      "100%|██████████| 98/98 [00:08<00:00, 11.45it/s]\n",
      "  0%|          | 0/101 [00:00<?, ?it/s]"
     ]
    },
    {
     "name": "stdout",
     "output_type": "stream",
     "text": [
      "initial_potential =  32835.146405011896\n",
      "final_potential =  32854.3138340489\n",
      "energy_change =  -0.0034366351464996114\n",
      "p accept =  1.0034425471475883\n",
      "current step size = 0.0013027354983038138\n",
      "current acceptance ratio = 0.7451737451737451\n",
      "currently working on step 260\n"
     ]
    },
    {
     "name": "stderr",
     "output_type": "stream",
     "text": [
      "100%|██████████| 101/101 [00:09<00:00, 10.52it/s]\n",
      "  0%|          | 0/98 [00:00<?, ?it/s]"
     ]
    },
    {
     "name": "stdout",
     "output_type": "stream",
     "text": [
      "initial_potential =  32854.3138340489\n",
      "final_potential =  32735.825348857245\n",
      "energy_change =  -0.017484322073869407\n",
      "p accept =  1.0176380675712438\n",
      "current step size = 0.0013027354983038138\n",
      "current acceptance ratio = 0.7461538461538462\n",
      "currently working on step 261\n"
     ]
    },
    {
     "name": "stderr",
     "output_type": "stream",
     "text": [
      "100%|██████████| 98/98 [00:09<00:00, 10.43it/s]\n",
      "  0%|          | 0/98 [00:00<?, ?it/s]"
     ]
    },
    {
     "name": "stdout",
     "output_type": "stream",
     "text": [
      "initial_potential =  32735.825348857245\n",
      "final_potential =  32807.515327128276\n",
      "energy_change =  0.0807510296581313\n",
      "p accept =  0.922423318907264\n",
      "current step size = 0.0013027354983038138\n",
      "current acceptance ratio = 0.7471264367816092\n",
      "currently working on step 262\n"
     ]
    },
    {
     "name": "stderr",
     "output_type": "stream",
     "text": [
      "100%|██████████| 98/98 [00:09<00:00, 10.04it/s]\n",
      "  0%|          | 0/101 [00:00<?, ?it/s]"
     ]
    },
    {
     "name": "stdout",
     "output_type": "stream",
     "text": [
      "initial_potential =  32807.515327128276\n",
      "final_potential =  32948.95354400965\n",
      "energy_change =  0.18372549176274333\n",
      "p accept =  0.8321642084057258\n",
      "current step size = 0.0013027354983038138\n",
      "current acceptance ratio = 0.7480916030534351\n",
      "currently working on step 263\n"
     ]
    },
    {
     "name": "stderr",
     "output_type": "stream",
     "text": [
      "100%|██████████| 101/101 [00:09<00:00, 10.89it/s]\n",
      "  0%|          | 0/97 [00:00<?, ?it/s]"
     ]
    },
    {
     "name": "stdout",
     "output_type": "stream",
     "text": [
      "initial_potential =  32948.95354400965\n",
      "final_potential =  33015.307542997434\n",
      "energy_change =  0.45015762823459227\n",
      "p accept =  0.6375276513429556\n",
      "current step size = 0.0013027354983038138\n",
      "current acceptance ratio = 0.7452471482889734\n",
      "currently working on step 264\n"
     ]
    },
    {
     "name": "stderr",
     "output_type": "stream",
     "text": [
      "100%|██████████| 97/97 [00:08<00:00, 11.53it/s]\n",
      "  0%|          | 0/101 [00:00<?, ?it/s]"
     ]
    },
    {
     "name": "stdout",
     "output_type": "stream",
     "text": [
      "initial_potential =  32948.95354400965\n",
      "final_potential =  32956.86880081536\n",
      "energy_change =  -0.14288023707922548\n",
      "p accept =  1.153591635888912\n",
      "current step size = 0.0013027354983038138\n",
      "current acceptance ratio = 0.7462121212121212\n",
      "currently working on step 265\n"
     ]
    },
    {
     "name": "stderr",
     "output_type": "stream",
     "text": [
      "100%|██████████| 101/101 [00:08<00:00, 11.50it/s]\n",
      "  0%|          | 0/100 [00:00<?, ?it/s]"
     ]
    },
    {
     "name": "stdout",
     "output_type": "stream",
     "text": [
      "initial_potential =  32956.86880081536\n",
      "final_potential =  33147.11483246385\n",
      "energy_change =  0.5585559575119987\n",
      "p accept =  0.5720345098526556\n",
      "current step size = 0.0013027354983038138\n",
      "current acceptance ratio = 0.7433962264150943\n",
      "currently working on step 266\n"
     ]
    },
    {
     "name": "stderr",
     "output_type": "stream",
     "text": [
      "100%|██████████| 100/100 [00:08<00:00, 11.95it/s]\n",
      "  0%|          | 0/99 [00:00<?, ?it/s]"
     ]
    },
    {
     "name": "stdout",
     "output_type": "stream",
     "text": [
      "initial_potential =  32956.86880081536\n",
      "final_potential =  32793.163100292695\n",
      "energy_change =  -0.6381610386597458\n",
      "p accept =  1.8929965290600181\n",
      "current step size = 0.0013027354983038138\n",
      "current acceptance ratio = 0.7443609022556391\n",
      "currently working on step 267\n"
     ]
    },
    {
     "name": "stderr",
     "output_type": "stream",
     "text": [
      "100%|██████████| 99/99 [00:09<00:00, 10.70it/s]\n",
      "  0%|          | 0/98 [00:00<?, ?it/s]"
     ]
    },
    {
     "name": "stdout",
     "output_type": "stream",
     "text": [
      "initial_potential =  32793.163100292695\n",
      "final_potential =  32836.93389616068\n",
      "energy_change =  -0.3159497925080359\n",
      "p accept =  1.3715613912397742\n",
      "current step size = 0.0013027354983038138\n",
      "current acceptance ratio = 0.7453183520599251\n",
      "currently working on step 268\n"
     ]
    },
    {
     "name": "stderr",
     "output_type": "stream",
     "text": [
      "100%|██████████| 98/98 [00:09<00:00, 10.50it/s]\n",
      "  0%|          | 0/101 [00:00<?, ?it/s]"
     ]
    },
    {
     "name": "stdout",
     "output_type": "stream",
     "text": [
      "initial_potential =  32836.93389616068\n",
      "final_potential =  32877.1792220802\n",
      "energy_change =  0.001690247721853666\n",
      "p accept =  0.998311179942345\n",
      "current step size = 0.0013027354983038138\n",
      "current acceptance ratio = 0.746268656716418\n",
      "currently working on step 269\n"
     ]
    },
    {
     "name": "stderr",
     "output_type": "stream",
     "text": [
      "100%|██████████| 101/101 [00:08<00:00, 11.33it/s]\n",
      "  0%|          | 0/99 [00:00<?, ?it/s]"
     ]
    },
    {
     "name": "stdout",
     "output_type": "stream",
     "text": [
      "initial_potential =  32877.1792220802\n",
      "final_potential =  33020.028373754314\n",
      "energy_change =  1.079704821910127\n",
      "p accept =  0.33969578159948105\n",
      "current step size = 0.0013027354983038138\n",
      "current acceptance ratio = 0.7434944237918215\n",
      "currently working on step 270\n"
     ]
    },
    {
     "name": "stderr",
     "output_type": "stream",
     "text": [
      "100%|██████████| 99/99 [00:08<00:00, 11.85it/s]\n",
      "  0%|          | 0/101 [00:00<?, ?it/s]"
     ]
    },
    {
     "name": "stdout",
     "output_type": "stream",
     "text": [
      "initial_potential =  32877.1792220802\n",
      "final_potential =  32811.40198449529\n",
      "energy_change =  0.3719594704307383\n",
      "p accept =  0.6893821823209308\n",
      "current step size = 0.0013027354983038138\n",
      "current acceptance ratio = 0.7444444444444445\n",
      "currently working on step 271\n"
     ]
    },
    {
     "name": "stderr",
     "output_type": "stream",
     "text": [
      "100%|██████████| 101/101 [00:08<00:00, 11.45it/s]\n",
      "  0%|          | 0/97 [00:00<?, ?it/s]"
     ]
    },
    {
     "name": "stdout",
     "output_type": "stream",
     "text": [
      "initial_potential =  32811.40198449529\n",
      "final_potential =  33040.68906997961\n",
      "energy_change =  1.0622080580506008\n",
      "p accept =  0.34569165974377697\n",
      "current step size = 0.0013027354983038138\n",
      "current acceptance ratio = 0.7416974169741697\n",
      "currently working on step 272\n"
     ]
    },
    {
     "name": "stderr",
     "output_type": "stream",
     "text": [
      "100%|██████████| 97/97 [00:08<00:00, 11.93it/s]\n",
      "  0%|          | 0/100 [00:00<?, ?it/s]"
     ]
    },
    {
     "name": "stdout",
     "output_type": "stream",
     "text": [
      "initial_potential =  32811.40198449529\n",
      "final_potential =  32502.51656223373\n",
      "energy_change =  -0.8409004588029347\n",
      "p accept =  2.318453709183444\n",
      "current step size = 0.0013027354983038138\n",
      "current acceptance ratio = 0.7426470588235294\n",
      "currently working on step 273\n"
     ]
    },
    {
     "name": "stderr",
     "output_type": "stream",
     "text": [
      "100%|██████████| 100/100 [00:08<00:00, 11.71it/s]\n",
      "  0%|          | 0/97 [00:00<?, ?it/s]"
     ]
    },
    {
     "name": "stdout",
     "output_type": "stream",
     "text": [
      "initial_potential =  32502.51656223373\n",
      "final_potential =  32669.933048805528\n",
      "energy_change =  0.13029769442800898\n",
      "p accept =  0.87783406570893\n",
      "current step size = 0.0013027354983038138\n",
      "current acceptance ratio = 0.7435897435897436\n",
      "currently working on step 274\n"
     ]
    },
    {
     "name": "stderr",
     "output_type": "stream",
     "text": [
      "100%|██████████| 97/97 [00:08<00:00, 12.01it/s]\n",
      "  0%|          | 0/100 [00:00<?, ?it/s]"
     ]
    },
    {
     "name": "stdout",
     "output_type": "stream",
     "text": [
      "initial_potential =  32669.933048805528\n",
      "final_potential =  32603.319540501132\n",
      "energy_change =  0.08517377692623995\n",
      "p accept =  0.918352682027967\n",
      "current step size = 0.0013027354983038138\n",
      "current acceptance ratio = 0.7445255474452555\n",
      "currently working on step 275\n"
     ]
    },
    {
     "name": "stderr",
     "output_type": "stream",
     "text": [
      "100%|██████████| 100/100 [00:08<00:00, 12.00it/s]\n",
      "  0%|          | 0/101 [00:00<?, ?it/s]"
     ]
    },
    {
     "name": "stdout",
     "output_type": "stream",
     "text": [
      "initial_potential =  32603.319540501132\n",
      "final_potential =  32818.9569410863\n",
      "energy_change =  1.274445974995615\n",
      "p accept =  0.27958582285751077\n",
      "current step size = 0.0013027354983038138\n",
      "current acceptance ratio = 0.7418181818181818\n",
      "currently working on step 276\n"
     ]
    },
    {
     "name": "stderr",
     "output_type": "stream",
     "text": [
      "100%|██████████| 101/101 [00:08<00:00, 11.99it/s]\n",
      "  0%|          | 0/98 [00:00<?, ?it/s]"
     ]
    },
    {
     "name": "stdout",
     "output_type": "stream",
     "text": [
      "initial_potential =  32603.319540501132\n",
      "final_potential =  32666.1607189092\n",
      "energy_change =  -0.07942455243028235\n",
      "p accept =  1.082663872089948\n",
      "current step size = 0.0013027354983038138\n",
      "current acceptance ratio = 0.7427536231884058\n",
      "currently working on step 277\n"
     ]
    },
    {
     "name": "stderr",
     "output_type": "stream",
     "text": [
      "100%|██████████| 98/98 [00:09<00:00, 10.76it/s]\n",
      "  0%|          | 0/101 [00:00<?, ?it/s]"
     ]
    },
    {
     "name": "stdout",
     "output_type": "stream",
     "text": [
      "initial_potential =  32666.1607189092\n",
      "final_potential =  32578.525452609927\n",
      "energy_change =  -0.46423020560177974\n",
      "p accept =  1.5907891368621974\n",
      "current step size = 0.0013027354983038138\n",
      "current acceptance ratio = 0.7436823104693141\n",
      "currently working on step 278\n"
     ]
    },
    {
     "name": "stderr",
     "output_type": "stream",
     "text": [
      "100%|██████████| 101/101 [00:09<00:00, 10.94it/s]\n",
      "  0%|          | 0/99 [00:00<?, ?it/s]"
     ]
    },
    {
     "name": "stdout",
     "output_type": "stream",
     "text": [
      "initial_potential =  32578.525452609927\n",
      "final_potential =  32644.75189871643\n",
      "energy_change =  0.5180997530551394\n",
      "p accept =  0.5956513578939092\n",
      "current step size = 0.0013027354983038138\n",
      "current acceptance ratio = 0.7446043165467626\n",
      "currently working on step 279\n"
     ]
    },
    {
     "name": "stderr",
     "output_type": "stream",
     "text": [
      "100%|██████████| 99/99 [00:09<00:00, 10.83it/s]\n",
      "  0%|          | 0/98 [00:00<?, ?it/s]"
     ]
    },
    {
     "name": "stdout",
     "output_type": "stream",
     "text": [
      "initial_potential =  32644.75189871643\n",
      "final_potential =  32574.9682943352\n",
      "energy_change =  -0.4592629618709907\n",
      "p accept =  1.5829068922171405\n",
      "current step size = 0.0013027354983038138\n",
      "current acceptance ratio = 0.7455197132616488\n",
      "currently working on step 280\n"
     ]
    },
    {
     "name": "stderr",
     "output_type": "stream",
     "text": [
      "100%|██████████| 98/98 [00:08<00:00, 11.17it/s]\n",
      "  0%|          | 0/100 [00:00<?, ?it/s]"
     ]
    },
    {
     "name": "stdout",
     "output_type": "stream",
     "text": [
      "initial_potential =  32574.9682943352\n",
      "final_potential =  32500.237678999416\n",
      "energy_change =  0.13018647870921995\n",
      "p accept =  0.8779317000846633\n",
      "current step size = 0.0013027354983038138\n",
      "current acceptance ratio = 0.7428571428571429\n",
      "currently working on step 281\n"
     ]
    },
    {
     "name": "stderr",
     "output_type": "stream",
     "text": [
      "100%|██████████| 100/100 [00:09<00:00, 10.34it/s]\n",
      "  0%|          | 0/100 [00:00<?, ?it/s]"
     ]
    },
    {
     "name": "stdout",
     "output_type": "stream",
     "text": [
      "initial_potential =  32574.9682943352\n",
      "final_potential =  32774.37181228184\n",
      "energy_change =  0.8043989492580295\n",
      "p accept =  0.4473567298634613\n",
      "current step size = 0.0013027354983038138\n",
      "current acceptance ratio = 0.7402135231316725\n",
      "currently working on step 282\n"
     ]
    },
    {
     "name": "stderr",
     "output_type": "stream",
     "text": [
      "100%|██████████| 100/100 [00:09<00:00, 10.33it/s]\n",
      "  0%|          | 0/97 [00:00<?, ?it/s]"
     ]
    },
    {
     "name": "stdout",
     "output_type": "stream",
     "text": [
      "initial_potential =  32574.9682943352\n",
      "final_potential =  32714.771835733107\n",
      "energy_change =  0.4638478568813298\n",
      "p accept =  0.6288592237927114\n",
      "current step size = 0.0013027354983038138\n",
      "current acceptance ratio = 0.7411347517730497\n",
      "currently working on step 283\n"
     ]
    },
    {
     "name": "stderr",
     "output_type": "stream",
     "text": [
      "100%|██████████| 97/97 [00:08<00:00, 10.88it/s]\n",
      "  0%|          | 0/99 [00:00<?, ?it/s]"
     ]
    },
    {
     "name": "stdout",
     "output_type": "stream",
     "text": [
      "initial_potential =  32714.771835733107\n",
      "final_potential =  32668.797623044782\n",
      "energy_change =  0.3332388233684469\n",
      "p accept =  0.716599033122969\n",
      "current step size = 0.0013027354983038138\n",
      "current acceptance ratio = 0.7385159010600707\n",
      "currently working on step 284\n"
     ]
    },
    {
     "name": "stderr",
     "output_type": "stream",
     "text": [
      "100%|██████████| 99/99 [00:09<00:00, 10.28it/s]\n",
      "  0%|          | 0/100 [00:00<?, ?it/s]"
     ]
    },
    {
     "name": "stdout",
     "output_type": "stream",
     "text": [
      "initial_potential =  32714.771835733107\n",
      "final_potential =  32663.195982626894\n",
      "energy_change =  0.022863608624902554\n",
      "p accept =  0.9773957830374984\n",
      "current step size = 0.0013027354983038138\n",
      "current acceptance ratio = 0.7394366197183099\n",
      "currently working on step 285\n"
     ]
    },
    {
     "name": "stderr",
     "output_type": "stream",
     "text": [
      "100%|██████████| 100/100 [00:09<00:00, 10.64it/s]\n",
      "  0%|          | 0/97 [00:00<?, ?it/s]"
     ]
    },
    {
     "name": "stdout",
     "output_type": "stream",
     "text": [
      "initial_potential =  32663.195982626894\n",
      "final_potential =  32732.0529129003\n",
      "energy_change =  -0.2287830053101061\n",
      "p accept =  1.2570692320638934\n",
      "current step size = 0.0013027354983038138\n",
      "current acceptance ratio = 0.7403508771929824\n",
      "currently working on step 286\n"
     ]
    },
    {
     "name": "stderr",
     "output_type": "stream",
     "text": [
      "100%|██████████| 97/97 [00:09<00:00, 10.36it/s]\n",
      "  0%|          | 0/99 [00:00<?, ?it/s]"
     ]
    },
    {
     "name": "stdout",
     "output_type": "stream",
     "text": [
      "initial_potential =  32732.0529129003\n",
      "final_potential =  32715.999445296104\n",
      "energy_change =  0.43303956765157636\n",
      "p accept =  0.6485348302970962\n",
      "current step size = 0.0013027354983038138\n",
      "current acceptance ratio = 0.7412587412587412\n",
      "currently working on step 287\n"
     ]
    },
    {
     "name": "stderr",
     "output_type": "stream",
     "text": [
      "100%|██████████| 99/99 [00:09<00:00, 10.97it/s]\n",
      "  0%|          | 0/99 [00:00<?, ?it/s]"
     ]
    },
    {
     "name": "stdout",
     "output_type": "stream",
     "text": [
      "initial_potential =  32715.999445296104\n",
      "final_potential =  32468.33026561219\n",
      "energy_change =  -0.7783563433622476\n",
      "p accept =  2.177889619255656\n",
      "current step size = 0.0013027354983038138\n",
      "current acceptance ratio = 0.7421602787456446\n",
      "currently working on step 288\n"
     ]
    },
    {
     "name": "stderr",
     "output_type": "stream",
     "text": [
      "100%|██████████| 99/99 [00:08<00:00, 11.06it/s]\n",
      "  0%|          | 0/100 [00:00<?, ?it/s]"
     ]
    },
    {
     "name": "stdout",
     "output_type": "stream",
     "text": [
      "initial_potential =  32468.33026561219\n",
      "final_potential =  32738.277923425198\n",
      "energy_change =  0.7029866553930333\n",
      "p accept =  0.49510438721031474\n",
      "current step size = 0.0013027354983038138\n",
      "current acceptance ratio = 0.7395833333333334\n",
      "currently working on step 289\n"
     ]
    },
    {
     "name": "stderr",
     "output_type": "stream",
     "text": [
      "100%|██████████| 100/100 [00:08<00:00, 11.41it/s]\n",
      "  0%|          | 0/99 [00:00<?, ?it/s]"
     ]
    },
    {
     "name": "stdout",
     "output_type": "stream",
     "text": [
      "initial_potential =  32468.33026561219\n",
      "final_potential =  32703.905989480107\n",
      "energy_change =  0.3659565989364637\n",
      "p accept =  0.6935329006220622\n",
      "current step size = 0.0013027354983038138\n",
      "current acceptance ratio = 0.740484429065744\n",
      "currently working on step 290\n"
     ]
    },
    {
     "name": "stderr",
     "output_type": "stream",
     "text": [
      "100%|██████████| 99/99 [00:08<00:00, 11.43it/s]\n",
      "  0%|          | 0/100 [00:00<?, ?it/s]"
     ]
    },
    {
     "name": "stdout",
     "output_type": "stream",
     "text": [
      "initial_potential =  32703.905989480107\n",
      "final_potential =  32847.965516051634\n",
      "energy_change =  0.24000099848490208\n",
      "p accept =  0.7866270756309027\n",
      "current step size = 0.0013027354983038138\n",
      "current acceptance ratio = 0.7413793103448276\n",
      "currently working on step 291\n"
     ]
    },
    {
     "name": "stderr",
     "output_type": "stream",
     "text": [
      "100%|██████████| 100/100 [00:09<00:00, 10.87it/s]\n",
      "  0%|          | 0/99 [00:00<?, ?it/s]"
     ]
    },
    {
     "name": "stdout",
     "output_type": "stream",
     "text": [
      "initial_potential =  32847.965516051634\n",
      "final_potential =  32743.89062653081\n",
      "energy_change =  0.44957633927697316\n",
      "p accept =  0.6378983468570246\n",
      "current step size = 0.0013027354983038138\n",
      "current acceptance ratio = 0.738831615120275\n",
      "currently working on step 292\n"
     ]
    },
    {
     "name": "stderr",
     "output_type": "stream",
     "text": [
      "100%|██████████| 99/99 [00:09<00:00, 10.40it/s]\n",
      "  0%|          | 0/98 [00:00<?, ?it/s]"
     ]
    },
    {
     "name": "stdout",
     "output_type": "stream",
     "text": [
      "initial_potential =  32847.965516051634\n",
      "final_potential =  32792.406524117316\n",
      "energy_change =  0.4391780106816441\n",
      "p accept =  0.6445660297784291\n",
      "current step size = 0.0013027354983038138\n",
      "current acceptance ratio = 0.7397260273972602\n",
      "currently working on step 293\n"
     ]
    },
    {
     "name": "stderr",
     "output_type": "stream",
     "text": [
      "100%|██████████| 98/98 [00:09<00:00, 10.53it/s]\n",
      "  0%|          | 0/98 [00:00<?, ?it/s]"
     ]
    },
    {
     "name": "stdout",
     "output_type": "stream",
     "text": [
      "initial_potential =  32792.406524117316\n",
      "final_potential =  32695.624578883842\n",
      "energy_change =  -0.2973666211764794\n",
      "p accept =  1.3463087942938081\n",
      "current step size = 0.0013027354983038138\n",
      "current acceptance ratio = 0.7406143344709898\n",
      "currently working on step 294\n"
     ]
    },
    {
     "name": "stderr",
     "output_type": "stream",
     "text": [
      "100%|██████████| 98/98 [00:08<00:00, 11.65it/s]\n",
      "  0%|          | 0/97 [00:00<?, ?it/s]"
     ]
    },
    {
     "name": "stdout",
     "output_type": "stream",
     "text": [
      "initial_potential =  32695.624578883842\n",
      "final_potential =  32740.709119662406\n",
      "energy_change =  0.24076535648782738\n",
      "p accept =  0.7860260406625331\n",
      "current step size = 0.0013027354983038138\n",
      "current acceptance ratio = 0.7380952380952381\n",
      "currently working on step 295\n"
     ]
    },
    {
     "name": "stderr",
     "output_type": "stream",
     "text": [
      "100%|██████████| 97/97 [00:08<00:00, 11.43it/s]\n",
      "  0%|          | 0/97 [00:00<?, ?it/s]"
     ]
    },
    {
     "name": "stdout",
     "output_type": "stream",
     "text": [
      "initial_potential =  32695.624578883842\n",
      "final_potential =  32616.038272563375\n",
      "energy_change =  -0.043319914577296004\n",
      "p accept =  1.0442719192277519\n",
      "current step size = 0.0013027354983038138\n",
      "current acceptance ratio = 0.7389830508474576\n",
      "currently working on step 296\n"
     ]
    },
    {
     "name": "stderr",
     "output_type": "stream",
     "text": [
      "100%|██████████| 97/97 [00:09<00:00, 10.71it/s]\n",
      "  0%|          | 0/99 [00:00<?, ?it/s]"
     ]
    },
    {
     "name": "stdout",
     "output_type": "stream",
     "text": [
      "initial_potential =  32616.038272563375\n",
      "final_potential =  32759.63786929362\n",
      "energy_change =  0.634798692073673\n",
      "p accept =  0.5300421792703157\n",
      "current step size = 0.0013027354983038138\n",
      "current acceptance ratio = 0.7364864864864865\n",
      "currently working on step 297\n"
     ]
    },
    {
     "name": "stderr",
     "output_type": "stream",
     "text": [
      "100%|██████████| 99/99 [00:08<00:00, 11.57it/s]\n",
      "  0%|          | 0/97 [00:00<?, ?it/s]"
     ]
    },
    {
     "name": "stdout",
     "output_type": "stream",
     "text": [
      "initial_potential =  32616.038272563375\n",
      "final_potential =  32557.282393365494\n",
      "energy_change =  0.3729131372529082\n",
      "p accept =  0.6887250547960192\n",
      "current step size = 0.0013027354983038138\n",
      "current acceptance ratio = 0.7373737373737373\n",
      "currently working on step 298\n"
     ]
    },
    {
     "name": "stderr",
     "output_type": "stream",
     "text": [
      "100%|██████████| 97/97 [00:08<00:00, 11.23it/s]\n",
      "  0%|          | 0/98 [00:00<?, ?it/s]"
     ]
    },
    {
     "name": "stdout",
     "output_type": "stream",
     "text": [
      "initial_potential =  32557.282393365494\n",
      "final_potential =  32754.141923483432\n",
      "energy_change =  0.3782003650267143\n",
      "p accept =  0.6850932181920615\n",
      "current step size = 0.0013027354983038138\n",
      "current acceptance ratio = 0.738255033557047\n",
      "currently working on step 299\n"
     ]
    },
    {
     "name": "stderr",
     "output_type": "stream",
     "text": [
      "100%|██████████| 98/98 [00:08<00:00, 11.78it/s]\n",
      "  0%|          | 0/100 [00:00<?, ?it/s]"
     ]
    },
    {
     "name": "stdout",
     "output_type": "stream",
     "text": [
      "initial_potential =  32754.141923483432\n",
      "final_potential =  32715.106857483952\n",
      "energy_change =  -0.19473952519183513\n",
      "p accept =  1.2149944698177635\n",
      "current step size = 0.0013027354983038138\n",
      "current acceptance ratio = 0.7391304347826086\n",
      "currently working on step 300\n"
     ]
    },
    {
     "name": "stderr",
     "output_type": "stream",
     "text": [
      "100%|██████████| 100/100 [00:08<00:00, 11.86it/s]\n",
      "  0%|          | 0/97 [00:00<?, ?it/s]"
     ]
    },
    {
     "name": "stdout",
     "output_type": "stream",
     "text": [
      "initial_potential =  32715.106857483952\n",
      "final_potential =  32858.865281724575\n",
      "energy_change =  0.6699286496586865\n",
      "p accept =  0.5117450896707728\n",
      "current step size = 0.0013027354983038138\n",
      "current acceptance ratio = 0.74\n",
      "currently working on step 301\n"
     ]
    },
    {
     "name": "stderr",
     "output_type": "stream",
     "text": [
      "100%|██████████| 97/97 [00:08<00:00, 11.76it/s]\n",
      "  0%|          | 0/100 [00:00<?, ?it/s]"
     ]
    },
    {
     "name": "stdout",
     "output_type": "stream",
     "text": [
      "initial_potential =  32858.865281724575\n",
      "final_potential =  32872.90293173721\n",
      "energy_change =  -0.10316901975602377\n",
      "p accept =  1.1086787818579287\n",
      "current step size = 0.0013027354983038138\n",
      "current acceptance ratio = 0.7408637873754153\n",
      "currently working on step 302\n"
     ]
    },
    {
     "name": "stderr",
     "output_type": "stream",
     "text": [
      "100%|██████████| 100/100 [00:08<00:00, 11.74it/s]\n",
      "  0%|          | 0/97 [00:00<?, ?it/s]"
     ]
    },
    {
     "name": "stdout",
     "output_type": "stream",
     "text": [
      "initial_potential =  32872.90293173721\n",
      "final_potential =  32709.27577978103\n",
      "energy_change =  -0.17014010869024787\n",
      "p accept =  1.1854709344652028\n",
      "current step size = 0.0013027354983038138\n",
      "current acceptance ratio = 0.7417218543046358\n",
      "currently working on step 303\n"
     ]
    },
    {
     "name": "stderr",
     "output_type": "stream",
     "text": [
      "100%|██████████| 97/97 [00:08<00:00, 11.79it/s]\n",
      "  0%|          | 0/99 [00:00<?, ?it/s]"
     ]
    },
    {
     "name": "stdout",
     "output_type": "stream",
     "text": [
      "initial_potential =  32709.27577978103\n",
      "final_potential =  32893.441989644096\n",
      "energy_change =  0.10154305565811228\n",
      "p accept =  0.9034422802028721\n",
      "current step size = 0.0013027354983038138\n",
      "current acceptance ratio = 0.7425742574257426\n",
      "currently working on step 304\n"
     ]
    },
    {
     "name": "stderr",
     "output_type": "stream",
     "text": [
      "100%|██████████| 99/99 [00:08<00:00, 11.78it/s]\n",
      "  0%|          | 0/98 [00:00<?, ?it/s]"
     ]
    },
    {
     "name": "stdout",
     "output_type": "stream",
     "text": [
      "initial_potential =  32893.441989644096\n",
      "final_potential =  32830.1574413097\n",
      "energy_change =  -0.1469689782243222\n",
      "p accept =  1.1583180293904243\n",
      "current step size = 0.0013027354983038138\n",
      "current acceptance ratio = 0.743421052631579\n",
      "currently working on step 305\n"
     ]
    },
    {
     "name": "stderr",
     "output_type": "stream",
     "text": [
      "100%|██████████| 98/98 [00:08<00:00, 11.75it/s]\n",
      "  0%|          | 0/100 [00:00<?, ?it/s]"
     ]
    },
    {
     "name": "stdout",
     "output_type": "stream",
     "text": [
      "initial_potential =  32830.1574413097\n",
      "final_potential =  32778.80040304028\n",
      "energy_change =  -0.07419134944211692\n",
      "p accept =  1.0770128715924068\n",
      "current step size = 0.0013027354983038138\n",
      "current acceptance ratio = 0.7442622950819672\n",
      "currently working on step 306\n"
     ]
    },
    {
     "name": "stderr",
     "output_type": "stream",
     "text": [
      "100%|██████████| 100/100 [00:08<00:00, 11.80it/s]\n",
      "  0%|          | 0/99 [00:00<?, ?it/s]"
     ]
    },
    {
     "name": "stdout",
     "output_type": "stream",
     "text": [
      "initial_potential =  32778.80040304028\n",
      "final_potential =  32756.195067732264\n",
      "energy_change =  0.020063114454387687\n",
      "p accept =  0.9801368105545355\n",
      "current step size = 0.0013027354983038138\n",
      "current acceptance ratio = 0.7450980392156863\n",
      "currently working on step 307\n"
     ]
    },
    {
     "name": "stderr",
     "output_type": "stream",
     "text": [
      "100%|██████████| 99/99 [00:08<00:00, 11.76it/s]\n",
      "  0%|          | 0/101 [00:00<?, ?it/s]"
     ]
    },
    {
     "name": "stdout",
     "output_type": "stream",
     "text": [
      "initial_potential =  32756.195067732264\n",
      "final_potential =  32861.86868053145\n",
      "energy_change =  0.33215499043581076\n",
      "p accept =  0.717376127798893\n",
      "current step size = 0.0013027354983038138\n",
      "current acceptance ratio = 0.745928338762215\n",
      "currently working on step 308\n"
     ]
    },
    {
     "name": "stderr",
     "output_type": "stream",
     "text": [
      "100%|██████████| 101/101 [00:08<00:00, 11.75it/s]\n",
      "  0%|          | 0/99 [00:00<?, ?it/s]"
     ]
    },
    {
     "name": "stdout",
     "output_type": "stream",
     "text": [
      "initial_potential =  32861.86868053145\n",
      "final_potential =  32786.09864082703\n",
      "energy_change =  -0.5056709053606028\n",
      "p accept =  1.658097573928573\n",
      "current step size = 0.0013027354983038138\n",
      "current acceptance ratio = 0.7467532467532467\n",
      "currently working on step 309\n"
     ]
    },
    {
     "name": "stderr",
     "output_type": "stream",
     "text": [
      "100%|██████████| 99/99 [00:08<00:00, 11.81it/s]\n",
      "  0%|          | 0/101 [00:00<?, ?it/s]"
     ]
    },
    {
     "name": "stdout",
     "output_type": "stream",
     "text": [
      "initial_potential =  32786.09864082703\n",
      "final_potential =  32923.4396358089\n",
      "energy_change =  -0.00048374710604548454\n",
      "p accept =  1.000483864130546\n",
      "current step size = 0.0013027354983038138\n",
      "current acceptance ratio = 0.7475728155339806\n",
      "currently working on step 310\n"
     ]
    },
    {
     "name": "stderr",
     "output_type": "stream",
     "text": [
      "100%|██████████| 101/101 [00:08<00:00, 11.75it/s]\n",
      "  0%|          | 0/98 [00:00<?, ?it/s]"
     ]
    },
    {
     "name": "stdout",
     "output_type": "stream",
     "text": [
      "initial_potential =  32923.4396358089\n",
      "final_potential =  33042.65479922662\n",
      "energy_change =  0.5273451075336197\n",
      "p accept =  0.5901697287925259\n",
      "current step size = 0.0013027354983038138\n",
      "current acceptance ratio = 0.7483870967741936\n",
      "currently working on step 311\n"
     ]
    },
    {
     "name": "stderr",
     "output_type": "stream",
     "text": [
      "100%|██████████| 98/98 [00:08<00:00, 11.78it/s]\n",
      "  0%|          | 0/101 [00:00<?, ?it/s]"
     ]
    },
    {
     "name": "stdout",
     "output_type": "stream",
     "text": [
      "initial_potential =  33042.65479922662\n",
      "final_potential =  33035.83994216813\n",
      "energy_change =  -0.09707227325998247\n",
      "p accept =  1.101940011540069\n",
      "current step size = 0.0013027354983038138\n",
      "current acceptance ratio = 0.7491961414790996\n",
      "currently working on step 312\n"
     ]
    },
    {
     "name": "stderr",
     "output_type": "stream",
     "text": [
      "100%|██████████| 101/101 [00:08<00:00, 11.67it/s]\n",
      "  0%|          | 0/101 [00:00<?, ?it/s]"
     ]
    },
    {
     "name": "stdout",
     "output_type": "stream",
     "text": [
      "initial_potential =  33035.83994216813\n",
      "final_potential =  33075.13414027175\n",
      "energy_change =  0.1075043827004265\n",
      "p accept =  0.8980725864590697\n",
      "current step size = 0.0013027354983038138\n",
      "current acceptance ratio = 0.75\n",
      "currently working on step 313\n"
     ]
    },
    {
     "name": "stderr",
     "output_type": "stream",
     "text": [
      "100%|██████████| 101/101 [00:08<00:00, 11.81it/s]\n",
      "  0%|          | 0/98 [00:00<?, ?it/s]"
     ]
    },
    {
     "name": "stdout",
     "output_type": "stream",
     "text": [
      "initial_potential =  33075.13414027175\n",
      "final_potential =  33214.58690403346\n",
      "energy_change =  0.41142115973343607\n",
      "p accept =  0.6627077669919154\n",
      "current step size = 0.0013027354983038138\n",
      "current acceptance ratio = 0.7507987220447284\n",
      "currently working on step 314\n"
     ]
    },
    {
     "name": "stderr",
     "output_type": "stream",
     "text": [
      "100%|██████████| 98/98 [00:08<00:00, 11.73it/s]\n",
      "  0%|          | 0/99 [00:00<?, ?it/s]"
     ]
    },
    {
     "name": "stdout",
     "output_type": "stream",
     "text": [
      "initial_potential =  33214.58690403346\n",
      "final_potential =  33169.43890021203\n",
      "energy_change =  0.15969340784067754\n",
      "p accept =  0.8524050896248435\n",
      "current step size = 0.0013027354983038138\n",
      "current acceptance ratio = 0.7515923566878981\n",
      "currently working on step 315\n"
     ]
    },
    {
     "name": "stderr",
     "output_type": "stream",
     "text": [
      "100%|██████████| 99/99 [00:08<00:00, 11.78it/s]\n",
      "  0%|          | 0/97 [00:00<?, ?it/s]"
     ]
    },
    {
     "name": "stdout",
     "output_type": "stream",
     "text": [
      "initial_potential =  33169.43890021203\n",
      "final_potential =  33098.20859197298\n",
      "energy_change =  -0.20997364663344342\n",
      "p accept =  1.2336455488150073\n",
      "current step size = 0.0013027354983038138\n",
      "current acceptance ratio = 0.7523809523809524\n",
      "currently working on step 316\n"
     ]
    },
    {
     "name": "stderr",
     "output_type": "stream",
     "text": [
      "100%|██████████| 97/97 [00:08<00:00, 11.82it/s]\n",
      "  0%|          | 0/101 [00:00<?, ?it/s]"
     ]
    },
    {
     "name": "stdout",
     "output_type": "stream",
     "text": [
      "initial_potential =  33098.20859197298\n",
      "final_potential =  33000.650094099576\n",
      "energy_change =  -0.2274262979190098\n",
      "p accept =  1.2553649133379605\n",
      "current step size = 0.0013027354983038138\n",
      "current acceptance ratio = 0.7531645569620253\n",
      "currently working on step 317\n"
     ]
    },
    {
     "name": "stderr",
     "output_type": "stream",
     "text": [
      "100%|██████████| 101/101 [00:08<00:00, 11.74it/s]\n",
      "  0%|          | 0/98 [00:00<?, ?it/s]"
     ]
    },
    {
     "name": "stdout",
     "output_type": "stream",
     "text": [
      "initial_potential =  33000.650094099576\n",
      "final_potential =  33202.87091020509\n",
      "energy_change =  0.014897145767463371\n",
      "p accept =  0.9852132677464981\n",
      "current step size = 0.0013027354983038138\n",
      "current acceptance ratio = 0.7539432176656151\n",
      "currently working on step 318\n"
     ]
    },
    {
     "name": "stderr",
     "output_type": "stream",
     "text": [
      "100%|██████████| 98/98 [00:08<00:00, 11.75it/s]\n",
      "  0%|          | 0/97 [00:00<?, ?it/s]"
     ]
    },
    {
     "name": "stdout",
     "output_type": "stream",
     "text": [
      "initial_potential =  33202.87091020509\n",
      "final_potential =  33061.24284827992\n",
      "energy_change =  -0.04321940724912565\n",
      "p accept =  1.044166967521563\n",
      "current step size = 0.0013027354983038138\n",
      "current acceptance ratio = 0.7547169811320755\n",
      "currently working on step 319\n"
     ]
    },
    {
     "name": "stderr",
     "output_type": "stream",
     "text": [
      "100%|██████████| 97/97 [00:08<00:00, 11.59it/s]\n",
      "  0%|          | 0/97 [00:00<?, ?it/s]"
     ]
    },
    {
     "name": "stdout",
     "output_type": "stream",
     "text": [
      "initial_potential =  33061.24284827992\n",
      "final_potential =  32983.52748846321\n",
      "energy_change =  0.012878986162832007\n",
      "p accept =  0.9872035930869678\n",
      "current step size = 0.0013027354983038138\n",
      "current acceptance ratio = 0.7554858934169278\n",
      "currently working on step 320\n"
     ]
    },
    {
     "name": "stderr",
     "output_type": "stream",
     "text": [
      "100%|██████████| 97/97 [00:08<00:00, 11.70it/s]\n",
      "  0%|          | 0/100 [00:00<?, ?it/s]"
     ]
    },
    {
     "name": "stdout",
     "output_type": "stream",
     "text": [
      "initial_potential =  32983.52748846321\n",
      "final_potential =  32943.896781511576\n",
      "energy_change =  0.08062627230538055\n",
      "p accept =  0.9225384051774264\n",
      "current step size = 0.0013027354983038138\n",
      "current acceptance ratio = 0.75625\n",
      "currently working on step 321\n"
     ]
    },
    {
     "name": "stderr",
     "output_type": "stream",
     "text": [
      "100%|██████████| 100/100 [00:08<00:00, 11.71it/s]\n",
      "  0%|          | 0/97 [00:00<?, ?it/s]"
     ]
    },
    {
     "name": "stdout",
     "output_type": "stream",
     "text": [
      "initial_potential =  32943.896781511576\n",
      "final_potential =  32824.203838504975\n",
      "energy_change =  -0.7577714255021419\n",
      "p accept =  2.1335162186219003\n",
      "current step size = 0.0013027354983038138\n",
      "current acceptance ratio = 0.7570093457943925\n",
      "currently working on step 322\n"
     ]
    },
    {
     "name": "stderr",
     "output_type": "stream",
     "text": [
      "100%|██████████| 97/97 [00:08<00:00, 11.74it/s]\n",
      "  0%|          | 0/100 [00:00<?, ?it/s]"
     ]
    },
    {
     "name": "stdout",
     "output_type": "stream",
     "text": [
      "initial_potential =  32824.203838504975\n",
      "final_potential =  32803.85816816992\n",
      "energy_change =  -0.16770058652036823\n",
      "p accept =  1.1825824764999473\n",
      "current step size = 0.0013027354983038138\n",
      "current acceptance ratio = 0.7577639751552795\n",
      "currently working on step 323\n"
     ]
    },
    {
     "name": "stderr",
     "output_type": "stream",
     "text": [
      "100%|██████████| 100/100 [00:08<00:00, 11.79it/s]\n",
      "  0%|          | 0/98 [00:00<?, ?it/s]"
     ]
    },
    {
     "name": "stdout",
     "output_type": "stream",
     "text": [
      "initial_potential =  32803.85816816992\n",
      "final_potential =  32714.772932152875\n",
      "energy_change =  -0.3699734218243975\n",
      "p accept =  1.4476961370298451\n",
      "current step size = 0.0013027354983038138\n",
      "current acceptance ratio = 0.7585139318885449\n",
      "currently working on step 324\n"
     ]
    },
    {
     "name": "stderr",
     "output_type": "stream",
     "text": [
      "100%|██████████| 98/98 [00:08<00:00, 11.69it/s]\n",
      "  0%|          | 0/101 [00:00<?, ?it/s]"
     ]
    },
    {
     "name": "stdout",
     "output_type": "stream",
     "text": [
      "initial_potential =  32714.772932152875\n",
      "final_potential =  32735.681227328972\n",
      "energy_change =  0.17280983040109277\n",
      "p accept =  0.8412975888580788\n",
      "current step size = 0.0013027354983038138\n",
      "current acceptance ratio = 0.7592592592592593\n",
      "currently working on step 325\n"
     ]
    },
    {
     "name": "stderr",
     "output_type": "stream",
     "text": [
      "100%|██████████| 101/101 [00:08<00:00, 11.79it/s]\n",
      "  0%|          | 0/99 [00:00<?, ?it/s]"
     ]
    },
    {
     "name": "stdout",
     "output_type": "stream",
     "text": [
      "initial_potential =  32735.681227328972\n",
      "final_potential =  32918.54279593949\n",
      "energy_change =  0.7387662077526329\n",
      "p accept =  0.47770293826224136\n",
      "current step size = 0.0013027354983038138\n",
      "current acceptance ratio = 0.7569230769230769\n",
      "currently working on step 326\n"
     ]
    },
    {
     "name": "stderr",
     "output_type": "stream",
     "text": [
      "100%|██████████| 99/99 [00:08<00:00, 11.70it/s]\n",
      "  0%|          | 0/98 [00:00<?, ?it/s]"
     ]
    },
    {
     "name": "stdout",
     "output_type": "stream",
     "text": [
      "initial_potential =  32735.681227328972\n",
      "final_potential =  32917.390106938765\n",
      "energy_change =  0.7709624276467366\n",
      "p accept =  0.46256766610156536\n",
      "current step size = 0.0013027354983038138\n",
      "current acceptance ratio = 0.754601226993865\n",
      "currently working on step 327\n"
     ]
    },
    {
     "name": "stderr",
     "output_type": "stream",
     "text": [
      "100%|██████████| 98/98 [00:08<00:00, 11.76it/s]\n",
      "  0%|          | 0/99 [00:00<?, ?it/s]"
     ]
    },
    {
     "name": "stdout",
     "output_type": "stream",
     "text": [
      "initial_potential =  32735.681227328972\n",
      "final_potential =  32783.43636910406\n",
      "energy_change =  -0.002727606100961566\n",
      "p accept =  1.0027313294029467\n",
      "current step size = 0.0013027354983038138\n",
      "current acceptance ratio = 0.7553516819571865\n",
      "currently working on step 328\n"
     ]
    },
    {
     "name": "stderr",
     "output_type": "stream",
     "text": [
      "100%|██████████| 99/99 [00:08<00:00, 11.72it/s]\n",
      "  0%|          | 0/99 [00:00<?, ?it/s]"
     ]
    },
    {
     "name": "stdout",
     "output_type": "stream",
     "text": [
      "initial_potential =  32783.43636910406\n",
      "final_potential =  32964.053228956946\n",
      "energy_change =  0.505521954226424\n",
      "p accept =  0.603190655335362\n",
      "current step size = 0.0013027354983038138\n",
      "current acceptance ratio = 0.7530487804878049\n",
      "currently working on step 329\n"
     ]
    },
    {
     "name": "stderr",
     "output_type": "stream",
     "text": [
      "100%|██████████| 99/99 [00:08<00:00, 11.74it/s]\n",
      "  0%|          | 0/101 [00:00<?, ?it/s]"
     ]
    },
    {
     "name": "stdout",
     "output_type": "stream",
     "text": [
      "initial_potential =  32783.43636910406\n",
      "final_potential =  32768.200273765826\n",
      "energy_change =  0.4021205492608715\n",
      "p accept =  0.6689001054165769\n",
      "current step size = 0.0013027354983038138\n",
      "current acceptance ratio = 0.7537993920972644\n",
      "currently working on step 330\n"
     ]
    },
    {
     "name": "stderr",
     "output_type": "stream",
     "text": [
      "100%|██████████| 101/101 [00:08<00:00, 11.74it/s]\n",
      "  0%|          | 0/98 [00:00<?, ?it/s]"
     ]
    },
    {
     "name": "stdout",
     "output_type": "stream",
     "text": [
      "initial_potential =  32768.200273765826\n",
      "final_potential =  33300.88277620838\n",
      "energy_change =  2.22312058841635\n",
      "p accept =  0.10827071277006362\n",
      "current step size = 0.0013027354983038138\n",
      "current acceptance ratio = 0.7545454545454545\n",
      "currently working on step 331\n"
     ]
    },
    {
     "name": "stderr",
     "output_type": "stream",
     "text": [
      "100%|██████████| 98/98 [00:08<00:00, 11.74it/s]\n",
      "  0%|          | 0/101 [00:00<?, ?it/s]"
     ]
    },
    {
     "name": "stdout",
     "output_type": "stream",
     "text": [
      "initial_potential =  33300.88277620838\n",
      "final_potential =  33215.58829339214\n",
      "energy_change =  -0.17449753024266101\n",
      "p accept =  1.1906478017702367\n",
      "current step size = 0.0013027354983038138\n",
      "current acceptance ratio = 0.7552870090634441\n",
      "currently working on step 332\n"
     ]
    },
    {
     "name": "stderr",
     "output_type": "stream",
     "text": [
      "100%|██████████| 101/101 [00:08<00:00, 11.76it/s]\n",
      "  0%|          | 0/101 [00:00<?, ?it/s]"
     ]
    },
    {
     "name": "stdout",
     "output_type": "stream",
     "text": [
      "initial_potential =  33215.58829339214\n",
      "final_potential =  33149.224487972446\n",
      "energy_change =  -0.5310927860264201\n",
      "p accept =  1.700789892891453\n",
      "current step size = 0.0013027354983038138\n",
      "current acceptance ratio = 0.7560240963855421\n",
      "currently working on step 333\n"
     ]
    },
    {
     "name": "stderr",
     "output_type": "stream",
     "text": [
      "100%|██████████| 101/101 [00:08<00:00, 11.73it/s]\n",
      "  0%|          | 0/97 [00:00<?, ?it/s]"
     ]
    },
    {
     "name": "stdout",
     "output_type": "stream",
     "text": [
      "initial_potential =  33149.224487972446\n",
      "final_potential =  33119.25193598867\n",
      "energy_change =  -0.3494035731564509\n",
      "p accept =  1.4182214309631826\n",
      "current step size = 0.0013027354983038138\n",
      "current acceptance ratio = 0.7567567567567568\n",
      "currently working on step 334\n"
     ]
    },
    {
     "name": "stderr",
     "output_type": "stream",
     "text": [
      "100%|██████████| 97/97 [00:08<00:00, 11.81it/s]\n",
      "  0%|          | 0/97 [00:00<?, ?it/s]"
     ]
    },
    {
     "name": "stdout",
     "output_type": "stream",
     "text": [
      "initial_potential =  33119.25193598867\n",
      "final_potential =  33001.1396429448\n",
      "energy_change =  -0.1391999956977088\n",
      "p accept =  1.1493539428627646\n",
      "current step size = 0.0013027354983038138\n",
      "current acceptance ratio = 0.7574850299401198\n",
      "currently working on step 335\n"
     ]
    },
    {
     "name": "stderr",
     "output_type": "stream",
     "text": [
      "100%|██████████| 97/97 [00:08<00:00, 11.75it/s]\n",
      "  0%|          | 0/98 [00:00<?, ?it/s]"
     ]
    },
    {
     "name": "stdout",
     "output_type": "stream",
     "text": [
      "initial_potential =  33001.1396429448\n",
      "final_potential =  32931.858484694734\n",
      "energy_change =  -0.480608817335451\n",
      "p accept =  1.6170585958710135\n",
      "current step size = 0.0013027354983038138\n",
      "current acceptance ratio = 0.7582089552238805\n",
      "currently working on step 336\n"
     ]
    },
    {
     "name": "stderr",
     "output_type": "stream",
     "text": [
      "100%|██████████| 98/98 [00:08<00:00, 11.76it/s]\n",
      "  0%|          | 0/97 [00:00<?, ?it/s]"
     ]
    },
    {
     "name": "stdout",
     "output_type": "stream",
     "text": [
      "initial_potential =  32931.858484694734\n",
      "final_potential =  33082.5603483513\n",
      "energy_change =  0.1416740538988961\n",
      "p accept =  0.8679041003451229\n",
      "current step size = 0.0013027354983038138\n",
      "current acceptance ratio = 0.7559523809523809\n",
      "currently working on step 337\n"
     ]
    },
    {
     "name": "stderr",
     "output_type": "stream",
     "text": [
      "100%|██████████| 97/97 [00:08<00:00, 11.79it/s]\n",
      "  0%|          | 0/99 [00:00<?, ?it/s]"
     ]
    },
    {
     "name": "stdout",
     "output_type": "stream",
     "text": [
      "initial_potential =  32931.858484694734\n",
      "final_potential =  33136.53113549082\n",
      "energy_change =  0.4334606749616796\n",
      "p accept =  0.6482617850339147\n",
      "current step size = 0.0013027354983038138\n",
      "current acceptance ratio = 0.7537091988130564\n",
      "currently working on step 338\n"
     ]
    },
    {
     "name": "stderr",
     "output_type": "stream",
     "text": [
      "100%|██████████| 99/99 [00:08<00:00, 11.82it/s]\n",
      "  0%|          | 0/98 [00:00<?, ?it/s]"
     ]
    },
    {
     "name": "stdout",
     "output_type": "stream",
     "text": [
      "initial_potential =  32931.858484694734\n",
      "final_potential =  32760.523626644495\n",
      "energy_change =  -0.3067975135490997\n",
      "p accept =  1.3590657478089199\n",
      "current step size = 0.0013027354983038138\n",
      "current acceptance ratio = 0.7544378698224852\n",
      "currently working on step 339\n"
     ]
    },
    {
     "name": "stderr",
     "output_type": "stream",
     "text": [
      "100%|██████████| 98/98 [00:08<00:00, 11.77it/s]\n",
      "  0%|          | 0/97 [00:00<?, ?it/s]"
     ]
    },
    {
     "name": "stdout",
     "output_type": "stream",
     "text": [
      "initial_potential =  32760.523626644495\n",
      "final_potential =  32826.313734143376\n",
      "energy_change =  -0.18654970300849527\n",
      "p accept =  1.2050845169231894\n",
      "current step size = 0.0013027354983038138\n",
      "current acceptance ratio = 0.7551622418879056\n",
      "currently working on step 340\n"
     ]
    },
    {
     "name": "stderr",
     "output_type": "stream",
     "text": [
      "100%|██████████| 97/97 [00:08<00:00, 11.74it/s]\n",
      "  0%|          | 0/97 [00:00<?, ?it/s]"
     ]
    },
    {
     "name": "stdout",
     "output_type": "stream",
     "text": [
      "initial_potential =  32826.313734143376\n",
      "final_potential =  32924.45169667891\n",
      "energy_change =  0.04420110781211406\n",
      "p accept =  0.9567615259067596\n",
      "current step size = 0.0013027354983038138\n",
      "current acceptance ratio = 0.7558823529411764\n",
      "currently working on step 341\n"
     ]
    },
    {
     "name": "stderr",
     "output_type": "stream",
     "text": [
      "100%|██████████| 97/97 [00:08<00:00, 11.83it/s]\n",
      "  0%|          | 0/100 [00:00<?, ?it/s]"
     ]
    },
    {
     "name": "stdout",
     "output_type": "stream",
     "text": [
      "initial_potential =  32924.45169667891\n",
      "final_potential =  32906.27152227256\n",
      "energy_change =  0.12721098864858504\n",
      "p accept =  0.8805478673918962\n",
      "current step size = 0.0013027354983038138\n",
      "current acceptance ratio = 0.7565982404692082\n",
      "currently working on step 342\n"
     ]
    },
    {
     "name": "stderr",
     "output_type": "stream",
     "text": [
      "100%|██████████| 100/100 [00:08<00:00, 11.78it/s]\n",
      "  0%|          | 0/101 [00:00<?, ?it/s]"
     ]
    },
    {
     "name": "stdout",
     "output_type": "stream",
     "text": [
      "initial_potential =  32906.27152227256\n",
      "final_potential =  32627.551677301937\n",
      "energy_change =  -0.608379290861194\n",
      "p accept =  1.8374510106178354\n",
      "current step size = 0.0013027354983038138\n",
      "current acceptance ratio = 0.7573099415204678\n",
      "currently working on step 343\n"
     ]
    },
    {
     "name": "stderr",
     "output_type": "stream",
     "text": [
      "100%|██████████| 101/101 [00:08<00:00, 11.78it/s]\n",
      "  0%|          | 0/97 [00:00<?, ?it/s]"
     ]
    },
    {
     "name": "stdout",
     "output_type": "stream",
     "text": [
      "initial_potential =  32627.551677301937\n",
      "final_potential =  33164.28488145184\n",
      "energy_change =  1.9521957559190923\n",
      "p accept =  0.14196201517692594\n",
      "current step size = 0.0013027354983038138\n",
      "current acceptance ratio = 0.7580174927113703\n",
      "currently working on step 344\n"
     ]
    },
    {
     "name": "stderr",
     "output_type": "stream",
     "text": [
      "100%|██████████| 97/97 [00:08<00:00, 11.84it/s]\n",
      "  0%|          | 0/98 [00:00<?, ?it/s]"
     ]
    },
    {
     "name": "stdout",
     "output_type": "stream",
     "text": [
      "initial_potential =  33164.28488145184\n",
      "final_potential =  33163.096744406226\n",
      "energy_change =  -0.1705928853043588\n",
      "p accept =  1.1860078095140982\n",
      "current step size = 0.0013027354983038138\n",
      "current acceptance ratio = 0.7587209302325582\n",
      "currently working on step 345\n"
     ]
    },
    {
     "name": "stderr",
     "output_type": "stream",
     "text": [
      "100%|██████████| 98/98 [00:08<00:00, 11.79it/s]\n",
      "  0%|          | 0/99 [00:00<?, ?it/s]"
     ]
    },
    {
     "name": "stdout",
     "output_type": "stream",
     "text": [
      "initial_potential =  33163.096744406226\n",
      "final_potential =  33447.77358696618\n",
      "energy_change =  0.8003627103025792\n",
      "p accept =  0.44916601742569734\n",
      "current step size = 0.0013027354983038138\n",
      "current acceptance ratio = 0.7565217391304347\n",
      "currently working on step 346\n"
     ]
    },
    {
     "name": "stderr",
     "output_type": "stream",
     "text": [
      "100%|██████████| 99/99 [00:08<00:00, 11.83it/s]\n",
      "  0%|          | 0/101 [00:00<?, ?it/s]"
     ]
    },
    {
     "name": "stdout",
     "output_type": "stream",
     "text": [
      "initial_potential =  33163.096744406226\n",
      "final_potential =  32966.78900243198\n",
      "energy_change =  -0.643495361393434\n",
      "p accept =  1.9031213640399773\n",
      "current step size = 0.0013027354983038138\n",
      "current acceptance ratio = 0.7572254335260116\n",
      "currently working on step 347\n"
     ]
    },
    {
     "name": "stderr",
     "output_type": "stream",
     "text": [
      "100%|██████████| 101/101 [00:08<00:00, 11.75it/s]\n",
      "  0%|          | 0/97 [00:00<?, ?it/s]"
     ]
    },
    {
     "name": "stdout",
     "output_type": "stream",
     "text": [
      "initial_potential =  32966.78900243198\n",
      "final_potential =  32700.394468226434\n",
      "energy_change =  -0.7860870912263636\n",
      "p accept =  2.194791583010113\n",
      "current step size = 0.0013027354983038138\n",
      "current acceptance ratio = 0.7579250720461095\n",
      "currently working on step 348\n"
     ]
    },
    {
     "name": "stderr",
     "output_type": "stream",
     "text": [
      "100%|██████████| 97/97 [00:08<00:00, 11.82it/s]\n",
      "  0%|          | 0/97 [00:00<?, ?it/s]"
     ]
    },
    {
     "name": "stdout",
     "output_type": "stream",
     "text": [
      "initial_potential =  32700.394468226434\n",
      "final_potential =  32872.09001084808\n",
      "energy_change =  0.2555419040436391\n",
      "p accept =  0.7744966813377897\n",
      "current step size = 0.0013027354983038138\n",
      "current acceptance ratio = 0.7586206896551724\n",
      "currently working on step 349\n"
     ]
    },
    {
     "name": "stderr",
     "output_type": "stream",
     "text": [
      "100%|██████████| 97/97 [00:08<00:00, 11.76it/s]\n",
      "  0%|          | 0/97 [00:00<?, ?it/s]"
     ]
    },
    {
     "name": "stdout",
     "output_type": "stream",
     "text": [
      "initial_potential =  32872.09001084808\n",
      "final_potential =  32705.86484861058\n",
      "energy_change =  0.0004131434252485633\n",
      "p accept =  0.9995869419067445\n",
      "current step size = 0.0013027354983038138\n",
      "current acceptance ratio = 0.7593123209169055\n",
      "currently working on step 350\n"
     ]
    },
    {
     "name": "stderr",
     "output_type": "stream",
     "text": [
      "100%|██████████| 97/97 [00:08<00:00, 11.78it/s]\n",
      "  0%|          | 0/101 [00:00<?, ?it/s]"
     ]
    },
    {
     "name": "stdout",
     "output_type": "stream",
     "text": [
      "initial_potential =  32705.86484861058\n",
      "final_potential =  33047.91689359489\n",
      "energy_change =  0.19148866782779805\n",
      "p accept =  0.825728982356484\n",
      "current step size = 0.0013027354983038138\n",
      "current acceptance ratio = 0.76\n",
      "currently working on step 351\n"
     ]
    },
    {
     "name": "stderr",
     "output_type": "stream",
     "text": [
      "100%|██████████| 101/101 [00:08<00:00, 11.81it/s]\n",
      "  0%|          | 0/98 [00:00<?, ?it/s]"
     ]
    },
    {
     "name": "stdout",
     "output_type": "stream",
     "text": [
      "initial_potential =  33047.91689359489\n",
      "final_potential =  32735.288254819454\n",
      "energy_change =  -0.5225590212794486\n",
      "p accept =  1.6863375064026382\n",
      "current step size = 0.0013027354983038138\n",
      "current acceptance ratio = 0.7606837606837606\n",
      "currently working on step 352\n"
     ]
    },
    {
     "name": "stderr",
     "output_type": "stream",
     "text": [
      "100%|██████████| 98/98 [00:08<00:00, 11.80it/s]\n",
      "  0%|          | 0/99 [00:00<?, ?it/s]"
     ]
    },
    {
     "name": "stdout",
     "output_type": "stream",
     "text": [
      "initial_potential =  32735.288254819454\n",
      "final_potential =  32808.034961716105\n",
      "energy_change =  0.2175495350093115\n",
      "p accept =  0.804487753624452\n",
      "current step size = 0.0013027354983038138\n",
      "current acceptance ratio = 0.7585227272727273\n",
      "currently working on step 353\n"
     ]
    },
    {
     "name": "stderr",
     "output_type": "stream",
     "text": [
      "100%|██████████| 99/99 [00:08<00:00, 11.83it/s]\n",
      "  0%|          | 0/98 [00:00<?, ?it/s]"
     ]
    },
    {
     "name": "stdout",
     "output_type": "stream",
     "text": [
      "initial_potential =  32735.288254819454\n",
      "final_potential =  32773.69061945593\n",
      "energy_change =  0.2887306844932027\n",
      "p accept =  0.7492139531700465\n",
      "current step size = 0.0013027354983038138\n",
      "current acceptance ratio = 0.7592067988668555\n",
      "currently working on step 354\n"
     ]
    },
    {
     "name": "stderr",
     "output_type": "stream",
     "text": [
      "100%|██████████| 98/98 [00:08<00:00, 11.68it/s]\n",
      "  0%|          | 0/100 [00:00<?, ?it/s]"
     ]
    },
    {
     "name": "stdout",
     "output_type": "stream",
     "text": [
      "initial_potential =  32773.69061945593\n",
      "final_potential =  32973.53717468911\n",
      "energy_change =  0.42534519486071076\n",
      "p accept =  0.6535441461068886\n",
      "current step size = 0.0013027354983038138\n",
      "current acceptance ratio = 0.7598870056497176\n",
      "currently working on step 355\n"
     ]
    },
    {
     "name": "stderr",
     "output_type": "stream",
     "text": [
      "100%|██████████| 100/100 [00:08<00:00, 11.84it/s]\n",
      "  0%|          | 0/100 [00:00<?, ?it/s]"
     ]
    },
    {
     "name": "stdout",
     "output_type": "stream",
     "text": [
      "initial_potential =  32973.53717468911\n",
      "final_potential =  32465.94774567993\n",
      "energy_change =  -1.5938212486216798\n",
      "p accept =  4.9225232199329305\n",
      "current step size = 0.0013027354983038138\n",
      "current acceptance ratio = 0.7605633802816901\n",
      "currently working on step 356\n"
     ]
    },
    {
     "name": "stderr",
     "output_type": "stream",
     "text": [
      "100%|██████████| 100/100 [00:08<00:00, 11.84it/s]\n",
      "  0%|          | 0/98 [00:00<?, ?it/s]"
     ]
    },
    {
     "name": "stdout",
     "output_type": "stream",
     "text": [
      "initial_potential =  32465.94774567993\n",
      "final_potential =  32766.42900588632\n",
      "energy_change =  0.8304637891706079\n",
      "p accept =  0.43584709827462587\n",
      "current step size = 0.0013027354983038138\n",
      "current acceptance ratio = 0.7612359550561798\n",
      "currently working on step 357\n"
     ]
    },
    {
     "name": "stderr",
     "output_type": "stream",
     "text": [
      "100%|██████████| 98/98 [00:08<00:00, 11.74it/s]\n",
      "  0%|          | 0/100 [00:00<?, ?it/s]"
     ]
    },
    {
     "name": "stdout",
     "output_type": "stream",
     "text": [
      "initial_potential =  32766.42900588632\n",
      "final_potential =  32783.364473240195\n",
      "energy_change =  0.37449205384473316\n",
      "p accept =  0.6876384734162159\n",
      "current step size = 0.0013027354983038138\n",
      "current acceptance ratio = 0.7619047619047619\n",
      "currently working on step 358\n"
     ]
    },
    {
     "name": "stderr",
     "output_type": "stream",
     "text": [
      "100%|██████████| 100/100 [00:08<00:00, 11.87it/s]\n",
      "  0%|          | 0/98 [00:00<?, ?it/s]"
     ]
    },
    {
     "name": "stdout",
     "output_type": "stream",
     "text": [
      "initial_potential =  32783.364473240195\n",
      "final_potential =  32970.911990753324\n",
      "energy_change =  0.28448836065945216\n",
      "p accept =  0.7523991128425301\n",
      "current step size = 0.0013027354983038138\n",
      "current acceptance ratio = 0.7625698324022346\n",
      "currently working on step 359\n"
     ]
    },
    {
     "name": "stderr",
     "output_type": "stream",
     "text": [
      "100%|██████████| 98/98 [00:08<00:00, 11.81it/s]\n",
      "  0%|          | 0/99 [00:00<?, ?it/s]"
     ]
    },
    {
     "name": "stdout",
     "output_type": "stream",
     "text": [
      "initial_potential =  32970.911990753324\n",
      "final_potential =  32994.01268455784\n",
      "energy_change =  0.2718188599392306\n",
      "p accept =  0.7619922759166184\n",
      "current step size = 0.0013027354983038138\n",
      "current acceptance ratio = 0.7604456824512534\n",
      "currently working on step 360\n"
     ]
    },
    {
     "name": "stderr",
     "output_type": "stream",
     "text": [
      "100%|██████████| 99/99 [00:08<00:00, 11.56it/s]\n",
      "  0%|          | 0/97 [00:00<?, ?it/s]"
     ]
    },
    {
     "name": "stdout",
     "output_type": "stream",
     "text": [
      "initial_potential =  32970.911990753324\n",
      "final_potential =  32932.666593887414\n",
      "energy_change =  -0.16859540052246302\n",
      "p accept =  1.1836411414420196\n",
      "current step size = 0.0013027354983038138\n",
      "current acceptance ratio = 0.7611111111111111\n",
      "currently working on step 361\n"
     ]
    },
    {
     "name": "stderr",
     "output_type": "stream",
     "text": [
      "100%|██████████| 97/97 [00:08<00:00, 11.65it/s]\n",
      "  0%|          | 0/97 [00:00<?, ?it/s]"
     ]
    },
    {
     "name": "stdout",
     "output_type": "stream",
     "text": [
      "initial_potential =  32932.666593887414\n",
      "final_potential =  32910.194425543596\n",
      "energy_change =  -0.07525952783180401\n",
      "p accept =  1.0781639281246664\n",
      "current step size = 0.0013027354983038138\n",
      "current acceptance ratio = 0.7617728531855956\n",
      "currently working on step 362\n"
     ]
    },
    {
     "name": "stderr",
     "output_type": "stream",
     "text": [
      "100%|██████████| 97/97 [00:08<00:00, 11.78it/s]\n",
      "  0%|          | 0/99 [00:00<?, ?it/s]"
     ]
    },
    {
     "name": "stdout",
     "output_type": "stream",
     "text": [
      "initial_potential =  32910.194425543596\n",
      "final_potential =  32871.448104835676\n",
      "energy_change =  0.04906398005550727\n",
      "p accept =  0.9521202110457839\n",
      "current step size = 0.0013027354983038138\n",
      "current acceptance ratio = 0.7624309392265194\n",
      "currently working on step 363\n"
     ]
    },
    {
     "name": "stderr",
     "output_type": "stream",
     "text": [
      "100%|██████████| 99/99 [00:08<00:00, 11.77it/s]\n",
      "  0%|          | 0/97 [00:00<?, ?it/s]"
     ]
    },
    {
     "name": "stdout",
     "output_type": "stream",
     "text": [
      "initial_potential =  32871.448104835676\n",
      "final_potential =  32868.97535015943\n",
      "energy_change =  0.5534775153791998\n",
      "p accept =  0.5749469430612228\n",
      "current step size = 0.0013027354983038138\n",
      "current acceptance ratio = 0.7630853994490359\n",
      "currently working on step 364\n"
     ]
    },
    {
     "name": "stderr",
     "output_type": "stream",
     "text": [
      "100%|██████████| 97/97 [00:08<00:00, 11.83it/s]\n",
      "  0%|          | 0/97 [00:00<?, ?it/s]"
     ]
    },
    {
     "name": "stdout",
     "output_type": "stream",
     "text": [
      "initial_potential =  32868.97535015943\n",
      "final_potential =  32874.363215194375\n",
      "energy_change =  -0.17416706352378242\n",
      "p accept =  1.1902543973049673\n",
      "current step size = 0.0013027354983038138\n",
      "current acceptance ratio = 0.7637362637362637\n",
      "currently working on step 365\n"
     ]
    },
    {
     "name": "stderr",
     "output_type": "stream",
     "text": [
      "100%|██████████| 97/97 [00:08<00:00, 12.08it/s]\n",
      "  0%|          | 0/98 [00:00<?, ?it/s]"
     ]
    },
    {
     "name": "stdout",
     "output_type": "stream",
     "text": [
      "initial_potential =  32874.363215194375\n",
      "final_potential =  32859.62632040622\n",
      "energy_change =  0.21725721725670155\n",
      "p accept =  0.8047229540515491\n",
      "current step size = 0.0013027354983038138\n",
      "current acceptance ratio = 0.7643835616438356\n",
      "currently working on step 366\n"
     ]
    },
    {
     "name": "stderr",
     "output_type": "stream",
     "text": [
      "100%|██████████| 98/98 [00:08<00:00, 11.78it/s]\n",
      "  0%|          | 0/99 [00:00<?, ?it/s]"
     ]
    },
    {
     "name": "stdout",
     "output_type": "stream",
     "text": [
      "initial_potential =  32859.62632040622\n",
      "final_potential =  32944.21322847034\n",
      "energy_change =  -0.365705975345918\n",
      "p accept =  1.4415313345858585\n",
      "current step size = 0.0013027354983038138\n",
      "current acceptance ratio = 0.7650273224043715\n",
      "currently working on step 367\n"
     ]
    },
    {
     "name": "stderr",
     "output_type": "stream",
     "text": [
      "100%|██████████| 99/99 [00:08<00:00, 11.84it/s]\n",
      "  0%|          | 0/100 [00:00<?, ?it/s]"
     ]
    },
    {
     "name": "stdout",
     "output_type": "stream",
     "text": [
      "initial_potential =  32944.21322847034\n",
      "final_potential =  32942.86772344161\n",
      "energy_change =  0.01639799540862441\n",
      "p accept =  0.9837357198331156\n",
      "current step size = 0.0013027354983038138\n",
      "current acceptance ratio = 0.7656675749318801\n",
      "currently working on step 368\n"
     ]
    },
    {
     "name": "stderr",
     "output_type": "stream",
     "text": [
      "100%|██████████| 100/100 [00:08<00:00, 11.40it/s]\n",
      "  0%|          | 0/99 [00:00<?, ?it/s]"
     ]
    },
    {
     "name": "stdout",
     "output_type": "stream",
     "text": [
      "initial_potential =  32942.86772344161\n",
      "final_potential =  32699.74576913174\n",
      "energy_change =  -0.25763725927390624\n",
      "p accept =  1.2938693943661541\n",
      "current step size = 0.0013027354983038138\n",
      "current acceptance ratio = 0.7663043478260869\n",
      "currently working on step 369\n"
     ]
    },
    {
     "name": "stderr",
     "output_type": "stream",
     "text": [
      "100%|██████████| 99/99 [00:08<00:00, 11.38it/s]\n",
      "  0%|          | 0/98 [00:00<?, ?it/s]"
     ]
    },
    {
     "name": "stdout",
     "output_type": "stream",
     "text": [
      "initial_potential =  32699.74576913174\n",
      "final_potential =  32999.79157337741\n",
      "energy_change =  0.6969462435517926\n",
      "p accept =  0.4981040721590319\n",
      "current step size = 0.0013027354983038138\n",
      "current acceptance ratio = 0.7669376693766937\n",
      "currently working on step 370\n"
     ]
    },
    {
     "name": "stderr",
     "output_type": "stream",
     "text": [
      "100%|██████████| 98/98 [00:08<00:00, 11.68it/s]\n",
      "  0%|          | 0/100 [00:00<?, ?it/s]"
     ]
    },
    {
     "name": "stdout",
     "output_type": "stream",
     "text": [
      "initial_potential =  32999.79157337741\n",
      "final_potential =  33109.194136597114\n",
      "energy_change =  0.1511528548435308\n",
      "p accept =  0.859716276818255\n",
      "current step size = 0.0013027354983038138\n",
      "current acceptance ratio = 0.7675675675675676\n",
      "currently working on step 371\n"
     ]
    },
    {
     "name": "stderr",
     "output_type": "stream",
     "text": [
      "100%|██████████| 100/100 [00:08<00:00, 11.38it/s]\n",
      "  0%|          | 0/99 [00:00<?, ?it/s]"
     ]
    },
    {
     "name": "stdout",
     "output_type": "stream",
     "text": [
      "initial_potential =  33109.194136597114\n",
      "final_potential =  33278.05313344335\n",
      "energy_change =  0.2186582327412907\n",
      "p accept =  0.8035963141363868\n",
      "current step size = 0.0013027354983038138\n",
      "current acceptance ratio = 0.7654986522911051\n",
      "currently working on step 372\n"
     ]
    },
    {
     "name": "stderr",
     "output_type": "stream",
     "text": [
      "100%|██████████| 99/99 [00:08<00:00, 11.58it/s]\n",
      "  0%|          | 0/97 [00:00<?, ?it/s]"
     ]
    },
    {
     "name": "stdout",
     "output_type": "stream",
     "text": [
      "initial_potential =  33109.194136597114\n",
      "final_potential =  33155.79712216204\n",
      "energy_change =  0.2643445695139235\n",
      "p accept =  0.7677089649722435\n",
      "current step size = 0.0013027354983038138\n",
      "current acceptance ratio = 0.7634408602150538\n",
      "currently working on step 373\n"
     ]
    },
    {
     "name": "stderr",
     "output_type": "stream",
     "text": [
      "100%|██████████| 97/97 [00:08<00:00, 11.68it/s]\n",
      "  0%|          | 0/101 [00:00<?, ?it/s]"
     ]
    },
    {
     "name": "stdout",
     "output_type": "stream",
     "text": [
      "initial_potential =  33109.194136597114\n",
      "final_potential =  33069.37501226325\n",
      "energy_change =  0.07120442330779042\n",
      "p accept =  0.9312714990675752\n",
      "current step size = 0.0013027354983038138\n",
      "current acceptance ratio = 0.7640750670241286\n",
      "currently working on step 374\n"
     ]
    },
    {
     "name": "stderr",
     "output_type": "stream",
     "text": [
      "100%|██████████| 101/101 [00:08<00:00, 11.95it/s]\n",
      "  0%|          | 0/101 [00:00<?, ?it/s]"
     ]
    },
    {
     "name": "stdout",
     "output_type": "stream",
     "text": [
      "initial_potential =  33069.37501226325\n",
      "final_potential =  32923.191574870434\n",
      "energy_change =  -0.503905303979991\n",
      "p accept =  1.655172617476273\n",
      "current step size = 0.0013027354983038138\n",
      "current acceptance ratio = 0.7647058823529411\n",
      "currently working on step 375\n"
     ]
    },
    {
     "name": "stderr",
     "output_type": "stream",
     "text": [
      "100%|██████████| 101/101 [00:08<00:00, 11.66it/s]\n",
      "  0%|          | 0/101 [00:00<?, ?it/s]"
     ]
    },
    {
     "name": "stdout",
     "output_type": "stream",
     "text": [
      "initial_potential =  32923.191574870434\n",
      "final_potential =  32989.85598246733\n",
      "energy_change =  0.4312166609161068\n",
      "p accept =  0.6497181269995225\n",
      "current step size = 0.0013027354983038138\n",
      "current acceptance ratio = 0.7653333333333333\n",
      "currently working on step 376\n"
     ]
    },
    {
     "name": "stderr",
     "output_type": "stream",
     "text": [
      "100%|██████████| 101/101 [00:08<00:00, 12.13it/s]\n",
      "  0%|          | 0/100 [00:00<?, ?it/s]"
     ]
    },
    {
     "name": "stdout",
     "output_type": "stream",
     "text": [
      "initial_potential =  32989.85598246733\n",
      "final_potential =  32837.25431221313\n",
      "energy_change =  -0.5455665172194131\n",
      "p accept =  1.725585679523489\n",
      "current step size = 0.0013027354983038138\n",
      "current acceptance ratio = 0.7659574468085106\n",
      "currently working on step 377\n"
     ]
    },
    {
     "name": "stderr",
     "output_type": "stream",
     "text": [
      "100%|██████████| 100/100 [00:08<00:00, 11.78it/s]\n",
      "  0%|          | 0/100 [00:00<?, ?it/s]"
     ]
    },
    {
     "name": "stdout",
     "output_type": "stream",
     "text": [
      "initial_potential =  32837.25431221313\n",
      "final_potential =  32979.31732645102\n",
      "energy_change =  0.2506489803636214\n",
      "p accept =  0.7782955206264549\n",
      "current step size = 0.0013027354983038138\n",
      "current acceptance ratio = 0.76657824933687\n",
      "currently working on step 378\n"
     ]
    },
    {
     "name": "stderr",
     "output_type": "stream",
     "text": [
      "100%|██████████| 100/100 [00:08<00:00, 12.07it/s]\n",
      "  0%|          | 0/100 [00:00<?, ?it/s]"
     ]
    },
    {
     "name": "stdout",
     "output_type": "stream",
     "text": [
      "initial_potential =  32979.31732645102\n",
      "final_potential =  32891.748835580256\n",
      "energy_change =  -0.5157998487411533\n",
      "p accept =  1.67497769495092\n",
      "current step size = 0.0013027354983038138\n",
      "current acceptance ratio = 0.7671957671957672\n",
      "currently working on step 379\n"
     ]
    },
    {
     "name": "stderr",
     "output_type": "stream",
     "text": [
      "100%|██████████| 100/100 [00:08<00:00, 11.80it/s]\n",
      "  0%|          | 0/98 [00:00<?, ?it/s]"
     ]
    },
    {
     "name": "stdout",
     "output_type": "stream",
     "text": [
      "initial_potential =  32891.748835580256\n",
      "final_potential =  32730.127595546972\n",
      "energy_change =  -0.37781923067814205\n",
      "p accept =  1.4590991586690327\n",
      "current step size = 0.0013027354983038138\n",
      "current acceptance ratio = 0.7678100263852242\n",
      "currently working on step 380\n"
     ]
    },
    {
     "name": "stderr",
     "output_type": "stream",
     "text": [
      "100%|██████████| 98/98 [00:08<00:00, 12.10it/s]\n",
      "  0%|          | 0/99 [00:00<?, ?it/s]"
     ]
    },
    {
     "name": "stdout",
     "output_type": "stream",
     "text": [
      "initial_potential =  32730.127595546972\n",
      "final_potential =  32753.58275161632\n",
      "energy_change =  0.37964223661401775\n",
      "p accept =  0.6841061135561755\n",
      "current step size = 0.0013027354983038138\n",
      "current acceptance ratio = 0.7684210526315789\n",
      "currently working on step 381\n"
     ]
    },
    {
     "name": "stderr",
     "output_type": "stream",
     "text": [
      "100%|██████████| 99/99 [00:08<00:00, 11.77it/s]\n",
      "  0%|          | 0/97 [00:00<?, ?it/s]"
     ]
    },
    {
     "name": "stdout",
     "output_type": "stream",
     "text": [
      "initial_potential =  32753.58275161632\n",
      "final_potential =  32888.81029638635\n",
      "energy_change =  0.4894649463240057\n",
      "p accept =  0.6129542698963659\n",
      "current step size = 0.0013027354983038138\n",
      "current acceptance ratio = 0.7690288713910761\n",
      "currently working on step 382\n"
     ]
    },
    {
     "name": "stderr",
     "output_type": "stream",
     "text": [
      "100%|██████████| 97/97 [00:08<00:00, 12.06it/s]\n",
      "  0%|          | 0/97 [00:00<?, ?it/s]"
     ]
    },
    {
     "name": "stdout",
     "output_type": "stream",
     "text": [
      "initial_potential =  32888.81029638635\n",
      "final_potential =  32937.299167949226\n",
      "energy_change =  0.11279242324235383\n",
      "p accept =  0.8933360766775504\n",
      "current step size = 0.0013027354983038138\n",
      "current acceptance ratio = 0.7696335078534031\n",
      "currently working on step 383\n"
     ]
    },
    {
     "name": "stderr",
     "output_type": "stream",
     "text": [
      "100%|██████████| 97/97 [00:08<00:00, 12.00it/s]\n",
      "  0%|          | 0/97 [00:00<?, ?it/s]"
     ]
    },
    {
     "name": "stdout",
     "output_type": "stream",
     "text": [
      "initial_potential =  32937.299167949226\n",
      "final_potential =  32920.75878734856\n",
      "energy_change =  -0.045663417666219175\n",
      "p accept =  1.0467220435117102\n",
      "current step size = 0.0013027354983038138\n",
      "current acceptance ratio = 0.7702349869451697\n",
      "currently working on step 384\n"
     ]
    },
    {
     "name": "stderr",
     "output_type": "stream",
     "text": [
      "100%|██████████| 97/97 [00:08<00:00, 11.87it/s]\n",
      "  0%|          | 0/99 [00:00<?, ?it/s]"
     ]
    },
    {
     "name": "stdout",
     "output_type": "stream",
     "text": [
      "initial_potential =  32920.75878734856\n",
      "final_potential =  32841.32439861568\n",
      "energy_change =  -0.021251237514661625\n",
      "p accept =  1.0214786531603144\n",
      "current step size = 0.0013027354983038138\n",
      "current acceptance ratio = 0.7708333333333334\n",
      "currently working on step 385\n"
     ]
    },
    {
     "name": "stderr",
     "output_type": "stream",
     "text": [
      "100%|██████████| 99/99 [00:08<00:00, 11.97it/s]\n",
      "  0%|          | 0/101 [00:00<?, ?it/s]"
     ]
    },
    {
     "name": "stdout",
     "output_type": "stream",
     "text": [
      "initial_potential =  32841.32439861568\n",
      "final_potential =  32905.51262249783\n",
      "energy_change =  0.04344616206071805\n",
      "p accept =  0.957484101674276\n",
      "current step size = 0.0013027354983038138\n",
      "current acceptance ratio = 0.7714285714285715\n",
      "currently working on step 386\n"
     ]
    },
    {
     "name": "stderr",
     "output_type": "stream",
     "text": [
      "100%|██████████| 101/101 [00:08<00:00, 11.94it/s]\n",
      "  0%|          | 0/98 [00:00<?, ?it/s]"
     ]
    },
    {
     "name": "stdout",
     "output_type": "stream",
     "text": [
      "initial_potential =  32905.51262249783\n",
      "final_potential =  32889.569952040765\n",
      "energy_change =  -0.2195933414477622\n",
      "p accept =  1.2455701058467665\n",
      "current step size = 0.0013027354983038138\n",
      "current acceptance ratio = 0.772020725388601\n",
      "currently working on step 387\n"
     ]
    },
    {
     "name": "stderr",
     "output_type": "stream",
     "text": [
      "100%|██████████| 98/98 [00:08<00:00, 11.93it/s]\n",
      "  0%|          | 0/101 [00:00<?, ?it/s]"
     ]
    },
    {
     "name": "stdout",
     "output_type": "stream",
     "text": [
      "initial_potential =  32889.569952040765\n",
      "final_potential =  33157.24884031626\n",
      "energy_change =  0.8067988437833264\n",
      "p accept =  0.4462844081407922\n",
      "current step size = 0.0013027354983038138\n",
      "current acceptance ratio = 0.7700258397932817\n",
      "currently working on step 388\n"
     ]
    },
    {
     "name": "stderr",
     "output_type": "stream",
     "text": [
      "100%|██████████| 101/101 [00:08<00:00, 12.12it/s]\n",
      "  0%|          | 0/100 [00:00<?, ?it/s]"
     ]
    },
    {
     "name": "stdout",
     "output_type": "stream",
     "text": [
      "initial_potential =  32889.569952040765\n",
      "final_potential =  32791.8117201168\n",
      "energy_change =  -0.4306831075809896\n",
      "p accept =  1.5383079945680602\n",
      "current step size = 0.0013027354983038138\n",
      "current acceptance ratio = 0.770618556701031\n",
      "currently working on step 389\n"
     ]
    },
    {
     "name": "stderr",
     "output_type": "stream",
     "text": [
      "100%|██████████| 100/100 [00:08<00:00, 11.81it/s]\n",
      "  0%|          | 0/97 [00:00<?, ?it/s]"
     ]
    },
    {
     "name": "stdout",
     "output_type": "stream",
     "text": [
      "initial_potential =  32791.8117201168\n",
      "final_potential =  32656.204864083054\n",
      "energy_change =  -1.1394790478225332\n",
      "p accept =  3.1251398926128737\n",
      "current step size = 0.0013027354983038138\n",
      "current acceptance ratio = 0.7712082262210797\n",
      "currently working on step 390\n"
     ]
    },
    {
     "name": "stderr",
     "output_type": "stream",
     "text": [
      "100%|██████████| 97/97 [00:08<00:00, 12.07it/s]\n",
      "  0%|          | 0/101 [00:00<?, ?it/s]"
     ]
    },
    {
     "name": "stdout",
     "output_type": "stream",
     "text": [
      "initial_potential =  32656.204864083054\n",
      "final_potential =  32703.586092397163\n",
      "energy_change =  -0.10380962195631582\n",
      "p accept =  1.1093892314584968\n",
      "current step size = 0.0013027354983038138\n",
      "current acceptance ratio = 0.7717948717948718\n",
      "currently working on step 391\n"
     ]
    },
    {
     "name": "stderr",
     "output_type": "stream",
     "text": [
      "100%|██████████| 101/101 [00:08<00:00, 12.17it/s]\n",
      "  0%|          | 0/101 [00:00<?, ?it/s]"
     ]
    },
    {
     "name": "stdout",
     "output_type": "stream",
     "text": [
      "initial_potential =  32703.586092397163\n",
      "final_potential =  32779.339446336795\n",
      "energy_change =  0.8008014907682082\n",
      "p accept =  0.4489689753836874\n",
      "current step size = 0.0013027354983038138\n",
      "current acceptance ratio = 0.7723785166240409\n",
      "currently working on step 392\n"
     ]
    },
    {
     "name": "stderr",
     "output_type": "stream",
     "text": [
      "100%|██████████| 101/101 [00:08<00:00, 11.84it/s]\n",
      "  0%|          | 0/98 [00:00<?, ?it/s]"
     ]
    },
    {
     "name": "stdout",
     "output_type": "stream",
     "text": [
      "initial_potential =  32779.339446336795\n",
      "final_potential =  32779.332303869945\n",
      "energy_change =  0.23348137643188238\n",
      "p accept =  0.7917723412290707\n",
      "current step size = 0.0013027354983038138\n",
      "current acceptance ratio = 0.7729591836734694\n",
      "currently working on step 393\n"
     ]
    },
    {
     "name": "stderr",
     "output_type": "stream",
     "text": [
      "100%|██████████| 98/98 [00:08<00:00, 12.18it/s]\n",
      "  0%|          | 0/98 [00:00<?, ?it/s]"
     ]
    },
    {
     "name": "stdout",
     "output_type": "stream",
     "text": [
      "initial_potential =  32779.332303869945\n",
      "final_potential =  32805.45503229052\n",
      "energy_change =  0.13531115287332796\n",
      "p accept =  0.8734440947621421\n",
      "current step size = 0.0013027354983038138\n",
      "current acceptance ratio = 0.7709923664122137\n",
      "currently working on step 394\n"
     ]
    },
    {
     "name": "stderr",
     "output_type": "stream",
     "text": [
      "100%|██████████| 98/98 [00:08<00:00, 12.24it/s]\n",
      "  0%|          | 0/97 [00:00<?, ?it/s]"
     ]
    },
    {
     "name": "stdout",
     "output_type": "stream",
     "text": [
      "initial_potential =  32779.332303869945\n",
      "final_potential =  32777.684564820505\n",
      "energy_change =  -0.14044881585869007\n",
      "p accept =  1.1507901758504138\n",
      "current step size = 0.0013027354983038138\n",
      "current acceptance ratio = 0.7715736040609137\n",
      "currently working on step 395\n"
     ]
    },
    {
     "name": "stderr",
     "output_type": "stream",
     "text": [
      "100%|██████████| 97/97 [00:08<00:00, 11.81it/s]\n",
      "  0%|          | 0/97 [00:00<?, ?it/s]"
     ]
    },
    {
     "name": "stdout",
     "output_type": "stream",
     "text": [
      "initial_potential =  32777.684564820505\n",
      "final_potential =  32786.19931769467\n",
      "energy_change =  0.35347507589904126\n",
      "p accept =  0.702243495157719\n",
      "current step size = 0.0013027354983038138\n",
      "current acceptance ratio = 0.7721518987341772\n",
      "currently working on step 396\n"
     ]
    },
    {
     "name": "stderr",
     "output_type": "stream",
     "text": [
      "100%|██████████| 97/97 [00:08<00:00, 12.10it/s]\n",
      "  0%|          | 0/97 [00:00<?, ?it/s]"
     ]
    },
    {
     "name": "stdout",
     "output_type": "stream",
     "text": [
      "initial_potential =  32786.19931769467\n",
      "final_potential =  32753.908267829593\n",
      "energy_change =  -0.33967580246098805\n",
      "p accept =  1.4044921838371511\n",
      "current step size = 0.0013027354983038138\n",
      "current acceptance ratio = 0.7727272727272727\n",
      "currently working on step 397\n"
     ]
    },
    {
     "name": "stderr",
     "output_type": "stream",
     "text": [
      "100%|██████████| 97/97 [00:07<00:00, 12.25it/s]\n",
      "  0%|          | 0/98 [00:00<?, ?it/s]"
     ]
    },
    {
     "name": "stdout",
     "output_type": "stream",
     "text": [
      "initial_potential =  32753.908267829593\n",
      "final_potential =  32760.815283910953\n",
      "energy_change =  0.19023403884784784\n",
      "p accept =  0.8267656160266754\n",
      "current step size = 0.0013027354983038138\n",
      "current acceptance ratio = 0.7732997481108312\n",
      "currently working on step 398\n"
     ]
    },
    {
     "name": "stderr",
     "output_type": "stream",
     "text": [
      "100%|██████████| 98/98 [00:08<00:00, 11.87it/s]\n",
      "  0%|          | 0/97 [00:00<?, ?it/s]"
     ]
    },
    {
     "name": "stdout",
     "output_type": "stream",
     "text": [
      "initial_potential =  32760.815283910953\n",
      "final_potential =  32764.534302813634\n",
      "energy_change =  0.13870025071082637\n",
      "p accept =  0.8704889177899434\n",
      "current step size = 0.0013027354983038138\n",
      "current acceptance ratio = 0.7713567839195979\n",
      "currently working on step 399\n"
     ]
    },
    {
     "name": "stderr",
     "output_type": "stream",
     "text": [
      "100%|██████████| 97/97 [00:07<00:00, 12.17it/s]\n",
      "  0%|          | 0/99 [00:00<?, ?it/s]"
     ]
    },
    {
     "name": "stdout",
     "output_type": "stream",
     "text": [
      "initial_potential =  32760.815283910953\n",
      "final_potential =  32663.23052256697\n",
      "energy_change =  -0.2797611167334253\n",
      "p accept =  1.3228137765151011\n",
      "current step size = 0.0013027354983038138\n",
      "current acceptance ratio = 0.7719298245614035\n",
      "currently working on step 400\n"
     ]
    },
    {
     "name": "stderr",
     "output_type": "stream",
     "text": [
      "100%|██████████| 99/99 [00:08<00:00, 12.23it/s]\n",
      "  0%|          | 0/98 [00:00<?, ?it/s]"
     ]
    },
    {
     "name": "stdout",
     "output_type": "stream",
     "text": [
      "initial_potential =  32663.23052256697\n",
      "final_potential =  32714.407629968286\n",
      "energy_change =  0.7017195849475684\n",
      "p accept =  0.4957321169516872\n",
      "current step size = 0.0013027354983038138\n",
      "current acceptance ratio = 0.77\n",
      "currently working on step 401\n"
     ]
    },
    {
     "name": "stderr",
     "output_type": "stream",
     "text": [
      "100%|██████████| 98/98 [00:08<00:00, 12.03it/s]\n",
      "  0%|          | 0/97 [00:00<?, ?it/s]"
     ]
    },
    {
     "name": "stdout",
     "output_type": "stream",
     "text": [
      "initial_potential =  32663.23052256697\n",
      "final_potential =  32726.663855733004\n",
      "energy_change =  0.04807467896898743\n",
      "p accept =  0.9530626106867015\n",
      "current step size = 0.0013027354983038138\n",
      "current acceptance ratio = 0.770573566084788\n",
      "currently working on step 402\n"
     ]
    },
    {
     "name": "stderr",
     "output_type": "stream",
     "text": [
      "100%|██████████| 97/97 [00:08<00:00, 11.96it/s]\n",
      "  0%|          | 0/97 [00:00<?, ?it/s]"
     ]
    },
    {
     "name": "stdout",
     "output_type": "stream",
     "text": [
      "initial_potential =  32726.663855733004\n",
      "final_potential =  32767.25055571858\n",
      "energy_change =  0.12960411242966074\n",
      "p accept =  0.8784431268069331\n",
      "current step size = 0.0013027354983038138\n",
      "current acceptance ratio = 0.7711442786069652\n",
      "currently working on step 403\n"
     ]
    },
    {
     "name": "stderr",
     "output_type": "stream",
     "text": [
      "100%|██████████| 97/97 [00:07<00:00, 12.21it/s]\n",
      "  0%|          | 0/99 [00:00<?, ?it/s]"
     ]
    },
    {
     "name": "stdout",
     "output_type": "stream",
     "text": [
      "initial_potential =  32767.25055571858\n",
      "final_potential =  32816.578644259964\n",
      "energy_change =  0.12031284549448173\n",
      "p accept =  0.8866430110525141\n",
      "current step size = 0.0013027354983038138\n",
      "current acceptance ratio = 0.771712158808933\n",
      "currently working on step 404\n"
     ]
    },
    {
     "name": "stderr",
     "output_type": "stream",
     "text": [
      "100%|██████████| 99/99 [00:08<00:00, 12.17it/s]\n",
      "  0%|          | 0/97 [00:00<?, ?it/s]"
     ]
    },
    {
     "name": "stdout",
     "output_type": "stream",
     "text": [
      "initial_potential =  32816.578644259964\n",
      "final_potential =  32749.612434664406\n",
      "energy_change =  -0.375276618215139\n",
      "p accept =  1.455393947417741\n",
      "current step size = 0.0013027354983038138\n",
      "current acceptance ratio = 0.7722772277227723\n",
      "currently working on step 405\n"
     ]
    },
    {
     "name": "stderr",
     "output_type": "stream",
     "text": [
      "100%|██████████| 97/97 [00:08<00:00, 11.77it/s]\n",
      "  0%|          | 0/100 [00:00<?, ?it/s]"
     ]
    },
    {
     "name": "stdout",
     "output_type": "stream",
     "text": [
      "initial_potential =  32749.612434664406\n",
      "final_potential =  32655.33190053716\n",
      "energy_change =  -0.06276805866218638\n",
      "p accept =  1.0647798441267016\n",
      "current step size = 0.0013027354983038138\n",
      "current acceptance ratio = 0.7728395061728395\n",
      "currently working on step 406\n"
     ]
    },
    {
     "name": "stderr",
     "output_type": "stream",
     "text": [
      "100%|██████████| 100/100 [00:08<00:00, 12.25it/s]\n",
      "  0%|          | 0/98 [00:00<?, ?it/s]"
     ]
    },
    {
     "name": "stdout",
     "output_type": "stream",
     "text": [
      "initial_potential =  32655.33190053716\n",
      "final_potential =  32600.135917558702\n",
      "energy_change =  -0.02043843963474501\n",
      "p accept =  1.0206487348002773\n",
      "current step size = 0.0013027354983038138\n",
      "current acceptance ratio = 0.7733990147783252\n",
      "currently working on step 407\n"
     ]
    },
    {
     "name": "stderr",
     "output_type": "stream",
     "text": [
      "100%|██████████| 98/98 [00:08<00:00, 12.22it/s]\n",
      "  0%|          | 0/98 [00:00<?, ?it/s]"
     ]
    },
    {
     "name": "stdout",
     "output_type": "stream",
     "text": [
      "initial_potential =  32600.135917558702\n",
      "final_potential =  32740.72946595563\n",
      "energy_change =  0.18486092817329336\n",
      "p accept =  0.83121987508062\n",
      "current step size = 0.0013027354983038138\n",
      "current acceptance ratio = 0.773955773955774\n",
      "currently working on step 408\n"
     ]
    },
    {
     "name": "stderr",
     "output_type": "stream",
     "text": [
      "100%|██████████| 98/98 [00:08<00:00, 12.03it/s]\n",
      "  0%|          | 0/101 [00:00<?, ?it/s]"
     ]
    },
    {
     "name": "stdout",
     "output_type": "stream",
     "text": [
      "initial_potential =  32740.72946595563\n",
      "final_potential =  32823.7399270493\n",
      "energy_change =  0.2026746874616947\n",
      "p accept =  0.8165438301696235\n",
      "current step size = 0.0013027354983038138\n",
      "current acceptance ratio = 0.7745098039215687\n",
      "currently working on step 409\n"
     ]
    },
    {
     "name": "stderr",
     "output_type": "stream",
     "text": [
      "100%|██████████| 101/101 [00:08<00:00, 12.03it/s]\n",
      "  0%|          | 0/97 [00:00<?, ?it/s]"
     ]
    },
    {
     "name": "stdout",
     "output_type": "stream",
     "text": [
      "initial_potential =  32823.7399270493\n",
      "final_potential =  33082.6127424122\n",
      "energy_change =  0.6546434055198915\n",
      "p accept =  0.5196273257892573\n",
      "current step size = 0.0013027354983038138\n",
      "current acceptance ratio = 0.7750611246943765\n",
      "currently working on step 410\n"
     ]
    },
    {
     "name": "stderr",
     "output_type": "stream",
     "text": [
      "100%|██████████| 97/97 [00:07<00:00, 12.28it/s]\n",
      "  0%|          | 0/100 [00:00<?, ?it/s]"
     ]
    },
    {
     "name": "stdout",
     "output_type": "stream",
     "text": [
      "initial_potential =  33082.6127424122\n",
      "final_potential =  33003.77331113415\n",
      "energy_change =  0.17492846240929794\n",
      "p accept =  0.8395170756500363\n",
      "current step size = 0.0013027354983038138\n",
      "current acceptance ratio = 0.775609756097561\n",
      "currently working on step 411\n"
     ]
    },
    {
     "name": "stderr",
     "output_type": "stream",
     "text": [
      "100%|██████████| 100/100 [00:08<00:00, 11.98it/s]\n",
      "  0%|          | 0/99 [00:00<?, ?it/s]"
     ]
    },
    {
     "name": "stdout",
     "output_type": "stream",
     "text": [
      "initial_potential =  33003.77331113415\n",
      "final_potential =  32751.181623317625\n",
      "energy_change =  -1.3133968929032562\n",
      "p accept =  3.7187845941728748\n",
      "current step size = 0.0013027354983038138\n",
      "current acceptance ratio = 0.7761557177615572\n",
      "currently working on step 412\n"
     ]
    },
    {
     "name": "stderr",
     "output_type": "stream",
     "text": [
      "100%|██████████| 99/99 [00:08<00:00, 12.14it/s]\n",
      "  0%|          | 0/100 [00:00<?, ?it/s]"
     ]
    },
    {
     "name": "stdout",
     "output_type": "stream",
     "text": [
      "initial_potential =  32751.181623317625\n",
      "final_potential =  32687.56513786803\n",
      "energy_change =  -0.3642055624659406\n",
      "p accept =  1.4393700642089713\n",
      "current step size = 0.0013027354983038138\n",
      "current acceptance ratio = 0.7766990291262136\n",
      "currently working on step 413\n"
     ]
    },
    {
     "name": "stderr",
     "output_type": "stream",
     "text": [
      "100%|██████████| 100/100 [00:08<00:00, 11.94it/s]\n",
      "  0%|          | 0/99 [00:00<?, ?it/s]"
     ]
    },
    {
     "name": "stdout",
     "output_type": "stream",
     "text": [
      "initial_potential =  32687.56513786803\n",
      "final_potential =  32846.085311199735\n",
      "energy_change =  0.766220381759922\n",
      "p accept =  0.46476639231003425\n",
      "current step size = 0.0013027354983038138\n",
      "current acceptance ratio = 0.774818401937046\n",
      "currently working on step 414\n"
     ]
    },
    {
     "name": "stderr",
     "output_type": "stream",
     "text": [
      "100%|██████████| 99/99 [00:08<00:00, 12.19it/s]\n",
      "  0%|          | 0/101 [00:00<?, ?it/s]"
     ]
    },
    {
     "name": "stdout",
     "output_type": "stream",
     "text": [
      "initial_potential =  32687.56513786803\n",
      "final_potential =  32620.71547031418\n",
      "energy_change =  0.11899085112963803\n",
      "p accept =  0.8878159232375813\n",
      "current step size = 0.0013027354983038138\n",
      "current acceptance ratio = 0.7753623188405797\n",
      "currently working on step 415\n"
     ]
    },
    {
     "name": "stderr",
     "output_type": "stream",
     "text": [
      "100%|██████████| 101/101 [00:08<00:00, 12.19it/s]\n",
      "  0%|          | 0/99 [00:00<?, ?it/s]"
     ]
    },
    {
     "name": "stdout",
     "output_type": "stream",
     "text": [
      "initial_potential =  32620.71547031418\n",
      "final_potential =  32793.9857764186\n",
      "energy_change =  0.7774684003379662\n",
      "p accept =  0.4595679820102514\n",
      "current step size = 0.0013027354983038138\n",
      "current acceptance ratio = 0.7734939759036145\n",
      "currently working on step 416\n"
     ]
    },
    {
     "name": "stderr",
     "output_type": "stream",
     "text": [
      "100%|██████████| 99/99 [00:08<00:00, 12.28it/s]\n",
      "  0%|          | 0/97 [00:00<?, ?it/s]"
     ]
    },
    {
     "name": "stdout",
     "output_type": "stream",
     "text": [
      "initial_potential =  32620.71547031418\n",
      "final_potential =  32581.412234242664\n",
      "energy_change =  -0.3506164467544295\n",
      "p accept =  1.419942597860834\n",
      "current step size = 0.0013027354983038138\n",
      "current acceptance ratio = 0.7740384615384616\n",
      "currently working on step 417\n"
     ]
    },
    {
     "name": "stderr",
     "output_type": "stream",
     "text": [
      "100%|██████████| 97/97 [00:08<00:00, 12.01it/s]\n",
      "  0%|          | 0/98 [00:00<?, ?it/s]"
     ]
    },
    {
     "name": "stdout",
     "output_type": "stream",
     "text": [
      "initial_potential =  32581.412234242664\n",
      "final_potential =  32516.800984841317\n",
      "energy_change =  0.02310552012932021\n",
      "p accept =  0.9771593683500815\n",
      "current step size = 0.0013027354983038138\n",
      "current acceptance ratio = 0.7745803357314148\n",
      "currently working on step 418\n"
     ]
    },
    {
     "name": "stderr",
     "output_type": "stream",
     "text": [
      "100%|██████████| 98/98 [00:08<00:00, 12.01it/s]\n",
      "  0%|          | 0/101 [00:00<?, ?it/s]"
     ]
    },
    {
     "name": "stdout",
     "output_type": "stream",
     "text": [
      "initial_potential =  32516.800984841317\n",
      "final_potential =  32540.50205876115\n",
      "energy_change =  0.050867804427980445\n",
      "p accept =  0.9504043014685998\n",
      "current step size = 0.0013027354983038138\n",
      "current acceptance ratio = 0.7751196172248804\n",
      "currently working on step 419\n"
     ]
    },
    {
     "name": "stderr",
     "output_type": "stream",
     "text": [
      "100%|██████████| 101/101 [00:08<00:00, 12.21it/s]\n",
      "  0%|          | 0/99 [00:00<?, ?it/s]"
     ]
    },
    {
     "name": "stdout",
     "output_type": "stream",
     "text": [
      "initial_potential =  32540.50205876115\n",
      "final_potential =  32885.77927913192\n",
      "energy_change =  0.736558152231737\n",
      "p accept =  0.47875889825253415\n",
      "current step size = 0.0013027354983038138\n",
      "current acceptance ratio = 0.7756563245823389\n",
      "currently working on step 420\n"
     ]
    },
    {
     "name": "stderr",
     "output_type": "stream",
     "text": [
      "100%|██████████| 99/99 [00:08<00:00, 12.26it/s]\n",
      "  0%|          | 0/101 [00:00<?, ?it/s]"
     ]
    },
    {
     "name": "stdout",
     "output_type": "stream",
     "text": [
      "initial_potential =  32885.77927913192\n",
      "final_potential =  32925.83435462785\n",
      "energy_change =  0.9995514678012114\n",
      "p accept =  0.3680444839568148\n",
      "current step size = 0.0013027354983038138\n",
      "current acceptance ratio = 0.7738095238095238\n",
      "currently working on step 421\n"
     ]
    },
    {
     "name": "stderr",
     "output_type": "stream",
     "text": [
      "100%|██████████| 101/101 [00:08<00:00, 12.12it/s]\n",
      "  0%|          | 0/99 [00:00<?, ?it/s]"
     ]
    },
    {
     "name": "stdout",
     "output_type": "stream",
     "text": [
      "initial_potential =  32885.77927913192\n",
      "final_potential =  33039.65460943726\n",
      "energy_change =  0.9853308613674017\n",
      "p accept =  0.37331569076119614\n",
      "current step size = 0.0013027354983038138\n",
      "current acceptance ratio = 0.7719714964370546\n",
      "currently working on step 422\n"
     ]
    },
    {
     "name": "stderr",
     "output_type": "stream",
     "text": [
      "100%|██████████| 99/99 [00:08<00:00, 12.28it/s]\n",
      "  0%|          | 0/101 [00:00<?, ?it/s]"
     ]
    },
    {
     "name": "stdout",
     "output_type": "stream",
     "text": [
      "initial_potential =  32885.77927913192\n",
      "final_potential =  32803.69120601451\n",
      "energy_change =  0.24407675680413377\n",
      "p accept =  0.7834274985639198\n",
      "current step size = 0.0013027354983038138\n",
      "current acceptance ratio = 0.7725118483412322\n",
      "currently working on step 423\n"
     ]
    },
    {
     "name": "stderr",
     "output_type": "stream",
     "text": [
      "100%|██████████| 101/101 [00:08<00:00, 11.95it/s]\n",
      "  0%|          | 0/97 [00:00<?, ?it/s]"
     ]
    },
    {
     "name": "stdout",
     "output_type": "stream",
     "text": [
      "initial_potential =  32803.69120601451\n",
      "final_potential =  32662.3819995669\n",
      "energy_change =  -0.39657398068811744\n",
      "p accept =  1.486722422654236\n",
      "current step size = 0.0013027354983038138\n",
      "current acceptance ratio = 0.7730496453900709\n",
      "currently working on step 424\n"
     ]
    },
    {
     "name": "stderr",
     "output_type": "stream",
     "text": [
      "100%|██████████| 97/97 [00:08<00:00, 12.03it/s]\n",
      "  0%|          | 0/98 [00:00<?, ?it/s]"
     ]
    },
    {
     "name": "stdout",
     "output_type": "stream",
     "text": [
      "initial_potential =  32662.3819995669\n",
      "final_potential =  32888.00202836632\n",
      "energy_change =  0.9559203192475252\n",
      "p accept =  0.38445815744522455\n",
      "current step size = 0.0013027354983038138\n",
      "current acceptance ratio = 0.7712264150943396\n",
      "currently working on step 425\n"
     ]
    },
    {
     "name": "stderr",
     "output_type": "stream",
     "text": [
      "100%|██████████| 98/98 [00:08<00:00, 12.19it/s]\n",
      "  0%|          | 0/100 [00:00<?, ?it/s]"
     ]
    },
    {
     "name": "stdout",
     "output_type": "stream",
     "text": [
      "initial_potential =  32662.3819995669\n",
      "final_potential =  32637.340308823314\n",
      "energy_change =  -0.3676498180429917\n",
      "p accept =  1.444336169939377\n",
      "current step size = 0.0013027354983038138\n",
      "current acceptance ratio = 0.7717647058823529\n",
      "currently working on step 426\n"
     ]
    },
    {
     "name": "stderr",
     "output_type": "stream",
     "text": [
      "100%|██████████| 100/100 [00:08<00:00, 12.29it/s]\n",
      "  0%|          | 0/97 [00:00<?, ?it/s]"
     ]
    },
    {
     "name": "stdout",
     "output_type": "stream",
     "text": [
      "initial_potential =  32637.340308823314\n",
      "final_potential =  32506.12183297175\n",
      "energy_change =  -0.25866003961709794\n",
      "p accept =  1.2951934155253575\n",
      "current step size = 0.0013027354983038138\n",
      "current acceptance ratio = 0.7723004694835681\n",
      "currently working on step 427\n"
     ]
    },
    {
     "name": "stderr",
     "output_type": "stream",
     "text": [
      "100%|██████████| 97/97 [00:07<00:00, 12.23it/s]\n",
      "  0%|          | 0/99 [00:00<?, ?it/s]"
     ]
    },
    {
     "name": "stdout",
     "output_type": "stream",
     "text": [
      "initial_potential =  32506.12183297175\n",
      "final_potential =  32553.98903331599\n",
      "energy_change =  0.17073896851798054\n",
      "p accept =  0.8430416051523697\n",
      "current step size = 0.0013027354983038138\n",
      "current acceptance ratio = 0.7728337236533958\n",
      "currently working on step 428\n"
     ]
    },
    {
     "name": "stderr",
     "output_type": "stream",
     "text": [
      "100%|██████████| 99/99 [00:08<00:00, 12.21it/s]\n",
      "  0%|          | 0/97 [00:00<?, ?it/s]"
     ]
    },
    {
     "name": "stdout",
     "output_type": "stream",
     "text": [
      "initial_potential =  32553.98903331599\n",
      "final_potential =  32553.78841949958\n",
      "energy_change =  0.14806375879561529\n",
      "p accept =  0.862376129125789\n",
      "current step size = 0.0013027354983038138\n",
      "current acceptance ratio = 0.7710280373831776\n",
      "currently working on step 429\n"
     ]
    },
    {
     "name": "stderr",
     "output_type": "stream",
     "text": [
      "100%|██████████| 97/97 [00:08<00:00, 12.08it/s]\n",
      "  0%|          | 0/98 [00:00<?, ?it/s]"
     ]
    },
    {
     "name": "stdout",
     "output_type": "stream",
     "text": [
      "initial_potential =  32553.98903331599\n",
      "final_potential =  32489.82037337454\n",
      "energy_change =  0.08932039976934902\n",
      "p accept =  0.9145525042158733\n",
      "current step size = 0.0013027354983038138\n",
      "current acceptance ratio = 0.7692307692307693\n",
      "currently working on step 430\n"
     ]
    },
    {
     "name": "stderr",
     "output_type": "stream",
     "text": [
      "100%|██████████| 98/98 [00:08<00:00, 12.03it/s]\n",
      "  0%|          | 0/99 [00:00<?, ?it/s]"
     ]
    },
    {
     "name": "stdout",
     "output_type": "stream",
     "text": [
      "initial_potential =  32553.98903331599\n",
      "final_potential =  32710.89982956726\n",
      "energy_change =  0.4104381582001224\n",
      "p accept =  0.6633595300325587\n",
      "current step size = 0.0013027354983038138\n",
      "current acceptance ratio = 0.7697674418604651\n",
      "currently working on step 431\n"
     ]
    },
    {
     "name": "stderr",
     "output_type": "stream",
     "text": [
      "100%|██████████| 99/99 [00:08<00:00, 12.28it/s]\n",
      "  0%|          | 0/98 [00:00<?, ?it/s]"
     ]
    },
    {
     "name": "stdout",
     "output_type": "stream",
     "text": [
      "initial_potential =  32710.89982956726\n",
      "final_potential =  32593.546815557376\n",
      "energy_change =  -0.7040846924355719\n",
      "p accept =  2.021995090260966\n",
      "current step size = 0.0013027354983038138\n",
      "current acceptance ratio = 0.7703016241299304\n",
      "currently working on step 432\n"
     ]
    },
    {
     "name": "stderr",
     "output_type": "stream",
     "text": [
      "100%|██████████| 98/98 [00:07<00:00, 12.27it/s]\n",
      "  0%|          | 0/100 [00:00<?, ?it/s]"
     ]
    },
    {
     "name": "stdout",
     "output_type": "stream",
     "text": [
      "initial_potential =  32593.546815557376\n",
      "final_potential =  32490.125989355358\n",
      "energy_change =  0.145320762967458\n",
      "p accept =  0.8647448704889161\n",
      "current step size = 0.0013027354983038138\n",
      "current acceptance ratio = 0.7708333333333334\n",
      "currently working on step 433\n"
     ]
    },
    {
     "name": "stderr",
     "output_type": "stream",
     "text": [
      "100%|██████████| 100/100 [00:08<00:00, 12.29it/s]\n",
      "  0%|          | 0/99 [00:00<?, ?it/s]"
     ]
    },
    {
     "name": "stdout",
     "output_type": "stream",
     "text": [
      "initial_potential =  32490.125989355358\n",
      "final_potential =  32952.393248516855\n",
      "energy_change =  1.4113292696711142\n",
      "p accept =  0.24381896649164064\n",
      "current step size = 0.0013027354983038138\n",
      "current acceptance ratio = 0.7713625866050808\n",
      "currently working on step 434\n"
     ]
    },
    {
     "name": "stderr",
     "output_type": "stream",
     "text": [
      "100%|██████████| 99/99 [00:08<00:00, 12.28it/s]\n",
      "  0%|          | 0/100 [00:00<?, ?it/s]"
     ]
    },
    {
     "name": "stdout",
     "output_type": "stream",
     "text": [
      "initial_potential =  32952.393248516855\n",
      "final_potential =  32893.00260175274\n",
      "energy_change =  0.25104239604843315\n",
      "p accept =  0.7779893871840191\n",
      "current step size = 0.0013027354983038138\n",
      "current acceptance ratio = 0.771889400921659\n",
      "currently working on step 435\n"
     ]
    },
    {
     "name": "stderr",
     "output_type": "stream",
     "text": [
      "100%|██████████| 100/100 [00:08<00:00, 12.23it/s]\n",
      "  0%|          | 0/100 [00:00<?, ?it/s]"
     ]
    },
    {
     "name": "stdout",
     "output_type": "stream",
     "text": [
      "initial_potential =  32893.00260175274\n",
      "final_potential =  32925.271316591665\n",
      "energy_change =  -0.15192301027127542\n",
      "p accept =  1.1640706115014614\n",
      "current step size = 0.0013027354983038138\n",
      "current acceptance ratio = 0.7724137931034483\n",
      "currently working on step 436\n"
     ]
    },
    {
     "name": "stderr",
     "output_type": "stream",
     "text": [
      "100%|██████████| 100/100 [00:08<00:00, 12.03it/s]\n",
      "  0%|          | 0/101 [00:00<?, ?it/s]"
     ]
    },
    {
     "name": "stdout",
     "output_type": "stream",
     "text": [
      "initial_potential =  32925.271316591665\n",
      "final_potential =  32956.26335400698\n",
      "energy_change =  0.35421386947564315\n",
      "p accept =  0.7017248737749485\n",
      "current step size = 0.0013027354983038138\n",
      "current acceptance ratio = 0.7706422018348624\n",
      "currently working on step 437\n"
     ]
    },
    {
     "name": "stderr",
     "output_type": "stream",
     "text": [
      "100%|██████████| 101/101 [00:08<00:00, 12.17it/s]\n",
      "  0%|          | 0/97 [00:00<?, ?it/s]"
     ]
    },
    {
     "name": "stdout",
     "output_type": "stream",
     "text": [
      "initial_potential =  32925.271316591665\n",
      "final_potential =  32686.75042663762\n",
      "energy_change =  -1.2710938734380761\n",
      "p accept =  3.5647498155526556\n",
      "current step size = 0.0013027354983038138\n",
      "current acceptance ratio = 0.7711670480549199\n",
      "currently working on step 438\n"
     ]
    },
    {
     "name": "stderr",
     "output_type": "stream",
     "text": [
      "100%|██████████| 97/97 [00:07<00:00, 12.32it/s]\n",
      "  0%|          | 0/101 [00:00<?, ?it/s]"
     ]
    },
    {
     "name": "stdout",
     "output_type": "stream",
     "text": [
      "initial_potential =  32686.75042663762\n",
      "final_potential =  32581.954331808774\n",
      "energy_change =  -0.23793564777588472\n",
      "p accept =  1.2686275511935354\n",
      "current step size = 0.0013027354983038138\n",
      "current acceptance ratio = 0.771689497716895\n",
      "currently working on step 439\n"
     ]
    },
    {
     "name": "stderr",
     "output_type": "stream",
     "text": [
      "100%|██████████| 101/101 [00:08<00:00, 12.16it/s]\n",
      "  0%|          | 0/98 [00:00<?, ?it/s]"
     ]
    },
    {
     "name": "stdout",
     "output_type": "stream",
     "text": [
      "initial_potential =  32581.954331808774\n",
      "final_potential =  32488.87911408352\n",
      "energy_change =  -0.46661523793591186\n",
      "p accept =  1.594587748495523\n",
      "current step size = 0.0013027354983038138\n",
      "current acceptance ratio = 0.7722095671981777\n",
      "currently working on step 440\n"
     ]
    },
    {
     "name": "stderr",
     "output_type": "stream",
     "text": [
      "100%|██████████| 98/98 [00:07<00:00, 12.34it/s]\n",
      "  0%|          | 0/99 [00:00<?, ?it/s]"
     ]
    },
    {
     "name": "stdout",
     "output_type": "stream",
     "text": [
      "initial_potential =  32488.87911408352\n",
      "final_potential =  32406.96164960863\n",
      "energy_change =  -0.16759429787634872\n",
      "p accept =  1.1824567880918224\n",
      "current step size = 0.0013027354983038138\n",
      "current acceptance ratio = 0.7727272727272727\n",
      "currently working on step 441\n"
     ]
    },
    {
     "name": "stderr",
     "output_type": "stream",
     "text": [
      "100%|██████████| 99/99 [00:08<00:00, 12.30it/s]\n",
      "  0%|          | 0/101 [00:00<?, ?it/s]"
     ]
    },
    {
     "name": "stdout",
     "output_type": "stream",
     "text": [
      "initial_potential =  32406.96164960863\n",
      "final_potential =  32434.64651689072\n",
      "energy_change =  0.19230788592540193\n",
      "p accept =  0.8250528072356856\n",
      "current step size = 0.0013027354983038138\n",
      "current acceptance ratio = 0.7732426303854876\n",
      "currently working on step 442\n"
     ]
    },
    {
     "name": "stderr",
     "output_type": "stream",
     "text": [
      "100%|██████████| 101/101 [00:08<00:00, 12.10it/s]\n",
      "  0%|          | 0/101 [00:00<?, ?it/s]"
     ]
    },
    {
     "name": "stdout",
     "output_type": "stream",
     "text": [
      "initial_potential =  32434.64651689072\n",
      "final_potential =  32724.75352739457\n",
      "energy_change =  1.0383356700767763\n",
      "p accept =  0.3540434369678532\n",
      "current step size = 0.0013027354983038138\n",
      "current acceptance ratio = 0.7737556561085973\n",
      "currently working on step 443\n"
     ]
    },
    {
     "name": "stderr",
     "output_type": "stream",
     "text": [
      "100%|██████████| 101/101 [00:08<00:00, 12.13it/s]\n",
      "  0%|          | 0/97 [00:00<?, ?it/s]"
     ]
    },
    {
     "name": "stdout",
     "output_type": "stream",
     "text": [
      "initial_potential =  32724.75352739457\n",
      "final_potential =  32820.950708390264\n",
      "energy_change =  -0.12184965307824314\n",
      "p accept =  1.129584259496726\n",
      "current step size = 0.0013027354983038138\n",
      "current acceptance ratio = 0.7742663656884876\n",
      "currently working on step 444\n"
     ]
    },
    {
     "name": "stderr",
     "output_type": "stream",
     "text": [
      "100%|██████████| 97/97 [00:07<00:00, 12.17it/s]\n",
      "  0%|          | 0/100 [00:00<?, ?it/s]"
     ]
    },
    {
     "name": "stdout",
     "output_type": "stream",
     "text": [
      "initial_potential =  32820.950708390264\n",
      "final_potential =  32656.980043717766\n",
      "energy_change =  0.20719362536328845\n",
      "p accept =  0.8128622440018689\n",
      "current step size = 0.0013027354983038138\n",
      "current acceptance ratio = 0.7747747747747747\n",
      "currently working on step 445\n"
     ]
    },
    {
     "name": "stderr",
     "output_type": "stream",
     "text": [
      "100%|██████████| 100/100 [00:08<00:00, 12.37it/s]\n",
      "  0%|          | 0/97 [00:00<?, ?it/s]"
     ]
    },
    {
     "name": "stdout",
     "output_type": "stream",
     "text": [
      "initial_potential =  32656.980043717766\n",
      "final_potential =  32683.7597613204\n",
      "energy_change =  0.27249822902376764\n",
      "p accept =  0.7614747777277441\n",
      "current step size = 0.0013027354983038138\n",
      "current acceptance ratio = 0.7730337078651686\n",
      "currently working on step 446\n"
     ]
    },
    {
     "name": "stderr",
     "output_type": "stream",
     "text": [
      "100%|██████████| 97/97 [00:07<00:00, 12.36it/s]\n",
      "  0%|          | 0/99 [00:00<?, ?it/s]"
     ]
    },
    {
     "name": "stdout",
     "output_type": "stream",
     "text": [
      "initial_potential =  32656.980043717766\n",
      "final_potential =  32731.495083811205\n",
      "energy_change =  -0.13632170837081503\n",
      "p accept =  1.1460505283435853\n",
      "current step size = 0.0013027354983038138\n",
      "current acceptance ratio = 0.773542600896861\n",
      "currently working on step 447\n"
     ]
    },
    {
     "name": "stderr",
     "output_type": "stream",
     "text": [
      "100%|██████████| 99/99 [00:08<00:00, 12.10it/s]\n",
      "  0%|          | 0/97 [00:00<?, ?it/s]"
     ]
    },
    {
     "name": "stdout",
     "output_type": "stream",
     "text": [
      "initial_potential =  32731.495083811205\n",
      "final_potential =  32850.009672748456\n",
      "energy_change =  0.7767986110702623\n",
      "p accept =  0.45987589882055824\n",
      "current step size = 0.0013027354983038138\n",
      "current acceptance ratio = 0.7740492170022372\n",
      "currently working on step 448\n"
     ]
    },
    {
     "name": "stderr",
     "output_type": "stream",
     "text": [
      "100%|██████████| 97/97 [00:07<00:00, 12.20it/s]\n",
      "  0%|          | 0/100 [00:00<?, ?it/s]"
     ]
    },
    {
     "name": "stdout",
     "output_type": "stream",
     "text": [
      "initial_potential =  32850.009672748456\n",
      "final_potential =  32928.451921268526\n",
      "energy_change =  0.1468511282291729\n",
      "p accept =  0.8634225070864642\n",
      "current step size = 0.0013027354983038138\n",
      "current acceptance ratio = 0.7745535714285714\n",
      "currently working on step 449\n"
     ]
    },
    {
     "name": "stderr",
     "output_type": "stream",
     "text": [
      "100%|██████████| 100/100 [00:08<00:00, 12.03it/s]\n",
      "  0%|          | 0/100 [00:00<?, ?it/s]"
     ]
    },
    {
     "name": "stdout",
     "output_type": "stream",
     "text": [
      "initial_potential =  32928.451921268526\n",
      "final_potential =  32927.676882520835\n",
      "energy_change =  0.14363125433737878\n",
      "p accept =  0.86620709928669\n",
      "current step size = 0.0013027354983038138\n",
      "current acceptance ratio = 0.7750556792873051\n",
      "currently working on step 450\n"
     ]
    },
    {
     "name": "stderr",
     "output_type": "stream",
     "text": [
      "100%|██████████| 100/100 [00:08<00:00, 12.17it/s]\n",
      "  0%|          | 0/99 [00:00<?, ?it/s]"
     ]
    },
    {
     "name": "stdout",
     "output_type": "stream",
     "text": [
      "initial_potential =  32927.676882520835\n",
      "final_potential =  32915.17727804671\n",
      "energy_change =  -0.13006383570609614\n",
      "p accept =  1.1389010835590043\n",
      "current step size = 0.0013027354983038138\n",
      "current acceptance ratio = 0.7755555555555556\n",
      "currently working on step 451\n"
     ]
    },
    {
     "name": "stderr",
     "output_type": "stream",
     "text": [
      "100%|██████████| 99/99 [00:08<00:00, 12.36it/s]\n",
      "  0%|          | 0/100 [00:00<?, ?it/s]"
     ]
    },
    {
     "name": "stdout",
     "output_type": "stream",
     "text": [
      "initial_potential =  32915.17727804671\n",
      "final_potential =  32917.573341304174\n",
      "energy_change =  0.11943009165406693\n",
      "p accept =  0.8874260441374806\n",
      "current step size = 0.0013027354983038138\n",
      "current acceptance ratio = 0.7738359201773836\n",
      "currently working on step 452\n"
     ]
    },
    {
     "name": "stderr",
     "output_type": "stream",
     "text": [
      "100%|██████████| 100/100 [00:08<00:00, 12.35it/s]\n",
      "  0%|          | 0/99 [00:00<?, ?it/s]"
     ]
    },
    {
     "name": "stdout",
     "output_type": "stream",
     "text": [
      "initial_potential =  32915.17727804671\n",
      "final_potential =  32931.411972936294\n",
      "energy_change =  0.41271426947787404\n",
      "p accept =  0.6618513669496578\n",
      "current step size = 0.0013027354983038138\n",
      "current acceptance ratio = 0.7743362831858407\n",
      "currently working on step 453\n"
     ]
    },
    {
     "name": "stderr",
     "output_type": "stream",
     "text": [
      "100%|██████████| 99/99 [00:08<00:00, 12.33it/s]\n",
      "  0%|          | 0/100 [00:00<?, ?it/s]"
     ]
    },
    {
     "name": "stdout",
     "output_type": "stream",
     "text": [
      "initial_potential =  32931.411972936294\n",
      "final_potential =  32803.008808844694\n",
      "energy_change =  -0.5470049335272051\n",
      "p accept =  1.728069576115817\n",
      "current step size = 0.0013027354983038138\n",
      "current acceptance ratio = 0.7748344370860927\n",
      "currently working on step 454\n"
     ]
    },
    {
     "name": "stderr",
     "output_type": "stream",
     "text": [
      "100%|██████████| 100/100 [00:08<00:00, 12.21it/s]\n",
      "  0%|          | 0/101 [00:00<?, ?it/s]"
     ]
    },
    {
     "name": "stdout",
     "output_type": "stream",
     "text": [
      "initial_potential =  32803.008808844694\n",
      "final_potential =  32933.08944039959\n",
      "energy_change =  0.5162288616556907\n",
      "p accept =  0.5967668000066314\n",
      "current step size = 0.0013027354983038138\n",
      "current acceptance ratio = 0.775330396475771\n",
      "currently working on step 455\n"
     ]
    },
    {
     "name": "stderr",
     "output_type": "stream",
     "text": [
      "100%|██████████| 101/101 [00:08<00:00, 12.31it/s]\n",
      "  0%|          | 0/99 [00:00<?, ?it/s]"
     ]
    },
    {
     "name": "stdout",
     "output_type": "stream",
     "text": [
      "initial_potential =  32933.08944039959\n",
      "final_potential =  32918.61188593367\n",
      "energy_change =  0.028631245804717764\n",
      "p accept =  0.9717747444178008\n",
      "current step size = 0.0013027354983038138\n",
      "current acceptance ratio = 0.7758241758241758\n",
      "currently working on step 456\n"
     ]
    },
    {
     "name": "stderr",
     "output_type": "stream",
     "text": [
      "100%|██████████| 99/99 [00:08<00:00, 12.24it/s]\n",
      "  0%|          | 0/100 [00:00<?, ?it/s]"
     ]
    },
    {
     "name": "stdout",
     "output_type": "stream",
     "text": [
      "initial_potential =  32918.61188593367\n",
      "final_potential =  33086.737921196574\n",
      "energy_change =  0.4487170861393679\n",
      "p accept =  0.6384466985657598\n",
      "current step size = 0.0013027354983038138\n",
      "current acceptance ratio = 0.7741228070175439\n",
      "currently working on step 457\n"
     ]
    },
    {
     "name": "stderr",
     "output_type": "stream",
     "text": [
      "100%|██████████| 100/100 [00:08<00:00, 12.17it/s]\n",
      "  0%|          | 0/99 [00:00<?, ?it/s]"
     ]
    },
    {
     "name": "stdout",
     "output_type": "stream",
     "text": [
      "initial_potential =  32918.61188593367\n",
      "final_potential =  32797.04415941169\n",
      "energy_change =  -0.2464416232833173\n",
      "p accept =  1.2794644901014105\n",
      "current step size = 0.0013027354983038138\n",
      "current acceptance ratio = 0.774617067833698\n",
      "currently working on step 458\n"
     ]
    },
    {
     "name": "stderr",
     "output_type": "stream",
     "text": [
      "100%|██████████| 99/99 [00:08<00:00, 12.07it/s]\n",
      "  0%|          | 0/101 [00:00<?, ?it/s]"
     ]
    },
    {
     "name": "stdout",
     "output_type": "stream",
     "text": [
      "initial_potential =  32797.04415941169\n",
      "final_potential =  32858.684920339336\n",
      "energy_change =  -0.05180888925679028\n",
      "p accept =  1.0531744503274962\n",
      "current step size = 0.0013027354983038138\n",
      "current acceptance ratio = 0.7751091703056768\n",
      "currently working on step 459\n"
     ]
    },
    {
     "name": "stderr",
     "output_type": "stream",
     "text": [
      "100%|██████████| 101/101 [00:08<00:00, 12.18it/s]\n",
      "  0%|          | 0/98 [00:00<?, ?it/s]"
     ]
    },
    {
     "name": "stdout",
     "output_type": "stream",
     "text": [
      "initial_potential =  32858.684920339336\n",
      "final_potential =  32759.147609973257\n",
      "energy_change =  -0.13294877875887323\n",
      "p accept =  1.1421914923666896\n",
      "current step size = 0.0013027354983038138\n",
      "current acceptance ratio = 0.775599128540305\n",
      "currently working on step 460\n"
     ]
    },
    {
     "name": "stderr",
     "output_type": "stream",
     "text": [
      "100%|██████████| 98/98 [00:08<00:00, 11.58it/s]\n",
      "  0%|          | 0/101 [00:00<?, ?it/s]"
     ]
    },
    {
     "name": "stdout",
     "output_type": "stream",
     "text": [
      "initial_potential =  32759.147609973257\n",
      "final_potential =  32966.69494938907\n",
      "energy_change =  0.2675267966114916\n",
      "p accept =  0.7652698237099168\n",
      "current step size = 0.0013027354983038138\n",
      "current acceptance ratio = 0.7760869565217391\n",
      "currently working on step 461\n"
     ]
    },
    {
     "name": "stderr",
     "output_type": "stream",
     "text": [
      "100%|██████████| 101/101 [00:08<00:00, 12.15it/s]\n",
      "  0%|          | 0/100 [00:00<?, ?it/s]"
     ]
    },
    {
     "name": "stdout",
     "output_type": "stream",
     "text": [
      "initial_potential =  32966.69494938907\n",
      "final_potential =  33018.383532336025\n",
      "energy_change =  -0.00992962927557528\n",
      "p accept =  1.0099790916230502\n",
      "current step size = 0.0013027354983038138\n",
      "current acceptance ratio = 0.7765726681127982\n",
      "currently working on step 462\n"
     ]
    },
    {
     "name": "stderr",
     "output_type": "stream",
     "text": [
      "100%|██████████| 100/100 [00:08<00:00, 12.25it/s]\n",
      "  0%|          | 0/101 [00:00<?, ?it/s]"
     ]
    },
    {
     "name": "stdout",
     "output_type": "stream",
     "text": [
      "initial_potential =  33018.383532336025\n",
      "final_potential =  32849.75280635845\n",
      "energy_change =  -0.47955836277105846\n",
      "p accept =  1.615360841151304\n",
      "current step size = 0.0013027354983038138\n",
      "current acceptance ratio = 0.7770562770562771\n",
      "currently working on step 463\n"
     ]
    },
    {
     "name": "stderr",
     "output_type": "stream",
     "text": [
      "100%|██████████| 101/101 [00:08<00:00, 12.34it/s]\n",
      "  0%|          | 0/101 [00:00<?, ?it/s]"
     ]
    },
    {
     "name": "stdout",
     "output_type": "stream",
     "text": [
      "initial_potential =  32849.75280635845\n",
      "final_potential =  32793.13979577043\n",
      "energy_change =  -0.12189555146323983\n",
      "p accept =  1.1296361067797989\n",
      "current step size = 0.0013027354983038138\n",
      "current acceptance ratio = 0.7775377969762419\n",
      "currently working on step 464\n"
     ]
    },
    {
     "name": "stderr",
     "output_type": "stream",
     "text": [
      "100%|██████████| 101/101 [00:08<00:00, 12.33it/s]\n",
      "  0%|          | 0/100 [00:00<?, ?it/s]"
     ]
    },
    {
     "name": "stdout",
     "output_type": "stream",
     "text": [
      "initial_potential =  32793.13979577043\n",
      "final_potential =  32893.96789514024\n",
      "energy_change =  0.524126387652359\n",
      "p accept =  0.5920723802402825\n",
      "current step size = 0.0013027354983038138\n",
      "current acceptance ratio = 0.7780172413793104\n",
      "currently working on step 465\n"
     ]
    },
    {
     "name": "stderr",
     "output_type": "stream",
     "text": [
      "100%|██████████| 100/100 [00:08<00:00, 12.35it/s]\n",
      "  0%|          | 0/100 [00:00<?, ?it/s]"
     ]
    },
    {
     "name": "stdout",
     "output_type": "stream",
     "text": [
      "initial_potential =  32893.96789514024\n",
      "final_potential =  33101.26866192857\n",
      "energy_change =  0.7951832029793877\n",
      "p accept =  0.45149851147274145\n",
      "current step size = 0.0013027354983038138\n",
      "current acceptance ratio = 0.7784946236559139\n",
      "currently working on step 466\n"
     ]
    },
    {
     "name": "stderr",
     "output_type": "stream",
     "text": [
      "100%|██████████| 100/100 [00:08<00:00, 12.37it/s]\n",
      "  0%|          | 0/99 [00:00<?, ?it/s]"
     ]
    },
    {
     "name": "stdout",
     "output_type": "stream",
     "text": [
      "initial_potential =  33101.26866192857\n",
      "final_potential =  32721.014685636976\n",
      "energy_change =  -1.4854348851222312\n",
      "p accept =  4.416885833102608\n",
      "current step size = 0.0013027354983038138\n",
      "current acceptance ratio = 0.778969957081545\n",
      "currently working on step 467\n"
     ]
    },
    {
     "name": "stderr",
     "output_type": "stream",
     "text": [
      "100%|██████████| 99/99 [00:08<00:00, 12.35it/s]\n",
      "  0%|          | 0/101 [00:00<?, ?it/s]"
     ]
    },
    {
     "name": "stdout",
     "output_type": "stream",
     "text": [
      "initial_potential =  32721.014685636976\n",
      "final_potential =  32681.24898316549\n",
      "energy_change =  0.28309983800863847\n",
      "p accept =  0.7534445616999051\n",
      "current step size = 0.0013027354983038138\n",
      "current acceptance ratio = 0.7794432548179872\n",
      "currently working on step 468\n"
     ]
    },
    {
     "name": "stderr",
     "output_type": "stream",
     "text": [
      "100%|██████████| 101/101 [00:08<00:00, 12.24it/s]\n",
      "  0%|          | 0/99 [00:00<?, ?it/s]"
     ]
    },
    {
     "name": "stdout",
     "output_type": "stream",
     "text": [
      "initial_potential =  32681.24898316549\n",
      "final_potential =  32828.000979355274\n",
      "energy_change =  0.8577951137849595\n",
      "p accept =  0.4240961359223272\n",
      "current step size = 0.0013027354983038138\n",
      "current acceptance ratio = 0.7777777777777778\n",
      "currently working on step 469\n"
     ]
    },
    {
     "name": "stderr",
     "output_type": "stream",
     "text": [
      "100%|██████████| 99/99 [00:07<00:00, 12.38it/s]\n",
      "  0%|          | 0/97 [00:00<?, ?it/s]"
     ]
    },
    {
     "name": "stdout",
     "output_type": "stream",
     "text": [
      "initial_potential =  32681.24898316549\n",
      "final_potential =  32903.71963110763\n",
      "energy_change =  0.3098540264472831\n",
      "p accept =  0.7335540278968448\n",
      "current step size = 0.0013027354983038138\n",
      "current acceptance ratio = 0.7782515991471215\n",
      "currently working on step 470\n"
     ]
    },
    {
     "name": "stderr",
     "output_type": "stream",
     "text": [
      "100%|██████████| 97/97 [00:07<00:00, 12.36it/s]\n",
      "  0%|          | 0/99 [00:00<?, ?it/s]"
     ]
    },
    {
     "name": "stdout",
     "output_type": "stream",
     "text": [
      "initial_potential =  32903.71963110763\n",
      "final_potential =  32690.572957932385\n",
      "energy_change =  -0.5277550019673072\n",
      "p accept =  1.695122487049118\n",
      "current step size = 0.0013027354983038138\n",
      "current acceptance ratio = 0.7787234042553192\n",
      "currently working on step 471\n"
     ]
    },
    {
     "name": "stderr",
     "output_type": "stream",
     "text": [
      "100%|██████████| 99/99 [00:08<00:00, 12.26it/s]\n",
      "  0%|          | 0/99 [00:00<?, ?it/s]"
     ]
    },
    {
     "name": "stdout",
     "output_type": "stream",
     "text": [
      "initial_potential =  32690.572957932385\n",
      "final_potential =  32870.22573281865\n",
      "energy_change =  0.3863384379656054\n",
      "p accept =  0.679540504452685\n",
      "current step size = 0.0013027354983038138\n",
      "current acceptance ratio = 0.7770700636942676\n",
      "currently working on step 472\n"
     ]
    },
    {
     "name": "stderr",
     "output_type": "stream",
     "text": [
      "100%|██████████| 99/99 [00:08<00:00, 12.22it/s]\n",
      "  0%|          | 0/101 [00:00<?, ?it/s]"
     ]
    },
    {
     "name": "stdout",
     "output_type": "stream",
     "text": [
      "initial_potential =  32690.572957932385\n",
      "final_potential =  32922.29255560115\n",
      "energy_change =  0.2850998397625517\n",
      "p accept =  0.751939177142702\n",
      "current step size = 0.0013027354983038138\n",
      "current acceptance ratio = 0.777542372881356\n",
      "currently working on step 473\n"
     ]
    },
    {
     "name": "stderr",
     "output_type": "stream",
     "text": [
      "100%|██████████| 101/101 [00:08<00:00, 12.23it/s]\n",
      "  0%|          | 0/100 [00:00<?, ?it/s]"
     ]
    },
    {
     "name": "stdout",
     "output_type": "stream",
     "text": [
      "initial_potential =  32922.29255560115\n",
      "final_potential =  32983.37077907496\n",
      "energy_change =  0.510110196104506\n",
      "p accept =  0.6004294101845372\n",
      "current step size = 0.0013027354983038138\n",
      "current acceptance ratio = 0.7780126849894292\n",
      "currently working on step 474\n"
     ]
    },
    {
     "name": "stderr",
     "output_type": "stream",
     "text": [
      "100%|██████████| 100/100 [00:08<00:00, 12.24it/s]\n",
      "  0%|          | 0/98 [00:00<?, ?it/s]"
     ]
    },
    {
     "name": "stdout",
     "output_type": "stream",
     "text": [
      "initial_potential =  32983.37077907496\n",
      "final_potential =  32988.03352556018\n",
      "energy_change =  0.1657367006118875\n",
      "p accept =  0.8472692903085459\n",
      "current step size = 0.0013027354983038138\n",
      "current acceptance ratio = 0.7784810126582279\n",
      "currently working on step 475\n"
     ]
    },
    {
     "name": "stderr",
     "output_type": "stream",
     "text": [
      "100%|██████████| 98/98 [00:07<00:00, 12.26it/s]\n",
      "  0%|          | 0/98 [00:00<?, ?it/s]"
     ]
    },
    {
     "name": "stdout",
     "output_type": "stream",
     "text": [
      "initial_potential =  32988.03352556018\n",
      "final_potential =  32852.775653767945\n",
      "energy_change =  -0.4312777883314993\n",
      "p accept =  1.5392230687823276\n",
      "current step size = 0.0013027354983038138\n",
      "current acceptance ratio = 0.7789473684210526\n",
      "currently working on step 476\n"
     ]
    },
    {
     "name": "stderr",
     "output_type": "stream",
     "text": [
      "100%|██████████| 98/98 [00:07<00:00, 12.33it/s]\n",
      "  0%|          | 0/100 [00:00<?, ?it/s]"
     ]
    },
    {
     "name": "stdout",
     "output_type": "stream",
     "text": [
      "initial_potential =  32852.775653767945\n",
      "final_potential =  32732.230097999643\n",
      "energy_change =  -0.24149737419793382\n",
      "p accept =  1.27315411186244\n",
      "current step size = 0.0013027354983038138\n",
      "current acceptance ratio = 0.7794117647058824\n",
      "currently working on step 477\n"
     ]
    },
    {
     "name": "stderr",
     "output_type": "stream",
     "text": [
      "100%|██████████| 100/100 [00:08<00:00, 12.37it/s]\n",
      "  0%|          | 0/98 [00:00<?, ?it/s]"
     ]
    },
    {
     "name": "stdout",
     "output_type": "stream",
     "text": [
      "initial_potential =  32732.230097999643\n",
      "final_potential =  32739.76498435413\n",
      "energy_change =  0.23480985521746334\n",
      "p accept =  0.7907211868434836\n",
      "current step size = 0.0013027354983038138\n",
      "current acceptance ratio = 0.7777777777777778\n",
      "currently working on step 478\n"
     ]
    },
    {
     "name": "stderr",
     "output_type": "stream",
     "text": [
      "100%|██████████| 98/98 [00:07<00:00, 12.35it/s]\n",
      "  0%|          | 0/99 [00:00<?, ?it/s]"
     ]
    },
    {
     "name": "stdout",
     "output_type": "stream",
     "text": [
      "initial_potential =  32732.230097999643\n",
      "final_potential =  32826.31737451571\n",
      "energy_change =  -0.1334982037806185\n",
      "p accept =  1.1428192133792452\n",
      "current step size = 0.0013027354983038138\n",
      "current acceptance ratio = 0.7782426778242678\n",
      "currently working on step 479\n"
     ]
    },
    {
     "name": "stderr",
     "output_type": "stream",
     "text": [
      "100%|██████████| 99/99 [00:08<00:00, 12.30it/s]\n",
      "  0%|          | 0/99 [00:00<?, ?it/s]"
     ]
    },
    {
     "name": "stdout",
     "output_type": "stream",
     "text": [
      "initial_potential =  32826.31737451571\n",
      "final_potential =  32736.168092777334\n",
      "energy_change =  -0.034582933396450244\n",
      "p accept =  1.0351878764627875\n",
      "current step size = 0.0013027354983038138\n",
      "current acceptance ratio = 0.778705636743215\n",
      "currently working on step 480\n"
     ]
    },
    {
     "name": "stderr",
     "output_type": "stream",
     "text": [
      "100%|██████████| 99/99 [00:08<00:00, 12.35it/s]\n",
      "  0%|          | 0/98 [00:00<?, ?it/s]"
     ]
    },
    {
     "name": "stdout",
     "output_type": "stream",
     "text": [
      "initial_potential =  32736.168092777334\n",
      "final_potential =  32653.02686804781\n",
      "energy_change =  -0.4803991345106624\n",
      "p accept =  1.6167195620028143\n",
      "current step size = 0.0013027354983038138\n",
      "current acceptance ratio = 0.7791666666666667\n",
      "currently working on step 481\n"
     ]
    },
    {
     "name": "stderr",
     "output_type": "stream",
     "text": [
      "100%|██████████| 98/98 [00:07<00:00, 12.33it/s]\n",
      "  0%|          | 0/98 [00:00<?, ?it/s]"
     ]
    },
    {
     "name": "stdout",
     "output_type": "stream",
     "text": [
      "initial_potential =  32653.02686804781\n",
      "final_potential =  32594.240168173375\n",
      "energy_change =  0.49479320136015303\n",
      "p accept =  0.6096969787660834\n",
      "current step size = 0.0013027354983038138\n",
      "current acceptance ratio = 0.7796257796257796\n",
      "currently working on step 482\n"
     ]
    },
    {
     "name": "stderr",
     "output_type": "stream",
     "text": [
      "100%|██████████| 98/98 [00:07<00:00, 12.37it/s]\n",
      "  0%|          | 0/97 [00:00<?, ?it/s]"
     ]
    },
    {
     "name": "stdout",
     "output_type": "stream",
     "text": [
      "initial_potential =  32594.240168173375\n",
      "final_potential =  32809.30212715438\n",
      "energy_change =  -0.07441552908858284\n",
      "p accept =  1.0772543430226782\n",
      "current step size = 0.0013027354983038138\n",
      "current acceptance ratio = 0.7800829875518672\n",
      "currently working on step 483\n"
     ]
    },
    {
     "name": "stderr",
     "output_type": "stream",
     "text": [
      "100%|██████████| 97/97 [00:07<00:00, 12.16it/s]\n",
      "  0%|          | 0/97 [00:00<?, ?it/s]"
     ]
    },
    {
     "name": "stdout",
     "output_type": "stream",
     "text": [
      "initial_potential =  32809.30212715438\n",
      "final_potential =  32726.0086571819\n",
      "energy_change =  -0.02452431856363546\n",
      "p accept =  1.024827513137257\n",
      "current step size = 0.0013027354983038138\n",
      "current acceptance ratio = 0.7805383022774327\n",
      "currently working on step 484\n"
     ]
    },
    {
     "name": "stderr",
     "output_type": "stream",
     "text": [
      "100%|██████████| 97/97 [00:07<00:00, 12.25it/s]\n",
      "  0%|          | 0/99 [00:00<?, ?it/s]"
     ]
    },
    {
     "name": "stdout",
     "output_type": "stream",
     "text": [
      "initial_potential =  32726.0086571819\n",
      "final_potential =  32805.402190948735\n",
      "energy_change =  0.45958289703412447\n",
      "p accept =  0.6315470107091609\n",
      "current step size = 0.0013027354983038138\n",
      "current acceptance ratio = 0.78099173553719\n",
      "currently working on step 485\n"
     ]
    },
    {
     "name": "stderr",
     "output_type": "stream",
     "text": [
      "100%|██████████| 99/99 [00:08<00:00, 12.19it/s]\n",
      "  0%|          | 0/99 [00:00<?, ?it/s]"
     ]
    },
    {
     "name": "stdout",
     "output_type": "stream",
     "text": [
      "initial_potential =  32805.402190948735\n",
      "final_potential =  32929.537372054896\n",
      "energy_change =  0.012486225066822954\n",
      "p accept =  0.9875914044057866\n",
      "current step size = 0.0013027354983038138\n",
      "current acceptance ratio = 0.7814432989690722\n",
      "currently working on step 486\n"
     ]
    },
    {
     "name": "stderr",
     "output_type": "stream",
     "text": [
      "100%|██████████| 99/99 [00:08<00:00, 12.15it/s]\n",
      "  0%|          | 0/97 [00:00<?, ?it/s]"
     ]
    },
    {
     "name": "stdout",
     "output_type": "stream",
     "text": [
      "initial_potential =  32929.537372054896\n",
      "final_potential =  32991.93243808919\n",
      "energy_change =  0.44086330542631913\n",
      "p accept =  0.6434806608759915\n",
      "current step size = 0.0013027354983038138\n",
      "current acceptance ratio = 0.7818930041152263\n",
      "currently working on step 487\n"
     ]
    },
    {
     "name": "stderr",
     "output_type": "stream",
     "text": [
      "100%|██████████| 97/97 [00:07<00:00, 12.20it/s]\n",
      "  0%|          | 0/100 [00:00<?, ?it/s]"
     ]
    },
    {
     "name": "stdout",
     "output_type": "stream",
     "text": [
      "initial_potential =  32991.93243808919\n",
      "final_potential =  33025.68906584664\n",
      "energy_change =  -0.23571307238307782\n",
      "p accept =  1.2658110619049268\n",
      "current step size = 0.0013027354983038138\n",
      "current acceptance ratio = 0.7823408624229979\n",
      "currently working on step 488\n"
     ]
    },
    {
     "name": "stderr",
     "output_type": "stream",
     "text": [
      "100%|██████████| 100/100 [00:08<00:00, 12.34it/s]\n",
      "  0%|          | 0/99 [00:00<?, ?it/s]"
     ]
    },
    {
     "name": "stdout",
     "output_type": "stream",
     "text": [
      "initial_potential =  33025.68906584664\n",
      "final_potential =  32824.42595402952\n",
      "energy_change =  -0.5469109657424269\n",
      "p accept =  1.727907200874947\n",
      "current step size = 0.0013027354983038138\n",
      "current acceptance ratio = 0.7827868852459017\n",
      "currently working on step 489\n"
     ]
    },
    {
     "name": "stderr",
     "output_type": "stream",
     "text": [
      "100%|██████████| 99/99 [00:07<00:00, 12.38it/s]\n",
      "  0%|          | 0/101 [00:00<?, ?it/s]"
     ]
    },
    {
     "name": "stdout",
     "output_type": "stream",
     "text": [
      "initial_potential =  32824.42595402952\n",
      "final_potential =  32640.11680965104\n",
      "energy_change =  -0.34102293208707124\n",
      "p accept =  1.4063854918469314\n",
      "current step size = 0.0013027354983038138\n",
      "current acceptance ratio = 0.7832310838445807\n",
      "currently working on step 490\n"
     ]
    },
    {
     "name": "stderr",
     "output_type": "stream",
     "text": [
      "100%|██████████| 101/101 [00:08<00:00, 12.34it/s]\n",
      "  0%|          | 0/100 [00:00<?, ?it/s]"
     ]
    },
    {
     "name": "stdout",
     "output_type": "stream",
     "text": [
      "initial_potential =  32640.11680965104\n",
      "final_potential =  32968.22008302305\n",
      "energy_change =  0.5094943746080389\n",
      "p accept =  0.6007992813980729\n",
      "current step size = 0.0013027354983038138\n",
      "current acceptance ratio = 0.7836734693877551\n",
      "currently working on step 491\n"
     ]
    },
    {
     "name": "stderr",
     "output_type": "stream",
     "text": [
      "100%|██████████| 100/100 [00:08<00:00, 12.37it/s]\n",
      "  0%|          | 0/97 [00:00<?, ?it/s]"
     ]
    },
    {
     "name": "stdout",
     "output_type": "stream",
     "text": [
      "initial_potential =  32968.22008302305\n",
      "final_potential =  33019.96085143792\n",
      "energy_change =  -0.09942040467285551\n",
      "p accept =  1.1045305517704207\n",
      "current step size = 0.0013027354983038138\n",
      "current acceptance ratio = 0.7841140529531568\n",
      "currently working on step 492\n"
     ]
    },
    {
     "name": "stderr",
     "output_type": "stream",
     "text": [
      "100%|██████████| 97/97 [00:07<00:00, 12.35it/s]\n",
      "  0%|          | 0/97 [00:00<?, ?it/s]"
     ]
    },
    {
     "name": "stdout",
     "output_type": "stream",
     "text": [
      "initial_potential =  33019.96085143792\n",
      "final_potential =  33003.64690546567\n",
      "energy_change =  -0.006538374102092348\n",
      "p accept =  1.0065597959325727\n",
      "current step size = 0.0013027354983038138\n",
      "current acceptance ratio = 0.7845528455284553\n",
      "currently working on step 493\n"
     ]
    },
    {
     "name": "stderr",
     "output_type": "stream",
     "text": [
      "100%|██████████| 97/97 [00:07<00:00, 12.33it/s]\n",
      "  0%|          | 0/100 [00:00<?, ?it/s]"
     ]
    },
    {
     "name": "stdout",
     "output_type": "stream",
     "text": [
      "initial_potential =  33003.64690546567\n",
      "final_potential =  32981.61892060123\n",
      "energy_change =  0.13483313264441676\n",
      "p accept =  0.8738617185166104\n",
      "current step size = 0.0013027354983038138\n",
      "current acceptance ratio = 0.7849898580121704\n",
      "currently working on step 494\n"
     ]
    },
    {
     "name": "stderr",
     "output_type": "stream",
     "text": [
      "100%|██████████| 100/100 [00:08<00:00, 12.21it/s]\n",
      "  0%|          | 0/99 [00:00<?, ?it/s]"
     ]
    },
    {
     "name": "stdout",
     "output_type": "stream",
     "text": [
      "initial_potential =  32981.61892060123\n",
      "final_potential =  32517.449069665174\n",
      "energy_change =  -1.7578480374795618\n",
      "p accept =  5.799942695860776\n",
      "current step size = 0.0013027354983038138\n",
      "current acceptance ratio = 0.7854251012145749\n",
      "currently working on step 495\n"
     ]
    },
    {
     "name": "stderr",
     "output_type": "stream",
     "text": [
      "100%|██████████| 99/99 [00:08<00:00, 12.19it/s]\n",
      "  0%|          | 0/99 [00:00<?, ?it/s]"
     ]
    },
    {
     "name": "stdout",
     "output_type": "stream",
     "text": [
      "initial_potential =  32517.449069665174\n",
      "final_potential =  32810.61166237861\n",
      "energy_change =  1.2543753148202086\n",
      "p accept =  0.2852539865163384\n",
      "current step size = 0.0013027354983038138\n",
      "current acceptance ratio = 0.7838383838383839\n",
      "currently working on step 496\n"
     ]
    },
    {
     "name": "stderr",
     "output_type": "stream",
     "text": [
      "100%|██████████| 99/99 [00:08<00:00, 12.22it/s]\n",
      "  0%|          | 0/101 [00:00<?, ?it/s]"
     ]
    },
    {
     "name": "stdout",
     "output_type": "stream",
     "text": [
      "initial_potential =  32517.449069665174\n",
      "final_potential =  32562.73864195853\n",
      "energy_change =  0.3947281755536096\n",
      "p accept =  0.6738631868434497\n",
      "current step size = 0.0013027354983038138\n",
      "current acceptance ratio = 0.782258064516129\n",
      "currently working on step 497\n"
     ]
    },
    {
     "name": "stderr",
     "output_type": "stream",
     "text": [
      "100%|██████████| 101/101 [00:08<00:00, 12.06it/s]\n",
      "  0%|          | 0/100 [00:00<?, ?it/s]"
     ]
    },
    {
     "name": "stdout",
     "output_type": "stream",
     "text": [
      "initial_potential =  32517.449069665174\n",
      "final_potential =  32419.08074013121\n",
      "energy_change =  -0.558743521294673\n",
      "p accept =  1.7484741989281178\n",
      "current step size = 0.0013027354983038138\n",
      "current acceptance ratio = 0.7826961770623743\n",
      "currently working on step 498\n"
     ]
    },
    {
     "name": "stderr",
     "output_type": "stream",
     "text": [
      "100%|██████████| 100/100 [00:08<00:00, 12.17it/s]\n",
      "  0%|          | 0/98 [00:00<?, ?it/s]"
     ]
    },
    {
     "name": "stdout",
     "output_type": "stream",
     "text": [
      "initial_potential =  32419.08074013121\n",
      "final_potential =  32360.05190208568\n",
      "energy_change =  0.12446016467583831\n",
      "p accept =  0.8829734341988004\n",
      "current step size = 0.0013027354983038138\n",
      "current acceptance ratio = 0.7831325301204819\n",
      "currently working on step 499\n"
     ]
    },
    {
     "name": "stderr",
     "output_type": "stream",
     "text": [
      "100%|██████████| 98/98 [00:07<00:00, 12.32it/s]\n",
      "  0%|          | 0/97 [00:00<?, ?it/s]"
     ]
    },
    {
     "name": "stdout",
     "output_type": "stream",
     "text": [
      "initial_potential =  32360.05190208568\n",
      "final_potential =  32434.196531022797\n",
      "energy_change =  0.6888089075946482\n",
      "p accept =  0.5021738484471943\n",
      "current step size = 0.0013027354983038138\n",
      "current acceptance ratio = 0.781563126252505\n",
      "currently working on step 500\n"
     ]
    },
    {
     "name": "stderr",
     "output_type": "stream",
     "text": [
      "100%|██████████| 97/97 [00:07<00:00, 12.38it/s]\n",
      "  0%|          | 0/100 [00:00<?, ?it/s]"
     ]
    },
    {
     "name": "stdout",
     "output_type": "stream",
     "text": [
      "initial_potential =  32360.05190208568\n",
      "final_potential =  32625.826751955843\n",
      "energy_change =  0.17740368224622216\n",
      "p accept =  0.8374416559505807\n",
      "current step size = 0.0013027354983038138\n",
      "current acceptance ratio = 0.782\n",
      "currently working on step 501\n"
     ]
    },
    {
     "name": "stderr",
     "output_type": "stream",
     "text": [
      "100%|██████████| 100/100 [00:08<00:00, 12.32it/s]\n",
      "  0%|          | 0/99 [00:00<?, ?it/s]"
     ]
    },
    {
     "name": "stdout",
     "output_type": "stream",
     "text": [
      "initial_potential =  32625.826751955843\n",
      "final_potential =  32866.14149215731\n",
      "energy_change =  1.055382842067047\n",
      "p accept =  0.34805915011128374\n",
      "current step size = 0.0013027354983038138\n",
      "current acceptance ratio = 0.780439121756487\n",
      "currently working on step 502\n"
     ]
    },
    {
     "name": "stderr",
     "output_type": "stream",
     "text": [
      "100%|██████████| 99/99 [00:08<00:00, 12.37it/s]\n",
      "  0%|          | 0/101 [00:00<?, ?it/s]"
     ]
    },
    {
     "name": "stdout",
     "output_type": "stream",
     "text": [
      "initial_potential =  32625.826751955843\n",
      "final_potential =  32667.50390293711\n",
      "energy_change =  0.2675927469681483\n",
      "p accept =  0.7652193555563191\n",
      "current step size = 0.0013027354983038138\n",
      "current acceptance ratio = 0.7808764940239044\n",
      "currently working on step 503\n"
     ]
    },
    {
     "name": "stderr",
     "output_type": "stream",
     "text": [
      "100%|██████████| 101/101 [00:08<00:00, 12.25it/s]\n",
      "  0%|          | 0/100 [00:00<?, ?it/s]"
     ]
    },
    {
     "name": "stdout",
     "output_type": "stream",
     "text": [
      "initial_potential =  32667.50390293711\n",
      "final_potential =  33133.704137726396\n",
      "energy_change =  2.5684488043916645\n",
      "p accept =  0.07665435915369835\n",
      "current step size = 0.0013027354983038138\n",
      "current acceptance ratio = 0.7793240556660039\n",
      "currently working on step 504\n"
     ]
    },
    {
     "name": "stderr",
     "output_type": "stream",
     "text": [
      "100%|██████████| 100/100 [00:08<00:00, 12.11it/s]\n",
      "  0%|          | 0/100 [00:00<?, ?it/s]"
     ]
    },
    {
     "name": "stdout",
     "output_type": "stream",
     "text": [
      "initial_potential =  32667.50390293711\n",
      "final_potential =  32757.238605061062\n",
      "energy_change =  0.6915372303628828\n",
      "p accept =  0.5008056234313216\n",
      "current step size = 0.0013027354983038138\n",
      "current acceptance ratio = 0.7777777777777778\n",
      "currently working on step 505\n"
     ]
    },
    {
     "name": "stderr",
     "output_type": "stream",
     "text": [
      "100%|██████████| 100/100 [00:08<00:00, 11.82it/s]\n",
      "  0%|          | 0/101 [00:00<?, ?it/s]"
     ]
    },
    {
     "name": "stdout",
     "output_type": "stream",
     "text": [
      "initial_potential =  32667.50390293711\n",
      "final_potential =  32574.051201025115\n",
      "energy_change =  0.32041578106873203\n",
      "p accept =  0.7258471808084066\n",
      "current step size = 0.0013027354983038138\n",
      "current acceptance ratio = 0.7782178217821782\n",
      "currently working on step 506\n"
     ]
    },
    {
     "name": "stderr",
     "output_type": "stream",
     "text": [
      "100%|██████████| 101/101 [00:08<00:00, 12.36it/s]\n",
      "  0%|          | 0/98 [00:00<?, ?it/s]"
     ]
    },
    {
     "name": "stdout",
     "output_type": "stream",
     "text": [
      "initial_potential =  32574.051201025115\n",
      "final_potential =  32660.43902357888\n",
      "energy_change =  0.9762179040117189\n",
      "p accept =  0.3767332491118879\n",
      "current step size = 0.0013027354983038138\n",
      "current acceptance ratio = 0.7786561264822134\n",
      "currently working on step 507\n"
     ]
    },
    {
     "name": "stderr",
     "output_type": "stream",
     "text": [
      "100%|██████████| 98/98 [00:07<00:00, 12.38it/s]\n",
      "  0%|          | 0/101 [00:00<?, ?it/s]"
     ]
    },
    {
     "name": "stdout",
     "output_type": "stream",
     "text": [
      "initial_potential =  32660.43902357888\n",
      "final_potential =  32934.69851032059\n",
      "energy_change =  0.5958754087623674\n",
      "p accept =  0.551079934445385\n",
      "current step size = 0.0013027354983038138\n",
      "current acceptance ratio = 0.7790927021696252\n",
      "currently working on step 508\n"
     ]
    },
    {
     "name": "stderr",
     "output_type": "stream",
     "text": [
      "100%|██████████| 101/101 [00:08<00:00, 12.37it/s]\n",
      "  0%|          | 0/97 [00:00<?, ?it/s]"
     ]
    },
    {
     "name": "stdout",
     "output_type": "stream",
     "text": [
      "initial_potential =  32934.69851032059\n",
      "final_potential =  32907.91036790019\n",
      "energy_change =  0.5266250339045655\n",
      "p accept =  0.5905948474909086\n",
      "current step size = 0.0013027354983038138\n",
      "current acceptance ratio = 0.7775590551181102\n",
      "currently working on step 509\n"
     ]
    },
    {
     "name": "stderr",
     "output_type": "stream",
     "text": [
      "100%|██████████| 97/97 [00:07<00:00, 12.43it/s]\n",
      "  0%|          | 0/99 [00:00<?, ?it/s]"
     ]
    },
    {
     "name": "stdout",
     "output_type": "stream",
     "text": [
      "initial_potential =  32934.69851032059\n",
      "final_potential =  32783.55423160631\n",
      "energy_change =  0.1667123562656343\n",
      "p accept =  0.8464430503635889\n",
      "current step size = 0.0013027354983038138\n",
      "current acceptance ratio = 0.7779960707269156\n",
      "currently working on step 510\n"
     ]
    },
    {
     "name": "stderr",
     "output_type": "stream",
     "text": [
      "100%|██████████| 99/99 [00:08<00:00, 12.36it/s]\n",
      "  0%|          | 0/99 [00:00<?, ?it/s]"
     ]
    },
    {
     "name": "stdout",
     "output_type": "stream",
     "text": [
      "initial_potential =  32783.55423160631\n",
      "final_potential =  32992.648283948954\n",
      "energy_change =  0.6852078257943504\n",
      "p accept =  0.5039854775079077\n",
      "current step size = 0.0013027354983038138\n",
      "current acceptance ratio = 0.7764705882352941\n",
      "currently working on step 511\n"
     ]
    },
    {
     "name": "stderr",
     "output_type": "stream",
     "text": [
      "100%|██████████| 99/99 [00:08<00:00, 12.05it/s]\n",
      "  0%|          | 0/100 [00:00<?, ?it/s]"
     ]
    },
    {
     "name": "stdout",
     "output_type": "stream",
     "text": [
      "initial_potential =  32783.55423160631\n",
      "final_potential =  32910.43557086154\n",
      "energy_change =  0.1734444541943958\n",
      "p accept =  0.8407638507702995\n",
      "current step size = 0.0013027354983038138\n",
      "current acceptance ratio = 0.776908023483366\n",
      "currently working on step 512\n"
     ]
    },
    {
     "name": "stderr",
     "output_type": "stream",
     "text": [
      "100%|██████████| 100/100 [00:08<00:00, 12.20it/s]\n",
      "  0%|          | 0/97 [00:00<?, ?it/s]"
     ]
    },
    {
     "name": "stdout",
     "output_type": "stream",
     "text": [
      "initial_potential =  32910.43557086154\n",
      "final_potential =  32754.67432429972\n",
      "energy_change =  -0.40049576533783693\n",
      "p accept =  1.4925644759795667\n",
      "current step size = 0.0013027354983038138\n",
      "current acceptance ratio = 0.77734375\n",
      "currently working on step 513\n"
     ]
    },
    {
     "name": "stderr",
     "output_type": "stream",
     "text": [
      "100%|██████████| 97/97 [00:07<00:00, 12.40it/s]\n",
      "  0%|          | 0/100 [00:00<?, ?it/s]"
     ]
    },
    {
     "name": "stdout",
     "output_type": "stream",
     "text": [
      "initial_potential =  32754.67432429972\n",
      "final_potential =  32880.20112689902\n",
      "energy_change =  -0.5301940522913355\n",
      "p accept =  1.6992620223156767\n",
      "current step size = 0.0013027354983038138\n",
      "current acceptance ratio = 0.7777777777777778\n",
      "currently working on step 514\n"
     ]
    },
    {
     "name": "stderr",
     "output_type": "stream",
     "text": [
      "100%|██████████| 100/100 [00:08<00:00, 12.44it/s]\n",
      "  0%|          | 0/99 [00:00<?, ?it/s]"
     ]
    },
    {
     "name": "stdout",
     "output_type": "stream",
     "text": [
      "initial_potential =  32880.20112689902\n",
      "final_potential =  32885.7302862837\n",
      "energy_change =  0.5492750848643482\n",
      "p accept =  0.5773682016613069\n",
      "current step size = 0.0013027354983038138\n",
      "current acceptance ratio = 0.7762645914396887\n",
      "currently working on step 515\n"
     ]
    },
    {
     "name": "stderr",
     "output_type": "stream",
     "text": [
      "100%|██████████| 99/99 [00:08<00:00, 12.19it/s]\n",
      "  0%|          | 0/99 [00:00<?, ?it/s]"
     ]
    },
    {
     "name": "stdout",
     "output_type": "stream",
     "text": [
      "initial_potential =  32880.20112689902\n",
      "final_potential =  33015.00097667764\n",
      "energy_change =  1.1512583517323947\n",
      "p accept =  0.3162385795357476\n",
      "current step size = 0.0013027354983038138\n",
      "current acceptance ratio = 0.7766990291262136\n",
      "currently working on step 516\n"
     ]
    },
    {
     "name": "stderr",
     "output_type": "stream",
     "text": [
      "100%|██████████| 99/99 [00:08<00:00, 12.16it/s]\n",
      "  0%|          | 0/100 [00:00<?, ?it/s]"
     ]
    },
    {
     "name": "stdout",
     "output_type": "stream",
     "text": [
      "initial_potential =  33015.00097667764\n",
      "final_potential =  33058.47509744544\n",
      "energy_change =  -0.21991526434430853\n",
      "p accept =  1.2459711479319435\n",
      "current step size = 0.0013027354983038138\n",
      "current acceptance ratio = 0.7771317829457365\n",
      "currently working on step 517\n"
     ]
    },
    {
     "name": "stderr",
     "output_type": "stream",
     "text": [
      "100%|██████████| 100/100 [00:08<00:00, 12.41it/s]\n",
      "  0%|          | 0/98 [00:00<?, ?it/s]"
     ]
    },
    {
     "name": "stdout",
     "output_type": "stream",
     "text": [
      "initial_potential =  33058.47509744544\n",
      "final_potential =  32973.96289421468\n",
      "energy_change =  0.3247445336164674\n",
      "p accept =  0.7227119586712961\n",
      "current step size = 0.0013027354983038138\n",
      "current acceptance ratio = 0.7756286266924565\n",
      "currently working on step 518\n"
     ]
    },
    {
     "name": "stderr",
     "output_type": "stream",
     "text": [
      "100%|██████████| 98/98 [00:07<00:00, 12.46it/s]\n",
      "  0%|          | 0/99 [00:00<?, ?it/s]"
     ]
    },
    {
     "name": "stdout",
     "output_type": "stream",
     "text": [
      "initial_potential =  33058.47509744544\n",
      "final_potential =  32829.04745317258\n",
      "energy_change =  -0.39544162823585793\n",
      "p accept =  1.485039881667603\n",
      "current step size = 0.0013027354983038138\n",
      "current acceptance ratio = 0.7760617760617761\n",
      "currently working on step 519\n"
     ]
    },
    {
     "name": "stderr",
     "output_type": "stream",
     "text": [
      "100%|██████████| 99/99 [00:08<00:00, 12.27it/s]\n",
      "  0%|          | 0/98 [00:00<?, ?it/s]"
     ]
    },
    {
     "name": "stdout",
     "output_type": "stream",
     "text": [
      "initial_potential =  32829.04745317258\n",
      "final_potential =  32760.969587164283\n",
      "energy_change =  -0.017420869349734858\n",
      "p accept =  1.0175734977122617\n",
      "current step size = 0.0013027354983038138\n",
      "current acceptance ratio = 0.7764932562620424\n",
      "currently working on step 520\n"
     ]
    },
    {
     "name": "stderr",
     "output_type": "stream",
     "text": [
      "100%|██████████| 98/98 [00:08<00:00, 12.07it/s]\n",
      "  0%|          | 0/97 [00:00<?, ?it/s]"
     ]
    },
    {
     "name": "stdout",
     "output_type": "stream",
     "text": [
      "initial_potential =  32760.969587164283\n",
      "final_potential =  32637.58606846519\n",
      "energy_change =  -0.36731997491733637\n",
      "p accept =  1.4438598441433004\n",
      "current step size = 0.0013027354983038138\n",
      "current acceptance ratio = 0.7769230769230769\n",
      "currently working on step 521\n"
     ]
    },
    {
     "name": "stderr",
     "output_type": "stream",
     "text": [
      "100%|██████████| 97/97 [00:07<00:00, 12.44it/s]\n",
      "  0%|          | 0/99 [00:00<?, ?it/s]"
     ]
    },
    {
     "name": "stdout",
     "output_type": "stream",
     "text": [
      "initial_potential =  32637.58606846519\n",
      "final_potential =  32734.964684164606\n",
      "energy_change =  0.4459269047220005\n",
      "p accept =  0.6402305681827036\n",
      "current step size = 0.0013027354983038138\n",
      "current acceptance ratio = 0.7754318618042226\n",
      "currently working on step 522\n"
     ]
    },
    {
     "name": "stderr",
     "output_type": "stream",
     "text": [
      "100%|██████████| 99/99 [00:08<00:00, 12.36it/s]\n",
      "  0%|          | 0/101 [00:00<?, ?it/s]"
     ]
    },
    {
     "name": "stdout",
     "output_type": "stream",
     "text": [
      "initial_potential =  32637.58606846519\n",
      "final_potential =  32763.41532807998\n",
      "energy_change =  0.535096515857731\n",
      "p accept =  0.5856127664986668\n",
      "current step size = 0.0013027354983038138\n",
      "current acceptance ratio = 0.7758620689655172\n",
      "currently working on step 523\n"
     ]
    },
    {
     "name": "stderr",
     "output_type": "stream",
     "text": [
      "100%|██████████| 101/101 [00:08<00:00, 12.35it/s]\n",
      "  0%|          | 0/100 [00:00<?, ?it/s]"
     ]
    },
    {
     "name": "stdout",
     "output_type": "stream",
     "text": [
      "initial_potential =  32763.41532807998\n",
      "final_potential =  32803.48678552587\n",
      "energy_change =  -0.4588754138967488\n",
      "p accept =  1.5822935587134033\n",
      "current step size = 0.0013027354983038138\n",
      "current acceptance ratio = 0.7762906309751434\n",
      "currently working on step 524\n"
     ]
    },
    {
     "name": "stderr",
     "output_type": "stream",
     "text": [
      "100%|██████████| 100/100 [00:08<00:00, 12.21it/s]\n",
      "  0%|          | 0/99 [00:00<?, ?it/s]"
     ]
    },
    {
     "name": "stdout",
     "output_type": "stream",
     "text": [
      "initial_potential =  32803.48678552587\n",
      "final_potential =  33049.51572956183\n",
      "energy_change =  0.7219425077637425\n",
      "p accept =  0.4858076536694169\n",
      "current step size = 0.0013027354983038138\n",
      "current acceptance ratio = 0.7748091603053435\n",
      "currently working on step 525\n"
     ]
    },
    {
     "name": "stderr",
     "output_type": "stream",
     "text": [
      "100%|██████████| 99/99 [00:08<00:00, 12.13it/s]\n",
      "  0%|          | 0/101 [00:00<?, ?it/s]"
     ]
    },
    {
     "name": "stdout",
     "output_type": "stream",
     "text": [
      "initial_potential =  32803.48678552587\n",
      "final_potential =  33018.34094782843\n",
      "energy_change =  0.9005356933921576\n",
      "p accept =  0.4063519213861302\n",
      "current step size = 0.0013027354983038138\n",
      "current acceptance ratio = 0.7733333333333333\n",
      "currently working on step 526\n"
     ]
    },
    {
     "name": "stderr",
     "output_type": "stream",
     "text": [
      "100%|██████████| 101/101 [00:08<00:00, 12.41it/s]\n",
      "  0%|          | 0/101 [00:00<?, ?it/s]"
     ]
    },
    {
     "name": "stdout",
     "output_type": "stream",
     "text": [
      "initial_potential =  32803.48678552587\n",
      "final_potential =  32820.405941137375\n",
      "energy_change =  0.08485899097286165\n",
      "p accept =  0.9186418120571652\n",
      "current step size = 0.0013027354983038138\n",
      "current acceptance ratio = 0.7737642585551331\n",
      "currently working on step 527\n"
     ]
    },
    {
     "name": "stderr",
     "output_type": "stream",
     "text": [
      "100%|██████████| 101/101 [00:08<00:00, 12.29it/s]\n",
      "  0%|          | 0/97 [00:00<?, ?it/s]"
     ]
    },
    {
     "name": "stdout",
     "output_type": "stream",
     "text": [
      "initial_potential =  32820.405941137375\n",
      "final_potential =  32892.271749872874\n",
      "energy_change =  0.1468004373164149\n",
      "p accept =  0.8634662758707746\n",
      "current step size = 0.0013027354983038138\n",
      "current acceptance ratio = 0.7722960151802657\n",
      "currently working on step 528\n"
     ]
    },
    {
     "name": "stderr",
     "output_type": "stream",
     "text": [
      "100%|██████████| 97/97 [00:07<00:00, 12.20it/s]\n",
      "  0%|          | 0/101 [00:00<?, ?it/s]"
     ]
    },
    {
     "name": "stdout",
     "output_type": "stream",
     "text": [
      "initial_potential =  32820.405941137375\n",
      "final_potential =  32858.83610329931\n",
      "energy_change =  0.18077464775706176\n",
      "p accept =  0.8346234217648799\n",
      "current step size = 0.0013027354983038138\n",
      "current acceptance ratio = 0.7727272727272727\n",
      "currently working on step 529\n"
     ]
    },
    {
     "name": "stderr",
     "output_type": "stream",
     "text": [
      "100%|██████████| 101/101 [00:08<00:00, 12.10it/s]\n",
      "  0%|          | 0/101 [00:00<?, ?it/s]"
     ]
    },
    {
     "name": "stdout",
     "output_type": "stream",
     "text": [
      "initial_potential =  32858.83610329931\n",
      "final_potential =  32875.310870167224\n",
      "energy_change =  -0.39033545964048244\n",
      "p accept =  1.477476344442717\n",
      "current step size = 0.0013027354983038138\n",
      "current acceptance ratio = 0.7731568998109641\n",
      "currently working on step 530\n"
     ]
    },
    {
     "name": "stderr",
     "output_type": "stream",
     "text": [
      "100%|██████████| 101/101 [00:08<00:00, 12.38it/s]\n",
      "  0%|          | 0/98 [00:00<?, ?it/s]"
     ]
    },
    {
     "name": "stdout",
     "output_type": "stream",
     "text": [
      "initial_potential =  32875.310870167224\n",
      "final_potential =  32836.608892522134\n",
      "energy_change =  0.0852674491761718\n",
      "p accept =  0.9182666618949231\n",
      "current step size = 0.0013027354983038138\n",
      "current acceptance ratio = 0.7735849056603774\n",
      "currently working on step 531\n"
     ]
    },
    {
     "name": "stderr",
     "output_type": "stream",
     "text": [
      "100%|██████████| 98/98 [00:07<00:00, 12.42it/s]\n",
      "  0%|          | 0/101 [00:00<?, ?it/s]"
     ]
    },
    {
     "name": "stdout",
     "output_type": "stream",
     "text": [
      "initial_potential =  32836.608892522134\n",
      "final_potential =  32677.02795674348\n",
      "energy_change =  -0.0855378113919869\n",
      "p accept =  1.089302748618607\n",
      "current step size = 0.0013027354983038138\n",
      "current acceptance ratio = 0.7740112994350282\n",
      "currently working on step 532\n"
     ]
    },
    {
     "name": "stderr",
     "output_type": "stream",
     "text": [
      "100%|██████████| 101/101 [00:08<00:00, 12.23it/s]\n",
      "  0%|          | 0/101 [00:00<?, ?it/s]"
     ]
    },
    {
     "name": "stdout",
     "output_type": "stream",
     "text": [
      "initial_potential =  32677.02795674348\n",
      "final_potential =  32686.37770838179\n",
      "energy_change =  -0.6270325621735537\n",
      "p accept =  1.8720471452628367\n",
      "current step size = 0.0013027354983038138\n",
      "current acceptance ratio = 0.7744360902255639\n",
      "currently working on step 533\n"
     ]
    },
    {
     "name": "stderr",
     "output_type": "stream",
     "text": [
      "100%|██████████| 101/101 [00:08<00:00, 12.14it/s]\n",
      "  0%|          | 0/99 [00:00<?, ?it/s]"
     ]
    },
    {
     "name": "stdout",
     "output_type": "stream",
     "text": [
      "initial_potential =  32686.37770838179\n",
      "final_potential =  32622.00766742752\n",
      "energy_change =  0.048256012290949\n",
      "p accept =  0.9528898043457158\n",
      "current step size = 0.0013027354983038138\n",
      "current acceptance ratio = 0.774859287054409\n",
      "currently working on step 534\n"
     ]
    },
    {
     "name": "stderr",
     "output_type": "stream",
     "text": [
      "100%|██████████| 99/99 [00:07<00:00, 12.39it/s]\n",
      "  0%|          | 0/100 [00:00<?, ?it/s]"
     ]
    },
    {
     "name": "stdout",
     "output_type": "stream",
     "text": [
      "initial_potential =  32622.00766742752\n",
      "final_potential =  32680.63793957964\n",
      "energy_change =  -0.10615554303512909\n",
      "p accept =  1.1119948261059296\n",
      "current step size = 0.0013027354983038138\n",
      "current acceptance ratio = 0.7752808988764045\n",
      "currently working on step 535\n"
     ]
    },
    {
     "name": "stderr",
     "output_type": "stream",
     "text": [
      "100%|██████████| 100/100 [00:08<00:00, 12.39it/s]\n",
      "  0%|          | 0/100 [00:00<?, ?it/s]"
     ]
    },
    {
     "name": "stdout",
     "output_type": "stream",
     "text": [
      "initial_potential =  32680.63793957964\n",
      "final_potential =  32623.48846309744\n",
      "energy_change =  -0.057034018987906165\n",
      "p accept =  1.0586918254073043\n",
      "current step size = 0.0013027354983038138\n",
      "current acceptance ratio = 0.7757009345794392\n",
      "currently working on step 536\n"
     ]
    },
    {
     "name": "stderr",
     "output_type": "stream",
     "text": [
      "100%|██████████| 100/100 [00:08<00:00, 12.02it/s]\n",
      "  0%|          | 0/101 [00:00<?, ?it/s]"
     ]
    },
    {
     "name": "stdout",
     "output_type": "stream",
     "text": [
      "initial_potential =  32623.48846309744\n",
      "final_potential =  32717.510335496532\n",
      "energy_change =  1.0303472450032132\n",
      "p accept =  0.3568830132072739\n",
      "current step size = 0.0013027354983038138\n",
      "current acceptance ratio = 0.7761194029850746\n",
      "currently working on step 537\n"
     ]
    },
    {
     "name": "stderr",
     "output_type": "stream",
     "text": [
      "100%|██████████| 101/101 [00:08<00:00, 12.32it/s]\n",
      "  0%|          | 0/100 [00:00<?, ?it/s]"
     ]
    },
    {
     "name": "stdout",
     "output_type": "stream",
     "text": [
      "initial_potential =  32717.510335496532\n",
      "final_potential =  32753.16853697802\n",
      "energy_change =  -0.22633323055924848\n",
      "p accept =  1.2539934646060735\n",
      "current step size = 0.0013027354983038138\n",
      "current acceptance ratio = 0.776536312849162\n",
      "currently working on step 538\n"
     ]
    },
    {
     "name": "stderr",
     "output_type": "stream",
     "text": [
      "100%|██████████| 100/100 [00:08<00:00, 12.36it/s]\n",
      "  0%|          | 0/97 [00:00<?, ?it/s]"
     ]
    },
    {
     "name": "stdout",
     "output_type": "stream",
     "text": [
      "initial_potential =  32753.16853697802\n",
      "final_potential =  32923.90384431287\n",
      "energy_change =  -0.056901431598817\n",
      "p accept =  1.0585514655275041\n",
      "current step size = 0.0013027354983038138\n",
      "current acceptance ratio = 0.7769516728624535\n",
      "currently working on step 539\n"
     ]
    },
    {
     "name": "stderr",
     "output_type": "stream",
     "text": [
      "100%|██████████| 97/97 [00:07<00:00, 12.42it/s]\n",
      "  0%|          | 0/101 [00:00<?, ?it/s]"
     ]
    },
    {
     "name": "stdout",
     "output_type": "stream",
     "text": [
      "initial_potential =  32923.90384431287\n",
      "final_potential =  32763.50058094931\n",
      "energy_change =  -0.02900607902847696\n",
      "p accept =  1.0294308523955766\n",
      "current step size = 0.0013027354983038138\n",
      "current acceptance ratio = 0.7773654916512059\n",
      "currently working on step 540\n"
     ]
    },
    {
     "name": "stderr",
     "output_type": "stream",
     "text": [
      "100%|██████████| 101/101 [00:08<00:00, 12.00it/s]\n",
      "  0%|          | 0/99 [00:00<?, ?it/s]"
     ]
    },
    {
     "name": "stdout",
     "output_type": "stream",
     "text": [
      "initial_potential =  32763.50058094931\n",
      "final_potential =  32899.7072036483\n",
      "energy_change =  0.48813945964502636\n",
      "p accept =  0.6137672713081765\n",
      "current step size = 0.0013027354983038138\n",
      "current acceptance ratio = 0.7777777777777778\n",
      "currently working on step 541\n"
     ]
    },
    {
     "name": "stderr",
     "output_type": "stream",
     "text": [
      "100%|██████████| 99/99 [00:08<00:00, 12.29it/s]\n",
      "  0%|          | 0/98 [00:00<?, ?it/s]"
     ]
    },
    {
     "name": "stdout",
     "output_type": "stream",
     "text": [
      "initial_potential =  32899.7072036483\n",
      "final_potential =  32808.641863691155\n",
      "energy_change =  -0.5471553388197208\n",
      "p accept =  1.7283295064728608\n",
      "current step size = 0.0013027354983038138\n",
      "current acceptance ratio = 0.7781885397412199\n",
      "currently working on step 542\n"
     ]
    },
    {
     "name": "stderr",
     "output_type": "stream",
     "text": [
      "100%|██████████| 98/98 [00:07<00:00, 12.44it/s]\n",
      "  0%|          | 0/100 [00:00<?, ?it/s]"
     ]
    },
    {
     "name": "stdout",
     "output_type": "stream",
     "text": [
      "initial_potential =  32808.641863691155\n",
      "final_potential =  32796.38257251411\n",
      "energy_change =  0.21177925790834706\n",
      "p accept =  0.8091432898366046\n",
      "current step size = 0.0013027354983038138\n",
      "current acceptance ratio = 0.7785977859778598\n",
      "currently working on step 543\n"
     ]
    },
    {
     "name": "stderr",
     "output_type": "stream",
     "text": [
      "100%|██████████| 100/100 [00:08<00:00, 12.06it/s]\n",
      "  0%|          | 0/99 [00:00<?, ?it/s]"
     ]
    },
    {
     "name": "stdout",
     "output_type": "stream",
     "text": [
      "initial_potential =  32796.38257251411\n",
      "final_potential =  32856.58464112247\n",
      "energy_change =  0.06190576669177972\n",
      "p accept =  0.9399714592380227\n",
      "current step size = 0.0013027354983038138\n",
      "current acceptance ratio = 0.7790055248618785\n",
      "currently working on step 544\n"
     ]
    },
    {
     "name": "stderr",
     "output_type": "stream",
     "text": [
      "100%|██████████| 99/99 [00:08<00:00, 12.27it/s]\n",
      "  0%|          | 0/100 [00:00<?, ?it/s]"
     ]
    },
    {
     "name": "stdout",
     "output_type": "stream",
     "text": [
      "initial_potential =  32856.58464112247\n",
      "final_potential =  33053.25794886366\n",
      "energy_change =  0.49577419192064553\n",
      "p accept =  0.6090991650578972\n",
      "current step size = 0.0013027354983038138\n",
      "current acceptance ratio = 0.7794117647058824\n",
      "currently working on step 545\n"
     ]
    },
    {
     "name": "stderr",
     "output_type": "stream",
     "text": [
      "100%|██████████| 100/100 [00:08<00:00, 12.37it/s]\n",
      "  0%|          | 0/97 [00:00<?, ?it/s]"
     ]
    },
    {
     "name": "stdout",
     "output_type": "stream",
     "text": [
      "initial_potential =  33053.25794886366\n",
      "final_potential =  32801.91418623842\n",
      "energy_change =  -0.912401802779641\n",
      "p accept =  2.4902965574930387\n",
      "current step size = 0.0013027354983038138\n",
      "current acceptance ratio = 0.7798165137614679\n",
      "currently working on step 546\n"
     ]
    },
    {
     "name": "stderr",
     "output_type": "stream",
     "text": [
      "100%|██████████| 97/97 [00:07<00:00, 12.20it/s]\n",
      "  0%|          | 0/97 [00:00<?, ?it/s]"
     ]
    },
    {
     "name": "stdout",
     "output_type": "stream",
     "text": [
      "initial_potential =  32801.91418623842\n",
      "final_potential =  32800.61779564356\n",
      "energy_change =  0.1231645668449346\n",
      "p accept =  0.8841181540530493\n",
      "current step size = 0.0013027354983038138\n",
      "current acceptance ratio = 0.7802197802197802\n",
      "currently working on step 547\n"
     ]
    },
    {
     "name": "stderr",
     "output_type": "stream",
     "text": [
      "100%|██████████| 97/97 [00:07<00:00, 12.14it/s]\n",
      "  0%|          | 0/101 [00:00<?, ?it/s]"
     ]
    },
    {
     "name": "stdout",
     "output_type": "stream",
     "text": [
      "initial_potential =  32800.61779564356\n",
      "final_potential =  32880.50312947979\n",
      "energy_change =  0.15874648811586667\n",
      "p accept =  0.8532126310958715\n",
      "current step size = 0.0013027354983038138\n",
      "current acceptance ratio = 0.7806215722120659\n",
      "currently working on step 548\n"
     ]
    },
    {
     "name": "stderr",
     "output_type": "stream",
     "text": [
      "100%|██████████| 101/101 [00:08<00:00, 12.36it/s]\n",
      "  0%|          | 0/99 [00:00<?, ?it/s]"
     ]
    },
    {
     "name": "stdout",
     "output_type": "stream",
     "text": [
      "initial_potential =  32880.50312947979\n",
      "final_potential =  32624.764784558447\n",
      "energy_change =  -0.9820011255069403\n",
      "p accept =  2.6697934917495583\n",
      "current step size = 0.0013027354983038138\n",
      "current acceptance ratio = 0.781021897810219\n",
      "currently working on step 549\n"
     ]
    },
    {
     "name": "stderr",
     "output_type": "stream",
     "text": [
      "100%|██████████| 99/99 [00:08<00:00, 12.25it/s]\n",
      "  0%|          | 0/98 [00:00<?, ?it/s]"
     ]
    },
    {
     "name": "stdout",
     "output_type": "stream",
     "text": [
      "initial_potential =  32624.764784558447\n",
      "final_potential =  32877.57231437609\n",
      "energy_change =  0.8744276052748319\n",
      "p accept =  0.41710069760217094\n",
      "current step size = 0.0013027354983038138\n",
      "current acceptance ratio = 0.7814207650273224\n",
      "currently working on step 550\n"
     ]
    },
    {
     "name": "stderr",
     "output_type": "stream",
     "text": [
      "100%|██████████| 98/98 [00:08<00:00, 12.05it/s]\n",
      "  0%|          | 0/98 [00:00<?, ?it/s]"
     ]
    },
    {
     "name": "stdout",
     "output_type": "stream",
     "text": [
      "initial_potential =  32877.57231437609\n",
      "final_potential =  32761.78874224837\n",
      "energy_change =  0.06425666395807639\n",
      "p accept =  0.9377642783484017\n",
      "current step size = 0.0013027354983038138\n",
      "current acceptance ratio = 0.7818181818181819\n",
      "currently working on step 551\n"
     ]
    },
    {
     "name": "stderr",
     "output_type": "stream",
     "text": [
      "100%|██████████| 98/98 [00:07<00:00, 12.37it/s]\n",
      "  0%|          | 0/99 [00:00<?, ?it/s]"
     ]
    },
    {
     "name": "stdout",
     "output_type": "stream",
     "text": [
      "initial_potential =  32761.78874224837\n",
      "final_potential =  32763.800661483678\n",
      "energy_change =  0.1587849165807711\n",
      "p accept =  0.8531798440742029\n",
      "current step size = 0.0013027354983038138\n",
      "current acceptance ratio = 0.7822141560798548\n",
      "currently working on step 552\n"
     ]
    },
    {
     "name": "stderr",
     "output_type": "stream",
     "text": [
      "100%|██████████| 99/99 [00:08<00:00, 12.27it/s]\n",
      "  0%|          | 0/100 [00:00<?, ?it/s]"
     ]
    },
    {
     "name": "stdout",
     "output_type": "stream",
     "text": [
      "initial_potential =  32763.800661483678\n",
      "final_potential =  32824.64661132895\n",
      "energy_change =  0.4866148128203349\n",
      "p accept =  0.614703763357881\n",
      "current step size = 0.0013027354983038138\n",
      "current acceptance ratio = 0.782608695652174\n",
      "currently working on step 553\n"
     ]
    },
    {
     "name": "stderr",
     "output_type": "stream",
     "text": [
      "100%|██████████| 100/100 [00:08<00:00, 12.01it/s]\n",
      "  0%|          | 0/101 [00:00<?, ?it/s]"
     ]
    },
    {
     "name": "stdout",
     "output_type": "stream",
     "text": [
      "initial_potential =  32824.64661132895\n",
      "final_potential =  32897.605919506364\n",
      "energy_change =  -0.10625532871927135\n",
      "p accept =  1.1121057928067672\n",
      "current step size = 0.0013027354983038138\n",
      "current acceptance ratio = 0.783001808318264\n",
      "currently working on step 554\n"
     ]
    },
    {
     "name": "stderr",
     "output_type": "stream",
     "text": [
      "100%|██████████| 101/101 [00:08<00:00, 12.29it/s]\n",
      "  0%|          | 0/101 [00:00<?, ?it/s]"
     ]
    },
    {
     "name": "stdout",
     "output_type": "stream",
     "text": [
      "initial_potential =  32897.605919506364\n",
      "final_potential =  33079.1946628883\n",
      "energy_change =  0.6342888321378268\n",
      "p accept =  0.5303124954476728\n",
      "current step size = 0.0013027354983038138\n",
      "current acceptance ratio = 0.7833935018050542\n",
      "currently working on step 555\n"
     ]
    },
    {
     "name": "stderr",
     "output_type": "stream",
     "text": [
      "100%|██████████| 101/101 [00:08<00:00, 12.20it/s]\n",
      "  0%|          | 0/99 [00:00<?, ?it/s]"
     ]
    },
    {
     "name": "stdout",
     "output_type": "stream",
     "text": [
      "initial_potential =  33079.1946628883\n",
      "final_potential =  32882.77336722568\n",
      "energy_change =  -0.9187355762260268\n",
      "p accept =  2.5061195885522336\n",
      "current step size = 0.0013027354983038138\n",
      "current acceptance ratio = 0.7837837837837838\n",
      "currently working on step 556\n"
     ]
    },
    {
     "name": "stderr",
     "output_type": "stream",
     "text": [
      "100%|██████████| 99/99 [00:08<00:00, 11.99it/s]\n",
      "  0%|          | 0/97 [00:00<?, ?it/s]"
     ]
    },
    {
     "name": "stdout",
     "output_type": "stream",
     "text": [
      "initial_potential =  32882.77336722568\n",
      "final_potential =  32947.39191371986\n",
      "energy_change =  0.09717303983052261\n",
      "p accept =  0.9073989763823741\n",
      "current step size = 0.0013027354983038138\n",
      "current acceptance ratio = 0.7841726618705036\n",
      "currently working on step 557\n"
     ]
    },
    {
     "name": "stderr",
     "output_type": "stream",
     "text": [
      "100%|██████████| 97/97 [00:07<00:00, 12.26it/s]\n",
      "  0%|          | 0/100 [00:00<?, ?it/s]"
     ]
    },
    {
     "name": "stdout",
     "output_type": "stream",
     "text": [
      "initial_potential =  32947.39191371986\n",
      "final_potential =  32861.63020411152\n",
      "energy_change =  0.03810091348714195\n",
      "p accept =  0.9626157950729616\n",
      "current step size = 0.0013027354983038138\n",
      "current acceptance ratio = 0.7845601436265709\n",
      "currently working on step 558\n"
     ]
    },
    {
     "name": "stderr",
     "output_type": "stream",
     "text": [
      "100%|██████████| 100/100 [00:08<00:00, 12.27it/s]\n",
      "  0%|          | 0/97 [00:00<?, ?it/s]"
     ]
    },
    {
     "name": "stdout",
     "output_type": "stream",
     "text": [
      "initial_potential =  32861.63020411152\n",
      "final_potential =  33172.90240714776\n",
      "energy_change =  1.1417465627891943\n",
      "p accept =  0.31926092533067224\n",
      "current step size = 0.0013027354983038138\n",
      "current acceptance ratio = 0.7831541218637993\n",
      "currently working on step 559\n"
     ]
    },
    {
     "name": "stderr",
     "output_type": "stream",
     "text": [
      "100%|██████████| 97/97 [00:07<00:00, 12.22it/s]\n",
      "  0%|          | 0/99 [00:00<?, ?it/s]"
     ]
    },
    {
     "name": "stdout",
     "output_type": "stream",
     "text": [
      "initial_potential =  32861.63020411152\n",
      "final_potential =  32919.069901117866\n",
      "energy_change =  0.35360655015392695\n",
      "p accept =  0.7021511742864867\n",
      "current step size = 0.0013027354983038138\n",
      "current acceptance ratio = 0.7835420393559929\n",
      "currently working on step 560\n"
     ]
    },
    {
     "name": "stderr",
     "output_type": "stream",
     "text": [
      "100%|██████████| 99/99 [00:08<00:00, 11.91it/s]\n",
      "  0%|          | 0/97 [00:00<?, ?it/s]"
     ]
    },
    {
     "name": "stdout",
     "output_type": "stream",
     "text": [
      "initial_potential =  32919.069901117866\n",
      "final_potential =  32881.41926964645\n",
      "energy_change =  -0.7942090555879986\n",
      "p accept =  2.212690189558823\n",
      "current step size = 0.0013027354983038138\n",
      "current acceptance ratio = 0.7839285714285714\n",
      "currently working on step 561\n"
     ]
    },
    {
     "name": "stderr",
     "output_type": "stream",
     "text": [
      "100%|██████████| 97/97 [00:07<00:00, 12.17it/s]\n",
      "  0%|          | 0/101 [00:00<?, ?it/s]"
     ]
    },
    {
     "name": "stdout",
     "output_type": "stream",
     "text": [
      "initial_potential =  32881.41926964645\n",
      "final_potential =  32742.825041470012\n",
      "energy_change =  0.11937489386764355\n",
      "p accept =  0.8874750294426592\n",
      "current step size = 0.0013027354983038138\n",
      "current acceptance ratio = 0.7843137254901961\n",
      "currently working on step 562\n"
     ]
    },
    {
     "name": "stderr",
     "output_type": "stream",
     "text": [
      "100%|██████████| 101/101 [00:08<00:00, 11.72it/s]\n",
      "  0%|          | 0/101 [00:00<?, ?it/s]"
     ]
    },
    {
     "name": "stdout",
     "output_type": "stream",
     "text": [
      "initial_potential =  32742.825041470012\n",
      "final_potential =  32794.73570921189\n",
      "energy_change =  0.21649515032186173\n",
      "p accept =  0.8053364405357307\n",
      "current step size = 0.0013027354983038138\n",
      "current acceptance ratio = 0.7829181494661922\n",
      "currently working on step 563\n"
     ]
    },
    {
     "name": "stderr",
     "output_type": "stream",
     "text": [
      "100%|██████████| 101/101 [00:08<00:00, 11.62it/s]\n",
      "  0%|          | 0/101 [00:00<?, ?it/s]"
     ]
    },
    {
     "name": "stdout",
     "output_type": "stream",
     "text": [
      "initial_potential =  32742.825041470012\n",
      "final_potential =  32695.327252318075\n",
      "energy_change =  -0.1373618841607822\n",
      "p accept =  1.147243242565937\n",
      "current step size = 0.0013027354983038138\n",
      "current acceptance ratio = 0.783303730017762\n",
      "currently working on step 564\n"
     ]
    },
    {
     "name": "stderr",
     "output_type": "stream",
     "text": [
      "100%|██████████| 101/101 [00:08<00:00, 11.77it/s]\n",
      "  0%|          | 0/101 [00:00<?, ?it/s]"
     ]
    },
    {
     "name": "stdout",
     "output_type": "stream",
     "text": [
      "initial_potential =  32695.327252318075\n",
      "final_potential =  33153.993756857046\n",
      "energy_change =  1.9251147452014266\n",
      "p accept =  0.14585901927342068\n",
      "current step size = 0.0013027354983038138\n",
      "current acceptance ratio = 0.7819148936170213\n",
      "currently working on step 565\n"
     ]
    },
    {
     "name": "stderr",
     "output_type": "stream",
     "text": [
      "100%|██████████| 101/101 [00:08<00:00, 11.75it/s]\n",
      "  0%|          | 0/101 [00:00<?, ?it/s]"
     ]
    },
    {
     "name": "stdout",
     "output_type": "stream",
     "text": [
      "initial_potential =  32695.327252318075\n",
      "final_potential =  32686.81761298735\n",
      "energy_change =  -0.04093691804155242\n",
      "p accept =  1.0417863855471439\n",
      "current step size = 0.0013027354983038138\n",
      "current acceptance ratio = 0.7823008849557522\n",
      "currently working on step 566\n"
     ]
    },
    {
     "name": "stderr",
     "output_type": "stream",
     "text": [
      "100%|██████████| 101/101 [00:08<00:00, 11.78it/s]\n",
      "  0%|          | 0/98 [00:00<?, ?it/s]"
     ]
    },
    {
     "name": "stdout",
     "output_type": "stream",
     "text": [
      "initial_potential =  32686.81761298735\n",
      "final_potential =  32692.736003820115\n",
      "energy_change =  -0.05570634550531395\n",
      "p accept =  1.0572871610186398\n",
      "current step size = 0.0013027354983038138\n",
      "current acceptance ratio = 0.7826855123674912\n",
      "currently working on step 567\n"
     ]
    },
    {
     "name": "stderr",
     "output_type": "stream",
     "text": [
      "100%|██████████| 98/98 [00:08<00:00, 11.82it/s]\n",
      "  0%|          | 0/101 [00:00<?, ?it/s]"
     ]
    },
    {
     "name": "stdout",
     "output_type": "stream",
     "text": [
      "initial_potential =  32692.736003820115\n",
      "final_potential =  32946.10578893496\n",
      "energy_change =  0.8698645006370498\n",
      "p accept =  0.4190083207618342\n",
      "current step size = 0.0013027354983038138\n",
      "current acceptance ratio = 0.783068783068783\n",
      "currently working on step 568\n"
     ]
    },
    {
     "name": "stderr",
     "output_type": "stream",
     "text": [
      "100%|██████████| 101/101 [00:08<00:00, 11.85it/s]\n",
      "  0%|          | 0/100 [00:00<?, ?it/s]"
     ]
    },
    {
     "name": "stdout",
     "output_type": "stream",
     "text": [
      "initial_potential =  32946.10578893496\n",
      "final_potential =  33104.39768339012\n",
      "energy_change =  0.6261547196772881\n",
      "p accept =  0.5346437083304523\n",
      "current step size = 0.0013027354983038138\n",
      "current acceptance ratio = 0.7816901408450704\n",
      "currently working on step 569\n"
     ]
    },
    {
     "name": "stderr",
     "output_type": "stream",
     "text": [
      "100%|██████████| 100/100 [00:08<00:00, 11.88it/s]\n",
      "  0%|          | 0/101 [00:00<?, ?it/s]"
     ]
    },
    {
     "name": "stdout",
     "output_type": "stream",
     "text": [
      "initial_potential =  32946.10578893496\n",
      "final_potential =  32512.197965338062\n",
      "energy_change =  -1.2668575138377491\n",
      "p accept =  3.5496801961497324\n",
      "current step size = 0.0013027354983038138\n",
      "current acceptance ratio = 0.7820738137082601\n",
      "currently working on step 570\n"
     ]
    },
    {
     "name": "stderr",
     "output_type": "stream",
     "text": [
      "100%|██████████| 101/101 [00:08<00:00, 11.77it/s]\n",
      "  0%|          | 0/98 [00:00<?, ?it/s]"
     ]
    },
    {
     "name": "stdout",
     "output_type": "stream",
     "text": [
      "initial_potential =  32512.197965338062\n",
      "final_potential =  32687.43201883328\n",
      "energy_change =  0.6601537578244461\n",
      "p accept =  0.5167718706641949\n",
      "current step size = 0.0013027354983038138\n",
      "current acceptance ratio = 0.7824561403508772\n",
      "currently working on step 571\n"
     ]
    },
    {
     "name": "stderr",
     "output_type": "stream",
     "text": [
      "100%|██████████| 98/98 [00:08<00:00, 11.81it/s]\n",
      "  0%|          | 0/98 [00:00<?, ?it/s]"
     ]
    },
    {
     "name": "stdout",
     "output_type": "stream",
     "text": [
      "initial_potential =  32687.43201883328\n",
      "final_potential =  32696.08267440966\n",
      "energy_change =  0.5339466743462253\n",
      "p accept =  0.5862865156453909\n",
      "current step size = 0.0013027354983038138\n",
      "current acceptance ratio = 0.7810858143607706\n",
      "currently working on step 572\n"
     ]
    },
    {
     "name": "stderr",
     "output_type": "stream",
     "text": [
      "100%|██████████| 98/98 [00:08<00:00, 11.96it/s]\n",
      "  0%|          | 0/101 [00:00<?, ?it/s]"
     ]
    },
    {
     "name": "stdout",
     "output_type": "stream",
     "text": [
      "initial_potential =  32687.43201883328\n",
      "final_potential =  32794.04437005271\n",
      "energy_change =  0.035911587372538634\n",
      "p accept =  0.9647255836363327\n",
      "current step size = 0.0013027354983038138\n",
      "current acceptance ratio = 0.7814685314685315\n",
      "currently working on step 573\n"
     ]
    },
    {
     "name": "stderr",
     "output_type": "stream",
     "text": [
      "100%|██████████| 101/101 [00:08<00:00, 12.30it/s]\n",
      "  0%|          | 0/99 [00:00<?, ?it/s]"
     ]
    },
    {
     "name": "stdout",
     "output_type": "stream",
     "text": [
      "initial_potential =  32794.04437005271\n",
      "final_potential =  32539.389693552195\n",
      "energy_change =  -1.0033517146366648\n",
      "p accept =  2.7274080190998182\n",
      "current step size = 0.0013027354983038138\n",
      "current acceptance ratio = 0.7818499127399651\n",
      "currently working on step 574\n"
     ]
    },
    {
     "name": "stderr",
     "output_type": "stream",
     "text": [
      "100%|██████████| 99/99 [00:08<00:00, 11.95it/s]\n",
      "  0%|          | 0/97 [00:00<?, ?it/s]"
     ]
    },
    {
     "name": "stdout",
     "output_type": "stream",
     "text": [
      "initial_potential =  32539.389693552195\n",
      "final_potential =  32513.686593119874\n",
      "energy_change =  -0.11563623626716435\n",
      "p accept =  1.122587441253523\n",
      "current step size = 0.0013027354983038138\n",
      "current acceptance ratio = 0.7822299651567944\n",
      "currently working on step 575\n"
     ]
    },
    {
     "name": "stderr",
     "output_type": "stream",
     "text": [
      "100%|██████████| 97/97 [00:07<00:00, 12.32it/s]\n",
      "  0%|          | 0/101 [00:00<?, ?it/s]"
     ]
    },
    {
     "name": "stdout",
     "output_type": "stream",
     "text": [
      "initial_potential =  32513.686593119874\n",
      "final_potential =  32649.055890215604\n",
      "energy_change =  0.37724528221588116\n",
      "p accept =  0.6857478515133292\n",
      "current step size = 0.0013027354983038138\n",
      "current acceptance ratio = 0.782608695652174\n",
      "currently working on step 576\n"
     ]
    },
    {
     "name": "stderr",
     "output_type": "stream",
     "text": [
      "100%|██████████| 101/101 [00:08<00:00, 12.34it/s]\n",
      "  0%|          | 0/100 [00:00<?, ?it/s]"
     ]
    },
    {
     "name": "stdout",
     "output_type": "stream",
     "text": [
      "initial_potential =  32649.055890215604\n",
      "final_potential =  32786.39222420129\n",
      "energy_change =  1.0563729187852005\n",
      "p accept =  0.34771471538675525\n",
      "current step size = 0.0013027354983038138\n",
      "current acceptance ratio = 0.78125\n",
      "currently working on step 577\n"
     ]
    },
    {
     "name": "stderr",
     "output_type": "stream",
     "text": [
      "100%|██████████| 100/100 [00:08<00:00, 12.35it/s]\n",
      "  0%|          | 0/97 [00:00<?, ?it/s]"
     ]
    },
    {
     "name": "stdout",
     "output_type": "stream",
     "text": [
      "initial_potential =  32649.055890215604\n",
      "final_potential =  32397.240179505076\n",
      "energy_change =  -0.3107471825496759\n",
      "p accept =  1.3644442222677424\n",
      "current step size = 0.0013027354983038138\n",
      "current acceptance ratio = 0.7816291161178509\n",
      "currently working on step 578\n"
     ]
    },
    {
     "name": "stderr",
     "output_type": "stream",
     "text": [
      "100%|██████████| 97/97 [00:08<00:00, 11.95it/s]\n",
      "  0%|          | 0/101 [00:00<?, ?it/s]"
     ]
    },
    {
     "name": "stdout",
     "output_type": "stream",
     "text": [
      "initial_potential =  32397.240179505076\n",
      "final_potential =  32488.784134806676\n",
      "energy_change =  0.24674610575311817\n",
      "p accept =  0.7813390458386587\n",
      "current step size = 0.0013027354983038138\n",
      "current acceptance ratio = 0.7820069204152249\n",
      "currently working on step 579\n"
     ]
    },
    {
     "name": "stderr",
     "output_type": "stream",
     "text": [
      "100%|██████████| 101/101 [00:08<00:00, 12.32it/s]\n",
      "  0%|          | 0/101 [00:00<?, ?it/s]"
     ]
    },
    {
     "name": "stdout",
     "output_type": "stream",
     "text": [
      "initial_potential =  32488.784134806676\n",
      "final_potential =  32922.4930923353\n",
      "energy_change =  1.9604910439666128\n",
      "p accept =  0.1407892702227112\n",
      "current step size = 0.0013027354983038138\n",
      "current acceptance ratio = 0.7806563039723662\n",
      "currently working on step 580\n"
     ]
    },
    {
     "name": "stderr",
     "output_type": "stream",
     "text": [
      "100%|██████████| 101/101 [00:08<00:00, 12.31it/s]\n",
      "  0%|          | 0/97 [00:00<?, ?it/s]"
     ]
    },
    {
     "name": "stdout",
     "output_type": "stream",
     "text": [
      "initial_potential =  32488.784134806676\n",
      "final_potential =  32391.233525524865\n",
      "energy_change =  -0.7872115598147502\n",
      "p accept =  2.197260945303235\n",
      "current step size = 0.0013027354983038138\n",
      "current acceptance ratio = 0.7810344827586206\n",
      "currently working on step 581\n"
     ]
    },
    {
     "name": "stderr",
     "output_type": "stream",
     "text": [
      "100%|██████████| 97/97 [00:07<00:00, 12.43it/s]\n",
      "  0%|          | 0/98 [00:00<?, ?it/s]"
     ]
    },
    {
     "name": "stdout",
     "output_type": "stream",
     "text": [
      "initial_potential =  32391.233525524865\n",
      "final_potential =  32445.50365401128\n",
      "energy_change =  0.028315954434219748\n",
      "p accept =  0.9720811849152673\n",
      "current step size = 0.0013027354983038138\n",
      "current acceptance ratio = 0.7814113597246127\n",
      "currently working on step 582\n"
     ]
    },
    {
     "name": "stderr",
     "output_type": "stream",
     "text": [
      "100%|██████████| 98/98 [00:08<00:00, 12.10it/s]\n",
      "  0%|          | 0/98 [00:00<?, ?it/s]"
     ]
    },
    {
     "name": "stdout",
     "output_type": "stream",
     "text": [
      "initial_potential =  32445.50365401128\n",
      "final_potential =  32399.542752484962\n",
      "energy_change =  -0.19984102153102867\n",
      "p accept =  1.2212085968538227\n",
      "current step size = 0.0013027354983038138\n",
      "current acceptance ratio = 0.781786941580756\n",
      "currently working on step 583\n"
     ]
    },
    {
     "name": "stderr",
     "output_type": "stream",
     "text": [
      "100%|██████████| 98/98 [00:08<00:00, 12.20it/s]\n",
      "  0%|          | 0/97 [00:00<?, ?it/s]"
     ]
    },
    {
     "name": "stdout",
     "output_type": "stream",
     "text": [
      "initial_potential =  32399.542752484962\n",
      "final_potential =  32493.816483266066\n",
      "energy_change =  -0.03778827023052145\n",
      "p accept =  1.0385113258352654\n",
      "current step size = 0.0013027354983038138\n",
      "current acceptance ratio = 0.7821612349914236\n",
      "currently working on step 584\n"
     ]
    },
    {
     "name": "stderr",
     "output_type": "stream",
     "text": [
      "100%|██████████| 97/97 [00:07<00:00, 12.25it/s]\n",
      "  0%|          | 0/97 [00:00<?, ?it/s]"
     ]
    },
    {
     "name": "stdout",
     "output_type": "stream",
     "text": [
      "initial_potential =  32493.816483266066\n",
      "final_potential =  32323.165396181117\n",
      "energy_change =  -0.14895372788305394\n",
      "p accept =  1.160619283655337\n",
      "current step size = 0.0013027354983038138\n",
      "current acceptance ratio = 0.7825342465753424\n",
      "currently working on step 585\n"
     ]
    },
    {
     "name": "stderr",
     "output_type": "stream",
     "text": [
      "100%|██████████| 97/97 [00:07<00:00, 12.35it/s]\n",
      "  0%|          | 0/98 [00:00<?, ?it/s]"
     ]
    },
    {
     "name": "stdout",
     "output_type": "stream",
     "text": [
      "initial_potential =  32323.165396181117\n",
      "final_potential =  32483.70077695565\n",
      "energy_change =  0.4501936227752594\n",
      "p accept =  0.6375047042409706\n",
      "current step size = 0.0013027354983038138\n",
      "current acceptance ratio = 0.7811965811965812\n",
      "currently working on step 586\n"
     ]
    },
    {
     "name": "stderr",
     "output_type": "stream",
     "text": [
      "100%|██████████| 98/98 [00:08<00:00, 12.04it/s]\n",
      "  0%|          | 0/97 [00:00<?, ?it/s]"
     ]
    },
    {
     "name": "stdout",
     "output_type": "stream",
     "text": [
      "initial_potential =  32323.165396181117\n",
      "final_potential =  32527.01589159228\n",
      "energy_change =  0.6438592098566005\n",
      "p accept =  0.5252614134915778\n",
      "current step size = 0.0013027354983038138\n",
      "current acceptance ratio = 0.7798634812286689\n",
      "currently working on step 587\n"
     ]
    },
    {
     "name": "stderr",
     "output_type": "stream",
     "text": [
      "100%|██████████| 97/97 [00:07<00:00, 12.19it/s]\n",
      "  0%|          | 0/99 [00:00<?, ?it/s]"
     ]
    },
    {
     "name": "stdout",
     "output_type": "stream",
     "text": [
      "initial_potential =  32323.165396181117\n",
      "final_potential =  32597.132354360343\n",
      "energy_change =  1.1197792990715243\n",
      "p accept =  0.3263518128236052\n",
      "current step size = 0.0013027354983038138\n",
      "current acceptance ratio = 0.778534923339012\n",
      "currently working on step 588\n"
     ]
    },
    {
     "name": "stderr",
     "output_type": "stream",
     "text": [
      "100%|██████████| 99/99 [00:08<00:00, 12.30it/s]\n",
      "  0%|          | 0/99 [00:00<?, ?it/s]"
     ]
    },
    {
     "name": "stdout",
     "output_type": "stream",
     "text": [
      "initial_potential =  32323.165396181117\n",
      "final_potential =  32350.690380343454\n",
      "energy_change =  0.2701564423914533\n",
      "p accept =  0.7632600787642452\n",
      "current step size = 0.0013027354983038138\n",
      "current acceptance ratio = 0.7772108843537415\n",
      "currently working on step 589\n"
     ]
    },
    {
     "name": "stderr",
     "output_type": "stream",
     "text": [
      "100%|██████████| 99/99 [00:07<00:00, 12.39it/s]\n",
      "  0%|          | 0/100 [00:00<?, ?it/s]"
     ]
    },
    {
     "name": "stdout",
     "output_type": "stream",
     "text": [
      "initial_potential =  32323.165396181117\n",
      "final_potential =  32693.853293558823\n",
      "energy_change =  1.6380697168060578\n",
      "p accept =  0.19435484032328315\n",
      "current step size = 0.0013027354983038138\n",
      "current acceptance ratio = 0.7758913412563667\n",
      "currently working on step 590\n"
     ]
    },
    {
     "name": "stderr",
     "output_type": "stream",
     "text": [
      "100%|██████████| 100/100 [00:08<00:00, 12.28it/s]\n",
      "  0%|          | 0/101 [00:00<?, ?it/s]"
     ]
    },
    {
     "name": "stdout",
     "output_type": "stream",
     "text": [
      "initial_potential =  32323.165396181117\n",
      "final_potential =  32487.341824172934\n",
      "energy_change =  0.8091378160897875\n",
      "p accept =  0.44524178108258594\n",
      "current step size = 0.0013027354983038138\n",
      "current acceptance ratio = 0.7745762711864407\n",
      "currently working on step 591\n"
     ]
    },
    {
     "name": "stderr",
     "output_type": "stream",
     "text": [
      "100%|██████████| 101/101 [00:08<00:00, 11.92it/s]\n",
      "  0%|          | 0/100 [00:00<?, ?it/s]"
     ]
    },
    {
     "name": "stdout",
     "output_type": "stream",
     "text": [
      "initial_potential =  32323.165396181117\n",
      "final_potential =  32427.831620542463\n",
      "energy_change =  0.577054090128513\n",
      "p accept =  0.561550208584742\n",
      "current step size = 0.0013027354983038138\n",
      "current acceptance ratio = 0.7749576988155669\n",
      "currently working on step 592\n"
     ]
    },
    {
     "name": "stderr",
     "output_type": "stream",
     "text": [
      "100%|██████████| 100/100 [00:08<00:00, 12.41it/s]\n",
      "  0%|          | 0/101 [00:00<?, ?it/s]"
     ]
    },
    {
     "name": "stdout",
     "output_type": "stream",
     "text": [
      "initial_potential =  32427.831620542463\n",
      "final_potential =  32630.104259505104\n",
      "energy_change =  0.6982727755239466\n",
      "p accept =  0.4974437592417797\n",
      "current step size = 0.0013027354983038138\n",
      "current acceptance ratio = 0.7736486486486487\n",
      "currently working on step 593\n"
     ]
    },
    {
     "name": "stderr",
     "output_type": "stream",
     "text": [
      "100%|██████████| 101/101 [00:08<00:00, 12.46it/s]\n",
      "  0%|          | 0/97 [00:00<?, ?it/s]"
     ]
    },
    {
     "name": "stdout",
     "output_type": "stream",
     "text": [
      "initial_potential =  32427.831620542463\n",
      "final_potential =  32680.82760318518\n",
      "energy_change =  0.7618063429981703\n",
      "p accept =  0.4668224235433665\n",
      "current step size = 0.0013027354983038138\n",
      "current acceptance ratio = 0.7740303541315345\n",
      "currently working on step 594\n"
     ]
    },
    {
     "name": "stderr",
     "output_type": "stream",
     "text": [
      "100%|██████████| 97/97 [00:07<00:00, 12.27it/s]\n",
      "  0%|          | 0/100 [00:00<?, ?it/s]"
     ]
    },
    {
     "name": "stdout",
     "output_type": "stream",
     "text": [
      "initial_potential =  32680.82760318518\n",
      "final_potential =  32555.859131425317\n",
      "energy_change =  -0.5248159783805022\n",
      "p accept =  1.690147796025175\n",
      "current step size = 0.0013027354983038138\n",
      "current acceptance ratio = 0.7744107744107744\n",
      "currently working on step 595\n"
     ]
    },
    {
     "name": "stderr",
     "output_type": "stream",
     "text": [
      "100%|██████████| 100/100 [00:08<00:00, 11.95it/s]\n",
      "  0%|          | 0/98 [00:00<?, ?it/s]"
     ]
    },
    {
     "name": "stdout",
     "output_type": "stream",
     "text": [
      "initial_potential =  32555.859131425317\n",
      "final_potential =  32607.03688865881\n",
      "energy_change =  0.20847890130244195\n",
      "p accept =  0.8118181628277422\n",
      "current step size = 0.0013027354983038138\n",
      "current acceptance ratio = 0.7747899159663866\n",
      "currently working on step 596\n"
     ]
    },
    {
     "name": "stderr",
     "output_type": "stream",
     "text": [
      "100%|██████████| 98/98 [00:07<00:00, 12.39it/s]\n",
      "  0%|          | 0/99 [00:00<?, ?it/s]"
     ]
    },
    {
     "name": "stdout",
     "output_type": "stream",
     "text": [
      "initial_potential =  32607.03688865881\n",
      "final_potential =  32589.014400597316\n",
      "energy_change =  -0.46128658679663204\n",
      "p accept =  1.5861133452941678\n",
      "current step size = 0.0013027354983038138\n",
      "current acceptance ratio = 0.7751677852348994\n",
      "currently working on step 597\n"
     ]
    },
    {
     "name": "stderr",
     "output_type": "stream",
     "text": [
      "100%|██████████| 99/99 [00:07<00:00, 12.45it/s]\n",
      "  0%|          | 0/101 [00:00<?, ?it/s]"
     ]
    },
    {
     "name": "stdout",
     "output_type": "stream",
     "text": [
      "initial_potential =  32589.014400597316\n",
      "final_potential =  32729.950369432838\n",
      "energy_change =  0.9302826701314189\n",
      "p accept =  0.3944421975838483\n",
      "current step size = 0.0013027354983038138\n",
      "current acceptance ratio = 0.7738693467336684\n",
      "currently working on step 598\n"
     ]
    },
    {
     "name": "stderr",
     "output_type": "stream",
     "text": [
      "100%|██████████| 101/101 [00:08<00:00, 12.09it/s]\n",
      "  0%|          | 0/97 [00:00<?, ?it/s]"
     ]
    },
    {
     "name": "stdout",
     "output_type": "stream",
     "text": [
      "initial_potential =  32589.014400597316\n",
      "final_potential =  32686.67541805951\n",
      "energy_change =  0.2780122800322715\n",
      "p accept =  0.7572875219420279\n",
      "current step size = 0.0013027354983038138\n",
      "current acceptance ratio = 0.774247491638796\n",
      "currently working on step 599\n"
     ]
    },
    {
     "name": "stderr",
     "output_type": "stream",
     "text": [
      "100%|██████████| 97/97 [00:08<00:00, 12.03it/s]\n",
      "  0%|          | 0/100 [00:00<?, ?it/s]"
     ]
    },
    {
     "name": "stdout",
     "output_type": "stream",
     "text": [
      "initial_potential =  32686.67541805951\n",
      "final_potential =  32640.28936608575\n",
      "energy_change =  0.03507840886595659\n",
      "p accept =  0.9655297072000857\n",
      "current step size = 0.0013027354983038138\n",
      "current acceptance ratio = 0.7746243739565943\n",
      "currently working on step 600\n"
     ]
    },
    {
     "name": "stderr",
     "output_type": "stream",
     "text": [
      "100%|██████████| 100/100 [00:08<00:00, 12.42it/s]\n",
      "  0%|          | 0/99 [00:00<?, ?it/s]"
     ]
    },
    {
     "name": "stdout",
     "output_type": "stream",
     "text": [
      "initial_potential =  32640.28936608575\n",
      "final_potential =  32267.05616949152\n",
      "energy_change =  -0.7465888257720508\n",
      "p accept =  2.109790863544553\n",
      "current step size = 0.0013027354983038138\n",
      "current acceptance ratio = 0.775\n",
      "currently working on step 601\n"
     ]
    },
    {
     "name": "stderr",
     "output_type": "stream",
     "text": [
      "100%|██████████| 99/99 [00:08<00:00, 12.36it/s]\n",
      "  0%|          | 0/99 [00:00<?, ?it/s]"
     ]
    },
    {
     "name": "stdout",
     "output_type": "stream",
     "text": [
      "initial_potential =  32267.05616949152\n",
      "final_potential =  32408.344360205458\n",
      "energy_change =  0.3050123671273468\n",
      "p accept =  0.7371142583493561\n",
      "current step size = 0.0013027354983038138\n",
      "current acceptance ratio = 0.7753743760399334\n",
      "currently working on step 602\n"
     ]
    },
    {
     "name": "stderr",
     "output_type": "stream",
     "text": [
      "100%|██████████| 99/99 [00:08<00:00, 11.92it/s]\n",
      "  0%|          | 0/101 [00:00<?, ?it/s]"
     ]
    },
    {
     "name": "stdout",
     "output_type": "stream",
     "text": [
      "initial_potential =  32408.344360205458\n",
      "final_potential =  32610.968568679782\n",
      "energy_change =  0.896333689961466\n",
      "p accept =  0.40806300602793644\n",
      "current step size = 0.0013027354983038138\n",
      "current acceptance ratio = 0.7757475083056479\n",
      "currently working on step 603\n"
     ]
    },
    {
     "name": "stderr",
     "output_type": "stream",
     "text": [
      "100%|██████████| 101/101 [00:08<00:00, 12.41it/s]\n",
      "  0%|          | 0/97 [00:00<?, ?it/s]"
     ]
    },
    {
     "name": "stdout",
     "output_type": "stream",
     "text": [
      "initial_potential =  32610.968568679782\n",
      "final_potential =  32792.00774803875\n",
      "energy_change =  0.5766341685084626\n",
      "p accept =  0.5617860651752455\n",
      "current step size = 0.0013027354983038138\n",
      "current acceptance ratio = 0.7744610281923715\n",
      "currently working on step 604\n"
     ]
    },
    {
     "name": "stderr",
     "output_type": "stream",
     "text": [
      "100%|██████████| 97/97 [00:07<00:00, 12.47it/s]\n",
      "  0%|          | 0/97 [00:00<?, ?it/s]"
     ]
    },
    {
     "name": "stdout",
     "output_type": "stream",
     "text": [
      "initial_potential =  32610.968568679782\n",
      "final_potential =  32555.710666551586\n",
      "energy_change =  -0.10876465757610276\n",
      "p accept =  1.1148999362106795\n",
      "current step size = 0.0013027354983038138\n",
      "current acceptance ratio = 0.7748344370860927\n",
      "currently working on step 605\n"
     ]
    },
    {
     "name": "stderr",
     "output_type": "stream",
     "text": [
      "100%|██████████| 97/97 [00:08<00:00, 12.03it/s]\n",
      "  0%|          | 0/101 [00:00<?, ?it/s]"
     ]
    },
    {
     "name": "stdout",
     "output_type": "stream",
     "text": [
      "initial_potential =  32555.710666551586\n",
      "final_potential =  32469.151888336888\n",
      "energy_change =  -0.33266301499679685\n",
      "p accept =  1.3946772339597535\n",
      "current step size = 0.0013027354983038138\n",
      "current acceptance ratio = 0.775206611570248\n",
      "currently working on step 606\n"
     ]
    },
    {
     "name": "stderr",
     "output_type": "stream",
     "text": [
      "100%|██████████| 101/101 [00:08<00:00, 12.29it/s]\n",
      "  0%|          | 0/97 [00:00<?, ?it/s]"
     ]
    },
    {
     "name": "stdout",
     "output_type": "stream",
     "text": [
      "initial_potential =  32469.151888336888\n",
      "final_potential =  32873.295979860304\n",
      "energy_change =  1.492943320001359\n",
      "p accept =  0.2247102869541649\n",
      "current step size = 0.0013027354983038138\n",
      "current acceptance ratio = 0.7739273927392739\n",
      "currently working on step 607\n"
     ]
    },
    {
     "name": "stderr",
     "output_type": "stream",
     "text": [
      "100%|██████████| 97/97 [00:07<00:00, 12.43it/s]\n",
      "  0%|          | 0/101 [00:00<?, ?it/s]"
     ]
    },
    {
     "name": "stdout",
     "output_type": "stream",
     "text": [
      "initial_potential =  32469.151888336888\n",
      "final_potential =  32448.770478169263\n",
      "energy_change =  0.11953537884983234\n",
      "p accept =  0.8873326144564051\n",
      "current step size = 0.0013027354983038138\n",
      "current acceptance ratio = 0.7742998352553542\n",
      "currently working on step 608\n"
     ]
    },
    {
     "name": "stderr",
     "output_type": "stream",
     "text": [
      "100%|██████████| 101/101 [00:08<00:00, 12.23it/s]\n",
      "  0%|          | 0/100 [00:00<?, ?it/s]"
     ]
    },
    {
     "name": "stdout",
     "output_type": "stream",
     "text": [
      "initial_potential =  32448.770478169263\n",
      "final_potential =  32500.417194932757\n",
      "energy_change =  0.26448212449031416\n",
      "p accept =  0.7676033700464121\n",
      "current step size = 0.0013027354983038138\n",
      "current acceptance ratio = 0.774671052631579\n",
      "currently working on step 609\n"
     ]
    },
    {
     "name": "stderr",
     "output_type": "stream",
     "text": [
      "100%|██████████| 100/100 [00:08<00:00, 12.10it/s]\n",
      "  0%|          | 0/98 [00:00<?, ?it/s]"
     ]
    },
    {
     "name": "stdout",
     "output_type": "stream",
     "text": [
      "initial_potential =  32500.417194932757\n",
      "final_potential =  32507.798309538244\n",
      "energy_change =  -0.04105394553334918\n",
      "p accept =  1.041908310328969\n",
      "current step size = 0.0013027354983038138\n",
      "current acceptance ratio = 0.7750410509031199\n",
      "currently working on step 610\n"
     ]
    },
    {
     "name": "stderr",
     "output_type": "stream",
     "text": [
      "100%|██████████| 98/98 [00:07<00:00, 12.47it/s]\n",
      "  0%|          | 0/101 [00:00<?, ?it/s]"
     ]
    },
    {
     "name": "stdout",
     "output_type": "stream",
     "text": [
      "initial_potential =  32507.798309538244\n",
      "final_potential =  32557.25423216635\n",
      "energy_change =  0.20913934163399972\n",
      "p accept =  0.8112821823821533\n",
      "current step size = 0.0013027354983038138\n",
      "current acceptance ratio = 0.7754098360655738\n",
      "currently working on step 611\n"
     ]
    },
    {
     "name": "stderr",
     "output_type": "stream",
     "text": [
      "100%|██████████| 101/101 [00:08<00:00, 12.28it/s]\n",
      "  0%|          | 0/97 [00:00<?, ?it/s]"
     ]
    },
    {
     "name": "stdout",
     "output_type": "stream",
     "text": [
      "initial_potential =  32557.25423216635\n",
      "final_potential =  32739.95475119554\n",
      "energy_change =  0.42804909370897803\n",
      "p accept =  0.6517794157443078\n",
      "current step size = 0.0013027354983038138\n",
      "current acceptance ratio = 0.7757774140752864\n",
      "currently working on step 612\n"
     ]
    },
    {
     "name": "stderr",
     "output_type": "stream",
     "text": [
      "100%|██████████| 97/97 [00:08<00:00, 11.98it/s]\n",
      "  0%|          | 0/101 [00:00<?, ?it/s]"
     ]
    },
    {
     "name": "stdout",
     "output_type": "stream",
     "text": [
      "initial_potential =  32739.95475119554\n",
      "final_potential =  32740.75666884422\n",
      "energy_change =  -0.36702350991254207\n",
      "p accept =  1.4434318536729174\n",
      "current step size = 0.0013027354983038138\n",
      "current acceptance ratio = 0.7761437908496732\n",
      "currently working on step 613\n"
     ]
    },
    {
     "name": "stderr",
     "output_type": "stream",
     "text": [
      "100%|██████████| 101/101 [00:08<00:00, 12.29it/s]\n",
      "  0%|          | 0/97 [00:00<?, ?it/s]"
     ]
    },
    {
     "name": "stdout",
     "output_type": "stream",
     "text": [
      "initial_potential =  32740.75666884422\n",
      "final_potential =  32792.33025892143\n",
      "energy_change =  -0.31013193511171266\n",
      "p accept =  1.363605009643929\n",
      "current step size = 0.0013027354983038138\n",
      "current acceptance ratio = 0.7765089722675367\n",
      "currently working on step 614\n"
     ]
    },
    {
     "name": "stderr",
     "output_type": "stream",
     "text": [
      "100%|██████████| 97/97 [00:07<00:00, 12.40it/s]\n",
      "  0%|          | 0/99 [00:00<?, ?it/s]"
     ]
    },
    {
     "name": "stdout",
     "output_type": "stream",
     "text": [
      "initial_potential =  32792.33025892143\n",
      "final_potential =  32723.173762929517\n",
      "energy_change =  -0.15905781998299062\n",
      "p accept =  1.1724057332005429\n",
      "current step size = 0.0013027354983038138\n",
      "current acceptance ratio = 0.7768729641693811\n",
      "currently working on step 615\n"
     ]
    },
    {
     "name": "stderr",
     "output_type": "stream",
     "text": [
      "100%|██████████| 99/99 [00:08<00:00, 12.04it/s]\n",
      "  0%|          | 0/97 [00:00<?, ?it/s]"
     ]
    },
    {
     "name": "stdout",
     "output_type": "stream",
     "text": [
      "initial_potential =  32723.173762929517\n",
      "final_potential =  32701.557271411184\n",
      "energy_change =  0.013826189504470676\n",
      "p accept =  0.9862689532615805\n",
      "current step size = 0.0013027354983038138\n",
      "current acceptance ratio = 0.7772357723577236\n",
      "currently working on step 616\n"
     ]
    },
    {
     "name": "stderr",
     "output_type": "stream",
     "text": [
      "100%|██████████| 97/97 [00:07<00:00, 12.41it/s]\n",
      "  0%|          | 0/99 [00:00<?, ?it/s]"
     ]
    },
    {
     "name": "stdout",
     "output_type": "stream",
     "text": [
      "initial_potential =  32701.557271411184\n",
      "final_potential =  32519.069317595066\n",
      "energy_change =  -0.08237118576653302\n",
      "p accept =  1.0858587903620505\n",
      "current step size = 0.0013027354983038138\n",
      "current acceptance ratio = 0.7775974025974026\n",
      "currently working on step 617\n"
     ]
    },
    {
     "name": "stderr",
     "output_type": "stream",
     "text": [
      "100%|██████████| 99/99 [00:08<00:00, 12.22it/s]\n",
      "  0%|          | 0/99 [00:00<?, ?it/s]"
     ]
    },
    {
     "name": "stdout",
     "output_type": "stream",
     "text": [
      "initial_potential =  32519.069317595066\n",
      "final_potential =  32719.601270933694\n",
      "energy_change =  0.37687946199730504\n",
      "p accept =  0.6859987578327621\n",
      "current step size = 0.0013027354983038138\n",
      "current acceptance ratio = 0.7779578606158833\n",
      "currently working on step 618\n"
     ]
    },
    {
     "name": "stderr",
     "output_type": "stream",
     "text": [
      "100%|██████████| 99/99 [00:08<00:00, 12.04it/s]\n",
      "  0%|          | 0/99 [00:00<?, ?it/s]"
     ]
    },
    {
     "name": "stdout",
     "output_type": "stream",
     "text": [
      "initial_potential =  32719.601270933694\n",
      "final_potential =  32523.55251251322\n",
      "energy_change =  -0.524023256948567\n",
      "p accept =  1.6888085105544106\n",
      "current step size = 0.0013027354983038138\n",
      "current acceptance ratio = 0.7783171521035599\n",
      "currently working on step 619\n"
     ]
    },
    {
     "name": "stderr",
     "output_type": "stream",
     "text": [
      "100%|██████████| 99/99 [00:07<00:00, 12.44it/s]\n",
      "  0%|          | 0/99 [00:00<?, ?it/s]"
     ]
    },
    {
     "name": "stdout",
     "output_type": "stream",
     "text": [
      "initial_potential =  32523.55251251322\n",
      "final_potential =  32713.853959128024\n",
      "energy_change =  0.33212758155423217\n",
      "p accept =  0.7173957905456929\n",
      "current step size = 0.0013027354983038138\n",
      "current acceptance ratio = 0.778675282714055\n",
      "currently working on step 620\n"
     ]
    },
    {
     "name": "stderr",
     "output_type": "stream",
     "text": [
      "100%|██████████| 99/99 [00:08<00:00, 11.99it/s]\n",
      "  0%|          | 0/100 [00:00<?, ?it/s]"
     ]
    },
    {
     "name": "stdout",
     "output_type": "stream",
     "text": [
      "initial_potential =  32713.853959128024\n",
      "final_potential =  32677.109558415737\n",
      "energy_change =  0.19543232544674538\n",
      "p accept =  0.8224790025798725\n",
      "current step size = 0.0013027354983038138\n",
      "current acceptance ratio = 0.7790322580645161\n",
      "currently working on step 621\n"
     ]
    },
    {
     "name": "stderr",
     "output_type": "stream",
     "text": [
      "100%|██████████| 100/100 [00:08<00:00, 12.45it/s]\n",
      "  0%|          | 0/99 [00:00<?, ?it/s]"
     ]
    },
    {
     "name": "stdout",
     "output_type": "stream",
     "text": [
      "initial_potential =  32677.109558415737\n",
      "final_potential =  32970.57982956491\n",
      "energy_change =  0.5200208433961961\n",
      "p accept =  0.5945081562720093\n",
      "current step size = 0.0013027354983038138\n",
      "current acceptance ratio = 0.7793880837359098\n",
      "currently working on step 622\n"
     ]
    },
    {
     "name": "stderr",
     "output_type": "stream",
     "text": [
      "100%|██████████| 99/99 [00:07<00:00, 12.42it/s]\n",
      "  0%|          | 0/99 [00:00<?, ?it/s]"
     ]
    },
    {
     "name": "stdout",
     "output_type": "stream",
     "text": [
      "initial_potential =  32970.57982956491\n",
      "final_potential =  32973.77874042524\n",
      "energy_change =  0.4411098900309298\n",
      "p accept =  0.6433220080131354\n",
      "current step size = 0.0013027354983038138\n",
      "current acceptance ratio = 0.7797427652733119\n",
      "currently working on step 623\n"
     ]
    },
    {
     "name": "stderr",
     "output_type": "stream",
     "text": [
      "100%|██████████| 99/99 [00:08<00:00, 12.03it/s]\n",
      "  0%|          | 0/98 [00:00<?, ?it/s]"
     ]
    },
    {
     "name": "stdout",
     "output_type": "stream",
     "text": [
      "initial_potential =  32973.77874042524\n",
      "final_potential =  32781.25510431243\n",
      "energy_change =  -0.12287992404890247\n",
      "p accept =  1.1307486370774145\n",
      "current step size = 0.0013027354983038138\n",
      "current acceptance ratio = 0.7800963081861958\n",
      "currently working on step 624\n"
     ]
    },
    {
     "name": "stderr",
     "output_type": "stream",
     "text": [
      "100%|██████████| 98/98 [00:07<00:00, 12.38it/s]\n",
      "  0%|          | 0/100 [00:00<?, ?it/s]"
     ]
    },
    {
     "name": "stdout",
     "output_type": "stream",
     "text": [
      "initial_potential =  32781.25510431243\n",
      "final_potential =  32866.10263940725\n",
      "energy_change =  0.0767780727474019\n",
      "p accept =  0.9260953566004287\n",
      "current step size = 0.0013027354983038138\n",
      "current acceptance ratio = 0.780448717948718\n",
      "currently working on step 625\n"
     ]
    },
    {
     "name": "stderr",
     "output_type": "stream",
     "text": [
      "100%|██████████| 100/100 [00:08<00:00, 12.05it/s]\n",
      "  0%|          | 0/100 [00:00<?, ?it/s]"
     ]
    },
    {
     "name": "stdout",
     "output_type": "stream",
     "text": [
      "initial_potential =  32866.10263940725\n",
      "final_potential =  32736.2192967545\n",
      "energy_change =  -0.4775766382954316\n",
      "p accept =  1.6121628108894643\n",
      "current step size = 0.0013027354983038138\n",
      "current acceptance ratio = 0.7808\n",
      "currently working on step 626\n"
     ]
    },
    {
     "name": "stderr",
     "output_type": "stream",
     "text": [
      "100%|██████████| 100/100 [00:08<00:00, 12.36it/s]\n",
      "  0%|          | 0/99 [00:00<?, ?it/s]"
     ]
    },
    {
     "name": "stdout",
     "output_type": "stream",
     "text": [
      "initial_potential =  32736.2192967545\n",
      "final_potential =  32710.698627516136\n",
      "energy_change =  -0.08666290060500614\n",
      "p accept =  1.0905290010831483\n",
      "current step size = 0.0013027354983038138\n",
      "current acceptance ratio = 0.7811501597444089\n",
      "currently working on step 627\n"
     ]
    },
    {
     "name": "stderr",
     "output_type": "stream",
     "text": [
      "100%|██████████| 99/99 [00:07<00:00, 12.43it/s]\n",
      "  0%|          | 0/97 [00:00<?, ?it/s]"
     ]
    },
    {
     "name": "stdout",
     "output_type": "stream",
     "text": [
      "initial_potential =  32710.698627516136\n",
      "final_potential =  32853.72642429116\n",
      "energy_change =  0.15607234125491232\n",
      "p accept =  0.8554973003841619\n",
      "current step size = 0.0013027354983038138\n",
      "current acceptance ratio = 0.7814992025518341\n",
      "currently working on step 628\n"
     ]
    },
    {
     "name": "stderr",
     "output_type": "stream",
     "text": [
      "100%|██████████| 97/97 [00:08<00:00, 11.90it/s]\n",
      "  0%|          | 0/100 [00:00<?, ?it/s]"
     ]
    },
    {
     "name": "stdout",
     "output_type": "stream",
     "text": [
      "initial_potential =  32853.72642429116\n",
      "final_potential =  32973.629822219\n",
      "energy_change =  0.13453990971902385\n",
      "p accept =  0.8741179923769521\n",
      "current step size = 0.0013027354983038138\n",
      "current acceptance ratio = 0.7818471337579618\n",
      "currently working on step 629\n"
     ]
    },
    {
     "name": "stderr",
     "output_type": "stream",
     "text": [
      "100%|██████████| 100/100 [00:08<00:00, 12.38it/s]\n",
      "  0%|          | 0/97 [00:00<?, ?it/s]"
     ]
    },
    {
     "name": "stdout",
     "output_type": "stream",
     "text": [
      "initial_potential =  32973.629822219\n",
      "final_potential =  32992.76456294486\n",
      "energy_change =  0.21126394742168486\n",
      "p accept =  0.8095603573094616\n",
      "current step size = 0.0013027354983038138\n",
      "current acceptance ratio = 0.7821939586645469\n",
      "currently working on step 630\n"
     ]
    },
    {
     "name": "stderr",
     "output_type": "stream",
     "text": [
      "100%|██████████| 97/97 [00:08<00:00, 12.08it/s]\n",
      "  0%|          | 0/97 [00:00<?, ?it/s]"
     ]
    },
    {
     "name": "stdout",
     "output_type": "stream",
     "text": [
      "initial_potential =  32992.76456294486\n",
      "final_potential =  32968.62489277061\n",
      "energy_change =  -0.09804082257323898\n",
      "p accept =  1.1030078118066293\n",
      "current step size = 0.0013027354983038138\n",
      "current acceptance ratio = 0.7825396825396825\n",
      "currently working on step 631\n"
     ]
    },
    {
     "name": "stderr",
     "output_type": "stream",
     "text": [
      "100%|██████████| 97/97 [00:07<00:00, 12.24it/s]\n",
      "  0%|          | 0/98 [00:00<?, ?it/s]"
     ]
    },
    {
     "name": "stdout",
     "output_type": "stream",
     "text": [
      "initial_potential =  32968.62489277061\n",
      "final_potential =  32687.519889098607\n",
      "energy_change =  -1.090806841981248\n",
      "p accept =  2.9766748101262337\n",
      "current step size = 0.0013027354983038138\n",
      "current acceptance ratio = 0.7828843106180665\n",
      "currently working on step 632\n"
     ]
    },
    {
     "name": "stderr",
     "output_type": "stream",
     "text": [
      "100%|██████████| 98/98 [00:07<00:00, 12.47it/s]\n",
      "  0%|          | 0/100 [00:00<?, ?it/s]"
     ]
    },
    {
     "name": "stdout",
     "output_type": "stream",
     "text": [
      "initial_potential =  32687.519889098607\n",
      "final_potential =  32929.68064345958\n",
      "energy_change =  0.3213172314572148\n",
      "p accept =  0.7251931604130463\n",
      "current step size = 0.0013027354983038138\n",
      "current acceptance ratio = 0.7832278481012658\n",
      "currently working on step 633\n"
     ]
    },
    {
     "name": "stderr",
     "output_type": "stream",
     "text": [
      "100%|██████████| 100/100 [00:08<00:00, 12.09it/s]\n",
      "  0%|          | 0/100 [00:00<?, ?it/s]"
     ]
    },
    {
     "name": "stdout",
     "output_type": "stream",
     "text": [
      "initial_potential =  32929.68064345958\n",
      "final_potential =  32915.368446575\n",
      "energy_change =  0.6747946897667134\n",
      "p accept =  0.5092609663628329\n",
      "current step size = 0.0013027354983038138\n",
      "current acceptance ratio = 0.7835703001579779\n",
      "currently working on step 634\n"
     ]
    },
    {
     "name": "stderr",
     "output_type": "stream",
     "text": [
      "100%|██████████| 100/100 [00:08<00:00, 12.42it/s]\n",
      "  0%|          | 0/98 [00:00<?, ?it/s]"
     ]
    },
    {
     "name": "stdout",
     "output_type": "stream",
     "text": [
      "initial_potential =  32915.368446575\n",
      "final_potential =  33018.36791194129\n",
      "energy_change =  0.05867966014193371\n",
      "p accept =  0.9430088040840596\n",
      "current step size = 0.0013027354983038138\n",
      "current acceptance ratio = 0.7839116719242902\n",
      "currently working on step 635\n"
     ]
    },
    {
     "name": "stderr",
     "output_type": "stream",
     "text": [
      "100%|██████████| 98/98 [00:08<00:00, 11.76it/s]\n",
      "  0%|          | 0/100 [00:00<?, ?it/s]"
     ]
    },
    {
     "name": "stdout",
     "output_type": "stream",
     "text": [
      "initial_potential =  33018.36791194129\n",
      "final_potential =  33232.076901057604\n",
      "energy_change =  1.1851268551981775\n",
      "p accept =  0.3057073964664861\n",
      "current step size = 0.0013027354983038138\n",
      "current acceptance ratio = 0.7826771653543307\n",
      "currently working on step 636\n"
     ]
    },
    {
     "name": "stderr",
     "output_type": "stream",
     "text": [
      "100%|██████████| 100/100 [00:08<00:00, 12.35it/s]\n",
      "  0%|          | 0/99 [00:00<?, ?it/s]"
     ]
    },
    {
     "name": "stdout",
     "output_type": "stream",
     "text": [
      "initial_potential =  33018.36791194129\n",
      "final_potential =  32732.509659927324\n",
      "energy_change =  -0.3376576355221914\n",
      "p accept =  1.4016605424695336\n",
      "current step size = 0.0013027354983038138\n",
      "current acceptance ratio = 0.7830188679245284\n",
      "currently working on step 637\n"
     ]
    },
    {
     "name": "stderr",
     "output_type": "stream",
     "text": [
      "100%|██████████| 99/99 [00:08<00:00, 12.27it/s]\n",
      "  0%|          | 0/97 [00:00<?, ?it/s]"
     ]
    },
    {
     "name": "stdout",
     "output_type": "stream",
     "text": [
      "initial_potential =  32732.509659927324\n",
      "final_potential =  32869.8985793003\n",
      "energy_change =  0.38400357238424476\n",
      "p accept =  0.6811289939207144\n",
      "current step size = 0.0013027354983038138\n",
      "current acceptance ratio = 0.783359497645212\n",
      "currently working on step 638\n"
     ]
    },
    {
     "name": "stderr",
     "output_type": "stream",
     "text": [
      "100%|██████████| 97/97 [00:08<00:00, 12.07it/s]\n",
      "  0%|          | 0/100 [00:00<?, ?it/s]"
     ]
    },
    {
     "name": "stdout",
     "output_type": "stream",
     "text": [
      "initial_potential =  32869.8985793003\n",
      "final_potential =  32992.4878840366\n",
      "energy_change =  0.02920158870983869\n",
      "p accept =  0.9712206576117056\n",
      "current step size = 0.0013027354983038138\n",
      "current acceptance ratio = 0.7836990595611285\n",
      "currently working on step 639\n"
     ]
    },
    {
     "name": "stderr",
     "output_type": "stream",
     "text": [
      "100%|██████████| 100/100 [00:08<00:00, 12.39it/s]\n",
      "  0%|          | 0/100 [00:00<?, ?it/s]"
     ]
    },
    {
     "name": "stdout",
     "output_type": "stream",
     "text": [
      "initial_potential =  32992.4878840366\n",
      "final_potential =  32928.96308089219\n",
      "energy_change =  -0.17237022433255333\n",
      "p accept =  1.1881176218522\n",
      "current step size = 0.0013027354983038138\n",
      "current acceptance ratio = 0.784037558685446\n",
      "currently working on step 640\n"
     ]
    },
    {
     "name": "stderr",
     "output_type": "stream",
     "text": [
      "100%|██████████| 100/100 [00:08<00:00, 12.01it/s]\n",
      "  0%|          | 0/99 [00:00<?, ?it/s]"
     ]
    },
    {
     "name": "stdout",
     "output_type": "stream",
     "text": [
      "initial_potential =  32928.96308089219\n",
      "final_potential =  33078.23251407046\n",
      "energy_change =  0.5614746083156206\n",
      "p accept =  0.5703673749465518\n",
      "current step size = 0.0013027354983038138\n",
      "current acceptance ratio = 0.7828125\n",
      "currently working on step 641\n"
     ]
    },
    {
     "name": "stderr",
     "output_type": "stream",
     "text": [
      "100%|██████████| 99/99 [00:08<00:00, 12.37it/s]\n",
      "  0%|          | 0/101 [00:00<?, ?it/s]"
     ]
    },
    {
     "name": "stdout",
     "output_type": "stream",
     "text": [
      "initial_potential =  32928.96308089219\n",
      "final_potential =  32904.674050357644\n",
      "energy_change =  -0.2242840601975331\n",
      "p accept =  1.2514264493886313\n",
      "current step size = 0.0013027354983038138\n",
      "current acceptance ratio = 0.7831513260530422\n",
      "currently working on step 642\n"
     ]
    },
    {
     "name": "stderr",
     "output_type": "stream",
     "text": [
      "100%|██████████| 101/101 [00:08<00:00, 12.16it/s]\n",
      "  0%|          | 0/98 [00:00<?, ?it/s]"
     ]
    },
    {
     "name": "stdout",
     "output_type": "stream",
     "text": [
      "initial_potential =  32904.674050357644\n",
      "final_potential =  32835.30434985444\n",
      "energy_change =  -0.3237293816782767\n",
      "p accept =  1.382273188049712\n",
      "current step size = 0.0013027354983038138\n",
      "current acceptance ratio = 0.7834890965732088\n",
      "currently working on step 643\n"
     ]
    },
    {
     "name": "stderr",
     "output_type": "stream",
     "text": [
      "100%|██████████| 98/98 [00:08<00:00, 12.08it/s]\n",
      "  0%|          | 0/101 [00:00<?, ?it/s]"
     ]
    },
    {
     "name": "stdout",
     "output_type": "stream",
     "text": [
      "initial_potential =  32835.30434985444\n",
      "final_potential =  32844.69841010298\n",
      "energy_change =  0.5724782186880475\n",
      "p accept =  0.5641256781615412\n",
      "current step size = 0.0013027354983038138\n",
      "current acceptance ratio = 0.7838258164852255\n",
      "currently working on step 644\n"
     ]
    },
    {
     "name": "stderr",
     "output_type": "stream",
     "text": [
      "100%|██████████| 101/101 [00:08<00:00, 12.44it/s]\n",
      "  0%|          | 0/100 [00:00<?, ?it/s]"
     ]
    },
    {
     "name": "stdout",
     "output_type": "stream",
     "text": [
      "initial_potential =  32844.69841010298\n",
      "final_potential =  32788.70161455032\n",
      "energy_change =  -0.30712632287759334\n",
      "p accept =  1.3595126947809757\n",
      "current step size = 0.0013027354983038138\n",
      "current acceptance ratio = 0.7841614906832298\n",
      "currently working on step 645\n"
     ]
    },
    {
     "name": "stderr",
     "output_type": "stream",
     "text": [
      "100%|██████████| 100/100 [00:08<00:00, 12.01it/s]\n",
      "  0%|          | 0/99 [00:00<?, ?it/s]"
     ]
    },
    {
     "name": "stdout",
     "output_type": "stream",
     "text": [
      "initial_potential =  32788.70161455032\n",
      "final_potential =  33274.00771302623\n",
      "energy_change =  2.1108258837193716\n",
      "p accept =  0.12113787930658787\n",
      "current step size = 0.0013027354983038138\n",
      "current acceptance ratio = 0.7829457364341085\n",
      "currently working on step 646\n"
     ]
    },
    {
     "name": "stderr",
     "output_type": "stream",
     "text": [
      "100%|██████████| 99/99 [00:07<00:00, 12.39it/s]\n",
      "  0%|          | 0/99 [00:00<?, ?it/s]"
     ]
    },
    {
     "name": "stdout",
     "output_type": "stream",
     "text": [
      "initial_potential =  32788.70161455032\n",
      "final_potential =  32887.99471357841\n",
      "energy_change =  0.25399749469943345\n",
      "p accept =  0.7756937453900214\n",
      "current step size = 0.0013027354983038138\n",
      "current acceptance ratio = 0.7832817337461301\n",
      "currently working on step 647\n"
     ]
    },
    {
     "name": "stderr",
     "output_type": "stream",
     "text": [
      "100%|██████████| 99/99 [00:08<00:00, 12.01it/s]\n",
      "  0%|          | 0/97 [00:00<?, ?it/s]"
     ]
    },
    {
     "name": "stdout",
     "output_type": "stream",
     "text": [
      "initial_potential =  32887.99471357841\n",
      "final_potential =  32608.94837608025\n",
      "energy_change =  -0.6525793274631724\n",
      "p accept =  1.9204880135426874\n",
      "current step size = 0.0013027354983038138\n",
      "current acceptance ratio = 0.7836166924265843\n",
      "currently working on step 648\n"
     ]
    },
    {
     "name": "stderr",
     "output_type": "stream",
     "text": [
      "100%|██████████| 97/97 [00:07<00:00, 12.38it/s]\n",
      "  0%|          | 0/101 [00:00<?, ?it/s]"
     ]
    },
    {
     "name": "stdout",
     "output_type": "stream",
     "text": [
      "initial_potential =  32608.94837608025\n",
      "final_potential =  32675.551006445385\n",
      "energy_change =  0.1517550036951434\n",
      "p accept =  0.8591987554775338\n",
      "current step size = 0.0013027354983038138\n",
      "current acceptance ratio = 0.7824074074074074\n",
      "currently working on step 649\n"
     ]
    },
    {
     "name": "stderr",
     "output_type": "stream",
     "text": [
      "100%|██████████| 101/101 [00:08<00:00, 11.89it/s]\n",
      "  0%|          | 0/97 [00:00<?, ?it/s]"
     ]
    },
    {
     "name": "stdout",
     "output_type": "stream",
     "text": [
      "initial_potential =  32608.94837608025\n",
      "final_potential =  32733.12265207864\n",
      "energy_change =  -0.027637269740807824\n",
      "p accept =  1.02802272183476\n",
      "current step size = 0.0013027354983038138\n",
      "current acceptance ratio = 0.7827426810477658\n",
      "currently working on step 650\n"
     ]
    },
    {
     "name": "stderr",
     "output_type": "stream",
     "text": [
      "100%|██████████| 97/97 [00:07<00:00, 12.37it/s]\n",
      "  0%|          | 0/98 [00:00<?, ?it/s]"
     ]
    },
    {
     "name": "stdout",
     "output_type": "stream",
     "text": [
      "initial_potential =  32733.12265207864\n",
      "final_potential =  32684.834125166042\n",
      "energy_change =  -0.0667366481065983\n",
      "p accept =  1.069013914262639\n",
      "current step size = 0.0013027354983038138\n",
      "current acceptance ratio = 0.7830769230769231\n",
      "currently working on step 651\n"
     ]
    },
    {
     "name": "stderr",
     "output_type": "stream",
     "text": [
      "100%|██████████| 98/98 [00:08<00:00, 12.00it/s]\n",
      "  0%|          | 0/97 [00:00<?, ?it/s]"
     ]
    },
    {
     "name": "stdout",
     "output_type": "stream",
     "text": [
      "initial_potential =  32684.834125166042\n",
      "final_potential =  32741.16008593631\n",
      "energy_change =  -0.0943699460622156\n",
      "p accept =  1.0989662289530477\n",
      "current step size = 0.0013027354983038138\n",
      "current acceptance ratio = 0.783410138248848\n",
      "currently working on step 652\n"
     ]
    },
    {
     "name": "stderr",
     "output_type": "stream",
     "text": [
      "100%|██████████| 97/97 [00:07<00:00, 12.44it/s]\n",
      "  0%|          | 0/100 [00:00<?, ?it/s]"
     ]
    },
    {
     "name": "stdout",
     "output_type": "stream",
     "text": [
      "initial_potential =  32741.16008593631\n",
      "final_potential =  32736.694012684067\n",
      "energy_change =  0.307206798097468\n",
      "p accept =  0.7354984854917159\n",
      "current step size = 0.0013027354983038138\n",
      "current acceptance ratio = 0.7837423312883436\n",
      "currently working on step 653\n"
     ]
    },
    {
     "name": "stderr",
     "output_type": "stream",
     "text": [
      "100%|██████████| 100/100 [00:08<00:00, 12.06it/s]\n",
      "  0%|          | 0/101 [00:00<?, ?it/s]"
     ]
    },
    {
     "name": "stdout",
     "output_type": "stream",
     "text": [
      "initial_potential =  32736.694012684067\n",
      "final_potential =  32740.645545018087\n",
      "energy_change =  0.5133593574719271\n",
      "p accept =  0.5984816840928078\n",
      "current step size = 0.0013027354983038138\n",
      "current acceptance ratio = 0.7825421133231241\n",
      "currently working on step 654\n"
     ]
    },
    {
     "name": "stderr",
     "output_type": "stream",
     "text": [
      "100%|██████████| 101/101 [00:08<00:00, 12.39it/s]\n",
      "  0%|          | 0/99 [00:00<?, ?it/s]"
     ]
    },
    {
     "name": "stdout",
     "output_type": "stream",
     "text": [
      "initial_potential =  32736.694012684067\n",
      "final_potential =  32639.390120437325\n",
      "energy_change =  0.23321238193602767\n",
      "p accept =  0.7919853522789468\n",
      "current step size = 0.0013027354983038138\n",
      "current acceptance ratio = 0.7828746177370031\n",
      "currently working on step 655\n"
     ]
    },
    {
     "name": "stderr",
     "output_type": "stream",
     "text": [
      "100%|██████████| 99/99 [00:08<00:00, 12.02it/s]\n",
      "  0%|          | 0/100 [00:00<?, ?it/s]"
     ]
    },
    {
     "name": "stdout",
     "output_type": "stream",
     "text": [
      "initial_potential =  32639.390120437325\n",
      "final_potential =  33080.968024992915\n",
      "energy_change =  0.7791034855181351\n",
      "p accept =  0.45881716320721155\n",
      "current step size = 0.0013027354983038138\n",
      "current acceptance ratio = 0.7816793893129771\n",
      "currently working on step 656\n"
     ]
    },
    {
     "name": "stderr",
     "output_type": "stream",
     "text": [
      "100%|██████████| 100/100 [00:08<00:00, 12.44it/s]\n",
      "  0%|          | 0/97 [00:00<?, ?it/s]"
     ]
    },
    {
     "name": "stdout",
     "output_type": "stream",
     "text": [
      "initial_potential =  32639.390120437325\n",
      "final_potential =  32823.550304314886\n",
      "energy_change =  -0.08275451022200286\n",
      "p accept =  1.0862751063785405\n",
      "current step size = 0.0013027354983038138\n",
      "current acceptance ratio = 0.7820121951219512\n",
      "currently working on step 657\n"
     ]
    },
    {
     "name": "stderr",
     "output_type": "stream",
     "text": [
      "100%|██████████| 97/97 [00:08<00:00, 11.74it/s]\n",
      "  0%|          | 0/99 [00:00<?, ?it/s]"
     ]
    },
    {
     "name": "stdout",
     "output_type": "stream",
     "text": [
      "initial_potential =  32823.550304314886\n",
      "final_potential =  32701.232392274054\n",
      "energy_change =  -0.42203503515338525\n",
      "p accept =  1.5250619545268114\n",
      "current step size = 0.0013027354983038138\n",
      "current acceptance ratio = 0.7823439878234398\n",
      "currently working on step 658\n"
     ]
    },
    {
     "name": "stderr",
     "output_type": "stream",
     "text": [
      "100%|██████████| 99/99 [00:07<00:00, 12.42it/s]\n",
      "  0%|          | 0/99 [00:00<?, ?it/s]"
     ]
    },
    {
     "name": "stdout",
     "output_type": "stream",
     "text": [
      "initial_potential =  32701.232392274054\n",
      "final_potential =  32809.69481091907\n",
      "energy_change =  0.4078815220564138\n",
      "p accept =  0.6650576688198393\n",
      "current step size = 0.0013027354983038138\n",
      "current acceptance ratio = 0.7826747720364742\n",
      "currently working on step 659\n"
     ]
    },
    {
     "name": "stderr",
     "output_type": "stream",
     "text": [
      "100%|██████████| 99/99 [00:08<00:00, 11.97it/s]\n",
      "  0%|          | 0/98 [00:00<?, ?it/s]"
     ]
    },
    {
     "name": "stdout",
     "output_type": "stream",
     "text": [
      "initial_potential =  32809.69481091907\n",
      "final_potential =  32831.06876698567\n",
      "energy_change =  -0.4493809595151106\n",
      "p accept =  1.567341637189744\n",
      "current step size = 0.0013027354983038138\n",
      "current acceptance ratio = 0.7830045523520486\n",
      "currently working on step 660\n"
     ]
    },
    {
     "name": "stderr",
     "output_type": "stream",
     "text": [
      "100%|██████████| 98/98 [00:07<00:00, 12.29it/s]\n",
      "  0%|          | 0/99 [00:00<?, ?it/s]"
     ]
    },
    {
     "name": "stdout",
     "output_type": "stream",
     "text": [
      "initial_potential =  32831.06876698567\n",
      "final_potential =  32674.95731755686\n",
      "energy_change =  0.10114274969964754\n",
      "p accept =  0.9038040059264171\n",
      "current step size = 0.0013027354983038138\n",
      "current acceptance ratio = 0.7833333333333333\n",
      "currently working on step 661\n"
     ]
    },
    {
     "name": "stderr",
     "output_type": "stream",
     "text": [
      "100%|██████████| 99/99 [00:08<00:00, 12.04it/s]\n",
      "  0%|          | 0/98 [00:00<?, ?it/s]"
     ]
    },
    {
     "name": "stdout",
     "output_type": "stream",
     "text": [
      "initial_potential =  32674.95731755686\n",
      "final_potential =  32857.48961121554\n",
      "energy_change =  -0.020599806652171537\n",
      "p accept =  1.0208134471316634\n",
      "current step size = 0.0013027354983038138\n",
      "current acceptance ratio = 0.783661119515885\n",
      "currently working on step 662\n"
     ]
    },
    {
     "name": "stderr",
     "output_type": "stream",
     "text": [
      "100%|██████████| 98/98 [00:07<00:00, 12.42it/s]\n",
      "  0%|          | 0/100 [00:00<?, ?it/s]"
     ]
    },
    {
     "name": "stdout",
     "output_type": "stream",
     "text": [
      "initial_potential =  32857.48961121554\n",
      "final_potential =  32726.948365621756\n",
      "energy_change =  -0.4530242034816183\n",
      "p accept =  1.5730622596369077\n",
      "current step size = 0.0013027354983038138\n",
      "current acceptance ratio = 0.783987915407855\n",
      "currently working on step 663\n"
     ]
    },
    {
     "name": "stderr",
     "output_type": "stream",
     "text": [
      "100%|██████████| 100/100 [00:08<00:00, 11.99it/s]\n",
      "  0%|          | 0/101 [00:00<?, ?it/s]"
     ]
    },
    {
     "name": "stdout",
     "output_type": "stream",
     "text": [
      "initial_potential =  32726.948365621756\n",
      "final_potential =  32798.70199858751\n",
      "energy_change =  0.824580683329259\n",
      "p accept =  0.43841879023503333\n",
      "current step size = 0.0013027354983038138\n",
      "current acceptance ratio = 0.7828054298642534\n",
      "currently working on step 664\n"
     ]
    },
    {
     "name": "stderr",
     "output_type": "stream",
     "text": [
      "100%|██████████| 101/101 [00:08<00:00, 12.35it/s]\n",
      "  0%|          | 0/101 [00:00<?, ?it/s]"
     ]
    },
    {
     "name": "stdout",
     "output_type": "stream",
     "text": [
      "initial_potential =  32726.948365621756\n",
      "final_potential =  32827.30208147326\n",
      "energy_change =  0.8193842787004542\n",
      "p accept =  0.44070292116043125\n",
      "current step size = 0.0013027354983038138\n",
      "current acceptance ratio = 0.7816265060240963\n",
      "currently working on step 665\n"
     ]
    },
    {
     "name": "stderr",
     "output_type": "stream",
     "text": [
      "100%|██████████| 101/101 [00:08<00:00, 12.00it/s]\n",
      "  0%|          | 0/97 [00:00<?, ?it/s]"
     ]
    },
    {
     "name": "stdout",
     "output_type": "stream",
     "text": [
      "initial_potential =  32726.948365621756\n",
      "final_potential =  32842.7363583884\n",
      "energy_change =  0.9935295099858195\n",
      "p accept =  0.370267519107336\n",
      "current step size = 0.0013027354983038138\n",
      "current acceptance ratio = 0.7804511278195488\n",
      "currently working on step 666\n"
     ]
    },
    {
     "name": "stderr",
     "output_type": "stream",
     "text": [
      "100%|██████████| 97/97 [00:07<00:00, 12.34it/s]\n",
      "  0%|          | 0/98 [00:00<?, ?it/s]"
     ]
    },
    {
     "name": "stdout",
     "output_type": "stream",
     "text": [
      "initial_potential =  32726.948365621756\n",
      "final_potential =  32757.12122357348\n",
      "energy_change =  0.7102404513570946\n",
      "p accept =  0.49152599515799955\n",
      "current step size = 0.0013027354983038138\n",
      "current acceptance ratio = 0.7792792792792793\n",
      "currently working on step 667\n"
     ]
    },
    {
     "name": "stderr",
     "output_type": "stream",
     "text": [
      "100%|██████████| 98/98 [00:08<00:00, 12.01it/s]\n",
      "  0%|          | 0/98 [00:00<?, ?it/s]"
     ]
    },
    {
     "name": "stdout",
     "output_type": "stream",
     "text": [
      "initial_potential =  32726.948365621756\n",
      "final_potential =  32784.51844335285\n",
      "energy_change =  1.0707858237292385\n",
      "p accept =  0.34273907906577905\n",
      "current step size = 0.0013027354983038138\n",
      "current acceptance ratio = 0.7781109445277361\n",
      "currently working on step 668\n"
     ]
    },
    {
     "name": "stderr",
     "output_type": "stream",
     "text": [
      "100%|██████████| 98/98 [00:07<00:00, 12.43it/s]\n",
      "  0%|          | 0/97 [00:00<?, ?it/s]"
     ]
    },
    {
     "name": "stdout",
     "output_type": "stream",
     "text": [
      "initial_potential =  32726.948365621756\n",
      "final_potential =  32778.69584917184\n",
      "energy_change =  0.7771904222172452\n",
      "p accept =  0.4596957496117102\n",
      "current step size = 0.0013027354983038138\n",
      "current acceptance ratio = 0.7769461077844312\n",
      "currently working on step 669\n"
     ]
    },
    {
     "name": "stderr",
     "output_type": "stream",
     "text": [
      "100%|██████████| 97/97 [00:08<00:00, 12.04it/s]\n",
      "  0%|          | 0/99 [00:00<?, ?it/s]"
     ]
    },
    {
     "name": "stdout",
     "output_type": "stream",
     "text": [
      "initial_potential =  32726.948365621756\n",
      "final_potential =  32585.699544646017\n",
      "energy_change =  -0.11266518841148354\n",
      "p accept =  1.1192571299502565\n",
      "current step size = 0.0013027354983038138\n",
      "current acceptance ratio = 0.7772795216741405\n",
      "currently working on step 670\n"
     ]
    },
    {
     "name": "stderr",
     "output_type": "stream",
     "text": [
      "100%|██████████| 99/99 [00:07<00:00, 12.38it/s]\n",
      "  0%|          | 0/97 [00:00<?, ?it/s]"
     ]
    },
    {
     "name": "stdout",
     "output_type": "stream",
     "text": [
      "initial_potential =  32585.699544646017\n",
      "final_potential =  32512.854454324333\n",
      "energy_change =  -0.8064301983104087\n",
      "p accept =  2.239897707009104\n",
      "current step size = 0.0013027354983038138\n",
      "current acceptance ratio = 0.7776119402985074\n",
      "currently working on step 671\n"
     ]
    },
    {
     "name": "stderr",
     "output_type": "stream",
     "text": [
      "100%|██████████| 97/97 [00:08<00:00, 11.92it/s]\n",
      "  0%|          | 0/100 [00:00<?, ?it/s]"
     ]
    },
    {
     "name": "stdout",
     "output_type": "stream",
     "text": [
      "initial_potential =  32512.854454324333\n",
      "final_potential =  32350.219493498313\n",
      "energy_change =  0.13287848990876228\n",
      "p accept =  0.8755714764152412\n",
      "current step size = 0.0013027354983038138\n",
      "current acceptance ratio = 0.7779433681073026\n",
      "currently working on step 672\n"
     ]
    },
    {
     "name": "stderr",
     "output_type": "stream",
     "text": [
      "100%|██████████| 100/100 [00:08<00:00, 12.13it/s]\n",
      "  0%|          | 0/100 [00:00<?, ?it/s]"
     ]
    },
    {
     "name": "stdout",
     "output_type": "stream",
     "text": [
      "initial_potential =  32350.219493498313\n",
      "final_potential =  32417.385325063242\n",
      "energy_change =  0.629305587412091\n",
      "p accept =  0.5329617678976998\n",
      "current step size = 0.0013027354983038138\n",
      "current acceptance ratio = 0.7782738095238095\n",
      "currently working on step 673\n"
     ]
    },
    {
     "name": "stderr",
     "output_type": "stream",
     "text": [
      "100%|██████████| 100/100 [00:08<00:00, 12.23it/s]\n",
      "  0%|          | 0/101 [00:00<?, ?it/s]"
     ]
    },
    {
     "name": "stdout",
     "output_type": "stream",
     "text": [
      "initial_potential =  32417.385325063242\n",
      "final_potential =  32652.501081674738\n",
      "energy_change =  0.20940171484835446\n",
      "p accept =  0.8110693515899834\n",
      "current step size = 0.0013027354983038138\n",
      "current acceptance ratio = 0.7786032689450223\n",
      "currently working on step 674\n"
     ]
    },
    {
     "name": "stderr",
     "output_type": "stream",
     "text": [
      "100%|██████████| 101/101 [00:08<00:00, 12.06it/s]\n",
      "  0%|          | 0/97 [00:00<?, ?it/s]"
     ]
    },
    {
     "name": "stdout",
     "output_type": "stream",
     "text": [
      "initial_potential =  32652.501081674738\n",
      "final_potential =  32962.201809864404\n",
      "energy_change =  0.7829172303754603\n",
      "p accept =  0.4570706840403748\n",
      "current step size = 0.0013027354983038138\n",
      "current acceptance ratio = 0.7789317507418397\n",
      "currently working on step 675\n"
     ]
    },
    {
     "name": "stderr",
     "output_type": "stream",
     "text": [
      "100%|██████████| 97/97 [00:07<00:00, 12.22it/s]\n",
      "  0%|          | 0/101 [00:00<?, ?it/s]"
     ]
    },
    {
     "name": "stdout",
     "output_type": "stream",
     "text": [
      "initial_potential =  32962.201809864404\n",
      "final_potential =  32953.043581256185\n",
      "energy_change =  0.09092807336128317\n",
      "p accept =  0.9130833835560781\n",
      "current step size = 0.0013027354983038138\n",
      "current acceptance ratio = 0.7792592592592592\n",
      "currently working on step 676\n"
     ]
    },
    {
     "name": "stderr",
     "output_type": "stream",
     "text": [
      "100%|██████████| 101/101 [00:08<00:00, 12.02it/s]\n",
      "  0%|          | 0/97 [00:00<?, ?it/s]"
     ]
    },
    {
     "name": "stdout",
     "output_type": "stream",
     "text": [
      "initial_potential =  32953.043581256185\n",
      "final_potential =  33068.55643316509\n",
      "energy_change =  1.00549950072309\n",
      "p accept =  0.3658618409008915\n",
      "current step size = 0.0013027354983038138\n",
      "current acceptance ratio = 0.7781065088757396\n",
      "currently working on step 677\n"
     ]
    },
    {
     "name": "stderr",
     "output_type": "stream",
     "text": [
      "100%|██████████| 97/97 [00:07<00:00, 12.35it/s]\n",
      "  0%|          | 0/99 [00:00<?, ?it/s]"
     ]
    },
    {
     "name": "stdout",
     "output_type": "stream",
     "text": [
      "initial_potential =  32953.043581256185\n",
      "final_potential =  32827.81869453919\n",
      "energy_change =  -0.024719209613977\n",
      "p accept =  1.0250272623117422\n",
      "current step size = 0.0013027354983038138\n",
      "current acceptance ratio = 0.7784342688330872\n",
      "currently working on step 678\n"
     ]
    },
    {
     "name": "stderr",
     "output_type": "stream",
     "text": [
      "100%|██████████| 99/99 [00:08<00:00, 11.92it/s]\n",
      "  0%|          | 0/98 [00:00<?, ?it/s]"
     ]
    },
    {
     "name": "stdout",
     "output_type": "stream",
     "text": [
      "initial_potential =  32827.81869453919\n",
      "final_potential =  32509.39220475149\n",
      "energy_change =  -0.5322985588281881\n",
      "p accept =  1.702841895961954\n",
      "current step size = 0.0013027354983038138\n",
      "current acceptance ratio = 0.7787610619469026\n",
      "currently working on step 679\n"
     ]
    },
    {
     "name": "stderr",
     "output_type": "stream",
     "text": [
      "100%|██████████| 98/98 [00:07<00:00, 12.36it/s]\n",
      "  0%|          | 0/100 [00:00<?, ?it/s]"
     ]
    },
    {
     "name": "stdout",
     "output_type": "stream",
     "text": [
      "initial_potential =  32509.39220475149\n",
      "final_potential =  32567.754523302738\n",
      "energy_change =  0.04387137830781285\n",
      "p accept =  0.9570770504264443\n",
      "current step size = 0.0013027354983038138\n",
      "current acceptance ratio = 0.7790868924889544\n",
      "currently working on step 680\n"
     ]
    },
    {
     "name": "stderr",
     "output_type": "stream",
     "text": [
      "100%|██████████| 100/100 [00:08<00:00, 12.01it/s]\n",
      "  0%|          | 0/100 [00:00<?, ?it/s]"
     ]
    },
    {
     "name": "stdout",
     "output_type": "stream",
     "text": [
      "initial_potential =  32567.754523302738\n",
      "final_potential =  32673.434184134432\n",
      "energy_change =  0.03561821147741284\n",
      "p accept =  0.9650086523887268\n",
      "current step size = 0.0013027354983038138\n",
      "current acceptance ratio = 0.7794117647058824\n",
      "currently working on step 681\n"
     ]
    },
    {
     "name": "stderr",
     "output_type": "stream",
     "text": [
      "100%|██████████| 100/100 [00:08<00:00, 12.38it/s]\n",
      "  0%|          | 0/101 [00:00<?, ?it/s]"
     ]
    },
    {
     "name": "stdout",
     "output_type": "stream",
     "text": [
      "initial_potential =  32673.434184134432\n",
      "final_potential =  32679.506581714028\n",
      "energy_change =  0.13860987436783034\n",
      "p accept =  0.8705675929500849\n",
      "current step size = 0.0013027354983038138\n",
      "current acceptance ratio = 0.7782672540381792\n",
      "currently working on step 682\n"
     ]
    },
    {
     "name": "stderr",
     "output_type": "stream",
     "text": [
      "100%|██████████| 101/101 [00:08<00:00, 12.01it/s]\n",
      "  0%|          | 0/100 [00:00<?, ?it/s]"
     ]
    },
    {
     "name": "stdout",
     "output_type": "stream",
     "text": [
      "initial_potential =  32673.434184134432\n",
      "final_potential =  32731.380957845147\n",
      "energy_change =  0.47146339049504604\n",
      "p accept =  0.6240883148024351\n",
      "current step size = 0.0013027354983038138\n",
      "current acceptance ratio = 0.7771260997067448\n",
      "currently working on step 683\n"
     ]
    },
    {
     "name": "stderr",
     "output_type": "stream",
     "text": [
      "100%|██████████| 100/100 [00:08<00:00, 12.37it/s]\n",
      "  0%|          | 0/97 [00:00<?, ?it/s]"
     ]
    },
    {
     "name": "stdout",
     "output_type": "stream",
     "text": [
      "initial_potential =  32673.434184134432\n",
      "final_potential =  32846.87533604662\n",
      "energy_change =  0.7910722847300349\n",
      "p accept =  0.45335840525946997\n",
      "current step size = 0.0013027354983038138\n",
      "current acceptance ratio = 0.7759882869692533\n",
      "currently working on step 684\n"
     ]
    },
    {
     "name": "stderr",
     "output_type": "stream",
     "text": [
      "100%|██████████| 97/97 [00:08<00:00, 11.86it/s]\n",
      "  0%|          | 0/101 [00:00<?, ?it/s]"
     ]
    },
    {
     "name": "stdout",
     "output_type": "stream",
     "text": [
      "initial_potential =  32673.434184134432\n",
      "final_potential =  32604.1475467606\n",
      "energy_change =  0.06387027545133606\n",
      "p accept =  0.9381266896988686\n",
      "current step size = 0.0013027354983038138\n",
      "current acceptance ratio = 0.7763157894736842\n",
      "currently working on step 685\n"
     ]
    },
    {
     "name": "stderr",
     "output_type": "stream",
     "text": [
      "100%|██████████| 101/101 [00:08<00:00, 12.19it/s]\n",
      "  0%|          | 0/101 [00:00<?, ?it/s]"
     ]
    },
    {
     "name": "stdout",
     "output_type": "stream",
     "text": [
      "initial_potential =  32604.1475467606\n",
      "final_potential =  33015.460603096755\n",
      "energy_change =  1.3614123051374918\n",
      "p accept =  0.2562985494677497\n",
      "current step size = 0.0013027354983038138\n",
      "current acceptance ratio = 0.7751824817518248\n",
      "currently working on step 686\n"
     ]
    },
    {
     "name": "stderr",
     "output_type": "stream",
     "text": [
      "100%|██████████| 101/101 [00:08<00:00, 12.01it/s]\n",
      "  0%|          | 0/101 [00:00<?, ?it/s]"
     ]
    },
    {
     "name": "stdout",
     "output_type": "stream",
     "text": [
      "initial_potential =  32604.1475467606\n",
      "final_potential =  32694.77743193935\n",
      "energy_change =  0.19170482562913094\n",
      "p accept =  0.825550513884532\n",
      "current step size = 0.0013027354983038138\n",
      "current acceptance ratio = 0.7740524781341108\n",
      "currently working on step 687\n"
     ]
    },
    {
     "name": "stderr",
     "output_type": "stream",
     "text": [
      "100%|██████████| 101/101 [00:08<00:00, 12.28it/s]\n",
      "  0%|          | 0/98 [00:00<?, ?it/s]"
     ]
    },
    {
     "name": "stdout",
     "output_type": "stream",
     "text": [
      "initial_potential =  32604.1475467606\n",
      "final_potential =  32659.138868355614\n",
      "energy_change =  0.45656786345352884\n",
      "p accept =  0.6334540195574048\n",
      "current step size = 0.0013027354983038138\n",
      "current acceptance ratio = 0.7743813682678311\n",
      "currently working on step 688\n"
     ]
    },
    {
     "name": "stderr",
     "output_type": "stream",
     "text": [
      "100%|██████████| 98/98 [00:08<00:00, 12.05it/s]\n",
      "  0%|          | 0/97 [00:00<?, ?it/s]"
     ]
    },
    {
     "name": "stdout",
     "output_type": "stream",
     "text": [
      "initial_potential =  32659.138868355614\n",
      "final_potential =  32717.789877020718\n",
      "energy_change =  -0.28312323114369065\n",
      "p accept =  1.3272687125811125\n",
      "current step size = 0.0013027354983038138\n",
      "current acceptance ratio = 0.7747093023255814\n",
      "currently working on step 689\n"
     ]
    },
    {
     "name": "stderr",
     "output_type": "stream",
     "text": [
      "100%|██████████| 97/97 [00:08<00:00, 11.95it/s]\n",
      "  0%|          | 0/101 [00:00<?, ?it/s]"
     ]
    },
    {
     "name": "stdout",
     "output_type": "stream",
     "text": [
      "initial_potential =  32717.789877020718\n",
      "final_potential =  32657.715913515178\n",
      "energy_change =  -0.1669167872169055\n",
      "p accept =  1.1816559323383482\n",
      "current step size = 0.0013027354983038138\n",
      "current acceptance ratio = 0.7750362844702468\n",
      "currently working on step 690\n"
     ]
    },
    {
     "name": "stderr",
     "output_type": "stream",
     "text": [
      "100%|██████████| 101/101 [00:08<00:00, 12.31it/s]\n",
      "  0%|          | 0/97 [00:00<?, ?it/s]"
     ]
    },
    {
     "name": "stdout",
     "output_type": "stream",
     "text": [
      "initial_potential =  32657.715913515178\n",
      "final_potential =  32861.6090810041\n",
      "energy_change =  1.125542072535609\n",
      "p accept =  0.32447652986192765\n",
      "current step size = 0.0013027354983038138\n",
      "current acceptance ratio = 0.7753623188405797\n",
      "currently working on step 691\n"
     ]
    },
    {
     "name": "stderr",
     "output_type": "stream",
     "text": [
      "100%|██████████| 97/97 [00:08<00:00, 11.99it/s]\n",
      "  0%|          | 0/97 [00:00<?, ?it/s]"
     ]
    },
    {
     "name": "stdout",
     "output_type": "stream",
     "text": [
      "initial_potential =  32861.6090810041\n",
      "final_potential =  32862.98913728412\n",
      "energy_change =  -0.16575819086574484\n",
      "p accept =  1.1802876628758745\n",
      "current step size = 0.0013027354983038138\n",
      "current acceptance ratio = 0.7756874095513748\n",
      "currently working on step 692\n"
     ]
    },
    {
     "name": "stderr",
     "output_type": "stream",
     "text": [
      "100%|██████████| 97/97 [00:07<00:00, 12.40it/s]\n",
      "  0%|          | 0/98 [00:00<?, ?it/s]"
     ]
    },
    {
     "name": "stdout",
     "output_type": "stream",
     "text": [
      "initial_potential =  32862.98913728412\n",
      "final_potential =  32838.58710767695\n",
      "energy_change =  0.053522973888902925\n",
      "p accept =  0.9478841641681743\n",
      "current step size = 0.0013027354983038138\n",
      "current acceptance ratio = 0.7760115606936416\n",
      "currently working on step 693\n"
     ]
    },
    {
     "name": "stderr",
     "output_type": "stream",
     "text": [
      "100%|██████████| 98/98 [00:08<00:00, 11.97it/s]\n",
      "  0%|          | 0/99 [00:00<?, ?it/s]"
     ]
    },
    {
     "name": "stdout",
     "output_type": "stream",
     "text": [
      "initial_potential =  32838.58710767695\n",
      "final_potential =  32989.88336628804\n",
      "energy_change =  0.14033185748849064\n",
      "p accept =  0.86906978022386\n",
      "current step size = 0.0013027354983038138\n",
      "current acceptance ratio = 0.7763347763347763\n",
      "currently working on step 694\n"
     ]
    },
    {
     "name": "stderr",
     "output_type": "stream",
     "text": [
      "100%|██████████| 99/99 [00:07<00:00, 12.38it/s]\n",
      "  0%|          | 0/100 [00:00<?, ?it/s]"
     ]
    },
    {
     "name": "stdout",
     "output_type": "stream",
     "text": [
      "initial_potential =  32989.88336628804\n",
      "final_potential =  33035.27578283621\n",
      "energy_change =  0.44408685207599774\n",
      "p accept =  0.6414097106431479\n",
      "current step size = 0.0013027354983038138\n",
      "current acceptance ratio = 0.776657060518732\n",
      "currently working on step 695\n"
     ]
    },
    {
     "name": "stderr",
     "output_type": "stream",
     "text": [
      "100%|██████████| 100/100 [00:08<00:00, 11.94it/s]\n",
      "  0%|          | 0/98 [00:00<?, ?it/s]"
     ]
    },
    {
     "name": "stdout",
     "output_type": "stream",
     "text": [
      "initial_potential =  33035.27578283621\n",
      "final_potential =  32964.00865465175\n",
      "energy_change =  -0.47788112428679597\n",
      "p accept =  1.6126537666219571\n",
      "current step size = 0.0013027354983038138\n",
      "current acceptance ratio = 0.7769784172661871\n",
      "currently working on step 696\n"
     ]
    },
    {
     "name": "stderr",
     "output_type": "stream",
     "text": [
      "100%|██████████| 98/98 [00:07<00:00, 12.35it/s]\n",
      "  0%|          | 0/98 [00:00<?, ?it/s]"
     ]
    },
    {
     "name": "stdout",
     "output_type": "stream",
     "text": [
      "initial_potential =  32964.00865465175\n",
      "final_potential =  32963.74985921073\n",
      "energy_change =  0.3220427776541328\n",
      "p accept =  0.7246671901044295\n",
      "current step size = 0.0013027354983038138\n",
      "current acceptance ratio = 0.7772988505747126\n",
      "currently working on step 697\n"
     ]
    },
    {
     "name": "stderr",
     "output_type": "stream",
     "text": [
      "100%|██████████| 98/98 [00:08<00:00, 12.07it/s]\n",
      "  0%|          | 0/100 [00:00<?, ?it/s]"
     ]
    },
    {
     "name": "stdout",
     "output_type": "stream",
     "text": [
      "initial_potential =  32963.74985921073\n",
      "final_potential =  33083.73575549257\n",
      "energy_change =  0.10833324484701734\n",
      "p accept =  0.8973285164955752\n",
      "current step size = 0.0013027354983038138\n",
      "current acceptance ratio = 0.776183644189383\n",
      "currently working on step 698\n"
     ]
    },
    {
     "name": "stderr",
     "output_type": "stream",
     "text": [
      "100%|██████████| 100/100 [00:08<00:00, 12.02it/s]\n",
      "  0%|          | 0/101 [00:00<?, ?it/s]"
     ]
    },
    {
     "name": "stdout",
     "output_type": "stream",
     "text": [
      "initial_potential =  32963.74985921073\n",
      "final_potential =  32796.29299290698\n",
      "energy_change =  -0.4880985511554172\n",
      "p accept =  1.6292154031214963\n",
      "current step size = 0.0013027354983038138\n",
      "current acceptance ratio = 0.7765042979942693\n",
      "currently working on step 699\n"
     ]
    },
    {
     "name": "stderr",
     "output_type": "stream",
     "text": [
      "100%|██████████| 101/101 [00:08<00:00, 12.37it/s]\n",
      "  0%|          | 0/101 [00:00<?, ?it/s]"
     ]
    },
    {
     "name": "stdout",
     "output_type": "stream",
     "text": [
      "initial_potential =  32796.29299290698\n",
      "final_potential =  32951.645392289276\n",
      "energy_change =  0.5718044999666745\n",
      "p accept =  0.5645058682483349\n",
      "current step size = 0.0013027354983038138\n",
      "current acceptance ratio = 0.7753934191702432\n",
      "currently working on step 700\n"
     ]
    },
    {
     "name": "stderr",
     "output_type": "stream",
     "text": [
      "100%|██████████| 101/101 [00:08<00:00, 11.84it/s]\n",
      "  0%|          | 0/98 [00:00<?, ?it/s]"
     ]
    },
    {
     "name": "stdout",
     "output_type": "stream",
     "text": [
      "initial_potential =  32796.29299290698\n",
      "final_potential =  33024.2608390622\n",
      "energy_change =  0.2015034318465041\n",
      "p accept =  0.8175007720181181\n",
      "current step size = 0.0013027354983038138\n",
      "current acceptance ratio = 0.7757142857142857\n",
      "currently working on step 701\n"
     ]
    },
    {
     "name": "stderr",
     "output_type": "stream",
     "text": [
      "100%|██████████| 98/98 [00:07<00:00, 12.26it/s]\n",
      "  0%|          | 0/100 [00:00<?, ?it/s]"
     ]
    },
    {
     "name": "stdout",
     "output_type": "stream",
     "text": [
      "initial_potential =  33024.2608390622\n",
      "final_potential =  32940.91448801938\n",
      "energy_change =  0.2525980025093304\n",
      "p accept =  0.7767800827115989\n",
      "current step size = 0.0013027354983038138\n",
      "current acceptance ratio = 0.776034236804565\n",
      "currently working on step 702\n"
     ]
    },
    {
     "name": "stderr",
     "output_type": "stream",
     "text": [
      "100%|██████████| 100/100 [00:08<00:00, 11.79it/s]\n",
      "  0%|          | 0/97 [00:00<?, ?it/s]"
     ]
    },
    {
     "name": "stdout",
     "output_type": "stream",
     "text": [
      "initial_potential =  32940.91448801938\n",
      "final_potential =  32828.68137104524\n",
      "energy_change =  -0.6226940597989596\n",
      "p accept =  1.8639428572261865\n",
      "current step size = 0.0013027354983038138\n",
      "current acceptance ratio = 0.7763532763532763\n",
      "currently working on step 703\n"
     ]
    },
    {
     "name": "stderr",
     "output_type": "stream",
     "text": [
      "100%|██████████| 97/97 [00:08<00:00, 11.76it/s]\n",
      "  0%|          | 0/100 [00:00<?, ?it/s]"
     ]
    },
    {
     "name": "stdout",
     "output_type": "stream",
     "text": [
      "initial_potential =  32828.68137104524\n",
      "final_potential =  32753.159283015528\n",
      "energy_change =  -0.4515955622482579\n",
      "p accept =  1.570816522588386\n",
      "current step size = 0.0013027354983038138\n",
      "current acceptance ratio = 0.7766714082503556\n",
      "currently working on step 704\n"
     ]
    },
    {
     "name": "stderr",
     "output_type": "stream",
     "text": [
      "100%|██████████| 100/100 [00:08<00:00, 12.04it/s]\n",
      "  0%|          | 0/100 [00:00<?, ?it/s]"
     ]
    },
    {
     "name": "stdout",
     "output_type": "stream",
     "text": [
      "initial_potential =  32753.159283015528\n",
      "final_potential =  32798.950454988924\n",
      "energy_change =  0.5069982303975848\n",
      "p accept =  0.602300836315137\n",
      "current step size = 0.0013027354983038138\n",
      "current acceptance ratio = 0.7769886363636364\n",
      "currently working on step 705\n"
     ]
    },
    {
     "name": "stderr",
     "output_type": "stream",
     "text": [
      "100%|██████████| 100/100 [00:08<00:00, 11.76it/s]\n",
      "  0%|          | 0/97 [00:00<?, ?it/s]"
     ]
    },
    {
     "name": "stdout",
     "output_type": "stream",
     "text": [
      "initial_potential =  32798.950454988924\n",
      "final_potential =  32797.15525870249\n",
      "energy_change =  -0.007769023490254767\n",
      "p accept =  1.0077992806587128\n",
      "current step size = 0.0013027354983038138\n",
      "current acceptance ratio = 0.7773049645390071\n",
      "currently working on step 706\n"
     ]
    },
    {
     "name": "stderr",
     "output_type": "stream",
     "text": [
      "100%|██████████| 97/97 [00:07<00:00, 12.15it/s]\n",
      "  0%|          | 0/101 [00:00<?, ?it/s]"
     ]
    },
    {
     "name": "stdout",
     "output_type": "stream",
     "text": [
      "initial_potential =  32797.15525870249\n",
      "final_potential =  32928.90576538909\n",
      "energy_change =  0.08447459700983018\n",
      "p accept =  0.9189950003012738\n",
      "current step size = 0.0013027354983038138\n",
      "current acceptance ratio = 0.7776203966005666\n",
      "currently working on step 707\n"
     ]
    },
    {
     "name": "stderr",
     "output_type": "stream",
     "text": [
      "100%|██████████| 101/101 [00:08<00:00, 11.49it/s]\n",
      "  0%|          | 0/101 [00:00<?, ?it/s]"
     ]
    },
    {
     "name": "stdout",
     "output_type": "stream",
     "text": [
      "initial_potential =  32928.90576538909\n",
      "final_potential =  32867.772300892146\n",
      "energy_change =  -0.27628662214556243\n",
      "p accept =  1.3182256425468744\n",
      "current step size = 0.0013027354983038138\n",
      "current acceptance ratio = 0.7779349363507779\n",
      "currently working on step 708\n"
     ]
    },
    {
     "name": "stderr",
     "output_type": "stream",
     "text": [
      "100%|██████████| 101/101 [00:08<00:00, 12.09it/s]\n",
      "  0%|          | 0/98 [00:00<?, ?it/s]"
     ]
    },
    {
     "name": "stdout",
     "output_type": "stream",
     "text": [
      "initial_potential =  32867.772300892146\n",
      "final_potential =  32822.04978430936\n",
      "energy_change =  -0.04247530562861357\n",
      "p accept =  1.0433902901882126\n",
      "current step size = 0.0013027354983038138\n",
      "current acceptance ratio = 0.7782485875706214\n",
      "currently working on step 709\n"
     ]
    },
    {
     "name": "stderr",
     "output_type": "stream",
     "text": [
      "100%|██████████| 98/98 [00:08<00:00, 11.74it/s]\n",
      "  0%|          | 0/97 [00:00<?, ?it/s]"
     ]
    },
    {
     "name": "stdout",
     "output_type": "stream",
     "text": [
      "initial_potential =  32822.04978430936\n",
      "final_potential =  32756.798279855484\n",
      "energy_change =  0.1734508706140332\n",
      "p accept =  0.8407584560939243\n",
      "current step size = 0.0013027354983038138\n",
      "current acceptance ratio = 0.7785613540197461\n",
      "currently working on step 710\n"
     ]
    },
    {
     "name": "stderr",
     "output_type": "stream",
     "text": [
      "100%|██████████| 97/97 [00:08<00:00, 12.06it/s]\n",
      "  0%|          | 0/100 [00:00<?, ?it/s]"
     ]
    },
    {
     "name": "stdout",
     "output_type": "stream",
     "text": [
      "initial_potential =  32756.798279855484\n",
      "final_potential =  32713.765746311437\n",
      "energy_change =  -0.07401522854343057\n",
      "p accept =  1.0768232038202847\n",
      "current step size = 0.0013027354983038138\n",
      "current acceptance ratio = 0.7788732394366197\n",
      "currently working on step 711\n"
     ]
    },
    {
     "name": "stderr",
     "output_type": "stream",
     "text": [
      "100%|██████████| 100/100 [00:08<00:00, 11.81it/s]\n",
      "  0%|          | 0/99 [00:00<?, ?it/s]"
     ]
    },
    {
     "name": "stdout",
     "output_type": "stream",
     "text": [
      "initial_potential =  32713.765746311437\n",
      "final_potential =  32967.07741077899\n",
      "energy_change =  0.44557692913804203\n",
      "p accept =  0.6404546724628972\n",
      "current step size = 0.0013027354983038138\n",
      "current acceptance ratio = 0.7791842475386779\n",
      "currently working on step 712\n"
     ]
    },
    {
     "name": "stderr",
     "output_type": "stream",
     "text": [
      "100%|██████████| 99/99 [00:08<00:00, 12.13it/s]\n",
      "  0%|          | 0/98 [00:00<?, ?it/s]"
     ]
    },
    {
     "name": "stdout",
     "output_type": "stream",
     "text": [
      "initial_potential =  32967.07741077899\n",
      "final_potential =  32968.91439148408\n",
      "energy_change =  0.2699656373442849\n",
      "p accept =  0.7634057265342984\n",
      "current step size = 0.0013027354983038138\n",
      "current acceptance ratio = 0.7780898876404494\n",
      "currently working on step 713\n"
     ]
    },
    {
     "name": "stderr",
     "output_type": "stream",
     "text": [
      "100%|██████████| 98/98 [00:08<00:00, 11.72it/s]\n",
      "  0%|          | 0/98 [00:00<?, ?it/s]"
     ]
    },
    {
     "name": "stdout",
     "output_type": "stream",
     "text": [
      "initial_potential =  32967.07741077899\n",
      "final_potential =  32777.03381862758\n",
      "energy_change =  -0.43874696095008403\n",
      "p accept =  1.5507628341826085\n",
      "current step size = 0.0013027354983038138\n",
      "current acceptance ratio = 0.7784011220196353\n",
      "currently working on step 714\n"
     ]
    },
    {
     "name": "stderr",
     "output_type": "stream",
     "text": [
      "100%|██████████| 98/98 [00:08<00:00, 11.99it/s]\n",
      "  0%|          | 0/97 [00:00<?, ?it/s]"
     ]
    },
    {
     "name": "stdout",
     "output_type": "stream",
     "text": [
      "initial_potential =  32777.03381862758\n",
      "final_potential =  32805.58360356801\n",
      "energy_change =  0.34127423611062113\n",
      "p accept =  0.7108639369123073\n",
      "current step size = 0.0013027354983038138\n",
      "current acceptance ratio = 0.7773109243697479\n",
      "currently working on step 715\n"
     ]
    },
    {
     "name": "stderr",
     "output_type": "stream",
     "text": [
      "100%|██████████| 97/97 [00:08<00:00, 11.76it/s]\n",
      "  0%|          | 0/101 [00:00<?, ?it/s]"
     ]
    },
    {
     "name": "stdout",
     "output_type": "stream",
     "text": [
      "initial_potential =  32777.03381862758\n",
      "final_potential =  32716.63734886477\n",
      "energy_change =  -0.03916213619231712\n",
      "p accept =  1.0399390817448178\n",
      "current step size = 0.0013027354983038138\n",
      "current acceptance ratio = 0.7776223776223776\n",
      "currently working on step 716\n"
     ]
    },
    {
     "name": "stderr",
     "output_type": "stream",
     "text": [
      "100%|██████████| 101/101 [00:08<00:00, 12.02it/s]\n",
      "  0%|          | 0/100 [00:00<?, ?it/s]"
     ]
    },
    {
     "name": "stdout",
     "output_type": "stream",
     "text": [
      "initial_potential =  32716.63734886477\n",
      "final_potential =  32754.37672155341\n",
      "energy_change =  -0.09721771054319106\n",
      "p accept =  1.1021002863562908\n",
      "current step size = 0.0013027354983038138\n",
      "current acceptance ratio = 0.7779329608938548\n",
      "currently working on step 717\n"
     ]
    },
    {
     "name": "stderr",
     "output_type": "stream",
     "text": [
      "100%|██████████| 100/100 [00:08<00:00, 11.83it/s]\n",
      "  0%|          | 0/98 [00:00<?, ?it/s]"
     ]
    },
    {
     "name": "stdout",
     "output_type": "stream",
     "text": [
      "initial_potential =  32754.37672155341\n",
      "final_potential =  32679.54592303209\n",
      "energy_change =  -0.15686305770941544\n",
      "p accept =  1.169835402991647\n",
      "current step size = 0.0013027354983038138\n",
      "current acceptance ratio = 0.7782426778242678\n",
      "currently working on step 718\n"
     ]
    },
    {
     "name": "stderr",
     "output_type": "stream",
     "text": [
      "100%|██████████| 98/98 [00:08<00:00, 11.75it/s]\n",
      "  0%|          | 0/100 [00:00<?, ?it/s]"
     ]
    },
    {
     "name": "stdout",
     "output_type": "stream",
     "text": [
      "initial_potential =  32679.54592303209\n",
      "final_potential =  32597.51966544534\n",
      "energy_change =  0.20083826153131668\n",
      "p accept =  0.8180447301566542\n",
      "current step size = 0.0013027354983038138\n",
      "current acceptance ratio = 0.7771587743732591\n",
      "currently working on step 719\n"
     ]
    },
    {
     "name": "stderr",
     "output_type": "stream",
     "text": [
      "100%|██████████| 100/100 [00:08<00:00, 12.10it/s]\n",
      "  0%|          | 0/101 [00:00<?, ?it/s]"
     ]
    },
    {
     "name": "stdout",
     "output_type": "stream",
     "text": [
      "initial_potential =  32679.54592303209\n",
      "final_potential =  32843.8035067377\n",
      "energy_change =  0.4591167367034359\n",
      "p accept =  0.6318414815024871\n",
      "current step size = 0.0013027354983038138\n",
      "current acceptance ratio = 0.7774687065368567\n",
      "currently working on step 720\n"
     ]
    },
    {
     "name": "stderr",
     "output_type": "stream",
     "text": [
      "100%|██████████| 101/101 [00:08<00:00, 11.80it/s]\n",
      "  0%|          | 0/100 [00:00<?, ?it/s]"
     ]
    },
    {
     "name": "stdout",
     "output_type": "stream",
     "text": [
      "initial_potential =  32843.8035067377\n",
      "final_potential =  32679.687534331133\n",
      "energy_change =  -0.7567994074197486\n",
      "p accept =  2.1314434098453288\n",
      "current step size = 0.0013027354983038138\n",
      "current acceptance ratio = 0.7777777777777778\n",
      "currently working on step 721\n"
     ]
    },
    {
     "name": "stderr",
     "output_type": "stream",
     "text": [
      "100%|██████████| 100/100 [00:08<00:00, 12.01it/s]\n",
      "  0%|          | 0/97 [00:00<?, ?it/s]"
     ]
    },
    {
     "name": "stdout",
     "output_type": "stream",
     "text": [
      "initial_potential =  32679.687534331133\n",
      "final_potential =  32793.10160235407\n",
      "energy_change =  0.2950241987564368\n",
      "p accept =  0.7445135709453543\n",
      "current step size = 0.0013027354983038138\n",
      "current acceptance ratio = 0.7780859916782247\n",
      "currently working on step 722\n"
     ]
    },
    {
     "name": "stderr",
     "output_type": "stream",
     "text": [
      "100%|██████████| 97/97 [00:08<00:00, 11.78it/s]\n",
      "  0%|          | 0/101 [00:00<?, ?it/s]"
     ]
    },
    {
     "name": "stdout",
     "output_type": "stream",
     "text": [
      "initial_potential =  32793.10160235407\n",
      "final_potential =  32782.61539647987\n",
      "energy_change =  -0.007264170824782923\n",
      "p accept =  1.0072906189160338\n",
      "current step size = 0.0013027354983038138\n",
      "current acceptance ratio = 0.778393351800554\n",
      "currently working on step 723\n"
     ]
    },
    {
     "name": "stderr",
     "output_type": "stream",
     "text": [
      "100%|██████████| 101/101 [00:08<00:00, 11.98it/s]\n",
      "  0%|          | 0/99 [00:00<?, ?it/s]"
     ]
    },
    {
     "name": "stdout",
     "output_type": "stream",
     "text": [
      "initial_potential =  32782.61539647987\n",
      "final_potential =  32997.5811693678\n",
      "energy_change =  0.821110930191935\n",
      "p accept =  0.4399426373657714\n",
      "current step size = 0.0013027354983038138\n",
      "current acceptance ratio = 0.7773167358229599\n",
      "currently working on step 724\n"
     ]
    },
    {
     "name": "stderr",
     "output_type": "stream",
     "text": [
      "100%|██████████| 99/99 [00:08<00:00, 11.88it/s]\n",
      "  0%|          | 0/101 [00:00<?, ?it/s]"
     ]
    },
    {
     "name": "stdout",
     "output_type": "stream",
     "text": [
      "initial_potential =  32782.61539647987\n",
      "final_potential =  32724.56232780059\n",
      "energy_change =  -0.38677300477866083\n",
      "p accept =  1.4722222659216784\n",
      "current step size = 0.0013027354983038138\n",
      "current acceptance ratio = 0.7776243093922652\n",
      "currently working on step 725\n"
     ]
    },
    {
     "name": "stderr",
     "output_type": "stream",
     "text": [
      "100%|██████████| 101/101 [00:08<00:00, 11.79it/s]\n",
      "  0%|          | 0/99 [00:00<?, ?it/s]"
     ]
    },
    {
     "name": "stdout",
     "output_type": "stream",
     "text": [
      "initial_potential =  32724.56232780059\n",
      "final_potential =  33007.55323911157\n",
      "energy_change =  1.1798008526966441\n",
      "p accept =  0.30733993842699014\n",
      "current step size = 0.0013027354983038138\n",
      "current acceptance ratio = 0.7779310344827586\n",
      "currently working on step 726\n"
     ]
    },
    {
     "name": "stderr",
     "output_type": "stream",
     "text": [
      "100%|██████████| 99/99 [00:08<00:00, 12.08it/s]\n",
      "  0%|          | 0/99 [00:00<?, ?it/s]"
     ]
    },
    {
     "name": "stdout",
     "output_type": "stream",
     "text": [
      "initial_potential =  33007.55323911157\n",
      "final_potential =  32973.7093305652\n",
      "energy_change =  -0.41119671167689376\n",
      "p accept =  1.5086220909528514\n",
      "current step size = 0.0013027354983038138\n",
      "current acceptance ratio = 0.778236914600551\n",
      "currently working on step 727\n"
     ]
    },
    {
     "name": "stderr",
     "output_type": "stream",
     "text": [
      "100%|██████████| 99/99 [00:08<00:00, 11.76it/s]\n",
      "  0%|          | 0/97 [00:00<?, ?it/s]"
     ]
    },
    {
     "name": "stdout",
     "output_type": "stream",
     "text": [
      "initial_potential =  32973.7093305652\n",
      "final_potential =  32649.462734514796\n",
      "energy_change =  -0.6006279855500907\n",
      "p accept =  1.82326342403364\n",
      "current step size = 0.0013027354983038138\n",
      "current acceptance ratio = 0.7785419532324622\n",
      "currently working on step 728\n"
     ]
    },
    {
     "name": "stderr",
     "output_type": "stream",
     "text": [
      "100%|██████████| 97/97 [00:08<00:00, 11.99it/s]\n",
      "  0%|          | 0/100 [00:00<?, ?it/s]"
     ]
    },
    {
     "name": "stdout",
     "output_type": "stream",
     "text": [
      "initial_potential =  32649.462734514796\n",
      "final_potential =  32715.686279024296\n",
      "energy_change =  -0.2606729163962882\n",
      "p accept =  1.2978031058874597\n",
      "current step size = 0.0013027354983038138\n",
      "current acceptance ratio = 0.7788461538461539\n",
      "currently working on step 729\n"
     ]
    },
    {
     "name": "stderr",
     "output_type": "stream",
     "text": [
      "100%|██████████| 100/100 [00:08<00:00, 11.70it/s]\n",
      "  0%|          | 0/100 [00:00<?, ?it/s]"
     ]
    },
    {
     "name": "stdout",
     "output_type": "stream",
     "text": [
      "initial_potential =  32715.686279024296\n",
      "final_potential =  32617.98799384934\n",
      "energy_change =  -0.1256506527570309\n",
      "p accept =  1.1338859791426077\n",
      "current step size = 0.0013027354983038138\n",
      "current acceptance ratio = 0.7791495198902606\n",
      "currently working on step 730\n"
     ]
    },
    {
     "name": "stderr",
     "output_type": "stream",
     "text": [
      "100%|██████████| 100/100 [00:08<00:00, 11.71it/s]\n",
      "  0%|          | 0/100 [00:00<?, ?it/s]"
     ]
    },
    {
     "name": "stdout",
     "output_type": "stream",
     "text": [
      "initial_potential =  32617.98799384934\n",
      "final_potential =  32660.730473573814\n",
      "energy_change =  -0.012954724850715138\n",
      "p accept =  1.013039000829516\n",
      "current step size = 0.0013027354983038138\n",
      "current acceptance ratio = 0.7794520547945205\n",
      "currently working on step 731\n"
     ]
    },
    {
     "name": "stderr",
     "output_type": "stream",
     "text": [
      "100%|██████████| 100/100 [00:08<00:00, 12.10it/s]\n",
      "  1%|          | 1/98 [00:00<00:10,  9.38it/s]"
     ]
    },
    {
     "name": "stdout",
     "output_type": "stream",
     "text": [
      "initial_potential =  32660.730473573814\n",
      "final_potential =  32698.287794308966\n",
      "energy_change =  0.5998111101798713\n",
      "p accept =  0.5489153108164944\n",
      "current step size = 0.0013027354983038138\n",
      "current acceptance ratio = 0.7797537619699042\n",
      "currently working on step 732\n"
     ]
    },
    {
     "name": "stderr",
     "output_type": "stream",
     "text": [
      "100%|██████████| 98/98 [00:08<00:00, 11.70it/s]\n",
      "  0%|          | 0/101 [00:00<?, ?it/s]"
     ]
    },
    {
     "name": "stdout",
     "output_type": "stream",
     "text": [
      "initial_potential =  32698.287794308966\n",
      "final_potential =  32790.57108428302\n",
      "energy_change =  -0.05431540282734204\n",
      "p accept =  1.055817557487582\n",
      "current step size = 0.0013027354983038138\n",
      "current acceptance ratio = 0.7800546448087432\n",
      "currently working on step 733\n"
     ]
    },
    {
     "name": "stderr",
     "output_type": "stream",
     "text": [
      "100%|██████████| 101/101 [00:08<00:00, 11.88it/s]\n",
      "  0%|          | 0/97 [00:00<?, ?it/s]"
     ]
    },
    {
     "name": "stdout",
     "output_type": "stream",
     "text": [
      "initial_potential =  32790.57108428302\n",
      "final_potential =  32862.907479941554\n",
      "energy_change =  1.1083362569333985\n",
      "p accept =  0.3301077188811297\n",
      "current step size = 0.0013027354983038138\n",
      "current acceptance ratio = 0.7803547066848567\n",
      "currently working on step 734\n"
     ]
    },
    {
     "name": "stderr",
     "output_type": "stream",
     "text": [
      "100%|██████████| 97/97 [00:08<00:00, 11.88it/s]\n",
      "  0%|          | 0/98 [00:00<?, ?it/s]"
     ]
    },
    {
     "name": "stdout",
     "output_type": "stream",
     "text": [
      "initial_potential =  32862.907479941554\n",
      "final_potential =  33016.50510399147\n",
      "energy_change =  0.10996434984554071\n",
      "p accept =  0.8958660724911011\n",
      "current step size = 0.0013027354983038138\n",
      "current acceptance ratio = 0.7806539509536785\n",
      "currently working on step 735\n"
     ]
    },
    {
     "name": "stderr",
     "output_type": "stream",
     "text": [
      "100%|██████████| 98/98 [00:08<00:00, 11.56it/s]\n",
      "  0%|          | 0/100 [00:00<?, ?it/s]"
     ]
    },
    {
     "name": "stdout",
     "output_type": "stream",
     "text": [
      "initial_potential =  33016.50510399147\n",
      "final_potential =  33027.37896225168\n",
      "energy_change =  -0.4043036269431468\n",
      "p accept =  1.4982587896397392\n",
      "current step size = 0.0013027354983038138\n",
      "current acceptance ratio = 0.780952380952381\n",
      "currently working on step 736\n"
     ]
    },
    {
     "name": "stderr",
     "output_type": "stream",
     "text": [
      "100%|██████████| 100/100 [00:08<00:00, 11.97it/s]\n",
      "  0%|          | 0/99 [00:00<?, ?it/s]"
     ]
    },
    {
     "name": "stdout",
     "output_type": "stream",
     "text": [
      "initial_potential =  33027.37896225168\n",
      "final_potential =  32708.26830736893\n",
      "energy_change =  -1.3631443190970458\n",
      "p accept =  3.9084634573327004\n",
      "current step size = 0.0013027354983038138\n",
      "current acceptance ratio = 0.78125\n",
      "currently working on step 737\n"
     ]
    },
    {
     "name": "stderr",
     "output_type": "stream",
     "text": [
      "100%|██████████| 99/99 [00:08<00:00, 11.98it/s]\n",
      "  0%|          | 0/101 [00:00<?, ?it/s]"
     ]
    },
    {
     "name": "stdout",
     "output_type": "stream",
     "text": [
      "initial_potential =  32708.26830736893\n",
      "final_potential =  32790.69540860777\n",
      "energy_change =  0.36363004677696154\n",
      "p accept =  0.6951483195392077\n",
      "current step size = 0.0013027354983038138\n",
      "current acceptance ratio = 0.7815468113975577\n",
      "currently working on step 738\n"
     ]
    },
    {
     "name": "stderr",
     "output_type": "stream",
     "text": [
      "100%|██████████| 101/101 [00:08<00:00, 11.96it/s]\n",
      "  0%|          | 0/98 [00:00<?, ?it/s]"
     ]
    },
    {
     "name": "stdout",
     "output_type": "stream",
     "text": [
      "initial_potential =  32790.69540860777\n",
      "final_potential =  32928.580377279985\n",
      "energy_change =  0.8413469576335046\n",
      "p accept =  0.4311294190934009\n",
      "current step size = 0.0013027354983038138\n",
      "current acceptance ratio = 0.7818428184281843\n",
      "currently working on step 739\n"
     ]
    },
    {
     "name": "stderr",
     "output_type": "stream",
     "text": [
      "100%|██████████| 98/98 [00:08<00:00, 11.94it/s]\n",
      "  0%|          | 0/99 [00:00<?, ?it/s]"
     ]
    },
    {
     "name": "stdout",
     "output_type": "stream",
     "text": [
      "initial_potential =  32928.580377279985\n",
      "final_potential =  32762.612323201047\n",
      "energy_change =  -0.6367094520392129\n",
      "p accept =  1.8902506740310805\n",
      "current step size = 0.0013027354983038138\n",
      "current acceptance ratio = 0.7821380243572396\n",
      "currently working on step 740\n"
     ]
    },
    {
     "name": "stderr",
     "output_type": "stream",
     "text": [
      "100%|██████████| 99/99 [00:08<00:00, 12.26it/s]\n",
      "  0%|          | 0/99 [00:00<?, ?it/s]"
     ]
    },
    {
     "name": "stdout",
     "output_type": "stream",
     "text": [
      "initial_potential =  32762.612323201047\n",
      "final_potential =  32657.637257626357\n",
      "energy_change =  -0.18360278708860278\n",
      "p accept =  1.2015384617049942\n",
      "current step size = 0.0013027354983038138\n",
      "current acceptance ratio = 0.7824324324324324\n",
      "currently working on step 741\n"
     ]
    },
    {
     "name": "stderr",
     "output_type": "stream",
     "text": [
      "100%|██████████| 99/99 [00:08<00:00, 11.95it/s]\n",
      "  0%|          | 0/97 [00:00<?, ?it/s]"
     ]
    },
    {
     "name": "stdout",
     "output_type": "stream",
     "text": [
      "initial_potential =  32657.637257626357\n",
      "final_potential =  32425.760226619637\n",
      "energy_change =  -0.8810836702614324\n",
      "p accept =  2.41351374285331\n",
      "current step size = 0.0013027354983038138\n",
      "current acceptance ratio = 0.7827260458839406\n",
      "currently working on step 742\n"
     ]
    },
    {
     "name": "stderr",
     "output_type": "stream",
     "text": [
      "100%|██████████| 97/97 [00:08<00:00, 11.71it/s]\n",
      "  0%|          | 0/101 [00:00<?, ?it/s]"
     ]
    },
    {
     "name": "stdout",
     "output_type": "stream",
     "text": [
      "initial_potential =  32425.760226619637\n",
      "final_potential =  32608.85965120059\n",
      "energy_change =  0.07795872280257754\n",
      "p accept =  0.9250026072707738\n",
      "current step size = 0.0013027354983038138\n",
      "current acceptance ratio = 0.7830188679245284\n",
      "currently working on step 743\n"
     ]
    },
    {
     "name": "stderr",
     "output_type": "stream",
     "text": [
      "100%|██████████| 101/101 [00:08<00:00, 12.25it/s]\n",
      "  0%|          | 0/98 [00:00<?, ?it/s]"
     ]
    },
    {
     "name": "stdout",
     "output_type": "stream",
     "text": [
      "initial_potential =  32608.85965120059\n",
      "final_potential =  32950.34631396593\n",
      "energy_change =  1.399352966589504\n",
      "p accept =  0.24675657204652346\n",
      "current step size = 0.0013027354983038138\n",
      "current acceptance ratio = 0.7833109017496636\n",
      "currently working on step 744\n"
     ]
    },
    {
     "name": "stderr",
     "output_type": "stream",
     "text": [
      "100%|██████████| 98/98 [00:08<00:00, 12.04it/s]\n",
      "  0%|          | 0/100 [00:00<?, ?it/s]"
     ]
    },
    {
     "name": "stdout",
     "output_type": "stream",
     "text": [
      "initial_potential =  32950.34631396593\n",
      "final_potential =  33085.247867180595\n",
      "energy_change =  0.8790080159087665\n",
      "p accept =  0.41519457387870284\n",
      "current step size = 0.0013027354983038138\n",
      "current acceptance ratio = 0.782258064516129\n",
      "currently working on step 745\n"
     ]
    },
    {
     "name": "stderr",
     "output_type": "stream",
     "text": [
      "100%|██████████| 100/100 [00:08<00:00, 11.90it/s]\n",
      "  0%|          | 0/99 [00:00<?, ?it/s]"
     ]
    },
    {
     "name": "stdout",
     "output_type": "stream",
     "text": [
      "initial_potential =  32950.34631396593\n",
      "final_potential =  33017.01417921652\n",
      "energy_change =  0.2900701542093884\n",
      "p accept =  0.7482110755808564\n",
      "current step size = 0.0013027354983038138\n",
      "current acceptance ratio = 0.7812080536912752\n",
      "currently working on step 746\n"
     ]
    },
    {
     "name": "stderr",
     "output_type": "stream",
     "text": [
      "100%|██████████| 99/99 [00:08<00:00, 12.12it/s]\n",
      "  0%|          | 0/97 [00:00<?, ?it/s]"
     ]
    },
    {
     "name": "stdout",
     "output_type": "stream",
     "text": [
      "initial_potential =  32950.34631396593\n",
      "final_potential =  32825.384337551644\n",
      "energy_change =  -0.3527870331890881\n",
      "p accept =  1.4230280534143163\n",
      "current step size = 0.0013027354983038138\n",
      "current acceptance ratio = 0.7815013404825737\n",
      "currently working on step 747\n"
     ]
    },
    {
     "name": "stderr",
     "output_type": "stream",
     "text": [
      "100%|██████████| 97/97 [00:08<00:00, 12.08it/s]\n",
      "  0%|          | 0/101 [00:00<?, ?it/s]"
     ]
    },
    {
     "name": "stdout",
     "output_type": "stream",
     "text": [
      "initial_potential =  32825.384337551644\n",
      "final_potential =  32877.60022042236\n",
      "energy_change =  0.5415095551434206\n",
      "p accept =  0.5818692253890764\n",
      "current step size = 0.0013027354983038138\n",
      "current acceptance ratio = 0.7817938420348058\n",
      "currently working on step 748\n"
     ]
    },
    {
     "name": "stderr",
     "output_type": "stream",
     "text": [
      "100%|██████████| 101/101 [00:08<00:00, 11.98it/s]\n",
      "  0%|          | 0/101 [00:00<?, ?it/s]"
     ]
    },
    {
     "name": "stdout",
     "output_type": "stream",
     "text": [
      "initial_potential =  32877.60022042236\n",
      "final_potential =  32656.095289291326\n",
      "energy_change =  -1.6819478277175222\n",
      "p accept =  5.376017334922066\n",
      "current step size = 0.0013027354983038138\n",
      "current acceptance ratio = 0.7820855614973262\n",
      "currently working on step 749\n"
     ]
    },
    {
     "name": "stderr",
     "output_type": "stream",
     "text": [
      "100%|██████████| 101/101 [00:08<00:00, 11.96it/s]\n",
      "  0%|          | 0/98 [00:00<?, ?it/s]"
     ]
    },
    {
     "name": "stdout",
     "output_type": "stream",
     "text": [
      "initial_potential =  32656.095289291326\n",
      "final_potential =  32653.45259610517\n",
      "energy_change =  0.553748107602587\n",
      "p accept =  0.5747913879365228\n",
      "current step size = 0.0013027354983038138\n",
      "current acceptance ratio = 0.7810413885180241\n",
      "currently working on step 750\n"
     ]
    },
    {
     "name": "stderr",
     "output_type": "stream",
     "text": [
      "100%|██████████| 98/98 [00:07<00:00, 12.35it/s]\n",
      "  0%|          | 0/101 [00:00<?, ?it/s]"
     ]
    },
    {
     "name": "stdout",
     "output_type": "stream",
     "text": [
      "initial_potential =  32656.095289291326\n",
      "final_potential =  32639.549170409275\n",
      "energy_change =  0.48364525713259354\n",
      "p accept =  0.6165318734085401\n",
      "current step size = 0.0013027354983038138\n",
      "current acceptance ratio = 0.78\n",
      "currently working on step 751\n"
     ]
    },
    {
     "name": "stderr",
     "output_type": "stream",
     "text": [
      "100%|██████████| 101/101 [00:08<00:00, 11.94it/s]\n",
      "  0%|          | 0/97 [00:00<?, ?it/s]"
     ]
    },
    {
     "name": "stdout",
     "output_type": "stream",
     "text": [
      "initial_potential =  32656.095289291326\n",
      "final_potential =  32562.656904168758\n",
      "energy_change =  0.6977439440233866\n",
      "p accept =  0.49770689274193325\n",
      "current step size = 0.0013027354983038138\n",
      "current acceptance ratio = 0.7789613848202397\n",
      "currently working on step 752\n"
     ]
    },
    {
     "name": "stderr",
     "output_type": "stream",
     "text": [
      "100%|██████████| 97/97 [00:08<00:00, 11.97it/s]\n",
      "  0%|          | 0/98 [00:00<?, ?it/s]"
     ]
    },
    {
     "name": "stdout",
     "output_type": "stream",
     "text": [
      "initial_potential =  32656.095289291326\n",
      "final_potential =  32685.202200727774\n",
      "energy_change =  0.5915861421381123\n",
      "p accept =  0.553448739802643\n",
      "current step size = 0.0013027354983038138\n",
      "current acceptance ratio = 0.7792553191489362\n",
      "currently working on step 753\n"
     ]
    },
    {
     "name": "stderr",
     "output_type": "stream",
     "text": [
      "100%|██████████| 98/98 [00:07<00:00, 12.29it/s]\n",
      "  0%|          | 0/100 [00:00<?, ?it/s]"
     ]
    },
    {
     "name": "stdout",
     "output_type": "stream",
     "text": [
      "initial_potential =  32685.202200727774\n",
      "final_potential =  32871.87855076519\n",
      "energy_change =  0.8288000923930667\n",
      "p accept =  0.43657281920992397\n",
      "current step size = 0.0013027354983038138\n",
      "current acceptance ratio = 0.7795484727755644\n",
      "currently working on step 754\n"
     ]
    },
    {
     "name": "stderr",
     "output_type": "stream",
     "text": [
      "100%|██████████| 100/100 [00:08<00:00, 11.97it/s]\n",
      "  0%|          | 0/100 [00:00<?, ?it/s]"
     ]
    },
    {
     "name": "stdout",
     "output_type": "stream",
     "text": [
      "initial_potential =  32871.87855076519\n",
      "final_potential =  32897.15517086673\n",
      "energy_change =  0.04477654471702408\n",
      "p accept =  0.9562111283902641\n",
      "current step size = 0.0013027354983038138\n",
      "current acceptance ratio = 0.7798408488063661\n",
      "currently working on step 755\n"
     ]
    },
    {
     "name": "stderr",
     "output_type": "stream",
     "text": [
      "100%|██████████| 100/100 [00:08<00:00, 12.00it/s]\n",
      "  0%|          | 0/100 [00:00<?, ?it/s]"
     ]
    },
    {
     "name": "stdout",
     "output_type": "stream",
     "text": [
      "initial_potential =  32897.15517086673\n",
      "final_potential =  32813.498382729704\n",
      "energy_change =  -0.43047981648123823\n",
      "p accept =  1.53799530202897\n",
      "current step size = 0.0013027354983038138\n",
      "current acceptance ratio = 0.7801324503311259\n",
      "currently working on step 756\n"
     ]
    },
    {
     "name": "stderr",
     "output_type": "stream",
     "text": [
      "100%|██████████| 100/100 [00:08<00:00, 11.93it/s]\n",
      "  0%|          | 0/98 [00:00<?, ?it/s]"
     ]
    },
    {
     "name": "stdout",
     "output_type": "stream",
     "text": [
      "initial_potential =  32813.498382729704\n",
      "final_potential =  32839.45519599412\n",
      "energy_change =  0.18953743121528532\n",
      "p accept =  0.8273417479107759\n",
      "current step size = 0.0013027354983038138\n",
      "current acceptance ratio = 0.7804232804232805\n",
      "currently working on step 757\n"
     ]
    },
    {
     "name": "stderr",
     "output_type": "stream",
     "text": [
      "100%|██████████| 98/98 [00:08<00:00, 12.25it/s]\n",
      "  0%|          | 0/97 [00:00<?, ?it/s]"
     ]
    },
    {
     "name": "stdout",
     "output_type": "stream",
     "text": [
      "initial_potential =  32839.45519599412\n",
      "final_potential =  32814.986356272835\n",
      "energy_change =  0.08249358244938776\n",
      "p accept =  0.9208173472297732\n",
      "current step size = 0.0013027354983038138\n",
      "current acceptance ratio = 0.7807133421400264\n",
      "currently working on step 758\n"
     ]
    },
    {
     "name": "stderr",
     "output_type": "stream",
     "text": [
      "100%|██████████| 97/97 [00:08<00:00, 12.02it/s]\n",
      "  0%|          | 0/101 [00:00<?, ?it/s]"
     ]
    },
    {
     "name": "stdout",
     "output_type": "stream",
     "text": [
      "initial_potential =  32814.986356272835\n",
      "final_potential =  32968.81061538161\n",
      "energy_change =  0.31819050665944815\n",
      "p accept =  0.7274641884404976\n",
      "current step size = 0.0013027354983038138\n",
      "current acceptance ratio = 0.7810026385224275\n",
      "currently working on step 759\n"
     ]
    },
    {
     "name": "stderr",
     "output_type": "stream",
     "text": [
      "100%|██████████| 101/101 [00:08<00:00, 12.02it/s]\n",
      "  0%|          | 0/97 [00:00<?, ?it/s]"
     ]
    },
    {
     "name": "stdout",
     "output_type": "stream",
     "text": [
      "initial_potential =  32968.81061538161\n",
      "final_potential =  33051.02351435311\n",
      "energy_change =  0.4665775022294838\n",
      "p accept =  0.6271450018112543\n",
      "current step size = 0.0013027354983038138\n",
      "current acceptance ratio = 0.7812911725955204\n",
      "currently working on step 760\n"
     ]
    },
    {
     "name": "stderr",
     "output_type": "stream",
     "text": [
      "100%|██████████| 97/97 [00:07<00:00, 12.29it/s]\n",
      "  0%|          | 0/100 [00:00<?, ?it/s]"
     ]
    },
    {
     "name": "stdout",
     "output_type": "stream",
     "text": [
      "initial_potential =  33051.02351435311\n",
      "final_potential =  33092.90692374216\n",
      "energy_change =  -0.014924614573828876\n",
      "p accept =  1.0150365427690833\n",
      "current step size = 0.0013027354983038138\n",
      "current acceptance ratio = 0.781578947368421\n",
      "currently working on step 761\n"
     ]
    },
    {
     "name": "stderr",
     "output_type": "stream",
     "text": [
      "100%|██████████| 100/100 [00:08<00:00, 11.97it/s]\n",
      "  0%|          | 0/99 [00:00<?, ?it/s]"
     ]
    },
    {
     "name": "stdout",
     "output_type": "stream",
     "text": [
      "initial_potential =  33092.90692374216\n",
      "final_potential =  33067.42166521179\n",
      "energy_change =  0.42158183721767273\n",
      "p accept =  0.6560083003026772\n",
      "current step size = 0.0013027354983038138\n",
      "current acceptance ratio = 0.7818659658344284\n",
      "currently working on step 762\n"
     ]
    },
    {
     "name": "stderr",
     "output_type": "stream",
     "text": [
      "100%|██████████| 99/99 [00:08<00:00, 12.00it/s]\n",
      "  0%|          | 0/100 [00:00<?, ?it/s]"
     ]
    },
    {
     "name": "stdout",
     "output_type": "stream",
     "text": [
      "initial_potential =  33067.42166521179\n",
      "final_potential =  33018.169867247314\n",
      "energy_change =  -0.13344113228959031\n",
      "p accept =  1.1427539928438961\n",
      "current step size = 0.0013027354983038138\n",
      "current acceptance ratio = 0.7821522309711286\n",
      "currently working on step 763\n"
     ]
    },
    {
     "name": "stderr",
     "output_type": "stream",
     "text": [
      "100%|██████████| 100/100 [00:08<00:00, 11.93it/s]\n",
      "  0%|          | 0/99 [00:00<?, ?it/s]"
     ]
    },
    {
     "name": "stdout",
     "output_type": "stream",
     "text": [
      "initial_potential =  33018.169867247314\n",
      "final_potential =  33025.65822654051\n",
      "energy_change =  -0.017170691877254285\n",
      "p accept =  1.0173189555882212\n",
      "current step size = 0.0013027354983038138\n",
      "current acceptance ratio = 0.7824377457404981\n",
      "currently working on step 764\n"
     ]
    },
    {
     "name": "stderr",
     "output_type": "stream",
     "text": [
      "100%|██████████| 99/99 [00:08<00:00, 12.31it/s]\n",
      "  0%|          | 0/97 [00:00<?, ?it/s]"
     ]
    },
    {
     "name": "stdout",
     "output_type": "stream",
     "text": [
      "initial_potential =  33025.65822654051\n",
      "final_potential =  33169.0232726658\n",
      "energy_change =  0.2870557749993168\n",
      "p accept =  0.7504698702132481\n",
      "current step size = 0.0013027354983038138\n",
      "current acceptance ratio = 0.7827225130890052\n",
      "currently working on step 765\n"
     ]
    },
    {
     "name": "stderr",
     "output_type": "stream",
     "text": [
      "100%|██████████| 97/97 [00:08<00:00, 12.04it/s]\n",
      "  0%|          | 0/101 [00:00<?, ?it/s]"
     ]
    },
    {
     "name": "stdout",
     "output_type": "stream",
     "text": [
      "initial_potential =  33169.0232726658\n",
      "final_potential =  33155.24606922759\n",
      "energy_change =  -0.2135110922245076\n",
      "p accept =  1.2380172305569905\n",
      "current step size = 0.0013027354983038138\n",
      "current acceptance ratio = 0.7830065359477124\n",
      "currently working on step 766\n"
     ]
    },
    {
     "name": "stderr",
     "output_type": "stream",
     "text": [
      "100%|██████████| 101/101 [00:08<00:00, 11.98it/s]\n",
      "  0%|          | 0/98 [00:00<?, ?it/s]"
     ]
    },
    {
     "name": "stdout",
     "output_type": "stream",
     "text": [
      "initial_potential =  33155.24606922759\n",
      "final_potential =  32584.083340930243\n",
      "energy_change =  -2.743369891148177\n",
      "p accept =  15.539262585579513\n",
      "current step size = 0.0013027354983038138\n",
      "current acceptance ratio = 0.783289817232376\n",
      "currently working on step 767\n"
     ]
    },
    {
     "name": "stderr",
     "output_type": "stream",
     "text": [
      "100%|██████████| 98/98 [00:08<00:00, 11.97it/s]\n",
      "  0%|          | 0/99 [00:00<?, ?it/s]"
     ]
    },
    {
     "name": "stdout",
     "output_type": "stream",
     "text": [
      "initial_potential =  32584.083340930243\n",
      "final_potential =  32849.02851469049\n",
      "energy_change =  1.7338111276330892\n",
      "p accept =  0.17661004232296112\n",
      "current step size = 0.0013027354983038138\n",
      "current acceptance ratio = 0.7822685788787483\n",
      "currently working on step 768\n"
     ]
    },
    {
     "name": "stderr",
     "output_type": "stream",
     "text": [
      "100%|██████████| 99/99 [00:08<00:00, 12.25it/s]\n",
      "  0%|          | 0/100 [00:00<?, ?it/s]"
     ]
    },
    {
     "name": "stdout",
     "output_type": "stream",
     "text": [
      "initial_potential =  32584.083340930243\n",
      "final_potential =  32715.236969646387\n",
      "energy_change =  1.0181324491422856\n",
      "p accept =  0.36126899878634455\n",
      "current step size = 0.0013027354983038138\n",
      "current acceptance ratio = 0.7825520833333334\n",
      "currently working on step 769\n"
     ]
    },
    {
     "name": "stderr",
     "output_type": "stream",
     "text": [
      "100%|██████████| 100/100 [00:08<00:00, 12.03it/s]\n",
      "  0%|          | 0/99 [00:00<?, ?it/s]"
     ]
    },
    {
     "name": "stdout",
     "output_type": "stream",
     "text": [
      "initial_potential =  32715.236969646387\n",
      "final_potential =  32651.19744439473\n",
      "energy_change =  -0.0635775484261103\n",
      "p accept =  1.0656421214666092\n",
      "current step size = 0.0013027354983038138\n",
      "current acceptance ratio = 0.7828348504551366\n",
      "currently working on step 770\n"
     ]
    },
    {
     "name": "stderr",
     "output_type": "stream",
     "text": [
      "100%|██████████| 99/99 [00:08<00:00, 11.94it/s]\n",
      "  0%|          | 0/101 [00:00<?, ?it/s]"
     ]
    },
    {
     "name": "stdout",
     "output_type": "stream",
     "text": [
      "initial_potential =  32651.19744439473\n",
      "final_potential =  32680.65709792687\n",
      "energy_change =  0.28719685492978897\n",
      "p accept =  0.7503640014442918\n",
      "current step size = 0.0013027354983038138\n",
      "current acceptance ratio = 0.7818181818181819\n",
      "currently working on step 771\n"
     ]
    },
    {
     "name": "stderr",
     "output_type": "stream",
     "text": [
      "100%|██████████| 101/101 [00:08<00:00, 12.16it/s]\n",
      "  0%|          | 0/99 [00:00<?, ?it/s]"
     ]
    },
    {
     "name": "stdout",
     "output_type": "stream",
     "text": [
      "initial_potential =  32651.19744439473\n",
      "final_potential =  32874.07900375805\n",
      "energy_change =  0.46522108555654995\n",
      "p accept =  0.6279962489404426\n",
      "current step size = 0.0013027354983038138\n",
      "current acceptance ratio = 0.7808041504539559\n",
      "currently working on step 772\n"
     ]
    },
    {
     "name": "stderr",
     "output_type": "stream",
     "text": [
      "100%|██████████| 99/99 [00:08<00:00, 11.88it/s]\n",
      "  0%|          | 0/100 [00:00<?, ?it/s]"
     ]
    },
    {
     "name": "stdout",
     "output_type": "stream",
     "text": [
      "initial_potential =  32651.19744439473\n",
      "final_potential =  32919.99112274588\n",
      "energy_change =  1.1562932356609963\n",
      "p accept =  0.3146503566082126\n",
      "current step size = 0.0013027354983038138\n",
      "current acceptance ratio = 0.7810880829015544\n",
      "currently working on step 773\n"
     ]
    },
    {
     "name": "stderr",
     "output_type": "stream",
     "text": [
      "100%|██████████| 100/100 [00:08<00:00, 11.86it/s]\n",
      "  0%|          | 0/98 [00:00<?, ?it/s]"
     ]
    },
    {
     "name": "stdout",
     "output_type": "stream",
     "text": [
      "initial_potential =  32919.99112274588\n",
      "final_potential =  32832.29043778541\n",
      "energy_change =  -0.9138589322828921\n",
      "p accept =  2.4939278870950443\n",
      "current step size = 0.0013027354983038138\n",
      "current acceptance ratio = 0.7813712807244502\n",
      "currently working on step 774\n"
     ]
    },
    {
     "name": "stderr",
     "output_type": "stream",
     "text": [
      "100%|██████████| 98/98 [00:08<00:00, 12.23it/s]\n",
      "  0%|          | 0/100 [00:00<?, ?it/s]"
     ]
    },
    {
     "name": "stdout",
     "output_type": "stream",
     "text": [
      "initial_potential =  32832.29043778541\n",
      "final_potential =  32937.320087476226\n",
      "energy_change =  0.7392524359456729\n",
      "p accept =  0.47747072208536123\n",
      "current step size = 0.0013027354983038138\n",
      "current acceptance ratio = 0.7816537467700259\n",
      "currently working on step 775\n"
     ]
    },
    {
     "name": "stderr",
     "output_type": "stream",
     "text": [
      "100%|██████████| 100/100 [00:08<00:00, 11.97it/s]\n",
      "  0%|          | 0/100 [00:00<?, ?it/s]"
     ]
    },
    {
     "name": "stdout",
     "output_type": "stream",
     "text": [
      "initial_potential =  32937.320087476226\n",
      "final_potential =  33233.40461256678\n",
      "energy_change =  1.292075925230165\n",
      "p accept =  0.2746999342507672\n",
      "current step size = 0.0013027354983038138\n",
      "current acceptance ratio = 0.7806451612903226\n",
      "currently working on step 776\n"
     ]
    },
    {
     "name": "stderr",
     "output_type": "stream",
     "text": [
      "100%|██████████| 100/100 [00:08<00:00, 11.95it/s]\n",
      "  0%|          | 0/100 [00:00<?, ?it/s]"
     ]
    },
    {
     "name": "stdout",
     "output_type": "stream",
     "text": [
      "initial_potential =  32937.320087476226\n",
      "final_potential =  32770.74204572383\n",
      "energy_change =  -0.438373077326105\n",
      "p accept =  1.5501831377304904\n",
      "current step size = 0.0013027354983038138\n",
      "current acceptance ratio = 0.7809278350515464\n",
      "currently working on step 777\n"
     ]
    },
    {
     "name": "stderr",
     "output_type": "stream",
     "text": [
      "100%|██████████| 100/100 [00:08<00:00, 11.91it/s]\n",
      "  0%|          | 0/99 [00:00<?, ?it/s]"
     ]
    },
    {
     "name": "stdout",
     "output_type": "stream",
     "text": [
      "initial_potential =  32770.74204572383\n",
      "final_potential =  32701.481785324395\n",
      "energy_change =  -0.41696583580051083\n",
      "p accept =  1.5173506729784678\n",
      "current step size = 0.0013027354983038138\n",
      "current acceptance ratio = 0.7812097812097812\n",
      "currently working on step 778\n"
     ]
    },
    {
     "name": "stderr",
     "output_type": "stream",
     "text": [
      "100%|██████████| 99/99 [00:08<00:00, 12.25it/s]\n",
      "  0%|          | 0/98 [00:00<?, ?it/s]"
     ]
    },
    {
     "name": "stdout",
     "output_type": "stream",
     "text": [
      "initial_potential =  32701.481785324395\n",
      "final_potential =  32866.93711449646\n",
      "energy_change =  0.246830780262826\n",
      "p accept =  0.7812728891389693\n",
      "current step size = 0.0013027354983038138\n",
      "current acceptance ratio = 0.781491002570694\n",
      "currently working on step 779\n"
     ]
    },
    {
     "name": "stderr",
     "output_type": "stream",
     "text": [
      "100%|██████████| 98/98 [00:08<00:00, 11.97it/s]\n",
      "  0%|          | 0/99 [00:00<?, ?it/s]"
     ]
    },
    {
     "name": "stdout",
     "output_type": "stream",
     "text": [
      "initial_potential =  32866.93711449646\n",
      "final_potential =  32983.43605929944\n",
      "energy_change =  0.29992476740153506\n",
      "p accept =  0.7408739564579973\n",
      "current step size = 0.0013027354983038138\n",
      "current acceptance ratio = 0.7817715019255456\n",
      "currently working on step 780\n"
     ]
    },
    {
     "name": "stderr",
     "output_type": "stream",
     "text": [
      "100%|██████████| 99/99 [00:08<00:00, 11.96it/s]\n",
      "  0%|          | 0/101 [00:00<?, ?it/s]"
     ]
    },
    {
     "name": "stdout",
     "output_type": "stream",
     "text": [
      "initial_potential =  32983.43605929944\n",
      "final_potential =  32811.13574567954\n",
      "energy_change =  -0.7246772277285345\n",
      "p accept =  2.064064769561659\n",
      "current step size = 0.0013027354983038138\n",
      "current acceptance ratio = 0.782051282051282\n",
      "currently working on step 781\n"
     ]
    },
    {
     "name": "stderr",
     "output_type": "stream",
     "text": [
      "100%|██████████| 101/101 [00:08<00:00, 12.08it/s]\n",
      "  0%|          | 0/99 [00:00<?, ?it/s]"
     ]
    },
    {
     "name": "stdout",
     "output_type": "stream",
     "text": [
      "initial_potential =  32811.13574567954\n",
      "final_potential =  32896.01729067086\n",
      "energy_change =  0.6990735224972013\n",
      "p accept =  0.49704559209404686\n",
      "current step size = 0.0013027354983038138\n",
      "current acceptance ratio = 0.7823303457106274\n",
      "currently working on step 782\n"
     ]
    },
    {
     "name": "stderr",
     "output_type": "stream",
     "text": [
      "100%|██████████| 99/99 [00:08<00:00, 12.22it/s]\n",
      "  0%|          | 0/99 [00:00<?, ?it/s]"
     ]
    },
    {
     "name": "stdout",
     "output_type": "stream",
     "text": [
      "initial_potential =  32896.01729067086\n",
      "final_potential =  32754.96090672837\n",
      "energy_change =  -0.6955240226670867\n",
      "p accept =  2.0047593380712394\n",
      "current step size = 0.0013027354983038138\n",
      "current acceptance ratio = 0.782608695652174\n",
      "currently working on step 783\n"
     ]
    },
    {
     "name": "stderr",
     "output_type": "stream",
     "text": [
      "100%|██████████| 99/99 [00:08<00:00, 11.95it/s]\n",
      "  0%|          | 0/100 [00:00<?, ?it/s]"
     ]
    },
    {
     "name": "stdout",
     "output_type": "stream",
     "text": [
      "initial_potential =  32754.96090672837\n",
      "final_potential =  32678.93124130381\n",
      "energy_change =  0.07692622348258737\n",
      "p accept =  0.9259581650552615\n",
      "current step size = 0.0013027354983038138\n",
      "current acceptance ratio = 0.7816091954022989\n",
      "currently working on step 784\n"
     ]
    },
    {
     "name": "stderr",
     "output_type": "stream",
     "text": [
      "100%|██████████| 100/100 [00:08<00:00, 11.93it/s]\n",
      "  0%|          | 0/99 [00:00<?, ?it/s]"
     ]
    },
    {
     "name": "stdout",
     "output_type": "stream",
     "text": [
      "initial_potential =  32754.96090672837\n",
      "final_potential =  32630.440732157884\n",
      "energy_change =  -0.35509549085691106\n",
      "p accept =  1.4263168479967911\n",
      "current step size = 0.0013027354983038138\n",
      "current acceptance ratio = 0.7818877551020408\n",
      "currently working on step 785\n"
     ]
    },
    {
     "name": "stderr",
     "output_type": "stream",
     "text": [
      "100%|██████████| 99/99 [00:08<00:00, 11.97it/s]\n",
      "  0%|          | 0/99 [00:00<?, ?it/s]"
     ]
    },
    {
     "name": "stdout",
     "output_type": "stream",
     "text": [
      "initial_potential =  32630.440732157884\n",
      "final_potential =  32837.6477976128\n",
      "energy_change =  0.796662769804243\n",
      "p accept =  0.45083098320181186\n",
      "current step size = 0.0013027354983038138\n",
      "current acceptance ratio = 0.7821656050955414\n",
      "currently working on step 786\n"
     ]
    },
    {
     "name": "stderr",
     "output_type": "stream",
     "text": [
      "100%|██████████| 99/99 [00:08<00:00, 11.94it/s]\n",
      "  0%|          | 0/100 [00:00<?, ?it/s]"
     ]
    },
    {
     "name": "stdout",
     "output_type": "stream",
     "text": [
      "initial_potential =  32837.6477976128\n",
      "final_potential =  32826.60045684202\n",
      "energy_change =  0.0801075134659186\n",
      "p accept =  0.9230171042838164\n",
      "current step size = 0.0013027354983038138\n",
      "current acceptance ratio = 0.7824427480916031\n",
      "currently working on step 787\n"
     ]
    },
    {
     "name": "stderr",
     "output_type": "stream",
     "text": [
      "100%|██████████| 100/100 [00:08<00:00, 11.99it/s]\n",
      "  0%|          | 0/98 [00:00<?, ?it/s]"
     ]
    },
    {
     "name": "stdout",
     "output_type": "stream",
     "text": [
      "initial_potential =  32826.60045684202\n",
      "final_potential =  32783.987111146096\n",
      "energy_change =  0.060980294860200956\n",
      "p accept =  0.9408417790121342\n",
      "current step size = 0.0013027354983038138\n",
      "current acceptance ratio = 0.7827191867852605\n",
      "currently working on step 788\n"
     ]
    },
    {
     "name": "stderr",
     "output_type": "stream",
     "text": [
      "100%|██████████| 98/98 [00:08<00:00, 11.94it/s]\n",
      "  0%|          | 0/97 [00:00<?, ?it/s]"
     ]
    },
    {
     "name": "stdout",
     "output_type": "stream",
     "text": [
      "initial_potential =  32783.987111146096\n",
      "final_potential =  33163.56220549252\n",
      "energy_change =  1.1826697045908077\n",
      "p accept =  0.3064594892055542\n",
      "current step size = 0.0013027354983038138\n",
      "current acceptance ratio = 0.7829949238578681\n",
      "currently working on step 789\n"
     ]
    },
    {
     "name": "stderr",
     "output_type": "stream",
     "text": [
      "100%|██████████| 97/97 [00:07<00:00, 12.27it/s]\n",
      "  0%|          | 0/97 [00:00<?, ?it/s]"
     ]
    },
    {
     "name": "stdout",
     "output_type": "stream",
     "text": [
      "initial_potential =  33163.56220549252\n",
      "final_potential =  33010.4255429077\n",
      "energy_change =  -0.2696733107732143\n",
      "p accept =  1.3095365693556442\n",
      "current step size = 0.0013027354983038138\n",
      "current acceptance ratio = 0.7832699619771863\n",
      "currently working on step 790\n"
     ]
    },
    {
     "name": "stderr",
     "output_type": "stream",
     "text": [
      "100%|██████████| 97/97 [00:08<00:00, 11.89it/s]\n",
      "  0%|          | 0/101 [00:00<?, ?it/s]"
     ]
    },
    {
     "name": "stdout",
     "output_type": "stream",
     "text": [
      "initial_potential =  33010.4255429077\n",
      "final_potential =  32997.67731652804\n",
      "energy_change =  0.23774664658412803\n",
      "p accept =  0.7884024102366537\n",
      "current step size = 0.0013027354983038138\n",
      "current acceptance ratio = 0.7835443037974683\n",
      "currently working on step 791\n"
     ]
    },
    {
     "name": "stderr",
     "output_type": "stream",
     "text": [
      "100%|██████████| 101/101 [00:08<00:00, 11.95it/s]\n",
      "  0%|          | 0/101 [00:00<?, ?it/s]"
     ]
    },
    {
     "name": "stdout",
     "output_type": "stream",
     "text": [
      "initial_potential =  32997.67731652804\n",
      "final_potential =  33300.596923457066\n",
      "energy_change =  0.16492630844004452\n",
      "p accept =  0.8479561889999235\n",
      "current step size = 0.0013027354983038138\n",
      "current acceptance ratio = 0.7838179519595448\n",
      "currently working on step 792\n"
     ]
    },
    {
     "name": "stderr",
     "output_type": "stream",
     "text": [
      "100%|██████████| 101/101 [00:08<00:00, 11.79it/s]\n",
      "  0%|          | 0/98 [00:00<?, ?it/s]"
     ]
    },
    {
     "name": "stdout",
     "output_type": "stream",
     "text": [
      "initial_potential =  33300.596923457066\n",
      "final_potential =  33175.80074285927\n",
      "energy_change =  -0.2965627438679803\n",
      "p accept =  1.34522696209228\n",
      "current step size = 0.0013027354983038138\n",
      "current acceptance ratio = 0.7840909090909091\n",
      "currently working on step 793\n"
     ]
    },
    {
     "name": "stderr",
     "output_type": "stream",
     "text": [
      "100%|██████████| 98/98 [00:08<00:00, 12.23it/s]\n",
      "  0%|          | 0/97 [00:00<?, ?it/s]"
     ]
    },
    {
     "name": "stdout",
     "output_type": "stream",
     "text": [
      "initial_potential =  33175.80074285927\n",
      "final_potential =  33117.62390563977\n",
      "energy_change =  -0.23343689102330245\n",
      "p accept =  1.2629331229588636\n",
      "current step size = 0.0013027354983038138\n",
      "current acceptance ratio = 0.7843631778058008\n",
      "currently working on step 794\n"
     ]
    },
    {
     "name": "stderr",
     "output_type": "stream",
     "text": [
      "100%|██████████| 97/97 [00:08<00:00, 11.96it/s]\n",
      "  0%|          | 0/97 [00:00<?, ?it/s]"
     ]
    },
    {
     "name": "stdout",
     "output_type": "stream",
     "text": [
      "initial_potential =  33117.62390563977\n",
      "final_potential =  33082.67019113749\n",
      "energy_change =  -0.10798623273149133\n",
      "p accept =  1.1140324080976018\n",
      "current step size = 0.0013027354983038138\n",
      "current acceptance ratio = 0.7846347607052897\n",
      "currently working on step 795\n"
     ]
    },
    {
     "name": "stderr",
     "output_type": "stream",
     "text": [
      "100%|██████████| 97/97 [00:08<00:00, 11.95it/s]\n",
      "  0%|          | 0/100 [00:00<?, ?it/s]"
     ]
    },
    {
     "name": "stdout",
     "output_type": "stream",
     "text": [
      "initial_potential =  33082.67019113749\n",
      "final_potential =  32925.92489089892\n",
      "energy_change =  -0.10618742738734\n",
      "p accept =  1.1120302819058616\n",
      "current step size = 0.0013027354983038138\n",
      "current acceptance ratio = 0.7849056603773585\n",
      "currently working on step 796\n"
     ]
    },
    {
     "name": "stderr",
     "output_type": "stream",
     "text": [
      "100%|██████████| 100/100 [00:08<00:00, 11.84it/s]\n",
      "  0%|          | 0/98 [00:00<?, ?it/s]"
     ]
    },
    {
     "name": "stdout",
     "output_type": "stream",
     "text": [
      "initial_potential =  32925.92489089892\n",
      "final_potential =  32923.25750530915\n",
      "energy_change =  0.08938781093456782\n",
      "p accept =  0.9144908552438482\n",
      "current step size = 0.0013027354983038138\n",
      "current acceptance ratio = 0.785175879396985\n",
      "currently working on step 797\n"
     ]
    },
    {
     "name": "stderr",
     "output_type": "stream",
     "text": [
      "100%|██████████| 98/98 [00:08<00:00, 11.95it/s]\n",
      "  0%|          | 0/99 [00:00<?, ?it/s]"
     ]
    },
    {
     "name": "stdout",
     "output_type": "stream",
     "text": [
      "initial_potential =  32923.25750530915\n",
      "final_potential =  32854.09749592493\n",
      "energy_change =  -0.07297898238175549\n",
      "p accept =  1.0757079278585397\n",
      "current step size = 0.0013027354983038138\n",
      "current acceptance ratio = 0.7854454203262233\n",
      "currently working on step 798\n"
     ]
    },
    {
     "name": "stderr",
     "output_type": "stream",
     "text": [
      "100%|██████████| 99/99 [00:08<00:00, 12.22it/s]\n",
      "  0%|          | 0/101 [00:00<?, ?it/s]"
     ]
    },
    {
     "name": "stdout",
     "output_type": "stream",
     "text": [
      "initial_potential =  32854.09749592493\n",
      "final_potential =  32675.97753010058\n",
      "energy_change =  -0.8732017999718664\n",
      "p accept =  2.394565512431951\n",
      "current step size = 0.0013027354983038138\n",
      "current acceptance ratio = 0.7857142857142857\n",
      "currently working on step 799\n"
     ]
    },
    {
     "name": "stderr",
     "output_type": "stream",
     "text": [
      "100%|██████████| 101/101 [00:08<00:00, 11.63it/s]\n",
      "  0%|          | 0/99 [00:00<?, ?it/s]"
     ]
    },
    {
     "name": "stdout",
     "output_type": "stream",
     "text": [
      "initial_potential =  32675.97753010058\n",
      "final_potential =  32731.16428303661\n",
      "energy_change =  0.16380515627679415\n",
      "p accept =  0.8489074100476911\n",
      "current step size = 0.0013027354983038138\n",
      "current acceptance ratio = 0.7847309136420526\n",
      "currently working on step 800\n"
     ]
    },
    {
     "name": "stderr",
     "output_type": "stream",
     "text": [
      "100%|██████████| 99/99 [00:08<00:00, 11.95it/s]\n",
      "  0%|          | 0/98 [00:00<?, ?it/s]"
     ]
    },
    {
     "name": "stdout",
     "output_type": "stream",
     "text": [
      "initial_potential =  32675.97753010058\n",
      "final_potential =  32705.567934696966\n",
      "energy_change =  0.1753150566801196\n",
      "p accept =  0.8391925858853164\n",
      "current step size = 0.0013027354983038138\n",
      "current acceptance ratio = 0.78375\n",
      "currently working on step 801\n"
     ]
    },
    {
     "name": "stderr",
     "output_type": "stream",
     "text": [
      "100%|██████████| 98/98 [00:08<00:00, 11.86it/s]\n",
      "  0%|          | 0/100 [00:00<?, ?it/s]"
     ]
    },
    {
     "name": "stdout",
     "output_type": "stream",
     "text": [
      "initial_potential =  32675.97753010058\n",
      "final_potential =  32835.58573676742\n",
      "energy_change =  0.24354639995726757\n",
      "p accept =  0.7838431049018981\n",
      "current step size = 0.0013027354983038138\n",
      "current acceptance ratio = 0.7827715355805244\n",
      "currently working on step 802\n"
     ]
    },
    {
     "name": "stderr",
     "output_type": "stream",
     "text": [
      "100%|██████████| 100/100 [00:08<00:00, 12.11it/s]\n",
      "  0%|          | 0/97 [00:00<?, ?it/s]"
     ]
    },
    {
     "name": "stdout",
     "output_type": "stream",
     "text": [
      "initial_potential =  32675.97753010058\n",
      "final_potential =  32810.09485889928\n",
      "energy_change =  0.7147453571087681\n",
      "p accept =  0.4893166969517361\n",
      "current step size = 0.0013027354983038138\n",
      "current acceptance ratio = 0.7830423940149626\n",
      "currently working on step 803\n"
     ]
    },
    {
     "name": "stderr",
     "output_type": "stream",
     "text": [
      "100%|██████████| 97/97 [00:08<00:00, 11.62it/s]\n",
      "  0%|          | 0/101 [00:00<?, ?it/s]"
     ]
    },
    {
     "name": "stdout",
     "output_type": "stream",
     "text": [
      "initial_potential =  32810.09485889928\n",
      "final_potential =  32911.391551400986\n",
      "energy_change =  0.42857291184191126\n",
      "p accept =  0.6514380912714469\n",
      "current step size = 0.0013027354983038138\n",
      "current acceptance ratio = 0.7833125778331258\n",
      "currently working on step 804\n"
     ]
    },
    {
     "name": "stderr",
     "output_type": "stream",
     "text": [
      "100%|██████████| 101/101 [00:08<00:00, 11.25it/s]\n",
      "  0%|          | 0/98 [00:00<?, ?it/s]"
     ]
    },
    {
     "name": "stdout",
     "output_type": "stream",
     "text": [
      "initial_potential =  32911.391551400986\n",
      "final_potential =  32771.593125768704\n",
      "energy_change =  -0.3232753316697199\n",
      "p accept =  1.3816457093609826\n",
      "current step size = 0.0013027354983038138\n",
      "current acceptance ratio = 0.7835820895522388\n",
      "currently working on step 805\n"
     ]
    },
    {
     "name": "stderr",
     "output_type": "stream",
     "text": [
      "100%|██████████| 98/98 [00:08<00:00, 11.42it/s]\n",
      "  0%|          | 0/97 [00:00<?, ?it/s]"
     ]
    },
    {
     "name": "stdout",
     "output_type": "stream",
     "text": [
      "initial_potential =  32771.593125768704\n",
      "final_potential =  32933.53351964325\n",
      "energy_change =  0.12431753650889732\n",
      "p accept =  0.8830993800626781\n",
      "current step size = 0.0013027354983038138\n",
      "current acceptance ratio = 0.7838509316770186\n",
      "currently working on step 806\n"
     ]
    },
    {
     "name": "stderr",
     "output_type": "stream",
     "text": [
      "100%|██████████| 97/97 [00:08<00:00, 11.61it/s]\n",
      "  0%|          | 0/97 [00:00<?, ?it/s]"
     ]
    },
    {
     "name": "stdout",
     "output_type": "stream",
     "text": [
      "initial_potential =  32933.53351964325\n",
      "final_potential =  32871.13799279774\n",
      "energy_change =  -0.027022393769584596\n",
      "p accept =  1.0273908096589477\n",
      "current step size = 0.0013027354983038138\n",
      "current acceptance ratio = 0.7841191066997518\n",
      "currently working on step 807\n"
     ]
    },
    {
     "name": "stderr",
     "output_type": "stream",
     "text": [
      "100%|██████████| 97/97 [00:08<00:00, 11.41it/s]\n",
      "  0%|          | 0/98 [00:00<?, ?it/s]"
     ]
    },
    {
     "name": "stdout",
     "output_type": "stream",
     "text": [
      "initial_potential =  32871.13799279774\n",
      "final_potential =  32735.326082264313\n",
      "energy_change =  -0.32364622193563264\n",
      "p accept =  1.3821582433465824\n",
      "current step size = 0.0013027354983038138\n",
      "current acceptance ratio = 0.7843866171003717\n",
      "currently working on step 808\n"
     ]
    },
    {
     "name": "stderr",
     "output_type": "stream",
     "text": [
      "100%|██████████| 98/98 [00:08<00:00, 11.91it/s]\n",
      "  0%|          | 0/100 [00:00<?, ?it/s]"
     ]
    },
    {
     "name": "stdout",
     "output_type": "stream",
     "text": [
      "initial_potential =  32735.326082264313\n",
      "final_potential =  32491.924148173253\n",
      "energy_change =  -1.1174555486650206\n",
      "p accept =  3.0570657438040123\n",
      "current step size = 0.0013027354983038138\n",
      "current acceptance ratio = 0.7846534653465347\n",
      "currently working on step 809\n"
     ]
    },
    {
     "name": "stderr",
     "output_type": "stream",
     "text": [
      "100%|██████████| 100/100 [00:08<00:00, 12.20it/s]\n",
      "  0%|          | 0/99 [00:00<?, ?it/s]"
     ]
    },
    {
     "name": "stdout",
     "output_type": "stream",
     "text": [
      "initial_potential =  32491.924148173253\n",
      "final_potential =  32414.431423128164\n",
      "energy_change =  -0.634370566214784\n",
      "p accept =  1.8858347596977534\n",
      "current step size = 0.0013027354983038138\n",
      "current acceptance ratio = 0.7849196538936959\n",
      "currently working on step 810\n"
     ]
    },
    {
     "name": "stderr",
     "output_type": "stream",
     "text": [
      "100%|██████████| 99/99 [00:08<00:00, 11.88it/s]\n",
      "  0%|          | 0/100 [00:00<?, ?it/s]"
     ]
    },
    {
     "name": "stdout",
     "output_type": "stream",
     "text": [
      "initial_potential =  32414.431423128164\n",
      "final_potential =  32774.3844873159\n",
      "energy_change =  0.904341126588406\n",
      "p accept =  0.40480851482296026\n",
      "current step size = 0.0013027354983038138\n",
      "current acceptance ratio = 0.7851851851851852\n",
      "currently working on step 811\n"
     ]
    },
    {
     "name": "stderr",
     "output_type": "stream",
     "text": [
      "100%|██████████| 100/100 [00:08<00:00, 11.89it/s]\n",
      "  0%|          | 0/100 [00:00<?, ?it/s]"
     ]
    },
    {
     "name": "stdout",
     "output_type": "stream",
     "text": [
      "initial_potential =  32774.3844873159\n",
      "final_potential =  32865.76021995449\n",
      "energy_change =  0.3028115085180616\n",
      "p accept =  0.7387383291303982\n",
      "current step size = 0.0013027354983038138\n",
      "current acceptance ratio = 0.7854500616522812\n",
      "currently working on step 812\n"
     ]
    },
    {
     "name": "stderr",
     "output_type": "stream",
     "text": [
      "100%|██████████| 100/100 [00:08<00:00, 11.85it/s]\n",
      "  0%|          | 0/97 [00:00<?, ?it/s]"
     ]
    },
    {
     "name": "stdout",
     "output_type": "stream",
     "text": [
      "initial_potential =  32865.76021995449\n",
      "final_potential =  32760.507479895074\n",
      "energy_change =  0.3757036517490633\n",
      "p accept =  0.6868058365952588\n",
      "current step size = 0.0013027354983038138\n",
      "current acceptance ratio = 0.7857142857142857\n",
      "currently working on step 813\n"
     ]
    },
    {
     "name": "stderr",
     "output_type": "stream",
     "text": [
      "100%|██████████| 97/97 [00:08<00:00, 11.77it/s]\n",
      "  0%|          | 0/99 [00:00<?, ?it/s]"
     ]
    },
    {
     "name": "stdout",
     "output_type": "stream",
     "text": [
      "initial_potential =  32760.507479895074\n",
      "final_potential =  32952.16927473093\n",
      "energy_change =  0.41921833061496727\n",
      "p accept =  0.6575606139810632\n",
      "current step size = 0.0013027354983038138\n",
      "current acceptance ratio = 0.7859778597785978\n",
      "currently working on step 814\n"
     ]
    },
    {
     "name": "stderr",
     "output_type": "stream",
     "text": [
      "100%|██████████| 99/99 [00:08<00:00, 12.10it/s]\n",
      "  0%|          | 0/100 [00:00<?, ?it/s]"
     ]
    },
    {
     "name": "stdout",
     "output_type": "stream",
     "text": [
      "initial_potential =  32952.16927473093\n",
      "final_potential =  32935.85422117109\n",
      "energy_change =  -0.11102162206952926\n",
      "p accept =  1.1174190675060267\n",
      "current step size = 0.0013027354983038138\n",
      "current acceptance ratio = 0.7862407862407862\n",
      "currently working on step 815\n"
     ]
    },
    {
     "name": "stderr",
     "output_type": "stream",
     "text": [
      "100%|██████████| 100/100 [00:08<00:00, 11.96it/s]\n",
      "  0%|          | 0/100 [00:00<?, ?it/s]"
     ]
    },
    {
     "name": "stdout",
     "output_type": "stream",
     "text": [
      "initial_potential =  32935.85422117109\n",
      "final_potential =  32797.217320317024\n",
      "energy_change =  -0.582940995314857\n",
      "p accept =  1.791298893112969\n",
      "current step size = 0.0013027354983038138\n",
      "current acceptance ratio = 0.7865030674846626\n",
      "currently working on step 816\n"
     ]
    },
    {
     "name": "stderr",
     "output_type": "stream",
     "text": [
      "100%|██████████| 100/100 [00:08<00:00, 11.84it/s]\n",
      "  0%|          | 0/98 [00:00<?, ?it/s]"
     ]
    },
    {
     "name": "stdout",
     "output_type": "stream",
     "text": [
      "initial_potential =  32797.217320317024\n",
      "final_potential =  32853.78465951367\n",
      "energy_change =  0.44465946132550016\n",
      "p accept =  0.6410425386431869\n",
      "current step size = 0.0013027354983038138\n",
      "current acceptance ratio = 0.7867647058823529\n",
      "currently working on step 817\n"
     ]
    },
    {
     "name": "stderr",
     "output_type": "stream",
     "text": [
      "100%|██████████| 98/98 [00:08<00:00, 11.85it/s]\n",
      "  0%|          | 0/100 [00:00<?, ?it/s]"
     ]
    },
    {
     "name": "stdout",
     "output_type": "stream",
     "text": [
      "initial_potential =  32853.78465951367\n",
      "final_potential =  33008.48864918916\n",
      "energy_change =  0.32515244188834913\n",
      "p accept =  0.722417218602709\n",
      "current step size = 0.0013027354983038138\n",
      "current acceptance ratio = 0.7858017135862914\n",
      "currently working on step 818\n"
     ]
    },
    {
     "name": "stderr",
     "output_type": "stream",
     "text": [
      "100%|██████████| 100/100 [00:08<00:00, 12.25it/s]\n",
      "  0%|          | 0/99 [00:00<?, ?it/s]"
     ]
    },
    {
     "name": "stdout",
     "output_type": "stream",
     "text": [
      "initial_potential =  32853.78465951367\n",
      "final_potential =  33156.99767528385\n",
      "energy_change =  1.1605617202003486\n",
      "p accept =  0.3133101388100964\n",
      "current step size = 0.0013027354983038138\n",
      "current acceptance ratio = 0.784841075794621\n",
      "currently working on step 819\n"
     ]
    },
    {
     "name": "stderr",
     "output_type": "stream",
     "text": [
      "100%|██████████| 99/99 [00:08<00:00, 11.93it/s]\n",
      "  0%|          | 0/101 [00:00<?, ?it/s]"
     ]
    },
    {
     "name": "stdout",
     "output_type": "stream",
     "text": [
      "initial_potential =  32853.78465951367\n",
      "final_potential =  32935.26109993771\n",
      "energy_change =  0.15513585178996436\n",
      "p accept =  0.8562988398513165\n",
      "current step size = 0.0013027354983038138\n",
      "current acceptance ratio = 0.7851037851037851\n",
      "currently working on step 820\n"
     ]
    },
    {
     "name": "stderr",
     "output_type": "stream",
     "text": [
      "100%|██████████| 101/101 [00:08<00:00, 11.89it/s]\n",
      "  0%|          | 0/101 [00:00<?, ?it/s]"
     ]
    },
    {
     "name": "stdout",
     "output_type": "stream",
     "text": [
      "initial_potential =  32935.26109993771\n",
      "final_potential =  32786.729701249395\n",
      "energy_change =  -0.2624051217135275\n",
      "p accept =  1.3000531155049166\n",
      "current step size = 0.0013027354983038138\n",
      "current acceptance ratio = 0.7853658536585366\n",
      "currently working on step 821\n"
     ]
    },
    {
     "name": "stderr",
     "output_type": "stream",
     "text": [
      "100%|██████████| 101/101 [00:08<00:00, 12.06it/s]\n",
      "  0%|          | 0/100 [00:00<?, ?it/s]"
     ]
    },
    {
     "name": "stdout",
     "output_type": "stream",
     "text": [
      "initial_potential =  32786.729701249395\n",
      "final_potential =  32541.68384376602\n",
      "energy_change =  -0.8339991863467731\n",
      "p accept =  2.3025085128174663\n",
      "current step size = 0.0013027354983038138\n",
      "current acceptance ratio = 0.7856272838002436\n",
      "currently working on step 822\n"
     ]
    },
    {
     "name": "stderr",
     "output_type": "stream",
     "text": [
      "100%|██████████| 100/100 [00:08<00:00, 12.05it/s]\n",
      "  0%|          | 0/100 [00:00<?, ?it/s]"
     ]
    },
    {
     "name": "stdout",
     "output_type": "stream",
     "text": [
      "initial_potential =  32541.68384376602\n",
      "final_potential =  32249.120778234636\n",
      "energy_change =  -1.144201381757739\n",
      "p accept =  3.139932747690205\n",
      "current step size = 0.0013027354983038138\n",
      "current acceptance ratio = 0.7858880778588808\n",
      "currently working on step 823\n"
     ]
    },
    {
     "name": "stderr",
     "output_type": "stream",
     "text": [
      "100%|██████████| 100/100 [00:08<00:00, 11.92it/s]\n",
      "  0%|          | 0/98 [00:00<?, ?it/s]"
     ]
    },
    {
     "name": "stdout",
     "output_type": "stream",
     "text": [
      "initial_potential =  32249.120778234636\n",
      "final_potential =  32372.410446246548\n",
      "energy_change =  0.2980559408897534\n",
      "p accept =  0.7422598159118148\n",
      "current step size = 0.0013027354983038138\n",
      "current acceptance ratio = 0.7849331713244229\n",
      "currently working on step 824\n"
     ]
    },
    {
     "name": "stderr",
     "output_type": "stream",
     "text": [
      "100%|██████████| 98/98 [00:08<00:00, 11.88it/s]\n",
      "  0%|          | 0/100 [00:00<?, ?it/s]"
     ]
    },
    {
     "name": "stdout",
     "output_type": "stream",
     "text": [
      "initial_potential =  32249.120778234636\n",
      "final_potential =  32558.49524741967\n",
      "energy_change =  0.3035917360248277\n",
      "p accept =  0.738162169962552\n",
      "current step size = 0.0013027354983038138\n",
      "current acceptance ratio = 0.7851941747572816\n",
      "currently working on step 825\n"
     ]
    },
    {
     "name": "stderr",
     "output_type": "stream",
     "text": [
      "100%|██████████| 100/100 [00:08<00:00, 12.28it/s]\n",
      "  0%|          | 0/97 [00:00<?, ?it/s]"
     ]
    },
    {
     "name": "stdout",
     "output_type": "stream",
     "text": [
      "initial_potential =  32558.49524741967\n",
      "final_potential =  32626.667251215604\n",
      "energy_change =  0.36788787627301645\n",
      "p accept =  0.6921947887973685\n",
      "current step size = 0.0013027354983038138\n",
      "current acceptance ratio = 0.7854545454545454\n",
      "currently working on step 826\n"
     ]
    },
    {
     "name": "stderr",
     "output_type": "stream",
     "text": [
      "100%|██████████| 97/97 [00:08<00:00, 11.95it/s]\n",
      "  0%|          | 0/99 [00:00<?, ?it/s]"
     ]
    },
    {
     "name": "stdout",
     "output_type": "stream",
     "text": [
      "initial_potential =  32626.667251215604\n",
      "final_potential =  32500.53955620558\n",
      "energy_change =  -0.2515537739818683\n",
      "p accept =  1.2860220527311241\n",
      "current step size = 0.0013027354983038138\n",
      "current acceptance ratio = 0.7857142857142857\n",
      "currently working on step 827\n"
     ]
    },
    {
     "name": "stderr",
     "output_type": "stream",
     "text": [
      "100%|██████████| 99/99 [00:08<00:00, 11.78it/s]\n",
      "  0%|          | 0/100 [00:00<?, ?it/s]"
     ]
    },
    {
     "name": "stdout",
     "output_type": "stream",
     "text": [
      "initial_potential =  32500.53955620558\n",
      "final_potential =  32565.29749618819\n",
      "energy_change =  0.3971831783273956\n",
      "p accept =  0.6722108798895507\n",
      "current step size = 0.0013027354983038138\n",
      "current acceptance ratio = 0.7847642079806529\n",
      "currently working on step 828\n"
     ]
    },
    {
     "name": "stderr",
     "output_type": "stream",
     "text": [
      "100%|██████████| 100/100 [00:08<00:00, 11.95it/s]\n",
      "  0%|          | 0/100 [00:00<?, ?it/s]"
     ]
    },
    {
     "name": "stdout",
     "output_type": "stream",
     "text": [
      "initial_potential =  32500.53955620558\n",
      "final_potential =  32797.24611257821\n",
      "energy_change =  0.9199144591257209\n",
      "p accept =  0.39855313220977695\n",
      "current step size = 0.0013027354983038138\n",
      "current acceptance ratio = 0.785024154589372\n",
      "currently working on step 829\n"
     ]
    },
    {
     "name": "stderr",
     "output_type": "stream",
     "text": [
      "100%|██████████| 100/100 [00:08<00:00, 12.30it/s]\n",
      "  0%|          | 0/100 [00:00<?, ?it/s]"
     ]
    },
    {
     "name": "stdout",
     "output_type": "stream",
     "text": [
      "initial_potential =  32797.24611257821\n",
      "final_potential =  32645.018298722505\n",
      "energy_change =  -0.08323864277917892\n",
      "p accept =  1.0868011348470676\n",
      "current step size = 0.0013027354983038138\n",
      "current acceptance ratio = 0.7852834740651388\n",
      "currently working on step 830\n"
     ]
    },
    {
     "name": "stderr",
     "output_type": "stream",
     "text": [
      "100%|██████████| 100/100 [00:08<00:00, 11.95it/s]\n",
      "  0%|          | 0/101 [00:00<?, ?it/s]"
     ]
    },
    {
     "name": "stdout",
     "output_type": "stream",
     "text": [
      "initial_potential =  32645.018298722505\n",
      "final_potential =  32764.107783764783\n",
      "energy_change =  0.6054442534805275\n",
      "p accept =  0.5458318850540085\n",
      "current step size = 0.0013027354983038138\n",
      "current acceptance ratio = 0.7855421686746988\n",
      "currently working on step 831\n"
     ]
    },
    {
     "name": "stderr",
     "output_type": "stream",
     "text": [
      "100%|██████████| 101/101 [00:08<00:00, 11.95it/s]\n",
      "  0%|          | 0/101 [00:00<?, ?it/s]"
     ]
    },
    {
     "name": "stdout",
     "output_type": "stream",
     "text": [
      "initial_potential =  32764.107783764783\n",
      "final_potential =  33025.077512207885\n",
      "energy_change =  0.46753563184756786\n",
      "p accept =  0.6265444033817039\n",
      "current step size = 0.0013027354983038138\n",
      "current acceptance ratio = 0.7858002406738869\n",
      "currently working on step 832\n"
     ]
    },
    {
     "name": "stderr",
     "output_type": "stream",
     "text": [
      "100%|██████████| 101/101 [00:08<00:00, 11.93it/s]\n",
      "  0%|          | 0/100 [00:00<?, ?it/s]"
     ]
    },
    {
     "name": "stdout",
     "output_type": "stream",
     "text": [
      "initial_potential =  33025.077512207885\n",
      "final_potential =  33164.39405685756\n",
      "energy_change =  0.586895578642725\n",
      "p accept =  0.5560508241081704\n",
      "current step size = 0.0013027354983038138\n",
      "current acceptance ratio = 0.7848557692307693\n",
      "currently working on step 833\n"
     ]
    },
    {
     "name": "stderr",
     "output_type": "stream",
     "text": [
      "100%|██████████| 100/100 [00:08<00:00, 12.04it/s]\n",
      "  0%|          | 0/97 [00:00<?, ?it/s]"
     ]
    },
    {
     "name": "stdout",
     "output_type": "stream",
     "text": [
      "initial_potential =  33025.077512207885\n",
      "final_potential =  33116.988952168875\n",
      "energy_change =  0.19856875664845575\n",
      "p accept =  0.8199033949928262\n",
      "current step size = 0.0013027354983038138\n",
      "current acceptance ratio = 0.7851140456182473\n",
      "currently working on step 834\n"
     ]
    },
    {
     "name": "stderr",
     "output_type": "stream",
     "text": [
      "100%|██████████| 97/97 [00:07<00:00, 12.27it/s]\n",
      "  0%|          | 0/98 [00:00<?, ?it/s]"
     ]
    },
    {
     "name": "stdout",
     "output_type": "stream",
     "text": [
      "initial_potential =  33116.988952168875\n",
      "final_potential =  33031.49846118968\n",
      "energy_change =  -0.1289642950432608\n",
      "p accept =  1.1376495037142456\n",
      "current step size = 0.0013027354983038138\n",
      "current acceptance ratio = 0.7853717026378897\n",
      "currently working on step 835\n"
     ]
    },
    {
     "name": "stderr",
     "output_type": "stream",
     "text": [
      "100%|██████████| 98/98 [00:08<00:00, 11.96it/s]\n",
      "  0%|          | 0/100 [00:00<?, ?it/s]"
     ]
    },
    {
     "name": "stdout",
     "output_type": "stream",
     "text": [
      "initial_potential =  33031.49846118968\n",
      "final_potential =  33111.34966587848\n",
      "energy_change =  0.12626528528926428\n",
      "p accept =  0.8813809983534131\n",
      "current step size = 0.0013027354983038138\n",
      "current acceptance ratio = 0.7856287425149701\n",
      "currently working on step 836\n"
     ]
    },
    {
     "name": "stderr",
     "output_type": "stream",
     "text": [
      "100%|██████████| 100/100 [00:08<00:00, 11.95it/s]\n",
      "  0%|          | 0/98 [00:00<?, ?it/s]"
     ]
    },
    {
     "name": "stdout",
     "output_type": "stream",
     "text": [
      "initial_potential =  33111.34966587848\n",
      "final_potential =  33295.67387285749\n",
      "energy_change =  0.42480567572056316\n",
      "p accept =  0.6538968408168628\n",
      "current step size = 0.0013027354983038138\n",
      "current acceptance ratio = 0.7858851674641149\n",
      "currently working on step 837\n"
     ]
    },
    {
     "name": "stderr",
     "output_type": "stream",
     "text": [
      "100%|██████████| 98/98 [00:08<00:00, 11.94it/s]\n",
      "  0%|          | 0/98 [00:00<?, ?it/s]"
     ]
    },
    {
     "name": "stdout",
     "output_type": "stream",
     "text": [
      "initial_potential =  33295.67387285749\n",
      "final_potential =  33067.92654363667\n",
      "energy_change =  -0.16246413916815072\n",
      "p accept =  1.17640613078981\n",
      "current step size = 0.0013027354983038138\n",
      "current acceptance ratio = 0.7861409796893668\n",
      "currently working on step 838\n"
     ]
    },
    {
     "name": "stderr",
     "output_type": "stream",
     "text": [
      "100%|██████████| 98/98 [00:08<00:00, 12.18it/s]\n",
      "  0%|          | 0/100 [00:00<?, ?it/s]"
     ]
    },
    {
     "name": "stdout",
     "output_type": "stream",
     "text": [
      "initial_potential =  33067.92654363667\n",
      "final_potential =  32993.98604758314\n",
      "energy_change =  -0.6562116531422362\n",
      "p accept =  1.927476536081795\n",
      "current step size = 0.0013027354983038138\n",
      "current acceptance ratio = 0.7863961813842482\n",
      "currently working on step 839\n"
     ]
    },
    {
     "name": "stderr",
     "output_type": "stream",
     "text": [
      "100%|██████████| 100/100 [00:08<00:00, 12.00it/s]\n",
      "  0%|          | 0/98 [00:00<?, ?it/s]"
     ]
    },
    {
     "name": "stdout",
     "output_type": "stream",
     "text": [
      "initial_potential =  32993.98604758314\n",
      "final_potential =  33090.47912354227\n",
      "energy_change =  0.40093874257581774\n",
      "p accept =  0.6696910833322245\n",
      "current step size = 0.0013027354983038138\n",
      "current acceptance ratio = 0.7866507747318237\n",
      "currently working on step 840\n"
     ]
    },
    {
     "name": "stderr",
     "output_type": "stream",
     "text": [
      "100%|██████████| 98/98 [00:08<00:00, 11.99it/s]\n",
      "  0%|          | 0/101 [00:00<?, ?it/s]"
     ]
    },
    {
     "name": "stdout",
     "output_type": "stream",
     "text": [
      "initial_potential =  33090.47912354227\n",
      "final_potential =  33105.312498610394\n",
      "energy_change =  0.2681512818817282\n",
      "p accept =  0.764792073166868\n",
      "current step size = 0.0013027354983038138\n",
      "current acceptance ratio = 0.7869047619047619\n",
      "currently working on step 841\n"
     ]
    },
    {
     "name": "stderr",
     "output_type": "stream",
     "text": [
      "100%|██████████| 101/101 [00:08<00:00, 11.89it/s]\n",
      "  0%|          | 0/101 [00:00<?, ?it/s]"
     ]
    },
    {
     "name": "stdout",
     "output_type": "stream",
     "text": [
      "initial_potential =  33105.312498610394\n",
      "final_potential =  33050.69147407138\n",
      "energy_change =  -0.2872071828751359\n",
      "p accept =  1.3327002975540834\n",
      "current step size = 0.0013027354983038138\n",
      "current acceptance ratio = 0.7871581450653984\n",
      "currently working on step 842\n"
     ]
    },
    {
     "name": "stderr",
     "output_type": "stream",
     "text": [
      "100%|██████████| 101/101 [00:08<00:00, 12.13it/s]\n",
      "  0%|          | 0/99 [00:00<?, ?it/s]"
     ]
    },
    {
     "name": "stdout",
     "output_type": "stream",
     "text": [
      "initial_potential =  33050.69147407138\n",
      "final_potential =  32854.74962913823\n",
      "energy_change =  -0.5387154641357483\n",
      "p accept =  1.7138040049545369\n",
      "current step size = 0.0013027354983038138\n",
      "current acceptance ratio = 0.7874109263657957\n",
      "currently working on step 843\n"
     ]
    },
    {
     "name": "stderr",
     "output_type": "stream",
     "text": [
      "100%|██████████| 99/99 [00:08<00:00, 12.00it/s]\n",
      "  0%|          | 0/100 [00:00<?, ?it/s]"
     ]
    },
    {
     "name": "stdout",
     "output_type": "stream",
     "text": [
      "initial_potential =  32854.74962913823\n",
      "final_potential =  32895.86943076467\n",
      "energy_change =  -0.33885627186100464\n",
      "p accept =  1.4033416310360682\n",
      "current step size = 0.0013027354983038138\n",
      "current acceptance ratio = 0.7876631079478055\n",
      "currently working on step 844\n"
     ]
    },
    {
     "name": "stderr",
     "output_type": "stream",
     "text": [
      "100%|██████████| 100/100 [00:08<00:00, 12.01it/s]\n",
      "  0%|          | 0/98 [00:00<?, ?it/s]"
     ]
    },
    {
     "name": "stdout",
     "output_type": "stream",
     "text": [
      "initial_potential =  32895.86943076467\n",
      "final_potential =  32817.351102641536\n",
      "energy_change =  -0.1792639551422326\n",
      "p accept =  1.196336481661958\n",
      "current step size = 0.0013027354983038138\n",
      "current acceptance ratio = 0.7879146919431279\n",
      "currently working on step 845\n"
     ]
    },
    {
     "name": "stderr",
     "output_type": "stream",
     "text": [
      "100%|██████████| 98/98 [00:08<00:00, 11.99it/s]\n",
      "  0%|          | 0/97 [00:00<?, ?it/s]"
     ]
    },
    {
     "name": "stdout",
     "output_type": "stream",
     "text": [
      "initial_potential =  32817.351102641536\n",
      "final_potential =  32840.43042598275\n",
      "energy_change =  0.07558498266735114\n",
      "p accept =  0.9272009311774546\n",
      "current step size = 0.0013027354983038138\n",
      "current acceptance ratio = 0.7881656804733728\n",
      "currently working on step 846\n"
     ]
    },
    {
     "name": "stderr",
     "output_type": "stream",
     "text": [
      "100%|██████████| 97/97 [00:07<00:00, 12.32it/s]\n",
      "  0%|          | 0/98 [00:00<?, ?it/s]"
     ]
    },
    {
     "name": "stdout",
     "output_type": "stream",
     "text": [
      "initial_potential =  32840.43042598275\n",
      "final_potential =  32789.6462898665\n",
      "energy_change =  -0.0331528471870115\n",
      "p accept =  1.0337085266075174\n",
      "current step size = 0.0013027354983038138\n",
      "current acceptance ratio = 0.7884160756501182\n",
      "currently working on step 847\n"
     ]
    },
    {
     "name": "stderr",
     "output_type": "stream",
     "text": [
      "100%|██████████| 98/98 [00:08<00:00, 12.04it/s]\n",
      "  0%|          | 0/101 [00:00<?, ?it/s]"
     ]
    },
    {
     "name": "stdout",
     "output_type": "stream",
     "text": [
      "initial_potential =  32789.6462898665\n",
      "final_potential =  32719.718803242788\n",
      "energy_change =  -0.14055206402554177\n",
      "p accept =  1.15090899896053\n",
      "current step size = 0.0013027354983038138\n",
      "current acceptance ratio = 0.7886658795749705\n",
      "currently working on step 848\n"
     ]
    },
    {
     "name": "stderr",
     "output_type": "stream",
     "text": [
      "100%|██████████| 101/101 [00:08<00:00, 12.01it/s]\n",
      "  0%|          | 0/101 [00:00<?, ?it/s]"
     ]
    },
    {
     "name": "stdout",
     "output_type": "stream",
     "text": [
      "initial_potential =  32719.718803242788\n",
      "final_potential =  33017.995537966024\n",
      "energy_change =  1.253221112594474\n",
      "p accept =  0.2855834173808218\n",
      "current step size = 0.0013027354983038138\n",
      "current acceptance ratio = 0.7889150943396226\n",
      "currently working on step 849\n"
     ]
    },
    {
     "name": "stderr",
     "output_type": "stream",
     "text": [
      "100%|██████████| 101/101 [00:08<00:00, 11.93it/s]\n",
      "  0%|          | 0/98 [00:00<?, ?it/s]"
     ]
    },
    {
     "name": "stdout",
     "output_type": "stream",
     "text": [
      "initial_potential =  33017.995537966024\n",
      "final_potential =  32857.799818382635\n",
      "energy_change =  -0.581801545311464\n",
      "p accept =  1.7892589600047388\n",
      "current step size = 0.0013027354983038138\n",
      "current acceptance ratio = 0.7891637220259128\n",
      "currently working on step 850\n"
     ]
    },
    {
     "name": "stderr",
     "output_type": "stream",
     "text": [
      "100%|██████████| 98/98 [00:08<00:00, 11.96it/s]\n",
      "  0%|          | 0/99 [00:00<?, ?it/s]"
     ]
    },
    {
     "name": "stdout",
     "output_type": "stream",
     "text": [
      "initial_potential =  32857.799818382635\n",
      "final_potential =  32872.42197337244\n",
      "energy_change =  -0.0028902397316414863\n",
      "p accept =  1.0028944205013333\n",
      "current step size = 0.0013027354983038138\n",
      "current acceptance ratio = 0.7894117647058824\n",
      "currently working on step 851\n"
     ]
    },
    {
     "name": "stderr",
     "output_type": "stream",
     "text": [
      "100%|██████████| 99/99 [00:08<00:00, 12.33it/s]\n",
      "  0%|          | 0/99 [00:00<?, ?it/s]"
     ]
    },
    {
     "name": "stdout",
     "output_type": "stream",
     "text": [
      "initial_potential =  32872.42197337244\n",
      "final_potential =  32965.79979677125\n",
      "energy_change =  0.05537647719029337\n",
      "p accept =  0.9461288849509829\n",
      "current step size = 0.0013027354983038138\n",
      "current acceptance ratio = 0.7896592244418331\n",
      "currently working on step 852\n"
     ]
    },
    {
     "name": "stderr",
     "output_type": "stream",
     "text": [
      "100%|██████████| 99/99 [00:08<00:00, 11.97it/s]\n",
      "  0%|          | 0/101 [00:00<?, ?it/s]"
     ]
    },
    {
     "name": "stdout",
     "output_type": "stream",
     "text": [
      "initial_potential =  32965.79979677125\n",
      "final_potential =  33044.95865045648\n",
      "energy_change =  0.5419310682045761\n",
      "p accept =  0.5816240115947295\n",
      "current step size = 0.0013027354983038138\n",
      "current acceptance ratio = 0.789906103286385\n",
      "currently working on step 853\n"
     ]
    },
    {
     "name": "stderr",
     "output_type": "stream",
     "text": [
      "100%|██████████| 101/101 [00:08<00:00, 11.97it/s]\n",
      "  0%|          | 0/98 [00:00<?, ?it/s]"
     ]
    },
    {
     "name": "stdout",
     "output_type": "stream",
     "text": [
      "initial_potential =  33044.95865045648\n",
      "final_potential =  32914.16666985232\n",
      "energy_change =  -0.26159880636259913\n",
      "p accept =  1.2990052852184555\n",
      "current step size = 0.0013027354983038138\n",
      "current acceptance ratio = 0.7901524032825322\n",
      "currently working on step 854\n"
     ]
    },
    {
     "name": "stderr",
     "output_type": "stream",
     "text": [
      "100%|██████████| 98/98 [00:08<00:00, 12.01it/s]\n",
      "  0%|          | 0/100 [00:00<?, ?it/s]"
     ]
    },
    {
     "name": "stdout",
     "output_type": "stream",
     "text": [
      "initial_potential =  32914.16666985232\n",
      "final_potential =  33044.92199628964\n",
      "energy_change =  0.11809828274999745\n",
      "p accept =  0.8886087134146932\n",
      "current step size = 0.0013027354983038138\n",
      "current acceptance ratio = 0.7903981264637002\n",
      "currently working on step 855\n"
     ]
    },
    {
     "name": "stderr",
     "output_type": "stream",
     "text": [
      "100%|██████████| 100/100 [00:08<00:00, 12.35it/s]\n",
      "  0%|          | 0/98 [00:00<?, ?it/s]"
     ]
    },
    {
     "name": "stdout",
     "output_type": "stream",
     "text": [
      "initial_potential =  33044.92199628964\n",
      "final_potential =  33004.70016353103\n",
      "energy_change =  0.17272216195124201\n",
      "p accept =  0.8413713473466562\n",
      "current step size = 0.0013027354983038138\n",
      "current acceptance ratio = 0.7906432748538011\n",
      "currently working on step 856\n"
     ]
    },
    {
     "name": "stderr",
     "output_type": "stream",
     "text": [
      "100%|██████████| 98/98 [00:08<00:00, 11.85it/s]\n",
      "  0%|          | 0/100 [00:00<?, ?it/s]"
     ]
    },
    {
     "name": "stdout",
     "output_type": "stream",
     "text": [
      "initial_potential =  33004.70016353103\n",
      "final_potential =  32920.15901628771\n",
      "energy_change =  -0.6198417155828793\n",
      "p accept =  1.8586338257902917\n",
      "current step size = 0.0013027354983038138\n",
      "current acceptance ratio = 0.7908878504672897\n",
      "currently working on step 857\n"
     ]
    },
    {
     "name": "stderr",
     "output_type": "stream",
     "text": [
      "100%|██████████| 100/100 [00:08<00:00, 11.91it/s]\n",
      "  0%|          | 0/100 [00:00<?, ?it/s]"
     ]
    },
    {
     "name": "stdout",
     "output_type": "stream",
     "text": [
      "initial_potential =  32920.15901628771\n",
      "final_potential =  32782.536172013046\n",
      "energy_change =  -0.5511343197140377\n",
      "p accept =  1.7352201964287615\n",
      "current step size = 0.0013027354983038138\n",
      "current acceptance ratio = 0.7911318553092183\n",
      "currently working on step 858\n"
     ]
    },
    {
     "name": "stderr",
     "output_type": "stream",
     "text": [
      "100%|██████████| 100/100 [00:08<00:00, 12.00it/s]\n",
      "  0%|          | 0/101 [00:00<?, ?it/s]"
     ]
    },
    {
     "name": "stdout",
     "output_type": "stream",
     "text": [
      "initial_potential =  32782.536172013046\n",
      "final_potential =  32896.84885294696\n",
      "energy_change =  0.9416637763206381\n",
      "p accept =  0.3899784583746917\n",
      "current step size = 0.0013027354983038138\n",
      "current acceptance ratio = 0.7902097902097902\n",
      "currently working on step 859\n"
     ]
    },
    {
     "name": "stderr",
     "output_type": "stream",
     "text": [
      "100%|██████████| 101/101 [00:08<00:00, 12.14it/s]\n",
      "  0%|          | 0/101 [00:00<?, ?it/s]"
     ]
    },
    {
     "name": "stdout",
     "output_type": "stream",
     "text": [
      "initial_potential =  32782.536172013046\n",
      "final_potential =  32834.77426321159\n",
      "energy_change =  0.25995136178971734\n",
      "p accept =  0.771089089284779\n",
      "current step size = 0.0013027354983038138\n",
      "current acceptance ratio = 0.7904540162980209\n",
      "currently working on step 860\n"
     ]
    },
    {
     "name": "stderr",
     "output_type": "stream",
     "text": [
      "100%|██████████| 101/101 [00:08<00:00, 12.02it/s]\n",
      "  0%|          | 0/99 [00:00<?, ?it/s]"
     ]
    },
    {
     "name": "stdout",
     "output_type": "stream",
     "text": [
      "initial_potential =  32834.77426321159\n",
      "final_potential =  33117.302928621895\n",
      "energy_change =  0.7222978883801261\n",
      "p accept =  0.48563503772001\n",
      "current step size = 0.0013027354983038138\n",
      "current acceptance ratio = 0.7895348837209303\n",
      "currently working on step 861\n"
     ]
    },
    {
     "name": "stderr",
     "output_type": "stream",
     "text": [
      "100%|██████████| 99/99 [00:08<00:00, 12.00it/s]\n",
      "  0%|          | 0/101 [00:00<?, ?it/s]"
     ]
    },
    {
     "name": "stdout",
     "output_type": "stream",
     "text": [
      "initial_potential =  32834.77426321159\n",
      "final_potential =  32870.837828040065\n",
      "energy_change =  -0.0347917096078163\n",
      "p accept =  1.0354040216278868\n",
      "current step size = 0.0013027354983038138\n",
      "current acceptance ratio = 0.7897793263646922\n",
      "currently working on step 862\n"
     ]
    },
    {
     "name": "stderr",
     "output_type": "stream",
     "text": [
      "100%|██████████| 101/101 [00:08<00:00, 12.01it/s]\n",
      "  0%|          | 0/100 [00:00<?, ?it/s]"
     ]
    },
    {
     "name": "stdout",
     "output_type": "stream",
     "text": [
      "initial_potential =  32870.837828040065\n",
      "final_potential =  33291.46731337417\n",
      "energy_change =  1.3459070565877482\n",
      "p accept =  0.2603034907489302\n",
      "current step size = 0.0013027354983038138\n",
      "current acceptance ratio = 0.7888631090487239\n",
      "currently working on step 863\n"
     ]
    },
    {
     "name": "stderr",
     "output_type": "stream",
     "text": [
      "100%|██████████| 100/100 [00:08<00:00, 12.21it/s]\n",
      "  0%|          | 0/99 [00:00<?, ?it/s]"
     ]
    },
    {
     "name": "stdout",
     "output_type": "stream",
     "text": [
      "initial_potential =  32870.837828040065\n",
      "final_potential =  33165.46608858148\n",
      "energy_change =  0.9894645338936243\n",
      "p accept =  0.37177571102548507\n",
      "current step size = 0.0013027354983038138\n",
      "current acceptance ratio = 0.7879490150637312\n",
      "currently working on step 864\n"
     ]
    },
    {
     "name": "stderr",
     "output_type": "stream",
     "text": [
      "100%|██████████| 99/99 [00:08<00:00, 12.11it/s]\n",
      "  0%|          | 0/100 [00:00<?, ?it/s]"
     ]
    },
    {
     "name": "stdout",
     "output_type": "stream",
     "text": [
      "initial_potential =  32870.837828040065\n",
      "final_potential =  32684.150270023325\n",
      "energy_change =  -0.1787468799011549\n",
      "p accept =  1.195718045590062\n",
      "current step size = 0.0013027354983038138\n",
      "current acceptance ratio = 0.7881944444444444\n",
      "currently working on step 865\n"
     ]
    },
    {
     "name": "stderr",
     "output_type": "stream",
     "text": [
      "100%|██████████| 100/100 [00:08<00:00, 11.99it/s]\n",
      "  0%|          | 0/98 [00:00<?, ?it/s]"
     ]
    },
    {
     "name": "stdout",
     "output_type": "stream",
     "text": [
      "initial_potential =  32684.150270023325\n",
      "final_potential =  32782.10705449599\n",
      "energy_change =  0.052321598792332225\n",
      "p accept =  0.9490236129130654\n",
      "current step size = 0.0013027354983038138\n",
      "current acceptance ratio = 0.7884393063583816\n",
      "currently working on step 866\n"
     ]
    },
    {
     "name": "stderr",
     "output_type": "stream",
     "text": [
      "100%|██████████| 98/98 [00:08<00:00, 12.00it/s]\n",
      "  0%|          | 0/99 [00:00<?, ?it/s]"
     ]
    },
    {
     "name": "stdout",
     "output_type": "stream",
     "text": [
      "initial_potential =  32782.10705449599\n",
      "final_potential =  32945.65654333832\n",
      "energy_change =  0.15641881905321497\n",
      "p accept =  0.8552009409070253\n",
      "current step size = 0.0013027354983038138\n",
      "current acceptance ratio = 0.7875288683602771\n",
      "currently working on step 867\n"
     ]
    },
    {
     "name": "stderr",
     "output_type": "stream",
     "text": [
      "100%|██████████| 99/99 [00:08<00:00, 12.06it/s]\n",
      "  0%|          | 0/98 [00:00<?, ?it/s]"
     ]
    },
    {
     "name": "stdout",
     "output_type": "stream",
     "text": [
      "initial_potential =  32782.10705449599\n",
      "final_potential =  32717.346555974953\n",
      "energy_change =  -0.14855485249427147\n",
      "p accept =  1.1601564335032446\n",
      "current step size = 0.0013027354983038138\n",
      "current acceptance ratio = 0.7877739331026529\n",
      "currently working on step 868\n"
     ]
    },
    {
     "name": "stderr",
     "output_type": "stream",
     "text": [
      "100%|██████████| 98/98 [00:07<00:00, 12.25it/s]\n",
      "  0%|          | 0/99 [00:00<?, ?it/s]"
     ]
    },
    {
     "name": "stdout",
     "output_type": "stream",
     "text": [
      "initial_potential =  32717.346555974953\n",
      "final_potential =  32704.272810827504\n",
      "energy_change =  0.05222523183329031\n",
      "p accept =  0.9491150718394392\n",
      "current step size = 0.0013027354983038138\n",
      "current acceptance ratio = 0.7880184331797235\n",
      "currently working on step 869\n"
     ]
    },
    {
     "name": "stderr",
     "output_type": "stream",
     "text": [
      "100%|██████████| 99/99 [00:08<00:00, 11.98it/s]\n",
      "  0%|          | 0/99 [00:00<?, ?it/s]"
     ]
    },
    {
     "name": "stdout",
     "output_type": "stream",
     "text": [
      "initial_potential =  32704.272810827504\n",
      "final_potential =  32582.35257344252\n",
      "energy_change =  -0.2652456369542051\n",
      "p accept =  1.3037511859193873\n",
      "current step size = 0.0013027354983038138\n",
      "current acceptance ratio = 0.7882623705408516\n",
      "currently working on step 870\n"
     ]
    },
    {
     "name": "stderr",
     "output_type": "stream",
     "text": [
      "100%|██████████| 99/99 [00:08<00:00, 11.89it/s]\n",
      "  0%|          | 0/101 [00:00<?, ?it/s]"
     ]
    },
    {
     "name": "stdout",
     "output_type": "stream",
     "text": [
      "initial_potential =  32582.35257344252\n",
      "final_potential =  32515.57180690146\n",
      "energy_change =  -0.5953499075985746\n",
      "p accept =  1.8136654492667144\n",
      "current step size = 0.0013027354983038138\n",
      "current acceptance ratio = 0.7885057471264367\n",
      "currently working on step 871\n"
     ]
    },
    {
     "name": "stderr",
     "output_type": "stream",
     "text": [
      "100%|██████████| 101/101 [00:08<00:00, 12.01it/s]\n",
      "  0%|          | 0/101 [00:00<?, ?it/s]"
     ]
    },
    {
     "name": "stdout",
     "output_type": "stream",
     "text": [
      "initial_potential =  32515.57180690146\n",
      "final_potential =  32842.25890795114\n",
      "energy_change =  1.4934405176754808\n",
      "p accept =  0.22459858929234994\n",
      "current step size = 0.0013027354983038138\n",
      "current acceptance ratio = 0.7887485648679678\n",
      "currently working on step 872\n"
     ]
    },
    {
     "name": "stderr",
     "output_type": "stream",
     "text": [
      "100%|██████████| 101/101 [00:08<00:00, 12.35it/s]\n",
      "  0%|          | 0/101 [00:00<?, ?it/s]"
     ]
    },
    {
     "name": "stdout",
     "output_type": "stream",
     "text": [
      "initial_potential =  32842.25890795114\n",
      "final_potential =  32938.226301076196\n",
      "energy_change =  0.12877978465985507\n",
      "p accept =  0.8791675504107805\n",
      "current step size = 0.0013027354983038138\n",
      "current acceptance ratio = 0.7889908256880734\n",
      "currently working on step 873\n"
     ]
    },
    {
     "name": "stderr",
     "output_type": "stream",
     "text": [
      "100%|██████████| 101/101 [00:08<00:00, 12.00it/s]\n",
      "  0%|          | 0/98 [00:00<?, ?it/s]"
     ]
    },
    {
     "name": "stdout",
     "output_type": "stream",
     "text": [
      "initial_potential =  32938.226301076196\n",
      "final_potential =  33218.24028923969\n",
      "energy_change =  1.2354752924002241\n",
      "p accept =  0.29069656366057645\n",
      "current step size = 0.0013027354983038138\n",
      "current acceptance ratio = 0.7892325315005727\n",
      "currently working on step 874\n"
     ]
    },
    {
     "name": "stderr",
     "output_type": "stream",
     "text": [
      "100%|██████████| 98/98 [00:08<00:00, 12.02it/s]\n",
      "  0%|          | 0/98 [00:00<?, ?it/s]"
     ]
    },
    {
     "name": "stdout",
     "output_type": "stream",
     "text": [
      "initial_potential =  33218.24028923969\n",
      "final_potential =  32985.399559816695\n",
      "energy_change =  -0.44109714290243573\n",
      "p accept =  1.5544116950718905\n",
      "current step size = 0.0013027354983038138\n",
      "current acceptance ratio = 0.7894736842105263\n",
      "currently working on step 875\n"
     ]
    },
    {
     "name": "stderr",
     "output_type": "stream",
     "text": [
      "100%|██████████| 98/98 [00:08<00:00, 12.02it/s]\n",
      "  0%|          | 0/101 [00:00<?, ?it/s]"
     ]
    },
    {
     "name": "stdout",
     "output_type": "stream",
     "text": [
      "initial_potential =  32985.399559816695\n",
      "final_potential =  33138.89132768422\n",
      "energy_change =  0.5553992377681425\n",
      "p accept =  0.5738431156129528\n",
      "current step size = 0.0013027354983038138\n",
      "current acceptance ratio = 0.7897142857142857\n",
      "currently working on step 876\n"
     ]
    },
    {
     "name": "stderr",
     "output_type": "stream",
     "text": [
      "100%|██████████| 101/101 [00:08<00:00, 11.97it/s]\n",
      "  0%|          | 0/101 [00:00<?, ?it/s]"
     ]
    },
    {
     "name": "stdout",
     "output_type": "stream",
     "text": [
      "initial_potential =  33138.89132768422\n",
      "final_potential =  32917.90248278544\n",
      "energy_change =  -1.0195201968890615\n",
      "p accept =  2.7718644956482676\n",
      "current step size = 0.0013027354983038138\n",
      "current acceptance ratio = 0.7899543378995434\n",
      "currently working on step 877\n"
     ]
    },
    {
     "name": "stderr",
     "output_type": "stream",
     "text": [
      "100%|██████████| 101/101 [00:08<00:00, 12.29it/s]\n",
      "  0%|          | 0/97 [00:00<?, ?it/s]"
     ]
    },
    {
     "name": "stdout",
     "output_type": "stream",
     "text": [
      "initial_potential =  32917.90248278544\n",
      "final_potential =  32673.892506100914\n",
      "energy_change =  -1.157877840072615\n",
      "p accept =  3.183170905500443\n",
      "current step size = 0.0013027354983038138\n",
      "current acceptance ratio = 0.790193842645382\n",
      "currently working on step 878\n"
     ]
    },
    {
     "name": "stderr",
     "output_type": "stream",
     "text": [
      "100%|██████████| 97/97 [00:08<00:00, 12.03it/s]\n",
      "  0%|          | 0/98 [00:00<?, ?it/s]"
     ]
    },
    {
     "name": "stdout",
     "output_type": "stream",
     "text": [
      "initial_potential =  32673.892506100914\n",
      "final_potential =  32778.695546217285\n",
      "energy_change =  -0.2001793503004592\n",
      "p accept =  1.2216218367571463\n",
      "current step size = 0.0013027354983038138\n",
      "current acceptance ratio = 0.7904328018223234\n",
      "currently working on step 879\n"
     ]
    },
    {
     "name": "stderr",
     "output_type": "stream",
     "text": [
      "100%|██████████| 98/98 [00:08<00:00, 11.95it/s]\n",
      "  0%|          | 0/98 [00:00<?, ?it/s]"
     ]
    },
    {
     "name": "stdout",
     "output_type": "stream",
     "text": [
      "initial_potential =  32778.695546217285\n",
      "final_potential =  32808.92407324808\n",
      "energy_change =  0.12297513605153654\n",
      "p accept =  0.8842856491202901\n",
      "current step size = 0.0013027354983038138\n",
      "current acceptance ratio = 0.7906712172923777\n",
      "currently working on step 880\n"
     ]
    },
    {
     "name": "stderr",
     "output_type": "stream",
     "text": [
      "100%|██████████| 98/98 [00:08<00:00, 11.99it/s]\n",
      "  0%|          | 0/98 [00:00<?, ?it/s]"
     ]
    },
    {
     "name": "stdout",
     "output_type": "stream",
     "text": [
      "initial_potential =  32808.92407324808\n",
      "final_potential =  32919.84146270784\n",
      "energy_change =  0.7487631463154685\n",
      "p accept =  0.47295116251607067\n",
      "current step size = 0.0013027354983038138\n",
      "current acceptance ratio = 0.7909090909090909\n",
      "currently working on step 881\n"
     ]
    },
    {
     "name": "stderr",
     "output_type": "stream",
     "text": [
      "100%|██████████| 98/98 [00:07<00:00, 12.29it/s]\n",
      "  0%|          | 0/97 [00:00<?, ?it/s]"
     ]
    },
    {
     "name": "stdout",
     "output_type": "stream",
     "text": [
      "initial_potential =  32919.84146270784\n",
      "final_potential =  32686.254651433264\n",
      "energy_change =  -0.46818499591609\n",
      "p accept =  1.597092831011047\n",
      "current step size = 0.0013027354983038138\n",
      "current acceptance ratio = 0.7911464245175936\n",
      "currently working on step 882\n"
     ]
    },
    {
     "name": "stderr",
     "output_type": "stream",
     "text": [
      "100%|██████████| 97/97 [00:08<00:00, 11.99it/s]\n",
      "  0%|          | 0/97 [00:00<?, ?it/s]"
     ]
    },
    {
     "name": "stdout",
     "output_type": "stream",
     "text": [
      "initial_potential =  32686.254651433264\n",
      "final_potential =  32711.784029598435\n",
      "energy_change =  -0.023701045312918723\n",
      "p accept =  1.023984147267008\n",
      "current step size = 0.0013027354983038138\n",
      "current acceptance ratio = 0.7913832199546486\n",
      "currently working on step 883\n"
     ]
    },
    {
     "name": "stderr",
     "output_type": "stream",
     "text": [
      "100%|██████████| 97/97 [00:08<00:00, 11.95it/s]\n",
      "  0%|          | 0/99 [00:00<?, ?it/s]"
     ]
    },
    {
     "name": "stdout",
     "output_type": "stream",
     "text": [
      "initial_potential =  32711.784029598435\n",
      "final_potential =  32708.67220964268\n",
      "energy_change =  0.09493860245856922\n",
      "p accept =  0.9094287694446991\n",
      "current step size = 0.0013027354983038138\n",
      "current acceptance ratio = 0.7916194790486977\n",
      "currently working on step 884\n"
     ]
    },
    {
     "name": "stderr",
     "output_type": "stream",
     "text": [
      "100%|██████████| 99/99 [00:08<00:00, 11.78it/s]\n",
      "  0%|          | 0/97 [00:00<?, ?it/s]"
     ]
    },
    {
     "name": "stdout",
     "output_type": "stream",
     "text": [
      "initial_potential =  32708.67220964268\n",
      "final_potential =  33006.780536562044\n",
      "energy_change =  0.6963125861802837\n",
      "p accept =  0.49841979949704734\n",
      "current step size = 0.0013027354983038138\n",
      "current acceptance ratio = 0.7918552036199095\n",
      "currently working on step 885\n"
     ]
    },
    {
     "name": "stderr",
     "output_type": "stream",
     "text": [
      "100%|██████████| 97/97 [00:08<00:00, 12.05it/s]\n",
      "  0%|          | 0/101 [00:00<?, ?it/s]"
     ]
    },
    {
     "name": "stdout",
     "output_type": "stream",
     "text": [
      "initial_potential =  33006.780536562044\n",
      "final_potential =  33062.361417541426\n",
      "energy_change =  0.23106128176732454\n",
      "p accept =  0.7936908257683648\n",
      "current step size = 0.0013027354983038138\n",
      "current acceptance ratio = 0.792090395480226\n",
      "currently working on step 886\n"
     ]
    },
    {
     "name": "stderr",
     "output_type": "stream",
     "text": [
      "100%|██████████| 101/101 [00:08<00:00, 12.40it/s]\n",
      "  0%|          | 0/98 [00:00<?, ?it/s]"
     ]
    },
    {
     "name": "stdout",
     "output_type": "stream",
     "text": [
      "initial_potential =  33062.361417541426\n",
      "final_potential =  33104.83595356053\n",
      "energy_change =  0.04440181162499357\n",
      "p accept =  0.9565695194893482\n",
      "current step size = 0.0013027354983038138\n",
      "current acceptance ratio = 0.7923250564334086\n",
      "currently working on step 887\n"
     ]
    },
    {
     "name": "stderr",
     "output_type": "stream",
     "text": [
      "100%|██████████| 98/98 [00:08<00:00, 11.88it/s]\n",
      "  0%|          | 0/101 [00:00<?, ?it/s]"
     ]
    },
    {
     "name": "stdout",
     "output_type": "stream",
     "text": [
      "initial_potential =  33104.83595356053\n",
      "final_potential =  33069.21194453249\n",
      "energy_change =  -0.329925823607482\n",
      "p accept =  1.3908649552924575\n",
      "current step size = 0.0013027354983038138\n",
      "current acceptance ratio = 0.7925591882750845\n",
      "currently working on step 888\n"
     ]
    },
    {
     "name": "stderr",
     "output_type": "stream",
     "text": [
      "100%|██████████| 101/101 [00:08<00:00, 11.93it/s]\n",
      "  0%|          | 0/99 [00:00<?, ?it/s]"
     ]
    },
    {
     "name": "stdout",
     "output_type": "stream",
     "text": [
      "initial_potential =  33069.21194453249\n",
      "final_potential =  32808.32965818665\n",
      "energy_change =  -0.6343541367823491\n",
      "p accept =  1.8858037767575022\n",
      "current step size = 0.0013027354983038138\n",
      "current acceptance ratio = 0.7927927927927928\n",
      "currently working on step 889\n"
     ]
    },
    {
     "name": "stderr",
     "output_type": "stream",
     "text": [
      "100%|██████████| 99/99 [00:08<00:00, 12.03it/s]\n",
      "  0%|          | 0/98 [00:00<?, ?it/s]"
     ]
    },
    {
     "name": "stdout",
     "output_type": "stream",
     "text": [
      "initial_potential =  32808.32965818665\n",
      "final_potential =  32711.103476889315\n",
      "energy_change =  -0.2703063980588922\n",
      "p accept =  1.3103658827940314\n",
      "current step size = 0.0013027354983038138\n",
      "current acceptance ratio = 0.7930258717660292\n",
      "currently working on step 890\n"
     ]
    },
    {
     "name": "stderr",
     "output_type": "stream",
     "text": [
      "100%|██████████| 98/98 [00:08<00:00, 11.83it/s]\n",
      "  0%|          | 0/99 [00:00<?, ?it/s]"
     ]
    },
    {
     "name": "stdout",
     "output_type": "stream",
     "text": [
      "initial_potential =  32711.103476889315\n",
      "final_potential =  32749.757439537578\n",
      "energy_change =  -0.056152238219510764\n",
      "p accept =  1.0577587027812574\n",
      "current step size = 0.0013027354983038138\n",
      "current acceptance ratio = 0.7932584269662921\n",
      "currently working on step 891\n"
     ]
    },
    {
     "name": "stderr",
     "output_type": "stream",
     "text": [
      "100%|██████████| 99/99 [00:08<00:00, 11.95it/s]\n",
      "  0%|          | 0/100 [00:00<?, ?it/s]"
     ]
    },
    {
     "name": "stdout",
     "output_type": "stream",
     "text": [
      "initial_potential =  32749.757439537578\n",
      "final_potential =  32864.60382017301\n",
      "energy_change =  0.7930239427805645\n",
      "p accept =  0.45247446753073656\n",
      "current step size = 0.0013027354983038138\n",
      "current acceptance ratio = 0.792368125701459\n",
      "currently working on step 892\n"
     ]
    },
    {
     "name": "stderr",
     "output_type": "stream",
     "text": [
      "100%|██████████| 100/100 [00:08<00:00, 12.07it/s]\n",
      "  0%|          | 0/99 [00:00<?, ?it/s]"
     ]
    },
    {
     "name": "stdout",
     "output_type": "stream",
     "text": [
      "initial_potential =  32749.757439537578\n",
      "final_potential =  32833.783851642955\n",
      "energy_change =  0.6095310501696076\n",
      "p accept =  0.5436057331269523\n",
      "current step size = 0.0013027354983038138\n",
      "current acceptance ratio = 0.7914798206278026\n",
      "currently working on step 893\n"
     ]
    },
    {
     "name": "stderr",
     "output_type": "stream",
     "text": [
      "100%|██████████| 99/99 [00:08<00:00, 12.02it/s]\n",
      "  0%|          | 0/101 [00:00<?, ?it/s]"
     ]
    },
    {
     "name": "stdout",
     "output_type": "stream",
     "text": [
      "initial_potential =  32749.757439537578\n",
      "final_potential =  32718.378524864806\n",
      "energy_change =  -0.0814515286765527\n",
      "p accept =  1.0848606316789824\n",
      "current step size = 0.0013027354983038138\n",
      "current acceptance ratio = 0.7917133258678611\n",
      "currently working on step 894\n"
     ]
    },
    {
     "name": "stderr",
     "output_type": "stream",
     "text": [
      "100%|██████████| 101/101 [00:08<00:00, 12.04it/s]\n",
      "  0%|          | 0/99 [00:00<?, ?it/s]"
     ]
    },
    {
     "name": "stdout",
     "output_type": "stream",
     "text": [
      "initial_potential =  32718.378524864806\n",
      "final_potential =  32488.436336350456\n",
      "energy_change =  -1.0220937720732763\n",
      "p accept =  2.7790072846381237\n",
      "current step size = 0.0013027354983038138\n",
      "current acceptance ratio = 0.7919463087248322\n",
      "currently working on step 895\n"
     ]
    },
    {
     "name": "stderr",
     "output_type": "stream",
     "text": [
      "100%|██████████| 99/99 [00:08<00:00, 12.00it/s]\n",
      "  0%|          | 0/97 [00:00<?, ?it/s]"
     ]
    },
    {
     "name": "stdout",
     "output_type": "stream",
     "text": [
      "initial_potential =  32488.436336350456\n",
      "final_potential =  32659.517255502724\n",
      "energy_change =  0.6928856417944189\n",
      "p accept =  0.5001307864848856\n",
      "current step size = 0.0013027354983038138\n",
      "current acceptance ratio = 0.7910614525139665\n",
      "currently working on step 896\n"
     ]
    },
    {
     "name": "stderr",
     "output_type": "stream",
     "text": [
      "100%|██████████| 97/97 [00:07<00:00, 12.34it/s]\n",
      "  0%|          | 0/97 [00:00<?, ?it/s]"
     ]
    },
    {
     "name": "stdout",
     "output_type": "stream",
     "text": [
      "initial_potential =  32488.436336350456\n",
      "final_potential =  32573.51353121064\n",
      "energy_change =  0.10463268267631065\n",
      "p accept =  0.9006552881245911\n",
      "current step size = 0.0013027354983038138\n",
      "current acceptance ratio = 0.7912946428571429\n",
      "currently working on step 897\n"
     ]
    },
    {
     "name": "stderr",
     "output_type": "stream",
     "text": [
      "100%|██████████| 97/97 [00:08<00:00, 12.02it/s]\n",
      "  0%|          | 0/98 [00:00<?, ?it/s]"
     ]
    },
    {
     "name": "stdout",
     "output_type": "stream",
     "text": [
      "initial_potential =  32573.51353121064\n",
      "final_potential =  32403.979227046453\n",
      "energy_change =  -0.15847426241089124\n",
      "p accept =  1.1717217665437316\n",
      "current step size = 0.0013027354983038138\n",
      "current acceptance ratio = 0.7915273132664437\n",
      "currently working on step 898\n"
     ]
    },
    {
     "name": "stderr",
     "output_type": "stream",
     "text": [
      "100%|██████████| 98/98 [00:08<00:00, 12.01it/s]\n",
      "  0%|          | 0/100 [00:00<?, ?it/s]"
     ]
    },
    {
     "name": "stdout",
     "output_type": "stream",
     "text": [
      "initial_potential =  32403.979227046453\n",
      "final_potential =  32563.62319960834\n",
      "energy_change =  0.44778349057014566\n",
      "p accept =  0.6390430278966225\n",
      "current step size = 0.0013027354983038138\n",
      "current acceptance ratio = 0.7917594654788419\n",
      "currently working on step 899\n"
     ]
    },
    {
     "name": "stderr",
     "output_type": "stream",
     "text": [
      "100%|██████████| 100/100 [00:08<00:00, 11.77it/s]\n",
      "  0%|          | 0/101 [00:00<?, ?it/s]"
     ]
    },
    {
     "name": "stdout",
     "output_type": "stream",
     "text": [
      "initial_potential =  32563.62319960834\n",
      "final_potential =  32825.052341546565\n",
      "energy_change =  0.9725468341057422\n",
      "p accept =  0.3781188048852689\n",
      "current step size = 0.0013027354983038138\n",
      "current acceptance ratio = 0.7919911012235817\n",
      "currently working on step 900\n"
     ]
    },
    {
     "name": "stderr",
     "output_type": "stream",
     "text": [
      "100%|██████████| 101/101 [00:08<00:00, 12.15it/s]\n",
      "  0%|          | 0/100 [00:00<?, ?it/s]"
     ]
    },
    {
     "name": "stdout",
     "output_type": "stream",
     "text": [
      "initial_potential =  32825.052341546565\n",
      "final_potential =  32881.91948766828\n",
      "energy_change =  0.26779662270564586\n",
      "p accept =  0.7650633617980693\n",
      "current step size = 0.0013027354983038138\n",
      "current acceptance ratio = 0.7922222222222223\n",
      "currently working on step 901\n"
     ]
    },
    {
     "name": "stderr",
     "output_type": "stream",
     "text": [
      "100%|██████████| 100/100 [00:08<00:00, 12.11it/s]\n",
      "  0%|          | 0/98 [00:00<?, ?it/s]"
     ]
    },
    {
     "name": "stdout",
     "output_type": "stream",
     "text": [
      "initial_potential =  32881.91948766828\n",
      "final_potential =  32879.01654925418\n",
      "energy_change =  -0.09650375830824487\n",
      "p accept =  1.1013137202124512\n",
      "current step size = 0.0013027354983038138\n",
      "current acceptance ratio = 0.7924528301886793\n",
      "currently working on step 902\n"
     ]
    },
    {
     "name": "stderr",
     "output_type": "stream",
     "text": [
      "100%|██████████| 98/98 [00:08<00:00, 11.95it/s]\n",
      "  0%|          | 0/100 [00:00<?, ?it/s]"
     ]
    },
    {
     "name": "stdout",
     "output_type": "stream",
     "text": [
      "initial_potential =  32879.01654925418\n",
      "final_potential =  32822.17248943132\n",
      "energy_change =  0.22402034075639676\n",
      "p accept =  0.7992988758602884\n",
      "current step size = 0.0013027354983038138\n",
      "current acceptance ratio = 0.7926829268292683\n",
      "currently working on step 903\n"
     ]
    },
    {
     "name": "stderr",
     "output_type": "stream",
     "text": [
      "100%|██████████| 100/100 [00:08<00:00, 12.01it/s]\n",
      "  0%|          | 0/100 [00:00<?, ?it/s]"
     ]
    },
    {
     "name": "stdout",
     "output_type": "stream",
     "text": [
      "initial_potential =  32822.17248943132\n",
      "final_potential =  33106.901939085175\n",
      "energy_change =  0.8444163117819699\n",
      "p accept =  0.4298081589672978\n",
      "current step size = 0.0013027354983038138\n",
      "current acceptance ratio = 0.7929125138427464\n",
      "currently working on step 904\n"
     ]
    },
    {
     "name": "stderr",
     "output_type": "stream",
     "text": [
      "100%|██████████| 100/100 [00:08<00:00, 11.98it/s]\n",
      "  0%|          | 0/98 [00:00<?, ?it/s]"
     ]
    },
    {
     "name": "stdout",
     "output_type": "stream",
     "text": [
      "initial_potential =  33106.901939085175\n",
      "final_potential =  33041.34625102183\n",
      "energy_change =  -0.07275758009927813\n",
      "p accept =  1.075469790031135\n",
      "current step size = 0.0013027354983038138\n",
      "current acceptance ratio = 0.793141592920354\n",
      "currently working on step 905\n"
     ]
    },
    {
     "name": "stderr",
     "output_type": "stream",
     "text": [
      "100%|██████████| 98/98 [00:07<00:00, 12.37it/s]\n",
      "  0%|          | 0/99 [00:00<?, ?it/s]"
     ]
    },
    {
     "name": "stdout",
     "output_type": "stream",
     "text": [
      "initial_potential =  33041.34625102183\n",
      "final_potential =  33202.51301995066\n",
      "energy_change =  0.7966828974022064\n",
      "p accept =  0.45082190914835224\n",
      "current step size = 0.0013027354983038138\n",
      "current acceptance ratio = 0.7922651933701658\n",
      "currently working on step 906\n"
     ]
    },
    {
     "name": "stderr",
     "output_type": "stream",
     "text": [
      "100%|██████████| 99/99 [00:08<00:00, 11.84it/s]\n",
      "  0%|          | 0/101 [00:00<?, ?it/s]"
     ]
    },
    {
     "name": "stdout",
     "output_type": "stream",
     "text": [
      "initial_potential =  33041.34625102183\n",
      "final_potential =  33189.64787465433\n",
      "energy_change =  -0.19039282794983592\n",
      "p accept =  1.2097247180117066\n",
      "current step size = 0.0013027354983038138\n",
      "current acceptance ratio = 0.7924944812362031\n",
      "currently working on step 907\n"
     ]
    },
    {
     "name": "stderr",
     "output_type": "stream",
     "text": [
      "100%|██████████| 101/101 [00:08<00:00, 12.01it/s]\n",
      "  0%|          | 0/101 [00:00<?, ?it/s]"
     ]
    },
    {
     "name": "stdout",
     "output_type": "stream",
     "text": [
      "initial_potential =  33189.64787465433\n",
      "final_potential =  33304.24474443047\n",
      "energy_change =  0.5000608786504017\n",
      "p accept =  0.606493736068585\n",
      "current step size = 0.0013027354983038138\n",
      "current acceptance ratio = 0.7927232635060639\n",
      "currently working on step 908\n"
     ]
    },
    {
     "name": "stderr",
     "output_type": "stream",
     "text": [
      "100%|██████████| 101/101 [00:08<00:00, 11.97it/s]\n",
      "  0%|          | 0/97 [00:00<?, ?it/s]"
     ]
    },
    {
     "name": "stdout",
     "output_type": "stream",
     "text": [
      "initial_potential =  33304.24474443047\n",
      "final_potential =  33013.38461287217\n",
      "energy_change =  -1.0249062776565552\n",
      "p accept =  2.7868342596882525\n",
      "current step size = 0.0013027354983038138\n",
      "current acceptance ratio = 0.7929515418502202\n",
      "currently working on step 909\n"
     ]
    },
    {
     "name": "stderr",
     "output_type": "stream",
     "text": [
      "100%|██████████| 97/97 [00:08<00:00, 11.93it/s]\n",
      "  0%|          | 0/101 [00:00<?, ?it/s]"
     ]
    },
    {
     "name": "stdout",
     "output_type": "stream",
     "text": [
      "initial_potential =  33013.38461287217\n",
      "final_potential =  33065.62291845061\n",
      "energy_change =  0.45894499197311234\n",
      "p accept =  0.6319500062663463\n",
      "current step size = 0.0013027354983038138\n",
      "current acceptance ratio = 0.7920792079207921\n",
      "currently working on step 910\n"
     ]
    },
    {
     "name": "stderr",
     "output_type": "stream",
     "text": [
      "100%|██████████| 101/101 [00:08<00:00, 12.03it/s]\n",
      "  0%|          | 0/99 [00:00<?, ?it/s]"
     ]
    },
    {
     "name": "stdout",
     "output_type": "stream",
     "text": [
      "initial_potential =  33013.38461287217\n",
      "final_potential =  32925.23625664336\n",
      "energy_change =  -0.051897137018386275\n",
      "p accept =  1.0532673947163145\n",
      "current step size = 0.0013027354983038138\n",
      "current acceptance ratio = 0.7923076923076923\n",
      "currently working on step 911\n"
     ]
    },
    {
     "name": "stderr",
     "output_type": "stream",
     "text": [
      "100%|██████████| 99/99 [00:07<00:00, 12.42it/s]\n",
      "  0%|          | 0/101 [00:00<?, ?it/s]"
     ]
    },
    {
     "name": "stdout",
     "output_type": "stream",
     "text": [
      "initial_potential =  32925.23625664336\n",
      "final_potential =  32957.0181833592\n",
      "energy_change =  0.09108181510237046\n",
      "p accept =  0.9129430153174375\n",
      "current step size = 0.0013027354983038138\n",
      "current acceptance ratio = 0.7925356750823271\n",
      "currently working on step 912\n"
     ]
    },
    {
     "name": "stderr",
     "output_type": "stream",
     "text": [
      "100%|██████████| 101/101 [00:08<00:00, 11.95it/s]\n",
      "  0%|          | 0/97 [00:00<?, ?it/s]"
     ]
    },
    {
     "name": "stdout",
     "output_type": "stream",
     "text": [
      "initial_potential =  32957.0181833592\n",
      "final_potential =  33196.57454527484\n",
      "energy_change =  0.5518632526654983\n",
      "p accept =  0.5758758079880655\n",
      "current step size = 0.0013027354983038138\n",
      "current acceptance ratio = 0.7916666666666666\n",
      "currently working on step 913\n"
     ]
    },
    {
     "name": "stderr",
     "output_type": "stream",
     "text": [
      "100%|██████████| 97/97 [00:08<00:00, 11.71it/s]\n",
      "  0%|          | 0/101 [00:00<?, ?it/s]"
     ]
    },
    {
     "name": "stdout",
     "output_type": "stream",
     "text": [
      "initial_potential =  32957.0181833592\n",
      "final_potential =  32958.52998837196\n",
      "energy_change =  -0.2085074255883228\n",
      "p accept =  1.2318380771494217\n",
      "current step size = 0.0013027354983038138\n",
      "current acceptance ratio = 0.791894852135816\n",
      "currently working on step 914\n"
     ]
    },
    {
     "name": "stderr",
     "output_type": "stream",
     "text": [
      "100%|██████████| 101/101 [00:08<00:00, 12.02it/s]\n",
      "  0%|          | 0/99 [00:00<?, ?it/s]"
     ]
    },
    {
     "name": "stdout",
     "output_type": "stream",
     "text": [
      "initial_potential =  32958.52998837196\n",
      "final_potential =  32990.88975318962\n",
      "energy_change =  0.5013409054081421\n",
      "p accept =  0.6057179045065261\n",
      "current step size = 0.0013027354983038138\n",
      "current acceptance ratio = 0.7921225382932167\n",
      "currently working on step 915\n"
     ]
    },
    {
     "name": "stderr",
     "output_type": "stream",
     "text": [
      "100%|██████████| 99/99 [00:08<00:00, 11.92it/s]\n",
      "  0%|          | 0/101 [00:00<?, ?it/s]"
     ]
    },
    {
     "name": "stdout",
     "output_type": "stream",
     "text": [
      "initial_potential =  32990.88975318962\n",
      "final_potential =  32662.605810499495\n",
      "energy_change =  -0.9017127517290646\n",
      "p accept =  2.4638194103445423\n",
      "current step size = 0.0013027354983038138\n",
      "current acceptance ratio = 0.7923497267759563\n",
      "currently working on step 916\n"
     ]
    },
    {
     "name": "stderr",
     "output_type": "stream",
     "text": [
      "100%|██████████| 101/101 [00:08<00:00, 12.24it/s]\n",
      "  0%|          | 0/100 [00:00<?, ?it/s]"
     ]
    },
    {
     "name": "stdout",
     "output_type": "stream",
     "text": [
      "initial_potential =  32662.605810499495\n",
      "final_potential =  32823.317543121084\n",
      "energy_change =  0.3863234837335767\n",
      "p accept =  0.6795506665350444\n",
      "current step size = 0.0013027354983038138\n",
      "current acceptance ratio = 0.7914847161572053\n",
      "currently working on step 917\n"
     ]
    },
    {
     "name": "stderr",
     "output_type": "stream",
     "text": [
      "100%|██████████| 100/100 [00:08<00:00, 11.99it/s]\n",
      "  0%|          | 0/98 [00:00<?, ?it/s]"
     ]
    },
    {
     "name": "stdout",
     "output_type": "stream",
     "text": [
      "initial_potential =  32662.605810499495\n",
      "final_potential =  32751.099429496055\n",
      "energy_change =  0.2565250348416157\n",
      "p accept =  0.773735623968205\n",
      "current step size = 0.0013027354983038138\n",
      "current acceptance ratio = 0.7917121046892039\n",
      "currently working on step 918\n"
     ]
    },
    {
     "name": "stderr",
     "output_type": "stream",
     "text": [
      "100%|██████████| 98/98 [00:08<00:00, 12.03it/s]\n",
      "  0%|          | 0/98 [00:00<?, ?it/s]"
     ]
    },
    {
     "name": "stdout",
     "output_type": "stream",
     "text": [
      "initial_potential =  32751.099429496055\n",
      "final_potential =  32693.501325882018\n",
      "energy_change =  0.18445135054935236\n",
      "p accept =  0.8315603938717065\n",
      "current step size = 0.0013027354983038138\n",
      "current acceptance ratio = 0.7919389978213508\n",
      "currently working on step 919\n"
     ]
    },
    {
     "name": "stderr",
     "output_type": "stream",
     "text": [
      "100%|██████████| 98/98 [00:08<00:00, 11.90it/s]\n",
      "  0%|          | 0/101 [00:00<?, ?it/s]"
     ]
    },
    {
     "name": "stdout",
     "output_type": "stream",
     "text": [
      "initial_potential =  32693.501325882018\n",
      "final_potential =  32680.131991546892\n",
      "energy_change =  -0.37349345661641564\n",
      "p accept =  1.4528010572777985\n",
      "current step size = 0.0013027354983038138\n",
      "current acceptance ratio = 0.7921653971708379\n",
      "currently working on step 920\n"
     ]
    },
    {
     "name": "stderr",
     "output_type": "stream",
     "text": [
      "100%|██████████| 101/101 [00:08<00:00, 11.80it/s]\n",
      "  0%|          | 0/100 [00:00<?, ?it/s]"
     ]
    },
    {
     "name": "stdout",
     "output_type": "stream",
     "text": [
      "initial_potential =  32680.131991546892\n",
      "final_potential =  32992.07345675479\n",
      "energy_change =  1.1299651195004117\n",
      "p accept =  0.32304452418013196\n",
      "current step size = 0.0013027354983038138\n",
      "current acceptance ratio = 0.7913043478260869\n",
      "currently working on step 921\n"
     ]
    },
    {
     "name": "stderr",
     "output_type": "stream",
     "text": [
      "100%|██████████| 100/100 [00:08<00:00, 12.37it/s]\n",
      "  0%|          | 0/97 [00:00<?, ?it/s]"
     ]
    },
    {
     "name": "stdout",
     "output_type": "stream",
     "text": [
      "initial_potential =  32680.131991546892\n",
      "final_potential =  32699.69963735502\n",
      "energy_change =  -0.3363290141860489\n",
      "p accept =  1.399799502948951\n",
      "current step size = 0.0013027354983038138\n",
      "current acceptance ratio = 0.7915309446254072\n",
      "currently working on step 922\n"
     ]
    },
    {
     "name": "stderr",
     "output_type": "stream",
     "text": [
      "100%|██████████| 97/97 [00:08<00:00, 11.98it/s]\n",
      "  0%|          | 0/100 [00:00<?, ?it/s]"
     ]
    },
    {
     "name": "stdout",
     "output_type": "stream",
     "text": [
      "initial_potential =  32699.69963735502\n",
      "final_potential =  32585.641624760978\n",
      "energy_change =  -0.03622837185685057\n",
      "p accept =  1.0368926165462815\n",
      "current step size = 0.0013027354983038138\n",
      "current acceptance ratio = 0.7917570498915402\n",
      "currently working on step 923\n"
     ]
    },
    {
     "name": "stderr",
     "output_type": "stream",
     "text": [
      "100%|██████████| 100/100 [00:08<00:00, 11.95it/s]\n",
      "  0%|          | 0/97 [00:00<?, ?it/s]"
     ]
    },
    {
     "name": "stdout",
     "output_type": "stream",
     "text": [
      "initial_potential =  32585.641624760978\n",
      "final_potential =  32532.417724821196\n",
      "energy_change =  -0.3428578928433126\n",
      "p accept =  1.4089685231884166\n",
      "current step size = 0.0013027354983038138\n",
      "current acceptance ratio = 0.7919826652221018\n",
      "currently working on step 924\n"
     ]
    },
    {
     "name": "stderr",
     "output_type": "stream",
     "text": [
      "100%|██████████| 97/97 [00:08<00:00, 12.02it/s]\n",
      "  0%|          | 0/98 [00:00<?, ?it/s]"
     ]
    },
    {
     "name": "stdout",
     "output_type": "stream",
     "text": [
      "initial_potential =  32532.417724821196\n",
      "final_potential =  32539.42768267849\n",
      "energy_change =  0.08728711989533622\n",
      "p accept =  0.9164139371822183\n",
      "current step size = 0.0013027354983038138\n",
      "current acceptance ratio = 0.7922077922077922\n",
      "currently working on step 925\n"
     ]
    },
    {
     "name": "stderr",
     "output_type": "stream",
     "text": [
      "100%|██████████| 98/98 [00:08<00:00, 11.98it/s]\n",
      "  0%|          | 0/101 [00:00<?, ?it/s]"
     ]
    },
    {
     "name": "stdout",
     "output_type": "stream",
     "text": [
      "initial_potential =  32539.42768267849\n",
      "final_potential =  32660.143558290834\n",
      "energy_change =  0.24602389225037768\n",
      "p accept =  0.7819035432670778\n",
      "current step size = 0.0013027354983038138\n",
      "current acceptance ratio = 0.7924324324324324\n",
      "currently working on step 926\n"
     ]
    },
    {
     "name": "stderr",
     "output_type": "stream",
     "text": [
      "100%|██████████| 101/101 [00:08<00:00, 12.34it/s]\n",
      "  0%|          | 0/99 [00:00<?, ?it/s]"
     ]
    },
    {
     "name": "stdout",
     "output_type": "stream",
     "text": [
      "initial_potential =  32660.143558290834\n",
      "final_potential =  32669.983762492127\n",
      "energy_change =  0.11439383403921966\n",
      "p accept =  0.891906623515481\n",
      "current step size = 0.0013027354983038138\n",
      "current acceptance ratio = 0.7926565874730022\n",
      "currently working on step 927\n"
     ]
    },
    {
     "name": "stderr",
     "output_type": "stream",
     "text": [
      "100%|██████████| 99/99 [00:08<00:00, 11.66it/s]\n",
      "  0%|          | 0/97 [00:00<?, ?it/s]"
     ]
    },
    {
     "name": "stdout",
     "output_type": "stream",
     "text": [
      "initial_potential =  32669.983762492127\n",
      "final_potential =  32732.961612321513\n",
      "energy_change =  0.2366347877687076\n",
      "p accept =  0.7892794899106017\n",
      "current step size = 0.0013027354983038138\n",
      "current acceptance ratio = 0.7928802588996764\n",
      "currently working on step 928\n"
     ]
    },
    {
     "name": "stderr",
     "output_type": "stream",
     "text": [
      "100%|██████████| 97/97 [00:08<00:00, 11.96it/s]\n",
      "  0%|          | 0/97 [00:00<?, ?it/s]"
     ]
    },
    {
     "name": "stdout",
     "output_type": "stream",
     "text": [
      "initial_potential =  32732.961612321513\n",
      "final_potential =  32768.453697334786\n",
      "energy_change =  -0.016999197585391812\n",
      "p accept =  1.0171445061533029\n",
      "current step size = 0.0013027354983038138\n",
      "current acceptance ratio = 0.7931034482758621\n",
      "currently working on step 929\n"
     ]
    },
    {
     "name": "stderr",
     "output_type": "stream",
     "text": [
      "100%|██████████| 97/97 [00:08<00:00, 12.00it/s]\n",
      "  0%|          | 0/99 [00:00<?, ?it/s]"
     ]
    },
    {
     "name": "stdout",
     "output_type": "stream",
     "text": [
      "initial_potential =  32768.453697334786\n",
      "final_potential =  32648.28673445162\n",
      "energy_change =  0.022973472936428152\n",
      "p accept =  0.9772884080211561\n",
      "current step size = 0.0013027354983038138\n",
      "current acceptance ratio = 0.7933261571582346\n",
      "currently working on step 930\n"
     ]
    },
    {
     "name": "stderr",
     "output_type": "stream",
     "text": [
      "100%|██████████| 99/99 [00:08<00:00, 12.00it/s]\n",
      "  0%|          | 0/97 [00:00<?, ?it/s]"
     ]
    },
    {
     "name": "stdout",
     "output_type": "stream",
     "text": [
      "initial_potential =  32648.28673445162\n",
      "final_potential =  32600.70468261227\n",
      "energy_change =  -0.5810483727400424\n",
      "p accept =  1.7879118466010073\n",
      "current step size = 0.0013027354983038138\n",
      "current acceptance ratio = 0.7935483870967742\n",
      "currently working on step 931\n"
     ]
    },
    {
     "name": "stderr",
     "output_type": "stream",
     "text": [
      "100%|██████████| 97/97 [00:08<00:00, 12.02it/s]\n",
      "  0%|          | 0/101 [00:00<?, ?it/s]"
     ]
    },
    {
     "name": "stdout",
     "output_type": "stream",
     "text": [
      "initial_potential =  32600.70468261227\n",
      "final_potential =  32652.1942929038\n",
      "energy_change =  -0.12980104435700923\n",
      "p accept =  1.1386018295291866\n",
      "current step size = 0.0013027354983038138\n",
      "current acceptance ratio = 0.7937701396348013\n",
      "currently working on step 932\n"
     ]
    },
    {
     "name": "stderr",
     "output_type": "stream",
     "text": [
      "100%|██████████| 101/101 [00:08<00:00, 12.35it/s]\n",
      "  0%|          | 0/100 [00:00<?, ?it/s]"
     ]
    },
    {
     "name": "stdout",
     "output_type": "stream",
     "text": [
      "initial_potential =  32652.1942929038\n",
      "final_potential =  32722.189320072674\n",
      "energy_change =  0.5992537316633388\n",
      "p accept =  0.5492213496999655\n",
      "current step size = 0.0013027354983038138\n",
      "current acceptance ratio = 0.7929184549356223\n",
      "currently working on step 933\n"
     ]
    },
    {
     "name": "stderr",
     "output_type": "stream",
     "text": [
      "100%|██████████| 100/100 [00:08<00:00, 11.95it/s]\n",
      "  0%|          | 0/100 [00:00<?, ?it/s]"
     ]
    },
    {
     "name": "stdout",
     "output_type": "stream",
     "text": [
      "initial_potential =  32652.1942929038\n",
      "final_potential =  32631.975217283598\n",
      "energy_change =  0.14753934045438655\n",
      "p accept =  0.8628284935886837\n",
      "current step size = 0.0013027354983038138\n",
      "current acceptance ratio = 0.7931404072883173\n",
      "currently working on step 934\n"
     ]
    },
    {
     "name": "stderr",
     "output_type": "stream",
     "text": [
      "100%|██████████| 100/100 [00:08<00:00, 12.01it/s]\n",
      "  0%|          | 0/98 [00:00<?, ?it/s]"
     ]
    },
    {
     "name": "stdout",
     "output_type": "stream",
     "text": [
      "initial_potential =  32631.975217283598\n",
      "final_potential =  32760.812118748465\n",
      "energy_change =  0.4643513560149586\n",
      "p accept =  0.6285426734164649\n",
      "current step size = 0.0013027354983038138\n",
      "current acceptance ratio = 0.7922912205567452\n",
      "currently working on step 935\n"
     ]
    },
    {
     "name": "stderr",
     "output_type": "stream",
     "text": [
      "100%|██████████| 98/98 [00:08<00:00, 12.02it/s]\n",
      "  0%|          | 0/97 [00:00<?, ?it/s]"
     ]
    },
    {
     "name": "stdout",
     "output_type": "stream",
     "text": [
      "initial_potential =  32631.975217283598\n",
      "final_potential =  32681.02255266918\n",
      "energy_change =  0.17666396500135306\n",
      "p accept =  0.8380613551578969\n",
      "current step size = 0.0013027354983038138\n",
      "current acceptance ratio = 0.7914438502673797\n",
      "currently working on step 936\n"
     ]
    },
    {
     "name": "stderr",
     "output_type": "stream",
     "text": [
      "100%|██████████| 97/97 [00:08<00:00, 12.03it/s]\n",
      "  0%|          | 0/99 [00:00<?, ?it/s]"
     ]
    },
    {
     "name": "stdout",
     "output_type": "stream",
     "text": [
      "initial_potential =  32631.975217283598\n",
      "final_potential =  32440.553288323572\n",
      "energy_change =  -0.15264062688220292\n",
      "p accept =  1.1649062677130948\n",
      "current step size = 0.0013027354983038138\n",
      "current acceptance ratio = 0.7916666666666666\n",
      "currently working on step 937\n"
     ]
    },
    {
     "name": "stderr",
     "output_type": "stream",
     "text": [
      "100%|██████████| 99/99 [00:08<00:00, 12.00it/s]\n",
      "  0%|          | 0/97 [00:00<?, ?it/s]"
     ]
    },
    {
     "name": "stdout",
     "output_type": "stream",
     "text": [
      "initial_potential =  32440.553288323572\n",
      "final_potential =  32590.004557423847\n",
      "energy_change =  0.2977125450706808\n",
      "p accept =  0.7425147485981686\n",
      "current step size = 0.0013027354983038138\n",
      "current acceptance ratio = 0.7908217716115261\n",
      "currently working on step 938\n"
     ]
    },
    {
     "name": "stderr",
     "output_type": "stream",
     "text": [
      "100%|██████████| 97/97 [00:07<00:00, 12.35it/s]\n",
      "  0%|          | 0/99 [00:00<?, ?it/s]"
     ]
    },
    {
     "name": "stdout",
     "output_type": "stream",
     "text": [
      "initial_potential =  32440.553288323572\n",
      "final_potential =  32550.461809666915\n",
      "energy_change =  -0.03382037782284897\n",
      "p accept =  1.0343987890775954\n",
      "current step size = 0.0013027354983038138\n",
      "current acceptance ratio = 0.7910447761194029\n",
      "currently working on step 939\n"
     ]
    },
    {
     "name": "stderr",
     "output_type": "stream",
     "text": [
      "100%|██████████| 99/99 [00:08<00:00, 11.99it/s]\n",
      "  0%|          | 0/98 [00:00<?, ?it/s]"
     ]
    },
    {
     "name": "stdout",
     "output_type": "stream",
     "text": [
      "initial_potential =  32550.461809666915\n",
      "final_potential =  32617.792873723796\n",
      "energy_change =  0.8125553689314984\n",
      "p accept =  0.44372274094685504\n",
      "current step size = 0.0013027354983038138\n",
      "current acceptance ratio = 0.7912673056443025\n",
      "currently working on step 940\n"
     ]
    },
    {
     "name": "stderr",
     "output_type": "stream",
     "text": [
      "100%|██████████| 98/98 [00:08<00:00, 12.02it/s]\n",
      "  0%|          | 0/101 [00:00<?, ?it/s]"
     ]
    },
    {
     "name": "stdout",
     "output_type": "stream",
     "text": [
      "initial_potential =  32617.792873723796\n",
      "final_potential =  32637.326934718454\n",
      "energy_change =  0.18868443727842532\n",
      "p accept =  0.8280477664774251\n",
      "current step size = 0.0013027354983038138\n",
      "current acceptance ratio = 0.7914893617021277\n",
      "currently working on step 941\n"
     ]
    },
    {
     "name": "stderr",
     "output_type": "stream",
     "text": [
      "100%|██████████| 101/101 [00:08<00:00, 11.81it/s]\n",
      "  0%|          | 0/100 [00:00<?, ?it/s]"
     ]
    },
    {
     "name": "stdout",
     "output_type": "stream",
     "text": [
      "initial_potential =  32637.326934718454\n",
      "final_potential =  32598.853106370858\n",
      "energy_change =  -0.3571546759339981\n",
      "p accept =  1.4292569244072324\n",
      "current step size = 0.0013027354983038138\n",
      "current acceptance ratio = 0.7917109458023379\n",
      "currently working on step 942\n"
     ]
    },
    {
     "name": "stderr",
     "output_type": "stream",
     "text": [
      "100%|██████████| 100/100 [00:08<00:00, 12.07it/s]\n",
      "  0%|          | 0/99 [00:00<?, ?it/s]"
     ]
    },
    {
     "name": "stdout",
     "output_type": "stream",
     "text": [
      "initial_potential =  32598.853106370858\n",
      "final_potential =  32747.869751819686\n",
      "energy_change =  0.15755742686451413\n",
      "p accept =  0.854227756578256\n",
      "current step size = 0.0013027354983038138\n",
      "current acceptance ratio = 0.7908704883227177\n",
      "currently working on step 943\n"
     ]
    },
    {
     "name": "stderr",
     "output_type": "stream",
     "text": [
      "100%|██████████| 99/99 [00:08<00:00, 12.04it/s]\n",
      "  0%|          | 0/98 [00:00<?, ?it/s]"
     ]
    },
    {
     "name": "stdout",
     "output_type": "stream",
     "text": [
      "initial_potential =  32598.853106370858\n",
      "final_potential =  32687.545116595407\n",
      "energy_change =  0.02666127943666652\n",
      "p accept =  0.9736909948363539\n",
      "current step size = 0.0013027354983038138\n",
      "current acceptance ratio = 0.7910922587486744\n",
      "currently working on step 944\n"
     ]
    },
    {
     "name": "stderr",
     "output_type": "stream",
     "text": [
      "100%|██████████| 98/98 [00:07<00:00, 12.31it/s]\n",
      "  0%|          | 0/101 [00:00<?, ?it/s]"
     ]
    },
    {
     "name": "stdout",
     "output_type": "stream",
     "text": [
      "initial_potential =  32687.545116595407\n",
      "final_potential =  32739.754520455084\n",
      "energy_change =  0.2375691725173965\n",
      "p accept =  0.7885423436355268\n",
      "current step size = 0.0013027354983038138\n",
      "current acceptance ratio = 0.7913135593220338\n",
      "currently working on step 945\n"
     ]
    },
    {
     "name": "stderr",
     "output_type": "stream",
     "text": [
      "100%|██████████| 101/101 [00:08<00:00, 11.98it/s]\n",
      "  0%|          | 0/101 [00:00<?, ?it/s]"
     ]
    },
    {
     "name": "stdout",
     "output_type": "stream",
     "text": [
      "initial_potential =  32739.754520455084\n",
      "final_potential =  32909.22558020838\n",
      "energy_change =  0.9312174860824598\n",
      "p accept =  0.3940736390198352\n",
      "current step size = 0.0013027354983038138\n",
      "current acceptance ratio = 0.7904761904761904\n",
      "currently working on step 946\n"
     ]
    },
    {
     "name": "stderr",
     "output_type": "stream",
     "text": [
      "100%|██████████| 101/101 [00:08<00:00, 12.05it/s]\n",
      "  0%|          | 0/100 [00:00<?, ?it/s]"
     ]
    },
    {
     "name": "stdout",
     "output_type": "stream",
     "text": [
      "initial_potential =  32739.754520455084\n",
      "final_potential =  33013.12200081791\n",
      "energy_change =  1.1890906386252027\n",
      "p accept =  0.3044980369578539\n",
      "current step size = 0.0013027354983038138\n",
      "current acceptance ratio = 0.7896405919661733\n",
      "currently working on step 947\n"
     ]
    },
    {
     "name": "stderr",
     "output_type": "stream",
     "text": [
      "100%|██████████| 100/100 [00:08<00:00, 12.02it/s]\n",
      "  0%|          | 0/99 [00:00<?, ?it/s]"
     ]
    },
    {
     "name": "stdout",
     "output_type": "stream",
     "text": [
      "initial_potential =  32739.754520455084\n",
      "final_potential =  32820.22752197768\n",
      "energy_change =  0.0356468486279482\n",
      "p accept =  0.9649810176863718\n",
      "current step size = 0.0013027354983038138\n",
      "current acceptance ratio = 0.7898627243928195\n",
      "currently working on step 948\n"
     ]
    },
    {
     "name": "stderr",
     "output_type": "stream",
     "text": [
      "100%|██████████| 99/99 [00:08<00:00, 11.95it/s]\n",
      "  0%|          | 0/100 [00:00<?, ?it/s]"
     ]
    },
    {
     "name": "stdout",
     "output_type": "stream",
     "text": [
      "initial_potential =  32820.22752197768\n",
      "final_potential =  32925.90389590874\n",
      "energy_change =  0.8397450040793046\n",
      "p accept =  0.43182062188820775\n",
      "current step size = 0.0013027354983038138\n",
      "current acceptance ratio = 0.790084388185654\n",
      "currently working on step 949\n"
     ]
    },
    {
     "name": "stderr",
     "output_type": "stream",
     "text": [
      "100%|██████████| 100/100 [00:08<00:00, 12.03it/s]\n",
      "  0%|          | 0/98 [00:00<?, ?it/s]"
     ]
    },
    {
     "name": "stdout",
     "output_type": "stream",
     "text": [
      "initial_potential =  32925.90389590874\n",
      "final_potential =  32882.69491958454\n",
      "energy_change =  0.12450128355703782\n",
      "p accept =  0.8829371280654962\n",
      "current step size = 0.0013027354983038138\n",
      "current acceptance ratio = 0.7903055848261328\n",
      "currently working on step 950\n"
     ]
    },
    {
     "name": "stderr",
     "output_type": "stream",
     "text": [
      "100%|██████████| 98/98 [00:08<00:00, 12.06it/s]\n",
      "  0%|          | 0/100 [00:00<?, ?it/s]"
     ]
    },
    {
     "name": "stdout",
     "output_type": "stream",
     "text": [
      "initial_potential =  32882.69491958454\n",
      "final_potential =  33120.29372463709\n",
      "energy_change =  0.13461194265983067\n",
      "p accept =  0.8740550293550821\n",
      "current step size = 0.0013027354983038138\n",
      "current acceptance ratio = 0.7905263157894736\n",
      "currently working on step 951\n"
     ]
    },
    {
     "name": "stderr",
     "output_type": "stream",
     "text": [
      "100%|██████████| 100/100 [00:08<00:00, 11.98it/s]\n",
      "  0%|          | 0/98 [00:00<?, ?it/s]"
     ]
    },
    {
     "name": "stdout",
     "output_type": "stream",
     "text": [
      "initial_potential =  33120.29372463709\n",
      "final_potential =  32805.00672663755\n",
      "energy_change =  -0.9614397650584579\n",
      "p accept =  2.6154594109718263\n",
      "current step size = 0.0013027354983038138\n",
      "current acceptance ratio = 0.7907465825446898\n",
      "currently working on step 952\n"
     ]
    },
    {
     "name": "stderr",
     "output_type": "stream",
     "text": [
      "100%|██████████| 98/98 [00:07<00:00, 12.29it/s]\n",
      "  0%|          | 0/98 [00:00<?, ?it/s]"
     ]
    },
    {
     "name": "stdout",
     "output_type": "stream",
     "text": [
      "initial_potential =  32805.00672663755\n",
      "final_potential =  32646.383270350438\n",
      "energy_change =  -0.520244904444553\n",
      "p accept =  1.6824396361927612\n",
      "current step size = 0.0013027354983038138\n",
      "current acceptance ratio = 0.7909663865546218\n",
      "currently working on step 953\n"
     ]
    },
    {
     "name": "stderr",
     "output_type": "stream",
     "text": [
      "100%|██████████| 98/98 [00:08<00:00, 11.99it/s]\n",
      "  0%|          | 0/98 [00:00<?, ?it/s]"
     ]
    },
    {
     "name": "stdout",
     "output_type": "stream",
     "text": [
      "initial_potential =  32646.383270350438\n",
      "final_potential =  32634.80942630449\n",
      "energy_change =  -0.4403473592537921\n",
      "p accept =  1.5532466594165868\n",
      "current step size = 0.0013027354983038138\n",
      "current acceptance ratio = 0.7911857292759706\n",
      "currently working on step 954\n"
     ]
    },
    {
     "name": "stderr",
     "output_type": "stream",
     "text": [
      "100%|██████████| 98/98 [00:08<00:00, 12.01it/s]\n",
      "  0%|          | 0/97 [00:00<?, ?it/s]"
     ]
    },
    {
     "name": "stdout",
     "output_type": "stream",
     "text": [
      "initial_potential =  32634.80942630449\n",
      "final_potential =  32801.70193334056\n",
      "energy_change =  0.8114770962129114\n",
      "p accept =  0.4442014531177895\n",
      "current step size = 0.0013027354983038138\n",
      "current acceptance ratio = 0.790356394129979\n",
      "currently working on step 955\n"
     ]
    },
    {
     "name": "stderr",
     "output_type": "stream",
     "text": [
      "100%|██████████| 97/97 [00:08<00:00, 11.99it/s]\n",
      "  0%|          | 0/99 [00:00<?, ?it/s]"
     ]
    },
    {
     "name": "stdout",
     "output_type": "stream",
     "text": [
      "initial_potential =  32634.80942630449\n",
      "final_potential =  32661.16717738105\n",
      "energy_change =  0.11829358362592757\n",
      "p accept =  0.8884351843003497\n",
      "current step size = 0.0013027354983038138\n",
      "current acceptance ratio = 0.7905759162303665\n",
      "currently working on step 956\n"
     ]
    },
    {
     "name": "stderr",
     "output_type": "stream",
     "text": [
      "100%|██████████| 99/99 [00:08<00:00, 11.90it/s]\n",
      "  0%|          | 0/99 [00:00<?, ?it/s]"
     ]
    },
    {
     "name": "stdout",
     "output_type": "stream",
     "text": [
      "initial_potential =  32661.16717738105\n",
      "final_potential =  32592.362943984306\n",
      "energy_change =  -0.5640015798271634\n",
      "p accept =  1.7576919912171758\n",
      "current step size = 0.0013027354983038138\n",
      "current acceptance ratio = 0.7907949790794979\n",
      "currently working on step 957\n"
     ]
    },
    {
     "name": "stderr",
     "output_type": "stream",
     "text": [
      "100%|██████████| 99/99 [00:08<00:00, 11.93it/s]\n",
      "  0%|          | 0/100 [00:00<?, ?it/s]"
     ]
    },
    {
     "name": "stdout",
     "output_type": "stream",
     "text": [
      "initial_potential =  32592.362943984306\n",
      "final_potential =  32672.97910945049\n",
      "energy_change =  0.3711035499436548\n",
      "p accept =  0.689972491246923\n",
      "current step size = 0.0013027354983038138\n",
      "current acceptance ratio = 0.7910135841170324\n",
      "currently working on step 958\n"
     ]
    },
    {
     "name": "stderr",
     "output_type": "stream",
     "text": [
      "100%|██████████| 100/100 [00:08<00:00, 11.87it/s]\n",
      "  0%|          | 0/100 [00:00<?, ?it/s]"
     ]
    },
    {
     "name": "stdout",
     "output_type": "stream",
     "text": [
      "initial_potential =  32672.97910945049\n",
      "final_potential =  32621.220672320975\n",
      "energy_change =  0.15559143961581867\n",
      "p accept =  0.8559088093779009\n",
      "current step size = 0.0013027354983038138\n",
      "current acceptance ratio = 0.791231732776618\n",
      "currently working on step 959\n"
     ]
    },
    {
     "name": "stderr",
     "output_type": "stream",
     "text": [
      "100%|██████████| 100/100 [00:08<00:00, 12.30it/s]\n",
      "  0%|          | 0/99 [00:00<?, ?it/s]"
     ]
    },
    {
     "name": "stdout",
     "output_type": "stream",
     "text": [
      "initial_potential =  32621.220672320975\n",
      "final_potential =  32722.298312542887\n",
      "energy_change =  0.14874426266760565\n",
      "p accept =  0.8617894784624698\n",
      "current step size = 0.0013027354983038138\n",
      "current acceptance ratio = 0.7904066736183525\n",
      "currently working on step 960\n"
     ]
    },
    {
     "name": "stderr",
     "output_type": "stream",
     "text": [
      "100%|██████████| 99/99 [00:08<00:00, 11.96it/s]\n",
      "  0%|          | 0/98 [00:00<?, ?it/s]"
     ]
    },
    {
     "name": "stdout",
     "output_type": "stream",
     "text": [
      "initial_potential =  32621.220672320975\n",
      "final_potential =  32908.15624939834\n",
      "energy_change =  1.381272870086832\n",
      "p accept =  0.25125852996220066\n",
      "current step size = 0.0013027354983038138\n",
      "current acceptance ratio = 0.7895833333333333\n",
      "currently working on step 961\n"
     ]
    },
    {
     "name": "stderr",
     "output_type": "stream",
     "text": [
      "100%|██████████| 98/98 [00:08<00:00, 12.05it/s]\n",
      "  0%|          | 0/101 [00:00<?, ?it/s]"
     ]
    },
    {
     "name": "stdout",
     "output_type": "stream",
     "text": [
      "initial_potential =  32621.220672320975\n",
      "final_potential =  32706.36512696516\n",
      "energy_change =  -0.09417190882959403\n",
      "p accept =  1.098748614270937\n",
      "current step size = 0.0013027354983038138\n",
      "current acceptance ratio = 0.7898022892819979\n",
      "currently working on step 962\n"
     ]
    },
    {
     "name": "stderr",
     "output_type": "stream",
     "text": [
      "100%|██████████| 101/101 [00:08<00:00, 12.00it/s]\n",
      "  0%|          | 0/97 [00:00<?, ?it/s]"
     ]
    },
    {
     "name": "stdout",
     "output_type": "stream",
     "text": [
      "initial_potential =  32706.36512696516\n",
      "final_potential =  32870.636106194805\n",
      "energy_change =  1.248276967817219\n",
      "p accept =  0.286998879383508\n",
      "current step size = 0.0013027354983038138\n",
      "current acceptance ratio = 0.7889812889812889\n",
      "currently working on step 963\n"
     ]
    },
    {
     "name": "stderr",
     "output_type": "stream",
     "text": [
      "100%|██████████| 97/97 [00:08<00:00, 11.99it/s]\n",
      "  0%|          | 0/97 [00:00<?, ?it/s]"
     ]
    },
    {
     "name": "stdout",
     "output_type": "stream",
     "text": [
      "initial_potential =  32706.36512696516\n",
      "final_potential =  32704.048981630236\n",
      "energy_change =  0.38065205204475205\n",
      "p accept =  0.6834156413298755\n",
      "current step size = 0.0013027354983038138\n",
      "current acceptance ratio = 0.7892004153686397\n",
      "currently working on step 964\n"
     ]
    },
    {
     "name": "stderr",
     "output_type": "stream",
     "text": [
      "100%|██████████| 97/97 [00:08<00:00, 12.03it/s]\n",
      "  0%|          | 0/98 [00:00<?, ?it/s]"
     ]
    },
    {
     "name": "stdout",
     "output_type": "stream",
     "text": [
      "initial_potential =  32704.048981630236\n",
      "final_potential =  32761.188301967893\n",
      "energy_change =  -0.32948199509701226\n",
      "p accept =  1.3902477867397163\n",
      "current step size = 0.0013027354983038138\n",
      "current acceptance ratio = 0.7894190871369294\n",
      "currently working on step 965\n"
     ]
    },
    {
     "name": "stderr",
     "output_type": "stream",
     "text": [
      "100%|██████████| 98/98 [00:08<00:00, 12.09it/s]\n",
      "  0%|          | 0/99 [00:00<?, ?it/s]"
     ]
    },
    {
     "name": "stdout",
     "output_type": "stream",
     "text": [
      "initial_potential =  32761.188301967893\n",
      "final_potential =  32925.41857621365\n",
      "energy_change =  0.7460137835587375\n",
      "p accept =  0.47425326598522066\n",
      "current step size = 0.0013027354983038138\n",
      "current acceptance ratio = 0.7896373056994819\n",
      "currently working on step 966\n"
     ]
    },
    {
     "name": "stderr",
     "output_type": "stream",
     "text": [
      "100%|██████████| 99/99 [00:08<00:00, 12.10it/s]\n",
      "  0%|          | 0/97 [00:00<?, ?it/s]"
     ]
    },
    {
     "name": "stdout",
     "output_type": "stream",
     "text": [
      "initial_potential =  32925.41857621365\n",
      "final_potential =  32693.954890937785\n",
      "energy_change =  -0.7556695370294619\n",
      "p accept =  2.1290365150436124\n",
      "current step size = 0.0013027354983038138\n",
      "current acceptance ratio = 0.7898550724637681\n",
      "currently working on step 967\n"
     ]
    },
    {
     "name": "stderr",
     "output_type": "stream",
     "text": [
      "100%|██████████| 97/97 [00:08<00:00, 12.04it/s]\n",
      "  0%|          | 0/97 [00:00<?, ?it/s]"
     ]
    },
    {
     "name": "stdout",
     "output_type": "stream",
     "text": [
      "initial_potential =  32693.954890937785\n",
      "final_potential =  32662.364086366993\n",
      "energy_change =  -0.12576198915485293\n",
      "p accept =  1.1340122289510353\n",
      "current step size = 0.0013027354983038138\n",
      "current acceptance ratio = 0.7900723888314375\n",
      "currently working on step 968\n"
     ]
    },
    {
     "name": "stderr",
     "output_type": "stream",
     "text": [
      "100%|██████████| 97/97 [00:08<00:00, 11.98it/s]\n",
      "  0%|          | 0/98 [00:00<?, ?it/s]"
     ]
    },
    {
     "name": "stdout",
     "output_type": "stream",
     "text": [
      "initial_potential =  32662.364086366993\n",
      "final_potential =  32642.49562837422\n",
      "energy_change =  0.1450712312507676\n",
      "p accept =  0.8649606786853234\n",
      "current step size = 0.0013027354983038138\n",
      "current acceptance ratio = 0.7902892561983471\n",
      "currently working on step 969\n"
     ]
    },
    {
     "name": "stderr",
     "output_type": "stream",
     "text": [
      "100%|██████████| 98/98 [00:08<00:00, 11.98it/s]\n",
      "  0%|          | 0/101 [00:00<?, ?it/s]"
     ]
    },
    {
     "name": "stdout",
     "output_type": "stream",
     "text": [
      "initial_potential =  32642.49562837422\n",
      "final_potential =  32823.27906147786\n",
      "energy_change =  0.5465039961709408\n",
      "p accept =  0.578970358991657\n",
      "current step size = 0.0013027354983038138\n",
      "current acceptance ratio = 0.7894736842105263\n",
      "currently working on step 970\n"
     ]
    },
    {
     "name": "stderr",
     "output_type": "stream",
     "text": [
      "100%|██████████| 101/101 [00:08<00:00, 11.88it/s]\n",
      "  0%|          | 0/97 [00:00<?, ?it/s]"
     ]
    },
    {
     "name": "stdout",
     "output_type": "stream",
     "text": [
      "initial_potential =  32642.49562837422\n",
      "final_potential =  32724.65872188736\n",
      "energy_change =  0.2974734038580209\n",
      "p accept =  0.7426923357089185\n",
      "current step size = 0.0013027354983038138\n",
      "current acceptance ratio = 0.7896907216494845\n",
      "currently working on step 971\n"
     ]
    },
    {
     "name": "stderr",
     "output_type": "stream",
     "text": [
      "100%|██████████| 97/97 [00:08<00:00, 12.03it/s]\n",
      "  0%|          | 0/98 [00:00<?, ?it/s]"
     ]
    },
    {
     "name": "stdout",
     "output_type": "stream",
     "text": [
      "initial_potential =  32724.65872188736\n",
      "final_potential =  32746.909101630416\n",
      "energy_change =  0.47763446834869683\n",
      "p accept =  0.6202488761461821\n",
      "current step size = 0.0013027354983038138\n",
      "current acceptance ratio = 0.7888774459320288\n",
      "currently working on step 972\n"
     ]
    },
    {
     "name": "stderr",
     "output_type": "stream",
     "text": [
      "100%|██████████| 98/98 [00:08<00:00, 12.00it/s]\n",
      "  0%|          | 0/100 [00:00<?, ?it/s]"
     ]
    },
    {
     "name": "stdout",
     "output_type": "stream",
     "text": [
      "initial_potential =  32724.65872188736\n",
      "final_potential =  32732.892928577057\n",
      "energy_change =  0.13961688181734644\n",
      "p accept =  0.8696913661561771\n",
      "current step size = 0.0013027354983038138\n",
      "current acceptance ratio = 0.7890946502057613\n",
      "currently working on step 973\n"
     ]
    },
    {
     "name": "stderr",
     "output_type": "stream",
     "text": [
      "100%|██████████| 100/100 [00:08<00:00, 11.98it/s]\n",
      "  0%|          | 0/100 [00:00<?, ?it/s]"
     ]
    },
    {
     "name": "stdout",
     "output_type": "stream",
     "text": [
      "initial_potential =  32732.892928577057\n",
      "final_potential =  32908.58520969547\n",
      "energy_change =  0.5819566652935464\n",
      "p accept =  0.5588039039613092\n",
      "current step size = 0.0013027354983038138\n",
      "current acceptance ratio = 0.789311408016444\n",
      "currently working on step 974\n"
     ]
    },
    {
     "name": "stderr",
     "output_type": "stream",
     "text": [
      "100%|██████████| 100/100 [00:08<00:00, 12.04it/s]\n",
      "  0%|          | 0/97 [00:00<?, ?it/s]"
     ]
    },
    {
     "name": "stdout",
     "output_type": "stream",
     "text": [
      "initial_potential =  32908.58520969547\n",
      "final_potential =  32969.54792581703\n",
      "energy_change =  -0.12160589368431829\n",
      "p accept =  1.129308946278699\n",
      "current step size = 0.0013027354983038138\n",
      "current acceptance ratio = 0.7895277207392197\n",
      "currently working on step 975\n"
     ]
    },
    {
     "name": "stderr",
     "output_type": "stream",
     "text": [
      "100%|██████████| 97/97 [00:07<00:00, 12.27it/s]\n",
      "  0%|          | 0/99 [00:00<?, ?it/s]"
     ]
    },
    {
     "name": "stdout",
     "output_type": "stream",
     "text": [
      "initial_potential =  32969.54792581703\n",
      "final_potential =  33025.51231478156\n",
      "energy_change =  0.2799352052534232\n",
      "p accept =  0.75583271385828\n",
      "current step size = 0.0013027354983038138\n",
      "current acceptance ratio = 0.7897435897435897\n",
      "currently working on step 976\n"
     ]
    },
    {
     "name": "stderr",
     "output_type": "stream",
     "text": [
      "100%|██████████| 99/99 [00:08<00:00, 11.92it/s]\n",
      "  0%|          | 0/101 [00:00<?, ?it/s]"
     ]
    },
    {
     "name": "stdout",
     "output_type": "stream",
     "text": [
      "initial_potential =  33025.51231478156\n",
      "final_potential =  33062.596736571155\n",
      "energy_change =  0.4857199345860863\n",
      "p accept =  0.6152540945792108\n",
      "current step size = 0.0013027354983038138\n",
      "current acceptance ratio = 0.7889344262295082\n",
      "currently working on step 977\n"
     ]
    },
    {
     "name": "stderr",
     "output_type": "stream",
     "text": [
      "100%|██████████| 101/101 [00:08<00:00, 11.90it/s]\n",
      "  0%|          | 0/101 [00:00<?, ?it/s]"
     ]
    },
    {
     "name": "stdout",
     "output_type": "stream",
     "text": [
      "initial_potential =  33025.51231478156\n",
      "final_potential =  33154.782944795516\n",
      "energy_change =  0.7137093121855287\n",
      "p accept =  0.48982391373578615\n",
      "current step size = 0.0013027354983038138\n",
      "current acceptance ratio = 0.789150460593654\n",
      "currently working on step 978\n"
     ]
    },
    {
     "name": "stderr",
     "output_type": "stream",
     "text": [
      "100%|██████████| 101/101 [00:08<00:00, 12.02it/s]\n",
      "  0%|          | 0/100 [00:00<?, ?it/s]"
     ]
    },
    {
     "name": "stdout",
     "output_type": "stream",
     "text": [
      "initial_potential =  33154.782944795516\n",
      "final_potential =  33036.151676424146\n",
      "energy_change =  -0.4812212141841883\n",
      "p accept =  1.6180491807439175\n",
      "current step size = 0.0013027354983038138\n",
      "current acceptance ratio = 0.7893660531697342\n",
      "currently working on step 979\n"
     ]
    },
    {
     "name": "stderr",
     "output_type": "stream",
     "text": [
      "100%|██████████| 100/100 [00:08<00:00, 12.04it/s]\n",
      "  0%|          | 0/100 [00:00<?, ?it/s]"
     ]
    },
    {
     "name": "stdout",
     "output_type": "stream",
     "text": [
      "initial_potential =  33036.151676424146\n",
      "final_potential =  32743.141183109336\n",
      "energy_change =  -0.9591223979368806\n",
      "p accept =  2.6094054486608718\n",
      "current step size = 0.0013027354983038138\n",
      "current acceptance ratio = 0.7895812053115424\n",
      "currently working on step 980\n"
     ]
    },
    {
     "name": "stderr",
     "output_type": "stream",
     "text": [
      "100%|██████████| 100/100 [00:08<00:00, 12.00it/s]\n",
      "  0%|          | 0/98 [00:00<?, ?it/s]"
     ]
    },
    {
     "name": "stdout",
     "output_type": "stream",
     "text": [
      "initial_potential =  32743.141183109336\n",
      "final_potential =  32728.155562885706\n",
      "energy_change =  -0.24659776268526912\n",
      "p accept =  1.2796642805188856\n",
      "current step size = 0.0013027354983038138\n",
      "current acceptance ratio = 0.789795918367347\n",
      "currently working on step 981\n"
     ]
    },
    {
     "name": "stderr",
     "output_type": "stream",
     "text": [
      "100%|██████████| 98/98 [00:08<00:00, 11.92it/s]\n",
      "  0%|          | 0/100 [00:00<?, ?it/s]"
     ]
    },
    {
     "name": "stdout",
     "output_type": "stream",
     "text": [
      "initial_potential =  32728.155562885706\n",
      "final_potential =  32805.7125066261\n",
      "energy_change =  0.5335528916766634\n",
      "p accept =  0.586517430576815\n",
      "current step size = 0.0013027354983038138\n",
      "current acceptance ratio = 0.7889908256880734\n",
      "currently working on step 982\n"
     ]
    },
    {
     "name": "stderr",
     "output_type": "stream",
     "text": [
      "100%|██████████| 100/100 [00:08<00:00, 12.01it/s]\n",
      "  0%|          | 0/98 [00:00<?, ?it/s]"
     ]
    },
    {
     "name": "stdout",
     "output_type": "stream",
     "text": [
      "initial_potential =  32728.155562885706\n",
      "final_potential =  32670.858867149454\n",
      "energy_change =  0.08188562696159352\n",
      "p accept =  0.9213773333953609\n",
      "current step size = 0.0013027354983038138\n",
      "current acceptance ratio = 0.7892057026476579\n",
      "currently working on step 983\n"
     ]
    },
    {
     "name": "stderr",
     "output_type": "stream",
     "text": [
      "100%|██████████| 98/98 [00:08<00:00, 12.06it/s]\n",
      "  0%|          | 0/100 [00:00<?, ?it/s]"
     ]
    },
    {
     "name": "stdout",
     "output_type": "stream",
     "text": [
      "initial_potential =  32670.858867149454\n",
      "final_potential =  32777.410579457035\n",
      "energy_change =  0.22640618804143742\n",
      "p accept =  0.7973941439106766\n",
      "current step size = 0.0013027354983038138\n",
      "current acceptance ratio = 0.7884028484231943\n",
      "currently working on step 984\n"
     ]
    },
    {
     "name": "stderr",
     "output_type": "stream",
     "text": [
      "100%|██████████| 100/100 [00:08<00:00, 12.03it/s]\n",
      "  0%|          | 0/101 [00:00<?, ?it/s]"
     ]
    },
    {
     "name": "stdout",
     "output_type": "stream",
     "text": [
      "initial_potential =  32670.858867149454\n",
      "final_potential =  32661.516743164902\n",
      "energy_change =  0.42880577471805736\n",
      "p accept =  0.6512864131846655\n",
      "current step size = 0.0013027354983038138\n",
      "current acceptance ratio = 0.7876016260162602\n",
      "currently working on step 985\n"
     ]
    },
    {
     "name": "stderr",
     "output_type": "stream",
     "text": [
      "100%|██████████| 101/101 [00:08<00:00, 11.98it/s]\n",
      "  0%|          | 0/101 [00:00<?, ?it/s]"
     ]
    },
    {
     "name": "stdout",
     "output_type": "stream",
     "text": [
      "initial_potential =  32670.858867149454\n",
      "final_potential =  32784.5449800788\n",
      "energy_change =  0.7299668712221319\n",
      "p accept =  0.4819249554105421\n",
      "current step size = 0.0013027354983038138\n",
      "current acceptance ratio = 0.7868020304568528\n",
      "currently working on step 986\n"
     ]
    },
    {
     "name": "stderr",
     "output_type": "stream",
     "text": [
      "100%|██████████| 101/101 [00:08<00:00, 12.01it/s]\n",
      "  0%|          | 0/98 [00:00<?, ?it/s]"
     ]
    },
    {
     "name": "stdout",
     "output_type": "stream",
     "text": [
      "initial_potential =  32670.858867149454\n",
      "final_potential =  32606.537630543316\n",
      "energy_change =  -0.18060636287555099\n",
      "p accept =  1.1979435314232725\n",
      "current step size = 0.0013027354983038138\n",
      "current acceptance ratio = 0.7870182555780934\n",
      "currently working on step 987\n"
     ]
    },
    {
     "name": "stderr",
     "output_type": "stream",
     "text": [
      "100%|██████████| 98/98 [00:08<00:00, 11.99it/s]\n",
      "  0%|          | 0/101 [00:00<?, ?it/s]"
     ]
    },
    {
     "name": "stdout",
     "output_type": "stream",
     "text": [
      "initial_potential =  32606.537630543316\n",
      "final_potential =  32631.34356372449\n",
      "energy_change =  -0.06130544192274101\n",
      "p accept =  1.0632236176617262\n",
      "current step size = 0.0013027354983038138\n",
      "current acceptance ratio = 0.7872340425531915\n",
      "currently working on step 988\n"
     ]
    },
    {
     "name": "stderr",
     "output_type": "stream",
     "text": [
      "100%|██████████| 101/101 [00:08<00:00, 11.95it/s]\n",
      "  0%|          | 0/98 [00:00<?, ?it/s]"
     ]
    },
    {
     "name": "stdout",
     "output_type": "stream",
     "text": [
      "initial_potential =  32631.34356372449\n",
      "final_potential =  32915.79378194466\n",
      "energy_change =  1.064091934793396\n",
      "p accept =  0.34504103230917615\n",
      "current step size = 0.0013027354983038138\n",
      "current acceptance ratio = 0.7864372469635628\n",
      "currently working on step 989\n"
     ]
    },
    {
     "name": "stderr",
     "output_type": "stream",
     "text": [
      "100%|██████████| 98/98 [00:08<00:00, 12.02it/s]\n",
      "  0%|          | 0/99 [00:00<?, ?it/s]"
     ]
    },
    {
     "name": "stdout",
     "output_type": "stream",
     "text": [
      "initial_potential =  32631.34356372449\n",
      "final_potential =  32773.02649144165\n",
      "energy_change =  0.4758612630830612\n",
      "p accept =  0.6213496804068905\n",
      "current step size = 0.0013027354983038138\n",
      "current acceptance ratio = 0.7866531850353893\n",
      "currently working on step 990\n"
     ]
    },
    {
     "name": "stderr",
     "output_type": "stream",
     "text": [
      "100%|██████████| 99/99 [00:08<00:00, 12.00it/s]\n",
      "  0%|          | 0/98 [00:00<?, ?it/s]"
     ]
    },
    {
     "name": "stdout",
     "output_type": "stream",
     "text": [
      "initial_potential =  32773.02649144165\n",
      "final_potential =  32922.64545785911\n",
      "energy_change =  0.3803392902336782\n",
      "p accept =  0.6836294210729013\n",
      "current step size = 0.0013027354983038138\n",
      "current acceptance ratio = 0.7868686868686868\n",
      "currently working on step 991\n"
     ]
    },
    {
     "name": "stderr",
     "output_type": "stream",
     "text": [
      "100%|██████████| 98/98 [00:08<00:00, 11.93it/s]\n",
      "  0%|          | 0/98 [00:00<?, ?it/s]"
     ]
    },
    {
     "name": "stdout",
     "output_type": "stream",
     "text": [
      "initial_potential =  32922.64545785911\n",
      "final_potential =  32808.0739799987\n",
      "energy_change =  0.13668842939659953\n",
      "p accept =  0.8722419487498045\n",
      "current step size = 0.0013027354983038138\n",
      "current acceptance ratio = 0.7870837537840565\n",
      "currently working on step 992\n"
     ]
    },
    {
     "name": "stderr",
     "output_type": "stream",
     "text": [
      "100%|██████████| 98/98 [00:08<00:00, 11.97it/s]\n",
      "  0%|          | 0/97 [00:00<?, ?it/s]"
     ]
    },
    {
     "name": "stdout",
     "output_type": "stream",
     "text": [
      "initial_potential =  32808.0739799987\n",
      "final_potential =  32699.05320901584\n",
      "energy_change =  -0.34393593019922264\n",
      "p accept =  1.4104882629106288\n",
      "current step size = 0.0013027354983038138\n",
      "current acceptance ratio = 0.7872983870967742\n",
      "currently working on step 993\n"
     ]
    },
    {
     "name": "stderr",
     "output_type": "stream",
     "text": [
      "100%|██████████| 97/97 [00:08<00:00, 12.07it/s]\n",
      "  0%|          | 0/98 [00:00<?, ?it/s]"
     ]
    },
    {
     "name": "stdout",
     "output_type": "stream",
     "text": [
      "initial_potential =  32699.05320901584\n",
      "final_potential =  32717.95611548315\n",
      "energy_change =  -0.13138107472332194\n",
      "p accept =  1.1404022770012539\n",
      "current step size = 0.0013027354983038138\n",
      "current acceptance ratio = 0.7875125881168177\n",
      "currently working on step 994\n"
     ]
    },
    {
     "name": "stderr",
     "output_type": "stream",
     "text": [
      "100%|██████████| 98/98 [00:08<00:00, 12.00it/s]\n",
      "  0%|          | 0/97 [00:00<?, ?it/s]"
     ]
    },
    {
     "name": "stdout",
     "output_type": "stream",
     "text": [
      "initial_potential =  32717.95611548315\n",
      "final_potential =  32799.718726872874\n",
      "energy_change =  0.034356813033809885\n",
      "p accept =  0.9662266808490123\n",
      "current step size = 0.0013027354983038138\n",
      "current acceptance ratio = 0.7877263581488934\n",
      "currently working on step 995\n"
     ]
    },
    {
     "name": "stderr",
     "output_type": "stream",
     "text": [
      "100%|██████████| 97/97 [00:08<00:00, 11.96it/s]\n",
      "  0%|          | 0/100 [00:00<?, ?it/s]"
     ]
    },
    {
     "name": "stdout",
     "output_type": "stream",
     "text": [
      "initial_potential =  32799.718726872874\n",
      "final_potential =  32757.37446240803\n",
      "energy_change =  0.1661218246590579\n",
      "p accept =  0.8469430493560695\n",
      "current step size = 0.0013027354983038138\n",
      "current acceptance ratio = 0.7879396984924623\n",
      "currently working on step 996\n"
     ]
    },
    {
     "name": "stderr",
     "output_type": "stream",
     "text": [
      "100%|██████████| 100/100 [00:08<00:00, 12.23it/s]\n",
      "  0%|          | 0/99 [00:00<?, ?it/s]"
     ]
    },
    {
     "name": "stdout",
     "output_type": "stream",
     "text": [
      "initial_potential =  32757.37446240803\n",
      "final_potential =  32744.271164062797\n",
      "energy_change =  -0.0504964036954334\n",
      "p accept =  1.051793080779942\n",
      "current step size = 0.0013027354983038138\n",
      "current acceptance ratio = 0.7881526104417671\n",
      "currently working on step 997\n"
     ]
    },
    {
     "name": "stderr",
     "output_type": "stream",
     "text": [
      "100%|██████████| 99/99 [00:08<00:00, 11.91it/s]\n",
      "  0%|          | 0/100 [00:00<?, ?it/s]"
     ]
    },
    {
     "name": "stdout",
     "output_type": "stream",
     "text": [
      "initial_potential =  32744.271164062797\n",
      "final_potential =  32793.49663167497\n",
      "energy_change =  -0.3989622965309536\n",
      "p accept =  1.4902774289192244\n",
      "current step size = 0.0013027354983038138\n",
      "current acceptance ratio = 0.7883650952858575\n",
      "currently working on step 998\n"
     ]
    },
    {
     "name": "stderr",
     "output_type": "stream",
     "text": [
      "100%|██████████| 100/100 [00:08<00:00, 11.76it/s]\n",
      "  0%|          | 0/98 [00:00<?, ?it/s]"
     ]
    },
    {
     "name": "stdout",
     "output_type": "stream",
     "text": [
      "initial_potential =  32793.49663167497\n",
      "final_potential =  32785.29161431042\n",
      "energy_change =  0.3456435719708679\n",
      "p accept =  0.707764709334733\n",
      "current step size = 0.0013027354983038138\n",
      "current acceptance ratio = 0.7885771543086172\n",
      "currently working on step 999\n"
     ]
    },
    {
     "name": "stderr",
     "output_type": "stream",
     "text": [
      "100%|██████████| 98/98 [00:08<00:00, 11.95it/s]\n",
      "  0%|          | 0/98 [00:00<?, ?it/s]"
     ]
    },
    {
     "name": "stdout",
     "output_type": "stream",
     "text": [
      "initial_potential =  32785.29161431042\n",
      "final_potential =  32660.960194773885\n",
      "energy_change =  -0.33192786811559927\n",
      "p accept =  1.3936523181189315\n",
      "current step size = 0.0013027354983038138\n",
      "current acceptance ratio = 0.7887887887887888\n",
      "currently working on step 1000\n"
     ]
    },
    {
     "name": "stderr",
     "output_type": "stream",
     "text": [
      "100%|██████████| 98/98 [00:08<00:00, 11.94it/s]\n",
      "  0%|          | 0/99 [00:00<?, ?it/s]"
     ]
    },
    {
     "name": "stdout",
     "output_type": "stream",
     "text": [
      "initial_potential =  32660.960194773885\n",
      "final_potential =  32475.978908960282\n",
      "energy_change =  -0.5024858870892785\n",
      "p accept =  1.6528249040921688\n",
      "current step size = 0.0013027354983038138\n",
      "current acceptance ratio = 0.789\n",
      "currently working on step 1001\n"
     ]
    },
    {
     "name": "stderr",
     "output_type": "stream",
     "text": [
      "100%|██████████| 99/99 [00:08<00:00, 11.90it/s]\n",
      "  0%|          | 0/100 [00:00<?, ?it/s]"
     ]
    },
    {
     "name": "stdout",
     "output_type": "stream",
     "text": [
      "initial_potential =  32475.978908960282\n",
      "final_potential =  32595.958376701925\n",
      "energy_change =  0.14562541584018618\n",
      "p accept =  0.8644814636058138\n",
      "current step size = 0.0013027354983038138\n",
      "current acceptance ratio = 0.7892107892107892\n",
      "currently working on step 1002\n"
     ]
    },
    {
     "name": "stderr",
     "output_type": "stream",
     "text": [
      "100%|██████████| 100/100 [00:08<00:00, 11.91it/s]\n",
      "  0%|          | 0/98 [00:00<?, ?it/s]"
     ]
    },
    {
     "name": "stdout",
     "output_type": "stream",
     "text": [
      "initial_potential =  32595.958376701925\n",
      "final_potential =  32380.948997430016\n",
      "energy_change =  -0.4456678906281013\n",
      "p accept =  1.5615327807372945\n",
      "current step size = 0.0013027354983038138\n",
      "current acceptance ratio = 0.7894211576846307\n",
      "currently working on step 1003\n"
     ]
    },
    {
     "name": "stderr",
     "output_type": "stream",
     "text": [
      "100%|██████████| 98/98 [00:08<00:00, 11.89it/s]\n",
      "  0%|          | 0/99 [00:00<?, ?it/s]"
     ]
    },
    {
     "name": "stdout",
     "output_type": "stream",
     "text": [
      "initial_potential =  32380.948997430016\n",
      "final_potential =  32701.546922941285\n",
      "energy_change =  1.1264945354487281\n",
      "p accept =  0.32416762513455766\n",
      "current step size = 0.0013027354983038138\n",
      "current acceptance ratio = 0.7886340977068793\n",
      "currently working on step 1004\n"
     ]
    },
    {
     "name": "stderr",
     "output_type": "stream",
     "text": [
      "100%|██████████| 99/99 [00:08<00:00, 12.28it/s]\n",
      "  0%|          | 0/100 [00:00<?, ?it/s]"
     ]
    },
    {
     "name": "stdout",
     "output_type": "stream",
     "text": [
      "initial_potential =  32380.948997430016\n",
      "final_potential =  32626.345094664535\n",
      "energy_change =  0.7086350296012824\n",
      "p accept =  0.492315735447673\n",
      "current step size = 0.0013027354983038138\n",
      "current acceptance ratio = 0.7878486055776892\n",
      "currently working on step 1005\n"
     ]
    },
    {
     "name": "stderr",
     "output_type": "stream",
     "text": [
      "100%|██████████| 100/100 [00:08<00:00, 11.95it/s]\n",
      "  0%|          | 0/98 [00:00<?, ?it/s]"
     ]
    },
    {
     "name": "stdout",
     "output_type": "stream",
     "text": [
      "initial_potential =  32380.948997430016\n",
      "final_potential =  32733.60242524599\n",
      "energy_change =  1.4784472658939194\n",
      "p accept =  0.2279914237438038\n",
      "current step size = 0.0013027354983038138\n",
      "current acceptance ratio = 0.7880597014925373\n",
      "currently working on step 1006\n"
     ]
    },
    {
     "name": "stderr",
     "output_type": "stream",
     "text": [
      "100%|██████████| 98/98 [00:08<00:00, 11.93it/s]\n",
      "  0%|          | 0/100 [00:00<?, ?it/s]"
     ]
    },
    {
     "name": "stdout",
     "output_type": "stream",
     "text": [
      "initial_potential =  32733.60242524599\n",
      "final_potential =  32790.08814744521\n",
      "energy_change =  0.2004891168908216\n",
      "p accept =  0.8183303959563133\n",
      "current step size = 0.0013027354983038138\n",
      "current acceptance ratio = 0.7882703777335984\n",
      "currently working on step 1007\n"
     ]
    },
    {
     "name": "stderr",
     "output_type": "stream",
     "text": [
      "100%|██████████| 100/100 [00:08<00:00, 11.95it/s]\n",
      "  0%|          | 0/101 [00:00<?, ?it/s]"
     ]
    },
    {
     "name": "stdout",
     "output_type": "stream",
     "text": [
      "initial_potential =  32790.08814744521\n",
      "final_potential =  32700.31682838485\n",
      "energy_change =  -0.20706166760646738\n",
      "p accept =  1.2300584242007455\n",
      "current step size = 0.0013027354983038138\n",
      "current acceptance ratio = 0.788480635551142\n",
      "currently working on step 1008\n"
     ]
    },
    {
     "name": "stderr",
     "output_type": "stream",
     "text": [
      "100%|██████████| 101/101 [00:08<00:00, 11.94it/s]\n",
      "  0%|          | 0/98 [00:00<?, ?it/s]"
     ]
    },
    {
     "name": "stdout",
     "output_type": "stream",
     "text": [
      "initial_potential =  32700.31682838485\n",
      "final_potential =  32702.84022006682\n",
      "energy_change =  -0.34932028569164686\n",
      "p accept =  1.418103315814491\n",
      "current step size = 0.0013027354983038138\n",
      "current acceptance ratio = 0.7886904761904762\n",
      "currently working on step 1009\n"
     ]
    },
    {
     "name": "stderr",
     "output_type": "stream",
     "text": [
      "100%|██████████| 98/98 [00:08<00:00, 11.92it/s]\n",
      "  0%|          | 0/100 [00:00<?, ?it/s]"
     ]
    },
    {
     "name": "stdout",
     "output_type": "stream",
     "text": [
      "initial_potential =  32702.84022006682\n",
      "final_potential =  32712.46342706086\n",
      "energy_change =  -0.02449206130404491\n",
      "p accept =  1.0247944555433068\n",
      "current step size = 0.0013027354983038138\n",
      "current acceptance ratio = 0.7888999008919723\n",
      "currently working on step 1010\n"
     ]
    },
    {
     "name": "stderr",
     "output_type": "stream",
     "text": [
      "100%|██████████| 100/100 [00:08<00:00, 11.94it/s]\n",
      "  0%|          | 0/100 [00:00<?, ?it/s]"
     ]
    },
    {
     "name": "stdout",
     "output_type": "stream",
     "text": [
      "initial_potential =  32712.46342706086\n",
      "final_potential =  32664.54348374162\n",
      "energy_change =  0.5292856184532866\n",
      "p accept =  0.5890256084373917\n",
      "current step size = 0.0013027354983038138\n",
      "current acceptance ratio = 0.7881188118811882\n",
      "currently working on step 1011\n"
     ]
    },
    {
     "name": "stderr",
     "output_type": "stream",
     "text": [
      "100%|██████████| 100/100 [00:08<00:00, 11.94it/s]\n",
      "  0%|          | 0/97 [00:00<?, ?it/s]"
     ]
    },
    {
     "name": "stdout",
     "output_type": "stream",
     "text": [
      "initial_potential =  32712.46342706086\n",
      "final_potential =  32580.565514081263\n",
      "energy_change =  -0.5644600005616667\n",
      "p accept =  1.758497938388153\n",
      "current step size = 0.0013027354983038138\n",
      "current acceptance ratio = 0.7883283877349159\n",
      "currently working on step 1012\n"
     ]
    },
    {
     "name": "stderr",
     "output_type": "stream",
     "text": [
      "100%|██████████| 97/97 [00:08<00:00, 11.89it/s]\n",
      "  0%|          | 0/98 [00:00<?, ?it/s]"
     ]
    },
    {
     "name": "stdout",
     "output_type": "stream",
     "text": [
      "initial_potential =  32580.565514081263\n",
      "final_potential =  32521.155083784535\n",
      "energy_change =  -0.33973213205172215\n",
      "p accept =  1.4045713005353406\n",
      "current step size = 0.0013027354983038138\n",
      "current acceptance ratio = 0.7885375494071146\n",
      "currently working on step 1013\n"
     ]
    },
    {
     "name": "stderr",
     "output_type": "stream",
     "text": [
      "100%|██████████| 98/98 [00:08<00:00, 11.84it/s]\n",
      "  0%|          | 0/100 [00:00<?, ?it/s]"
     ]
    },
    {
     "name": "stdout",
     "output_type": "stream",
     "text": [
      "initial_potential =  32521.155083784535\n",
      "final_potential =  32582.812786501916\n",
      "energy_change =  0.10367711851722561\n",
      "p accept =  0.9015163333640799\n",
      "current step size = 0.0013027354983038138\n",
      "current acceptance ratio = 0.788746298124383\n",
      "currently working on step 1014\n"
     ]
    },
    {
     "name": "stderr",
     "output_type": "stream",
     "text": [
      "100%|██████████| 100/100 [00:08<00:00, 11.82it/s]\n",
      "  0%|          | 0/101 [00:00<?, ?it/s]"
     ]
    },
    {
     "name": "stdout",
     "output_type": "stream",
     "text": [
      "initial_potential =  32582.812786501916\n",
      "final_potential =  32547.137186744425\n",
      "energy_change =  -0.2537616872432409\n",
      "p accept =  1.288864614786233\n",
      "current step size = 0.0013027354983038138\n",
      "current acceptance ratio = 0.7889546351084813\n",
      "currently working on step 1015\n"
     ]
    },
    {
     "name": "stderr",
     "output_type": "stream",
     "text": [
      "100%|██████████| 101/101 [00:08<00:00, 11.89it/s]\n",
      "  0%|          | 0/98 [00:00<?, ?it/s]"
     ]
    },
    {
     "name": "stdout",
     "output_type": "stream",
     "text": [
      "initial_potential =  32547.137186744425\n",
      "final_potential =  32526.478639803616\n",
      "energy_change =  -0.007722083319094963\n",
      "p accept =  1.007751975498249\n",
      "current step size = 0.0013027354983038138\n",
      "current acceptance ratio = 0.7891625615763547\n",
      "currently working on step 1016\n"
     ]
    },
    {
     "name": "stderr",
     "output_type": "stream",
     "text": [
      "100%|██████████| 98/98 [00:08<00:00, 11.82it/s]\n",
      "  0%|          | 0/100 [00:00<?, ?it/s]"
     ]
    },
    {
     "name": "stdout",
     "output_type": "stream",
     "text": [
      "initial_potential =  32526.478639803616\n",
      "final_potential =  32535.414746669787\n",
      "energy_change =  -0.13080948201240972\n",
      "p accept =  1.1397506176318275\n",
      "current step size = 0.0013027354983038138\n",
      "current acceptance ratio = 0.7893700787401575\n",
      "currently working on step 1017\n"
     ]
    },
    {
     "name": "stderr",
     "output_type": "stream",
     "text": [
      "100%|██████████| 100/100 [00:08<00:00, 12.25it/s]\n",
      "  0%|          | 0/99 [00:00<?, ?it/s]"
     ]
    },
    {
     "name": "stdout",
     "output_type": "stream",
     "text": [
      "initial_potential =  32535.414746669787\n",
      "final_potential =  32764.52449060649\n",
      "energy_change =  1.1256464097241405\n",
      "p accept =  0.3244426766591621\n",
      "current step size = 0.0013027354983038138\n",
      "current acceptance ratio = 0.7885939036381514\n",
      "currently working on step 1018\n"
     ]
    },
    {
     "name": "stderr",
     "output_type": "stream",
     "text": [
      "100%|██████████| 99/99 [00:08<00:00, 11.95it/s]\n",
      "  0%|          | 0/98 [00:00<?, ?it/s]"
     ]
    },
    {
     "name": "stdout",
     "output_type": "stream",
     "text": [
      "initial_potential =  32535.414746669787\n",
      "final_potential =  32529.690875676137\n",
      "energy_change =  0.33205786542384885\n",
      "p accept =  0.7174458063475969\n",
      "current step size = 0.0013027354983038138\n",
      "current acceptance ratio = 0.7888015717092338\n",
      "currently working on step 1019\n"
     ]
    },
    {
     "name": "stderr",
     "output_type": "stream",
     "text": [
      "100%|██████████| 98/98 [00:08<00:00, 11.93it/s]\n",
      "  0%|          | 0/97 [00:00<?, ?it/s]"
     ]
    },
    {
     "name": "stdout",
     "output_type": "stream",
     "text": [
      "initial_potential =  32529.690875676137\n",
      "final_potential =  32376.52082734704\n",
      "energy_change =  -0.5483748751139501\n",
      "p accept =  1.730438552802271\n",
      "current step size = 0.0013027354983038138\n",
      "current acceptance ratio = 0.78900883218842\n",
      "currently working on step 1020\n"
     ]
    },
    {
     "name": "stderr",
     "output_type": "stream",
     "text": [
      "100%|██████████| 97/97 [00:08<00:00, 11.93it/s]\n",
      "  0%|          | 0/98 [00:00<?, ?it/s]"
     ]
    },
    {
     "name": "stdout",
     "output_type": "stream",
     "text": [
      "initial_potential =  32376.52082734704\n",
      "final_potential =  32519.55707655289\n",
      "energy_change =  0.205772473156685\n",
      "p accept =  0.8140182662207948\n",
      "current step size = 0.0013027354983038138\n",
      "current acceptance ratio = 0.7892156862745098\n",
      "currently working on step 1021\n"
     ]
    },
    {
     "name": "stderr",
     "output_type": "stream",
     "text": [
      "100%|██████████| 98/98 [00:08<00:00, 11.95it/s]\n",
      "  0%|          | 0/99 [00:00<?, ?it/s]"
     ]
    },
    {
     "name": "stdout",
     "output_type": "stream",
     "text": [
      "initial_potential =  32519.55707655289\n",
      "final_potential =  32457.96940938323\n",
      "energy_change =  -0.26704397806315683\n",
      "p accept =  1.306097884722894\n",
      "current step size = 0.0013027354983038138\n",
      "current acceptance ratio = 0.7894221351616063\n",
      "currently working on step 1022\n"
     ]
    },
    {
     "name": "stderr",
     "output_type": "stream",
     "text": [
      "100%|██████████| 99/99 [00:08<00:00, 11.98it/s]\n",
      "  0%|          | 0/101 [00:00<?, ?it/s]"
     ]
    },
    {
     "name": "stdout",
     "output_type": "stream",
     "text": [
      "initial_potential =  32457.96940938323\n",
      "final_potential =  32408.29316594007\n",
      "energy_change =  0.40502350620226935\n",
      "p accept =  0.6669611329509142\n",
      "current step size = 0.0013027354983038138\n",
      "current acceptance ratio = 0.7896281800391389\n",
      "currently working on step 1023\n"
     ]
    },
    {
     "name": "stderr",
     "output_type": "stream",
     "text": [
      "100%|██████████| 101/101 [00:08<00:00, 11.94it/s]\n",
      "  0%|          | 0/98 [00:00<?, ?it/s]"
     ]
    },
    {
     "name": "stdout",
     "output_type": "stream",
     "text": [
      "initial_potential =  32408.29316594007\n",
      "final_potential =  32404.296622892893\n",
      "energy_change =  0.019286197843030095\n",
      "p accept =  0.9808985910056842\n",
      "current step size = 0.0013027354983038138\n",
      "current acceptance ratio = 0.7898338220918866\n",
      "currently working on step 1024\n"
     ]
    },
    {
     "name": "stderr",
     "output_type": "stream",
     "text": [
      "100%|██████████| 98/98 [00:08<00:00, 11.95it/s]\n",
      "  0%|          | 0/98 [00:00<?, ?it/s]"
     ]
    },
    {
     "name": "stdout",
     "output_type": "stream",
     "text": [
      "initial_potential =  32404.296622892893\n",
      "final_potential =  32360.214898260492\n",
      "energy_change =  -0.2816471218247898\n",
      "p accept =  1.325310964146618\n",
      "current step size = 0.0013027354983038138\n",
      "current acceptance ratio = 0.7900390625\n",
      "currently working on step 1025\n"
     ]
    },
    {
     "name": "stderr",
     "output_type": "stream",
     "text": [
      "100%|██████████| 98/98 [00:08<00:00, 11.98it/s]\n",
      "  0%|          | 0/97 [00:00<?, ?it/s]"
     ]
    },
    {
     "name": "stdout",
     "output_type": "stream",
     "text": [
      "initial_potential =  32360.214898260492\n",
      "final_potential =  32419.486094635977\n",
      "energy_change =  0.028747026372002438\n",
      "p accept =  0.971662238299756\n",
      "current step size = 0.0013027354983038138\n",
      "current acceptance ratio = 0.7902439024390244\n",
      "currently working on step 1026\n"
     ]
    },
    {
     "name": "stderr",
     "output_type": "stream",
     "text": [
      "100%|██████████| 97/97 [00:08<00:00, 11.93it/s]\n",
      "  0%|          | 0/98 [00:00<?, ?it/s]"
     ]
    },
    {
     "name": "stdout",
     "output_type": "stream",
     "text": [
      "initial_potential =  32419.486094635977\n",
      "final_potential =  32421.097260698312\n",
      "energy_change =  -0.10365257163357455\n",
      "p accept =  1.1092150152023683\n",
      "current step size = 0.0013027354983038138\n",
      "current acceptance ratio = 0.7904483430799221\n",
      "currently working on step 1027\n"
     ]
    },
    {
     "name": "stderr",
     "output_type": "stream",
     "text": [
      "100%|██████████| 98/98 [00:08<00:00, 11.83it/s]\n",
      "  0%|          | 0/99 [00:00<?, ?it/s]"
     ]
    },
    {
     "name": "stdout",
     "output_type": "stream",
     "text": [
      "initial_potential =  32421.097260698312\n",
      "final_potential =  32495.872448514485\n",
      "energy_change =  0.3504713593138149\n",
      "p accept =  0.7043560066956516\n",
      "current step size = 0.0013027354983038138\n",
      "current acceptance ratio = 0.7896786757546251\n",
      "currently working on step 1028\n"
     ]
    },
    {
     "name": "stderr",
     "output_type": "stream",
     "text": [
      "100%|██████████| 99/99 [00:08<00:00, 11.97it/s]\n",
      "  0%|          | 0/101 [00:00<?, ?it/s]"
     ]
    },
    {
     "name": "stdout",
     "output_type": "stream",
     "text": [
      "initial_potential =  32421.097260698312\n",
      "final_potential =  32394.71129572638\n",
      "energy_change =  -0.306842538760975\n",
      "p accept =  1.3591269414097844\n",
      "current step size = 0.0013027354983038138\n",
      "current acceptance ratio = 0.7898832684824902\n",
      "currently working on step 1029\n"
     ]
    },
    {
     "name": "stderr",
     "output_type": "stream",
     "text": [
      "100%|██████████| 101/101 [00:08<00:00, 11.89it/s]\n",
      "  0%|          | 0/98 [00:00<?, ?it/s]"
     ]
    },
    {
     "name": "stdout",
     "output_type": "stream",
     "text": [
      "initial_potential =  32394.71129572638\n",
      "final_potential =  32832.0104723767\n",
      "energy_change =  1.9699679540062789\n",
      "p accept =  0.13946132532019764\n",
      "current step size = 0.0013027354983038138\n",
      "current acceptance ratio = 0.7891156462585034\n",
      "currently working on step 1030\n"
     ]
    },
    {
     "name": "stderr",
     "output_type": "stream",
     "text": [
      "100%|██████████| 98/98 [00:08<00:00, 11.92it/s]\n",
      "  0%|          | 0/101 [00:00<?, ?it/s]"
     ]
    },
    {
     "name": "stdout",
     "output_type": "stream",
     "text": [
      "initial_potential =  32394.71129572638\n",
      "final_potential =  32387.6262665434\n",
      "energy_change =  0.1335993809188949\n",
      "p accept =  0.8749405122646821\n",
      "current step size = 0.0013027354983038138\n",
      "current acceptance ratio = 0.7893203883495146\n",
      "currently working on step 1031\n"
     ]
    },
    {
     "name": "stderr",
     "output_type": "stream",
     "text": [
      "100%|██████████| 101/101 [00:08<00:00, 12.00it/s]\n",
      "  0%|          | 0/98 [00:00<?, ?it/s]"
     ]
    },
    {
     "name": "stdout",
     "output_type": "stream",
     "text": [
      "initial_potential =  32387.6262665434\n",
      "final_potential =  32639.43621743034\n",
      "energy_change =  0.8469055859895889\n",
      "p accept =  0.4287395791488333\n",
      "current step size = 0.0013027354983038138\n",
      "current acceptance ratio = 0.7895247332686712\n",
      "currently working on step 1032\n"
     ]
    },
    {
     "name": "stderr",
     "output_type": "stream",
     "text": [
      "100%|██████████| 98/98 [00:08<00:00, 11.98it/s]\n",
      "  0%|          | 0/98 [00:00<?, ?it/s]"
     ]
    },
    {
     "name": "stdout",
     "output_type": "stream",
     "text": [
      "initial_potential =  32639.43621743034\n",
      "final_potential =  32597.330777274597\n",
      "energy_change =  -0.18966184899909422\n",
      "p accept =  1.208840757824154\n",
      "current step size = 0.0013027354983038138\n",
      "current acceptance ratio = 0.7897286821705426\n",
      "currently working on step 1033\n"
     ]
    },
    {
     "name": "stderr",
     "output_type": "stream",
     "text": [
      "100%|██████████| 98/98 [00:08<00:00, 11.95it/s]\n",
      "  0%|          | 0/98 [00:00<?, ?it/s]"
     ]
    },
    {
     "name": "stdout",
     "output_type": "stream",
     "text": [
      "initial_potential =  32597.330777274597\n",
      "final_potential =  32592.952052820372\n",
      "energy_change =  0.42927092281752266\n",
      "p accept =  0.6509835389935031\n",
      "current step size = 0.0013027354983038138\n",
      "current acceptance ratio = 0.7889641819941917\n",
      "currently working on step 1034\n"
     ]
    },
    {
     "name": "stderr",
     "output_type": "stream",
     "text": [
      "100%|██████████| 98/98 [00:08<00:00, 11.86it/s]\n",
      "  0%|          | 0/100 [00:00<?, ?it/s]"
     ]
    },
    {
     "name": "stdout",
     "output_type": "stream",
     "text": [
      "initial_potential =  32597.330777274597\n",
      "final_potential =  32734.79781016047\n",
      "energy_change =  1.0310511058050906\n",
      "p accept =  0.3566319056261801\n",
      "current step size = 0.0013027354983038138\n",
      "current acceptance ratio = 0.7882011605415861\n",
      "currently working on step 1035\n"
     ]
    },
    {
     "name": "stderr",
     "output_type": "stream",
     "text": [
      "100%|██████████| 100/100 [00:08<00:00, 11.99it/s]\n",
      "  0%|          | 0/98 [00:00<?, ?it/s]"
     ]
    },
    {
     "name": "stdout",
     "output_type": "stream",
     "text": [
      "initial_potential =  32597.330777274597\n",
      "final_potential =  32687.85696995535\n",
      "energy_change =  0.709518701172783\n",
      "p accept =  0.4918808821900834\n",
      "current step size = 0.0013027354983038138\n",
      "current acceptance ratio = 0.7874396135265701\n",
      "currently working on step 1036\n"
     ]
    },
    {
     "name": "stderr",
     "output_type": "stream",
     "text": [
      "100%|██████████| 98/98 [00:08<00:00, 12.25it/s]\n",
      "  0%|          | 0/100 [00:00<?, ?it/s]"
     ]
    },
    {
     "name": "stdout",
     "output_type": "stream",
     "text": [
      "initial_potential =  32597.330777274597\n",
      "final_potential =  32596.341316144608\n",
      "energy_change =  0.23182041695690714\n",
      "p accept =  0.793088535771565\n",
      "current step size = 0.0013027354983038138\n",
      "current acceptance ratio = 0.7866795366795367\n",
      "currently working on step 1037\n"
     ]
    },
    {
     "name": "stderr",
     "output_type": "stream",
     "text": [
      "100%|██████████| 100/100 [00:08<00:00, 11.96it/s]\n",
      "  0%|          | 0/97 [00:00<?, ?it/s]"
     ]
    },
    {
     "name": "stdout",
     "output_type": "stream",
     "text": [
      "initial_potential =  32597.330777274597\n",
      "final_potential =  32961.01459164215\n",
      "energy_change =  1.861311702610692\n",
      "p accept =  0.15546856803613557\n",
      "current step size = 0.0013027354983038138\n",
      "current acceptance ratio = 0.7868852459016393\n",
      "currently working on step 1038\n"
     ]
    },
    {
     "name": "stderr",
     "output_type": "stream",
     "text": [
      "100%|██████████| 97/97 [00:08<00:00, 12.00it/s]\n",
      "  0%|          | 0/100 [00:00<?, ?it/s]"
     ]
    },
    {
     "name": "stdout",
     "output_type": "stream",
     "text": [
      "initial_potential =  32961.01459164215\n",
      "final_potential =  32991.61800565816\n",
      "energy_change =  0.28836677907384\n",
      "p accept =  0.7494866458020212\n",
      "current step size = 0.0013027354983038138\n",
      "current acceptance ratio = 0.7870905587668593\n",
      "currently working on step 1039\n"
     ]
    },
    {
     "name": "stderr",
     "output_type": "stream",
     "text": [
      "100%|██████████| 100/100 [00:08<00:00, 11.95it/s]\n",
      "  0%|          | 0/100 [00:00<?, ?it/s]"
     ]
    },
    {
     "name": "stdout",
     "output_type": "stream",
     "text": [
      "initial_potential =  32991.61800565816\n",
      "final_potential =  33320.100140617214\n",
      "energy_change =  1.0164429090218619\n",
      "p accept =  0.36187989317402924\n",
      "current step size = 0.0013027354983038138\n",
      "current acceptance ratio = 0.7863330125120308\n",
      "currently working on step 1040\n"
     ]
    },
    {
     "name": "stderr",
     "output_type": "stream",
     "text": [
      "100%|██████████| 100/100 [00:08<00:00, 11.96it/s]\n",
      "  0%|          | 0/98 [00:00<?, ?it/s]"
     ]
    },
    {
     "name": "stdout",
     "output_type": "stream",
     "text": [
      "initial_potential =  32991.61800565816\n",
      "final_potential =  32889.28482055804\n",
      "energy_change =  -0.42375509794510435\n",
      "p accept =  1.5276874141802794\n",
      "current step size = 0.0013027354983038138\n",
      "current acceptance ratio = 0.7865384615384615\n",
      "currently working on step 1041\n"
     ]
    },
    {
     "name": "stderr",
     "output_type": "stream",
     "text": [
      "100%|██████████| 98/98 [00:08<00:00, 11.63it/s]\n",
      "  0%|          | 0/100 [00:00<?, ?it/s]"
     ]
    },
    {
     "name": "stdout",
     "output_type": "stream",
     "text": [
      "initial_potential =  32889.28482055804\n",
      "final_potential =  33014.51091219342\n",
      "energy_change =  0.36144556931685656\n",
      "p accept =  0.6966685151867107\n",
      "current step size = 0.0013027354983038138\n",
      "current acceptance ratio = 0.7867435158501441\n",
      "currently working on step 1042\n"
     ]
    },
    {
     "name": "stderr",
     "output_type": "stream",
     "text": [
      "100%|██████████| 100/100 [00:08<00:00, 11.93it/s]\n",
      "  0%|          | 0/101 [00:00<?, ?it/s]"
     ]
    },
    {
     "name": "stdout",
     "output_type": "stream",
     "text": [
      "initial_potential =  33014.51091219342\n",
      "final_potential =  32875.812550681956\n",
      "energy_change =  -0.5325406450429\n",
      "p accept =  1.703254180412978\n",
      "current step size = 0.0013027354983038138\n",
      "current acceptance ratio = 0.7869481765834933\n",
      "currently working on step 1043\n"
     ]
    },
    {
     "name": "stderr",
     "output_type": "stream",
     "text": [
      "100%|██████████| 101/101 [00:08<00:00, 11.92it/s]\n",
      "  0%|          | 0/100 [00:00<?, ?it/s]"
     ]
    },
    {
     "name": "stdout",
     "output_type": "stream",
     "text": [
      "initial_potential =  32875.812550681956\n",
      "final_potential =  32883.79436733031\n",
      "energy_change =  -0.10932725468592253\n",
      "p accept =  1.115527352167183\n",
      "current step size = 0.0013027354983038138\n",
      "current acceptance ratio = 0.7871524448705657\n",
      "currently working on step 1044\n"
     ]
    },
    {
     "name": "stderr",
     "output_type": "stream",
     "text": [
      "100%|██████████| 100/100 [00:08<00:00, 11.96it/s]\n",
      "  0%|          | 0/101 [00:00<?, ?it/s]"
     ]
    },
    {
     "name": "stdout",
     "output_type": "stream",
     "text": [
      "initial_potential =  32883.79436733031\n",
      "final_potential =  32912.38787951493\n",
      "energy_change =  0.2852288781723473\n",
      "p accept =  0.7518421543669874\n",
      "current step size = 0.0013027354983038138\n",
      "current acceptance ratio = 0.7873563218390804\n",
      "currently working on step 1045\n"
     ]
    },
    {
     "name": "stderr",
     "output_type": "stream",
     "text": [
      "100%|██████████| 101/101 [00:08<00:00, 11.99it/s]\n",
      "  0%|          | 0/97 [00:00<?, ?it/s]"
     ]
    },
    {
     "name": "stdout",
     "output_type": "stream",
     "text": [
      "initial_potential =  32912.38787951493\n",
      "final_potential =  32965.41063825188\n",
      "energy_change =  -0.029239151903311722\n",
      "p accept =  1.0296708127668286\n",
      "current step size = 0.0013027354983038138\n",
      "current acceptance ratio = 0.7875598086124402\n",
      "currently working on step 1046\n"
     ]
    },
    {
     "name": "stderr",
     "output_type": "stream",
     "text": [
      "100%|██████████| 97/97 [00:08<00:00, 11.99it/s]\n",
      "  0%|          | 0/101 [00:00<?, ?it/s]"
     ]
    },
    {
     "name": "stdout",
     "output_type": "stream",
     "text": [
      "initial_potential =  32965.41063825188\n",
      "final_potential =  33006.857747126705\n",
      "energy_change =  0.32839608840004075\n",
      "p accept =  0.7200777487693616\n",
      "current step size = 0.0013027354983038138\n",
      "current acceptance ratio = 0.7877629063097514\n",
      "currently working on step 1047\n"
     ]
    },
    {
     "name": "stderr",
     "output_type": "stream",
     "text": [
      "100%|██████████| 101/101 [00:08<00:00, 11.97it/s]\n",
      "  0%|          | 0/99 [00:00<?, ?it/s]"
     ]
    },
    {
     "name": "stdout",
     "output_type": "stream",
     "text": [
      "initial_potential =  33006.857747126705\n",
      "final_potential =  33038.285576464026\n",
      "energy_change =  0.06956049797008745\n",
      "p accept =  0.9328036989472124\n",
      "current step size = 0.0013027354983038138\n",
      "current acceptance ratio = 0.7879656160458453\n",
      "currently working on step 1048\n"
     ]
    },
    {
     "name": "stderr",
     "output_type": "stream",
     "text": [
      "100%|██████████| 99/99 [00:08<00:00, 11.77it/s]\n",
      "  0%|          | 0/99 [00:00<?, ?it/s]"
     ]
    },
    {
     "name": "stdout",
     "output_type": "stream",
     "text": [
      "initial_potential =  33038.285576464026\n",
      "final_potential =  32976.84799408194\n",
      "energy_change =  -0.7218031252414221\n",
      "p accept =  2.0581409527799632\n",
      "current step size = 0.0013027354983038138\n",
      "current acceptance ratio = 0.7881679389312977\n",
      "currently working on step 1049\n"
     ]
    },
    {
     "name": "stderr",
     "output_type": "stream",
     "text": [
      "100%|██████████| 99/99 [00:08<00:00, 11.95it/s]\n",
      "  0%|          | 0/100 [00:00<?, ?it/s]"
     ]
    },
    {
     "name": "stdout",
     "output_type": "stream",
     "text": [
      "initial_potential =  32976.84799408194\n",
      "final_potential =  32797.24549072364\n",
      "energy_change =  -0.4540463426383212\n",
      "p accept =  1.5746709701913781\n",
      "current step size = 0.0013027354983038138\n",
      "current acceptance ratio = 0.7883698760724499\n",
      "currently working on step 1050\n"
     ]
    },
    {
     "name": "stderr",
     "output_type": "stream",
     "text": [
      "100%|██████████| 100/100 [00:08<00:00, 11.94it/s]\n"
     ]
    },
    {
     "name": "stdout",
     "output_type": "stream",
     "text": [
      "initial_potential =  32797.24549072364\n",
      "final_potential =  32863.08234212717\n",
      "energy_change =  0.4425768497167155\n",
      "p accept =  0.6423789724291089\n",
      "current step size = 0.0013027354983038138\n",
      "current acceptance ratio = 0.7885714285714286\n"
     ]
    }
   ],
   "source": [
    "vc.prepare_pos_sampling()\n",
    "samples = vc.hamiltonian_monte_carlo(\n",
    "    n_samples = 1000,\n",
    "    m = 1,\n",
    "    initial_position = np.zeros(alpha**l),\n",
    "    tune = 50,\n",
    "    initial_step_size = 1e-10,\n",
    "    num_steps = 100,\n",
    "    max_energy_change=10.0,\n",
    "    intermediate_output=False\n",
    "  )\n",
    "\n",
    "samples0=samples[0]\n",
    "samples0 = map + samples0\n",
    "sample_name = [fl_name, scheme, \"hmc\", str(i + 1), str(j + 1)]\n",
    "pd.DataFrame(samples0).to_csv(dirout + \"_\".join(sample_name) + \".tsv\", header = None, index = None)"
   ]
  },
  {
   "cell_type": "code",
   "execution_count": 13,
   "metadata": {
    "collapsed": true
   },
   "outputs": [
    {
     "ename": "KeyboardInterrupt",
     "evalue": "",
     "output_type": "error",
     "traceback": [
      "\u001b[0;31m---------------------------------------------------------------------------\u001b[0m",
      "\u001b[0;31mKeyboardInterrupt\u001b[0m                         Traceback (most recent call last)",
      "\u001b[0;32m<ipython-input-13-119e3bd7ad65>\u001b[0m in \u001b[0;36m<module>\u001b[0;34m\u001b[0m\n\u001b[0;32m----> 1\u001b[0;31m \u001b[0msamples\u001b[0m \u001b[0;34m=\u001b[0m \u001b[0mpd\u001b[0m\u001b[0;34m.\u001b[0m\u001b[0mread_csv\u001b[0m\u001b[0;34m(\u001b[0m\u001b[0mdirout\u001b[0m \u001b[0;34m+\u001b[0m \u001b[0;34m'/hmc_samples'\u001b[0m \u001b[0;34m+\u001b[0m \u001b[0;34m'.txt'\u001b[0m\u001b[0;34m,\u001b[0m \u001b[0mheader\u001b[0m \u001b[0;34m=\u001b[0m \u001b[0;32mNone\u001b[0m\u001b[0;34m)\u001b[0m\u001b[0;34m\u001b[0m\u001b[0;34m\u001b[0m\u001b[0m\n\u001b[0m\u001b[1;32m      2\u001b[0m \u001b[0msamples\u001b[0m \u001b[0;34m=\u001b[0m \u001b[0mnp\u001b[0m\u001b[0;34m.\u001b[0m\u001b[0marray\u001b[0m\u001b[0;34m(\u001b[0m\u001b[0msamples\u001b[0m\u001b[0;34m)\u001b[0m\u001b[0;34m\u001b[0m\u001b[0;34m\u001b[0m\u001b[0m\n",
      "\u001b[0;32m/Library/Frameworks/Python.framework/Versions/3.8/lib/python3.8/site-packages/pandas/util/_decorators.py\u001b[0m in \u001b[0;36mwrapper\u001b[0;34m(*args, **kwargs)\u001b[0m\n\u001b[1;32m    309\u001b[0m                     \u001b[0mstacklevel\u001b[0m\u001b[0;34m=\u001b[0m\u001b[0mstacklevel\u001b[0m\u001b[0;34m,\u001b[0m\u001b[0;34m\u001b[0m\u001b[0;34m\u001b[0m\u001b[0m\n\u001b[1;32m    310\u001b[0m                 )\n\u001b[0;32m--> 311\u001b[0;31m             \u001b[0;32mreturn\u001b[0m \u001b[0mfunc\u001b[0m\u001b[0;34m(\u001b[0m\u001b[0;34m*\u001b[0m\u001b[0margs\u001b[0m\u001b[0;34m,\u001b[0m \u001b[0;34m**\u001b[0m\u001b[0mkwargs\u001b[0m\u001b[0;34m)\u001b[0m\u001b[0;34m\u001b[0m\u001b[0;34m\u001b[0m\u001b[0m\n\u001b[0m\u001b[1;32m    312\u001b[0m \u001b[0;34m\u001b[0m\u001b[0m\n\u001b[1;32m    313\u001b[0m         \u001b[0;32mreturn\u001b[0m \u001b[0mwrapper\u001b[0m\u001b[0;34m\u001b[0m\u001b[0;34m\u001b[0m\u001b[0m\n",
      "\u001b[0;32m/Library/Frameworks/Python.framework/Versions/3.8/lib/python3.8/site-packages/pandas/io/parsers/readers.py\u001b[0m in \u001b[0;36mread_csv\u001b[0;34m(filepath_or_buffer, sep, delimiter, header, names, index_col, usecols, squeeze, prefix, mangle_dupe_cols, dtype, engine, converters, true_values, false_values, skipinitialspace, skiprows, skipfooter, nrows, na_values, keep_default_na, na_filter, verbose, skip_blank_lines, parse_dates, infer_datetime_format, keep_date_col, date_parser, dayfirst, cache_dates, iterator, chunksize, compression, thousands, decimal, lineterminator, quotechar, quoting, doublequote, escapechar, comment, encoding, encoding_errors, dialect, error_bad_lines, warn_bad_lines, on_bad_lines, delim_whitespace, low_memory, memory_map, float_precision, storage_options)\u001b[0m\n\u001b[1;32m    678\u001b[0m     \u001b[0mkwds\u001b[0m\u001b[0;34m.\u001b[0m\u001b[0mupdate\u001b[0m\u001b[0;34m(\u001b[0m\u001b[0mkwds_defaults\u001b[0m\u001b[0;34m)\u001b[0m\u001b[0;34m\u001b[0m\u001b[0;34m\u001b[0m\u001b[0m\n\u001b[1;32m    679\u001b[0m \u001b[0;34m\u001b[0m\u001b[0m\n\u001b[0;32m--> 680\u001b[0;31m     \u001b[0;32mreturn\u001b[0m \u001b[0m_read\u001b[0m\u001b[0;34m(\u001b[0m\u001b[0mfilepath_or_buffer\u001b[0m\u001b[0;34m,\u001b[0m \u001b[0mkwds\u001b[0m\u001b[0;34m)\u001b[0m\u001b[0;34m\u001b[0m\u001b[0;34m\u001b[0m\u001b[0m\n\u001b[0m\u001b[1;32m    681\u001b[0m \u001b[0;34m\u001b[0m\u001b[0m\n\u001b[1;32m    682\u001b[0m \u001b[0;34m\u001b[0m\u001b[0m\n",
      "\u001b[0;32m/Library/Frameworks/Python.framework/Versions/3.8/lib/python3.8/site-packages/pandas/io/parsers/readers.py\u001b[0m in \u001b[0;36m_read\u001b[0;34m(filepath_or_buffer, kwds)\u001b[0m\n\u001b[1;32m    579\u001b[0m \u001b[0;34m\u001b[0m\u001b[0m\n\u001b[1;32m    580\u001b[0m     \u001b[0;32mwith\u001b[0m \u001b[0mparser\u001b[0m\u001b[0;34m:\u001b[0m\u001b[0;34m\u001b[0m\u001b[0;34m\u001b[0m\u001b[0m\n\u001b[0;32m--> 581\u001b[0;31m         \u001b[0;32mreturn\u001b[0m \u001b[0mparser\u001b[0m\u001b[0;34m.\u001b[0m\u001b[0mread\u001b[0m\u001b[0;34m(\u001b[0m\u001b[0mnrows\u001b[0m\u001b[0;34m)\u001b[0m\u001b[0;34m\u001b[0m\u001b[0;34m\u001b[0m\u001b[0m\n\u001b[0m\u001b[1;32m    582\u001b[0m \u001b[0;34m\u001b[0m\u001b[0m\n\u001b[1;32m    583\u001b[0m \u001b[0;34m\u001b[0m\u001b[0m\n",
      "\u001b[0;32m/Library/Frameworks/Python.framework/Versions/3.8/lib/python3.8/site-packages/pandas/io/parsers/readers.py\u001b[0m in \u001b[0;36mread\u001b[0;34m(self, nrows)\u001b[0m\n\u001b[1;32m   1248\u001b[0m             \u001b[0mnrows\u001b[0m \u001b[0;34m=\u001b[0m \u001b[0mvalidate_integer\u001b[0m\u001b[0;34m(\u001b[0m\u001b[0;34m\"nrows\"\u001b[0m\u001b[0;34m,\u001b[0m \u001b[0mnrows\u001b[0m\u001b[0;34m)\u001b[0m\u001b[0;34m\u001b[0m\u001b[0;34m\u001b[0m\u001b[0m\n\u001b[1;32m   1249\u001b[0m             \u001b[0;32mtry\u001b[0m\u001b[0;34m:\u001b[0m\u001b[0;34m\u001b[0m\u001b[0;34m\u001b[0m\u001b[0m\n\u001b[0;32m-> 1250\u001b[0;31m                 \u001b[0mindex\u001b[0m\u001b[0;34m,\u001b[0m \u001b[0mcolumns\u001b[0m\u001b[0;34m,\u001b[0m \u001b[0mcol_dict\u001b[0m \u001b[0;34m=\u001b[0m \u001b[0mself\u001b[0m\u001b[0;34m.\u001b[0m\u001b[0m_engine\u001b[0m\u001b[0;34m.\u001b[0m\u001b[0mread\u001b[0m\u001b[0;34m(\u001b[0m\u001b[0mnrows\u001b[0m\u001b[0;34m)\u001b[0m\u001b[0;34m\u001b[0m\u001b[0;34m\u001b[0m\u001b[0m\n\u001b[0m\u001b[1;32m   1251\u001b[0m             \u001b[0;32mexcept\u001b[0m \u001b[0mException\u001b[0m\u001b[0;34m:\u001b[0m\u001b[0;34m\u001b[0m\u001b[0;34m\u001b[0m\u001b[0m\n\u001b[1;32m   1252\u001b[0m                 \u001b[0mself\u001b[0m\u001b[0;34m.\u001b[0m\u001b[0mclose\u001b[0m\u001b[0;34m(\u001b[0m\u001b[0;34m)\u001b[0m\u001b[0;34m\u001b[0m\u001b[0;34m\u001b[0m\u001b[0m\n",
      "\u001b[0;32m/Library/Frameworks/Python.framework/Versions/3.8/lib/python3.8/site-packages/pandas/io/parsers/c_parser_wrapper.py\u001b[0m in \u001b[0;36mread\u001b[0;34m(self, nrows)\u001b[0m\n\u001b[1;32m    223\u001b[0m         \u001b[0;32mtry\u001b[0m\u001b[0;34m:\u001b[0m\u001b[0;34m\u001b[0m\u001b[0;34m\u001b[0m\u001b[0m\n\u001b[1;32m    224\u001b[0m             \u001b[0;32mif\u001b[0m \u001b[0mself\u001b[0m\u001b[0;34m.\u001b[0m\u001b[0mlow_memory\u001b[0m\u001b[0;34m:\u001b[0m\u001b[0;34m\u001b[0m\u001b[0;34m\u001b[0m\u001b[0m\n\u001b[0;32m--> 225\u001b[0;31m                 \u001b[0mchunks\u001b[0m \u001b[0;34m=\u001b[0m \u001b[0mself\u001b[0m\u001b[0;34m.\u001b[0m\u001b[0m_reader\u001b[0m\u001b[0;34m.\u001b[0m\u001b[0mread_low_memory\u001b[0m\u001b[0;34m(\u001b[0m\u001b[0mnrows\u001b[0m\u001b[0;34m)\u001b[0m\u001b[0;34m\u001b[0m\u001b[0;34m\u001b[0m\u001b[0m\n\u001b[0m\u001b[1;32m    226\u001b[0m                 \u001b[0;31m# destructive to chunks\u001b[0m\u001b[0;34m\u001b[0m\u001b[0;34m\u001b[0m\u001b[0;34m\u001b[0m\u001b[0m\n\u001b[1;32m    227\u001b[0m                 \u001b[0mdata\u001b[0m \u001b[0;34m=\u001b[0m \u001b[0m_concatenate_chunks\u001b[0m\u001b[0;34m(\u001b[0m\u001b[0mchunks\u001b[0m\u001b[0;34m)\u001b[0m\u001b[0;34m\u001b[0m\u001b[0;34m\u001b[0m\u001b[0m\n",
      "\u001b[0;32m/Library/Frameworks/Python.framework/Versions/3.8/lib/python3.8/site-packages/pandas/_libs/parsers.pyx\u001b[0m in \u001b[0;36mpandas._libs.parsers.TextReader.read_low_memory\u001b[0;34m()\u001b[0m\n",
      "\u001b[0;32m/Library/Frameworks/Python.framework/Versions/3.8/lib/python3.8/site-packages/pandas/_libs/parsers.pyx\u001b[0m in \u001b[0;36mpandas._libs.parsers.TextReader._read_rows\u001b[0;34m()\u001b[0m\n",
      "\u001b[0;32m/Library/Frameworks/Python.framework/Versions/3.8/lib/python3.8/site-packages/pandas/_libs/parsers.pyx\u001b[0m in \u001b[0;36mpandas._libs.parsers.TextReader._convert_column_data\u001b[0;34m()\u001b[0m\n",
      "\u001b[0;32m/Library/Frameworks/Python.framework/Versions/3.8/lib/python3.8/site-packages/pandas/_libs/parsers.pyx\u001b[0m in \u001b[0;36mpandas._libs.parsers.TextReader._convert_tokens\u001b[0;34m()\u001b[0m\n",
      "\u001b[0;32m/Library/Frameworks/Python.framework/Versions/3.8/lib/python3.8/site-packages/pandas/_libs/parsers.pyx\u001b[0m in \u001b[0;36mpandas._libs.parsers.TextReader._convert_with_dtype\u001b[0;34m()\u001b[0m\n",
      "\u001b[0;32m/Library/Frameworks/Python.framework/Versions/3.8/lib/python3.8/site-packages/pandas/core/dtypes/common.py\u001b[0m in \u001b[0;36mis_integer_dtype\u001b[0;34m(arr_or_dtype)\u001b[0m\n\u001b[1;32m    727\u001b[0m     \u001b[0;32mFalse\u001b[0m\u001b[0;34m\u001b[0m\u001b[0;34m\u001b[0m\u001b[0m\n\u001b[1;32m    728\u001b[0m     \"\"\"\n\u001b[0;32m--> 729\u001b[0;31m     \u001b[0;32mreturn\u001b[0m \u001b[0m_is_dtype_type\u001b[0m\u001b[0;34m(\u001b[0m\u001b[0marr_or_dtype\u001b[0m\u001b[0;34m,\u001b[0m \u001b[0mclasses_and_not_datetimelike\u001b[0m\u001b[0;34m(\u001b[0m\u001b[0mnp\u001b[0m\u001b[0;34m.\u001b[0m\u001b[0minteger\u001b[0m\u001b[0;34m)\u001b[0m\u001b[0;34m)\u001b[0m\u001b[0;34m\u001b[0m\u001b[0;34m\u001b[0m\u001b[0m\n\u001b[0m\u001b[1;32m    730\u001b[0m \u001b[0;34m\u001b[0m\u001b[0m\n\u001b[1;32m    731\u001b[0m \u001b[0;34m\u001b[0m\u001b[0m\n",
      "\u001b[0;32m/Library/Frameworks/Python.framework/Versions/3.8/lib/python3.8/site-packages/pandas/core/dtypes/common.py\u001b[0m in \u001b[0;36mclasses_and_not_datetimelike\u001b[0;34m(*klasses)\u001b[0m\n\u001b[1;32m    148\u001b[0m \u001b[0;34m\u001b[0m\u001b[0m\n\u001b[1;32m    149\u001b[0m \u001b[0;34m\u001b[0m\u001b[0m\n\u001b[0;32m--> 150\u001b[0;31m \u001b[0;32mdef\u001b[0m \u001b[0mclasses_and_not_datetimelike\u001b[0m\u001b[0;34m(\u001b[0m\u001b[0;34m*\u001b[0m\u001b[0mklasses\u001b[0m\u001b[0;34m)\u001b[0m \u001b[0;34m->\u001b[0m \u001b[0mCallable\u001b[0m\u001b[0;34m:\u001b[0m\u001b[0;34m\u001b[0m\u001b[0;34m\u001b[0m\u001b[0m\n\u001b[0m\u001b[1;32m    151\u001b[0m     \"\"\"\n\u001b[1;32m    152\u001b[0m     \u001b[0mEvaluate\u001b[0m \u001b[0;32mif\u001b[0m \u001b[0mthe\u001b[0m \u001b[0mtipo\u001b[0m \u001b[0;32mis\u001b[0m \u001b[0ma\u001b[0m \u001b[0msubclass\u001b[0m \u001b[0mof\u001b[0m \u001b[0mthe\u001b[0m \u001b[0mklasses\u001b[0m\u001b[0;34m\u001b[0m\u001b[0;34m\u001b[0m\u001b[0m\n",
      "\u001b[0;31mKeyboardInterrupt\u001b[0m: "
     ]
    }
   ],
   "source": [
    "samples = pd.read_csv(dirout + '/hmc_samples' + '.txt', header = None)\n",
    "samples = np.array(samples)"
   ]
  },
  {
   "cell_type": "code",
   "execution_count": 21,
   "metadata": {},
   "outputs": [],
   "source": [
    "samples0=samples[0]\n",
    "samples0 = map + samples0\n",
    "\n",
    "\n",
    "lambdaspos = []\n",
    "\n",
    "for i in np.arange(0, 1000, 100):\n",
    "    rhod,_ = vc.compute_rhod_and_Nd_custom(np.array(samples0)[i], range(G))\n",
    "    lambdas = sp.linalg.inv(vc.W_kd.T).dot(rhod)\n",
    "    lambdaspos.append(lambdas)\n",
    "\n",
    "pd.DataFrame(lambdaspos).to_csv(dirout + \"/posterior_lambdas.csv\", header = None, index = None)    "
   ]
  },
  {
   "cell_type": "code",
   "execution_count": 60,
   "metadata": {
    "scrolled": true
   },
   "outputs": [
    {
     "name": "stdout",
     "output_type": "stream",
     "text": [
      "/Users/keitokiddo/VC_revision/Simulations/2_16_DEN\r\n"
     ]
    }
   ],
   "source": [
    "!pwd"
   ]
  },
  {
   "cell_type": "code",
   "execution_count": null,
   "metadata": {},
   "outputs": [],
   "source": []
  }
 ],
 "metadata": {
  "kernelspec": {
   "display_name": "Python 3",
   "language": "python",
   "name": "python3"
  },
  "language_info": {
   "codemirror_mode": {
    "name": "ipython",
    "version": 3
   },
   "file_extension": ".py",
   "mimetype": "text/x-python",
   "name": "python",
   "nbconvert_exporter": "python",
   "pygments_lexer": "ipython3",
   "version": "3.8.6"
  }
 },
 "nbformat": 4,
 "nbformat_minor": 4
}
