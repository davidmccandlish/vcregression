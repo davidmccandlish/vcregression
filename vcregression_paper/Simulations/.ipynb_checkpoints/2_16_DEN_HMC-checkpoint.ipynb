{
 "cells": [
  {
   "cell_type": "code",
   "execution_count": 1,
   "metadata": {},
   "outputs": [],
   "source": [
    "import matplotlib.pyplot as plt"
   ]
  },
  {
   "cell_type": "code",
   "execution_count": 2,
   "metadata": {},
   "outputs": [
    {
     "name": "stdout",
     "output_type": "stream",
     "text": [
      "Loading L_sparse ...\n",
      "0.04 sec\n"
     ]
    }
   ],
   "source": [
    "fl_name = \"2_16_DEN\"\n",
    "alpha, l = 2, 16 \n",
    "\n",
    "import os\n",
    "\n",
    "os.chdir(\"/Users/keitokiddo/VC_revision/Simulations/\" + fl_name)\n",
    "import scipy as sp\n",
    "import sys\n",
    "sys.path.insert(1, '/Users/keitokiddo/git/vcregression/vcregression')\n",
    "\n",
    "import vc_regression as vc\n",
    "import itertools\n",
    "import os\n",
    "import csv\n",
    "import pandas as pd\n",
    "import numpy as np\n",
    "import arrow\n",
    "import scipy as sp\n",
    "\n",
    "#define sequence space parameters\n",
    "\n",
    "G = alpha**l\n",
    "bases = np.array(range(alpha))\n",
    "seqs = list(itertools.product(bases, repeat=l)) #generate all possible sequences\n",
    "\n",
    "dirin = \"data/\"\n",
    "dirout = \"out/\"\n",
    "vc.preliminary_preparation(alpha, l)\n"
   ]
  },
  {
   "cell_type": "code",
   "execution_count": 46,
   "metadata": {},
   "outputs": [],
   "source": [
    "lda_tru = pd.read_csv(\"tru_lda.tsv\", header=None).to_numpy().squeeze()/0.00452154\n",
    "lda_tru = np.concatenate(([1e-10], lda_tru))"
   ]
  },
  {
   "cell_type": "code",
   "execution_count": 47,
   "metadata": {},
   "outputs": [],
   "source": [
    "import matplotlib.pyplot as plt"
   ]
  },
  {
   "cell_type": "code",
   "execution_count": 48,
   "metadata": {},
   "outputs": [],
   "source": [
    "noise_props=[0.05, 0.1, 0.2, 0.3, 0.4, 0.5, 0.8]"
   ]
  },
  {
   "cell_type": "code",
   "execution_count": 49,
   "metadata": {},
   "outputs": [],
   "source": [
    "vc.seqsAll = np.arange(G)\n",
    "vc.dirout = dirout\n",
    "\n",
    "varall = 0*np.ones(G)\n",
    "\n",
    "f = 'f'\n",
    "train = 'tr'\n",
    "scheme = 'random'"
   ]
  },
  {
   "cell_type": "code",
   "execution_count": 54,
   "metadata": {},
   "outputs": [
    {
     "name": "stdout",
     "output_type": "stream",
     "text": [
      "working on sample 2,10\n"
     ]
    },
    {
     "name": "stderr",
     "output_type": "stream",
     "text": [
      "\r",
      "  0%|          | 0/99 [00:00<?, ?it/s]"
     ]
    },
    {
     "name": "stdout",
     "output_type": "stream",
     "text": [
      "currently working on step 1\n"
     ]
    },
    {
     "name": "stderr",
     "output_type": "stream",
     "text": [
      "100%|██████████| 99/99 [00:07<00:00, 12.73it/s]\n",
      "  0%|          | 0/101 [00:00<?, ?it/s]"
     ]
    },
    {
     "name": "stdout",
     "output_type": "stream",
     "text": [
      "initial_potential =  0.0\n",
      "final_potential =  1.5603125400354793e-07\n",
      "energy_change =  0.0\n",
      "p accept =  1.0\n",
      "current step size = 2.362434292201779e-08\n",
      "current acceptance ratio = 1.0\n",
      "currently working on step 2\n"
     ]
    },
    {
     "name": "stderr",
     "output_type": "stream",
     "text": [
      "100%|██████████| 101/101 [00:08<00:00, 12.47it/s]\n",
      "  0%|          | 0/97 [00:00<?, ?it/s]"
     ]
    },
    {
     "name": "stdout",
     "output_type": "stream",
     "text": [
      "initial_potential =  1.5603125400354793e-07\n",
      "final_potential =  0.1045045319293325\n",
      "energy_change =  1.432490535080433e-07\n",
      "p accept =  0.9999998567509567\n",
      "current step size = 4.1580900312677256e-07\n",
      "current acceptance ratio = 1.0\n",
      "currently working on step 3\n"
     ]
    },
    {
     "name": "stderr",
     "output_type": "stream",
     "text": [
      "100%|██████████| 97/97 [00:07<00:00, 12.35it/s]\n",
      "  0%|          | 0/99 [00:00<?, ?it/s]"
     ]
    },
    {
     "name": "stdout",
     "output_type": "stream",
     "text": [
      "initial_potential =  0.1045045319293325\n",
      "final_potential =  0.45285028937822414\n",
      "energy_change =  -3.4920754842460155e-05\n",
      "p accept =  1.0000349213645792\n",
      "current step size = 5.768995249454061e-06\n",
      "current acceptance ratio = 1.0\n",
      "currently working on step 4\n"
     ]
    },
    {
     "name": "stderr",
     "output_type": "stream",
     "text": [
      "100%|██████████| 99/99 [00:08<00:00, 12.28it/s]\n",
      "  1%|          | 1/101 [00:00<00:10,  9.81it/s]"
     ]
    },
    {
     "name": "stdout",
     "output_type": "stream",
     "text": [
      "initial_potential =  0.45285028937822414\n",
      "final_potential =  90.72839034009837\n",
      "energy_change =  0.01066329407331068\n",
      "p accept =  0.989393357304696\n",
      "current step size = 6.201726308080628e-05\n",
      "current acceptance ratio = 1.0\n",
      "currently working on step 5\n"
     ]
    },
    {
     "name": "stderr",
     "output_type": "stream",
     "text": [
      "100%|██████████| 101/101 [00:08<00:00, 12.12it/s]\n",
      "/Library/Frameworks/Python.framework/Versions/3.8/lib/python3.8/site-packages/scipy/stats/_continuous_distns.py:247: RuntimeWarning: overflow encountered in square\n",
      "  return -x**2 / 2.0 - _norm_pdf_logC\n",
      "  1%|          | 1/101 [00:00<00:10,  9.91it/s]"
     ]
    },
    {
     "name": "stdout",
     "output_type": "stream",
     "text": [
      "initial_potential =  90.72839034009837\n",
      "final_potential =  inf\n",
      "energy_change =  9999906957.575583\n",
      "p accept =  0.0\n",
      "current step size = 2.8673444500447836e-06\n",
      "current acceptance ratio = 0.8\n",
      "currently working on step 6\n"
     ]
    },
    {
     "name": "stderr",
     "output_type": "stream",
     "text": [
      "100%|██████████| 101/101 [00:10<00:00,  9.45it/s]\n",
      "  0%|          | 0/97 [00:00<?, ?it/s]"
     ]
    },
    {
     "name": "stdout",
     "output_type": "stream",
     "text": [
      "initial_potential =  90.72839034009837\n",
      "final_potential =  114.49168182142894\n",
      "energy_change =  0.01625915043405257\n",
      "p accept =  0.9838723160767529\n",
      "current step size = 2.6632815001625153e-05\n",
      "current acceptance ratio = 0.8333333333333334\n",
      "currently working on step 7\n"
     ]
    },
    {
     "name": "stderr",
     "output_type": "stream",
     "text": [
      "100%|██████████| 97/97 [00:08<00:00, 11.52it/s]\n",
      "  0%|          | 0/97 [00:00<?, ?it/s]"
     ]
    },
    {
     "name": "stdout",
     "output_type": "stream",
     "text": [
      "initial_potential =  114.49168182142894\n",
      "final_potential =  2.852506052283094e+131\n",
      "energy_change =  4.932632448362475e+131\n",
      "p accept =  0.0\n",
      "current step size = 1.5818141296129488e-06\n",
      "current acceptance ratio = 0.7142857142857143\n",
      "currently working on step 8\n"
     ]
    },
    {
     "name": "stderr",
     "output_type": "stream",
     "text": [
      "100%|██████████| 97/97 [00:08<00:00, 11.26it/s]\n",
      "  0%|          | 0/97 [00:00<?, ?it/s]"
     ]
    },
    {
     "name": "stdout",
     "output_type": "stream",
     "text": [
      "initial_potential =  114.49168182142894\n",
      "final_potential =  121.02144610214478\n",
      "energy_change =  -0.0005382069211918861\n",
      "p accept =  1.0005383517805237\n",
      "current step size = 1.4353423645020926e-05\n",
      "current acceptance ratio = 0.75\n",
      "currently working on step 9\n"
     ]
    },
    {
     "name": "stderr",
     "output_type": "stream",
     "text": [
      "100%|██████████| 97/97 [00:08<00:00, 11.90it/s]\n",
      "  0%|          | 0/100 [00:00<?, ?it/s]"
     ]
    },
    {
     "name": "stdout",
     "output_type": "stream",
     "text": [
      "initial_potential =  121.02144610214478\n",
      "final_potential =  639.824988446631\n",
      "energy_change =  -0.4340477645309875\n",
      "p accept =  1.5434925905554846\n",
      "current step size = 0.0001157381418187774\n",
      "current acceptance ratio = 0.7777777777777778\n",
      "currently working on step 10\n"
     ]
    },
    {
     "name": "stderr",
     "output_type": "stream",
     "text": [
      "100%|██████████| 100/100 [00:10<00:00,  9.96it/s]\n",
      "  0%|          | 0/98 [00:00<?, ?it/s]"
     ]
    },
    {
     "name": "stdout",
     "output_type": "stream",
     "text": [
      "initial_potential =  639.824988446631\n",
      "final_potential =  inf\n",
      "energy_change =  9999906350.696026\n",
      "p accept =  0.0\n",
      "current step size = 8.552365534242557e-06\n",
      "current acceptance ratio = 0.7\n",
      "currently working on step 11\n"
     ]
    },
    {
     "name": "stderr",
     "output_type": "stream",
     "text": [
      "100%|██████████| 98/98 [00:09<00:00, 10.41it/s]\n",
      "  0%|          | 0/100 [00:00<?, ?it/s]"
     ]
    },
    {
     "name": "stdout",
     "output_type": "stream",
     "text": [
      "initial_potential =  639.824988446631\n",
      "final_potential =  826.0059865410165\n",
      "energy_change =  0.029998156664078124\n",
      "p accept =  0.9704473224072692\n",
      "current step size = 5.5749075796141334e-05\n",
      "current acceptance ratio = 0.7272727272727273\n",
      "currently working on step 12\n"
     ]
    },
    {
     "name": "stderr",
     "output_type": "stream",
     "text": [
      "100%|██████████| 100/100 [00:07<00:00, 12.82it/s]\n",
      "  0%|          | 0/101 [00:00<?, ?it/s]"
     ]
    },
    {
     "name": "stdout",
     "output_type": "stream",
     "text": [
      "initial_potential =  826.0059865410165\n",
      "final_potential =  2.595992932202456e+294\n",
      "energy_change =  2.0038700113020423e+295\n",
      "p accept =  0.0\n",
      "current step size = 4.83220593698593e-06\n",
      "current acceptance ratio = 0.6666666666666666\n",
      "currently working on step 13\n"
     ]
    },
    {
     "name": "stderr",
     "output_type": "stream",
     "text": [
      "100%|██████████| 101/101 [00:07<00:00, 12.75it/s]\n",
      "  0%|          | 0/101 [00:00<?, ?it/s]"
     ]
    },
    {
     "name": "stdout",
     "output_type": "stream",
     "text": [
      "initial_potential =  826.0059865410165\n",
      "final_potential =  885.2263029441999\n",
      "energy_change =  0.0603163639025297\n",
      "p accept =  0.9414666404049489\n",
      "current step size = 2.6119554586222237e-05\n",
      "current acceptance ratio = 0.6923076923076923\n",
      "currently working on step 14\n"
     ]
    },
    {
     "name": "stderr",
     "output_type": "stream",
     "text": [
      "100%|██████████| 101/101 [00:07<00:00, 12.78it/s]\n",
      "  0%|          | 0/101 [00:00<?, ?it/s]"
     ]
    },
    {
     "name": "stdout",
     "output_type": "stream",
     "text": [
      "initial_potential =  885.2263029441999\n",
      "final_potential =  2.822429313024305e+136\n",
      "energy_change =  4.872386065638911e+136\n",
      "p accept =  0.0\n",
      "current step size = 2.596038601382438e-06\n",
      "current acceptance ratio = 0.6428571428571429\n",
      "currently working on step 15\n"
     ]
    },
    {
     "name": "stderr",
     "output_type": "stream",
     "text": [
      "100%|██████████| 101/101 [00:07<00:00, 12.82it/s]\n",
      "  0%|          | 0/98 [00:00<?, ?it/s]"
     ]
    },
    {
     "name": "stdout",
     "output_type": "stream",
     "text": [
      "initial_potential =  885.2263029441999\n",
      "final_potential =  901.0957224219803\n",
      "energy_change =  -0.025209078230545856\n",
      "p accept =  1.025529514007304\n",
      "current step size = 1.69403648277497e-05\n",
      "current acceptance ratio = 0.6666666666666666\n",
      "currently working on step 16\n"
     ]
    },
    {
     "name": "stderr",
     "output_type": "stream",
     "text": [
      "100%|██████████| 98/98 [00:09<00:00, 10.04it/s]\n",
      "  0%|          | 0/101 [00:00<?, ?it/s]"
     ]
    },
    {
     "name": "stdout",
     "output_type": "stream",
     "text": [
      "initial_potential =  901.0957224219803\n",
      "final_potential =  1585.9261303696785\n",
      "energy_change =  0.5777987022156594\n",
      "p accept =  0.5611322271482175\n",
      "current step size = 1.776964387895529e-05\n",
      "current acceptance ratio = 0.625\n",
      "currently working on step 17\n"
     ]
    },
    {
     "name": "stderr",
     "output_type": "stream",
     "text": [
      "100%|██████████| 101/101 [00:11<00:00,  9.03it/s]\n",
      "  0%|          | 0/101 [00:00<?, ?it/s]"
     ]
    },
    {
     "name": "stdout",
     "output_type": "stream",
     "text": [
      "initial_potential =  901.0957224219803\n",
      "final_potential =  1770.8222224866852\n",
      "energy_change =  -0.006274030791246332\n",
      "p accept =  1.0062937537483365\n",
      "current step size = 0.00010444180957714276\n",
      "current acceptance ratio = 0.6470588235294118\n",
      "currently working on step 18\n"
     ]
    },
    {
     "name": "stderr",
     "output_type": "stream",
     "text": [
      "100%|██████████| 101/101 [00:11<00:00,  9.02it/s]\n",
      "  0%|          | 0/98 [00:00<?, ?it/s]"
     ]
    },
    {
     "name": "stdout",
     "output_type": "stream",
     "text": [
      "initial_potential =  1770.8222224866852\n",
      "final_potential =  inf\n",
      "energy_change =  9999905302.272896\n",
      "p accept =  0.0\n",
      "current step size = 1.2281608774087821e-05\n",
      "current acceptance ratio = 0.6111111111111112\n",
      "currently working on step 19\n"
     ]
    },
    {
     "name": "stderr",
     "output_type": "stream",
     "text": [
      "100%|██████████| 98/98 [00:08<00:00, 11.82it/s]\n",
      "  0%|          | 0/101 [00:00<?, ?it/s]"
     ]
    },
    {
     "name": "stdout",
     "output_type": "stream",
     "text": [
      "initial_potential =  1770.8222224866852\n",
      "final_potential =  2142.3311586299365\n",
      "energy_change =  0.004004816451924853\n",
      "p accept =  0.9960031921309468\n",
      "current step size = 6.756903211481396e-05\n",
      "current acceptance ratio = 0.631578947368421\n",
      "currently working on step 20\n"
     ]
    },
    {
     "name": "stderr",
     "output_type": "stream",
     "text": [
      "100%|██████████| 101/101 [00:08<00:00, 11.78it/s]\n",
      "  0%|          | 0/100 [00:00<?, ?it/s]"
     ]
    },
    {
     "name": "stdout",
     "output_type": "stream",
     "text": [
      "initial_potential =  2142.3311586299365\n",
      "final_potential =  inf\n",
      "energy_change =  9999905181.165634\n",
      "p accept =  0.0\n",
      "current step size = 8.69522993724328e-06\n",
      "current acceptance ratio = 0.6\n",
      "currently working on step 21\n"
     ]
    },
    {
     "name": "stderr",
     "output_type": "stream",
     "text": [
      "100%|██████████| 100/100 [00:08<00:00, 12.15it/s]\n",
      "  0%|          | 0/97 [00:00<?, ?it/s]"
     ]
    },
    {
     "name": "stdout",
     "output_type": "stream",
     "text": [
      "initial_potential =  2142.3311586299365\n",
      "final_potential =  2314.721509941411\n",
      "energy_change =  0.09616694359283429\n",
      "p accept =  0.9083123664807187\n",
      "current step size = 3.3157330108202046e-05\n",
      "current acceptance ratio = 0.6190476190476191\n",
      "currently working on step 22\n"
     ]
    },
    {
     "name": "stderr",
     "output_type": "stream",
     "text": [
      "100%|██████████| 97/97 [00:08<00:00, 11.74it/s]\n",
      "  0%|          | 0/98 [00:00<?, ?it/s]"
     ]
    },
    {
     "name": "stdout",
     "output_type": "stream",
     "text": [
      "initial_potential =  2314.721509941411\n",
      "final_potential =  9.167124905176335e+183\n",
      "energy_change =  2.517782419969576e+184\n",
      "p accept =  0.0\n",
      "current step size = 4.645723727095406e-06\n",
      "current acceptance ratio = 0.5909090909090909\n",
      "currently working on step 23\n"
     ]
    },
    {
     "name": "stderr",
     "output_type": "stream",
     "text": [
      "100%|██████████| 98/98 [00:08<00:00, 11.88it/s]\n",
      "  0%|          | 0/100 [00:00<?, ?it/s]"
     ]
    },
    {
     "name": "stdout",
     "output_type": "stream",
     "text": [
      "initial_potential =  2314.721509941411\n",
      "final_potential =  2365.370127201046\n",
      "energy_change =  0.028426075048628263\n",
      "p accept =  0.9719741446317085\n",
      "current step size = 2.157742773805266e-05\n",
      "current acceptance ratio = 0.6086956521739131\n",
      "currently working on step 24\n"
     ]
    },
    {
     "name": "stderr",
     "output_type": "stream",
     "text": [
      "100%|██████████| 100/100 [00:08<00:00, 11.78it/s]\n",
      "  0%|          | 0/99 [00:00<?, ?it/s]"
     ]
    },
    {
     "name": "stdout",
     "output_type": "stream",
     "text": [
      "initial_potential =  2365.370127201046\n",
      "final_potential =  4.138499085287173e+60\n",
      "energy_change =  4.649291219060516e+60\n",
      "p accept =  0.0\n",
      "current step size = 3.249512388873358e-06\n",
      "current acceptance ratio = 0.5833333333333334\n",
      "currently working on step 25\n"
     ]
    },
    {
     "name": "stderr",
     "output_type": "stream",
     "text": [
      "100%|██████████| 99/99 [00:08<00:00, 12.09it/s]\n",
      "  0%|          | 0/101 [00:00<?, ?it/s]"
     ]
    },
    {
     "name": "stdout",
     "output_type": "stream",
     "text": [
      "initial_potential =  2365.370127201046\n",
      "final_potential =  2388.387050091963\n",
      "energy_change =  -0.029751276364549994\n",
      "p accept =  1.0301982674267582\n",
      "current step size = 1.6017593814046203e-05\n",
      "current acceptance ratio = 0.6\n",
      "currently working on step 26\n"
     ]
    },
    {
     "name": "stderr",
     "output_type": "stream",
     "text": [
      "100%|██████████| 101/101 [00:08<00:00, 11.37it/s]\n",
      "  0%|          | 0/98 [00:00<?, ?it/s]"
     ]
    },
    {
     "name": "stdout",
     "output_type": "stream",
     "text": [
      "initial_potential =  2388.387050091963\n",
      "final_potential =  3030.9612228898304\n",
      "energy_change =  -0.07791822653962299\n",
      "p accept =  1.0810342551437722\n",
      "current step size = 7.554191288829138e-05\n",
      "current acceptance ratio = 0.6153846153846154\n",
      "currently working on step 27\n"
     ]
    },
    {
     "name": "stderr",
     "output_type": "stream",
     "text": [
      "100%|██████████| 98/98 [00:08<00:00, 11.43it/s]\n",
      "  0%|          | 0/100 [00:00<?, ?it/s]"
     ]
    },
    {
     "name": "stdout",
     "output_type": "stream",
     "text": [
      "initial_potential =  3030.9612228898304\n",
      "final_potential =  inf\n",
      "energy_change =  9999904071.316895\n",
      "p accept =  0.0\n",
      "current step size = 1.2193659848882457e-05\n",
      "current acceptance ratio = 0.5925925925925926\n",
      "currently working on step 28\n"
     ]
    },
    {
     "name": "stderr",
     "output_type": "stream",
     "text": [
      "100%|██████████| 100/100 [00:09<00:00, 11.09it/s]\n",
      "  1%|          | 1/99 [00:00<00:09,  9.89it/s]"
     ]
    },
    {
     "name": "stdout",
     "output_type": "stream",
     "text": [
      "initial_potential =  3030.9612228898304\n",
      "final_potential =  3394.7871395050033\n",
      "energy_change =  -0.01518068568839226\n",
      "p accept =  1.0152964975899526\n",
      "current step size = 5.552819475351979e-05\n",
      "current acceptance ratio = 0.6071428571428571\n",
      "currently working on step 29\n"
     ]
    },
    {
     "name": "stderr",
     "output_type": "stream",
     "text": [
      "100%|██████████| 99/99 [00:08<00:00, 11.24it/s]\n",
      "  0%|          | 0/98 [00:00<?, ?it/s]"
     ]
    },
    {
     "name": "stdout",
     "output_type": "stream",
     "text": [
      "initial_potential =  3394.7871395050033\n",
      "final_potential =  1.799451814794116e+289\n",
      "energy_change =  1.363446139843459e+290\n",
      "p accept =  0.0\n",
      "current step size = 9.487479714630882e-06\n",
      "current acceptance ratio = 0.5862068965517241\n",
      "currently working on step 30\n"
     ]
    },
    {
     "name": "stderr",
     "output_type": "stream",
     "text": [
      "100%|██████████| 98/98 [00:08<00:00, 12.00it/s]\n",
      "  0%|          | 0/99 [00:00<?, ?it/s]"
     ]
    },
    {
     "name": "stdout",
     "output_type": "stream",
     "text": [
      "initial_potential =  3394.7871395050033\n",
      "final_potential =  3615.3683079291623\n",
      "energy_change =  0.11806962001719512\n",
      "p accept =  0.8886341837338344\n",
      "current step size = 2.9266084058316118e-05\n",
      "current acceptance ratio = 0.6\n",
      "currently working on step 31\n"
     ]
    },
    {
     "name": "stderr",
     "output_type": "stream",
     "text": [
      "100%|██████████| 99/99 [00:08<00:00, 12.17it/s]\n",
      "  0%|          | 0/100 [00:00<?, ?it/s]"
     ]
    },
    {
     "name": "stdout",
     "output_type": "stream",
     "text": [
      "initial_potential =  3615.3683079291623\n",
      "final_potential =  3.651451990360364e+156\n",
      "energy_change =  7.551758790710977e+156\n",
      "p accept =  0.0\n",
      "current step size = 5.29056218144483e-06\n",
      "current acceptance ratio = 0.5806451612903226\n",
      "currently working on step 32\n"
     ]
    },
    {
     "name": "stderr",
     "output_type": "stream",
     "text": [
      "100%|██████████| 100/100 [00:08<00:00, 11.91it/s]\n",
      "  0%|          | 0/101 [00:00<?, ?it/s]"
     ]
    },
    {
     "name": "stdout",
     "output_type": "stream",
     "text": [
      "initial_potential =  3615.3683079291623\n",
      "final_potential =  3686.0761563454753\n",
      "energy_change =  -0.0026047576684504747\n",
      "p accept =  1.002608152997069\n",
      "current step size = 2.2702149743343055e-05\n",
      "current acceptance ratio = 0.59375\n",
      "currently working on step 33\n"
     ]
    },
    {
     "name": "stderr",
     "output_type": "stream",
     "text": [
      "100%|██████████| 101/101 [00:08<00:00, 11.61it/s]\n",
      "  0%|          | 0/99 [00:00<?, ?it/s]"
     ]
    },
    {
     "name": "stdout",
     "output_type": "stream",
     "text": [
      "initial_potential =  3686.0761563454753\n",
      "final_potential =  4.51752939153133e+93\n",
      "energy_change =  5.957321194559332e+93\n",
      "p accept =  0.0\n",
      "current step size = 4.30294406699913e-06\n",
      "current acceptance ratio = 0.5757575757575758\n",
      "currently working on step 34\n"
     ]
    },
    {
     "name": "stderr",
     "output_type": "stream",
     "text": [
      "100%|██████████| 99/99 [00:09<00:00, 10.67it/s]\n",
      "  0%|          | 0/97 [00:00<?, ?it/s]"
     ]
    },
    {
     "name": "stdout",
     "output_type": "stream",
     "text": [
      "initial_potential =  3686.0761563454753\n",
      "final_potential =  3727.583958684596\n",
      "energy_change =  -0.029997275880305097\n",
      "p accept =  1.0304517268758495\n",
      "current step size = 1.7929035660660477e-05\n",
      "current acceptance ratio = 0.5882352941176471\n",
      "currently working on step 35\n"
     ]
    },
    {
     "name": "stderr",
     "output_type": "stream",
     "text": [
      "100%|██████████| 97/97 [00:08<00:00, 11.63it/s]\n",
      "  0%|          | 0/98 [00:00<?, ?it/s]"
     ]
    },
    {
     "name": "stdout",
     "output_type": "stream",
     "text": [
      "initial_potential =  3727.583958684596\n",
      "final_potential =  4417.3380501426645\n",
      "energy_change =  0.31080528553866316\n",
      "p accept =  0.7328565597478429\n",
      "current step size = 3.234868340576418e-05\n",
      "current acceptance ratio = 0.6\n",
      "currently working on step 36\n"
     ]
    },
    {
     "name": "stderr",
     "output_type": "stream",
     "text": [
      "100%|██████████| 98/98 [00:08<00:00, 11.32it/s]\n",
      "  0%|          | 0/101 [00:00<?, ?it/s]"
     ]
    },
    {
     "name": "stdout",
     "output_type": "stream",
     "text": [
      "initial_potential =  4417.3380501426645\n",
      "final_potential =  3.0497284465148787e+182\n",
      "energy_change =  8.035625025835016e+182\n",
      "p accept =  0.0\n",
      "current step size = 6.487204362052669e-06\n",
      "current acceptance ratio = 0.5833333333333334\n",
      "currently working on step 37\n"
     ]
    },
    {
     "name": "stderr",
     "output_type": "stream",
     "text": [
      "100%|██████████| 101/101 [00:09<00:00, 10.97it/s]\n",
      "  0%|          | 0/98 [00:00<?, ?it/s]"
     ]
    },
    {
     "name": "stdout",
     "output_type": "stream",
     "text": [
      "initial_potential =  4417.3380501426645\n",
      "final_potential =  4515.146874479889\n",
      "energy_change =  -0.05813058209605515\n",
      "p accept =  1.0598533845510043\n",
      "current step size = 2.574700851240946e-05\n",
      "current acceptance ratio = 0.5945945945945946\n",
      "currently working on step 38\n"
     ]
    },
    {
     "name": "stderr",
     "output_type": "stream",
     "text": [
      "100%|██████████| 98/98 [00:09<00:00, 10.46it/s]\n",
      "  0%|          | 0/99 [00:00<?, ?it/s]"
     ]
    },
    {
     "name": "stdout",
     "output_type": "stream",
     "text": [
      "initial_potential =  4515.146874479889\n",
      "final_potential =  6.563084088062987e+123\n",
      "energy_change =  1.0845441260591599e+124\n",
      "p accept =  0.0\n",
      "current step size = 5.3711621407598544e-06\n",
      "current acceptance ratio = 0.5789473684210527\n",
      "currently working on step 39\n"
     ]
    },
    {
     "name": "stderr",
     "output_type": "stream",
     "text": [
      "100%|██████████| 99/99 [00:09<00:00, 10.82it/s]\n",
      "  0%|          | 0/99 [00:00<?, ?it/s]"
     ]
    },
    {
     "name": "stdout",
     "output_type": "stream",
     "text": [
      "initial_potential =  4515.146874479889\n",
      "final_potential =  4573.161141069659\n",
      "energy_change =  0.009940810297848657\n",
      "p accept =  0.9901084362382575\n",
      "current step size = 2.020495626866139e-05\n",
      "current acceptance ratio = 0.5897435897435898\n",
      "currently working on step 40\n"
     ]
    },
    {
     "name": "stderr",
     "output_type": "stream",
     "text": [
      "100%|██████████| 99/99 [00:09<00:00, 10.08it/s]\n",
      "  0%|          | 0/101 [00:00<?, ?it/s]"
     ]
    },
    {
     "name": "stdout",
     "output_type": "stream",
     "text": [
      "initial_potential =  4573.161141069659\n",
      "final_potential =  2.4265700446703428e+32\n",
      "energy_change =  2.511208471579651e+32\n",
      "p accept =  0.0\n",
      "current step size = 4.373987285716519e-06\n",
      "current acceptance ratio = 0.575\n",
      "currently working on step 41\n"
     ]
    },
    {
     "name": "stderr",
     "output_type": "stream",
     "text": [
      "100%|██████████| 101/101 [00:09<00:00, 10.17it/s]\n",
      "  0%|          | 0/98 [00:00<?, ?it/s]"
     ]
    },
    {
     "name": "stdout",
     "output_type": "stream",
     "text": [
      "initial_potential =  4573.161141069659\n",
      "final_potential =  4620.257788742417\n",
      "energy_change =  0.023919933490105905\n",
      "p accept =  0.9763638806767436\n",
      "current step size = 1.54680687362156e-05\n",
      "current acceptance ratio = 0.5853658536585366\n",
      "currently working on step 42\n"
     ]
    },
    {
     "name": "stderr",
     "output_type": "stream",
     "text": [
      "100%|██████████| 98/98 [00:10<00:00,  9.38it/s]\n",
      "  0%|          | 0/98 [00:00<?, ?it/s]"
     ]
    },
    {
     "name": "stdout",
     "output_type": "stream",
     "text": [
      "initial_potential =  4620.257788742417\n",
      "final_potential =  5094.26092275472\n",
      "energy_change =  -0.2818589294620324\n",
      "p accept =  1.3255917048610097\n",
      "current step size = 5.705500763898678e-05\n",
      "current acceptance ratio = 0.5952380952380952\n",
      "currently working on step 43\n"
     ]
    },
    {
     "name": "stderr",
     "output_type": "stream",
     "text": [
      "100%|██████████| 98/98 [00:09<00:00, 10.55it/s]\n",
      "  0%|          | 0/97 [00:00<?, ?it/s]"
     ]
    },
    {
     "name": "stdout",
     "output_type": "stream",
     "text": [
      "initial_potential =  5094.26092275472\n",
      "final_potential =  1.913919185219856e+293\n",
      "energy_change =  1.5643667411240613e+294\n",
      "p accept =  0.0\n",
      "current step size = 1.2825670403205031e-05\n",
      "current acceptance ratio = 0.5813953488372093\n",
      "currently working on step 44\n"
     ]
    },
    {
     "name": "stderr",
     "output_type": "stream",
     "text": [
      "100%|██████████| 97/97 [00:10<00:00,  9.25it/s]\n",
      "  0%|          | 0/101 [00:00<?, ?it/s]"
     ]
    },
    {
     "name": "stdout",
     "output_type": "stream",
     "text": [
      "initial_potential =  5094.26092275472\n",
      "final_potential =  5433.543584222966\n",
      "energy_change =  0.04648060402541887\n",
      "p accept =  0.9545830754594797\n",
      "current step size = 4.087921284820325e-05\n",
      "current acceptance ratio = 0.5909090909090909\n",
      "currently working on step 45\n"
     ]
    },
    {
     "name": "stderr",
     "output_type": "stream",
     "text": [
      "100%|██████████| 101/101 [00:09<00:00, 10.85it/s]\n",
      "  0%|          | 0/99 [00:00<?, ?it/s]"
     ]
    },
    {
     "name": "stdout",
     "output_type": "stream",
     "text": [
      "initial_potential =  5433.543584222966\n",
      "final_potential =  3.604436413287184e+236\n",
      "energy_change =  1.5257618369143642e+237\n",
      "p accept =  0.0\n",
      "current step size = 9.49738320930592e-06\n",
      "current acceptance ratio = 0.5777777777777777\n",
      "currently working on step 46\n"
     ]
    },
    {
     "name": "stderr",
     "output_type": "stream",
     "text": [
      "100%|██████████| 99/99 [00:09<00:00,  9.96it/s]\n",
      "  0%|          | 0/98 [00:00<?, ?it/s]"
     ]
    },
    {
     "name": "stdout",
     "output_type": "stream",
     "text": [
      "initial_potential =  5433.543584222966\n",
      "final_potential =  5616.810451803491\n",
      "energy_change =  -0.031907312164548784\n",
      "p accept =  1.032421807927546\n",
      "current step size = 3.3641907345982404e-05\n",
      "current acceptance ratio = 0.5869565217391305\n",
      "currently working on step 47\n"
     ]
    },
    {
     "name": "stderr",
     "output_type": "stream",
     "text": [
      "100%|██████████| 98/98 [00:09<00:00, 10.03it/s]\n",
      "  0%|          | 0/98 [00:00<?, ?it/s]"
     ]
    },
    {
     "name": "stdout",
     "output_type": "stream",
     "text": [
      "initial_potential =  5616.810451803491\n",
      "final_potential =  5.954472930087682e+190\n",
      "energy_change =  1.7320966091085987e+191\n",
      "p accept =  0.0\n",
      "current step size = 8.052478078530464e-06\n",
      "current acceptance ratio = 0.574468085106383\n",
      "currently working on step 48\n"
     ]
    },
    {
     "name": "stderr",
     "output_type": "stream",
     "text": [
      "100%|██████████| 98/98 [00:09<00:00, 10.18it/s]\n",
      "  0%|          | 0/101 [00:00<?, ?it/s]"
     ]
    },
    {
     "name": "stdout",
     "output_type": "stream",
     "text": [
      "initial_potential =  5616.810451803491\n",
      "final_potential =  5747.301157896599\n",
      "energy_change =  0.010944673718768172\n",
      "p accept =  0.9891150013162908\n",
      "current step size = 2.7178756824229324e-05\n",
      "current acceptance ratio = 0.5833333333333334\n",
      "currently working on step 49\n"
     ]
    },
    {
     "name": "stderr",
     "output_type": "stream",
     "text": [
      "100%|██████████| 101/101 [00:10<00:00,  9.20it/s]\n",
      "  0%|          | 0/100 [00:00<?, ?it/s]"
     ]
    },
    {
     "name": "stdout",
     "output_type": "stream",
     "text": [
      "initial_potential =  5747.301157896599\n",
      "final_potential =  6.414409227037217e+139\n",
      "energy_change =  1.1604388170734074e+140\n",
      "p accept =  0.0\n",
      "current step size = 6.692381266143026e-06\n",
      "current acceptance ratio = 0.5714285714285714\n",
      "currently working on step 50\n"
     ]
    },
    {
     "name": "stderr",
     "output_type": "stream",
     "text": [
      "100%|██████████| 100/100 [00:09<00:00, 10.63it/s]\n",
      "  0%|          | 0/98 [00:00<?, ?it/s]"
     ]
    },
    {
     "name": "stdout",
     "output_type": "stream",
     "text": [
      "initial_potential =  5747.301157896599\n",
      "final_potential =  5843.91879502117\n",
      "energy_change =  0.0013822599139530212\n",
      "p accept =  0.9986186949672665\n",
      "current step size = 1.7564077254274616e-05\n",
      "current acceptance ratio = 0.58\n",
      "currently working on step 51\n"
     ]
    },
    {
     "name": "stderr",
     "output_type": "stream",
     "text": [
      "100%|██████████| 98/98 [00:09<00:00, 10.72it/s]\n",
      "  0%|          | 0/100 [00:00<?, ?it/s]"
     ]
    },
    {
     "name": "stdout",
     "output_type": "stream",
     "text": [
      "initial_potential =  5843.91879502117\n",
      "final_potential =  6491.140533072683\n",
      "energy_change =  2.3813820501818554\n",
      "p accept =  0.09242275631586236\n",
      "current step size = 1.7564077254274616e-05\n",
      "current acceptance ratio = 0.5686274509803921\n",
      "currently working on step 52\n"
     ]
    },
    {
     "name": "stderr",
     "output_type": "stream",
     "text": [
      "100%|██████████| 100/100 [00:09<00:00, 10.47it/s]\n",
      "  0%|          | 0/101 [00:00<?, ?it/s]"
     ]
    },
    {
     "name": "stdout",
     "output_type": "stream",
     "text": [
      "initial_potential =  5843.91879502117\n",
      "final_potential =  6458.800249259279\n",
      "energy_change =  -0.16022728795360308\n",
      "p accept =  1.1737776261901822\n",
      "current step size = 1.7564077254274616e-05\n",
      "current acceptance ratio = 0.5769230769230769\n",
      "currently working on step 53\n"
     ]
    },
    {
     "name": "stderr",
     "output_type": "stream",
     "text": [
      "100%|██████████| 101/101 [00:09<00:00, 10.28it/s]\n",
      "  0%|          | 0/100 [00:00<?, ?it/s]"
     ]
    },
    {
     "name": "stdout",
     "output_type": "stream",
     "text": [
      "initial_potential =  6458.800249259279\n",
      "final_potential =  7101.04564684178\n",
      "energy_change =  1.5330757853662362\n",
      "p accept =  0.21587067329291285\n",
      "current step size = 1.7564077254274616e-05\n",
      "current acceptance ratio = 0.5660377358490566\n",
      "currently working on step 54\n"
     ]
    },
    {
     "name": "stderr",
     "output_type": "stream",
     "text": [
      "100%|██████████| 100/100 [00:09<00:00, 10.55it/s]\n",
      "  0%|          | 0/99 [00:00<?, ?it/s]"
     ]
    },
    {
     "name": "stdout",
     "output_type": "stream",
     "text": [
      "initial_potential =  6458.800249259279\n",
      "final_potential =  7109.234037796892\n",
      "energy_change =  0.24142848556220997\n",
      "p accept =  0.7855049767271649\n",
      "current step size = 1.7564077254274616e-05\n",
      "current acceptance ratio = 0.5740740740740741\n",
      "currently working on step 55\n"
     ]
    },
    {
     "name": "stderr",
     "output_type": "stream",
     "text": [
      "100%|██████████| 99/99 [00:10<00:00,  9.81it/s]\n",
      "  0%|          | 0/99 [00:00<?, ?it/s]"
     ]
    },
    {
     "name": "stdout",
     "output_type": "stream",
     "text": [
      "initial_potential =  7109.234037796892\n",
      "final_potential =  7693.120599268406\n",
      "energy_change =  -0.05548956799611915\n",
      "p accept =  1.0570579897818528\n",
      "current step size = 1.7564077254274616e-05\n",
      "current acceptance ratio = 0.5818181818181818\n",
      "currently working on step 56\n"
     ]
    },
    {
     "name": "stderr",
     "output_type": "stream",
     "text": [
      "100%|██████████| 99/99 [00:08<00:00, 11.13it/s]\n",
      "  0%|          | 0/97 [00:00<?, ?it/s]"
     ]
    },
    {
     "name": "stdout",
     "output_type": "stream",
     "text": [
      "initial_potential =  7693.120599268406\n",
      "final_potential =  8285.34726389105\n",
      "energy_change =  0.3264331391546875\n",
      "p accept =  0.7214926130419729\n",
      "current step size = 1.7564077254274616e-05\n",
      "current acceptance ratio = 0.5892857142857143\n",
      "currently working on step 57\n"
     ]
    },
    {
     "name": "stderr",
     "output_type": "stream",
     "text": [
      "100%|██████████| 97/97 [00:10<00:00,  9.45it/s]\n",
      "  0%|          | 0/98 [00:00<?, ?it/s]"
     ]
    },
    {
     "name": "stdout",
     "output_type": "stream",
     "text": [
      "initial_potential =  8285.34726389105\n",
      "final_potential =  8832.689248750998\n",
      "energy_change =  4.798062696238048\n",
      "p accept =  0.008245706022636455\n",
      "current step size = 1.7564077254274616e-05\n",
      "current acceptance ratio = 0.5789473684210527\n",
      "currently working on step 58\n"
     ]
    },
    {
     "name": "stderr",
     "output_type": "stream",
     "text": [
      "100%|██████████| 98/98 [00:09<00:00, 10.37it/s]\n",
      "  0%|          | 0/98 [00:00<?, ?it/s]"
     ]
    },
    {
     "name": "stdout",
     "output_type": "stream",
     "text": [
      "initial_potential =  8285.34726389105\n",
      "final_potential =  8802.187825919604\n",
      "energy_change =  1.907043595027062\n",
      "p accept =  0.1485188199607409\n",
      "current step size = 1.7564077254274616e-05\n",
      "current acceptance ratio = 0.5689655172413793\n",
      "currently working on step 59\n"
     ]
    },
    {
     "name": "stderr",
     "output_type": "stream",
     "text": [
      "100%|██████████| 98/98 [00:08<00:00, 10.91it/s]\n",
      "  0%|          | 0/97 [00:00<?, ?it/s]"
     ]
    },
    {
     "name": "stdout",
     "output_type": "stream",
     "text": [
      "initial_potential =  8285.34726389105\n",
      "final_potential =  8816.089866484763\n",
      "energy_change =  0.5643350477621425\n",
      "p accept =  0.5687382047903732\n",
      "current step size = 1.7564077254274616e-05\n",
      "current acceptance ratio = 0.559322033898305\n",
      "currently working on step 60\n"
     ]
    },
    {
     "name": "stderr",
     "output_type": "stream",
     "text": [
      "100%|██████████| 97/97 [00:09<00:00, 10.04it/s]\n",
      "  0%|          | 0/101 [00:00<?, ?it/s]"
     ]
    },
    {
     "name": "stdout",
     "output_type": "stream",
     "text": [
      "initial_potential =  8285.34726389105\n",
      "final_potential =  8804.077284627598\n",
      "energy_change =  0.22847978583013173\n",
      "p accept =  0.795742382313598\n",
      "current step size = 1.7564077254274616e-05\n",
      "current acceptance ratio = 0.5666666666666667\n",
      "currently working on step 61\n"
     ]
    },
    {
     "name": "stderr",
     "output_type": "stream",
     "text": [
      "100%|██████████| 101/101 [00:10<00:00,  9.99it/s]\n",
      "  0%|          | 0/99 [00:00<?, ?it/s]"
     ]
    },
    {
     "name": "stdout",
     "output_type": "stream",
     "text": [
      "initial_potential =  8804.077284627598\n",
      "final_potential =  9337.07745801442\n",
      "energy_change =  -0.4541367209603777\n",
      "p accept =  1.574813292742795\n",
      "current step size = 1.7564077254274616e-05\n",
      "current acceptance ratio = 0.5737704918032787\n",
      "currently working on step 62\n"
     ]
    },
    {
     "name": "stderr",
     "output_type": "stream",
     "text": [
      "100%|██████████| 99/99 [00:08<00:00, 11.04it/s]\n",
      "  0%|          | 0/98 [00:00<?, ?it/s]"
     ]
    },
    {
     "name": "stdout",
     "output_type": "stream",
     "text": [
      "initial_potential =  9337.07745801442\n",
      "final_potential =  9885.448201537865\n",
      "energy_change =  -0.2664992959034862\n",
      "p accept =  1.3053866702168118\n",
      "current step size = 1.7564077254274616e-05\n",
      "current acceptance ratio = 0.5806451612903226\n",
      "currently working on step 63\n"
     ]
    },
    {
     "name": "stderr",
     "output_type": "stream",
     "text": [
      "100%|██████████| 98/98 [00:09<00:00, 10.40it/s]\n",
      "  0%|          | 0/100 [00:00<?, ?it/s]"
     ]
    },
    {
     "name": "stdout",
     "output_type": "stream",
     "text": [
      "initial_potential =  9885.448201537865\n",
      "final_potential =  10344.750182653937\n",
      "energy_change =  0.06334409196279012\n",
      "p accept =  0.9386204463650627\n",
      "current step size = 1.7564077254274616e-05\n",
      "current acceptance ratio = 0.5873015873015873\n",
      "currently working on step 64\n"
     ]
    },
    {
     "name": "stderr",
     "output_type": "stream",
     "text": [
      "100%|██████████| 100/100 [00:09<00:00, 10.55it/s]\n",
      "  0%|          | 0/100 [00:00<?, ?it/s]"
     ]
    },
    {
     "name": "stdout",
     "output_type": "stream",
     "text": [
      "initial_potential =  10344.750182653937\n",
      "final_potential =  10833.888066561423\n",
      "energy_change =  0.13059767891536467\n",
      "p accept =  0.8775707686012434\n",
      "current step size = 1.7564077254274616e-05\n",
      "current acceptance ratio = 0.59375\n",
      "currently working on step 65\n"
     ]
    },
    {
     "name": "stderr",
     "output_type": "stream",
     "text": [
      "100%|██████████| 100/100 [00:09<00:00, 10.29it/s]\n",
      "  0%|          | 0/101 [00:00<?, ?it/s]"
     ]
    },
    {
     "name": "stdout",
     "output_type": "stream",
     "text": [
      "initial_potential =  10833.888066561423\n",
      "final_potential =  11363.253300923183\n",
      "energy_change =  -0.20928773879131768\n",
      "p accept =  1.2327996717886778\n",
      "current step size = 1.7564077254274616e-05\n",
      "current acceptance ratio = 0.6\n",
      "currently working on step 66\n"
     ]
    },
    {
     "name": "stderr",
     "output_type": "stream",
     "text": [
      "100%|██████████| 101/101 [00:10<00:00,  9.97it/s]\n",
      "  0%|          | 0/97 [00:00<?, ?it/s]"
     ]
    },
    {
     "name": "stdout",
     "output_type": "stream",
     "text": [
      "initial_potential =  11363.253300923183\n",
      "final_potential =  11897.253102320326\n",
      "energy_change =  0.6415068650094327\n",
      "p accept =  0.5264984638851429\n",
      "current step size = 1.7564077254274616e-05\n",
      "current acceptance ratio = 0.5909090909090909\n",
      "currently working on step 67\n"
     ]
    },
    {
     "name": "stderr",
     "output_type": "stream",
     "text": [
      "100%|██████████| 97/97 [00:09<00:00, 10.11it/s]\n",
      "  0%|          | 0/98 [00:00<?, ?it/s]"
     ]
    },
    {
     "name": "stdout",
     "output_type": "stream",
     "text": [
      "initial_potential =  11363.253300923183\n",
      "final_potential =  11843.6302678855\n",
      "energy_change =  1.0006333261844702\n",
      "p accept =  0.3676465272516474\n",
      "current step size = 1.7564077254274616e-05\n",
      "current acceptance ratio = 0.5970149253731343\n",
      "currently working on step 68\n"
     ]
    },
    {
     "name": "stderr",
     "output_type": "stream",
     "text": [
      "100%|██████████| 98/98 [00:09<00:00, 10.21it/s]\n",
      "  0%|          | 0/101 [00:00<?, ?it/s]"
     ]
    },
    {
     "name": "stdout",
     "output_type": "stream",
     "text": [
      "initial_potential =  11843.6302678855\n",
      "final_potential =  12301.480395426754\n",
      "energy_change =  1.3931009581283433\n",
      "p accept =  0.24830412885106862\n",
      "current step size = 1.7564077254274616e-05\n",
      "current acceptance ratio = 0.5882352941176471\n",
      "currently working on step 69\n"
     ]
    },
    {
     "name": "stderr",
     "output_type": "stream",
     "text": [
      "100%|██████████| 101/101 [00:09<00:00, 10.30it/s]\n",
      "  0%|          | 0/97 [00:00<?, ?it/s]"
     ]
    },
    {
     "name": "stdout",
     "output_type": "stream",
     "text": [
      "initial_potential =  11843.6302678855\n",
      "final_potential =  12270.241993634223\n",
      "energy_change =  -0.8333178162865806\n",
      "p accept =  2.3009401868193606\n",
      "current step size = 1.7564077254274616e-05\n",
      "current acceptance ratio = 0.5942028985507246\n",
      "currently working on step 70\n"
     ]
    },
    {
     "name": "stderr",
     "output_type": "stream",
     "text": [
      "100%|██████████| 97/97 [00:09<00:00, 10.16it/s]\n",
      "  0%|          | 0/97 [00:00<?, ?it/s]"
     ]
    },
    {
     "name": "stdout",
     "output_type": "stream",
     "text": [
      "initial_potential =  12270.241993634223\n",
      "final_potential =  12693.642329610584\n",
      "energy_change =  0.10163720551645383\n",
      "p accept =  0.9033572252441902\n",
      "current step size = 1.7564077254274616e-05\n",
      "current acceptance ratio = 0.6\n",
      "currently working on step 71\n"
     ]
    },
    {
     "name": "stderr",
     "output_type": "stream",
     "text": [
      "100%|██████████| 97/97 [00:08<00:00, 11.48it/s]\n",
      "  0%|          | 0/98 [00:00<?, ?it/s]"
     ]
    },
    {
     "name": "stdout",
     "output_type": "stream",
     "text": [
      "initial_potential =  12693.642329610584\n",
      "final_potential =  13074.013569737914\n",
      "energy_change =  0.7805288763047429\n",
      "p accept =  0.45816363532699794\n",
      "current step size = 1.7564077254274616e-05\n",
      "current acceptance ratio = 0.6056338028169014\n",
      "currently working on step 72\n"
     ]
    },
    {
     "name": "stderr",
     "output_type": "stream",
     "text": [
      "100%|██████████| 98/98 [00:08<00:00, 11.46it/s]\n",
      "  0%|          | 0/97 [00:00<?, ?it/s]"
     ]
    },
    {
     "name": "stdout",
     "output_type": "stream",
     "text": [
      "initial_potential =  13074.013569737914\n",
      "final_potential =  13422.655507525345\n",
      "energy_change =  -0.8838704257359495\n",
      "p accept =  2.4202489958818196\n",
      "current step size = 1.7564077254274616e-05\n",
      "current acceptance ratio = 0.6111111111111112\n",
      "currently working on step 73\n"
     ]
    },
    {
     "name": "stderr",
     "output_type": "stream",
     "text": [
      "100%|██████████| 97/97 [00:09<00:00, 10.04it/s]\n",
      "  0%|          | 0/100 [00:00<?, ?it/s]"
     ]
    },
    {
     "name": "stdout",
     "output_type": "stream",
     "text": [
      "initial_potential =  13422.655507525345\n",
      "final_potential =  13769.46644291469\n",
      "energy_change =  1.6298338116466766\n",
      "p accept =  0.19596213804599796\n",
      "current step size = 1.7564077254274616e-05\n",
      "current acceptance ratio = 0.6027397260273972\n",
      "currently working on step 74\n"
     ]
    },
    {
     "name": "stderr",
     "output_type": "stream",
     "text": [
      "100%|██████████| 100/100 [00:09<00:00, 10.50it/s]\n",
      "  0%|          | 0/101 [00:00<?, ?it/s]"
     ]
    },
    {
     "name": "stdout",
     "output_type": "stream",
     "text": [
      "initial_potential =  13422.655507525345\n",
      "final_potential =  13829.342911346805\n",
      "energy_change =  0.39674171774822753\n",
      "p accept =  0.6725077000062796\n",
      "current step size = 1.7564077254274616e-05\n",
      "current acceptance ratio = 0.6081081081081081\n",
      "currently working on step 75\n"
     ]
    },
    {
     "name": "stderr",
     "output_type": "stream",
     "text": [
      "100%|██████████| 101/101 [00:09<00:00, 11.14it/s]\n",
      "  0%|          | 0/99 [00:00<?, ?it/s]"
     ]
    },
    {
     "name": "stdout",
     "output_type": "stream",
     "text": [
      "initial_potential =  13829.342911346805\n",
      "final_potential =  14297.831083845063\n",
      "energy_change =  -0.4713615344517166\n",
      "p accept =  1.6021741241227285\n",
      "current step size = 1.7564077254274616e-05\n",
      "current acceptance ratio = 0.6133333333333333\n",
      "currently working on step 76\n"
     ]
    },
    {
     "name": "stderr",
     "output_type": "stream",
     "text": [
      "100%|██████████| 99/99 [00:09<00:00, 10.59it/s]\n",
      "  0%|          | 0/97 [00:00<?, ?it/s]"
     ]
    },
    {
     "name": "stdout",
     "output_type": "stream",
     "text": [
      "initial_potential =  14297.831083845063\n",
      "final_potential =  14707.533804337625\n",
      "energy_change =  0.6304851116874488\n",
      "p accept =  0.532333497157763\n",
      "current step size = 1.7564077254274616e-05\n",
      "current acceptance ratio = 0.6052631578947368\n",
      "currently working on step 77\n"
     ]
    },
    {
     "name": "stderr",
     "output_type": "stream",
     "text": [
      "100%|██████████| 97/97 [00:09<00:00, 10.67it/s]\n",
      "  0%|          | 0/97 [00:00<?, ?it/s]"
     ]
    },
    {
     "name": "stdout",
     "output_type": "stream",
     "text": [
      "initial_potential =  14297.831083845063\n",
      "final_potential =  14677.154697085261\n",
      "energy_change =  0.750077227348811\n",
      "p accept =  0.4723300745330553\n",
      "current step size = 1.7564077254274616e-05\n",
      "current acceptance ratio = 0.5974025974025974\n",
      "currently working on step 78\n"
     ]
    },
    {
     "name": "stderr",
     "output_type": "stream",
     "text": [
      "100%|██████████| 97/97 [00:08<00:00, 11.35it/s]\n",
      "  0%|          | 0/99 [00:00<?, ?it/s]"
     ]
    },
    {
     "name": "stdout",
     "output_type": "stream",
     "text": [
      "initial_potential =  14297.831083845063\n",
      "final_potential =  14651.657241453442\n",
      "energy_change =  0.4406186568085104\n",
      "p accept =  0.6436381067889387\n",
      "current step size = 1.7564077254274616e-05\n",
      "current acceptance ratio = 0.6025641025641025\n",
      "currently working on step 79\n"
     ]
    },
    {
     "name": "stderr",
     "output_type": "stream",
     "text": [
      "100%|██████████| 99/99 [00:09<00:00, 10.57it/s]\n",
      "  0%|          | 0/97 [00:00<?, ?it/s]"
     ]
    },
    {
     "name": "stdout",
     "output_type": "stream",
     "text": [
      "initial_potential =  14651.657241453442\n",
      "final_potential =  15047.409812476502\n",
      "energy_change =  -0.46530463606177364\n",
      "p accept =  1.5924992476993434\n",
      "current step size = 1.7564077254274616e-05\n",
      "current acceptance ratio = 0.6075949367088608\n",
      "currently working on step 80\n"
     ]
    },
    {
     "name": "stderr",
     "output_type": "stream",
     "text": [
      "100%|██████████| 97/97 [00:08<00:00, 11.37it/s]\n",
      "  0%|          | 0/101 [00:00<?, ?it/s]"
     ]
    },
    {
     "name": "stdout",
     "output_type": "stream",
     "text": [
      "initial_potential =  15047.409812476502\n",
      "final_potential =  15359.146354900762\n",
      "energy_change =  1.5059641303669196\n",
      "p accept =  0.22180334337162572\n",
      "current step size = 1.7564077254274616e-05\n",
      "current acceptance ratio = 0.6125\n",
      "currently working on step 81\n"
     ]
    },
    {
     "name": "stderr",
     "output_type": "stream",
     "text": [
      "100%|██████████| 101/101 [00:09<00:00, 10.58it/s]\n",
      "  0%|          | 0/101 [00:00<?, ?it/s]"
     ]
    },
    {
     "name": "stdout",
     "output_type": "stream",
     "text": [
      "initial_potential =  15359.146354900762\n",
      "final_potential =  15744.439922602458\n",
      "energy_change =  0.02359679399523884\n",
      "p accept =  0.9766794333889782\n",
      "current step size = 1.7564077254274616e-05\n",
      "current acceptance ratio = 0.6172839506172839\n",
      "currently working on step 82\n"
     ]
    },
    {
     "name": "stderr",
     "output_type": "stream",
     "text": [
      "100%|██████████| 101/101 [00:08<00:00, 11.23it/s]\n",
      "  0%|          | 0/100 [00:00<?, ?it/s]"
     ]
    },
    {
     "name": "stdout",
     "output_type": "stream",
     "text": [
      "initial_potential =  15744.439922602458\n",
      "final_potential =  16061.868980167903\n",
      "energy_change =  2.398063097090926\n",
      "p accept =  0.09089383543537757\n",
      "current step size = 1.7564077254274616e-05\n",
      "current acceptance ratio = 0.6097560975609756\n",
      "currently working on step 83\n"
     ]
    },
    {
     "name": "stderr",
     "output_type": "stream",
     "text": [
      "100%|██████████| 100/100 [00:08<00:00, 12.09it/s]\n",
      "  0%|          | 0/101 [00:00<?, ?it/s]"
     ]
    },
    {
     "name": "stdout",
     "output_type": "stream",
     "text": [
      "initial_potential =  15744.439922602458\n",
      "final_potential =  16102.152880754085\n",
      "energy_change =  0.49949556721549015\n",
      "p accept =  0.6068366908417809\n",
      "current step size = 1.7564077254274616e-05\n",
      "current acceptance ratio = 0.6144578313253012\n",
      "currently working on step 84\n"
     ]
    },
    {
     "name": "stderr",
     "output_type": "stream",
     "text": [
      "100%|██████████| 101/101 [00:08<00:00, 11.79it/s]\n",
      "  0%|          | 0/99 [00:00<?, ?it/s]"
     ]
    },
    {
     "name": "stdout",
     "output_type": "stream",
     "text": [
      "initial_potential =  16102.152880754085\n",
      "final_potential =  16349.685912447954\n",
      "energy_change =  0.3422929967782693\n",
      "p accept =  0.7101401054614414\n",
      "current step size = 1.7564077254274616e-05\n",
      "current acceptance ratio = 0.6190476190476191\n",
      "currently working on step 85\n"
     ]
    },
    {
     "name": "stderr",
     "output_type": "stream",
     "text": [
      "100%|██████████| 99/99 [00:08<00:00, 12.17it/s]\n",
      "  0%|          | 0/100 [00:00<?, ?it/s]"
     ]
    },
    {
     "name": "stdout",
     "output_type": "stream",
     "text": [
      "initial_potential =  16349.685912447954\n",
      "final_potential =  16673.952114295185\n",
      "energy_change =  1.3269037463178392\n",
      "p accept =  0.2652974190469706\n",
      "current step size = 1.7564077254274616e-05\n",
      "current acceptance ratio = 0.6235294117647059\n",
      "currently working on step 86\n"
     ]
    },
    {
     "name": "stderr",
     "output_type": "stream",
     "text": [
      "100%|██████████| 100/100 [00:08<00:00, 11.80it/s]\n",
      "  0%|          | 0/101 [00:00<?, ?it/s]"
     ]
    },
    {
     "name": "stdout",
     "output_type": "stream",
     "text": [
      "initial_potential =  16673.952114295185\n",
      "final_potential =  17066.43505641631\n",
      "energy_change =  4.003272568414104\n",
      "p accept =  0.018255797678057527\n",
      "current step size = 1.7564077254274616e-05\n",
      "current acceptance ratio = 0.6162790697674418\n",
      "currently working on step 87\n"
     ]
    },
    {
     "name": "stderr",
     "output_type": "stream",
     "text": [
      "100%|██████████| 101/101 [00:08<00:00, 12.04it/s]\n",
      "  0%|          | 0/101 [00:00<?, ?it/s]"
     ]
    },
    {
     "name": "stdout",
     "output_type": "stream",
     "text": [
      "initial_potential =  16673.952114295185\n",
      "final_potential =  16937.334813866524\n",
      "energy_change =  -0.16731576617166866\n",
      "p accept =  1.1821274822501124\n",
      "current step size = 1.7564077254274616e-05\n",
      "current acceptance ratio = 0.6206896551724138\n",
      "currently working on step 88\n"
     ]
    },
    {
     "name": "stderr",
     "output_type": "stream",
     "text": [
      "100%|██████████| 101/101 [00:08<00:00, 11.95it/s]\n",
      "  0%|          | 0/97 [00:00<?, ?it/s]"
     ]
    },
    {
     "name": "stdout",
     "output_type": "stream",
     "text": [
      "initial_potential =  16937.334813866524\n",
      "final_potential =  17262.250785957636\n",
      "energy_change =  -3.53708371767425\n",
      "p accept =  34.36655034667512\n",
      "current step size = 1.7564077254274616e-05\n",
      "current acceptance ratio = 0.625\n",
      "currently working on step 89\n"
     ]
    },
    {
     "name": "stderr",
     "output_type": "stream",
     "text": [
      "100%|██████████| 97/97 [00:08<00:00, 11.86it/s]\n",
      "  0%|          | 0/99 [00:00<?, ?it/s]"
     ]
    },
    {
     "name": "stdout",
     "output_type": "stream",
     "text": [
      "initial_potential =  17262.250785957636\n",
      "final_potential =  17537.519515023905\n",
      "energy_change =  0.08041492730262689\n",
      "p accept =  0.9227333996640382\n",
      "current step size = 1.7564077254274616e-05\n",
      "current acceptance ratio = 0.6292134831460674\n",
      "currently working on step 90\n"
     ]
    },
    {
     "name": "stderr",
     "output_type": "stream",
     "text": [
      "100%|██████████| 99/99 [00:08<00:00, 12.06it/s]\n",
      "  0%|          | 0/99 [00:00<?, ?it/s]"
     ]
    },
    {
     "name": "stdout",
     "output_type": "stream",
     "text": [
      "initial_potential =  17537.519515023905\n",
      "final_potential =  17780.06152028463\n",
      "energy_change =  -0.2517329538677586\n",
      "p accept =  1.2862525026611644\n",
      "current step size = 1.7564077254274616e-05\n",
      "current acceptance ratio = 0.6333333333333333\n",
      "currently working on step 91\n"
     ]
    },
    {
     "name": "stderr",
     "output_type": "stream",
     "text": [
      "100%|██████████| 99/99 [00:08<00:00, 11.76it/s]\n",
      "  0%|          | 0/101 [00:00<?, ?it/s]"
     ]
    },
    {
     "name": "stdout",
     "output_type": "stream",
     "text": [
      "initial_potential =  17780.06152028463\n",
      "final_potential =  17998.60176803479\n",
      "energy_change =  -0.05342055213986896\n",
      "p accept =  1.0548731810214014\n",
      "current step size = 1.7564077254274616e-05\n",
      "current acceptance ratio = 0.6373626373626373\n",
      "currently working on step 92\n"
     ]
    },
    {
     "name": "stderr",
     "output_type": "stream",
     "text": [
      "100%|██████████| 101/101 [00:08<00:00, 11.88it/s]\n",
      "  0%|          | 0/97 [00:00<?, ?it/s]"
     ]
    },
    {
     "name": "stdout",
     "output_type": "stream",
     "text": [
      "initial_potential =  17998.60176803479\n",
      "final_potential =  18278.199052031392\n",
      "energy_change =  0.2764712478383444\n",
      "p accept =  0.7584554260511893\n",
      "current step size = 1.7564077254274616e-05\n",
      "current acceptance ratio = 0.6413043478260869\n",
      "currently working on step 93\n"
     ]
    },
    {
     "name": "stderr",
     "output_type": "stream",
     "text": [
      "100%|██████████| 97/97 [00:07<00:00, 12.17it/s]\n",
      "  0%|          | 0/100 [00:00<?, ?it/s]"
     ]
    },
    {
     "name": "stdout",
     "output_type": "stream",
     "text": [
      "initial_potential =  18278.199052031392\n",
      "final_potential =  18496.20780186405\n",
      "energy_change =  0.796147329165251\n",
      "p accept =  0.45106341971033587\n",
      "current step size = 1.7564077254274616e-05\n",
      "current acceptance ratio = 0.6344086021505376\n",
      "currently working on step 94\n"
     ]
    },
    {
     "name": "stderr",
     "output_type": "stream",
     "text": [
      "100%|██████████| 100/100 [00:08<00:00, 11.39it/s]\n",
      "  0%|          | 0/98 [00:00<?, ?it/s]"
     ]
    },
    {
     "name": "stdout",
     "output_type": "stream",
     "text": [
      "initial_potential =  18278.199052031392\n",
      "final_potential =  18532.284059394347\n",
      "energy_change =  -0.0021140630706213415\n",
      "p accept =  1.0021162992775043\n",
      "current step size = 1.7564077254274616e-05\n",
      "current acceptance ratio = 0.6382978723404256\n",
      "currently working on step 95\n"
     ]
    },
    {
     "name": "stderr",
     "output_type": "stream",
     "text": [
      "100%|██████████| 98/98 [00:08<00:00, 11.78it/s]\n",
      "  0%|          | 0/99 [00:00<?, ?it/s]"
     ]
    },
    {
     "name": "stdout",
     "output_type": "stream",
     "text": [
      "initial_potential =  18532.284059394347\n",
      "final_potential =  18818.18906162855\n",
      "energy_change =  0.20454308412445243\n",
      "p accept =  0.815019626754031\n",
      "current step size = 1.7564077254274616e-05\n",
      "current acceptance ratio = 0.6421052631578947\n",
      "currently working on step 96\n"
     ]
    },
    {
     "name": "stderr",
     "output_type": "stream",
     "text": [
      "100%|██████████| 99/99 [00:08<00:00, 11.48it/s]\n",
      "  0%|          | 0/99 [00:00<?, ?it/s]"
     ]
    },
    {
     "name": "stdout",
     "output_type": "stream",
     "text": [
      "initial_potential =  18818.18906162855\n",
      "final_potential =  19026.044373088815\n",
      "energy_change =  -0.18488029472064227\n",
      "p accept =  1.203074417148519\n",
      "current step size = 1.7564077254274616e-05\n",
      "current acceptance ratio = 0.6458333333333334\n",
      "currently working on step 97\n"
     ]
    },
    {
     "name": "stderr",
     "output_type": "stream",
     "text": [
      "100%|██████████| 99/99 [00:08<00:00, 11.84it/s]\n",
      "  0%|          | 0/97 [00:00<?, ?it/s]"
     ]
    },
    {
     "name": "stdout",
     "output_type": "stream",
     "text": [
      "initial_potential =  19026.044373088815\n",
      "final_potential =  19235.342277552463\n",
      "energy_change =  0.09275270660873502\n",
      "p accept =  0.9114188602907976\n",
      "current step size = 1.7564077254274616e-05\n",
      "current acceptance ratio = 0.6494845360824743\n",
      "currently working on step 98\n"
     ]
    },
    {
     "name": "stderr",
     "output_type": "stream",
     "text": [
      "100%|██████████| 97/97 [00:08<00:00, 11.72it/s]\n",
      "  0%|          | 0/97 [00:00<?, ?it/s]"
     ]
    },
    {
     "name": "stdout",
     "output_type": "stream",
     "text": [
      "initial_potential =  19235.342277552463\n",
      "final_potential =  19464.717434876504\n",
      "energy_change =  7.138052693102509\n",
      "p accept =  0.0007942973321276543\n",
      "current step size = 1.7564077254274616e-05\n",
      "current acceptance ratio = 0.6428571428571429\n",
      "currently working on step 99\n"
     ]
    },
    {
     "name": "stderr",
     "output_type": "stream",
     "text": [
      "100%|██████████| 97/97 [00:08<00:00, 12.10it/s]\n",
      "  0%|          | 0/101 [00:00<?, ?it/s]"
     ]
    },
    {
     "name": "stdout",
     "output_type": "stream",
     "text": [
      "initial_potential =  19235.342277552463\n",
      "final_potential =  19391.05269683442\n",
      "energy_change =  0.016846591257490218\n",
      "p accept =  0.9832945190406384\n",
      "current step size = 1.7564077254274616e-05\n",
      "current acceptance ratio = 0.6464646464646465\n",
      "currently working on step 100\n"
     ]
    },
    {
     "name": "stderr",
     "output_type": "stream",
     "text": [
      "100%|██████████| 101/101 [00:08<00:00, 11.70it/s]\n",
      "  0%|          | 0/99 [00:00<?, ?it/s]"
     ]
    },
    {
     "name": "stdout",
     "output_type": "stream",
     "text": [
      "initial_potential =  19391.05269683442\n",
      "final_potential =  19624.941787595184\n",
      "energy_change =  0.5681675081868889\n",
      "p accept =  0.5665627095409573\n",
      "current step size = 1.7564077254274616e-05\n",
      "current acceptance ratio = 0.65\n",
      "currently working on step 101\n"
     ]
    },
    {
     "name": "stderr",
     "output_type": "stream",
     "text": [
      "100%|██████████| 99/99 [00:08<00:00, 12.06it/s]\n",
      "  0%|          | 0/97 [00:00<?, ?it/s]"
     ]
    },
    {
     "name": "stdout",
     "output_type": "stream",
     "text": [
      "initial_potential =  19624.941787595184\n",
      "final_potential =  19848.668282654537\n",
      "energy_change =  -0.8679313075554091\n",
      "p accept =  2.3819781729343252\n",
      "current step size = 1.7564077254274616e-05\n",
      "current acceptance ratio = 0.6534653465346535\n",
      "currently working on step 102\n"
     ]
    },
    {
     "name": "stderr",
     "output_type": "stream",
     "text": [
      "100%|██████████| 97/97 [00:08<00:00, 11.38it/s]\n",
      "  0%|          | 0/99 [00:00<?, ?it/s]"
     ]
    },
    {
     "name": "stdout",
     "output_type": "stream",
     "text": [
      "initial_potential =  19848.668282654537\n",
      "final_potential =  19986.748253049183\n",
      "energy_change =  -0.09454593225382268\n",
      "p accept =  1.0991596488535025\n",
      "current step size = 1.7564077254274616e-05\n",
      "current acceptance ratio = 0.6568627450980392\n",
      "currently working on step 103\n"
     ]
    },
    {
     "name": "stderr",
     "output_type": "stream",
     "text": [
      "100%|██████████| 99/99 [00:09<00:00, 10.06it/s]\n",
      "  0%|          | 0/97 [00:00<?, ?it/s]"
     ]
    },
    {
     "name": "stdout",
     "output_type": "stream",
     "text": [
      "initial_potential =  19986.748253049183\n",
      "final_potential =  20175.070040220933\n",
      "energy_change =  0.07552972015400883\n",
      "p accept =  0.9272521720471214\n",
      "current step size = 1.7564077254274616e-05\n",
      "current acceptance ratio = 0.6504854368932039\n",
      "currently working on step 104\n"
     ]
    },
    {
     "name": "stderr",
     "output_type": "stream",
     "text": [
      "100%|██████████| 97/97 [00:09<00:00, 10.54it/s]\n",
      "  0%|          | 0/100 [00:00<?, ?it/s]"
     ]
    },
    {
     "name": "stdout",
     "output_type": "stream",
     "text": [
      "initial_potential =  19986.748253049183\n",
      "final_potential =  20185.93327979629\n",
      "energy_change =  -0.008913360623409972\n",
      "p accept =  1.008953202910456\n",
      "current step size = 1.7564077254274616e-05\n",
      "current acceptance ratio = 0.6538461538461539\n",
      "currently working on step 105\n"
     ]
    },
    {
     "name": "stderr",
     "output_type": "stream",
     "text": [
      "100%|██████████| 100/100 [00:09<00:00, 10.41it/s]\n",
      "  0%|          | 0/101 [00:00<?, ?it/s]"
     ]
    },
    {
     "name": "stdout",
     "output_type": "stream",
     "text": [
      "initial_potential =  20185.93327979629\n",
      "final_potential =  20358.929604435878\n",
      "energy_change =  0.5634273529867642\n",
      "p accept =  0.5692546798528166\n",
      "current step size = 1.7564077254274616e-05\n",
      "current acceptance ratio = 0.6571428571428571\n",
      "currently working on step 106\n"
     ]
    },
    {
     "name": "stderr",
     "output_type": "stream",
     "text": [
      "100%|██████████| 101/101 [00:09<00:00, 10.60it/s]\n",
      "  0%|          | 0/97 [00:00<?, ?it/s]"
     ]
    },
    {
     "name": "stdout",
     "output_type": "stream",
     "text": [
      "initial_potential =  20358.929604435878\n",
      "final_potential =  20561.314963097186\n",
      "energy_change =  0.40426342347927857\n",
      "p accept =  0.6674682712941074\n",
      "current step size = 1.7564077254274616e-05\n",
      "current acceptance ratio = 0.6509433962264151\n",
      "currently working on step 107\n"
     ]
    },
    {
     "name": "stderr",
     "output_type": "stream",
     "text": [
      "100%|██████████| 97/97 [00:08<00:00, 11.39it/s]\n",
      "  0%|          | 0/98 [00:00<?, ?it/s]"
     ]
    },
    {
     "name": "stdout",
     "output_type": "stream",
     "text": [
      "initial_potential =  20358.929604435878\n",
      "final_potential =  20519.74473702287\n",
      "energy_change =  -0.4620036404230632\n",
      "p accept =  1.5872510814805223\n",
      "current step size = 1.7564077254274616e-05\n",
      "current acceptance ratio = 0.6542056074766355\n",
      "currently working on step 108\n"
     ]
    },
    {
     "name": "stderr",
     "output_type": "stream",
     "text": [
      "100%|██████████| 98/98 [00:09<00:00, 10.37it/s]\n",
      "  0%|          | 0/100 [00:00<?, ?it/s]"
     ]
    },
    {
     "name": "stdout",
     "output_type": "stream",
     "text": [
      "initial_potential =  20519.74473702287\n",
      "final_potential =  20661.35615013033\n",
      "energy_change =  0.012724033207632601\n",
      "p accept =  0.9873565750532979\n",
      "current step size = 1.7564077254274616e-05\n",
      "current acceptance ratio = 0.6574074074074074\n",
      "currently working on step 109\n"
     ]
    },
    {
     "name": "stderr",
     "output_type": "stream",
     "text": [
      "100%|██████████| 100/100 [00:09<00:00, 10.09it/s]\n",
      "  0%|          | 0/100 [00:00<?, ?it/s]"
     ]
    },
    {
     "name": "stdout",
     "output_type": "stream",
     "text": [
      "initial_potential =  20661.35615013033\n",
      "final_potential =  20803.352886848847\n",
      "energy_change =  -0.11060812007053755\n",
      "p accept =  1.1169571080050722\n",
      "current step size = 1.7564077254274616e-05\n",
      "current acceptance ratio = 0.6605504587155964\n",
      "currently working on step 110\n"
     ]
    },
    {
     "name": "stderr",
     "output_type": "stream",
     "text": [
      "100%|██████████| 100/100 [00:08<00:00, 11.38it/s]\n",
      "  0%|          | 0/99 [00:00<?, ?it/s]"
     ]
    },
    {
     "name": "stdout",
     "output_type": "stream",
     "text": [
      "initial_potential =  20803.352886848847\n",
      "final_potential =  20928.681496126523\n",
      "energy_change =  0.07669092794822063\n",
      "p accept =  0.9261760645108886\n",
      "current step size = 1.7564077254274616e-05\n",
      "current acceptance ratio = 0.6636363636363637\n",
      "currently working on step 111\n"
     ]
    },
    {
     "name": "stderr",
     "output_type": "stream",
     "text": [
      "100%|██████████| 99/99 [00:09<00:00, 10.99it/s]\n",
      "  0%|          | 0/99 [00:00<?, ?it/s]"
     ]
    },
    {
     "name": "stdout",
     "output_type": "stream",
     "text": [
      "initial_potential =  20928.681496126523\n",
      "final_potential =  21121.310169402477\n",
      "energy_change =  0.20293764486268628\n",
      "p accept =  0.8163291421543847\n",
      "current step size = 1.7564077254274616e-05\n",
      "current acceptance ratio = 0.6666666666666666\n",
      "currently working on step 112\n"
     ]
    },
    {
     "name": "stderr",
     "output_type": "stream",
     "text": [
      "100%|██████████| 99/99 [00:09<00:00,  9.92it/s]\n",
      "  0%|          | 0/98 [00:00<?, ?it/s]"
     ]
    },
    {
     "name": "stdout",
     "output_type": "stream",
     "text": [
      "initial_potential =  21121.310169402477\n",
      "final_potential =  21274.744497338135\n",
      "energy_change =  0.2676925783744082\n",
      "p accept =  0.7651429664450363\n",
      "current step size = 1.7564077254274616e-05\n",
      "current acceptance ratio = 0.6696428571428571\n",
      "currently working on step 113\n"
     ]
    },
    {
     "name": "stderr",
     "output_type": "stream",
     "text": [
      "100%|██████████| 98/98 [00:09<00:00, 10.69it/s]\n",
      "  0%|          | 0/98 [00:00<?, ?it/s]"
     ]
    },
    {
     "name": "stdout",
     "output_type": "stream",
     "text": [
      "initial_potential =  21274.744497338135\n",
      "final_potential =  21348.648894708727\n",
      "energy_change =  2.1335076229006518\n",
      "p accept =  0.118421187637513\n",
      "current step size = 1.7564077254274616e-05\n",
      "current acceptance ratio = 0.6637168141592921\n",
      "currently working on step 114\n"
     ]
    },
    {
     "name": "stderr",
     "output_type": "stream",
     "text": [
      "100%|██████████| 98/98 [00:08<00:00, 11.67it/s]\n",
      "  0%|          | 0/97 [00:00<?, ?it/s]"
     ]
    },
    {
     "name": "stdout",
     "output_type": "stream",
     "text": [
      "initial_potential =  21274.744497338135\n",
      "final_potential =  21435.609993383554\n",
      "energy_change =  -0.5375497937202454\n",
      "p accept =  1.7118074382234523\n",
      "current step size = 1.7564077254274616e-05\n",
      "current acceptance ratio = 0.6666666666666666\n",
      "currently working on step 115\n"
     ]
    },
    {
     "name": "stderr",
     "output_type": "stream",
     "text": [
      "100%|██████████| 97/97 [00:08<00:00, 12.00it/s]\n",
      "  0%|          | 0/98 [00:00<?, ?it/s]"
     ]
    },
    {
     "name": "stdout",
     "output_type": "stream",
     "text": [
      "initial_potential =  21435.609993383554\n",
      "final_potential =  21547.691915773084\n",
      "energy_change =  0.4103719678678317\n",
      "p accept =  0.6634034394734539\n",
      "current step size = 1.7564077254274616e-05\n",
      "current acceptance ratio = 0.6608695652173913\n",
      "currently working on step 116\n"
     ]
    },
    {
     "name": "stderr",
     "output_type": "stream",
     "text": [
      "100%|██████████| 98/98 [00:08<00:00, 11.00it/s]\n",
      "  0%|          | 0/101 [00:00<?, ?it/s]"
     ]
    },
    {
     "name": "stdout",
     "output_type": "stream",
     "text": [
      "initial_potential =  21435.609993383554\n",
      "final_potential =  21569.008829382976\n",
      "energy_change =  1.4046723575302167\n",
      "p accept =  0.24544746229277073\n",
      "current step size = 1.7564077254274616e-05\n",
      "current acceptance ratio = 0.6637931034482759\n",
      "currently working on step 117\n"
     ]
    },
    {
     "name": "stderr",
     "output_type": "stream",
     "text": [
      "100%|██████████| 101/101 [00:09<00:00, 10.74it/s]\n",
      "  0%|          | 0/101 [00:00<?, ?it/s]"
     ]
    },
    {
     "name": "stdout",
     "output_type": "stream",
     "text": [
      "initial_potential =  21569.008829382976\n",
      "final_potential =  21710.38838479704\n",
      "energy_change =  -1.4513947555533377\n",
      "p accept =  4.2690646663519765\n",
      "current step size = 1.7564077254274616e-05\n",
      "current acceptance ratio = 0.6666666666666666\n",
      "currently working on step 118\n"
     ]
    },
    {
     "name": "stderr",
     "output_type": "stream",
     "text": [
      "100%|██████████| 101/101 [00:10<00:00,  9.77it/s]\n",
      "  0%|          | 0/101 [00:00<?, ?it/s]"
     ]
    },
    {
     "name": "stdout",
     "output_type": "stream",
     "text": [
      "initial_potential =  21710.38838479704\n",
      "final_potential =  21854.057629646453\n",
      "energy_change =  3.6545734618703136\n",
      "p accept =  0.025872530750820383\n",
      "current step size = 1.7564077254274616e-05\n",
      "current acceptance ratio = 0.6610169491525424\n",
      "currently working on step 119\n"
     ]
    },
    {
     "name": "stderr",
     "output_type": "stream",
     "text": [
      "100%|██████████| 101/101 [00:10<00:00,  9.87it/s]\n",
      "  0%|          | 0/99 [00:00<?, ?it/s]"
     ]
    },
    {
     "name": "stdout",
     "output_type": "stream",
     "text": [
      "initial_potential =  21710.38838479704\n",
      "final_potential =  21809.767385918552\n",
      "energy_change =  0.11015515327744652\n",
      "p accept =  0.8956951544763322\n",
      "current step size = 1.7564077254274616e-05\n",
      "current acceptance ratio = 0.6638655462184874\n",
      "currently working on step 120\n"
     ]
    },
    {
     "name": "stderr",
     "output_type": "stream",
     "text": [
      "100%|██████████| 99/99 [00:08<00:00, 11.17it/s]\n",
      "  0%|          | 0/99 [00:00<?, ?it/s]"
     ]
    },
    {
     "name": "stdout",
     "output_type": "stream",
     "text": [
      "initial_potential =  21809.767385918552\n",
      "final_potential =  21905.910395631265\n",
      "energy_change =  0.08048276463523507\n",
      "p accept =  0.9226708060146137\n",
      "current step size = 1.7564077254274616e-05\n",
      "current acceptance ratio = 0.6666666666666666\n",
      "currently working on step 121\n"
     ]
    },
    {
     "name": "stderr",
     "output_type": "stream",
     "text": [
      "100%|██████████| 99/99 [00:08<00:00, 11.23it/s]\n",
      "  0%|          | 0/97 [00:00<?, ?it/s]"
     ]
    },
    {
     "name": "stdout",
     "output_type": "stream",
     "text": [
      "initial_potential =  21905.910395631265\n",
      "final_potential =  22086.829911075038\n",
      "energy_change =  0.31788339676859323\n",
      "p accept =  0.7276876341974553\n",
      "current step size = 1.7564077254274616e-05\n",
      "current acceptance ratio = 0.6694214876033058\n",
      "currently working on step 122\n"
     ]
    },
    {
     "name": "stderr",
     "output_type": "stream",
     "text": [
      "100%|██████████| 97/97 [00:09<00:00, 10.31it/s]\n",
      "  0%|          | 0/100 [00:00<?, ?it/s]"
     ]
    },
    {
     "name": "stdout",
     "output_type": "stream",
     "text": [
      "initial_potential =  22086.829911075038\n",
      "final_potential =  22264.57605565392\n",
      "energy_change =  -0.3289219629514264\n",
      "p accept =  1.3894694212639997\n",
      "current step size = 1.7564077254274616e-05\n",
      "current acceptance ratio = 0.6721311475409836\n",
      "currently working on step 123\n"
     ]
    },
    {
     "name": "stderr",
     "output_type": "stream",
     "text": [
      "100%|██████████| 100/100 [00:09<00:00, 10.10it/s]\n",
      "  0%|          | 0/97 [00:00<?, ?it/s]"
     ]
    },
    {
     "name": "stdout",
     "output_type": "stream",
     "text": [
      "initial_potential =  22264.57605565392\n",
      "final_potential =  22369.63738576831\n",
      "energy_change =  -0.05578614964906592\n",
      "p accept =  1.0573715402820876\n",
      "current step size = 1.7564077254274616e-05\n",
      "current acceptance ratio = 0.6747967479674797\n",
      "currently working on step 124\n"
     ]
    },
    {
     "name": "stderr",
     "output_type": "stream",
     "text": [
      "100%|██████████| 97/97 [00:08<00:00, 11.30it/s]\n",
      "  0%|          | 0/97 [00:00<?, ?it/s]"
     ]
    },
    {
     "name": "stdout",
     "output_type": "stream",
     "text": [
      "initial_potential =  22369.63738576831\n",
      "final_potential =  22480.056687762826\n",
      "energy_change =  0.1696559890115168\n",
      "p accept =  0.8439550964907635\n",
      "current step size = 1.7564077254274616e-05\n",
      "current acceptance ratio = 0.6693548387096774\n",
      "currently working on step 125\n"
     ]
    },
    {
     "name": "stderr",
     "output_type": "stream",
     "text": [
      "100%|██████████| 97/97 [00:09<00:00, 10.54it/s]\n",
      "  0%|          | 0/101 [00:00<?, ?it/s]"
     ]
    },
    {
     "name": "stdout",
     "output_type": "stream",
     "text": [
      "initial_potential =  22369.63738576831\n",
      "final_potential =  22448.296653834124\n",
      "energy_change =  -0.1112926288478775\n",
      "p accept =  1.1177219366855229\n",
      "current step size = 1.7564077254274616e-05\n",
      "current acceptance ratio = 0.672\n",
      "currently working on step 126\n"
     ]
    },
    {
     "name": "stderr",
     "output_type": "stream",
     "text": [
      "100%|██████████| 101/101 [00:09<00:00, 10.58it/s]\n",
      "  0%|          | 0/98 [00:00<?, ?it/s]"
     ]
    },
    {
     "name": "stdout",
     "output_type": "stream",
     "text": [
      "initial_potential =  22448.296653834124\n",
      "final_potential =  22610.709139214418\n",
      "energy_change =  0.07636436437314842\n",
      "p accept =  0.9264785692684908\n",
      "current step size = 1.7564077254274616e-05\n",
      "current acceptance ratio = 0.6746031746031746\n",
      "currently working on step 127\n"
     ]
    },
    {
     "name": "stderr",
     "output_type": "stream",
     "text": [
      "100%|██████████| 98/98 [00:08<00:00, 11.16it/s]\n",
      "  0%|          | 0/97 [00:00<?, ?it/s]"
     ]
    },
    {
     "name": "stdout",
     "output_type": "stream",
     "text": [
      "initial_potential =  22610.709139214418\n",
      "final_potential =  22726.097682235122\n",
      "energy_change =  0.14684566052164882\n",
      "p accept =  0.863427228041109\n",
      "current step size = 1.7564077254274616e-05\n",
      "current acceptance ratio = 0.6771653543307087\n",
      "currently working on step 128\n"
     ]
    },
    {
     "name": "stderr",
     "output_type": "stream",
     "text": [
      "100%|██████████| 97/97 [00:09<00:00, 10.20it/s]\n",
      "  0%|          | 0/97 [00:00<?, ?it/s]"
     ]
    },
    {
     "name": "stdout",
     "output_type": "stream",
     "text": [
      "initial_potential =  22726.097682235122\n",
      "final_potential =  22868.084473329596\n",
      "energy_change =  1.1437534626747947\n",
      "p accept =  0.31862084312144107\n",
      "current step size = 1.7564077254274616e-05\n",
      "current acceptance ratio = 0.6796875\n",
      "currently working on step 129\n"
     ]
    },
    {
     "name": "stderr",
     "output_type": "stream",
     "text": [
      "100%|██████████| 97/97 [00:09<00:00, 10.55it/s]\n",
      "  0%|          | 0/97 [00:00<?, ?it/s]"
     ]
    },
    {
     "name": "stdout",
     "output_type": "stream",
     "text": [
      "initial_potential =  22868.084473329596\n",
      "final_potential =  22911.333440707873\n",
      "energy_change =  0.04279892545309849\n",
      "p accept =  0.9581040210317031\n",
      "current step size = 1.7564077254274616e-05\n",
      "current acceptance ratio = 0.6821705426356589\n",
      "currently working on step 130\n"
     ]
    },
    {
     "name": "stderr",
     "output_type": "stream",
     "text": [
      "100%|██████████| 97/97 [00:09<00:00, 10.37it/s]\n",
      "  0%|          | 0/99 [00:00<?, ?it/s]"
     ]
    },
    {
     "name": "stdout",
     "output_type": "stream",
     "text": [
      "initial_potential =  22911.333440707873\n",
      "final_potential =  23075.037704703314\n",
      "energy_change =  -0.15724875300657004\n",
      "p accept =  1.1702866900290751\n",
      "current step size = 1.7564077254274616e-05\n",
      "current acceptance ratio = 0.6846153846153846\n",
      "currently working on step 131\n"
     ]
    },
    {
     "name": "stderr",
     "output_type": "stream",
     "text": [
      "100%|██████████| 99/99 [00:09<00:00, 10.97it/s]\n",
      "  0%|          | 0/98 [00:00<?, ?it/s]"
     ]
    },
    {
     "name": "stdout",
     "output_type": "stream",
     "text": [
      "initial_potential =  23075.037704703314\n",
      "final_potential =  23143.11038015043\n",
      "energy_change =  0.5652859990805155\n",
      "p accept =  0.5681976195205942\n",
      "current step size = 1.7564077254274616e-05\n",
      "current acceptance ratio = 0.6870229007633588\n",
      "currently working on step 132\n"
     ]
    },
    {
     "name": "stderr",
     "output_type": "stream",
     "text": [
      "100%|██████████| 98/98 [00:08<00:00, 11.28it/s]\n",
      "  0%|          | 0/97 [00:00<?, ?it/s]"
     ]
    },
    {
     "name": "stdout",
     "output_type": "stream",
     "text": [
      "initial_potential =  23143.11038015043\n",
      "final_potential =  23259.285842134497\n",
      "energy_change =  -0.05521369744383264\n",
      "p accept =  1.0567664188301817\n",
      "current step size = 1.7564077254274616e-05\n",
      "current acceptance ratio = 0.6893939393939394\n",
      "currently working on step 133\n"
     ]
    },
    {
     "name": "stderr",
     "output_type": "stream",
     "text": [
      "100%|██████████| 97/97 [00:08<00:00, 11.22it/s]\n",
      "  0%|          | 0/100 [00:00<?, ?it/s]"
     ]
    },
    {
     "name": "stdout",
     "output_type": "stream",
     "text": [
      "initial_potential =  23259.285842134497\n",
      "final_potential =  23383.75744839007\n",
      "energy_change =  2.5115998027467867\n",
      "p accept =  0.0811383300307903\n",
      "current step size = 1.7564077254274616e-05\n",
      "current acceptance ratio = 0.6842105263157895\n",
      "currently working on step 134\n"
     ]
    },
    {
     "name": "stderr",
     "output_type": "stream",
     "text": [
      "100%|██████████| 100/100 [00:08<00:00, 11.58it/s]\n",
      "  0%|          | 0/101 [00:00<?, ?it/s]"
     ]
    },
    {
     "name": "stdout",
     "output_type": "stream",
     "text": [
      "initial_potential =  23259.285842134497\n",
      "final_potential =  23434.10287694177\n",
      "energy_change =  -0.2702322978293523\n",
      "p accept =  1.3102687879787536\n",
      "current step size = 1.7564077254274616e-05\n",
      "current acceptance ratio = 0.6865671641791045\n",
      "currently working on step 135\n"
     ]
    },
    {
     "name": "stderr",
     "output_type": "stream",
     "text": [
      "100%|██████████| 101/101 [00:08<00:00, 11.97it/s]\n",
      "  0%|          | 0/100 [00:00<?, ?it/s]"
     ]
    },
    {
     "name": "stdout",
     "output_type": "stream",
     "text": [
      "initial_potential =  23434.10287694177\n",
      "final_potential =  23562.889767536573\n",
      "energy_change =  -1.358408725951449\n",
      "p accept =  3.8899983207694184\n",
      "current step size = 1.7564077254274616e-05\n",
      "current acceptance ratio = 0.6888888888888889\n",
      "currently working on step 136\n"
     ]
    },
    {
     "name": "stderr",
     "output_type": "stream",
     "text": [
      "100%|██████████| 100/100 [00:08<00:00, 11.63it/s]\n",
      "  0%|          | 0/101 [00:00<?, ?it/s]"
     ]
    },
    {
     "name": "stdout",
     "output_type": "stream",
     "text": [
      "initial_potential =  23562.889767536573\n",
      "final_potential =  23679.828724358114\n",
      "energy_change =  0.9820332160452381\n",
      "p accept =  0.3745487855397022\n",
      "current step size = 1.7564077254274616e-05\n",
      "current acceptance ratio = 0.6838235294117647\n",
      "currently working on step 137\n"
     ]
    },
    {
     "name": "stderr",
     "output_type": "stream",
     "text": [
      "100%|██████████| 101/101 [00:08<00:00, 11.58it/s]\n",
      "  0%|          | 0/100 [00:00<?, ?it/s]"
     ]
    },
    {
     "name": "stdout",
     "output_type": "stream",
     "text": [
      "initial_potential =  23562.889767536573\n",
      "final_potential =  23622.847107320016\n",
      "energy_change =  -0.06323069527570624\n",
      "p accept =  1.0652725642343253\n",
      "current step size = 1.7564077254274616e-05\n",
      "current acceptance ratio = 0.6861313868613139\n",
      "currently working on step 138\n"
     ]
    },
    {
     "name": "stderr",
     "output_type": "stream",
     "text": [
      "100%|██████████| 100/100 [00:08<00:00, 11.68it/s]\n",
      "  0%|          | 0/99 [00:00<?, ?it/s]"
     ]
    },
    {
     "name": "stdout",
     "output_type": "stream",
     "text": [
      "initial_potential =  23622.847107320016\n",
      "final_potential =  23673.25765197417\n",
      "energy_change =  -0.008105998029350303\n",
      "p accept =  1.0081389405819725\n",
      "current step size = 1.7564077254274616e-05\n",
      "current acceptance ratio = 0.6884057971014492\n",
      "currently working on step 139\n"
     ]
    },
    {
     "name": "stderr",
     "output_type": "stream",
     "text": [
      "100%|██████████| 99/99 [00:08<00:00, 11.72it/s]\n",
      "  0%|          | 0/98 [00:00<?, ?it/s]"
     ]
    },
    {
     "name": "stdout",
     "output_type": "stream",
     "text": [
      "initial_potential =  23673.25765197417\n",
      "final_potential =  23767.03736019091\n",
      "energy_change =  -0.08902513605426066\n",
      "p accept =  1.0931081324063376\n",
      "current step size = 1.7564077254274616e-05\n",
      "current acceptance ratio = 0.6906474820143885\n",
      "currently working on step 140\n"
     ]
    },
    {
     "name": "stderr",
     "output_type": "stream",
     "text": [
      "100%|██████████| 98/98 [00:08<00:00, 11.70it/s]\n",
      "  0%|          | 0/101 [00:00<?, ?it/s]"
     ]
    },
    {
     "name": "stdout",
     "output_type": "stream",
     "text": [
      "initial_potential =  23767.03736019091\n",
      "final_potential =  23834.81286726722\n",
      "energy_change =  0.09766588763159234\n",
      "p accept =  0.9069518769772005\n",
      "current step size = 1.7564077254274616e-05\n",
      "current acceptance ratio = 0.6928571428571428\n",
      "currently working on step 141\n"
     ]
    },
    {
     "name": "stderr",
     "output_type": "stream",
     "text": [
      "100%|██████████| 101/101 [00:08<00:00, 11.69it/s]\n",
      "  0%|          | 0/100 [00:00<?, ?it/s]"
     ]
    },
    {
     "name": "stdout",
     "output_type": "stream",
     "text": [
      "initial_potential =  23834.81286726722\n",
      "final_potential =  23944.213360990492\n",
      "energy_change =  3.9589641906204633\n",
      "p accept =  0.01908287027414772\n",
      "current step size = 1.7564077254274616e-05\n",
      "current acceptance ratio = 0.6879432624113475\n",
      "currently working on step 142\n"
     ]
    },
    {
     "name": "stderr",
     "output_type": "stream",
     "text": [
      "100%|██████████| 100/100 [00:08<00:00, 11.71it/s]\n",
      "  0%|          | 0/100 [00:00<?, ?it/s]"
     ]
    },
    {
     "name": "stdout",
     "output_type": "stream",
     "text": [
      "initial_potential =  23834.81286726722\n",
      "final_potential =  23988.39399186183\n",
      "energy_change =  10.944640251880628\n",
      "p accept =  1.7652374485439125e-05\n",
      "current step size = 1.7564077254274616e-05\n",
      "current acceptance ratio = 0.6830985915492958\n",
      "currently working on step 143\n"
     ]
    },
    {
     "name": "stderr",
     "output_type": "stream",
     "text": [
      "100%|██████████| 100/100 [00:08<00:00, 11.70it/s]\n",
      "  0%|          | 0/101 [00:00<?, ?it/s]"
     ]
    },
    {
     "name": "stdout",
     "output_type": "stream",
     "text": [
      "initial_potential =  23834.81286726722\n",
      "final_potential =  23930.29351727592\n",
      "energy_change =  0.8444660914392443\n",
      "p accept =  0.42978676379697717\n",
      "current step size = 1.7564077254274616e-05\n",
      "current acceptance ratio = 0.6783216783216783\n",
      "currently working on step 144\n"
     ]
    },
    {
     "name": "stderr",
     "output_type": "stream",
     "text": [
      "100%|██████████| 101/101 [00:08<00:00, 11.65it/s]\n",
      "  0%|          | 0/101 [00:00<?, ?it/s]"
     ]
    },
    {
     "name": "stdout",
     "output_type": "stream",
     "text": [
      "initial_potential =  23834.81286726722\n",
      "final_potential =  23928.467187247403\n",
      "energy_change =  1.1998229206947144\n",
      "p accept =  0.3012475518965679\n",
      "current step size = 1.7564077254274616e-05\n",
      "current acceptance ratio = 0.6736111111111112\n",
      "currently working on step 145\n"
     ]
    },
    {
     "name": "stderr",
     "output_type": "stream",
     "text": [
      "100%|██████████| 101/101 [00:08<00:00, 11.70it/s]\n",
      "  0%|          | 0/97 [00:00<?, ?it/s]"
     ]
    },
    {
     "name": "stdout",
     "output_type": "stream",
     "text": [
      "initial_potential =  23834.81286726722\n",
      "final_potential =  23914.0804209486\n",
      "energy_change =  -0.1789736389182508\n",
      "p accept =  1.1959892161828305\n",
      "current step size = 1.7564077254274616e-05\n",
      "current acceptance ratio = 0.6758620689655173\n",
      "currently working on step 146\n"
     ]
    },
    {
     "name": "stderr",
     "output_type": "stream",
     "text": [
      "100%|██████████| 97/97 [00:08<00:00, 11.71it/s]\n",
      "  0%|          | 0/100 [00:00<?, ?it/s]"
     ]
    },
    {
     "name": "stdout",
     "output_type": "stream",
     "text": [
      "initial_potential =  23914.0804209486\n",
      "final_potential =  23959.56873985843\n",
      "energy_change =  0.004614804813172668\n",
      "p accept =  0.9953958270376329\n",
      "current step size = 1.7564077254274616e-05\n",
      "current acceptance ratio = 0.678082191780822\n",
      "currently working on step 147\n"
     ]
    },
    {
     "name": "stderr",
     "output_type": "stream",
     "text": [
      "100%|██████████| 100/100 [00:08<00:00, 11.71it/s]\n",
      "  0%|          | 0/101 [00:00<?, ?it/s]"
     ]
    },
    {
     "name": "stdout",
     "output_type": "stream",
     "text": [
      "initial_potential =  23959.56873985843\n",
      "final_potential =  24062.3637218589\n",
      "energy_change =  1.2502375453186687\n",
      "p accept =  0.2864367470696944\n",
      "current step size = 1.7564077254274616e-05\n",
      "current acceptance ratio = 0.6802721088435374\n",
      "currently working on step 148\n"
     ]
    },
    {
     "name": "stderr",
     "output_type": "stream",
     "text": [
      "100%|██████████| 101/101 [00:08<00:00, 11.66it/s]\n",
      "  0%|          | 0/98 [00:00<?, ?it/s]"
     ]
    },
    {
     "name": "stdout",
     "output_type": "stream",
     "text": [
      "initial_potential =  24062.3637218589\n",
      "final_potential =  24128.82826870309\n",
      "energy_change =  0.49333475387538783\n",
      "p accept =  0.6105868385403758\n",
      "current step size = 1.7564077254274616e-05\n",
      "current acceptance ratio = 0.6824324324324325\n",
      "currently working on step 149\n"
     ]
    },
    {
     "name": "stderr",
     "output_type": "stream",
     "text": [
      "100%|██████████| 98/98 [00:08<00:00, 11.71it/s]\n",
      "  0%|          | 0/98 [00:00<?, ?it/s]"
     ]
    },
    {
     "name": "stdout",
     "output_type": "stream",
     "text": [
      "initial_potential =  24128.82826870309\n",
      "final_potential =  24202.631709809448\n",
      "energy_change =  -0.8682502275187289\n",
      "p accept =  2.3827379544741767\n",
      "current step size = 1.7564077254274616e-05\n",
      "current acceptance ratio = 0.6845637583892618\n",
      "currently working on step 150\n"
     ]
    },
    {
     "name": "stderr",
     "output_type": "stream",
     "text": [
      "100%|██████████| 98/98 [00:08<00:00, 11.66it/s]\n",
      "  0%|          | 0/99 [00:00<?, ?it/s]"
     ]
    },
    {
     "name": "stdout",
     "output_type": "stream",
     "text": [
      "initial_potential =  24202.631709809448\n",
      "final_potential =  24256.856280982072\n",
      "energy_change =  1.7518733475590125\n",
      "p accept =  0.17344870919118072\n",
      "current step size = 1.7564077254274616e-05\n",
      "current acceptance ratio = 0.68\n",
      "currently working on step 151\n"
     ]
    },
    {
     "name": "stderr",
     "output_type": "stream",
     "text": [
      "100%|██████████| 99/99 [00:08<00:00, 11.69it/s]\n",
      "  0%|          | 0/97 [00:00<?, ?it/s]"
     ]
    },
    {
     "name": "stdout",
     "output_type": "stream",
     "text": [
      "initial_potential =  24202.631709809448\n",
      "final_potential =  24270.246063180603\n",
      "energy_change =  0.14724357410159428\n",
      "p accept =  0.86308372696818\n",
      "current step size = 1.7564077254274616e-05\n",
      "current acceptance ratio = 0.6821192052980133\n",
      "currently working on step 152\n"
     ]
    },
    {
     "name": "stderr",
     "output_type": "stream",
     "text": [
      "100%|██████████| 97/97 [00:08<00:00, 11.70it/s]\n",
      "  0%|          | 0/98 [00:00<?, ?it/s]"
     ]
    },
    {
     "name": "stdout",
     "output_type": "stream",
     "text": [
      "initial_potential =  24270.246063180603\n",
      "final_potential =  24301.579229495335\n",
      "energy_change =  -0.2402030343801016\n",
      "p accept =  1.2715072838086945\n",
      "current step size = 1.7564077254274616e-05\n",
      "current acceptance ratio = 0.6842105263157895\n",
      "currently working on step 153\n"
     ]
    },
    {
     "name": "stderr",
     "output_type": "stream",
     "text": [
      "100%|██████████| 98/98 [00:08<00:00, 11.76it/s]\n",
      "  0%|          | 0/101 [00:00<?, ?it/s]"
     ]
    },
    {
     "name": "stdout",
     "output_type": "stream",
     "text": [
      "initial_potential =  24301.579229495335\n",
      "final_potential =  24429.031408279236\n",
      "energy_change =  0.13185901242832188\n",
      "p accept =  0.8764645569783729\n",
      "current step size = 1.7564077254274616e-05\n",
      "current acceptance ratio = 0.6862745098039216\n",
      "currently working on step 154\n"
     ]
    },
    {
     "name": "stderr",
     "output_type": "stream",
     "text": [
      "100%|██████████| 101/101 [00:08<00:00, 11.73it/s]\n",
      "  0%|          | 0/100 [00:00<?, ?it/s]"
     ]
    },
    {
     "name": "stdout",
     "output_type": "stream",
     "text": [
      "initial_potential =  24429.031408279236\n",
      "final_potential =  24504.313199911398\n",
      "energy_change =  -0.17130913732398767\n",
      "p accept =  1.1868575942966622\n",
      "current step size = 1.7564077254274616e-05\n",
      "current acceptance ratio = 0.6883116883116883\n",
      "currently working on step 155\n"
     ]
    },
    {
     "name": "stderr",
     "output_type": "stream",
     "text": [
      "100%|██████████| 100/100 [00:08<00:00, 11.73it/s]\n",
      "  0%|          | 0/101 [00:00<?, ?it/s]"
     ]
    },
    {
     "name": "stdout",
     "output_type": "stream",
     "text": [
      "initial_potential =  24504.313199911398\n",
      "final_potential =  24607.49940008782\n",
      "energy_change =  1.0578364024404436\n",
      "p accept =  0.3472062127674937\n",
      "current step size = 1.7564077254274616e-05\n",
      "current acceptance ratio = 0.6838709677419355\n",
      "currently working on step 156\n"
     ]
    },
    {
     "name": "stderr",
     "output_type": "stream",
     "text": [
      "100%|██████████| 101/101 [00:08<00:00, 11.70it/s]\n",
      "  0%|          | 0/100 [00:00<?, ?it/s]"
     ]
    },
    {
     "name": "stdout",
     "output_type": "stream",
     "text": [
      "initial_potential =  24504.313199911398\n",
      "final_potential =  24554.96336039152\n",
      "energy_change =  -0.31482292666623835\n",
      "p accept =  1.3700166960536364\n",
      "current step size = 1.7564077254274616e-05\n",
      "current acceptance ratio = 0.6858974358974359\n",
      "currently working on step 157\n"
     ]
    },
    {
     "name": "stderr",
     "output_type": "stream",
     "text": [
      "100%|██████████| 100/100 [00:08<00:00, 11.69it/s]\n",
      "  0%|          | 0/99 [00:00<?, ?it/s]"
     ]
    },
    {
     "name": "stdout",
     "output_type": "stream",
     "text": [
      "initial_potential =  24554.96336039152\n",
      "final_potential =  24639.712263736976\n",
      "energy_change =  -0.3533164271793794\n",
      "p accept =  1.4237815953564987\n",
      "current step size = 1.7564077254274616e-05\n",
      "current acceptance ratio = 0.6878980891719745\n",
      "currently working on step 158\n"
     ]
    },
    {
     "name": "stderr",
     "output_type": "stream",
     "text": [
      "100%|██████████| 99/99 [00:08<00:00, 11.73it/s]\n",
      "  0%|          | 0/98 [00:00<?, ?it/s]"
     ]
    },
    {
     "name": "stdout",
     "output_type": "stream",
     "text": [
      "initial_potential =  24639.712263736976\n",
      "final_potential =  24671.204563692154\n",
      "energy_change =  0.1026696611661464\n",
      "p accept =  0.9024250302810816\n",
      "current step size = 1.7564077254274616e-05\n",
      "current acceptance ratio = 0.689873417721519\n",
      "currently working on step 159\n"
     ]
    },
    {
     "name": "stderr",
     "output_type": "stream",
     "text": [
      "100%|██████████| 98/98 [00:08<00:00, 11.73it/s]\n",
      "  0%|          | 0/101 [00:00<?, ?it/s]"
     ]
    },
    {
     "name": "stdout",
     "output_type": "stream",
     "text": [
      "initial_potential =  24671.204563692154\n",
      "final_potential =  24704.651124909666\n",
      "energy_change =  0.058378912159241736\n",
      "p accept =  0.9432924547310907\n",
      "current step size = 1.7564077254274616e-05\n",
      "current acceptance ratio = 0.6918238993710691\n",
      "currently working on step 160\n"
     ]
    },
    {
     "name": "stderr",
     "output_type": "stream",
     "text": [
      "100%|██████████| 101/101 [00:08<00:00, 11.73it/s]\n",
      "  0%|          | 0/100 [00:00<?, ?it/s]"
     ]
    },
    {
     "name": "stdout",
     "output_type": "stream",
     "text": [
      "initial_potential =  24704.651124909666\n",
      "final_potential =  24779.788177027775\n",
      "energy_change =  0.4219025513448287\n",
      "p accept =  0.6557979429073358\n",
      "current step size = 1.7564077254274616e-05\n",
      "current acceptance ratio = 0.69375\n",
      "currently working on step 161\n"
     ]
    },
    {
     "name": "stderr",
     "output_type": "stream",
     "text": [
      "100%|██████████| 100/100 [00:08<00:00, 11.95it/s]\n",
      "  0%|          | 0/98 [00:00<?, ?it/s]"
     ]
    },
    {
     "name": "stdout",
     "output_type": "stream",
     "text": [
      "initial_potential =  24779.788177027775\n",
      "final_potential =  24884.33624992242\n",
      "energy_change =  0.7803067524218932\n",
      "p accept =  0.45826541571616647\n",
      "current step size = 1.7564077254274616e-05\n",
      "current acceptance ratio = 0.6956521739130435\n",
      "currently working on step 162\n"
     ]
    },
    {
     "name": "stderr",
     "output_type": "stream",
     "text": [
      "100%|██████████| 98/98 [00:08<00:00, 11.81it/s]\n",
      "  0%|          | 0/97 [00:00<?, ?it/s]"
     ]
    },
    {
     "name": "stdout",
     "output_type": "stream",
     "text": [
      "initial_potential =  24884.33624992242\n",
      "final_potential =  24924.344648453116\n",
      "energy_change =  1.0035460347280605\n",
      "p accept =  0.36657723809051374\n",
      "current step size = 1.7564077254274616e-05\n",
      "current acceptance ratio = 0.691358024691358\n",
      "currently working on step 163\n"
     ]
    },
    {
     "name": "stderr",
     "output_type": "stream",
     "text": [
      "100%|██████████| 97/97 [00:08<00:00, 11.72it/s]\n",
      "  0%|          | 0/98 [00:00<?, ?it/s]"
     ]
    },
    {
     "name": "stdout",
     "output_type": "stream",
     "text": [
      "initial_potential =  24884.33624992242\n",
      "final_potential =  24926.594700478578\n",
      "energy_change =  -1.2473692938510794\n",
      "p accept =  3.4811729578574795\n",
      "current step size = 1.7564077254274616e-05\n",
      "current acceptance ratio = 0.6932515337423313\n",
      "currently working on step 164\n"
     ]
    },
    {
     "name": "stderr",
     "output_type": "stream",
     "text": [
      "100%|██████████| 98/98 [00:08<00:00, 11.68it/s]\n",
      "  0%|          | 0/100 [00:00<?, ?it/s]"
     ]
    },
    {
     "name": "stdout",
     "output_type": "stream",
     "text": [
      "initial_potential =  24926.594700478578\n",
      "final_potential =  24998.3204951418\n",
      "energy_change =  -0.09573649604863022\n",
      "p accept =  1.1004690478429893\n",
      "current step size = 1.7564077254274616e-05\n",
      "current acceptance ratio = 0.6951219512195121\n",
      "currently working on step 165\n"
     ]
    },
    {
     "name": "stderr",
     "output_type": "stream",
     "text": [
      "100%|██████████| 100/100 [00:08<00:00, 11.71it/s]\n",
      "  0%|          | 0/99 [00:00<?, ?it/s]"
     ]
    },
    {
     "name": "stdout",
     "output_type": "stream",
     "text": [
      "initial_potential =  24998.3204951418\n",
      "final_potential =  24926.015272501812\n",
      "energy_change =  1.6021869619580684\n",
      "p accept =  0.20145546045415674\n",
      "current step size = 1.7564077254274616e-05\n",
      "current acceptance ratio = 0.696969696969697\n",
      "currently working on step 166\n"
     ]
    },
    {
     "name": "stderr",
     "output_type": "stream",
     "text": [
      "100%|██████████| 99/99 [00:08<00:00, 11.68it/s]\n",
      "  0%|          | 0/99 [00:00<?, ?it/s]"
     ]
    },
    {
     "name": "stdout",
     "output_type": "stream",
     "text": [
      "initial_potential =  24926.015272501812\n",
      "final_potential =  24972.497438352097\n",
      "energy_change =  1.305052746043657\n",
      "p accept =  0.27115823214444185\n",
      "current step size = 1.7564077254274616e-05\n",
      "current acceptance ratio = 0.6987951807228916\n",
      "currently working on step 167\n"
     ]
    },
    {
     "name": "stderr",
     "output_type": "stream",
     "text": [
      "100%|██████████| 99/99 [00:08<00:00, 11.74it/s]\n",
      "  0%|          | 0/98 [00:00<?, ?it/s]"
     ]
    },
    {
     "name": "stdout",
     "output_type": "stream",
     "text": [
      "initial_potential =  24972.497438352097\n",
      "final_potential =  24955.137318840185\n",
      "energy_change =  -1.9405517762352247\n",
      "p accept =  6.962591703564849\n",
      "current step size = 1.7564077254274616e-05\n",
      "current acceptance ratio = 0.7005988023952096\n",
      "currently working on step 168\n"
     ]
    },
    {
     "name": "stderr",
     "output_type": "stream",
     "text": [
      "100%|██████████| 98/98 [00:08<00:00, 11.58it/s]\n",
      "  0%|          | 0/101 [00:00<?, ?it/s]"
     ]
    },
    {
     "name": "stdout",
     "output_type": "stream",
     "text": [
      "initial_potential =  24955.137318840185\n",
      "final_potential =  24983.828157100517\n",
      "energy_change =  0.6336555205925833\n",
      "p accept =  0.5306484548458805\n",
      "current step size = 1.7564077254274616e-05\n",
      "current acceptance ratio = 0.6964285714285714\n",
      "currently working on step 169\n"
     ]
    },
    {
     "name": "stderr",
     "output_type": "stream",
     "text": [
      "100%|██████████| 101/101 [00:08<00:00, 11.69it/s]\n",
      "  0%|          | 0/98 [00:00<?, ?it/s]"
     ]
    },
    {
     "name": "stdout",
     "output_type": "stream",
     "text": [
      "initial_potential =  24955.137318840185\n",
      "final_potential =  25050.743098812993\n",
      "energy_change =  -0.47750853358593304\n",
      "p accept =  1.6120530187482878\n",
      "current step size = 1.7564077254274616e-05\n",
      "current acceptance ratio = 0.6982248520710059\n",
      "currently working on step 170\n"
     ]
    },
    {
     "name": "stderr",
     "output_type": "stream",
     "text": [
      "100%|██████████| 98/98 [00:08<00:00, 11.76it/s]\n",
      "  0%|          | 0/97 [00:00<?, ?it/s]"
     ]
    },
    {
     "name": "stdout",
     "output_type": "stream",
     "text": [
      "initial_potential =  25050.743098812993\n",
      "final_potential =  25079.040012621022\n",
      "energy_change =  -0.4324739626899827\n",
      "p accept =  1.541065349574047\n",
      "current step size = 1.7564077254274616e-05\n",
      "current acceptance ratio = 0.7\n",
      "currently working on step 171\n"
     ]
    },
    {
     "name": "stderr",
     "output_type": "stream",
     "text": [
      "100%|██████████| 97/97 [00:08<00:00, 11.82it/s]\n",
      "  0%|          | 0/98 [00:00<?, ?it/s]"
     ]
    },
    {
     "name": "stdout",
     "output_type": "stream",
     "text": [
      "initial_potential =  25079.040012621022\n",
      "final_potential =  25109.443812875194\n",
      "energy_change =  -0.05640495294937864\n",
      "p accept =  1.058026047765681\n",
      "current step size = 1.7564077254274616e-05\n",
      "current acceptance ratio = 0.7017543859649122\n",
      "currently working on step 172\n"
     ]
    },
    {
     "name": "stderr",
     "output_type": "stream",
     "text": [
      "100%|██████████| 98/98 [00:08<00:00, 11.96it/s]\n",
      "  0%|          | 0/97 [00:00<?, ?it/s]"
     ]
    },
    {
     "name": "stdout",
     "output_type": "stream",
     "text": [
      "initial_potential =  25109.443812875194\n",
      "final_potential =  25139.797951683475\n",
      "energy_change =  -0.001629209567909129\n",
      "p accept =  1.0016305374508525\n",
      "current step size = 1.7564077254274616e-05\n",
      "current acceptance ratio = 0.7034883720930233\n",
      "currently working on step 173\n"
     ]
    },
    {
     "name": "stderr",
     "output_type": "stream",
     "text": [
      "100%|██████████| 97/97 [00:08<00:00, 11.76it/s]\n",
      "  0%|          | 0/98 [00:00<?, ?it/s]"
     ]
    },
    {
     "name": "stdout",
     "output_type": "stream",
     "text": [
      "initial_potential =  25139.797951683475\n",
      "final_potential =  25170.40039713565\n",
      "energy_change =  -0.01875117285817396\n",
      "p accept =  1.018928080109453\n",
      "current step size = 1.7564077254274616e-05\n",
      "current acceptance ratio = 0.7052023121387283\n",
      "currently working on step 174\n"
     ]
    },
    {
     "name": "stderr",
     "output_type": "stream",
     "text": [
      "100%|██████████| 98/98 [00:08<00:00, 11.77it/s]\n",
      "  0%|          | 0/99 [00:00<?, ?it/s]"
     ]
    },
    {
     "name": "stdout",
     "output_type": "stream",
     "text": [
      "initial_potential =  25170.40039713565\n",
      "final_potential =  25266.762444828513\n",
      "energy_change =  0.15356786400661804\n",
      "p accept =  0.8576425591635257\n",
      "current step size = 1.7564077254274616e-05\n",
      "current acceptance ratio = 0.7068965517241379\n",
      "currently working on step 175\n"
     ]
    },
    {
     "name": "stderr",
     "output_type": "stream",
     "text": [
      "100%|██████████| 99/99 [00:08<00:00, 11.71it/s]\n",
      "  0%|          | 0/97 [00:00<?, ?it/s]"
     ]
    },
    {
     "name": "stdout",
     "output_type": "stream",
     "text": [
      "initial_potential =  25266.762444828513\n",
      "final_potential =  25320.343838711575\n",
      "energy_change =  2.3975061914679827\n",
      "p accept =  0.0909444688211224\n",
      "current step size = 1.7564077254274616e-05\n",
      "current acceptance ratio = 0.7028571428571428\n",
      "currently working on step 176\n"
     ]
    },
    {
     "name": "stderr",
     "output_type": "stream",
     "text": [
      "100%|██████████| 97/97 [00:08<00:00, 11.73it/s]\n",
      "  0%|          | 0/100 [00:00<?, ?it/s]"
     ]
    },
    {
     "name": "stdout",
     "output_type": "stream",
     "text": [
      "initial_potential =  25266.762444828513\n",
      "final_potential =  25175.999169399165\n",
      "energy_change =  2.256980217192904\n",
      "p accept =  0.1046660768244667\n",
      "current step size = 1.7564077254274616e-05\n",
      "current acceptance ratio = 0.6988636363636364\n",
      "currently working on step 177\n"
     ]
    },
    {
     "name": "stderr",
     "output_type": "stream",
     "text": [
      "100%|██████████| 100/100 [00:08<00:00, 12.05it/s]\n",
      "  0%|          | 0/97 [00:00<?, ?it/s]"
     ]
    },
    {
     "name": "stdout",
     "output_type": "stream",
     "text": [
      "initial_potential =  25266.762444828513\n",
      "final_potential =  25295.9699276816\n",
      "energy_change =  -0.09565162572835106\n",
      "p accept =  1.100375654645653\n",
      "current step size = 1.7564077254274616e-05\n",
      "current acceptance ratio = 0.7005649717514124\n",
      "currently working on step 178\n"
     ]
    },
    {
     "name": "stderr",
     "output_type": "stream",
     "text": [
      "100%|██████████| 97/97 [00:08<00:00, 11.78it/s]\n",
      "  0%|          | 0/101 [00:00<?, ?it/s]"
     ]
    },
    {
     "name": "stdout",
     "output_type": "stream",
     "text": [
      "initial_potential =  25295.9699276816\n",
      "final_potential =  25379.0403693451\n",
      "energy_change =  1.4788337445061188\n",
      "p accept =  0.22790332695961993\n",
      "current step size = 1.7564077254274616e-05\n",
      "current acceptance ratio = 0.6966292134831461\n",
      "currently working on step 179\n"
     ]
    },
    {
     "name": "stderr",
     "output_type": "stream",
     "text": [
      "100%|██████████| 101/101 [00:08<00:00, 11.75it/s]\n",
      "  0%|          | 0/98 [00:00<?, ?it/s]"
     ]
    },
    {
     "name": "stdout",
     "output_type": "stream",
     "text": [
      "initial_potential =  25295.9699276816\n",
      "final_potential =  25318.55276784462\n",
      "energy_change =  0.2392711493303068\n",
      "p accept =  0.7872014042981854\n",
      "current step size = 1.7564077254274616e-05\n",
      "current acceptance ratio = 0.6927374301675978\n",
      "currently working on step 180\n"
     ]
    },
    {
     "name": "stderr",
     "output_type": "stream",
     "text": [
      "100%|██████████| 98/98 [00:08<00:00, 11.80it/s]\n",
      "  0%|          | 0/98 [00:00<?, ?it/s]"
     ]
    },
    {
     "name": "stdout",
     "output_type": "stream",
     "text": [
      "initial_potential =  25295.9699276816\n",
      "final_potential =  25332.100133173593\n",
      "energy_change =  0.0043824975728057325\n",
      "p accept =  0.9956270915564558\n",
      "current step size = 1.7564077254274616e-05\n",
      "current acceptance ratio = 0.6944444444444444\n",
      "currently working on step 181\n"
     ]
    },
    {
     "name": "stderr",
     "output_type": "stream",
     "text": [
      "100%|██████████| 98/98 [00:08<00:00, 11.76it/s]\n",
      "  0%|          | 0/97 [00:00<?, ?it/s]"
     ]
    },
    {
     "name": "stdout",
     "output_type": "stream",
     "text": [
      "initial_potential =  25332.100133173593\n",
      "final_potential =  25304.367735688917\n",
      "energy_change =  -0.11106209333229344\n",
      "p accept =  1.117464291781861\n",
      "current step size = 1.7564077254274616e-05\n",
      "current acceptance ratio = 0.6961325966850829\n",
      "currently working on step 182\n"
     ]
    },
    {
     "name": "stderr",
     "output_type": "stream",
     "text": [
      "100%|██████████| 97/97 [00:07<00:00, 12.14it/s]\n",
      "  0%|          | 0/98 [00:00<?, ?it/s]"
     ]
    },
    {
     "name": "stdout",
     "output_type": "stream",
     "text": [
      "initial_potential =  25304.367735688917\n",
      "final_potential =  25371.711597744703\n",
      "energy_change =  0.07334151020040736\n",
      "p accept =  0.9292834160631698\n",
      "current step size = 1.7564077254274616e-05\n",
      "current acceptance ratio = 0.6978021978021978\n",
      "currently working on step 183\n"
     ]
    },
    {
     "name": "stderr",
     "output_type": "stream",
     "text": [
      "100%|██████████| 98/98 [00:08<00:00, 11.76it/s]\n",
      "  0%|          | 0/99 [00:00<?, ?it/s]"
     ]
    },
    {
     "name": "stdout",
     "output_type": "stream",
     "text": [
      "initial_potential =  25371.711597744703\n",
      "final_potential =  25395.80491720907\n",
      "energy_change =  0.6450866348750424\n",
      "p accept =  0.5246170900017152\n",
      "current step size = 1.7564077254274616e-05\n",
      "current acceptance ratio = 0.6994535519125683\n",
      "currently working on step 184\n"
     ]
    },
    {
     "name": "stderr",
     "output_type": "stream",
     "text": [
      "100%|██████████| 99/99 [00:08<00:00, 11.75it/s]\n",
      "  0%|          | 0/98 [00:00<?, ?it/s]"
     ]
    },
    {
     "name": "stdout",
     "output_type": "stream",
     "text": [
      "initial_potential =  25395.80491720907\n",
      "final_potential =  25465.885217177645\n",
      "energy_change =  1.6374487494322238\n",
      "p accept =  0.19447556581748784\n",
      "current step size = 1.7564077254274616e-05\n",
      "current acceptance ratio = 0.7010869565217391\n",
      "currently working on step 185\n"
     ]
    },
    {
     "name": "stderr",
     "output_type": "stream",
     "text": [
      "100%|██████████| 98/98 [00:08<00:00, 11.75it/s]\n",
      "  0%|          | 0/101 [00:00<?, ?it/s]"
     ]
    },
    {
     "name": "stdout",
     "output_type": "stream",
     "text": [
      "initial_potential =  25465.885217177645\n",
      "final_potential =  25513.365091329855\n",
      "energy_change =  -1.6054407735937275\n",
      "p accept =  4.980054195429578\n",
      "current step size = 1.7564077254274616e-05\n",
      "current acceptance ratio = 0.7027027027027027\n",
      "currently working on step 186\n"
     ]
    },
    {
     "name": "stderr",
     "output_type": "stream",
     "text": [
      "100%|██████████| 101/101 [00:08<00:00, 11.73it/s]\n",
      "  0%|          | 0/98 [00:00<?, ?it/s]"
     ]
    },
    {
     "name": "stdout",
     "output_type": "stream",
     "text": [
      "initial_potential =  25513.365091329855\n",
      "final_potential =  25573.690506325438\n",
      "energy_change =  -0.42836873144551646\n",
      "p accept =  1.5347518879279045\n",
      "current step size = 1.7564077254274616e-05\n",
      "current acceptance ratio = 0.7043010752688172\n",
      "currently working on step 187\n"
     ]
    },
    {
     "name": "stderr",
     "output_type": "stream",
     "text": [
      "100%|██████████| 98/98 [00:08<00:00, 12.09it/s]\n",
      "  0%|          | 0/98 [00:00<?, ?it/s]"
     ]
    },
    {
     "name": "stdout",
     "output_type": "stream",
     "text": [
      "initial_potential =  25573.690506325438\n",
      "final_potential =  25668.12388109773\n",
      "energy_change =  3.9799542456894414\n",
      "p accept =  0.018686494305837104\n",
      "current step size = 1.7564077254274616e-05\n",
      "current acceptance ratio = 0.7005347593582888\n",
      "currently working on step 188\n"
     ]
    },
    {
     "name": "stderr",
     "output_type": "stream",
     "text": [
      "100%|██████████| 98/98 [00:08<00:00, 11.73it/s]\n",
      "  0%|          | 0/99 [00:00<?, ?it/s]"
     ]
    },
    {
     "name": "stdout",
     "output_type": "stream",
     "text": [
      "initial_potential =  25573.690506325438\n",
      "final_potential =  25548.890603703636\n",
      "energy_change =  4.437514462784748\n",
      "p accept =  0.011825294231174809\n",
      "current step size = 1.7564077254274616e-05\n",
      "current acceptance ratio = 0.6968085106382979\n",
      "currently working on step 189\n"
     ]
    },
    {
     "name": "stderr",
     "output_type": "stream",
     "text": [
      "100%|██████████| 99/99 [00:08<00:00, 11.76it/s]\n",
      "  0%|          | 0/100 [00:00<?, ?it/s]"
     ]
    },
    {
     "name": "stdout",
     "output_type": "stream",
     "text": [
      "initial_potential =  25573.690506325438\n",
      "final_potential =  25612.78213394166\n",
      "energy_change =  0.0626845922524808\n",
      "p accept =  0.9392396704441375\n",
      "current step size = 1.7564077254274616e-05\n",
      "current acceptance ratio = 0.6984126984126984\n",
      "currently working on step 190\n"
     ]
    },
    {
     "name": "stderr",
     "output_type": "stream",
     "text": [
      "100%|██████████| 100/100 [00:08<00:00, 11.71it/s]\n",
      "  0%|          | 0/98 [00:00<?, ?it/s]"
     ]
    },
    {
     "name": "stdout",
     "output_type": "stream",
     "text": [
      "initial_potential =  25612.78213394166\n",
      "final_potential =  25644.077859301273\n",
      "energy_change =  0.3921081440348644\n",
      "p accept =  0.6756310445424499\n",
      "current step size = 1.7564077254274616e-05\n",
      "current acceptance ratio = 0.6947368421052632\n",
      "currently working on step 191\n"
     ]
    },
    {
     "name": "stderr",
     "output_type": "stream",
     "text": [
      "100%|██████████| 98/98 [00:08<00:00, 11.74it/s]\n",
      "  0%|          | 0/101 [00:00<?, ?it/s]"
     ]
    },
    {
     "name": "stdout",
     "output_type": "stream",
     "text": [
      "initial_potential =  25612.78213394166\n",
      "final_potential =  25669.91620768702\n",
      "energy_change =  -0.17916573942056857\n",
      "p accept =  1.1962189883809966\n",
      "current step size = 1.7564077254274616e-05\n",
      "current acceptance ratio = 0.6963350785340314\n",
      "currently working on step 192\n"
     ]
    },
    {
     "name": "stderr",
     "output_type": "stream",
     "text": [
      "100%|██████████| 101/101 [00:08<00:00, 12.00it/s]\n",
      "  0%|          | 0/98 [00:00<?, ?it/s]"
     ]
    },
    {
     "name": "stdout",
     "output_type": "stream",
     "text": [
      "initial_potential =  25669.91620768702\n",
      "final_potential =  25700.878100196445\n",
      "energy_change =  1.0573604106321\n",
      "p accept =  0.34737151941976213\n",
      "current step size = 1.7564077254274616e-05\n",
      "current acceptance ratio = 0.6927083333333334\n",
      "currently working on step 193\n"
     ]
    },
    {
     "name": "stderr",
     "output_type": "stream",
     "text": [
      "100%|██████████| 98/98 [00:08<00:00, 11.73it/s]\n",
      "  0%|          | 0/99 [00:00<?, ?it/s]"
     ]
    },
    {
     "name": "stdout",
     "output_type": "stream",
     "text": [
      "initial_potential =  25669.91620768702\n",
      "final_potential =  25810.992077656614\n",
      "energy_change =  0.5050753664108925\n",
      "p accept =  0.6034600930918087\n",
      "current step size = 1.7564077254274616e-05\n",
      "current acceptance ratio = 0.689119170984456\n",
      "currently working on step 194\n"
     ]
    },
    {
     "name": "stderr",
     "output_type": "stream",
     "text": [
      "100%|██████████| 99/99 [00:08<00:00, 11.75it/s]\n",
      "  0%|          | 0/101 [00:00<?, ?it/s]"
     ]
    },
    {
     "name": "stdout",
     "output_type": "stream",
     "text": [
      "initial_potential =  25669.91620768702\n",
      "final_potential =  25729.60154548274\n",
      "energy_change =  -0.08990666300815064\n",
      "p accept =  1.0940721615349727\n",
      "current step size = 1.7564077254274616e-05\n",
      "current acceptance ratio = 0.6907216494845361\n",
      "currently working on step 195\n"
     ]
    },
    {
     "name": "stderr",
     "output_type": "stream",
     "text": [
      "100%|██████████| 101/101 [00:08<00:00, 11.73it/s]\n",
      "  0%|          | 0/101 [00:00<?, ?it/s]"
     ]
    },
    {
     "name": "stdout",
     "output_type": "stream",
     "text": [
      "initial_potential =  25729.60154548274\n",
      "final_potential =  25768.857180453007\n",
      "energy_change =  0.16692340130975936\n",
      "p accept =  0.8462644316016408\n",
      "current step size = 1.7564077254274616e-05\n",
      "current acceptance ratio = 0.6923076923076923\n",
      "currently working on step 196\n"
     ]
    },
    {
     "name": "stderr",
     "output_type": "stream",
     "text": [
      "100%|██████████| 101/101 [00:08<00:00, 11.77it/s]\n",
      "  0%|          | 0/101 [00:00<?, ?it/s]"
     ]
    },
    {
     "name": "stdout",
     "output_type": "stream",
     "text": [
      "initial_potential =  25768.857180453007\n",
      "final_potential =  25767.04400147644\n",
      "energy_change =  0.15060811238072347\n",
      "p accept =  0.860184728361344\n",
      "current step size = 1.7564077254274616e-05\n",
      "current acceptance ratio = 0.6938775510204082\n",
      "currently working on step 197\n"
     ]
    },
    {
     "name": "stderr",
     "output_type": "stream",
     "text": [
      "100%|██████████| 101/101 [00:08<00:00, 11.61it/s]\n",
      "  0%|          | 0/97 [00:00<?, ?it/s]"
     ]
    },
    {
     "name": "stdout",
     "output_type": "stream",
     "text": [
      "initial_potential =  25767.04400147644\n",
      "final_potential =  25777.271250334394\n",
      "energy_change =  -0.3222333131561754\n",
      "p accept =  1.3802067587894382\n",
      "current step size = 1.7564077254274616e-05\n",
      "current acceptance ratio = 0.6954314720812182\n",
      "currently working on step 198\n"
     ]
    },
    {
     "name": "stderr",
     "output_type": "stream",
     "text": [
      "100%|██████████| 97/97 [00:09<00:00, 10.31it/s]\n",
      "  0%|          | 0/100 [00:00<?, ?it/s]"
     ]
    },
    {
     "name": "stdout",
     "output_type": "stream",
     "text": [
      "initial_potential =  25777.271250334394\n",
      "final_potential =  25730.83529318497\n",
      "energy_change =  0.4044084106135415\n",
      "p accept =  0.667371503997417\n",
      "current step size = 1.7564077254274616e-05\n",
      "current acceptance ratio = 0.6919191919191919\n",
      "currently working on step 199\n"
     ]
    },
    {
     "name": "stderr",
     "output_type": "stream",
     "text": [
      "100%|██████████| 100/100 [00:08<00:00, 11.11it/s]\n",
      "  0%|          | 0/98 [00:00<?, ?it/s]"
     ]
    },
    {
     "name": "stdout",
     "output_type": "stream",
     "text": [
      "initial_potential =  25777.271250334394\n",
      "final_potential =  25800.14630395021\n",
      "energy_change =  0.11677982020773925\n",
      "p accept =  0.8897810834111859\n",
      "current step size = 1.7564077254274616e-05\n",
      "current acceptance ratio = 0.6934673366834171\n",
      "currently working on step 200\n"
     ]
    },
    {
     "name": "stderr",
     "output_type": "stream",
     "text": [
      "100%|██████████| 98/98 [00:09<00:00, 10.81it/s]\n",
      "  0%|          | 0/100 [00:00<?, ?it/s]"
     ]
    },
    {
     "name": "stdout",
     "output_type": "stream",
     "text": [
      "initial_potential =  25800.14630395021\n",
      "final_potential =  25846.97718436351\n",
      "energy_change =  0.08220506977522746\n",
      "p accept =  0.9210830530329385\n",
      "current step size = 1.7564077254274616e-05\n",
      "current acceptance ratio = 0.695\n",
      "currently working on step 201\n"
     ]
    },
    {
     "name": "stderr",
     "output_type": "stream",
     "text": [
      "100%|██████████| 100/100 [00:09<00:00, 10.27it/s]\n",
      "  0%|          | 0/98 [00:00<?, ?it/s]"
     ]
    },
    {
     "name": "stdout",
     "output_type": "stream",
     "text": [
      "initial_potential =  25846.97718436351\n",
      "final_potential =  25877.12334517169\n",
      "energy_change =  -0.12583222596731503\n",
      "p accept =  1.1340918811525154\n",
      "current step size = 1.7564077254274616e-05\n",
      "current acceptance ratio = 0.6965174129353234\n",
      "currently working on step 202\n"
     ]
    },
    {
     "name": "stderr",
     "output_type": "stream",
     "text": [
      "100%|██████████| 98/98 [00:09<00:00, 10.81it/s]\n",
      "  0%|          | 0/97 [00:00<?, ?it/s]"
     ]
    },
    {
     "name": "stdout",
     "output_type": "stream",
     "text": [
      "initial_potential =  25877.12334517169\n",
      "final_potential =  25910.554750310417\n",
      "energy_change =  3.1370769566419767\n",
      "p accept =  0.043409500485248005\n",
      "current step size = 1.7564077254274616e-05\n",
      "current acceptance ratio = 0.693069306930693\n",
      "currently working on step 203\n"
     ]
    },
    {
     "name": "stderr",
     "output_type": "stream",
     "text": [
      "100%|██████████| 97/97 [00:08<00:00, 10.92it/s]\n",
      "  0%|          | 0/101 [00:00<?, ?it/s]"
     ]
    },
    {
     "name": "stdout",
     "output_type": "stream",
     "text": [
      "initial_potential =  25877.12334517169\n",
      "final_potential =  25865.363006686443\n",
      "energy_change =  0.7336488561122678\n",
      "p accept =  0.48015377773225504\n",
      "current step size = 1.7564077254274616e-05\n",
      "current acceptance ratio = 0.6896551724137931\n",
      "currently working on step 204\n"
     ]
    },
    {
     "name": "stderr",
     "output_type": "stream",
     "text": [
      "100%|██████████| 101/101 [00:08<00:00, 11.51it/s]\n",
      "  0%|          | 0/100 [00:00<?, ?it/s]"
     ]
    },
    {
     "name": "stdout",
     "output_type": "stream",
     "text": [
      "initial_potential =  25877.12334517169\n",
      "final_potential =  25917.798759331414\n",
      "energy_change =  -0.002886937858420424\n",
      "p accept =  1.0028911090765695\n",
      "current step size = 1.7564077254274616e-05\n",
      "current acceptance ratio = 0.6911764705882353\n",
      "currently working on step 205\n"
     ]
    },
    {
     "name": "stderr",
     "output_type": "stream",
     "text": [
      "100%|██████████| 100/100 [00:09<00:00, 11.05it/s]\n",
      "  0%|          | 0/101 [00:00<?, ?it/s]"
     ]
    },
    {
     "name": "stdout",
     "output_type": "stream",
     "text": [
      "initial_potential =  25917.798759331414\n",
      "final_potential =  25965.547758162626\n",
      "energy_change =  0.6072642297658604\n",
      "p accept =  0.5448393874024815\n",
      "current step size = 1.7564077254274616e-05\n",
      "current acceptance ratio = 0.6878048780487804\n",
      "currently working on step 206\n"
     ]
    },
    {
     "name": "stderr",
     "output_type": "stream",
     "text": [
      "100%|██████████| 101/101 [00:09<00:00, 10.73it/s]\n",
      "  0%|          | 0/97 [00:00<?, ?it/s]"
     ]
    },
    {
     "name": "stdout",
     "output_type": "stream",
     "text": [
      "initial_potential =  25917.798759331414\n",
      "final_potential =  25927.575508024136\n",
      "energy_change =  0.2866494456975488\n",
      "p accept =  0.7507748700726032\n",
      "current step size = 1.7564077254274616e-05\n",
      "current acceptance ratio = 0.6893203883495146\n",
      "currently working on step 207\n"
     ]
    },
    {
     "name": "stderr",
     "output_type": "stream",
     "text": [
      "100%|██████████| 97/97 [00:08<00:00, 11.26it/s]\n",
      "  0%|          | 0/101 [00:00<?, ?it/s]"
     ]
    },
    {
     "name": "stdout",
     "output_type": "stream",
     "text": [
      "initial_potential =  25927.575508024136\n",
      "final_potential =  26033.99437864975\n",
      "energy_change =  -0.17296751629328355\n",
      "p accept =  1.1888274869333832\n",
      "current step size = 1.7564077254274616e-05\n",
      "current acceptance ratio = 0.6908212560386473\n",
      "currently working on step 208\n"
     ]
    },
    {
     "name": "stderr",
     "output_type": "stream",
     "text": [
      "100%|██████████| 101/101 [00:10<00:00,  9.89it/s]\n",
      "  0%|          | 0/101 [00:00<?, ?it/s]"
     ]
    },
    {
     "name": "stdout",
     "output_type": "stream",
     "text": [
      "initial_potential =  26033.99437864975\n",
      "final_potential =  26076.723228010538\n",
      "energy_change =  0.8598211140633794\n",
      "p accept =  0.42323778683422136\n",
      "current step size = 1.7564077254274616e-05\n",
      "current acceptance ratio = 0.6923076923076923\n",
      "currently working on step 209\n"
     ]
    },
    {
     "name": "stderr",
     "output_type": "stream",
     "text": [
      "100%|██████████| 101/101 [00:10<00:00,  9.37it/s]\n",
      "  0%|          | 0/101 [00:00<?, ?it/s]"
     ]
    },
    {
     "name": "stdout",
     "output_type": "stream",
     "text": [
      "initial_potential =  26076.723228010538\n",
      "final_potential =  26064.934673801465\n",
      "energy_change =  -0.8001675271079876\n",
      "p accept =  2.2259137981599424\n",
      "current step size = 1.7564077254274616e-05\n",
      "current acceptance ratio = 0.69377990430622\n",
      "currently working on step 210\n"
     ]
    },
    {
     "name": "stderr",
     "output_type": "stream",
     "text": [
      "100%|██████████| 101/101 [00:10<00:00,  9.87it/s]\n",
      "  1%|          | 1/99 [00:00<00:10,  9.78it/s]"
     ]
    },
    {
     "name": "stdout",
     "output_type": "stream",
     "text": [
      "initial_potential =  26064.934673801465\n",
      "final_potential =  26001.678693769572\n",
      "energy_change =  0.04941495407547336\n",
      "p accept =  0.9517861002233612\n",
      "current step size = 1.7564077254274616e-05\n",
      "current acceptance ratio = 0.6952380952380952\n",
      "currently working on step 211\n"
     ]
    },
    {
     "name": "stderr",
     "output_type": "stream",
     "text": [
      "100%|██████████| 99/99 [00:09<00:00, 10.44it/s]\n",
      "  0%|          | 0/100 [00:00<?, ?it/s]"
     ]
    },
    {
     "name": "stdout",
     "output_type": "stream",
     "text": [
      "initial_potential =  26001.678693769572\n",
      "final_potential =  25972.674642699418\n",
      "energy_change =  0.3513564543100074\n",
      "p accept =  0.7037328605310439\n",
      "current step size = 1.7564077254274616e-05\n",
      "current acceptance ratio = 0.6966824644549763\n",
      "currently working on step 212\n"
     ]
    },
    {
     "name": "stderr",
     "output_type": "stream",
     "text": [
      "100%|██████████| 100/100 [00:10<00:00,  9.90it/s]\n",
      "  0%|          | 0/100 [00:00<?, ?it/s]"
     ]
    },
    {
     "name": "stdout",
     "output_type": "stream",
     "text": [
      "initial_potential =  25972.674642699418\n",
      "final_potential =  26045.657818250344\n",
      "energy_change =  0.13949472225795034\n",
      "p accept =  0.8697976137597255\n",
      "current step size = 1.7564077254274616e-05\n",
      "current acceptance ratio = 0.6981132075471698\n",
      "currently working on step 213\n"
     ]
    },
    {
     "name": "stderr",
     "output_type": "stream",
     "text": [
      "100%|██████████| 100/100 [00:08<00:00, 11.39it/s]\n",
      "  0%|          | 0/99 [00:00<?, ?it/s]"
     ]
    },
    {
     "name": "stdout",
     "output_type": "stream",
     "text": [
      "initial_potential =  26045.657818250344\n",
      "final_potential =  26048.824362273906\n",
      "energy_change =  0.08007508808805142\n",
      "p accept =  0.9230470339474385\n",
      "current step size = 1.7564077254274616e-05\n",
      "current acceptance ratio = 0.6948356807511737\n",
      "currently working on step 214\n"
     ]
    },
    {
     "name": "stderr",
     "output_type": "stream",
     "text": [
      "100%|██████████| 99/99 [00:10<00:00,  9.62it/s]\n",
      "  0%|          | 0/98 [00:00<?, ?it/s]"
     ]
    },
    {
     "name": "stdout",
     "output_type": "stream",
     "text": [
      "initial_potential =  26045.657818250344\n",
      "final_potential =  26039.486015004913\n",
      "energy_change =  2.780544258785085\n",
      "p accept =  0.062004751561487555\n",
      "current step size = 1.7564077254274616e-05\n",
      "current acceptance ratio = 0.6915887850467289\n",
      "currently working on step 215\n"
     ]
    },
    {
     "name": "stderr",
     "output_type": "stream",
     "text": [
      "100%|██████████| 98/98 [00:09<00:00, 10.18it/s]\n",
      "  0%|          | 0/97 [00:00<?, ?it/s]"
     ]
    },
    {
     "name": "stdout",
     "output_type": "stream",
     "text": [
      "initial_potential =  26045.657818250344\n",
      "final_potential =  26022.848147439458\n",
      "energy_change =  -0.7746980119700311\n",
      "p accept =  2.1699367333086217\n",
      "current step size = 1.7564077254274616e-05\n",
      "current acceptance ratio = 0.6930232558139535\n",
      "currently working on step 216\n"
     ]
    },
    {
     "name": "stderr",
     "output_type": "stream",
     "text": [
      "100%|██████████| 97/97 [00:09<00:00, 10.39it/s]\n",
      "  0%|          | 0/101 [00:00<?, ?it/s]"
     ]
    },
    {
     "name": "stdout",
     "output_type": "stream",
     "text": [
      "initial_potential =  26022.848147439458\n",
      "final_potential =  25995.990190314085\n",
      "energy_change =  -0.13897876390547026\n",
      "p accept =  1.1490996973547003\n",
      "current step size = 1.7564077254274616e-05\n",
      "current acceptance ratio = 0.6944444444444444\n",
      "currently working on step 217\n"
     ]
    },
    {
     "name": "stderr",
     "output_type": "stream",
     "text": [
      "100%|██████████| 101/101 [00:09<00:00, 10.31it/s]\n",
      "  0%|          | 0/98 [00:00<?, ?it/s]"
     ]
    },
    {
     "name": "stdout",
     "output_type": "stream",
     "text": [
      "initial_potential =  25995.990190314085\n",
      "final_potential =  26035.222692994314\n",
      "energy_change =  1.1115749544696882\n",
      "p accept =  0.3290403292343905\n",
      "current step size = 1.7564077254274616e-05\n",
      "current acceptance ratio = 0.6912442396313364\n",
      "currently working on step 218\n"
     ]
    },
    {
     "name": "stderr",
     "output_type": "stream",
     "text": [
      "100%|██████████| 98/98 [00:09<00:00, 10.45it/s]\n",
      "  0%|          | 0/99 [00:00<?, ?it/s]"
     ]
    },
    {
     "name": "stdout",
     "output_type": "stream",
     "text": [
      "initial_potential =  25995.990190314085\n",
      "final_potential =  26018.633736444095\n",
      "energy_change =  0.4574102092301473\n",
      "p accept =  0.632920656908773\n",
      "current step size = 1.7564077254274616e-05\n",
      "current acceptance ratio = 0.6880733944954128\n",
      "currently working on step 219\n"
     ]
    },
    {
     "name": "stderr",
     "output_type": "stream",
     "text": [
      "100%|██████████| 99/99 [00:09<00:00, 10.39it/s]\n",
      "  0%|          | 0/99 [00:00<?, ?it/s]"
     ]
    },
    {
     "name": "stdout",
     "output_type": "stream",
     "text": [
      "initial_potential =  25995.990190314085\n",
      "final_potential =  26099.69348161527\n",
      "energy_change =  3.5349928740033647\n",
      "p accept =  0.02915896477534173\n",
      "current step size = 1.7564077254274616e-05\n",
      "current acceptance ratio = 0.684931506849315\n",
      "currently working on step 220\n"
     ]
    },
    {
     "name": "stderr",
     "output_type": "stream",
     "text": [
      "100%|██████████| 99/99 [00:09<00:00, 10.50it/s]\n",
      "  0%|          | 0/100 [00:00<?, ?it/s]"
     ]
    },
    {
     "name": "stdout",
     "output_type": "stream",
     "text": [
      "initial_potential =  25995.990190314085\n",
      "final_potential =  25987.48632933104\n",
      "energy_change =  0.043202861401368864\n",
      "p accept =  0.9577170865290648\n",
      "current step size = 1.7564077254274616e-05\n",
      "current acceptance ratio = 0.6863636363636364\n",
      "currently working on step 221\n"
     ]
    },
    {
     "name": "stderr",
     "output_type": "stream",
     "text": [
      "100%|██████████| 100/100 [00:08<00:00, 11.40it/s]\n",
      "  0%|          | 0/99 [00:00<?, ?it/s]"
     ]
    },
    {
     "name": "stdout",
     "output_type": "stream",
     "text": [
      "initial_potential =  25987.48632933104\n",
      "final_potential =  25977.295855846554\n",
      "energy_change =  3.4958320199802984\n",
      "p accept =  0.030323508173203687\n",
      "current step size = 1.7564077254274616e-05\n",
      "current acceptance ratio = 0.6832579185520362\n",
      "currently working on step 222\n"
     ]
    },
    {
     "name": "stderr",
     "output_type": "stream",
     "text": [
      "100%|██████████| 99/99 [00:09<00:00, 10.12it/s]\n",
      "  0%|          | 0/98 [00:00<?, ?it/s]"
     ]
    },
    {
     "name": "stdout",
     "output_type": "stream",
     "text": [
      "initial_potential =  25987.48632933104\n",
      "final_potential =  25938.74273812244\n",
      "energy_change =  3.961221974386717\n",
      "p accept =  0.019039833881145773\n",
      "current step size = 1.7564077254274616e-05\n",
      "current acceptance ratio = 0.6801801801801802\n",
      "currently working on step 223\n"
     ]
    },
    {
     "name": "stderr",
     "output_type": "stream",
     "text": [
      "100%|██████████| 98/98 [00:09<00:00, 10.34it/s]\n",
      "  0%|          | 0/98 [00:00<?, ?it/s]"
     ]
    },
    {
     "name": "stdout",
     "output_type": "stream",
     "text": [
      "initial_potential =  25987.48632933104\n",
      "final_potential =  26049.657335761935\n",
      "energy_change =  1.589680657722056\n",
      "p accept =  0.2039907442028177\n",
      "current step size = 1.7564077254274616e-05\n",
      "current acceptance ratio = 0.6771300448430493\n",
      "currently working on step 224\n"
     ]
    },
    {
     "name": "stderr",
     "output_type": "stream",
     "text": [
      "100%|██████████| 98/98 [00:09<00:00, 10.68it/s]\n",
      "  0%|          | 0/101 [00:00<?, ?it/s]"
     ]
    },
    {
     "name": "stdout",
     "output_type": "stream",
     "text": [
      "initial_potential =  25987.48632933104\n",
      "final_potential =  25989.061979732098\n",
      "energy_change =  0.3503660839778604\n",
      "p accept =  0.7044301619141773\n",
      "current step size = 1.7564077254274616e-05\n",
      "current acceptance ratio = 0.6741071428571429\n",
      "currently working on step 225\n"
     ]
    },
    {
     "name": "stderr",
     "output_type": "stream",
     "text": [
      "100%|██████████| 101/101 [00:09<00:00, 10.76it/s]\n",
      "  0%|          | 0/98 [00:00<?, ?it/s]"
     ]
    },
    {
     "name": "stdout",
     "output_type": "stream",
     "text": [
      "initial_potential =  25987.48632933104\n",
      "final_potential =  25955.2108272268\n",
      "energy_change =  0.31776581140002236\n",
      "p accept =  0.7277732046469447\n",
      "current step size = 1.7564077254274616e-05\n",
      "current acceptance ratio = 0.6755555555555556\n",
      "currently working on step 226\n"
     ]
    },
    {
     "name": "stderr",
     "output_type": "stream",
     "text": [
      "100%|██████████| 98/98 [00:08<00:00, 11.15it/s]\n",
      "  0%|          | 0/98 [00:00<?, ?it/s]"
     ]
    },
    {
     "name": "stdout",
     "output_type": "stream",
     "text": [
      "initial_potential =  25955.2108272268\n",
      "final_potential =  26016.903005591652\n",
      "energy_change =  4.040438252210151\n",
      "p accept =  0.01758976197412659\n",
      "current step size = 1.7564077254274616e-05\n",
      "current acceptance ratio = 0.672566371681416\n",
      "currently working on step 227\n"
     ]
    },
    {
     "name": "stderr",
     "output_type": "stream",
     "text": [
      "100%|██████████| 98/98 [00:08<00:00, 11.34it/s]\n",
      "  0%|          | 0/101 [00:00<?, ?it/s]"
     ]
    },
    {
     "name": "stdout",
     "output_type": "stream",
     "text": [
      "initial_potential =  25955.2108272268\n",
      "final_potential =  25956.809258102403\n",
      "energy_change =  -0.21833358638104983\n",
      "p accept =  1.24400198052927\n",
      "current step size = 1.7564077254274616e-05\n",
      "current acceptance ratio = 0.6740088105726872\n",
      "currently working on step 228\n"
     ]
    },
    {
     "name": "stderr",
     "output_type": "stream",
     "text": [
      "100%|██████████| 101/101 [00:09<00:00, 10.85it/s]\n",
      "  0%|          | 0/98 [00:00<?, ?it/s]"
     ]
    },
    {
     "name": "stdout",
     "output_type": "stream",
     "text": [
      "initial_potential =  25956.809258102403\n",
      "final_potential =  25970.00992574347\n",
      "energy_change =  1.0820986254548188\n",
      "p accept =  0.3388835891358125\n",
      "current step size = 1.7564077254274616e-05\n",
      "current acceptance ratio = 0.6710526315789473\n",
      "currently working on step 229\n"
     ]
    },
    {
     "name": "stderr",
     "output_type": "stream",
     "text": [
      "100%|██████████| 98/98 [00:08<00:00, 11.27it/s]\n",
      "  0%|          | 0/98 [00:00<?, ?it/s]"
     ]
    },
    {
     "name": "stdout",
     "output_type": "stream",
     "text": [
      "initial_potential =  25956.809258102403\n",
      "final_potential =  25962.613492729954\n",
      "energy_change =  0.39361193325021304\n",
      "p accept =  0.6746158014112691\n",
      "current step size = 1.7564077254274616e-05\n",
      "current acceptance ratio = 0.6724890829694323\n",
      "currently working on step 230\n"
     ]
    },
    {
     "name": "stderr",
     "output_type": "stream",
     "text": [
      "100%|██████████| 98/98 [00:08<00:00, 11.21it/s]\n",
      "  0%|          | 0/99 [00:00<?, ?it/s]"
     ]
    },
    {
     "name": "stdout",
     "output_type": "stream",
     "text": [
      "initial_potential =  25962.613492729954\n",
      "final_potential =  25949.345635099475\n",
      "energy_change =  -0.029479776640073396\n",
      "p accept =  1.0299186068465986\n",
      "current step size = 1.7564077254274616e-05\n",
      "current acceptance ratio = 0.6739130434782609\n",
      "currently working on step 231\n"
     ]
    },
    {
     "name": "stderr",
     "output_type": "stream",
     "text": [
      "100%|██████████| 99/99 [00:09<00:00, 10.86it/s]\n",
      "  0%|          | 0/100 [00:00<?, ?it/s]"
     ]
    },
    {
     "name": "stdout",
     "output_type": "stream",
     "text": [
      "initial_potential =  25949.345635099475\n",
      "final_potential =  25961.45659784149\n",
      "energy_change =  3.049096901580924\n",
      "p accept =  0.04740171347935847\n",
      "current step size = 1.7564077254274616e-05\n",
      "current acceptance ratio = 0.670995670995671\n",
      "currently working on step 232\n"
     ]
    },
    {
     "name": "stderr",
     "output_type": "stream",
     "text": [
      "100%|██████████| 100/100 [00:10<00:00,  9.82it/s]\n",
      "  0%|          | 0/98 [00:00<?, ?it/s]"
     ]
    },
    {
     "name": "stdout",
     "output_type": "stream",
     "text": [
      "initial_potential =  25949.345635099475\n",
      "final_potential =  25995.75373983041\n",
      "energy_change =  0.05634881342120934\n",
      "p accept =  0.9452093766650843\n",
      "current step size = 1.7564077254274616e-05\n",
      "current acceptance ratio = 0.6724137931034483\n",
      "currently working on step 233\n"
     ]
    },
    {
     "name": "stderr",
     "output_type": "stream",
     "text": [
      "100%|██████████| 98/98 [00:09<00:00, 10.50it/s]\n",
      "  0%|          | 0/97 [00:00<?, ?it/s]"
     ]
    },
    {
     "name": "stdout",
     "output_type": "stream",
     "text": [
      "initial_potential =  25995.75373983041\n",
      "final_potential =  26025.816670551467\n",
      "energy_change =  -0.1841224176605465\n",
      "p accept =  1.202162980068427\n",
      "current step size = 1.7564077254274616e-05\n",
      "current acceptance ratio = 0.6738197424892703\n",
      "currently working on step 234\n"
     ]
    },
    {
     "name": "stderr",
     "output_type": "stream",
     "text": [
      "100%|██████████| 97/97 [00:08<00:00, 10.97it/s]\n",
      "  0%|          | 0/101 [00:00<?, ?it/s]"
     ]
    },
    {
     "name": "stdout",
     "output_type": "stream",
     "text": [
      "initial_potential =  26025.816670551467\n",
      "final_potential =  26032.21161830912\n",
      "energy_change =  3.674505700590089\n",
      "p accept =  0.025361938816261028\n",
      "current step size = 1.7564077254274616e-05\n",
      "current acceptance ratio = 0.6709401709401709\n",
      "currently working on step 235\n"
     ]
    },
    {
     "name": "stderr",
     "output_type": "stream",
     "text": [
      "100%|██████████| 101/101 [00:09<00:00, 11.10it/s]\n",
      "  1%|          | 1/99 [00:00<00:09,  9.86it/s]"
     ]
    },
    {
     "name": "stdout",
     "output_type": "stream",
     "text": [
      "initial_potential =  26025.816670551467\n",
      "final_potential =  26051.444870151612\n",
      "energy_change =  1.6109891305823112\n",
      "p accept =  0.19968999687375835\n",
      "current step size = 1.7564077254274616e-05\n",
      "current acceptance ratio = 0.6680851063829787\n",
      "currently working on step 236\n"
     ]
    },
    {
     "name": "stderr",
     "output_type": "stream",
     "text": [
      "100%|██████████| 99/99 [00:09<00:00, 10.99it/s]\n",
      "  0%|          | 0/100 [00:00<?, ?it/s]"
     ]
    },
    {
     "name": "stdout",
     "output_type": "stream",
     "text": [
      "initial_potential =  26025.816670551467\n",
      "final_potential =  26108.18890210915\n",
      "energy_change =  -0.05921091345953755\n",
      "p accept =  1.0609989961116555\n",
      "current step size = 1.7564077254274616e-05\n",
      "current acceptance ratio = 0.6694915254237288\n",
      "currently working on step 237\n"
     ]
    },
    {
     "name": "stderr",
     "output_type": "stream",
     "text": [
      "100%|██████████| 100/100 [00:08<00:00, 11.40it/s]\n",
      "  0%|          | 0/99 [00:00<?, ?it/s]"
     ]
    },
    {
     "name": "stdout",
     "output_type": "stream",
     "text": [
      "initial_potential =  26108.18890210915\n",
      "final_potential =  26146.713662370075\n",
      "energy_change =  0.6489982656494249\n",
      "p accept =  0.5225689899647372\n",
      "current step size = 1.7564077254274616e-05\n",
      "current acceptance ratio = 0.6708860759493671\n",
      "currently working on step 238\n"
     ]
    },
    {
     "name": "stderr",
     "output_type": "stream",
     "text": [
      "100%|██████████| 99/99 [00:09<00:00, 10.37it/s]\n",
      "  0%|          | 0/100 [00:00<?, ?it/s]"
     ]
    },
    {
     "name": "stdout",
     "output_type": "stream",
     "text": [
      "initial_potential =  26146.713662370075\n",
      "final_potential =  26154.333798358377\n",
      "energy_change =  -0.34465891266881954\n",
      "p accept =  1.4115083899208225\n",
      "current step size = 1.7564077254274616e-05\n",
      "current acceptance ratio = 0.6722689075630253\n",
      "currently working on step 239\n"
     ]
    },
    {
     "name": "stderr",
     "output_type": "stream",
     "text": [
      "100%|██████████| 100/100 [00:08<00:00, 11.44it/s]\n",
      "  0%|          | 0/97 [00:00<?, ?it/s]"
     ]
    },
    {
     "name": "stdout",
     "output_type": "stream",
     "text": [
      "initial_potential =  26154.333798358377\n",
      "final_potential =  26142.661899154515\n",
      "energy_change =  -0.5259585285239154\n",
      "p accept =  1.6920799782292477\n",
      "current step size = 1.7564077254274616e-05\n",
      "current acceptance ratio = 0.6736401673640168\n",
      "currently working on step 240\n"
     ]
    },
    {
     "name": "stderr",
     "output_type": "stream",
     "text": [
      "100%|██████████| 97/97 [00:08<00:00, 11.85it/s]\n",
      "  0%|          | 0/97 [00:00<?, ?it/s]"
     ]
    },
    {
     "name": "stdout",
     "output_type": "stream",
     "text": [
      "initial_potential =  26142.661899154515\n",
      "final_potential =  26163.868359619693\n",
      "energy_change =  0.12628759841027204\n",
      "p accept =  0.8813613322119502\n",
      "current step size = 1.7564077254274616e-05\n",
      "current acceptance ratio = 0.6708333333333333\n",
      "currently working on step 241\n"
     ]
    },
    {
     "name": "stderr",
     "output_type": "stream",
     "text": [
      "100%|██████████| 97/97 [00:08<00:00, 11.76it/s]\n",
      "  0%|          | 0/99 [00:00<?, ?it/s]"
     ]
    },
    {
     "name": "stdout",
     "output_type": "stream",
     "text": [
      "initial_potential =  26142.661899154515\n",
      "final_potential =  26147.3077455097\n",
      "energy_change =  1.1997070489742327\n",
      "p accept =  0.30128245999108844\n",
      "current step size = 1.7564077254274616e-05\n",
      "current acceptance ratio = 0.6680497925311203\n",
      "currently working on step 242\n"
     ]
    },
    {
     "name": "stderr",
     "output_type": "stream",
     "text": [
      "100%|██████████| 99/99 [00:08<00:00, 11.27it/s]\n",
      "  0%|          | 0/100 [00:00<?, ?it/s]"
     ]
    },
    {
     "name": "stdout",
     "output_type": "stream",
     "text": [
      "initial_potential =  26142.661899154515\n",
      "final_potential =  26181.52181702046\n",
      "energy_change =  0.7721551331924275\n",
      "p accept =  0.46201628796219446\n",
      "current step size = 1.7564077254274616e-05\n",
      "current acceptance ratio = 0.6652892561983471\n",
      "currently working on step 243\n"
     ]
    },
    {
     "name": "stderr",
     "output_type": "stream",
     "text": [
      "100%|██████████| 100/100 [00:08<00:00, 11.73it/s]\n",
      "  0%|          | 0/101 [00:00<?, ?it/s]"
     ]
    },
    {
     "name": "stdout",
     "output_type": "stream",
     "text": [
      "initial_potential =  26142.661899154515\n",
      "final_potential =  26150.28719675765\n",
      "energy_change =  3.247419789346168\n",
      "p accept =  0.038874382636336344\n",
      "current step size = 1.7564077254274616e-05\n",
      "current acceptance ratio = 0.6625514403292181\n",
      "currently working on step 244\n"
     ]
    },
    {
     "name": "stderr",
     "output_type": "stream",
     "text": [
      "100%|██████████| 101/101 [00:08<00:00, 11.61it/s]\n",
      "  0%|          | 0/97 [00:00<?, ?it/s]"
     ]
    },
    {
     "name": "stdout",
     "output_type": "stream",
     "text": [
      "initial_potential =  26142.661899154515\n",
      "final_potential =  26171.98001218424\n",
      "energy_change =  1.0358922133455053\n",
      "p accept =  0.35490958455320537\n",
      "current step size = 1.7564077254274616e-05\n",
      "current acceptance ratio = 0.6598360655737705\n",
      "currently working on step 245\n"
     ]
    },
    {
     "name": "stderr",
     "output_type": "stream",
     "text": [
      "100%|██████████| 97/97 [00:10<00:00,  9.23it/s]\n",
      "  0%|          | 0/100 [00:00<?, ?it/s]"
     ]
    },
    {
     "name": "stdout",
     "output_type": "stream",
     "text": [
      "initial_potential =  26142.661899154515\n",
      "final_potential =  26209.164287207794\n",
      "energy_change =  0.1497903867129935\n",
      "p accept =  0.8608884111632477\n",
      "current step size = 1.7564077254274616e-05\n",
      "current acceptance ratio = 0.6612244897959184\n",
      "currently working on step 246\n"
     ]
    },
    {
     "name": "stderr",
     "output_type": "stream",
     "text": [
      "100%|██████████| 100/100 [00:09<00:00, 10.77it/s]\n",
      "  0%|          | 0/97 [00:00<?, ?it/s]"
     ]
    },
    {
     "name": "stdout",
     "output_type": "stream",
     "text": [
      "initial_potential =  26209.164287207794\n",
      "final_potential =  26198.668754781494\n",
      "energy_change =  0.12699092470575124\n",
      "p accept =  0.8807416655506597\n",
      "current step size = 1.7564077254274616e-05\n",
      "current acceptance ratio = 0.6626016260162602\n",
      "currently working on step 247\n"
     ]
    },
    {
     "name": "stderr",
     "output_type": "stream",
     "text": [
      "100%|██████████| 97/97 [00:09<00:00, 10.02it/s]\n",
      "  0%|          | 0/101 [00:00<?, ?it/s]"
     ]
    },
    {
     "name": "stdout",
     "output_type": "stream",
     "text": [
      "initial_potential =  26198.668754781494\n",
      "final_potential =  26198.236315174534\n",
      "energy_change =  0.37912079982925206\n",
      "p accept =  0.6844629246676015\n",
      "current step size = 1.7564077254274616e-05\n",
      "current acceptance ratio = 0.6639676113360324\n",
      "currently working on step 248\n"
     ]
    },
    {
     "name": "stderr",
     "output_type": "stream",
     "text": [
      "100%|██████████| 101/101 [00:11<00:00,  8.58it/s]\n",
      "  0%|          | 0/97 [00:00<?, ?it/s]"
     ]
    },
    {
     "name": "stdout",
     "output_type": "stream",
     "text": [
      "initial_potential =  26198.236315174534\n",
      "final_potential =  26218.377085460488\n",
      "energy_change =  -0.35162311083695386\n",
      "p accept =  1.4213727227802708\n",
      "current step size = 1.7564077254274616e-05\n",
      "current acceptance ratio = 0.6653225806451613\n",
      "currently working on step 249\n"
     ]
    },
    {
     "name": "stderr",
     "output_type": "stream",
     "text": [
      "100%|██████████| 97/97 [00:08<00:00, 10.98it/s]\n",
      "  0%|          | 0/97 [00:00<?, ?it/s]"
     ]
    },
    {
     "name": "stdout",
     "output_type": "stream",
     "text": [
      "initial_potential =  26218.377085460488\n",
      "final_potential =  26280.044865182485\n",
      "energy_change =  -0.03845425210602116\n",
      "p accept =  1.0392031859133373\n",
      "current step size = 1.7564077254274616e-05\n",
      "current acceptance ratio = 0.6666666666666666\n",
      "currently working on step 250\n"
     ]
    },
    {
     "name": "stderr",
     "output_type": "stream",
     "text": [
      "100%|██████████| 97/97 [00:08<00:00, 10.90it/s]\n",
      "  0%|          | 0/99 [00:00<?, ?it/s]"
     ]
    },
    {
     "name": "stdout",
     "output_type": "stream",
     "text": [
      "initial_potential =  26280.044865182485\n",
      "final_potential =  26296.777145901975\n",
      "energy_change =  0.40869243221823126\n",
      "p accept =  0.6645185854016502\n",
      "current step size = 1.7564077254274616e-05\n",
      "current acceptance ratio = 0.664\n",
      "currently working on step 251\n"
     ]
    },
    {
     "name": "stderr",
     "output_type": "stream",
     "text": [
      "100%|██████████| 99/99 [00:11<00:00,  8.91it/s]\n",
      "  0%|          | 0/98 [00:00<?, ?it/s]"
     ]
    },
    {
     "name": "stdout",
     "output_type": "stream",
     "text": [
      "initial_potential =  26280.044865182485\n",
      "final_potential =  26281.205998797002\n",
      "energy_change =  0.1878697763022501\n",
      "p accept =  0.8287226195300831\n",
      "current step size = 1.7564077254274616e-05\n",
      "current acceptance ratio = 0.6653386454183267\n",
      "currently working on step 252\n"
     ]
    },
    {
     "name": "stderr",
     "output_type": "stream",
     "text": [
      "100%|██████████| 98/98 [00:09<00:00, 10.62it/s]\n",
      "  0%|          | 0/99 [00:00<?, ?it/s]"
     ]
    },
    {
     "name": "stdout",
     "output_type": "stream",
     "text": [
      "initial_potential =  26281.205998797002\n",
      "final_potential =  26286.365092896885\n",
      "energy_change =  0.8695092964189826\n",
      "p accept =  0.4191571807210516\n",
      "current step size = 1.7564077254274616e-05\n",
      "current acceptance ratio = 0.6626984126984127\n",
      "currently working on step 253\n"
     ]
    },
    {
     "name": "stderr",
     "output_type": "stream",
     "text": [
      "100%|██████████| 99/99 [00:09<00:00, 10.91it/s]\n",
      "  0%|          | 0/98 [00:00<?, ?it/s]"
     ]
    },
    {
     "name": "stdout",
     "output_type": "stream",
     "text": [
      "initial_potential =  26281.205998797002\n",
      "final_potential =  26290.957964632216\n",
      "energy_change =  0.2954098613699898\n",
      "p accept =  0.7442264952564963\n",
      "current step size = 1.7564077254274616e-05\n",
      "current acceptance ratio = 0.6640316205533597\n",
      "currently working on step 254\n"
     ]
    },
    {
     "name": "stderr",
     "output_type": "stream",
     "text": [
      "100%|██████████| 98/98 [00:09<00:00,  9.87it/s]\n",
      "  0%|          | 0/101 [00:00<?, ?it/s]"
     ]
    },
    {
     "name": "stdout",
     "output_type": "stream",
     "text": [
      "initial_potential =  26290.957964632216\n",
      "final_potential =  26332.204458209548\n",
      "energy_change =  13.04758693871554\n",
      "p accept =  2.1552864092493213e-06\n",
      "current step size = 1.7564077254274616e-05\n",
      "current acceptance ratio = 0.6614173228346457\n",
      "currently working on step 255\n"
     ]
    },
    {
     "name": "stderr",
     "output_type": "stream",
     "text": [
      "100%|██████████| 101/101 [00:08<00:00, 11.77it/s]\n",
      "  0%|          | 0/100 [00:00<?, ?it/s]"
     ]
    },
    {
     "name": "stdout",
     "output_type": "stream",
     "text": [
      "initial_potential =  26290.957964632216\n",
      "final_potential =  26327.97733352775\n",
      "energy_change =  -0.604322432220215\n",
      "p accept =  1.8300118316596483\n",
      "current step size = 1.7564077254274616e-05\n",
      "current acceptance ratio = 0.6627450980392157\n",
      "currently working on step 256\n"
     ]
    },
    {
     "name": "stderr",
     "output_type": "stream",
     "text": [
      "100%|██████████| 100/100 [00:10<00:00,  9.73it/s]\n",
      "  0%|          | 0/99 [00:00<?, ?it/s]"
     ]
    },
    {
     "name": "stdout",
     "output_type": "stream",
     "text": [
      "initial_potential =  26327.97733352775\n",
      "final_potential =  26336.242347206047\n",
      "energy_change =  3.2216330382798333\n",
      "p accept =  0.03988986336840719\n",
      "current step size = 1.7564077254274616e-05\n",
      "current acceptance ratio = 0.66015625\n",
      "currently working on step 257\n"
     ]
    },
    {
     "name": "stderr",
     "output_type": "stream",
     "text": [
      "100%|██████████| 99/99 [00:11<00:00,  8.37it/s]\n",
      "  0%|          | 0/99 [00:00<?, ?it/s]"
     ]
    },
    {
     "name": "stdout",
     "output_type": "stream",
     "text": [
      "initial_potential =  26327.97733352775\n",
      "final_potential =  26279.536070165923\n",
      "energy_change =  0.8413164835510543\n",
      "p accept =  0.43114255756705555\n",
      "current step size = 1.7564077254274616e-05\n",
      "current acceptance ratio = 0.6575875486381323\n",
      "currently working on step 258\n"
     ]
    },
    {
     "name": "stderr",
     "output_type": "stream",
     "text": [
      "100%|██████████| 99/99 [00:11<00:00,  8.44it/s]\n",
      "  0%|          | 0/100 [00:00<?, ?it/s]"
     ]
    },
    {
     "name": "stdout",
     "output_type": "stream",
     "text": [
      "initial_potential =  26327.97733352775\n",
      "final_potential =  26332.1583921612\n",
      "energy_change =  0.2632135079911677\n",
      "p accept =  0.7685777822934963\n",
      "current step size = 1.7564077254274616e-05\n",
      "current acceptance ratio = 0.6589147286821705\n",
      "currently working on step 259\n"
     ]
    },
    {
     "name": "stderr",
     "output_type": "stream",
     "text": [
      "100%|██████████| 100/100 [00:09<00:00, 10.75it/s]\n",
      "  0%|          | 0/98 [00:00<?, ?it/s]"
     ]
    },
    {
     "name": "stdout",
     "output_type": "stream",
     "text": [
      "initial_potential =  26332.1583921612\n",
      "final_potential =  26338.290807201378\n",
      "energy_change =  0.25145996701030526\n",
      "p accept =  0.777664589225104\n",
      "current step size = 1.7564077254274616e-05\n",
      "current acceptance ratio = 0.6563706563706564\n",
      "currently working on step 260\n"
     ]
    },
    {
     "name": "stderr",
     "output_type": "stream",
     "text": [
      "100%|██████████| 98/98 [00:08<00:00, 11.25it/s]\n",
      "  0%|          | 0/101 [00:00<?, ?it/s]"
     ]
    },
    {
     "name": "stdout",
     "output_type": "stream",
     "text": [
      "initial_potential =  26332.1583921612\n",
      "final_potential =  26339.698837860935\n",
      "energy_change =  -0.3170471047051251\n",
      "p accept =  1.3730672483300148\n",
      "current step size = 1.7564077254274616e-05\n",
      "current acceptance ratio = 0.6576923076923077\n",
      "currently working on step 261\n"
     ]
    },
    {
     "name": "stderr",
     "output_type": "stream",
     "text": [
      "100%|██████████| 101/101 [00:09<00:00, 10.51it/s]\n",
      "  0%|          | 0/98 [00:00<?, ?it/s]"
     ]
    },
    {
     "name": "stdout",
     "output_type": "stream",
     "text": [
      "initial_potential =  26339.698837860935\n",
      "final_potential =  26327.28554233163\n",
      "energy_change =  -0.012828080929466523\n",
      "p accept =  1.0129107137216358\n",
      "current step size = 1.7564077254274616e-05\n",
      "current acceptance ratio = 0.6590038314176245\n",
      "currently working on step 262\n"
     ]
    },
    {
     "name": "stderr",
     "output_type": "stream",
     "text": [
      "100%|██████████| 98/98 [00:08<00:00, 10.96it/s]\n",
      "  0%|          | 0/101 [00:00<?, ?it/s]"
     ]
    },
    {
     "name": "stdout",
     "output_type": "stream",
     "text": [
      "initial_potential =  26327.28554233163\n",
      "final_potential =  26324.80376722274\n",
      "energy_change =  1.8461835756897926\n",
      "p accept =  0.15783839660281307\n",
      "current step size = 1.7564077254274616e-05\n",
      "current acceptance ratio = 0.6564885496183206\n",
      "currently working on step 263\n"
     ]
    },
    {
     "name": "stderr",
     "output_type": "stream",
     "text": [
      "100%|██████████| 101/101 [00:08<00:00, 11.41it/s]\n",
      "  0%|          | 0/99 [00:00<?, ?it/s]"
     ]
    },
    {
     "name": "stdout",
     "output_type": "stream",
     "text": [
      "initial_potential =  26327.28554233163\n",
      "final_potential =  26296.165496502603\n",
      "energy_change =  -0.08284518096479587\n",
      "p accept =  1.0863736042146819\n",
      "current step size = 1.7564077254274616e-05\n",
      "current acceptance ratio = 0.6577946768060836\n",
      "currently working on step 264\n"
     ]
    },
    {
     "name": "stderr",
     "output_type": "stream",
     "text": [
      "100%|██████████| 99/99 [00:09<00:00, 10.69it/s]\n",
      "  0%|          | 0/97 [00:00<?, ?it/s]"
     ]
    },
    {
     "name": "stdout",
     "output_type": "stream",
     "text": [
      "initial_potential =  26296.165496502603\n",
      "final_potential =  26318.884207803363\n",
      "energy_change =  0.7104184923809953\n",
      "p accept =  0.49143849115642996\n",
      "current step size = 1.7564077254274616e-05\n",
      "current acceptance ratio = 0.6553030303030303\n",
      "currently working on step 265\n"
     ]
    },
    {
     "name": "stderr",
     "output_type": "stream",
     "text": [
      "100%|██████████| 97/97 [00:08<00:00, 11.71it/s]\n",
      "  0%|          | 0/98 [00:00<?, ?it/s]"
     ]
    },
    {
     "name": "stdout",
     "output_type": "stream",
     "text": [
      "initial_potential =  26296.165496502603\n",
      "final_potential =  26282.24637959448\n",
      "energy_change =  0.9560550092865014\n",
      "p accept =  0.3844063782481628\n",
      "current step size = 1.7564077254274616e-05\n",
      "current acceptance ratio = 0.6566037735849056\n",
      "currently working on step 266\n"
     ]
    },
    {
     "name": "stderr",
     "output_type": "stream",
     "text": [
      "100%|██████████| 98/98 [00:08<00:00, 11.19it/s]\n",
      "  0%|          | 0/99 [00:00<?, ?it/s]"
     ]
    },
    {
     "name": "stdout",
     "output_type": "stream",
     "text": [
      "initial_potential =  26282.24637959448\n",
      "final_potential =  26323.778804374422\n",
      "energy_change =  1.3495022341230651\n",
      "p accept =  0.25936933372299037\n",
      "current step size = 1.7564077254274616e-05\n",
      "current acceptance ratio = 0.6541353383458647\n",
      "currently working on step 267\n"
     ]
    },
    {
     "name": "stderr",
     "output_type": "stream",
     "text": [
      "100%|██████████| 99/99 [00:09<00:00, 10.01it/s]\n",
      "  0%|          | 0/99 [00:00<?, ?it/s]"
     ]
    },
    {
     "name": "stdout",
     "output_type": "stream",
     "text": [
      "initial_potential =  26282.24637959448\n",
      "final_potential =  26214.253783288437\n",
      "energy_change =  -0.7481285003595985\n",
      "p accept =  2.113041756938953\n",
      "current step size = 1.7564077254274616e-05\n",
      "current acceptance ratio = 0.6554307116104869\n",
      "currently working on step 268\n"
     ]
    },
    {
     "name": "stderr",
     "output_type": "stream",
     "text": [
      "100%|██████████| 99/99 [00:09<00:00, 10.25it/s]\n",
      "  0%|          | 0/97 [00:00<?, ?it/s]"
     ]
    },
    {
     "name": "stdout",
     "output_type": "stream",
     "text": [
      "initial_potential =  26214.253783288437\n",
      "final_potential =  26284.076449152177\n",
      "energy_change =  0.20165242299844977\n",
      "p accept =  0.8173789807095175\n",
      "current step size = 1.7564077254274616e-05\n",
      "current acceptance ratio = 0.6529850746268657\n",
      "currently working on step 269\n"
     ]
    },
    {
     "name": "stderr",
     "output_type": "stream",
     "text": [
      "100%|██████████| 97/97 [00:08<00:00, 11.01it/s]\n",
      "  0%|          | 0/98 [00:00<?, ?it/s]"
     ]
    },
    {
     "name": "stdout",
     "output_type": "stream",
     "text": [
      "initial_potential =  26214.253783288437\n",
      "final_potential =  26262.550918275498\n",
      "energy_change =  0.1967189619608689\n",
      "p accept =  0.8214214515508302\n",
      "current step size = 1.7564077254274616e-05\n",
      "current acceptance ratio = 0.6505576208178439\n",
      "currently working on step 270\n"
     ]
    },
    {
     "name": "stderr",
     "output_type": "stream",
     "text": [
      "100%|██████████| 98/98 [00:09<00:00, 10.75it/s]\n",
      "  0%|          | 0/97 [00:00<?, ?it/s]"
     ]
    },
    {
     "name": "stdout",
     "output_type": "stream",
     "text": [
      "initial_potential =  26214.253783288437\n",
      "final_potential =  26184.360578971522\n",
      "energy_change =  0.6314182990172412\n",
      "p accept =  0.5318369619991842\n",
      "current step size = 1.7564077254274616e-05\n",
      "current acceptance ratio = 0.6481481481481481\n",
      "currently working on step 271\n"
     ]
    },
    {
     "name": "stderr",
     "output_type": "stream",
     "text": [
      "100%|██████████| 97/97 [00:08<00:00, 11.18it/s]\n",
      "  0%|          | 0/98 [00:00<?, ?it/s]"
     ]
    },
    {
     "name": "stdout",
     "output_type": "stream",
     "text": [
      "initial_potential =  26214.253783288437\n",
      "final_potential =  26253.45720300125\n",
      "energy_change =  1.022198876424227\n",
      "p accept =  0.3598029075704717\n",
      "current step size = 1.7564077254274616e-05\n",
      "current acceptance ratio = 0.6457564575645757\n",
      "currently working on step 272\n"
     ]
    },
    {
     "name": "stderr",
     "output_type": "stream",
     "text": [
      "100%|██████████| 98/98 [00:08<00:00, 11.53it/s]\n",
      "  0%|          | 0/101 [00:00<?, ?it/s]"
     ]
    },
    {
     "name": "stdout",
     "output_type": "stream",
     "text": [
      "initial_potential =  26214.253783288437\n",
      "final_potential =  26218.930053915683\n",
      "energy_change =  1.4306020299118245\n",
      "p accept =  0.23916489447326042\n",
      "current step size = 1.7564077254274616e-05\n",
      "current acceptance ratio = 0.6433823529411765\n",
      "currently working on step 273\n"
     ]
    },
    {
     "name": "stderr",
     "output_type": "stream",
     "text": [
      "100%|██████████| 101/101 [00:09<00:00, 11.05it/s]\n",
      "  0%|          | 0/99 [00:00<?, ?it/s]"
     ]
    },
    {
     "name": "stdout",
     "output_type": "stream",
     "text": [
      "initial_potential =  26214.253783288437\n",
      "final_potential =  26251.019393228264\n",
      "energy_change =  1.5902758010051912\n",
      "p accept =  0.20386937660072255\n",
      "current step size = 1.7564077254274616e-05\n",
      "current acceptance ratio = 0.6410256410256411\n",
      "currently working on step 274\n"
     ]
    },
    {
     "name": "stderr",
     "output_type": "stream",
     "text": [
      "100%|██████████| 99/99 [00:08<00:00, 11.34it/s]\n",
      "  0%|          | 0/100 [00:00<?, ?it/s]"
     ]
    },
    {
     "name": "stdout",
     "output_type": "stream",
     "text": [
      "initial_potential =  26214.253783288437\n",
      "final_potential =  26211.821509384463\n",
      "energy_change =  0.10255695674277376\n",
      "p accept =  0.9025267433054027\n",
      "current step size = 1.7564077254274616e-05\n",
      "current acceptance ratio = 0.6423357664233577\n",
      "currently working on step 275\n"
     ]
    },
    {
     "name": "stderr",
     "output_type": "stream",
     "text": [
      "100%|██████████| 100/100 [00:09<00:00, 10.38it/s]\n",
      "  0%|          | 0/97 [00:00<?, ?it/s]"
     ]
    },
    {
     "name": "stdout",
     "output_type": "stream",
     "text": [
      "initial_potential =  26211.821509384463\n",
      "final_potential =  26220.228661926278\n",
      "energy_change =  -0.30558905443467665\n",
      "p accept =  1.3574243643910084\n",
      "current step size = 1.7564077254274616e-05\n",
      "current acceptance ratio = 0.6436363636363637\n",
      "currently working on step 276\n"
     ]
    },
    {
     "name": "stderr",
     "output_type": "stream",
     "text": [
      "100%|██████████| 97/97 [00:09<00:00, 10.17it/s]\n",
      "  0%|          | 0/100 [00:00<?, ?it/s]"
     ]
    },
    {
     "name": "stdout",
     "output_type": "stream",
     "text": [
      "initial_potential =  26220.228661926278\n",
      "final_potential =  26197.730444929344\n",
      "energy_change =  0.35606452482170425\n",
      "p accept =  0.7004274238224839\n",
      "current step size = 1.7564077254274616e-05\n",
      "current acceptance ratio = 0.644927536231884\n",
      "currently working on step 277\n"
     ]
    },
    {
     "name": "stderr",
     "output_type": "stream",
     "text": [
      "100%|██████████| 100/100 [00:09<00:00, 10.61it/s]\n",
      "  0%|          | 0/97 [00:00<?, ?it/s]"
     ]
    },
    {
     "name": "stdout",
     "output_type": "stream",
     "text": [
      "initial_potential =  26197.730444929344\n",
      "final_potential =  26200.97331431655\n",
      "energy_change =  -0.1696646726486506\n",
      "p accept =  1.1849074528170482\n",
      "current step size = 1.7564077254274616e-05\n",
      "current acceptance ratio = 0.6462093862815884\n",
      "currently working on step 278\n"
     ]
    },
    {
     "name": "stderr",
     "output_type": "stream",
     "text": [
      "100%|██████████| 97/97 [00:09<00:00, 10.68it/s]\n",
      "  0%|          | 0/100 [00:00<?, ?it/s]"
     ]
    },
    {
     "name": "stdout",
     "output_type": "stream",
     "text": [
      "initial_potential =  26200.97331431655\n",
      "final_potential =  26212.527871767157\n",
      "energy_change =  0.8109965496405493\n",
      "p accept =  0.4444149639003522\n",
      "current step size = 1.7564077254274616e-05\n",
      "current acceptance ratio = 0.6438848920863309\n",
      "currently working on step 279\n"
     ]
    },
    {
     "name": "stderr",
     "output_type": "stream",
     "text": [
      "100%|██████████| 100/100 [00:09<00:00, 10.84it/s]\n",
      "  0%|          | 0/101 [00:00<?, ?it/s]"
     ]
    },
    {
     "name": "stdout",
     "output_type": "stream",
     "text": [
      "initial_potential =  26200.97331431655\n",
      "final_potential =  26207.01953031384\n",
      "energy_change =  -0.03898094571195543\n",
      "p accept =  1.0397506717526135\n",
      "current step size = 1.7564077254274616e-05\n",
      "current acceptance ratio = 0.6451612903225806\n",
      "currently working on step 280\n"
     ]
    },
    {
     "name": "stderr",
     "output_type": "stream",
     "text": [
      "100%|██████████| 101/101 [00:08<00:00, 11.26it/s]\n",
      "  0%|          | 0/100 [00:00<?, ?it/s]"
     ]
    },
    {
     "name": "stdout",
     "output_type": "stream",
     "text": [
      "initial_potential =  26207.01953031384\n",
      "final_potential =  26116.55265800945\n",
      "energy_change =  -0.2091807389369933\n",
      "p accept =  1.2326677694602761\n",
      "current step size = 1.7564077254274616e-05\n",
      "current acceptance ratio = 0.6464285714285715\n",
      "currently working on step 281\n"
     ]
    },
    {
     "name": "stderr",
     "output_type": "stream",
     "text": [
      "100%|██████████| 100/100 [00:08<00:00, 11.75it/s]\n",
      "  0%|          | 0/101 [00:00<?, ?it/s]"
     ]
    },
    {
     "name": "stdout",
     "output_type": "stream",
     "text": [
      "initial_potential =  26116.55265800945\n",
      "final_potential =  26131.612730911143\n",
      "energy_change =  0.3222310421115253\n",
      "p accept =  0.7245307738706613\n",
      "current step size = 1.7564077254274616e-05\n",
      "current acceptance ratio = 0.6476868327402135\n",
      "currently working on step 282\n"
     ]
    },
    {
     "name": "stderr",
     "output_type": "stream",
     "text": [
      "100%|██████████| 101/101 [00:09<00:00, 11.15it/s]\n",
      "  0%|          | 0/98 [00:00<?, ?it/s]"
     ]
    },
    {
     "name": "stdout",
     "output_type": "stream",
     "text": [
      "initial_potential =  26131.612730911143\n",
      "final_potential =  26102.527888337445\n",
      "energy_change =  0.26335685669619124\n",
      "p accept =  0.7684676155600125\n",
      "current step size = 1.7564077254274616e-05\n",
      "current acceptance ratio = 0.648936170212766\n",
      "currently working on step 283\n"
     ]
    },
    {
     "name": "stderr",
     "output_type": "stream",
     "text": [
      "100%|██████████| 98/98 [00:09<00:00, 10.82it/s]\n",
      "  0%|          | 0/97 [00:00<?, ?it/s]"
     ]
    },
    {
     "name": "stdout",
     "output_type": "stream",
     "text": [
      "initial_potential =  26102.527888337445\n",
      "final_potential =  26234.830392031028\n",
      "energy_change =  -0.5000051854440244\n",
      "p accept =  1.6487298200741554\n",
      "current step size = 1.7564077254274616e-05\n",
      "current acceptance ratio = 0.6501766784452296\n",
      "currently working on step 284\n"
     ]
    },
    {
     "name": "stderr",
     "output_type": "stream",
     "text": [
      "100%|██████████| 97/97 [00:09<00:00, 10.31it/s]\n",
      "  0%|          | 0/97 [00:00<?, ?it/s]"
     ]
    },
    {
     "name": "stdout",
     "output_type": "stream",
     "text": [
      "initial_potential =  26234.830392031028\n",
      "final_potential =  26271.46159746634\n",
      "energy_change =  0.2854663394682575\n",
      "p accept =  0.7516636421504015\n",
      "current step size = 1.7564077254274616e-05\n",
      "current acceptance ratio = 0.6514084507042254\n",
      "currently working on step 285\n"
     ]
    },
    {
     "name": "stderr",
     "output_type": "stream",
     "text": [
      "100%|██████████| 97/97 [00:09<00:00, 10.16it/s]\n",
      "  0%|          | 0/99 [00:00<?, ?it/s]"
     ]
    },
    {
     "name": "stdout",
     "output_type": "stream",
     "text": [
      "initial_potential =  26271.46159746634\n",
      "final_potential =  26253.216221738294\n",
      "energy_change =  0.09721997170709074\n",
      "p accept =  0.9073563914449199\n",
      "current step size = 1.7564077254274616e-05\n",
      "current acceptance ratio = 0.6526315789473685\n",
      "currently working on step 286\n"
     ]
    },
    {
     "name": "stderr",
     "output_type": "stream",
     "text": [
      "100%|██████████| 99/99 [00:09<00:00, 10.42it/s]\n",
      "  0%|          | 0/97 [00:00<?, ?it/s]"
     ]
    },
    {
     "name": "stdout",
     "output_type": "stream",
     "text": [
      "initial_potential =  26253.216221738294\n",
      "final_potential =  26254.424533314417\n",
      "energy_change =  -0.4081824544846313\n",
      "p accept =  1.5040815625628092\n",
      "current step size = 1.7564077254274616e-05\n",
      "current acceptance ratio = 0.6538461538461539\n",
      "currently working on step 287\n"
     ]
    },
    {
     "name": "stderr",
     "output_type": "stream",
     "text": [
      "100%|██████████| 97/97 [00:09<00:00, 10.52it/s]\n",
      "  0%|          | 0/99 [00:00<?, ?it/s]"
     ]
    },
    {
     "name": "stdout",
     "output_type": "stream",
     "text": [
      "initial_potential =  26254.424533314417\n",
      "final_potential =  26272.588149627234\n",
      "energy_change =  0.13332587675540708\n",
      "p accept =  0.87517984486533\n",
      "current step size = 1.7564077254274616e-05\n",
      "current acceptance ratio = 0.6550522648083623\n",
      "currently working on step 288\n"
     ]
    },
    {
     "name": "stderr",
     "output_type": "stream",
     "text": [
      "100%|██████████| 99/99 [00:09<00:00, 10.66it/s]\n",
      "  0%|          | 0/99 [00:00<?, ?it/s]"
     ]
    },
    {
     "name": "stdout",
     "output_type": "stream",
     "text": [
      "initial_potential =  26272.588149627234\n",
      "final_potential =  26314.92361483272\n",
      "energy_change =  0.06803378685435746\n",
      "p accept =  0.9342289083879081\n",
      "current step size = 1.7564077254274616e-05\n",
      "current acceptance ratio = 0.65625\n",
      "currently working on step 289\n"
     ]
    },
    {
     "name": "stderr",
     "output_type": "stream",
     "text": [
      "100%|██████████| 99/99 [00:09<00:00, 10.78it/s]\n",
      "  0%|          | 0/101 [00:00<?, ?it/s]"
     ]
    },
    {
     "name": "stdout",
     "output_type": "stream",
     "text": [
      "initial_potential =  26314.92361483272\n",
      "final_potential =  26292.285645509703\n",
      "energy_change =  -0.17597706490778364\n",
      "p accept =  1.192410710287452\n",
      "current step size = 1.7564077254274616e-05\n",
      "current acceptance ratio = 0.657439446366782\n",
      "currently working on step 290\n"
     ]
    },
    {
     "name": "stderr",
     "output_type": "stream",
     "text": [
      "100%|██████████| 101/101 [00:09<00:00, 10.78it/s]\n",
      "  0%|          | 0/100 [00:00<?, ?it/s]"
     ]
    },
    {
     "name": "stdout",
     "output_type": "stream",
     "text": [
      "initial_potential =  26292.285645509703\n",
      "final_potential =  26399.012029183483\n",
      "energy_change =  5.679584851211985\n",
      "p accept =  0.003414975872247602\n",
      "current step size = 1.7564077254274616e-05\n",
      "current acceptance ratio = 0.6551724137931034\n",
      "currently working on step 291\n"
     ]
    },
    {
     "name": "stderr",
     "output_type": "stream",
     "text": [
      "100%|██████████| 100/100 [00:09<00:00, 10.28it/s]\n",
      "  0%|          | 0/99 [00:00<?, ?it/s]"
     ]
    },
    {
     "name": "stdout",
     "output_type": "stream",
     "text": [
      "initial_potential =  26292.285645509703\n",
      "final_potential =  26298.568854654866\n",
      "energy_change =  0.03243168513290584\n",
      "p accept =  0.968088582415204\n",
      "current step size = 1.7564077254274616e-05\n",
      "current acceptance ratio = 0.6563573883161512\n",
      "currently working on step 292\n"
     ]
    },
    {
     "name": "stderr",
     "output_type": "stream",
     "text": [
      "100%|██████████| 99/99 [00:09<00:00, 10.50it/s]\n",
      "  0%|          | 0/101 [00:00<?, ?it/s]"
     ]
    },
    {
     "name": "stdout",
     "output_type": "stream",
     "text": [
      "initial_potential =  26298.568854654866\n",
      "final_potential =  26305.5632880793\n",
      "energy_change =  0.39135529605846386\n",
      "p accept =  0.6761398835222919\n",
      "current step size = 1.7564077254274616e-05\n",
      "current acceptance ratio = 0.6541095890410958\n",
      "currently working on step 293\n"
     ]
    },
    {
     "name": "stderr",
     "output_type": "stream",
     "text": [
      "100%|██████████| 101/101 [00:09<00:00, 10.71it/s]\n",
      "  0%|          | 0/97 [00:00<?, ?it/s]"
     ]
    },
    {
     "name": "stdout",
     "output_type": "stream",
     "text": [
      "initial_potential =  26298.568854654866\n",
      "final_potential =  26320.2866494464\n",
      "energy_change =  0.06726327969226986\n",
      "p accept =  0.9349490158411992\n",
      "current step size = 1.7564077254274616e-05\n",
      "current acceptance ratio = 0.6552901023890785\n",
      "currently working on step 294\n"
     ]
    },
    {
     "name": "stderr",
     "output_type": "stream",
     "text": [
      "100%|██████████| 97/97 [00:10<00:00,  9.61it/s]\n",
      "  0%|          | 0/100 [00:00<?, ?it/s]"
     ]
    },
    {
     "name": "stdout",
     "output_type": "stream",
     "text": [
      "initial_potential =  26320.2866494464\n",
      "final_potential =  26366.2377290188\n",
      "energy_change =  -0.07558254552714061\n",
      "p accept =  1.0785122504060258\n",
      "current step size = 1.7564077254274616e-05\n",
      "current acceptance ratio = 0.6564625850340136\n",
      "currently working on step 295\n"
     ]
    },
    {
     "name": "stderr",
     "output_type": "stream",
     "text": [
      "100%|██████████| 100/100 [00:12<00:00,  8.22it/s]\n",
      "  0%|          | 0/99 [00:00<?, ?it/s]"
     ]
    },
    {
     "name": "stdout",
     "output_type": "stream",
     "text": [
      "initial_potential =  26366.2377290188\n",
      "final_potential =  26418.129295889757\n",
      "energy_change =  0.3909763831325108\n",
      "p accept =  0.6763961302084358\n",
      "current step size = 1.7564077254274616e-05\n",
      "current acceptance ratio = 0.6542372881355932\n",
      "currently working on step 296\n"
     ]
    },
    {
     "name": "stderr",
     "output_type": "stream",
     "text": [
      "100%|██████████| 99/99 [00:09<00:00, 10.95it/s]\n",
      "  0%|          | 0/98 [00:00<?, ?it/s]"
     ]
    },
    {
     "name": "stdout",
     "output_type": "stream",
     "text": [
      "initial_potential =  26366.2377290188\n",
      "final_potential =  26367.16034521175\n",
      "energy_change =  1.6987972053902922\n",
      "p accept =  0.1829033870092306\n",
      "current step size = 1.7564077254274616e-05\n",
      "current acceptance ratio = 0.652027027027027\n",
      "currently working on step 297\n"
     ]
    },
    {
     "name": "stderr",
     "output_type": "stream",
     "text": [
      "100%|██████████| 98/98 [00:08<00:00, 11.30it/s]\n",
      "  0%|          | 0/100 [00:00<?, ?it/s]"
     ]
    },
    {
     "name": "stdout",
     "output_type": "stream",
     "text": [
      "initial_potential =  26366.2377290188\n",
      "final_potential =  26442.39459203022\n",
      "energy_change =  1.0607579724455718\n",
      "p accept =  0.3461933058703605\n",
      "current step size = 1.7564077254274616e-05\n",
      "current acceptance ratio = 0.6498316498316499\n",
      "currently working on step 298\n"
     ]
    },
    {
     "name": "stderr",
     "output_type": "stream",
     "text": [
      "100%|██████████| 100/100 [00:08<00:00, 11.60it/s]\n",
      "  0%|          | 0/100 [00:00<?, ?it/s]"
     ]
    },
    {
     "name": "stdout",
     "output_type": "stream",
     "text": [
      "initial_potential =  26366.2377290188\n",
      "final_potential =  26354.607943533425\n",
      "energy_change =  -0.04176805341558065\n",
      "p accept =  1.042652610989792\n",
      "current step size = 1.7564077254274616e-05\n",
      "current acceptance ratio = 0.6510067114093959\n",
      "currently working on step 299\n"
     ]
    },
    {
     "name": "stderr",
     "output_type": "stream",
     "text": [
      "100%|██████████| 100/100 [00:08<00:00, 11.85it/s]\n",
      "  0%|          | 0/97 [00:00<?, ?it/s]"
     ]
    },
    {
     "name": "stdout",
     "output_type": "stream",
     "text": [
      "initial_potential =  26354.607943533425\n",
      "final_potential =  26374.856767910405\n",
      "energy_change =  0.11998451947874855\n",
      "p accept =  0.8869341668141008\n",
      "current step size = 1.7564077254274616e-05\n",
      "current acceptance ratio = 0.6521739130434783\n",
      "currently working on step 300\n"
     ]
    },
    {
     "name": "stderr",
     "output_type": "stream",
     "text": [
      "100%|██████████| 97/97 [00:08<00:00, 11.63it/s]\n",
      "  0%|          | 0/101 [00:00<?, ?it/s]"
     ]
    },
    {
     "name": "stdout",
     "output_type": "stream",
     "text": [
      "initial_potential =  26374.856767910405\n",
      "final_potential =  26384.97815307384\n",
      "energy_change =  -0.20401713202591054\n",
      "p accept =  1.2263191626079137\n",
      "current step size = 1.7564077254274616e-05\n",
      "current acceptance ratio = 0.6533333333333333\n",
      "currently working on step 301\n"
     ]
    },
    {
     "name": "stderr",
     "output_type": "stream",
     "text": [
      "100%|██████████| 101/101 [00:08<00:00, 11.32it/s]\n",
      "  0%|          | 0/98 [00:00<?, ?it/s]"
     ]
    },
    {
     "name": "stdout",
     "output_type": "stream",
     "text": [
      "initial_potential =  26384.97815307384\n",
      "final_potential =  26314.40271868648\n",
      "energy_change =  0.8507999416469829\n",
      "p accept =  0.42707316166048725\n",
      "current step size = 1.7564077254274616e-05\n",
      "current acceptance ratio = 0.6511627906976745\n",
      "currently working on step 302\n"
     ]
    },
    {
     "name": "stderr",
     "output_type": "stream",
     "text": [
      "100%|██████████| 98/98 [00:08<00:00, 11.65it/s]\n",
      "  0%|          | 0/101 [00:00<?, ?it/s]"
     ]
    },
    {
     "name": "stdout",
     "output_type": "stream",
     "text": [
      "initial_potential =  26384.97815307384\n",
      "final_potential =  26428.65614827235\n",
      "energy_change =  2.97336128212919\n",
      "p accept =  0.05113115492526547\n",
      "current step size = 1.7564077254274616e-05\n",
      "current acceptance ratio = 0.6490066225165563\n",
      "currently working on step 303\n"
     ]
    },
    {
     "name": "stderr",
     "output_type": "stream",
     "text": [
      "100%|██████████| 101/101 [00:08<00:00, 11.88it/s]\n",
      "  0%|          | 0/101 [00:00<?, ?it/s]"
     ]
    },
    {
     "name": "stdout",
     "output_type": "stream",
     "text": [
      "initial_potential =  26384.97815307384\n",
      "final_potential =  26358.993194882016\n",
      "energy_change =  0.20111106445256155\n",
      "p accept =  0.8178215956018215\n",
      "current step size = 1.7564077254274616e-05\n",
      "current acceptance ratio = 0.6501650165016502\n",
      "currently working on step 304\n"
     ]
    },
    {
     "name": "stderr",
     "output_type": "stream",
     "text": [
      "100%|██████████| 101/101 [00:08<00:00, 11.83it/s]\n",
      "  0%|          | 0/98 [00:00<?, ?it/s]"
     ]
    },
    {
     "name": "stdout",
     "output_type": "stream",
     "text": [
      "initial_potential =  26358.993194882016\n",
      "final_potential =  26350.987464833663\n",
      "energy_change =  0.10737985689775087\n",
      "p accept =  0.8981844266321086\n",
      "current step size = 1.7564077254274616e-05\n",
      "current acceptance ratio = 0.6513157894736842\n",
      "currently working on step 305\n"
     ]
    },
    {
     "name": "stderr",
     "output_type": "stream",
     "text": [
      "100%|██████████| 98/98 [00:08<00:00, 11.26it/s]\n",
      "  0%|          | 0/99 [00:00<?, ?it/s]"
     ]
    },
    {
     "name": "stdout",
     "output_type": "stream",
     "text": [
      "initial_potential =  26350.987464833663\n",
      "final_potential =  26371.759060593235\n",
      "energy_change =  2.638952582667116\n",
      "p accept =  0.07143605374530683\n",
      "current step size = 1.7564077254274616e-05\n",
      "current acceptance ratio = 0.6491803278688525\n",
      "currently working on step 306\n"
     ]
    },
    {
     "name": "stderr",
     "output_type": "stream",
     "text": [
      "100%|██████████| 99/99 [00:09<00:00, 10.49it/s]\n",
      "  0%|          | 0/99 [00:00<?, ?it/s]"
     ]
    },
    {
     "name": "stdout",
     "output_type": "stream",
     "text": [
      "initial_potential =  26350.987464833663\n",
      "final_potential =  26316.860240210972\n",
      "energy_change =  0.192435138989822\n",
      "p accept =  0.8249478234175545\n",
      "current step size = 1.7564077254274616e-05\n",
      "current acceptance ratio = 0.6503267973856209\n",
      "currently working on step 307\n"
     ]
    },
    {
     "name": "stderr",
     "output_type": "stream",
     "text": [
      "100%|██████████| 99/99 [00:08<00:00, 11.16it/s]\n",
      "  0%|          | 0/98 [00:00<?, ?it/s]"
     ]
    },
    {
     "name": "stdout",
     "output_type": "stream",
     "text": [
      "initial_potential =  26316.860240210972\n",
      "final_potential =  26307.595843243682\n",
      "energy_change =  -0.18013952134060673\n",
      "p accept =  1.1973844121464916\n",
      "current step size = 1.7564077254274616e-05\n",
      "current acceptance ratio = 0.6514657980456026\n",
      "currently working on step 308\n"
     ]
    },
    {
     "name": "stderr",
     "output_type": "stream",
     "text": [
      "100%|██████████| 98/98 [00:08<00:00, 11.69it/s]\n",
      "  0%|          | 0/99 [00:00<?, ?it/s]"
     ]
    },
    {
     "name": "stdout",
     "output_type": "stream",
     "text": [
      "initial_potential =  26307.595843243682\n",
      "final_potential =  26322.063322851296\n",
      "energy_change =  1.184795869718073\n",
      "p accept =  0.3058085979230595\n",
      "current step size = 1.7564077254274616e-05\n",
      "current acceptance ratio = 0.6493506493506493\n",
      "currently working on step 309\n"
     ]
    },
    {
     "name": "stderr",
     "output_type": "stream",
     "text": [
      "100%|██████████| 99/99 [00:08<00:00, 11.75it/s]\n",
      "  0%|          | 0/100 [00:00<?, ?it/s]"
     ]
    },
    {
     "name": "stdout",
     "output_type": "stream",
     "text": [
      "initial_potential =  26307.595843243682\n",
      "final_potential =  26329.543607422172\n",
      "energy_change =  1.0224806532205548\n",
      "p accept =  0.3597015377423704\n",
      "current step size = 1.7564077254274616e-05\n",
      "current acceptance ratio = 0.6504854368932039\n",
      "currently working on step 310\n"
     ]
    },
    {
     "name": "stderr",
     "output_type": "stream",
     "text": [
      "100%|██████████| 100/100 [00:08<00:00, 11.79it/s]\n",
      "  0%|          | 0/99 [00:00<?, ?it/s]"
     ]
    },
    {
     "name": "stdout",
     "output_type": "stream",
     "text": [
      "initial_potential =  26329.543607422172\n",
      "final_potential =  26413.048123749846\n",
      "energy_change =  -0.42092873150249943\n",
      "p accept =  1.5233757058422137\n",
      "current step size = 1.7564077254274616e-05\n",
      "current acceptance ratio = 0.6516129032258065\n",
      "currently working on step 311\n"
     ]
    },
    {
     "name": "stderr",
     "output_type": "stream",
     "text": [
      "100%|██████████| 99/99 [00:08<00:00, 11.80it/s]\n",
      "  0%|          | 0/101 [00:00<?, ?it/s]"
     ]
    },
    {
     "name": "stdout",
     "output_type": "stream",
     "text": [
      "initial_potential =  26413.048123749846\n",
      "final_potential =  26328.480389439486\n",
      "energy_change =  -0.5806208640424302\n",
      "p accept =  1.7871476620954216\n",
      "current step size = 1.7564077254274616e-05\n",
      "current acceptance ratio = 0.6527331189710611\n",
      "currently working on step 312\n"
     ]
    },
    {
     "name": "stderr",
     "output_type": "stream",
     "text": [
      "100%|██████████| 101/101 [00:08<00:00, 11.79it/s]\n",
      "  0%|          | 0/101 [00:00<?, ?it/s]"
     ]
    },
    {
     "name": "stdout",
     "output_type": "stream",
     "text": [
      "initial_potential =  26328.480389439486\n",
      "final_potential =  26259.600742680734\n",
      "energy_change =  -0.15975082757358905\n",
      "p accept =  1.173218500867465\n",
      "current step size = 1.7564077254274616e-05\n",
      "current acceptance ratio = 0.6538461538461539\n",
      "currently working on step 313\n"
     ]
    },
    {
     "name": "stderr",
     "output_type": "stream",
     "text": [
      "100%|██████████| 101/101 [00:08<00:00, 11.85it/s]\n",
      "  0%|          | 0/99 [00:00<?, ?it/s]"
     ]
    },
    {
     "name": "stdout",
     "output_type": "stream",
     "text": [
      "initial_potential =  26259.600742680734\n",
      "final_potential =  26252.56073904239\n",
      "energy_change =  -0.034907946101156995\n",
      "p accept =  1.0355243803554544\n",
      "current step size = 1.7564077254274616e-05\n",
      "current acceptance ratio = 0.6549520766773163\n",
      "currently working on step 314\n"
     ]
    },
    {
     "name": "stderr",
     "output_type": "stream",
     "text": [
      "100%|██████████| 99/99 [00:08<00:00, 11.71it/s]\n",
      "  0%|          | 0/99 [00:00<?, ?it/s]"
     ]
    },
    {
     "name": "stdout",
     "output_type": "stream",
     "text": [
      "initial_potential =  26252.56073904239\n",
      "final_potential =  26332.758015629133\n",
      "energy_change =  0.08992179576307535\n",
      "p accept =  0.9140026613570039\n",
      "current step size = 1.7564077254274616e-05\n",
      "current acceptance ratio = 0.6560509554140127\n",
      "currently working on step 315\n"
     ]
    },
    {
     "name": "stderr",
     "output_type": "stream",
     "text": [
      "100%|██████████| 99/99 [00:08<00:00, 11.82it/s]\n",
      "  0%|          | 0/97 [00:00<?, ?it/s]"
     ]
    },
    {
     "name": "stdout",
     "output_type": "stream",
     "text": [
      "initial_potential =  26332.758015629133\n",
      "final_potential =  26357.092780960236\n",
      "energy_change =  -0.008674779848661274\n",
      "p accept =  1.0087125147865417\n",
      "current step size = 1.7564077254274616e-05\n",
      "current acceptance ratio = 0.6571428571428571\n",
      "currently working on step 316\n"
     ]
    },
    {
     "name": "stderr",
     "output_type": "stream",
     "text": [
      "100%|██████████| 97/97 [00:08<00:00, 11.81it/s]\n",
      "  0%|          | 0/100 [00:00<?, ?it/s]"
     ]
    },
    {
     "name": "stdout",
     "output_type": "stream",
     "text": [
      "initial_potential =  26357.092780960236\n",
      "final_potential =  26298.994587960427\n",
      "energy_change =  2.4456400051130913\n",
      "p accept =  0.086670647489963\n",
      "current step size = 1.7564077254274616e-05\n",
      "current acceptance ratio = 0.6550632911392406\n",
      "currently working on step 317\n"
     ]
    },
    {
     "name": "stderr",
     "output_type": "stream",
     "text": [
      "100%|██████████| 100/100 [00:08<00:00, 11.79it/s]\n",
      "  0%|          | 0/101 [00:00<?, ?it/s]"
     ]
    },
    {
     "name": "stdout",
     "output_type": "stream",
     "text": [
      "initial_potential =  26357.092780960236\n",
      "final_potential =  26416.805980726916\n",
      "energy_change =  -0.27816954300215\n",
      "p accept =  1.3207100953829158\n",
      "current step size = 1.7564077254274616e-05\n",
      "current acceptance ratio = 0.6561514195583596\n",
      "currently working on step 318\n"
     ]
    },
    {
     "name": "stderr",
     "output_type": "stream",
     "text": [
      "100%|██████████| 101/101 [00:08<00:00, 11.79it/s]\n",
      "  0%|          | 0/99 [00:00<?, ?it/s]"
     ]
    },
    {
     "name": "stdout",
     "output_type": "stream",
     "text": [
      "initial_potential =  26416.805980726916\n",
      "final_potential =  26462.38588003024\n",
      "energy_change =  0.7127715383830946\n",
      "p accept =  0.4902834732176359\n",
      "current step size = 1.7564077254274616e-05\n",
      "current acceptance ratio = 0.6540880503144654\n",
      "currently working on step 319\n"
     ]
    },
    {
     "name": "stderr",
     "output_type": "stream",
     "text": [
      "100%|██████████| 99/99 [00:08<00:00, 11.12it/s]\n",
      "  0%|          | 0/99 [00:00<?, ?it/s]"
     ]
    },
    {
     "name": "stdout",
     "output_type": "stream",
     "text": [
      "initial_potential =  26416.805980726916\n",
      "final_potential =  26433.319630052472\n",
      "energy_change =  1.5705978194455383\n",
      "p accept =  0.20792084607048483\n",
      "current step size = 1.7564077254274616e-05\n",
      "current acceptance ratio = 0.6520376175548589\n",
      "currently working on step 320\n"
     ]
    },
    {
     "name": "stderr",
     "output_type": "stream",
     "text": [
      "100%|██████████| 99/99 [00:08<00:00, 11.83it/s]\n",
      "  0%|          | 0/101 [00:00<?, ?it/s]"
     ]
    },
    {
     "name": "stdout",
     "output_type": "stream",
     "text": [
      "initial_potential =  26416.805980726916\n",
      "final_potential =  26463.260852570827\n",
      "energy_change =  0.0218634510965785\n",
      "p accept =  0.9783738218029437\n",
      "current step size = 1.7564077254274616e-05\n",
      "current acceptance ratio = 0.653125\n",
      "currently working on step 321\n"
     ]
    },
    {
     "name": "stderr",
     "output_type": "stream",
     "text": [
      "100%|██████████| 101/101 [00:08<00:00, 11.75it/s]\n",
      "  0%|          | 0/100 [00:00<?, ?it/s]"
     ]
    },
    {
     "name": "stdout",
     "output_type": "stream",
     "text": [
      "initial_potential =  26463.260852570827\n",
      "final_potential =  26522.69684977576\n",
      "energy_change =  2.891647191019729\n",
      "p accept =  0.05548474332753194\n",
      "current step size = 1.7564077254274616e-05\n",
      "current acceptance ratio = 0.6510903426791277\n",
      "currently working on step 322\n"
     ]
    },
    {
     "name": "stderr",
     "output_type": "stream",
     "text": [
      "100%|██████████| 100/100 [00:08<00:00, 11.81it/s]\n",
      "  0%|          | 0/101 [00:00<?, ?it/s]"
     ]
    },
    {
     "name": "stdout",
     "output_type": "stream",
     "text": [
      "initial_potential =  26463.260852570827\n",
      "final_potential =  26495.166719576213\n",
      "energy_change =  0.3184717460972024\n",
      "p accept =  0.7272596255880734\n",
      "current step size = 1.7564077254274616e-05\n",
      "current acceptance ratio = 0.6521739130434783\n",
      "currently working on step 323\n"
     ]
    },
    {
     "name": "stderr",
     "output_type": "stream",
     "text": [
      "100%|██████████| 101/101 [00:08<00:00, 11.89it/s]\n",
      "  0%|          | 0/98 [00:00<?, ?it/s]"
     ]
    },
    {
     "name": "stdout",
     "output_type": "stream",
     "text": [
      "initial_potential =  26495.166719576213\n",
      "final_potential =  26515.01393222615\n",
      "energy_change =  -0.07069337498978712\n",
      "p accept =  1.0732520894773145\n",
      "current step size = 1.7564077254274616e-05\n",
      "current acceptance ratio = 0.653250773993808\n",
      "currently working on step 324\n"
     ]
    },
    {
     "name": "stderr",
     "output_type": "stream",
     "text": [
      "100%|██████████| 98/98 [00:08<00:00, 11.90it/s]\n",
      "  0%|          | 0/98 [00:00<?, ?it/s]"
     ]
    },
    {
     "name": "stdout",
     "output_type": "stream",
     "text": [
      "initial_potential =  26515.01393222615\n",
      "final_potential =  26530.399437520617\n",
      "energy_change =  0.08275600896740798\n",
      "p accept =  0.9205757320441096\n",
      "current step size = 1.7564077254274616e-05\n",
      "current acceptance ratio = 0.654320987654321\n",
      "currently working on step 325\n"
     ]
    },
    {
     "name": "stderr",
     "output_type": "stream",
     "text": [
      "100%|██████████| 98/98 [00:08<00:00, 11.89it/s]\n",
      "  0%|          | 0/100 [00:00<?, ?it/s]"
     ]
    },
    {
     "name": "stdout",
     "output_type": "stream",
     "text": [
      "initial_potential =  26530.399437520617\n",
      "final_potential =  26485.43942486665\n",
      "energy_change =  1.2484408573654946\n",
      "p accept =  0.28695184712096367\n",
      "current step size = 1.7564077254274616e-05\n",
      "current acceptance ratio = 0.6523076923076923\n",
      "currently working on step 326\n"
     ]
    },
    {
     "name": "stderr",
     "output_type": "stream",
     "text": [
      "100%|██████████| 100/100 [00:08<00:00, 11.78it/s]\n",
      "  0%|          | 0/101 [00:00<?, ?it/s]"
     ]
    },
    {
     "name": "stdout",
     "output_type": "stream",
     "text": [
      "initial_potential =  26530.399437520617\n",
      "final_potential =  26504.822708423315\n",
      "energy_change =  -0.23482307069934905\n",
      "p accept =  1.2646849891062228\n",
      "current step size = 1.7564077254274616e-05\n",
      "current acceptance ratio = 0.6533742331288344\n",
      "currently working on step 327\n"
     ]
    },
    {
     "name": "stderr",
     "output_type": "stream",
     "text": [
      "100%|██████████| 101/101 [00:08<00:00, 11.29it/s]\n",
      "  0%|          | 0/97 [00:00<?, ?it/s]"
     ]
    },
    {
     "name": "stdout",
     "output_type": "stream",
     "text": [
      "initial_potential =  26504.822708423315\n",
      "final_potential =  26574.45233704883\n",
      "energy_change =  -0.05211976688588038\n",
      "p accept =  1.0535019096008762\n",
      "current step size = 1.7564077254274616e-05\n",
      "current acceptance ratio = 0.654434250764526\n",
      "currently working on step 328\n"
     ]
    },
    {
     "name": "stderr",
     "output_type": "stream",
     "text": [
      "100%|██████████| 97/97 [00:08<00:00, 11.87it/s]\n",
      "  0%|          | 0/100 [00:00<?, ?it/s]"
     ]
    },
    {
     "name": "stdout",
     "output_type": "stream",
     "text": [
      "initial_potential =  26574.45233704883\n",
      "final_potential =  26587.898180990527\n",
      "energy_change =  0.5355066233751131\n",
      "p accept =  0.5853726515406907\n",
      "current step size = 1.7564077254274616e-05\n",
      "current acceptance ratio = 0.6554878048780488\n",
      "currently working on step 329\n"
     ]
    },
    {
     "name": "stderr",
     "output_type": "stream",
     "text": [
      "100%|██████████| 100/100 [00:08<00:00, 11.91it/s]\n",
      "  0%|          | 0/99 [00:00<?, ?it/s]"
     ]
    },
    {
     "name": "stdout",
     "output_type": "stream",
     "text": [
      "initial_potential =  26587.898180990527\n",
      "final_potential =  26637.448042852506\n",
      "energy_change =  2.9305917539895745\n",
      "p accept =  0.05336544958209412\n",
      "current step size = 1.7564077254274616e-05\n",
      "current acceptance ratio = 0.6534954407294833\n",
      "currently working on step 330\n"
     ]
    },
    {
     "name": "stderr",
     "output_type": "stream",
     "text": [
      "100%|██████████| 99/99 [00:08<00:00, 11.94it/s]\n",
      "  0%|          | 0/98 [00:00<?, ?it/s]"
     ]
    },
    {
     "name": "stdout",
     "output_type": "stream",
     "text": [
      "initial_potential =  26587.898180990527\n",
      "final_potential =  26626.785092049722\n",
      "energy_change =  2.7323087090917397\n",
      "p accept =  0.06506889098132551\n",
      "current step size = 1.7564077254274616e-05\n",
      "current acceptance ratio = 0.6515151515151515\n",
      "currently working on step 331\n"
     ]
    },
    {
     "name": "stderr",
     "output_type": "stream",
     "text": [
      "100%|██████████| 98/98 [00:08<00:00, 11.89it/s]\n",
      "  0%|          | 0/101 [00:00<?, ?it/s]"
     ]
    },
    {
     "name": "stdout",
     "output_type": "stream",
     "text": [
      "initial_potential =  26587.898180990527\n",
      "final_potential =  26554.086445581266\n",
      "energy_change =  0.6755404760770034\n",
      "p accept =  0.5088813080953208\n",
      "current step size = 1.7564077254274616e-05\n",
      "current acceptance ratio = 0.649546827794562\n",
      "currently working on step 332\n"
     ]
    },
    {
     "name": "stderr",
     "output_type": "stream",
     "text": [
      "100%|██████████| 101/101 [00:08<00:00, 11.84it/s]\n",
      "  0%|          | 0/99 [00:00<?, ?it/s]"
     ]
    },
    {
     "name": "stdout",
     "output_type": "stream",
     "text": [
      "initial_potential =  26587.898180990527\n",
      "final_potential =  26596.48718910554\n",
      "energy_change =  0.20553768226818647\n",
      "p accept =  0.8142094127316263\n",
      "current step size = 1.7564077254274616e-05\n",
      "current acceptance ratio = 0.6475903614457831\n",
      "currently working on step 333\n"
     ]
    },
    {
     "name": "stderr",
     "output_type": "stream",
     "text": [
      "100%|██████████| 99/99 [00:08<00:00, 11.83it/s]\n",
      "  0%|          | 0/97 [00:00<?, ?it/s]"
     ]
    },
    {
     "name": "stdout",
     "output_type": "stream",
     "text": [
      "initial_potential =  26587.898180990527\n",
      "final_potential =  26684.624070899205\n",
      "energy_change =  0.8935482643864816\n",
      "p accept =  0.40920121962985845\n",
      "current step size = 1.7564077254274616e-05\n",
      "current acceptance ratio = 0.6456456456456456\n",
      "currently working on step 334\n"
     ]
    },
    {
     "name": "stderr",
     "output_type": "stream",
     "text": [
      "100%|██████████| 97/97 [00:08<00:00, 11.58it/s]\n",
      "  0%|          | 0/99 [00:00<?, ?it/s]"
     ]
    },
    {
     "name": "stdout",
     "output_type": "stream",
     "text": [
      "initial_potential =  26587.898180990527\n",
      "final_potential =  26577.782738289443\n",
      "energy_change =  1.7166951719264034\n",
      "p accept =  0.17965890969252296\n",
      "current step size = 1.7564077254274616e-05\n",
      "current acceptance ratio = 0.6437125748502994\n",
      "currently working on step 335\n"
     ]
    },
    {
     "name": "stderr",
     "output_type": "stream",
     "text": [
      "100%|██████████| 99/99 [00:09<00:00, 10.78it/s]\n",
      "  0%|          | 0/100 [00:00<?, ?it/s]"
     ]
    },
    {
     "name": "stdout",
     "output_type": "stream",
     "text": [
      "initial_potential =  26587.898180990527\n",
      "final_potential =  26684.50068434237\n",
      "energy_change =  -0.008759038290008903\n",
      "p accept =  1.0087975109115757\n",
      "current step size = 1.7564077254274616e-05\n",
      "current acceptance ratio = 0.6447761194029851\n",
      "currently working on step 336\n"
     ]
    },
    {
     "name": "stderr",
     "output_type": "stream",
     "text": [
      "100%|██████████| 100/100 [00:08<00:00, 11.59it/s]\n",
      "  0%|          | 0/101 [00:00<?, ?it/s]"
     ]
    },
    {
     "name": "stdout",
     "output_type": "stream",
     "text": [
      "initial_potential =  26684.50068434237\n",
      "final_potential =  26589.863585436466\n",
      "energy_change =  0.020666240161517635\n",
      "p accept =  0.9795458430793381\n",
      "current step size = 1.7564077254274616e-05\n",
      "current acceptance ratio = 0.6458333333333334\n",
      "currently working on step 337\n"
     ]
    },
    {
     "name": "stderr",
     "output_type": "stream",
     "text": [
      "100%|██████████| 101/101 [00:08<00:00, 11.85it/s]\n",
      "  0%|          | 0/101 [00:00<?, ?it/s]"
     ]
    },
    {
     "name": "stdout",
     "output_type": "stream",
     "text": [
      "initial_potential =  26589.863585436466\n",
      "final_potential =  26625.235646150733\n",
      "energy_change =  -0.48210447633755393\n",
      "p accept =  1.6194789736955988\n",
      "current step size = 1.7564077254274616e-05\n",
      "current acceptance ratio = 0.6468842729970327\n",
      "currently working on step 338\n"
     ]
    },
    {
     "name": "stderr",
     "output_type": "stream",
     "text": [
      "100%|██████████| 101/101 [00:08<00:00, 11.91it/s]\n",
      "  0%|          | 0/98 [00:00<?, ?it/s]"
     ]
    },
    {
     "name": "stdout",
     "output_type": "stream",
     "text": [
      "initial_potential =  26625.235646150733\n",
      "final_potential =  26667.23802558089\n",
      "energy_change =  0.7909858911589254\n",
      "p accept =  0.45339757420304094\n",
      "current step size = 1.7564077254274616e-05\n",
      "current acceptance ratio = 0.6479289940828402\n",
      "currently working on step 339\n"
     ]
    },
    {
     "name": "stderr",
     "output_type": "stream",
     "text": [
      "100%|██████████| 98/98 [00:08<00:00, 11.89it/s]\n",
      "  0%|          | 0/99 [00:00<?, ?it/s]"
     ]
    },
    {
     "name": "stdout",
     "output_type": "stream",
     "text": [
      "initial_potential =  26667.23802558089\n",
      "final_potential =  26572.27672705419\n",
      "energy_change =  1.3067519775795517\n",
      "p accept =  0.2706978627730136\n",
      "current step size = 1.7564077254274616e-05\n",
      "current acceptance ratio = 0.6460176991150443\n",
      "currently working on step 340\n"
     ]
    },
    {
     "name": "stderr",
     "output_type": "stream",
     "text": [
      "100%|██████████| 99/99 [00:08<00:00, 11.83it/s]\n",
      "  0%|          | 0/98 [00:00<?, ?it/s]"
     ]
    },
    {
     "name": "stdout",
     "output_type": "stream",
     "text": [
      "initial_potential =  26667.23802558089\n",
      "final_potential =  26663.2559187036\n",
      "energy_change =  0.033668291187495925\n",
      "p accept =  0.9668921781056776\n",
      "current step size = 1.7564077254274616e-05\n",
      "current acceptance ratio = 0.6470588235294118\n",
      "currently working on step 341\n"
     ]
    },
    {
     "name": "stderr",
     "output_type": "stream",
     "text": [
      "100%|██████████| 98/98 [00:08<00:00, 11.93it/s]\n",
      "  0%|          | 0/98 [00:00<?, ?it/s]"
     ]
    },
    {
     "name": "stdout",
     "output_type": "stream",
     "text": [
      "initial_potential =  26663.2559187036\n",
      "final_potential =  26650.898043743422\n",
      "energy_change =  1.3733888079150347\n",
      "p accept =  0.25324729731479856\n",
      "current step size = 1.7564077254274616e-05\n",
      "current acceptance ratio = 0.6451612903225806\n",
      "currently working on step 342\n"
     ]
    },
    {
     "name": "stderr",
     "output_type": "stream",
     "text": [
      "100%|██████████| 98/98 [00:08<00:00, 11.88it/s]\n",
      "  0%|          | 0/98 [00:00<?, ?it/s]"
     ]
    },
    {
     "name": "stdout",
     "output_type": "stream",
     "text": [
      "initial_potential =  26663.2559187036\n",
      "final_potential =  26606.62997885333\n",
      "energy_change =  -0.4952036186004989\n",
      "p accept =  1.640832309022877\n",
      "current step size = 1.7564077254274616e-05\n",
      "current acceptance ratio = 0.6461988304093568\n",
      "currently working on step 343\n"
     ]
    },
    {
     "name": "stderr",
     "output_type": "stream",
     "text": [
      "100%|██████████| 98/98 [00:08<00:00, 11.84it/s]\n",
      "  0%|          | 0/98 [00:00<?, ?it/s]"
     ]
    },
    {
     "name": "stdout",
     "output_type": "stream",
     "text": [
      "initial_potential =  26606.62997885333\n",
      "final_potential =  26700.23576766094\n",
      "energy_change =  0.9133759047836065\n",
      "p accept =  0.401167631731817\n",
      "current step size = 1.7564077254274616e-05\n",
      "current acceptance ratio = 0.6472303206997084\n",
      "currently working on step 344\n"
     ]
    },
    {
     "name": "stderr",
     "output_type": "stream",
     "text": [
      "100%|██████████| 98/98 [00:08<00:00, 11.90it/s]\n",
      "  0%|          | 0/99 [00:00<?, ?it/s]"
     ]
    },
    {
     "name": "stdout",
     "output_type": "stream",
     "text": [
      "initial_potential =  26700.23576766094\n",
      "final_potential =  26728.04368941712\n",
      "energy_change =  0.3561402187915519\n",
      "p accept =  0.7003744076967104\n",
      "current step size = 1.7564077254274616e-05\n",
      "current acceptance ratio = 0.6482558139534884\n",
      "currently working on step 345\n"
     ]
    },
    {
     "name": "stderr",
     "output_type": "stream",
     "text": [
      "100%|██████████| 99/99 [00:08<00:00, 11.95it/s]\n",
      "  0%|          | 0/100 [00:00<?, ?it/s]"
     ]
    },
    {
     "name": "stdout",
     "output_type": "stream",
     "text": [
      "initial_potential =  26728.04368941712\n",
      "final_potential =  26742.833450236354\n",
      "energy_change =  2.033024833042873\n",
      "p accept =  0.1309388533537928\n",
      "current step size = 1.7564077254274616e-05\n",
      "current acceptance ratio = 0.6463768115942029\n",
      "currently working on step 346\n"
     ]
    },
    {
     "name": "stderr",
     "output_type": "stream",
     "text": [
      "100%|██████████| 100/100 [00:08<00:00, 11.77it/s]\n",
      "  0%|          | 0/100 [00:00<?, ?it/s]"
     ]
    },
    {
     "name": "stdout",
     "output_type": "stream",
     "text": [
      "initial_potential =  26728.04368941712\n",
      "final_potential =  26776.093906527167\n",
      "energy_change =  0.47220314694277477\n",
      "p accept =  0.6236268121684285\n",
      "current step size = 1.7564077254274616e-05\n",
      "current acceptance ratio = 0.6445086705202312\n",
      "currently working on step 347\n"
     ]
    },
    {
     "name": "stderr",
     "output_type": "stream",
     "text": [
      "100%|██████████| 100/100 [00:09<00:00, 11.07it/s]\n",
      "  0%|          | 0/99 [00:00<?, ?it/s]"
     ]
    },
    {
     "name": "stdout",
     "output_type": "stream",
     "text": [
      "initial_potential =  26728.04368941712\n",
      "final_potential =  26790.471366611815\n",
      "energy_change =  -1.7315045190189267\n",
      "p accept =  5.649146766744145\n",
      "current step size = 1.7564077254274616e-05\n",
      "current acceptance ratio = 0.6455331412103746\n",
      "currently working on step 348\n"
     ]
    },
    {
     "name": "stderr",
     "output_type": "stream",
     "text": [
      "100%|██████████| 99/99 [00:08<00:00, 11.70it/s]\n",
      "  0%|          | 0/101 [00:00<?, ?it/s]"
     ]
    },
    {
     "name": "stdout",
     "output_type": "stream",
     "text": [
      "initial_potential =  26790.471366611815\n",
      "final_potential =  26856.758316377665\n",
      "energy_change =  0.10315399942919612\n",
      "p accept =  0.9019880571393312\n",
      "current step size = 1.7564077254274616e-05\n",
      "current acceptance ratio = 0.646551724137931\n",
      "currently working on step 349\n"
     ]
    },
    {
     "name": "stderr",
     "output_type": "stream",
     "text": [
      "100%|██████████| 101/101 [00:08<00:00, 11.86it/s]\n",
      "  0%|          | 0/100 [00:00<?, ?it/s]"
     ]
    },
    {
     "name": "stdout",
     "output_type": "stream",
     "text": [
      "initial_potential =  26856.758316377665\n",
      "final_potential =  26855.406507917236\n",
      "energy_change =  1.7436787465121597\n",
      "p accept =  0.17487589177459636\n",
      "current step size = 1.7564077254274616e-05\n",
      "current acceptance ratio = 0.6475644699140402\n",
      "currently working on step 350\n"
     ]
    },
    {
     "name": "stderr",
     "output_type": "stream",
     "text": [
      "100%|██████████| 100/100 [00:08<00:00, 11.88it/s]\n",
      "  0%|          | 0/100 [00:00<?, ?it/s]"
     ]
    },
    {
     "name": "stdout",
     "output_type": "stream",
     "text": [
      "initial_potential =  26855.406507917236\n",
      "final_potential =  26833.765231314217\n",
      "energy_change =  -1.372856507441611\n",
      "p accept =  3.9466081248280918\n",
      "current step size = 1.7564077254274616e-05\n",
      "current acceptance ratio = 0.6485714285714286\n",
      "currently working on step 351\n"
     ]
    },
    {
     "name": "stderr",
     "output_type": "stream",
     "text": [
      "100%|██████████| 100/100 [00:08<00:00, 11.91it/s]\n",
      "  0%|          | 0/98 [00:00<?, ?it/s]"
     ]
    },
    {
     "name": "stdout",
     "output_type": "stream",
     "text": [
      "initial_potential =  26833.765231314217\n",
      "final_potential =  26836.047123399963\n",
      "energy_change =  -0.22196656990854535\n",
      "p accept =  1.2485296387066096\n",
      "current step size = 1.7564077254274616e-05\n",
      "current acceptance ratio = 0.6495726495726496\n",
      "currently working on step 352\n"
     ]
    },
    {
     "name": "stderr",
     "output_type": "stream",
     "text": [
      "100%|██████████| 98/98 [00:08<00:00, 11.95it/s]\n",
      "  0%|          | 0/97 [00:00<?, ?it/s]"
     ]
    },
    {
     "name": "stdout",
     "output_type": "stream",
     "text": [
      "initial_potential =  26836.047123399963\n",
      "final_potential =  26816.03859222639\n",
      "energy_change =  -0.03604523290414363\n",
      "p accept =  1.036702738505981\n",
      "current step size = 1.7564077254274616e-05\n",
      "current acceptance ratio = 0.6505681818181818\n",
      "currently working on step 353\n"
     ]
    },
    {
     "name": "stderr",
     "output_type": "stream",
     "text": [
      "100%|██████████| 97/97 [00:08<00:00, 11.93it/s]\n",
      "  0%|          | 0/99 [00:00<?, ?it/s]"
     ]
    },
    {
     "name": "stdout",
     "output_type": "stream",
     "text": [
      "initial_potential =  26816.03859222639\n",
      "final_potential =  26753.8504630818\n",
      "energy_change =  2.1327850572997704\n",
      "p accept =  0.11850678563547556\n",
      "current step size = 1.7564077254274616e-05\n",
      "current acceptance ratio = 0.6515580736543909\n",
      "currently working on step 354\n"
     ]
    },
    {
     "name": "stderr",
     "output_type": "stream",
     "text": [
      "100%|██████████| 99/99 [00:08<00:00, 11.86it/s]\n",
      "  0%|          | 0/99 [00:00<?, ?it/s]"
     ]
    },
    {
     "name": "stdout",
     "output_type": "stream",
     "text": [
      "initial_potential =  26753.8504630818\n",
      "final_potential =  26776.288041310938\n",
      "energy_change =  -0.33427786199899856\n",
      "p accept =  1.3969312437607164\n",
      "current step size = 1.7564077254274616e-05\n",
      "current acceptance ratio = 0.652542372881356\n",
      "currently working on step 355\n"
     ]
    },
    {
     "name": "stderr",
     "output_type": "stream",
     "text": [
      "100%|██████████| 99/99 [00:08<00:00, 11.91it/s]\n",
      "  0%|          | 0/98 [00:00<?, ?it/s]"
     ]
    },
    {
     "name": "stdout",
     "output_type": "stream",
     "text": [
      "initial_potential =  26776.288041310938\n",
      "final_potential =  26802.17881064208\n",
      "energy_change =  -0.6313010828162078\n",
      "p accept =  1.8800550960390956\n",
      "current step size = 1.7564077254274616e-05\n",
      "current acceptance ratio = 0.6535211267605634\n",
      "currently working on step 356\n"
     ]
    },
    {
     "name": "stderr",
     "output_type": "stream",
     "text": [
      "100%|██████████| 98/98 [00:08<00:00, 11.80it/s]\n",
      "  0%|          | 0/100 [00:00<?, ?it/s]"
     ]
    },
    {
     "name": "stdout",
     "output_type": "stream",
     "text": [
      "initial_potential =  26802.17881064208\n",
      "final_potential =  26811.901517394017\n",
      "energy_change =  0.19898475853551645\n",
      "p accept =  0.8195623845687094\n",
      "current step size = 1.7564077254274616e-05\n",
      "current acceptance ratio = 0.6544943820224719\n",
      "currently working on step 357\n"
     ]
    },
    {
     "name": "stderr",
     "output_type": "stream",
     "text": [
      "100%|██████████| 100/100 [00:08<00:00, 11.87it/s]\n",
      "  0%|          | 0/98 [00:00<?, ?it/s]"
     ]
    },
    {
     "name": "stdout",
     "output_type": "stream",
     "text": [
      "initial_potential =  26811.901517394017\n",
      "final_potential =  26818.279373354035\n",
      "energy_change =  0.3412580660660751\n",
      "p accept =  0.7108754317067688\n",
      "current step size = 1.7564077254274616e-05\n",
      "current acceptance ratio = 0.6554621848739496\n",
      "currently working on step 358\n"
     ]
    },
    {
     "name": "stderr",
     "output_type": "stream",
     "text": [
      "100%|██████████| 98/98 [00:08<00:00, 11.88it/s]\n",
      "  0%|          | 0/100 [00:00<?, ?it/s]"
     ]
    },
    {
     "name": "stdout",
     "output_type": "stream",
     "text": [
      "initial_potential =  26818.279373354035\n",
      "final_potential =  26817.00998900609\n",
      "energy_change =  -0.7860143766883994\n",
      "p accept =  2.194631995556461\n",
      "current step size = 1.7564077254274616e-05\n",
      "current acceptance ratio = 0.6564245810055865\n",
      "currently working on step 359\n"
     ]
    },
    {
     "name": "stderr",
     "output_type": "stream",
     "text": [
      "100%|██████████| 100/100 [00:08<00:00, 11.94it/s]\n",
      "  0%|          | 0/97 [00:00<?, ?it/s]"
     ]
    },
    {
     "name": "stdout",
     "output_type": "stream",
     "text": [
      "initial_potential =  26817.00998900609\n",
      "final_potential =  26820.75632780936\n",
      "energy_change =  -1.416258626646595\n",
      "p accept =  4.121670847445616\n",
      "current step size = 1.7564077254274616e-05\n",
      "current acceptance ratio = 0.6573816155988857\n",
      "currently working on step 360\n"
     ]
    },
    {
     "name": "stderr",
     "output_type": "stream",
     "text": [
      "100%|██████████| 97/97 [00:08<00:00, 11.82it/s]\n",
      "  0%|          | 0/99 [00:00<?, ?it/s]"
     ]
    },
    {
     "name": "stdout",
     "output_type": "stream",
     "text": [
      "initial_potential =  26820.75632780936\n",
      "final_potential =  26882.35201615795\n",
      "energy_change =  0.5463338968111202\n",
      "p accept =  0.5790688498554556\n",
      "current step size = 1.7564077254274616e-05\n",
      "current acceptance ratio = 0.6583333333333333\n",
      "currently working on step 361\n"
     ]
    },
    {
     "name": "stderr",
     "output_type": "stream",
     "text": [
      "100%|██████████| 99/99 [00:08<00:00, 12.15it/s]\n",
      "  0%|          | 0/99 [00:00<?, ?it/s]"
     ]
    },
    {
     "name": "stdout",
     "output_type": "stream",
     "text": [
      "initial_potential =  26882.35201615795\n",
      "final_potential =  26895.891031855823\n",
      "energy_change =  1.1138633622031193\n",
      "p accept =  0.32828821170437056\n",
      "current step size = 1.7564077254274616e-05\n",
      "current acceptance ratio = 0.6565096952908587\n",
      "currently working on step 362\n"
     ]
    },
    {
     "name": "stderr",
     "output_type": "stream",
     "text": [
      "100%|██████████| 99/99 [00:08<00:00, 11.91it/s]\n",
      "  0%|          | 0/99 [00:00<?, ?it/s]"
     ]
    },
    {
     "name": "stdout",
     "output_type": "stream",
     "text": [
      "initial_potential =  26882.35201615795\n",
      "final_potential =  26850.365653830424\n",
      "energy_change =  0.004787260229932144\n",
      "p accept =  0.9952241804365589\n",
      "current step size = 1.7564077254274616e-05\n",
      "current acceptance ratio = 0.6574585635359116\n",
      "currently working on step 363\n"
     ]
    },
    {
     "name": "stderr",
     "output_type": "stream",
     "text": [
      "100%|██████████| 99/99 [00:08<00:00, 11.85it/s]\n",
      "  0%|          | 0/99 [00:00<?, ?it/s]"
     ]
    },
    {
     "name": "stdout",
     "output_type": "stream",
     "text": [
      "initial_potential =  26850.365653830424\n",
      "final_potential =  26863.12942998515\n",
      "energy_change =  -0.02720157128351275\n",
      "p accept =  1.0275749114830162\n",
      "current step size = 1.7564077254274616e-05\n",
      "current acceptance ratio = 0.6584022038567493\n",
      "currently working on step 364\n"
     ]
    },
    {
     "name": "stderr",
     "output_type": "stream",
     "text": [
      "100%|██████████| 99/99 [00:08<00:00, 11.81it/s]\n",
      "  0%|          | 0/98 [00:00<?, ?it/s]"
     ]
    },
    {
     "name": "stdout",
     "output_type": "stream",
     "text": [
      "initial_potential =  26863.12942998515\n",
      "final_potential =  26872.543915930713\n",
      "energy_change =  -0.049661561235552654\n",
      "p accept =  1.0509153656849906\n",
      "current step size = 1.7564077254274616e-05\n",
      "current acceptance ratio = 0.6593406593406593\n",
      "currently working on step 365\n"
     ]
    },
    {
     "name": "stderr",
     "output_type": "stream",
     "text": [
      "100%|██████████| 98/98 [00:08<00:00, 11.78it/s]\n",
      "  0%|          | 0/99 [00:00<?, ?it/s]"
     ]
    },
    {
     "name": "stdout",
     "output_type": "stream",
     "text": [
      "initial_potential =  26872.543915930713\n",
      "final_potential =  26928.049680846474\n",
      "energy_change =  0.35001918676425703\n",
      "p accept =  0.7046745691641695\n",
      "current step size = 1.7564077254274616e-05\n",
      "current acceptance ratio = 0.6575342465753424\n",
      "currently working on step 366\n"
     ]
    },
    {
     "name": "stderr",
     "output_type": "stream",
     "text": [
      "100%|██████████| 99/99 [00:08<00:00, 11.86it/s]\n",
      "  0%|          | 0/97 [00:00<?, ?it/s]"
     ]
    },
    {
     "name": "stdout",
     "output_type": "stream",
     "text": [
      "initial_potential =  26872.543915930713\n",
      "final_potential =  26890.62720098644\n",
      "energy_change =  -0.17214208042423707\n",
      "p accept =  1.187846590972609\n",
      "current step size = 1.7564077254274616e-05\n",
      "current acceptance ratio = 0.6584699453551912\n",
      "currently working on step 367\n"
     ]
    },
    {
     "name": "stderr",
     "output_type": "stream",
     "text": [
      "100%|██████████| 97/97 [00:08<00:00, 11.86it/s]\n",
      "  0%|          | 0/98 [00:00<?, ?it/s]"
     ]
    },
    {
     "name": "stdout",
     "output_type": "stream",
     "text": [
      "initial_potential =  26890.62720098644\n",
      "final_potential =  26816.224907746735\n",
      "energy_change =  1.9717353382438887\n",
      "p accept =  0.13921506125778516\n",
      "current step size = 1.7564077254274616e-05\n",
      "current acceptance ratio = 0.6566757493188011\n",
      "currently working on step 368\n"
     ]
    },
    {
     "name": "stderr",
     "output_type": "stream",
     "text": [
      "100%|██████████| 98/98 [00:08<00:00, 11.87it/s]\n",
      "  0%|          | 0/98 [00:00<?, ?it/s]"
     ]
    },
    {
     "name": "stdout",
     "output_type": "stream",
     "text": [
      "initial_potential =  26890.62720098644\n",
      "final_potential =  26897.489255101693\n",
      "energy_change =  1.7244970238680253\n",
      "p accept =  0.17826269110663417\n",
      "current step size = 1.7564077254274616e-05\n",
      "current acceptance ratio = 0.654891304347826\n",
      "currently working on step 369\n"
     ]
    },
    {
     "name": "stderr",
     "output_type": "stream",
     "text": [
      "100%|██████████| 98/98 [00:08<00:00, 12.22it/s]\n",
      "  0%|          | 0/99 [00:00<?, ?it/s]"
     ]
    },
    {
     "name": "stdout",
     "output_type": "stream",
     "text": [
      "initial_potential =  26890.62720098644\n",
      "final_potential =  26894.64940360854\n",
      "energy_change =  -0.1253995232982561\n",
      "p accept =  1.1336012627221899\n",
      "current step size = 1.7564077254274616e-05\n",
      "current acceptance ratio = 0.6558265582655827\n",
      "currently working on step 370\n"
     ]
    },
    {
     "name": "stderr",
     "output_type": "stream",
     "text": [
      "100%|██████████| 99/99 [00:09<00:00, 10.94it/s]\n",
      "  0%|          | 0/100 [00:00<?, ?it/s]"
     ]
    },
    {
     "name": "stdout",
     "output_type": "stream",
     "text": [
      "initial_potential =  26894.64940360854\n",
      "final_potential =  26888.067055991818\n",
      "energy_change =  0.2577282347920118\n",
      "p accept =  0.7728052251439805\n",
      "current step size = 1.7564077254274616e-05\n",
      "current acceptance ratio = 0.6567567567567567\n",
      "currently working on step 371\n"
     ]
    },
    {
     "name": "stderr",
     "output_type": "stream",
     "text": [
      "100%|██████████| 100/100 [00:08<00:00, 11.25it/s]\n",
      "  0%|          | 0/97 [00:00<?, ?it/s]"
     ]
    },
    {
     "name": "stdout",
     "output_type": "stream",
     "text": [
      "initial_potential =  26888.067055991818\n",
      "final_potential =  26900.91229283717\n",
      "energy_change =  -0.14255063302698545\n",
      "p accept =  1.1532114700666323\n",
      "current step size = 1.7564077254274616e-05\n",
      "current acceptance ratio = 0.6576819407008087\n",
      "currently working on step 372\n"
     ]
    },
    {
     "name": "stderr",
     "output_type": "stream",
     "text": [
      "100%|██████████| 97/97 [00:08<00:00, 11.68it/s]\n",
      "  0%|          | 0/98 [00:00<?, ?it/s]"
     ]
    },
    {
     "name": "stdout",
     "output_type": "stream",
     "text": [
      "initial_potential =  26900.91229283717\n",
      "final_potential =  26810.849682066575\n",
      "energy_change =  0.35120007836667355\n",
      "p accept =  0.7038429160257561\n",
      "current step size = 1.7564077254274616e-05\n",
      "current acceptance ratio = 0.6559139784946236\n",
      "currently working on step 373\n"
     ]
    },
    {
     "name": "stderr",
     "output_type": "stream",
     "text": [
      "100%|██████████| 98/98 [00:08<00:00, 11.92it/s]\n",
      "  0%|          | 0/100 [00:00<?, ?it/s]"
     ]
    },
    {
     "name": "stdout",
     "output_type": "stream",
     "text": [
      "initial_potential =  26900.91229283717\n",
      "final_potential =  26857.718653821892\n",
      "energy_change =  0.5188774822454434\n",
      "p accept =  0.5951882825425814\n",
      "current step size = 1.7564077254274616e-05\n",
      "current acceptance ratio = 0.6541554959785523\n",
      "currently working on step 374\n"
     ]
    },
    {
     "name": "stderr",
     "output_type": "stream",
     "text": [
      "100%|██████████| 100/100 [00:08<00:00, 11.87it/s]\n",
      "  0%|          | 0/99 [00:00<?, ?it/s]"
     ]
    },
    {
     "name": "stdout",
     "output_type": "stream",
     "text": [
      "initial_potential =  26900.91229283717\n",
      "final_potential =  26884.45505761048\n",
      "energy_change =  1.9028609149245312\n",
      "p accept =  0.14914132764153276\n",
      "current step size = 1.7564077254274616e-05\n",
      "current acceptance ratio = 0.6524064171122995\n",
      "currently working on step 375\n"
     ]
    },
    {
     "name": "stderr",
     "output_type": "stream",
     "text": [
      "100%|██████████| 99/99 [00:08<00:00, 11.86it/s]\n",
      "  0%|          | 0/101 [00:00<?, ?it/s]"
     ]
    },
    {
     "name": "stdout",
     "output_type": "stream",
     "text": [
      "initial_potential =  26900.91229283717\n",
      "final_potential =  26896.260811652766\n",
      "energy_change =  0.16123822463850956\n",
      "p accept =  0.8510892965151565\n",
      "current step size = 1.7564077254274616e-05\n",
      "current acceptance ratio = 0.6533333333333333\n",
      "currently working on step 376\n"
     ]
    },
    {
     "name": "stderr",
     "output_type": "stream",
     "text": [
      "100%|██████████| 101/101 [00:08<00:00, 12.01it/s]\n",
      "  0%|          | 0/100 [00:00<?, ?it/s]"
     ]
    },
    {
     "name": "stdout",
     "output_type": "stream",
     "text": [
      "initial_potential =  26896.260811652766\n",
      "final_potential =  26954.006129835012\n",
      "energy_change =  0.7627747433434706\n",
      "p accept =  0.466370571369426\n",
      "current step size = 1.7564077254274616e-05\n",
      "current acceptance ratio = 0.6542553191489362\n",
      "currently working on step 377\n"
     ]
    },
    {
     "name": "stderr",
     "output_type": "stream",
     "text": [
      "100%|██████████| 100/100 [00:08<00:00, 11.45it/s]\n",
      "  0%|          | 0/98 [00:00<?, ?it/s]"
     ]
    },
    {
     "name": "stdout",
     "output_type": "stream",
     "text": [
      "initial_potential =  26954.006129835012\n",
      "final_potential =  26909.021952030627\n",
      "energy_change =  0.07508978698751889\n",
      "p accept =  0.9276601907752096\n",
      "current step size = 1.7564077254274616e-05\n",
      "current acceptance ratio = 0.6551724137931034\n",
      "currently working on step 378\n"
     ]
    },
    {
     "name": "stderr",
     "output_type": "stream",
     "text": [
      "100%|██████████| 98/98 [00:08<00:00, 11.75it/s]\n",
      "  0%|          | 0/101 [00:00<?, ?it/s]"
     ]
    },
    {
     "name": "stdout",
     "output_type": "stream",
     "text": [
      "initial_potential =  26909.021952030627\n",
      "final_potential =  26894.01936774112\n",
      "energy_change =  -0.141066843047156\n",
      "p accept =  1.151501615289122\n",
      "current step size = 1.7564077254274616e-05\n",
      "current acceptance ratio = 0.656084656084656\n",
      "currently working on step 379\n"
     ]
    },
    {
     "name": "stderr",
     "output_type": "stream",
     "text": [
      "100%|██████████| 101/101 [00:08<00:00, 12.17it/s]\n",
      "  0%|          | 0/100 [00:00<?, ?it/s]"
     ]
    },
    {
     "name": "stdout",
     "output_type": "stream",
     "text": [
      "initial_potential =  26894.01936774112\n",
      "final_potential =  26920.92628042175\n",
      "energy_change =  -0.7993298591900384\n",
      "p accept =  2.22405000231308\n",
      "current step size = 1.7564077254274616e-05\n",
      "current acceptance ratio = 0.6569920844327177\n",
      "currently working on step 380\n"
     ]
    },
    {
     "name": "stderr",
     "output_type": "stream",
     "text": [
      "100%|██████████| 100/100 [00:09<00:00, 10.51it/s]\n",
      "  0%|          | 0/101 [00:00<?, ?it/s]"
     ]
    },
    {
     "name": "stdout",
     "output_type": "stream",
     "text": [
      "initial_potential =  26920.92628042175\n",
      "final_potential =  26910.895901881864\n",
      "energy_change =  0.29977646612678654\n",
      "p accept =  0.7409838371576905\n",
      "current step size = 1.7564077254274616e-05\n",
      "current acceptance ratio = 0.6552631578947369\n",
      "currently working on step 381\n"
     ]
    },
    {
     "name": "stderr",
     "output_type": "stream",
     "text": [
      "100%|██████████| 101/101 [00:09<00:00, 10.95it/s]\n",
      "  0%|          | 0/101 [00:00<?, ?it/s]"
     ]
    },
    {
     "name": "stdout",
     "output_type": "stream",
     "text": [
      "initial_potential =  26920.92628042175\n",
      "final_potential =  26920.449253458675\n",
      "energy_change =  -0.18073375668609515\n",
      "p accept =  1.1980961517357924\n",
      "current step size = 1.7564077254274616e-05\n",
      "current acceptance ratio = 0.6561679790026247\n",
      "currently working on step 382\n"
     ]
    },
    {
     "name": "stderr",
     "output_type": "stream",
     "text": [
      "100%|██████████| 101/101 [00:10<00:00, 10.06it/s]\n",
      "  0%|          | 0/100 [00:00<?, ?it/s]"
     ]
    },
    {
     "name": "stdout",
     "output_type": "stream",
     "text": [
      "initial_potential =  26920.449253458675\n",
      "final_potential =  26958.102579397753\n",
      "energy_change =  2.3036582776985597\n",
      "p accept =  0.09989273909522439\n",
      "current step size = 1.7564077254274616e-05\n",
      "current acceptance ratio = 0.6544502617801047\n",
      "currently working on step 383\n"
     ]
    },
    {
     "name": "stderr",
     "output_type": "stream",
     "text": [
      "100%|██████████| 100/100 [00:08<00:00, 11.31it/s]\n",
      "  0%|          | 0/101 [00:00<?, ?it/s]"
     ]
    },
    {
     "name": "stdout",
     "output_type": "stream",
     "text": [
      "initial_potential =  26920.449253458675\n",
      "final_potential =  26871.893511956052\n",
      "energy_change =  0.3850302522187121\n",
      "p accept =  0.6804300513744883\n",
      "current step size = 1.7564077254274616e-05\n",
      "current acceptance ratio = 0.6527415143603134\n",
      "currently working on step 384\n"
     ]
    },
    {
     "name": "stderr",
     "output_type": "stream",
     "text": [
      "100%|██████████| 101/101 [00:08<00:00, 11.89it/s]\n",
      "  0%|          | 0/97 [00:00<?, ?it/s]"
     ]
    },
    {
     "name": "stdout",
     "output_type": "stream",
     "text": [
      "initial_potential =  26920.449253458675\n",
      "final_potential =  26960.89025577838\n",
      "energy_change =  0.1729751669918187\n",
      "p accept =  0.8411585030812521\n",
      "current step size = 1.7564077254274616e-05\n",
      "current acceptance ratio = 0.6536458333333334\n",
      "currently working on step 385\n"
     ]
    },
    {
     "name": "stderr",
     "output_type": "stream",
     "text": [
      "100%|██████████| 97/97 [00:08<00:00, 11.88it/s]\n",
      "  0%|          | 0/97 [00:00<?, ?it/s]"
     ]
    },
    {
     "name": "stdout",
     "output_type": "stream",
     "text": [
      "initial_potential =  26960.89025577838\n",
      "final_potential =  27015.87685281181\n",
      "energy_change =  0.41464196765446104\n",
      "p accept =  0.6605767462131619\n",
      "current step size = 1.7564077254274616e-05\n",
      "current acceptance ratio = 0.6519480519480519\n",
      "currently working on step 386\n"
     ]
    },
    {
     "name": "stderr",
     "output_type": "stream",
     "text": [
      "100%|██████████| 97/97 [00:10<00:00,  9.57it/s]\n",
      "  0%|          | 0/99 [00:00<?, ?it/s]"
     ]
    },
    {
     "name": "stdout",
     "output_type": "stream",
     "text": [
      "initial_potential =  26960.89025577838\n",
      "final_potential =  27004.381779876945\n",
      "energy_change =  0.2423152890696656\n",
      "p accept =  0.7848086969359906\n",
      "current step size = 1.7564077254274616e-05\n",
      "current acceptance ratio = 0.6502590673575129\n",
      "currently working on step 387\n"
     ]
    },
    {
     "name": "stderr",
     "output_type": "stream",
     "text": [
      "100%|██████████| 99/99 [00:09<00:00, 10.85it/s]\n",
      "  0%|          | 0/100 [00:00<?, ?it/s]"
     ]
    },
    {
     "name": "stdout",
     "output_type": "stream",
     "text": [
      "initial_potential =  26960.89025577838\n",
      "final_potential =  26973.61925261886\n",
      "energy_change =  0.011848388443468139\n",
      "p accept =  0.9882215273087964\n",
      "current step size = 1.7564077254274616e-05\n",
      "current acceptance ratio = 0.6511627906976745\n",
      "currently working on step 388\n"
     ]
    },
    {
     "name": "stderr",
     "output_type": "stream",
     "text": [
      "100%|██████████| 100/100 [00:08<00:00, 11.85it/s]\n",
      "  0%|          | 0/100 [00:00<?, ?it/s]"
     ]
    },
    {
     "name": "stdout",
     "output_type": "stream",
     "text": [
      "initial_potential =  26973.61925261886\n",
      "final_potential =  26924.807095357137\n",
      "energy_change =  0.34079245853354223\n",
      "p accept =  0.7112064977299001\n",
      "current step size = 1.7564077254274616e-05\n",
      "current acceptance ratio = 0.6520618556701031\n",
      "currently working on step 389\n"
     ]
    },
    {
     "name": "stderr",
     "output_type": "stream",
     "text": [
      "100%|██████████| 100/100 [00:08<00:00, 11.81it/s]\n",
      "  0%|          | 0/100 [00:00<?, ?it/s]"
     ]
    },
    {
     "name": "stdout",
     "output_type": "stream",
     "text": [
      "initial_potential =  26924.807095357137\n",
      "final_potential =  26905.305540320882\n",
      "energy_change =  0.02185061335330829\n",
      "p accept =  0.9783863819955124\n",
      "current step size = 1.7564077254274616e-05\n",
      "current acceptance ratio = 0.6529562982005142\n",
      "currently working on step 390\n"
     ]
    },
    {
     "name": "stderr",
     "output_type": "stream",
     "text": [
      "100%|██████████| 100/100 [00:08<00:00, 11.84it/s]\n",
      "  0%|          | 0/98 [00:00<?, ?it/s]"
     ]
    },
    {
     "name": "stdout",
     "output_type": "stream",
     "text": [
      "initial_potential =  26905.305540320882\n",
      "final_potential =  26875.096972365624\n",
      "energy_change =  -0.06631275884865317\n",
      "p accept =  1.0685608667755544\n",
      "current step size = 1.7564077254274616e-05\n",
      "current acceptance ratio = 0.6538461538461539\n",
      "currently working on step 391\n"
     ]
    },
    {
     "name": "stderr",
     "output_type": "stream",
     "text": [
      "100%|██████████| 98/98 [00:08<00:00, 11.91it/s]\n",
      "  0%|          | 0/99 [00:00<?, ?it/s]"
     ]
    },
    {
     "name": "stdout",
     "output_type": "stream",
     "text": [
      "initial_potential =  26875.096972365624\n",
      "final_potential =  26819.809951559804\n",
      "energy_change =  1.317093547215336\n",
      "p accept =  0.2679128475104803\n",
      "current step size = 1.7564077254274616e-05\n",
      "current acceptance ratio = 0.6521739130434783\n",
      "currently working on step 392\n"
     ]
    },
    {
     "name": "stderr",
     "output_type": "stream",
     "text": [
      "100%|██████████| 99/99 [00:08<00:00, 12.29it/s]\n",
      "  0%|          | 0/98 [00:00<?, ?it/s]"
     ]
    },
    {
     "name": "stdout",
     "output_type": "stream",
     "text": [
      "initial_potential =  26875.096972365624\n",
      "final_potential =  26811.206800289237\n",
      "energy_change =  0.20867715720669366\n",
      "p accept =  0.8116572310371488\n",
      "current step size = 1.7564077254274616e-05\n",
      "current acceptance ratio = 0.6530612244897959\n",
      "currently working on step 393\n"
     ]
    },
    {
     "name": "stderr",
     "output_type": "stream",
     "text": [
      "100%|██████████| 98/98 [00:08<00:00, 11.85it/s]\n",
      "  0%|          | 0/97 [00:00<?, ?it/s]"
     ]
    },
    {
     "name": "stdout",
     "output_type": "stream",
     "text": [
      "initial_potential =  26811.206800289237\n",
      "final_potential =  26744.706891783542\n",
      "energy_change =  -0.526726456504548\n",
      "p accept =  1.693379872838839\n",
      "current step size = 1.7564077254274616e-05\n",
      "current acceptance ratio = 0.6539440203562341\n",
      "currently working on step 394\n"
     ]
    },
    {
     "name": "stderr",
     "output_type": "stream",
     "text": [
      "100%|██████████| 97/97 [00:08<00:00, 11.92it/s]\n",
      "  0%|          | 0/98 [00:00<?, ?it/s]"
     ]
    },
    {
     "name": "stdout",
     "output_type": "stream",
     "text": [
      "initial_potential =  26744.706891783542\n",
      "final_potential =  26810.43071265496\n",
      "energy_change =  2.0479450197308324\n",
      "p accept =  0.12899972328105938\n",
      "current step size = 1.7564077254274616e-05\n",
      "current acceptance ratio = 0.6522842639593909\n",
      "currently working on step 395\n"
     ]
    },
    {
     "name": "stderr",
     "output_type": "stream",
     "text": [
      "100%|██████████| 98/98 [00:10<00:00,  9.59it/s]\n",
      "  0%|          | 0/100 [00:00<?, ?it/s]"
     ]
    },
    {
     "name": "stdout",
     "output_type": "stream",
     "text": [
      "initial_potential =  26744.706891783542\n",
      "final_potential =  26802.9815196684\n",
      "energy_change =  -0.13256923689914402\n",
      "p accept =  1.1417580651406005\n",
      "current step size = 1.7564077254274616e-05\n",
      "current acceptance ratio = 0.6531645569620254\n",
      "currently working on step 396\n"
     ]
    },
    {
     "name": "stderr",
     "output_type": "stream",
     "text": [
      "100%|██████████| 100/100 [00:09<00:00, 11.09it/s]\n",
      "  0%|          | 0/99 [00:00<?, ?it/s]"
     ]
    },
    {
     "name": "stdout",
     "output_type": "stream",
     "text": [
      "initial_potential =  26802.9815196684\n",
      "final_potential =  26760.650518890165\n",
      "energy_change =  0.33138524524110835\n",
      "p accept =  0.7179285372060282\n",
      "current step size = 1.7564077254274616e-05\n",
      "current acceptance ratio = 0.6515151515151515\n",
      "currently working on step 397\n"
     ]
    },
    {
     "name": "stderr",
     "output_type": "stream",
     "text": [
      "100%|██████████| 99/99 [00:08<00:00, 11.58it/s]\n",
      "  0%|          | 0/101 [00:00<?, ?it/s]"
     ]
    },
    {
     "name": "stdout",
     "output_type": "stream",
     "text": [
      "initial_potential =  26802.9815196684\n",
      "final_potential =  26847.85579590134\n",
      "energy_change =  2.8841403572732816\n",
      "p accept =  0.05590282534392016\n",
      "current step size = 1.7564077254274616e-05\n",
      "current acceptance ratio = 0.6498740554156172\n",
      "currently working on step 398\n"
     ]
    },
    {
     "name": "stderr",
     "output_type": "stream",
     "text": [
      "100%|██████████| 101/101 [00:08<00:00, 11.68it/s]\n",
      "  0%|          | 0/98 [00:00<?, ?it/s]"
     ]
    },
    {
     "name": "stdout",
     "output_type": "stream",
     "text": [
      "initial_potential =  26802.9815196684\n",
      "final_potential =  26784.296509373333\n",
      "energy_change =  0.5485924622480525\n",
      "p accept =  0.5777624608034849\n",
      "current step size = 1.7564077254274616e-05\n",
      "current acceptance ratio = 0.6507537688442211\n",
      "currently working on step 399\n"
     ]
    },
    {
     "name": "stderr",
     "output_type": "stream",
     "text": [
      "100%|██████████| 98/98 [00:10<00:00,  9.38it/s]\n",
      "  0%|          | 0/99 [00:00<?, ?it/s]"
     ]
    },
    {
     "name": "stdout",
     "output_type": "stream",
     "text": [
      "initial_potential =  26784.296509373333\n",
      "final_potential =  26783.771580412234\n",
      "energy_change =  0.07472157270240132\n",
      "p accept =  0.9280018314038078\n",
      "current step size = 1.7564077254274616e-05\n",
      "current acceptance ratio = 0.6491228070175439\n",
      "currently working on step 400\n"
     ]
    },
    {
     "name": "stderr",
     "output_type": "stream",
     "text": [
      "100%|██████████| 99/99 [00:08<00:00, 11.81it/s]\n",
      "  0%|          | 0/99 [00:00<?, ?it/s]"
     ]
    },
    {
     "name": "stdout",
     "output_type": "stream",
     "text": [
      "initial_potential =  26784.296509373333\n",
      "final_potential =  26789.299351843518\n",
      "energy_change =  -0.32895877823466435\n",
      "p accept =  1.3895205759159246\n",
      "current step size = 1.7564077254274616e-05\n",
      "current acceptance ratio = 0.65\n",
      "currently working on step 401\n"
     ]
    },
    {
     "name": "stderr",
     "output_type": "stream",
     "text": [
      "100%|██████████| 99/99 [00:08<00:00, 11.89it/s]\n",
      "  0%|          | 0/97 [00:00<?, ?it/s]"
     ]
    },
    {
     "name": "stdout",
     "output_type": "stream",
     "text": [
      "initial_potential =  26789.299351843518\n",
      "final_potential =  26756.709636016632\n",
      "energy_change =  -0.06871507722826209\n",
      "p accept =  1.071130976059889\n",
      "current step size = 1.7564077254274616e-05\n",
      "current acceptance ratio = 0.6508728179551122\n",
      "currently working on step 402\n"
     ]
    },
    {
     "name": "stderr",
     "output_type": "stream",
     "text": [
      "100%|██████████| 97/97 [00:08<00:00, 11.95it/s]\n",
      "  0%|          | 0/98 [00:00<?, ?it/s]"
     ]
    },
    {
     "name": "stdout",
     "output_type": "stream",
     "text": [
      "initial_potential =  26756.709636016632\n",
      "final_potential =  26702.600348973327\n",
      "energy_change =  -0.16096820062375627\n",
      "p accept =  1.174647615158495\n",
      "current step size = 1.7564077254274616e-05\n",
      "current acceptance ratio = 0.6517412935323383\n",
      "currently working on step 403\n"
     ]
    },
    {
     "name": "stderr",
     "output_type": "stream",
     "text": [
      "100%|██████████| 98/98 [00:08<00:00, 11.60it/s]\n",
      "  0%|          | 0/98 [00:00<?, ?it/s]"
     ]
    },
    {
     "name": "stdout",
     "output_type": "stream",
     "text": [
      "initial_potential =  26702.600348973327\n",
      "final_potential =  26658.82147533905\n",
      "energy_change =  6.154501585522667\n",
      "p accept =  0.002123899303716469\n",
      "current step size = 1.7564077254274616e-05\n",
      "current acceptance ratio = 0.6501240694789082\n",
      "currently working on step 404\n"
     ]
    },
    {
     "name": "stderr",
     "output_type": "stream",
     "text": [
      "100%|██████████| 98/98 [00:08<00:00, 11.91it/s]\n",
      "  0%|          | 0/98 [00:00<?, ?it/s]"
     ]
    },
    {
     "name": "stdout",
     "output_type": "stream",
     "text": [
      "initial_potential =  26702.600348973327\n",
      "final_potential =  26702.142259470696\n",
      "energy_change =  0.06325388058030512\n",
      "p accept =  0.9387051244325634\n",
      "current step size = 1.7564077254274616e-05\n",
      "current acceptance ratio = 0.650990099009901\n",
      "currently working on step 405\n"
     ]
    },
    {
     "name": "stderr",
     "output_type": "stream",
     "text": [
      "100%|██████████| 98/98 [00:08<00:00, 11.89it/s]\n",
      "  0%|          | 0/100 [00:00<?, ?it/s]"
     ]
    },
    {
     "name": "stdout",
     "output_type": "stream",
     "text": [
      "initial_potential =  26702.142259470696\n",
      "final_potential =  26746.4927596189\n",
      "energy_change =  0.1878367635072209\n",
      "p accept =  0.8287499784316522\n",
      "current step size = 1.7564077254274616e-05\n",
      "current acceptance ratio = 0.6518518518518519\n",
      "currently working on step 406\n"
     ]
    },
    {
     "name": "stderr",
     "output_type": "stream",
     "text": [
      "100%|██████████| 100/100 [00:08<00:00, 11.92it/s]\n",
      "  0%|          | 0/100 [00:00<?, ?it/s]"
     ]
    },
    {
     "name": "stdout",
     "output_type": "stream",
     "text": [
      "initial_potential =  26746.4927596189\n",
      "final_potential =  26732.316842345226\n",
      "energy_change =  0.5413565253693378\n",
      "p accept =  0.5819582755186702\n",
      "current step size = 1.7564077254274616e-05\n",
      "current acceptance ratio = 0.6502463054187192\n",
      "currently working on step 407\n"
     ]
    },
    {
     "name": "stderr",
     "output_type": "stream",
     "text": [
      "100%|██████████| 100/100 [00:09<00:00, 10.75it/s]\n",
      "  0%|          | 0/98 [00:00<?, ?it/s]"
     ]
    },
    {
     "name": "stdout",
     "output_type": "stream",
     "text": [
      "initial_potential =  26746.4927596189\n",
      "final_potential =  26776.91600462135\n",
      "energy_change =  0.32922432840859983\n",
      "p accept =  0.7194815984803969\n",
      "current step size = 1.7564077254274616e-05\n",
      "current acceptance ratio = 0.6486486486486487\n",
      "currently working on step 408\n"
     ]
    },
    {
     "name": "stderr",
     "output_type": "stream",
     "text": [
      "100%|██████████| 98/98 [00:09<00:00, 10.14it/s]\n",
      "  0%|          | 0/97 [00:00<?, ?it/s]"
     ]
    },
    {
     "name": "stdout",
     "output_type": "stream",
     "text": [
      "initial_potential =  26746.4927596189\n",
      "final_potential =  26752.95016422465\n",
      "energy_change =  0.16455482706078328\n",
      "p accept =  0.8482712474501171\n",
      "current step size = 1.7564077254274616e-05\n",
      "current acceptance ratio = 0.6495098039215687\n",
      "currently working on step 409\n"
     ]
    },
    {
     "name": "stderr",
     "output_type": "stream",
     "text": [
      "100%|██████████| 97/97 [00:08<00:00, 11.95it/s]\n",
      "  0%|          | 0/98 [00:00<?, ?it/s]"
     ]
    },
    {
     "name": "stdout",
     "output_type": "stream",
     "text": [
      "initial_potential =  26752.95016422465\n",
      "final_potential =  26798.093103843177\n",
      "energy_change =  0.05485321636660956\n",
      "p accept =  0.9466240866791666\n",
      "current step size = 1.7564077254274616e-05\n",
      "current acceptance ratio = 0.6503667481662592\n",
      "currently working on step 410\n"
     ]
    },
    {
     "name": "stderr",
     "output_type": "stream",
     "text": [
      "100%|██████████| 98/98 [00:08<00:00, 11.92it/s]\n",
      "  0%|          | 0/100 [00:00<?, ?it/s]"
     ]
    },
    {
     "name": "stdout",
     "output_type": "stream",
     "text": [
      "initial_potential =  26798.093103843177\n",
      "final_potential =  26829.536602322245\n",
      "energy_change =  0.6590784961881582\n",
      "p accept =  0.517327834481148\n",
      "current step size = 1.7564077254274616e-05\n",
      "current acceptance ratio = 0.6487804878048781\n",
      "currently working on step 411\n"
     ]
    },
    {
     "name": "stderr",
     "output_type": "stream",
     "text": [
      "100%|██████████| 100/100 [00:08<00:00, 11.94it/s]\n",
      "  0%|          | 0/98 [00:00<?, ?it/s]"
     ]
    },
    {
     "name": "stdout",
     "output_type": "stream",
     "text": [
      "initial_potential =  26798.093103843177\n",
      "final_potential =  26801.188218629904\n",
      "energy_change =  -0.47779863713367376\n",
      "p accept =  1.612520748889979\n",
      "current step size = 1.7564077254274616e-05\n",
      "current acceptance ratio = 0.6496350364963503\n",
      "currently working on step 412\n"
     ]
    },
    {
     "name": "stderr",
     "output_type": "stream",
     "text": [
      "100%|██████████| 98/98 [00:08<00:00, 11.92it/s]\n",
      "  0%|          | 0/97 [00:00<?, ?it/s]"
     ]
    },
    {
     "name": "stdout",
     "output_type": "stream",
     "text": [
      "initial_potential =  26801.188218629904\n",
      "final_potential =  26809.315127868605\n",
      "energy_change =  1.0551778100343654\n",
      "p accept =  0.34813052070270323\n",
      "current step size = 1.7564077254274616e-05\n",
      "current acceptance ratio = 0.6480582524271845\n",
      "currently working on step 413\n"
     ]
    },
    {
     "name": "stderr",
     "output_type": "stream",
     "text": [
      "100%|██████████| 97/97 [00:08<00:00, 11.94it/s]\n",
      "  0%|          | 0/97 [00:00<?, ?it/s]"
     ]
    },
    {
     "name": "stdout",
     "output_type": "stream",
     "text": [
      "initial_potential =  26801.188218629904\n",
      "final_potential =  26815.68210585389\n",
      "energy_change =  0.8524919739575125\n",
      "p accept =  0.42635115107687377\n",
      "current step size = 1.7564077254274616e-05\n",
      "current acceptance ratio = 0.648910411622276\n",
      "currently working on step 414\n"
     ]
    },
    {
     "name": "stderr",
     "output_type": "stream",
     "text": [
      "100%|██████████| 97/97 [00:08<00:00, 11.88it/s]\n",
      "  0%|          | 0/97 [00:00<?, ?it/s]"
     ]
    },
    {
     "name": "stdout",
     "output_type": "stream",
     "text": [
      "initial_potential =  26815.68210585389\n",
      "final_potential =  26790.36825214664\n",
      "energy_change =  -0.1370233305497095\n",
      "p accept =  1.1468549049636456\n",
      "current step size = 1.7564077254274616e-05\n",
      "current acceptance ratio = 0.6497584541062802\n",
      "currently working on step 415\n"
     ]
    },
    {
     "name": "stderr",
     "output_type": "stream",
     "text": [
      "100%|██████████| 97/97 [00:08<00:00, 11.92it/s]\n",
      "  0%|          | 0/98 [00:00<?, ?it/s]"
     ]
    },
    {
     "name": "stdout",
     "output_type": "stream",
     "text": [
      "initial_potential =  26790.36825214664\n",
      "final_potential =  26773.186269082187\n",
      "energy_change =  2.5654101356631145\n",
      "p accept =  0.07688764061079958\n",
      "current step size = 1.7564077254274616e-05\n",
      "current acceptance ratio = 0.6481927710843374\n",
      "currently working on step 416\n"
     ]
    },
    {
     "name": "stderr",
     "output_type": "stream",
     "text": [
      "100%|██████████| 98/98 [00:08<00:00, 12.17it/s]\n",
      "  0%|          | 0/99 [00:00<?, ?it/s]"
     ]
    },
    {
     "name": "stdout",
     "output_type": "stream",
     "text": [
      "initial_potential =  26790.36825214664\n",
      "final_potential =  26805.43999655577\n",
      "energy_change =  1.315693555472535\n",
      "p accept =  0.2682881859588449\n",
      "current step size = 1.7564077254274616e-05\n",
      "current acceptance ratio = 0.6466346153846154\n",
      "currently working on step 417\n"
     ]
    },
    {
     "name": "stderr",
     "output_type": "stream",
     "text": [
      "100%|██████████| 99/99 [00:08<00:00, 11.79it/s]\n",
      "  0%|          | 0/100 [00:00<?, ?it/s]"
     ]
    },
    {
     "name": "stdout",
     "output_type": "stream",
     "text": [
      "initial_potential =  26790.36825214664\n",
      "final_potential =  26821.717031877964\n",
      "energy_change =  -0.021112678354256786\n",
      "p accept =  1.0213371277408092\n",
      "current step size = 1.7564077254274616e-05\n",
      "current acceptance ratio = 0.6474820143884892\n",
      "currently working on step 418\n"
     ]
    },
    {
     "name": "stderr",
     "output_type": "stream",
     "text": [
      "100%|██████████| 100/100 [00:10<00:00,  9.80it/s]\n",
      "  0%|          | 0/97 [00:00<?, ?it/s]"
     ]
    },
    {
     "name": "stdout",
     "output_type": "stream",
     "text": [
      "initial_potential =  26821.717031877964\n",
      "final_potential =  26760.462420183183\n",
      "energy_change =  0.08819795388262719\n",
      "p accept =  0.91557961624342\n",
      "current step size = 1.7564077254274616e-05\n",
      "current acceptance ratio = 0.6483253588516746\n",
      "currently working on step 419\n"
     ]
    },
    {
     "name": "stderr",
     "output_type": "stream",
     "text": [
      "100%|██████████| 97/97 [00:09<00:00, 10.07it/s]\n",
      "  0%|          | 0/97 [00:00<?, ?it/s]"
     ]
    },
    {
     "name": "stdout",
     "output_type": "stream",
     "text": [
      "initial_potential =  26760.462420183183\n",
      "final_potential =  26738.66337093673\n",
      "energy_change =  0.22793121926952153\n",
      "p accept =  0.796179019726788\n",
      "current step size = 1.7564077254274616e-05\n",
      "current acceptance ratio = 0.649164677804296\n",
      "currently working on step 420\n"
     ]
    },
    {
     "name": "stderr",
     "output_type": "stream",
     "text": [
      "100%|██████████| 97/97 [00:08<00:00, 11.94it/s]\n",
      "  0%|          | 0/99 [00:00<?, ?it/s]"
     ]
    },
    {
     "name": "stdout",
     "output_type": "stream",
     "text": [
      "initial_potential =  26738.66337093673\n",
      "final_potential =  26679.092731104425\n",
      "energy_change =  1.0639351855934365\n",
      "p accept =  0.34509512145404814\n",
      "current step size = 1.7564077254274616e-05\n",
      "current acceptance ratio = 0.6476190476190476\n",
      "currently working on step 421\n"
     ]
    },
    {
     "name": "stderr",
     "output_type": "stream",
     "text": [
      "100%|██████████| 99/99 [00:08<00:00, 11.89it/s]\n",
      "  0%|          | 0/99 [00:00<?, ?it/s]"
     ]
    },
    {
     "name": "stdout",
     "output_type": "stream",
     "text": [
      "initial_potential =  26738.66337093673\n",
      "final_potential =  26764.306702409784\n",
      "energy_change =  3.4928986480808817\n",
      "p accept =  0.030412588889529874\n",
      "current step size = 1.7564077254274616e-05\n",
      "current acceptance ratio = 0.6460807600950119\n",
      "currently working on step 422\n"
     ]
    },
    {
     "name": "stderr",
     "output_type": "stream",
     "text": [
      "100%|██████████| 99/99 [00:08<00:00, 11.90it/s]\n",
      "  0%|          | 0/100 [00:00<?, ?it/s]"
     ]
    },
    {
     "name": "stdout",
     "output_type": "stream",
     "text": [
      "initial_potential =  26738.66337093673\n",
      "final_potential =  26721.08092458553\n",
      "energy_change =  -0.6391993006254779\n",
      "p accept =  1.894962976024299\n",
      "current step size = 1.7564077254274616e-05\n",
      "current acceptance ratio = 0.6469194312796208\n",
      "currently working on step 423\n"
     ]
    },
    {
     "name": "stderr",
     "output_type": "stream",
     "text": [
      "100%|██████████| 100/100 [00:08<00:00, 11.89it/s]\n",
      "  0%|          | 0/100 [00:00<?, ?it/s]"
     ]
    },
    {
     "name": "stdout",
     "output_type": "stream",
     "text": [
      "initial_potential =  26721.08092458553\n",
      "final_potential =  26734.147455444046\n",
      "energy_change =  0.005439501241198741\n",
      "p accept =  0.9945752660579643\n",
      "current step size = 1.7564077254274616e-05\n",
      "current acceptance ratio = 0.6477541371158393\n",
      "currently working on step 424\n"
     ]
    },
    {
     "name": "stderr",
     "output_type": "stream",
     "text": [
      "100%|██████████| 100/100 [00:08<00:00, 11.87it/s]\n",
      "  0%|          | 0/97 [00:00<?, ?it/s]"
     ]
    },
    {
     "name": "stdout",
     "output_type": "stream",
     "text": [
      "initial_potential =  26734.147455444046\n",
      "final_potential =  26690.20466718403\n",
      "energy_change =  -0.15238612906250637\n",
      "p accept =  1.1646098393295996\n",
      "current step size = 1.7564077254274616e-05\n",
      "current acceptance ratio = 0.6485849056603774\n",
      "currently working on step 425\n"
     ]
    },
    {
     "name": "stderr",
     "output_type": "stream",
     "text": [
      "100%|██████████| 97/97 [00:08<00:00, 11.97it/s]\n",
      "  0%|          | 0/101 [00:00<?, ?it/s]"
     ]
    },
    {
     "name": "stdout",
     "output_type": "stream",
     "text": [
      "initial_potential =  26690.20466718403\n",
      "final_potential =  26687.962960501536\n",
      "energy_change =  -0.14410878755734302\n",
      "p accept =  1.1550097523802145\n",
      "current step size = 1.7564077254274616e-05\n",
      "current acceptance ratio = 0.6494117647058824\n",
      "currently working on step 426\n"
     ]
    },
    {
     "name": "stderr",
     "output_type": "stream",
     "text": [
      "100%|██████████| 101/101 [00:08<00:00, 12.00it/s]\n",
      "  0%|          | 0/98 [00:00<?, ?it/s]"
     ]
    },
    {
     "name": "stdout",
     "output_type": "stream",
     "text": [
      "initial_potential =  26687.962960501536\n",
      "final_potential =  26638.63798414383\n",
      "energy_change =  0.050442362000467256\n",
      "p accept =  0.9508087298061222\n",
      "current step size = 1.7564077254274616e-05\n",
      "current acceptance ratio = 0.647887323943662\n",
      "currently working on step 427\n"
     ]
    },
    {
     "name": "stderr",
     "output_type": "stream",
     "text": [
      "100%|██████████| 98/98 [00:08<00:00, 11.94it/s]\n",
      "  0%|          | 0/101 [00:00<?, ?it/s]"
     ]
    },
    {
     "name": "stdout",
     "output_type": "stream",
     "text": [
      "initial_potential =  26687.962960501536\n",
      "final_potential =  26725.333613338775\n",
      "energy_change =  1.4202818529884098\n",
      "p accept =  0.24164589867914607\n",
      "current step size = 1.7564077254274616e-05\n",
      "current acceptance ratio = 0.6463700234192038\n",
      "currently working on step 428\n"
     ]
    },
    {
     "name": "stderr",
     "output_type": "stream",
     "text": [
      "100%|██████████| 101/101 [00:08<00:00, 11.83it/s]\n",
      "  0%|          | 0/100 [00:00<?, ?it/s]"
     ]
    },
    {
     "name": "stdout",
     "output_type": "stream",
     "text": [
      "initial_potential =  26687.962960501536\n",
      "final_potential =  26685.261235132937\n",
      "energy_change =  1.301968135361676\n",
      "p accept =  0.27199594106253927\n",
      "current step size = 1.7564077254274616e-05\n",
      "current acceptance ratio = 0.6448598130841121\n",
      "currently working on step 429\n"
     ]
    },
    {
     "name": "stderr",
     "output_type": "stream",
     "text": [
      "100%|██████████| 100/100 [00:08<00:00, 11.94it/s]\n",
      "  0%|          | 0/100 [00:00<?, ?it/s]"
     ]
    },
    {
     "name": "stdout",
     "output_type": "stream",
     "text": [
      "initial_potential =  26687.962960501536\n",
      "final_potential =  26687.147314570542\n",
      "energy_change =  0.599814697925467\n",
      "p accept =  0.5489133414515384\n",
      "current step size = 1.7564077254274616e-05\n",
      "current acceptance ratio = 0.6433566433566433\n",
      "currently working on step 430\n"
     ]
    },
    {
     "name": "stderr",
     "output_type": "stream",
     "text": [
      "100%|██████████| 100/100 [00:08<00:00, 11.86it/s]\n",
      "  0%|          | 0/99 [00:00<?, ?it/s]"
     ]
    },
    {
     "name": "stdout",
     "output_type": "stream",
     "text": [
      "initial_potential =  26687.962960501536\n",
      "final_potential =  26646.30615151699\n",
      "energy_change =  2.368631898847525\n",
      "p accept =  0.09360870489129634\n",
      "current step size = 1.7564077254274616e-05\n",
      "current acceptance ratio = 0.641860465116279\n",
      "currently working on step 431\n"
     ]
    },
    {
     "name": "stderr",
     "output_type": "stream",
     "text": [
      "100%|██████████| 99/99 [00:08<00:00, 11.92it/s]\n",
      "  0%|          | 0/99 [00:00<?, ?it/s]"
     ]
    },
    {
     "name": "stdout",
     "output_type": "stream",
     "text": [
      "initial_potential =  26687.962960501536\n",
      "final_potential =  26708.277178929522\n",
      "energy_change =  0.44320526205410715\n",
      "p accept =  0.6419754203693804\n",
      "current step size = 1.7564077254274616e-05\n",
      "current acceptance ratio = 0.6403712296983759\n",
      "currently working on step 432\n"
     ]
    },
    {
     "name": "stderr",
     "output_type": "stream",
     "text": [
      "100%|██████████| 99/99 [00:10<00:00,  9.37it/s]\n",
      "  0%|          | 0/101 [00:00<?, ?it/s]"
     ]
    },
    {
     "name": "stdout",
     "output_type": "stream",
     "text": [
      "initial_potential =  26687.962960501536\n",
      "final_potential =  26683.991409052822\n",
      "energy_change =  -0.008138464341755025\n",
      "p accept =  1.0081716716670908\n",
      "current step size = 1.7564077254274616e-05\n",
      "current acceptance ratio = 0.6412037037037037\n",
      "currently working on step 433\n"
     ]
    },
    {
     "name": "stderr",
     "output_type": "stream",
     "text": [
      "100%|██████████| 101/101 [00:11<00:00,  8.60it/s]\n",
      "  0%|          | 0/97 [00:00<?, ?it/s]"
     ]
    },
    {
     "name": "stdout",
     "output_type": "stream",
     "text": [
      "initial_potential =  26683.991409052822\n",
      "final_potential =  26646.168587394284\n",
      "energy_change =  0.2559478480688995\n",
      "p accept =  0.7741823428436501\n",
      "current step size = 1.7564077254274616e-05\n",
      "current acceptance ratio = 0.6420323325635104\n",
      "currently working on step 434\n"
     ]
    },
    {
     "name": "stderr",
     "output_type": "stream",
     "text": [
      "100%|██████████| 97/97 [00:09<00:00, 10.67it/s]\n",
      "  0%|          | 0/99 [00:00<?, ?it/s]"
     ]
    },
    {
     "name": "stdout",
     "output_type": "stream",
     "text": [
      "initial_potential =  26646.168587394284\n",
      "final_potential =  26614.112081600077\n",
      "energy_change =  2.111314841778949\n",
      "p accept =  0.12107866244264205\n",
      "current step size = 1.7564077254274616e-05\n",
      "current acceptance ratio = 0.6405529953917051\n",
      "currently working on step 435\n"
     ]
    },
    {
     "name": "stderr",
     "output_type": "stream",
     "text": [
      "100%|██████████| 99/99 [00:08<00:00, 11.94it/s]\n",
      "  0%|          | 0/97 [00:00<?, ?it/s]"
     ]
    },
    {
     "name": "stdout",
     "output_type": "stream",
     "text": [
      "initial_potential =  26646.168587394284\n",
      "final_potential =  26629.403948248964\n",
      "energy_change =  -0.006571653197170235\n",
      "p accept =  1.006593293889111\n",
      "current step size = 1.7564077254274616e-05\n",
      "current acceptance ratio = 0.6413793103448275\n",
      "currently working on step 436\n"
     ]
    },
    {
     "name": "stderr",
     "output_type": "stream",
     "text": [
      "100%|██████████| 97/97 [00:08<00:00, 11.28it/s]\n",
      "  0%|          | 0/100 [00:00<?, ?it/s]"
     ]
    },
    {
     "name": "stdout",
     "output_type": "stream",
     "text": [
      "initial_potential =  26629.403948248964\n",
      "final_potential =  26650.44345651804\n",
      "energy_change =  0.08138484120718203\n",
      "p accept =  0.9218388615920905\n",
      "current step size = 1.7564077254274616e-05\n",
      "current acceptance ratio = 0.6422018348623854\n",
      "currently working on step 437\n"
     ]
    },
    {
     "name": "stderr",
     "output_type": "stream",
     "text": [
      "100%|██████████| 100/100 [00:09<00:00, 10.19it/s]\n",
      "  0%|          | 0/101 [00:00<?, ?it/s]"
     ]
    },
    {
     "name": "stdout",
     "output_type": "stream",
     "text": [
      "initial_potential =  26650.44345651804\n",
      "final_potential =  26656.271296624378\n",
      "energy_change =  -0.03061608121788595\n",
      "p accept =  1.031089573235572\n",
      "current step size = 1.7564077254274616e-05\n",
      "current acceptance ratio = 0.6430205949656751\n",
      "currently working on step 438\n"
     ]
    },
    {
     "name": "stderr",
     "output_type": "stream",
     "text": [
      "100%|██████████| 101/101 [00:11<00:00,  8.75it/s]\n",
      "  0%|          | 0/100 [00:00<?, ?it/s]"
     ]
    },
    {
     "name": "stdout",
     "output_type": "stream",
     "text": [
      "initial_potential =  26656.271296624378\n",
      "final_potential =  26651.476472040828\n",
      "energy_change =  0.25185821134073194\n",
      "p accept =  0.7773549503715228\n",
      "current step size = 1.7564077254274616e-05\n",
      "current acceptance ratio = 0.6438356164383562\n",
      "currently working on step 439\n"
     ]
    },
    {
     "name": "stderr",
     "output_type": "stream",
     "text": [
      "100%|██████████| 100/100 [00:09<00:00, 10.42it/s]\n",
      "  0%|          | 0/101 [00:00<?, ?it/s]"
     ]
    },
    {
     "name": "stdout",
     "output_type": "stream",
     "text": [
      "initial_potential =  26651.476472040828\n",
      "final_potential =  26675.701134381557\n",
      "energy_change =  1.0944283644057577\n",
      "p accept =  0.33473089636433373\n",
      "current step size = 1.7564077254274616e-05\n",
      "current acceptance ratio = 0.642369020501139\n",
      "currently working on step 440\n"
     ]
    },
    {
     "name": "stderr",
     "output_type": "stream",
     "text": [
      "100%|██████████| 101/101 [00:09<00:00, 10.81it/s]\n",
      "  0%|          | 0/100 [00:00<?, ?it/s]"
     ]
    },
    {
     "name": "stdout",
     "output_type": "stream",
     "text": [
      "initial_potential =  26651.476472040828\n",
      "final_potential =  26597.835290582592\n",
      "energy_change =  -0.41861358856840525\n",
      "p accept =  1.5198529527527873\n",
      "current step size = 1.7564077254274616e-05\n",
      "current acceptance ratio = 0.6431818181818182\n",
      "currently working on step 441\n"
     ]
    },
    {
     "name": "stderr",
     "output_type": "stream",
     "text": [
      "100%|██████████| 100/100 [00:08<00:00, 11.33it/s]\n",
      "  0%|          | 0/99 [00:00<?, ?it/s]"
     ]
    },
    {
     "name": "stdout",
     "output_type": "stream",
     "text": [
      "initial_potential =  26597.835290582592\n",
      "final_potential =  26561.952959702594\n",
      "energy_change =  1.0851388515584404\n",
      "p accept =  0.33785487096232286\n",
      "current step size = 1.7564077254274616e-05\n",
      "current acceptance ratio = 0.6417233560090703\n",
      "currently working on step 442\n"
     ]
    },
    {
     "name": "stderr",
     "output_type": "stream",
     "text": [
      "100%|██████████| 99/99 [00:08<00:00, 11.00it/s]\n",
      "  0%|          | 0/100 [00:00<?, ?it/s]"
     ]
    },
    {
     "name": "stdout",
     "output_type": "stream",
     "text": [
      "initial_potential =  26597.835290582592\n",
      "final_potential =  26633.13235823111\n",
      "energy_change =  0.4876970567565877\n",
      "p accept =  0.6140388637940529\n",
      "current step size = 1.7564077254274616e-05\n",
      "current acceptance ratio = 0.6402714932126696\n",
      "currently working on step 443\n"
     ]
    },
    {
     "name": "stderr",
     "output_type": "stream",
     "text": [
      "100%|██████████| 100/100 [00:10<00:00,  9.95it/s]\n",
      "  0%|          | 0/99 [00:00<?, ?it/s]"
     ]
    },
    {
     "name": "stdout",
     "output_type": "stream",
     "text": [
      "initial_potential =  26597.835290582592\n",
      "final_potential =  26613.484911635678\n",
      "energy_change =  0.45907311855989974\n",
      "p accept =  0.6318690418559807\n",
      "current step size = 1.7564077254274616e-05\n",
      "current acceptance ratio = 0.6410835214446953\n",
      "currently working on step 444\n"
     ]
    },
    {
     "name": "stderr",
     "output_type": "stream",
     "text": [
      "100%|██████████| 99/99 [00:11<00:00,  8.98it/s]\n",
      "  0%|          | 0/98 [00:00<?, ?it/s]"
     ]
    },
    {
     "name": "stdout",
     "output_type": "stream",
     "text": [
      "initial_potential =  26613.484911635678\n",
      "final_potential =  26675.433558445922\n",
      "energy_change =  0.9283681477681966\n",
      "p accept =  0.3951980893470767\n",
      "current step size = 1.7564077254274616e-05\n",
      "current acceptance ratio = 0.6418918918918919\n",
      "currently working on step 445\n"
     ]
    },
    {
     "name": "stderr",
     "output_type": "stream",
     "text": [
      "100%|██████████| 98/98 [00:08<00:00, 12.05it/s]\n",
      "  0%|          | 0/100 [00:00<?, ?it/s]"
     ]
    },
    {
     "name": "stdout",
     "output_type": "stream",
     "text": [
      "initial_potential =  26675.433558445922\n",
      "final_potential =  26618.422424067463\n",
      "energy_change =  -1.4392566514725331\n",
      "p accept =  4.217559534795898\n",
      "current step size = 1.7564077254274616e-05\n",
      "current acceptance ratio = 0.6426966292134831\n",
      "currently working on step 446\n"
     ]
    },
    {
     "name": "stderr",
     "output_type": "stream",
     "text": [
      "100%|██████████| 100/100 [00:08<00:00, 11.92it/s]\n",
      "  0%|          | 0/100 [00:00<?, ?it/s]"
     ]
    },
    {
     "name": "stdout",
     "output_type": "stream",
     "text": [
      "initial_potential =  26618.422424067463\n",
      "final_potential =  26649.64658833039\n",
      "energy_change =  -0.1910169229377061\n",
      "p accept =  1.2104799367845331\n",
      "current step size = 1.7564077254274616e-05\n",
      "current acceptance ratio = 0.6434977578475336\n",
      "currently working on step 447\n"
     ]
    },
    {
     "name": "stderr",
     "output_type": "stream",
     "text": [
      "100%|██████████| 100/100 [00:08<00:00, 11.88it/s]\n",
      "  0%|          | 0/100 [00:00<?, ?it/s]"
     ]
    },
    {
     "name": "stdout",
     "output_type": "stream",
     "text": [
      "initial_potential =  26649.64658833039\n",
      "final_potential =  26668.67687058702\n",
      "energy_change =  0.05406696457066573\n",
      "p accept =  0.947368664241767\n",
      "current step size = 1.7564077254274616e-05\n",
      "current acceptance ratio = 0.6442953020134228\n",
      "currently working on step 448\n"
     ]
    },
    {
     "name": "stderr",
     "output_type": "stream",
     "text": [
      "100%|██████████| 100/100 [00:08<00:00, 11.96it/s]\n",
      "  0%|          | 0/98 [00:00<?, ?it/s]"
     ]
    },
    {
     "name": "stdout",
     "output_type": "stream",
     "text": [
      "initial_potential =  26668.67687058702\n",
      "final_potential =  26688.87777065176\n",
      "energy_change =  0.17125583581218962\n",
      "p accept =  0.842605977109651\n",
      "current step size = 1.7564077254274616e-05\n",
      "current acceptance ratio = 0.6428571428571429\n",
      "currently working on step 449\n"
     ]
    },
    {
     "name": "stderr",
     "output_type": "stream",
     "text": [
      "100%|██████████| 98/98 [00:08<00:00, 12.00it/s]\n",
      "  0%|          | 0/100 [00:00<?, ?it/s]"
     ]
    },
    {
     "name": "stdout",
     "output_type": "stream",
     "text": [
      "initial_potential =  26668.67687058702\n",
      "final_potential =  26610.904922207577\n",
      "energy_change =  0.0158476869110018\n",
      "p accept =  0.9842772269434711\n",
      "current step size = 1.7564077254274616e-05\n",
      "current acceptance ratio = 0.643652561247216\n",
      "currently working on step 450\n"
     ]
    },
    {
     "name": "stderr",
     "output_type": "stream",
     "text": [
      "100%|██████████| 100/100 [00:08<00:00, 11.82it/s]\n",
      "  0%|          | 0/100 [00:00<?, ?it/s]"
     ]
    },
    {
     "name": "stdout",
     "output_type": "stream",
     "text": [
      "initial_potential =  26610.904922207577\n",
      "final_potential =  26619.413034585865\n",
      "energy_change =  0.20461868631537072\n",
      "p accept =  0.8149580118137485\n",
      "current step size = 1.7564077254274616e-05\n",
      "current acceptance ratio = 0.6444444444444445\n",
      "currently working on step 451\n"
     ]
    },
    {
     "name": "stderr",
     "output_type": "stream",
     "text": [
      "100%|██████████| 100/100 [00:08<00:00, 11.98it/s]\n",
      "  0%|          | 0/100 [00:00<?, ?it/s]"
     ]
    },
    {
     "name": "stdout",
     "output_type": "stream",
     "text": [
      "initial_potential =  26619.413034585865\n",
      "final_potential =  26682.79362702824\n",
      "energy_change =  -0.06855214573442936\n",
      "p accept =  1.070956469306578\n",
      "current step size = 1.7564077254274616e-05\n",
      "current acceptance ratio = 0.6452328159645233\n",
      "currently working on step 452\n"
     ]
    },
    {
     "name": "stderr",
     "output_type": "stream",
     "text": [
      "100%|██████████| 100/100 [00:08<00:00, 11.98it/s]\n",
      "  0%|          | 0/97 [00:00<?, ?it/s]"
     ]
    },
    {
     "name": "stdout",
     "output_type": "stream",
     "text": [
      "initial_potential =  26682.79362702824\n",
      "final_potential =  26722.058013420745\n",
      "energy_change =  0.44474988017464057\n",
      "p accept =  0.6409845789349573\n",
      "current step size = 1.7564077254274616e-05\n",
      "current acceptance ratio = 0.6460176991150443\n",
      "currently working on step 453\n"
     ]
    },
    {
     "name": "stderr",
     "output_type": "stream",
     "text": [
      "100%|██████████| 97/97 [00:08<00:00, 12.02it/s]\n",
      "  0%|          | 0/100 [00:00<?, ?it/s]"
     ]
    },
    {
     "name": "stdout",
     "output_type": "stream",
     "text": [
      "initial_potential =  26722.058013420745\n",
      "final_potential =  26749.43808430909\n",
      "energy_change =  0.3681867053528549\n",
      "p accept =  0.6919879717685735\n",
      "current step size = 1.7564077254274616e-05\n",
      "current acceptance ratio = 0.6467991169977925\n",
      "currently working on step 454\n"
     ]
    },
    {
     "name": "stderr",
     "output_type": "stream",
     "text": [
      "100%|██████████| 100/100 [00:08<00:00, 11.92it/s]\n",
      "  0%|          | 0/99 [00:00<?, ?it/s]"
     ]
    },
    {
     "name": "stdout",
     "output_type": "stream",
     "text": [
      "initial_potential =  26749.43808430909\n",
      "final_potential =  26720.83653408326\n",
      "energy_change =  -0.8518298680719454\n",
      "p accept =  2.343932016447118\n",
      "current step size = 1.7564077254274616e-05\n",
      "current acceptance ratio = 0.6475770925110133\n",
      "currently working on step 455\n"
     ]
    },
    {
     "name": "stderr",
     "output_type": "stream",
     "text": [
      "100%|██████████| 99/99 [00:08<00:00, 11.88it/s]\n",
      "  0%|          | 0/100 [00:00<?, ?it/s]"
     ]
    },
    {
     "name": "stdout",
     "output_type": "stream",
     "text": [
      "initial_potential =  26720.83653408326\n",
      "final_potential =  26665.849278512764\n",
      "energy_change =  0.05159765193820931\n",
      "p accept =  0.9497109043233318\n",
      "current step size = 1.7564077254274616e-05\n",
      "current acceptance ratio = 0.6483516483516484\n",
      "currently working on step 456\n"
     ]
    },
    {
     "name": "stderr",
     "output_type": "stream",
     "text": [
      "100%|██████████| 100/100 [00:08<00:00, 11.84it/s]\n",
      "  0%|          | 0/97 [00:00<?, ?it/s]"
     ]
    },
    {
     "name": "stdout",
     "output_type": "stream",
     "text": [
      "initial_potential =  26665.849278512764\n",
      "final_potential =  26580.18823252177\n",
      "energy_change =  1.6243409809976583\n",
      "p accept =  0.1970414865092968\n",
      "current step size = 1.7564077254274616e-05\n",
      "current acceptance ratio = 0.6469298245614035\n",
      "currently working on step 457\n"
     ]
    },
    {
     "name": "stderr",
     "output_type": "stream",
     "text": [
      "100%|██████████| 97/97 [00:08<00:00, 11.70it/s]\n",
      "  0%|          | 0/98 [00:00<?, ?it/s]"
     ]
    },
    {
     "name": "stdout",
     "output_type": "stream",
     "text": [
      "initial_potential =  26665.849278512764\n",
      "final_potential =  26644.304589703985\n",
      "energy_change =  0.08923893635801505\n",
      "p accept =  0.9146270098174099\n",
      "current step size = 1.7564077254274616e-05\n",
      "current acceptance ratio = 0.6477024070021882\n",
      "currently working on step 458\n"
     ]
    },
    {
     "name": "stderr",
     "output_type": "stream",
     "text": [
      "100%|██████████| 98/98 [00:09<00:00, 10.30it/s]\n",
      "  0%|          | 0/98 [00:00<?, ?it/s]"
     ]
    },
    {
     "name": "stdout",
     "output_type": "stream",
     "text": [
      "initial_potential =  26644.304589703985\n",
      "final_potential =  26600.122519864442\n",
      "energy_change =  -0.00745711188938003\n",
      "p accept =  1.0074849853904404\n",
      "current step size = 1.7564077254274616e-05\n",
      "current acceptance ratio = 0.648471615720524\n",
      "currently working on step 459\n"
     ]
    },
    {
     "name": "stderr",
     "output_type": "stream",
     "text": [
      "100%|██████████| 98/98 [00:08<00:00, 11.42it/s]\n",
      "  0%|          | 0/99 [00:00<?, ?it/s]"
     ]
    },
    {
     "name": "stdout",
     "output_type": "stream",
     "text": [
      "initial_potential =  26600.122519864442\n",
      "final_potential =  26620.484264032566\n",
      "energy_change =  -0.15646130821551196\n",
      "p accept =  1.1693655166051737\n",
      "current step size = 1.7564077254274616e-05\n",
      "current acceptance ratio = 0.6492374727668845\n",
      "currently working on step 460\n"
     ]
    },
    {
     "name": "stderr",
     "output_type": "stream",
     "text": [
      "100%|██████████| 99/99 [00:08<00:00, 11.87it/s]\n",
      "  0%|          | 0/99 [00:00<?, ?it/s]"
     ]
    },
    {
     "name": "stdout",
     "output_type": "stream",
     "text": [
      "initial_potential =  26620.484264032566\n",
      "final_potential =  26603.32900778933\n",
      "energy_change =  3.59541069433908\n",
      "p accept =  0.027449407544465957\n",
      "current step size = 1.7564077254274616e-05\n",
      "current acceptance ratio = 0.6478260869565218\n",
      "currently working on step 461\n"
     ]
    },
    {
     "name": "stderr",
     "output_type": "stream",
     "text": [
      "100%|██████████| 99/99 [00:08<00:00, 11.90it/s]\n",
      "  0%|          | 0/101 [00:00<?, ?it/s]"
     ]
    },
    {
     "name": "stdout",
     "output_type": "stream",
     "text": [
      "initial_potential =  26620.484264032566\n",
      "final_potential =  26650.75754134641\n",
      "energy_change =  -0.13181619299575686\n",
      "p accept =  1.1408985948405534\n",
      "current step size = 1.7564077254274616e-05\n",
      "current acceptance ratio = 0.648590021691974\n",
      "currently working on step 462\n"
     ]
    },
    {
     "name": "stderr",
     "output_type": "stream",
     "text": [
      "100%|██████████| 101/101 [00:08<00:00, 11.90it/s]\n",
      "  0%|          | 0/100 [00:00<?, ?it/s]"
     ]
    },
    {
     "name": "stdout",
     "output_type": "stream",
     "text": [
      "initial_potential =  26650.75754134641\n",
      "final_potential =  26674.201754624264\n",
      "energy_change =  1.3961627291428158\n",
      "p accept =  0.24754504113596223\n",
      "current step size = 1.7564077254274616e-05\n",
      "current acceptance ratio = 0.6471861471861472\n",
      "currently working on step 463\n"
     ]
    },
    {
     "name": "stderr",
     "output_type": "stream",
     "text": [
      "100%|██████████| 100/100 [00:08<00:00, 11.95it/s]\n",
      "  0%|          | 0/99 [00:00<?, ?it/s]"
     ]
    },
    {
     "name": "stdout",
     "output_type": "stream",
     "text": [
      "initial_potential =  26650.75754134641\n",
      "final_potential =  26685.88597802133\n",
      "energy_change =  0.20448174912598915\n",
      "p accept =  0.8150696175146613\n",
      "current step size = 1.7564077254274616e-05\n",
      "current acceptance ratio = 0.6479481641468683\n",
      "currently working on step 464\n"
     ]
    },
    {
     "name": "stderr",
     "output_type": "stream",
     "text": [
      "100%|██████████| 99/99 [00:08<00:00, 12.01it/s]\n",
      "  0%|          | 0/97 [00:00<?, ?it/s]"
     ]
    },
    {
     "name": "stdout",
     "output_type": "stream",
     "text": [
      "initial_potential =  26685.88597802133\n",
      "final_potential =  26632.972100535015\n",
      "energy_change =  5.25047971024469\n",
      "p accept =  0.005245001714534063\n",
      "current step size = 1.7564077254274616e-05\n",
      "current acceptance ratio = 0.646551724137931\n",
      "currently working on step 465\n"
     ]
    },
    {
     "name": "stderr",
     "output_type": "stream",
     "text": [
      "100%|██████████| 97/97 [00:08<00:00, 11.97it/s]\n",
      "  0%|          | 0/100 [00:00<?, ?it/s]"
     ]
    },
    {
     "name": "stdout",
     "output_type": "stream",
     "text": [
      "initial_potential =  26685.88597802133\n",
      "final_potential =  26665.763789455887\n",
      "energy_change =  0.3776531267358223\n",
      "p accept =  0.6854682300349478\n",
      "current step size = 1.7564077254274616e-05\n",
      "current acceptance ratio = 0.6451612903225806\n",
      "currently working on step 466\n"
     ]
    },
    {
     "name": "stderr",
     "output_type": "stream",
     "text": [
      "100%|██████████| 100/100 [00:08<00:00, 11.96it/s]\n",
      "  0%|          | 0/97 [00:00<?, ?it/s]"
     ]
    },
    {
     "name": "stdout",
     "output_type": "stream",
     "text": [
      "initial_potential =  26685.88597802133\n",
      "final_potential =  26681.387096369966\n",
      "energy_change =  0.17369719812995754\n",
      "p accept =  0.8405513796573014\n",
      "current step size = 1.7564077254274616e-05\n",
      "current acceptance ratio = 0.6459227467811158\n",
      "currently working on step 467\n"
     ]
    },
    {
     "name": "stderr",
     "output_type": "stream",
     "text": [
      "100%|██████████| 97/97 [00:08<00:00, 12.01it/s]\n",
      "  0%|          | 0/97 [00:00<?, ?it/s]"
     ]
    },
    {
     "name": "stdout",
     "output_type": "stream",
     "text": [
      "initial_potential =  26681.387096369966\n",
      "final_potential =  26695.466223730968\n",
      "energy_change =  -0.11622271977830678\n",
      "p accept =  1.1232460133796032\n",
      "current step size = 1.7564077254274616e-05\n",
      "current acceptance ratio = 0.6466809421841542\n",
      "currently working on step 468\n"
     ]
    },
    {
     "name": "stderr",
     "output_type": "stream",
     "text": [
      "100%|██████████| 97/97 [00:08<00:00, 11.90it/s]\n",
      "  0%|          | 0/99 [00:00<?, ?it/s]"
     ]
    },
    {
     "name": "stdout",
     "output_type": "stream",
     "text": [
      "initial_potential =  26695.466223730968\n",
      "final_potential =  26605.94512204415\n",
      "energy_change =  4.55562572668714\n",
      "p accept =  0.010507923086678148\n",
      "current step size = 1.7564077254274616e-05\n",
      "current acceptance ratio = 0.6452991452991453\n",
      "currently working on step 469\n"
     ]
    },
    {
     "name": "stderr",
     "output_type": "stream",
     "text": [
      "100%|██████████| 99/99 [00:08<00:00, 11.92it/s]\n",
      "  0%|          | 0/98 [00:00<?, ?it/s]"
     ]
    },
    {
     "name": "stdout",
     "output_type": "stream",
     "text": [
      "initial_potential =  26695.466223730968\n",
      "final_potential =  26646.07488801377\n",
      "energy_change =  0.878154848513077\n",
      "p accept =  0.41554895550393145\n",
      "current step size = 1.7564077254274616e-05\n",
      "current acceptance ratio = 0.6439232409381663\n",
      "currently working on step 470\n"
     ]
    },
    {
     "name": "stderr",
     "output_type": "stream",
     "text": [
      "100%|██████████| 98/98 [00:08<00:00, 11.88it/s]\n",
      "  0%|          | 0/97 [00:00<?, ?it/s]"
     ]
    },
    {
     "name": "stdout",
     "output_type": "stream",
     "text": [
      "initial_potential =  26695.466223730968\n",
      "final_potential =  26671.184309088036\n",
      "energy_change =  0.06805385957704857\n",
      "p accept =  0.9342101560583058\n",
      "current step size = 1.7564077254274616e-05\n",
      "current acceptance ratio = 0.6446808510638298\n",
      "currently working on step 471\n"
     ]
    },
    {
     "name": "stderr",
     "output_type": "stream",
     "text": [
      "100%|██████████| 97/97 [00:08<00:00, 11.96it/s]\n",
      "  0%|          | 0/101 [00:00<?, ?it/s]"
     ]
    },
    {
     "name": "stdout",
     "output_type": "stream",
     "text": [
      "initial_potential =  26671.184309088036\n",
      "final_potential =  26675.62451977037\n",
      "energy_change =  -0.5050287727935938\n",
      "p accept =  1.6570331972491128\n",
      "current step size = 1.7564077254274616e-05\n",
      "current acceptance ratio = 0.6454352441613588\n",
      "currently working on step 472\n"
     ]
    },
    {
     "name": "stderr",
     "output_type": "stream",
     "text": [
      "100%|██████████| 101/101 [00:08<00:00, 11.93it/s]\n",
      "  0%|          | 0/100 [00:00<?, ?it/s]"
     ]
    },
    {
     "name": "stdout",
     "output_type": "stream",
     "text": [
      "initial_potential =  26675.62451977037\n",
      "final_potential =  26733.95351070781\n",
      "energy_change =  0.14995155595534015\n",
      "p accept =  0.8607496736106889\n",
      "current step size = 1.7564077254274616e-05\n",
      "current acceptance ratio = 0.6461864406779662\n",
      "currently working on step 473\n"
     ]
    },
    {
     "name": "stderr",
     "output_type": "stream",
     "text": [
      "100%|██████████| 100/100 [00:08<00:00, 11.96it/s]\n",
      "  0%|          | 0/97 [00:00<?, ?it/s]"
     ]
    },
    {
     "name": "stdout",
     "output_type": "stream",
     "text": [
      "initial_potential =  26733.95351070781\n",
      "final_potential =  26715.92242131903\n",
      "energy_change =  0.1603277209069347\n",
      "p accept =  0.8518645693863985\n",
      "current step size = 1.7564077254274616e-05\n",
      "current acceptance ratio = 0.6448202959830867\n",
      "currently working on step 474\n"
     ]
    },
    {
     "name": "stderr",
     "output_type": "stream",
     "text": [
      "100%|██████████| 97/97 [00:08<00:00, 11.91it/s]\n",
      "  0%|          | 0/100 [00:00<?, ?it/s]"
     ]
    },
    {
     "name": "stdout",
     "output_type": "stream",
     "text": [
      "initial_potential =  26733.95351070781\n",
      "final_potential =  26719.51616109012\n",
      "energy_change =  8.147851403744426\n",
      "p accept =  0.0002893564022867991\n",
      "current step size = 1.7564077254274616e-05\n",
      "current acceptance ratio = 0.6434599156118144\n",
      "currently working on step 475\n"
     ]
    },
    {
     "name": "stderr",
     "output_type": "stream",
     "text": [
      "100%|██████████| 100/100 [00:08<00:00, 11.91it/s]\n",
      "  0%|          | 0/101 [00:00<?, ?it/s]"
     ]
    },
    {
     "name": "stdout",
     "output_type": "stream",
     "text": [
      "initial_potential =  26733.95351070781\n",
      "final_potential =  26735.49849209141\n",
      "energy_change =  0.27191557429614477\n",
      "p accept =  0.7619185838872756\n",
      "current step size = 1.7564077254274616e-05\n",
      "current acceptance ratio = 0.6442105263157895\n",
      "currently working on step 476\n"
     ]
    },
    {
     "name": "stderr",
     "output_type": "stream",
     "text": [
      "100%|██████████| 101/101 [00:08<00:00, 11.85it/s]\n",
      "  0%|          | 0/98 [00:00<?, ?it/s]"
     ]
    },
    {
     "name": "stdout",
     "output_type": "stream",
     "text": [
      "initial_potential =  26735.49849209141\n",
      "final_potential =  26750.65897028722\n",
      "energy_change =  -0.13890068912587594\n",
      "p accept =  1.1490099851512734\n",
      "current step size = 1.7564077254274616e-05\n",
      "current acceptance ratio = 0.6449579831932774\n",
      "currently working on step 477\n"
     ]
    },
    {
     "name": "stderr",
     "output_type": "stream",
     "text": [
      "100%|██████████| 98/98 [00:08<00:00, 11.82it/s]\n",
      "  0%|          | 0/97 [00:00<?, ?it/s]"
     ]
    },
    {
     "name": "stdout",
     "output_type": "stream",
     "text": [
      "initial_potential =  26750.65897028722\n",
      "final_potential =  26734.40131577209\n",
      "energy_change =  0.8423215126531431\n",
      "p accept =  0.43070946442161423\n",
      "current step size = 1.7564077254274616e-05\n",
      "current acceptance ratio = 0.6436058700209644\n",
      "currently working on step 478\n"
     ]
    },
    {
     "name": "stderr",
     "output_type": "stream",
     "text": [
      "100%|██████████| 97/97 [00:08<00:00, 11.89it/s]\n",
      "  0%|          | 0/101 [00:00<?, ?it/s]"
     ]
    },
    {
     "name": "stdout",
     "output_type": "stream",
     "text": [
      "initial_potential =  26750.65897028722\n",
      "final_potential =  26690.233580649056\n",
      "energy_change =  0.4488743151741801\n",
      "p accept =  0.6383463240986623\n",
      "current step size = 1.7564077254274616e-05\n",
      "current acceptance ratio = 0.6422594142259415\n",
      "currently working on step 479\n"
     ]
    },
    {
     "name": "stderr",
     "output_type": "stream",
     "text": [
      "100%|██████████| 101/101 [00:08<00:00, 11.83it/s]\n",
      "  0%|          | 0/97 [00:00<?, ?it/s]"
     ]
    },
    {
     "name": "stdout",
     "output_type": "stream",
     "text": [
      "initial_potential =  26750.65897028722\n",
      "final_potential =  26669.047017000135\n",
      "energy_change =  0.12061655010620598\n",
      "p accept =  0.8863737743673853\n",
      "current step size = 1.7564077254274616e-05\n",
      "current acceptance ratio = 0.6430062630480167\n",
      "currently working on step 480\n"
     ]
    },
    {
     "name": "stderr",
     "output_type": "stream",
     "text": [
      "100%|██████████| 97/97 [00:08<00:00, 11.97it/s]\n",
      "  0%|          | 0/98 [00:00<?, ?it/s]"
     ]
    },
    {
     "name": "stdout",
     "output_type": "stream",
     "text": [
      "initial_potential =  26669.047017000135\n",
      "final_potential =  26653.31467365056\n",
      "energy_change =  1.8108695365663152\n",
      "p accept =  0.1635118953975392\n",
      "current step size = 1.7564077254274616e-05\n",
      "current acceptance ratio = 0.6416666666666667\n",
      "currently working on step 481\n"
     ]
    },
    {
     "name": "stderr",
     "output_type": "stream",
     "text": [
      "100%|██████████| 98/98 [00:08<00:00, 11.90it/s]\n",
      "  0%|          | 0/97 [00:00<?, ?it/s]"
     ]
    },
    {
     "name": "stdout",
     "output_type": "stream",
     "text": [
      "initial_potential =  26669.047017000135\n",
      "final_potential =  26635.249501249014\n",
      "energy_change =  3.137407870570314\n",
      "p accept =  0.0433951380534107\n",
      "current step size = 1.7564077254274616e-05\n",
      "current acceptance ratio = 0.6403326403326404\n",
      "currently working on step 482\n"
     ]
    },
    {
     "name": "stderr",
     "output_type": "stream",
     "text": [
      "100%|██████████| 97/97 [00:08<00:00, 11.85it/s]\n",
      "  0%|          | 0/100 [00:00<?, ?it/s]"
     ]
    },
    {
     "name": "stdout",
     "output_type": "stream",
     "text": [
      "initial_potential =  26669.047017000135\n",
      "final_potential =  26645.901923155678\n",
      "energy_change =  -0.12864966643974185\n",
      "p accept =  1.137291622942314\n",
      "current step size = 1.7564077254274616e-05\n",
      "current acceptance ratio = 0.6410788381742739\n",
      "currently working on step 483\n"
     ]
    },
    {
     "name": "stderr",
     "output_type": "stream",
     "text": [
      "100%|██████████| 100/100 [00:08<00:00, 11.92it/s]\n",
      "  0%|          | 0/101 [00:00<?, ?it/s]"
     ]
    },
    {
     "name": "stdout",
     "output_type": "stream",
     "text": [
      "initial_potential =  26645.901923155678\n",
      "final_potential =  26584.691083938764\n",
      "energy_change =  0.041123901566606946\n",
      "p accept =  0.9597102129820747\n",
      "current step size = 1.7564077254274616e-05\n",
      "current acceptance ratio = 0.6418219461697723\n",
      "currently working on step 484\n"
     ]
    },
    {
     "name": "stderr",
     "output_type": "stream",
     "text": [
      "100%|██████████| 101/101 [00:08<00:00, 11.78it/s]\n",
      "  0%|          | 0/99 [00:00<?, ?it/s]"
     ]
    },
    {
     "name": "stdout",
     "output_type": "stream",
     "text": [
      "initial_potential =  26584.691083938764\n",
      "final_potential =  26583.63513784612\n",
      "energy_change =  0.4229888027184643\n",
      "p accept =  0.655085968252756\n",
      "current step size = 1.7564077254274616e-05\n",
      "current acceptance ratio = 0.6425619834710744\n",
      "currently working on step 485\n"
     ]
    },
    {
     "name": "stderr",
     "output_type": "stream",
     "text": [
      "100%|██████████| 99/99 [00:08<00:00, 11.76it/s]\n",
      "  0%|          | 0/100 [00:00<?, ?it/s]"
     ]
    },
    {
     "name": "stdout",
     "output_type": "stream",
     "text": [
      "initial_potential =  26583.63513784612\n",
      "final_potential =  26602.784658896086\n",
      "energy_change =  0.23272027564235032\n",
      "p accept =  0.7923751891680297\n",
      "current step size = 1.7564077254274616e-05\n",
      "current acceptance ratio = 0.643298969072165\n",
      "currently working on step 486\n"
     ]
    },
    {
     "name": "stderr",
     "output_type": "stream",
     "text": [
      "100%|██████████| 100/100 [00:08<00:00, 11.89it/s]\n",
      "  0%|          | 0/101 [00:00<?, ?it/s]"
     ]
    },
    {
     "name": "stdout",
     "output_type": "stream",
     "text": [
      "initial_potential =  26602.784658896086\n",
      "final_potential =  26568.5656879849\n",
      "energy_change =  -0.5852742509159725\n",
      "p accept =  1.7954833310718812\n",
      "current step size = 1.7564077254274616e-05\n",
      "current acceptance ratio = 0.6440329218106996\n",
      "currently working on step 487\n"
     ]
    },
    {
     "name": "stderr",
     "output_type": "stream",
     "text": [
      "100%|██████████| 101/101 [00:08<00:00, 11.95it/s]\n",
      "  0%|          | 0/97 [00:00<?, ?it/s]"
     ]
    },
    {
     "name": "stdout",
     "output_type": "stream",
     "text": [
      "initial_potential =  26568.5656879849\n",
      "final_potential =  26662.301013187694\n",
      "energy_change =  0.3185605017497437\n",
      "p accept =  0.7271950800498704\n",
      "current step size = 1.7564077254274616e-05\n",
      "current acceptance ratio = 0.6447638603696099\n",
      "currently working on step 488\n"
     ]
    },
    {
     "name": "stderr",
     "output_type": "stream",
     "text": [
      "100%|██████████| 97/97 [00:08<00:00, 11.92it/s]\n",
      "  0%|          | 0/101 [00:00<?, ?it/s]"
     ]
    },
    {
     "name": "stdout",
     "output_type": "stream",
     "text": [
      "initial_potential =  26662.301013187694\n",
      "final_potential =  26715.468599876443\n",
      "energy_change =  5.748302056250395\n",
      "p accept =  0.0031881895698664562\n",
      "current step size = 1.7564077254274616e-05\n",
      "current acceptance ratio = 0.6434426229508197\n",
      "currently working on step 489\n"
     ]
    },
    {
     "name": "stderr",
     "output_type": "stream",
     "text": [
      "100%|██████████| 101/101 [00:08<00:00, 11.88it/s]\n",
      "  0%|          | 0/100 [00:00<?, ?it/s]"
     ]
    },
    {
     "name": "stdout",
     "output_type": "stream",
     "text": [
      "initial_potential =  26662.301013187694\n",
      "final_potential =  26658.547251475185\n",
      "energy_change =  1.9284767343924614\n",
      "p accept =  0.14536946622435512\n",
      "current step size = 1.7564077254274616e-05\n",
      "current acceptance ratio = 0.6421267893660532\n",
      "currently working on step 490\n"
     ]
    },
    {
     "name": "stderr",
     "output_type": "stream",
     "text": [
      "100%|██████████| 100/100 [00:08<00:00, 11.93it/s]\n",
      "  0%|          | 0/98 [00:00<?, ?it/s]"
     ]
    },
    {
     "name": "stdout",
     "output_type": "stream",
     "text": [
      "initial_potential =  26662.301013187694\n",
      "final_potential =  26736.214592516113\n",
      "energy_change =  -0.13861803404870443\n",
      "p accept =  1.1486852575403654\n",
      "current step size = 1.7564077254274616e-05\n",
      "current acceptance ratio = 0.6428571428571429\n",
      "currently working on step 491\n"
     ]
    },
    {
     "name": "stderr",
     "output_type": "stream",
     "text": [
      "100%|██████████| 98/98 [00:08<00:00, 11.88it/s]\n",
      "  0%|          | 0/100 [00:00<?, ?it/s]"
     ]
    },
    {
     "name": "stdout",
     "output_type": "stream",
     "text": [
      "initial_potential =  26736.214592516113\n",
      "final_potential =  26698.97703175137\n",
      "energy_change =  -0.34677573674707673\n",
      "p accept =  1.4144994695450481\n",
      "current step size = 1.7564077254274616e-05\n",
      "current acceptance ratio = 0.6435845213849287\n",
      "currently working on step 492\n"
     ]
    },
    {
     "name": "stderr",
     "output_type": "stream",
     "text": [
      "100%|██████████| 100/100 [00:08<00:00, 11.87it/s]\n",
      "  0%|          | 0/97 [00:00<?, ?it/s]"
     ]
    },
    {
     "name": "stdout",
     "output_type": "stream",
     "text": [
      "initial_potential =  26698.97703175137\n",
      "final_potential =  26709.37024537461\n",
      "energy_change =  1.5899144397553755\n",
      "p accept =  0.20394306040588428\n",
      "current step size = 1.7564077254274616e-05\n",
      "current acceptance ratio = 0.6422764227642277\n",
      "currently working on step 493\n"
     ]
    },
    {
     "name": "stderr",
     "output_type": "stream",
     "text": [
      "100%|██████████| 97/97 [00:08<00:00, 11.87it/s]\n",
      "  0%|          | 0/100 [00:00<?, ?it/s]"
     ]
    },
    {
     "name": "stdout",
     "output_type": "stream",
     "text": [
      "initial_potential =  26698.97703175137\n",
      "final_potential =  26763.935921715783\n",
      "energy_change =  1.4993340766814072\n",
      "p accept =  0.2232787972101039\n",
      "current step size = 1.7564077254274616e-05\n",
      "current acceptance ratio = 0.640973630831643\n",
      "currently working on step 494\n"
     ]
    },
    {
     "name": "stderr",
     "output_type": "stream",
     "text": [
      "100%|██████████| 100/100 [00:08<00:00, 11.87it/s]\n",
      "  0%|          | 0/100 [00:00<?, ?it/s]"
     ]
    },
    {
     "name": "stdout",
     "output_type": "stream",
     "text": [
      "initial_potential =  26698.97703175137\n",
      "final_potential =  26686.78494131561\n",
      "energy_change =  0.1566652711480856\n",
      "p accept =  0.8549902008133389\n",
      "current step size = 1.7564077254274616e-05\n",
      "current acceptance ratio = 0.6396761133603239\n",
      "currently working on step 495\n"
     ]
    },
    {
     "name": "stderr",
     "output_type": "stream",
     "text": [
      "100%|██████████| 100/100 [00:08<00:00, 11.90it/s]\n",
      "  0%|          | 0/99 [00:00<?, ?it/s]"
     ]
    },
    {
     "name": "stdout",
     "output_type": "stream",
     "text": [
      "initial_potential =  26698.97703175137\n",
      "final_potential =  26677.674161611398\n",
      "energy_change =  0.1089521902758861\n",
      "p accept =  0.8967732909569766\n",
      "current step size = 1.7564077254274616e-05\n",
      "current acceptance ratio = 0.6404040404040404\n",
      "currently working on step 496\n"
     ]
    },
    {
     "name": "stderr",
     "output_type": "stream",
     "text": [
      "100%|██████████| 99/99 [00:08<00:00, 11.86it/s]\n",
      "  0%|          | 0/98 [00:00<?, ?it/s]"
     ]
    },
    {
     "name": "stdout",
     "output_type": "stream",
     "text": [
      "initial_potential =  26677.674161611398\n",
      "final_potential =  26670.512899998466\n",
      "energy_change =  0.8268428278242936\n",
      "p accept =  0.4374281444965377\n",
      "current step size = 1.7564077254274616e-05\n",
      "current acceptance ratio = 0.6411290322580645\n",
      "currently working on step 497\n"
     ]
    },
    {
     "name": "stderr",
     "output_type": "stream",
     "text": [
      "100%|██████████| 98/98 [00:08<00:00, 11.85it/s]\n",
      "  0%|          | 0/99 [00:00<?, ?it/s]"
     ]
    },
    {
     "name": "stdout",
     "output_type": "stream",
     "text": [
      "initial_potential =  26670.512899998466\n",
      "final_potential =  26689.03736640286\n",
      "energy_change =  0.9724646218674025\n",
      "p accept =  0.3781498921564364\n",
      "current step size = 1.7564077254274616e-05\n",
      "current acceptance ratio = 0.6398390342052314\n",
      "currently working on step 498\n"
     ]
    },
    {
     "name": "stderr",
     "output_type": "stream",
     "text": [
      "100%|██████████| 99/99 [00:08<00:00, 11.81it/s]\n",
      "  0%|          | 0/99 [00:00<?, ?it/s]"
     ]
    },
    {
     "name": "stdout",
     "output_type": "stream",
     "text": [
      "initial_potential =  26670.512899998466\n",
      "final_potential =  26672.284400639845\n",
      "energy_change =  0.1006279764987994\n",
      "p accept =  0.9042693797782042\n",
      "current step size = 1.7564077254274616e-05\n",
      "current acceptance ratio = 0.6405622489959839\n",
      "currently working on step 499\n"
     ]
    },
    {
     "name": "stderr",
     "output_type": "stream",
     "text": [
      "100%|██████████| 99/99 [00:08<00:00, 11.76it/s]\n",
      "  0%|          | 0/97 [00:00<?, ?it/s]"
     ]
    },
    {
     "name": "stdout",
     "output_type": "stream",
     "text": [
      "initial_potential =  26672.284400639845\n",
      "final_potential =  26684.81820121175\n",
      "energy_change =  -0.527630607582978\n",
      "p accept =  1.6949116364455663\n",
      "current step size = 1.7564077254274616e-05\n",
      "current acceptance ratio = 0.6412825651302605\n",
      "currently working on step 500\n"
     ]
    },
    {
     "name": "stderr",
     "output_type": "stream",
     "text": [
      "100%|██████████| 97/97 [00:08<00:00, 11.89it/s]\n",
      "  0%|          | 0/100 [00:00<?, ?it/s]"
     ]
    },
    {
     "name": "stdout",
     "output_type": "stream",
     "text": [
      "initial_potential =  26684.81820121175\n",
      "final_potential =  26686.37395431471\n",
      "energy_change =  2.871495886138291\n",
      "p accept =  0.05661417484679537\n",
      "current step size = 1.7564077254274616e-05\n",
      "current acceptance ratio = 0.64\n",
      "currently working on step 501\n"
     ]
    },
    {
     "name": "stderr",
     "output_type": "stream",
     "text": [
      "100%|██████████| 100/100 [00:08<00:00, 11.91it/s]\n",
      "  0%|          | 0/97 [00:00<?, ?it/s]"
     ]
    },
    {
     "name": "stdout",
     "output_type": "stream",
     "text": [
      "initial_potential =  26684.81820121175\n",
      "final_potential =  26657.72161614596\n",
      "energy_change =  -0.02178392536006868\n",
      "p accept =  1.0220229273744548\n",
      "current step size = 1.7564077254274616e-05\n",
      "current acceptance ratio = 0.6407185628742516\n",
      "currently working on step 502\n"
     ]
    },
    {
     "name": "stderr",
     "output_type": "stream",
     "text": [
      "100%|██████████| 97/97 [00:08<00:00, 11.93it/s]\n",
      "  0%|          | 0/98 [00:00<?, ?it/s]"
     ]
    },
    {
     "name": "stdout",
     "output_type": "stream",
     "text": [
      "initial_potential =  26657.72161614596\n",
      "final_potential =  26679.165907086794\n",
      "energy_change =  0.6311473941459553\n",
      "p accept =  0.531981058740293\n",
      "current step size = 1.7564077254274616e-05\n",
      "current acceptance ratio = 0.6414342629482072\n",
      "currently working on step 503\n"
     ]
    },
    {
     "name": "stderr",
     "output_type": "stream",
     "text": [
      "100%|██████████| 98/98 [00:08<00:00, 11.90it/s]\n",
      "  0%|          | 0/98 [00:00<?, ?it/s]"
     ]
    },
    {
     "name": "stdout",
     "output_type": "stream",
     "text": [
      "initial_potential =  26679.165907086794\n",
      "final_potential =  26629.458158846024\n",
      "energy_change =  0.08555711765075102\n",
      "p accept =  0.9180007075128748\n",
      "current step size = 1.7564077254274616e-05\n",
      "current acceptance ratio = 0.6401590457256461\n",
      "currently working on step 504\n"
     ]
    },
    {
     "name": "stderr",
     "output_type": "stream",
     "text": [
      "100%|██████████| 98/98 [00:08<00:00, 11.92it/s]\n",
      "  0%|          | 0/101 [00:00<?, ?it/s]"
     ]
    },
    {
     "name": "stdout",
     "output_type": "stream",
     "text": [
      "initial_potential =  26679.165907086794\n",
      "final_potential =  26675.178469722734\n",
      "energy_change =  -0.8607450282288482\n",
      "p accept =  2.364921971151149\n",
      "current step size = 1.7564077254274616e-05\n",
      "current acceptance ratio = 0.6408730158730159\n",
      "currently working on step 505\n"
     ]
    },
    {
     "name": "stderr",
     "output_type": "stream",
     "text": [
      "100%|██████████| 101/101 [00:08<00:00, 11.92it/s]\n",
      "  0%|          | 0/101 [00:00<?, ?it/s]"
     ]
    },
    {
     "name": "stdout",
     "output_type": "stream",
     "text": [
      "initial_potential =  26675.178469722734\n",
      "final_potential =  26677.957019171095\n",
      "energy_change =  -0.020455517573282123\n",
      "p accept =  1.020666165525478\n",
      "current step size = 1.7564077254274616e-05\n",
      "current acceptance ratio = 0.6415841584158416\n",
      "currently working on step 506\n"
     ]
    },
    {
     "name": "stderr",
     "output_type": "stream",
     "text": [
      "100%|██████████| 101/101 [00:08<00:00, 11.96it/s]\n",
      "  0%|          | 0/100 [00:00<?, ?it/s]"
     ]
    },
    {
     "name": "stdout",
     "output_type": "stream",
     "text": [
      "initial_potential =  26677.957019171095\n",
      "final_potential =  26691.663108928915\n",
      "energy_change =  1.1449056890996872\n",
      "p accept =  0.3182539311898801\n",
      "current step size = 1.7564077254274616e-05\n",
      "current acceptance ratio = 0.6403162055335968\n",
      "currently working on step 507\n"
     ]
    },
    {
     "name": "stderr",
     "output_type": "stream",
     "text": [
      "100%|██████████| 100/100 [00:08<00:00, 11.91it/s]\n",
      "  0%|          | 0/99 [00:00<?, ?it/s]"
     ]
    },
    {
     "name": "stdout",
     "output_type": "stream",
     "text": [
      "initial_potential =  26677.957019171095\n",
      "final_potential =  26647.572673104387\n",
      "energy_change =  -0.008556179425795563\n",
      "p accept =  1.008592888149763\n",
      "current step size = 1.7564077254274616e-05\n",
      "current acceptance ratio = 0.6410256410256411\n",
      "currently working on step 508\n"
     ]
    },
    {
     "name": "stderr",
     "output_type": "stream",
     "text": [
      "100%|██████████| 99/99 [00:08<00:00, 11.95it/s]\n",
      "  0%|          | 0/97 [00:00<?, ?it/s]"
     ]
    },
    {
     "name": "stdout",
     "output_type": "stream",
     "text": [
      "initial_potential =  26647.572673104387\n",
      "final_potential =  26686.80748756797\n",
      "energy_change =  3.8232498498109635\n",
      "p accept =  0.021856654504828526\n",
      "current step size = 1.7564077254274616e-05\n",
      "current acceptance ratio = 0.639763779527559\n",
      "currently working on step 509\n"
     ]
    },
    {
     "name": "stderr",
     "output_type": "stream",
     "text": [
      "100%|██████████| 97/97 [00:08<00:00, 11.97it/s]\n",
      "  0%|          | 0/98 [00:00<?, ?it/s]"
     ]
    },
    {
     "name": "stdout",
     "output_type": "stream",
     "text": [
      "initial_potential =  26647.572673104387\n",
      "final_potential =  26714.546180216938\n",
      "energy_change =  3.859829560300568\n",
      "p accept =  0.021071590652574593\n",
      "current step size = 1.7564077254274616e-05\n",
      "current acceptance ratio = 0.6385068762278978\n",
      "currently working on step 510\n"
     ]
    },
    {
     "name": "stderr",
     "output_type": "stream",
     "text": [
      "100%|██████████| 98/98 [00:08<00:00, 11.86it/s]\n",
      "  0%|          | 0/97 [00:00<?, ?it/s]"
     ]
    },
    {
     "name": "stdout",
     "output_type": "stream",
     "text": [
      "initial_potential =  26647.572673104387\n",
      "final_potential =  26661.621719147286\n",
      "energy_change =  -0.22383886577154044\n",
      "p accept =  1.2508694453055802\n",
      "current step size = 1.7564077254274616e-05\n",
      "current acceptance ratio = 0.6392156862745098\n",
      "currently working on step 511\n"
     ]
    },
    {
     "name": "stderr",
     "output_type": "stream",
     "text": [
      "100%|██████████| 97/97 [00:08<00:00, 11.90it/s]\n",
      "  0%|          | 0/97 [00:00<?, ?it/s]"
     ]
    },
    {
     "name": "stdout",
     "output_type": "stream",
     "text": [
      "initial_potential =  26661.621719147286\n",
      "final_potential =  26688.84840406814\n",
      "energy_change =  4.853813603753224\n",
      "p accept =  0.007798580073219031\n",
      "current step size = 1.7564077254274616e-05\n",
      "current acceptance ratio = 0.6379647749510763\n",
      "currently working on step 512\n"
     ]
    },
    {
     "name": "stderr",
     "output_type": "stream",
     "text": [
      "100%|██████████| 97/97 [00:08<00:00, 11.82it/s]\n",
      "  0%|          | 0/101 [00:00<?, ?it/s]"
     ]
    },
    {
     "name": "stdout",
     "output_type": "stream",
     "text": [
      "initial_potential =  26661.621719147286\n",
      "final_potential =  26641.619329488836\n",
      "energy_change =  1.1286356377822813\n",
      "p accept =  0.32347429158982677\n",
      "current step size = 1.7564077254274616e-05\n",
      "current acceptance ratio = 0.63671875\n",
      "currently working on step 513\n"
     ]
    },
    {
     "name": "stderr",
     "output_type": "stream",
     "text": [
      "100%|██████████| 101/101 [00:08<00:00, 11.81it/s]\n",
      "  0%|          | 0/97 [00:00<?, ?it/s]"
     ]
    },
    {
     "name": "stdout",
     "output_type": "stream",
     "text": [
      "initial_potential =  26661.621719147286\n",
      "final_potential =  26696.895705403575\n",
      "energy_change =  0.1547199875494698\n",
      "p accept =  0.8566550179737266\n",
      "current step size = 1.7564077254274616e-05\n",
      "current acceptance ratio = 0.6374269005847953\n",
      "currently working on step 514\n"
     ]
    },
    {
     "name": "stderr",
     "output_type": "stream",
     "text": [
      "100%|██████████| 97/97 [00:08<00:00, 11.85it/s]\n",
      "  0%|          | 0/97 [00:00<?, ?it/s]"
     ]
    },
    {
     "name": "stdout",
     "output_type": "stream",
     "text": [
      "initial_potential =  26696.895705403575\n",
      "final_potential =  26684.51178103354\n",
      "energy_change =  0.21596289148146752\n",
      "p accept =  0.8057652020716342\n",
      "current step size = 1.7564077254274616e-05\n",
      "current acceptance ratio = 0.6381322957198443\n",
      "currently working on step 515\n"
     ]
    },
    {
     "name": "stderr",
     "output_type": "stream",
     "text": [
      "100%|██████████| 97/97 [00:08<00:00, 11.90it/s]\n",
      "  0%|          | 0/100 [00:00<?, ?it/s]"
     ]
    },
    {
     "name": "stdout",
     "output_type": "stream",
     "text": [
      "initial_potential =  26684.51178103354\n",
      "final_potential =  26712.999698011703\n",
      "energy_change =  -0.5715263189631514\n",
      "p accept =  1.7709680517358792\n",
      "current step size = 1.7564077254274616e-05\n",
      "current acceptance ratio = 0.6388349514563106\n",
      "currently working on step 516\n"
     ]
    },
    {
     "name": "stderr",
     "output_type": "stream",
     "text": [
      "100%|██████████| 100/100 [00:08<00:00, 11.99it/s]\n",
      "  0%|          | 0/98 [00:00<?, ?it/s]"
     ]
    },
    {
     "name": "stdout",
     "output_type": "stream",
     "text": [
      "initial_potential =  26712.999698011703\n",
      "final_potential =  26653.78906312339\n",
      "energy_change =  0.9467211908340687\n",
      "p accept =  0.38801115458795865\n",
      "current step size = 1.7564077254274616e-05\n",
      "current acceptance ratio = 0.6395348837209303\n",
      "currently working on step 517\n"
     ]
    },
    {
     "name": "stderr",
     "output_type": "stream",
     "text": [
      "100%|██████████| 98/98 [00:08<00:00, 11.88it/s]\n",
      "  0%|          | 0/101 [00:00<?, ?it/s]"
     ]
    },
    {
     "name": "stdout",
     "output_type": "stream",
     "text": [
      "initial_potential =  26653.78906312339\n",
      "final_potential =  26657.60510149759\n",
      "energy_change =  -0.4567398978106212\n",
      "p accept =  1.578918150767553\n",
      "current step size = 1.7564077254274616e-05\n",
      "current acceptance ratio = 0.6402321083172147\n",
      "currently working on step 518\n"
     ]
    },
    {
     "name": "stderr",
     "output_type": "stream",
     "text": [
      "100%|██████████| 101/101 [00:08<00:00, 11.97it/s]\n",
      "  0%|          | 0/99 [00:00<?, ?it/s]"
     ]
    },
    {
     "name": "stdout",
     "output_type": "stream",
     "text": [
      "initial_potential =  26657.60510149759\n",
      "final_potential =  26683.24515268936\n",
      "energy_change =  -0.20862572330224793\n",
      "p accept =  1.2319838093976005\n",
      "current step size = 1.7564077254274616e-05\n",
      "current acceptance ratio = 0.640926640926641\n",
      "currently working on step 519\n"
     ]
    },
    {
     "name": "stderr",
     "output_type": "stream",
     "text": [
      "100%|██████████| 99/99 [00:08<00:00, 11.93it/s]\n",
      "  0%|          | 0/100 [00:00<?, ?it/s]"
     ]
    },
    {
     "name": "stdout",
     "output_type": "stream",
     "text": [
      "initial_potential =  26683.24515268936\n",
      "final_potential =  26688.08135962042\n",
      "energy_change =  0.1905546395428246\n",
      "p accept =  0.8265005968805256\n",
      "current step size = 1.7564077254274616e-05\n",
      "current acceptance ratio = 0.6396917148362236\n",
      "currently working on step 520\n"
     ]
    },
    {
     "name": "stderr",
     "output_type": "stream",
     "text": [
      "100%|██████████| 100/100 [00:08<00:00, 11.97it/s]\n",
      "  0%|          | 0/98 [00:00<?, ?it/s]"
     ]
    },
    {
     "name": "stdout",
     "output_type": "stream",
     "text": [
      "initial_potential =  26683.24515268936\n",
      "final_potential =  26663.63903197035\n",
      "energy_change =  1.3509431833517738\n",
      "p accept =  0.25899586482109516\n",
      "current step size = 1.7564077254274616e-05\n",
      "current acceptance ratio = 0.6403846153846153\n",
      "currently working on step 521\n"
     ]
    },
    {
     "name": "stderr",
     "output_type": "stream",
     "text": [
      "100%|██████████| 98/98 [00:08<00:00, 11.94it/s]\n",
      "  0%|          | 0/101 [00:00<?, ?it/s]"
     ]
    },
    {
     "name": "stdout",
     "output_type": "stream",
     "text": [
      "initial_potential =  26663.63903197035\n",
      "final_potential =  26707.39106858645\n",
      "energy_change =  -1.0085058142867638\n",
      "p accept =  2.7415016405820736\n",
      "current step size = 1.7564077254274616e-05\n",
      "current acceptance ratio = 0.6410748560460653\n",
      "currently working on step 522\n"
     ]
    },
    {
     "name": "stderr",
     "output_type": "stream",
     "text": [
      "100%|██████████| 101/101 [00:08<00:00, 11.91it/s]\n",
      "  0%|          | 0/101 [00:00<?, ?it/s]"
     ]
    },
    {
     "name": "stdout",
     "output_type": "stream",
     "text": [
      "initial_potential =  26707.39106858645\n",
      "final_potential =  26722.3865027173\n",
      "energy_change =  -0.18628930670092814\n",
      "p accept =  1.2047707582172533\n",
      "current step size = 1.7564077254274616e-05\n",
      "current acceptance ratio = 0.6417624521072797\n",
      "currently working on step 523\n"
     ]
    },
    {
     "name": "stderr",
     "output_type": "stream",
     "text": [
      "100%|██████████| 101/101 [00:08<00:00, 11.91it/s]\n",
      "  0%|          | 0/98 [00:00<?, ?it/s]"
     ]
    },
    {
     "name": "stdout",
     "output_type": "stream",
     "text": [
      "initial_potential =  26722.3865027173\n",
      "final_potential =  26777.77762194356\n",
      "energy_change =  -0.1835140671755653\n",
      "p accept =  1.2014318660458094\n",
      "current step size = 1.7564077254274616e-05\n",
      "current acceptance ratio = 0.6424474187380497\n",
      "currently working on step 524\n"
     ]
    },
    {
     "name": "stderr",
     "output_type": "stream",
     "text": [
      "100%|██████████| 98/98 [00:08<00:00, 11.74it/s]\n",
      "  0%|          | 0/100 [00:00<?, ?it/s]"
     ]
    },
    {
     "name": "stdout",
     "output_type": "stream",
     "text": [
      "initial_potential =  26777.77762194356\n",
      "final_potential =  26747.526470537774\n",
      "energy_change =  -0.058964664247469045\n",
      "p accept =  1.0607377581110036\n",
      "current step size = 1.7564077254274616e-05\n",
      "current acceptance ratio = 0.6431297709923665\n",
      "currently working on step 525\n"
     ]
    },
    {
     "name": "stderr",
     "output_type": "stream",
     "text": [
      "100%|██████████| 100/100 [00:08<00:00, 11.57it/s]\n",
      "  0%|          | 0/99 [00:00<?, ?it/s]"
     ]
    },
    {
     "name": "stdout",
     "output_type": "stream",
     "text": [
      "initial_potential =  26747.526470537774\n",
      "final_potential =  26678.90202307845\n",
      "energy_change =  0.3838268196413992\n",
      "p accept =  0.681249395979005\n",
      "current step size = 1.7564077254274616e-05\n",
      "current acceptance ratio = 0.6438095238095238\n",
      "currently working on step 526\n"
     ]
    },
    {
     "name": "stderr",
     "output_type": "stream",
     "text": [
      "100%|██████████| 99/99 [00:08<00:00, 11.49it/s]\n",
      "  0%|          | 0/98 [00:00<?, ?it/s]"
     ]
    },
    {
     "name": "stdout",
     "output_type": "stream",
     "text": [
      "initial_potential =  26678.90202307845\n",
      "final_potential =  26664.023660789506\n",
      "energy_change =  0.566935355309397\n",
      "p accept =  0.5672612316684478\n",
      "current step size = 1.7564077254274616e-05\n",
      "current acceptance ratio = 0.6444866920152091\n",
      "currently working on step 527\n"
     ]
    },
    {
     "name": "stderr",
     "output_type": "stream",
     "text": [
      "100%|██████████| 98/98 [00:08<00:00, 11.50it/s]\n",
      "  0%|          | 0/99 [00:00<?, ?it/s]"
     ]
    },
    {
     "name": "stdout",
     "output_type": "stream",
     "text": [
      "initial_potential =  26664.023660789506\n",
      "final_potential =  26597.785322321048\n",
      "energy_change =  -0.9991579460329376\n",
      "p accept =  2.71599385189686\n",
      "current step size = 1.7564077254274616e-05\n",
      "current acceptance ratio = 0.6451612903225806\n",
      "currently working on step 528\n"
     ]
    },
    {
     "name": "stderr",
     "output_type": "stream",
     "text": [
      "100%|██████████| 99/99 [00:08<00:00, 11.61it/s]\n",
      "  0%|          | 0/97 [00:00<?, ?it/s]"
     ]
    },
    {
     "name": "stdout",
     "output_type": "stream",
     "text": [
      "initial_potential =  26597.785322321048\n",
      "final_potential =  26628.41823174522\n",
      "energy_change =  1.8998719217197504\n",
      "p accept =  0.14958777694098202\n",
      "current step size = 1.7564077254274616e-05\n",
      "current acceptance ratio = 0.6439393939393939\n",
      "currently working on step 529\n"
     ]
    },
    {
     "name": "stderr",
     "output_type": "stream",
     "text": [
      "100%|██████████| 97/97 [00:08<00:00, 11.84it/s]\n",
      "  0%|          | 0/99 [00:00<?, ?it/s]"
     ]
    },
    {
     "name": "stdout",
     "output_type": "stream",
     "text": [
      "initial_potential =  26597.785322321048\n",
      "final_potential =  26641.248699223368\n",
      "energy_change =  0.5944042065530084\n",
      "p accept =  0.5518912811436597\n",
      "current step size = 1.7564077254274616e-05\n",
      "current acceptance ratio = 0.6427221172022685\n",
      "currently working on step 530\n"
     ]
    },
    {
     "name": "stderr",
     "output_type": "stream",
     "text": [
      "100%|██████████| 99/99 [00:08<00:00, 11.87it/s]\n",
      "  0%|          | 0/97 [00:00<?, ?it/s]"
     ]
    },
    {
     "name": "stdout",
     "output_type": "stream",
     "text": [
      "initial_potential =  26597.785322321048\n",
      "final_potential =  26587.631570440535\n",
      "energy_change =  1.8400689462723676\n",
      "p accept =  0.15880647661487127\n",
      "current step size = 1.7564077254274616e-05\n",
      "current acceptance ratio = 0.6415094339622641\n",
      "currently working on step 531\n"
     ]
    },
    {
     "name": "stderr",
     "output_type": "stream",
     "text": [
      "100%|██████████| 97/97 [00:08<00:00, 11.90it/s]\n",
      "  0%|          | 0/99 [00:00<?, ?it/s]"
     ]
    },
    {
     "name": "stdout",
     "output_type": "stream",
     "text": [
      "initial_potential =  26597.785322321048\n",
      "final_potential =  26580.90251520178\n",
      "energy_change =  0.07636767692747526\n",
      "p accept =  0.9264755002629805\n",
      "current step size = 1.7564077254274616e-05\n",
      "current acceptance ratio = 0.6421845574387948\n",
      "currently working on step 532\n"
     ]
    },
    {
     "name": "stderr",
     "output_type": "stream",
     "text": [
      "100%|██████████| 99/99 [00:08<00:00, 12.01it/s]\n",
      "  0%|          | 0/101 [00:00<?, ?it/s]"
     ]
    },
    {
     "name": "stdout",
     "output_type": "stream",
     "text": [
      "initial_potential =  26580.90251520178\n",
      "final_potential =  26563.834813415644\n",
      "energy_change =  0.3777661795465974\n",
      "p accept =  0.6853907403051438\n",
      "current step size = 1.7564077254274616e-05\n",
      "current acceptance ratio = 0.6428571428571429\n",
      "currently working on step 533\n"
     ]
    },
    {
     "name": "stderr",
     "output_type": "stream",
     "text": [
      "100%|██████████| 101/101 [00:08<00:00, 11.99it/s]\n",
      "  0%|          | 0/98 [00:00<?, ?it/s]"
     ]
    },
    {
     "name": "stdout",
     "output_type": "stream",
     "text": [
      "initial_potential =  26563.834813415644\n",
      "final_potential =  26585.338146344795\n",
      "energy_change =  -0.22587091158493422\n",
      "p accept =  1.2534138536266206\n",
      "current step size = 1.7564077254274616e-05\n",
      "current acceptance ratio = 0.6435272045028143\n",
      "currently working on step 534\n"
     ]
    },
    {
     "name": "stderr",
     "output_type": "stream",
     "text": [
      "100%|██████████| 98/98 [00:08<00:00, 11.97it/s]\n",
      "  0%|          | 0/97 [00:00<?, ?it/s]"
     ]
    },
    {
     "name": "stdout",
     "output_type": "stream",
     "text": [
      "initial_potential =  26585.338146344795\n",
      "final_potential =  26543.454589921465\n",
      "energy_change =  0.4491748002474196\n",
      "p accept =  0.6381545393723801\n",
      "current step size = 1.7564077254274616e-05\n",
      "current acceptance ratio = 0.6441947565543071\n",
      "currently working on step 535\n"
     ]
    },
    {
     "name": "stderr",
     "output_type": "stream",
     "text": [
      "100%|██████████| 97/97 [00:08<00:00, 11.87it/s]\n",
      "  0%|          | 0/99 [00:00<?, ?it/s]"
     ]
    },
    {
     "name": "stdout",
     "output_type": "stream",
     "text": [
      "initial_potential =  26543.454589921465\n",
      "final_potential =  26571.97066571693\n",
      "energy_change =  -0.09189275311655365\n",
      "p accept =  1.0962472466754392\n",
      "current step size = 1.7564077254274616e-05\n",
      "current acceptance ratio = 0.6448598130841121\n",
      "currently working on step 536\n"
     ]
    },
    {
     "name": "stderr",
     "output_type": "stream",
     "text": [
      "100%|██████████| 99/99 [00:08<00:00, 11.91it/s]\n",
      "  0%|          | 0/101 [00:00<?, ?it/s]"
     ]
    },
    {
     "name": "stdout",
     "output_type": "stream",
     "text": [
      "initial_potential =  26571.97066571693\n",
      "final_potential =  26616.586067476717\n",
      "energy_change =  0.09588028932921588\n",
      "p accept =  0.9085727754151502\n",
      "current step size = 1.7564077254274616e-05\n",
      "current acceptance ratio = 0.6455223880597015\n",
      "currently working on step 537\n"
     ]
    },
    {
     "name": "stderr",
     "output_type": "stream",
     "text": [
      "100%|██████████| 101/101 [00:08<00:00, 11.95it/s]\n",
      "  0%|          | 0/100 [00:00<?, ?it/s]"
     ]
    },
    {
     "name": "stdout",
     "output_type": "stream",
     "text": [
      "initial_potential =  26616.586067476717\n",
      "final_potential =  26623.141443936904\n",
      "energy_change =  -0.10554931752267294\n",
      "p accept =  1.1113209107656006\n",
      "current step size = 1.7564077254274616e-05\n",
      "current acceptance ratio = 0.6461824953445066\n",
      "currently working on step 538\n"
     ]
    },
    {
     "name": "stderr",
     "output_type": "stream",
     "text": [
      "100%|██████████| 100/100 [00:08<00:00, 11.85it/s]\n",
      "  0%|          | 0/99 [00:00<?, ?it/s]"
     ]
    },
    {
     "name": "stdout",
     "output_type": "stream",
     "text": [
      "initial_potential =  26623.141443936904\n",
      "final_potential =  26527.001391729642\n",
      "energy_change =  -0.40764590773324016\n",
      "p accept =  1.5032747689471906\n",
      "current step size = 1.7564077254274616e-05\n",
      "current acceptance ratio = 0.6468401486988847\n",
      "currently working on step 539\n"
     ]
    },
    {
     "name": "stderr",
     "output_type": "stream",
     "text": [
      "100%|██████████| 99/99 [00:08<00:00, 11.74it/s]\n",
      "  0%|          | 0/100 [00:00<?, ?it/s]"
     ]
    },
    {
     "name": "stdout",
     "output_type": "stream",
     "text": [
      "initial_potential =  26527.001391729642\n",
      "final_potential =  26492.39098717996\n",
      "energy_change =  0.2526793037104653\n",
      "p accept =  0.7767169321250008\n",
      "current step size = 1.7564077254274616e-05\n",
      "current acceptance ratio = 0.647495361781076\n",
      "currently working on step 540\n"
     ]
    },
    {
     "name": "stderr",
     "output_type": "stream",
     "text": [
      "100%|██████████| 100/100 [00:08<00:00, 11.81it/s]\n",
      "  0%|          | 0/100 [00:00<?, ?it/s]"
     ]
    },
    {
     "name": "stdout",
     "output_type": "stream",
     "text": [
      "initial_potential =  26492.39098717996\n",
      "final_potential =  26473.104837161984\n",
      "energy_change =  0.2736297031369759\n",
      "p accept =  0.7606136759779211\n",
      "current step size = 1.7564077254274616e-05\n",
      "current acceptance ratio = 0.6481481481481481\n",
      "currently working on step 541\n"
     ]
    },
    {
     "name": "stderr",
     "output_type": "stream",
     "text": [
      "100%|██████████| 100/100 [00:08<00:00, 11.85it/s]\n",
      "  0%|          | 0/101 [00:00<?, ?it/s]"
     ]
    },
    {
     "name": "stdout",
     "output_type": "stream",
     "text": [
      "initial_potential =  26473.104837161984\n",
      "final_potential =  26466.500564707923\n",
      "energy_change =  0.26251322055759374\n",
      "p accept =  0.7691161961563884\n",
      "current step size = 1.7564077254274616e-05\n",
      "current acceptance ratio = 0.6487985212569316\n",
      "currently working on step 542\n"
     ]
    },
    {
     "name": "stderr",
     "output_type": "stream",
     "text": [
      "100%|██████████| 101/101 [00:08<00:00, 11.94it/s]\n",
      "  0%|          | 0/101 [00:00<?, ?it/s]"
     ]
    },
    {
     "name": "stdout",
     "output_type": "stream",
     "text": [
      "initial_potential =  26466.500564707923\n",
      "final_potential =  26493.770352537216\n",
      "energy_change =  0.33559335132304113\n",
      "p accept =  0.7149137654507343\n",
      "current step size = 1.7564077254274616e-05\n",
      "current acceptance ratio = 0.6494464944649446\n",
      "currently working on step 543\n"
     ]
    },
    {
     "name": "stderr",
     "output_type": "stream",
     "text": [
      "100%|██████████| 101/101 [00:08<00:00, 11.95it/s]\n",
      "  0%|          | 0/100 [00:00<?, ?it/s]"
     ]
    },
    {
     "name": "stdout",
     "output_type": "stream",
     "text": [
      "initial_potential =  26493.770352537216\n",
      "final_potential =  26510.23437778152\n",
      "energy_change =  0.4217744539200794\n",
      "p accept =  0.6558819543156859\n",
      "current step size = 1.7564077254274616e-05\n",
      "current acceptance ratio = 0.6500920810313076\n",
      "currently working on step 544\n"
     ]
    },
    {
     "name": "stderr",
     "output_type": "stream",
     "text": [
      "100%|██████████| 100/100 [00:08<00:00, 11.97it/s]\n",
      "  0%|          | 0/100 [00:00<?, ?it/s]"
     ]
    },
    {
     "name": "stdout",
     "output_type": "stream",
     "text": [
      "initial_potential =  26510.23437778152\n",
      "final_potential =  26472.009191283832\n",
      "energy_change =  -0.28024858556455\n",
      "p accept =  1.3234587641934572\n",
      "current step size = 1.7564077254274616e-05\n",
      "current acceptance ratio = 0.6507352941176471\n",
      "currently working on step 545\n"
     ]
    },
    {
     "name": "stderr",
     "output_type": "stream",
     "text": [
      "100%|██████████| 100/100 [00:08<00:00, 11.96it/s]\n",
      "  0%|          | 0/98 [00:00<?, ?it/s]"
     ]
    },
    {
     "name": "stdout",
     "output_type": "stream",
     "text": [
      "initial_potential =  26472.009191283832\n",
      "final_potential =  26409.266224574854\n",
      "energy_change =  -1.5465690952260047\n",
      "p accept =  4.695333274974547\n",
      "current step size = 1.7564077254274616e-05\n",
      "current acceptance ratio = 0.6513761467889908\n",
      "currently working on step 546\n"
     ]
    },
    {
     "name": "stderr",
     "output_type": "stream",
     "text": [
      "100%|██████████| 98/98 [00:08<00:00, 11.99it/s]\n",
      "  0%|          | 0/100 [00:00<?, ?it/s]"
     ]
    },
    {
     "name": "stdout",
     "output_type": "stream",
     "text": [
      "initial_potential =  26409.266224574854\n",
      "final_potential =  26444.828685153087\n",
      "energy_change =  0.7755470383272041\n",
      "p accept =  0.4604518272937214\n",
      "current step size = 1.7564077254274616e-05\n",
      "current acceptance ratio = 0.6501831501831502\n",
      "currently working on step 547\n"
     ]
    },
    {
     "name": "stderr",
     "output_type": "stream",
     "text": [
      "100%|██████████| 100/100 [00:08<00:00, 11.95it/s]\n",
      "  0%|          | 0/101 [00:00<?, ?it/s]"
     ]
    },
    {
     "name": "stdout",
     "output_type": "stream",
     "text": [
      "initial_potential =  26409.266224574854\n",
      "final_potential =  26409.384550537427\n",
      "energy_change =  1.2376324206561549\n",
      "p accept =  0.2900701697381118\n",
      "current step size = 1.7564077254274616e-05\n",
      "current acceptance ratio = 0.6489945155393053\n",
      "currently working on step 548\n"
     ]
    },
    {
     "name": "stderr",
     "output_type": "stream",
     "text": [
      "100%|██████████| 101/101 [00:08<00:00, 12.02it/s]\n",
      "  0%|          | 0/99 [00:00<?, ?it/s]"
     ]
    },
    {
     "name": "stdout",
     "output_type": "stream",
     "text": [
      "initial_potential =  26409.266224574854\n",
      "final_potential =  26388.93141292774\n",
      "energy_change =  0.27115583354316186\n",
      "p accept =  0.762497664433601\n",
      "current step size = 1.7564077254274616e-05\n",
      "current acceptance ratio = 0.6478102189781022\n",
      "currently working on step 549\n"
     ]
    },
    {
     "name": "stderr",
     "output_type": "stream",
     "text": [
      "100%|██████████| 99/99 [00:08<00:00, 11.99it/s]\n",
      "  0%|          | 0/97 [00:00<?, ?it/s]"
     ]
    },
    {
     "name": "stdout",
     "output_type": "stream",
     "text": [
      "initial_potential =  26409.266224574854\n",
      "final_potential =  26363.18082824604\n",
      "energy_change =  0.3477569350361591\n",
      "p accept =  0.706270524972254\n",
      "current step size = 1.7564077254274616e-05\n",
      "current acceptance ratio = 0.6484517304189436\n",
      "currently working on step 550\n"
     ]
    },
    {
     "name": "stderr",
     "output_type": "stream",
     "text": [
      "100%|██████████| 97/97 [00:08<00:00, 11.95it/s]\n",
      "  0%|          | 0/99 [00:00<?, ?it/s]"
     ]
    },
    {
     "name": "stdout",
     "output_type": "stream",
     "text": [
      "initial_potential =  26363.18082824604\n",
      "final_potential =  26333.662471112017\n",
      "energy_change =  2.2598942825425183\n",
      "p accept =  0.10436151700584076\n",
      "current step size = 1.7564077254274616e-05\n",
      "current acceptance ratio = 0.6472727272727272\n",
      "currently working on step 551\n"
     ]
    },
    {
     "name": "stderr",
     "output_type": "stream",
     "text": [
      "100%|██████████| 99/99 [00:08<00:00, 11.94it/s]\n",
      "  0%|          | 0/101 [00:00<?, ?it/s]"
     ]
    },
    {
     "name": "stdout",
     "output_type": "stream",
     "text": [
      "initial_potential =  26363.18082824604\n",
      "final_potential =  26315.14910503533\n",
      "energy_change =  0.7892682771343971\n",
      "p accept =  0.4541770054245548\n",
      "current step size = 1.7564077254274616e-05\n",
      "current acceptance ratio = 0.647912885662432\n",
      "currently working on step 552\n"
     ]
    },
    {
     "name": "stderr",
     "output_type": "stream",
     "text": [
      "100%|██████████| 101/101 [00:08<00:00, 11.98it/s]\n",
      "  0%|          | 0/98 [00:00<?, ?it/s]"
     ]
    },
    {
     "name": "stdout",
     "output_type": "stream",
     "text": [
      "initial_potential =  26315.14910503533\n",
      "final_potential =  26312.409709732416\n",
      "energy_change =  -0.26543353480519727\n",
      "p accept =  1.3039961809817522\n",
      "current step size = 1.7564077254274616e-05\n",
      "current acceptance ratio = 0.6485507246376812\n",
      "currently working on step 553\n"
     ]
    },
    {
     "name": "stderr",
     "output_type": "stream",
     "text": [
      "100%|██████████| 98/98 [00:08<00:00, 11.88it/s]\n",
      "  0%|          | 0/101 [00:00<?, ?it/s]"
     ]
    },
    {
     "name": "stdout",
     "output_type": "stream",
     "text": [
      "initial_potential =  26312.409709732416\n",
      "final_potential =  26250.146086041022\n",
      "energy_change =  -0.17088265626807697\n",
      "p accept =  1.1863515299377325\n",
      "current step size = 1.7564077254274616e-05\n",
      "current acceptance ratio = 0.6491862567811935\n",
      "currently working on step 554\n"
     ]
    },
    {
     "name": "stderr",
     "output_type": "stream",
     "text": [
      "100%|██████████| 101/101 [00:08<00:00, 11.99it/s]\n",
      "  0%|          | 0/98 [00:00<?, ?it/s]"
     ]
    },
    {
     "name": "stdout",
     "output_type": "stream",
     "text": [
      "initial_potential =  26250.146086041022\n",
      "final_potential =  26234.674116751463\n",
      "energy_change =  -0.4717549569613766\n",
      "p accept =  1.602804579497089\n",
      "current step size = 1.7564077254274616e-05\n",
      "current acceptance ratio = 0.6498194945848376\n",
      "currently working on step 555\n"
     ]
    },
    {
     "name": "stderr",
     "output_type": "stream",
     "text": [
      "100%|██████████| 98/98 [00:08<00:00, 11.90it/s]\n",
      "  0%|          | 0/101 [00:00<?, ?it/s]"
     ]
    },
    {
     "name": "stdout",
     "output_type": "stream",
     "text": [
      "initial_potential =  26234.674116751463\n",
      "final_potential =  26274.95214980264\n",
      "energy_change =  0.3779829824779881\n",
      "p accept =  0.6852421616902192\n",
      "current step size = 1.7564077254274616e-05\n",
      "current acceptance ratio = 0.6504504504504505\n",
      "currently working on step 556\n"
     ]
    },
    {
     "name": "stderr",
     "output_type": "stream",
     "text": [
      "100%|██████████| 101/101 [00:08<00:00, 11.94it/s]\n",
      "  0%|          | 0/100 [00:00<?, ?it/s]"
     ]
    },
    {
     "name": "stdout",
     "output_type": "stream",
     "text": [
      "initial_potential =  26274.95214980264\n",
      "final_potential =  26335.87920094601\n",
      "energy_change =  -0.5023756345908623\n",
      "p accept =  1.652642686062229\n",
      "current step size = 1.7564077254274616e-05\n",
      "current acceptance ratio = 0.6510791366906474\n",
      "currently working on step 557\n"
     ]
    },
    {
     "name": "stderr",
     "output_type": "stream",
     "text": [
      "100%|██████████| 100/100 [00:08<00:00, 11.90it/s]\n",
      "  0%|          | 0/100 [00:00<?, ?it/s]"
     ]
    },
    {
     "name": "stdout",
     "output_type": "stream",
     "text": [
      "initial_potential =  26335.87920094601\n",
      "final_potential =  26333.35881292234\n",
      "energy_change =  0.2646282529894961\n",
      "p accept =  0.767491209513105\n",
      "current step size = 1.7564077254274616e-05\n",
      "current acceptance ratio = 0.651705565529623\n",
      "currently working on step 558\n"
     ]
    },
    {
     "name": "stderr",
     "output_type": "stream",
     "text": [
      "100%|██████████| 100/100 [00:08<00:00, 11.82it/s]\n",
      "  0%|          | 0/98 [00:00<?, ?it/s]"
     ]
    },
    {
     "name": "stdout",
     "output_type": "stream",
     "text": [
      "initial_potential =  26333.35881292234\n",
      "final_potential =  26326.342743591995\n",
      "energy_change =  0.4663990163098788\n",
      "p accept =  0.6272569483537719\n",
      "current step size = 1.7564077254274616e-05\n",
      "current acceptance ratio = 0.6505376344086021\n",
      "currently working on step 559\n"
     ]
    },
    {
     "name": "stderr",
     "output_type": "stream",
     "text": [
      "100%|██████████| 98/98 [00:08<00:00, 11.75it/s]\n",
      "  0%|          | 0/100 [00:00<?, ?it/s]"
     ]
    },
    {
     "name": "stdout",
     "output_type": "stream",
     "text": [
      "initial_potential =  26333.35881292234\n",
      "final_potential =  26384.61866479773\n",
      "energy_change =  1.13164099502319\n",
      "p accept =  0.32250359516074506\n",
      "current step size = 1.7564077254274616e-05\n",
      "current acceptance ratio = 0.6493738819320215\n",
      "currently working on step 560\n"
     ]
    },
    {
     "name": "stderr",
     "output_type": "stream",
     "text": [
      "100%|██████████| 100/100 [00:08<00:00, 11.84it/s]\n",
      "  0%|          | 0/98 [00:00<?, ?it/s]"
     ]
    },
    {
     "name": "stdout",
     "output_type": "stream",
     "text": [
      "initial_potential =  26333.35881292234\n",
      "final_potential =  26396.26536585815\n",
      "energy_change =  0.5839028440823313\n",
      "p accept =  0.5577174292362903\n",
      "current step size = 1.7564077254274616e-05\n",
      "current acceptance ratio = 0.65\n",
      "currently working on step 561\n"
     ]
    },
    {
     "name": "stderr",
     "output_type": "stream",
     "text": [
      "100%|██████████| 98/98 [00:08<00:00, 11.92it/s]\n",
      "  0%|          | 0/98 [00:00<?, ?it/s]"
     ]
    },
    {
     "name": "stdout",
     "output_type": "stream",
     "text": [
      "initial_potential =  26396.26536585815\n",
      "final_potential =  26531.75506711336\n",
      "energy_change =  -0.18752984097227454\n",
      "p accept =  1.2062662450414798\n",
      "current step size = 1.7564077254274616e-05\n",
      "current acceptance ratio = 0.6506238859180036\n",
      "currently working on step 562\n"
     ]
    },
    {
     "name": "stderr",
     "output_type": "stream",
     "text": [
      "100%|██████████| 98/98 [00:08<00:00, 11.84it/s]\n",
      "  0%|          | 0/99 [00:00<?, ?it/s]"
     ]
    },
    {
     "name": "stdout",
     "output_type": "stream",
     "text": [
      "initial_potential =  26531.75506711336\n",
      "final_potential =  26533.741835436143\n",
      "energy_change =  0.021277436186210252\n",
      "p accept =  0.9789473314766317\n",
      "current step size = 1.7564077254274616e-05\n",
      "current acceptance ratio = 0.6512455516014235\n",
      "currently working on step 563\n"
     ]
    },
    {
     "name": "stderr",
     "output_type": "stream",
     "text": [
      "100%|██████████| 99/99 [00:08<00:00, 11.81it/s]\n",
      "  0%|          | 0/98 [00:00<?, ?it/s]"
     ]
    },
    {
     "name": "stdout",
     "output_type": "stream",
     "text": [
      "initial_potential =  26533.741835436143\n",
      "final_potential =  26606.305202494492\n",
      "energy_change =  1.3879097987082787\n",
      "p accept =  0.24959646663214463\n",
      "current step size = 1.7564077254274616e-05\n",
      "current acceptance ratio = 0.6518650088809946\n",
      "currently working on step 564\n"
     ]
    },
    {
     "name": "stderr",
     "output_type": "stream",
     "text": [
      "100%|██████████| 98/98 [00:08<00:00, 11.97it/s]\n",
      "  0%|          | 0/98 [00:00<?, ?it/s]"
     ]
    },
    {
     "name": "stdout",
     "output_type": "stream",
     "text": [
      "initial_potential =  26606.305202494492\n",
      "final_potential =  26630.35984209627\n",
      "energy_change =  0.668601512137684\n",
      "p accept =  0.5124246966466733\n",
      "current step size = 1.7564077254274616e-05\n",
      "current acceptance ratio = 0.650709219858156\n",
      "currently working on step 565\n"
     ]
    },
    {
     "name": "stderr",
     "output_type": "stream",
     "text": [
      "100%|██████████| 98/98 [00:08<00:00, 11.92it/s]\n",
      "  0%|          | 0/99 [00:00<?, ?it/s]"
     ]
    },
    {
     "name": "stdout",
     "output_type": "stream",
     "text": [
      "initial_potential =  26606.305202494492\n",
      "final_potential =  26571.895425505776\n",
      "energy_change =  -1.50895991762809\n",
      "p accept =  4.522025069007882\n",
      "current step size = 1.7564077254274616e-05\n",
      "current acceptance ratio = 0.6513274336283186\n",
      "currently working on step 566\n"
     ]
    },
    {
     "name": "stderr",
     "output_type": "stream",
     "text": [
      "100%|██████████| 99/99 [00:08<00:00, 11.96it/s]\n",
      "  0%|          | 0/99 [00:00<?, ?it/s]"
     ]
    },
    {
     "name": "stdout",
     "output_type": "stream",
     "text": [
      "initial_potential =  26571.895425505776\n",
      "final_potential =  26579.175919920883\n",
      "energy_change =  1.0538569467316847\n",
      "p accept =  0.34859065735395167\n",
      "current step size = 1.7564077254274616e-05\n",
      "current acceptance ratio = 0.6501766784452296\n",
      "currently working on step 567\n"
     ]
    },
    {
     "name": "stderr",
     "output_type": "stream",
     "text": [
      "100%|██████████| 99/99 [00:08<00:00, 11.90it/s]\n",
      "  0%|          | 0/101 [00:00<?, ?it/s]"
     ]
    },
    {
     "name": "stdout",
     "output_type": "stream",
     "text": [
      "initial_potential =  26571.895425505776\n",
      "final_potential =  26589.392511641163\n",
      "energy_change =  5.292401358121424\n",
      "p accept =  0.005029667712823905\n",
      "current step size = 1.7564077254274616e-05\n",
      "current acceptance ratio = 0.6490299823633157\n",
      "currently working on step 568\n"
     ]
    },
    {
     "name": "stderr",
     "output_type": "stream",
     "text": [
      "100%|██████████| 101/101 [00:08<00:00, 12.03it/s]\n",
      "  0%|          | 0/101 [00:00<?, ?it/s]"
     ]
    },
    {
     "name": "stdout",
     "output_type": "stream",
     "text": [
      "initial_potential =  26571.895425505776\n",
      "final_potential =  26505.116706816883\n",
      "energy_change =  0.2976409625116503\n",
      "p accept =  0.7425679016063826\n",
      "current step size = 1.7564077254274616e-05\n",
      "current acceptance ratio = 0.6496478873239436\n",
      "currently working on step 569\n"
     ]
    },
    {
     "name": "stderr",
     "output_type": "stream",
     "text": [
      "100%|██████████| 101/101 [00:08<00:00, 11.89it/s]\n",
      "  0%|          | 0/97 [00:00<?, ?it/s]"
     ]
    },
    {
     "name": "stdout",
     "output_type": "stream",
     "text": [
      "initial_potential =  26505.116706816883\n",
      "final_potential =  26593.61070126171\n",
      "energy_change =  0.04892448852478992\n",
      "p accept =  0.9522530330150042\n",
      "current step size = 1.7564077254274616e-05\n",
      "current acceptance ratio = 0.6502636203866432\n",
      "currently working on step 570\n"
     ]
    },
    {
     "name": "stderr",
     "output_type": "stream",
     "text": [
      "100%|██████████| 97/97 [00:08<00:00, 11.84it/s]\n",
      "  0%|          | 0/101 [00:00<?, ?it/s]"
     ]
    },
    {
     "name": "stdout",
     "output_type": "stream",
     "text": [
      "initial_potential =  26593.61070126171\n",
      "final_potential =  26615.315528948035\n",
      "energy_change =  -0.7346598198928405\n",
      "p accept =  2.0847726736722567\n",
      "current step size = 1.7564077254274616e-05\n",
      "current acceptance ratio = 0.6508771929824562\n",
      "currently working on step 571\n"
     ]
    },
    {
     "name": "stderr",
     "output_type": "stream",
     "text": [
      "100%|██████████| 101/101 [00:08<00:00, 11.99it/s]\n",
      "  0%|          | 0/98 [00:00<?, ?it/s]"
     ]
    },
    {
     "name": "stdout",
     "output_type": "stream",
     "text": [
      "initial_potential =  26615.315528948035\n",
      "final_potential =  26640.285453531702\n",
      "energy_change =  0.10592074370651972\n",
      "p accept =  0.899495935964765\n",
      "current step size = 1.7564077254274616e-05\n",
      "current acceptance ratio = 0.6514886164623468\n",
      "currently working on step 572\n"
     ]
    },
    {
     "name": "stderr",
     "output_type": "stream",
     "text": [
      "100%|██████████| 98/98 [00:08<00:00, 11.98it/s]\n",
      "  0%|          | 0/97 [00:00<?, ?it/s]"
     ]
    },
    {
     "name": "stdout",
     "output_type": "stream",
     "text": [
      "initial_potential =  26640.285453531702\n",
      "final_potential =  26645.57173596529\n",
      "energy_change =  2.518592453780002\n",
      "p accept =  0.0805729371050213\n",
      "current step size = 1.7564077254274616e-05\n",
      "current acceptance ratio = 0.6503496503496503\n",
      "currently working on step 573\n"
     ]
    },
    {
     "name": "stderr",
     "output_type": "stream",
     "text": [
      "100%|██████████| 97/97 [00:08<00:00, 11.95it/s]\n",
      "  0%|          | 0/100 [00:00<?, ?it/s]"
     ]
    },
    {
     "name": "stdout",
     "output_type": "stream",
     "text": [
      "initial_potential =  26640.285453531702\n",
      "final_potential =  26674.91809348926\n",
      "energy_change =  0.4875030072435038\n",
      "p accept =  0.6141580292982168\n",
      "current step size = 1.7564077254274616e-05\n",
      "current acceptance ratio = 0.6509598603839442\n",
      "currently working on step 574\n"
     ]
    },
    {
     "name": "stderr",
     "output_type": "stream",
     "text": [
      "100%|██████████| 100/100 [00:08<00:00, 11.98it/s]\n",
      "  0%|          | 0/99 [00:00<?, ?it/s]"
     ]
    },
    {
     "name": "stdout",
     "output_type": "stream",
     "text": [
      "initial_potential =  26674.91809348926\n",
      "final_potential =  26757.488648280287\n",
      "energy_change =  0.3676459574344335\n",
      "p accept =  0.6923622640136357\n",
      "current step size = 1.7564077254274616e-05\n",
      "current acceptance ratio = 0.6515679442508711\n",
      "currently working on step 575\n"
     ]
    },
    {
     "name": "stderr",
     "output_type": "stream",
     "text": [
      "100%|██████████| 99/99 [00:08<00:00, 11.93it/s]\n",
      "  0%|          | 0/100 [00:00<?, ?it/s]"
     ]
    },
    {
     "name": "stdout",
     "output_type": "stream",
     "text": [
      "initial_potential =  26757.488648280287\n",
      "final_potential =  26773.67005630549\n",
      "energy_change =  0.3325490110873943\n",
      "p accept =  0.7170935224694115\n",
      "current step size = 1.7564077254274616e-05\n",
      "current acceptance ratio = 0.6504347826086957\n",
      "currently working on step 576\n"
     ]
    },
    {
     "name": "stderr",
     "output_type": "stream",
     "text": [
      "100%|██████████| 100/100 [00:08<00:00, 11.97it/s]\n",
      "  0%|          | 0/99 [00:00<?, ?it/s]"
     ]
    },
    {
     "name": "stdout",
     "output_type": "stream",
     "text": [
      "initial_potential =  26757.488648280287\n",
      "final_potential =  26701.100066027022\n",
      "energy_change =  -1.0578061276464723\n",
      "p accept =  2.8800456008370285\n",
      "current step size = 1.7564077254274616e-05\n",
      "current acceptance ratio = 0.6510416666666666\n",
      "currently working on step 577\n"
     ]
    },
    {
     "name": "stderr",
     "output_type": "stream",
     "text": [
      "100%|██████████| 99/99 [00:08<00:00, 11.90it/s]\n",
      "  0%|          | 0/101 [00:00<?, ?it/s]"
     ]
    },
    {
     "name": "stdout",
     "output_type": "stream",
     "text": [
      "initial_potential =  26701.100066027022\n",
      "final_potential =  26706.688156262404\n",
      "energy_change =  0.06303763733012602\n",
      "p accept =  0.9389081350286749\n",
      "current step size = 1.7564077254274616e-05\n",
      "current acceptance ratio = 0.6516464471403813\n",
      "currently working on step 578\n"
     ]
    },
    {
     "name": "stderr",
     "output_type": "stream",
     "text": [
      "100%|██████████| 101/101 [00:08<00:00, 11.97it/s]\n",
      "  0%|          | 0/100 [00:00<?, ?it/s]"
     ]
    },
    {
     "name": "stdout",
     "output_type": "stream",
     "text": [
      "initial_potential =  26706.688156262404\n",
      "final_potential =  26751.074498299393\n",
      "energy_change =  2.7536389104352565\n",
      "p accept =  0.06369565618832289\n",
      "current step size = 1.7564077254274616e-05\n",
      "current acceptance ratio = 0.6505190311418685\n",
      "currently working on step 579\n"
     ]
    },
    {
     "name": "stderr",
     "output_type": "stream",
     "text": [
      "100%|██████████| 100/100 [00:08<00:00, 12.04it/s]\n",
      "  0%|          | 0/98 [00:00<?, ?it/s]"
     ]
    },
    {
     "name": "stdout",
     "output_type": "stream",
     "text": [
      "initial_potential =  26706.688156262404\n",
      "final_potential =  26736.362107247143\n",
      "energy_change =  1.3400204653444234\n",
      "p accept =  0.2618403098733668\n",
      "current step size = 1.7564077254274616e-05\n",
      "current acceptance ratio = 0.6493955094991365\n",
      "currently working on step 580\n"
     ]
    },
    {
     "name": "stderr",
     "output_type": "stream",
     "text": [
      "100%|██████████| 98/98 [00:08<00:00, 11.99it/s]\n",
      "  0%|          | 0/98 [00:00<?, ?it/s]"
     ]
    },
    {
     "name": "stdout",
     "output_type": "stream",
     "text": [
      "initial_potential =  26706.688156262404\n",
      "final_potential =  26708.202298240212\n",
      "energy_change =  0.043715336185414344\n",
      "p accept =  0.9572264064133014\n",
      "current step size = 1.7564077254274616e-05\n",
      "current acceptance ratio = 0.65\n",
      "currently working on step 581\n"
     ]
    },
    {
     "name": "stderr",
     "output_type": "stream",
     "text": [
      "100%|██████████| 98/98 [00:08<00:00, 11.86it/s]\n",
      "  0%|          | 0/97 [00:00<?, ?it/s]"
     ]
    },
    {
     "name": "stdout",
     "output_type": "stream",
     "text": [
      "initial_potential =  26708.202298240212\n",
      "final_potential =  26748.31058739731\n",
      "energy_change =  -0.2553168072045082\n",
      "p accept =  1.290870513178118\n",
      "current step size = 1.7564077254274616e-05\n",
      "current acceptance ratio = 0.6506024096385542\n",
      "currently working on step 582\n"
     ]
    },
    {
     "name": "stderr",
     "output_type": "stream",
     "text": [
      "100%|██████████| 97/97 [00:08<00:00, 11.91it/s]\n",
      "  0%|          | 0/99 [00:00<?, ?it/s]"
     ]
    },
    {
     "name": "stdout",
     "output_type": "stream",
     "text": [
      "initial_potential =  26748.31058739731\n",
      "final_potential =  26769.108698465898\n",
      "energy_change =  0.028525584246381186\n",
      "p accept =  0.9718774290764631\n",
      "current step size = 1.7564077254274616e-05\n",
      "current acceptance ratio = 0.6512027491408935\n",
      "currently working on step 583\n"
     ]
    },
    {
     "name": "stderr",
     "output_type": "stream",
     "text": [
      "100%|██████████| 99/99 [00:08<00:00, 11.90it/s]\n",
      "  0%|          | 0/101 [00:00<?, ?it/s]"
     ]
    },
    {
     "name": "stdout",
     "output_type": "stream",
     "text": [
      "initial_potential =  26769.108698465898\n",
      "final_potential =  26740.06940646535\n",
      "energy_change =  0.4412253267073538\n",
      "p accept =  0.6432477493448294\n",
      "current step size = 1.7564077254274616e-05\n",
      "current acceptance ratio = 0.6518010291595198\n",
      "currently working on step 584\n"
     ]
    },
    {
     "name": "stderr",
     "output_type": "stream",
     "text": [
      "100%|██████████| 101/101 [00:08<00:00, 11.96it/s]\n",
      "  0%|          | 0/99 [00:00<?, ?it/s]"
     ]
    },
    {
     "name": "stdout",
     "output_type": "stream",
     "text": [
      "initial_potential =  26740.06940646535\n",
      "final_potential =  26764.577309767243\n",
      "energy_change =  -0.05364531108352821\n",
      "p accept =  1.0551102998495527\n",
      "current step size = 1.7564077254274616e-05\n",
      "current acceptance ratio = 0.6523972602739726\n",
      "currently working on step 585\n"
     ]
    },
    {
     "name": "stderr",
     "output_type": "stream",
     "text": [
      "100%|██████████| 99/99 [00:08<00:00, 11.95it/s]\n",
      "  0%|          | 0/98 [00:00<?, ?it/s]"
     ]
    },
    {
     "name": "stdout",
     "output_type": "stream",
     "text": [
      "initial_potential =  26764.577309767243\n",
      "final_potential =  26748.864243213742\n",
      "energy_change =  -0.053731518069980666\n",
      "p accept =  1.0552012616495927\n",
      "current step size = 1.7564077254274616e-05\n",
      "current acceptance ratio = 0.652991452991453\n",
      "currently working on step 586\n"
     ]
    },
    {
     "name": "stderr",
     "output_type": "stream",
     "text": [
      "100%|██████████| 98/98 [00:08<00:00, 11.80it/s]\n",
      "  0%|          | 0/97 [00:00<?, ?it/s]"
     ]
    },
    {
     "name": "stdout",
     "output_type": "stream",
     "text": [
      "initial_potential =  26748.864243213742\n",
      "final_potential =  26785.474340030425\n",
      "energy_change =  0.5283378903986886\n",
      "p accept =  0.5895841091429749\n",
      "current step size = 1.7564077254274616e-05\n",
      "current acceptance ratio = 0.6518771331058021\n",
      "currently working on step 587\n"
     ]
    },
    {
     "name": "stderr",
     "output_type": "stream",
     "text": [
      "100%|██████████| 97/97 [00:08<00:00, 11.84it/s]\n",
      "  0%|          | 0/100 [00:00<?, ?it/s]"
     ]
    },
    {
     "name": "stdout",
     "output_type": "stream",
     "text": [
      "initial_potential =  26748.864243213742\n",
      "final_potential =  26723.52151798798\n",
      "energy_change =  0.019173162130755372\n",
      "p accept =  0.9810094738433299\n",
      "current step size = 1.7564077254274616e-05\n",
      "current acceptance ratio = 0.6524701873935264\n",
      "currently working on step 588\n"
     ]
    },
    {
     "name": "stderr",
     "output_type": "stream",
     "text": [
      "100%|██████████| 100/100 [00:08<00:00, 11.87it/s]\n",
      "  0%|          | 0/97 [00:00<?, ?it/s]"
     ]
    },
    {
     "name": "stdout",
     "output_type": "stream",
     "text": [
      "initial_potential =  26723.52151798798\n",
      "final_potential =  26749.28527209304\n",
      "energy_change =  -0.3057331919699209\n",
      "p accept =  1.3576200342945224\n",
      "current step size = 1.7564077254274616e-05\n",
      "current acceptance ratio = 0.6530612244897959\n",
      "currently working on step 589\n"
     ]
    },
    {
     "name": "stderr",
     "output_type": "stream",
     "text": [
      "100%|██████████| 97/97 [00:08<00:00, 11.93it/s]\n",
      "  0%|          | 0/97 [00:00<?, ?it/s]"
     ]
    },
    {
     "name": "stdout",
     "output_type": "stream",
     "text": [
      "initial_potential =  26749.28527209304\n",
      "final_potential =  26737.280900231097\n",
      "energy_change =  0.16821759173762985\n",
      "p accept =  0.845169912685537\n",
      "current step size = 1.7564077254274616e-05\n",
      "current acceptance ratio = 0.6536502546689303\n",
      "currently working on step 590\n"
     ]
    },
    {
     "name": "stderr",
     "output_type": "stream",
     "text": [
      "100%|██████████| 97/97 [00:08<00:00, 11.77it/s]\n",
      "  0%|          | 0/99 [00:00<?, ?it/s]"
     ]
    },
    {
     "name": "stdout",
     "output_type": "stream",
     "text": [
      "initial_potential =  26737.280900231097\n",
      "final_potential =  26744.816389917913\n",
      "energy_change =  -0.07813192132744007\n",
      "p accept =  1.0812652912142708\n",
      "current step size = 1.7564077254274616e-05\n",
      "current acceptance ratio = 0.6542372881355932\n",
      "currently working on step 591\n"
     ]
    },
    {
     "name": "stderr",
     "output_type": "stream",
     "text": [
      "100%|██████████| 99/99 [00:08<00:00, 11.49it/s]\n",
      "  0%|          | 0/97 [00:00<?, ?it/s]"
     ]
    },
    {
     "name": "stdout",
     "output_type": "stream",
     "text": [
      "initial_potential =  26744.816389917913\n",
      "final_potential =  26731.61792099774\n",
      "energy_change =  0.38576241869304795\n",
      "p accept =  0.6799320456365411\n",
      "current step size = 1.7564077254274616e-05\n",
      "current acceptance ratio = 0.6548223350253807\n",
      "currently working on step 592\n"
     ]
    },
    {
     "name": "stderr",
     "output_type": "stream",
     "text": [
      "100%|██████████| 97/97 [00:08<00:00, 11.89it/s]\n",
      "  0%|          | 0/98 [00:00<?, ?it/s]"
     ]
    },
    {
     "name": "stdout",
     "output_type": "stream",
     "text": [
      "initial_potential =  26731.61792099774\n",
      "final_potential =  26728.79856200373\n",
      "energy_change =  -0.16082908722455613\n",
      "p accept =  1.1744842173015673\n",
      "current step size = 1.7564077254274616e-05\n",
      "current acceptance ratio = 0.6554054054054054\n",
      "currently working on step 593\n"
     ]
    },
    {
     "name": "stderr",
     "output_type": "stream",
     "text": [
      "100%|██████████| 98/98 [00:08<00:00, 12.18it/s]\n",
      "  0%|          | 0/98 [00:00<?, ?it/s]"
     ]
    },
    {
     "name": "stdout",
     "output_type": "stream",
     "text": [
      "initial_potential =  26728.79856200373\n",
      "final_potential =  26706.443104292557\n",
      "energy_change =  -0.2861758598301094\n",
      "p accept =  1.331326561529674\n",
      "current step size = 1.7564077254274616e-05\n",
      "current acceptance ratio = 0.6559865092748736\n",
      "currently working on step 594\n"
     ]
    },
    {
     "name": "stderr",
     "output_type": "stream",
     "text": [
      "100%|██████████| 98/98 [00:08<00:00, 11.99it/s]\n",
      "  0%|          | 0/101 [00:00<?, ?it/s]"
     ]
    },
    {
     "name": "stdout",
     "output_type": "stream",
     "text": [
      "initial_potential =  26706.443104292557\n",
      "final_potential =  26629.697186505993\n",
      "energy_change =  0.7481821300898446\n",
      "p accept =  0.47322603466027546\n",
      "current step size = 1.7564077254274616e-05\n",
      "current acceptance ratio = 0.6565656565656566\n",
      "currently working on step 595\n"
     ]
    },
    {
     "name": "stderr",
     "output_type": "stream",
     "text": [
      "100%|██████████| 101/101 [00:08<00:00, 11.88it/s]\n",
      "  0%|          | 0/100 [00:00<?, ?it/s]"
     ]
    },
    {
     "name": "stdout",
     "output_type": "stream",
     "text": [
      "initial_potential =  26629.697186505993\n",
      "final_potential =  26714.46972661995\n",
      "energy_change =  -0.6828549327328801\n",
      "p accept =  1.9795210722238612\n",
      "current step size = 1.7564077254274616e-05\n",
      "current acceptance ratio = 0.6571428571428571\n",
      "currently working on step 596\n"
     ]
    },
    {
     "name": "stderr",
     "output_type": "stream",
     "text": [
      "100%|██████████| 100/100 [00:08<00:00, 11.89it/s]\n",
      "  0%|          | 0/98 [00:00<?, ?it/s]"
     ]
    },
    {
     "name": "stdout",
     "output_type": "stream",
     "text": [
      "initial_potential =  26714.46972661995\n",
      "final_potential =  26774.00985537302\n",
      "energy_change =  1.5059143306716578\n",
      "p accept =  0.22181438938557543\n",
      "current step size = 1.7564077254274616e-05\n",
      "current acceptance ratio = 0.6560402684563759\n",
      "currently working on step 597\n"
     ]
    },
    {
     "name": "stderr",
     "output_type": "stream",
     "text": [
      "100%|██████████| 98/98 [00:08<00:00, 11.95it/s]\n",
      "  0%|          | 0/101 [00:00<?, ?it/s]"
     ]
    },
    {
     "name": "stdout",
     "output_type": "stream",
     "text": [
      "initial_potential =  26714.46972661995\n",
      "final_potential =  26752.910025295092\n",
      "energy_change =  0.19007423368748277\n",
      "p accept =  0.826897747995933\n",
      "current step size = 1.7564077254274616e-05\n",
      "current acceptance ratio = 0.6566164154103853\n",
      "currently working on step 598\n"
     ]
    },
    {
     "name": "stderr",
     "output_type": "stream",
     "text": [
      "100%|██████████| 101/101 [00:08<00:00, 11.96it/s]\n",
      "  0%|          | 0/97 [00:00<?, ?it/s]"
     ]
    },
    {
     "name": "stdout",
     "output_type": "stream",
     "text": [
      "initial_potential =  26752.910025295092\n",
      "final_potential =  26760.53993148271\n",
      "energy_change =  -0.03523021499859169\n",
      "p accept =  1.0358581514349086\n",
      "current step size = 1.7564077254274616e-05\n",
      "current acceptance ratio = 0.657190635451505\n",
      "currently working on step 599\n"
     ]
    },
    {
     "name": "stderr",
     "output_type": "stream",
     "text": [
      "100%|██████████| 97/97 [00:08<00:00, 11.94it/s]\n",
      "  0%|          | 0/98 [00:00<?, ?it/s]"
     ]
    },
    {
     "name": "stdout",
     "output_type": "stream",
     "text": [
      "initial_potential =  26760.53993148271\n",
      "final_potential =  26761.813689888306\n",
      "energy_change =  0.05292581730464008\n",
      "p accept =  0.948450368477416\n",
      "current step size = 1.7564077254274616e-05\n",
      "current acceptance ratio = 0.657762938230384\n",
      "currently working on step 600\n"
     ]
    },
    {
     "name": "stderr",
     "output_type": "stream",
     "text": [
      "100%|██████████| 98/98 [00:08<00:00, 11.52it/s]\n",
      "  0%|          | 0/101 [00:00<?, ?it/s]"
     ]
    },
    {
     "name": "stdout",
     "output_type": "stream",
     "text": [
      "initial_potential =  26761.813689888306\n",
      "final_potential =  26766.670745873555\n",
      "energy_change =  3.747051669532084\n",
      "p accept =  0.02358718625897921\n",
      "current step size = 1.7564077254274616e-05\n",
      "current acceptance ratio = 0.6566666666666666\n",
      "currently working on step 601\n"
     ]
    },
    {
     "name": "stderr",
     "output_type": "stream",
     "text": [
      "100%|██████████| 101/101 [00:08<00:00, 11.84it/s]\n",
      "  0%|          | 0/99 [00:00<?, ?it/s]"
     ]
    },
    {
     "name": "stdout",
     "output_type": "stream",
     "text": [
      "initial_potential =  26761.813689888306\n",
      "final_potential =  26829.61828175999\n",
      "energy_change =  0.8492426725279074\n",
      "p accept =  0.42773874762044917\n",
      "current step size = 1.7564077254274616e-05\n",
      "current acceptance ratio = 0.6555740432612313\n",
      "currently working on step 602\n"
     ]
    },
    {
     "name": "stderr",
     "output_type": "stream",
     "text": [
      "100%|██████████| 99/99 [00:08<00:00, 11.91it/s]\n",
      "  0%|          | 0/99 [00:00<?, ?it/s]"
     ]
    },
    {
     "name": "stdout",
     "output_type": "stream",
     "text": [
      "initial_potential =  26761.813689888306\n",
      "final_potential =  26722.57243461718\n",
      "energy_change =  -0.06430907682806719\n",
      "p accept =  1.0664219541448838\n",
      "current step size = 1.7564077254274616e-05\n",
      "current acceptance ratio = 0.6561461794019934\n",
      "currently working on step 603\n"
     ]
    },
    {
     "name": "stderr",
     "output_type": "stream",
     "text": [
      "100%|██████████| 99/99 [00:08<00:00, 11.91it/s]\n",
      "  0%|          | 0/98 [00:00<?, ?it/s]"
     ]
    },
    {
     "name": "stdout",
     "output_type": "stream",
     "text": [
      "initial_potential =  26722.57243461718\n",
      "final_potential =  26724.05054179017\n",
      "energy_change =  1.7655990713392384\n",
      "p accept =  0.17108426409967895\n",
      "current step size = 1.7564077254274616e-05\n",
      "current acceptance ratio = 0.6550580431177446\n",
      "currently working on step 604\n"
     ]
    },
    {
     "name": "stderr",
     "output_type": "stream",
     "text": [
      "100%|██████████| 98/98 [00:08<00:00, 11.85it/s]\n",
      "  0%|          | 0/97 [00:00<?, ?it/s]"
     ]
    },
    {
     "name": "stdout",
     "output_type": "stream",
     "text": [
      "initial_potential =  26722.57243461718\n",
      "final_potential =  26697.09214226047\n",
      "energy_change =  -0.2315523147699423\n",
      "p accept =  1.2605552705116518\n",
      "current step size = 1.7564077254274616e-05\n",
      "current acceptance ratio = 0.6556291390728477\n",
      "currently working on step 605\n"
     ]
    },
    {
     "name": "stderr",
     "output_type": "stream",
     "text": [
      "100%|██████████| 97/97 [00:08<00:00, 11.90it/s]\n",
      "  0%|          | 0/98 [00:00<?, ?it/s]"
     ]
    },
    {
     "name": "stdout",
     "output_type": "stream",
     "text": [
      "initial_potential =  26697.09214226047\n",
      "final_potential =  26720.637819646334\n",
      "energy_change =  0.10940990276867524\n",
      "p accept =  0.8963629205415032\n",
      "current step size = 1.7564077254274616e-05\n",
      "current acceptance ratio = 0.656198347107438\n",
      "currently working on step 606\n"
     ]
    },
    {
     "name": "stderr",
     "output_type": "stream",
     "text": [
      "100%|██████████| 98/98 [00:08<00:00, 11.89it/s]\n",
      "  0%|          | 0/98 [00:00<?, ?it/s]"
     ]
    },
    {
     "name": "stdout",
     "output_type": "stream",
     "text": [
      "initial_potential =  26720.637819646334\n",
      "final_potential =  26749.475373777084\n",
      "energy_change =  0.2386965358600719\n",
      "p accept =  0.7876538708131104\n",
      "current step size = 1.7564077254274616e-05\n",
      "current acceptance ratio = 0.6567656765676567\n",
      "currently working on step 607\n"
     ]
    },
    {
     "name": "stderr",
     "output_type": "stream",
     "text": [
      "100%|██████████| 98/98 [00:08<00:00, 11.92it/s]\n",
      "  0%|          | 0/97 [00:00<?, ?it/s]"
     ]
    },
    {
     "name": "stdout",
     "output_type": "stream",
     "text": [
      "initial_potential =  26749.475373777084\n",
      "final_potential =  26680.861709952438\n",
      "energy_change =  0.25716485374141484\n",
      "p accept =  0.7732407316301607\n",
      "current step size = 1.7564077254274616e-05\n",
      "current acceptance ratio = 0.657331136738056\n",
      "currently working on step 608\n"
     ]
    },
    {
     "name": "stderr",
     "output_type": "stream",
     "text": [
      "100%|██████████| 97/97 [00:08<00:00, 11.91it/s]\n",
      "  0%|          | 0/101 [00:00<?, ?it/s]"
     ]
    },
    {
     "name": "stdout",
     "output_type": "stream",
     "text": [
      "initial_potential =  26680.861709952438\n",
      "final_potential =  26631.422947084597\n",
      "energy_change =  -0.09665081489947625\n",
      "p accept =  1.1014756875629133\n",
      "current step size = 1.7564077254274616e-05\n",
      "current acceptance ratio = 0.6578947368421053\n",
      "currently working on step 609\n"
     ]
    },
    {
     "name": "stderr",
     "output_type": "stream",
     "text": [
      "100%|██████████| 101/101 [00:08<00:00, 11.80it/s]\n",
      "  0%|          | 0/98 [00:00<?, ?it/s]"
     ]
    },
    {
     "name": "stdout",
     "output_type": "stream",
     "text": [
      "initial_potential =  26631.422947084597\n",
      "final_potential =  26615.540760949563\n",
      "energy_change =  0.0540697782416828\n",
      "p accept =  0.947365998661764\n",
      "current step size = 1.7564077254274616e-05\n",
      "current acceptance ratio = 0.6584564860426929\n",
      "currently working on step 610\n"
     ]
    },
    {
     "name": "stderr",
     "output_type": "stream",
     "text": [
      "100%|██████████| 98/98 [00:08<00:00, 11.91it/s]\n",
      "  0%|          | 0/98 [00:00<?, ?it/s]"
     ]
    },
    {
     "name": "stdout",
     "output_type": "stream",
     "text": [
      "initial_potential =  26615.540760949563\n",
      "final_potential =  26603.59726095601\n",
      "energy_change =  4.9366191190929385\n",
      "p accept =  0.007178828153271563\n",
      "current step size = 1.7564077254274616e-05\n",
      "current acceptance ratio = 0.6573770491803279\n",
      "currently working on step 611\n"
     ]
    },
    {
     "name": "stderr",
     "output_type": "stream",
     "text": [
      "100%|██████████| 98/98 [00:08<00:00, 11.96it/s]\n",
      "  0%|          | 0/98 [00:00<?, ?it/s]"
     ]
    },
    {
     "name": "stdout",
     "output_type": "stream",
     "text": [
      "initial_potential =  26615.540760949563\n",
      "final_potential =  26694.955597929427\n",
      "energy_change =  0.2428621537401341\n",
      "p accept =  0.784379630117995\n",
      "current step size = 1.7564077254274616e-05\n",
      "current acceptance ratio = 0.6579378068739771\n",
      "currently working on step 612\n"
     ]
    },
    {
     "name": "stderr",
     "output_type": "stream",
     "text": [
      "100%|██████████| 98/98 [00:08<00:00, 11.76it/s]\n",
      "  0%|          | 0/98 [00:00<?, ?it/s]"
     ]
    },
    {
     "name": "stdout",
     "output_type": "stream",
     "text": [
      "initial_potential =  26694.955597929427\n",
      "final_potential =  26695.57281856967\n",
      "energy_change =  0.3002737095230259\n",
      "p accept =  0.7406154794272579\n",
      "current step size = 1.7564077254274616e-05\n",
      "current acceptance ratio = 0.6584967320261438\n",
      "currently working on step 613\n"
     ]
    },
    {
     "name": "stderr",
     "output_type": "stream",
     "text": [
      "100%|██████████| 98/98 [00:08<00:00, 11.88it/s]\n",
      "  0%|          | 0/98 [00:00<?, ?it/s]"
     ]
    },
    {
     "name": "stdout",
     "output_type": "stream",
     "text": [
      "initial_potential =  26695.57281856967\n",
      "final_potential =  26754.55663222721\n",
      "energy_change =  0.5703753038978903\n",
      "p accept =  0.5653132346210368\n",
      "current step size = 1.7564077254274616e-05\n",
      "current acceptance ratio = 0.6574225122349103\n",
      "currently working on step 614\n"
     ]
    },
    {
     "name": "stderr",
     "output_type": "stream",
     "text": [
      "100%|██████████| 98/98 [00:08<00:00, 11.96it/s]\n",
      "  0%|          | 0/97 [00:00<?, ?it/s]"
     ]
    },
    {
     "name": "stdout",
     "output_type": "stream",
     "text": [
      "initial_potential =  26695.57281856967\n",
      "final_potential =  26790.857147740775\n",
      "energy_change =  0.347739275515778\n",
      "p accept =  0.7062829974811132\n",
      "current step size = 1.7564077254274616e-05\n",
      "current acceptance ratio = 0.6579804560260586\n",
      "currently working on step 615\n"
     ]
    },
    {
     "name": "stderr",
     "output_type": "stream",
     "text": [
      "100%|██████████| 97/97 [00:08<00:00, 11.92it/s]\n",
      "  0%|          | 0/99 [00:00<?, ?it/s]"
     ]
    },
    {
     "name": "stdout",
     "output_type": "stream",
     "text": [
      "initial_potential =  26790.857147740775\n",
      "final_potential =  26858.870255032285\n",
      "energy_change =  15.55836023905431\n",
      "p accept =  1.7502093544666852e-07\n",
      "current step size = 1.7564077254274616e-05\n",
      "current acceptance ratio = 0.656910569105691\n",
      "currently working on step 616\n"
     ]
    },
    {
     "name": "stderr",
     "output_type": "stream",
     "text": [
      "100%|██████████| 99/99 [00:08<00:00, 11.88it/s]\n",
      "  0%|          | 0/99 [00:00<?, ?it/s]"
     ]
    },
    {
     "name": "stdout",
     "output_type": "stream",
     "text": [
      "initial_potential =  26790.857147740775\n",
      "final_potential =  26768.96183714422\n",
      "energy_change =  -0.959546906829928\n",
      "p accept =  2.610513399630276\n",
      "current step size = 1.7564077254274616e-05\n",
      "current acceptance ratio = 0.6574675324675324\n",
      "currently working on step 617\n"
     ]
    },
    {
     "name": "stderr",
     "output_type": "stream",
     "text": [
      "100%|██████████| 99/99 [00:08<00:00, 11.95it/s]\n",
      "  0%|          | 0/101 [00:00<?, ?it/s]"
     ]
    },
    {
     "name": "stdout",
     "output_type": "stream",
     "text": [
      "initial_potential =  26768.96183714422\n",
      "final_potential =  26815.555695030707\n",
      "energy_change =  -0.2910752692114329\n",
      "p accept =  1.337865280224969\n",
      "current step size = 1.7564077254274616e-05\n",
      "current acceptance ratio = 0.6580226904376013\n",
      "currently working on step 618\n"
     ]
    },
    {
     "name": "stderr",
     "output_type": "stream",
     "text": [
      "100%|██████████| 101/101 [00:08<00:00, 11.94it/s]\n",
      "  0%|          | 0/99 [00:00<?, ?it/s]"
     ]
    },
    {
     "name": "stdout",
     "output_type": "stream",
     "text": [
      "initial_potential =  26815.555695030707\n",
      "final_potential =  26828.135838207945\n",
      "energy_change =  1.7339962770201964\n",
      "p accept =  0.17657734610880346\n",
      "current step size = 1.7564077254274616e-05\n",
      "current acceptance ratio = 0.656957928802589\n",
      "currently working on step 619\n"
     ]
    },
    {
     "name": "stderr",
     "output_type": "stream",
     "text": [
      "100%|██████████| 99/99 [00:08<00:00, 11.90it/s]\n",
      "  0%|          | 0/98 [00:00<?, ?it/s]"
     ]
    },
    {
     "name": "stdout",
     "output_type": "stream",
     "text": [
      "initial_potential =  26815.555695030707\n",
      "final_potential =  26783.40993274675\n",
      "energy_change =  0.05610691705078352\n",
      "p accept =  0.9454380470387437\n",
      "current step size = 1.7564077254274616e-05\n",
      "current acceptance ratio = 0.6575121163166397\n",
      "currently working on step 620\n"
     ]
    },
    {
     "name": "stderr",
     "output_type": "stream",
     "text": [
      "100%|██████████| 98/98 [00:08<00:00, 11.91it/s]\n",
      "  0%|          | 0/99 [00:00<?, ?it/s]"
     ]
    },
    {
     "name": "stdout",
     "output_type": "stream",
     "text": [
      "initial_potential =  26783.40993274675\n",
      "final_potential =  26815.809063041852\n",
      "energy_change =  0.5908170837792568\n",
      "p accept =  0.5538745378929899\n",
      "current step size = 1.7564077254274616e-05\n",
      "current acceptance ratio = 0.6580645161290323\n",
      "currently working on step 621\n"
     ]
    },
    {
     "name": "stderr",
     "output_type": "stream",
     "text": [
      "100%|██████████| 99/99 [00:08<00:00, 11.95it/s]\n",
      "  0%|          | 0/100 [00:00<?, ?it/s]"
     ]
    },
    {
     "name": "stdout",
     "output_type": "stream",
     "text": [
      "initial_potential =  26815.809063041852\n",
      "final_potential =  26800.3404319139\n",
      "energy_change =  0.7698533984075766\n",
      "p accept =  0.46308095174014313\n",
      "current step size = 1.7564077254274616e-05\n",
      "current acceptance ratio = 0.6586151368760065\n",
      "currently working on step 622\n"
     ]
    },
    {
     "name": "stderr",
     "output_type": "stream",
     "text": [
      "100%|██████████| 100/100 [00:08<00:00, 11.96it/s]\n",
      "  0%|          | 0/98 [00:00<?, ?it/s]"
     ]
    },
    {
     "name": "stdout",
     "output_type": "stream",
     "text": [
      "initial_potential =  26800.3404319139\n",
      "final_potential =  26804.91639418384\n",
      "energy_change =  -0.9140156877983827\n",
      "p accept =  2.494318854688945\n",
      "current step size = 1.7564077254274616e-05\n",
      "current acceptance ratio = 0.6591639871382636\n",
      "currently working on step 623\n"
     ]
    },
    {
     "name": "stderr",
     "output_type": "stream",
     "text": [
      "100%|██████████| 98/98 [00:08<00:00, 11.83it/s]\n",
      "  0%|          | 0/100 [00:00<?, ?it/s]"
     ]
    },
    {
     "name": "stdout",
     "output_type": "stream",
     "text": [
      "initial_potential =  26804.91639418384\n",
      "final_potential =  26788.73960076123\n",
      "energy_change =  -0.8832429246831452\n",
      "p accept =  2.418730763484887\n",
      "current step size = 1.7564077254274616e-05\n",
      "current acceptance ratio = 0.6597110754414125\n",
      "currently working on step 624\n"
     ]
    },
    {
     "name": "stderr",
     "output_type": "stream",
     "text": [
      "100%|██████████| 100/100 [00:08<00:00, 11.95it/s]\n",
      "  0%|          | 0/100 [00:00<?, ?it/s]"
     ]
    },
    {
     "name": "stdout",
     "output_type": "stream",
     "text": [
      "initial_potential =  26788.73960076123\n",
      "final_potential =  26786.31557588331\n",
      "energy_change =  0.33771279139909893\n",
      "p accept =  0.7134001531372098\n",
      "current step size = 1.7564077254274616e-05\n",
      "current acceptance ratio = 0.6602564102564102\n",
      "currently working on step 625\n"
     ]
    },
    {
     "name": "stderr",
     "output_type": "stream",
     "text": [
      "100%|██████████| 100/100 [00:08<00:00, 11.95it/s]\n",
      "  0%|          | 0/98 [00:00<?, ?it/s]"
     ]
    },
    {
     "name": "stdout",
     "output_type": "stream",
     "text": [
      "initial_potential =  26786.31557588331\n",
      "final_potential =  26757.561497678715\n",
      "energy_change =  2.9108588587259874\n",
      "p accept =  0.05442896299917913\n",
      "current step size = 1.7564077254274616e-05\n",
      "current acceptance ratio = 0.6592\n",
      "currently working on step 626\n"
     ]
    },
    {
     "name": "stderr",
     "output_type": "stream",
     "text": [
      "100%|██████████| 98/98 [00:08<00:00, 11.87it/s]\n",
      "  0%|          | 0/97 [00:00<?, ?it/s]"
     ]
    },
    {
     "name": "stdout",
     "output_type": "stream",
     "text": [
      "initial_potential =  26786.31557588331\n",
      "final_potential =  26750.74927483088\n",
      "energy_change =  1.7404300476482604\n",
      "p accept =  0.17544493470962086\n",
      "current step size = 1.7564077254274616e-05\n",
      "current acceptance ratio = 0.65814696485623\n",
      "currently working on step 627\n"
     ]
    },
    {
     "name": "stderr",
     "output_type": "stream",
     "text": [
      "100%|██████████| 97/97 [00:08<00:00, 11.90it/s]\n",
      "  0%|          | 0/99 [00:00<?, ?it/s]"
     ]
    },
    {
     "name": "stdout",
     "output_type": "stream",
     "text": [
      "initial_potential =  26786.31557588331\n",
      "final_potential =  26735.983793121733\n",
      "energy_change =  2.3495089884090703\n",
      "p accept =  0.09541600107788582\n",
      "current step size = 1.7564077254274616e-05\n",
      "current acceptance ratio = 0.6570972886762361\n",
      "currently working on step 628\n"
     ]
    },
    {
     "name": "stderr",
     "output_type": "stream",
     "text": [
      "100%|██████████| 99/99 [00:08<00:00, 11.94it/s]\n",
      "  0%|          | 0/100 [00:00<?, ?it/s]"
     ]
    },
    {
     "name": "stdout",
     "output_type": "stream",
     "text": [
      "initial_potential =  26786.31557588331\n",
      "final_potential =  26833.724550420742\n",
      "energy_change =  0.11376918264431879\n",
      "p accept =  0.8924639282744576\n",
      "current step size = 1.7564077254274616e-05\n",
      "current acceptance ratio = 0.6576433121019108\n",
      "currently working on step 629\n"
     ]
    },
    {
     "name": "stderr",
     "output_type": "stream",
     "text": [
      "100%|██████████| 100/100 [00:08<00:00, 11.89it/s]\n",
      "  0%|          | 0/99 [00:00<?, ?it/s]"
     ]
    },
    {
     "name": "stdout",
     "output_type": "stream",
     "text": [
      "initial_potential =  26833.724550420742\n",
      "final_potential =  26864.04500548152\n",
      "energy_change =  -0.20021925774926785\n",
      "p accept =  1.2216705895408535\n",
      "current step size = 1.7564077254274616e-05\n",
      "current acceptance ratio = 0.6581875993640699\n",
      "currently working on step 630\n"
     ]
    },
    {
     "name": "stderr",
     "output_type": "stream",
     "text": [
      "100%|██████████| 99/99 [00:08<00:00, 11.94it/s]\n",
      "  0%|          | 0/97 [00:00<?, ?it/s]"
     ]
    },
    {
     "name": "stdout",
     "output_type": "stream",
     "text": [
      "initial_potential =  26864.04500548152\n",
      "final_potential =  26864.058185260415\n",
      "energy_change =  0.11346791055984795\n",
      "p accept =  0.8927328432486973\n",
      "current step size = 1.7564077254274616e-05\n",
      "current acceptance ratio = 0.6587301587301587\n",
      "currently working on step 631\n"
     ]
    },
    {
     "name": "stderr",
     "output_type": "stream",
     "text": [
      "100%|██████████| 97/97 [00:08<00:00, 11.94it/s]\n",
      "  0%|          | 0/97 [00:00<?, ?it/s]"
     ]
    },
    {
     "name": "stdout",
     "output_type": "stream",
     "text": [
      "initial_potential =  26864.058185260415\n",
      "final_potential =  26992.524635950067\n",
      "energy_change =  0.4243675598409027\n",
      "p accept =  0.6541833861719362\n",
      "current step size = 1.7564077254274616e-05\n",
      "current acceptance ratio = 0.659270998415214\n",
      "currently working on step 632\n"
     ]
    },
    {
     "name": "stderr",
     "output_type": "stream",
     "text": [
      "100%|██████████| 97/97 [00:08<00:00, 11.88it/s]\n",
      "  0%|          | 0/101 [00:00<?, ?it/s]"
     ]
    },
    {
     "name": "stdout",
     "output_type": "stream",
     "text": [
      "initial_potential =  26992.524635950067\n",
      "final_potential =  26975.32699445761\n",
      "energy_change =  -0.6412746206624433\n",
      "p accept =  1.8988997142406545\n",
      "current step size = 1.7564077254274616e-05\n",
      "current acceptance ratio = 0.6598101265822784\n",
      "currently working on step 633\n"
     ]
    },
    {
     "name": "stderr",
     "output_type": "stream",
     "text": [
      "100%|██████████| 101/101 [00:08<00:00, 11.86it/s]\n",
      "  0%|          | 0/98 [00:00<?, ?it/s]"
     ]
    },
    {
     "name": "stdout",
     "output_type": "stream",
     "text": [
      "initial_potential =  26975.32699445761\n",
      "final_potential =  26929.13267010159\n",
      "energy_change =  2.632118730136426\n",
      "p accept =  0.07192590909517274\n",
      "current step size = 1.7564077254274616e-05\n",
      "current acceptance ratio = 0.6587677725118484\n",
      "currently working on step 634\n"
     ]
    },
    {
     "name": "stderr",
     "output_type": "stream",
     "text": [
      "100%|██████████| 98/98 [00:08<00:00, 11.89it/s]\n",
      "  0%|          | 0/98 [00:00<?, ?it/s]"
     ]
    },
    {
     "name": "stdout",
     "output_type": "stream",
     "text": [
      "initial_potential =  26975.32699445761\n",
      "final_potential =  26918.104827059982\n",
      "energy_change =  1.3704115764267044\n",
      "p accept =  0.2540023966376784\n",
      "current step size = 1.7564077254274616e-05\n",
      "current acceptance ratio = 0.6577287066246057\n",
      "currently working on step 635\n"
     ]
    },
    {
     "name": "stderr",
     "output_type": "stream",
     "text": [
      "100%|██████████| 98/98 [00:08<00:00, 11.94it/s]\n",
      "  0%|          | 0/100 [00:00<?, ?it/s]"
     ]
    },
    {
     "name": "stdout",
     "output_type": "stream",
     "text": [
      "initial_potential =  26975.32699445761\n",
      "final_potential =  26924.967942249958\n",
      "energy_change =  0.7193541264568921\n",
      "p accept =  0.487066737910998\n",
      "current step size = 1.7564077254274616e-05\n",
      "current acceptance ratio = 0.658267716535433\n",
      "currently working on step 636\n"
     ]
    },
    {
     "name": "stderr",
     "output_type": "stream",
     "text": [
      "100%|██████████| 100/100 [00:08<00:00, 11.92it/s]\n",
      "  0%|          | 0/99 [00:00<?, ?it/s]"
     ]
    },
    {
     "name": "stdout",
     "output_type": "stream",
     "text": [
      "initial_potential =  26924.967942249958\n",
      "final_potential =  26912.25549295404\n",
      "energy_change =  0.006982059669098817\n",
      "p accept =  0.9930422582801405\n",
      "current step size = 1.7564077254274616e-05\n",
      "current acceptance ratio = 0.6588050314465409\n",
      "currently working on step 637\n"
     ]
    },
    {
     "name": "stderr",
     "output_type": "stream",
     "text": [
      "100%|██████████| 99/99 [00:08<00:00, 11.81it/s]\n",
      "  0%|          | 0/97 [00:00<?, ?it/s]"
     ]
    },
    {
     "name": "stdout",
     "output_type": "stream",
     "text": [
      "initial_potential =  26912.25549295404\n",
      "final_potential =  26832.663826053547\n",
      "energy_change =  -0.003609243474784307\n",
      "p accept =  1.0036157646371417\n",
      "current step size = 1.7564077254274616e-05\n",
      "current acceptance ratio = 0.6593406593406593\n",
      "currently working on step 638\n"
     ]
    },
    {
     "name": "stderr",
     "output_type": "stream",
     "text": [
      "100%|██████████| 97/97 [00:08<00:00, 11.92it/s]\n",
      "  0%|          | 0/101 [00:00<?, ?it/s]"
     ]
    },
    {
     "name": "stdout",
     "output_type": "stream",
     "text": [
      "initial_potential =  26832.663826053547\n",
      "final_potential =  26810.255752592388\n",
      "energy_change =  0.035015944493352436\n",
      "p accept =  0.9655900202911667\n",
      "current step size = 1.7564077254274616e-05\n",
      "current acceptance ratio = 0.6598746081504702\n",
      "currently working on step 639\n"
     ]
    },
    {
     "name": "stderr",
     "output_type": "stream",
     "text": [
      "100%|██████████| 101/101 [00:08<00:00, 11.90it/s]\n",
      "  0%|          | 0/99 [00:00<?, ?it/s]"
     ]
    },
    {
     "name": "stdout",
     "output_type": "stream",
     "text": [
      "initial_potential =  26810.255752592388\n",
      "final_potential =  26735.515945201216\n",
      "energy_change =  0.6066691893647658\n",
      "p accept =  0.5451636853257079\n",
      "current step size = 1.7564077254274616e-05\n",
      "current acceptance ratio = 0.6604068857589984\n",
      "currently working on step 640\n"
     ]
    },
    {
     "name": "stderr",
     "output_type": "stream",
     "text": [
      "100%|██████████| 99/99 [00:08<00:00, 11.84it/s]\n",
      "  0%|          | 0/101 [00:00<?, ?it/s]"
     ]
    },
    {
     "name": "stdout",
     "output_type": "stream",
     "text": [
      "initial_potential =  26735.515945201216\n",
      "final_potential =  26681.639995428457\n",
      "energy_change =  -0.9381919022271177\n",
      "p accept =  2.555356903675372\n",
      "current step size = 1.7564077254274616e-05\n",
      "current acceptance ratio = 0.6609375\n",
      "currently working on step 641\n"
     ]
    },
    {
     "name": "stderr",
     "output_type": "stream",
     "text": [
      "100%|██████████| 101/101 [00:08<00:00, 11.81it/s]\n",
      "  0%|          | 0/99 [00:00<?, ?it/s]"
     ]
    },
    {
     "name": "stdout",
     "output_type": "stream",
     "text": [
      "initial_potential =  26681.639995428457\n",
      "final_potential =  26740.474215808244\n",
      "energy_change =  -0.19993316259933636\n",
      "p accept =  1.2213211255027387\n",
      "current step size = 1.7564077254274616e-05\n",
      "current acceptance ratio = 0.6614664586583463\n",
      "currently working on step 642\n"
     ]
    },
    {
     "name": "stderr",
     "output_type": "stream",
     "text": [
      "100%|██████████| 99/99 [00:08<00:00, 12.31it/s]\n",
      "  0%|          | 0/98 [00:00<?, ?it/s]"
     ]
    },
    {
     "name": "stdout",
     "output_type": "stream",
     "text": [
      "initial_potential =  26740.474215808244\n",
      "final_potential =  26723.433688829602\n",
      "energy_change =  1.3814060134172905\n",
      "p accept =  0.25122507879166495\n",
      "current step size = 1.7564077254274616e-05\n",
      "current acceptance ratio = 0.660436137071651\n",
      "currently working on step 643\n"
     ]
    },
    {
     "name": "stderr",
     "output_type": "stream",
     "text": [
      "100%|██████████| 98/98 [00:08<00:00, 11.88it/s]\n",
      "  0%|          | 0/97 [00:00<?, ?it/s]"
     ]
    },
    {
     "name": "stdout",
     "output_type": "stream",
     "text": [
      "initial_potential =  26740.474215808244\n",
      "final_potential =  26781.88385506408\n",
      "energy_change =  0.06491743509832304\n",
      "p accept =  0.9371448354544469\n",
      "current step size = 1.7564077254274616e-05\n",
      "current acceptance ratio = 0.6609642301710731\n",
      "currently working on step 644\n"
     ]
    },
    {
     "name": "stderr",
     "output_type": "stream",
     "text": [
      "100%|██████████| 97/97 [00:08<00:00, 11.83it/s]\n",
      "  0%|          | 0/97 [00:00<?, ?it/s]"
     ]
    },
    {
     "name": "stdout",
     "output_type": "stream",
     "text": [
      "initial_potential =  26781.88385506408\n",
      "final_potential =  26800.258911967103\n",
      "energy_change =  -0.2908128259005025\n",
      "p accept =  1.337514212500951\n",
      "current step size = 1.7564077254274616e-05\n",
      "current acceptance ratio = 0.6614906832298136\n",
      "currently working on step 645\n"
     ]
    },
    {
     "name": "stderr",
     "output_type": "stream",
     "text": [
      "100%|██████████| 97/97 [00:08<00:00, 11.96it/s]\n",
      "  0%|          | 0/98 [00:00<?, ?it/s]"
     ]
    },
    {
     "name": "stdout",
     "output_type": "stream",
     "text": [
      "initial_potential =  26800.258911967103\n",
      "final_potential =  26821.518187866965\n",
      "energy_change =  0.033503577651572414\n",
      "p accept =  0.9670514514520681\n",
      "current step size = 1.7564077254274616e-05\n",
      "current acceptance ratio = 0.662015503875969\n",
      "currently working on step 646\n"
     ]
    },
    {
     "name": "stderr",
     "output_type": "stream",
     "text": [
      "100%|██████████| 98/98 [00:08<00:00, 11.92it/s]\n",
      "  0%|          | 0/99 [00:00<?, ?it/s]"
     ]
    },
    {
     "name": "stdout",
     "output_type": "stream",
     "text": [
      "initial_potential =  26821.518187866965\n",
      "final_potential =  26798.914639105587\n",
      "energy_change =  1.1869165054667974\n",
      "p accept =  0.30516077641753453\n",
      "current step size = 1.7564077254274616e-05\n",
      "current acceptance ratio = 0.6625386996904025\n",
      "currently working on step 647\n"
     ]
    },
    {
     "name": "stderr",
     "output_type": "stream",
     "text": [
      "100%|██████████| 99/99 [00:08<00:00, 11.90it/s]\n",
      "  0%|          | 0/100 [00:00<?, ?it/s]"
     ]
    },
    {
     "name": "stdout",
     "output_type": "stream",
     "text": [
      "initial_potential =  26798.914639105587\n",
      "final_potential =  26766.08682263492\n",
      "energy_change =  -0.142888426897116\n",
      "p accept =  1.1536010836330175\n",
      "current step size = 1.7564077254274616e-05\n",
      "current acceptance ratio = 0.6630602782071098\n",
      "currently working on step 648\n"
     ]
    },
    {
     "name": "stderr",
     "output_type": "stream",
     "text": [
      "100%|██████████| 100/100 [00:08<00:00, 11.88it/s]\n",
      "  0%|          | 0/97 [00:00<?, ?it/s]"
     ]
    },
    {
     "name": "stdout",
     "output_type": "stream",
     "text": [
      "initial_potential =  26766.08682263492\n",
      "final_potential =  26781.514491024376\n",
      "energy_change =  -1.2413712130801287\n",
      "p accept =  3.460355097296758\n",
      "current step size = 1.7564077254274616e-05\n",
      "current acceptance ratio = 0.6635802469135802\n",
      "currently working on step 649\n"
     ]
    },
    {
     "name": "stderr",
     "output_type": "stream",
     "text": [
      "100%|██████████| 97/97 [00:08<00:00, 11.90it/s]\n",
      "  0%|          | 0/100 [00:00<?, ?it/s]"
     ]
    },
    {
     "name": "stdout",
     "output_type": "stream",
     "text": [
      "initial_potential =  26781.514491024376\n",
      "final_potential =  26871.708768756427\n",
      "energy_change =  0.38775995041942224\n",
      "p accept =  0.6785752154104765\n",
      "current step size = 1.7564077254274616e-05\n",
      "current acceptance ratio = 0.6640986132511556\n",
      "currently working on step 650\n"
     ]
    },
    {
     "name": "stderr",
     "output_type": "stream",
     "text": [
      "100%|██████████| 100/100 [00:08<00:00, 11.87it/s]\n",
      "  0%|          | 0/101 [00:00<?, ?it/s]"
     ]
    },
    {
     "name": "stdout",
     "output_type": "stream",
     "text": [
      "initial_potential =  26871.708768756427\n",
      "final_potential =  26896.096080163108\n",
      "energy_change =  -0.20829981382121332\n",
      "p accept =  1.2315823596153352\n",
      "current step size = 1.7564077254274616e-05\n",
      "current acceptance ratio = 0.6646153846153846\n",
      "currently working on step 651\n"
     ]
    },
    {
     "name": "stderr",
     "output_type": "stream",
     "text": [
      "100%|██████████| 101/101 [00:08<00:00, 11.88it/s]\n",
      "  0%|          | 0/97 [00:00<?, ?it/s]"
     ]
    },
    {
     "name": "stdout",
     "output_type": "stream",
     "text": [
      "initial_potential =  26896.096080163108\n",
      "final_potential =  26877.78585690903\n",
      "energy_change =  0.5588189723493997\n",
      "p accept =  0.5718840760730841\n",
      "current step size = 1.7564077254274616e-05\n",
      "current acceptance ratio = 0.663594470046083\n",
      "currently working on step 652\n"
     ]
    },
    {
     "name": "stderr",
     "output_type": "stream",
     "text": [
      "100%|██████████| 97/97 [00:08<00:00, 11.80it/s]\n",
      "  0%|          | 0/97 [00:00<?, ?it/s]"
     ]
    },
    {
     "name": "stdout",
     "output_type": "stream",
     "text": [
      "initial_potential =  26896.096080163108\n",
      "final_potential =  26863.68523176905\n",
      "energy_change =  0.278706716344459\n",
      "p accept =  0.7567618165436104\n",
      "current step size = 1.7564077254274616e-05\n",
      "current acceptance ratio = 0.6641104294478528\n",
      "currently working on step 653\n"
     ]
    },
    {
     "name": "stderr",
     "output_type": "stream",
     "text": [
      "100%|██████████| 97/97 [00:08<00:00, 11.92it/s]\n",
      "  0%|          | 0/101 [00:00<?, ?it/s]"
     ]
    },
    {
     "name": "stdout",
     "output_type": "stream",
     "text": [
      "initial_potential =  26863.68523176905\n",
      "final_potential =  26920.169391420204\n",
      "energy_change =  0.822109362721676\n",
      "p accept =  0.43950360353470624\n",
      "current step size = 1.7564077254274616e-05\n",
      "current acceptance ratio = 0.663093415007657\n",
      "currently working on step 654\n"
     ]
    },
    {
     "name": "stderr",
     "output_type": "stream",
     "text": [
      "100%|██████████| 101/101 [00:08<00:00, 12.20it/s]\n",
      "  0%|          | 0/98 [00:00<?, ?it/s]"
     ]
    },
    {
     "name": "stdout",
     "output_type": "stream",
     "text": [
      "initial_potential =  26863.68523176905\n",
      "final_potential =  26858.009353177466\n",
      "energy_change =  0.9783911063132109\n",
      "p accept =  0.3759154205232256\n",
      "current step size = 1.7564077254274616e-05\n",
      "current acceptance ratio = 0.6636085626911316\n",
      "currently working on step 655\n"
     ]
    },
    {
     "name": "stderr",
     "output_type": "stream",
     "text": [
      "100%|██████████| 98/98 [00:08<00:00, 11.81it/s]\n",
      "  0%|          | 0/100 [00:00<?, ?it/s]"
     ]
    },
    {
     "name": "stdout",
     "output_type": "stream",
     "text": [
      "initial_potential =  26858.009353177466\n",
      "final_potential =  26856.99245048099\n",
      "energy_change =  1.3351291524304543\n",
      "p accept =  0.26312419013276545\n",
      "current step size = 1.7564077254274616e-05\n",
      "current acceptance ratio = 0.6625954198473283\n",
      "currently working on step 656\n"
     ]
    },
    {
     "name": "stderr",
     "output_type": "stream",
     "text": [
      "100%|██████████| 100/100 [00:08<00:00, 11.89it/s]\n",
      "  0%|          | 0/97 [00:00<?, ?it/s]"
     ]
    },
    {
     "name": "stdout",
     "output_type": "stream",
     "text": [
      "initial_potential =  26858.009353177466\n",
      "final_potential =  26859.17143334758\n",
      "energy_change =  -0.14587815724371467\n",
      "p accept =  1.1570552006670014\n",
      "current step size = 1.7564077254274616e-05\n",
      "current acceptance ratio = 0.663109756097561\n",
      "currently working on step 657\n"
     ]
    },
    {
     "name": "stderr",
     "output_type": "stream",
     "text": [
      "100%|██████████| 97/97 [00:08<00:00, 11.91it/s]\n",
      "  0%|          | 0/98 [00:00<?, ?it/s]"
     ]
    },
    {
     "name": "stdout",
     "output_type": "stream",
     "text": [
      "initial_potential =  26859.17143334758\n",
      "final_potential =  26878.67141386813\n",
      "energy_change =  -1.2738144832546823\n",
      "p accept =  3.574461313502775\n",
      "current step size = 1.7564077254274616e-05\n",
      "current acceptance ratio = 0.6636225266362252\n",
      "currently working on step 658\n"
     ]
    },
    {
     "name": "stderr",
     "output_type": "stream",
     "text": [
      "100%|██████████| 98/98 [00:08<00:00, 11.85it/s]\n",
      "  0%|          | 0/98 [00:00<?, ?it/s]"
     ]
    },
    {
     "name": "stdout",
     "output_type": "stream",
     "text": [
      "initial_potential =  26878.67141386813\n",
      "final_potential =  26861.112633695306\n",
      "energy_change =  0.8020497666293522\n",
      "p accept =  0.4484088878938872\n",
      "current step size = 1.7564077254274616e-05\n",
      "current acceptance ratio = 0.6641337386018237\n",
      "currently working on step 659\n"
     ]
    },
    {
     "name": "stderr",
     "output_type": "stream",
     "text": [
      "100%|██████████| 98/98 [00:08<00:00, 11.87it/s]\n",
      "  0%|          | 0/98 [00:00<?, ?it/s]"
     ]
    },
    {
     "name": "stdout",
     "output_type": "stream",
     "text": [
      "initial_potential =  26861.112633695306\n",
      "final_potential =  26930.866090006653\n",
      "energy_change =  -0.7344246079737786\n",
      "p accept =  2.084282367956009\n",
      "current step size = 1.7564077254274616e-05\n",
      "current acceptance ratio = 0.6646433990895296\n",
      "currently working on step 660\n"
     ]
    },
    {
     "name": "stderr",
     "output_type": "stream",
     "text": [
      "100%|██████████| 98/98 [00:08<00:00, 11.90it/s]\n",
      "  0%|          | 0/97 [00:00<?, ?it/s]"
     ]
    },
    {
     "name": "stdout",
     "output_type": "stream",
     "text": [
      "initial_potential =  26930.866090006653\n",
      "final_potential =  26979.292379815735\n",
      "energy_change =  0.21181250855443068\n",
      "p accept =  0.8091163857467348\n",
      "current step size = 1.7564077254274616e-05\n",
      "current acceptance ratio = 0.6651515151515152\n",
      "currently working on step 661\n"
     ]
    },
    {
     "name": "stderr",
     "output_type": "stream",
     "text": [
      "100%|██████████| 97/97 [00:08<00:00, 11.90it/s]\n",
      "  0%|          | 0/97 [00:00<?, ?it/s]"
     ]
    },
    {
     "name": "stdout",
     "output_type": "stream",
     "text": [
      "initial_potential =  26979.292379815735\n",
      "final_potential =  27010.46097692777\n",
      "energy_change =  0.2073130681674229\n",
      "p accept =  0.8127651592542229\n",
      "current step size = 1.7564077254274616e-05\n",
      "current acceptance ratio = 0.6656580937972768\n",
      "currently working on step 662\n"
     ]
    },
    {
     "name": "stderr",
     "output_type": "stream",
     "text": [
      "100%|██████████| 97/97 [00:08<00:00, 11.89it/s]\n",
      "  0%|          | 0/98 [00:00<?, ?it/s]"
     ]
    },
    {
     "name": "stdout",
     "output_type": "stream",
     "text": [
      "initial_potential =  27010.46097692777\n",
      "final_potential =  26954.918721832444\n",
      "energy_change =  0.7581599456898402\n",
      "p accept =  0.46852775083292986\n",
      "current step size = 1.7564077254274616e-05\n",
      "current acceptance ratio = 0.6646525679758308\n",
      "currently working on step 663\n"
     ]
    },
    {
     "name": "stderr",
     "output_type": "stream",
     "text": [
      "100%|██████████| 98/98 [00:08<00:00, 11.94it/s]\n",
      "  0%|          | 0/97 [00:00<?, ?it/s]"
     ]
    },
    {
     "name": "stdout",
     "output_type": "stream",
     "text": [
      "initial_potential =  27010.46097692777\n",
      "final_potential =  27047.886788970012\n",
      "energy_change =  2.5223528558417456\n",
      "p accept =  0.08027051942860225\n",
      "current step size = 1.7564077254274616e-05\n",
      "current acceptance ratio = 0.6636500754147813\n",
      "currently working on step 664\n"
     ]
    },
    {
     "name": "stderr",
     "output_type": "stream",
     "text": [
      "100%|██████████| 97/97 [00:08<00:00, 11.95it/s]\n",
      "  0%|          | 0/101 [00:00<?, ?it/s]"
     ]
    },
    {
     "name": "stdout",
     "output_type": "stream",
     "text": [
      "initial_potential =  27010.46097692777\n",
      "final_potential =  26955.610898073457\n",
      "energy_change =  -0.30731492293125484\n",
      "p accept =  1.3597691231286049\n",
      "current step size = 1.7564077254274616e-05\n",
      "current acceptance ratio = 0.6641566265060241\n",
      "currently working on step 665\n"
     ]
    },
    {
     "name": "stderr",
     "output_type": "stream",
     "text": [
      "100%|██████████| 101/101 [00:08<00:00, 12.18it/s]\n",
      "  0%|          | 0/99 [00:00<?, ?it/s]"
     ]
    },
    {
     "name": "stdout",
     "output_type": "stream",
     "text": [
      "initial_potential =  26955.610898073457\n",
      "final_potential =  26927.738765348997\n",
      "energy_change =  -0.13227318653662223\n",
      "p accept =  1.1414200972817254\n",
      "current step size = 1.7564077254274616e-05\n",
      "current acceptance ratio = 0.6646616541353384\n",
      "currently working on step 666\n"
     ]
    },
    {
     "name": "stderr",
     "output_type": "stream",
     "text": [
      "100%|██████████| 99/99 [00:08<00:00, 11.80it/s]\n",
      "  0%|          | 0/97 [00:00<?, ?it/s]"
     ]
    },
    {
     "name": "stdout",
     "output_type": "stream",
     "text": [
      "initial_potential =  26927.738765348997\n",
      "final_potential =  26934.52643610762\n",
      "energy_change =  -0.12437246448826045\n",
      "p accept =  1.1324375852431843\n",
      "current step size = 1.7564077254274616e-05\n",
      "current acceptance ratio = 0.6651651651651652\n",
      "currently working on step 667\n"
     ]
    },
    {
     "name": "stderr",
     "output_type": "stream",
     "text": [
      "100%|██████████| 97/97 [00:08<00:00, 11.78it/s]\n",
      "  0%|          | 0/100 [00:00<?, ?it/s]"
     ]
    },
    {
     "name": "stdout",
     "output_type": "stream",
     "text": [
      "initial_potential =  26934.52643610762\n",
      "final_potential =  26891.908617125217\n",
      "energy_change =  0.7127691916102776\n",
      "p accept =  0.49028462380291354\n",
      "current step size = 1.7564077254274616e-05\n",
      "current acceptance ratio = 0.6656671664167916\n",
      "currently working on step 668\n"
     ]
    },
    {
     "name": "stderr",
     "output_type": "stream",
     "text": [
      "100%|██████████| 100/100 [00:08<00:00, 11.77it/s]\n",
      "  0%|          | 0/100 [00:00<?, ?it/s]"
     ]
    },
    {
     "name": "stdout",
     "output_type": "stream",
     "text": [
      "initial_potential =  26891.908617125217\n",
      "final_potential =  26927.558358217026\n",
      "energy_change =  -0.09364262579765636\n",
      "p accept =  1.098167219147898\n",
      "current step size = 1.7564077254274616e-05\n",
      "current acceptance ratio = 0.6661676646706587\n",
      "currently working on step 669\n"
     ]
    },
    {
     "name": "stderr",
     "output_type": "stream",
     "text": [
      "100%|██████████| 100/100 [00:08<00:00, 11.88it/s]\n",
      "  0%|          | 0/98 [00:00<?, ?it/s]"
     ]
    },
    {
     "name": "stdout",
     "output_type": "stream",
     "text": [
      "initial_potential =  26927.558358217026\n",
      "final_potential =  26882.376395822583\n",
      "energy_change =  -0.10425859584938735\n",
      "p accept =  1.1098874300913975\n",
      "current step size = 1.7564077254274616e-05\n",
      "current acceptance ratio = 0.6666666666666666\n",
      "currently working on step 670\n"
     ]
    },
    {
     "name": "stderr",
     "output_type": "stream",
     "text": [
      "100%|██████████| 98/98 [00:08<00:00, 11.94it/s]\n",
      "  0%|          | 0/98 [00:00<?, ?it/s]"
     ]
    },
    {
     "name": "stdout",
     "output_type": "stream",
     "text": [
      "initial_potential =  26882.376395822583\n",
      "final_potential =  26888.026875548636\n",
      "energy_change =  2.67482525651576\n",
      "p accept =  0.06891887046605029\n",
      "current step size = 1.7564077254274616e-05\n",
      "current acceptance ratio = 0.6671641791044776\n",
      "currently working on step 671\n"
     ]
    },
    {
     "name": "stderr",
     "output_type": "stream",
     "text": [
      "100%|██████████| 98/98 [00:08<00:00, 11.93it/s]\n",
      "  0%|          | 0/99 [00:00<?, ?it/s]"
     ]
    },
    {
     "name": "stdout",
     "output_type": "stream",
     "text": [
      "initial_potential =  26888.026875548636\n",
      "final_potential =  26901.363124931846\n",
      "energy_change =  -2.585250194577384\n",
      "p accept =  13.266607908134468\n",
      "current step size = 1.7564077254274616e-05\n",
      "current acceptance ratio = 0.6676602086438153\n",
      "currently working on step 672\n"
     ]
    },
    {
     "name": "stderr",
     "output_type": "stream",
     "text": [
      "100%|██████████| 99/99 [00:08<00:00, 12.20it/s]\n",
      "  0%|          | 0/100 [00:00<?, ?it/s]"
     ]
    },
    {
     "name": "stdout",
     "output_type": "stream",
     "text": [
      "initial_potential =  26901.363124931846\n",
      "final_potential =  26842.84326391432\n",
      "energy_change =  0.7133816156274406\n",
      "p accept =  0.4899844536491385\n",
      "current step size = 1.7564077254274616e-05\n",
      "current acceptance ratio = 0.6681547619047619\n",
      "currently working on step 673\n"
     ]
    },
    {
     "name": "stderr",
     "output_type": "stream",
     "text": [
      "100%|██████████| 100/100 [00:08<00:00, 11.91it/s]\n",
      "  0%|          | 0/97 [00:00<?, ?it/s]"
     ]
    },
    {
     "name": "stdout",
     "output_type": "stream",
     "text": [
      "initial_potential =  26842.84326391432\n",
      "final_potential =  26853.515697530172\n",
      "energy_change =  0.6936874121020082\n",
      "p accept =  0.49972995717836116\n",
      "current step size = 1.7564077254274616e-05\n",
      "current acceptance ratio = 0.6686478454680534\n",
      "currently working on step 674\n"
     ]
    },
    {
     "name": "stderr",
     "output_type": "stream",
     "text": [
      "100%|██████████| 97/97 [00:08<00:00, 11.94it/s]\n",
      "  0%|          | 0/99 [00:00<?, ?it/s]"
     ]
    },
    {
     "name": "stdout",
     "output_type": "stream",
     "text": [
      "initial_potential =  26853.515697530172\n",
      "final_potential =  26869.9800695116\n",
      "energy_change =  -1.7539905113953864\n",
      "p accept =  5.777612363235606\n",
      "current step size = 1.7564077254274616e-05\n",
      "current acceptance ratio = 0.6691394658753709\n",
      "currently working on step 675\n"
     ]
    },
    {
     "name": "stderr",
     "output_type": "stream",
     "text": [
      "100%|██████████| 99/99 [00:08<00:00, 11.89it/s]\n",
      "  0%|          | 0/101 [00:00<?, ?it/s]"
     ]
    },
    {
     "name": "stdout",
     "output_type": "stream",
     "text": [
      "initial_potential =  26869.9800695116\n",
      "final_potential =  26872.8079057604\n",
      "energy_change =  7.503060298477067\n",
      "p accept =  0.0005513943541877917\n",
      "current step size = 1.7564077254274616e-05\n",
      "current acceptance ratio = 0.6681481481481482\n",
      "currently working on step 676\n"
     ]
    },
    {
     "name": "stderr",
     "output_type": "stream",
     "text": [
      "100%|██████████| 101/101 [00:08<00:00, 11.90it/s]\n",
      "  0%|          | 0/98 [00:00<?, ?it/s]"
     ]
    },
    {
     "name": "stdout",
     "output_type": "stream",
     "text": [
      "initial_potential =  26869.9800695116\n",
      "final_potential =  26897.864241544685\n",
      "energy_change =  0.019403464189963415\n",
      "p accept =  0.9807835713553038\n",
      "current step size = 1.7564077254274616e-05\n",
      "current acceptance ratio = 0.6686390532544378\n",
      "currently working on step 677\n"
     ]
    },
    {
     "name": "stderr",
     "output_type": "stream",
     "text": [
      "100%|██████████| 98/98 [00:08<00:00, 11.92it/s]\n",
      "  0%|          | 0/99 [00:00<?, ?it/s]"
     ]
    },
    {
     "name": "stdout",
     "output_type": "stream",
     "text": [
      "initial_potential =  26897.864241544685\n",
      "final_potential =  26885.911917578058\n",
      "energy_change =  1.4736070600047242\n",
      "p accept =  0.22909762413488477\n",
      "current step size = 1.7564077254274616e-05\n",
      "current acceptance ratio = 0.6676514032496307\n",
      "currently working on step 678\n"
     ]
    },
    {
     "name": "stderr",
     "output_type": "stream",
     "text": [
      "100%|██████████| 99/99 [00:08<00:00, 11.96it/s]\n",
      "  0%|          | 0/97 [00:00<?, ?it/s]"
     ]
    },
    {
     "name": "stdout",
     "output_type": "stream",
     "text": [
      "initial_potential =  26897.864241544685\n",
      "final_potential =  26865.384550608\n",
      "energy_change =  0.06557514364249073\n",
      "p accept =  0.9365286699399193\n",
      "current step size = 1.7564077254274616e-05\n",
      "current acceptance ratio = 0.668141592920354\n",
      "currently working on step 679\n"
     ]
    },
    {
     "name": "stderr",
     "output_type": "stream",
     "text": [
      "100%|██████████| 97/97 [00:08<00:00, 11.94it/s]\n",
      "  0%|          | 0/101 [00:00<?, ?it/s]"
     ]
    },
    {
     "name": "stdout",
     "output_type": "stream",
     "text": [
      "initial_potential =  26865.384550608\n",
      "final_potential =  26849.294190486275\n",
      "energy_change =  0.3182817056076601\n",
      "p accept =  0.7273978474968081\n",
      "current step size = 1.7564077254274616e-05\n",
      "current acceptance ratio = 0.6671575846833578\n",
      "currently working on step 680\n"
     ]
    },
    {
     "name": "stderr",
     "output_type": "stream",
     "text": [
      "100%|██████████| 101/101 [00:08<00:00, 11.84it/s]\n",
      "  0%|          | 0/97 [00:00<?, ?it/s]"
     ]
    },
    {
     "name": "stdout",
     "output_type": "stream",
     "text": [
      "initial_potential =  26865.384550608\n",
      "final_potential =  26872.682465207916\n",
      "energy_change =  -0.2015908224711893\n",
      "p accept =  1.2233473394459282\n",
      "current step size = 1.7564077254274616e-05\n",
      "current acceptance ratio = 0.6676470588235294\n",
      "currently working on step 681\n"
     ]
    },
    {
     "name": "stderr",
     "output_type": "stream",
     "text": [
      "100%|██████████| 97/97 [00:07<00:00, 12.17it/s]\n",
      "  0%|          | 0/98 [00:00<?, ?it/s]"
     ]
    },
    {
     "name": "stdout",
     "output_type": "stream",
     "text": [
      "initial_potential =  26872.682465207916\n",
      "final_potential =  26891.973744333856\n",
      "energy_change =  2.261433193300036\n",
      "p accept =  0.10420103745817202\n",
      "current step size = 1.7564077254274616e-05\n",
      "current acceptance ratio = 0.6666666666666666\n",
      "currently working on step 682\n"
     ]
    },
    {
     "name": "stderr",
     "output_type": "stream",
     "text": [
      "100%|██████████| 98/98 [00:08<00:00, 11.78it/s]\n",
      "  0%|          | 0/101 [00:00<?, ?it/s]"
     ]
    },
    {
     "name": "stdout",
     "output_type": "stream",
     "text": [
      "initial_potential =  26872.682465207916\n",
      "final_potential =  26915.885164601452\n",
      "energy_change =  0.6343370934191626\n",
      "p accept =  0.5302869025047132\n",
      "current step size = 1.7564077254274616e-05\n",
      "current acceptance ratio = 0.6671554252199413\n",
      "currently working on step 683\n"
     ]
    },
    {
     "name": "stderr",
     "output_type": "stream",
     "text": [
      "100%|██████████| 101/101 [00:08<00:00, 11.75it/s]\n",
      "  0%|          | 0/99 [00:00<?, ?it/s]"
     ]
    },
    {
     "name": "stdout",
     "output_type": "stream",
     "text": [
      "initial_potential =  26915.885164601452\n",
      "final_potential =  26951.88855919164\n",
      "energy_change =  6.680203717085533\n",
      "p accept =  0.0012555221751897546\n",
      "current step size = 1.7564077254274616e-05\n",
      "current acceptance ratio = 0.6661786237188873\n",
      "currently working on step 684\n"
     ]
    },
    {
     "name": "stderr",
     "output_type": "stream",
     "text": [
      "100%|██████████| 99/99 [00:08<00:00, 12.13it/s]\n",
      "  0%|          | 0/99 [00:00<?, ?it/s]"
     ]
    },
    {
     "name": "stdout",
     "output_type": "stream",
     "text": [
      "initial_potential =  26915.885164601452\n",
      "final_potential =  26918.409520940768\n",
      "energy_change =  0.6326109441288281\n",
      "p accept =  0.5312030473390451\n",
      "current step size = 1.7564077254274616e-05\n",
      "current acceptance ratio = 0.6666666666666666\n",
      "currently working on step 685\n"
     ]
    },
    {
     "name": "stderr",
     "output_type": "stream",
     "text": [
      "100%|██████████| 99/99 [00:08<00:00, 11.98it/s]\n",
      "  0%|          | 0/98 [00:00<?, ?it/s]"
     ]
    },
    {
     "name": "stdout",
     "output_type": "stream",
     "text": [
      "initial_potential =  26918.409520940768\n",
      "final_potential =  26932.35560526906\n",
      "energy_change =  -0.27372508645930793\n",
      "p accept =  1.31485328157641\n",
      "current step size = 1.7564077254274616e-05\n",
      "current acceptance ratio = 0.6671532846715329\n",
      "currently working on step 686\n"
     ]
    },
    {
     "name": "stderr",
     "output_type": "stream",
     "text": [
      "100%|██████████| 98/98 [00:08<00:00, 11.91it/s]\n",
      "  0%|          | 0/100 [00:00<?, ?it/s]"
     ]
    },
    {
     "name": "stdout",
     "output_type": "stream",
     "text": [
      "initial_potential =  26932.35560526906\n",
      "final_potential =  26975.369551313415\n",
      "energy_change =  -0.770835874194745\n",
      "p accept =  2.1615723013722663\n",
      "current step size = 1.7564077254274616e-05\n",
      "current acceptance ratio = 0.6676384839650146\n",
      "currently working on step 687\n"
     ]
    },
    {
     "name": "stderr",
     "output_type": "stream",
     "text": [
      "100%|██████████| 100/100 [00:08<00:00, 11.95it/s]\n",
      "  0%|          | 0/98 [00:00<?, ?it/s]"
     ]
    },
    {
     "name": "stdout",
     "output_type": "stream",
     "text": [
      "initial_potential =  26975.369551313415\n",
      "final_potential =  26940.48640956438\n",
      "energy_change =  0.5503356543922564\n",
      "p accept =  0.5767561871395844\n",
      "current step size = 1.7564077254274616e-05\n",
      "current acceptance ratio = 0.6681222707423581\n",
      "currently working on step 688\n"
     ]
    },
    {
     "name": "stderr",
     "output_type": "stream",
     "text": [
      "100%|██████████| 98/98 [00:08<00:00, 11.96it/s]\n",
      "  0%|          | 0/100 [00:00<?, ?it/s]"
     ]
    },
    {
     "name": "stdout",
     "output_type": "stream",
     "text": [
      "initial_potential =  26940.48640956438\n",
      "final_potential =  26935.395825527783\n",
      "energy_change =  0.09710922827071045\n",
      "p accept =  0.9074568807738942\n",
      "current step size = 1.7564077254274616e-05\n",
      "current acceptance ratio = 0.6686046511627907\n",
      "currently working on step 689\n"
     ]
    },
    {
     "name": "stderr",
     "output_type": "stream",
     "text": [
      "100%|██████████| 100/100 [00:08<00:00, 11.91it/s]\n",
      "  0%|          | 0/101 [00:00<?, ?it/s]"
     ]
    },
    {
     "name": "stdout",
     "output_type": "stream",
     "text": [
      "initial_potential =  26935.395825527783\n",
      "final_potential =  26996.803341318744\n",
      "energy_change =  -0.23614054877543822\n",
      "p accept =  1.2663522819222284\n",
      "current step size = 1.7564077254274616e-05\n",
      "current acceptance ratio = 0.6690856313497823\n",
      "currently working on step 690\n"
     ]
    },
    {
     "name": "stderr",
     "output_type": "stream",
     "text": [
      "100%|██████████| 101/101 [00:08<00:00, 11.89it/s]\n",
      "  0%|          | 0/97 [00:00<?, ?it/s]"
     ]
    },
    {
     "name": "stdout",
     "output_type": "stream",
     "text": [
      "initial_potential =  26996.803341318744\n",
      "final_potential =  26982.518900441584\n",
      "energy_change =  -0.28911909187445417\n",
      "p accept =  1.3352507365731223\n",
      "current step size = 1.7564077254274616e-05\n",
      "current acceptance ratio = 0.6695652173913044\n",
      "currently working on step 691\n"
     ]
    },
    {
     "name": "stderr",
     "output_type": "stream",
     "text": [
      "100%|██████████| 97/97 [00:08<00:00, 11.93it/s]\n",
      "  0%|          | 0/98 [00:00<?, ?it/s]"
     ]
    },
    {
     "name": "stdout",
     "output_type": "stream",
     "text": [
      "initial_potential =  26982.518900441584\n",
      "final_potential =  26975.828759079413\n",
      "energy_change =  3.809792414540425\n",
      "p accept =  0.02215277707417948\n",
      "current step size = 1.7564077254274616e-05\n",
      "current acceptance ratio = 0.6685962373371924\n",
      "currently working on step 692\n"
     ]
    },
    {
     "name": "stderr",
     "output_type": "stream",
     "text": [
      "100%|██████████| 98/98 [00:07<00:00, 12.27it/s]\n",
      "  0%|          | 0/99 [00:00<?, ?it/s]"
     ]
    },
    {
     "name": "stdout",
     "output_type": "stream",
     "text": [
      "initial_potential =  26982.518900441584\n",
      "final_potential =  26974.0962098087\n",
      "energy_change =  0.06482239668548573\n",
      "p accept =  0.9372339044446278\n",
      "current step size = 1.7564077254274616e-05\n",
      "current acceptance ratio = 0.6690751445086706\n",
      "currently working on step 693\n"
     ]
    },
    {
     "name": "stderr",
     "output_type": "stream",
     "text": [
      "100%|██████████| 99/99 [00:08<00:00, 11.96it/s]\n",
      "  0%|          | 0/99 [00:00<?, ?it/s]"
     ]
    },
    {
     "name": "stdout",
     "output_type": "stream",
     "text": [
      "initial_potential =  26974.0962098087\n",
      "final_potential =  26983.555162100096\n",
      "energy_change =  11.161735271642101\n",
      "p accept =  1.4207575188179028e-05\n",
      "current step size = 1.7564077254274616e-05\n",
      "current acceptance ratio = 0.6681096681096681\n",
      "currently working on step 694\n"
     ]
    },
    {
     "name": "stderr",
     "output_type": "stream",
     "text": [
      "100%|██████████| 99/99 [00:08<00:00, 11.81it/s]\n",
      "  0%|          | 0/97 [00:00<?, ?it/s]"
     ]
    },
    {
     "name": "stdout",
     "output_type": "stream",
     "text": [
      "initial_potential =  26974.0962098087\n",
      "final_potential =  26909.789488943217\n",
      "energy_change =  2.8793630530999508\n",
      "p accept =  0.05617052908669857\n",
      "current step size = 1.7564077254274616e-05\n",
      "current acceptance ratio = 0.6671469740634006\n",
      "currently working on step 695\n"
     ]
    },
    {
     "name": "stderr",
     "output_type": "stream",
     "text": [
      "100%|██████████| 97/97 [00:08<00:00, 11.98it/s]\n",
      "  0%|          | 0/99 [00:00<?, ?it/s]"
     ]
    },
    {
     "name": "stdout",
     "output_type": "stream",
     "text": [
      "initial_potential =  26974.0962098087\n",
      "final_potential =  26989.952681333907\n",
      "energy_change =  -0.16340959613444284\n",
      "p accept =  1.1775188981152729\n",
      "current step size = 1.7564077254274616e-05\n",
      "current acceptance ratio = 0.6676258992805756\n",
      "currently working on step 696\n"
     ]
    },
    {
     "name": "stderr",
     "output_type": "stream",
     "text": [
      "100%|██████████| 99/99 [00:08<00:00, 11.95it/s]\n",
      "  0%|          | 0/99 [00:00<?, ?it/s]"
     ]
    },
    {
     "name": "stdout",
     "output_type": "stream",
     "text": [
      "initial_potential =  26989.952681333907\n",
      "final_potential =  27027.745470772177\n",
      "energy_change =  3.3907486896496266\n",
      "p accept =  0.03368344900718447\n",
      "current step size = 1.7564077254274616e-05\n",
      "current acceptance ratio = 0.6666666666666666\n",
      "currently working on step 697\n"
     ]
    },
    {
     "name": "stderr",
     "output_type": "stream",
     "text": [
      "100%|██████████| 99/99 [00:08<00:00, 11.75it/s]\n",
      "  0%|          | 0/99 [00:00<?, ?it/s]"
     ]
    },
    {
     "name": "stdout",
     "output_type": "stream",
     "text": [
      "initial_potential =  26989.952681333907\n",
      "final_potential =  26946.989311057267\n",
      "energy_change =  1.256798774629715\n",
      "p accept =  0.28456352193902495\n",
      "current step size = 1.7564077254274616e-05\n",
      "current acceptance ratio = 0.6657101865136298\n",
      "currently working on step 698\n"
     ]
    },
    {
     "name": "stderr",
     "output_type": "stream",
     "text": [
      "100%|██████████| 99/99 [00:08<00:00, 11.86it/s]\n",
      "  0%|          | 0/98 [00:00<?, ?it/s]"
     ]
    },
    {
     "name": "stdout",
     "output_type": "stream",
     "text": [
      "initial_potential =  26989.952681333907\n",
      "final_potential =  26933.50659814247\n",
      "energy_change =  1.0602619429701008\n",
      "p accept =  0.34636507055093335\n",
      "current step size = 1.7564077254274616e-05\n",
      "current acceptance ratio = 0.664756446991404\n",
      "currently working on step 699\n"
     ]
    },
    {
     "name": "stderr",
     "output_type": "stream",
     "text": [
      "100%|██████████| 98/98 [00:08<00:00, 11.96it/s]\n",
      "  0%|          | 0/97 [00:00<?, ?it/s]"
     ]
    },
    {
     "name": "stdout",
     "output_type": "stream",
     "text": [
      "initial_potential =  26989.952681333907\n",
      "final_potential =  27031.060029490913\n",
      "energy_change =  2.8143709626747295\n",
      "p accept =  0.05994241289843288\n",
      "current step size = 1.7564077254274616e-05\n",
      "current acceptance ratio = 0.6638054363376252\n",
      "currently working on step 700\n"
     ]
    },
    {
     "name": "stderr",
     "output_type": "stream",
     "text": [
      "100%|██████████| 97/97 [00:07<00:00, 12.27it/s]\n",
      "  0%|          | 0/100 [00:00<?, ?it/s]"
     ]
    },
    {
     "name": "stdout",
     "output_type": "stream",
     "text": [
      "initial_potential =  26989.952681333907\n",
      "final_potential =  27045.60672194728\n",
      "energy_change =  -0.09599217752111144\n",
      "p accept =  1.1007504533631176\n",
      "current step size = 1.7564077254274616e-05\n",
      "current acceptance ratio = 0.6642857142857143\n",
      "currently working on step 701\n"
     ]
    },
    {
     "name": "stderr",
     "output_type": "stream",
     "text": [
      "100%|██████████| 100/100 [00:08<00:00, 11.86it/s]\n",
      "  0%|          | 0/101 [00:00<?, ?it/s]"
     ]
    },
    {
     "name": "stdout",
     "output_type": "stream",
     "text": [
      "initial_potential =  27045.60672194728\n",
      "final_potential =  26976.03705570307\n",
      "energy_change =  0.2951157716597663\n",
      "p accept =  0.7444453967975946\n",
      "current step size = 1.7564077254274616e-05\n",
      "current acceptance ratio = 0.6633380884450785\n",
      "currently working on step 702\n"
     ]
    },
    {
     "name": "stderr",
     "output_type": "stream",
     "text": [
      "100%|██████████| 101/101 [00:08<00:00, 11.95it/s]\n",
      "  0%|          | 0/99 [00:00<?, ?it/s]"
     ]
    },
    {
     "name": "stdout",
     "output_type": "stream",
     "text": [
      "initial_potential =  27045.60672194728\n",
      "final_potential =  26989.05662753986\n",
      "energy_change =  0.7962258574116277\n",
      "p accept =  0.4510279998817281\n",
      "current step size = 1.7564077254274616e-05\n",
      "current acceptance ratio = 0.6638176638176638\n",
      "currently working on step 703\n"
     ]
    },
    {
     "name": "stderr",
     "output_type": "stream",
     "text": [
      "100%|██████████| 99/99 [00:08<00:00, 11.91it/s]\n",
      "  0%|          | 0/97 [00:00<?, ?it/s]"
     ]
    },
    {
     "name": "stdout",
     "output_type": "stream",
     "text": [
      "initial_potential =  26989.05662753986\n",
      "final_potential =  27020.34324870916\n",
      "energy_change =  -0.19195498364570085\n",
      "p accept =  1.211615973203305\n",
      "current step size = 1.7564077254274616e-05\n",
      "current acceptance ratio = 0.6642958748221907\n",
      "currently working on step 704\n"
     ]
    },
    {
     "name": "stderr",
     "output_type": "stream",
     "text": [
      "100%|██████████| 97/97 [00:08<00:00, 11.89it/s]\n",
      "  0%|          | 0/100 [00:00<?, ?it/s]"
     ]
    },
    {
     "name": "stdout",
     "output_type": "stream",
     "text": [
      "initial_potential =  27020.34324870916\n",
      "final_potential =  26940.320635337415\n",
      "energy_change =  -0.5619107570237247\n",
      "p accept =  1.7540208079547512\n",
      "current step size = 1.7564077254274616e-05\n",
      "current acceptance ratio = 0.6647727272727273\n",
      "currently working on step 705\n"
     ]
    },
    {
     "name": "stderr",
     "output_type": "stream",
     "text": [
      "100%|██████████| 100/100 [00:08<00:00, 11.91it/s]\n",
      "  0%|          | 0/100 [00:00<?, ?it/s]"
     ]
    },
    {
     "name": "stdout",
     "output_type": "stream",
     "text": [
      "initial_potential =  26940.320635337415\n",
      "final_potential =  26952.87337326774\n",
      "energy_change =  1.1488714518927736\n",
      "p accept =  0.31699431091928076\n",
      "current step size = 1.7564077254274616e-05\n",
      "current acceptance ratio = 0.6638297872340425\n",
      "currently working on step 706\n"
     ]
    },
    {
     "name": "stderr",
     "output_type": "stream",
     "text": [
      "100%|██████████| 100/100 [00:08<00:00, 11.96it/s]\n",
      "  0%|          | 0/98 [00:00<?, ?it/s]"
     ]
    },
    {
     "name": "stdout",
     "output_type": "stream",
     "text": [
      "initial_potential =  26940.320635337415\n",
      "final_potential =  26876.503811308696\n",
      "energy_change =  0.5928143081691815\n",
      "p accept =  0.5527694300984197\n",
      "current step size = 1.7564077254274616e-05\n",
      "current acceptance ratio = 0.6643059490084986\n",
      "currently working on step 707\n"
     ]
    },
    {
     "name": "stderr",
     "output_type": "stream",
     "text": [
      "100%|██████████| 98/98 [00:08<00:00, 12.25it/s]\n",
      "  0%|          | 0/99 [00:00<?, ?it/s]"
     ]
    },
    {
     "name": "stdout",
     "output_type": "stream",
     "text": [
      "initial_potential =  26876.503811308696\n",
      "final_potential =  26899.017816019455\n",
      "energy_change =  0.962932244350668\n",
      "p accept =  0.38177179493300484\n",
      "current step size = 1.7564077254274616e-05\n",
      "current acceptance ratio = 0.6647807637906648\n",
      "currently working on step 708\n"
     ]
    },
    {
     "name": "stderr",
     "output_type": "stream",
     "text": [
      "100%|██████████| 99/99 [00:08<00:00, 11.81it/s]\n",
      "  0%|          | 0/99 [00:00<?, ?it/s]"
     ]
    },
    {
     "name": "stdout",
     "output_type": "stream",
     "text": [
      "initial_potential =  26899.017816019455\n",
      "final_potential =  26983.44320393539\n",
      "energy_change =  -0.6057763205171796\n",
      "p accept =  1.8326743995141173\n",
      "current step size = 1.7564077254274616e-05\n",
      "current acceptance ratio = 0.6652542372881356\n",
      "currently working on step 709\n"
     ]
    },
    {
     "name": "stderr",
     "output_type": "stream",
     "text": [
      "100%|██████████| 99/99 [00:08<00:00, 11.94it/s]\n",
      "  0%|          | 0/98 [00:00<?, ?it/s]"
     ]
    },
    {
     "name": "stdout",
     "output_type": "stream",
     "text": [
      "initial_potential =  26983.44320393539\n",
      "final_potential =  26961.8129765514\n",
      "energy_change =  -0.18988911151245702\n",
      "p accept =  1.2091155132326523\n",
      "current step size = 1.7564077254274616e-05\n",
      "current acceptance ratio = 0.6657263751763046\n",
      "currently working on step 710\n"
     ]
    },
    {
     "name": "stderr",
     "output_type": "stream",
     "text": [
      "100%|██████████| 98/98 [00:08<00:00, 11.97it/s]\n",
      "  0%|          | 0/99 [00:00<?, ?it/s]"
     ]
    },
    {
     "name": "stdout",
     "output_type": "stream",
     "text": [
      "initial_potential =  26961.8129765514\n",
      "final_potential =  27010.55456453127\n",
      "energy_change =  -0.5191195903753396\n",
      "p accept =  1.6805474280634465\n",
      "current step size = 1.7564077254274616e-05\n",
      "current acceptance ratio = 0.6661971830985915\n",
      "currently working on step 711\n"
     ]
    },
    {
     "name": "stderr",
     "output_type": "stream",
     "text": [
      "100%|██████████| 99/99 [00:08<00:00, 11.87it/s]\n",
      "  0%|          | 0/97 [00:00<?, ?it/s]"
     ]
    },
    {
     "name": "stdout",
     "output_type": "stream",
     "text": [
      "initial_potential =  27010.55456453127\n",
      "final_potential =  26970.83748231893\n",
      "energy_change =  -0.198443276778562\n",
      "p accept =  1.2195028513220443\n",
      "current step size = 1.7564077254274616e-05\n",
      "current acceptance ratio = 0.6666666666666666\n",
      "currently working on step 712\n"
     ]
    },
    {
     "name": "stderr",
     "output_type": "stream",
     "text": [
      "100%|██████████| 97/97 [00:08<00:00, 11.82it/s]\n",
      "  0%|          | 0/101 [00:00<?, ?it/s]"
     ]
    },
    {
     "name": "stdout",
     "output_type": "stream",
     "text": [
      "initial_potential =  26970.83748231893\n",
      "final_potential =  26937.64436425802\n",
      "energy_change =  1.9616491196211427\n",
      "p accept =  0.14062631996901967\n",
      "current step size = 1.7564077254274616e-05\n",
      "current acceptance ratio = 0.6657303370786517\n",
      "currently working on step 713\n"
     ]
    },
    {
     "name": "stderr",
     "output_type": "stream",
     "text": [
      "100%|██████████| 101/101 [00:08<00:00, 11.97it/s]\n",
      "  0%|          | 0/100 [00:00<?, ?it/s]"
     ]
    },
    {
     "name": "stdout",
     "output_type": "stream",
     "text": [
      "initial_potential =  26970.83748231893\n",
      "final_potential =  26978.29488304058\n",
      "energy_change =  -0.029576043380075134\n",
      "p accept =  1.0300177585257748\n",
      "current step size = 1.7564077254274616e-05\n",
      "current acceptance ratio = 0.6661991584852734\n",
      "currently working on step 714\n"
     ]
    },
    {
     "name": "stderr",
     "output_type": "stream",
     "text": [
      "100%|██████████| 100/100 [00:08<00:00, 12.24it/s]\n",
      "  0%|          | 0/99 [00:00<?, ?it/s]"
     ]
    },
    {
     "name": "stdout",
     "output_type": "stream",
     "text": [
      "initial_potential =  26978.29488304058\n",
      "final_potential =  26953.467731923978\n",
      "energy_change =  0.5098363883007551\n",
      "p accept =  0.6005938349520124\n",
      "current step size = 1.7564077254274616e-05\n",
      "current acceptance ratio = 0.6666666666666666\n",
      "currently working on step 715\n"
     ]
    },
    {
     "name": "stderr",
     "output_type": "stream",
     "text": [
      "100%|██████████| 99/99 [00:08<00:00, 11.92it/s]\n",
      "  0%|          | 0/99 [00:00<?, ?it/s]"
     ]
    },
    {
     "name": "stdout",
     "output_type": "stream",
     "text": [
      "initial_potential =  26953.467731923978\n",
      "final_potential =  26999.8490193038\n",
      "energy_change =  1.0980872192885727\n",
      "p accept =  0.3335084024175312\n",
      "current step size = 1.7564077254274616e-05\n",
      "current acceptance ratio = 0.6657342657342658\n",
      "currently working on step 716\n"
     ]
    },
    {
     "name": "stderr",
     "output_type": "stream",
     "text": [
      "100%|██████████| 99/99 [00:08<00:00, 11.92it/s]\n",
      "  0%|          | 0/101 [00:00<?, ?it/s]"
     ]
    },
    {
     "name": "stdout",
     "output_type": "stream",
     "text": [
      "initial_potential =  26953.467731923978\n",
      "final_potential =  26951.860679030928\n",
      "energy_change =  2.129746345759486\n",
      "p accept =  0.11886744125927369\n",
      "current step size = 1.7564077254274616e-05\n",
      "current acceptance ratio = 0.664804469273743\n",
      "currently working on step 717\n"
     ]
    },
    {
     "name": "stderr",
     "output_type": "stream",
     "text": [
      "100%|██████████| 101/101 [00:08<00:00, 12.00it/s]\n",
      "  0%|          | 0/97 [00:00<?, ?it/s]"
     ]
    },
    {
     "name": "stdout",
     "output_type": "stream",
     "text": [
      "initial_potential =  26953.467731923978\n",
      "final_potential =  26880.581508645784\n",
      "energy_change =  -0.13689548237016425\n",
      "p accept =  1.1467082910242057\n",
      "current step size = 1.7564077254274616e-05\n",
      "current acceptance ratio = 0.6652719665271967\n",
      "currently working on step 718\n"
     ]
    },
    {
     "name": "stderr",
     "output_type": "stream",
     "text": [
      "100%|██████████| 97/97 [00:08<00:00, 11.90it/s]\n",
      "  0%|          | 0/98 [00:00<?, ?it/s]"
     ]
    },
    {
     "name": "stdout",
     "output_type": "stream",
     "text": [
      "initial_potential =  26880.581508645784\n",
      "final_potential =  26927.6353019787\n",
      "energy_change =  -0.22411363921128213\n",
      "p accept =  1.2512131982306585\n",
      "current step size = 1.7564077254274616e-05\n",
      "current acceptance ratio = 0.6657381615598886\n",
      "currently working on step 719\n"
     ]
    },
    {
     "name": "stderr",
     "output_type": "stream",
     "text": [
      "100%|██████████| 98/98 [00:08<00:00, 11.89it/s]\n",
      "  0%|          | 0/101 [00:00<?, ?it/s]"
     ]
    },
    {
     "name": "stdout",
     "output_type": "stream",
     "text": [
      "initial_potential =  26927.6353019787\n",
      "final_potential =  26976.47064817998\n",
      "energy_change =  0.10206440165347885\n",
      "p accept =  0.9029713969452594\n",
      "current step size = 1.7564077254274616e-05\n",
      "current acceptance ratio = 0.6662030598052852\n",
      "currently working on step 720\n"
     ]
    },
    {
     "name": "stderr",
     "output_type": "stream",
     "text": [
      "100%|██████████| 101/101 [00:08<00:00, 11.88it/s]\n",
      "  0%|          | 0/101 [00:00<?, ?it/s]"
     ]
    },
    {
     "name": "stdout",
     "output_type": "stream",
     "text": [
      "initial_potential =  26976.47064817998\n",
      "final_potential =  27004.406018456913\n",
      "energy_change =  0.7950798044912517\n",
      "p accept =  0.4515451981498477\n",
      "current step size = 1.7564077254274616e-05\n",
      "current acceptance ratio = 0.6666666666666666\n",
      "currently working on step 721\n"
     ]
    },
    {
     "name": "stderr",
     "output_type": "stream",
     "text": [
      "100%|██████████| 101/101 [00:08<00:00, 11.44it/s]\n",
      "  0%|          | 0/98 [00:00<?, ?it/s]"
     ]
    },
    {
     "name": "stdout",
     "output_type": "stream",
     "text": [
      "initial_potential =  27004.406018456913\n",
      "final_potential =  26955.908719610517\n",
      "energy_change =  -1.1585519960062811\n",
      "p accept =  3.1853175825704985\n",
      "current step size = 1.7564077254274616e-05\n",
      "current acceptance ratio = 0.6671289875173371\n",
      "currently working on step 722\n"
     ]
    },
    {
     "name": "stderr",
     "output_type": "stream",
     "text": [
      "100%|██████████| 98/98 [00:08<00:00, 11.78it/s]\n",
      "  0%|          | 0/100 [00:00<?, ?it/s]"
     ]
    },
    {
     "name": "stdout",
     "output_type": "stream",
     "text": [
      "initial_potential =  26955.908719610517\n",
      "final_potential =  26939.087162530548\n",
      "energy_change =  0.9215067846962484\n",
      "p accept =  0.397919010863947\n",
      "current step size = 1.7564077254274616e-05\n",
      "current acceptance ratio = 0.667590027700831\n",
      "currently working on step 723\n"
     ]
    },
    {
     "name": "stderr",
     "output_type": "stream",
     "text": [
      "100%|██████████| 100/100 [00:08<00:00, 11.85it/s]\n",
      "  0%|          | 0/101 [00:00<?, ?it/s]"
     ]
    },
    {
     "name": "stdout",
     "output_type": "stream",
     "text": [
      "initial_potential =  26939.087162530548\n",
      "final_potential =  26917.83749073653\n",
      "energy_change =  0.5155975652887719\n",
      "p accept =  0.5971436556606602\n",
      "current step size = 1.7564077254274616e-05\n",
      "current acceptance ratio = 0.6680497925311203\n",
      "currently working on step 724\n"
     ]
    },
    {
     "name": "stderr",
     "output_type": "stream",
     "text": [
      "100%|██████████| 101/101 [00:08<00:00, 11.75it/s]\n",
      "  0%|          | 0/101 [00:00<?, ?it/s]"
     ]
    },
    {
     "name": "stdout",
     "output_type": "stream",
     "text": [
      "initial_potential =  26917.83749073653\n",
      "final_potential =  26933.438322245674\n",
      "energy_change =  1.5439979249495082\n",
      "p accept =  0.21352573286185192\n",
      "current step size = 1.7564077254274616e-05\n",
      "current acceptance ratio = 0.6671270718232044\n",
      "currently working on step 725\n"
     ]
    },
    {
     "name": "stderr",
     "output_type": "stream",
     "text": [
      "100%|██████████| 101/101 [00:08<00:00, 11.81it/s]\n",
      "  0%|          | 0/97 [00:00<?, ?it/s]"
     ]
    },
    {
     "name": "stdout",
     "output_type": "stream",
     "text": [
      "initial_potential =  26917.83749073653\n",
      "final_potential =  26886.74636678738\n",
      "energy_change =  -0.07661728277162183\n",
      "p accept =  1.0796288047707208\n",
      "current step size = 1.7564077254274616e-05\n",
      "current acceptance ratio = 0.6675862068965517\n",
      "currently working on step 726\n"
     ]
    },
    {
     "name": "stderr",
     "output_type": "stream",
     "text": [
      "100%|██████████| 97/97 [00:08<00:00, 12.10it/s]\n",
      "  0%|          | 0/99 [00:00<?, ?it/s]"
     ]
    },
    {
     "name": "stdout",
     "output_type": "stream",
     "text": [
      "initial_potential =  26886.74636678738\n",
      "final_potential =  26886.792003163227\n",
      "energy_change =  1.2115156535437563\n",
      "p accept =  0.297745658003844\n",
      "current step size = 1.7564077254274616e-05\n",
      "current acceptance ratio = 0.6666666666666666\n",
      "currently working on step 727\n"
     ]
    },
    {
     "name": "stderr",
     "output_type": "stream",
     "text": [
      "100%|██████████| 99/99 [00:08<00:00, 12.06it/s]\n",
      "  0%|          | 0/101 [00:00<?, ?it/s]"
     ]
    },
    {
     "name": "stdout",
     "output_type": "stream",
     "text": [
      "initial_potential =  26886.74636678738\n",
      "final_potential =  26947.587120052907\n",
      "energy_change =  -0.912354395215516\n",
      "p accept =  2.490178501397697\n",
      "current step size = 1.7564077254274616e-05\n",
      "current acceptance ratio = 0.6671251719394773\n",
      "currently working on step 728\n"
     ]
    },
    {
     "name": "stderr",
     "output_type": "stream",
     "text": [
      "100%|██████████| 101/101 [00:08<00:00, 11.94it/s]\n",
      "  0%|          | 0/100 [00:00<?, ?it/s]"
     ]
    },
    {
     "name": "stdout",
     "output_type": "stream",
     "text": [
      "initial_potential =  26947.587120052907\n",
      "final_potential =  26925.23644061699\n",
      "energy_change =  0.09478056170337368\n",
      "p accept =  0.9095725076121638\n",
      "current step size = 1.7564077254274616e-05\n",
      "current acceptance ratio = 0.6675824175824175\n",
      "currently working on step 729\n"
     ]
    },
    {
     "name": "stderr",
     "output_type": "stream",
     "text": [
      "100%|██████████| 100/100 [00:08<00:00, 11.95it/s]\n",
      "  0%|          | 0/97 [00:00<?, ?it/s]"
     ]
    },
    {
     "name": "stdout",
     "output_type": "stream",
     "text": [
      "initial_potential =  26925.23644061699\n",
      "final_potential =  26890.136803002584\n",
      "energy_change =  -0.4484418827050831\n",
      "p accept =  1.5658704738806564\n",
      "current step size = 1.7564077254274616e-05\n",
      "current acceptance ratio = 0.6680384087791496\n",
      "currently working on step 730\n"
     ]
    },
    {
     "name": "stderr",
     "output_type": "stream",
     "text": [
      "100%|██████████| 97/97 [00:08<00:00, 11.83it/s]\n",
      "  0%|          | 0/98 [00:00<?, ?it/s]"
     ]
    },
    {
     "name": "stdout",
     "output_type": "stream",
     "text": [
      "initial_potential =  26890.136803002584\n",
      "final_potential =  26890.323390139718\n",
      "energy_change =  0.8112962075538235\n",
      "p accept =  0.4442818113907399\n",
      "current step size = 1.7564077254274616e-05\n",
      "current acceptance ratio = 0.6684931506849315\n",
      "currently working on step 731\n"
     ]
    },
    {
     "name": "stderr",
     "output_type": "stream",
     "text": [
      "100%|██████████| 98/98 [00:08<00:00, 11.94it/s]\n",
      "  0%|          | 0/98 [00:00<?, ?it/s]"
     ]
    },
    {
     "name": "stdout",
     "output_type": "stream",
     "text": [
      "initial_potential =  26890.323390139718\n",
      "final_potential =  26892.35219640897\n",
      "energy_change =  7.928925210406305\n",
      "p accept =  0.000360173315505239\n",
      "current step size = 1.7564077254274616e-05\n",
      "current acceptance ratio = 0.667578659370725\n",
      "currently working on step 732\n"
     ]
    },
    {
     "name": "stderr",
     "output_type": "stream",
     "text": [
      "100%|██████████| 98/98 [00:08<00:00, 11.99it/s]\n",
      "  0%|          | 0/101 [00:00<?, ?it/s]"
     ]
    },
    {
     "name": "stdout",
     "output_type": "stream",
     "text": [
      "initial_potential =  26890.323390139718\n",
      "final_potential =  26884.34561440681\n",
      "energy_change =  -0.5904503982310416\n",
      "p accept =  1.8048011115936977\n",
      "current step size = 1.7564077254274616e-05\n",
      "current acceptance ratio = 0.6680327868852459\n",
      "currently working on step 733\n"
     ]
    },
    {
     "name": "stderr",
     "output_type": "stream",
     "text": [
      "100%|██████████| 101/101 [00:08<00:00, 11.93it/s]\n",
      "  0%|          | 0/100 [00:00<?, ?it/s]"
     ]
    },
    {
     "name": "stdout",
     "output_type": "stream",
     "text": [
      "initial_potential =  26884.34561440681\n",
      "final_potential =  26816.741810467676\n",
      "energy_change =  0.4233799961657496\n",
      "p accept =  0.654829753032692\n",
      "current step size = 1.7564077254274616e-05\n",
      "current acceptance ratio = 0.6684856753069577\n",
      "currently working on step 734\n"
     ]
    },
    {
     "name": "stderr",
     "output_type": "stream",
     "text": [
      "100%|██████████| 100/100 [00:08<00:00, 11.91it/s]\n",
      "  0%|          | 0/100 [00:00<?, ?it/s]"
     ]
    },
    {
     "name": "stdout",
     "output_type": "stream",
     "text": [
      "initial_potential =  26816.741810467676\n",
      "final_potential =  26851.277083228353\n",
      "energy_change =  -0.4906374698621221\n",
      "p accept =  1.6333571040819355\n",
      "current step size = 1.7564077254274616e-05\n",
      "current acceptance ratio = 0.6689373297002725\n",
      "currently working on step 735\n"
     ]
    },
    {
     "name": "stderr",
     "output_type": "stream",
     "text": [
      "100%|██████████| 100/100 [00:08<00:00, 11.86it/s]\n",
      "  0%|          | 0/98 [00:00<?, ?it/s]"
     ]
    },
    {
     "name": "stdout",
     "output_type": "stream",
     "text": [
      "initial_potential =  26851.277083228353\n",
      "final_potential =  26809.954180967085\n",
      "energy_change =  -0.13040108095447067\n",
      "p accept =  1.1392852373111761\n",
      "current step size = 1.7564077254274616e-05\n",
      "current acceptance ratio = 0.6693877551020408\n",
      "currently working on step 736\n"
     ]
    },
    {
     "name": "stderr",
     "output_type": "stream",
     "text": [
      "100%|██████████| 98/98 [00:08<00:00, 11.96it/s]\n",
      "  0%|          | 0/99 [00:00<?, ?it/s]"
     ]
    },
    {
     "name": "stdout",
     "output_type": "stream",
     "text": [
      "initial_potential =  26809.954180967085\n",
      "final_potential =  26869.21047058142\n",
      "energy_change =  0.5601081303611863\n",
      "p accept =  0.5711473021456458\n",
      "current step size = 1.7564077254274616e-05\n",
      "current acceptance ratio = 0.6684782608695652\n",
      "currently working on step 737\n"
     ]
    },
    {
     "name": "stderr",
     "output_type": "stream",
     "text": [
      "100%|██████████| 99/99 [00:08<00:00, 11.85it/s]\n",
      "  0%|          | 0/97 [00:00<?, ?it/s]"
     ]
    },
    {
     "name": "stdout",
     "output_type": "stream",
     "text": [
      "initial_potential =  26809.954180967085\n",
      "final_potential =  26844.821549800414\n",
      "energy_change =  0.5021771254105261\n",
      "p accept =  0.6052116027982867\n",
      "current step size = 1.7564077254274616e-05\n",
      "current acceptance ratio = 0.6675712347354138\n",
      "currently working on step 738\n"
     ]
    },
    {
     "name": "stderr",
     "output_type": "stream",
     "text": [
      "100%|██████████| 97/97 [00:08<00:00, 11.95it/s]\n",
      "  0%|          | 0/98 [00:00<?, ?it/s]"
     ]
    },
    {
     "name": "stdout",
     "output_type": "stream",
     "text": [
      "initial_potential =  26809.954180967085\n",
      "final_potential =  26855.097819019655\n",
      "energy_change =  3.2854213167738635\n",
      "p accept =  0.037424814069415974\n",
      "current step size = 1.7564077254274616e-05\n",
      "current acceptance ratio = 0.6666666666666666\n",
      "currently working on step 739\n"
     ]
    },
    {
     "name": "stderr",
     "output_type": "stream",
     "text": [
      "100%|██████████| 98/98 [00:08<00:00, 11.87it/s]\n",
      "  0%|          | 0/98 [00:00<?, ?it/s]"
     ]
    },
    {
     "name": "stdout",
     "output_type": "stream",
     "text": [
      "initial_potential =  26809.954180967085\n",
      "final_potential =  26816.417992402552\n",
      "energy_change =  1.643794786548824\n",
      "p accept =  0.1932453243662011\n",
      "current step size = 1.7564077254274616e-05\n",
      "current acceptance ratio = 0.6657645466847091\n",
      "currently working on step 740\n"
     ]
    },
    {
     "name": "stderr",
     "output_type": "stream",
     "text": [
      "100%|██████████| 98/98 [00:08<00:00, 11.78it/s]\n",
      "  0%|          | 0/101 [00:00<?, ?it/s]"
     ]
    },
    {
     "name": "stdout",
     "output_type": "stream",
     "text": [
      "initial_potential =  26809.954180967085\n",
      "final_potential =  26809.94014410734\n",
      "energy_change =  0.5648742246994516\n",
      "p accept =  0.5684316369215728\n",
      "current step size = 1.7564077254274616e-05\n",
      "current acceptance ratio = 0.6662162162162162\n",
      "currently working on step 741\n"
     ]
    },
    {
     "name": "stderr",
     "output_type": "stream",
     "text": [
      "100%|██████████| 101/101 [00:08<00:00, 11.93it/s]\n",
      "  0%|          | 0/101 [00:00<?, ?it/s]"
     ]
    },
    {
     "name": "stdout",
     "output_type": "stream",
     "text": [
      "initial_potential =  26809.94014410734\n",
      "final_potential =  26839.263653843143\n",
      "energy_change =  -0.15699285491427872\n",
      "p accept =  1.1699872542118241\n",
      "current step size = 1.7564077254274616e-05\n",
      "current acceptance ratio = 0.6666666666666666\n",
      "currently working on step 742\n"
     ]
    },
    {
     "name": "stderr",
     "output_type": "stream",
     "text": [
      "100%|██████████| 101/101 [00:08<00:00, 11.90it/s]\n",
      "  0%|          | 0/97 [00:00<?, ?it/s]"
     ]
    },
    {
     "name": "stdout",
     "output_type": "stream",
     "text": [
      "initial_potential =  26839.263653843143\n",
      "final_potential =  26894.049237327206\n",
      "energy_change =  0.36662574535876047\n",
      "p accept =  0.6930689807953223\n",
      "current step size = 1.7564077254274616e-05\n",
      "current acceptance ratio = 0.6671159029649596\n",
      "currently working on step 743\n"
     ]
    },
    {
     "name": "stderr",
     "output_type": "stream",
     "text": [
      "100%|██████████| 97/97 [00:08<00:00, 11.98it/s]\n",
      "  0%|          | 0/100 [00:00<?, ?it/s]"
     ]
    },
    {
     "name": "stdout",
     "output_type": "stream",
     "text": [
      "initial_potential =  26894.049237327206\n",
      "final_potential =  26909.3967823424\n",
      "energy_change =  0.2706739560671849\n",
      "p accept =  0.762865183426027\n",
      "current step size = 1.7564077254274616e-05\n",
      "current acceptance ratio = 0.6662180349932705\n",
      "currently working on step 744\n"
     ]
    },
    {
     "name": "stderr",
     "output_type": "stream",
     "text": [
      "100%|██████████| 100/100 [00:08<00:00, 11.90it/s]\n",
      "  0%|          | 0/101 [00:00<?, ?it/s]"
     ]
    },
    {
     "name": "stdout",
     "output_type": "stream",
     "text": [
      "initial_potential =  26894.049237327206\n",
      "final_potential =  26858.356435231057\n",
      "energy_change =  -0.6372923400776926\n",
      "p accept =  1.891352799715436\n",
      "current step size = 1.7564077254274616e-05\n",
      "current acceptance ratio = 0.6666666666666666\n",
      "currently working on step 745\n"
     ]
    },
    {
     "name": "stderr",
     "output_type": "stream",
     "text": [
      "100%|██████████| 101/101 [00:08<00:00, 11.96it/s]\n",
      "  0%|          | 0/98 [00:00<?, ?it/s]"
     ]
    },
    {
     "name": "stdout",
     "output_type": "stream",
     "text": [
      "initial_potential =  26858.356435231057\n",
      "final_potential =  26854.756963468473\n",
      "energy_change =  0.48404704619315453\n",
      "p accept =  0.6162842074043947\n",
      "current step size = 1.7564077254274616e-05\n",
      "current acceptance ratio = 0.6657718120805369\n",
      "currently working on step 746\n"
     ]
    },
    {
     "name": "stderr",
     "output_type": "stream",
     "text": [
      "100%|██████████| 98/98 [00:08<00:00, 11.88it/s]\n",
      "  0%|          | 0/97 [00:00<?, ?it/s]"
     ]
    },
    {
     "name": "stdout",
     "output_type": "stream",
     "text": [
      "initial_potential =  26858.356435231057\n",
      "final_potential =  26875.34175620804\n",
      "energy_change =  1.0072653519746382\n",
      "p accept =  0.3652163533964333\n",
      "current step size = 1.7564077254274616e-05\n",
      "current acceptance ratio = 0.6648793565683646\n",
      "currently working on step 747\n"
     ]
    },
    {
     "name": "stderr",
     "output_type": "stream",
     "text": [
      "100%|██████████| 97/97 [00:08<00:00, 11.88it/s]\n",
      "  0%|          | 0/100 [00:00<?, ?it/s]"
     ]
    },
    {
     "name": "stdout",
     "output_type": "stream",
     "text": [
      "initial_potential =  26858.356435231057\n",
      "final_potential =  26898.51246407056\n",
      "energy_change =  0.3661151390115265\n",
      "p accept =  0.6934229565794378\n",
      "current step size = 1.7564077254274616e-05\n",
      "current acceptance ratio = 0.6653279785809906\n",
      "currently working on step 748\n"
     ]
    },
    {
     "name": "stderr",
     "output_type": "stream",
     "text": [
      "100%|██████████| 100/100 [00:08<00:00, 12.27it/s]\n",
      "  0%|          | 0/98 [00:00<?, ?it/s]"
     ]
    },
    {
     "name": "stdout",
     "output_type": "stream",
     "text": [
      "initial_potential =  26898.51246407056\n",
      "final_potential =  27008.809294497718\n",
      "energy_change =  -0.41073982638772577\n",
      "p accept =  1.5079329811466349\n",
      "current step size = 1.7564077254274616e-05\n",
      "current acceptance ratio = 0.6657754010695187\n",
      "currently working on step 749\n"
     ]
    },
    {
     "name": "stderr",
     "output_type": "stream",
     "text": [
      "100%|██████████| 98/98 [00:08<00:00, 11.92it/s]\n",
      "  0%|          | 0/99 [00:00<?, ?it/s]"
     ]
    },
    {
     "name": "stdout",
     "output_type": "stream",
     "text": [
      "initial_potential =  27008.809294497718\n",
      "final_potential =  26991.190284660755\n",
      "energy_change =  5.3805625466338824\n",
      "p accept =  0.004605230544232512\n",
      "current step size = 1.7564077254274616e-05\n",
      "current acceptance ratio = 0.664886515353805\n",
      "currently working on step 750\n"
     ]
    },
    {
     "name": "stderr",
     "output_type": "stream",
     "text": [
      "100%|██████████| 99/99 [00:08<00:00, 11.94it/s]\n",
      "  0%|          | 0/99 [00:00<?, ?it/s]"
     ]
    },
    {
     "name": "stdout",
     "output_type": "stream",
     "text": [
      "initial_potential =  27008.809294497718\n",
      "final_potential =  27003.94034416125\n",
      "energy_change =  0.09102438224363141\n",
      "p accept =  0.9129954497503884\n",
      "current step size = 1.7564077254274616e-05\n",
      "current acceptance ratio = 0.6653333333333333\n",
      "currently working on step 751\n"
     ]
    },
    {
     "name": "stderr",
     "output_type": "stream",
     "text": [
      "100%|██████████| 99/99 [00:08<00:00, 11.83it/s]\n",
      "  0%|          | 0/99 [00:00<?, ?it/s]"
     ]
    },
    {
     "name": "stdout",
     "output_type": "stream",
     "text": [
      "initial_potential =  27003.94034416125\n",
      "final_potential =  27011.195580662963\n",
      "energy_change =  0.38591208090656437\n",
      "p accept =  0.679830293115994\n",
      "current step size = 1.7564077254274616e-05\n",
      "current acceptance ratio = 0.6657789613848203\n",
      "currently working on step 752\n"
     ]
    },
    {
     "name": "stderr",
     "output_type": "stream",
     "text": [
      "100%|██████████| 99/99 [00:08<00:00, 11.83it/s]\n",
      "  0%|          | 0/97 [00:00<?, ?it/s]"
     ]
    },
    {
     "name": "stdout",
     "output_type": "stream",
     "text": [
      "initial_potential =  27011.195580662963\n",
      "final_potential =  27024.689389452713\n",
      "energy_change =  -0.35175879613962024\n",
      "p accept =  1.421565595253047\n",
      "current step size = 1.7564077254274616e-05\n",
      "current acceptance ratio = 0.6662234042553191\n",
      "currently working on step 753\n"
     ]
    },
    {
     "name": "stderr",
     "output_type": "stream",
     "text": [
      "100%|██████████| 97/97 [00:08<00:00, 11.81it/s]\n",
      "  0%|          | 0/101 [00:00<?, ?it/s]"
     ]
    },
    {
     "name": "stdout",
     "output_type": "stream",
     "text": [
      "initial_potential =  27024.689389452713\n",
      "final_potential =  27060.261947376555\n",
      "energy_change =  -0.17340861409320496\n",
      "p accept =  1.1893519917928213\n",
      "current step size = 1.7564077254274616e-05\n",
      "current acceptance ratio = 0.6666666666666666\n",
      "currently working on step 754\n"
     ]
    },
    {
     "name": "stderr",
     "output_type": "stream",
     "text": [
      "100%|██████████| 101/101 [00:08<00:00, 11.77it/s]\n",
      "  0%|          | 0/98 [00:00<?, ?it/s]"
     ]
    },
    {
     "name": "stdout",
     "output_type": "stream",
     "text": [
      "initial_potential =  27060.261947376555\n",
      "final_potential =  27037.972152567265\n",
      "energy_change =  -0.0140039977413835\n",
      "p accept =  1.0141025130499721\n",
      "current step size = 1.7564077254274616e-05\n",
      "current acceptance ratio = 0.6671087533156499\n",
      "currently working on step 755\n"
     ]
    },
    {
     "name": "stderr",
     "output_type": "stream",
     "text": [
      "100%|██████████| 98/98 [00:08<00:00, 11.94it/s]\n",
      "  0%|          | 0/101 [00:00<?, ?it/s]"
     ]
    },
    {
     "name": "stdout",
     "output_type": "stream",
     "text": [
      "initial_potential =  27037.972152567265\n",
      "final_potential =  27005.029040217654\n",
      "energy_change =  0.3298601902642986\n",
      "p accept =  0.7190242529957298\n",
      "current step size = 1.7564077254274616e-05\n",
      "current acceptance ratio = 0.6662251655629139\n",
      "currently working on step 756\n"
     ]
    },
    {
     "name": "stderr",
     "output_type": "stream",
     "text": [
      "100%|██████████| 101/101 [00:08<00:00, 11.94it/s]\n",
      "  0%|          | 0/99 [00:00<?, ?it/s]"
     ]
    },
    {
     "name": "stdout",
     "output_type": "stream",
     "text": [
      "initial_potential =  27037.972152567265\n",
      "final_potential =  26975.551159648763\n",
      "energy_change =  0.7459086624294287\n",
      "p accept =  0.4743031226445677\n",
      "current step size = 1.7564077254274616e-05\n",
      "current acceptance ratio = 0.6666666666666666\n",
      "currently working on step 757\n"
     ]
    },
    {
     "name": "stderr",
     "output_type": "stream",
     "text": [
      "100%|██████████| 99/99 [00:08<00:00, 11.91it/s]\n",
      "  0%|          | 0/99 [00:00<?, ?it/s]"
     ]
    },
    {
     "name": "stdout",
     "output_type": "stream",
     "text": [
      "initial_potential =  26975.551159648763\n",
      "final_potential =  27094.963659184945\n",
      "energy_change =  -0.8819212010421325\n",
      "p accept =  2.4155359816279924\n",
      "current step size = 1.7564077254274616e-05\n",
      "current acceptance ratio = 0.667107001321004\n",
      "currently working on step 758\n"
     ]
    },
    {
     "name": "stderr",
     "output_type": "stream",
     "text": [
      "100%|██████████| 99/99 [00:08<00:00, 11.86it/s]\n",
      "  0%|          | 0/101 [00:00<?, ?it/s]"
     ]
    },
    {
     "name": "stdout",
     "output_type": "stream",
     "text": [
      "initial_potential =  27094.963659184945\n",
      "final_potential =  27121.851744826083\n",
      "energy_change =  1.041814021562459\n",
      "p accept =  0.35281408874497144\n",
      "current step size = 1.7564077254274616e-05\n",
      "current acceptance ratio = 0.6662269129287599\n",
      "currently working on step 759\n"
     ]
    },
    {
     "name": "stderr",
     "output_type": "stream",
     "text": [
      "100%|██████████| 101/101 [00:08<00:00, 11.94it/s]\n",
      "  0%|          | 0/97 [00:00<?, ?it/s]"
     ]
    },
    {
     "name": "stdout",
     "output_type": "stream",
     "text": [
      "initial_potential =  27094.963659184945\n",
      "final_potential =  27117.1891074101\n",
      "energy_change =  0.12730819800344761\n",
      "p accept =  0.880462274062085\n",
      "current step size = 1.7564077254274616e-05\n",
      "current acceptance ratio = 0.6666666666666666\n",
      "currently working on step 760\n"
     ]
    },
    {
     "name": "stderr",
     "output_type": "stream",
     "text": [
      "100%|██████████| 97/97 [00:08<00:00, 11.96it/s]\n",
      "  0%|          | 0/101 [00:00<?, ?it/s]"
     ]
    },
    {
     "name": "stdout",
     "output_type": "stream",
     "text": [
      "initial_potential =  27117.1891074101\n",
      "final_potential =  27082.299031985152\n",
      "energy_change =  1.4543677402107278\n",
      "p accept =  0.23354798022706358\n",
      "current step size = 1.7564077254274616e-05\n",
      "current acceptance ratio = 0.6657894736842105\n",
      "currently working on step 761\n"
     ]
    },
    {
     "name": "stderr",
     "output_type": "stream",
     "text": [
      "100%|██████████| 101/101 [00:08<00:00, 11.89it/s]\n",
      "  0%|          | 0/100 [00:00<?, ?it/s]"
     ]
    },
    {
     "name": "stdout",
     "output_type": "stream",
     "text": [
      "initial_potential =  27117.1891074101\n",
      "final_potential =  27091.504491451917\n",
      "energy_change =  -0.02789741386368405\n",
      "p accept =  1.0282901906927457\n",
      "current step size = 1.7564077254274616e-05\n",
      "current acceptance ratio = 0.6662286465177398\n",
      "currently working on step 762\n"
     ]
    },
    {
     "name": "stderr",
     "output_type": "stream",
     "text": [
      "100%|██████████| 100/100 [00:08<00:00, 11.89it/s]\n",
      "  0%|          | 0/97 [00:00<?, ?it/s]"
     ]
    },
    {
     "name": "stdout",
     "output_type": "stream",
     "text": [
      "initial_potential =  27091.504491451917\n",
      "final_potential =  27127.745539439413\n",
      "energy_change =  1.15305040293606\n",
      "p accept =  0.3156723712972518\n",
      "current step size = 1.7564077254274616e-05\n",
      "current acceptance ratio = 0.6666666666666666\n",
      "currently working on step 763\n"
     ]
    },
    {
     "name": "stderr",
     "output_type": "stream",
     "text": [
      "100%|██████████| 97/97 [00:08<00:00, 11.97it/s]\n",
      "  0%|          | 0/101 [00:00<?, ?it/s]"
     ]
    },
    {
     "name": "stdout",
     "output_type": "stream",
     "text": [
      "initial_potential =  27127.745539439413\n",
      "final_potential =  27072.75738869165\n",
      "energy_change =  -1.3104704601864796\n",
      "p accept =  3.7079177295991768\n",
      "current step size = 1.7564077254274616e-05\n",
      "current acceptance ratio = 0.6671035386631717\n",
      "currently working on step 764\n"
     ]
    },
    {
     "name": "stderr",
     "output_type": "stream",
     "text": [
      "100%|██████████| 101/101 [00:08<00:00, 11.91it/s]\n",
      "  0%|          | 0/97 [00:00<?, ?it/s]"
     ]
    },
    {
     "name": "stdout",
     "output_type": "stream",
     "text": [
      "initial_potential =  27072.75738869165\n",
      "final_potential =  27150.035532888898\n",
      "energy_change =  0.8334436380100669\n",
      "p accept =  0.4345502729359873\n",
      "current step size = 1.7564077254274616e-05\n",
      "current acceptance ratio = 0.6662303664921466\n",
      "currently working on step 765\n"
     ]
    },
    {
     "name": "stderr",
     "output_type": "stream",
     "text": [
      "100%|██████████| 97/97 [00:08<00:00, 11.81it/s]\n",
      "  0%|          | 0/97 [00:00<?, ?it/s]"
     ]
    },
    {
     "name": "stdout",
     "output_type": "stream",
     "text": [
      "initial_potential =  27072.75738869165\n",
      "final_potential =  27053.23803349298\n",
      "energy_change =  -0.10672942624660209\n",
      "p accept =  1.112633164416177\n",
      "current step size = 1.7564077254274616e-05\n",
      "current acceptance ratio = 0.6666666666666666\n",
      "currently working on step 766\n"
     ]
    },
    {
     "name": "stderr",
     "output_type": "stream",
     "text": [
      "100%|██████████| 97/97 [00:08<00:00, 11.94it/s]\n",
      "  0%|          | 0/101 [00:00<?, ?it/s]"
     ]
    },
    {
     "name": "stdout",
     "output_type": "stream",
     "text": [
      "initial_potential =  27053.23803349298\n",
      "final_potential =  27081.39840488432\n",
      "energy_change =  0.47686013036582153\n",
      "p accept =  0.6207293444082228\n",
      "current step size = 1.7564077254274616e-05\n",
      "current acceptance ratio = 0.6671018276762402\n",
      "currently working on step 767\n"
     ]
    },
    {
     "name": "stderr",
     "output_type": "stream",
     "text": [
      "100%|██████████| 101/101 [00:08<00:00, 11.91it/s]\n",
      "  0%|          | 0/97 [00:00<?, ?it/s]"
     ]
    },
    {
     "name": "stdout",
     "output_type": "stream",
     "text": [
      "initial_potential =  27081.39840488432\n",
      "final_potential =  27027.186691762727\n",
      "energy_change =  0.6559938328864519\n",
      "p accept =  0.5189260804251332\n",
      "current step size = 1.7564077254274616e-05\n",
      "current acceptance ratio = 0.6675358539765319\n",
      "currently working on step 768\n"
     ]
    },
    {
     "name": "stderr",
     "output_type": "stream",
     "text": [
      "100%|██████████| 97/97 [00:08<00:00, 11.82it/s]\n",
      "  0%|          | 0/101 [00:00<?, ?it/s]"
     ]
    },
    {
     "name": "stdout",
     "output_type": "stream",
     "text": [
      "initial_potential =  27027.186691762727\n",
      "final_potential =  27030.360112767463\n",
      "energy_change =  0.35251339043315966\n",
      "p accept =  0.7029191573557066\n",
      "current step size = 1.7564077254274616e-05\n",
      "current acceptance ratio = 0.6666666666666666\n",
      "currently working on step 769\n"
     ]
    },
    {
     "name": "stderr",
     "output_type": "stream",
     "text": [
      "100%|██████████| 101/101 [00:08<00:00, 11.88it/s]\n",
      "  0%|          | 0/97 [00:00<?, ?it/s]"
     ]
    },
    {
     "name": "stdout",
     "output_type": "stream",
     "text": [
      "initial_potential =  27027.186691762727\n",
      "final_potential =  27048.15183732375\n",
      "energy_change =  -0.10700309794628993\n",
      "p accept =  1.1129377022952107\n",
      "current step size = 1.7564077254274616e-05\n",
      "current acceptance ratio = 0.6671001300390117\n",
      "currently working on step 770\n"
     ]
    },
    {
     "name": "stderr",
     "output_type": "stream",
     "text": [
      "100%|██████████| 97/97 [00:08<00:00, 11.96it/s]\n",
      "  0%|          | 0/100 [00:00<?, ?it/s]"
     ]
    },
    {
     "name": "stdout",
     "output_type": "stream",
     "text": [
      "initial_potential =  27048.15183732375\n",
      "final_potential =  27027.081744533847\n",
      "energy_change =  -0.5940549297665711\n",
      "p accept =  1.8113183127881036\n",
      "current step size = 1.7564077254274616e-05\n",
      "current acceptance ratio = 0.6675324675324675\n",
      "currently working on step 771\n"
     ]
    },
    {
     "name": "stderr",
     "output_type": "stream",
     "text": [
      "100%|██████████| 100/100 [00:08<00:00, 11.97it/s]\n",
      "  0%|          | 0/97 [00:00<?, ?it/s]"
     ]
    },
    {
     "name": "stdout",
     "output_type": "stream",
     "text": [
      "initial_potential =  27027.081744533847\n",
      "final_potential =  26986.925944707265\n",
      "energy_change =  1.611091510116239\n",
      "p accept =  0.19966955375144488\n",
      "current step size = 1.7564077254274616e-05\n",
      "current acceptance ratio = 0.6679636835278858\n",
      "currently working on step 772\n"
     ]
    },
    {
     "name": "stderr",
     "output_type": "stream",
     "text": [
      "100%|██████████| 97/97 [00:08<00:00, 11.92it/s]\n",
      "  0%|          | 0/100 [00:00<?, ?it/s]"
     ]
    },
    {
     "name": "stdout",
     "output_type": "stream",
     "text": [
      "initial_potential =  26986.925944707265\n",
      "final_potential =  26944.294262784984\n",
      "energy_change =  0.43438115474418737\n",
      "p accept =  0.6476653477133788\n",
      "current step size = 1.7564077254274616e-05\n",
      "current acceptance ratio = 0.667098445595855\n",
      "currently working on step 773\n"
     ]
    },
    {
     "name": "stderr",
     "output_type": "stream",
     "text": [
      "100%|██████████| 100/100 [00:08<00:00, 11.97it/s]\n",
      "  0%|          | 0/98 [00:00<?, ?it/s]"
     ]
    },
    {
     "name": "stdout",
     "output_type": "stream",
     "text": [
      "initial_potential =  26986.925944707265\n",
      "final_potential =  26925.218140118428\n",
      "energy_change =  -1.543638373434078\n",
      "p accept =  4.681592704155348\n",
      "current step size = 1.7564077254274616e-05\n",
      "current acceptance ratio = 0.6675291073738681\n",
      "currently working on step 774\n"
     ]
    },
    {
     "name": "stderr",
     "output_type": "stream",
     "text": [
      "100%|██████████| 98/98 [00:08<00:00, 11.90it/s]\n",
      "  0%|          | 0/101 [00:00<?, ?it/s]"
     ]
    },
    {
     "name": "stdout",
     "output_type": "stream",
     "text": [
      "initial_potential =  26925.218140118428\n",
      "final_potential =  26918.424446175253\n",
      "energy_change =  2.2063526546990033\n",
      "p accept =  0.11010149522920339\n",
      "current step size = 1.7564077254274616e-05\n",
      "current acceptance ratio = 0.6666666666666666\n",
      "currently working on step 775\n"
     ]
    },
    {
     "name": "stderr",
     "output_type": "stream",
     "text": [
      "100%|██████████| 101/101 [00:08<00:00, 11.81it/s]\n",
      "  0%|          | 0/98 [00:00<?, ?it/s]"
     ]
    },
    {
     "name": "stdout",
     "output_type": "stream",
     "text": [
      "initial_potential =  26925.218140118428\n",
      "final_potential =  26933.77410502998\n",
      "energy_change =  0.24199590353237\n",
      "p accept =  0.7850593935156356\n",
      "current step size = 1.7564077254274616e-05\n",
      "current acceptance ratio = 0.6670967741935484\n",
      "currently working on step 776\n"
     ]
    },
    {
     "name": "stderr",
     "output_type": "stream",
     "text": [
      "100%|██████████| 98/98 [00:08<00:00, 11.90it/s]\n",
      "  0%|          | 0/97 [00:00<?, ?it/s]"
     ]
    },
    {
     "name": "stdout",
     "output_type": "stream",
     "text": [
      "initial_potential =  26933.77410502998\n",
      "final_potential =  26982.40076240111\n",
      "energy_change =  -0.04137719320715405\n",
      "p accept =  1.0422451592064759\n",
      "current step size = 1.7564077254274616e-05\n",
      "current acceptance ratio = 0.6675257731958762\n",
      "currently working on step 777\n"
     ]
    },
    {
     "name": "stderr",
     "output_type": "stream",
     "text": [
      "100%|██████████| 97/97 [00:08<00:00, 11.97it/s]\n",
      "  0%|          | 0/99 [00:00<?, ?it/s]"
     ]
    },
    {
     "name": "stdout",
     "output_type": "stream",
     "text": [
      "initial_potential =  26982.40076240111\n",
      "final_potential =  26945.642204605196\n",
      "energy_change =  0.2151504908397328\n",
      "p accept =  0.8064200722113279\n",
      "current step size = 1.7564077254274616e-05\n",
      "current acceptance ratio = 0.667953667953668\n",
      "currently working on step 778\n"
     ]
    },
    {
     "name": "stderr",
     "output_type": "stream",
     "text": [
      "100%|██████████| 99/99 [00:08<00:00, 11.92it/s]\n",
      "  0%|          | 0/101 [00:00<?, ?it/s]"
     ]
    },
    {
     "name": "stdout",
     "output_type": "stream",
     "text": [
      "initial_potential =  26945.642204605196\n",
      "final_potential =  26921.39768990822\n",
      "energy_change =  0.825939206595649\n",
      "p accept =  0.4378235924946064\n",
      "current step size = 1.7564077254274616e-05\n",
      "current acceptance ratio = 0.6670951156812339\n",
      "currently working on step 779\n"
     ]
    },
    {
     "name": "stderr",
     "output_type": "stream",
     "text": [
      "100%|██████████| 101/101 [00:08<00:00, 11.79it/s]\n",
      "  0%|          | 0/97 [00:00<?, ?it/s]"
     ]
    },
    {
     "name": "stdout",
     "output_type": "stream",
     "text": [
      "initial_potential =  26945.642204605196\n",
      "final_potential =  26866.846314526618\n",
      "energy_change =  0.12767901620827615\n",
      "p accept =  0.8801358431492011\n",
      "current step size = 1.7564077254274616e-05\n",
      "current acceptance ratio = 0.6675224646983312\n",
      "currently working on step 780\n"
     ]
    },
    {
     "name": "stderr",
     "output_type": "stream",
     "text": [
      "100%|██████████| 97/97 [00:08<00:00, 11.79it/s]\n",
      "  0%|          | 0/98 [00:00<?, ?it/s]"
     ]
    },
    {
     "name": "stdout",
     "output_type": "stream",
     "text": [
      "initial_potential =  26866.846314526618\n",
      "final_potential =  26911.681245884727\n",
      "energy_change =  -0.2941204053204274\n",
      "p accept =  1.3419454713144436\n",
      "current step size = 1.7564077254274616e-05\n",
      "current acceptance ratio = 0.6679487179487179\n",
      "currently working on step 781\n"
     ]
    },
    {
     "name": "stderr",
     "output_type": "stream",
     "text": [
      "100%|██████████| 98/98 [00:08<00:00, 11.82it/s]\n",
      "  0%|          | 0/98 [00:00<?, ?it/s]"
     ]
    },
    {
     "name": "stdout",
     "output_type": "stream",
     "text": [
      "initial_potential =  26911.681245884727\n",
      "final_potential =  26929.139418900195\n",
      "energy_change =  0.3158793829497881\n",
      "p accept =  0.7291473924714962\n",
      "current step size = 1.7564077254274616e-05\n",
      "current acceptance ratio = 0.6670934699103713\n",
      "currently working on step 782\n"
     ]
    },
    {
     "name": "stderr",
     "output_type": "stream",
     "text": [
      "100%|██████████| 98/98 [00:08<00:00, 11.92it/s]\n",
      "  0%|          | 0/101 [00:00<?, ?it/s]"
     ]
    },
    {
     "name": "stdout",
     "output_type": "stream",
     "text": [
      "initial_potential =  26911.681245884727\n",
      "final_potential =  26971.941169690755\n",
      "energy_change =  0.8654640274180565\n",
      "p accept =  0.42085621848619037\n",
      "current step size = 1.7564077254274616e-05\n",
      "current acceptance ratio = 0.6675191815856778\n",
      "currently working on step 783\n"
     ]
    },
    {
     "name": "stderr",
     "output_type": "stream",
     "text": [
      "100%|██████████| 101/101 [00:08<00:00, 11.89it/s]\n",
      "  0%|          | 0/100 [00:00<?, ?it/s]"
     ]
    },
    {
     "name": "stdout",
     "output_type": "stream",
     "text": [
      "initial_potential =  26971.941169690755\n",
      "final_potential =  26990.131076629426\n",
      "energy_change =  -1.2621264932968188\n",
      "p accept =  3.5329262491114717\n",
      "current step size = 1.7564077254274616e-05\n",
      "current acceptance ratio = 0.6679438058748404\n",
      "currently working on step 784\n"
     ]
    },
    {
     "name": "stderr",
     "output_type": "stream",
     "text": [
      "100%|██████████| 100/100 [00:08<00:00, 12.00it/s]\n",
      "  0%|          | 0/100 [00:00<?, ?it/s]"
     ]
    },
    {
     "name": "stdout",
     "output_type": "stream",
     "text": [
      "initial_potential =  26990.131076629426\n",
      "final_potential =  26972.447758768274\n",
      "energy_change =  0.05382809719594661\n",
      "p accept =  0.9475949867369396\n",
      "current step size = 1.7564077254274616e-05\n",
      "current acceptance ratio = 0.6683673469387755\n",
      "currently working on step 785\n"
     ]
    },
    {
     "name": "stderr",
     "output_type": "stream",
     "text": [
      "100%|██████████| 100/100 [00:08<00:00, 11.57it/s]\n",
      "  0%|          | 0/97 [00:00<?, ?it/s]"
     ]
    },
    {
     "name": "stdout",
     "output_type": "stream",
     "text": [
      "initial_potential =  26972.447758768274\n",
      "final_potential =  26907.98527637666\n",
      "energy_change =  0.5191142860421678\n",
      "p accept =  0.5950473563840926\n",
      "current step size = 1.7564077254274616e-05\n",
      "current acceptance ratio = 0.6687898089171974\n",
      "currently working on step 786\n"
     ]
    },
    {
     "name": "stderr",
     "output_type": "stream",
     "text": [
      "100%|██████████| 97/97 [00:08<00:00, 11.84it/s]\n",
      "  0%|          | 0/99 [00:00<?, ?it/s]"
     ]
    },
    {
     "name": "stdout",
     "output_type": "stream",
     "text": [
      "initial_potential =  26907.98527637666\n",
      "final_potential =  26958.226054431812\n",
      "energy_change =  -0.19308486772933975\n",
      "p accept =  1.2129857324957976\n",
      "current step size = 1.7564077254274616e-05\n",
      "current acceptance ratio = 0.6692111959287532\n",
      "currently working on step 787\n"
     ]
    },
    {
     "name": "stderr",
     "output_type": "stream",
     "text": [
      "100%|██████████| 99/99 [00:08<00:00, 11.96it/s]\n",
      "  0%|          | 0/97 [00:00<?, ?it/s]"
     ]
    },
    {
     "name": "stdout",
     "output_type": "stream",
     "text": [
      "initial_potential =  26958.226054431812\n",
      "final_potential =  26916.466003106372\n",
      "energy_change =  -0.1624389926000731\n",
      "p accept =  1.1763765485849023\n",
      "current step size = 1.7564077254274616e-05\n",
      "current acceptance ratio = 0.6696315120711563\n",
      "currently working on step 788\n"
     ]
    },
    {
     "name": "stderr",
     "output_type": "stream",
     "text": [
      "100%|██████████| 97/97 [00:08<00:00, 11.98it/s]\n",
      "  0%|          | 0/100 [00:00<?, ?it/s]"
     ]
    },
    {
     "name": "stdout",
     "output_type": "stream",
     "text": [
      "initial_potential =  26916.466003106372\n",
      "final_potential =  26888.10654429943\n",
      "energy_change =  0.40538389307039324\n",
      "p accept =  0.6667208122238677\n",
      "current step size = 1.7564077254274616e-05\n",
      "current acceptance ratio = 0.6687817258883249\n",
      "currently working on step 789\n"
     ]
    },
    {
     "name": "stderr",
     "output_type": "stream",
     "text": [
      "100%|██████████| 100/100 [00:08<00:00, 11.90it/s]\n",
      "  0%|          | 0/101 [00:00<?, ?it/s]"
     ]
    },
    {
     "name": "stdout",
     "output_type": "stream",
     "text": [
      "initial_potential =  26916.466003106372\n",
      "final_potential =  26934.020473015873\n",
      "energy_change =  0.22238343379285652\n",
      "p accept =  0.8006083251871096\n",
      "current step size = 1.7564077254274616e-05\n",
      "current acceptance ratio = 0.6679340937896071\n",
      "currently working on step 790\n"
     ]
    },
    {
     "name": "stderr",
     "output_type": "stream",
     "text": [
      "100%|██████████| 101/101 [00:08<00:00, 11.90it/s]\n",
      "  0%|          | 0/97 [00:00<?, ?it/s]"
     ]
    },
    {
     "name": "stdout",
     "output_type": "stream",
     "text": [
      "initial_potential =  26916.466003106372\n",
      "final_potential =  26927.851036925786\n",
      "energy_change =  1.2544108518195571\n",
      "p accept =  0.2852438496257238\n",
      "current step size = 1.7564077254274616e-05\n",
      "current acceptance ratio = 0.6670886075949367\n",
      "currently working on step 791\n"
     ]
    },
    {
     "name": "stderr",
     "output_type": "stream",
     "text": [
      "100%|██████████| 97/97 [00:08<00:00, 11.90it/s]\n",
      "  0%|          | 0/99 [00:00<?, ?it/s]"
     ]
    },
    {
     "name": "stdout",
     "output_type": "stream",
     "text": [
      "initial_potential =  26916.466003106372\n",
      "final_potential =  26907.22117190447\n",
      "energy_change =  0.4429193298565224\n",
      "p accept =  0.6421590080576868\n",
      "current step size = 1.7564077254274616e-05\n",
      "current acceptance ratio = 0.6675094816687737\n",
      "currently working on step 792\n"
     ]
    },
    {
     "name": "stderr",
     "output_type": "stream",
     "text": [
      "100%|██████████| 99/99 [00:08<00:00, 12.00it/s]\n",
      "  0%|          | 0/97 [00:00<?, ?it/s]"
     ]
    },
    {
     "name": "stdout",
     "output_type": "stream",
     "text": [
      "initial_potential =  26907.22117190447\n",
      "final_potential =  26962.075326055692\n",
      "energy_change =  0.5872783771774266\n",
      "p accept =  0.5558380094026596\n",
      "current step size = 1.7564077254274616e-05\n",
      "current acceptance ratio = 0.6666666666666666\n",
      "currently working on step 793\n"
     ]
    },
    {
     "name": "stderr",
     "output_type": "stream",
     "text": [
      "100%|██████████| 97/97 [00:08<00:00, 11.88it/s]\n",
      "  0%|          | 0/97 [00:00<?, ?it/s]"
     ]
    },
    {
     "name": "stdout",
     "output_type": "stream",
     "text": [
      "initial_potential =  26907.22117190447\n",
      "final_potential =  26946.682574430903\n",
      "energy_change =  0.48276276759861503\n",
      "p accept =  0.6170761964785675\n",
      "current step size = 1.7564077254274616e-05\n",
      "current acceptance ratio = 0.6658259773013872\n",
      "currently working on step 794\n"
     ]
    },
    {
     "name": "stderr",
     "output_type": "stream",
     "text": [
      "100%|██████████| 97/97 [00:08<00:00, 11.90it/s]\n",
      "  0%|          | 0/98 [00:00<?, ?it/s]"
     ]
    },
    {
     "name": "stdout",
     "output_type": "stream",
     "text": [
      "initial_potential =  26907.22117190447\n",
      "final_potential =  26922.544235758447\n",
      "energy_change =  -0.33584408489696216\n",
      "p accept =  1.3991208637304378\n",
      "current step size = 1.7564077254274616e-05\n",
      "current acceptance ratio = 0.6662468513853904\n",
      "currently working on step 795\n"
     ]
    },
    {
     "name": "stderr",
     "output_type": "stream",
     "text": [
      "100%|██████████| 98/98 [00:08<00:00, 11.98it/s]\n",
      "  0%|          | 0/100 [00:00<?, ?it/s]"
     ]
    },
    {
     "name": "stdout",
     "output_type": "stream",
     "text": [
      "initial_potential =  26922.544235758447\n",
      "final_potential =  26926.53942399671\n",
      "energy_change =  0.9987657628662419\n",
      "p accept =  0.36833377195677036\n",
      "current step size = 1.7564077254274616e-05\n",
      "current acceptance ratio = 0.6654088050314465\n",
      "currently working on step 796\n"
     ]
    },
    {
     "name": "stderr",
     "output_type": "stream",
     "text": [
      "100%|██████████| 100/100 [00:08<00:00, 11.83it/s]\n",
      "  0%|          | 0/100 [00:00<?, ?it/s]"
     ]
    },
    {
     "name": "stdout",
     "output_type": "stream",
     "text": [
      "initial_potential =  26922.544235758447\n",
      "final_potential =  26903.954860063684\n",
      "energy_change =  2.439165464078542\n",
      "p accept =  0.08723362068351252\n",
      "current step size = 1.7564077254274616e-05\n",
      "current acceptance ratio = 0.664572864321608\n",
      "currently working on step 797\n"
     ]
    },
    {
     "name": "stderr",
     "output_type": "stream",
     "text": [
      "100%|██████████| 100/100 [00:08<00:00, 11.85it/s]\n",
      "  0%|          | 0/99 [00:00<?, ?it/s]"
     ]
    },
    {
     "name": "stdout",
     "output_type": "stream",
     "text": [
      "initial_potential =  26922.544235758447\n",
      "final_potential =  26938.13615266858\n",
      "energy_change =  0.11983419758325908\n",
      "p accept =  0.887067502460613\n",
      "current step size = 1.7564077254274616e-05\n",
      "current acceptance ratio = 0.6649937264742786\n",
      "currently working on step 798\n"
     ]
    },
    {
     "name": "stderr",
     "output_type": "stream",
     "text": [
      "100%|██████████| 99/99 [00:08<00:00, 11.95it/s]\n",
      "  0%|          | 0/100 [00:00<?, ?it/s]"
     ]
    },
    {
     "name": "stdout",
     "output_type": "stream",
     "text": [
      "initial_potential =  26938.13615266858\n",
      "final_potential =  26944.492171888116\n",
      "energy_change =  -0.3168337906245142\n",
      "p accept =  1.372774384989368\n",
      "current step size = 1.7564077254274616e-05\n",
      "current acceptance ratio = 0.6654135338345865\n",
      "currently working on step 799\n"
     ]
    },
    {
     "name": "stderr",
     "output_type": "stream",
     "text": [
      "100%|██████████| 100/100 [00:08<00:00, 11.86it/s]\n",
      "  0%|          | 0/101 [00:00<?, ?it/s]"
     ]
    },
    {
     "name": "stdout",
     "output_type": "stream",
     "text": [
      "initial_potential =  26944.492171888116\n",
      "final_potential =  26988.165816104105\n",
      "energy_change =  2.3221863019862212\n",
      "p accept =  0.09805896456765027\n",
      "current step size = 1.7564077254274616e-05\n",
      "current acceptance ratio = 0.6645807259073843\n",
      "currently working on step 800\n"
     ]
    },
    {
     "name": "stderr",
     "output_type": "stream",
     "text": [
      "100%|██████████| 101/101 [00:08<00:00, 11.90it/s]\n",
      "  0%|          | 0/98 [00:00<?, ?it/s]"
     ]
    },
    {
     "name": "stdout",
     "output_type": "stream",
     "text": [
      "initial_potential =  26944.492171888116\n",
      "final_potential =  26977.9162806141\n",
      "energy_change =  3.8228734578442527\n",
      "p accept =  0.02186488272242368\n",
      "current step size = 1.7564077254274616e-05\n",
      "current acceptance ratio = 0.66375\n",
      "currently working on step 801\n"
     ]
    },
    {
     "name": "stderr",
     "output_type": "stream",
     "text": [
      "100%|██████████| 98/98 [00:08<00:00, 11.92it/s]\n",
      "  0%|          | 0/101 [00:00<?, ?it/s]"
     ]
    },
    {
     "name": "stdout",
     "output_type": "stream",
     "text": [
      "initial_potential =  26944.492171888116\n",
      "final_potential =  26927.903530835145\n",
      "energy_change =  0.3874060794332763\n",
      "p accept =  0.6788153859833205\n",
      "current step size = 1.7564077254274616e-05\n",
      "current acceptance ratio = 0.6629213483146067\n",
      "currently working on step 802\n"
     ]
    },
    {
     "name": "stderr",
     "output_type": "stream",
     "text": [
      "100%|██████████| 101/101 [00:08<00:00, 11.90it/s]\n",
      "  0%|          | 0/101 [00:00<?, ?it/s]"
     ]
    },
    {
     "name": "stdout",
     "output_type": "stream",
     "text": [
      "initial_potential =  26944.492171888116\n",
      "final_potential =  26922.8159968735\n",
      "energy_change =  -0.01958419897709973\n",
      "p accept =  1.0197772274453414\n",
      "current step size = 1.7564077254274616e-05\n",
      "current acceptance ratio = 0.6633416458852868\n",
      "currently working on step 803\n"
     ]
    },
    {
     "name": "stderr",
     "output_type": "stream",
     "text": [
      "100%|██████████| 101/101 [00:08<00:00, 11.91it/s]\n",
      "  0%|          | 0/99 [00:00<?, ?it/s]"
     ]
    },
    {
     "name": "stdout",
     "output_type": "stream",
     "text": [
      "initial_potential =  26922.8159968735\n",
      "final_potential =  26879.477802376507\n",
      "energy_change =  -0.34694762792787515\n",
      "p accept =  1.414742630427114\n",
      "current step size = 1.7564077254274616e-05\n",
      "current acceptance ratio = 0.663760896637609\n",
      "currently working on step 804\n"
     ]
    },
    {
     "name": "stderr",
     "output_type": "stream",
     "text": [
      "100%|██████████| 99/99 [00:08<00:00, 11.94it/s]\n",
      "  0%|          | 0/101 [00:00<?, ?it/s]"
     ]
    },
    {
     "name": "stdout",
     "output_type": "stream",
     "text": [
      "initial_potential =  26879.477802376507\n",
      "final_potential =  26890.179186382225\n",
      "energy_change =  0.6065262328629615\n",
      "p accept =  0.5452416255899739\n",
      "current step size = 1.7564077254274616e-05\n",
      "current acceptance ratio = 0.6629353233830846\n",
      "currently working on step 805\n"
     ]
    },
    {
     "name": "stderr",
     "output_type": "stream",
     "text": [
      "100%|██████████| 101/101 [00:08<00:00, 11.92it/s]\n",
      "  0%|          | 0/101 [00:00<?, ?it/s]"
     ]
    },
    {
     "name": "stdout",
     "output_type": "stream",
     "text": [
      "initial_potential =  26879.477802376507\n",
      "final_potential =  26880.443550502358\n",
      "energy_change =  1.7455071403674083\n",
      "p accept =  0.1745564418977346\n",
      "current step size = 1.7564077254274616e-05\n",
      "current acceptance ratio = 0.6633540372670808\n",
      "currently working on step 806\n"
     ]
    },
    {
     "name": "stderr",
     "output_type": "stream",
     "text": [
      "100%|██████████| 101/101 [00:08<00:00, 11.91it/s]\n",
      "  0%|          | 0/97 [00:00<?, ?it/s]"
     ]
    },
    {
     "name": "stdout",
     "output_type": "stream",
     "text": [
      "initial_potential =  26880.443550502358\n",
      "final_potential =  26906.372771851034\n",
      "energy_change =  -0.2979987390572205\n",
      "p accept =  1.3471600891866957\n",
      "current step size = 1.7564077254274616e-05\n",
      "current acceptance ratio = 0.6637717121588089\n",
      "currently working on step 807\n"
     ]
    },
    {
     "name": "stderr",
     "output_type": "stream",
     "text": [
      "100%|██████████| 97/97 [00:08<00:00, 11.80it/s]\n",
      "  0%|          | 0/99 [00:00<?, ?it/s]"
     ]
    },
    {
     "name": "stdout",
     "output_type": "stream",
     "text": [
      "initial_potential =  26906.372771851034\n",
      "final_potential =  26922.877420194927\n",
      "energy_change =  0.38964196684537455\n",
      "p accept =  0.6772993267071767\n",
      "current step size = 1.7564077254274616e-05\n",
      "current acceptance ratio = 0.6641883519206939\n",
      "currently working on step 808\n"
     ]
    },
    {
     "name": "stderr",
     "output_type": "stream",
     "text": [
      "100%|██████████| 99/99 [00:08<00:00, 11.80it/s]\n",
      "  0%|          | 0/98 [00:00<?, ?it/s]"
     ]
    },
    {
     "name": "stdout",
     "output_type": "stream",
     "text": [
      "initial_potential =  26922.877420194927\n",
      "final_potential =  26935.196024694826\n",
      "energy_change =  0.16550045296025928\n",
      "p accept =  0.8474694793348406\n",
      "current step size = 1.7564077254274616e-05\n",
      "current acceptance ratio = 0.6646039603960396\n",
      "currently working on step 809\n"
     ]
    },
    {
     "name": "stderr",
     "output_type": "stream",
     "text": [
      "100%|██████████| 98/98 [00:08<00:00, 11.81it/s]\n",
      "  0%|          | 0/97 [00:00<?, ?it/s]"
     ]
    },
    {
     "name": "stdout",
     "output_type": "stream",
     "text": [
      "initial_potential =  26935.196024694826\n",
      "final_potential =  27001.16022176182\n",
      "energy_change =  -1.3894836399704218\n",
      "p accept =  4.012777480045051\n",
      "current step size = 1.7564077254274616e-05\n",
      "current acceptance ratio = 0.6650185414091471\n",
      "currently working on step 810\n"
     ]
    },
    {
     "name": "stderr",
     "output_type": "stream",
     "text": [
      "100%|██████████| 97/97 [00:08<00:00, 11.77it/s]\n",
      "  0%|          | 0/98 [00:00<?, ?it/s]"
     ]
    },
    {
     "name": "stdout",
     "output_type": "stream",
     "text": [
      "initial_potential =  27001.16022176182\n",
      "final_potential =  27051.149456657226\n",
      "energy_change =  -0.5328869219956687\n",
      "p accept =  1.7038440802088193\n",
      "current step size = 1.7564077254274616e-05\n",
      "current acceptance ratio = 0.6654320987654321\n",
      "currently working on step 811\n"
     ]
    },
    {
     "name": "stderr",
     "output_type": "stream",
     "text": [
      "100%|██████████| 98/98 [00:08<00:00, 11.89it/s]\n",
      "  0%|          | 0/100 [00:00<?, ?it/s]"
     ]
    },
    {
     "name": "stdout",
     "output_type": "stream",
     "text": [
      "initial_potential =  27051.149456657226\n",
      "final_potential =  27115.402184224327\n",
      "energy_change =  0.7454796777456068\n",
      "p accept =  0.4745066350684065\n",
      "current step size = 1.7564077254274616e-05\n",
      "current acceptance ratio = 0.6658446362515413\n",
      "currently working on step 812\n"
     ]
    },
    {
     "name": "stderr",
     "output_type": "stream",
     "text": [
      "100%|██████████| 100/100 [00:08<00:00, 11.93it/s]\n",
      "  0%|          | 0/101 [00:00<?, ?it/s]"
     ]
    },
    {
     "name": "stdout",
     "output_type": "stream",
     "text": [
      "initial_potential =  27115.402184224327\n",
      "final_potential =  27105.498940660174\n",
      "energy_change =  1.027881959817023\n",
      "p accept =  0.3577639170063292\n",
      "current step size = 1.7564077254274616e-05\n",
      "current acceptance ratio = 0.6650246305418719\n",
      "currently working on step 813\n"
     ]
    },
    {
     "name": "stderr",
     "output_type": "stream",
     "text": [
      "100%|██████████| 101/101 [00:08<00:00, 11.91it/s]\n",
      "  0%|          | 0/100 [00:00<?, ?it/s]"
     ]
    },
    {
     "name": "stdout",
     "output_type": "stream",
     "text": [
      "initial_potential =  27115.402184224327\n",
      "final_potential =  27034.0043548007\n",
      "energy_change =  0.0397939824470086\n",
      "p accept =  0.9609873990324223\n",
      "current step size = 1.7564077254274616e-05\n",
      "current acceptance ratio = 0.6654366543665436\n",
      "currently working on step 814\n"
     ]
    },
    {
     "name": "stderr",
     "output_type": "stream",
     "text": [
      "100%|██████████| 100/100 [00:08<00:00, 11.89it/s]\n",
      "  0%|          | 0/101 [00:00<?, ?it/s]"
     ]
    },
    {
     "name": "stdout",
     "output_type": "stream",
     "text": [
      "initial_potential =  27034.0043548007\n",
      "final_potential =  27026.502891804146\n",
      "energy_change =  3.864285088246106\n",
      "p accept =  0.02097791443503717\n",
      "current step size = 1.7564077254274616e-05\n",
      "current acceptance ratio = 0.6646191646191646\n",
      "currently working on step 815\n"
     ]
    },
    {
     "name": "stderr",
     "output_type": "stream",
     "text": [
      "100%|██████████| 101/101 [00:08<00:00, 11.94it/s]\n",
      "  0%|          | 0/98 [00:00<?, ?it/s]"
     ]
    },
    {
     "name": "stdout",
     "output_type": "stream",
     "text": [
      "initial_potential =  27034.0043548007\n",
      "final_potential =  26988.979944676394\n",
      "energy_change =  -0.5371926677762531\n",
      "p accept =  1.711196216524203\n",
      "current step size = 1.7564077254274616e-05\n",
      "current acceptance ratio = 0.6650306748466258\n",
      "currently working on step 816\n"
     ]
    },
    {
     "name": "stderr",
     "output_type": "stream",
     "text": [
      "100%|██████████| 98/98 [00:08<00:00, 11.92it/s]\n",
      "  0%|          | 0/100 [00:00<?, ?it/s]"
     ]
    },
    {
     "name": "stdout",
     "output_type": "stream",
     "text": [
      "initial_potential =  26988.979944676394\n",
      "final_potential =  27037.16753493305\n",
      "energy_change =  0.6829540873441147\n",
      "p accept =  0.505122609875074\n",
      "current step size = 1.7564077254274616e-05\n",
      "current acceptance ratio = 0.6654411764705882\n",
      "currently working on step 817\n"
     ]
    },
    {
     "name": "stderr",
     "output_type": "stream",
     "text": [
      "100%|██████████| 100/100 [00:08<00:00, 11.92it/s]\n",
      "  0%|          | 0/97 [00:00<?, ?it/s]"
     ]
    },
    {
     "name": "stdout",
     "output_type": "stream",
     "text": [
      "initial_potential =  27037.16753493305\n",
      "final_potential =  27062.72598636878\n",
      "energy_change =  2.472634058955009\n",
      "p accept =  0.08436235067493045\n",
      "current step size = 1.7564077254274616e-05\n",
      "current acceptance ratio = 0.6646266829865362\n",
      "currently working on step 818\n"
     ]
    },
    {
     "name": "stderr",
     "output_type": "stream",
     "text": [
      "100%|██████████| 97/97 [00:08<00:00, 11.90it/s]\n",
      "  0%|          | 0/99 [00:00<?, ?it/s]"
     ]
    },
    {
     "name": "stdout",
     "output_type": "stream",
     "text": [
      "initial_potential =  27037.16753493305\n",
      "final_potential =  27074.285723171008\n",
      "energy_change =  0.40865177189698443\n",
      "p accept =  0.6645456054901262\n",
      "current step size = 1.7564077254274616e-05\n",
      "current acceptance ratio = 0.6638141809290954\n",
      "currently working on step 819\n"
     ]
    },
    {
     "name": "stderr",
     "output_type": "stream",
     "text": [
      "100%|██████████| 99/99 [00:08<00:00, 11.80it/s]\n",
      "  0%|          | 0/100 [00:00<?, ?it/s]"
     ]
    },
    {
     "name": "stdout",
     "output_type": "stream",
     "text": [
      "initial_potential =  27037.16753493305\n",
      "final_potential =  26986.083397944058\n",
      "energy_change =  -0.4360350444621872\n",
      "p accept =  1.546562992268013\n",
      "current step size = 1.7564077254274616e-05\n",
      "current acceptance ratio = 0.6642246642246642\n",
      "currently working on step 820\n"
     ]
    },
    {
     "name": "stderr",
     "output_type": "stream",
     "text": [
      "100%|██████████| 100/100 [00:08<00:00, 11.88it/s]\n",
      "  0%|          | 0/101 [00:00<?, ?it/s]"
     ]
    },
    {
     "name": "stdout",
     "output_type": "stream",
     "text": [
      "initial_potential =  26986.083397944058\n",
      "final_potential =  27022.08185296315\n",
      "energy_change =  0.3671691868075868\n",
      "p accept =  0.6926924407072746\n",
      "current step size = 1.7564077254274616e-05\n",
      "current acceptance ratio = 0.6646341463414634\n",
      "currently working on step 821\n"
     ]
    },
    {
     "name": "stderr",
     "output_type": "stream",
     "text": [
      "100%|██████████| 101/101 [00:08<00:00, 11.74it/s]\n",
      "  0%|          | 0/100 [00:00<?, ?it/s]"
     ]
    },
    {
     "name": "stdout",
     "output_type": "stream",
     "text": [
      "initial_potential =  27022.08185296315\n",
      "final_potential =  27007.73819349901\n",
      "energy_change =  -0.41783940272580367\n",
      "p accept =  1.5186767594687713\n",
      "current step size = 1.7564077254274616e-05\n",
      "current acceptance ratio = 0.6650426309378806\n",
      "currently working on step 822\n"
     ]
    },
    {
     "name": "stderr",
     "output_type": "stream",
     "text": [
      "100%|██████████| 100/100 [00:08<00:00, 11.84it/s]\n",
      "  0%|          | 0/101 [00:00<?, ?it/s]"
     ]
    },
    {
     "name": "stdout",
     "output_type": "stream",
     "text": [
      "initial_potential =  27007.73819349901\n",
      "final_potential =  27002.45043556878\n",
      "energy_change =  -0.4014850069070235\n",
      "p accept =  1.4940417133557384\n",
      "current step size = 1.7564077254274616e-05\n",
      "current acceptance ratio = 0.6654501216545012\n",
      "currently working on step 823\n"
     ]
    },
    {
     "name": "stderr",
     "output_type": "stream",
     "text": [
      "100%|██████████| 101/101 [00:08<00:00, 11.86it/s]\n",
      "  0%|          | 0/97 [00:00<?, ?it/s]"
     ]
    },
    {
     "name": "stdout",
     "output_type": "stream",
     "text": [
      "initial_potential =  27002.45043556878\n",
      "final_potential =  27061.755800028648\n",
      "energy_change =  0.7777178109827219\n",
      "p accept =  0.4594533751562279\n",
      "current step size = 1.7564077254274616e-05\n",
      "current acceptance ratio = 0.6646415552855407\n",
      "currently working on step 824\n"
     ]
    },
    {
     "name": "stderr",
     "output_type": "stream",
     "text": [
      "100%|██████████| 97/97 [00:08<00:00, 11.80it/s]\n",
      "  0%|          | 0/101 [00:00<?, ?it/s]"
     ]
    },
    {
     "name": "stdout",
     "output_type": "stream",
     "text": [
      "initial_potential =  27002.45043556878\n",
      "final_potential =  27071.130953360203\n",
      "energy_change =  0.45395610308332834\n",
      "p accept =  0.635110612031641\n",
      "current step size = 1.7564077254274616e-05\n",
      "current acceptance ratio = 0.6638349514563107\n",
      "currently working on step 825\n"
     ]
    },
    {
     "name": "stderr",
     "output_type": "stream",
     "text": [
      "100%|██████████| 101/101 [00:08<00:00, 11.85it/s]\n",
      "  0%|          | 0/97 [00:00<?, ?it/s]"
     ]
    },
    {
     "name": "stdout",
     "output_type": "stream",
     "text": [
      "initial_potential =  27002.45043556878\n",
      "final_potential =  27040.70798125886\n",
      "energy_change =  1.7220061530242674\n",
      "p accept =  0.17870727391575444\n",
      "current step size = 1.7564077254274616e-05\n",
      "current acceptance ratio = 0.6630303030303031\n",
      "currently working on step 826\n"
     ]
    },
    {
     "name": "stderr",
     "output_type": "stream",
     "text": [
      "100%|██████████| 97/97 [00:08<00:00, 11.88it/s]\n",
      "  0%|          | 0/100 [00:00<?, ?it/s]"
     ]
    },
    {
     "name": "stdout",
     "output_type": "stream",
     "text": [
      "initial_potential =  27002.45043556878\n",
      "final_potential =  27034.30557967887\n",
      "energy_change =  0.7768087445874698\n",
      "p accept =  0.459871238683836\n",
      "current step size = 1.7564077254274616e-05\n",
      "current acceptance ratio = 0.6634382566585957\n",
      "currently working on step 827\n"
     ]
    },
    {
     "name": "stderr",
     "output_type": "stream",
     "text": [
      "100%|██████████| 100/100 [00:08<00:00, 11.96it/s]\n",
      "  0%|          | 0/100 [00:00<?, ?it/s]"
     ]
    },
    {
     "name": "stdout",
     "output_type": "stream",
     "text": [
      "initial_potential =  27034.30557967887\n",
      "final_potential =  27029.30384627682\n",
      "energy_change =  -0.23400737578049302\n",
      "p accept =  1.2636538126065462\n",
      "current step size = 1.7564077254274616e-05\n",
      "current acceptance ratio = 0.6638452237001209\n",
      "currently working on step 828\n"
     ]
    },
    {
     "name": "stderr",
     "output_type": "stream",
     "text": [
      "100%|██████████| 100/100 [00:08<00:00, 11.89it/s]\n",
      "  0%|          | 0/98 [00:00<?, ?it/s]"
     ]
    },
    {
     "name": "stdout",
     "output_type": "stream",
     "text": [
      "initial_potential =  27029.30384627682\n",
      "final_potential =  27028.035325441888\n",
      "energy_change =  0.0886131586303236\n",
      "p accept =  0.915199542149606\n",
      "current step size = 1.7564077254274616e-05\n",
      "current acceptance ratio = 0.6642512077294686\n",
      "currently working on step 829\n"
     ]
    },
    {
     "name": "stderr",
     "output_type": "stream",
     "text": [
      "100%|██████████| 98/98 [00:08<00:00, 11.91it/s]\n",
      "  0%|          | 0/100 [00:00<?, ?it/s]"
     ]
    },
    {
     "name": "stdout",
     "output_type": "stream",
     "text": [
      "initial_potential =  27028.035325441888\n",
      "final_potential =  27072.78669566622\n",
      "energy_change =  -0.4387425031600287\n",
      "p accept =  1.5507559212228763\n",
      "current step size = 1.7564077254274616e-05\n",
      "current acceptance ratio = 0.6646562123039808\n",
      "currently working on step 830\n"
     ]
    },
    {
     "name": "stderr",
     "output_type": "stream",
     "text": [
      "100%|██████████| 100/100 [00:08<00:00, 11.93it/s]\n",
      "  0%|          | 0/97 [00:00<?, ?it/s]"
     ]
    },
    {
     "name": "stdout",
     "output_type": "stream",
     "text": [
      "initial_potential =  27072.78669566622\n",
      "final_potential =  27162.962119682084\n",
      "energy_change =  -0.20498913394112606\n",
      "p accept =  1.22751172667602\n",
      "current step size = 1.7564077254274616e-05\n",
      "current acceptance ratio = 0.6650602409638554\n",
      "currently working on step 831\n"
     ]
    },
    {
     "name": "stderr",
     "output_type": "stream",
     "text": [
      "100%|██████████| 97/97 [00:08<00:00, 11.97it/s]\n",
      "  0%|          | 0/97 [00:00<?, ?it/s]"
     ]
    },
    {
     "name": "stdout",
     "output_type": "stream",
     "text": [
      "initial_potential =  27162.962119682084\n",
      "final_potential =  27088.898544795964\n",
      "energy_change =  0.9129783948010299\n",
      "p accept =  0.4013271315694056\n",
      "current step size = 1.7564077254274616e-05\n",
      "current acceptance ratio = 0.6642599277978339\n",
      "currently working on step 832\n"
     ]
    },
    {
     "name": "stderr",
     "output_type": "stream",
     "text": [
      "100%|██████████| 97/97 [00:08<00:00, 11.82it/s]\n",
      "  0%|          | 0/98 [00:00<?, ?it/s]"
     ]
    },
    {
     "name": "stdout",
     "output_type": "stream",
     "text": [
      "initial_potential =  27162.962119682084\n",
      "final_potential =  27216.90873769326\n",
      "energy_change =  0.15564618130156305\n",
      "p accept =  0.8558619567692393\n",
      "current step size = 1.7564077254274616e-05\n",
      "current acceptance ratio = 0.6646634615384616\n",
      "currently working on step 833\n"
     ]
    },
    {
     "name": "stderr",
     "output_type": "stream",
     "text": [
      "100%|██████████| 98/98 [00:08<00:00, 11.94it/s]\n",
      "  0%|          | 0/99 [00:00<?, ?it/s]"
     ]
    },
    {
     "name": "stdout",
     "output_type": "stream",
     "text": [
      "initial_potential =  27216.90873769326\n",
      "final_potential =  27218.268567006453\n",
      "energy_change =  0.2738364874821855\n",
      "p accept =  0.7604564092376869\n",
      "current step size = 1.7564077254274616e-05\n",
      "current acceptance ratio = 0.6638655462184874\n",
      "currently working on step 834\n"
     ]
    },
    {
     "name": "stderr",
     "output_type": "stream",
     "text": [
      "100%|██████████| 99/99 [00:08<00:00, 11.90it/s]\n",
      "  0%|          | 0/98 [00:00<?, ?it/s]"
     ]
    },
    {
     "name": "stdout",
     "output_type": "stream",
     "text": [
      "initial_potential =  27216.90873769326\n",
      "final_potential =  27192.735369577964\n",
      "energy_change =  0.8902776828617789\n",
      "p accept =  0.4105417365186249\n",
      "current step size = 1.7564077254274616e-05\n",
      "current acceptance ratio = 0.6630695443645084\n",
      "currently working on step 835\n"
     ]
    },
    {
     "name": "stderr",
     "output_type": "stream",
     "text": [
      "100%|██████████| 98/98 [00:08<00:00, 11.82it/s]\n",
      "  0%|          | 0/100 [00:00<?, ?it/s]"
     ]
    },
    {
     "name": "stdout",
     "output_type": "stream",
     "text": [
      "initial_potential =  27216.90873769326\n",
      "final_potential =  27187.678665279396\n",
      "energy_change =  0.7645793390547624\n",
      "p accept =  0.4655297199630716\n",
      "current step size = 1.7564077254274616e-05\n",
      "current acceptance ratio = 0.6634730538922156\n",
      "currently working on step 836\n"
     ]
    },
    {
     "name": "stderr",
     "output_type": "stream",
     "text": [
      "100%|██████████| 100/100 [00:08<00:00, 11.83it/s]\n",
      "  0%|          | 0/98 [00:00<?, ?it/s]"
     ]
    },
    {
     "name": "stdout",
     "output_type": "stream",
     "text": [
      "initial_potential =  27187.678665279396\n",
      "final_potential =  27240.114459400513\n",
      "energy_change =  -0.6415129232045729\n",
      "p accept =  1.8993522807915453\n",
      "current step size = 1.7564077254274616e-05\n",
      "current acceptance ratio = 0.6638755980861244\n",
      "currently working on step 837\n"
     ]
    },
    {
     "name": "stderr",
     "output_type": "stream",
     "text": [
      "100%|██████████| 98/98 [00:08<00:00, 11.75it/s]\n",
      "  0%|          | 0/99 [00:00<?, ?it/s]"
     ]
    },
    {
     "name": "stdout",
     "output_type": "stream",
     "text": [
      "initial_potential =  27240.114459400513\n",
      "final_potential =  27212.395434616257\n",
      "energy_change =  -0.47304077408625744\n",
      "p accept =  1.6048668186203046\n",
      "current step size = 1.7564077254274616e-05\n",
      "current acceptance ratio = 0.6642771804062126\n",
      "currently working on step 838\n"
     ]
    },
    {
     "name": "stderr",
     "output_type": "stream",
     "text": [
      "100%|██████████| 99/99 [00:08<00:00, 11.77it/s]\n",
      "  0%|          | 0/101 [00:00<?, ?it/s]"
     ]
    },
    {
     "name": "stdout",
     "output_type": "stream",
     "text": [
      "initial_potential =  27212.395434616257\n",
      "final_potential =  27212.42473226371\n",
      "energy_change =  0.4369871981034521\n",
      "p accept =  0.6459797011229962\n",
      "current step size = 1.7564077254274616e-05\n",
      "current acceptance ratio = 0.6634844868735084\n",
      "currently working on step 839\n"
     ]
    },
    {
     "name": "stderr",
     "output_type": "stream",
     "text": [
      "100%|██████████| 101/101 [00:08<00:00, 11.81it/s]\n",
      "  0%|          | 0/98 [00:00<?, ?it/s]"
     ]
    },
    {
     "name": "stdout",
     "output_type": "stream",
     "text": [
      "initial_potential =  27212.395434616257\n",
      "final_potential =  27289.278515416234\n",
      "energy_change =  0.5759183502523229\n",
      "p accept =  0.5621883458594946\n",
      "current step size = 1.7564077254274616e-05\n",
      "current acceptance ratio = 0.6626936829558999\n",
      "currently working on step 840\n"
     ]
    },
    {
     "name": "stderr",
     "output_type": "stream",
     "text": [
      "100%|██████████| 98/98 [00:08<00:00, 11.90it/s]\n",
      "  0%|          | 0/100 [00:00<?, ?it/s]"
     ]
    },
    {
     "name": "stdout",
     "output_type": "stream",
     "text": [
      "initial_potential =  27212.395434616257\n",
      "final_potential =  27244.872955170915\n",
      "energy_change =  1.6725921022007242\n",
      "p accept =  0.18775974187498537\n",
      "current step size = 1.7564077254274616e-05\n",
      "current acceptance ratio = 0.6619047619047619\n",
      "currently working on step 841\n"
     ]
    },
    {
     "name": "stderr",
     "output_type": "stream",
     "text": [
      "100%|██████████| 100/100 [00:08<00:00, 11.89it/s]\n",
      "  0%|          | 0/101 [00:00<?, ?it/s]"
     ]
    },
    {
     "name": "stdout",
     "output_type": "stream",
     "text": [
      "initial_potential =  27212.395434616257\n",
      "final_potential =  27215.773035258622\n",
      "energy_change =  1.9781797204195755\n",
      "p accept =  0.13832079080363927\n",
      "current step size = 1.7564077254274616e-05\n",
      "current acceptance ratio = 0.6623067776456599\n",
      "currently working on step 842\n"
     ]
    },
    {
     "name": "stderr",
     "output_type": "stream",
     "text": [
      "100%|██████████| 101/101 [00:08<00:00, 11.82it/s]\n",
      "  0%|          | 0/99 [00:00<?, ?it/s]"
     ]
    },
    {
     "name": "stdout",
     "output_type": "stream",
     "text": [
      "initial_potential =  27215.773035258622\n",
      "final_potential =  27312.19667039122\n",
      "energy_change =  -1.1856233508879086\n",
      "p accept =  3.2727262425716246\n",
      "current step size = 1.7564077254274616e-05\n",
      "current acceptance ratio = 0.66270783847981\n",
      "currently working on step 843\n"
     ]
    },
    {
     "name": "stderr",
     "output_type": "stream",
     "text": [
      "100%|██████████| 99/99 [00:08<00:00, 11.87it/s]\n",
      "  0%|          | 0/98 [00:00<?, ?it/s]"
     ]
    },
    {
     "name": "stdout",
     "output_type": "stream",
     "text": [
      "initial_potential =  27312.19667039122\n",
      "final_potential =  27325.821460634765\n",
      "energy_change =  -0.572338948622928\n",
      "p accept =  1.7724077778040601\n",
      "current step size = 1.7564077254274616e-05\n",
      "current acceptance ratio = 0.6631079478054567\n",
      "currently working on step 844\n"
     ]
    },
    {
     "name": "stderr",
     "output_type": "stream",
     "text": [
      "100%|██████████| 98/98 [00:08<00:00, 11.92it/s]\n",
      "  0%|          | 0/100 [00:00<?, ?it/s]"
     ]
    },
    {
     "name": "stdout",
     "output_type": "stream",
     "text": [
      "initial_potential =  27325.821460634765\n",
      "final_potential =  27225.060963873904\n",
      "energy_change =  0.9348199713858776\n",
      "p accept =  0.39265654858310906\n",
      "current step size = 1.7564077254274616e-05\n",
      "current acceptance ratio = 0.6623222748815166\n",
      "currently working on step 845\n"
     ]
    },
    {
     "name": "stderr",
     "output_type": "stream",
     "text": [
      "100%|██████████| 100/100 [00:08<00:00, 11.83it/s]\n",
      "  0%|          | 0/99 [00:00<?, ?it/s]"
     ]
    },
    {
     "name": "stdout",
     "output_type": "stream",
     "text": [
      "initial_potential =  27325.821460634765\n",
      "final_potential =  27346.16034947665\n",
      "energy_change =  3.2444940184795996\n",
      "p accept =  0.038988286719881325\n",
      "current step size = 1.7564077254274616e-05\n",
      "current acceptance ratio = 0.6615384615384615\n",
      "currently working on step 846\n"
     ]
    },
    {
     "name": "stderr",
     "output_type": "stream",
     "text": [
      "100%|██████████| 99/99 [00:08<00:00, 11.91it/s]\n",
      "  0%|          | 0/97 [00:00<?, ?it/s]"
     ]
    },
    {
     "name": "stdout",
     "output_type": "stream",
     "text": [
      "initial_potential =  27325.821460634765\n",
      "final_potential =  27236.13721343008\n",
      "energy_change =  1.2149571083573392\n",
      "p accept =  0.29672274094688383\n",
      "current step size = 1.7564077254274616e-05\n",
      "current acceptance ratio = 0.6607565011820331\n",
      "currently working on step 847\n"
     ]
    },
    {
     "name": "stderr",
     "output_type": "stream",
     "text": [
      "100%|██████████| 97/97 [00:08<00:00, 12.03it/s]\n",
      "  0%|          | 0/101 [00:00<?, ?it/s]"
     ]
    },
    {
     "name": "stdout",
     "output_type": "stream",
     "text": [
      "initial_potential =  27325.821460634765\n",
      "final_potential =  27328.36398710669\n",
      "energy_change =  0.07812965197081212\n",
      "p accept =  0.9248445108565274\n",
      "current step size = 1.7564077254274616e-05\n",
      "current acceptance ratio = 0.6611570247933884\n",
      "currently working on step 848\n"
     ]
    },
    {
     "name": "stderr",
     "output_type": "stream",
     "text": [
      "100%|██████████| 101/101 [00:08<00:00, 11.94it/s]\n",
      "  0%|          | 0/98 [00:00<?, ?it/s]"
     ]
    },
    {
     "name": "stdout",
     "output_type": "stream",
     "text": [
      "initial_potential =  27328.36398710669\n",
      "final_potential =  27324.95650463756\n",
      "energy_change =  0.30666736549756024\n",
      "p accept =  0.7358953443816608\n",
      "current step size = 1.7564077254274616e-05\n",
      "current acceptance ratio = 0.6615566037735849\n",
      "currently working on step 849\n"
     ]
    },
    {
     "name": "stderr",
     "output_type": "stream",
     "text": [
      "100%|██████████| 98/98 [00:08<00:00, 11.86it/s]\n",
      "  0%|          | 0/97 [00:00<?, ?it/s]"
     ]
    },
    {
     "name": "stdout",
     "output_type": "stream",
     "text": [
      "initial_potential =  27324.95650463756\n",
      "final_potential =  27326.92611228031\n",
      "energy_change =  0.9416208666807506\n",
      "p accept =  0.389995192568931\n",
      "current step size = 1.7564077254274616e-05\n",
      "current acceptance ratio = 0.6607773851590106\n",
      "currently working on step 850\n"
     ]
    },
    {
     "name": "stderr",
     "output_type": "stream",
     "text": [
      "100%|██████████| 97/97 [00:08<00:00, 11.78it/s]\n",
      "  0%|          | 0/97 [00:00<?, ?it/s]"
     ]
    },
    {
     "name": "stdout",
     "output_type": "stream",
     "text": [
      "initial_potential =  27324.95650463756\n",
      "final_potential =  27339.90929793105\n",
      "energy_change =  2.752167555547203\n",
      "p accept =  0.06378944408412282\n",
      "current step size = 1.7564077254274616e-05\n",
      "current acceptance ratio = 0.66\n",
      "currently working on step 851\n"
     ]
    },
    {
     "name": "stderr",
     "output_type": "stream",
     "text": [
      "100%|██████████| 97/97 [00:08<00:00, 11.79it/s]\n",
      "  0%|          | 0/97 [00:00<?, ?it/s]"
     ]
    },
    {
     "name": "stdout",
     "output_type": "stream",
     "text": [
      "initial_potential =  27324.95650463756\n",
      "final_potential =  27283.61757234657\n",
      "energy_change =  0.8437417069653748\n",
      "p accept =  0.430098207444599\n",
      "current step size = 1.7564077254274616e-05\n",
      "current acceptance ratio = 0.6592244418331374\n",
      "currently working on step 852\n"
     ]
    },
    {
     "name": "stderr",
     "output_type": "stream",
     "text": [
      "100%|██████████| 97/97 [00:08<00:00, 11.84it/s]\n",
      "  0%|          | 0/97 [00:00<?, ?it/s]"
     ]
    },
    {
     "name": "stdout",
     "output_type": "stream",
     "text": [
      "initial_potential =  27324.95650463756\n",
      "final_potential =  27315.858792308805\n",
      "energy_change =  0.07572081763646565\n",
      "p accept =  0.9270749934211744\n",
      "current step size = 1.7564077254274616e-05\n",
      "current acceptance ratio = 0.6596244131455399\n",
      "currently working on step 853\n"
     ]
    },
    {
     "name": "stderr",
     "output_type": "stream",
     "text": [
      "100%|██████████| 97/97 [00:08<00:00, 11.92it/s]\n",
      "  0%|          | 0/99 [00:00<?, ?it/s]"
     ]
    },
    {
     "name": "stdout",
     "output_type": "stream",
     "text": [
      "initial_potential =  27315.858792308805\n",
      "final_potential =  27262.1242009518\n",
      "energy_change =  0.048575547232758254\n",
      "p accept =  0.9525853713986059\n",
      "current step size = 1.7564077254274616e-05\n",
      "current acceptance ratio = 0.6600234466588512\n",
      "currently working on step 854\n"
     ]
    },
    {
     "name": "stderr",
     "output_type": "stream",
     "text": [
      "100%|██████████| 99/99 [00:08<00:00, 11.94it/s]\n",
      "  0%|          | 0/97 [00:00<?, ?it/s]"
     ]
    },
    {
     "name": "stdout",
     "output_type": "stream",
     "text": [
      "initial_potential =  27262.1242009518\n",
      "final_potential =  27270.946528679895\n",
      "energy_change =  2.0913338503596606\n",
      "p accept =  0.12352226566735797\n",
      "current step size = 1.7564077254274616e-05\n",
      "current acceptance ratio = 0.6592505854800936\n",
      "currently working on step 855\n"
     ]
    },
    {
     "name": "stderr",
     "output_type": "stream",
     "text": [
      "100%|██████████| 97/97 [00:08<00:00, 11.90it/s]\n",
      "  0%|          | 0/100 [00:00<?, ?it/s]"
     ]
    },
    {
     "name": "stdout",
     "output_type": "stream",
     "text": [
      "initial_potential =  27262.1242009518\n",
      "final_potential =  27264.299829632473\n",
      "energy_change =  3.068627776854555\n",
      "p accept =  0.046484898765995805\n",
      "current step size = 1.7564077254274616e-05\n",
      "current acceptance ratio = 0.6584795321637427\n",
      "currently working on step 856\n"
     ]
    },
    {
     "name": "stderr",
     "output_type": "stream",
     "text": [
      "100%|██████████| 100/100 [00:08<00:00, 11.91it/s]\n",
      "  0%|          | 0/99 [00:00<?, ?it/s]"
     ]
    },
    {
     "name": "stdout",
     "output_type": "stream",
     "text": [
      "initial_potential =  27262.1242009518\n",
      "final_potential =  27274.177661324717\n",
      "energy_change =  5.843300559121417\n",
      "p accept =  0.0028992576453498553\n",
      "current step size = 1.7564077254274616e-05\n",
      "current acceptance ratio = 0.6577102803738317\n",
      "currently working on step 857\n"
     ]
    },
    {
     "name": "stderr",
     "output_type": "stream",
     "text": [
      "100%|██████████| 99/99 [00:08<00:00, 11.90it/s]\n",
      "  0%|          | 0/98 [00:00<?, ?it/s]"
     ]
    },
    {
     "name": "stdout",
     "output_type": "stream",
     "text": [
      "initial_potential =  27262.1242009518\n",
      "final_potential =  27323.383268530604\n",
      "energy_change =  -0.16893305913254153\n",
      "p accept =  1.1840408755477039\n",
      "current step size = 1.7564077254274616e-05\n",
      "current acceptance ratio = 0.6581096849474912\n",
      "currently working on step 858\n"
     ]
    },
    {
     "name": "stderr",
     "output_type": "stream",
     "text": [
      "100%|██████████| 98/98 [00:08<00:00, 11.95it/s]\n",
      "  0%|          | 0/98 [00:00<?, ?it/s]"
     ]
    },
    {
     "name": "stdout",
     "output_type": "stream",
     "text": [
      "initial_potential =  27323.383268530604\n",
      "final_potential =  27331.720579771212\n",
      "energy_change =  4.7444882695999695\n",
      "p accept =  0.008699512672027454\n",
      "current step size = 1.7564077254274616e-05\n",
      "current acceptance ratio = 0.6573426573426573\n",
      "currently working on step 859\n"
     ]
    },
    {
     "name": "stderr",
     "output_type": "stream",
     "text": [
      "100%|██████████| 98/98 [00:08<00:00, 11.97it/s]\n",
      "  0%|          | 0/100 [00:00<?, ?it/s]"
     ]
    },
    {
     "name": "stdout",
     "output_type": "stream",
     "text": [
      "initial_potential =  27323.383268530604\n",
      "final_potential =  27348.349956364284\n",
      "energy_change =  0.10730803405749612\n",
      "p accept =  0.8982489391054088\n",
      "current step size = 1.7564077254274616e-05\n",
      "current acceptance ratio = 0.6577415599534342\n",
      "currently working on step 860\n"
     ]
    },
    {
     "name": "stderr",
     "output_type": "stream",
     "text": [
      "100%|██████████| 100/100 [00:08<00:00, 11.88it/s]\n",
      "  0%|          | 0/99 [00:00<?, ?it/s]"
     ]
    },
    {
     "name": "stdout",
     "output_type": "stream",
     "text": [
      "initial_potential =  27348.349956364284\n",
      "final_potential =  27271.136601134185\n",
      "energy_change =  0.06312955725297797\n",
      "p accept =  0.9388218346317617\n",
      "current step size = 1.7564077254274616e-05\n",
      "current acceptance ratio = 0.6569767441860465\n",
      "currently working on step 861\n"
     ]
    },
    {
     "name": "stderr",
     "output_type": "stream",
     "text": [
      "100%|██████████| 99/99 [00:08<00:00, 11.97it/s]\n",
      "  0%|          | 0/97 [00:00<?, ?it/s]"
     ]
    },
    {
     "name": "stdout",
     "output_type": "stream",
     "text": [
      "initial_potential =  27348.349956364284\n",
      "final_potential =  27277.310468986652\n",
      "energy_change =  0.30113946105120704\n",
      "p accept =  0.7399745679192395\n",
      "current step size = 1.7564077254274616e-05\n",
      "current acceptance ratio = 0.6573751451800233\n",
      "currently working on step 862\n"
     ]
    },
    {
     "name": "stderr",
     "output_type": "stream",
     "text": [
      "100%|██████████| 97/97 [00:08<00:00, 11.97it/s]\n",
      "  0%|          | 0/98 [00:00<?, ?it/s]"
     ]
    },
    {
     "name": "stdout",
     "output_type": "stream",
     "text": [
      "initial_potential =  27277.310468986652\n",
      "final_potential =  27276.251029017138\n",
      "energy_change =  1.927083466493059\n",
      "p accept =  0.1455721459960219\n",
      "current step size = 1.7564077254274616e-05\n",
      "current acceptance ratio = 0.6566125290023201\n",
      "currently working on step 863\n"
     ]
    },
    {
     "name": "stderr",
     "output_type": "stream",
     "text": [
      "100%|██████████| 98/98 [00:08<00:00, 11.89it/s]\n",
      "  0%|          | 0/99 [00:00<?, ?it/s]"
     ]
    },
    {
     "name": "stdout",
     "output_type": "stream",
     "text": [
      "initial_potential =  27277.310468986652\n",
      "final_potential =  27298.777478100237\n",
      "energy_change =  0.16571066989854444\n",
      "p accept =  0.8472913456196228\n",
      "current step size = 1.7564077254274616e-05\n",
      "current acceptance ratio = 0.657010428736964\n",
      "currently working on step 864\n"
     ]
    },
    {
     "name": "stderr",
     "output_type": "stream",
     "text": [
      "100%|██████████| 99/99 [00:08<00:00, 11.84it/s]\n",
      "  0%|          | 0/101 [00:00<?, ?it/s]"
     ]
    },
    {
     "name": "stdout",
     "output_type": "stream",
     "text": [
      "initial_potential =  27298.777478100237\n",
      "final_potential =  27232.81982213471\n",
      "energy_change =  -0.28459116075828206\n",
      "p accept =  1.3292184803416334\n",
      "current step size = 1.7564077254274616e-05\n",
      "current acceptance ratio = 0.6574074074074074\n",
      "currently working on step 865\n"
     ]
    },
    {
     "name": "stderr",
     "output_type": "stream",
     "text": [
      "100%|██████████| 101/101 [00:08<00:00, 12.00it/s]\n",
      "  0%|          | 0/98 [00:00<?, ?it/s]"
     ]
    },
    {
     "name": "stdout",
     "output_type": "stream",
     "text": [
      "initial_potential =  27232.81982213471\n",
      "final_potential =  27280.57065448036\n",
      "energy_change =  0.2737871758872643\n",
      "p accept =  0.7604939094806852\n",
      "current step size = 1.7564077254274616e-05\n",
      "current acceptance ratio = 0.6566473988439306\n",
      "currently working on step 866\n"
     ]
    },
    {
     "name": "stderr",
     "output_type": "stream",
     "text": [
      "100%|██████████| 98/98 [00:08<00:00, 11.89it/s]\n",
      "  0%|          | 0/100 [00:00<?, ?it/s]"
     ]
    },
    {
     "name": "stdout",
     "output_type": "stream",
     "text": [
      "initial_potential =  27232.81982213471\n",
      "final_potential =  27183.516166424364\n",
      "energy_change =  0.4191874019743409\n",
      "p accept =  0.6575809517514912\n",
      "current step size = 1.7564077254274616e-05\n",
      "current acceptance ratio = 0.6570438799076213\n",
      "currently working on step 867\n"
     ]
    },
    {
     "name": "stderr",
     "output_type": "stream",
     "text": [
      "100%|██████████| 100/100 [00:08<00:00, 11.80it/s]\n",
      "  0%|          | 0/99 [00:00<?, ?it/s]"
     ]
    },
    {
     "name": "stdout",
     "output_type": "stream",
     "text": [
      "initial_potential =  27183.516166424364\n",
      "final_potential =  27200.123905993532\n",
      "energy_change =  0.004603585257427767\n",
      "p accept =  0.9954069949992522\n",
      "current step size = 1.7564077254274616e-05\n",
      "current acceptance ratio = 0.657439446366782\n",
      "currently working on step 868\n"
     ]
    },
    {
     "name": "stderr",
     "output_type": "stream",
     "text": [
      "100%|██████████| 99/99 [00:08<00:00, 11.96it/s]\n",
      "  0%|          | 0/98 [00:00<?, ?it/s]"
     ]
    },
    {
     "name": "stdout",
     "output_type": "stream",
     "text": [
      "initial_potential =  27200.123905993532\n",
      "final_potential =  27114.518109132645\n",
      "energy_change =  -0.017058278259355575\n",
      "p accept =  1.0172046015114646\n",
      "current step size = 1.7564077254274616e-05\n",
      "current acceptance ratio = 0.6578341013824884\n",
      "currently working on step 869\n"
     ]
    },
    {
     "name": "stderr",
     "output_type": "stream",
     "text": [
      "100%|██████████| 98/98 [00:08<00:00, 11.99it/s]\n",
      "  0%|          | 0/98 [00:00<?, ?it/s]"
     ]
    },
    {
     "name": "stdout",
     "output_type": "stream",
     "text": [
      "initial_potential =  27114.518109132645\n",
      "final_potential =  27123.419396233403\n",
      "energy_change =  -0.6248707785853185\n",
      "p accept =  1.8680045556441063\n",
      "current step size = 1.7564077254274616e-05\n",
      "current acceptance ratio = 0.6582278481012658\n",
      "currently working on step 870\n"
     ]
    },
    {
     "name": "stderr",
     "output_type": "stream",
     "text": [
      "100%|██████████| 98/98 [00:08<00:00, 11.94it/s]\n",
      "  0%|          | 0/97 [00:00<?, ?it/s]"
     ]
    },
    {
     "name": "stdout",
     "output_type": "stream",
     "text": [
      "initial_potential =  27123.419396233403\n",
      "final_potential =  27114.0609753923\n",
      "energy_change =  -0.4216878226288827\n",
      "p accept =  1.524532525833013\n",
      "current step size = 1.7564077254274616e-05\n",
      "current acceptance ratio = 0.6586206896551724\n",
      "currently working on step 871\n"
     ]
    },
    {
     "name": "stderr",
     "output_type": "stream",
     "text": [
      "100%|██████████| 97/97 [00:08<00:00, 11.92it/s]\n",
      "  0%|          | 0/99 [00:00<?, ?it/s]"
     ]
    },
    {
     "name": "stdout",
     "output_type": "stream",
     "text": [
      "initial_potential =  27114.0609753923\n",
      "final_potential =  27107.103315953602\n",
      "energy_change =  0.7166795346274739\n",
      "p accept =  0.48837118628446907\n",
      "current step size = 1.7564077254274616e-05\n",
      "current acceptance ratio = 0.6578645235361653\n",
      "currently working on step 872\n"
     ]
    },
    {
     "name": "stderr",
     "output_type": "stream",
     "text": [
      "100%|██████████| 99/99 [00:08<00:00, 12.00it/s]\n",
      "  0%|          | 0/98 [00:00<?, ?it/s]"
     ]
    },
    {
     "name": "stdout",
     "output_type": "stream",
     "text": [
      "initial_potential =  27114.0609753923\n",
      "final_potential =  27088.789212911484\n",
      "energy_change =  0.6906816543778405\n",
      "p accept =  0.5012342840456186\n",
      "current step size = 1.7564077254274616e-05\n",
      "current acceptance ratio = 0.658256880733945\n",
      "currently working on step 873\n"
     ]
    },
    {
     "name": "stderr",
     "output_type": "stream",
     "text": [
      "100%|██████████| 98/98 [00:08<00:00, 11.95it/s]\n",
      "  0%|          | 0/99 [00:00<?, ?it/s]"
     ]
    },
    {
     "name": "stdout",
     "output_type": "stream",
     "text": [
      "initial_potential =  27088.789212911484\n",
      "final_potential =  27113.25962985688\n",
      "energy_change =  -0.424608694811468\n",
      "p accept =  1.5289920000858142\n",
      "current step size = 1.7564077254274616e-05\n",
      "current acceptance ratio = 0.6586483390607102\n",
      "currently working on step 874\n"
     ]
    },
    {
     "name": "stderr",
     "output_type": "stream",
     "text": [
      "100%|██████████| 99/99 [00:08<00:00, 11.83it/s]\n",
      "  0%|          | 0/97 [00:00<?, ?it/s]"
     ]
    },
    {
     "name": "stdout",
     "output_type": "stream",
     "text": [
      "initial_potential =  27113.25962985688\n",
      "final_potential =  27144.91660740811\n",
      "energy_change =  -0.3463822010817239\n",
      "p accept =  1.4139429230727854\n",
      "current step size = 1.7564077254274616e-05\n",
      "current acceptance ratio = 0.6590389016018307\n",
      "currently working on step 875\n"
     ]
    },
    {
     "name": "stderr",
     "output_type": "stream",
     "text": [
      "100%|██████████| 97/97 [00:08<00:00, 11.84it/s]\n",
      "  0%|          | 0/98 [00:00<?, ?it/s]"
     ]
    },
    {
     "name": "stdout",
     "output_type": "stream",
     "text": [
      "initial_potential =  27144.91660740811\n",
      "final_potential =  27064.09743128957\n",
      "energy_change =  0.25795086605648976\n",
      "p accept =  0.7726331936900122\n",
      "current step size = 1.7564077254274616e-05\n",
      "current acceptance ratio = 0.6594285714285715\n",
      "currently working on step 876\n"
     ]
    },
    {
     "name": "stderr",
     "output_type": "stream",
     "text": [
      "100%|██████████| 98/98 [00:08<00:00, 11.96it/s]\n",
      "  0%|          | 0/100 [00:00<?, ?it/s]"
     ]
    },
    {
     "name": "stdout",
     "output_type": "stream",
     "text": [
      "initial_potential =  27064.09743128957\n",
      "final_potential =  27039.016201929528\n",
      "energy_change =  -0.4960466192860622\n",
      "p accept =  1.6422161149770116\n",
      "current step size = 1.7564077254274616e-05\n",
      "current acceptance ratio = 0.6598173515981736\n",
      "currently working on step 877\n"
     ]
    },
    {
     "name": "stderr",
     "output_type": "stream",
     "text": [
      "100%|██████████| 100/100 [00:08<00:00, 11.97it/s]\n",
      "  0%|          | 0/99 [00:00<?, ?it/s]"
     ]
    },
    {
     "name": "stdout",
     "output_type": "stream",
     "text": [
      "initial_potential =  27039.016201929528\n",
      "final_potential =  27028.111755197875\n",
      "energy_change =  1.4939319415134378\n",
      "p accept =  0.22448824330714462\n",
      "current step size = 1.7564077254274616e-05\n",
      "current acceptance ratio = 0.6590649942987458\n",
      "currently working on step 878\n"
     ]
    },
    {
     "name": "stderr",
     "output_type": "stream",
     "text": [
      "100%|██████████| 99/99 [00:08<00:00, 11.85it/s]\n",
      "  0%|          | 0/100 [00:00<?, ?it/s]"
     ]
    },
    {
     "name": "stdout",
     "output_type": "stream",
     "text": [
      "initial_potential =  27039.016201929528\n",
      "final_potential =  27074.407753553165\n",
      "energy_change =  0.3574059861130081\n",
      "p accept =  0.6994884574803666\n",
      "current step size = 1.7564077254274616e-05\n",
      "current acceptance ratio = 0.6594533029612756\n",
      "currently working on step 879\n"
     ]
    },
    {
     "name": "stderr",
     "output_type": "stream",
     "text": [
      "100%|██████████| 100/100 [00:08<00:00, 11.93it/s]\n",
      "  0%|          | 0/101 [00:00<?, ?it/s]"
     ]
    },
    {
     "name": "stdout",
     "output_type": "stream",
     "text": [
      "initial_potential =  27074.407753553165\n",
      "final_potential =  27058.091528480087\n",
      "energy_change =  -0.35057876714563463\n",
      "p accept =  1.4198890959872066\n",
      "current step size = 1.7564077254274616e-05\n",
      "current acceptance ratio = 0.6598407281001137\n",
      "currently working on step 880\n"
     ]
    },
    {
     "name": "stderr",
     "output_type": "stream",
     "text": [
      "100%|██████████| 101/101 [00:08<00:00, 11.92it/s]\n",
      "  0%|          | 0/98 [00:00<?, ?it/s]"
     ]
    },
    {
     "name": "stdout",
     "output_type": "stream",
     "text": [
      "initial_potential =  27058.091528480087\n",
      "final_potential =  27078.235307416908\n",
      "energy_change =  0.5672134323249338\n",
      "p accept =  0.5671035112883382\n",
      "current step size = 1.7564077254274616e-05\n",
      "current acceptance ratio = 0.6590909090909091\n",
      "currently working on step 881\n"
     ]
    },
    {
     "name": "stderr",
     "output_type": "stream",
     "text": [
      "100%|██████████| 98/98 [00:08<00:00, 11.78it/s]\n",
      "  0%|          | 0/98 [00:00<?, ?it/s]"
     ]
    },
    {
     "name": "stdout",
     "output_type": "stream",
     "text": [
      "initial_potential =  27058.091528480087\n",
      "final_potential =  27062.673226835985\n",
      "energy_change =  0.4988103280775249\n",
      "p accept =  0.607252661596143\n",
      "current step size = 1.7564077254274616e-05\n",
      "current acceptance ratio = 0.6583427922814983\n",
      "currently working on step 882\n"
     ]
    },
    {
     "name": "stderr",
     "output_type": "stream",
     "text": [
      "100%|██████████| 98/98 [00:08<00:00, 11.94it/s]\n",
      "  0%|          | 0/97 [00:00<?, ?it/s]"
     ]
    },
    {
     "name": "stdout",
     "output_type": "stream",
     "text": [
      "initial_potential =  27058.091528480087\n",
      "final_potential =  27084.678690584296\n",
      "energy_change =  0.4148557274020277\n",
      "p accept =  0.6604355565855101\n",
      "current step size = 1.7564077254274616e-05\n",
      "current acceptance ratio = 0.6587301587301587\n",
      "currently working on step 883\n"
     ]
    },
    {
     "name": "stderr",
     "output_type": "stream",
     "text": [
      "100%|██████████| 97/97 [00:08<00:00, 11.95it/s]\n",
      "  0%|          | 0/101 [00:00<?, ?it/s]"
     ]
    },
    {
     "name": "stdout",
     "output_type": "stream",
     "text": [
      "initial_potential =  27084.678690584296\n",
      "final_potential =  27140.693914702613\n",
      "energy_change =  0.13967044491437264\n",
      "p accept =  0.8696447840407012\n",
      "current step size = 1.7564077254274616e-05\n",
      "current acceptance ratio = 0.6591166477916195\n",
      "currently working on step 884\n"
     ]
    },
    {
     "name": "stderr",
     "output_type": "stream",
     "text": [
      "100%|██████████| 101/101 [00:08<00:00, 11.98it/s]\n",
      "  0%|          | 0/99 [00:00<?, ?it/s]"
     ]
    },
    {
     "name": "stdout",
     "output_type": "stream",
     "text": [
      "initial_potential =  27140.693914702613\n",
      "final_potential =  27109.478157947728\n",
      "energy_change =  1.0320482996612554\n",
      "p accept =  0.3562764517386488\n",
      "current step size = 1.7564077254274616e-05\n",
      "current acceptance ratio = 0.6595022624434389\n",
      "currently working on step 885\n"
     ]
    },
    {
     "name": "stderr",
     "output_type": "stream",
     "text": [
      "100%|██████████| 99/99 [00:08<00:00, 11.91it/s]\n",
      "  0%|          | 0/100 [00:00<?, ?it/s]"
     ]
    },
    {
     "name": "stdout",
     "output_type": "stream",
     "text": [
      "initial_potential =  27109.478157947728\n",
      "final_potential =  27099.65109136481\n",
      "energy_change =  -1.077618811832508\n",
      "p accept =  2.9376760565897437\n",
      "current step size = 1.7564077254274616e-05\n",
      "current acceptance ratio = 0.6598870056497175\n",
      "currently working on step 886\n"
     ]
    },
    {
     "name": "stderr",
     "output_type": "stream",
     "text": [
      "100%|██████████| 100/100 [00:08<00:00, 12.04it/s]\n",
      "  0%|          | 0/98 [00:00<?, ?it/s]"
     ]
    },
    {
     "name": "stdout",
     "output_type": "stream",
     "text": [
      "initial_potential =  27099.65109136481\n",
      "final_potential =  27050.97853792909\n",
      "energy_change =  0.31262869884085376\n",
      "p accept =  0.7315214769220041\n",
      "current step size = 1.7564077254274616e-05\n",
      "current acceptance ratio = 0.6602708803611738\n",
      "currently working on step 887\n"
     ]
    },
    {
     "name": "stderr",
     "output_type": "stream",
     "text": [
      "100%|██████████| 98/98 [00:08<00:00, 11.97it/s]\n",
      "  0%|          | 0/101 [00:00<?, ?it/s]"
     ]
    },
    {
     "name": "stdout",
     "output_type": "stream",
     "text": [
      "initial_potential =  27050.97853792909\n",
      "final_potential =  27081.19822928382\n",
      "energy_change =  -0.9262234603374964\n",
      "p accept =  2.5249555543568634\n",
      "current step size = 1.7564077254274616e-05\n",
      "current acceptance ratio = 0.6606538895152199\n",
      "currently working on step 888\n"
     ]
    },
    {
     "name": "stderr",
     "output_type": "stream",
     "text": [
      "100%|██████████| 101/101 [00:08<00:00, 11.98it/s]\n",
      "  0%|          | 0/100 [00:00<?, ?it/s]"
     ]
    },
    {
     "name": "stdout",
     "output_type": "stream",
     "text": [
      "initial_potential =  27081.19822928382\n",
      "final_potential =  27016.158825629416\n",
      "energy_change =  4.986570841036155\n",
      "p accept =  0.006829042257757593\n",
      "current step size = 1.7564077254274616e-05\n",
      "current acceptance ratio = 0.6599099099099099\n",
      "currently working on step 889\n"
     ]
    },
    {
     "name": "stderr",
     "output_type": "stream",
     "text": [
      "100%|██████████| 100/100 [00:08<00:00, 12.01it/s]\n",
      "  0%|          | 0/100 [00:00<?, ?it/s]"
     ]
    },
    {
     "name": "stdout",
     "output_type": "stream",
     "text": [
      "initial_potential =  27081.19822928382\n",
      "final_potential =  27120.29996182779\n",
      "energy_change =  0.5174911531212274\n",
      "p accept =  0.5960139816061488\n",
      "current step size = 1.7564077254274616e-05\n",
      "current acceptance ratio = 0.6602924634420697\n",
      "currently working on step 890\n"
     ]
    },
    {
     "name": "stderr",
     "output_type": "stream",
     "text": [
      "100%|██████████| 100/100 [00:08<00:00, 11.95it/s]\n",
      "  0%|          | 0/101 [00:00<?, ?it/s]"
     ]
    },
    {
     "name": "stdout",
     "output_type": "stream",
     "text": [
      "initial_potential =  27120.29996182779\n",
      "final_potential =  27116.74547579149\n",
      "energy_change =  1.903891340334667\n",
      "p accept =  0.14898772777802147\n",
      "current step size = 1.7564077254274616e-05\n",
      "current acceptance ratio = 0.6595505617977528\n",
      "currently working on step 891\n"
     ]
    },
    {
     "name": "stderr",
     "output_type": "stream",
     "text": [
      "100%|██████████| 101/101 [00:08<00:00, 12.02it/s]\n",
      "  0%|          | 0/100 [00:00<?, ?it/s]"
     ]
    },
    {
     "name": "stdout",
     "output_type": "stream",
     "text": [
      "initial_potential =  27120.29996182779\n",
      "final_potential =  27074.051176726898\n",
      "energy_change =  0.007795897079631686\n",
      "p accept =  0.9922344121124171\n",
      "current step size = 1.7564077254274616e-05\n",
      "current acceptance ratio = 0.6599326599326599\n",
      "currently working on step 892\n"
     ]
    },
    {
     "name": "stderr",
     "output_type": "stream",
     "text": [
      "100%|██████████| 100/100 [00:08<00:00, 11.84it/s]\n",
      "  0%|          | 0/97 [00:00<?, ?it/s]"
     ]
    },
    {
     "name": "stdout",
     "output_type": "stream",
     "text": [
      "initial_potential =  27074.051176726898\n",
      "final_potential =  27071.35199613999\n",
      "energy_change =  0.12454212349257432\n",
      "p accept =  0.8829010697064187\n",
      "current step size = 1.7564077254274616e-05\n",
      "current acceptance ratio = 0.6603139013452914\n",
      "currently working on step 893\n"
     ]
    },
    {
     "name": "stderr",
     "output_type": "stream",
     "text": [
      "100%|██████████| 97/97 [00:08<00:00, 11.93it/s]\n",
      "  0%|          | 0/99 [00:00<?, ?it/s]"
     ]
    },
    {
     "name": "stdout",
     "output_type": "stream",
     "text": [
      "initial_potential =  27071.35199613999\n",
      "final_potential =  27036.893635809036\n",
      "energy_change =  -0.10570601098879706\n",
      "p accept =  1.1114950611348406\n",
      "current step size = 1.7564077254274616e-05\n",
      "current acceptance ratio = 0.6606942889137738\n",
      "currently working on step 894\n"
     ]
    },
    {
     "name": "stderr",
     "output_type": "stream",
     "text": [
      "100%|██████████| 99/99 [00:08<00:00, 11.98it/s]\n",
      "  0%|          | 0/101 [00:00<?, ?it/s]"
     ]
    },
    {
     "name": "stdout",
     "output_type": "stream",
     "text": [
      "initial_potential =  27036.893635809036\n",
      "final_potential =  27051.309051690732\n",
      "energy_change =  -0.29612682026345283\n",
      "p accept =  1.3446406737038155\n",
      "current step size = 1.7564077254274616e-05\n",
      "current acceptance ratio = 0.6610738255033557\n",
      "currently working on step 895\n"
     ]
    },
    {
     "name": "stderr",
     "output_type": "stream",
     "text": [
      "100%|██████████| 101/101 [00:08<00:00, 11.81it/s]\n",
      "  0%|          | 0/99 [00:00<?, ?it/s]"
     ]
    },
    {
     "name": "stdout",
     "output_type": "stream",
     "text": [
      "initial_potential =  27051.309051690732\n",
      "final_potential =  27020.63588348171\n",
      "energy_change =  0.6033304423617665\n",
      "p accept =  0.5469868908636051\n",
      "current step size = 1.7564077254274616e-05\n",
      "current acceptance ratio = 0.6614525139664804\n",
      "currently working on step 896\n"
     ]
    },
    {
     "name": "stderr",
     "output_type": "stream",
     "text": [
      "100%|██████████| 99/99 [00:08<00:00, 11.88it/s]\n",
      "  0%|          | 0/101 [00:00<?, ?it/s]"
     ]
    },
    {
     "name": "stdout",
     "output_type": "stream",
     "text": [
      "initial_potential =  27020.63588348171\n",
      "final_potential =  26920.7525833205\n",
      "energy_change =  0.051630877365823835\n",
      "p accept =  0.9496793502966264\n",
      "current step size = 1.7564077254274616e-05\n",
      "current acceptance ratio = 0.6618303571428571\n",
      "currently working on step 897\n"
     ]
    },
    {
     "name": "stderr",
     "output_type": "stream",
     "text": [
      "100%|██████████| 101/101 [00:08<00:00, 11.97it/s]\n",
      "  0%|          | 0/98 [00:00<?, ?it/s]"
     ]
    },
    {
     "name": "stdout",
     "output_type": "stream",
     "text": [
      "initial_potential =  26920.7525833205\n",
      "final_potential =  26961.791423924173\n",
      "energy_change =  0.6763471097947331\n",
      "p accept =  0.5084709927832194\n",
      "current step size = 1.7564077254274616e-05\n",
      "current acceptance ratio = 0.6610925306577481\n",
      "currently working on step 898\n"
     ]
    },
    {
     "name": "stderr",
     "output_type": "stream",
     "text": [
      "100%|██████████| 98/98 [00:08<00:00, 12.04it/s]\n",
      "  0%|          | 0/97 [00:00<?, ?it/s]"
     ]
    },
    {
     "name": "stdout",
     "output_type": "stream",
     "text": [
      "initial_potential =  26920.7525833205\n",
      "final_potential =  26894.710802719852\n",
      "energy_change =  1.4374429527233588\n",
      "p accept =  0.23753436939783337\n",
      "current step size = 1.7564077254274616e-05\n",
      "current acceptance ratio = 0.6603563474387528\n",
      "currently working on step 899\n"
     ]
    },
    {
     "name": "stderr",
     "output_type": "stream",
     "text": [
      "100%|██████████| 97/97 [00:08<00:00, 11.96it/s]\n",
      "  0%|          | 0/98 [00:00<?, ?it/s]"
     ]
    },
    {
     "name": "stdout",
     "output_type": "stream",
     "text": [
      "initial_potential =  26920.7525833205\n",
      "final_potential =  26975.511570207476\n",
      "energy_change =  1.825289726810297\n",
      "p accept =  0.1611709418217615\n",
      "current step size = 1.7564077254274616e-05\n",
      "current acceptance ratio = 0.6596218020022246\n",
      "currently working on step 900\n"
     ]
    },
    {
     "name": "stderr",
     "output_type": "stream",
     "text": [
      "100%|██████████| 98/98 [00:08<00:00, 11.94it/s]\n",
      "  0%|          | 0/98 [00:00<?, ?it/s]"
     ]
    },
    {
     "name": "stdout",
     "output_type": "stream",
     "text": [
      "initial_potential =  26920.7525833205\n",
      "final_potential =  26911.837679671597\n",
      "energy_change =  2.2600672210828634\n",
      "p accept =  0.10434347043794011\n",
      "current step size = 1.7564077254274616e-05\n",
      "current acceptance ratio = 0.6588888888888889\n",
      "currently working on step 901\n"
     ]
    },
    {
     "name": "stderr",
     "output_type": "stream",
     "text": [
      "100%|██████████| 98/98 [00:08<00:00, 11.93it/s]\n",
      "  0%|          | 0/100 [00:00<?, ?it/s]"
     ]
    },
    {
     "name": "stdout",
     "output_type": "stream",
     "text": [
      "initial_potential =  26920.7525833205\n",
      "final_potential =  26870.991238788687\n",
      "energy_change =  0.43850569720962085\n",
      "p accept =  0.644999525910174\n",
      "current step size = 1.7564077254274616e-05\n",
      "current acceptance ratio = 0.6592674805771365\n",
      "currently working on step 902\n"
     ]
    },
    {
     "name": "stderr",
     "output_type": "stream",
     "text": [
      "100%|██████████| 100/100 [00:08<00:00, 11.93it/s]\n",
      "  0%|          | 0/101 [00:00<?, ?it/s]"
     ]
    },
    {
     "name": "stdout",
     "output_type": "stream",
     "text": [
      "initial_potential =  26870.991238788687\n",
      "final_potential =  26923.85083526724\n",
      "energy_change =  1.3370497291907668\n",
      "p accept =  0.26261932489952516\n",
      "current step size = 1.7564077254274616e-05\n",
      "current acceptance ratio = 0.6585365853658537\n",
      "currently working on step 903\n"
     ]
    },
    {
     "name": "stderr",
     "output_type": "stream",
     "text": [
      "100%|██████████| 101/101 [00:08<00:00, 11.92it/s]\n",
      "  0%|          | 0/101 [00:00<?, ?it/s]"
     ]
    },
    {
     "name": "stdout",
     "output_type": "stream",
     "text": [
      "initial_potential =  26870.991238788687\n",
      "final_potential =  26864.165152126126\n",
      "energy_change =  -0.7174937889067223\n",
      "p accept =  2.0492908139983896\n",
      "current step size = 1.7564077254274616e-05\n",
      "current acceptance ratio = 0.6589147286821705\n",
      "currently working on step 904\n"
     ]
    },
    {
     "name": "stderr",
     "output_type": "stream",
     "text": [
      "100%|██████████| 101/101 [00:08<00:00, 11.93it/s]\n",
      "  0%|          | 0/98 [00:00<?, ?it/s]"
     ]
    },
    {
     "name": "stdout",
     "output_type": "stream",
     "text": [
      "initial_potential =  26864.165152126126\n",
      "final_potential =  26821.06782445538\n",
      "energy_change =  0.5497394619305851\n",
      "p accept =  0.5771001473536345\n",
      "current step size = 1.7564077254274616e-05\n",
      "current acceptance ratio = 0.6592920353982301\n",
      "currently working on step 905\n"
     ]
    },
    {
     "name": "stderr",
     "output_type": "stream",
     "text": [
      "100%|██████████| 98/98 [00:08<00:00, 11.86it/s]\n",
      "  0%|          | 0/99 [00:00<?, ?it/s]"
     ]
    },
    {
     "name": "stdout",
     "output_type": "stream",
     "text": [
      "initial_potential =  26821.06782445538\n",
      "final_potential =  26803.888910779086\n",
      "energy_change =  -0.4415044147608569\n",
      "p accept =  1.5550448921446158\n",
      "current step size = 1.7564077254274616e-05\n",
      "current acceptance ratio = 0.6596685082872928\n",
      "currently working on step 906\n"
     ]
    },
    {
     "name": "stderr",
     "output_type": "stream",
     "text": [
      "100%|██████████| 99/99 [00:08<00:00, 11.84it/s]\n",
      "  0%|          | 0/99 [00:00<?, ?it/s]"
     ]
    },
    {
     "name": "stdout",
     "output_type": "stream",
     "text": [
      "initial_potential =  26803.888910779086\n",
      "final_potential =  26724.46218151512\n",
      "energy_change =  2.9304071129881777\n",
      "p accept =  0.053375303941876374\n",
      "current step size = 1.7564077254274616e-05\n",
      "current acceptance ratio = 0.6589403973509934\n",
      "currently working on step 907\n"
     ]
    },
    {
     "name": "stderr",
     "output_type": "stream",
     "text": [
      "100%|██████████| 99/99 [00:08<00:00, 11.98it/s]\n",
      "  0%|          | 0/101 [00:00<?, ?it/s]"
     ]
    },
    {
     "name": "stdout",
     "output_type": "stream",
     "text": [
      "initial_potential =  26803.888910779086\n",
      "final_potential =  26824.63785991085\n",
      "energy_change =  0.984554797236342\n",
      "p accept =  0.3736055201268987\n",
      "current step size = 1.7564077254274616e-05\n",
      "current acceptance ratio = 0.6582138919514884\n",
      "currently working on step 908\n"
     ]
    },
    {
     "name": "stderr",
     "output_type": "stream",
     "text": [
      "100%|██████████| 101/101 [00:08<00:00, 12.01it/s]\n",
      "  0%|          | 0/97 [00:00<?, ?it/s]"
     ]
    },
    {
     "name": "stdout",
     "output_type": "stream",
     "text": [
      "initial_potential =  26803.888910779086\n",
      "final_potential =  26798.428896625916\n",
      "energy_change =  0.6520713965292089\n",
      "p accept =  0.5209655321446686\n",
      "current step size = 1.7564077254274616e-05\n",
      "current acceptance ratio = 0.6585903083700441\n",
      "currently working on step 909\n"
     ]
    },
    {
     "name": "stderr",
     "output_type": "stream",
     "text": [
      "100%|██████████| 97/97 [00:08<00:00, 11.79it/s]\n",
      "  0%|          | 0/98 [00:00<?, ?it/s]"
     ]
    },
    {
     "name": "stdout",
     "output_type": "stream",
     "text": [
      "initial_potential =  26798.428896625916\n",
      "final_potential =  26759.607382994713\n",
      "energy_change =  -0.9186163998529082\n",
      "p accept =  2.50582093610558\n",
      "current step size = 1.7564077254274616e-05\n",
      "current acceptance ratio = 0.658965896589659\n",
      "currently working on step 910\n"
     ]
    },
    {
     "name": "stderr",
     "output_type": "stream",
     "text": [
      "100%|██████████| 98/98 [00:08<00:00, 11.91it/s]\n",
      "  0%|          | 0/100 [00:00<?, ?it/s]"
     ]
    },
    {
     "name": "stdout",
     "output_type": "stream",
     "text": [
      "initial_potential =  26759.607382994713\n",
      "final_potential =  26772.444164968656\n",
      "energy_change =  2.220385350374272\n",
      "p accept =  0.10856726432713718\n",
      "current step size = 1.7564077254274616e-05\n",
      "current acceptance ratio = 0.6593406593406593\n",
      "currently working on step 911\n"
     ]
    },
    {
     "name": "stderr",
     "output_type": "stream",
     "text": [
      "100%|██████████| 100/100 [00:08<00:00, 12.00it/s]\n",
      "  0%|          | 0/101 [00:00<?, ?it/s]"
     ]
    },
    {
     "name": "stdout",
     "output_type": "stream",
     "text": [
      "initial_potential =  26772.444164968656\n",
      "final_potential =  26750.23012318183\n",
      "energy_change =  0.18507522669096943\n",
      "p accept =  0.8310417649785744\n",
      "current step size = 1.7564077254274616e-05\n",
      "current acceptance ratio = 0.6597145993413831\n",
      "currently working on step 912\n"
     ]
    },
    {
     "name": "stderr",
     "output_type": "stream",
     "text": [
      "100%|██████████| 101/101 [00:08<00:00, 12.02it/s]\n",
      "  0%|          | 0/97 [00:00<?, ?it/s]"
     ]
    },
    {
     "name": "stdout",
     "output_type": "stream",
     "text": [
      "initial_potential =  26750.23012318183\n",
      "final_potential =  26773.50232034753\n",
      "energy_change =  -1.9730461411963915\n",
      "p accept =  7.192552683477645\n",
      "current step size = 1.7564077254274616e-05\n",
      "current acceptance ratio = 0.6600877192982456\n",
      "currently working on step 913\n"
     ]
    },
    {
     "name": "stderr",
     "output_type": "stream",
     "text": [
      "100%|██████████| 97/97 [00:08<00:00, 11.92it/s]\n",
      "  0%|          | 0/101 [00:00<?, ?it/s]"
     ]
    },
    {
     "name": "stdout",
     "output_type": "stream",
     "text": [
      "initial_potential =  26773.50232034753\n",
      "final_potential =  26785.51256679614\n",
      "energy_change =  -0.17273460047726985\n",
      "p accept =  1.1885506224534745\n",
      "current step size = 1.7564077254274616e-05\n",
      "current acceptance ratio = 0.660460021905805\n",
      "currently working on step 914\n"
     ]
    },
    {
     "name": "stderr",
     "output_type": "stream",
     "text": [
      "100%|██████████| 101/101 [00:08<00:00, 11.96it/s]\n",
      "  0%|          | 0/97 [00:00<?, ?it/s]"
     ]
    },
    {
     "name": "stdout",
     "output_type": "stream",
     "text": [
      "initial_potential =  26785.51256679614\n",
      "final_potential =  26804.12056524369\n",
      "energy_change =  1.021247859185678\n",
      "p accept =  0.36014524909859646\n",
      "current step size = 1.7564077254274616e-05\n",
      "current acceptance ratio = 0.6597374179431073\n",
      "currently working on step 915\n"
     ]
    },
    {
     "name": "stderr",
     "output_type": "stream",
     "text": [
      "100%|██████████| 97/97 [00:08<00:00, 11.93it/s]\n",
      "  0%|          | 0/100 [00:00<?, ?it/s]"
     ]
    },
    {
     "name": "stdout",
     "output_type": "stream",
     "text": [
      "initial_potential =  26785.51256679614\n",
      "final_potential =  26754.950215947745\n",
      "energy_change =  0.5773308736825129\n",
      "p accept =  0.5613948022302143\n",
      "current step size = 1.7564077254274616e-05\n",
      "current acceptance ratio = 0.6601092896174864\n",
      "currently working on step 916\n"
     ]
    },
    {
     "name": "stderr",
     "output_type": "stream",
     "text": [
      "100%|██████████| 100/100 [00:08<00:00, 11.88it/s]\n",
      "  0%|          | 0/98 [00:00<?, ?it/s]"
     ]
    },
    {
     "name": "stdout",
     "output_type": "stream",
     "text": [
      "initial_potential =  26754.950215947745\n",
      "final_potential =  26782.184313375612\n",
      "energy_change =  -0.772024907040759\n",
      "p accept =  2.1641440104579286\n",
      "current step size = 1.7564077254274616e-05\n",
      "current acceptance ratio = 0.6604803493449781\n",
      "currently working on step 917\n"
     ]
    },
    {
     "name": "stderr",
     "output_type": "stream",
     "text": [
      "100%|██████████| 98/98 [00:08<00:00, 11.87it/s]\n",
      "  0%|          | 0/101 [00:00<?, ?it/s]"
     ]
    },
    {
     "name": "stdout",
     "output_type": "stream",
     "text": [
      "initial_potential =  26782.184313375612\n",
      "final_potential =  26799.087357029144\n",
      "energy_change =  0.6428001679159934\n",
      "p accept =  0.5258179820209365\n",
      "current step size = 1.7564077254274616e-05\n",
      "current acceptance ratio = 0.6608505997818975\n",
      "currently working on step 918\n"
     ]
    },
    {
     "name": "stderr",
     "output_type": "stream",
     "text": [
      "100%|██████████| 101/101 [00:08<00:00, 11.92it/s]\n",
      "  0%|          | 0/97 [00:00<?, ?it/s]"
     ]
    },
    {
     "name": "stdout",
     "output_type": "stream",
     "text": [
      "initial_potential =  26799.087357029144\n",
      "final_potential =  26853.556180976055\n",
      "energy_change =  -0.25787907278572675\n",
      "p accept =  1.2941823073000058\n",
      "current step size = 1.7564077254274616e-05\n",
      "current acceptance ratio = 0.6612200435729847\n",
      "currently working on step 919\n"
     ]
    },
    {
     "name": "stderr",
     "output_type": "stream",
     "text": [
      "100%|██████████| 97/97 [00:08<00:00, 11.98it/s]\n",
      "  0%|          | 0/98 [00:00<?, ?it/s]"
     ]
    },
    {
     "name": "stdout",
     "output_type": "stream",
     "text": [
      "initial_potential =  26853.556180976055\n",
      "final_potential =  26804.79178292808\n",
      "energy_change =  -0.5808204780769302\n",
      "p accept =  1.7875044374579998\n",
      "current step size = 1.7564077254274616e-05\n",
      "current acceptance ratio = 0.661588683351469\n",
      "currently working on step 920\n"
     ]
    },
    {
     "name": "stderr",
     "output_type": "stream",
     "text": [
      "100%|██████████| 98/98 [00:08<00:00, 11.85it/s]\n",
      "  0%|          | 0/101 [00:00<?, ?it/s]"
     ]
    },
    {
     "name": "stdout",
     "output_type": "stream",
     "text": [
      "initial_potential =  26804.79178292808\n",
      "final_potential =  26840.35537170114\n",
      "energy_change =  0.4003376206528628\n",
      "p accept =  0.6700937703438925\n",
      "current step size = 1.7564077254274616e-05\n",
      "current acceptance ratio = 0.6608695652173913\n",
      "currently working on step 921\n"
     ]
    },
    {
     "name": "stderr",
     "output_type": "stream",
     "text": [
      "100%|██████████| 101/101 [00:08<00:00, 11.95it/s]\n",
      "  0%|          | 0/100 [00:00<?, ?it/s]"
     ]
    },
    {
     "name": "stdout",
     "output_type": "stream",
     "text": [
      "initial_potential =  26804.79178292808\n",
      "final_potential =  26853.86250550087\n",
      "energy_change =  1.1581528907699976\n",
      "p accept =  0.3140657592082448\n",
      "current step size = 1.7564077254274616e-05\n",
      "current acceptance ratio = 0.6612377850162866\n",
      "currently working on step 922\n"
     ]
    },
    {
     "name": "stderr",
     "output_type": "stream",
     "text": [
      "100%|██████████| 100/100 [00:08<00:00, 11.93it/s]\n",
      "  0%|          | 0/101 [00:00<?, ?it/s]"
     ]
    },
    {
     "name": "stdout",
     "output_type": "stream",
     "text": [
      "initial_potential =  26853.86250550087\n",
      "final_potential =  26834.926703339377\n",
      "energy_change =  -0.8102552436175756\n",
      "p accept =  2.248481824074019\n",
      "current step size = 1.7564077254274616e-05\n",
      "current acceptance ratio = 0.6616052060737527\n",
      "currently working on step 923\n"
     ]
    },
    {
     "name": "stderr",
     "output_type": "stream",
     "text": [
      "100%|██████████| 101/101 [00:08<00:00, 11.82it/s]\n",
      "  0%|          | 0/98 [00:00<?, ?it/s]"
     ]
    },
    {
     "name": "stdout",
     "output_type": "stream",
     "text": [
      "initial_potential =  26834.926703339377\n",
      "final_potential =  26893.335901943934\n",
      "energy_change =  -0.2033749133697711\n",
      "p accept =  1.2255318504036588\n",
      "current step size = 1.7564077254274616e-05\n",
      "current acceptance ratio = 0.6619718309859155\n",
      "currently working on step 924\n"
     ]
    },
    {
     "name": "stderr",
     "output_type": "stream",
     "text": [
      "100%|██████████| 98/98 [00:08<00:00, 11.89it/s]\n",
      "  0%|          | 0/99 [00:00<?, ?it/s]"
     ]
    },
    {
     "name": "stdout",
     "output_type": "stream",
     "text": [
      "initial_potential =  26893.335901943934\n",
      "final_potential =  26833.74459504459\n",
      "energy_change =  0.19605111655255314\n",
      "p accept =  0.8219702173204937\n",
      "current step size = 1.7564077254274616e-05\n",
      "current acceptance ratio = 0.6623376623376623\n",
      "currently working on step 925\n"
     ]
    },
    {
     "name": "stderr",
     "output_type": "stream",
     "text": [
      "100%|██████████| 99/99 [00:08<00:00, 12.00it/s]\n",
      "  0%|          | 0/100 [00:00<?, ?it/s]"
     ]
    },
    {
     "name": "stdout",
     "output_type": "stream",
     "text": [
      "initial_potential =  26833.74459504459\n",
      "final_potential =  26880.294658987317\n",
      "energy_change =  -0.3430195905530127\n",
      "p accept =  1.409196368592199\n",
      "current step size = 1.7564077254274616e-05\n",
      "current acceptance ratio = 0.6627027027027027\n",
      "currently working on step 926\n"
     ]
    },
    {
     "name": "stderr",
     "output_type": "stream",
     "text": [
      "100%|██████████| 100/100 [00:08<00:00, 12.03it/s]\n",
      "  0%|          | 0/100 [00:00<?, ?it/s]"
     ]
    },
    {
     "name": "stdout",
     "output_type": "stream",
     "text": [
      "initial_potential =  26880.294658987317\n",
      "final_potential =  26949.516873373752\n",
      "energy_change =  0.06488874663773458\n",
      "p accept =  0.9371717210827762\n",
      "current step size = 1.7564077254274616e-05\n",
      "current acceptance ratio = 0.6630669546436285\n",
      "currently working on step 927\n"
     ]
    },
    {
     "name": "stderr",
     "output_type": "stream",
     "text": [
      "100%|██████████| 100/100 [00:08<00:00, 11.93it/s]\n",
      "  0%|          | 0/101 [00:00<?, ?it/s]"
     ]
    },
    {
     "name": "stdout",
     "output_type": "stream",
     "text": [
      "initial_potential =  26949.516873373752\n",
      "final_potential =  26990.8450317236\n",
      "energy_change =  0.46002255158964545\n",
      "p accept =  0.6312694092177287\n",
      "current step size = 1.7564077254274616e-05\n",
      "current acceptance ratio = 0.6634304207119741\n",
      "currently working on step 928\n"
     ]
    },
    {
     "name": "stderr",
     "output_type": "stream",
     "text": [
      "100%|██████████| 101/101 [00:08<00:00, 11.92it/s]\n",
      "  0%|          | 0/97 [00:00<?, ?it/s]"
     ]
    },
    {
     "name": "stdout",
     "output_type": "stream",
     "text": [
      "initial_potential =  26990.8450317236\n",
      "final_potential =  26986.18604321539\n",
      "energy_change =  0.08783785520063248\n",
      "p accept =  0.9159093746257065\n",
      "current step size = 1.7564077254274616e-05\n",
      "current acceptance ratio = 0.6637931034482759\n",
      "currently working on step 929\n"
     ]
    },
    {
     "name": "stderr",
     "output_type": "stream",
     "text": [
      "100%|██████████| 97/97 [00:08<00:00, 11.96it/s]\n",
      "  0%|          | 0/99 [00:00<?, ?it/s]"
     ]
    },
    {
     "name": "stdout",
     "output_type": "stream",
     "text": [
      "initial_potential =  26986.18604321539\n",
      "final_potential =  26967.725994986668\n",
      "energy_change =  0.29365942456934135\n",
      "p accept =  0.7455303575331442\n",
      "current step size = 1.7564077254274616e-05\n",
      "current acceptance ratio = 0.6630785791173305\n",
      "currently working on step 930\n"
     ]
    },
    {
     "name": "stderr",
     "output_type": "stream",
     "text": [
      "100%|██████████| 99/99 [00:08<00:00, 12.01it/s]\n",
      "  0%|          | 0/97 [00:00<?, ?it/s]"
     ]
    },
    {
     "name": "stdout",
     "output_type": "stream",
     "text": [
      "initial_potential =  26986.18604321539\n",
      "final_potential =  26908.09032131383\n",
      "energy_change =  0.4080886715091765\n",
      "p accept =  0.6649199167558125\n",
      "current step size = 1.7564077254274616e-05\n",
      "current acceptance ratio = 0.6634408602150538\n",
      "currently working on step 931\n"
     ]
    },
    {
     "name": "stderr",
     "output_type": "stream",
     "text": [
      "100%|██████████| 97/97 [00:08<00:00, 11.95it/s]\n",
      "  0%|          | 0/100 [00:00<?, ?it/s]"
     ]
    },
    {
     "name": "stdout",
     "output_type": "stream",
     "text": [
      "initial_potential =  26908.09032131383\n",
      "final_potential =  26872.579420927737\n",
      "energy_change =  4.809672023082385\n",
      "p accept =  0.00815053244586469\n",
      "current step size = 1.7564077254274616e-05\n",
      "current acceptance ratio = 0.6627282491944146\n",
      "currently working on step 932\n"
     ]
    },
    {
     "name": "stderr",
     "output_type": "stream",
     "text": [
      "100%|██████████| 100/100 [00:08<00:00, 11.93it/s]\n",
      "  0%|          | 0/99 [00:00<?, ?it/s]"
     ]
    },
    {
     "name": "stdout",
     "output_type": "stream",
     "text": [
      "initial_potential =  26908.09032131383\n",
      "final_potential =  26966.19260518824\n",
      "energy_change =  -0.465164675260894\n",
      "p accept =  1.592276375826262\n",
      "current step size = 1.7564077254274616e-05\n",
      "current acceptance ratio = 0.6630901287553648\n",
      "currently working on step 933\n"
     ]
    },
    {
     "name": "stderr",
     "output_type": "stream",
     "text": [
      "100%|██████████| 99/99 [00:08<00:00, 12.04it/s]\n",
      "  0%|          | 0/98 [00:00<?, ?it/s]"
     ]
    },
    {
     "name": "stdout",
     "output_type": "stream",
     "text": [
      "initial_potential =  26966.19260518824\n",
      "final_potential =  26976.50528531954\n",
      "energy_change =  -0.5489671557734255\n",
      "p accept =  1.731463761665227\n",
      "current step size = 1.7564077254274616e-05\n",
      "current acceptance ratio = 0.6634512325830654\n",
      "currently working on step 934\n"
     ]
    },
    {
     "name": "stderr",
     "output_type": "stream",
     "text": [
      "100%|██████████| 98/98 [00:08<00:00, 11.93it/s]\n",
      "  0%|          | 0/98 [00:00<?, ?it/s]"
     ]
    },
    {
     "name": "stdout",
     "output_type": "stream",
     "text": [
      "initial_potential =  26976.50528531954\n",
      "final_potential =  26968.86725897712\n",
      "energy_change =  0.4786208593432093\n",
      "p accept =  0.6196373698821123\n",
      "current step size = 1.7564077254274616e-05\n",
      "current acceptance ratio = 0.6638115631691649\n",
      "currently working on step 935\n"
     ]
    },
    {
     "name": "stderr",
     "output_type": "stream",
     "text": [
      "100%|██████████| 98/98 [00:08<00:00, 12.00it/s]\n",
      "  0%|          | 0/100 [00:00<?, ?it/s]"
     ]
    },
    {
     "name": "stdout",
     "output_type": "stream",
     "text": [
      "initial_potential =  26968.86725897712\n",
      "final_potential =  27013.134154158513\n",
      "energy_change =  1.4882271466776729\n",
      "p accept =  0.22577256258409728\n",
      "current step size = 1.7564077254274616e-05\n",
      "current acceptance ratio = 0.6631016042780749\n",
      "currently working on step 936\n"
     ]
    },
    {
     "name": "stderr",
     "output_type": "stream",
     "text": [
      "100%|██████████| 100/100 [00:08<00:00, 11.87it/s]\n",
      "  0%|          | 0/98 [00:00<?, ?it/s]"
     ]
    },
    {
     "name": "stdout",
     "output_type": "stream",
     "text": [
      "initial_potential =  26968.86725897712\n",
      "final_potential =  26998.02586260191\n",
      "energy_change =  -0.39731480335467495\n",
      "p accept =  1.4878242283947598\n",
      "current step size = 1.7564077254274616e-05\n",
      "current acceptance ratio = 0.6634615384615384\n",
      "currently working on step 937\n"
     ]
    },
    {
     "name": "stderr",
     "output_type": "stream",
     "text": [
      "100%|██████████| 98/98 [00:08<00:00, 11.85it/s]\n",
      "  0%|          | 0/99 [00:00<?, ?it/s]"
     ]
    },
    {
     "name": "stdout",
     "output_type": "stream",
     "text": [
      "initial_potential =  26998.02586260191\n",
      "final_potential =  26977.217832037124\n",
      "energy_change =  0.26674254453973845\n",
      "p accept =  0.7658702235562501\n",
      "current step size = 1.7564077254274616e-05\n",
      "current acceptance ratio = 0.663820704375667\n",
      "currently working on step 938\n"
     ]
    },
    {
     "name": "stderr",
     "output_type": "stream",
     "text": [
      "100%|██████████| 99/99 [00:08<00:00, 11.91it/s]\n",
      "  0%|          | 0/99 [00:00<?, ?it/s]"
     ]
    },
    {
     "name": "stdout",
     "output_type": "stream",
     "text": [
      "initial_potential =  26977.217832037124\n",
      "final_potential =  26992.67287654576\n",
      "energy_change =  -0.2915489994629752\n",
      "p accept =  1.3384992176265063\n",
      "current step size = 1.7564077254274616e-05\n",
      "current acceptance ratio = 0.664179104477612\n",
      "currently working on step 939\n"
     ]
    },
    {
     "name": "stderr",
     "output_type": "stream",
     "text": [
      "100%|██████████| 99/99 [00:08<00:00, 11.95it/s]\n",
      "  0%|          | 0/100 [00:00<?, ?it/s]"
     ]
    },
    {
     "name": "stdout",
     "output_type": "stream",
     "text": [
      "initial_potential =  26992.67287654576\n",
      "final_potential =  27016.040919489402\n",
      "energy_change =  0.03688198693271261\n",
      "p accept =  0.9637898684365209\n",
      "current step size = 1.7564077254274616e-05\n",
      "current acceptance ratio = 0.6645367412140575\n",
      "currently working on step 940\n"
     ]
    },
    {
     "name": "stderr",
     "output_type": "stream",
     "text": [
      "100%|██████████| 100/100 [00:08<00:00, 11.98it/s]\n",
      "  0%|          | 0/99 [00:00<?, ?it/s]"
     ]
    },
    {
     "name": "stdout",
     "output_type": "stream",
     "text": [
      "initial_potential =  27016.040919489402\n",
      "final_potential =  27017.589521326205\n",
      "energy_change =  1.0547279624588555\n",
      "p accept =  0.3482871616030254\n",
      "current step size = 1.7564077254274616e-05\n",
      "current acceptance ratio = 0.6638297872340425\n",
      "currently working on step 941\n"
     ]
    },
    {
     "name": "stderr",
     "output_type": "stream",
     "text": [
      "100%|██████████| 99/99 [00:08<00:00, 11.97it/s]\n",
      "  0%|          | 0/100 [00:00<?, ?it/s]"
     ]
    },
    {
     "name": "stdout",
     "output_type": "stream",
     "text": [
      "initial_potential =  27016.040919489402\n",
      "final_potential =  26953.023358641338\n",
      "energy_change =  0.530540671228664\n",
      "p accept =  0.5882868139227835\n",
      "current step size = 1.7564077254274616e-05\n",
      "current acceptance ratio = 0.6641870350690755\n",
      "currently working on step 942\n"
     ]
    },
    {
     "name": "stderr",
     "output_type": "stream",
     "text": [
      "100%|██████████| 100/100 [00:08<00:00, 11.90it/s]\n",
      "  0%|          | 0/99 [00:00<?, ?it/s]"
     ]
    },
    {
     "name": "stdout",
     "output_type": "stream",
     "text": [
      "initial_potential =  26953.023358641338\n",
      "final_potential =  26884.86650249656\n",
      "energy_change =  -0.8718980679550441\n",
      "p accept =  2.39144567486498\n",
      "current step size = 1.7564077254274616e-05\n",
      "current acceptance ratio = 0.6645435244161358\n",
      "currently working on step 943\n"
     ]
    },
    {
     "name": "stderr",
     "output_type": "stream",
     "text": [
      "100%|██████████| 99/99 [00:08<00:00, 11.96it/s]\n",
      "  0%|          | 0/98 [00:00<?, ?it/s]"
     ]
    },
    {
     "name": "stdout",
     "output_type": "stream",
     "text": [
      "initial_potential =  26884.86650249656\n",
      "final_potential =  26866.515709602994\n",
      "energy_change =  5.349167074135039\n",
      "p accept =  0.00475210750469868\n",
      "current step size = 1.7564077254274616e-05\n",
      "current acceptance ratio = 0.6638388123011665\n",
      "currently working on step 944\n"
     ]
    },
    {
     "name": "stderr",
     "output_type": "stream",
     "text": [
      "100%|██████████| 98/98 [00:08<00:00, 12.00it/s]\n",
      "  0%|          | 0/97 [00:00<?, ?it/s]"
     ]
    },
    {
     "name": "stdout",
     "output_type": "stream",
     "text": [
      "initial_potential =  26884.86650249656\n",
      "final_potential =  26861.311474737926\n",
      "energy_change =  1.6756317658000626\n",
      "p accept =  0.18718988195218977\n",
      "current step size = 1.7564077254274616e-05\n",
      "current acceptance ratio = 0.663135593220339\n",
      "currently working on step 945\n"
     ]
    },
    {
     "name": "stderr",
     "output_type": "stream",
     "text": [
      "100%|██████████| 97/97 [00:08<00:00, 11.91it/s]\n",
      "  0%|          | 0/98 [00:00<?, ?it/s]"
     ]
    },
    {
     "name": "stdout",
     "output_type": "stream",
     "text": [
      "initial_potential =  26884.86650249656\n",
      "final_potential =  26878.668212644643\n",
      "energy_change =  0.5364633863937343\n",
      "p accept =  0.5848128564738961\n",
      "current step size = 1.7564077254274616e-05\n",
      "current acceptance ratio = 0.6634920634920635\n",
      "currently working on step 946\n"
     ]
    },
    {
     "name": "stderr",
     "output_type": "stream",
     "text": [
      "100%|██████████| 98/98 [00:08<00:00, 11.99it/s]\n",
      "  0%|          | 0/98 [00:00<?, ?it/s]"
     ]
    },
    {
     "name": "stdout",
     "output_type": "stream",
     "text": [
      "initial_potential =  26878.668212644643\n",
      "final_potential =  26874.73721343205\n",
      "energy_change =  0.13911478134104982\n",
      "p accept =  0.8701281482504277\n",
      "current step size = 1.7564077254274616e-05\n",
      "current acceptance ratio = 0.6638477801268499\n",
      "currently working on step 947\n"
     ]
    },
    {
     "name": "stderr",
     "output_type": "stream",
     "text": [
      "100%|██████████| 98/98 [00:08<00:00, 11.93it/s]\n",
      "  0%|          | 0/97 [00:00<?, ?it/s]"
     ]
    },
    {
     "name": "stdout",
     "output_type": "stream",
     "text": [
      "initial_potential =  26874.73721343205\n",
      "final_potential =  26981.87333100692\n",
      "energy_change =  6.645017386719701\n",
      "p accept =  0.0013004858068832545\n",
      "current step size = 1.7564077254274616e-05\n",
      "current acceptance ratio = 0.6631467793030623\n",
      "currently working on step 948\n"
     ]
    },
    {
     "name": "stderr",
     "output_type": "stream",
     "text": [
      "100%|██████████| 97/97 [00:08<00:00, 11.97it/s]\n",
      "  0%|          | 0/100 [00:00<?, ?it/s]"
     ]
    },
    {
     "name": "stdout",
     "output_type": "stream",
     "text": [
      "initial_potential =  26874.73721343205\n",
      "final_potential =  26854.314475927127\n",
      "energy_change =  2.4732928330049617\n",
      "p accept =  0.08430679324941716\n",
      "current step size = 1.7564077254274616e-05\n",
      "current acceptance ratio = 0.6624472573839663\n",
      "currently working on step 949\n"
     ]
    },
    {
     "name": "stderr",
     "output_type": "stream",
     "text": [
      "100%|██████████| 100/100 [00:08<00:00, 11.86it/s]\n",
      "  0%|          | 0/101 [00:00<?, ?it/s]"
     ]
    },
    {
     "name": "stdout",
     "output_type": "stream",
     "text": [
      "initial_potential =  26874.73721343205\n",
      "final_potential =  26819.197431687127\n",
      "energy_change =  2.4057212019106373\n",
      "p accept =  0.09020041943123872\n",
      "current step size = 1.7564077254274616e-05\n",
      "current acceptance ratio = 0.6617492096944152\n",
      "currently working on step 950\n"
     ]
    },
    {
     "name": "stderr",
     "output_type": "stream",
     "text": [
      "100%|██████████| 101/101 [00:08<00:00, 11.91it/s]\n",
      "  0%|          | 0/101 [00:00<?, ?it/s]"
     ]
    },
    {
     "name": "stdout",
     "output_type": "stream",
     "text": [
      "initial_potential =  26874.73721343205\n",
      "final_potential =  26884.912869099102\n",
      "energy_change =  -0.29093977744923905\n",
      "p accept =  1.337684022780296\n",
      "current step size = 1.7564077254274616e-05\n",
      "current acceptance ratio = 0.6621052631578948\n",
      "currently working on step 951\n"
     ]
    },
    {
     "name": "stderr",
     "output_type": "stream",
     "text": [
      "100%|██████████| 101/101 [00:08<00:00, 11.90it/s]\n",
      "  0%|          | 0/98 [00:00<?, ?it/s]"
     ]
    },
    {
     "name": "stdout",
     "output_type": "stream",
     "text": [
      "initial_potential =  26884.912869099102\n",
      "final_potential =  26846.996013193755\n",
      "energy_change =  0.9240634004963795\n",
      "p accept =  0.39690298418195386\n",
      "current step size = 1.7564077254274616e-05\n",
      "current acceptance ratio = 0.6624605678233438\n",
      "currently working on step 952\n"
     ]
    },
    {
     "name": "stderr",
     "output_type": "stream",
     "text": [
      "100%|██████████| 98/98 [00:08<00:00, 11.87it/s]\n",
      "  0%|          | 0/99 [00:00<?, ?it/s]"
     ]
    },
    {
     "name": "stdout",
     "output_type": "stream",
     "text": [
      "initial_potential =  26846.996013193755\n",
      "final_potential =  26833.61588185119\n",
      "energy_change =  -0.3226073715777602\n",
      "p accept =  1.380723133322192\n",
      "current step size = 1.7564077254274616e-05\n",
      "current acceptance ratio = 0.6628151260504201\n",
      "currently working on step 953\n"
     ]
    },
    {
     "name": "stderr",
     "output_type": "stream",
     "text": [
      "100%|██████████| 99/99 [00:08<00:00, 12.01it/s]\n",
      "  0%|          | 0/101 [00:00<?, ?it/s]"
     ]
    },
    {
     "name": "stdout",
     "output_type": "stream",
     "text": [
      "initial_potential =  26833.61588185119\n",
      "final_potential =  26786.89942677285\n",
      "energy_change =  0.9844642110256245\n",
      "p accept =  0.37363936516819396\n",
      "current step size = 1.7564077254274616e-05\n",
      "current acceptance ratio = 0.6621196222455404\n",
      "currently working on step 954\n"
     ]
    },
    {
     "name": "stderr",
     "output_type": "stream",
     "text": [
      "100%|██████████| 101/101 [00:08<00:00, 11.97it/s]\n",
      "  0%|          | 0/100 [00:00<?, ?it/s]"
     ]
    },
    {
     "name": "stdout",
     "output_type": "stream",
     "text": [
      "initial_potential =  26833.61588185119\n",
      "final_potential =  26830.717670812046\n",
      "energy_change =  -1.1232350374484668\n",
      "p accept =  3.0747851762884943\n",
      "current step size = 1.7564077254274616e-05\n",
      "current acceptance ratio = 0.6624737945492662\n",
      "currently working on step 955\n"
     ]
    },
    {
     "name": "stderr",
     "output_type": "stream",
     "text": [
      "100%|██████████| 100/100 [00:08<00:00, 11.96it/s]\n",
      "  0%|          | 0/101 [00:00<?, ?it/s]"
     ]
    },
    {
     "name": "stdout",
     "output_type": "stream",
     "text": [
      "initial_potential =  26830.717670812046\n",
      "final_potential =  26775.32219509392\n",
      "energy_change =  1.3540967887383886\n",
      "p accept =  0.25818038060024806\n",
      "current step size = 1.7564077254274616e-05\n",
      "current acceptance ratio = 0.6617801047120419\n",
      "currently working on step 956\n"
     ]
    },
    {
     "name": "stderr",
     "output_type": "stream",
     "text": [
      "100%|██████████| 101/101 [00:08<00:00, 11.97it/s]\n",
      "  0%|          | 0/98 [00:00<?, ?it/s]"
     ]
    },
    {
     "name": "stdout",
     "output_type": "stream",
     "text": [
      "initial_potential =  26830.717670812046\n",
      "final_potential =  26912.240641115117\n",
      "energy_change =  1.532179970323341\n",
      "p accept =  0.21606414013168296\n",
      "current step size = 1.7564077254274616e-05\n",
      "current acceptance ratio = 0.6621338912133892\n",
      "currently working on step 957\n"
     ]
    },
    {
     "name": "stderr",
     "output_type": "stream",
     "text": [
      "100%|██████████| 98/98 [00:08<00:00, 11.96it/s]\n",
      "  0%|          | 0/100 [00:00<?, ?it/s]"
     ]
    },
    {
     "name": "stdout",
     "output_type": "stream",
     "text": [
      "initial_potential =  26912.240641115117\n",
      "final_potential =  26883.15078047398\n",
      "energy_change =  -0.99174452846637\n",
      "p accept =  2.695933505102408\n",
      "current step size = 1.7564077254274616e-05\n",
      "current acceptance ratio = 0.6624869383490073\n",
      "currently working on step 958\n"
     ]
    },
    {
     "name": "stderr",
     "output_type": "stream",
     "text": [
      "100%|██████████| 100/100 [00:08<00:00, 12.01it/s]\n",
      "  0%|          | 0/100 [00:00<?, ?it/s]"
     ]
    },
    {
     "name": "stdout",
     "output_type": "stream",
     "text": [
      "initial_potential =  26883.15078047398\n",
      "final_potential =  26866.69097295743\n",
      "energy_change =  10.468570243639988\n",
      "p accept =  2.841565751863667e-05\n",
      "current step size = 1.7564077254274616e-05\n",
      "current acceptance ratio = 0.6617954070981211\n",
      "currently working on step 959\n"
     ]
    },
    {
     "name": "stderr",
     "output_type": "stream",
     "text": [
      "100%|██████████| 100/100 [00:08<00:00, 11.89it/s]\n",
      "  0%|          | 0/98 [00:00<?, ?it/s]"
     ]
    },
    {
     "name": "stdout",
     "output_type": "stream",
     "text": [
      "initial_potential =  26883.15078047398\n",
      "final_potential =  26874.98401056305\n",
      "energy_change =  0.4197996331786271\n",
      "p accept =  0.6571784833879016\n",
      "current step size = 1.7564077254274616e-05\n",
      "current acceptance ratio = 0.662148070907195\n",
      "currently working on step 960\n"
     ]
    },
    {
     "name": "stderr",
     "output_type": "stream",
     "text": [
      "100%|██████████| 98/98 [00:08<00:00, 11.91it/s]\n",
      "  0%|          | 0/98 [00:00<?, ?it/s]"
     ]
    },
    {
     "name": "stdout",
     "output_type": "stream",
     "text": [
      "initial_potential =  26874.98401056305\n",
      "final_potential =  26878.620840700365\n",
      "energy_change =  -0.3690265453478787\n",
      "p accept =  1.4463259963918838\n",
      "current step size = 1.7564077254274616e-05\n",
      "current acceptance ratio = 0.6625\n",
      "currently working on step 961\n"
     ]
    },
    {
     "name": "stderr",
     "output_type": "stream",
     "text": [
      "100%|██████████| 98/98 [00:08<00:00, 11.94it/s]\n",
      "  0%|          | 0/101 [00:00<?, ?it/s]"
     ]
    },
    {
     "name": "stdout",
     "output_type": "stream",
     "text": [
      "initial_potential =  26878.620840700365\n",
      "final_potential =  26874.15357293487\n",
      "energy_change =  0.7118755938572576\n",
      "p accept =  0.4907229368496942\n",
      "current step size = 1.7564077254274616e-05\n",
      "current acceptance ratio = 0.6628511966701353\n",
      "currently working on step 962\n"
     ]
    },
    {
     "name": "stderr",
     "output_type": "stream",
     "text": [
      "100%|██████████| 101/101 [00:08<00:00, 11.93it/s]\n",
      "  0%|          | 0/99 [00:00<?, ?it/s]"
     ]
    },
    {
     "name": "stdout",
     "output_type": "stream",
     "text": [
      "initial_potential =  26874.15357293487\n",
      "final_potential =  26900.176804398518\n",
      "energy_change =  -0.4181821274396498\n",
      "p accept =  1.5191973367288358\n",
      "current step size = 1.7564077254274616e-05\n",
      "current acceptance ratio = 0.6632016632016632\n",
      "currently working on step 963\n"
     ]
    },
    {
     "name": "stderr",
     "output_type": "stream",
     "text": [
      "100%|██████████| 99/99 [00:08<00:00, 11.81it/s]\n",
      "  0%|          | 0/99 [00:00<?, ?it/s]"
     ]
    },
    {
     "name": "stdout",
     "output_type": "stream",
     "text": [
      "initial_potential =  26900.176804398518\n",
      "final_potential =  26946.995290029256\n",
      "energy_change =  -0.10189294902374968\n",
      "p accept =  1.1072649315912333\n",
      "current step size = 1.7564077254274616e-05\n",
      "current acceptance ratio = 0.6635514018691588\n",
      "currently working on step 964\n"
     ]
    },
    {
     "name": "stderr",
     "output_type": "stream",
     "text": [
      "100%|██████████| 99/99 [00:08<00:00, 12.00it/s]\n",
      "  0%|          | 0/100 [00:00<?, ?it/s]"
     ]
    },
    {
     "name": "stdout",
     "output_type": "stream",
     "text": [
      "initial_potential =  26946.995290029256\n",
      "final_potential =  26969.640897936766\n",
      "energy_change =  0.09976198089134414\n",
      "p accept =  0.9050528122646332\n",
      "current step size = 1.7564077254274616e-05\n",
      "current acceptance ratio = 0.6628630705394191\n",
      "currently working on step 965\n"
     ]
    },
    {
     "name": "stderr",
     "output_type": "stream",
     "text": [
      "100%|██████████| 100/100 [00:08<00:00, 11.93it/s]\n",
      "  0%|          | 0/99 [00:00<?, ?it/s]"
     ]
    },
    {
     "name": "stdout",
     "output_type": "stream",
     "text": [
      "initial_potential =  26946.995290029256\n",
      "final_potential =  26935.873866329308\n",
      "energy_change =  0.143494664967875\n",
      "p accept =  0.8663254220488732\n",
      "current step size = 1.7564077254274616e-05\n",
      "current acceptance ratio = 0.6632124352331606\n",
      "currently working on step 966\n"
     ]
    },
    {
     "name": "stderr",
     "output_type": "stream",
     "text": [
      "100%|██████████| 99/99 [00:08<00:00, 11.77it/s]\n",
      "  0%|          | 0/98 [00:00<?, ?it/s]"
     ]
    },
    {
     "name": "stdout",
     "output_type": "stream",
     "text": [
      "initial_potential =  26935.873866329308\n",
      "final_potential =  26959.972790691612\n",
      "energy_change =  -0.4717983707523672\n",
      "p accept =  1.6028741648305729\n",
      "current step size = 1.7564077254274616e-05\n",
      "current acceptance ratio = 0.6635610766045549\n",
      "currently working on step 967\n"
     ]
    },
    {
     "name": "stderr",
     "output_type": "stream",
     "text": [
      "100%|██████████| 98/98 [00:08<00:00, 11.95it/s]\n",
      "  0%|          | 0/99 [00:00<?, ?it/s]"
     ]
    },
    {
     "name": "stdout",
     "output_type": "stream",
     "text": [
      "initial_potential =  26959.972790691612\n",
      "final_potential =  26943.79127625759\n",
      "energy_change =  -0.23450240252714138\n",
      "p accept =  1.2642795098979605\n",
      "current step size = 1.7564077254274616e-05\n",
      "current acceptance ratio = 0.6639089968976215\n",
      "currently working on step 968\n"
     ]
    },
    {
     "name": "stderr",
     "output_type": "stream",
     "text": [
      "100%|██████████| 99/99 [00:08<00:00, 11.96it/s]\n",
      "  0%|          | 0/99 [00:00<?, ?it/s]"
     ]
    },
    {
     "name": "stdout",
     "output_type": "stream",
     "text": [
      "initial_potential =  26943.79127625759\n",
      "final_potential =  26951.282170563183\n",
      "energy_change =  1.0983282340457663\n",
      "p accept =  0.33342803165655927\n",
      "current step size = 1.7564077254274616e-05\n",
      "current acceptance ratio = 0.6632231404958677\n",
      "currently working on step 969\n"
     ]
    },
    {
     "name": "stderr",
     "output_type": "stream",
     "text": [
      "100%|██████████| 99/99 [00:08<00:00, 11.99it/s]\n",
      "  0%|          | 0/100 [00:00<?, ?it/s]"
     ]
    },
    {
     "name": "stdout",
     "output_type": "stream",
     "text": [
      "initial_potential =  26943.79127625759\n",
      "final_potential =  26980.911282464258\n",
      "energy_change =  0.8719675795582589\n",
      "p accept =  0.41812803916991187\n",
      "current step size = 1.7564077254274616e-05\n",
      "current acceptance ratio = 0.6635706914344686\n",
      "currently working on step 970\n"
     ]
    },
    {
     "name": "stderr",
     "output_type": "stream",
     "text": [
      "100%|██████████| 100/100 [00:08<00:00, 12.24it/s]\n",
      "  0%|          | 0/97 [00:00<?, ?it/s]"
     ]
    },
    {
     "name": "stdout",
     "output_type": "stream",
     "text": [
      "initial_potential =  26980.911282464258\n",
      "final_potential =  27030.14257996322\n",
      "energy_change =  -0.2860641685256269\n",
      "p accept =  1.3311778722331298\n",
      "current step size = 1.7564077254274616e-05\n",
      "current acceptance ratio = 0.6639175257731958\n",
      "currently working on step 971\n"
     ]
    },
    {
     "name": "stderr",
     "output_type": "stream",
     "text": [
      "100%|██████████| 97/97 [00:08<00:00, 12.02it/s]\n",
      "  0%|          | 0/99 [00:00<?, ?it/s]"
     ]
    },
    {
     "name": "stdout",
     "output_type": "stream",
     "text": [
      "initial_potential =  27030.14257996322\n",
      "final_potential =  27016.529813071782\n",
      "energy_change =  2.257706865624641\n",
      "p accept =  0.10459004900997755\n",
      "current step size = 1.7564077254274616e-05\n",
      "current acceptance ratio = 0.6632337796086509\n",
      "currently working on step 972\n"
     ]
    },
    {
     "name": "stderr",
     "output_type": "stream",
     "text": [
      "100%|██████████| 99/99 [00:08<00:00, 11.94it/s]\n",
      "  0%|          | 0/97 [00:00<?, ?it/s]"
     ]
    },
    {
     "name": "stdout",
     "output_type": "stream",
     "text": [
      "initial_potential =  27030.14257996322\n",
      "final_potential =  27071.52428812114\n",
      "energy_change =  3.7990996758599067\n",
      "p accept =  0.022390921871511735\n",
      "current step size = 1.7564077254274616e-05\n",
      "current acceptance ratio = 0.6625514403292181\n",
      "currently working on step 973\n"
     ]
    },
    {
     "name": "stderr",
     "output_type": "stream",
     "text": [
      "100%|██████████| 97/97 [00:08<00:00, 11.91it/s]\n",
      "  0%|          | 0/97 [00:00<?, ?it/s]"
     ]
    },
    {
     "name": "stdout",
     "output_type": "stream",
     "text": [
      "initial_potential =  27030.14257996322\n",
      "final_potential =  27070.196551146295\n",
      "energy_change =  -0.061773032663040794\n",
      "p accept =  1.0637208874305224\n",
      "current step size = 1.7564077254274616e-05\n",
      "current acceptance ratio = 0.6628982528263104\n",
      "currently working on step 974\n"
     ]
    },
    {
     "name": "stderr",
     "output_type": "stream",
     "text": [
      "100%|██████████| 97/97 [00:08<00:00, 11.90it/s]\n",
      "  0%|          | 0/101 [00:00<?, ?it/s]"
     ]
    },
    {
     "name": "stdout",
     "output_type": "stream",
     "text": [
      "initial_potential =  27070.196551146295\n",
      "final_potential =  27031.64218736208\n",
      "energy_change =  0.08990446692041587\n",
      "p accept =  0.914018500102546\n",
      "current step size = 1.7564077254274616e-05\n",
      "current acceptance ratio = 0.6632443531827515\n",
      "currently working on step 975\n"
     ]
    },
    {
     "name": "stderr",
     "output_type": "stream",
     "text": [
      "100%|██████████| 101/101 [00:08<00:00, 11.95it/s]\n",
      "  0%|          | 0/99 [00:00<?, ?it/s]"
     ]
    },
    {
     "name": "stdout",
     "output_type": "stream",
     "text": [
      "initial_potential =  27031.64218736208\n",
      "final_potential =  26985.74825421862\n",
      "energy_change =  -0.5860041196428938\n",
      "p accept =  1.7967942765557987\n",
      "current step size = 1.7564077254274616e-05\n",
      "current acceptance ratio = 0.6635897435897435\n",
      "currently working on step 976\n"
     ]
    },
    {
     "name": "stderr",
     "output_type": "stream",
     "text": [
      "100%|██████████| 99/99 [00:08<00:00, 11.90it/s]\n",
      "  0%|          | 0/97 [00:00<?, ?it/s]"
     ]
    },
    {
     "name": "stdout",
     "output_type": "stream",
     "text": [
      "initial_potential =  26985.74825421862\n",
      "final_potential =  27002.562688869766\n",
      "energy_change =  4.246785807452397\n",
      "p accept =  0.014310155664474003\n",
      "current step size = 1.7564077254274616e-05\n",
      "current acceptance ratio = 0.6629098360655737\n",
      "currently working on step 977\n"
     ]
    },
    {
     "name": "stderr",
     "output_type": "stream",
     "text": [
      "100%|██████████| 97/97 [00:08<00:00, 11.84it/s]\n",
      "  0%|          | 0/99 [00:00<?, ?it/s]"
     ]
    },
    {
     "name": "stdout",
     "output_type": "stream",
     "text": [
      "initial_potential =  26985.74825421862\n",
      "final_potential =  26992.61469028333\n",
      "energy_change =  11.142430892505217\n",
      "p accept =  1.448450801428909e-05\n",
      "current step size = 1.7564077254274616e-05\n",
      "current acceptance ratio = 0.6622313203684749\n",
      "currently working on step 978\n"
     ]
    },
    {
     "name": "stderr",
     "output_type": "stream",
     "text": [
      "100%|██████████| 99/99 [00:08<00:00, 11.98it/s]\n",
      "  0%|          | 0/101 [00:00<?, ?it/s]"
     ]
    },
    {
     "name": "stdout",
     "output_type": "stream",
     "text": [
      "initial_potential =  26985.74825421862\n",
      "final_potential =  26952.933213199834\n",
      "energy_change =  0.2792283271701308\n",
      "p accept =  0.756367184318814\n",
      "current step size = 1.7564077254274616e-05\n",
      "current acceptance ratio = 0.6615541922290389\n",
      "currently working on step 979\n"
     ]
    },
    {
     "name": "stderr",
     "output_type": "stream",
     "text": [
      "100%|██████████| 101/101 [00:08<00:00, 11.96it/s]\n",
      "  0%|          | 0/97 [00:00<?, ?it/s]"
     ]
    },
    {
     "name": "stdout",
     "output_type": "stream",
     "text": [
      "initial_potential =  26985.74825421862\n",
      "final_potential =  26970.678486967296\n",
      "energy_change =  0.5308590637141606\n",
      "p accept =  0.5880995376371769\n",
      "current step size = 1.7564077254274616e-05\n",
      "current acceptance ratio = 0.6618998978549541\n",
      "currently working on step 980\n"
     ]
    },
    {
     "name": "stderr",
     "output_type": "stream",
     "text": [
      "100%|██████████| 97/97 [00:08<00:00, 11.82it/s]\n",
      "  0%|          | 0/100 [00:00<?, ?it/s]"
     ]
    },
    {
     "name": "stdout",
     "output_type": "stream",
     "text": [
      "initial_potential =  26970.678486967296\n",
      "final_potential =  26957.125998256073\n",
      "energy_change =  -0.1809586271410808\n",
      "p accept =  1.1983655984567176\n",
      "current step size = 1.7564077254274616e-05\n",
      "current acceptance ratio = 0.6622448979591836\n",
      "currently working on step 981\n"
     ]
    },
    {
     "name": "stderr",
     "output_type": "stream",
     "text": [
      "100%|██████████| 100/100 [00:08<00:00, 11.93it/s]\n",
      "  0%|          | 0/101 [00:00<?, ?it/s]"
     ]
    },
    {
     "name": "stdout",
     "output_type": "stream",
     "text": [
      "initial_potential =  26957.125998256073\n",
      "final_potential =  26889.197557284984\n",
      "energy_change =  -0.4200194077275228\n",
      "p accept =  1.5219910937204382\n",
      "current step size = 1.7564077254274616e-05\n",
      "current acceptance ratio = 0.6625891946992865\n",
      "currently working on step 982\n"
     ]
    },
    {
     "name": "stderr",
     "output_type": "stream",
     "text": [
      "100%|██████████| 101/101 [00:08<00:00, 11.94it/s]\n",
      "  0%|          | 0/99 [00:00<?, ?it/s]"
     ]
    },
    {
     "name": "stdout",
     "output_type": "stream",
     "text": [
      "initial_potential =  26889.197557284984\n",
      "final_potential =  26907.71940714015\n",
      "energy_change =  1.0120647848234512\n",
      "p accept =  0.3634677216100153\n",
      "current step size = 1.7564077254274616e-05\n",
      "current acceptance ratio = 0.6629327902240326\n",
      "currently working on step 983\n"
     ]
    },
    {
     "name": "stderr",
     "output_type": "stream",
     "text": [
      "100%|██████████| 99/99 [00:08<00:00, 11.99it/s]\n",
      "  0%|          | 0/99 [00:00<?, ?it/s]"
     ]
    },
    {
     "name": "stdout",
     "output_type": "stream",
     "text": [
      "initial_potential =  26907.71940714015\n",
      "final_potential =  26827.107171019394\n",
      "energy_change =  0.2878559901728295\n",
      "p accept =  0.7498695730513212\n",
      "current step size = 1.7564077254274616e-05\n",
      "current acceptance ratio = 0.6632756866734486\n",
      "currently working on step 984\n"
     ]
    },
    {
     "name": "stderr",
     "output_type": "stream",
     "text": [
      "100%|██████████| 99/99 [00:08<00:00, 12.31it/s]\n",
      "  0%|          | 0/99 [00:00<?, ?it/s]"
     ]
    },
    {
     "name": "stdout",
     "output_type": "stream",
     "text": [
      "initial_potential =  26827.107171019394\n",
      "final_potential =  26811.797972619483\n",
      "energy_change =  -0.44585766980890185\n",
      "p accept =  1.5618291552711847\n",
      "current step size = 1.7564077254274616e-05\n",
      "current acceptance ratio = 0.6636178861788617\n",
      "currently working on step 985\n"
     ]
    },
    {
     "name": "stderr",
     "output_type": "stream",
     "text": [
      "100%|██████████| 99/99 [00:08<00:00, 11.96it/s]\n",
      "  0%|          | 0/98 [00:00<?, ?it/s]"
     ]
    },
    {
     "name": "stdout",
     "output_type": "stream",
     "text": [
      "initial_potential =  26811.797972619483\n",
      "final_potential =  26825.659516716143\n",
      "energy_change =  0.4713834231806686\n",
      "p accept =  0.6241382234644085\n",
      "current step size = 1.7564077254274616e-05\n",
      "current acceptance ratio = 0.6629441624365482\n",
      "currently working on step 986\n"
     ]
    },
    {
     "name": "stderr",
     "output_type": "stream",
     "text": [
      "100%|██████████| 98/98 [00:08<00:00, 11.97it/s]\n",
      "  0%|          | 0/98 [00:00<?, ?it/s]"
     ]
    },
    {
     "name": "stdout",
     "output_type": "stream",
     "text": [
      "initial_potential =  26811.797972619483\n",
      "final_potential =  26839.305225353935\n",
      "energy_change =  -0.24092524290608708\n",
      "p accept =  1.272425908889418\n",
      "current step size = 1.7564077254274616e-05\n",
      "current acceptance ratio = 0.6632860040567952\n",
      "currently working on step 987\n"
     ]
    },
    {
     "name": "stderr",
     "output_type": "stream",
     "text": [
      "100%|██████████| 98/98 [00:08<00:00, 11.83it/s]\n",
      "  0%|          | 0/101 [00:00<?, ?it/s]"
     ]
    },
    {
     "name": "stdout",
     "output_type": "stream",
     "text": [
      "initial_potential =  26839.305225353935\n",
      "final_potential =  26844.296901603386\n",
      "energy_change =  -0.17415139330842067\n",
      "p accept =  1.1902357459083623\n",
      "current step size = 1.7564077254274616e-05\n",
      "current acceptance ratio = 0.6636271529888551\n",
      "currently working on step 988\n"
     ]
    },
    {
     "name": "stderr",
     "output_type": "stream",
     "text": [
      "100%|██████████| 101/101 [00:08<00:00, 11.91it/s]\n",
      "  0%|          | 0/99 [00:00<?, ?it/s]"
     ]
    },
    {
     "name": "stdout",
     "output_type": "stream",
     "text": [
      "initial_potential =  26844.296901603386\n",
      "final_potential =  26845.359372251067\n",
      "energy_change =  4.264807556843152\n",
      "p accept =  0.014054571578934427\n",
      "current step size = 1.7564077254274616e-05\n",
      "current acceptance ratio = 0.6629554655870445\n",
      "currently working on step 989\n"
     ]
    },
    {
     "name": "stderr",
     "output_type": "stream",
     "text": [
      "100%|██████████| 99/99 [00:08<00:00, 12.03it/s]\n",
      "  0%|          | 0/98 [00:00<?, ?it/s]"
     ]
    },
    {
     "name": "stdout",
     "output_type": "stream",
     "text": [
      "initial_potential =  26844.296901603386\n",
      "final_potential =  26891.78059130129\n",
      "energy_change =  0.044493482826510444\n",
      "p accept =  0.9564818336313576\n",
      "current step size = 1.7564077254274616e-05\n",
      "current acceptance ratio = 0.6632962588473206\n",
      "currently working on step 990\n"
     ]
    },
    {
     "name": "stderr",
     "output_type": "stream",
     "text": [
      "100%|██████████| 98/98 [00:08<00:00, 11.96it/s]\n",
      "  0%|          | 0/100 [00:00<?, ?it/s]"
     ]
    },
    {
     "name": "stdout",
     "output_type": "stream",
     "text": [
      "initial_potential =  26891.78059130129\n",
      "final_potential =  26842.737613337613\n",
      "energy_change =  0.38185022746620234\n",
      "p accept =  0.6825972798739955\n",
      "current step size = 1.7564077254274616e-05\n",
      "current acceptance ratio = 0.6636363636363637\n",
      "currently working on step 991\n"
     ]
    },
    {
     "name": "stderr",
     "output_type": "stream",
     "text": [
      "100%|██████████| 100/100 [00:08<00:00, 11.79it/s]\n",
      "  0%|          | 0/100 [00:00<?, ?it/s]"
     ]
    },
    {
     "name": "stdout",
     "output_type": "stream",
     "text": [
      "initial_potential =  26842.737613337613\n",
      "final_potential =  26865.570934751977\n",
      "energy_change =  0.2271100297512021\n",
      "p accept =  0.7968331021185386\n",
      "current step size = 1.7564077254274616e-05\n",
      "current acceptance ratio = 0.6629667003027245\n",
      "currently working on step 992\n"
     ]
    },
    {
     "name": "stderr",
     "output_type": "stream",
     "text": [
      "100%|██████████| 100/100 [00:08<00:00, 11.83it/s]\n",
      "  0%|          | 0/99 [00:00<?, ?it/s]"
     ]
    },
    {
     "name": "stdout",
     "output_type": "stream",
     "text": [
      "initial_potential =  26842.737613337613\n",
      "final_potential =  26885.781992947363\n",
      "energy_change =  -0.642813239566749\n",
      "p accept =  1.9018236460699292\n",
      "current step size = 1.7564077254274616e-05\n",
      "current acceptance ratio = 0.6633064516129032\n",
      "currently working on step 993\n"
     ]
    },
    {
     "name": "stderr",
     "output_type": "stream",
     "text": [
      "100%|██████████| 99/99 [00:08<00:00, 11.99it/s]\n",
      "  0%|          | 0/101 [00:00<?, ?it/s]"
     ]
    },
    {
     "name": "stdout",
     "output_type": "stream",
     "text": [
      "initial_potential =  26885.781992947363\n",
      "final_potential =  26961.61738209451\n",
      "energy_change =  0.47181627026293427\n",
      "p accept =  0.6238681255152231\n",
      "current step size = 1.7564077254274616e-05\n",
      "current acceptance ratio = 0.6636455186304129\n",
      "currently working on step 994\n"
     ]
    },
    {
     "name": "stderr",
     "output_type": "stream",
     "text": [
      "100%|██████████| 101/101 [00:08<00:00, 11.95it/s]\n",
      "  0%|          | 0/99 [00:00<?, ?it/s]"
     ]
    },
    {
     "name": "stdout",
     "output_type": "stream",
     "text": [
      "initial_potential =  26961.61738209451\n",
      "final_potential =  26859.73161684535\n",
      "energy_change =  0.021036161662777886\n",
      "p accept =  0.979183555023715\n",
      "current step size = 1.7564077254274616e-05\n",
      "current acceptance ratio = 0.6639839034205232\n",
      "currently working on step 995\n"
     ]
    },
    {
     "name": "stderr",
     "output_type": "stream",
     "text": [
      "100%|██████████| 99/99 [00:08<00:00, 11.88it/s]\n",
      "  0%|          | 0/97 [00:00<?, ?it/s]"
     ]
    },
    {
     "name": "stdout",
     "output_type": "stream",
     "text": [
      "initial_potential =  26859.73161684535\n",
      "final_potential =  26877.22321765768\n",
      "energy_change =  -0.3982711134594865\n",
      "p accept =  1.4892477302846918\n",
      "current step size = 1.7564077254274616e-05\n",
      "current acceptance ratio = 0.664321608040201\n",
      "currently working on step 996\n"
     ]
    },
    {
     "name": "stderr",
     "output_type": "stream",
     "text": [
      "100%|██████████| 97/97 [00:08<00:00, 11.94it/s]\n",
      "  0%|          | 0/99 [00:00<?, ?it/s]"
     ]
    },
    {
     "name": "stdout",
     "output_type": "stream",
     "text": [
      "initial_potential =  26877.22321765768\n",
      "final_potential =  26839.38121756191\n",
      "energy_change =  0.9475284429063322\n",
      "p accept =  0.38769805817022474\n",
      "current step size = 1.7564077254274616e-05\n",
      "current acceptance ratio = 0.6646586345381527\n",
      "currently working on step 997\n"
     ]
    },
    {
     "name": "stderr",
     "output_type": "stream",
     "text": [
      "100%|██████████| 99/99 [00:08<00:00, 11.93it/s]\n",
      "  0%|          | 0/97 [00:00<?, ?it/s]"
     ]
    },
    {
     "name": "stdout",
     "output_type": "stream",
     "text": [
      "initial_potential =  26839.38121756191\n",
      "final_potential =  26884.443438173977\n",
      "energy_change =  1.9063952655851608\n",
      "p accept =  0.14861514030468143\n",
      "current step size = 1.7564077254274616e-05\n",
      "current acceptance ratio = 0.6639919759277834\n",
      "currently working on step 998\n"
     ]
    },
    {
     "name": "stderr",
     "output_type": "stream",
     "text": [
      "100%|██████████| 97/97 [00:08<00:00, 11.88it/s]\n",
      "  0%|          | 0/100 [00:00<?, ?it/s]"
     ]
    },
    {
     "name": "stdout",
     "output_type": "stream",
     "text": [
      "initial_potential =  26839.38121756191\n",
      "final_potential =  26876.873003261702\n",
      "energy_change =  -0.04887308771139942\n",
      "p accept =  1.0500870733292302\n",
      "current step size = 1.7564077254274616e-05\n",
      "current acceptance ratio = 0.6643286573146293\n",
      "currently working on step 999\n"
     ]
    },
    {
     "name": "stderr",
     "output_type": "stream",
     "text": [
      "100%|██████████| 100/100 [00:08<00:00, 11.97it/s]\n",
      "  0%|          | 0/101 [00:00<?, ?it/s]"
     ]
    },
    {
     "name": "stdout",
     "output_type": "stream",
     "text": [
      "initial_potential =  26876.873003261702\n",
      "final_potential =  26910.200206111756\n",
      "energy_change =  -0.5105700580024859\n",
      "p accept =  1.666240778151072\n",
      "current step size = 1.7564077254274616e-05\n",
      "current acceptance ratio = 0.6646646646646647\n",
      "currently working on step 1000\n"
     ]
    },
    {
     "name": "stderr",
     "output_type": "stream",
     "text": [
      "100%|██████████| 101/101 [00:08<00:00, 11.99it/s]\n",
      "  0%|          | 0/100 [00:00<?, ?it/s]"
     ]
    },
    {
     "name": "stdout",
     "output_type": "stream",
     "text": [
      "initial_potential =  26910.200206111756\n",
      "final_potential =  26933.444365641357\n",
      "energy_change =  -0.13213799383083824\n",
      "p accept =  1.141265796040774\n",
      "current step size = 1.7564077254274616e-05\n",
      "current acceptance ratio = 0.665\n",
      "currently working on step 1001\n"
     ]
    },
    {
     "name": "stderr",
     "output_type": "stream",
     "text": [
      "100%|██████████| 100/100 [00:08<00:00, 11.95it/s]\n",
      "  0%|          | 0/98 [00:00<?, ?it/s]"
     ]
    },
    {
     "name": "stdout",
     "output_type": "stream",
     "text": [
      "initial_potential =  26933.444365641357\n",
      "final_potential =  26973.594123273164\n",
      "energy_change =  -0.21528349359869026\n",
      "p accept =  1.2402134397048152\n",
      "current step size = 1.7564077254274616e-05\n",
      "current acceptance ratio = 0.6653346653346653\n",
      "currently working on step 1002\n"
     ]
    },
    {
     "name": "stderr",
     "output_type": "stream",
     "text": [
      "100%|██████████| 98/98 [00:08<00:00, 12.19it/s]\n",
      "  0%|          | 0/101 [00:00<?, ?it/s]"
     ]
    },
    {
     "name": "stdout",
     "output_type": "stream",
     "text": [
      "initial_potential =  26973.594123273164\n",
      "final_potential =  27028.600475605544\n",
      "energy_change =  13.67916746114497\n",
      "p accept =  1.1460750408484172e-06\n",
      "current step size = 1.7564077254274616e-05\n",
      "current acceptance ratio = 0.6646706586826348\n",
      "currently working on step 1003\n"
     ]
    },
    {
     "name": "stderr",
     "output_type": "stream",
     "text": [
      "100%|██████████| 101/101 [00:08<00:00, 11.95it/s]\n",
      "  0%|          | 0/101 [00:00<?, ?it/s]"
     ]
    },
    {
     "name": "stdout",
     "output_type": "stream",
     "text": [
      "initial_potential =  26973.594123273164\n",
      "final_potential =  26976.20468486083\n",
      "energy_change =  0.34711768775014207\n",
      "p accept =  0.7067221508234569\n",
      "current step size = 1.7564077254274616e-05\n",
      "current acceptance ratio = 0.6650049850448654\n",
      "currently working on step 1004\n"
     ]
    },
    {
     "name": "stderr",
     "output_type": "stream",
     "text": [
      "100%|██████████| 101/101 [00:08<00:00, 11.96it/s]\n",
      "  0%|          | 0/101 [00:00<?, ?it/s]"
     ]
    },
    {
     "name": "stdout",
     "output_type": "stream",
     "text": [
      "initial_potential =  26976.20468486083\n",
      "final_potential =  26956.663239937232\n",
      "energy_change =  -0.15109703541384079\n",
      "p accept =  1.1631095154193234\n",
      "current step size = 1.7564077254274616e-05\n",
      "current acceptance ratio = 0.6653386454183267\n",
      "currently working on step 1005\n"
     ]
    },
    {
     "name": "stderr",
     "output_type": "stream",
     "text": [
      "100%|██████████| 101/101 [00:08<00:00, 11.82it/s]\n",
      "  0%|          | 0/99 [00:00<?, ?it/s]"
     ]
    },
    {
     "name": "stdout",
     "output_type": "stream",
     "text": [
      "initial_potential =  26956.663239937232\n",
      "final_potential =  26943.799820722863\n",
      "energy_change =  0.3811467624618672\n",
      "p accept =  0.6830776321081254\n",
      "current step size = 1.7564077254274616e-05\n",
      "current acceptance ratio = 0.6656716417910448\n",
      "currently working on step 1006\n"
     ]
    },
    {
     "name": "stderr",
     "output_type": "stream",
     "text": [
      "100%|██████████| 99/99 [00:08<00:00, 11.94it/s]\n",
      "  0%|          | 0/101 [00:00<?, ?it/s]"
     ]
    },
    {
     "name": "stdout",
     "output_type": "stream",
     "text": [
      "initial_potential =  26943.799820722863\n",
      "final_potential =  26976.337165629982\n",
      "energy_change =  -0.1511504244263051\n",
      "p accept =  1.163171614345425\n",
      "current step size = 1.7564077254274616e-05\n",
      "current acceptance ratio = 0.6660039761431411\n",
      "currently working on step 1007\n"
     ]
    },
    {
     "name": "stderr",
     "output_type": "stream",
     "text": [
      "100%|██████████| 101/101 [00:08<00:00, 11.93it/s]\n",
      "  0%|          | 0/101 [00:00<?, ?it/s]"
     ]
    },
    {
     "name": "stdout",
     "output_type": "stream",
     "text": [
      "initial_potential =  26976.337165629982\n",
      "final_potential =  26998.98280195027\n",
      "energy_change =  -0.30256737759918906\n",
      "p accept =  1.3533288573986848\n",
      "current step size = 1.7564077254274616e-05\n",
      "current acceptance ratio = 0.6663356504468719\n",
      "currently working on step 1008\n"
     ]
    },
    {
     "name": "stderr",
     "output_type": "stream",
     "text": [
      "100%|██████████| 101/101 [00:08<00:00, 11.80it/s]\n",
      "  0%|          | 0/97 [00:00<?, ?it/s]"
     ]
    },
    {
     "name": "stdout",
     "output_type": "stream",
     "text": [
      "initial_potential =  26998.98280195027\n",
      "final_potential =  26924.24611618343\n",
      "energy_change =  -0.0891487643821165\n",
      "p accept =  1.0932432798907692\n",
      "current step size = 1.7564077254274616e-05\n",
      "current acceptance ratio = 0.6666666666666666\n",
      "currently working on step 1009\n"
     ]
    },
    {
     "name": "stderr",
     "output_type": "stream",
     "text": [
      "100%|██████████| 97/97 [00:08<00:00, 11.88it/s]\n",
      "  0%|          | 0/97 [00:00<?, ?it/s]"
     ]
    },
    {
     "name": "stdout",
     "output_type": "stream",
     "text": [
      "initial_potential =  26924.24611618343\n",
      "final_potential =  26916.917245392615\n",
      "energy_change =  0.6699887365684845\n",
      "p accept =  0.5117143414135233\n",
      "current step size = 1.7564077254274616e-05\n",
      "current acceptance ratio = 0.6669970267591675\n",
      "currently working on step 1010\n"
     ]
    },
    {
     "name": "stderr",
     "output_type": "stream",
     "text": [
      "100%|██████████| 97/97 [00:08<00:00, 12.03it/s]\n",
      "  0%|          | 0/100 [00:00<?, ?it/s]"
     ]
    },
    {
     "name": "stdout",
     "output_type": "stream",
     "text": [
      "initial_potential =  26916.917245392615\n",
      "final_potential =  26970.454998545643\n",
      "energy_change =  2.2479040021280525\n",
      "p accept =  0.10562037279440081\n",
      "current step size = 1.7564077254274616e-05\n",
      "current acceptance ratio = 0.6663366336633664\n",
      "currently working on step 1011\n"
     ]
    },
    {
     "name": "stderr",
     "output_type": "stream",
     "text": [
      "100%|██████████| 100/100 [00:08<00:00, 12.24it/s]\n",
      "  0%|          | 0/100 [00:00<?, ?it/s]"
     ]
    },
    {
     "name": "stdout",
     "output_type": "stream",
     "text": [
      "initial_potential =  26916.917245392615\n",
      "final_potential =  26938.280839826846\n",
      "energy_change =  1.8381311651610304\n",
      "p accept =  0.15911450715710904\n",
      "current step size = 1.7564077254274616e-05\n",
      "current acceptance ratio = 0.6656775469831849\n",
      "currently working on step 1012\n"
     ]
    },
    {
     "name": "stderr",
     "output_type": "stream",
     "text": [
      "100%|██████████| 100/100 [00:08<00:00, 11.91it/s]\n",
      "  0%|          | 0/98 [00:00<?, ?it/s]"
     ]
    },
    {
     "name": "stdout",
     "output_type": "stream",
     "text": [
      "initial_potential =  26916.917245392615\n",
      "final_potential =  27006.172439082588\n",
      "energy_change =  0.3482181741273962\n",
      "p accept =  0.7059448405121244\n",
      "current step size = 1.7564077254274616e-05\n",
      "current acceptance ratio = 0.6650197628458498\n",
      "currently working on step 1013\n"
     ]
    },
    {
     "name": "stderr",
     "output_type": "stream",
     "text": [
      "100%|██████████| 98/98 [00:08<00:00, 11.94it/s]\n",
      "  0%|          | 0/101 [00:00<?, ?it/s]"
     ]
    },
    {
     "name": "stdout",
     "output_type": "stream",
     "text": [
      "initial_potential =  26916.917245392615\n",
      "final_potential =  26933.197979984772\n",
      "energy_change =  -0.10427828373212833\n",
      "p accept =  1.1099092816400815\n",
      "current step size = 1.7564077254274616e-05\n",
      "current acceptance ratio = 0.6653504442250741\n",
      "currently working on step 1014\n"
     ]
    },
    {
     "name": "stderr",
     "output_type": "stream",
     "text": [
      "100%|██████████| 101/101 [00:08<00:00, 11.93it/s]\n",
      "  0%|          | 0/98 [00:00<?, ?it/s]"
     ]
    },
    {
     "name": "stdout",
     "output_type": "stream",
     "text": [
      "initial_potential =  26933.197979984772\n",
      "final_potential =  26902.23309863697\n",
      "energy_change =  -0.5063018098007888\n",
      "p accept =  1.6591440051145567\n",
      "current step size = 1.7564077254274616e-05\n",
      "current acceptance ratio = 0.665680473372781\n",
      "currently working on step 1015\n"
     ]
    },
    {
     "name": "stderr",
     "output_type": "stream",
     "text": [
      "100%|██████████| 98/98 [00:08<00:00, 11.92it/s]\n",
      "  0%|          | 0/97 [00:00<?, ?it/s]"
     ]
    },
    {
     "name": "stdout",
     "output_type": "stream",
     "text": [
      "initial_potential =  26902.23309863697\n",
      "final_potential =  26930.990556960773\n",
      "energy_change =  0.30800374486716464\n",
      "p accept =  0.7349125658539788\n",
      "current step size = 1.7564077254274616e-05\n",
      "current acceptance ratio = 0.6650246305418719\n",
      "currently working on step 1016\n"
     ]
    },
    {
     "name": "stderr",
     "output_type": "stream",
     "text": [
      "100%|██████████| 97/97 [00:08<00:00, 11.89it/s]\n",
      "  0%|          | 0/98 [00:00<?, ?it/s]"
     ]
    },
    {
     "name": "stdout",
     "output_type": "stream",
     "text": [
      "initial_potential =  26902.23309863697\n",
      "final_potential =  26872.94891960863\n",
      "energy_change =  0.22279149550013244\n",
      "p accept =  0.8002816942343989\n",
      "current step size = 1.7564077254274616e-05\n",
      "current acceptance ratio = 0.6653543307086615\n",
      "currently working on step 1017\n"
     ]
    },
    {
     "name": "stderr",
     "output_type": "stream",
     "text": [
      "100%|██████████| 98/98 [00:08<00:00, 11.99it/s]\n",
      "  0%|          | 0/100 [00:00<?, ?it/s]"
     ]
    },
    {
     "name": "stdout",
     "output_type": "stream",
     "text": [
      "initial_potential =  26872.94891960863\n",
      "final_potential =  26803.637865123994\n",
      "energy_change =  0.20846771192736924\n",
      "p accept =  0.8118272466164778\n",
      "current step size = 1.7564077254274616e-05\n",
      "current acceptance ratio = 0.6656833824975418\n",
      "currently working on step 1018\n"
     ]
    },
    {
     "name": "stderr",
     "output_type": "stream",
     "text": [
      "100%|██████████| 100/100 [00:08<00:00, 11.94it/s]\n",
      "  0%|          | 0/101 [00:00<?, ?it/s]"
     ]
    },
    {
     "name": "stdout",
     "output_type": "stream",
     "text": [
      "initial_potential =  26803.637865123994\n",
      "final_potential =  26819.36176196433\n",
      "energy_change =  1.9453986325097503\n",
      "p accept =  0.14293023534178004\n",
      "current step size = 1.7564077254274616e-05\n",
      "current acceptance ratio = 0.6650294695481336\n",
      "currently working on step 1019\n"
     ]
    },
    {
     "name": "stderr",
     "output_type": "stream",
     "text": [
      "100%|██████████| 101/101 [00:08<00:00, 11.83it/s]\n",
      "  0%|          | 0/97 [00:00<?, ?it/s]"
     ]
    },
    {
     "name": "stdout",
     "output_type": "stream",
     "text": [
      "initial_potential =  26803.637865123994\n",
      "final_potential =  26824.00348804167\n",
      "energy_change =  -0.059287463533109985\n",
      "p accept =  1.0610802187716288\n",
      "current step size = 1.7564077254274616e-05\n",
      "current acceptance ratio = 0.6653581943081452\n",
      "currently working on step 1020\n"
     ]
    },
    {
     "name": "stderr",
     "output_type": "stream",
     "text": [
      "100%|██████████| 97/97 [00:08<00:00, 11.89it/s]\n",
      "  0%|          | 0/99 [00:00<?, ?it/s]"
     ]
    },
    {
     "name": "stdout",
     "output_type": "stream",
     "text": [
      "initial_potential =  26824.00348804167\n",
      "final_potential =  26882.361569590976\n",
      "energy_change =  1.9137963282119017\n",
      "p accept =  0.14751929057241295\n",
      "current step size = 1.7564077254274616e-05\n",
      "current acceptance ratio = 0.6656862745098039\n",
      "currently working on step 1021\n"
     ]
    },
    {
     "name": "stderr",
     "output_type": "stream",
     "text": [
      "100%|██████████| 99/99 [00:08<00:00, 11.80it/s]\n",
      "  0%|          | 0/97 [00:00<?, ?it/s]"
     ]
    },
    {
     "name": "stdout",
     "output_type": "stream",
     "text": [
      "initial_potential =  26882.361569590976\n",
      "final_potential =  26902.14897546041\n",
      "energy_change =  4.069278582959669\n",
      "p accept =  0.017089712871527062\n",
      "current step size = 1.7564077254274616e-05\n",
      "current acceptance ratio = 0.6650342801175319\n",
      "currently working on step 1022\n"
     ]
    },
    {
     "name": "stderr",
     "output_type": "stream",
     "text": [
      "100%|██████████| 97/97 [00:08<00:00, 12.07it/s]\n",
      "  0%|          | 0/97 [00:00<?, ?it/s]"
     ]
    },
    {
     "name": "stdout",
     "output_type": "stream",
     "text": [
      "initial_potential =  26882.361569590976\n",
      "final_potential =  26904.44507375722\n",
      "energy_change =  -1.9834257913607871\n",
      "p accept =  7.267597660666325\n",
      "current step size = 1.7564077254274616e-05\n",
      "current acceptance ratio = 0.6653620352250489\n",
      "currently working on step 1023\n"
     ]
    },
    {
     "name": "stderr",
     "output_type": "stream",
     "text": [
      "100%|██████████| 97/97 [00:08<00:00, 11.77it/s]\n",
      "  0%|          | 0/97 [00:00<?, ?it/s]"
     ]
    },
    {
     "name": "stdout",
     "output_type": "stream",
     "text": [
      "initial_potential =  26904.44507375722\n",
      "final_potential =  26880.923689671756\n",
      "energy_change =  -0.58548700287065\n",
      "p accept =  1.7958653642978744\n",
      "current step size = 1.7564077254274616e-05\n",
      "current acceptance ratio = 0.6656891495601173\n",
      "currently working on step 1024\n"
     ]
    },
    {
     "name": "stderr",
     "output_type": "stream",
     "text": [
      "100%|██████████| 97/97 [00:08<00:00, 11.94it/s]\n",
      "  0%|          | 0/100 [00:00<?, ?it/s]"
     ]
    },
    {
     "name": "stdout",
     "output_type": "stream",
     "text": [
      "initial_potential =  26880.923689671756\n",
      "final_potential =  26840.558868187978\n",
      "energy_change =  1.697244583221618\n",
      "p accept =  0.18318758743347424\n",
      "current step size = 1.7564077254274616e-05\n",
      "current acceptance ratio = 0.6650390625\n",
      "currently working on step 1025\n"
     ]
    },
    {
     "name": "stderr",
     "output_type": "stream",
     "text": [
      "100%|██████████| 100/100 [00:08<00:00, 11.98it/s]\n",
      "  0%|          | 0/99 [00:00<?, ?it/s]"
     ]
    },
    {
     "name": "stdout",
     "output_type": "stream",
     "text": [
      "initial_potential =  26880.923689671756\n",
      "final_potential =  26805.782204933934\n",
      "energy_change =  0.20581407338613644\n",
      "p accept =  0.8139844035784941\n",
      "current step size = 1.7564077254274616e-05\n",
      "current acceptance ratio = 0.6653658536585366\n",
      "currently working on step 1026\n"
     ]
    },
    {
     "name": "stderr",
     "output_type": "stream",
     "text": [
      "100%|██████████| 99/99 [00:08<00:00, 11.94it/s]\n",
      "  0%|          | 0/101 [00:00<?, ?it/s]"
     ]
    },
    {
     "name": "stdout",
     "output_type": "stream",
     "text": [
      "initial_potential =  26805.782204933934\n",
      "final_potential =  26800.886088436677\n",
      "energy_change =  0.40280262926535215\n",
      "p accept =  0.6684440175915524\n",
      "current step size = 1.7564077254274616e-05\n",
      "current acceptance ratio = 0.665692007797271\n",
      "currently working on step 1027\n"
     ]
    },
    {
     "name": "stderr",
     "output_type": "stream",
     "text": [
      "100%|██████████| 101/101 [00:08<00:00, 11.92it/s]\n",
      "  0%|          | 0/98 [00:00<?, ?it/s]"
     ]
    },
    {
     "name": "stdout",
     "output_type": "stream",
     "text": [
      "initial_potential =  26800.886088436677\n",
      "final_potential =  26791.752158084768\n",
      "energy_change =  -0.3880661921139108\n",
      "p accept =  1.4741273566647564\n",
      "current step size = 1.7564077254274616e-05\n",
      "current acceptance ratio = 0.6660175267770204\n",
      "currently working on step 1028\n"
     ]
    },
    {
     "name": "stderr",
     "output_type": "stream",
     "text": [
      "100%|██████████| 98/98 [00:08<00:00, 11.93it/s]\n",
      "  0%|          | 0/97 [00:00<?, ?it/s]"
     ]
    },
    {
     "name": "stdout",
     "output_type": "stream",
     "text": [
      "initial_potential =  26791.752158084768\n",
      "final_potential =  26800.76228844757\n",
      "energy_change =  0.09982162356027402\n",
      "p accept =  0.9049988341091039\n",
      "current step size = 1.7564077254274616e-05\n",
      "current acceptance ratio = 0.6663424124513618\n",
      "currently working on step 1029\n"
     ]
    },
    {
     "name": "stderr",
     "output_type": "stream",
     "text": [
      "100%|██████████| 97/97 [00:08<00:00, 11.93it/s]\n",
      "  0%|          | 0/98 [00:00<?, ?it/s]"
     ]
    },
    {
     "name": "stdout",
     "output_type": "stream",
     "text": [
      "initial_potential =  26800.76228844757\n",
      "final_potential =  26786.60508286391\n",
      "energy_change =  0.5443827418494038\n",
      "p accept =  0.5801998058914707\n",
      "current step size = 1.7564077254274616e-05\n",
      "current acceptance ratio = 0.6666666666666666\n",
      "currently working on step 1030\n"
     ]
    },
    {
     "name": "stderr",
     "output_type": "stream",
     "text": [
      "100%|██████████| 98/98 [00:08<00:00, 11.88it/s]\n",
      "  0%|          | 0/99 [00:00<?, ?it/s]"
     ]
    },
    {
     "name": "stdout",
     "output_type": "stream",
     "text": [
      "initial_potential =  26786.60508286391\n",
      "final_potential =  26828.092099914113\n",
      "energy_change =  2.1219711070589256\n",
      "p accept =  0.119795266345298\n",
      "current step size = 1.7564077254274616e-05\n",
      "current acceptance ratio = 0.6660194174757281\n",
      "currently working on step 1031\n"
     ]
    },
    {
     "name": "stderr",
     "output_type": "stream",
     "text": [
      "100%|██████████| 99/99 [00:08<00:00, 11.90it/s]\n",
      "  0%|          | 0/97 [00:00<?, ?it/s]"
     ]
    },
    {
     "name": "stdout",
     "output_type": "stream",
     "text": [
      "initial_potential =  26786.60508286391\n",
      "final_potential =  26839.950595845876\n",
      "energy_change =  1.9536302133928984\n",
      "p accept =  0.14175852268881237\n",
      "current step size = 1.7564077254274616e-05\n",
      "current acceptance ratio = 0.6663433559650824\n",
      "currently working on step 1032\n"
     ]
    },
    {
     "name": "stderr",
     "output_type": "stream",
     "text": [
      "100%|██████████| 97/97 [00:08<00:00, 11.94it/s]\n",
      "  0%|          | 0/101 [00:00<?, ?it/s]"
     ]
    },
    {
     "name": "stdout",
     "output_type": "stream",
     "text": [
      "initial_potential =  26839.950595845876\n",
      "final_potential =  26836.787059779297\n",
      "energy_change =  -0.43197703384794295\n",
      "p accept =  1.5402997399968708\n",
      "current step size = 1.7564077254274616e-05\n",
      "current acceptance ratio = 0.6666666666666666\n",
      "currently working on step 1033\n"
     ]
    },
    {
     "name": "stderr",
     "output_type": "stream",
     "text": [
      "100%|██████████| 101/101 [00:08<00:00, 11.88it/s]\n",
      "  0%|          | 0/98 [00:00<?, ?it/s]"
     ]
    },
    {
     "name": "stdout",
     "output_type": "stream",
     "text": [
      "initial_potential =  26836.787059779297\n",
      "final_potential =  26879.978076998817\n",
      "energy_change =  2.8088936694985023\n",
      "p accept =  0.06027163586985815\n",
      "current step size = 1.7564077254274616e-05\n",
      "current acceptance ratio = 0.6660212971926428\n",
      "currently working on step 1034\n"
     ]
    },
    {
     "name": "stderr",
     "output_type": "stream",
     "text": [
      "100%|██████████| 98/98 [00:08<00:00, 11.71it/s]\n",
      "  0%|          | 0/101 [00:00<?, ?it/s]"
     ]
    },
    {
     "name": "stdout",
     "output_type": "stream",
     "text": [
      "initial_potential =  26836.787059779297\n",
      "final_potential =  26849.262599620728\n",
      "energy_change =  -0.9433590534172254\n",
      "p accept =  2.5685949912873007\n",
      "current step size = 1.7564077254274616e-05\n",
      "current acceptance ratio = 0.6663442940038685\n",
      "currently working on step 1035\n"
     ]
    },
    {
     "name": "stderr",
     "output_type": "stream",
     "text": [
      "100%|██████████| 101/101 [00:08<00:00, 11.81it/s]\n",
      "  0%|          | 0/100 [00:00<?, ?it/s]"
     ]
    },
    {
     "name": "stdout",
     "output_type": "stream",
     "text": [
      "initial_potential =  26849.262599620728\n",
      "final_potential =  26823.243837640865\n",
      "energy_change =  -0.06981961263227277\n",
      "p accept =  1.07231473177498\n",
      "current step size = 1.7564077254274616e-05\n",
      "current acceptance ratio = 0.6666666666666666\n",
      "currently working on step 1036\n"
     ]
    },
    {
     "name": "stderr",
     "output_type": "stream",
     "text": [
      "100%|██████████| 100/100 [00:08<00:00, 11.83it/s]\n",
      "  0%|          | 0/98 [00:00<?, ?it/s]"
     ]
    },
    {
     "name": "stdout",
     "output_type": "stream",
     "text": [
      "initial_potential =  26823.243837640865\n",
      "final_potential =  26871.75661253141\n",
      "energy_change =  0.6410812497342704\n",
      "p accept =  0.5267225973676553\n",
      "current step size = 1.7564077254274616e-05\n",
      "current acceptance ratio = 0.666023166023166\n",
      "currently working on step 1037\n"
     ]
    },
    {
     "name": "stderr",
     "output_type": "stream",
     "text": [
      "100%|██████████| 98/98 [00:08<00:00, 12.16it/s]\n",
      "  0%|          | 0/101 [00:00<?, ?it/s]"
     ]
    },
    {
     "name": "stdout",
     "output_type": "stream",
     "text": [
      "initial_potential =  26823.243837640865\n",
      "final_potential =  26870.13620315474\n",
      "energy_change =  -0.29185266431886703\n",
      "p accept =  1.338905734517861\n",
      "current step size = 1.7564077254274616e-05\n",
      "current acceptance ratio = 0.6663452266152362\n",
      "currently working on step 1038\n"
     ]
    },
    {
     "name": "stderr",
     "output_type": "stream",
     "text": [
      "100%|██████████| 101/101 [00:08<00:00, 11.90it/s]\n",
      "  0%|          | 0/98 [00:00<?, ?it/s]"
     ]
    },
    {
     "name": "stdout",
     "output_type": "stream",
     "text": [
      "initial_potential =  26870.13620315474\n",
      "final_potential =  26795.158685582424\n",
      "energy_change =  -0.19950824505940545\n",
      "p accept =  1.2208022749767757\n",
      "current step size = 1.7564077254274616e-05\n",
      "current acceptance ratio = 0.6666666666666666\n",
      "currently working on step 1039\n"
     ]
    },
    {
     "name": "stderr",
     "output_type": "stream",
     "text": [
      "100%|██████████| 98/98 [00:08<00:00, 11.97it/s]\n",
      "  0%|          | 0/98 [00:00<?, ?it/s]"
     ]
    },
    {
     "name": "stdout",
     "output_type": "stream",
     "text": [
      "initial_potential =  26795.158685582424\n",
      "final_potential =  26808.179961890986\n",
      "energy_change =  -0.6352453064610017\n",
      "p accept =  1.8874850969627575\n",
      "current step size = 1.7564077254274616e-05\n",
      "current acceptance ratio = 0.6669874879692012\n",
      "currently working on step 1040\n"
     ]
    },
    {
     "name": "stderr",
     "output_type": "stream",
     "text": [
      "100%|██████████| 98/98 [00:08<00:00, 11.93it/s]\n",
      "  0%|          | 0/97 [00:00<?, ?it/s]"
     ]
    },
    {
     "name": "stdout",
     "output_type": "stream",
     "text": [
      "initial_potential =  26808.179961890986\n",
      "final_potential =  26792.74833701109\n",
      "energy_change =  0.38280154232052155\n",
      "p accept =  0.6819482237194637\n",
      "current step size = 1.7564077254274616e-05\n",
      "current acceptance ratio = 0.6673076923076923\n",
      "currently working on step 1041\n"
     ]
    },
    {
     "name": "stderr",
     "output_type": "stream",
     "text": [
      "100%|██████████| 97/97 [00:08<00:00, 11.91it/s]\n",
      "  0%|          | 0/100 [00:00<?, ?it/s]"
     ]
    },
    {
     "name": "stdout",
     "output_type": "stream",
     "text": [
      "initial_potential =  26792.74833701109\n",
      "final_potential =  26772.77832124385\n",
      "energy_change =  -0.5278778595675249\n",
      "p accept =  1.6953307585235566\n",
      "current step size = 1.7564077254274616e-05\n",
      "current acceptance ratio = 0.6676272814601345\n",
      "currently working on step 1042\n"
     ]
    },
    {
     "name": "stderr",
     "output_type": "stream",
     "text": [
      "100%|██████████| 100/100 [00:08<00:00, 11.95it/s]\n",
      "  0%|          | 0/99 [00:00<?, ?it/s]"
     ]
    },
    {
     "name": "stdout",
     "output_type": "stream",
     "text": [
      "initial_potential =  26772.77832124385\n",
      "final_potential =  26778.228713402823\n",
      "energy_change =  0.4837547399511095\n",
      "p accept =  0.6164643774562254\n",
      "current step size = 1.7564077254274616e-05\n",
      "current acceptance ratio = 0.6669865642994242\n",
      "currently working on step 1043\n"
     ]
    },
    {
     "name": "stderr",
     "output_type": "stream",
     "text": [
      "100%|██████████| 99/99 [00:08<00:00, 11.96it/s]\n",
      "  0%|          | 0/99 [00:00<?, ?it/s]"
     ]
    },
    {
     "name": "stdout",
     "output_type": "stream",
     "text": [
      "initial_potential =  26772.77832124385\n",
      "final_potential =  26767.890716531085\n",
      "energy_change =  3.6026485267357202\n",
      "p accept =  0.02725145058709557\n",
      "current step size = 1.7564077254274616e-05\n",
      "current acceptance ratio = 0.6663470757430489\n",
      "currently working on step 1044\n"
     ]
    },
    {
     "name": "stderr",
     "output_type": "stream",
     "text": [
      "100%|██████████| 99/99 [00:08<00:00, 11.92it/s]\n",
      "  0%|          | 0/101 [00:00<?, ?it/s]"
     ]
    },
    {
     "name": "stdout",
     "output_type": "stream",
     "text": [
      "initial_potential =  26772.77832124385\n",
      "final_potential =  26802.73373969032\n",
      "energy_change =  1.3199942522333004\n",
      "p accept =  0.26713683740165595\n",
      "current step size = 1.7564077254274616e-05\n",
      "current acceptance ratio = 0.6657088122605364\n",
      "currently working on step 1045\n"
     ]
    },
    {
     "name": "stderr",
     "output_type": "stream",
     "text": [
      "100%|██████████| 101/101 [00:08<00:00, 11.92it/s]\n",
      "  0%|          | 0/101 [00:00<?, ?it/s]"
     ]
    },
    {
     "name": "stdout",
     "output_type": "stream",
     "text": [
      "initial_potential =  26772.77832124385\n",
      "final_potential =  26775.833262309174\n",
      "energy_change =  3.1429229257046245\n",
      "p accept =  0.043156470212575425\n",
      "current step size = 1.7564077254274616e-05\n",
      "current acceptance ratio = 0.6650717703349283\n",
      "currently working on step 1046\n"
     ]
    },
    {
     "name": "stderr",
     "output_type": "stream",
     "text": [
      "100%|██████████| 101/101 [00:08<00:00, 11.88it/s]\n",
      "  0%|          | 0/100 [00:00<?, ?it/s]"
     ]
    },
    {
     "name": "stdout",
     "output_type": "stream",
     "text": [
      "initial_potential =  26772.77832124385\n",
      "final_potential =  26772.286480988518\n",
      "energy_change =  0.138098154347972\n",
      "p accept =  0.8710131938177561\n",
      "current step size = 1.7564077254274616e-05\n",
      "current acceptance ratio = 0.6653919694072657\n",
      "currently working on step 1047\n"
     ]
    },
    {
     "name": "stderr",
     "output_type": "stream",
     "text": [
      "100%|██████████| 100/100 [00:08<00:00, 11.89it/s]\n",
      "  0%|          | 0/100 [00:00<?, ?it/s]"
     ]
    },
    {
     "name": "stdout",
     "output_type": "stream",
     "text": [
      "initial_potential =  26772.286480988518\n",
      "final_potential =  26813.9485401202\n",
      "energy_change =  -0.09868410300987307\n",
      "p accept =  1.10371758342004\n",
      "current step size = 1.7564077254274616e-05\n",
      "current acceptance ratio = 0.6657115568290354\n",
      "currently working on step 1048\n"
     ]
    },
    {
     "name": "stderr",
     "output_type": "stream",
     "text": [
      "100%|██████████| 100/100 [00:08<00:00, 11.84it/s]\n",
      "  0%|          | 0/99 [00:00<?, ?it/s]"
     ]
    },
    {
     "name": "stdout",
     "output_type": "stream",
     "text": [
      "initial_potential =  26813.9485401202\n",
      "final_potential =  26904.449905316207\n",
      "energy_change =  0.8314681819174439\n",
      "p accept =  0.4354095563791253\n",
      "current step size = 1.7564077254274616e-05\n",
      "current acceptance ratio = 0.6650763358778626\n",
      "currently working on step 1049\n"
     ]
    },
    {
     "name": "stderr",
     "output_type": "stream",
     "text": [
      "100%|██████████| 99/99 [00:08<00:00, 12.16it/s]\n",
      "  0%|          | 0/100 [00:00<?, ?it/s]"
     ]
    },
    {
     "name": "stdout",
     "output_type": "stream",
     "text": [
      "initial_potential =  26813.9485401202\n",
      "final_potential =  26824.640175962504\n",
      "energy_change =  -0.20648050593445078\n",
      "p accept =  1.2293437690754572\n",
      "current step size = 1.7564077254274616e-05\n",
      "current acceptance ratio = 0.665395614871306\n",
      "currently working on step 1050\n"
     ]
    },
    {
     "name": "stderr",
     "output_type": "stream",
     "text": [
      "100%|██████████| 100/100 [00:08<00:00, 11.89it/s]\n"
     ]
    },
    {
     "name": "stdout",
     "output_type": "stream",
     "text": [
      "initial_potential =  26824.640175962504\n",
      "final_potential =  26833.039143096958\n",
      "energy_change =  0.44106842413020786\n",
      "p accept =  0.6433486844927303\n",
      "current step size = 1.7564077254274616e-05\n",
      "current acceptance ratio = 0.6657142857142857\n"
     ]
    }
   ],
   "source": [
    "i=1\n",
    "j=9\n",
    "\n",
    "vc.outpath = \"out\"\n",
    "vc.sample_name = \"hmc\"\n",
    "\n",
    "name = [fl_name, f, str(i + 1)]\n",
    "tr_name = [train, str(j + 1)]\n",
    "map_name = [fl_name, scheme, \"vc\", str(i + 1), str(j + 1)]\n",
    "lda_name = [fl_name, scheme, \"lda\", str(i + 1), str(j + 1)]\n",
    "response = pd.read_csv(dirin + \"_\".join(name) + \".tsv\", header = None)\n",
    "response = response.to_numpy()\n",
    "response = response.squeeze()\n",
    "print(\"working on sample \" + str(i+1) + \",\" + str(j+1))\n",
    "tr = pd.read_csv(dirin + \"_\".join(tr_name) + \".tsv\", header = None)\n",
    "tr = np.array(tr).flatten()\n",
    "tr -= 1\n",
    "\n",
    "vc.lda_star = lda_tru\n",
    "lda = lda_tru\n",
    "noise_std = .01\n",
    "noise = np.random.normal(0, noise_std, G)\n",
    "varall = noise_std**2*np.ones(G)\n",
    "\n",
    "\n",
    "map = vc.compute_posterior_mean_lda(np.array(seqs)[tr], np.array(response)[tr], np.array(varall)[tr], lda)        \n",
    "\n",
    "vc.set_data_as_global_parameters(np.array(seqs)[tr], np.array(response)[tr], np.array(varall)[tr])\n",
    "\n",
    "vc.prepare_pos_sampling()\n",
    "samples = vc.hamiltonian_monte_carlo(\n",
    "    n_samples = 1000,\n",
    "    m = 1,\n",
    "    initial_position = np.zeros(alpha**l),\n",
    "    tune = 50,\n",
    "    initial_step_size = 1e-10,\n",
    "    num_steps = 100,\n",
    "    max_energy_change=10.0,\n",
    "    intermediate_output=False\n",
    "  )\n",
    "\n",
    "samples0=samples[0]\n",
    "samples0 = map + samples0\n",
    "sample_name = [fl_name, scheme, \"hmc\", str(i + 1), str(j + 1)]\n",
    "pd.DataFrame(samples0).to_csv(dirout + \"_\".join(sample_name) + \".tsv\", header = None, index = None)"
   ]
  },
  {
   "cell_type": "code",
   "execution_count": 52,
   "metadata": {},
   "outputs": [
    {
     "name": "stdout",
     "output_type": "stream",
     "text": [
      "/Users/keitokiddo/VC_revision/Simulations/2_16_DEN\r\n"
     ]
    }
   ],
   "source": [
    "!pwd"
   ]
  },
  {
   "cell_type": "code",
   "execution_count": 56,
   "metadata": {
    "collapsed": true
   },
   "outputs": [
    {
     "ename": "KeyboardInterrupt",
     "evalue": "",
     "output_type": "error",
     "traceback": [
      "\u001b[0;31m---------------------------------------------------------------------------\u001b[0m",
      "\u001b[0;31mKeyboardInterrupt\u001b[0m                         Traceback (most recent call last)",
      "\u001b[0;32m<ipython-input-56-119e3bd7ad65>\u001b[0m in \u001b[0;36m<module>\u001b[0;34m\u001b[0m\n\u001b[0;32m----> 1\u001b[0;31m \u001b[0msamples\u001b[0m \u001b[0;34m=\u001b[0m \u001b[0mpd\u001b[0m\u001b[0;34m.\u001b[0m\u001b[0mread_csv\u001b[0m\u001b[0;34m(\u001b[0m\u001b[0mdirout\u001b[0m \u001b[0;34m+\u001b[0m \u001b[0;34m'/hmc_samples'\u001b[0m \u001b[0;34m+\u001b[0m \u001b[0;34m'.txt'\u001b[0m\u001b[0;34m,\u001b[0m \u001b[0mheader\u001b[0m \u001b[0;34m=\u001b[0m \u001b[0;32mNone\u001b[0m\u001b[0;34m)\u001b[0m\u001b[0;34m\u001b[0m\u001b[0;34m\u001b[0m\u001b[0m\n\u001b[0m\u001b[1;32m      2\u001b[0m \u001b[0msamples\u001b[0m \u001b[0;34m=\u001b[0m \u001b[0mnp\u001b[0m\u001b[0;34m.\u001b[0m\u001b[0marray\u001b[0m\u001b[0;34m(\u001b[0m\u001b[0msamples\u001b[0m\u001b[0;34m)\u001b[0m\u001b[0;34m\u001b[0m\u001b[0;34m\u001b[0m\u001b[0m\n",
      "\u001b[0;32m/Library/Frameworks/Python.framework/Versions/3.8/lib/python3.8/site-packages/pandas/util/_decorators.py\u001b[0m in \u001b[0;36mwrapper\u001b[0;34m(*args, **kwargs)\u001b[0m\n\u001b[1;32m    309\u001b[0m                     \u001b[0mstacklevel\u001b[0m\u001b[0;34m=\u001b[0m\u001b[0mstacklevel\u001b[0m\u001b[0;34m,\u001b[0m\u001b[0;34m\u001b[0m\u001b[0;34m\u001b[0m\u001b[0m\n\u001b[1;32m    310\u001b[0m                 )\n\u001b[0;32m--> 311\u001b[0;31m             \u001b[0;32mreturn\u001b[0m \u001b[0mfunc\u001b[0m\u001b[0;34m(\u001b[0m\u001b[0;34m*\u001b[0m\u001b[0margs\u001b[0m\u001b[0;34m,\u001b[0m \u001b[0;34m**\u001b[0m\u001b[0mkwargs\u001b[0m\u001b[0;34m)\u001b[0m\u001b[0;34m\u001b[0m\u001b[0;34m\u001b[0m\u001b[0m\n\u001b[0m\u001b[1;32m    312\u001b[0m \u001b[0;34m\u001b[0m\u001b[0m\n\u001b[1;32m    313\u001b[0m         \u001b[0;32mreturn\u001b[0m \u001b[0mwrapper\u001b[0m\u001b[0;34m\u001b[0m\u001b[0;34m\u001b[0m\u001b[0m\n",
      "\u001b[0;32m/Library/Frameworks/Python.framework/Versions/3.8/lib/python3.8/site-packages/pandas/io/parsers/readers.py\u001b[0m in \u001b[0;36mread_csv\u001b[0;34m(filepath_or_buffer, sep, delimiter, header, names, index_col, usecols, squeeze, prefix, mangle_dupe_cols, dtype, engine, converters, true_values, false_values, skipinitialspace, skiprows, skipfooter, nrows, na_values, keep_default_na, na_filter, verbose, skip_blank_lines, parse_dates, infer_datetime_format, keep_date_col, date_parser, dayfirst, cache_dates, iterator, chunksize, compression, thousands, decimal, lineterminator, quotechar, quoting, doublequote, escapechar, comment, encoding, encoding_errors, dialect, error_bad_lines, warn_bad_lines, on_bad_lines, delim_whitespace, low_memory, memory_map, float_precision, storage_options)\u001b[0m\n\u001b[1;32m    678\u001b[0m     \u001b[0mkwds\u001b[0m\u001b[0;34m.\u001b[0m\u001b[0mupdate\u001b[0m\u001b[0;34m(\u001b[0m\u001b[0mkwds_defaults\u001b[0m\u001b[0;34m)\u001b[0m\u001b[0;34m\u001b[0m\u001b[0;34m\u001b[0m\u001b[0m\n\u001b[1;32m    679\u001b[0m \u001b[0;34m\u001b[0m\u001b[0m\n\u001b[0;32m--> 680\u001b[0;31m     \u001b[0;32mreturn\u001b[0m \u001b[0m_read\u001b[0m\u001b[0;34m(\u001b[0m\u001b[0mfilepath_or_buffer\u001b[0m\u001b[0;34m,\u001b[0m \u001b[0mkwds\u001b[0m\u001b[0;34m)\u001b[0m\u001b[0;34m\u001b[0m\u001b[0;34m\u001b[0m\u001b[0m\n\u001b[0m\u001b[1;32m    681\u001b[0m \u001b[0;34m\u001b[0m\u001b[0m\n\u001b[1;32m    682\u001b[0m \u001b[0;34m\u001b[0m\u001b[0m\n",
      "\u001b[0;32m/Library/Frameworks/Python.framework/Versions/3.8/lib/python3.8/site-packages/pandas/io/parsers/readers.py\u001b[0m in \u001b[0;36m_read\u001b[0;34m(filepath_or_buffer, kwds)\u001b[0m\n\u001b[1;32m    579\u001b[0m \u001b[0;34m\u001b[0m\u001b[0m\n\u001b[1;32m    580\u001b[0m     \u001b[0;32mwith\u001b[0m \u001b[0mparser\u001b[0m\u001b[0;34m:\u001b[0m\u001b[0;34m\u001b[0m\u001b[0;34m\u001b[0m\u001b[0m\n\u001b[0;32m--> 581\u001b[0;31m         \u001b[0;32mreturn\u001b[0m \u001b[0mparser\u001b[0m\u001b[0;34m.\u001b[0m\u001b[0mread\u001b[0m\u001b[0;34m(\u001b[0m\u001b[0mnrows\u001b[0m\u001b[0;34m)\u001b[0m\u001b[0;34m\u001b[0m\u001b[0;34m\u001b[0m\u001b[0m\n\u001b[0m\u001b[1;32m    582\u001b[0m \u001b[0;34m\u001b[0m\u001b[0m\n\u001b[1;32m    583\u001b[0m \u001b[0;34m\u001b[0m\u001b[0m\n",
      "\u001b[0;32m/Library/Frameworks/Python.framework/Versions/3.8/lib/python3.8/site-packages/pandas/io/parsers/readers.py\u001b[0m in \u001b[0;36mread\u001b[0;34m(self, nrows)\u001b[0m\n\u001b[1;32m   1248\u001b[0m             \u001b[0mnrows\u001b[0m \u001b[0;34m=\u001b[0m \u001b[0mvalidate_integer\u001b[0m\u001b[0;34m(\u001b[0m\u001b[0;34m\"nrows\"\u001b[0m\u001b[0;34m,\u001b[0m \u001b[0mnrows\u001b[0m\u001b[0;34m)\u001b[0m\u001b[0;34m\u001b[0m\u001b[0;34m\u001b[0m\u001b[0m\n\u001b[1;32m   1249\u001b[0m             \u001b[0;32mtry\u001b[0m\u001b[0;34m:\u001b[0m\u001b[0;34m\u001b[0m\u001b[0;34m\u001b[0m\u001b[0m\n\u001b[0;32m-> 1250\u001b[0;31m                 \u001b[0mindex\u001b[0m\u001b[0;34m,\u001b[0m \u001b[0mcolumns\u001b[0m\u001b[0;34m,\u001b[0m \u001b[0mcol_dict\u001b[0m \u001b[0;34m=\u001b[0m \u001b[0mself\u001b[0m\u001b[0;34m.\u001b[0m\u001b[0m_engine\u001b[0m\u001b[0;34m.\u001b[0m\u001b[0mread\u001b[0m\u001b[0;34m(\u001b[0m\u001b[0mnrows\u001b[0m\u001b[0;34m)\u001b[0m\u001b[0;34m\u001b[0m\u001b[0;34m\u001b[0m\u001b[0m\n\u001b[0m\u001b[1;32m   1251\u001b[0m             \u001b[0;32mexcept\u001b[0m \u001b[0mException\u001b[0m\u001b[0;34m:\u001b[0m\u001b[0;34m\u001b[0m\u001b[0;34m\u001b[0m\u001b[0m\n\u001b[1;32m   1252\u001b[0m                 \u001b[0mself\u001b[0m\u001b[0;34m.\u001b[0m\u001b[0mclose\u001b[0m\u001b[0;34m(\u001b[0m\u001b[0;34m)\u001b[0m\u001b[0;34m\u001b[0m\u001b[0;34m\u001b[0m\u001b[0m\n",
      "\u001b[0;32m/Library/Frameworks/Python.framework/Versions/3.8/lib/python3.8/site-packages/pandas/io/parsers/c_parser_wrapper.py\u001b[0m in \u001b[0;36mread\u001b[0;34m(self, nrows)\u001b[0m\n\u001b[1;32m    223\u001b[0m         \u001b[0;32mtry\u001b[0m\u001b[0;34m:\u001b[0m\u001b[0;34m\u001b[0m\u001b[0;34m\u001b[0m\u001b[0m\n\u001b[1;32m    224\u001b[0m             \u001b[0;32mif\u001b[0m \u001b[0mself\u001b[0m\u001b[0;34m.\u001b[0m\u001b[0mlow_memory\u001b[0m\u001b[0;34m:\u001b[0m\u001b[0;34m\u001b[0m\u001b[0;34m\u001b[0m\u001b[0m\n\u001b[0;32m--> 225\u001b[0;31m                 \u001b[0mchunks\u001b[0m \u001b[0;34m=\u001b[0m \u001b[0mself\u001b[0m\u001b[0;34m.\u001b[0m\u001b[0m_reader\u001b[0m\u001b[0;34m.\u001b[0m\u001b[0mread_low_memory\u001b[0m\u001b[0;34m(\u001b[0m\u001b[0mnrows\u001b[0m\u001b[0;34m)\u001b[0m\u001b[0;34m\u001b[0m\u001b[0;34m\u001b[0m\u001b[0m\n\u001b[0m\u001b[1;32m    226\u001b[0m                 \u001b[0;31m# destructive to chunks\u001b[0m\u001b[0;34m\u001b[0m\u001b[0;34m\u001b[0m\u001b[0;34m\u001b[0m\u001b[0m\n\u001b[1;32m    227\u001b[0m                 \u001b[0mdata\u001b[0m \u001b[0;34m=\u001b[0m \u001b[0m_concatenate_chunks\u001b[0m\u001b[0;34m(\u001b[0m\u001b[0mchunks\u001b[0m\u001b[0;34m)\u001b[0m\u001b[0;34m\u001b[0m\u001b[0;34m\u001b[0m\u001b[0m\n",
      "\u001b[0;32m/Library/Frameworks/Python.framework/Versions/3.8/lib/python3.8/site-packages/pandas/_libs/parsers.pyx\u001b[0m in \u001b[0;36mpandas._libs.parsers.TextReader.read_low_memory\u001b[0;34m()\u001b[0m\n",
      "\u001b[0;32m/Library/Frameworks/Python.framework/Versions/3.8/lib/python3.8/site-packages/pandas/_libs/parsers.pyx\u001b[0m in \u001b[0;36mpandas._libs.parsers.TextReader._read_rows\u001b[0;34m()\u001b[0m\n",
      "\u001b[0;32m/Library/Frameworks/Python.framework/Versions/3.8/lib/python3.8/site-packages/pandas/_libs/parsers.pyx\u001b[0m in \u001b[0;36mpandas._libs.parsers.TextReader._convert_column_data\u001b[0;34m()\u001b[0m\n",
      "\u001b[0;32m/Library/Frameworks/Python.framework/Versions/3.8/lib/python3.8/site-packages/pandas/_libs/parsers.pyx\u001b[0m in \u001b[0;36mpandas._libs.parsers.TextReader._convert_tokens\u001b[0;34m()\u001b[0m\n",
      "\u001b[0;32m/Library/Frameworks/Python.framework/Versions/3.8/lib/python3.8/site-packages/pandas/_libs/parsers.pyx\u001b[0m in \u001b[0;36mpandas._libs.parsers.TextReader._convert_with_dtype\u001b[0;34m()\u001b[0m\n",
      "\u001b[0;32m/Library/Frameworks/Python.framework/Versions/3.8/lib/python3.8/site-packages/pandas/core/dtypes/common.py\u001b[0m in \u001b[0;36mis_extension_array_dtype\u001b[0;34m(arr_or_dtype)\u001b[0m\n\u001b[1;32m   1427\u001b[0m \u001b[0;34m\u001b[0m\u001b[0m\n\u001b[1;32m   1428\u001b[0m \u001b[0;34m\u001b[0m\u001b[0m\n\u001b[0;32m-> 1429\u001b[0;31m \u001b[0;32mdef\u001b[0m \u001b[0mis_extension_array_dtype\u001b[0m\u001b[0;34m(\u001b[0m\u001b[0marr_or_dtype\u001b[0m\u001b[0;34m)\u001b[0m \u001b[0;34m->\u001b[0m \u001b[0mbool\u001b[0m\u001b[0;34m:\u001b[0m\u001b[0;34m\u001b[0m\u001b[0;34m\u001b[0m\u001b[0m\n\u001b[0m\u001b[1;32m   1430\u001b[0m     \"\"\"\n\u001b[1;32m   1431\u001b[0m     \u001b[0mCheck\u001b[0m \u001b[0;32mif\u001b[0m \u001b[0man\u001b[0m \u001b[0mobject\u001b[0m \u001b[0;32mis\u001b[0m \u001b[0ma\u001b[0m \u001b[0mpandas\u001b[0m \u001b[0mextension\u001b[0m \u001b[0marray\u001b[0m \u001b[0mtype\u001b[0m\u001b[0;34m.\u001b[0m\u001b[0;34m\u001b[0m\u001b[0;34m\u001b[0m\u001b[0m\n",
      "\u001b[0;31mKeyboardInterrupt\u001b[0m: "
     ]
    }
   ],
   "source": [
    "samples = pd.read_csv(dirout + '/hmc_samples' + '.txt', header = None)\n",
    "samples = np.array(samples)"
   ]
  },
  {
   "cell_type": "code",
   "execution_count": 59,
   "metadata": {},
   "outputs": [],
   "source": [
    "lambdaspos = []\n",
    "\n",
    "for i in np.arange(0, 1000, 100):\n",
    "    rhod,_ = vc.compute_rhod_and_Nd_custom(np.array(samples0)[i], range(G))\n",
    "    lambdas = sp.linalg.inv(vc.W_kd.T).dot(rhod)\n",
    "    lambdaspos.append(lambdas)\n",
    "\n",
    "pd.DataFrame(lambdaspos).to_csv(dirout + \"/posterior_lambdas.csv\", header = None, index = None)    "
   ]
  },
  {
   "cell_type": "code",
   "execution_count": 60,
   "metadata": {
    "scrolled": true
   },
   "outputs": [
    {
     "name": "stdout",
     "output_type": "stream",
     "text": [
      "/Users/keitokiddo/VC_revision/Simulations/2_16_DEN\r\n"
     ]
    }
   ],
   "source": [
    "!pwd"
   ]
  },
  {
   "cell_type": "code",
   "execution_count": null,
   "metadata": {},
   "outputs": [],
   "source": []
  }
 ],
 "metadata": {
  "kernelspec": {
   "display_name": "Python 3",
   "language": "python",
   "name": "python3"
  },
  "language_info": {
   "codemirror_mode": {
    "name": "ipython",
    "version": 3
   },
   "file_extension": ".py",
   "mimetype": "text/x-python",
   "name": "python",
   "nbconvert_exporter": "python",
   "pygments_lexer": "ipython3",
   "version": "3.8.6"
  }
 },
 "nbformat": 4,
 "nbformat_minor": 4
}
