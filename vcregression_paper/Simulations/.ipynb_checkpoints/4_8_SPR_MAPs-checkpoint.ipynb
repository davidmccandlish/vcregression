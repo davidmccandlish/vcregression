{
 "cells": [
  {
   "cell_type": "code",
   "execution_count": 1,
   "metadata": {},
   "outputs": [
    {
     "name": "stdout",
     "output_type": "stream",
     "text": [
      "Loading L_sparse ...\n",
      "0.38 sec\n"
     ]
    }
   ],
   "source": [
    "fl_name = \"20_4_SPR\"\n",
    "alpha, l = 20, 4\n",
    "\n",
    "import os\n",
    "\n",
    "os.chdir(\"/Users/keitokiddo/VC_revision/Simulations/\" + fl_name)\n",
    "import scipy as sp\n",
    "import sys\n",
    "sys.path.insert(1, '/Users/keitokiddo/git/vcregression/vcregression')\n",
    "\n",
    "import vc_regression as vc\n",
    "import itertools\n",
    "import os\n",
    "import csv\n",
    "import pandas as pd\n",
    "import numpy as np\n",
    "import arrow\n",
    "import scipy as sp\n",
    "\n",
    "#define sequence space parameters\n",
    "\n",
    "G = alpha**l\n",
    "bases = np.array(range(alpha))\n",
    "seqs = list(itertools.product(bases, repeat=l)) #generate all possible sequences\n",
    "\n",
    "dirin = \"data/\"\n",
    "dirout = \"out/\"\n",
    "vc.preliminary_preparation(alpha, l)\n"
   ]
  },
  {
   "cell_type": "code",
   "execution_count": null,
   "metadata": {},
   "outputs": [
    {
     "name": "stdout",
     "output_type": "stream",
     "text": [
      "working on sample 1,1\n"
     ]
    }
   ],
   "source": [
    "varall = 0*np.ones(G)\n",
    "\n",
    "f = 'f'\n",
    "train = 'tr'\n",
    "scheme = 'random'\n",
    "\n",
    "\n",
    "for i in range(3):\n",
    "    for j in range(13):\n",
    "        name = [fl_name, f, str(i + 1)]\n",
    "        tr_name = [train, str(j + 1)]\n",
    "        map_name = [fl_name, scheme, \"vc\", str(i + 1), str(j + 1)]\n",
    "        lda_name = [fl_name, scheme, \"lda\", str(i + 1), str(j + 1)]\n",
    "        response = pd.read_csv(dirin + \"_\".join(name) + \".tsv\", header = None)\n",
    "        response = response.to_numpy()\n",
    "        response = response.squeeze()\n",
    "        print(\"working on sample \" + str(i+1) + \",\" + str(j+1))\n",
    "        tr = pd.read_csv(dirin + \"_\".join(tr_name) + \".tsv\", header = None)\n",
    "        tr = np.array(tr).flatten()\n",
    "        tr -= 1\n",
    "        lambdas,map = vc.compute_posterior_mean_ex(np.array(seqs)[tr], \n",
    "                                                   np.array(response)[tr], np.array(varall)[tr])\n",
    "        pd.DataFrame(map).to_csv(dirout + \"_\".join(map_name) + \".tsv\", header = None, index = None)\n",
    "        pd.DataFrame(lambdas).to_csv(dirout + \"_\".join(lda_name) + \".tsv\", header = None, index = None)"
   ]
  },
  {
   "cell_type": "code",
   "execution_count": null,
   "metadata": {},
   "outputs": [],
   "source": [
    "varlist=[0.0526316, 0.111111, 0.25, 0.428571, 0.666667, 1., 4.]\n",
    "noise_props=[.05, .1, .2, .3, .4, .5, .8]\n",
    "\n",
    "\n",
    "f = 'f_noised'\n",
    "train = 'tr'\n",
    "scheme = 'noised'\n",
    "\n",
    "\n",
    "for i in range(3):\n",
    "    for k in range(2,3):\n",
    "        varall = varlist[k]*np.ones(G)\n",
    "        for j in range(13):\n",
    "            response_name = [fl_name, f, str(i+1), str(noise_props[k])]\n",
    "            tr_name = [train, str(j + 1)]\n",
    "            map_name = [fl_name, scheme, \"vc\", str(i + 1), str(noise_props[k]), str(j + 1)]\n",
    "            lda_name = [fl_name, scheme, \"lda\", str(i + 1), str(noise_props[k]), str(j + 1)]\n",
    "            response = pd.read_csv(dirin + \"_\".join(response_name) + \".tsv\", header = None)\n",
    "            response = response.to_numpy()\n",
    "            response = response.squeeze()\n",
    "            print(\"working on sample \" + str(i+1) + \",\" + str(noise_props[k]) + \",\" + str(j+1))\n",
    "            tr = pd.read_csv(dirin + \"_\".join(tr_name) + \".tsv\", header = None)\n",
    "            tr = np.array(tr).flatten()\n",
    "            tr -= 1 \n",
    "            lambdas,map = vc.compute_posterior_mean_ex(\n",
    "                np.array(seqs)[tr], np.array(response)[tr], np.array(varall)[tr])\n",
    "            pd.DataFrame(map).to_csv(dirout + \"_\".join(map_name) + \".tsv\", header = None, index = None)\n",
    "            pd.DataFrame(lambdas).to_csv(dirout + \"_\".join(lda_name) + \".tsv\", header = None, index = None)"
   ]
  },
  {
   "cell_type": "code",
   "execution_count": null,
   "metadata": {},
   "outputs": [],
   "source": [
    "varall = 0*np.ones(G)\n",
    "\n",
    "f = 'f'\n",
    "train = 'tr_mut'\n",
    "scheme = 'mut'\n",
    "\n",
    "\n",
    "for i in range(3):\n",
    "    for j in range(3):\n",
    "        response_name = [fl_name, f, str(i + 1)]\n",
    "        tr_name = [train, str(j + 1)]\n",
    "        map_name = [fl_name, scheme, \"vc\", str(i + 1), str(j + 1)]\n",
    "        lda_name = [fl_name, scheme, \"lda\", str(i + 1), str(j + 1)]\n",
    "        response = pd.read_csv(dirin + \"_\".join(response_name) + \".tsv\", header = None)\n",
    "        response = response.to_numpy()\n",
    "        response = response.squeeze()\n",
    "        print(\"working on sample \" + str(i+1) + \",\" + str(j+1))\n",
    "        tr = pd.read_csv(dirin + \"_\".join(tr_name) + \".tsv\", header = None)\n",
    "        tr = np.array(tr).flatten()\n",
    "        tr -= 1\n",
    "        lambdas,map = vc.compute_posterior_mean_ex(\n",
    "                np.array(seqs)[tr], np.array(response)[tr], np.array(varall)[tr])\n",
    "\n",
    "        pd.DataFrame(map).to_csv(dirout + \"_\".join(map_name) + \".tsv\", header = None, index = None)\n",
    "        pd.DataFrame(lambdas).to_csv(dirout + \"_\".join(lda_name) + \".tsv\", header = None, index = None)"
   ]
  },
  {
   "cell_type": "code",
   "execution_count": null,
   "metadata": {},
   "outputs": [],
   "source": []
  }
 ],
 "metadata": {
  "kernelspec": {
   "display_name": "Python 3",
   "language": "python",
   "name": "python3"
  },
  "language_info": {
   "codemirror_mode": {
    "name": "ipython",
    "version": 3
   },
   "file_extension": ".py",
   "mimetype": "text/x-python",
   "name": "python",
   "nbconvert_exporter": "python",
   "pygments_lexer": "ipython3",
   "version": "3.8.6"
  }
 },
 "nbformat": 4,
 "nbformat_minor": 4
}
