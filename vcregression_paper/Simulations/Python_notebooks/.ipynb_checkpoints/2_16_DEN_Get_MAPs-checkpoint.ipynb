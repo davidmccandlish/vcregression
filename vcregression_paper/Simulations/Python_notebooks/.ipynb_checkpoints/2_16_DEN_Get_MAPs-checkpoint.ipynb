{
 "cells": [
  {
   "cell_type": "code",
   "execution_count": 1,
   "metadata": {},
   "outputs": [
    {
     "name": "stdout",
     "output_type": "stream",
     "text": [
      "Loading L_sparse ...\n",
      "0.05 sec\n"
     ]
    }
   ],
   "source": [
    "fl_name = \"2_16_DEN\"\n",
    "alpha, l = 2, 16 \n",
    "\n",
    "import os\n",
    "\n",
    "os.chdir(\"/Users/keitokiddo/VC_revision/Simulations/\" + fl_name)\n",
    "import scipy as sp\n",
    "import sys\n",
    "sys.path.insert(1, '/Users/keitokiddo/git/vcregression/vcregression')\n",
    "\n",
    "import vc_regression as vc\n",
    "import itertools\n",
    "import os\n",
    "import csv\n",
    "import pandas as pd\n",
    "import numpy as np\n",
    "import arrow\n",
    "import scipy as sp\n",
    "\n",
    "#define sequence space parameters\n",
    "\n",
    "G = alpha**l\n",
    "bases = np.array(range(alpha))\n",
    "seqs = list(itertools.product(bases, repeat=l)) #generate all possible sequences\n",
    "\n",
    "dirin = \"data/\"\n",
    "dirout = \"out/\"\n",
    "vc.preliminary_preparation(alpha, l)\n"
   ]
  },
  {
   "cell_type": "code",
   "execution_count": null,
   "metadata": {},
   "outputs": [
    {
     "name": "stdout",
     "output_type": "stream",
     "text": [
      "working on sample 1,8\n"
     ]
    },
    {
     "name": "stderr",
     "output_type": "stream",
     "text": [
      " 10%|█         | 1/10 [00:03<00:32,  3.59s/it]/Users/keitokiddo/git/vcregression/vcregression/vc_regression.py:557: RuntimeWarning: overflow encountered in exp\n",
      "  rho_d_fit = np.matmul(np.exp(theta), W_kd)\n",
      "/Users/keitokiddo/git/vcregression/vcregression/vc_regression.py:561: RuntimeWarning: overflow encountered in multiply\n",
      "  frob_loss = (1/N_pairs)*np.sum(N_d*(rho_d_fit - rho_d)**2)\n",
      "/Library/Frameworks/Python.framework/Versions/3.8/lib/python3.8/site-packages/numpy/core/fromnumeric.py:87: RuntimeWarning: overflow encountered in reduce\n",
      "  return ufunc.reduce(obj, axis, dtype, out, **passkwargs)\n",
      "/Users/keitokiddo/git/vcregression/vcregression/vc_regression.py:561: RuntimeWarning: overflow encountered in square\n",
      "  frob_loss = (1/N_pairs)*np.sum(N_d*(rho_d_fit - rho_d)**2)\n",
      "/Library/Frameworks/Python.framework/Versions/3.8/lib/python3.8/site-packages/scipy/optimize/optimize.py:2116: RuntimeWarning: invalid value encountered in double_scalars\n",
      "  tmp2 = (x - v) * (fx - fw)\n",
      "/Library/Frameworks/Python.framework/Versions/3.8/lib/python3.8/site-packages/scipy/optimize/optimize.py:2117: RuntimeWarning: invalid value encountered in double_scalars\n",
      "  p = (x - v) * tmp2 - (x - w) * tmp1\n",
      "/Library/Frameworks/Python.framework/Versions/3.8/lib/python3.8/site-packages/scipy/optimize/optimize.py:2118: RuntimeWarning: invalid value encountered in double_scalars\n",
      "  tmp2 = 2.0 * (tmp2 - tmp1)\n",
      "100%|██████████| 10/10 [00:36<00:00,  3.70s/it]\n"
     ]
    }
   ],
   "source": [
    "varall = 0*np.ones(G)\n",
    "\n",
    "f = 'f'\n",
    "train = 'tr'\n",
    "scheme = 'random'\n",
    "\n",
    "\n",
    "for i in range(1):\n",
    "    for j in range(7,8):\n",
    "        name = [fl_name, f, str(i + 1)]\n",
    "        tr_name = [train, str(j + 1)]\n",
    "        map_name = [fl_name, scheme, \"vc\", str(i + 1), str(j + 1)]\n",
    "        lda_name = [fl_name, scheme, \"lda\", str(i + 1), str(j + 1)]\n",
    "        response = pd.read_csv(dirin + \"_\".join(name) + \".tsv\", header = None)\n",
    "        response = response.to_numpy()\n",
    "        response = response.squeeze()\n",
    "        print(\"working on sample \" + str(i+1) + \",\" + str(j+1))\n",
    "        tr = pd.read_csv(dirin + \"_\".join(tr_name) + \".tsv\", header = None)\n",
    "        tr = np.array(tr).flatten()\n",
    "        tr -= 1\n",
    "        lambdas,map = vc.compute_posterior_mean_ex(np.array(seqs)[tr], \n",
    "                                                   np.array(response)[tr], np.array(varall)[tr])\n",
    "        pd.DataFrame(map).to_csv(dirout + \"_\".join(map_name) + \".tsv\", header = None, index = None)\n",
    "        pd.DataFrame(lambdas).to_csv(dirout + \"_\".join(lda_name) + \".tsv\", header = None, index = None)"
   ]
  },
  {
   "cell_type": "code",
   "execution_count": 48,
   "metadata": {},
   "outputs": [
    {
     "name": "stdout",
     "output_type": "stream",
     "text": [
      "working on sample 1,0.2,1\n"
     ]
    },
    {
     "name": "stderr",
     "output_type": "stream",
     "text": [
      " 20%|██        | 2/10 [00:09<00:37,  4.74s/it]/Users/keitokiddo/git/vcregression/vcregression/vc_regression.py:561: RuntimeWarning: overflow encountered in square\n",
      "  frob_loss = (1/N_pairs)*np.sum(N_d*(rho_d_fit - rho_d)**2)\n",
      "/Users/keitokiddo/git/vcregression/vcregression/vc_regression.py:557: RuntimeWarning: overflow encountered in exp\n",
      "  rho_d_fit = np.matmul(np.exp(theta), W_kd)\n",
      "/Library/Frameworks/Python.framework/Versions/3.8/lib/python3.8/site-packages/scipy/optimize/optimize.py:2116: RuntimeWarning: invalid value encountered in double_scalars\n",
      "  tmp2 = (x - v) * (fx - fw)\n",
      "/Users/keitokiddo/git/vcregression/vcregression/vc_regression.py:561: RuntimeWarning: overflow encountered in multiply\n",
      "  frob_loss = (1/N_pairs)*np.sum(N_d*(rho_d_fit - rho_d)**2)\n",
      "100%|██████████| 10/10 [00:48<00:00,  4.84s/it]\n"
     ]
    },
    {
     "name": "stdout",
     "output_type": "stream",
     "text": [
      "working on sample 1,0.2,2\n"
     ]
    },
    {
     "name": "stderr",
     "output_type": "stream",
     "text": [
      "  0%|          | 0/10 [00:00<?, ?it/s]/Users/keitokiddo/git/vcregression/vcregression/vc_regression.py:557: RuntimeWarning: overflow encountered in exp\n",
      "  rho_d_fit = np.matmul(np.exp(theta), W_kd)\n",
      "/Users/keitokiddo/git/vcregression/vcregression/vc_regression.py:561: RuntimeWarning: overflow encountered in square\n",
      "  frob_loss = (1/N_pairs)*np.sum(N_d*(rho_d_fit - rho_d)**2)\n",
      "/Library/Frameworks/Python.framework/Versions/3.8/lib/python3.8/site-packages/scipy/optimize/optimize.py:2116: RuntimeWarning: invalid value encountered in double_scalars\n",
      "  tmp2 = (x - v) * (fx - fw)\n",
      "/Users/keitokiddo/git/vcregression/vcregression/vc_regression.py:561: RuntimeWarning: overflow encountered in multiply\n",
      "  frob_loss = (1/N_pairs)*np.sum(N_d*(rho_d_fit - rho_d)**2)\n",
      "/Library/Frameworks/Python.framework/Versions/3.8/lib/python3.8/site-packages/numpy/core/fromnumeric.py:87: RuntimeWarning: overflow encountered in reduce\n",
      "  return ufunc.reduce(obj, axis, dtype, out, **passkwargs)\n",
      "100%|██████████| 10/10 [00:40<00:00,  4.07s/it]\n"
     ]
    },
    {
     "name": "stdout",
     "output_type": "stream",
     "text": [
      "working on sample 1,0.2,3\n"
     ]
    },
    {
     "name": "stderr",
     "output_type": "stream",
     "text": [
      "  0%|          | 0/10 [00:00<?, ?it/s]/Users/keitokiddo/git/vcregression/vcregression/vc_regression.py:561: RuntimeWarning: overflow encountered in square\n",
      "  frob_loss = (1/N_pairs)*np.sum(N_d*(rho_d_fit - rho_d)**2)\n",
      "/Users/keitokiddo/git/vcregression/vcregression/vc_regression.py:557: RuntimeWarning: overflow encountered in exp\n",
      "  rho_d_fit = np.matmul(np.exp(theta), W_kd)\n",
      " 10%|█         | 1/10 [00:03<00:35,  3.94s/it]/Users/keitokiddo/git/vcregression/vcregression/vc_regression.py:561: RuntimeWarning: overflow encountered in multiply\n",
      "  frob_loss = (1/N_pairs)*np.sum(N_d*(rho_d_fit - rho_d)**2)\n",
      "/Library/Frameworks/Python.framework/Versions/3.8/lib/python3.8/site-packages/numpy/core/fromnumeric.py:87: RuntimeWarning: overflow encountered in reduce\n",
      "  return ufunc.reduce(obj, axis, dtype, out, **passkwargs)\n",
      " 40%|████      | 4/10 [00:15<00:23,  3.85s/it]/Library/Frameworks/Python.framework/Versions/3.8/lib/python3.8/site-packages/scipy/optimize/optimize.py:2116: RuntimeWarning: invalid value encountered in double_scalars\n",
      "  tmp2 = (x - v) * (fx - fw)\n",
      "100%|██████████| 10/10 [00:37<00:00,  3.77s/it]\n"
     ]
    },
    {
     "name": "stdout",
     "output_type": "stream",
     "text": [
      "working on sample 1,0.2,4\n"
     ]
    },
    {
     "name": "stderr",
     "output_type": "stream",
     "text": [
      " 40%|████      | 4/10 [00:14<00:22,  3.74s/it]/Users/keitokiddo/git/vcregression/vcregression/vc_regression.py:557: RuntimeWarning: overflow encountered in exp\n",
      "  rho_d_fit = np.matmul(np.exp(theta), W_kd)\n",
      "/Users/keitokiddo/git/vcregression/vcregression/vc_regression.py:561: RuntimeWarning: overflow encountered in square\n",
      "  frob_loss = (1/N_pairs)*np.sum(N_d*(rho_d_fit - rho_d)**2)\n",
      "/Library/Frameworks/Python.framework/Versions/3.8/lib/python3.8/site-packages/scipy/optimize/optimize.py:2116: RuntimeWarning: invalid value encountered in double_scalars\n",
      "  tmp2 = (x - v) * (fx - fw)\n",
      "/Users/keitokiddo/git/vcregression/vcregression/vc_regression.py:561: RuntimeWarning: overflow encountered in multiply\n",
      "  frob_loss = (1/N_pairs)*np.sum(N_d*(rho_d_fit - rho_d)**2)\n",
      "100%|██████████| 10/10 [00:37<00:00,  3.74s/it]\n"
     ]
    },
    {
     "name": "stdout",
     "output_type": "stream",
     "text": [
      "working on sample 1,0.2,5\n"
     ]
    },
    {
     "name": "stderr",
     "output_type": "stream",
     "text": [
      "  0%|          | 0/10 [00:00<?, ?it/s]/Users/keitokiddo/git/vcregression/vcregression/vc_regression.py:557: RuntimeWarning: overflow encountered in exp\n",
      "  rho_d_fit = np.matmul(np.exp(theta), W_kd)\n",
      "/Users/keitokiddo/git/vcregression/vcregression/vc_regression.py:561: RuntimeWarning: overflow encountered in square\n",
      "  frob_loss = (1/N_pairs)*np.sum(N_d*(rho_d_fit - rho_d)**2)\n",
      " 70%|███████   | 7/10 [00:30<00:13,  4.42s/it]/Users/keitokiddo/git/vcregression/vcregression/vc_regression.py:561: RuntimeWarning: overflow encountered in multiply\n",
      "  frob_loss = (1/N_pairs)*np.sum(N_d*(rho_d_fit - rho_d)**2)\n",
      " 80%|████████  | 8/10 [00:35<00:09,  4.51s/it]/Library/Frameworks/Python.framework/Versions/3.8/lib/python3.8/site-packages/scipy/optimize/optimize.py:2116: RuntimeWarning: invalid value encountered in double_scalars\n",
      "  tmp2 = (x - v) * (fx - fw)\n",
      "100%|██████████| 10/10 [00:45<00:00,  4.55s/it]\n"
     ]
    },
    {
     "name": "stdout",
     "output_type": "stream",
     "text": [
      "working on sample 1,0.2,6\n"
     ]
    },
    {
     "name": "stderr",
     "output_type": "stream",
     "text": [
      " 10%|█         | 1/10 [00:04<00:38,  4.25s/it]/Users/keitokiddo/git/vcregression/vcregression/vc_regression.py:557: RuntimeWarning: overflow encountered in exp\n",
      "  rho_d_fit = np.matmul(np.exp(theta), W_kd)\n",
      "/Users/keitokiddo/git/vcregression/vcregression/vc_regression.py:561: RuntimeWarning: overflow encountered in square\n",
      "  frob_loss = (1/N_pairs)*np.sum(N_d*(rho_d_fit - rho_d)**2)\n",
      "/Users/keitokiddo/git/vcregression/vcregression/vc_regression.py:561: RuntimeWarning: overflow encountered in multiply\n",
      "  frob_loss = (1/N_pairs)*np.sum(N_d*(rho_d_fit - rho_d)**2)\n",
      " 20%|██        | 2/10 [00:08<00:34,  4.27s/it]/Library/Frameworks/Python.framework/Versions/3.8/lib/python3.8/site-packages/scipy/optimize/optimize.py:2116: RuntimeWarning: invalid value encountered in double_scalars\n",
      "  tmp2 = (x - v) * (fx - fw)\n",
      "100%|██████████| 10/10 [00:40<00:00,  4.01s/it]\n"
     ]
    },
    {
     "name": "stdout",
     "output_type": "stream",
     "text": [
      "working on sample 1,0.2,7\n"
     ]
    },
    {
     "name": "stderr",
     "output_type": "stream",
     "text": [
      " 30%|███       | 3/10 [00:10<00:24,  3.55s/it]/Users/keitokiddo/git/vcregression/vcregression/vc_regression.py:557: RuntimeWarning: overflow encountered in exp\n",
      "  rho_d_fit = np.matmul(np.exp(theta), W_kd)\n",
      "/Users/keitokiddo/git/vcregression/vcregression/vc_regression.py:561: RuntimeWarning: overflow encountered in square\n",
      "  frob_loss = (1/N_pairs)*np.sum(N_d*(rho_d_fit - rho_d)**2)\n",
      "/Library/Frameworks/Python.framework/Versions/3.8/lib/python3.8/site-packages/scipy/optimize/optimize.py:2116: RuntimeWarning: invalid value encountered in double_scalars\n",
      "  tmp2 = (x - v) * (fx - fw)\n",
      "/Users/keitokiddo/git/vcregression/vcregression/vc_regression.py:561: RuntimeWarning: overflow encountered in multiply\n",
      "  frob_loss = (1/N_pairs)*np.sum(N_d*(rho_d_fit - rho_d)**2)\n",
      "100%|██████████| 10/10 [00:37<00:00,  3.71s/it]\n"
     ]
    },
    {
     "name": "stdout",
     "output_type": "stream",
     "text": [
      "working on sample 1,0.2,8\n"
     ]
    },
    {
     "name": "stderr",
     "output_type": "stream",
     "text": [
      "  0%|          | 0/10 [00:00<?, ?it/s]/Users/keitokiddo/git/vcregression/vcregression/vc_regression.py:561: RuntimeWarning: overflow encountered in square\n",
      "  frob_loss = (1/N_pairs)*np.sum(N_d*(rho_d_fit - rho_d)**2)\n",
      "/Users/keitokiddo/git/vcregression/vcregression/vc_regression.py:557: RuntimeWarning: overflow encountered in exp\n",
      "  rho_d_fit = np.matmul(np.exp(theta), W_kd)\n",
      "/Users/keitokiddo/git/vcregression/vcregression/vc_regression.py:561: RuntimeWarning: overflow encountered in multiply\n",
      "  frob_loss = (1/N_pairs)*np.sum(N_d*(rho_d_fit - rho_d)**2)\n",
      " 30%|███       | 3/10 [00:11<00:27,  3.91s/it]/Library/Frameworks/Python.framework/Versions/3.8/lib/python3.8/site-packages/scipy/optimize/optimize.py:2116: RuntimeWarning: invalid value encountered in double_scalars\n",
      "  tmp2 = (x - v) * (fx - fw)\n",
      " 60%|██████    | 6/10 [00:23<00:15,  3.81s/it]/Library/Frameworks/Python.framework/Versions/3.8/lib/python3.8/site-packages/numpy/core/fromnumeric.py:87: RuntimeWarning: overflow encountered in reduce\n",
      "  return ufunc.reduce(obj, axis, dtype, out, **passkwargs)\n",
      "100%|██████████| 10/10 [00:38<00:00,  3.85s/it]\n",
      "/Library/Frameworks/Python.framework/Versions/3.8/lib/python3.8/site-packages/scipy/optimize/optimize.py:2117: RuntimeWarning: invalid value encountered in double_scalars\n",
      "  p = (x - v) * tmp2 - (x - w) * tmp1\n",
      "/Library/Frameworks/Python.framework/Versions/3.8/lib/python3.8/site-packages/scipy/optimize/optimize.py:2118: RuntimeWarning: invalid value encountered in double_scalars\n",
      "  tmp2 = 2.0 * (tmp2 - tmp1)\n"
     ]
    },
    {
     "name": "stdout",
     "output_type": "stream",
     "text": [
      "working on sample 1,0.2,9\n"
     ]
    },
    {
     "name": "stderr",
     "output_type": "stream",
     "text": [
      " 10%|█         | 1/10 [00:03<00:34,  3.79s/it]/Users/keitokiddo/git/vcregression/vcregression/vc_regression.py:557: RuntimeWarning: overflow encountered in exp\n",
      "  rho_d_fit = np.matmul(np.exp(theta), W_kd)\n",
      "/Users/keitokiddo/git/vcregression/vcregression/vc_regression.py:561: RuntimeWarning: overflow encountered in square\n",
      "  frob_loss = (1/N_pairs)*np.sum(N_d*(rho_d_fit - rho_d)**2)\n",
      "/Users/keitokiddo/git/vcregression/vcregression/vc_regression.py:561: RuntimeWarning: overflow encountered in multiply\n",
      "  frob_loss = (1/N_pairs)*np.sum(N_d*(rho_d_fit - rho_d)**2)\n",
      " 60%|██████    | 6/10 [00:23<00:16,  4.03s/it]/Library/Frameworks/Python.framework/Versions/3.8/lib/python3.8/site-packages/scipy/optimize/optimize.py:2116: RuntimeWarning: invalid value encountered in double_scalars\n",
      "  tmp2 = (x - v) * (fx - fw)\n",
      "100%|██████████| 10/10 [00:39<00:00,  3.98s/it]\n"
     ]
    },
    {
     "name": "stdout",
     "output_type": "stream",
     "text": [
      "working on sample 1,0.2,10\n"
     ]
    },
    {
     "name": "stderr",
     "output_type": "stream",
     "text": [
      "  0%|          | 0/10 [00:00<?, ?it/s]/Users/keitokiddo/git/vcregression/vcregression/vc_regression.py:557: RuntimeWarning: overflow encountered in exp\n",
      "  rho_d_fit = np.matmul(np.exp(theta), W_kd)\n",
      "/Users/keitokiddo/git/vcregression/vcregression/vc_regression.py:561: RuntimeWarning: overflow encountered in square\n",
      "  frob_loss = (1/N_pairs)*np.sum(N_d*(rho_d_fit - rho_d)**2)\n",
      "/Library/Frameworks/Python.framework/Versions/3.8/lib/python3.8/site-packages/scipy/optimize/optimize.py:2116: RuntimeWarning: invalid value encountered in double_scalars\n",
      "  tmp2 = (x - v) * (fx - fw)\n",
      " 10%|█         | 1/10 [00:04<00:36,  4.05s/it]/Users/keitokiddo/git/vcregression/vcregression/vc_regression.py:561: RuntimeWarning: overflow encountered in multiply\n",
      "  frob_loss = (1/N_pairs)*np.sum(N_d*(rho_d_fit - rho_d)**2)\n",
      " 50%|█████     | 5/10 [00:20<00:19,  3.98s/it]/Library/Frameworks/Python.framework/Versions/3.8/lib/python3.8/site-packages/numpy/core/fromnumeric.py:87: RuntimeWarning: overflow encountered in reduce\n",
      "  return ufunc.reduce(obj, axis, dtype, out, **passkwargs)\n",
      "100%|██████████| 10/10 [00:39<00:00,  3.96s/it]\n"
     ]
    },
    {
     "name": "stdout",
     "output_type": "stream",
     "text": [
      "working on sample 1,0.2,11\n"
     ]
    },
    {
     "name": "stderr",
     "output_type": "stream",
     "text": [
      " 30%|███       | 3/10 [00:11<00:26,  3.84s/it]/Users/keitokiddo/git/vcregression/vcregression/vc_regression.py:557: RuntimeWarning: overflow encountered in exp\n",
      "  rho_d_fit = np.matmul(np.exp(theta), W_kd)\n",
      "/Users/keitokiddo/git/vcregression/vcregression/vc_regression.py:561: RuntimeWarning: overflow encountered in square\n",
      "  frob_loss = (1/N_pairs)*np.sum(N_d*(rho_d_fit - rho_d)**2)\n",
      "/Library/Frameworks/Python.framework/Versions/3.8/lib/python3.8/site-packages/scipy/optimize/optimize.py:2116: RuntimeWarning: invalid value encountered in double_scalars\n",
      "  tmp2 = (x - v) * (fx - fw)\n",
      " 60%|██████    | 6/10 [00:23<00:15,  3.85s/it]/Users/keitokiddo/git/vcregression/vcregression/vc_regression.py:561: RuntimeWarning: overflow encountered in multiply\n",
      "  frob_loss = (1/N_pairs)*np.sum(N_d*(rho_d_fit - rho_d)**2)\n",
      "100%|██████████| 10/10 [00:39<00:00,  3.95s/it]\n"
     ]
    },
    {
     "name": "stdout",
     "output_type": "stream",
     "text": [
      "working on sample 1,0.2,12\n"
     ]
    },
    {
     "name": "stderr",
     "output_type": "stream",
     "text": [
      "  0%|          | 0/10 [00:00<?, ?it/s]/Users/keitokiddo/git/vcregression/vcregression/vc_regression.py:561: RuntimeWarning: overflow encountered in square\n",
      "  frob_loss = (1/N_pairs)*np.sum(N_d*(rho_d_fit - rho_d)**2)\n",
      "/Users/keitokiddo/git/vcregression/vcregression/vc_regression.py:557: RuntimeWarning: overflow encountered in exp\n",
      "  rho_d_fit = np.matmul(np.exp(theta), W_kd)\n",
      " 20%|██        | 2/10 [00:07<00:30,  3.83s/it]/Library/Frameworks/Python.framework/Versions/3.8/lib/python3.8/site-packages/scipy/optimize/optimize.py:2116: RuntimeWarning: invalid value encountered in double_scalars\n",
      "  tmp2 = (x - v) * (fx - fw)\n",
      "/Library/Frameworks/Python.framework/Versions/3.8/lib/python3.8/site-packages/numpy/core/fromnumeric.py:87: RuntimeWarning: overflow encountered in reduce\n",
      "  return ufunc.reduce(obj, axis, dtype, out, **passkwargs)\n",
      "/Users/keitokiddo/git/vcregression/vcregression/vc_regression.py:561: RuntimeWarning: overflow encountered in multiply\n",
      "  frob_loss = (1/N_pairs)*np.sum(N_d*(rho_d_fit - rho_d)**2)\n",
      "100%|██████████| 10/10 [00:39<00:00,  3.96s/it]\n"
     ]
    },
    {
     "name": "stdout",
     "output_type": "stream",
     "text": [
      "working on sample 1,0.2,13\n"
     ]
    },
    {
     "name": "stderr",
     "output_type": "stream",
     "text": [
      " 10%|█         | 1/10 [00:04<00:37,  4.22s/it]/Users/keitokiddo/git/vcregression/vcregression/vc_regression.py:557: RuntimeWarning: overflow encountered in exp\n",
      "  rho_d_fit = np.matmul(np.exp(theta), W_kd)\n",
      "/Users/keitokiddo/git/vcregression/vcregression/vc_regression.py:561: RuntimeWarning: overflow encountered in square\n",
      "  frob_loss = (1/N_pairs)*np.sum(N_d*(rho_d_fit - rho_d)**2)\n",
      "/Library/Frameworks/Python.framework/Versions/3.8/lib/python3.8/site-packages/scipy/optimize/optimize.py:2116: RuntimeWarning: invalid value encountered in double_scalars\n",
      "  tmp2 = (x - v) * (fx - fw)\n",
      "/Users/keitokiddo/git/vcregression/vcregression/vc_regression.py:561: RuntimeWarning: overflow encountered in multiply\n",
      "  frob_loss = (1/N_pairs)*np.sum(N_d*(rho_d_fit - rho_d)**2)\n",
      "100%|██████████| 10/10 [00:39<00:00,  3.94s/it]\n"
     ]
    },
    {
     "name": "stdout",
     "output_type": "stream",
     "text": [
      "working on sample 2,0.2,1\n"
     ]
    },
    {
     "name": "stderr",
     "output_type": "stream",
     "text": [
      " 40%|████      | 4/10 [00:20<00:30,  5.10s/it]/Users/keitokiddo/git/vcregression/vcregression/vc_regression.py:557: RuntimeWarning: overflow encountered in exp\n",
      "  rho_d_fit = np.matmul(np.exp(theta), W_kd)\n",
      "/Library/Frameworks/Python.framework/Versions/3.8/lib/python3.8/site-packages/scipy/optimize/optimize.py:2116: RuntimeWarning: invalid value encountered in double_scalars\n",
      "  tmp2 = (x - v) * (fx - fw)\n",
      "/Users/keitokiddo/git/vcregression/vcregression/vc_regression.py:561: RuntimeWarning: overflow encountered in square\n",
      "  frob_loss = (1/N_pairs)*np.sum(N_d*(rho_d_fit - rho_d)**2)\n",
      "/Library/Frameworks/Python.framework/Versions/3.8/lib/python3.8/site-packages/scipy/optimize/optimize.py:2117: RuntimeWarning: invalid value encountered in double_scalars\n",
      "  p = (x - v) * tmp2 - (x - w) * tmp1\n",
      "/Library/Frameworks/Python.framework/Versions/3.8/lib/python3.8/site-packages/scipy/optimize/optimize.py:2118: RuntimeWarning: invalid value encountered in double_scalars\n",
      "  tmp2 = 2.0 * (tmp2 - tmp1)\n",
      "100%|██████████| 10/10 [00:47<00:00,  4.75s/it]\n"
     ]
    },
    {
     "name": "stdout",
     "output_type": "stream",
     "text": [
      "working on sample 2,0.2,2\n"
     ]
    },
    {
     "name": "stderr",
     "output_type": "stream",
     "text": [
      "  0%|          | 0/10 [00:00<?, ?it/s]/Users/keitokiddo/git/vcregression/vcregression/vc_regression.py:557: RuntimeWarning: overflow encountered in exp\n",
      "  rho_d_fit = np.matmul(np.exp(theta), W_kd)\n",
      "/Users/keitokiddo/git/vcregression/vcregression/vc_regression.py:561: RuntimeWarning: overflow encountered in square\n",
      "  frob_loss = (1/N_pairs)*np.sum(N_d*(rho_d_fit - rho_d)**2)\n",
      "/Library/Frameworks/Python.framework/Versions/3.8/lib/python3.8/site-packages/scipy/optimize/optimize.py:2116: RuntimeWarning: invalid value encountered in double_scalars\n",
      "  tmp2 = (x - v) * (fx - fw)\n",
      " 10%|█         | 1/10 [00:04<00:37,  4.18s/it]/Users/keitokiddo/git/vcregression/vcregression/vc_regression.py:561: RuntimeWarning: overflow encountered in multiply\n",
      "  frob_loss = (1/N_pairs)*np.sum(N_d*(rho_d_fit - rho_d)**2)\n",
      "/Library/Frameworks/Python.framework/Versions/3.8/lib/python3.8/site-packages/numpy/core/fromnumeric.py:87: RuntimeWarning: overflow encountered in reduce\n",
      "  return ufunc.reduce(obj, axis, dtype, out, **passkwargs)\n",
      "100%|██████████| 10/10 [00:39<00:00,  3.91s/it]\n"
     ]
    },
    {
     "name": "stdout",
     "output_type": "stream",
     "text": [
      "working on sample 2,0.2,3\n"
     ]
    },
    {
     "name": "stderr",
     "output_type": "stream",
     "text": [
      "  0%|          | 0/10 [00:00<?, ?it/s]/Users/keitokiddo/git/vcregression/vcregression/vc_regression.py:561: RuntimeWarning: overflow encountered in square\n",
      "  frob_loss = (1/N_pairs)*np.sum(N_d*(rho_d_fit - rho_d)**2)\n",
      " 10%|█         | 1/10 [00:03<00:33,  3.68s/it]/Users/keitokiddo/git/vcregression/vcregression/vc_regression.py:557: RuntimeWarning: overflow encountered in exp\n",
      "  rho_d_fit = np.matmul(np.exp(theta), W_kd)\n",
      "/Library/Frameworks/Python.framework/Versions/3.8/lib/python3.8/site-packages/scipy/optimize/optimize.py:2116: RuntimeWarning: invalid value encountered in double_scalars\n",
      "  tmp2 = (x - v) * (fx - fw)\n",
      " 20%|██        | 2/10 [00:07<00:29,  3.69s/it]/Library/Frameworks/Python.framework/Versions/3.8/lib/python3.8/site-packages/scipy/optimize/optimize.py:2117: RuntimeWarning: invalid value encountered in double_scalars\n",
      "  p = (x - v) * tmp2 - (x - w) * tmp1\n",
      "/Library/Frameworks/Python.framework/Versions/3.8/lib/python3.8/site-packages/scipy/optimize/optimize.py:2118: RuntimeWarning: invalid value encountered in double_scalars\n",
      "  tmp2 = 2.0 * (tmp2 - tmp1)\n",
      " 30%|███       | 3/10 [00:11<00:27,  3.88s/it]/Users/keitokiddo/git/vcregression/vcregression/vc_regression.py:561: RuntimeWarning: overflow encountered in multiply\n",
      "  frob_loss = (1/N_pairs)*np.sum(N_d*(rho_d_fit - rho_d)**2)\n",
      " 40%|████      | 4/10 [00:15<00:23,  3.86s/it]/Library/Frameworks/Python.framework/Versions/3.8/lib/python3.8/site-packages/numpy/core/fromnumeric.py:87: RuntimeWarning: overflow encountered in reduce\n",
      "  return ufunc.reduce(obj, axis, dtype, out, **passkwargs)\n",
      "100%|██████████| 10/10 [00:37<00:00,  3.76s/it]\n"
     ]
    },
    {
     "name": "stdout",
     "output_type": "stream",
     "text": [
      "working on sample 2,0.2,4\n"
     ]
    },
    {
     "name": "stderr",
     "output_type": "stream",
     "text": [
      " 30%|███       | 3/10 [00:11<00:27,  3.87s/it]/Users/keitokiddo/git/vcregression/vcregression/vc_regression.py:557: RuntimeWarning: overflow encountered in exp\n",
      "  rho_d_fit = np.matmul(np.exp(theta), W_kd)\n",
      "/Library/Frameworks/Python.framework/Versions/3.8/lib/python3.8/site-packages/scipy/optimize/optimize.py:2116: RuntimeWarning: invalid value encountered in double_scalars\n",
      "  tmp2 = (x - v) * (fx - fw)\n",
      "/Users/keitokiddo/git/vcregression/vcregression/vc_regression.py:561: RuntimeWarning: overflow encountered in square\n",
      "  frob_loss = (1/N_pairs)*np.sum(N_d*(rho_d_fit - rho_d)**2)\n",
      "/Users/keitokiddo/git/vcregression/vcregression/vc_regression.py:561: RuntimeWarning: overflow encountered in multiply\n",
      "  frob_loss = (1/N_pairs)*np.sum(N_d*(rho_d_fit - rho_d)**2)\n",
      "100%|██████████| 10/10 [00:38<00:00,  3.83s/it]\n"
     ]
    },
    {
     "name": "stdout",
     "output_type": "stream",
     "text": [
      "working on sample 2,0.2,5\n"
     ]
    },
    {
     "name": "stderr",
     "output_type": "stream",
     "text": [
      "  0%|          | 0/10 [00:00<?, ?it/s]/Users/keitokiddo/git/vcregression/vcregression/vc_regression.py:557: RuntimeWarning: overflow encountered in exp\n",
      "  rho_d_fit = np.matmul(np.exp(theta), W_kd)\n",
      "/Users/keitokiddo/git/vcregression/vcregression/vc_regression.py:561: RuntimeWarning: overflow encountered in square\n",
      "  frob_loss = (1/N_pairs)*np.sum(N_d*(rho_d_fit - rho_d)**2)\n",
      "/Library/Frameworks/Python.framework/Versions/3.8/lib/python3.8/site-packages/scipy/optimize/optimize.py:2116: RuntimeWarning: invalid value encountered in double_scalars\n",
      "  tmp2 = (x - v) * (fx - fw)\n",
      "/Users/keitokiddo/git/vcregression/vcregression/vc_regression.py:561: RuntimeWarning: overflow encountered in multiply\n",
      "  frob_loss = (1/N_pairs)*np.sum(N_d*(rho_d_fit - rho_d)**2)\n",
      "/Library/Frameworks/Python.framework/Versions/3.8/lib/python3.8/site-packages/numpy/core/fromnumeric.py:87: RuntimeWarning: overflow encountered in reduce\n",
      "  return ufunc.reduce(obj, axis, dtype, out, **passkwargs)\n",
      "100%|██████████| 10/10 [00:37<00:00,  3.77s/it]\n"
     ]
    },
    {
     "name": "stdout",
     "output_type": "stream",
     "text": [
      "working on sample 2,0.2,6\n"
     ]
    },
    {
     "name": "stderr",
     "output_type": "stream",
     "text": [
      "  0%|          | 0/10 [00:00<?, ?it/s]/Users/keitokiddo/git/vcregression/vcregression/vc_regression.py:561: RuntimeWarning: overflow encountered in square\n",
      "  frob_loss = (1/N_pairs)*np.sum(N_d*(rho_d_fit - rho_d)**2)\n",
      "/Users/keitokiddo/git/vcregression/vcregression/vc_regression.py:557: RuntimeWarning: overflow encountered in exp\n",
      "  rho_d_fit = np.matmul(np.exp(theta), W_kd)\n",
      "/Users/keitokiddo/git/vcregression/vcregression/vc_regression.py:561: RuntimeWarning: overflow encountered in multiply\n",
      "  frob_loss = (1/N_pairs)*np.sum(N_d*(rho_d_fit - rho_d)**2)\n",
      " 40%|████      | 4/10 [00:14<00:22,  3.68s/it]/Library/Frameworks/Python.framework/Versions/3.8/lib/python3.8/site-packages/numpy/core/fromnumeric.py:87: RuntimeWarning: overflow encountered in reduce\n",
      "  return ufunc.reduce(obj, axis, dtype, out, **passkwargs)\n",
      "100%|██████████| 10/10 [00:36<00:00,  3.66s/it]\n"
     ]
    },
    {
     "name": "stdout",
     "output_type": "stream",
     "text": [
      "working on sample 2,0.2,7\n"
     ]
    },
    {
     "name": "stderr",
     "output_type": "stream",
     "text": [
      "  0%|          | 0/10 [00:00<?, ?it/s]/Users/keitokiddo/git/vcregression/vcregression/vc_regression.py:561: RuntimeWarning: overflow encountered in square\n",
      "  frob_loss = (1/N_pairs)*np.sum(N_d*(rho_d_fit - rho_d)**2)\n",
      "/Users/keitokiddo/git/vcregression/vcregression/vc_regression.py:557: RuntimeWarning: overflow encountered in exp\n",
      "  rho_d_fit = np.matmul(np.exp(theta), W_kd)\n",
      "/Users/keitokiddo/git/vcregression/vcregression/vc_regression.py:561: RuntimeWarning: overflow encountered in multiply\n",
      "  frob_loss = (1/N_pairs)*np.sum(N_d*(rho_d_fit - rho_d)**2)\n",
      "/Library/Frameworks/Python.framework/Versions/3.8/lib/python3.8/site-packages/scipy/optimize/optimize.py:2116: RuntimeWarning: invalid value encountered in double_scalars\n",
      "  tmp2 = (x - v) * (fx - fw)\n",
      " 30%|███       | 3/10 [00:11<00:26,  3.73s/it]/Library/Frameworks/Python.framework/Versions/3.8/lib/python3.8/site-packages/numpy/core/fromnumeric.py:87: RuntimeWarning: overflow encountered in reduce\n",
      "  return ufunc.reduce(obj, axis, dtype, out, **passkwargs)\n",
      "100%|██████████| 10/10 [00:37<00:00,  3.73s/it]\n"
     ]
    },
    {
     "name": "stdout",
     "output_type": "stream",
     "text": [
      "working on sample 2,0.2,8\n"
     ]
    },
    {
     "name": "stderr",
     "output_type": "stream",
     "text": [
      "  0%|          | 0/10 [00:00<?, ?it/s]/Users/keitokiddo/git/vcregression/vcregression/vc_regression.py:557: RuntimeWarning: overflow encountered in exp\n",
      "  rho_d_fit = np.matmul(np.exp(theta), W_kd)\n",
      "/Users/keitokiddo/git/vcregression/vcregression/vc_regression.py:561: RuntimeWarning: overflow encountered in square\n",
      "  frob_loss = (1/N_pairs)*np.sum(N_d*(rho_d_fit - rho_d)**2)\n",
      "/Library/Frameworks/Python.framework/Versions/3.8/lib/python3.8/site-packages/scipy/optimize/optimize.py:2116: RuntimeWarning: invalid value encountered in double_scalars\n",
      "  tmp2 = (x - v) * (fx - fw)\n",
      "/Users/keitokiddo/git/vcregression/vcregression/vc_regression.py:561: RuntimeWarning: overflow encountered in multiply\n",
      "  frob_loss = (1/N_pairs)*np.sum(N_d*(rho_d_fit - rho_d)**2)\n",
      "100%|██████████| 10/10 [00:38<00:00,  3.85s/it]\n"
     ]
    },
    {
     "name": "stdout",
     "output_type": "stream",
     "text": [
      "working on sample 2,0.2,9\n"
     ]
    },
    {
     "name": "stderr",
     "output_type": "stream",
     "text": [
      "100%|██████████| 10/10 [00:37<00:00,  3.77s/it]\n"
     ]
    },
    {
     "name": "stdout",
     "output_type": "stream",
     "text": [
      "working on sample 2,0.2,10\n"
     ]
    },
    {
     "name": "stderr",
     "output_type": "stream",
     "text": [
      " 30%|███       | 3/10 [00:10<00:25,  3.66s/it]/Users/keitokiddo/git/vcregression/vcregression/vc_regression.py:557: RuntimeWarning: overflow encountered in exp\n",
      "  rho_d_fit = np.matmul(np.exp(theta), W_kd)\n",
      "/Users/keitokiddo/git/vcregression/vcregression/vc_regression.py:561: RuntimeWarning: overflow encountered in square\n",
      "  frob_loss = (1/N_pairs)*np.sum(N_d*(rho_d_fit - rho_d)**2)\n",
      "/Users/keitokiddo/git/vcregression/vcregression/vc_regression.py:561: RuntimeWarning: overflow encountered in multiply\n",
      "  frob_loss = (1/N_pairs)*np.sum(N_d*(rho_d_fit - rho_d)**2)\n",
      "100%|██████████| 10/10 [00:36<00:00,  3.69s/it]\n"
     ]
    },
    {
     "name": "stdout",
     "output_type": "stream",
     "text": [
      "working on sample 2,0.2,11\n"
     ]
    },
    {
     "name": "stderr",
     "output_type": "stream",
     "text": [
      " 80%|████████  | 8/10 [00:29<00:07,  3.65s/it]/Users/keitokiddo/git/vcregression/vcregression/vc_regression.py:557: RuntimeWarning: overflow encountered in exp\n",
      "  rho_d_fit = np.matmul(np.exp(theta), W_kd)\n",
      "/Users/keitokiddo/git/vcregression/vcregression/vc_regression.py:561: RuntimeWarning: overflow encountered in square\n",
      "  frob_loss = (1/N_pairs)*np.sum(N_d*(rho_d_fit - rho_d)**2)\n",
      "/Users/keitokiddo/git/vcregression/vcregression/vc_regression.py:561: RuntimeWarning: overflow encountered in multiply\n",
      "  frob_loss = (1/N_pairs)*np.sum(N_d*(rho_d_fit - rho_d)**2)\n",
      "100%|██████████| 10/10 [00:36<00:00,  3.68s/it]\n"
     ]
    },
    {
     "name": "stdout",
     "output_type": "stream",
     "text": [
      "working on sample 2,0.2,12\n"
     ]
    },
    {
     "name": "stderr",
     "output_type": "stream",
     "text": [
      "100%|██████████| 10/10 [00:36<00:00,  3.64s/it]\n"
     ]
    },
    {
     "name": "stdout",
     "output_type": "stream",
     "text": [
      "working on sample 2,0.2,13\n"
     ]
    },
    {
     "name": "stderr",
     "output_type": "stream",
     "text": [
      " 90%|█████████ | 9/10 [00:33<00:03,  3.69s/it]/Users/keitokiddo/git/vcregression/vcregression/vc_regression.py:561: RuntimeWarning: overflow encountered in square\n",
      "  frob_loss = (1/N_pairs)*np.sum(N_d*(rho_d_fit - rho_d)**2)\n",
      "100%|██████████| 10/10 [00:37<00:00,  3.71s/it]\n"
     ]
    },
    {
     "name": "stdout",
     "output_type": "stream",
     "text": [
      "working on sample 3,0.2,1\n"
     ]
    },
    {
     "name": "stderr",
     "output_type": "stream",
     "text": [
      "  0%|          | 0/10 [00:00<?, ?it/s]/Users/keitokiddo/git/vcregression/vcregression/vc_regression.py:557: RuntimeWarning: overflow encountered in exp\n",
      "  rho_d_fit = np.matmul(np.exp(theta), W_kd)\n",
      "/Library/Frameworks/Python.framework/Versions/3.8/lib/python3.8/site-packages/numpy/core/fromnumeric.py:87: RuntimeWarning: invalid value encountered in reduce\n",
      "  return ufunc.reduce(obj, axis, dtype, out, **passkwargs)\n",
      "/Users/keitokiddo/git/vcregression/vcregression/vc_regression.py:561: RuntimeWarning: overflow encountered in square\n",
      "  frob_loss = (1/N_pairs)*np.sum(N_d*(rho_d_fit - rho_d)**2)\n",
      "/Library/Frameworks/Python.framework/Versions/3.8/lib/python3.8/site-packages/numpy/core/fromnumeric.py:87: RuntimeWarning: overflow encountered in reduce\n",
      "  return ufunc.reduce(obj, axis, dtype, out, **passkwargs)\n",
      "/Users/keitokiddo/git/vcregression/vcregression/vc_regression.py:639: RuntimeWarning: overflow encountered in exp\n",
      "  ldas.append(np.exp(res.x))\n",
      "/Users/keitokiddo/git/vcregression/vcregression/vc_regression.py:717: RuntimeWarning: invalid value encountered in multiply\n",
      "  mses[k] = [np.sum((W_kd.T.dot(ldas[i]) - rhods[k])**2 *\n",
      " 70%|███████   | 7/10 [00:30<00:13,  4.36s/it]/Library/Frameworks/Python.framework/Versions/3.8/lib/python3.8/site-packages/scipy/optimize/optimize.py:2116: RuntimeWarning: invalid value encountered in double_scalars\n",
      "  tmp2 = (x - v) * (fx - fw)\n",
      "100%|██████████| 10/10 [00:43<00:00,  4.32s/it]\n",
      "/Users/keitokiddo/git/vcregression/vcregression/vc_regression.py:561: RuntimeWarning: overflow encountered in multiply\n",
      "  frob_loss = (1/N_pairs)*np.sum(N_d*(rho_d_fit - rho_d)**2)\n"
     ]
    },
    {
     "name": "stdout",
     "output_type": "stream",
     "text": [
      "working on sample 3,0.2,2\n"
     ]
    },
    {
     "name": "stderr",
     "output_type": "stream",
     "text": [
      "  0%|          | 0/10 [00:00<?, ?it/s]/Users/keitokiddo/git/vcregression/vcregression/vc_regression.py:561: RuntimeWarning: overflow encountered in square\n",
      "  frob_loss = (1/N_pairs)*np.sum(N_d*(rho_d_fit - rho_d)**2)\n",
      "/Users/keitokiddo/git/vcregression/vcregression/vc_regression.py:557: RuntimeWarning: overflow encountered in exp\n",
      "  rho_d_fit = np.matmul(np.exp(theta), W_kd)\n",
      " 20%|██        | 2/10 [00:07<00:29,  3.69s/it]/Library/Frameworks/Python.framework/Versions/3.8/lib/python3.8/site-packages/scipy/optimize/optimize.py:2116: RuntimeWarning: invalid value encountered in double_scalars\n",
      "  tmp2 = (x - v) * (fx - fw)\n",
      " 40%|████      | 4/10 [00:15<00:22,  3.78s/it]/Users/keitokiddo/git/vcregression/vcregression/vc_regression.py:561: RuntimeWarning: overflow encountered in multiply\n",
      "  frob_loss = (1/N_pairs)*np.sum(N_d*(rho_d_fit - rho_d)**2)\n",
      "100%|██████████| 10/10 [00:38<00:00,  3.81s/it]\n"
     ]
    },
    {
     "name": "stdout",
     "output_type": "stream",
     "text": [
      "working on sample 3,0.2,3\n"
     ]
    },
    {
     "name": "stderr",
     "output_type": "stream",
     "text": [
      " 10%|█         | 1/10 [00:03<00:32,  3.56s/it]/Users/keitokiddo/git/vcregression/vcregression/vc_regression.py:561: RuntimeWarning: overflow encountered in square\n",
      "  frob_loss = (1/N_pairs)*np.sum(N_d*(rho_d_fit - rho_d)**2)\n",
      "/Users/keitokiddo/git/vcregression/vcregression/vc_regression.py:557: RuntimeWarning: overflow encountered in exp\n",
      "  rho_d_fit = np.matmul(np.exp(theta), W_kd)\n",
      "/Users/keitokiddo/git/vcregression/vcregression/vc_regression.py:561: RuntimeWarning: overflow encountered in multiply\n",
      "  frob_loss = (1/N_pairs)*np.sum(N_d*(rho_d_fit - rho_d)**2)\n",
      " 20%|██        | 2/10 [00:07<00:28,  3.55s/it]/Library/Frameworks/Python.framework/Versions/3.8/lib/python3.8/site-packages/scipy/optimize/optimize.py:2116: RuntimeWarning: invalid value encountered in double_scalars\n",
      "  tmp2 = (x - v) * (fx - fw)\n",
      "/Library/Frameworks/Python.framework/Versions/3.8/lib/python3.8/site-packages/numpy/core/fromnumeric.py:87: RuntimeWarning: overflow encountered in reduce\n",
      "  return ufunc.reduce(obj, axis, dtype, out, **passkwargs)\n",
      "100%|██████████| 10/10 [00:36<00:00,  3.69s/it]\n"
     ]
    },
    {
     "name": "stdout",
     "output_type": "stream",
     "text": [
      "working on sample 3,0.2,4\n"
     ]
    },
    {
     "name": "stderr",
     "output_type": "stream",
     "text": [
      "  0%|          | 0/10 [00:00<?, ?it/s]/Users/keitokiddo/git/vcregression/vcregression/vc_regression.py:557: RuntimeWarning: overflow encountered in exp\n",
      "  rho_d_fit = np.matmul(np.exp(theta), W_kd)\n",
      "/Users/keitokiddo/git/vcregression/vcregression/vc_regression.py:561: RuntimeWarning: overflow encountered in square\n",
      "  frob_loss = (1/N_pairs)*np.sum(N_d*(rho_d_fit - rho_d)**2)\n",
      "/Library/Frameworks/Python.framework/Versions/3.8/lib/python3.8/site-packages/scipy/optimize/optimize.py:2116: RuntimeWarning: invalid value encountered in double_scalars\n",
      "  tmp2 = (x - v) * (fx - fw)\n",
      " 30%|███       | 3/10 [00:11<00:25,  3.65s/it]/Users/keitokiddo/git/vcregression/vcregression/vc_regression.py:561: RuntimeWarning: overflow encountered in multiply\n",
      "  frob_loss = (1/N_pairs)*np.sum(N_d*(rho_d_fit - rho_d)**2)\n",
      "100%|██████████| 10/10 [00:36<00:00,  3.68s/it]\n"
     ]
    },
    {
     "name": "stdout",
     "output_type": "stream",
     "text": [
      "working on sample 3,0.2,5\n"
     ]
    },
    {
     "name": "stderr",
     "output_type": "stream",
     "text": [
      "  0%|          | 0/10 [00:00<?, ?it/s]/Users/keitokiddo/git/vcregression/vcregression/vc_regression.py:557: RuntimeWarning: overflow encountered in exp\n",
      "  rho_d_fit = np.matmul(np.exp(theta), W_kd)\n",
      "/Users/keitokiddo/git/vcregression/vcregression/vc_regression.py:561: RuntimeWarning: overflow encountered in square\n",
      "  frob_loss = (1/N_pairs)*np.sum(N_d*(rho_d_fit - rho_d)**2)\n",
      "/Library/Frameworks/Python.framework/Versions/3.8/lib/python3.8/site-packages/scipy/optimize/optimize.py:2116: RuntimeWarning: invalid value encountered in double_scalars\n",
      "  tmp2 = (x - v) * (fx - fw)\n",
      "/Users/keitokiddo/git/vcregression/vcregression/vc_regression.py:561: RuntimeWarning: overflow encountered in multiply\n",
      "  frob_loss = (1/N_pairs)*np.sum(N_d*(rho_d_fit - rho_d)**2)\n",
      " 90%|█████████ | 9/10 [00:33<00:03,  3.76s/it]/Library/Frameworks/Python.framework/Versions/3.8/lib/python3.8/site-packages/numpy/core/fromnumeric.py:87: RuntimeWarning: overflow encountered in reduce\n",
      "  return ufunc.reduce(obj, axis, dtype, out, **passkwargs)\n",
      "100%|██████████| 10/10 [00:37<00:00,  3.77s/it]\n"
     ]
    },
    {
     "name": "stdout",
     "output_type": "stream",
     "text": [
      "working on sample 3,0.2,6\n"
     ]
    },
    {
     "name": "stderr",
     "output_type": "stream",
     "text": [
      "100%|██████████| 10/10 [00:36<00:00,  3.69s/it]\n"
     ]
    },
    {
     "name": "stdout",
     "output_type": "stream",
     "text": [
      "working on sample 3,0.2,7\n"
     ]
    },
    {
     "name": "stderr",
     "output_type": "stream",
     "text": [
      "  0%|          | 0/10 [00:00<?, ?it/s]/Users/keitokiddo/git/vcregression/vcregression/vc_regression.py:557: RuntimeWarning: overflow encountered in exp\n",
      "  rho_d_fit = np.matmul(np.exp(theta), W_kd)\n",
      "/Users/keitokiddo/git/vcregression/vcregression/vc_regression.py:561: RuntimeWarning: overflow encountered in square\n",
      "  frob_loss = (1/N_pairs)*np.sum(N_d*(rho_d_fit - rho_d)**2)\n",
      "/Library/Frameworks/Python.framework/Versions/3.8/lib/python3.8/site-packages/scipy/optimize/optimize.py:2116: RuntimeWarning: invalid value encountered in double_scalars\n",
      "  tmp2 = (x - v) * (fx - fw)\n",
      "/Users/keitokiddo/git/vcregression/vcregression/vc_regression.py:561: RuntimeWarning: overflow encountered in multiply\n",
      "  frob_loss = (1/N_pairs)*np.sum(N_d*(rho_d_fit - rho_d)**2)\n",
      " 50%|█████     | 5/10 [00:18<00:19,  3.80s/it]/Library/Frameworks/Python.framework/Versions/3.8/lib/python3.8/site-packages/numpy/core/fromnumeric.py:87: RuntimeWarning: overflow encountered in reduce\n",
      "  return ufunc.reduce(obj, axis, dtype, out, **passkwargs)\n",
      "100%|██████████| 10/10 [00:38<00:00,  3.80s/it]\n"
     ]
    },
    {
     "name": "stdout",
     "output_type": "stream",
     "text": [
      "working on sample 3,0.2,8\n"
     ]
    },
    {
     "name": "stderr",
     "output_type": "stream",
     "text": [
      "  0%|          | 0/10 [00:00<?, ?it/s]/Users/keitokiddo/git/vcregression/vcregression/vc_regression.py:561: RuntimeWarning: overflow encountered in square\n",
      "  frob_loss = (1/N_pairs)*np.sum(N_d*(rho_d_fit - rho_d)**2)\n",
      "/Users/keitokiddo/git/vcregression/vcregression/vc_regression.py:557: RuntimeWarning: overflow encountered in exp\n",
      "  rho_d_fit = np.matmul(np.exp(theta), W_kd)\n",
      " 10%|█         | 1/10 [00:03<00:35,  3.93s/it]/Users/keitokiddo/git/vcregression/vcregression/vc_regression.py:561: RuntimeWarning: overflow encountered in multiply\n",
      "  frob_loss = (1/N_pairs)*np.sum(N_d*(rho_d_fit - rho_d)**2)\n",
      "/Library/Frameworks/Python.framework/Versions/3.8/lib/python3.8/site-packages/scipy/optimize/optimize.py:2116: RuntimeWarning: invalid value encountered in double_scalars\n",
      "  tmp2 = (x - v) * (fx - fw)\n",
      " 20%|██        | 2/10 [00:07<00:31,  3.88s/it]/Library/Frameworks/Python.framework/Versions/3.8/lib/python3.8/site-packages/scipy/optimize/optimize.py:2522: RuntimeWarning: invalid value encountered in double_scalars\n",
      "  w = xb - ((xb - xc) * tmp2 - (xb - xa) * tmp1) / denom\n",
      " 30%|███       | 3/10 [00:11<00:26,  3.85s/it]/Library/Frameworks/Python.framework/Versions/3.8/lib/python3.8/site-packages/numpy/core/fromnumeric.py:87: RuntimeWarning: overflow encountered in reduce\n",
      "  return ufunc.reduce(obj, axis, dtype, out, **passkwargs)\n",
      " 50%|█████     | 5/10 [00:19<00:18,  3.77s/it]/Library/Frameworks/Python.framework/Versions/3.8/lib/python3.8/site-packages/scipy/optimize/optimize.py:2117: RuntimeWarning: invalid value encountered in double_scalars\n",
      "  p = (x - v) * tmp2 - (x - w) * tmp1\n",
      "/Library/Frameworks/Python.framework/Versions/3.8/lib/python3.8/site-packages/scipy/optimize/optimize.py:2118: RuntimeWarning: invalid value encountered in double_scalars\n",
      "  tmp2 = 2.0 * (tmp2 - tmp1)\n",
      "100%|██████████| 10/10 [00:37<00:00,  3.75s/it]\n"
     ]
    },
    {
     "name": "stdout",
     "output_type": "stream",
     "text": [
      "working on sample 3,0.2,9\n"
     ]
    },
    {
     "name": "stderr",
     "output_type": "stream",
     "text": [
      "  0%|          | 0/10 [00:00<?, ?it/s]/Users/keitokiddo/git/vcregression/vcregression/vc_regression.py:561: RuntimeWarning: overflow encountered in square\n",
      "  frob_loss = (1/N_pairs)*np.sum(N_d*(rho_d_fit - rho_d)**2)\n",
      " 30%|███       | 3/10 [00:11<00:25,  3.66s/it]/Users/keitokiddo/git/vcregression/vcregression/vc_regression.py:557: RuntimeWarning: overflow encountered in exp\n",
      "  rho_d_fit = np.matmul(np.exp(theta), W_kd)\n",
      " 70%|███████   | 7/10 [00:26<00:11,  3.69s/it]/Library/Frameworks/Python.framework/Versions/3.8/lib/python3.8/site-packages/scipy/optimize/optimize.py:2116: RuntimeWarning: invalid value encountered in double_scalars\n",
      "  tmp2 = (x - v) * (fx - fw)\n",
      "100%|██████████| 10/10 [00:36<00:00,  3.70s/it]\n"
     ]
    },
    {
     "name": "stdout",
     "output_type": "stream",
     "text": [
      "working on sample 3,0.2,10\n"
     ]
    },
    {
     "name": "stderr",
     "output_type": "stream",
     "text": [
      "  0%|          | 0/10 [00:00<?, ?it/s]/Users/keitokiddo/git/vcregression/vcregression/vc_regression.py:561: RuntimeWarning: overflow encountered in square\n",
      "  frob_loss = (1/N_pairs)*np.sum(N_d*(rho_d_fit - rho_d)**2)\n",
      "/Users/keitokiddo/git/vcregression/vcregression/vc_regression.py:557: RuntimeWarning: overflow encountered in exp\n",
      "  rho_d_fit = np.matmul(np.exp(theta), W_kd)\n",
      "/Library/Frameworks/Python.framework/Versions/3.8/lib/python3.8/site-packages/scipy/optimize/optimize.py:2116: RuntimeWarning: invalid value encountered in double_scalars\n",
      "  tmp2 = (x - v) * (fx - fw)\n",
      "100%|██████████| 10/10 [00:36<00:00,  3.68s/it]\n"
     ]
    },
    {
     "name": "stdout",
     "output_type": "stream",
     "text": [
      "working on sample 3,0.2,11\n"
     ]
    },
    {
     "name": "stderr",
     "output_type": "stream",
     "text": [
      "  0%|          | 0/10 [00:00<?, ?it/s]/Users/keitokiddo/git/vcregression/vcregression/vc_regression.py:561: RuntimeWarning: overflow encountered in square\n",
      "  frob_loss = (1/N_pairs)*np.sum(N_d*(rho_d_fit - rho_d)**2)\n",
      "/Users/keitokiddo/git/vcregression/vcregression/vc_regression.py:557: RuntimeWarning: overflow encountered in exp\n",
      "  rho_d_fit = np.matmul(np.exp(theta), W_kd)\n",
      "/Users/keitokiddo/git/vcregression/vcregression/vc_regression.py:561: RuntimeWarning: overflow encountered in multiply\n",
      "  frob_loss = (1/N_pairs)*np.sum(N_d*(rho_d_fit - rho_d)**2)\n",
      "/Library/Frameworks/Python.framework/Versions/3.8/lib/python3.8/site-packages/numpy/core/fromnumeric.py:87: RuntimeWarning: overflow encountered in reduce\n",
      "  return ufunc.reduce(obj, axis, dtype, out, **passkwargs)\n",
      " 10%|█         | 1/10 [00:03<00:34,  3.86s/it]/Library/Frameworks/Python.framework/Versions/3.8/lib/python3.8/site-packages/scipy/optimize/optimize.py:2116: RuntimeWarning: invalid value encountered in double_scalars\n",
      "  tmp2 = (x - v) * (fx - fw)\n",
      " 50%|█████     | 5/10 [00:18<00:18,  3.63s/it]/Library/Frameworks/Python.framework/Versions/3.8/lib/python3.8/site-packages/scipy/optimize/optimize.py:2117: RuntimeWarning: invalid value encountered in double_scalars\n",
      "  p = (x - v) * tmp2 - (x - w) * tmp1\n",
      "/Library/Frameworks/Python.framework/Versions/3.8/lib/python3.8/site-packages/scipy/optimize/optimize.py:2118: RuntimeWarning: invalid value encountered in double_scalars\n",
      "  tmp2 = 2.0 * (tmp2 - tmp1)\n",
      "100%|██████████| 10/10 [00:37<00:00,  3.70s/it]\n"
     ]
    },
    {
     "name": "stdout",
     "output_type": "stream",
     "text": [
      "working on sample 3,0.2,12\n"
     ]
    },
    {
     "name": "stderr",
     "output_type": "stream",
     "text": [
      "  0%|          | 0/10 [00:00<?, ?it/s]/Users/keitokiddo/git/vcregression/vcregression/vc_regression.py:557: RuntimeWarning: overflow encountered in exp\n",
      "  rho_d_fit = np.matmul(np.exp(theta), W_kd)\n",
      "/Users/keitokiddo/git/vcregression/vcregression/vc_regression.py:561: RuntimeWarning: overflow encountered in square\n",
      "  frob_loss = (1/N_pairs)*np.sum(N_d*(rho_d_fit - rho_d)**2)\n",
      "/Library/Frameworks/Python.framework/Versions/3.8/lib/python3.8/site-packages/scipy/optimize/optimize.py:2116: RuntimeWarning: invalid value encountered in double_scalars\n",
      "  tmp2 = (x - v) * (fx - fw)\n",
      "/Users/keitokiddo/git/vcregression/vcregression/vc_regression.py:561: RuntimeWarning: overflow encountered in multiply\n",
      "  frob_loss = (1/N_pairs)*np.sum(N_d*(rho_d_fit - rho_d)**2)\n",
      "/Library/Frameworks/Python.framework/Versions/3.8/lib/python3.8/site-packages/numpy/core/fromnumeric.py:87: RuntimeWarning: overflow encountered in reduce\n",
      "  return ufunc.reduce(obj, axis, dtype, out, **passkwargs)\n",
      "100%|██████████| 10/10 [00:36<00:00,  3.70s/it]\n"
     ]
    },
    {
     "name": "stdout",
     "output_type": "stream",
     "text": [
      "working on sample 3,0.2,13\n"
     ]
    },
    {
     "name": "stderr",
     "output_type": "stream",
     "text": [
      "  0%|          | 0/10 [00:00<?, ?it/s]/Users/keitokiddo/git/vcregression/vcregression/vc_regression.py:557: RuntimeWarning: overflow encountered in exp\n",
      "  rho_d_fit = np.matmul(np.exp(theta), W_kd)\n",
      "/Users/keitokiddo/git/vcregression/vcregression/vc_regression.py:561: RuntimeWarning: overflow encountered in square\n",
      "  frob_loss = (1/N_pairs)*np.sum(N_d*(rho_d_fit - rho_d)**2)\n",
      "/Library/Frameworks/Python.framework/Versions/3.8/lib/python3.8/site-packages/scipy/optimize/optimize.py:2116: RuntimeWarning: invalid value encountered in double_scalars\n",
      "  tmp2 = (x - v) * (fx - fw)\n",
      "/Users/keitokiddo/git/vcregression/vcregression/vc_regression.py:561: RuntimeWarning: overflow encountered in multiply\n",
      "  frob_loss = (1/N_pairs)*np.sum(N_d*(rho_d_fit - rho_d)**2)\n",
      "/Library/Frameworks/Python.framework/Versions/3.8/lib/python3.8/site-packages/numpy/core/fromnumeric.py:87: RuntimeWarning: overflow encountered in reduce\n",
      "  return ufunc.reduce(obj, axis, dtype, out, **passkwargs)\n",
      "100%|██████████| 10/10 [00:36<00:00,  3.65s/it]\n"
     ]
    }
   ],
   "source": [
    "varlist=[0.0526316, 0.111111, 0.25, 0.428571, 0.666667, 1., 4.]\n",
    "noise_props=[.05, .1, .2, .3, .4, .5, .8]\n",
    "\n",
    "\n",
    "f = 'f_noised'\n",
    "train = 'tr'\n",
    "scheme = 'noised'\n",
    "\n",
    "\n",
    "for i in range(3):\n",
    "    for k in range(2,3):\n",
    "        varall = varlist[k]*np.ones(G)\n",
    "        for j in range(13):\n",
    "            response_name = [fl_name, f, str(i+1), str(noise_props[k])]\n",
    "            tr_name = [train, str(j + 1)]\n",
    "            map_name = [fl_name, scheme, \"vc\", str(i + 1), str(noise_props[k]), str(j + 1)]\n",
    "            lda_name = [fl_name, scheme, \"lda\", str(i + 1), str(noise_props[k]), str(j + 1)]\n",
    "            response = pd.read_csv(dirin + \"_\".join(response_name) + \".tsv\", header = None)\n",
    "            response = response.to_numpy()\n",
    "            response = response.squeeze()\n",
    "            print(\"working on sample \" + str(i+1) + \",\" + str(noise_props[k]) + \",\" + str(j+1))\n",
    "            tr = pd.read_csv(dirin + \"_\".join(tr_name) + \".tsv\", header = None)\n",
    "            tr = np.array(tr).flatten()\n",
    "            tr -= 1 \n",
    "            lambdas,map = vc.compute_posterior_mean_ex(\n",
    "                np.array(seqs)[tr], np.array(response)[tr], np.array(varall)[tr])\n",
    "            #             map = vc.compute_posterior_mean_lda(np.array(seqs)[tr], \n",
    "            #                                                 np.array(response)[tr], np.array(varall)[tr], lda)        \n",
    "            pd.DataFrame(map).to_csv(dirout + \"_\".join(map_name) + \".tsv\", header = None, index = None)\n"
   ]
  },
  {
   "cell_type": "code",
   "execution_count": null,
   "metadata": {},
   "outputs": [],
   "source": [
    "varall = 0*np.ones(G)\n",
    "\n",
    "f = 'f'\n",
    "train = 'tr_mut'\n",
    "scheme = 'mut'\n",
    "\n",
    "\n",
    "for i in range(3):\n",
    "    for j in range(1,2):\n",
    "        response_name = [fl_name, f, str(i + 1)]\n",
    "        tr_name = [train, str(j + 1)]\n",
    "        map_name = [fl_name, scheme, \"vc\", str(i + 1), str(j + 1)]\n",
    "        lda_name = [fl_name, scheme, \"lda\", str(i + 1), str(j + 1)]\n",
    "        response = pd.read_csv(dirin + \"_\".join(response_name) + \".tsv\", header = None)\n",
    "        response = response.to_numpy()\n",
    "        response = response.squeeze()\n",
    "        print(\"working on sample \" + str(i+1) + \",\" + str(j+1))\n",
    "        tr = pd.read_csv(dirin + \"_\".join(tr_name) + \".tsv\", header = None)\n",
    "        tr = np.array(tr).flatten()\n",
    "        tr -= 1\n",
    "        map = vc.compute_posterior_mean_lda(np.array(seqs)[tr], \n",
    "                                            np.array(response)[tr], np.array(varall)[tr], lda)        \n",
    "        lambdas,map = vc.compute_posterior_mean_ex(\n",
    "                np.array(seqs)[tr], np.array(response)[tr], np.array(varall)[tr])\n",
    "\n",
    "        pd.DataFrame(map).to_csv(dirout + \"_\".join(map_name) + \".tsv\", header = None, index = None)\n",
    "        pd.DataFrame(lambdas).to_csv(dirout + \"_\".join(lda_name) + \".tsv\", header = None, index = None)"
   ]
  },
  {
   "cell_type": "code",
   "execution_count": 36,
   "metadata": {},
   "outputs": [
    {
     "name": "stdout",
     "output_type": "stream",
     "text": [
      "working on sample 1,2\n",
      "working on sample 2,2\n",
      "working on sample 3,2\n"
     ]
    }
   ],
   "source": [
    "##prediction using true lambdas\n",
    "\n",
    "tru_lda = pd.read_csv(dirin + \"tru_lda.tsv\", header = None)\n",
    "lda = np.concatenate(([0.],np.array(tru_lda).squeeze()))\n",
    "\n",
    "lda[0] = 1e-6\n",
    "\n",
    "varall = 0*np.ones(G)\n",
    "\n",
    "f = 'f'\n",
    "train = 'tr_mut'\n",
    "scheme = 'mut'\n",
    "\n",
    "\n",
    "for i in range(3):\n",
    "    for j in range(1,2):\n",
    "        response_name = [fl_name, f, str(i + 1)]\n",
    "        tr_name = [train, str(j + 1)]\n",
    "        map_name = [fl_name, scheme, \"vc\", str(i + 1), str(j + 1)]\n",
    "        lda_name = [fl_name, scheme, \"lda\", str(i + 1), str(j + 1)]\n",
    "        response = pd.read_csv(dirin + \"_\".join(response_name) + \".tsv\", header = None)\n",
    "        response = response.to_numpy()\n",
    "        response = response.squeeze()\n",
    "        print(\"working on sample \" + str(i+1) + \",\" + str(j+1))\n",
    "        tr = pd.read_csv(dirin + \"_\".join(tr_name) + \".tsv\", header = None)\n",
    "        tr = np.array(tr).flatten()\n",
    "        tr -= 1\n",
    "        map = vc.compute_posterior_mean_lda(np.array(seqs)[tr], \n",
    "                                            np.array(response)[tr], np.array(varall)[tr], lda)        \n",
    "\n",
    "        pd.DataFrame(map).to_csv(dirout + \"_\".join(map_name) + \"_trulda.tsv\", header = None, index = None)"
   ]
  },
  {
   "cell_type": "code",
   "execution_count": 46,
   "metadata": {},
   "outputs": [
    {
     "name": "stdout",
     "output_type": "stream",
     "text": [
      "working on sample 1,0.05,1\n",
      "working on sample 1,0.05,2\n",
      "working on sample 1,0.05,3\n",
      "working on sample 1,0.05,4\n",
      "working on sample 1,0.05,5\n",
      "working on sample 1,0.05,6\n",
      "working on sample 1,0.05,7\n",
      "working on sample 1,0.05,8\n",
      "working on sample 1,0.05,9\n",
      "working on sample 1,0.05,10\n",
      "working on sample 1,0.05,11\n",
      "working on sample 1,0.05,12\n",
      "working on sample 1,0.05,13\n",
      "working on sample 1,0.1,1\n",
      "working on sample 1,0.1,2\n",
      "working on sample 1,0.1,3\n",
      "working on sample 1,0.1,4\n",
      "working on sample 1,0.1,5\n",
      "working on sample 1,0.1,6\n",
      "working on sample 1,0.1,7\n",
      "working on sample 1,0.1,8\n",
      "working on sample 1,0.1,9\n",
      "working on sample 1,0.1,10\n",
      "working on sample 1,0.1,11\n",
      "working on sample 1,0.1,12\n",
      "working on sample 1,0.1,13\n",
      "working on sample 1,0.2,1\n",
      "working on sample 1,0.2,2\n",
      "working on sample 1,0.2,3\n",
      "working on sample 1,0.2,4\n",
      "working on sample 1,0.2,5\n",
      "working on sample 1,0.2,6\n",
      "working on sample 1,0.2,7\n",
      "working on sample 1,0.2,8\n",
      "working on sample 1,0.2,9\n",
      "working on sample 1,0.2,10\n",
      "working on sample 1,0.2,11\n",
      "working on sample 1,0.2,12\n",
      "working on sample 1,0.2,13\n",
      "working on sample 1,0.3,1\n",
      "working on sample 1,0.3,2\n",
      "working on sample 1,0.3,3\n",
      "working on sample 1,0.3,4\n",
      "working on sample 1,0.3,5\n",
      "working on sample 1,0.3,6\n",
      "working on sample 1,0.3,7\n",
      "working on sample 1,0.3,8\n",
      "working on sample 1,0.3,9\n",
      "working on sample 1,0.3,10\n",
      "working on sample 1,0.3,11\n",
      "working on sample 1,0.3,12\n",
      "working on sample 1,0.3,13\n",
      "working on sample 1,0.4,1\n",
      "working on sample 1,0.4,2\n",
      "working on sample 1,0.4,3\n",
      "working on sample 1,0.4,4\n",
      "working on sample 1,0.4,5\n",
      "working on sample 1,0.4,6\n",
      "working on sample 1,0.4,7\n",
      "working on sample 1,0.4,8\n",
      "working on sample 1,0.4,9\n",
      "working on sample 1,0.4,10\n",
      "working on sample 1,0.4,11\n",
      "working on sample 1,0.4,12\n",
      "working on sample 1,0.4,13\n",
      "working on sample 1,0.5,1\n",
      "working on sample 1,0.5,2\n",
      "working on sample 1,0.5,3\n",
      "working on sample 1,0.5,4\n",
      "working on sample 1,0.5,5\n",
      "working on sample 1,0.5,6\n",
      "working on sample 1,0.5,7\n",
      "working on sample 1,0.5,8\n",
      "working on sample 1,0.5,9\n",
      "working on sample 1,0.5,10\n",
      "working on sample 1,0.5,11\n",
      "working on sample 1,0.5,12\n",
      "working on sample 1,0.5,13\n",
      "working on sample 1,0.8,1\n",
      "working on sample 1,0.8,2\n",
      "working on sample 1,0.8,3\n",
      "working on sample 1,0.8,4\n",
      "working on sample 1,0.8,5\n",
      "working on sample 1,0.8,6\n",
      "working on sample 1,0.8,7\n",
      "working on sample 1,0.8,8\n",
      "working on sample 1,0.8,9\n",
      "working on sample 1,0.8,10\n",
      "working on sample 1,0.8,11\n",
      "working on sample 1,0.8,12\n",
      "working on sample 1,0.8,13\n",
      "working on sample 2,0.05,1\n",
      "working on sample 2,0.05,2\n",
      "working on sample 2,0.05,3\n",
      "working on sample 2,0.05,4\n",
      "working on sample 2,0.05,5\n",
      "working on sample 2,0.05,6\n",
      "working on sample 2,0.05,7\n",
      "working on sample 2,0.05,8\n",
      "working on sample 2,0.05,9\n",
      "working on sample 2,0.05,10\n",
      "working on sample 2,0.05,11\n",
      "working on sample 2,0.05,12\n",
      "working on sample 2,0.05,13\n",
      "working on sample 2,0.1,1\n",
      "working on sample 2,0.1,2\n",
      "working on sample 2,0.1,3\n",
      "working on sample 2,0.1,4\n",
      "working on sample 2,0.1,5\n",
      "working on sample 2,0.1,6\n",
      "working on sample 2,0.1,7\n",
      "working on sample 2,0.1,8\n",
      "working on sample 2,0.1,9\n",
      "working on sample 2,0.1,10\n",
      "working on sample 2,0.1,11\n",
      "working on sample 2,0.1,12\n",
      "working on sample 2,0.1,13\n",
      "working on sample 2,0.2,1\n",
      "working on sample 2,0.2,2\n",
      "working on sample 2,0.2,3\n",
      "working on sample 2,0.2,4\n",
      "working on sample 2,0.2,5\n",
      "working on sample 2,0.2,6\n",
      "working on sample 2,0.2,7\n",
      "working on sample 2,0.2,8\n",
      "working on sample 2,0.2,9\n",
      "working on sample 2,0.2,10\n",
      "working on sample 2,0.2,11\n",
      "working on sample 2,0.2,12\n",
      "working on sample 2,0.2,13\n",
      "working on sample 2,0.3,1\n",
      "working on sample 2,0.3,2\n",
      "working on sample 2,0.3,3\n",
      "working on sample 2,0.3,4\n",
      "working on sample 2,0.3,5\n",
      "working on sample 2,0.3,6\n",
      "working on sample 2,0.3,7\n",
      "working on sample 2,0.3,8\n",
      "working on sample 2,0.3,9\n",
      "working on sample 2,0.3,10\n",
      "working on sample 2,0.3,11\n",
      "working on sample 2,0.3,12\n",
      "working on sample 2,0.3,13\n",
      "working on sample 2,0.4,1\n",
      "working on sample 2,0.4,2\n",
      "working on sample 2,0.4,3\n",
      "working on sample 2,0.4,4\n",
      "working on sample 2,0.4,5\n",
      "working on sample 2,0.4,6\n",
      "working on sample 2,0.4,7\n",
      "working on sample 2,0.4,8\n",
      "working on sample 2,0.4,9\n",
      "working on sample 2,0.4,10\n",
      "working on sample 2,0.4,11\n",
      "working on sample 2,0.4,12\n",
      "working on sample 2,0.4,13\n",
      "working on sample 2,0.5,1\n",
      "working on sample 2,0.5,2\n",
      "working on sample 2,0.5,3\n",
      "working on sample 2,0.5,4\n",
      "working on sample 2,0.5,5\n",
      "working on sample 2,0.5,6\n",
      "working on sample 2,0.5,7\n",
      "working on sample 2,0.5,8\n",
      "working on sample 2,0.5,9\n",
      "working on sample 2,0.5,10\n",
      "working on sample 2,0.5,11\n",
      "working on sample 2,0.5,12\n",
      "working on sample 2,0.5,13\n",
      "working on sample 2,0.8,1\n",
      "working on sample 2,0.8,2\n",
      "working on sample 2,0.8,3\n",
      "working on sample 2,0.8,4\n",
      "working on sample 2,0.8,5\n",
      "working on sample 2,0.8,6\n",
      "working on sample 2,0.8,7\n",
      "working on sample 2,0.8,8\n",
      "working on sample 2,0.8,9\n",
      "working on sample 2,0.8,10\n",
      "working on sample 2,0.8,11\n",
      "working on sample 2,0.8,12\n",
      "working on sample 2,0.8,13\n",
      "working on sample 3,0.05,1\n",
      "working on sample 3,0.05,2\n",
      "working on sample 3,0.05,3\n",
      "working on sample 3,0.05,4\n",
      "working on sample 3,0.05,5\n",
      "working on sample 3,0.05,6\n",
      "working on sample 3,0.05,7\n",
      "working on sample 3,0.05,8\n",
      "working on sample 3,0.05,9\n",
      "working on sample 3,0.05,10\n",
      "working on sample 3,0.05,11\n",
      "working on sample 3,0.05,12\n",
      "working on sample 3,0.05,13\n",
      "working on sample 3,0.1,1\n",
      "working on sample 3,0.1,2\n",
      "working on sample 3,0.1,3\n",
      "working on sample 3,0.1,4\n",
      "working on sample 3,0.1,5\n",
      "working on sample 3,0.1,6\n",
      "working on sample 3,0.1,7\n",
      "working on sample 3,0.1,8\n",
      "working on sample 3,0.1,9\n",
      "working on sample 3,0.1,10\n",
      "working on sample 3,0.1,11\n",
      "working on sample 3,0.1,12\n",
      "working on sample 3,0.1,13\n",
      "working on sample 3,0.2,1\n",
      "working on sample 3,0.2,2\n",
      "working on sample 3,0.2,3\n",
      "working on sample 3,0.2,4\n",
      "working on sample 3,0.2,5\n",
      "working on sample 3,0.2,6\n",
      "working on sample 3,0.2,7\n",
      "working on sample 3,0.2,8\n",
      "working on sample 3,0.2,9\n",
      "working on sample 3,0.2,10\n",
      "working on sample 3,0.2,11\n",
      "working on sample 3,0.2,12\n",
      "working on sample 3,0.2,13\n",
      "working on sample 3,0.3,1\n",
      "working on sample 3,0.3,2\n",
      "working on sample 3,0.3,3\n",
      "working on sample 3,0.3,4\n",
      "working on sample 3,0.3,5\n",
      "working on sample 3,0.3,6\n",
      "working on sample 3,0.3,7\n",
      "working on sample 3,0.3,8\n",
      "working on sample 3,0.3,9\n",
      "working on sample 3,0.3,10\n",
      "working on sample 3,0.3,11\n",
      "working on sample 3,0.3,12\n",
      "working on sample 3,0.3,13\n",
      "working on sample 3,0.4,1\n",
      "working on sample 3,0.4,2\n",
      "working on sample 3,0.4,3\n",
      "working on sample 3,0.4,4\n",
      "working on sample 3,0.4,5\n",
      "working on sample 3,0.4,6\n",
      "working on sample 3,0.4,7\n",
      "working on sample 3,0.4,8\n",
      "working on sample 3,0.4,9\n",
      "working on sample 3,0.4,10\n",
      "working on sample 3,0.4,11\n",
      "working on sample 3,0.4,12\n",
      "working on sample 3,0.4,13\n",
      "working on sample 3,0.5,1\n",
      "working on sample 3,0.5,2\n",
      "working on sample 3,0.5,3\n",
      "working on sample 3,0.5,4\n",
      "working on sample 3,0.5,5\n",
      "working on sample 3,0.5,6\n",
      "working on sample 3,0.5,7\n",
      "working on sample 3,0.5,8\n",
      "working on sample 3,0.5,9\n",
      "working on sample 3,0.5,10\n",
      "working on sample 3,0.5,11\n",
      "working on sample 3,0.5,12\n",
      "working on sample 3,0.5,13\n",
      "working on sample 3,0.8,1\n",
      "working on sample 3,0.8,2\n",
      "working on sample 3,0.8,3\n",
      "working on sample 3,0.8,4\n",
      "working on sample 3,0.8,5\n",
      "working on sample 3,0.8,6\n",
      "working on sample 3,0.8,7\n",
      "working on sample 3,0.8,8\n",
      "working on sample 3,0.8,9\n",
      "working on sample 3,0.8,10\n",
      "working on sample 3,0.8,11\n",
      "working on sample 3,0.8,12\n",
      "working on sample 3,0.8,13\n"
     ]
    }
   ],
   "source": [
    "#getting all noised results\n",
    "\n",
    "tru_lda = pd.read_csv(dirin + \"tru_lda.tsv\", header = None)\n",
    "lda = np.concatenate(([0.],np.array(tru_lda).squeeze()))\n",
    "\n",
    "lda[0] = 1e-6\n",
    "\n",
    "\n",
    "varlist=[0.0526316, 0.111111, 0.25, 0.428571, 0.666667, 1., 4.]\n",
    "noise_props=[.05, .1, .2, .3, .4, .5, .8]\n",
    "\n",
    "\n",
    "f = 'f_noised'\n",
    "train = 'tr'\n",
    "scheme = 'noised'\n",
    "\n",
    "\n",
    "for i in range(3):\n",
    "    for k in range(len(noise_props)):\n",
    "        varall = varlist[k]*np.ones(G)\n",
    "        for j in range(13):\n",
    "            response_name = [fl_name, f, str(i+1), str(noise_props[k])]\n",
    "            tr_name = [train, str(j + 1)]\n",
    "            map_name = [fl_name, scheme, \"vc\", str(i + 1), str(noise_props[k]), str(j + 1)]\n",
    "            lda_name = [fl_name, scheme, \"lda\", str(i + 1), str(noise_props[k]), str(j + 1)]\n",
    "            response = pd.read_csv(dirin + \"_\".join(response_name) + \".tsv\", header = None)\n",
    "            response = response.to_numpy()\n",
    "            response = response.squeeze()\n",
    "            print(\"working on sample \" + str(i+1) + \",\" + str(noise_props[k]) + \",\" + str(j+1))\n",
    "            tr = pd.read_csv(dirin + \"_\".join(tr_name) + \".tsv\", header = None)\n",
    "            tr = np.array(tr).flatten()\n",
    "            tr -= 1 \n",
    "#             lambdas,map = vc.compute_posterior_mean_ex(\n",
    "#                 np.array(seqs)[tr], np.array(response)[tr], np.array(varall)[tr])\n",
    "            map = vc.compute_posterior_mean_lda(\n",
    "                np.array(seqs)[tr], np.array(response)[tr], np.array(varall)[tr], lda)        \n",
    "            pd.DataFrame(map).to_csv(dirout + \"_\".join(map_name) + \".tsv\", \n",
    "                                     header = None, index = None)\n",
    "#             pd.DataFrame(lambdas).to_csv(dirout + \"_\".join(lda_name) + \".tsv\", \n",
    "#                                          header = None, index = None)"
   ]
  },
  {
   "cell_type": "code",
   "execution_count": null,
   "metadata": {},
   "outputs": [],
   "source": []
  },
  {
   "cell_type": "code",
   "execution_count": null,
   "metadata": {},
   "outputs": [],
   "source": []
  },
  {
   "cell_type": "code",
   "execution_count": null,
   "metadata": {},
   "outputs": [],
   "source": [
    "varlist=[0.0526316, 0.111111, 0.25, 0.428571, 0.666667, 1., 4.]\n",
    "noise_props=[.05, .1, .2, .3, .4, .5, .8]\n",
    "\n",
    "\n",
    "f = 'f_noised'\n",
    "train = 'tr'\n",
    "scheme = 'noised'\n",
    "\n",
    "\n",
    "for i in range(3):\n",
    "    for k in range(2,3):\n",
    "        varall = varlist[k]*np.ones(G)\n",
    "        for j in range(13):\n",
    "            response_name = [fl_name, f, str(i+1), str(noise_props[k])]\n",
    "            tr_name = [train, str(j + 1)]\n",
    "            map_name = [fl_name, scheme, \"vc\", str(i + 1), str(noise_props[k]), str(j + 1)]\n",
    "            lda_name = [fl_name, scheme, \"lda\", str(i + 1), str(noise_props[k]), str(j + 1)]\n",
    "            response = pd.read_csv(dirin + \"_\".join(response_name) + \".tsv\", header = None)\n",
    "            response = response.to_numpy()\n",
    "            response = response.squeeze()\n",
    "            print(\"working on sample \" + str(i+1) + \",\" + str(noise_props[k]) + \",\" + str(j+1))\n",
    "            tr = pd.read_csv(dirin + \"_\".join(tr_name) + \".tsv\", header = None)\n",
    "            tr = np.array(tr).flatten()\n",
    "            tr -= 1 \n",
    "            lambdas,map = vc.compute_posterior_mean_ex(\n",
    "                np.array(seqs)[tr], np.array(response)[tr], np.array(varall)[tr])\n",
    "            #             map = vc.compute_posterior_mean_lda(np.array(seqs)[tr], \n",
    "            #                                                 np.array(response)[tr], np.array(varall)[tr], lda)        \n",
    "            pd.DataFrame(map).to_csv(dirout + \"_\".join(map_name) + \".tsv\", header = None, index = None)\n"
   ]
  }
 ],
 "metadata": {
  "kernelspec": {
   "display_name": "Python 3",
   "language": "python",
   "name": "python3"
  },
  "language_info": {
   "codemirror_mode": {
    "name": "ipython",
    "version": 3
   },
   "file_extension": ".py",
   "mimetype": "text/x-python",
   "name": "python",
   "nbconvert_exporter": "python",
   "pygments_lexer": "ipython3",
   "version": "3.8.6"
  }
 },
 "nbformat": 4,
 "nbformat_minor": 4
}
