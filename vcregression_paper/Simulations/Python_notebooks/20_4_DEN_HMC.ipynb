{
 "cells": [
  {
   "cell_type": "code",
   "execution_count": 1,
   "metadata": {},
   "outputs": [],
   "source": [
    "import matplotlib.pyplot as plt"
   ]
  },
  {
   "cell_type": "code",
   "execution_count": 2,
   "metadata": {},
   "outputs": [
    {
     "name": "stdout",
     "output_type": "stream",
     "text": [
      "Loading L_sparse ...\n",
      "0.36 sec\n"
     ]
    }
   ],
   "source": [
    "fl_name = \"20_4_SPR\"\n",
    "alpha, l = 20, 4\n",
    "\n",
    "import os\n",
    "\n",
    "os.chdir(\"/Users/keitokiddo/VC_revision/Simulations/\" + fl_name)\n",
    "import scipy as sp\n",
    "import sys\n",
    "sys.path.insert(1, '/Users/keitokiddo/git/vcregression/vcregression')\n",
    "\n",
    "import vc_regression as vc\n",
    "import itertools\n",
    "import os\n",
    "import csv\n",
    "import pandas as pd\n",
    "import numpy as np\n",
    "import arrow\n",
    "import scipy as sp\n",
    "\n",
    "#define sequence space parameters\n",
    "\n",
    "G = alpha**l\n",
    "bases = np.array(range(alpha))\n",
    "seqs = list(itertools.product(bases, repeat=l)) #generate all possible sequences\n",
    "\n",
    "dirin = \"data/\"\n",
    "dirout = \"out/\"\n",
    "vc.preliminary_preparation(alpha, l)\n"
   ]
  },
  {
   "cell_type": "code",
   "execution_count": 3,
   "metadata": {},
   "outputs": [],
   "source": [
    "import matplotlib.pyplot as plt"
   ]
  },
  {
   "cell_type": "code",
   "execution_count": 4,
   "metadata": {},
   "outputs": [],
   "source": [
    "noise_props=[0.05, 0.1, 0.2, 0.3, 0.4, 0.5, 0.8]"
   ]
  },
  {
   "cell_type": "code",
   "execution_count": 5,
   "metadata": {},
   "outputs": [],
   "source": [
    "vc.seqsAll = np.arange(G)\n",
    "vc.dirout = dirout\n",
    "\n",
    "varall = 0*np.ones(G)\n",
    "\n",
    "f = 'f'\n",
    "train = 'tr'\n",
    "scheme = 'random'"
   ]
  },
  {
   "cell_type": "code",
   "execution_count": 6,
   "metadata": {},
   "outputs": [],
   "source": [
    "i=0\n",
    "j=9\n",
    "\n",
    "\n",
    "vc.outpath = \"out\"\n",
    "vc.sample_name = \"hmc\"\n",
    "\n",
    "name = [fl_name, f, str(i + 1)]\n",
    "tr_name = [train, str(j + 1)]\n",
    "map_name = [fl_name, scheme, \"vc\", str(i + 1), str(j + 1)]\n",
    "lda_name = [fl_name, scheme, \"lda\", str(i + 1), str(j + 1)]\n",
    "response = pd.read_csv(dirin + \"_\".join(name) + \".tsv\", header = None)\n",
    "response = response.to_numpy()\n",
    "response = response.squeeze()\n",
    "tr = pd.read_csv(dirin + \"_\".join(tr_name) + \".tsv\", header = None)\n",
    "tr = np.array(tr).flatten()\n",
    "tr -= 1"
   ]
  },
  {
   "cell_type": "code",
   "execution_count": 7,
   "metadata": {},
   "outputs": [],
   "source": [
    "lda = pd.read_csv(dirout + \"_\".join(lda_name) + \".tsv\", header=None).to_numpy().squeeze()\n",
    "map = pd.read_csv(dirout + \"_\".join(map_name) + \".tsv\", header=None).to_numpy().squeeze()"
   ]
  },
  {
   "cell_type": "code",
   "execution_count": 9,
   "metadata": {},
   "outputs": [],
   "source": [
    "vc.lda_star = lda\n",
    "noise_std = .01\n",
    "noise = np.random.normal(0, noise_std, G)\n",
    "varall = noise_std**2*np.ones(G)\n",
    "\n",
    "vc.set_data_as_global_parameters(np.array(seqs)[tr], np.array(response)[tr], np.array(varall)[tr])\n"
   ]
  },
  {
   "cell_type": "code",
   "execution_count": 10,
   "metadata": {},
   "outputs": [
    {
     "name": "stdout",
     "output_type": "stream",
     "text": [
      "currently working on step 1\n"
     ]
    },
    {
     "name": "stderr",
     "output_type": "stream",
     "text": [
      "100%|██████████| 99/99 [00:37<00:00,  2.63it/s]\n"
     ]
    },
    {
     "name": "stdout",
     "output_type": "stream",
     "text": [
      "initial_potential =  0.0\n",
      "final_potential =  6.658867079503454e-08\n",
      "energy_change =  2.9103830456733704e-11\n",
      "p accept =  0.9999999999708962\n",
      "current step size = 2.3624342917669265e-08\n",
      "current acceptance ratio = 1.0\n",
      "currently working on step 2\n"
     ]
    },
    {
     "name": "stderr",
     "output_type": "stream",
     "text": [
      "100%|██████████| 101/101 [00:44<00:00,  2.28it/s]\n"
     ]
    },
    {
     "name": "stdout",
     "output_type": "stream",
     "text": [
      "initial_potential =  6.658867079503454e-08\n",
      "final_potential =  0.003650798953447257\n",
      "energy_change =  -5.820766091346741e-11\n",
      "p accept =  1.0000000000582077\n",
      "current step size = 4.158093622398449e-07\n",
      "current acceptance ratio = 1.0\n",
      "currently working on step 3\n"
     ]
    },
    {
     "name": "stderr",
     "output_type": "stream",
     "text": [
      "100%|██████████| 101/101 [00:41<00:00,  2.42it/s]\n"
     ]
    },
    {
     "name": "stdout",
     "output_type": "stream",
     "text": [
      "initial_potential =  0.003650798953447257\n",
      "final_potential =  1.1159315167743673\n",
      "energy_change =  5.529727786779404e-10\n",
      "p accept =  0.9999999994470272\n",
      "current step size = 5.769000001308851e-06\n",
      "current acceptance ratio = 1.0\n",
      "currently working on step 4\n"
     ]
    },
    {
     "name": "stderr",
     "output_type": "stream",
     "text": [
      "100%|██████████| 100/100 [00:38<00:00,  2.58it/s]\n"
     ]
    },
    {
     "name": "stdout",
     "output_type": "stream",
     "text": [
      "initial_potential =  1.1159315167743673\n",
      "final_potential =  224.30037725256477\n",
      "energy_change =  1.907633850350976e-05\n",
      "p accept =  0.9999809238434487\n",
      "current step size = 6.576862012716018e-05\n",
      "current acceptance ratio = 1.0\n",
      "currently working on step 5\n"
     ]
    },
    {
     "name": "stderr",
     "output_type": "stream",
     "text": [
      "100%|██████████| 97/97 [00:45<00:00,  2.12it/s]\n"
     ]
    },
    {
     "name": "stdout",
     "output_type": "stream",
     "text": [
      "initial_potential =  224.30037725256477\n",
      "final_potential =  22865.51647874795\n",
      "energy_change =  0.23958937410498038\n",
      "p accept =  0.7869509371632173\n",
      "current step size = 0.0002036513992120234\n",
      "current acceptance ratio = 1.0\n",
      "currently working on step 6\n"
     ]
    },
    {
     "name": "stderr",
     "output_type": "stream",
     "text": [
      "100%|██████████| 99/99 [00:40<00:00,  2.44it/s]\n"
     ]
    },
    {
     "name": "stdout",
     "output_type": "stream",
     "text": [
      "initial_potential =  22865.51647874795\n",
      "final_potential =  55620.918308093256\n",
      "energy_change =  3.4021289838128723\n",
      "p accept =  0.03330229438852815\n",
      "current step size = 1.2084135517329175e-05\n",
      "current acceptance ratio = 0.8333333333333334\n",
      "currently working on step 7\n"
     ]
    },
    {
     "name": "stderr",
     "output_type": "stream",
     "text": [
      "100%|██████████| 98/98 [00:36<00:00,  2.70it/s]\n"
     ]
    },
    {
     "name": "stdout",
     "output_type": "stream",
     "text": [
      "initial_potential =  22865.51647874795\n",
      "final_potential =  23426.30712121828\n",
      "energy_change =  0.00020273463451303542\n",
      "p accept =  0.9997972859147642\n",
      "current step size = 0.00010911495119574215\n",
      "current acceptance ratio = 0.8571428571428571\n",
      "currently working on step 8\n"
     ]
    },
    {
     "name": "stderr",
     "output_type": "stream",
     "text": [
      "100%|██████████| 98/98 [00:43<00:00,  2.23it/s]\n"
     ]
    },
    {
     "name": "stdout",
     "output_type": "stream",
     "text": [
      "initial_potential =  23426.30712121828\n",
      "final_potential =  54324.56083963656\n",
      "energy_change =  0.894384500104934\n",
      "p accept =  0.4088591739892931\n",
      "current step size = 4.959808819730203e-05\n",
      "current acceptance ratio = 0.875\n",
      "currently working on step 9\n"
     ]
    },
    {
     "name": "stderr",
     "output_type": "stream",
     "text": [
      "100%|██████████| 98/98 [00:42<00:00,  2.30it/s]\n"
     ]
    },
    {
     "name": "stdout",
     "output_type": "stream",
     "text": [
      "initial_potential =  54324.56083963656\n",
      "final_potential =  56744.98794846519\n",
      "energy_change =  0.014819301897659898\n",
      "p accept =  0.9852899635449514\n",
      "current step size = 0.00036032797896629184\n",
      "current acceptance ratio = 0.8888888888888888\n",
      "currently working on step 10\n"
     ]
    },
    {
     "name": "stderr",
     "output_type": "stream",
     "text": [
      "100%|██████████| 101/101 [00:38<00:00,  2.65it/s]\n"
     ]
    },
    {
     "name": "stdout",
     "output_type": "stream",
     "text": [
      "initial_potential =  56744.98794846519\n",
      "final_potential =  59156.365333653506\n",
      "energy_change =  0.7181857858086005\n",
      "p accept =  0.4876361303367188\n",
      "current step size = 0.00024202232664309343\n",
      "current acceptance ratio = 0.9\n",
      "currently working on step 11\n"
     ]
    },
    {
     "name": "stderr",
     "output_type": "stream",
     "text": [
      "100%|██████████| 101/101 [00:43<00:00,  2.34it/s]\n"
     ]
    },
    {
     "name": "stdout",
     "output_type": "stream",
     "text": [
      "initial_potential =  59156.365333653506\n",
      "final_potential =  61601.78298488264\n",
      "energy_change =  0.3380517365876585\n",
      "p accept =  0.7131583905622316\n",
      "current step size = 0.00045870608621025266\n",
      "current acceptance ratio = 0.9090909090909091\n",
      "currently working on step 12\n"
     ]
    },
    {
     "name": "stderr",
     "output_type": "stream",
     "text": [
      "100%|██████████| 99/99 [00:44<00:00,  2.23it/s]\n"
     ]
    },
    {
     "name": "stdout",
     "output_type": "stream",
     "text": [
      "initial_potential =  61601.78298488264\n",
      "final_potential =  65310.82414414825\n",
      "energy_change =  1.7821887895115651\n",
      "p accept =  0.1682694375218187\n",
      "current step size = 7.876338064226005e-05\n",
      "current acceptance ratio = 0.9166666666666666\n",
      "currently working on step 13\n"
     ]
    },
    {
     "name": "stderr",
     "output_type": "stream",
     "text": [
      "100%|██████████| 99/99 [00:38<00:00,  2.60it/s]\n"
     ]
    },
    {
     "name": "stdout",
     "output_type": "stream",
     "text": [
      "initial_potential =  65310.82414414825\n",
      "final_potential =  64553.28047995802\n",
      "energy_change =  -0.012142209568992257\n",
      "p accept =  1.0122162254644047\n",
      "current step size = 0.0005124707311467534\n",
      "current acceptance ratio = 0.9230769230769231\n",
      "currently working on step 14\n"
     ]
    },
    {
     "name": "stderr",
     "output_type": "stream",
     "text": [
      "100%|██████████| 98/98 [00:35<00:00,  2.74it/s]\n"
     ]
    },
    {
     "name": "stdout",
     "output_type": "stream",
     "text": [
      "initial_potential =  64553.28047995802\n",
      "final_potential =  65443.790676430544\n",
      "energy_change =  0.2799873746698722\n",
      "p accept =  0.7557932835352024\n",
      "current step size = 0.0011154297246975685\n",
      "current acceptance ratio = 0.9285714285714286\n",
      "currently working on step 15\n"
     ]
    },
    {
     "name": "stderr",
     "output_type": "stream",
     "text": [
      "100%|██████████| 97/97 [00:40<00:00,  2.39it/s]\n"
     ]
    },
    {
     "name": "stdout",
     "output_type": "stream",
     "text": [
      "initial_potential =  65443.790676430544\n",
      "final_potential =  67713.52540023808\n",
      "energy_change =  0.5862029746058397\n",
      "p accept =  0.556436080553345\n",
      "current step size = 0.0010475494664932959\n",
      "current acceptance ratio = 0.8666666666666667\n",
      "currently working on step 16\n"
     ]
    },
    {
     "name": "stderr",
     "output_type": "stream",
     "text": [
      "100%|██████████| 97/97 [00:35<00:00,  2.71it/s]\n"
     ]
    },
    {
     "name": "stdout",
     "output_type": "stream",
     "text": [
      "initial_potential =  65443.790676430544\n",
      "final_potential =  67516.92842720011\n",
      "energy_change =  0.6267070663743652\n",
      "p accept =  0.5343484811854179\n",
      "current step size = 0.0009082632403324914\n",
      "current acceptance ratio = 0.8125\n",
      "currently working on step 17\n"
     ]
    },
    {
     "name": "stderr",
     "output_type": "stream",
     "text": [
      "100%|██████████| 100/100 [00:40<00:00,  2.44it/s]\n"
     ]
    },
    {
     "name": "stdout",
     "output_type": "stream",
     "text": [
      "initial_potential =  65443.790676430544\n",
      "final_potential =  66784.06806845074\n",
      "energy_change =  -0.2564637439791113\n",
      "p accept =  1.2923519094124485\n",
      "current step size = 0.004945712247690781\n",
      "current acceptance ratio = 0.8235294117647058\n",
      "currently working on step 18\n"
     ]
    },
    {
     "name": "stderr",
     "output_type": "stream",
     "text": [
      "100%|██████████| 101/101 [00:37<00:00,  2.70it/s]\n"
     ]
    },
    {
     "name": "stdout",
     "output_type": "stream",
     "text": [
      "initial_potential =  66784.06806845074\n",
      "final_potential =  83172.92317400569\n",
      "energy_change =  251.13792987231864\n",
      "p accept =  8.55426814833701e-110\n",
      "current step size = 0.0005411179213511948\n",
      "current acceptance ratio = 0.7777777777777778\n",
      "currently working on step 19\n"
     ]
    },
    {
     "name": "stderr",
     "output_type": "stream",
     "text": [
      "100%|██████████| 99/99 [00:43<00:00,  2.29it/s]\n"
     ]
    },
    {
     "name": "stdout",
     "output_type": "stream",
     "text": [
      "initial_potential =  66784.06806845074\n",
      "final_potential =  67190.56522251642\n",
      "energy_change =  -0.041052229527849704\n",
      "p accept =  1.0419065224101125\n",
      "current step size = 0.002823061397886562\n",
      "current acceptance ratio = 0.7894736842105263\n",
      "currently working on step 20\n"
     ]
    },
    {
     "name": "stderr",
     "output_type": "stream",
     "text": [
      "100%|██████████| 97/97 [00:36<00:00,  2.69it/s]\n"
     ]
    },
    {
     "name": "stdout",
     "output_type": "stream",
     "text": [
      "initial_potential =  67190.56522251642\n",
      "final_potential =  76423.41693496784\n",
      "energy_change =  17.763683324155863\n",
      "p accept =  1.9289916780667945e-08\n",
      "current step size = 0.00034045580908794213\n",
      "current acceptance ratio = 0.75\n",
      "currently working on step 21\n"
     ]
    },
    {
     "name": "stderr",
     "output_type": "stream",
     "text": [
      "100%|██████████| 98/98 [00:39<00:00,  2.47it/s]\n"
     ]
    },
    {
     "name": "stdout",
     "output_type": "stream",
     "text": [
      "initial_potential =  67190.56522251642\n",
      "final_potential =  67322.22498748393\n",
      "energy_change =  -0.012205943348817527\n",
      "p accept =  1.012280739886306\n",
      "current step size = 0.001706034974460732\n",
      "current acceptance ratio = 0.7619047619047619\n",
      "currently working on step 22\n"
     ]
    },
    {
     "name": "stderr",
     "output_type": "stream",
     "text": [
      "100%|██████████| 97/97 [00:37<00:00,  2.55it/s]\n"
     ]
    },
    {
     "name": "stdout",
     "output_type": "stream",
     "text": [
      "initial_potential =  67322.22498748393\n",
      "final_potential =  71230.78630163186\n",
      "energy_change =  0.10883242823183537\n",
      "p accept =  0.8968806967907944\n",
      "current step size = 0.005620753761076474\n",
      "current acceptance ratio = 0.7727272727272727\n",
      "currently working on step 23\n"
     ]
    },
    {
     "name": "stderr",
     "output_type": "stream",
     "text": [
      "100%|██████████| 101/101 [00:40<00:00,  2.49it/s]\n"
     ]
    },
    {
     "name": "stdout",
     "output_type": "stream",
     "text": [
      "initial_potential =  71230.78630163186\n",
      "final_potential =  83629.86422551119\n",
      "energy_change =  416.604105639155\n",
      "p accept =  1.1779742109618823e-181\n",
      "current step size = 0.0007512085217914646\n",
      "current acceptance ratio = 0.7391304347826086\n",
      "currently working on step 24\n"
     ]
    },
    {
     "name": "stderr",
     "output_type": "stream",
     "text": [
      "100%|██████████| 101/101 [00:41<00:00,  2.45it/s]\n"
     ]
    },
    {
     "name": "stdout",
     "output_type": "stream",
     "text": [
      "initial_potential =  71230.78630163186\n",
      "final_potential =  72038.25744009101\n",
      "energy_change =  0.33316280419239774\n",
      "p accept =  0.7166535104616597\n",
      "current step size = 0.0012990721177506147\n",
      "current acceptance ratio = 0.75\n",
      "currently working on step 25\n"
     ]
    },
    {
     "name": "stderr",
     "output_type": "stream",
     "text": [
      "100%|██████████| 99/99 [00:37<00:00,  2.61it/s]\n"
     ]
    },
    {
     "name": "stdout",
     "output_type": "stream",
     "text": [
      "initial_potential =  72038.25744009101\n",
      "final_potential =  73556.15516921502\n",
      "energy_change =  -0.16388604254461825\n",
      "p accept =  1.1780800564375125\n",
      "current step size = 0.005859557244248368\n",
      "current acceptance ratio = 0.76\n",
      "currently working on step 26\n"
     ]
    },
    {
     "name": "stderr",
     "output_type": "stream",
     "text": [
      "100%|██████████| 99/99 [00:43<00:00,  2.27it/s]\n"
     ]
    },
    {
     "name": "stdout",
     "output_type": "stream",
     "text": [
      "initial_potential =  73556.15516921502\n",
      "final_potential =  78616.34659986106\n",
      "energy_change =  0.5250315332086757\n",
      "p accept =  0.5915367110221688\n",
      "current step size = 0.006380769356380853\n",
      "current acceptance ratio = 0.7307692307692307\n",
      "currently working on step 27\n"
     ]
    },
    {
     "name": "stderr",
     "output_type": "stream",
     "text": [
      "100%|██████████| 98/98 [00:36<00:00,  2.66it/s]\n"
     ]
    },
    {
     "name": "stdout",
     "output_type": "stream",
     "text": [
      "initial_potential =  73556.15516921502\n",
      "final_potential =  84563.36787058272\n",
      "energy_change =  659.5798471641028\n",
      "p accept =  3.5327426543872793e-287\n",
      "current step size = 0.000967990673828875\n",
      "current acceptance ratio = 0.7037037037037037\n",
      "currently working on step 28\n"
     ]
    },
    {
     "name": "stderr",
     "output_type": "stream",
     "text": [
      "100%|██████████| 100/100 [00:43<00:00,  2.32it/s]\n"
     ]
    },
    {
     "name": "stdout",
     "output_type": "stream",
     "text": [
      "initial_potential =  73556.15516921502\n",
      "final_potential =  73908.33640188175\n",
      "energy_change =  -0.7297369686421007\n",
      "p accept =  2.074534868180582\n",
      "current step size = 0.0041533897247613815\n",
      "current acceptance ratio = 0.7142857142857143\n",
      "currently working on step 29\n"
     ]
    },
    {
     "name": "stderr",
     "output_type": "stream",
     "text": [
      "100%|██████████| 97/97 [00:37<00:00,  2.59it/s]\n"
     ]
    },
    {
     "name": "stdout",
     "output_type": "stream",
     "text": [
      "initial_potential =  73908.33640188175\n",
      "final_potential =  79565.08092650252\n",
      "energy_change =  0.23784696502843872\n",
      "p accept =  0.7883233229003936\n",
      "current step size = 0.008649603202959821\n",
      "current acceptance ratio = 0.7241379310344828\n",
      "currently working on step 30\n"
     ]
    },
    {
     "name": "stderr",
     "output_type": "stream",
     "text": [
      "100%|██████████| 98/98 [00:38<00:00,  2.57it/s]\n"
     ]
    },
    {
     "name": "stdout",
     "output_type": "stream",
     "text": [
      "initial_potential =  79565.08092650252\n",
      "final_potential =  94782.74966891497\n",
      "energy_change =  2897.568211208447\n",
      "p accept =  0.0\n",
      "current step size = 0.0014192374760053908\n",
      "current acceptance ratio = 0.7\n",
      "currently working on step 31\n"
     ]
    },
    {
     "name": "stderr",
     "output_type": "stream",
     "text": [
      "100%|██████████| 100/100 [00:44<00:00,  2.24it/s]\n"
     ]
    },
    {
     "name": "stdout",
     "output_type": "stream",
     "text": [
      "initial_potential =  79565.08092650252\n",
      "final_potential =  80506.9458161304\n",
      "energy_change =  4.346983141731471\n",
      "p accept =  0.012945809399093745\n",
      "current step size = 0.0002545464436702152\n",
      "current acceptance ratio = 0.6774193548387096\n",
      "currently working on step 32\n"
     ]
    },
    {
     "name": "stderr",
     "output_type": "stream",
     "text": [
      "100%|██████████| 100/100 [00:37<00:00,  2.67it/s]\n"
     ]
    },
    {
     "name": "stdout",
     "output_type": "stream",
     "text": [
      "initial_potential =  79565.08092650252\n",
      "final_potential =  79738.98210709178\n",
      "energy_change =  0.024393630330450833\n",
      "p accept =  0.9759014897166549\n",
      "current step size = 0.000966051542947553\n",
      "current acceptance ratio = 0.6875\n",
      "currently working on step 33\n"
     ]
    },
    {
     "name": "stderr",
     "output_type": "stream",
     "text": [
      "100%|██████████| 101/101 [00:43<00:00,  2.30it/s]\n"
     ]
    },
    {
     "name": "stdout",
     "output_type": "stream",
     "text": [
      "initial_potential =  79738.98210709178\n",
      "final_potential =  79447.25327639123\n",
      "energy_change =  -0.8336440172279254\n",
      "p accept =  2.301690878105725\n",
      "current step size = 0.0038322337977275034\n",
      "current acceptance ratio = 0.696969696969697\n",
      "currently working on step 34\n"
     ]
    },
    {
     "name": "stderr",
     "output_type": "stream",
     "text": [
      "100%|██████████| 101/101 [00:43<00:00,  2.33it/s]\n"
     ]
    },
    {
     "name": "stdout",
     "output_type": "stream",
     "text": [
      "initial_potential =  79447.25327639123\n",
      "final_potential =  82713.04835625575\n",
      "energy_change =  119.94110320712207\n",
      "p accept =  8.132811823894932e-53\n",
      "current step size = 0.0006984849183820824\n",
      "current acceptance ratio = 0.6764705882352942\n",
      "currently working on step 35\n"
     ]
    },
    {
     "name": "stderr",
     "output_type": "stream",
     "text": [
      "100%|██████████| 100/100 [00:36<00:00,  2.74it/s]\n"
     ]
    },
    {
     "name": "stdout",
     "output_type": "stream",
     "text": [
      "initial_potential =  79447.25327639123\n",
      "final_potential =  79542.51626540936\n",
      "energy_change =  0.12754570943070576\n",
      "p accept =  0.8802531790429368\n",
      "current step size = 0.0018848895569919626\n",
      "current acceptance ratio = 0.6857142857142857\n",
      "currently working on step 36\n"
     ]
    },
    {
     "name": "stderr",
     "output_type": "stream",
     "text": [
      "100%|██████████| 100/100 [00:44<00:00,  2.23it/s]\n"
     ]
    },
    {
     "name": "stdout",
     "output_type": "stream",
     "text": [
      "initial_potential =  79542.51626540936\n",
      "final_potential =  79671.19509855495\n",
      "energy_change =  -0.16053477337118238\n",
      "p accept =  1.1741386011881463\n",
      "current step size = 0.0071215867744519575\n",
      "current acceptance ratio = 0.6944444444444444\n",
      "currently working on step 37\n"
     ]
    },
    {
     "name": "stderr",
     "output_type": "stream",
     "text": [
      "100%|██████████| 101/101 [00:41<00:00,  2.44it/s]\n"
     ]
    },
    {
     "name": "stdout",
     "output_type": "stream",
     "text": [
      "initial_potential =  79671.19509855495\n",
      "final_potential =  84051.21583974114\n",
      "energy_change =  550.3524504016968\n",
      "p accept =  9.659790077437016e-240\n",
      "current step size = 0.001371989199921702\n",
      "current acceptance ratio = 0.6756756756756757\n",
      "currently working on step 38\n"
     ]
    },
    {
     "name": "stderr",
     "output_type": "stream",
     "text": [
      "100%|██████████| 98/98 [00:36<00:00,  2.68it/s]\n"
     ]
    },
    {
     "name": "stdout",
     "output_type": "stream",
     "text": [
      "initial_potential =  79671.19509855495\n",
      "final_potential =  80158.68703053897\n",
      "energy_change =  2.206443684117403\n",
      "p accept =  0.11009147321028395\n",
      "current step size = 0.0003781876734770198\n",
      "current acceptance ratio = 0.6578947368421053\n",
      "currently working on step 39\n"
     ]
    },
    {
     "name": "stderr",
     "output_type": "stream",
     "text": [
      "100%|██████████| 97/97 [00:46<00:00,  2.08it/s]\n"
     ]
    },
    {
     "name": "stdout",
     "output_type": "stream",
     "text": [
      "initial_potential =  79671.19509855495\n",
      "final_potential =  79535.7151648903\n",
      "energy_change =  -0.03816946526058018\n",
      "p accept =  1.038907276653781\n",
      "current step size = 0.0014000725385779089\n",
      "current acceptance ratio = 0.6666666666666666\n",
      "currently working on step 40\n"
     ]
    },
    {
     "name": "stderr",
     "output_type": "stream",
     "text": [
      "100%|██████████| 97/97 [00:40<00:00,  2.42it/s]\n"
     ]
    },
    {
     "name": "stdout",
     "output_type": "stream",
     "text": [
      "initial_potential =  79535.7151648903\n",
      "final_potential =  80299.13430427427\n",
      "energy_change =  3.5142707568593323\n",
      "p accept =  0.029769504247149588\n",
      "current step size = 0.00031595844930867607\n",
      "current acceptance ratio = 0.65\n",
      "currently working on step 41\n"
     ]
    },
    {
     "name": "stderr",
     "output_type": "stream",
     "text": [
      "100%|██████████| 97/97 [00:36<00:00,  2.67it/s]\n"
     ]
    },
    {
     "name": "stdout",
     "output_type": "stream",
     "text": [
      "initial_potential =  79535.7151648903\n",
      "final_potential =  79515.7836491894\n",
      "energy_change =  0.00013095862232148647\n",
      "p accept =  0.9998690499523846\n",
      "current step size = 0.0011438792948985574\n",
      "current acceptance ratio = 0.6585365853658537\n",
      "currently working on step 42\n"
     ]
    },
    {
     "name": "stderr",
     "output_type": "stream",
     "text": [
      "100%|██████████| 98/98 [00:47<00:00,  2.08it/s]\n"
     ]
    },
    {
     "name": "stdout",
     "output_type": "stream",
     "text": [
      "initial_potential =  79515.7836491894\n",
      "final_potential =  79899.12718064534\n",
      "energy_change =  1.3266014031250961\n",
      "p accept =  0.265377642042499\n",
      "current step size = 0.0005168049240702054\n",
      "current acceptance ratio = 0.6428571428571429\n",
      "currently working on step 43\n"
     ]
    },
    {
     "name": "stderr",
     "output_type": "stream",
     "text": [
      "100%|██████████| 101/101 [00:46<00:00,  2.18it/s]\n"
     ]
    },
    {
     "name": "stdout",
     "output_type": "stream",
     "text": [
      "initial_potential =  79515.7836491894\n",
      "final_potential =  79953.35371939925\n",
      "energy_change =  0.297210784687195\n",
      "p accept =  0.7428874065678536\n",
      "current step size = 0.000892659710835342\n",
      "current acceptance ratio = 0.627906976744186\n",
      "currently working on step 44\n"
     ]
    },
    {
     "name": "stderr",
     "output_type": "stream",
     "text": [
      "100%|██████████| 100/100 [00:37<00:00,  2.68it/s]\n"
     ]
    },
    {
     "name": "stdout",
     "output_type": "stream",
     "text": [
      "initial_potential =  79515.7836491894\n",
      "final_potential =  79784.33800597322\n",
      "energy_change =  0.5941159508074634\n",
      "p accept =  0.5520503899072714\n",
      "current step size = 0.000904443219591234\n",
      "current acceptance ratio = 0.6363636363636364\n",
      "currently working on step 45\n"
     ]
    },
    {
     "name": "stderr",
     "output_type": "stream",
     "text": [
      "100%|██████████| 100/100 [00:42<00:00,  2.37it/s]\n"
     ]
    },
    {
     "name": "stdout",
     "output_type": "stream",
     "text": [
      "initial_potential =  79784.33800597322\n",
      "final_potential =  79817.69752348706\n",
      "energy_change =  0.11888675316004083\n",
      "p accept =  0.8879083478830919\n",
      "current step size = 0.0022881238066523105\n",
      "current acceptance ratio = 0.6444444444444445\n",
      "currently working on step 46\n"
     ]
    },
    {
     "name": "stderr",
     "output_type": "stream",
     "text": [
      "100%|██████████| 99/99 [00:49<00:00,  2.00it/s]\n"
     ]
    },
    {
     "name": "stdout",
     "output_type": "stream",
     "text": [
      "initial_potential =  79817.69752348706\n",
      "final_potential =  80129.99245450483\n",
      "energy_change =  7.069565084821079\n",
      "p accept =  0.0008506029688744881\n",
      "current step size = 0.0005209481921906175\n",
      "current acceptance ratio = 0.6304347826086957\n",
      "currently working on step 47\n"
     ]
    },
    {
     "name": "stderr",
     "output_type": "stream",
     "text": [
      "100%|██████████| 98/98 [00:41<00:00,  2.39it/s]\n"
     ]
    },
    {
     "name": "stdout",
     "output_type": "stream",
     "text": [
      "initial_potential =  79817.69752348706\n",
      "final_potential =  79887.32003934082\n",
      "energy_change =  0.021883653826080263\n",
      "p accept =  0.9783540561809306\n",
      "current step size = 0.0016624467672337318\n",
      "current acceptance ratio = 0.6382978723404256\n",
      "currently working on step 48\n"
     ]
    },
    {
     "name": "stderr",
     "output_type": "stream",
     "text": [
      "100%|██████████| 99/99 [00:36<00:00,  2.70it/s]\n"
     ]
    },
    {
     "name": "stdout",
     "output_type": "stream",
     "text": [
      "initial_potential =  79887.32003934082\n",
      "final_potential =  80359.88629475149\n",
      "energy_change =  3.0449862953391857\n",
      "p accept =  0.047596964283311845\n",
      "current step size = 0.0004420387215802903\n",
      "current acceptance ratio = 0.625\n",
      "currently working on step 49\n"
     ]
    },
    {
     "name": "stderr",
     "output_type": "stream",
     "text": [
      "100%|██████████| 99/99 [00:48<00:00,  2.05it/s]\n"
     ]
    },
    {
     "name": "stdout",
     "output_type": "stream",
     "text": [
      "initial_potential =  79887.32003934082\n",
      "final_potential =  79787.66068194683\n",
      "energy_change =  -0.04263701953459531\n",
      "p accept =  1.0435590345512897\n",
      "current step size = 0.0014683768949471834\n",
      "current acceptance ratio = 0.6326530612244898\n",
      "currently working on step 50\n"
     ]
    },
    {
     "name": "stderr",
     "output_type": "stream",
     "text": [
      "100%|██████████| 100/100 [00:40<00:00,  2.46it/s]\n"
     ]
    },
    {
     "name": "stdout",
     "output_type": "stream",
     "text": [
      "initial_potential =  79787.66068194683\n",
      "final_potential =  80480.75857223247\n",
      "energy_change =  3.4423362542293034\n",
      "p accept =  0.03198986150891689\n",
      "current step size = 0.0010383245649967724\n",
      "current acceptance ratio = 0.62\n",
      "currently working on step 51\n"
     ]
    },
    {
     "name": "stderr",
     "output_type": "stream",
     "text": [
      "100%|██████████| 100/100 [00:43<00:00,  2.27it/s]\n"
     ]
    },
    {
     "name": "stdout",
     "output_type": "stream",
     "text": [
      "initial_potential =  79787.66068194683\n",
      "final_potential =  80426.68043047059\n",
      "energy_change =  1.6688534447457641\n",
      "p accept =  0.18846302508200838\n",
      "current step size = 0.0010383245649967724\n",
      "current acceptance ratio = 0.6078431372549019\n",
      "currently working on step 52\n"
     ]
    },
    {
     "name": "stderr",
     "output_type": "stream",
     "text": [
      "100%|██████████| 97/97 [00:37<00:00,  2.61it/s]\n"
     ]
    },
    {
     "name": "stdout",
     "output_type": "stream",
     "text": [
      "initial_potential =  79787.66068194683\n",
      "final_potential =  80096.44277692144\n",
      "energy_change =  0.4267178526497446\n",
      "p accept =  0.652647669063117\n",
      "current step size = 0.0010383245649967724\n",
      "current acceptance ratio = 0.5961538461538461\n",
      "currently working on step 53\n"
     ]
    },
    {
     "name": "stderr",
     "output_type": "stream",
     "text": [
      "100%|██████████| 100/100 [00:45<00:00,  2.20it/s]\n"
     ]
    },
    {
     "name": "stdout",
     "output_type": "stream",
     "text": [
      "initial_potential =  79787.66068194683\n",
      "final_potential =  80251.64025865668\n",
      "energy_change =  1.264032156788744\n",
      "p accept =  0.2825125917595639\n",
      "current step size = 0.0010383245649967724\n",
      "current acceptance ratio = 0.5849056603773585\n",
      "currently working on step 54\n"
     ]
    },
    {
     "name": "stderr",
     "output_type": "stream",
     "text": [
      "100%|██████████| 99/99 [00:37<00:00,  2.62it/s]\n"
     ]
    },
    {
     "name": "stdout",
     "output_type": "stream",
     "text": [
      "initial_potential =  79787.66068194683\n",
      "final_potential =  80269.15863750139\n",
      "energy_change =  1.0853557539521717\n",
      "p accept =  0.33778159737897245\n",
      "current step size = 0.0010383245649967724\n",
      "current acceptance ratio = 0.5925925925925926\n",
      "currently working on step 55\n"
     ]
    },
    {
     "name": "stderr",
     "output_type": "stream",
     "text": [
      "100%|██████████| 97/97 [00:43<00:00,  2.23it/s]\n"
     ]
    },
    {
     "name": "stdout",
     "output_type": "stream",
     "text": [
      "initial_potential =  80269.15863750139\n",
      "final_potential =  80250.2764112784\n",
      "energy_change =  0.06584049866069108\n",
      "p accept =  0.9362801903267765\n",
      "current step size = 0.0010383245649967724\n",
      "current acceptance ratio = 0.6\n",
      "currently working on step 56\n"
     ]
    },
    {
     "name": "stderr",
     "output_type": "stream",
     "text": [
      "100%|██████████| 98/98 [00:36<00:00,  2.65it/s]\n"
     ]
    },
    {
     "name": "stdout",
     "output_type": "stream",
     "text": [
      "initial_potential =  80250.2764112784\n",
      "final_potential =  80045.16969854721\n",
      "energy_change =  -0.7072184641147032\n",
      "p accept =  2.028341500116147\n",
      "current step size = 0.0010383245649967724\n",
      "current acceptance ratio = 0.6071428571428571\n",
      "currently working on step 57\n"
     ]
    },
    {
     "name": "stderr",
     "output_type": "stream",
     "text": [
      "100%|██████████| 100/100 [00:41<00:00,  2.44it/s]\n"
     ]
    },
    {
     "name": "stdout",
     "output_type": "stream",
     "text": [
      "initial_potential =  80045.16969854721\n",
      "final_potential =  80300.8290703579\n",
      "energy_change =  0.673664053552784\n",
      "p accept =  0.5098370808803394\n",
      "current step size = 0.0010383245649967724\n",
      "current acceptance ratio = 0.5964912280701754\n",
      "currently working on step 58\n"
     ]
    },
    {
     "name": "stderr",
     "output_type": "stream",
     "text": [
      "100%|██████████| 97/97 [00:40<00:00,  2.41it/s]\n"
     ]
    },
    {
     "name": "stdout",
     "output_type": "stream",
     "text": [
      "initial_potential =  80045.16969854721\n",
      "final_potential =  80430.12694081725\n",
      "energy_change =  0.8379450159845874\n",
      "p accept =  0.432598593826724\n",
      "current step size = 0.0010383245649967724\n",
      "current acceptance ratio = 0.5862068965517241\n",
      "currently working on step 59\n"
     ]
    },
    {
     "name": "stderr",
     "output_type": "stream",
     "text": [
      "100%|██████████| 99/99 [00:39<00:00,  2.53it/s]\n"
     ]
    },
    {
     "name": "stdout",
     "output_type": "stream",
     "text": [
      "initial_potential =  80045.16969854721\n",
      "final_potential =  80156.51944977802\n",
      "energy_change =  0.38654476491501555\n",
      "p accept =  0.6794003113967008\n",
      "current step size = 0.0010383245649967724\n",
      "current acceptance ratio = 0.576271186440678\n",
      "currently working on step 60\n"
     ]
    },
    {
     "name": "stderr",
     "output_type": "stream",
     "text": [
      "100%|██████████| 99/99 [00:46<00:00,  2.15it/s]\n"
     ]
    },
    {
     "name": "stdout",
     "output_type": "stream",
     "text": [
      "initial_potential =  80045.16969854721\n",
      "final_potential =  79666.68363066015\n",
      "energy_change =  -0.9707174617797136\n",
      "p accept =  2.639837762785956\n",
      "current step size = 0.0010383245649967724\n",
      "current acceptance ratio = 0.5833333333333334\n",
      "currently working on step 61\n"
     ]
    },
    {
     "name": "stderr",
     "output_type": "stream",
     "text": [
      "100%|██████████| 97/97 [00:41<00:00,  2.31it/s]\n"
     ]
    },
    {
     "name": "stdout",
     "output_type": "stream",
     "text": [
      "initial_potential =  79666.68363066015\n",
      "final_potential =  80111.29121700538\n",
      "energy_change =  1.3994788472773507\n",
      "p accept =  0.24672551211446736\n",
      "current step size = 0.0010383245649967724\n",
      "current acceptance ratio = 0.5737704918032787\n",
      "currently working on step 62\n"
     ]
    },
    {
     "name": "stderr",
     "output_type": "stream",
     "text": [
      "100%|██████████| 99/99 [00:50<00:00,  1.96it/s]\n"
     ]
    },
    {
     "name": "stdout",
     "output_type": "stream",
     "text": [
      "initial_potential =  79666.68363066015\n",
      "final_potential =  79795.79672625213\n",
      "energy_change =  0.5632467459654436\n",
      "p accept =  0.5693575005297062\n",
      "current step size = 0.0010383245649967724\n",
      "current acceptance ratio = 0.5645161290322581\n",
      "currently working on step 63\n"
     ]
    },
    {
     "name": "stderr",
     "output_type": "stream",
     "text": [
      "100%|██████████| 97/97 [00:46<00:00,  2.09it/s]\n"
     ]
    },
    {
     "name": "stdout",
     "output_type": "stream",
     "text": [
      "initial_potential =  79666.68363066015\n",
      "final_potential =  79843.10407502973\n",
      "energy_change =  0.8283776640309952\n",
      "p accept =  0.436757278908629\n",
      "current step size = 0.0010383245649967724\n",
      "current acceptance ratio = 0.5555555555555556\n",
      "currently working on step 64\n"
     ]
    },
    {
     "name": "stderr",
     "output_type": "stream",
     "text": [
      "100%|██████████| 98/98 [00:38<00:00,  2.56it/s]\n"
     ]
    },
    {
     "name": "stdout",
     "output_type": "stream",
     "text": [
      "initial_potential =  79666.68363066015\n",
      "final_potential =  80224.6645148235\n",
      "energy_change =  1.432444854755886\n",
      "p accept =  0.23872456131695222\n",
      "current step size = 0.0010383245649967724\n",
      "current acceptance ratio = 0.546875\n",
      "currently working on step 65\n"
     ]
    },
    {
     "name": "stderr",
     "output_type": "stream",
     "text": [
      "100%|██████████| 99/99 [00:44<00:00,  2.22it/s]\n"
     ]
    },
    {
     "name": "stdout",
     "output_type": "stream",
     "text": [
      "initial_potential =  79666.68363066015\n",
      "final_potential =  79511.09140827287\n",
      "energy_change =  -0.3684736748691648\n",
      "p accept =  1.4455265864513231\n",
      "current step size = 0.0010383245649967724\n",
      "current acceptance ratio = 0.5538461538461539\n",
      "currently working on step 66\n"
     ]
    },
    {
     "name": "stderr",
     "output_type": "stream",
     "text": [
      "100%|██████████| 99/99 [00:41<00:00,  2.36it/s]\n"
     ]
    },
    {
     "name": "stdout",
     "output_type": "stream",
     "text": [
      "initial_potential =  79511.09140827287\n",
      "final_potential =  80471.2117120931\n",
      "energy_change =  2.218033048964571\n",
      "p accept =  0.10882294786053102\n",
      "current step size = 0.0010383245649967724\n",
      "current acceptance ratio = 0.5454545454545454\n",
      "currently working on step 67\n"
     ]
    },
    {
     "name": "stderr",
     "output_type": "stream",
     "text": [
      "100%|██████████| 99/99 [00:40<00:00,  2.47it/s]\n"
     ]
    },
    {
     "name": "stdout",
     "output_type": "stream",
     "text": [
      "initial_potential =  79511.09140827287\n",
      "final_potential =  80011.8141582706\n",
      "energy_change =  1.278566648485139\n",
      "p accept =  0.27843611138883634\n",
      "current step size = 0.0010383245649967724\n",
      "current acceptance ratio = 0.5373134328358209\n",
      "currently working on step 68\n"
     ]
    },
    {
     "name": "stderr",
     "output_type": "stream",
     "text": [
      "100%|██████████| 98/98 [00:47<00:00,  2.06it/s]\n"
     ]
    },
    {
     "name": "stdout",
     "output_type": "stream",
     "text": [
      "initial_potential =  79511.09140827287\n",
      "final_potential =  79447.09938400767\n",
      "energy_change =  -0.11594067170517519\n",
      "p accept =  1.1229292486794133\n",
      "current step size = 0.0010383245649967724\n",
      "current acceptance ratio = 0.5441176470588235\n",
      "currently working on step 69\n"
     ]
    },
    {
     "name": "stderr",
     "output_type": "stream",
     "text": [
      "100%|██████████| 100/100 [00:49<00:00,  2.02it/s]\n"
     ]
    },
    {
     "name": "stdout",
     "output_type": "stream",
     "text": [
      "initial_potential =  79447.09938400767\n",
      "final_potential =  80161.4168183385\n",
      "energy_change =  1.986951628292445\n",
      "p accept =  0.13711275968477235\n",
      "current step size = 0.0010383245649967724\n",
      "current acceptance ratio = 0.5362318840579711\n",
      "currently working on step 70\n"
     ]
    },
    {
     "name": "stderr",
     "output_type": "stream",
     "text": [
      "100%|██████████| 98/98 [00:38<00:00,  2.57it/s]\n"
     ]
    },
    {
     "name": "stdout",
     "output_type": "stream",
     "text": [
      "initial_potential =  79447.09938400767\n",
      "final_potential =  79965.43748775328\n",
      "energy_change =  1.3014561536256224\n",
      "p accept =  0.2721352336712372\n",
      "current step size = 0.0010383245649967724\n",
      "current acceptance ratio = 0.5428571428571428\n",
      "currently working on step 71\n"
     ]
    },
    {
     "name": "stderr",
     "output_type": "stream",
     "text": [
      "100%|██████████| 100/100 [00:36<00:00,  2.73it/s]\n"
     ]
    },
    {
     "name": "stdout",
     "output_type": "stream",
     "text": [
      "initial_potential =  79965.43748775328\n",
      "final_potential =  80237.85367790771\n",
      "energy_change =  0.7911577222985215\n",
      "p accept =  0.45331967307428706\n",
      "current step size = 0.0010383245649967724\n",
      "current acceptance ratio = 0.5352112676056338\n",
      "currently working on step 72\n"
     ]
    },
    {
     "name": "stderr",
     "output_type": "stream",
     "text": [
      "100%|██████████| 100/100 [00:35<00:00,  2.79it/s]\n"
     ]
    },
    {
     "name": "stdout",
     "output_type": "stream",
     "text": [
      "initial_potential =  79965.43748775328\n",
      "final_potential =  80057.22968748385\n",
      "energy_change =  0.17901203472865745\n",
      "p accept =  0.8360958371499557\n",
      "current step size = 0.0010383245649967724\n",
      "current acceptance ratio = 0.5277777777777778\n",
      "currently working on step 73\n"
     ]
    },
    {
     "name": "stderr",
     "output_type": "stream",
     "text": [
      "100%|██████████| 99/99 [00:34<00:00,  2.86it/s]\n"
     ]
    },
    {
     "name": "stdout",
     "output_type": "stream",
     "text": [
      "initial_potential =  79965.43748775328\n",
      "final_potential =  80139.32449683745\n",
      "energy_change =  0.597489349776879\n",
      "p accept =  0.5501912412789906\n",
      "current step size = 0.0010383245649967724\n",
      "current acceptance ratio = 0.5342465753424658\n",
      "currently working on step 74\n"
     ]
    },
    {
     "name": "stderr",
     "output_type": "stream",
     "text": [
      "100%|██████████| 101/101 [00:35<00:00,  2.85it/s]\n"
     ]
    },
    {
     "name": "stdout",
     "output_type": "stream",
     "text": [
      "initial_potential =  80139.32449683745\n",
      "final_potential =  79786.336523169\n",
      "energy_change =  -0.7252662822138518\n",
      "p accept =  2.065280974342428\n",
      "current step size = 0.0010383245649967724\n",
      "current acceptance ratio = 0.5405405405405406\n",
      "currently working on step 75\n"
     ]
    },
    {
     "name": "stderr",
     "output_type": "stream",
     "text": [
      "100%|██████████| 98/98 [00:34<00:00,  2.88it/s]\n"
     ]
    },
    {
     "name": "stdout",
     "output_type": "stream",
     "text": [
      "initial_potential =  79786.336523169\n",
      "final_potential =  79828.3431445286\n",
      "energy_change =  0.22664859425276518\n",
      "p accept =  0.7972008740431709\n",
      "current step size = 0.0010383245649967724\n",
      "current acceptance ratio = 0.5466666666666666\n",
      "currently working on step 76\n"
     ]
    },
    {
     "name": "stderr",
     "output_type": "stream",
     "text": [
      "100%|██████████| 100/100 [00:36<00:00,  2.72it/s]\n"
     ]
    },
    {
     "name": "stdout",
     "output_type": "stream",
     "text": [
      "initial_potential =  79828.3431445286\n",
      "final_potential =  80230.34529195585\n",
      "energy_change =  1.263060721801594\n",
      "p accept =  0.28278716772026424\n",
      "current step size = 0.0010383245649967724\n",
      "current acceptance ratio = 0.5394736842105263\n",
      "currently working on step 77\n"
     ]
    },
    {
     "name": "stderr",
     "output_type": "stream",
     "text": [
      "100%|██████████| 97/97 [00:34<00:00,  2.79it/s]\n"
     ]
    },
    {
     "name": "stdout",
     "output_type": "stream",
     "text": [
      "initial_potential =  79828.3431445286\n",
      "final_potential =  79722.62047006316\n",
      "energy_change =  -0.31502886477392167\n",
      "p accept =  1.37029886375306\n",
      "current step size = 0.0010383245649967724\n",
      "current acceptance ratio = 0.5454545454545454\n",
      "currently working on step 78\n"
     ]
    },
    {
     "name": "stderr",
     "output_type": "stream",
     "text": [
      "100%|██████████| 98/98 [00:38<00:00,  2.53it/s]\n"
     ]
    },
    {
     "name": "stdout",
     "output_type": "stream",
     "text": [
      "initial_potential =  79722.62047006316\n",
      "final_potential =  80036.36592518208\n",
      "energy_change =  0.46514082222711295\n",
      "p accept =  0.6280466560331499\n",
      "current step size = 0.0010383245649967724\n",
      "current acceptance ratio = 0.5512820512820513\n",
      "currently working on step 79\n"
     ]
    },
    {
     "name": "stderr",
     "output_type": "stream",
     "text": [
      "100%|██████████| 99/99 [00:34<00:00,  2.86it/s]\n"
     ]
    },
    {
     "name": "stdout",
     "output_type": "stream",
     "text": [
      "initial_potential =  80036.36592518208\n",
      "final_potential =  80168.6677207811\n",
      "energy_change =  0.35198780632345006\n",
      "p accept =  0.7032886975989564\n",
      "current step size = 0.0010383245649967724\n",
      "current acceptance ratio = 0.5569620253164557\n",
      "currently working on step 80\n"
     ]
    },
    {
     "name": "stderr",
     "output_type": "stream",
     "text": [
      "100%|██████████| 100/100 [00:35<00:00,  2.85it/s]\n"
     ]
    },
    {
     "name": "stdout",
     "output_type": "stream",
     "text": [
      "initial_potential =  80168.6677207811\n",
      "final_potential =  80340.47072163629\n",
      "energy_change =  0.033047207281924784\n",
      "p accept =  0.9674928858015526\n",
      "current step size = 0.0010383245649967724\n",
      "current acceptance ratio = 0.5625\n",
      "currently working on step 81\n"
     ]
    },
    {
     "name": "stderr",
     "output_type": "stream",
     "text": [
      "100%|██████████| 100/100 [00:36<00:00,  2.74it/s]\n"
     ]
    },
    {
     "name": "stdout",
     "output_type": "stream",
     "text": [
      "initial_potential =  80340.47072163629\n",
      "final_potential =  80133.99590098021\n",
      "energy_change =  -0.21823568490799516\n",
      "p accept =  1.2438801968643904\n",
      "current step size = 0.0010383245649967724\n",
      "current acceptance ratio = 0.5679012345679012\n",
      "currently working on step 82\n"
     ]
    },
    {
     "name": "stderr",
     "output_type": "stream",
     "text": [
      "100%|██████████| 100/100 [00:35<00:00,  2.84it/s]\n"
     ]
    },
    {
     "name": "stdout",
     "output_type": "stream",
     "text": [
      "initial_potential =  80133.99590098021\n",
      "final_potential =  80131.47534672792\n",
      "energy_change =  0.18207646487280726\n",
      "p accept =  0.8335376016321885\n",
      "current step size = 0.0010383245649967724\n",
      "current acceptance ratio = 0.573170731707317\n",
      "currently working on step 83\n"
     ]
    },
    {
     "name": "stderr",
     "output_type": "stream",
     "text": [
      "100%|██████████| 97/97 [00:33<00:00,  2.92it/s]\n"
     ]
    },
    {
     "name": "stdout",
     "output_type": "stream",
     "text": [
      "initial_potential =  80131.47534672792\n",
      "final_potential =  80270.87409534078\n",
      "energy_change =  0.2945546971168369\n",
      "p accept =  0.7448632033576905\n",
      "current step size = 0.0010383245649967724\n",
      "current acceptance ratio = 0.5783132530120482\n",
      "currently working on step 84\n"
     ]
    },
    {
     "name": "stderr",
     "output_type": "stream",
     "text": [
      "100%|██████████| 97/97 [00:32<00:00,  2.95it/s]\n"
     ]
    },
    {
     "name": "stdout",
     "output_type": "stream",
     "text": [
      "initial_potential =  80270.87409534078\n",
      "final_potential =  80231.62016974654\n",
      "energy_change =  0.04697170102735981\n",
      "p accept =  0.9541143976655673\n",
      "current step size = 0.0010383245649967724\n",
      "current acceptance ratio = 0.5833333333333334\n",
      "currently working on step 85\n"
     ]
    },
    {
     "name": "stderr",
     "output_type": "stream",
     "text": [
      "100%|██████████| 101/101 [00:35<00:00,  2.81it/s]\n"
     ]
    },
    {
     "name": "stdout",
     "output_type": "stream",
     "text": [
      "initial_potential =  80231.62016974654\n",
      "final_potential =  80171.31297724563\n",
      "energy_change =  -0.5468658361933194\n",
      "p accept =  1.7278292229616392\n",
      "current step size = 0.0010383245649967724\n",
      "current acceptance ratio = 0.5882352941176471\n",
      "currently working on step 86\n"
     ]
    },
    {
     "name": "stderr",
     "output_type": "stream",
     "text": [
      "100%|██████████| 100/100 [00:35<00:00,  2.81it/s]\n"
     ]
    },
    {
     "name": "stdout",
     "output_type": "stream",
     "text": [
      "initial_potential =  80171.31297724563\n",
      "final_potential =  80131.27527755698\n",
      "energy_change =  -0.03158394491765648\n",
      "p accept =  1.0320880105023709\n",
      "current step size = 0.0010383245649967724\n",
      "current acceptance ratio = 0.5930232558139535\n",
      "currently working on step 87\n"
     ]
    },
    {
     "name": "stderr",
     "output_type": "stream",
     "text": [
      "100%|██████████| 97/97 [00:33<00:00,  2.90it/s]\n"
     ]
    },
    {
     "name": "stdout",
     "output_type": "stream",
     "text": [
      "initial_potential =  80131.27527755698\n",
      "final_potential =  80080.33677366769\n",
      "energy_change =  0.005001929763238877\n",
      "p accept =  0.9950105590560304\n",
      "current step size = 0.0010383245649967724\n",
      "current acceptance ratio = 0.5977011494252874\n",
      "currently working on step 88\n"
     ]
    },
    {
     "name": "stderr",
     "output_type": "stream",
     "text": [
      "100%|██████████| 97/97 [00:32<00:00,  2.96it/s]\n"
     ]
    },
    {
     "name": "stdout",
     "output_type": "stream",
     "text": [
      "initial_potential =  80080.33677366769\n",
      "final_potential =  80225.74420261632\n",
      "energy_change =  0.43892993981717154\n",
      "p accept =  0.6447259476653101\n",
      "current step size = 0.0010383245649967724\n",
      "current acceptance ratio = 0.5909090909090909\n",
      "currently working on step 89\n"
     ]
    },
    {
     "name": "stderr",
     "output_type": "stream",
     "text": [
      "100%|██████████| 100/100 [00:34<00:00,  2.86it/s]\n"
     ]
    },
    {
     "name": "stdout",
     "output_type": "stream",
     "text": [
      "initial_potential =  80080.33677366769\n",
      "final_potential =  80042.09282944031\n",
      "energy_change =  0.014400007319636643\n",
      "p accept =  0.9857031769074539\n",
      "current step size = 0.0010383245649967724\n",
      "current acceptance ratio = 0.5955056179775281\n",
      "currently working on step 90\n"
     ]
    },
    {
     "name": "stderr",
     "output_type": "stream",
     "text": [
      "100%|██████████| 98/98 [00:34<00:00,  2.87it/s]\n"
     ]
    },
    {
     "name": "stdout",
     "output_type": "stream",
     "text": [
      "initial_potential =  80042.09282944031\n",
      "final_potential =  79864.43995240112\n",
      "energy_change =  -0.2871858053840697\n",
      "p accept =  1.3326718080698965\n",
      "current step size = 0.0010383245649967724\n",
      "current acceptance ratio = 0.6\n",
      "currently working on step 91\n"
     ]
    },
    {
     "name": "stderr",
     "output_type": "stream",
     "text": [
      "100%|██████████| 99/99 [00:33<00:00,  2.94it/s]\n"
     ]
    },
    {
     "name": "stdout",
     "output_type": "stream",
     "text": [
      "initial_potential =  79864.43995240112\n",
      "final_potential =  79876.18238260245\n",
      "energy_change =  0.2701456185313873\n",
      "p accept =  0.7632683402292421\n",
      "current step size = 0.0010383245649967724\n",
      "current acceptance ratio = 0.5934065934065934\n",
      "currently working on step 92\n"
     ]
    },
    {
     "name": "stderr",
     "output_type": "stream",
     "text": [
      "100%|██████████| 97/97 [00:32<00:00,  2.99it/s]\n"
     ]
    },
    {
     "name": "stdout",
     "output_type": "stream",
     "text": [
      "initial_potential =  79864.43995240112\n",
      "final_potential =  80130.2654995702\n",
      "energy_change =  0.7549159229383804\n",
      "p accept =  0.47005013350324243\n",
      "current step size = 0.0010383245649967724\n",
      "current acceptance ratio = 0.5869565217391305\n",
      "currently working on step 93\n"
     ]
    },
    {
     "name": "stderr",
     "output_type": "stream",
     "text": [
      "100%|██████████| 98/98 [00:33<00:00,  2.96it/s]\n"
     ]
    },
    {
     "name": "stdout",
     "output_type": "stream",
     "text": [
      "initial_potential =  79864.43995240112\n",
      "final_potential =  79813.5360253968\n",
      "energy_change =  -0.01874068472534418\n",
      "p accept =  1.018917393512446\n",
      "current step size = 0.0010383245649967724\n",
      "current acceptance ratio = 0.5913978494623656\n",
      "currently working on step 94\n"
     ]
    },
    {
     "name": "stderr",
     "output_type": "stream",
     "text": [
      "100%|██████████| 101/101 [00:34<00:00,  2.97it/s]\n"
     ]
    },
    {
     "name": "stdout",
     "output_type": "stream",
     "text": [
      "initial_potential =  79813.5360253968\n",
      "final_potential =  80191.1643312154\n",
      "energy_change =  0.6268425112357363\n",
      "p accept =  0.534276111330633\n",
      "current step size = 0.0010383245649967724\n",
      "current acceptance ratio = 0.5957446808510638\n",
      "currently working on step 95\n"
     ]
    },
    {
     "name": "stderr",
     "output_type": "stream",
     "text": [
      "100%|██████████| 99/99 [00:32<00:00,  3.01it/s]\n"
     ]
    },
    {
     "name": "stdout",
     "output_type": "stream",
     "text": [
      "initial_potential =  80191.1643312154\n",
      "final_potential =  80252.14958500247\n",
      "energy_change =  -0.043278733326587826\n",
      "p accept =  1.0442289156895146\n",
      "current step size = 0.0010383245649967724\n",
      "current acceptance ratio = 0.6\n",
      "currently working on step 96\n"
     ]
    },
    {
     "name": "stderr",
     "output_type": "stream",
     "text": [
      "100%|██████████| 98/98 [00:32<00:00,  3.02it/s]\n"
     ]
    },
    {
     "name": "stdout",
     "output_type": "stream",
     "text": [
      "initial_potential =  80252.14958500247\n",
      "final_potential =  80295.59128070493\n",
      "energy_change =  0.09013343194965273\n",
      "p accept =  0.9138092457868215\n",
      "current step size = 0.0010383245649967724\n",
      "current acceptance ratio = 0.6041666666666666\n",
      "currently working on step 97\n"
     ]
    },
    {
     "name": "stderr",
     "output_type": "stream",
     "text": [
      "100%|██████████| 98/98 [00:32<00:00,  3.01it/s]\n"
     ]
    },
    {
     "name": "stdout",
     "output_type": "stream",
     "text": [
      "initial_potential =  80295.59128070493\n",
      "final_potential =  80157.36509450745\n",
      "energy_change =  -0.20365254196804017\n",
      "p accept =  1.2258721403283421\n",
      "current step size = 0.0010383245649967724\n",
      "current acceptance ratio = 0.6082474226804123\n",
      "currently working on step 98\n"
     ]
    },
    {
     "name": "stderr",
     "output_type": "stream",
     "text": [
      "100%|██████████| 98/98 [00:33<00:00,  2.94it/s]\n"
     ]
    },
    {
     "name": "stdout",
     "output_type": "stream",
     "text": [
      "initial_potential =  80157.36509450745\n",
      "final_potential =  80659.65193854744\n",
      "energy_change =  1.2392665582010522\n",
      "p accept =  0.2895965422746962\n",
      "current step size = 0.0010383245649967724\n",
      "current acceptance ratio = 0.6122448979591837\n",
      "currently working on step 99\n"
     ]
    },
    {
     "name": "stderr",
     "output_type": "stream",
     "text": [
      "100%|██████████| 101/101 [00:47<00:00,  2.12it/s]\n"
     ]
    },
    {
     "name": "stdout",
     "output_type": "stream",
     "text": [
      "initial_potential =  80659.65193854744\n",
      "final_potential =  80347.77427884222\n",
      "energy_change =  -0.9200353330234066\n",
      "p accept =  2.509379052318725\n",
      "current step size = 0.0010383245649967724\n",
      "current acceptance ratio = 0.6161616161616161\n",
      "currently working on step 100\n"
     ]
    },
    {
     "name": "stderr",
     "output_type": "stream",
     "text": [
      "100%|██████████| 97/97 [00:39<00:00,  2.44it/s]\n"
     ]
    },
    {
     "name": "stdout",
     "output_type": "stream",
     "text": [
      "initial_potential =  80347.77427884222\n",
      "final_potential =  79981.16447918085\n",
      "energy_change =  -1.060480180371087\n",
      "p accept =  2.887757300773829\n",
      "current step size = 0.0010383245649967724\n",
      "current acceptance ratio = 0.62\n",
      "currently working on step 101\n"
     ]
    },
    {
     "name": "stderr",
     "output_type": "stream",
     "text": [
      "100%|██████████| 100/100 [00:40<00:00,  2.47it/s]\n"
     ]
    },
    {
     "name": "stdout",
     "output_type": "stream",
     "text": [
      "initial_potential =  79981.16447918085\n",
      "final_potential =  80168.6499058555\n",
      "energy_change =  0.5450580965261906\n",
      "p accept =  0.579808097525018\n",
      "current step size = 0.0010383245649967724\n",
      "current acceptance ratio = 0.6237623762376238\n",
      "currently working on step 102\n"
     ]
    },
    {
     "name": "stderr",
     "output_type": "stream",
     "text": [
      "100%|██████████| 101/101 [00:58<00:00,  1.73it/s]\n"
     ]
    },
    {
     "name": "stdout",
     "output_type": "stream",
     "text": [
      "initial_potential =  80168.6499058555\n",
      "final_potential =  80169.17161458272\n",
      "energy_change =  -0.09598825848661363\n",
      "p accept =  1.1007461394925706\n",
      "current step size = 0.0010383245649967724\n",
      "current acceptance ratio = 0.6274509803921569\n",
      "currently working on step 103\n"
     ]
    },
    {
     "name": "stderr",
     "output_type": "stream",
     "text": [
      "100%|██████████| 97/97 [00:37<00:00,  2.56it/s]\n"
     ]
    },
    {
     "name": "stdout",
     "output_type": "stream",
     "text": [
      "initial_potential =  80169.17161458272\n",
      "final_potential =  79333.38957803161\n",
      "energy_change =  -1.9452823069877923\n",
      "p accept =  6.99560648488848\n",
      "current step size = 0.0010383245649967724\n",
      "current acceptance ratio = 0.6310679611650486\n",
      "currently working on step 104\n"
     ]
    },
    {
     "name": "stderr",
     "output_type": "stream",
     "text": [
      "100%|██████████| 100/100 [01:01<00:00,  1.62it/s]\n"
     ]
    },
    {
     "name": "stdout",
     "output_type": "stream",
     "text": [
      "initial_potential =  79333.38957803161\n",
      "final_potential =  79446.91750823909\n",
      "energy_change =  0.14851629931945354\n",
      "p accept =  0.8619859572715151\n",
      "current step size = 0.0010383245649967724\n",
      "current acceptance ratio = 0.625\n",
      "currently working on step 105\n"
     ]
    },
    {
     "name": "stderr",
     "output_type": "stream",
     "text": [
      "100%|██████████| 99/99 [00:33<00:00,  3.00it/s]\n"
     ]
    },
    {
     "name": "stdout",
     "output_type": "stream",
     "text": [
      "initial_potential =  79333.38957803161\n",
      "final_potential =  80346.67829125043\n",
      "energy_change =  2.713740522158332\n",
      "p accept =  0.06628838921038947\n",
      "current step size = 0.0010383245649967724\n",
      "current acceptance ratio = 0.6190476190476191\n",
      "currently working on step 106\n"
     ]
    },
    {
     "name": "stderr",
     "output_type": "stream",
     "text": [
      "100%|██████████| 101/101 [00:31<00:00,  3.24it/s]\n"
     ]
    },
    {
     "name": "stdout",
     "output_type": "stream",
     "text": [
      "initial_potential =  79333.38957803161\n",
      "final_potential =  79972.63186776554\n",
      "energy_change =  1.5536219255300239\n",
      "p accept =  0.21148061796340986\n",
      "current step size = 0.0010383245649967724\n",
      "current acceptance ratio = 0.6132075471698113\n",
      "currently working on step 107\n"
     ]
    },
    {
     "name": "stderr",
     "output_type": "stream",
     "text": [
      "100%|██████████| 99/99 [00:28<00:00,  3.45it/s]\n"
     ]
    },
    {
     "name": "stdout",
     "output_type": "stream",
     "text": [
      "initial_potential =  79333.38957803161\n",
      "final_potential =  80214.53852364587\n",
      "energy_change =  2.3500968377338722\n",
      "p accept =  0.09535992732914933\n",
      "current step size = 0.0010383245649967724\n",
      "current acceptance ratio = 0.6074766355140186\n",
      "currently working on step 108\n"
     ]
    },
    {
     "name": "stderr",
     "output_type": "stream",
     "text": [
      "100%|██████████| 97/97 [00:30<00:00,  3.19it/s]\n"
     ]
    },
    {
     "name": "stdout",
     "output_type": "stream",
     "text": [
      "initial_potential =  79333.38957803161\n",
      "final_potential =  79414.77092504682\n",
      "energy_change =  -0.07924687548074871\n",
      "p accept =  1.0824715247641339\n",
      "current step size = 0.0010383245649967724\n",
      "current acceptance ratio = 0.6111111111111112\n",
      "currently working on step 109\n"
     ]
    },
    {
     "name": "stderr",
     "output_type": "stream",
     "text": [
      "100%|██████████| 98/98 [00:32<00:00,  3.02it/s]\n"
     ]
    },
    {
     "name": "stdout",
     "output_type": "stream",
     "text": [
      "initial_potential =  79414.77092504682\n",
      "final_potential =  80164.09629098332\n",
      "energy_change =  2.0994019947829656\n",
      "p accept =  0.12252967973613817\n",
      "current step size = 0.0010383245649967724\n",
      "current acceptance ratio = 0.6146788990825688\n",
      "currently working on step 110\n"
     ]
    },
    {
     "name": "stderr",
     "output_type": "stream",
     "text": [
      "100%|██████████| 99/99 [00:33<00:00,  3.00it/s]\n"
     ]
    },
    {
     "name": "stdout",
     "output_type": "stream",
     "text": [
      "initial_potential =  80164.09629098332\n",
      "final_potential =  80414.38568440118\n",
      "energy_change =  0.5735295996419154\n",
      "p accept =  0.5635328788514933\n",
      "current step size = 0.0010383245649967724\n",
      "current acceptance ratio = 0.6181818181818182\n",
      "currently working on step 111\n"
     ]
    },
    {
     "name": "stderr",
     "output_type": "stream",
     "text": [
      "100%|██████████| 101/101 [00:32<00:00,  3.06it/s]\n"
     ]
    },
    {
     "name": "stdout",
     "output_type": "stream",
     "text": [
      "initial_potential =  80414.38568440118\n",
      "final_potential =  80227.75904688856\n",
      "energy_change =  -0.5777708372916095\n",
      "p accept =  1.7820614947500435\n",
      "current step size = 0.0010383245649967724\n",
      "current acceptance ratio = 0.6216216216216216\n",
      "currently working on step 112\n"
     ]
    },
    {
     "name": "stderr",
     "output_type": "stream",
     "text": [
      "100%|██████████| 100/100 [00:32<00:00,  3.04it/s]\n"
     ]
    },
    {
     "name": "stdout",
     "output_type": "stream",
     "text": [
      "initial_potential =  80227.75904688856\n",
      "final_potential =  79739.20937113398\n",
      "energy_change =  -1.0860275761806406\n",
      "p accept =  2.962482431595789\n",
      "current step size = 0.0010383245649967724\n",
      "current acceptance ratio = 0.625\n",
      "currently working on step 113\n"
     ]
    },
    {
     "name": "stderr",
     "output_type": "stream",
     "text": [
      "100%|██████████| 97/97 [00:31<00:00,  3.03it/s]\n"
     ]
    },
    {
     "name": "stdout",
     "output_type": "stream",
     "text": [
      "initial_potential =  79739.20937113398\n",
      "final_potential =  79473.27024439262\n",
      "energy_change =  -0.7103013362502679\n",
      "p accept =  2.0346042663017845\n",
      "current step size = 0.0010383245649967724\n",
      "current acceptance ratio = 0.6283185840707964\n",
      "currently working on step 114\n"
     ]
    },
    {
     "name": "stderr",
     "output_type": "stream",
     "text": [
      "100%|██████████| 99/99 [00:32<00:00,  3.01it/s]\n"
     ]
    },
    {
     "name": "stdout",
     "output_type": "stream",
     "text": [
      "initial_potential =  79473.27024439262\n",
      "final_potential =  79867.31619309823\n",
      "energy_change =  1.0813463671365753\n",
      "p accept =  0.33913861304455817\n",
      "current step size = 0.0010383245649967724\n",
      "current acceptance ratio = 0.6228070175438597\n",
      "currently working on step 115\n"
     ]
    },
    {
     "name": "stderr",
     "output_type": "stream",
     "text": [
      "100%|██████████| 99/99 [00:32<00:00,  3.03it/s]\n"
     ]
    },
    {
     "name": "stdout",
     "output_type": "stream",
     "text": [
      "initial_potential =  79473.27024439262\n",
      "final_potential =  80726.07879181867\n",
      "energy_change =  3.155006306595169\n",
      "p accept =  0.042638132090367216\n",
      "current step size = 0.0010383245649967724\n",
      "current acceptance ratio = 0.6173913043478261\n",
      "currently working on step 116\n"
     ]
    },
    {
     "name": "stderr",
     "output_type": "stream",
     "text": [
      "100%|██████████| 98/98 [00:32<00:00,  3.03it/s]\n"
     ]
    },
    {
     "name": "stdout",
     "output_type": "stream",
     "text": [
      "initial_potential =  79473.27024439262\n",
      "final_potential =  80204.3302564478\n",
      "energy_change =  2.2183309349929914\n",
      "p accept =  0.10879053585257371\n",
      "current step size = 0.0010383245649967724\n",
      "current acceptance ratio = 0.6206896551724138\n",
      "currently working on step 117\n"
     ]
    },
    {
     "name": "stderr",
     "output_type": "stream",
     "text": [
      "100%|██████████| 101/101 [00:33<00:00,  3.02it/s]\n"
     ]
    },
    {
     "name": "stdout",
     "output_type": "stream",
     "text": [
      "initial_potential =  80204.3302564478\n",
      "final_potential =  80207.54847160436\n",
      "energy_change =  -0.23726126115070656\n",
      "p accept =  1.2677722941600444\n",
      "current step size = 0.0010383245649967724\n",
      "current acceptance ratio = 0.6239316239316239\n",
      "currently working on step 118\n"
     ]
    },
    {
     "name": "stderr",
     "output_type": "stream",
     "text": [
      "100%|██████████| 99/99 [00:32<00:00,  3.02it/s]\n"
     ]
    },
    {
     "name": "stdout",
     "output_type": "stream",
     "text": [
      "initial_potential =  80207.54847160436\n",
      "final_potential =  80454.0944037592\n",
      "energy_change =  0.770693625556305\n",
      "p accept =  0.46269202196998943\n",
      "current step size = 0.0010383245649967724\n",
      "current acceptance ratio = 0.6186440677966102\n",
      "currently working on step 119\n"
     ]
    },
    {
     "name": "stderr",
     "output_type": "stream",
     "text": [
      "100%|██████████| 97/97 [00:32<00:00,  2.98it/s]\n"
     ]
    },
    {
     "name": "stdout",
     "output_type": "stream",
     "text": [
      "initial_potential =  80207.54847160436\n",
      "final_potential =  80029.77920509137\n",
      "energy_change =  -0.5284012328484096\n",
      "p accept =  1.6962182815774969\n",
      "current step size = 0.0010383245649967724\n",
      "current acceptance ratio = 0.6218487394957983\n",
      "currently working on step 120\n"
     ]
    },
    {
     "name": "stderr",
     "output_type": "stream",
     "text": [
      "100%|██████████| 97/97 [00:32<00:00,  2.95it/s]\n"
     ]
    },
    {
     "name": "stdout",
     "output_type": "stream",
     "text": [
      "initial_potential =  80029.77920509137\n",
      "final_potential =  80073.49932362128\n",
      "energy_change =  0.17658697289880365\n",
      "p accept =  0.8381258817476829\n",
      "current step size = 0.0010383245649967724\n",
      "current acceptance ratio = 0.625\n",
      "currently working on step 121\n"
     ]
    },
    {
     "name": "stderr",
     "output_type": "stream",
     "text": [
      "100%|██████████| 97/97 [00:33<00:00,  2.92it/s]\n"
     ]
    },
    {
     "name": "stdout",
     "output_type": "stream",
     "text": [
      "initial_potential =  80073.49932362128\n",
      "final_potential =  80235.63449471875\n",
      "energy_change =  0.2875802638591267\n",
      "p accept =  0.7500763603314936\n",
      "current step size = 0.0010383245649967724\n",
      "current acceptance ratio = 0.628099173553719\n",
      "currently working on step 122\n"
     ]
    },
    {
     "name": "stderr",
     "output_type": "stream",
     "text": [
      "100%|██████████| 101/101 [00:37<00:00,  2.69it/s]\n"
     ]
    },
    {
     "name": "stdout",
     "output_type": "stream",
     "text": [
      "initial_potential =  80235.63449471875\n",
      "final_potential =  80684.76551614818\n",
      "energy_change =  1.2387315921369009\n",
      "p accept =  0.2897515080441268\n",
      "current step size = 0.0010383245649967724\n",
      "current acceptance ratio = 0.6229508196721312\n",
      "currently working on step 123\n"
     ]
    },
    {
     "name": "stderr",
     "output_type": "stream",
     "text": [
      "100%|██████████| 97/97 [00:34<00:00,  2.78it/s]\n"
     ]
    },
    {
     "name": "stdout",
     "output_type": "stream",
     "text": [
      "initial_potential =  80235.63449471875\n",
      "final_potential =  79996.03141000017\n",
      "energy_change =  -0.6225830555194989\n",
      "p accept =  1.8637359630756445\n",
      "current step size = 0.0010383245649967724\n",
      "current acceptance ratio = 0.6260162601626016\n",
      "currently working on step 124\n"
     ]
    },
    {
     "name": "stderr",
     "output_type": "stream",
     "text": [
      "100%|██████████| 98/98 [00:31<00:00,  3.08it/s]\n"
     ]
    },
    {
     "name": "stdout",
     "output_type": "stream",
     "text": [
      "initial_potential =  79996.03141000017\n",
      "final_potential =  80441.58041717898\n",
      "energy_change =  1.2119002302060835\n",
      "p accept =  0.29763117398781785\n",
      "current step size = 0.0010383245649967724\n",
      "current acceptance ratio = 0.6290322580645161\n",
      "currently working on step 125\n"
     ]
    },
    {
     "name": "stderr",
     "output_type": "stream",
     "text": [
      "100%|██████████| 101/101 [00:39<00:00,  2.54it/s]\n"
     ]
    },
    {
     "name": "stdout",
     "output_type": "stream",
     "text": [
      "initial_potential =  80441.58041717898\n",
      "final_potential =  80157.21075699931\n",
      "energy_change =  -0.6971963854739442\n",
      "p accept =  2.0081148280411902\n",
      "current step size = 0.0010383245649967724\n",
      "current acceptance ratio = 0.632\n",
      "currently working on step 126\n"
     ]
    },
    {
     "name": "stderr",
     "output_type": "stream",
     "text": [
      "100%|██████████| 97/97 [00:32<00:00,  2.94it/s]\n"
     ]
    },
    {
     "name": "stdout",
     "output_type": "stream",
     "text": [
      "initial_potential =  80157.21075699931\n",
      "final_potential =  79883.19107191253\n",
      "energy_change =  -0.9637478339136578\n",
      "p accept =  2.6215030432570945\n",
      "current step size = 0.0010383245649967724\n",
      "current acceptance ratio = 0.6349206349206349\n",
      "currently working on step 127\n"
     ]
    },
    {
     "name": "stderr",
     "output_type": "stream",
     "text": [
      "100%|██████████| 100/100 [00:33<00:00,  2.99it/s]\n"
     ]
    },
    {
     "name": "stdout",
     "output_type": "stream",
     "text": [
      "initial_potential =  79883.19107191253\n",
      "final_potential =  80328.79032452284\n",
      "energy_change =  1.0938874352141283\n",
      "p accept =  0.3349120110582137\n",
      "current step size = 0.0010383245649967724\n",
      "current acceptance ratio = 0.6377952755905512\n",
      "currently working on step 128\n"
     ]
    },
    {
     "name": "stderr",
     "output_type": "stream",
     "text": [
      "100%|██████████| 101/101 [00:32<00:00,  3.09it/s]\n"
     ]
    },
    {
     "name": "stdout",
     "output_type": "stream",
     "text": [
      "initial_potential =  80328.79032452284\n",
      "final_potential =  79922.52139385889\n",
      "energy_change =  -0.9064206892508082\n",
      "p accept =  2.4754462659727907\n",
      "current step size = 0.0010383245649967724\n",
      "current acceptance ratio = 0.640625\n",
      "currently working on step 129\n"
     ]
    },
    {
     "name": "stderr",
     "output_type": "stream",
     "text": [
      "100%|██████████| 101/101 [00:33<00:00,  3.05it/s]\n"
     ]
    },
    {
     "name": "stdout",
     "output_type": "stream",
     "text": [
      "initial_potential =  79922.52139385889\n",
      "final_potential =  79949.78597045166\n",
      "energy_change =  0.13287912460509688\n",
      "p accept =  0.8755709206934108\n",
      "current step size = 0.0010383245649967724\n",
      "current acceptance ratio = 0.6434108527131783\n",
      "currently working on step 130\n"
     ]
    },
    {
     "name": "stderr",
     "output_type": "stream",
     "text": [
      "100%|██████████| 101/101 [00:34<00:00,  2.97it/s]\n"
     ]
    },
    {
     "name": "stdout",
     "output_type": "stream",
     "text": [
      "initial_potential =  79949.78597045166\n",
      "final_potential =  79790.6373543733\n",
      "energy_change =  -0.22027679957682267\n",
      "p accept =  1.2464216918394577\n",
      "current step size = 0.0010383245649967724\n",
      "current acceptance ratio = 0.6461538461538462\n",
      "currently working on step 131\n"
     ]
    },
    {
     "name": "stderr",
     "output_type": "stream",
     "text": [
      "100%|██████████| 100/100 [00:34<00:00,  2.92it/s]\n"
     ]
    },
    {
     "name": "stdout",
     "output_type": "stream",
     "text": [
      "initial_potential =  79790.6373543733\n",
      "final_potential =  80136.52462308444\n",
      "energy_change =  1.0853147194138728\n",
      "p accept =  0.3377954583752546\n",
      "current step size = 0.0010383245649967724\n",
      "current acceptance ratio = 0.6412213740458015\n",
      "currently working on step 132\n"
     ]
    },
    {
     "name": "stderr",
     "output_type": "stream",
     "text": [
      "100%|██████████| 100/100 [00:33<00:00,  2.98it/s]\n"
     ]
    },
    {
     "name": "stdout",
     "output_type": "stream",
     "text": [
      "initial_potential =  79790.6373543733\n",
      "final_potential =  79646.97460691255\n",
      "energy_change =  -0.1465700474800542\n",
      "p accept =  1.1578560328752943\n",
      "current step size = 0.0010383245649967724\n",
      "current acceptance ratio = 0.6439393939393939\n",
      "currently working on step 133\n"
     ]
    },
    {
     "name": "stderr",
     "output_type": "stream",
     "text": [
      "100%|██████████| 99/99 [00:35<00:00,  2.77it/s]\n"
     ]
    },
    {
     "name": "stdout",
     "output_type": "stream",
     "text": [
      "initial_potential =  79646.97460691255\n",
      "final_potential =  79921.91442347062\n",
      "energy_change =  0.495736280689016\n",
      "p accept =  0.609122257195152\n",
      "current step size = 0.0010383245649967724\n",
      "current acceptance ratio = 0.6466165413533834\n",
      "currently working on step 134\n"
     ]
    },
    {
     "name": "stderr",
     "output_type": "stream",
     "text": [
      "100%|██████████| 98/98 [00:32<00:00,  3.02it/s]\n"
     ]
    },
    {
     "name": "stdout",
     "output_type": "stream",
     "text": [
      "initial_potential =  79921.91442347062\n",
      "final_potential =  80014.67111795822\n",
      "energy_change =  0.2878951480379328\n",
      "p accept =  0.749840210334629\n",
      "current step size = 0.0010383245649967724\n",
      "current acceptance ratio = 0.6492537313432836\n",
      "currently working on step 135\n"
     ]
    },
    {
     "name": "stderr",
     "output_type": "stream",
     "text": [
      "100%|██████████| 97/97 [00:34<00:00,  2.78it/s]\n"
     ]
    },
    {
     "name": "stdout",
     "output_type": "stream",
     "text": [
      "initial_potential =  80014.67111795822\n",
      "final_potential =  80069.39237805117\n",
      "energy_change =  0.30544897442450747\n",
      "p accept =  0.736792499131642\n",
      "current step size = 0.0010383245649967724\n",
      "current acceptance ratio = 0.6518518518518519\n",
      "currently working on step 136\n"
     ]
    },
    {
     "name": "stderr",
     "output_type": "stream",
     "text": [
      "100%|██████████| 99/99 [00:35<00:00,  2.77it/s]\n"
     ]
    },
    {
     "name": "stdout",
     "output_type": "stream",
     "text": [
      "initial_potential =  80069.39237805117\n",
      "final_potential =  79973.31182861785\n",
      "energy_change =  -0.17987844941671938\n",
      "p accept =  1.197071849496821\n",
      "current step size = 0.0010383245649967724\n",
      "current acceptance ratio = 0.6544117647058824\n",
      "currently working on step 137\n"
     ]
    },
    {
     "name": "stderr",
     "output_type": "stream",
     "text": [
      "100%|██████████| 101/101 [00:37<00:00,  2.68it/s]\n"
     ]
    },
    {
     "name": "stdout",
     "output_type": "stream",
     "text": [
      "initial_potential =  79973.31182861785\n",
      "final_potential =  79701.08108389433\n",
      "energy_change =  -0.9758747468004003\n",
      "p accept =  2.653487325626228\n",
      "current step size = 0.0010383245649967724\n",
      "current acceptance ratio = 0.656934306569343\n",
      "currently working on step 138\n"
     ]
    },
    {
     "name": "stderr",
     "output_type": "stream",
     "text": [
      "100%|██████████| 100/100 [00:34<00:00,  2.90it/s]\n"
     ]
    },
    {
     "name": "stdout",
     "output_type": "stream",
     "text": [
      "initial_potential =  79701.08108389433\n",
      "final_potential =  80222.51841073888\n",
      "energy_change =  1.5649541555903852\n",
      "p accept =  0.20909759890952892\n",
      "current step size = 0.0010383245649967724\n",
      "current acceptance ratio = 0.6521739130434783\n",
      "currently working on step 139\n"
     ]
    },
    {
     "name": "stderr",
     "output_type": "stream",
     "text": [
      "100%|██████████| 99/99 [00:36<00:00,  2.73it/s]\n"
     ]
    },
    {
     "name": "stdout",
     "output_type": "stream",
     "text": [
      "initial_potential =  79701.08108389433\n",
      "final_potential =  79846.29661272602\n",
      "energy_change =  0.2804988623247482\n",
      "p accept =  0.7554068034493583\n",
      "current step size = 0.0010383245649967724\n",
      "current acceptance ratio = 0.6546762589928058\n",
      "currently working on step 140\n"
     ]
    },
    {
     "name": "stderr",
     "output_type": "stream",
     "text": [
      "100%|██████████| 98/98 [00:34<00:00,  2.82it/s]\n"
     ]
    },
    {
     "name": "stdout",
     "output_type": "stream",
     "text": [
      "initial_potential =  79846.29661272602\n",
      "final_potential =  80135.18149981508\n",
      "energy_change =  0.7500132974237204\n",
      "p accept =  0.47236027152457366\n",
      "current step size = 0.0010383245649967724\n",
      "current acceptance ratio = 0.65\n",
      "currently working on step 141\n"
     ]
    },
    {
     "name": "stderr",
     "output_type": "stream",
     "text": [
      "100%|██████████| 97/97 [00:34<00:00,  2.83it/s]\n"
     ]
    },
    {
     "name": "stdout",
     "output_type": "stream",
     "text": [
      "initial_potential =  79846.29661272602\n",
      "final_potential =  79966.65994704272\n",
      "energy_change =  0.308982424903661\n",
      "p accept =  0.7341936734374158\n",
      "current step size = 0.0010383245649967724\n",
      "current acceptance ratio = 0.6453900709219859\n",
      "currently working on step 142\n"
     ]
    },
    {
     "name": "stderr",
     "output_type": "stream",
     "text": [
      "100%|██████████| 100/100 [00:34<00:00,  2.87it/s]\n"
     ]
    },
    {
     "name": "stdout",
     "output_type": "stream",
     "text": [
      "initial_potential =  79846.29661272602\n",
      "final_potential =  79961.16614127875\n",
      "energy_change =  0.519696956500411\n",
      "p accept =  0.5947007408593916\n",
      "current step size = 0.0010383245649967724\n",
      "current acceptance ratio = 0.6408450704225352\n",
      "currently working on step 143\n"
     ]
    },
    {
     "name": "stderr",
     "output_type": "stream",
     "text": [
      "100%|██████████| 99/99 [00:34<00:00,  2.87it/s]\n"
     ]
    },
    {
     "name": "stdout",
     "output_type": "stream",
     "text": [
      "initial_potential =  79846.29661272602\n",
      "final_potential =  79669.46381006287\n",
      "energy_change =  -0.6051011134986766\n",
      "p accept =  1.8314373825651944\n",
      "current step size = 0.0010383245649967724\n",
      "current acceptance ratio = 0.6433566433566433\n",
      "currently working on step 144\n"
     ]
    },
    {
     "name": "stderr",
     "output_type": "stream",
     "text": [
      "100%|██████████| 100/100 [00:33<00:00,  2.96it/s]\n"
     ]
    },
    {
     "name": "stdout",
     "output_type": "stream",
     "text": [
      "initial_potential =  79669.46381006287\n",
      "final_potential =  80453.87384232583\n",
      "energy_change =  2.0681955360923894\n",
      "p accept =  0.12641368495353283\n",
      "current step size = 0.0010383245649967724\n",
      "current acceptance ratio = 0.6388888888888888\n",
      "currently working on step 145\n"
     ]
    },
    {
     "name": "stderr",
     "output_type": "stream",
     "text": [
      "100%|██████████| 101/101 [00:35<00:00,  2.86it/s]\n"
     ]
    },
    {
     "name": "stdout",
     "output_type": "stream",
     "text": [
      "initial_potential =  79669.46381006287\n",
      "final_potential =  80153.13028503538\n",
      "energy_change =  1.1132989960024133\n",
      "p accept =  0.3284735387663926\n",
      "current step size = 0.0010383245649967724\n",
      "current acceptance ratio = 0.6344827586206897\n",
      "currently working on step 146\n"
     ]
    },
    {
     "name": "stderr",
     "output_type": "stream",
     "text": [
      "100%|██████████| 97/97 [00:32<00:00,  2.96it/s]\n"
     ]
    },
    {
     "name": "stdout",
     "output_type": "stream",
     "text": [
      "initial_potential =  79669.46381006287\n",
      "final_potential =  79902.14603124603\n",
      "energy_change =  0.826272135891486\n",
      "p accept =  0.43767785245616675\n",
      "current step size = 0.0010383245649967724\n",
      "current acceptance ratio = 0.6301369863013698\n",
      "currently working on step 147\n"
     ]
    },
    {
     "name": "stderr",
     "output_type": "stream",
     "text": [
      "100%|██████████| 97/97 [00:33<00:00,  2.91it/s]\n"
     ]
    },
    {
     "name": "stdout",
     "output_type": "stream",
     "text": [
      "initial_potential =  79669.46381006287\n",
      "final_potential =  79867.77621490523\n",
      "energy_change =  0.6951551389065571\n",
      "p accept =  0.49899702812655633\n",
      "current step size = 0.0010383245649967724\n",
      "current acceptance ratio = 0.6326530612244898\n",
      "currently working on step 148\n"
     ]
    },
    {
     "name": "stderr",
     "output_type": "stream",
     "text": [
      "100%|██████████| 97/97 [00:34<00:00,  2.84it/s]\n"
     ]
    },
    {
     "name": "stdout",
     "output_type": "stream",
     "text": [
      "initial_potential =  79867.77621490523\n",
      "final_potential =  80156.55908865682\n",
      "energy_change =  0.5344575379276648\n",
      "p accept =  0.5859870797082285\n",
      "current step size = 0.0010383245649967724\n",
      "current acceptance ratio = 0.6351351351351351\n",
      "currently working on step 149\n"
     ]
    },
    {
     "name": "stderr",
     "output_type": "stream",
     "text": [
      "100%|██████████| 98/98 [00:36<00:00,  2.70it/s]\n"
     ]
    },
    {
     "name": "stdout",
     "output_type": "stream",
     "text": [
      "initial_potential =  80156.55908865682\n",
      "final_potential =  80357.99176512047\n",
      "energy_change =  0.5860044322907925\n",
      "p accept =  0.5565465676287709\n",
      "current step size = 0.0010383245649967724\n",
      "current acceptance ratio = 0.6375838926174496\n",
      "currently working on step 150\n"
     ]
    },
    {
     "name": "stderr",
     "output_type": "stream",
     "text": [
      "100%|██████████| 98/98 [00:35<00:00,  2.74it/s]\n"
     ]
    },
    {
     "name": "stdout",
     "output_type": "stream",
     "text": [
      "initial_potential =  80357.99176512047\n",
      "final_potential =  80207.34935026885\n",
      "energy_change =  -0.49436328024603426\n",
      "p accept =  1.6394540338901966\n",
      "current step size = 0.0010383245649967724\n",
      "current acceptance ratio = 0.64\n",
      "currently working on step 151\n"
     ]
    },
    {
     "name": "stderr",
     "output_type": "stream",
     "text": [
      "100%|██████████| 99/99 [00:35<00:00,  2.80it/s]\n"
     ]
    },
    {
     "name": "stdout",
     "output_type": "stream",
     "text": [
      "initial_potential =  80207.34935026885\n",
      "final_potential =  80290.02615115084\n",
      "energy_change =  0.3508507490041666\n",
      "p accept =  0.7040888319732462\n",
      "current step size = 0.0010383245649967724\n",
      "current acceptance ratio = 0.6423841059602649\n",
      "currently working on step 152\n"
     ]
    },
    {
     "name": "stderr",
     "output_type": "stream",
     "text": [
      "100%|██████████| 99/99 [00:35<00:00,  2.80it/s]\n"
     ]
    },
    {
     "name": "stdout",
     "output_type": "stream",
     "text": [
      "initial_potential =  80290.02615115084\n",
      "final_potential =  80589.02095122781\n",
      "energy_change =  0.353402373555582\n",
      "p accept =  0.7022945517614408\n",
      "current step size = 0.0010383245649967724\n",
      "current acceptance ratio = 0.6447368421052632\n",
      "currently working on step 153\n"
     ]
    },
    {
     "name": "stderr",
     "output_type": "stream",
     "text": [
      "100%|██████████| 98/98 [00:33<00:00,  2.91it/s]\n"
     ]
    },
    {
     "name": "stdout",
     "output_type": "stream",
     "text": [
      "initial_potential =  80589.02095122781\n",
      "final_potential =  80274.31160845347\n",
      "energy_change =  -0.8289452688768506\n",
      "p accept =  2.2909011807752613\n",
      "current step size = 0.0010383245649967724\n",
      "current acceptance ratio = 0.6470588235294118\n",
      "currently working on step 154\n"
     ]
    },
    {
     "name": "stderr",
     "output_type": "stream",
     "text": [
      "100%|██████████| 98/98 [00:32<00:00,  3.02it/s]\n"
     ]
    },
    {
     "name": "stdout",
     "output_type": "stream",
     "text": [
      "initial_potential =  80274.31160845347\n",
      "final_potential =  80160.97250212723\n",
      "energy_change =  -0.46747156127821654\n",
      "p accept =  1.5959538160201903\n",
      "current step size = 0.0010383245649967724\n",
      "current acceptance ratio = 0.6493506493506493\n",
      "currently working on step 155\n"
     ]
    },
    {
     "name": "stderr",
     "output_type": "stream",
     "text": [
      "100%|██████████| 99/99 [00:32<00:00,  3.08it/s]\n"
     ]
    },
    {
     "name": "stdout",
     "output_type": "stream",
     "text": [
      "initial_potential =  80160.97250212723\n",
      "final_potential =  79939.06864035779\n",
      "energy_change =  -0.2735947632463649\n",
      "p accept =  1.3146819368375473\n",
      "current step size = 0.0010383245649967724\n",
      "current acceptance ratio = 0.6516129032258065\n",
      "currently working on step 156\n"
     ]
    },
    {
     "name": "stderr",
     "output_type": "stream",
     "text": [
      "100%|██████████| 98/98 [00:31<00:00,  3.08it/s]\n"
     ]
    },
    {
     "name": "stdout",
     "output_type": "stream",
     "text": [
      "initial_potential =  79939.06864035779\n",
      "final_potential =  80459.6159560242\n",
      "energy_change =  1.454041774966754\n",
      "p accept =  0.23362412116039266\n",
      "current step size = 0.0010383245649967724\n",
      "current acceptance ratio = 0.6474358974358975\n",
      "currently working on step 157\n"
     ]
    },
    {
     "name": "stderr",
     "output_type": "stream",
     "text": [
      "100%|██████████| 100/100 [00:34<00:00,  2.92it/s]\n"
     ]
    },
    {
     "name": "stdout",
     "output_type": "stream",
     "text": [
      "initial_potential =  79939.06864035779\n",
      "final_potential =  80067.86339349975\n",
      "energy_change =  0.22984409471973777\n",
      "p accept =  0.7946574841439601\n",
      "current step size = 0.0010383245649967724\n",
      "current acceptance ratio = 0.6496815286624203\n",
      "currently working on step 158\n"
     ]
    },
    {
     "name": "stderr",
     "output_type": "stream",
     "text": [
      "100%|██████████| 99/99 [00:35<00:00,  2.80it/s]\n"
     ]
    },
    {
     "name": "stdout",
     "output_type": "stream",
     "text": [
      "initial_potential =  80067.86339349975\n",
      "final_potential =  80434.45384047745\n",
      "energy_change =  0.962627935979981\n",
      "p accept =  0.38188798896440673\n",
      "current step size = 0.0010383245649967724\n",
      "current acceptance ratio = 0.6455696202531646\n",
      "currently working on step 159\n"
     ]
    },
    {
     "name": "stderr",
     "output_type": "stream",
     "text": [
      "100%|██████████| 98/98 [00:36<00:00,  2.71it/s]\n"
     ]
    },
    {
     "name": "stdout",
     "output_type": "stream",
     "text": [
      "initial_potential =  80067.86339349975\n",
      "final_potential =  80336.55413451478\n",
      "energy_change =  0.46516115084523335\n",
      "p accept =  0.6280338888422877\n",
      "current step size = 0.0010383245649967724\n",
      "current acceptance ratio = 0.6477987421383647\n",
      "currently working on step 160\n"
     ]
    },
    {
     "name": "stderr",
     "output_type": "stream",
     "text": [
      "100%|██████████| 100/100 [00:32<00:00,  3.09it/s]\n"
     ]
    },
    {
     "name": "stdout",
     "output_type": "stream",
     "text": [
      "initial_potential =  80336.55413451478\n",
      "final_potential =  80908.37093456909\n",
      "energy_change =  1.7094685028423555\n",
      "p accept =  0.18096194782265884\n",
      "current step size = 0.0010383245649967724\n",
      "current acceptance ratio = 0.64375\n",
      "currently working on step 161\n"
     ]
    },
    {
     "name": "stderr",
     "output_type": "stream",
     "text": [
      "100%|██████████| 100/100 [00:34<00:00,  2.92it/s]\n"
     ]
    },
    {
     "name": "stdout",
     "output_type": "stream",
     "text": [
      "initial_potential =  80336.55413451478\n",
      "final_potential =  80291.08875112467\n",
      "energy_change =  -0.2708243607194163\n",
      "p accept =  1.3110447791992594\n",
      "current step size = 0.0010383245649967724\n",
      "current acceptance ratio = 0.6459627329192547\n",
      "currently working on step 162\n"
     ]
    },
    {
     "name": "stderr",
     "output_type": "stream",
     "text": [
      "100%|██████████| 98/98 [00:33<00:00,  2.95it/s]\n"
     ]
    },
    {
     "name": "stdout",
     "output_type": "stream",
     "text": [
      "initial_potential =  80291.08875112467\n",
      "final_potential =  80304.39303376465\n",
      "energy_change =  0.4415017979918048\n",
      "p accept =  0.6430699343948443\n",
      "current step size = 0.0010383245649967724\n",
      "current acceptance ratio = 0.6419753086419753\n",
      "currently working on step 163\n"
     ]
    },
    {
     "name": "stderr",
     "output_type": "stream",
     "text": [
      "100%|██████████| 101/101 [00:32<00:00,  3.09it/s]\n"
     ]
    },
    {
     "name": "stdout",
     "output_type": "stream",
     "text": [
      "initial_potential =  80291.08875112467\n",
      "final_potential =  80587.45025647462\n",
      "energy_change =  0.9475973888183944\n",
      "p accept =  0.3876713288954472\n",
      "current step size = 0.0010383245649967724\n",
      "current acceptance ratio = 0.6380368098159509\n",
      "currently working on step 164\n"
     ]
    },
    {
     "name": "stderr",
     "output_type": "stream",
     "text": [
      "100%|██████████| 100/100 [00:33<00:00,  3.00it/s]\n"
     ]
    },
    {
     "name": "stdout",
     "output_type": "stream",
     "text": [
      "initial_potential =  80291.08875112467\n",
      "final_potential =  80532.31442566981\n",
      "energy_change =  0.47307663765968755\n",
      "p accept =  0.6230823177771997\n",
      "current step size = 0.0010383245649967724\n",
      "current acceptance ratio = 0.6341463414634146\n",
      "currently working on step 165\n"
     ]
    },
    {
     "name": "stderr",
     "output_type": "stream",
     "text": [
      "100%|██████████| 98/98 [00:33<00:00,  2.91it/s]\n"
     ]
    },
    {
     "name": "stdout",
     "output_type": "stream",
     "text": [
      "initial_potential =  80291.08875112467\n",
      "final_potential =  80345.68113785723\n",
      "energy_change =  0.24419151624897495\n",
      "p accept =  0.7833375980176783\n",
      "current step size = 0.0010383245649967724\n",
      "current acceptance ratio = 0.6363636363636364\n",
      "currently working on step 166\n"
     ]
    },
    {
     "name": "stderr",
     "output_type": "stream",
     "text": [
      "100%|██████████| 98/98 [00:37<00:00,  2.59it/s]\n"
     ]
    },
    {
     "name": "stdout",
     "output_type": "stream",
     "text": [
      "initial_potential =  80345.68113785723\n",
      "final_potential =  80471.27917136216\n",
      "energy_change =  0.3948000360978767\n",
      "p accept =  0.6738147644079338\n",
      "current step size = 0.0010383245649967724\n",
      "current acceptance ratio = 0.6385542168674698\n",
      "currently working on step 167\n"
     ]
    },
    {
     "name": "stderr",
     "output_type": "stream",
     "text": [
      "100%|██████████| 100/100 [00:35<00:00,  2.84it/s]\n"
     ]
    },
    {
     "name": "stdout",
     "output_type": "stream",
     "text": [
      "initial_potential =  80471.27917136216\n",
      "final_potential =  79997.26102220888\n",
      "energy_change =  -0.9750315098790452\n",
      "p accept =  2.6512507502569025\n",
      "current step size = 0.0010383245649967724\n",
      "current acceptance ratio = 0.6407185628742516\n",
      "currently working on step 168\n"
     ]
    },
    {
     "name": "stderr",
     "output_type": "stream",
     "text": [
      "100%|██████████| 100/100 [00:41<00:00,  2.43it/s]\n"
     ]
    },
    {
     "name": "stdout",
     "output_type": "stream",
     "text": [
      "initial_potential =  79997.26102220888\n",
      "final_potential =  80079.37254028034\n",
      "energy_change =  0.2601006592740305\n",
      "p accept =  0.7709739762168271\n",
      "current step size = 0.0010383245649967724\n",
      "current acceptance ratio = 0.6428571428571429\n",
      "currently working on step 169\n"
     ]
    },
    {
     "name": "stderr",
     "output_type": "stream",
     "text": [
      "100%|██████████| 99/99 [00:41<00:00,  2.41it/s]\n"
     ]
    },
    {
     "name": "stdout",
     "output_type": "stream",
     "text": [
      "initial_potential =  80079.37254028034\n",
      "final_potential =  80303.06417412267\n",
      "energy_change =  0.4362057266407646\n",
      "p accept =  0.6464847131254325\n",
      "current step size = 0.0010383245649967724\n",
      "current acceptance ratio = 0.6449704142011834\n",
      "currently working on step 170\n"
     ]
    },
    {
     "name": "stderr",
     "output_type": "stream",
     "text": [
      "100%|██████████| 99/99 [00:51<00:00,  1.93it/s]\n"
     ]
    },
    {
     "name": "stdout",
     "output_type": "stream",
     "text": [
      "initial_potential =  80303.06417412267\n",
      "final_potential =  80641.96732320392\n",
      "energy_change =  1.1365133136278018\n",
      "p accept =  0.320936076719627\n",
      "current step size = 0.0010383245649967724\n",
      "current acceptance ratio = 0.6411764705882353\n",
      "currently working on step 171\n"
     ]
    },
    {
     "name": "stderr",
     "output_type": "stream",
     "text": [
      "100%|██████████| 99/99 [00:54<00:00,  1.82it/s]\n"
     ]
    },
    {
     "name": "stdout",
     "output_type": "stream",
     "text": [
      "initial_potential =  80303.06417412267\n",
      "final_potential =  80652.28687914951\n",
      "energy_change =  1.0143504128791392\n",
      "p accept =  0.3626379182603225\n",
      "current step size = 0.0010383245649967724\n",
      "current acceptance ratio = 0.6432748538011696\n",
      "currently working on step 172\n"
     ]
    },
    {
     "name": "stderr",
     "output_type": "stream",
     "text": [
      "100%|██████████| 97/97 [01:05<00:00,  1.47it/s]\n"
     ]
    },
    {
     "name": "stdout",
     "output_type": "stream",
     "text": [
      "initial_potential =  80652.28687914951\n",
      "final_potential =  80694.41687175065\n",
      "energy_change =  0.4681796796503477\n",
      "p accept =  0.6261410087520183\n",
      "current step size = 0.0010383245649967724\n",
      "current acceptance ratio = 0.6453488372093024\n",
      "currently working on step 173\n"
     ]
    },
    {
     "name": "stderr",
     "output_type": "stream",
     "text": [
      "100%|██████████| 99/99 [01:02<00:00,  1.59it/s]\n"
     ]
    },
    {
     "name": "stdout",
     "output_type": "stream",
     "text": [
      "initial_potential =  80694.41687175065\n",
      "final_potential =  80363.7902696009\n",
      "energy_change =  -0.7828906752401963\n",
      "p accept =  2.187787316346434\n",
      "current step size = 0.0010383245649967724\n",
      "current acceptance ratio = 0.6473988439306358\n",
      "currently working on step 174\n"
     ]
    },
    {
     "name": "stderr",
     "output_type": "stream",
     "text": [
      "100%|██████████| 97/97 [01:07<00:00,  1.43it/s]\n"
     ]
    },
    {
     "name": "stdout",
     "output_type": "stream",
     "text": [
      "initial_potential =  80363.7902696009\n",
      "final_potential =  79802.2028000404\n",
      "energy_change =  -1.4169267857214436\n",
      "p accept =  4.124425699463074\n",
      "current step size = 0.0010383245649967724\n",
      "current acceptance ratio = 0.6494252873563219\n",
      "currently working on step 175\n"
     ]
    },
    {
     "name": "stderr",
     "output_type": "stream",
     "text": [
      "100%|██████████| 100/100 [01:00<00:00,  1.66it/s]\n"
     ]
    },
    {
     "name": "stdout",
     "output_type": "stream",
     "text": [
      "initial_potential =  79802.2028000404\n",
      "final_potential =  80023.91660962741\n",
      "energy_change =  0.8213270045816898\n",
      "p accept =  0.43984758729818796\n",
      "current step size = 0.0010383245649967724\n",
      "current acceptance ratio = 0.6514285714285715\n",
      "currently working on step 176\n"
     ]
    },
    {
     "name": "stderr",
     "output_type": "stream",
     "text": [
      "100%|██████████| 100/100 [01:04<00:00,  1.55it/s]\n"
     ]
    },
    {
     "name": "stdout",
     "output_type": "stream",
     "text": [
      "initial_potential =  80023.91660962741\n",
      "final_potential =  79949.26520111099\n",
      "energy_change =  -0.005277793679852039\n",
      "p accept =  1.0052917457675297\n",
      "current step size = 0.0010383245649967724\n",
      "current acceptance ratio = 0.6534090909090909\n",
      "currently working on step 177\n"
     ]
    },
    {
     "name": "stderr",
     "output_type": "stream",
     "text": [
      "100%|██████████| 97/97 [00:55<00:00,  1.74it/s]\n"
     ]
    },
    {
     "name": "stdout",
     "output_type": "stream",
     "text": [
      "initial_potential =  79949.26520111099\n",
      "final_potential =  79666.0167432469\n",
      "energy_change =  -0.6480690215830691\n",
      "p accept =  1.911845529935917\n",
      "current step size = 0.0010383245649967724\n",
      "current acceptance ratio = 0.655367231638418\n",
      "currently working on step 178\n"
     ]
    },
    {
     "name": "stderr",
     "output_type": "stream",
     "text": [
      "100%|██████████| 97/97 [01:01<00:00,  1.57it/s]\n"
     ]
    },
    {
     "name": "stdout",
     "output_type": "stream",
     "text": [
      "initial_potential =  79666.0167432469\n",
      "final_potential =  79575.39042432263\n",
      "energy_change =  -0.22354934364557266\n",
      "p accept =  1.2505073433452611\n",
      "current step size = 0.0010383245649967724\n",
      "current acceptance ratio = 0.6573033707865169\n",
      "currently working on step 179\n"
     ]
    },
    {
     "name": "stderr",
     "output_type": "stream",
     "text": [
      "100%|██████████| 98/98 [00:59<00:00,  1.66it/s]\n"
     ]
    },
    {
     "name": "stdout",
     "output_type": "stream",
     "text": [
      "initial_potential =  79575.39042432263\n",
      "final_potential =  79872.83803705072\n",
      "energy_change =  0.562039399985224\n",
      "p accept =  0.5700453271580832\n",
      "current step size = 0.0010383245649967724\n",
      "current acceptance ratio = 0.659217877094972\n",
      "currently working on step 180\n"
     ]
    },
    {
     "name": "stderr",
     "output_type": "stream",
     "text": [
      "100%|██████████| 98/98 [00:59<00:00,  1.63it/s]\n"
     ]
    },
    {
     "name": "stdout",
     "output_type": "stream",
     "text": [
      "initial_potential =  79872.83803705072\n",
      "final_potential =  80180.30095999612\n",
      "energy_change =  0.509868361405097\n",
      "p accept =  0.6005746324096444\n",
      "current step size = 0.0010383245649967724\n",
      "current acceptance ratio = 0.6555555555555556\n",
      "currently working on step 181\n"
     ]
    },
    {
     "name": "stderr",
     "output_type": "stream",
     "text": [
      "100%|██████████| 99/99 [01:02<00:00,  1.58it/s]\n"
     ]
    },
    {
     "name": "stdout",
     "output_type": "stream",
     "text": [
      "initial_potential =  79872.83803705072\n",
      "final_potential =  80772.3322386292\n",
      "energy_change =  2.02973173832288\n",
      "p accept =  0.13137075816182062\n",
      "current step size = 0.0010383245649967724\n",
      "current acceptance ratio = 0.6519337016574586\n",
      "currently working on step 182\n"
     ]
    },
    {
     "name": "stderr",
     "output_type": "stream",
     "text": [
      "100%|██████████| 99/99 [00:59<00:00,  1.67it/s]\n"
     ]
    },
    {
     "name": "stdout",
     "output_type": "stream",
     "text": [
      "initial_potential =  79872.83803705072\n",
      "final_potential =  80071.42534143524\n",
      "energy_change =  0.26462824642658234\n",
      "p accept =  0.7674912145500836\n",
      "current step size = 0.0010383245649967724\n",
      "current acceptance ratio = 0.6538461538461539\n",
      "currently working on step 183\n"
     ]
    },
    {
     "name": "stderr",
     "output_type": "stream",
     "text": [
      "100%|██████████| 98/98 [01:11<00:00,  1.37it/s]\n"
     ]
    },
    {
     "name": "stdout",
     "output_type": "stream",
     "text": [
      "initial_potential =  80071.42534143524\n",
      "final_potential =  80099.59693245403\n",
      "energy_change =  -0.05213339370675385\n",
      "p accept =  1.0535162655805013\n",
      "current step size = 0.0010383245649967724\n",
      "current acceptance ratio = 0.6557377049180327\n",
      "currently working on step 184\n"
     ]
    },
    {
     "name": "stderr",
     "output_type": "stream",
     "text": [
      "100%|██████████| 99/99 [01:02<00:00,  1.58it/s]\n"
     ]
    },
    {
     "name": "stdout",
     "output_type": "stream",
     "text": [
      "initial_potential =  80099.59693245403\n",
      "final_potential =  80472.57057344998\n",
      "energy_change =  0.7911825489718467\n",
      "p accept =  0.4533084187945555\n",
      "current step size = 0.0010383245649967724\n",
      "current acceptance ratio = 0.6521739130434783\n",
      "currently working on step 185\n"
     ]
    },
    {
     "name": "stderr",
     "output_type": "stream",
     "text": [
      "100%|██████████| 99/99 [00:58<00:00,  1.68it/s]\n"
     ]
    },
    {
     "name": "stdout",
     "output_type": "stream",
     "text": [
      "initial_potential =  80099.59693245403\n",
      "final_potential =  80268.28590585677\n",
      "energy_change =  0.6191552774398588\n",
      "p accept =  0.5383990433780615\n",
      "current step size = 0.0010383245649967724\n",
      "current acceptance ratio = 0.6486486486486487\n",
      "currently working on step 186\n"
     ]
    },
    {
     "name": "stderr",
     "output_type": "stream",
     "text": [
      "100%|██████████| 101/101 [01:05<00:00,  1.54it/s]\n"
     ]
    },
    {
     "name": "stdout",
     "output_type": "stream",
     "text": [
      "initial_potential =  80099.59693245403\n",
      "final_potential =  80132.71676930004\n",
      "energy_change =  0.32135429163463414\n",
      "p accept =  0.7251662851238626\n",
      "current step size = 0.0010383245649967724\n",
      "current acceptance ratio = 0.6505376344086021\n",
      "currently working on step 187\n"
     ]
    },
    {
     "name": "stderr",
     "output_type": "stream",
     "text": [
      "100%|██████████| 97/97 [00:55<00:00,  1.75it/s]\n"
     ]
    },
    {
     "name": "stdout",
     "output_type": "stream",
     "text": [
      "initial_potential =  80132.71676930004\n",
      "final_potential =  79994.19927173418\n",
      "energy_change =  -0.17630859866039827\n",
      "p accept =  1.1928061002238244\n",
      "current step size = 0.0010383245649967724\n",
      "current acceptance ratio = 0.6524064171122995\n",
      "currently working on step 188\n"
     ]
    },
    {
     "name": "stderr",
     "output_type": "stream",
     "text": [
      "100%|██████████| 100/100 [01:04<00:00,  1.54it/s]\n"
     ]
    },
    {
     "name": "stdout",
     "output_type": "stream",
     "text": [
      "initial_potential =  79994.19927173418\n",
      "final_potential =  80276.73037477979\n",
      "energy_change =  0.9005149626173079\n",
      "p accept =  0.4063603454636407\n",
      "current step size = 0.0010383245649967724\n",
      "current acceptance ratio = 0.648936170212766\n",
      "currently working on step 189\n"
     ]
    },
    {
     "name": "stderr",
     "output_type": "stream",
     "text": [
      "100%|██████████| 101/101 [01:18<00:00,  1.29it/s]\n"
     ]
    },
    {
     "name": "stdout",
     "output_type": "stream",
     "text": [
      "initial_potential =  79994.19927173418\n",
      "final_potential =  79868.99576777489\n",
      "energy_change =  -0.36097370454808697\n",
      "p accept =  1.4347257336209935\n",
      "current step size = 0.0010383245649967724\n",
      "current acceptance ratio = 0.6507936507936508\n",
      "currently working on step 190\n"
     ]
    },
    {
     "name": "stderr",
     "output_type": "stream",
     "text": [
      "100%|██████████| 100/100 [01:07<00:00,  1.48it/s]\n"
     ]
    },
    {
     "name": "stdout",
     "output_type": "stream",
     "text": [
      "initial_potential =  79868.99576777489\n",
      "final_potential =  79956.84914765002\n",
      "energy_change =  0.06020224088570103\n",
      "p accept =  0.9415740895492891\n",
      "current step size = 0.0010383245649967724\n",
      "current acceptance ratio = 0.6526315789473685\n",
      "currently working on step 191\n"
     ]
    },
    {
     "name": "stderr",
     "output_type": "stream",
     "text": [
      "100%|██████████| 97/97 [01:14<00:00,  1.30it/s]\n"
     ]
    },
    {
     "name": "stdout",
     "output_type": "stream",
     "text": [
      "initial_potential =  79956.84914765002\n",
      "final_potential =  80065.47799977212\n",
      "energy_change =  0.1092240996658802\n",
      "p accept =  0.8965294830268044\n",
      "current step size = 0.0010383245649967724\n",
      "current acceptance ratio = 0.6544502617801047\n",
      "currently working on step 192\n"
     ]
    },
    {
     "name": "stderr",
     "output_type": "stream",
     "text": [
      "100%|██████████| 101/101 [01:15<00:00,  1.33it/s]\n"
     ]
    },
    {
     "name": "stdout",
     "output_type": "stream",
     "text": [
      "initial_potential =  80065.47799977212\n",
      "final_potential =  80195.55715232325\n",
      "energy_change =  0.15342627267818898\n",
      "p accept =  0.8577640025102545\n",
      "current step size = 0.0010383245649967724\n",
      "current acceptance ratio = 0.65625\n",
      "currently working on step 193\n"
     ]
    },
    {
     "name": "stderr",
     "output_type": "stream",
     "text": [
      "100%|██████████| 101/101 [01:08<00:00,  1.47it/s]\n"
     ]
    },
    {
     "name": "stdout",
     "output_type": "stream",
     "text": [
      "initial_potential =  80195.55715232325\n",
      "final_potential =  80473.80776403428\n",
      "energy_change =  0.90258482133504\n",
      "p accept =  0.4055201068476415\n",
      "current step size = 0.0010383245649967724\n",
      "current acceptance ratio = 0.6528497409326425\n",
      "currently working on step 194\n"
     ]
    },
    {
     "name": "stderr",
     "output_type": "stream",
     "text": [
      "100%|██████████| 100/100 [01:15<00:00,  1.33it/s]\n"
     ]
    },
    {
     "name": "stdout",
     "output_type": "stream",
     "text": [
      "initial_potential =  80195.55715232325\n",
      "final_potential =  80247.59499058242\n",
      "energy_change =  -0.25111669820034876\n",
      "p accept =  1.2854600864572456\n",
      "current step size = 0.0010383245649967724\n",
      "current acceptance ratio = 0.654639175257732\n",
      "currently working on step 195\n"
     ]
    },
    {
     "name": "stderr",
     "output_type": "stream",
     "text": [
      "100%|██████████| 99/99 [01:18<00:00,  1.26it/s]\n"
     ]
    },
    {
     "name": "stdout",
     "output_type": "stream",
     "text": [
      "initial_potential =  80247.59499058242\n",
      "final_potential =  80345.11262737504\n",
      "energy_change =  0.5601061068009585\n",
      "p accept =  0.57114845789778\n",
      "current step size = 0.0010383245649967724\n",
      "current acceptance ratio = 0.6512820512820513\n",
      "currently working on step 196\n"
     ]
    },
    {
     "name": "stderr",
     "output_type": "stream",
     "text": [
      "100%|██████████| 98/98 [01:00<00:00,  1.62it/s]\n"
     ]
    },
    {
     "name": "stdout",
     "output_type": "stream",
     "text": [
      "initial_potential =  80247.59499058242\n",
      "final_potential =  80093.44798575624\n",
      "energy_change =  -0.36045312648639083\n",
      "p accept =  1.4339790412522155\n",
      "current step size = 0.0010383245649967724\n",
      "current acceptance ratio = 0.6530612244897959\n",
      "currently working on step 197\n"
     ]
    },
    {
     "name": "stderr",
     "output_type": "stream",
     "text": [
      "100%|██████████| 99/99 [01:16<00:00,  1.30it/s]\n"
     ]
    },
    {
     "name": "stdout",
     "output_type": "stream",
     "text": [
      "initial_potential =  80093.44798575624\n",
      "final_potential =  79822.13670391844\n",
      "energy_change =  -0.3828395428135991\n",
      "p accept =  1.466442709918247\n",
      "current step size = 0.0010383245649967724\n",
      "current acceptance ratio = 0.6548223350253807\n",
      "currently working on step 198\n"
     ]
    },
    {
     "name": "stderr",
     "output_type": "stream",
     "text": [
      "100%|██████████| 101/101 [01:19<00:00,  1.27it/s]\n"
     ]
    },
    {
     "name": "stdout",
     "output_type": "stream",
     "text": [
      "initial_potential =  79822.13670391844\n",
      "final_potential =  79832.87841810504\n",
      "energy_change =  0.45017020736122504\n",
      "p accept =  0.6375196318523367\n",
      "current step size = 0.0010383245649967724\n",
      "current acceptance ratio = 0.6515151515151515\n",
      "currently working on step 199\n"
     ]
    },
    {
     "name": "stderr",
     "output_type": "stream",
     "text": [
      "100%|██████████| 100/100 [01:12<00:00,  1.38it/s]\n"
     ]
    },
    {
     "name": "stdout",
     "output_type": "stream",
     "text": [
      "initial_potential =  79822.13670391844\n",
      "final_potential =  80200.42323000747\n",
      "energy_change =  1.159093373164069\n",
      "p accept =  0.31377052474429795\n",
      "current step size = 0.0010383245649967724\n",
      "current acceptance ratio = 0.6532663316582915\n",
      "currently working on step 200\n"
     ]
    },
    {
     "name": "stderr",
     "output_type": "stream",
     "text": [
      "100%|██████████| 101/101 [01:15<00:00,  1.34it/s]\n"
     ]
    },
    {
     "name": "stdout",
     "output_type": "stream",
     "text": [
      "initial_potential =  80200.42323000747\n",
      "final_potential =  80149.588790205\n",
      "energy_change =  -0.004550779354758561\n",
      "p accept =  1.0045611498764775\n",
      "current step size = 0.0010383245649967724\n",
      "current acceptance ratio = 0.655\n",
      "currently working on step 201\n"
     ]
    },
    {
     "name": "stderr",
     "output_type": "stream",
     "text": [
      "100%|██████████| 100/100 [01:09<00:00,  1.43it/s]\n"
     ]
    },
    {
     "name": "stdout",
     "output_type": "stream",
     "text": [
      "initial_potential =  80149.588790205\n",
      "final_potential =  80318.74148414118\n",
      "energy_change =  0.46071103343274444\n",
      "p accept =  0.6308349412701868\n",
      "current step size = 0.0010383245649967724\n",
      "current acceptance ratio = 0.6567164179104478\n",
      "currently working on step 202\n"
     ]
    },
    {
     "name": "stderr",
     "output_type": "stream",
     "text": [
      "100%|██████████| 97/97 [01:02<00:00,  1.54it/s]\n"
     ]
    },
    {
     "name": "stdout",
     "output_type": "stream",
     "text": [
      "initial_potential =  80318.74148414118\n",
      "final_potential =  80170.84638771632\n",
      "energy_change =  -0.13810091791674495\n",
      "p accept =  1.148091407421119\n",
      "current step size = 0.0010383245649967724\n",
      "current acceptance ratio = 0.6584158415841584\n",
      "currently working on step 203\n"
     ]
    },
    {
     "name": "stderr",
     "output_type": "stream",
     "text": [
      "100%|██████████| 97/97 [00:54<00:00,  1.79it/s]\n"
     ]
    },
    {
     "name": "stdout",
     "output_type": "stream",
     "text": [
      "initial_potential =  80170.84638771632\n",
      "final_potential =  80511.3300415802\n",
      "energy_change =  1.0356651764013804\n",
      "p accept =  0.3549901712884599\n",
      "current step size = 0.0010383245649967724\n",
      "current acceptance ratio = 0.6600985221674877\n",
      "currently working on step 204\n"
     ]
    },
    {
     "name": "stderr",
     "output_type": "stream",
     "text": [
      "100%|██████████| 98/98 [00:58<00:00,  1.69it/s]\n"
     ]
    },
    {
     "name": "stdout",
     "output_type": "stream",
     "text": [
      "initial_potential =  80511.3300415802\n",
      "final_potential =  80469.7758776654\n",
      "energy_change =  0.07497082924237475\n",
      "p accept =  0.9277705497036587\n",
      "current step size = 0.0010383245649967724\n",
      "current acceptance ratio = 0.6617647058823529\n",
      "currently working on step 205\n"
     ]
    },
    {
     "name": "stderr",
     "output_type": "stream",
     "text": [
      "100%|██████████| 97/97 [00:54<00:00,  1.77it/s]\n"
     ]
    },
    {
     "name": "stdout",
     "output_type": "stream",
     "text": [
      "initial_potential =  80469.7758776654\n",
      "final_potential =  80225.0343815992\n",
      "energy_change =  -0.7013409074861556\n",
      "p accept =  2.0164547747574493\n",
      "current step size = 0.0010383245649967724\n",
      "current acceptance ratio = 0.6634146341463415\n",
      "currently working on step 206\n"
     ]
    },
    {
     "name": "stderr",
     "output_type": "stream",
     "text": [
      "100%|██████████| 98/98 [00:54<00:00,  1.80it/s]\n"
     ]
    },
    {
     "name": "stdout",
     "output_type": "stream",
     "text": [
      "initial_potential =  80225.0343815992\n",
      "final_potential =  80152.28368876284\n",
      "energy_change =  -0.18306571897119284\n",
      "p accept =  1.2008933269615287\n",
      "current step size = 0.0010383245649967724\n",
      "current acceptance ratio = 0.6650485436893204\n",
      "currently working on step 207\n"
     ]
    },
    {
     "name": "stderr",
     "output_type": "stream",
     "text": [
      "100%|██████████| 101/101 [00:54<00:00,  1.84it/s]\n"
     ]
    },
    {
     "name": "stdout",
     "output_type": "stream",
     "text": [
      "initial_potential =  80152.28368876284\n",
      "final_potential =  80398.02161580222\n",
      "energy_change =  0.7088152401847765\n",
      "p accept =  0.4922270229354315\n",
      "current step size = 0.0010383245649967724\n",
      "current acceptance ratio = 0.6618357487922706\n",
      "currently working on step 208\n"
     ]
    },
    {
     "name": "stderr",
     "output_type": "stream",
     "text": [
      "100%|██████████| 99/99 [00:56<00:00,  1.76it/s]\n"
     ]
    },
    {
     "name": "stdout",
     "output_type": "stream",
     "text": [
      "initial_potential =  80152.28368876284\n",
      "final_potential =  80267.31128648054\n",
      "energy_change =  0.16456920420750976\n",
      "p accept =  0.848259051817598\n",
      "current step size = 0.0010383245649967724\n",
      "current acceptance ratio = 0.6634615384615384\n",
      "currently working on step 209\n"
     ]
    },
    {
     "name": "stderr",
     "output_type": "stream",
     "text": [
      "100%|██████████| 98/98 [00:53<00:00,  1.83it/s]\n"
     ]
    },
    {
     "name": "stdout",
     "output_type": "stream",
     "text": [
      "initial_potential =  80267.31128648054\n",
      "final_potential =  79844.47971648953\n",
      "energy_change =  -0.9935833805357106\n",
      "p accept =  2.7008954887858576\n",
      "current step size = 0.0010383245649967724\n",
      "current acceptance ratio = 0.6650717703349283\n",
      "currently working on step 210\n"
     ]
    },
    {
     "name": "stderr",
     "output_type": "stream",
     "text": [
      "100%|██████████| 100/100 [00:56<00:00,  1.77it/s]\n"
     ]
    },
    {
     "name": "stdout",
     "output_type": "stream",
     "text": [
      "initial_potential =  79844.47971648953\n",
      "final_potential =  80437.85822479363\n",
      "energy_change =  1.2763889338239096\n",
      "p accept =  0.27904312650378676\n",
      "current step size = 0.0010383245649967724\n",
      "current acceptance ratio = 0.6666666666666666\n",
      "currently working on step 211\n"
     ]
    },
    {
     "name": "stderr",
     "output_type": "stream",
     "text": [
      "100%|██████████| 100/100 [00:59<00:00,  1.68it/s]\n"
     ]
    },
    {
     "name": "stdout",
     "output_type": "stream",
     "text": [
      "initial_potential =  80437.85822479363\n",
      "final_potential =  80010.01655299026\n",
      "energy_change =  -1.659459297603462\n",
      "p accept =  5.256467891134266\n",
      "current step size = 0.0010383245649967724\n",
      "current acceptance ratio = 0.6682464454976303\n",
      "currently working on step 212\n"
     ]
    },
    {
     "name": "stderr",
     "output_type": "stream",
     "text": [
      "100%|██████████| 98/98 [00:54<00:00,  1.80it/s]\n"
     ]
    },
    {
     "name": "stdout",
     "output_type": "stream",
     "text": [
      "initial_potential =  80010.01655299026\n",
      "final_potential =  80174.402239567\n",
      "energy_change =  0.49670125055126846\n",
      "p accept =  0.6085347560805547\n",
      "current step size = 0.0010383245649967724\n",
      "current acceptance ratio = 0.6698113207547169\n",
      "currently working on step 213\n"
     ]
    },
    {
     "name": "stderr",
     "output_type": "stream",
     "text": [
      "100%|██████████| 101/101 [01:04<00:00,  1.58it/s]\n"
     ]
    },
    {
     "name": "stdout",
     "output_type": "stream",
     "text": [
      "initial_potential =  80174.402239567\n",
      "final_potential =  80518.70735529532\n",
      "energy_change =  0.5961913436767645\n",
      "p accept =  0.55090585655356\n",
      "current step size = 0.0010383245649967724\n",
      "current acceptance ratio = 0.6666666666666666\n",
      "currently working on step 214\n"
     ]
    },
    {
     "name": "stderr",
     "output_type": "stream",
     "text": [
      "100%|██████████| 99/99 [00:56<00:00,  1.75it/s]\n"
     ]
    },
    {
     "name": "stdout",
     "output_type": "stream",
     "text": [
      "initial_potential =  80174.402239567\n",
      "final_potential =  79977.20121317908\n",
      "energy_change =  -0.30627613997785375\n",
      "p accept =  1.358357351532022\n",
      "current step size = 0.0010383245649967724\n",
      "current acceptance ratio = 0.6682242990654206\n",
      "currently working on step 215\n"
     ]
    },
    {
     "name": "stderr",
     "output_type": "stream",
     "text": [
      "100%|██████████| 101/101 [01:05<00:00,  1.54it/s]\n"
     ]
    },
    {
     "name": "stdout",
     "output_type": "stream",
     "text": [
      "initial_potential =  79977.20121317908\n",
      "final_potential =  80039.7767664766\n",
      "energy_change =  0.2698348027188331\n",
      "p accept =  0.7635056129707571\n",
      "current step size = 0.0010383245649967724\n",
      "current acceptance ratio = 0.6697674418604651\n",
      "currently working on step 216\n"
     ]
    },
    {
     "name": "stderr",
     "output_type": "stream",
     "text": [
      "100%|██████████| 100/100 [00:54<00:00,  1.83it/s]\n"
     ]
    },
    {
     "name": "stdout",
     "output_type": "stream",
     "text": [
      "initial_potential =  80039.7767664766\n",
      "final_potential =  80522.4966685196\n",
      "energy_change =  1.4642844357294962\n",
      "p accept =  0.23124340180553363\n",
      "current step size = 0.0010383245649967724\n",
      "current acceptance ratio = 0.6666666666666666\n",
      "currently working on step 217\n"
     ]
    },
    {
     "name": "stderr",
     "output_type": "stream",
     "text": [
      "100%|██████████| 99/99 [01:00<00:00,  1.64it/s]\n"
     ]
    },
    {
     "name": "stdout",
     "output_type": "stream",
     "text": [
      "initial_potential =  80039.7767664766\n",
      "final_potential =  80273.04238876817\n",
      "energy_change =  0.5765441435505636\n",
      "p accept =  0.5618366422186751\n",
      "current step size = 0.0010383245649967724\n",
      "current acceptance ratio = 0.663594470046083\n",
      "currently working on step 218\n"
     ]
    },
    {
     "name": "stderr",
     "output_type": "stream",
     "text": [
      "100%|██████████| 101/101 [01:01<00:00,  1.64it/s]\n"
     ]
    },
    {
     "name": "stdout",
     "output_type": "stream",
     "text": [
      "initial_potential =  80039.7767664766\n",
      "final_potential =  80091.58414274603\n",
      "energy_change =  0.2944545089267194\n",
      "p accept =  0.7449378335923916\n",
      "current step size = 0.0010383245649967724\n",
      "current acceptance ratio = 0.6651376146788991\n",
      "currently working on step 219\n"
     ]
    },
    {
     "name": "stderr",
     "output_type": "stream",
     "text": [
      "100%|██████████| 98/98 [01:02<00:00,  1.56it/s]\n"
     ]
    },
    {
     "name": "stdout",
     "output_type": "stream",
     "text": [
      "initial_potential =  80091.58414274603\n",
      "final_potential =  80043.44421450904\n",
      "energy_change =  -0.12748119118623435\n",
      "p accept =  1.1359635019142729\n",
      "current step size = 0.0010383245649967724\n",
      "current acceptance ratio = 0.6666666666666666\n",
      "currently working on step 220\n"
     ]
    },
    {
     "name": "stderr",
     "output_type": "stream",
     "text": [
      "100%|██████████| 99/99 [01:22<00:00,  1.19it/s]\n"
     ]
    },
    {
     "name": "stdout",
     "output_type": "stream",
     "text": [
      "initial_potential =  80043.44421450904\n",
      "final_potential =  79845.3050977995\n",
      "energy_change =  -0.56183227582369\n",
      "p accept =  1.7538831556984849\n",
      "current step size = 0.0010383245649967724\n",
      "current acceptance ratio = 0.6681818181818182\n",
      "currently working on step 221\n"
     ]
    },
    {
     "name": "stderr",
     "output_type": "stream",
     "text": [
      "100%|██████████| 101/101 [01:13<00:00,  1.37it/s]\n"
     ]
    },
    {
     "name": "stdout",
     "output_type": "stream",
     "text": [
      "initial_potential =  79845.3050977995\n",
      "final_potential =  79971.41275977684\n",
      "energy_change =  0.22281316050793976\n",
      "p accept =  0.800264356313059\n",
      "current step size = 0.0010383245649967724\n",
      "current acceptance ratio = 0.669683257918552\n",
      "currently working on step 222\n"
     ]
    },
    {
     "name": "stderr",
     "output_type": "stream",
     "text": [
      "100%|██████████| 100/100 [01:11<00:00,  1.39it/s]\n"
     ]
    },
    {
     "name": "stdout",
     "output_type": "stream",
     "text": [
      "initial_potential =  79971.41275977684\n",
      "final_potential =  79882.24228242472\n",
      "energy_change =  -0.3569273899192922\n",
      "p accept =  1.4289321112110398\n",
      "current step size = 0.0010383245649967724\n",
      "current acceptance ratio = 0.6711711711711712\n",
      "currently working on step 223\n"
     ]
    },
    {
     "name": "stderr",
     "output_type": "stream",
     "text": [
      "100%|██████████| 101/101 [01:25<00:00,  1.19it/s]\n"
     ]
    },
    {
     "name": "stdout",
     "output_type": "stream",
     "text": [
      "initial_potential =  79882.24228242472\n",
      "final_potential =  80351.69573091493\n",
      "energy_change =  1.5965980566106737\n",
      "p accept =  0.2025845281416201\n",
      "current step size = 0.0010383245649967724\n",
      "current acceptance ratio = 0.6681614349775785\n",
      "currently working on step 224\n"
     ]
    },
    {
     "name": "stderr",
     "output_type": "stream",
     "text": [
      "100%|██████████| 97/97 [01:06<00:00,  1.47it/s]\n"
     ]
    },
    {
     "name": "stdout",
     "output_type": "stream",
     "text": [
      "initial_potential =  79882.24228242472\n",
      "final_potential =  80047.8494308262\n",
      "energy_change =  0.555304984387476\n",
      "p accept =  0.5738972048155765\n",
      "current step size = 0.0010383245649967724\n",
      "current acceptance ratio = 0.6696428571428571\n",
      "currently working on step 225\n"
     ]
    },
    {
     "name": "stderr",
     "output_type": "stream",
     "text": [
      "100%|██████████| 101/101 [01:10<00:00,  1.44it/s]\n"
     ]
    },
    {
     "name": "stdout",
     "output_type": "stream",
     "text": [
      "initial_potential =  80047.8494308262\n",
      "final_potential =  80293.37947776346\n",
      "energy_change =  0.3184377985307947\n",
      "p accept =  0.7272843147015741\n",
      "current step size = 0.0010383245649967724\n",
      "current acceptance ratio = 0.6666666666666666\n",
      "currently working on step 226\n"
     ]
    },
    {
     "name": "stderr",
     "output_type": "stream",
     "text": [
      "100%|██████████| 99/99 [01:22<00:00,  1.20it/s]\n"
     ]
    },
    {
     "name": "stdout",
     "output_type": "stream",
     "text": [
      "initial_potential =  80047.8494308262\n",
      "final_potential =  80054.4487596414\n",
      "energy_change =  0.23613724031019956\n",
      "p accept =  0.7896722916255035\n",
      "current step size = 0.0010383245649967724\n",
      "current acceptance ratio = 0.668141592920354\n",
      "currently working on step 227\n"
     ]
    },
    {
     "name": "stderr",
     "output_type": "stream",
     "text": [
      "100%|██████████| 97/97 [01:04<00:00,  1.50it/s]\n"
     ]
    },
    {
     "name": "stdout",
     "output_type": "stream",
     "text": [
      "initial_potential =  80054.4487596414\n",
      "final_potential =  80098.88462631514\n",
      "energy_change =  0.2275262613547966\n",
      "p accept =  0.7965015040142395\n",
      "current step size = 0.0010383245649967724\n",
      "current acceptance ratio = 0.6696035242290749\n",
      "currently working on step 228\n"
     ]
    },
    {
     "name": "stderr",
     "output_type": "stream",
     "text": [
      "100%|██████████| 100/100 [01:09<00:00,  1.43it/s]\n"
     ]
    },
    {
     "name": "stdout",
     "output_type": "stream",
     "text": [
      "initial_potential =  80098.88462631514\n",
      "final_potential =  80205.28661967455\n",
      "energy_change =  -0.11004524462623522\n",
      "p accept =  1.116328577185514\n",
      "current step size = 0.0010383245649967724\n",
      "current acceptance ratio = 0.6710526315789473\n",
      "currently working on step 229\n"
     ]
    },
    {
     "name": "stderr",
     "output_type": "stream",
     "text": [
      "100%|██████████| 100/100 [01:23<00:00,  1.20it/s]\n"
     ]
    },
    {
     "name": "stdout",
     "output_type": "stream",
     "text": [
      "initial_potential =  80205.28661967455\n",
      "final_potential =  79972.50243069704\n",
      "energy_change =  -0.5914659079280682\n",
      "p accept =  1.806634835548367\n",
      "current step size = 0.0010383245649967724\n",
      "current acceptance ratio = 0.6724890829694323\n",
      "currently working on step 230\n"
     ]
    },
    {
     "name": "stderr",
     "output_type": "stream",
     "text": [
      "100%|██████████| 98/98 [01:12<00:00,  1.35it/s]\n"
     ]
    },
    {
     "name": "stdout",
     "output_type": "stream",
     "text": [
      "initial_potential =  79972.50243069704\n",
      "final_potential =  80294.67601975461\n",
      "energy_change =  0.6833535407204181\n",
      "p accept =  0.5049208772371861\n",
      "current step size = 0.0010383245649967724\n",
      "current acceptance ratio = 0.6695652173913044\n",
      "currently working on step 231\n"
     ]
    },
    {
     "name": "stderr",
     "output_type": "stream",
     "text": [
      "100%|██████████| 101/101 [01:04<00:00,  1.57it/s]\n"
     ]
    },
    {
     "name": "stdout",
     "output_type": "stream",
     "text": [
      "initial_potential =  79972.50243069704\n",
      "final_potential =  80368.04407289102\n",
      "energy_change =  0.930822960624937\n",
      "p accept =  0.3942291417754481\n",
      "current step size = 0.0010383245649967724\n",
      "current acceptance ratio = 0.670995670995671\n",
      "currently working on step 232\n"
     ]
    },
    {
     "name": "stderr",
     "output_type": "stream",
     "text": [
      "100%|██████████| 97/97 [01:15<00:00,  1.28it/s]\n"
     ]
    },
    {
     "name": "stdout",
     "output_type": "stream",
     "text": [
      "initial_potential =  80368.04407289102\n",
      "final_potential =  80654.36987940266\n",
      "energy_change =  0.6762833605171181\n",
      "p accept =  0.508503408474925\n",
      "current step size = 0.0010383245649967724\n",
      "current acceptance ratio = 0.6681034482758621\n",
      "currently working on step 233\n"
     ]
    },
    {
     "name": "stderr",
     "output_type": "stream",
     "text": [
      "100%|██████████| 99/99 [01:00<00:00,  1.65it/s]\n"
     ]
    },
    {
     "name": "stdout",
     "output_type": "stream",
     "text": [
      "initial_potential =  80368.04407289102\n",
      "final_potential =  80219.79561436325\n",
      "energy_change =  -0.18625794810941443\n",
      "p accept =  1.204732978895535\n",
      "current step size = 0.0010383245649967724\n",
      "current acceptance ratio = 0.6695278969957081\n",
      "currently working on step 234\n"
     ]
    },
    {
     "name": "stderr",
     "output_type": "stream",
     "text": [
      "100%|██████████| 100/100 [01:10<00:00,  1.41it/s]\n"
     ]
    },
    {
     "name": "stdout",
     "output_type": "stream",
     "text": [
      "initial_potential =  80219.79561436325\n",
      "final_potential =  80669.80290835763\n",
      "energy_change =  1.2287806890672073\n",
      "p accept =  0.2926491905832232\n",
      "current step size = 0.0010383245649967724\n",
      "current acceptance ratio = 0.6666666666666666\n",
      "currently working on step 235\n"
     ]
    },
    {
     "name": "stderr",
     "output_type": "stream",
     "text": [
      "100%|██████████| 97/97 [00:52<00:00,  1.86it/s]\n"
     ]
    },
    {
     "name": "stdout",
     "output_type": "stream",
     "text": [
      "initial_potential =  80219.79561436325\n",
      "final_potential =  80370.84046611795\n",
      "energy_change =  0.26842527819098905\n",
      "p accept =  0.7645825516668381\n",
      "current step size = 0.0010383245649967724\n",
      "current acceptance ratio = 0.6680851063829787\n",
      "currently working on step 236\n"
     ]
    },
    {
     "name": "stderr",
     "output_type": "stream",
     "text": [
      "100%|██████████| 99/99 [00:56<00:00,  1.74it/s]\n"
     ]
    },
    {
     "name": "stdout",
     "output_type": "stream",
     "text": [
      "initial_potential =  80370.84046611795\n",
      "final_potential =  80262.90887948955\n",
      "energy_change =  -0.19836425443645567\n",
      "p accept =  1.2194064871580386\n",
      "current step size = 0.0010383245649967724\n",
      "current acceptance ratio = 0.6694915254237288\n",
      "currently working on step 237\n"
     ]
    },
    {
     "name": "stderr",
     "output_type": "stream",
     "text": [
      "100%|██████████| 98/98 [00:50<00:00,  1.96it/s]\n"
     ]
    },
    {
     "name": "stdout",
     "output_type": "stream",
     "text": [
      "initial_potential =  80262.90887948955\n",
      "final_potential =  80181.50947812806\n",
      "energy_change =  -0.23756582115311176\n",
      "p accept =  1.26815846569622\n",
      "current step size = 0.0010383245649967724\n",
      "current acceptance ratio = 0.6708860759493671\n",
      "currently working on step 238\n"
     ]
    },
    {
     "name": "stderr",
     "output_type": "stream",
     "text": [
      "100%|██████████| 97/97 [00:56<00:00,  1.72it/s]\n"
     ]
    },
    {
     "name": "stdout",
     "output_type": "stream",
     "text": [
      "initial_potential =  80181.50947812806\n",
      "final_potential =  80265.35149131861\n",
      "energy_change =  0.26391197537304834\n",
      "p accept =  0.7680411432163886\n",
      "current step size = 0.0010383245649967724\n",
      "current acceptance ratio = 0.6722689075630253\n",
      "currently working on step 239\n"
     ]
    },
    {
     "name": "stderr",
     "output_type": "stream",
     "text": [
      "100%|██████████| 98/98 [00:51<00:00,  1.92it/s]\n"
     ]
    },
    {
     "name": "stdout",
     "output_type": "stream",
     "text": [
      "initial_potential =  80265.35149131861\n",
      "final_potential =  80168.38454283493\n",
      "energy_change =  -0.4615793034317903\n",
      "p accept =  1.58657769501371\n",
      "current step size = 0.0010383245649967724\n",
      "current acceptance ratio = 0.6736401673640168\n",
      "currently working on step 240\n"
     ]
    },
    {
     "name": "stderr",
     "output_type": "stream",
     "text": [
      "100%|██████████| 98/98 [00:58<00:00,  1.68it/s]\n"
     ]
    },
    {
     "name": "stdout",
     "output_type": "stream",
     "text": [
      "initial_potential =  80168.38454283493\n",
      "final_potential =  80150.63363799534\n",
      "energy_change =  -0.1187658691778779\n",
      "p accept =  1.1261062312432073\n",
      "current step size = 0.0010383245649967724\n",
      "current acceptance ratio = 0.675\n",
      "currently working on step 241\n"
     ]
    },
    {
     "name": "stderr",
     "output_type": "stream",
     "text": [
      "100%|██████████| 99/99 [00:51<00:00,  1.93it/s]\n"
     ]
    },
    {
     "name": "stdout",
     "output_type": "stream",
     "text": [
      "initial_potential =  80150.63363799534\n",
      "final_potential =  80156.78693471974\n",
      "energy_change =  0.11175453918986022\n",
      "p accept =  0.8942637372638425\n",
      "current step size = 0.0010383245649967724\n",
      "current acceptance ratio = 0.6763485477178424\n",
      "currently working on step 242\n"
     ]
    },
    {
     "name": "stderr",
     "output_type": "stream",
     "text": [
      "100%|██████████| 98/98 [00:55<00:00,  1.77it/s]\n"
     ]
    },
    {
     "name": "stdout",
     "output_type": "stream",
     "text": [
      "initial_potential =  80156.78693471974\n",
      "final_potential =  80369.98776847527\n",
      "energy_change =  0.526446771051269\n",
      "p accept =  0.5907001379979788\n",
      "current step size = 0.0010383245649967724\n",
      "current acceptance ratio = 0.6776859504132231\n",
      "currently working on step 243\n"
     ]
    },
    {
     "name": "stderr",
     "output_type": "stream",
     "text": [
      "100%|██████████| 98/98 [00:42<00:00,  2.30it/s]\n"
     ]
    },
    {
     "name": "stdout",
     "output_type": "stream",
     "text": [
      "initial_potential =  80369.98776847527\n",
      "final_potential =  79965.69637508172\n",
      "energy_change =  -0.8699022500077263\n",
      "p accept =  2.3866775444099546\n",
      "current step size = 0.0010383245649967724\n",
      "current acceptance ratio = 0.6790123456790124\n",
      "currently working on step 244\n"
     ]
    },
    {
     "name": "stderr",
     "output_type": "stream",
     "text": [
      "100%|██████████| 101/101 [00:46<00:00,  2.15it/s]\n"
     ]
    },
    {
     "name": "stdout",
     "output_type": "stream",
     "text": [
      "initial_potential =  79965.69637508172\n",
      "final_potential =  79602.58321097017\n",
      "energy_change =  -0.8065623469883576\n",
      "p accept =  2.2401937260886604\n",
      "current step size = 0.0010383245649967724\n",
      "current acceptance ratio = 0.680327868852459\n",
      "currently working on step 245\n"
     ]
    },
    {
     "name": "stderr",
     "output_type": "stream",
     "text": [
      "100%|██████████| 100/100 [00:46<00:00,  2.17it/s]\n"
     ]
    },
    {
     "name": "stdout",
     "output_type": "stream",
     "text": [
      "initial_potential =  79602.58321097017\n",
      "final_potential =  79833.40371687092\n",
      "energy_change =  0.7045066246646456\n",
      "p accept =  0.4943524153873204\n",
      "current step size = 0.0010383245649967724\n",
      "current acceptance ratio = 0.6816326530612244\n",
      "currently working on step 246\n"
     ]
    },
    {
     "name": "stderr",
     "output_type": "stream",
     "text": [
      "100%|██████████| 99/99 [00:42<00:00,  2.32it/s]\n"
     ]
    },
    {
     "name": "stdout",
     "output_type": "stream",
     "text": [
      "initial_potential =  79833.40371687092\n",
      "final_potential =  80126.47345145604\n",
      "energy_change =  0.8840854619629681\n",
      "p accept =  0.41309178873446506\n",
      "current step size = 0.0010383245649967724\n",
      "current acceptance ratio = 0.6829268292682927\n",
      "currently working on step 247\n"
     ]
    },
    {
     "name": "stderr",
     "output_type": "stream",
     "text": [
      "100%|██████████| 99/99 [00:49<00:00,  2.02it/s]\n"
     ]
    },
    {
     "name": "stdout",
     "output_type": "stream",
     "text": [
      "initial_potential =  80126.47345145604\n",
      "final_potential =  80154.22308062845\n",
      "energy_change =  -0.11328096687793732\n",
      "p accept =  1.1199465566345732\n",
      "current step size = 0.0010383245649967724\n",
      "current acceptance ratio = 0.6842105263157895\n",
      "currently working on step 248\n"
     ]
    },
    {
     "name": "stderr",
     "output_type": "stream",
     "text": [
      "100%|██████████| 97/97 [00:40<00:00,  2.37it/s]\n"
     ]
    },
    {
     "name": "stdout",
     "output_type": "stream",
     "text": [
      "initial_potential =  80154.22308062845\n",
      "final_potential =  80348.98021138355\n",
      "energy_change =  0.33683484175708145\n",
      "p accept =  0.7140267575695918\n",
      "current step size = 0.0010383245649967724\n",
      "current acceptance ratio = 0.6854838709677419\n",
      "currently working on step 249\n"
     ]
    },
    {
     "name": "stderr",
     "output_type": "stream",
     "text": [
      "100%|██████████| 99/99 [00:47<00:00,  2.09it/s]\n"
     ]
    },
    {
     "name": "stdout",
     "output_type": "stream",
     "text": [
      "initial_potential =  80348.98021138355\n",
      "final_potential =  80315.5436860373\n",
      "energy_change =  -0.23258072405587882\n",
      "p accept =  1.2618523040836522\n",
      "current step size = 0.0010383245649967724\n",
      "current acceptance ratio = 0.6867469879518072\n",
      "currently working on step 250\n"
     ]
    },
    {
     "name": "stderr",
     "output_type": "stream",
     "text": [
      "100%|██████████| 101/101 [00:46<00:00,  2.18it/s]\n"
     ]
    },
    {
     "name": "stdout",
     "output_type": "stream",
     "text": [
      "initial_potential =  80315.5436860373\n",
      "final_potential =  80125.8101564718\n",
      "energy_change =  -0.37170282640727237\n",
      "p accept =  1.4502019555262886\n",
      "current step size = 0.0010383245649967724\n",
      "current acceptance ratio = 0.688\n",
      "currently working on step 251\n"
     ]
    },
    {
     "name": "stderr",
     "output_type": "stream",
     "text": [
      "100%|██████████| 101/101 [00:44<00:00,  2.25it/s]\n"
     ]
    },
    {
     "name": "stdout",
     "output_type": "stream",
     "text": [
      "initial_potential =  80125.8101564718\n",
      "final_potential =  79240.11704609181\n",
      "energy_change =  -2.1794264406780712\n",
      "p accept =  8.841233832109397\n",
      "current step size = 0.0010383245649967724\n",
      "current acceptance ratio = 0.6892430278884463\n",
      "currently working on step 252\n"
     ]
    },
    {
     "name": "stderr",
     "output_type": "stream",
     "text": [
      "100%|██████████| 101/101 [00:49<00:00,  2.03it/s]\n"
     ]
    },
    {
     "name": "stdout",
     "output_type": "stream",
     "text": [
      "initial_potential =  79240.11704609181\n",
      "final_potential =  80146.947335182\n",
      "energy_change =  2.510899271350354\n",
      "p accept =  0.08119518989216473\n",
      "current step size = 0.0010383245649967724\n",
      "current acceptance ratio = 0.6865079365079365\n",
      "currently working on step 253\n"
     ]
    },
    {
     "name": "stderr",
     "output_type": "stream",
     "text": [
      "100%|██████████| 98/98 [00:42<00:00,  2.29it/s]\n"
     ]
    },
    {
     "name": "stdout",
     "output_type": "stream",
     "text": [
      "initial_potential =  79240.11704609181\n",
      "final_potential =  80056.94699327323\n",
      "energy_change =  2.2998822534573264\n",
      "p accept =  0.10027064955005857\n",
      "current step size = 0.0010383245649967724\n",
      "current acceptance ratio = 0.6837944664031621\n",
      "currently working on step 254\n"
     ]
    },
    {
     "name": "stderr",
     "output_type": "stream",
     "text": [
      "100%|██████████| 98/98 [00:46<00:00,  2.11it/s]\n"
     ]
    },
    {
     "name": "stdout",
     "output_type": "stream",
     "text": [
      "initial_potential =  79240.11704609181\n",
      "final_potential =  79990.97283768044\n",
      "energy_change =  2.079338525654748\n",
      "p accept =  0.1250128776664276\n",
      "current step size = 0.0010383245649967724\n",
      "current acceptance ratio = 0.6811023622047244\n",
      "currently working on step 255\n"
     ]
    },
    {
     "name": "stderr",
     "output_type": "stream",
     "text": [
      "100%|██████████| 99/99 [00:49<00:00,  2.00it/s]\n"
     ]
    },
    {
     "name": "stdout",
     "output_type": "stream",
     "text": [
      "initial_potential =  79240.11704609181\n",
      "final_potential =  79785.21121842439\n",
      "energy_change =  1.3263464380870573\n",
      "p accept =  0.2654453126895549\n",
      "current step size = 0.0010383245649967724\n",
      "current acceptance ratio = 0.6784313725490196\n",
      "currently working on step 256\n"
     ]
    },
    {
     "name": "stderr",
     "output_type": "stream",
     "text": [
      "100%|██████████| 100/100 [00:42<00:00,  2.37it/s]\n"
     ]
    },
    {
     "name": "stdout",
     "output_type": "stream",
     "text": [
      "initial_potential =  79240.11704609181\n",
      "final_potential =  79914.0492354392\n",
      "energy_change =  1.437958617170807\n",
      "p accept =  0.2374119129444211\n",
      "current step size = 0.0010383245649967724\n",
      "current acceptance ratio = 0.67578125\n",
      "currently working on step 257\n"
     ]
    },
    {
     "name": "stderr",
     "output_type": "stream",
     "text": [
      "100%|██████████| 100/100 [00:48<00:00,  2.07it/s]\n"
     ]
    },
    {
     "name": "stdout",
     "output_type": "stream",
     "text": [
      "initial_potential =  79240.11704609181\n",
      "final_potential =  80045.07881853882\n",
      "energy_change =  1.9112445188802667\n",
      "p accept =  0.14789621238645856\n",
      "current step size = 0.0010383245649967724\n",
      "current acceptance ratio = 0.6731517509727627\n",
      "currently working on step 258\n"
     ]
    },
    {
     "name": "stderr",
     "output_type": "stream",
     "text": [
      "100%|██████████| 97/97 [00:48<00:00,  2.02it/s]\n"
     ]
    },
    {
     "name": "stdout",
     "output_type": "stream",
     "text": [
      "initial_potential =  79240.11704609181\n",
      "final_potential =  79683.13357149536\n",
      "energy_change =  1.2006113534444012\n",
      "p accept =  0.30101013206797267\n",
      "current step size = 0.0010383245649967724\n",
      "current acceptance ratio = 0.6705426356589147\n",
      "currently working on step 259\n"
     ]
    },
    {
     "name": "stderr",
     "output_type": "stream",
     "text": [
      "100%|██████████| 97/97 [00:41<00:00,  2.37it/s]\n"
     ]
    },
    {
     "name": "stdout",
     "output_type": "stream",
     "text": [
      "initial_potential =  79240.11704609181\n",
      "final_potential =  80011.26921962973\n",
      "energy_change =  2.448212795134168\n",
      "p accept =  0.08644794871441581\n",
      "current step size = 0.0010383245649967724\n",
      "current acceptance ratio = 0.667953667953668\n",
      "currently working on step 260\n"
     ]
    },
    {
     "name": "stderr",
     "output_type": "stream",
     "text": [
      "100%|██████████| 100/100 [00:48<00:00,  2.07it/s]\n"
     ]
    },
    {
     "name": "stdout",
     "output_type": "stream",
     "text": [
      "initial_potential =  79240.11704609181\n",
      "final_potential =  79920.35698659145\n",
      "energy_change =  1.593802829098422\n",
      "p accept =  0.2031515901526867\n",
      "current step size = 0.0010383245649967724\n",
      "current acceptance ratio = 0.6653846153846154\n",
      "currently working on step 261\n"
     ]
    },
    {
     "name": "stderr",
     "output_type": "stream",
     "text": [
      "100%|██████████| 98/98 [00:49<00:00,  1.97it/s]\n"
     ]
    },
    {
     "name": "stdout",
     "output_type": "stream",
     "text": [
      "initial_potential =  79240.11704609181\n",
      "final_potential =  79706.54566425538\n",
      "energy_change =  1.28961723879911\n",
      "p accept =  0.2753761662322602\n",
      "current step size = 0.0010383245649967724\n",
      "current acceptance ratio = 0.6628352490421456\n",
      "currently working on step 262\n"
     ]
    },
    {
     "name": "stderr",
     "output_type": "stream",
     "text": [
      "100%|██████████| 101/101 [00:41<00:00,  2.41it/s]\n"
     ]
    },
    {
     "name": "stdout",
     "output_type": "stream",
     "text": [
      "initial_potential =  79240.11704609181\n",
      "final_potential =  80002.3125359841\n",
      "energy_change =  1.9459835853194818\n",
      "p accept =  0.14284665234745828\n",
      "current step size = 0.0010383245649967724\n",
      "current acceptance ratio = 0.6603053435114504\n",
      "currently working on step 263\n"
     ]
    },
    {
     "name": "stderr",
     "output_type": "stream",
     "text": [
      "100%|██████████| 100/100 [00:44<00:00,  2.25it/s]\n"
     ]
    },
    {
     "name": "stdout",
     "output_type": "stream",
     "text": [
      "initial_potential =  79240.11704609181\n",
      "final_potential =  79614.47131260108\n",
      "energy_change =  1.3176727437530644\n",
      "p accept =  0.26775771824629235\n",
      "current step size = 0.0010383245649967724\n",
      "current acceptance ratio = 0.6577946768060836\n",
      "currently working on step 264\n"
     ]
    },
    {
     "name": "stderr",
     "output_type": "stream",
     "text": [
      "100%|██████████| 98/98 [00:42<00:00,  2.32it/s]\n"
     ]
    },
    {
     "name": "stdout",
     "output_type": "stream",
     "text": [
      "initial_potential =  79240.11704609181\n",
      "final_potential =  79648.14423293398\n",
      "energy_change =  1.2286112535512075\n",
      "p accept =  0.292698779950818\n",
      "current step size = 0.0010383245649967724\n",
      "current acceptance ratio = 0.6553030303030303\n",
      "currently working on step 265\n"
     ]
    },
    {
     "name": "stderr",
     "output_type": "stream",
     "text": [
      "100%|██████████| 97/97 [00:43<00:00,  2.21it/s]\n"
     ]
    },
    {
     "name": "stdout",
     "output_type": "stream",
     "text": [
      "initial_potential =  79240.11704609181\n",
      "final_potential =  79887.90203897281\n",
      "energy_change =  1.513887220993638\n",
      "p accept =  0.2200529189235036\n",
      "current step size = 0.0010383245649967724\n",
      "current acceptance ratio = 0.6566037735849056\n",
      "currently working on step 266\n"
     ]
    },
    {
     "name": "stderr",
     "output_type": "stream",
     "text": [
      "100%|██████████| 100/100 [00:43<00:00,  2.29it/s]\n"
     ]
    },
    {
     "name": "stdout",
     "output_type": "stream",
     "text": [
      "initial_potential =  79887.90203897281\n",
      "final_potential =  79870.97331268538\n",
      "energy_change =  -0.31053591176168993\n",
      "p accept =  1.3641559855108165\n",
      "current step size = 0.0010383245649967724\n",
      "current acceptance ratio = 0.6578947368421053\n",
      "currently working on step 267\n"
     ]
    },
    {
     "name": "stderr",
     "output_type": "stream",
     "text": [
      "100%|██████████| 99/99 [00:45<00:00,  2.16it/s]\n"
     ]
    },
    {
     "name": "stdout",
     "output_type": "stream",
     "text": [
      "initial_potential =  79870.97331268538\n",
      "final_potential =  80183.34872859425\n",
      "energy_change =  0.800224524049554\n",
      "p accept =  0.4492280902833407\n",
      "current step size = 0.0010383245649967724\n",
      "current acceptance ratio = 0.6591760299625468\n",
      "currently working on step 268\n"
     ]
    },
    {
     "name": "stderr",
     "output_type": "stream",
     "text": [
      "100%|██████████| 100/100 [00:43<00:00,  2.31it/s]\n"
     ]
    },
    {
     "name": "stdout",
     "output_type": "stream",
     "text": [
      "initial_potential =  80183.34872859425\n",
      "final_potential =  80330.80464616868\n",
      "energy_change =  0.5478537445305847\n",
      "p accept =  0.5781894218521977\n",
      "current step size = 0.0010383245649967724\n",
      "current acceptance ratio = 0.6604477611940298\n",
      "currently working on step 269\n"
     ]
    },
    {
     "name": "stderr",
     "output_type": "stream",
     "text": [
      "100%|██████████| 101/101 [00:48<00:00,  2.08it/s]\n"
     ]
    },
    {
     "name": "stdout",
     "output_type": "stream",
     "text": [
      "initial_potential =  80330.80464616868\n",
      "final_potential =  80343.88274882513\n",
      "energy_change =  0.03141345357289538\n",
      "p accept =  0.9690748227880309\n",
      "current step size = 0.0010383245649967724\n",
      "current acceptance ratio = 0.6617100371747212\n",
      "currently working on step 270\n"
     ]
    },
    {
     "name": "stderr",
     "output_type": "stream",
     "text": [
      "100%|██████████| 101/101 [00:43<00:00,  2.33it/s]\n"
     ]
    },
    {
     "name": "stdout",
     "output_type": "stream",
     "text": [
      "initial_potential =  80343.88274882513\n",
      "final_potential =  80112.87505140831\n",
      "energy_change =  -0.8838975995895453\n",
      "p accept =  2.420314764267285\n",
      "current step size = 0.0010383245649967724\n",
      "current acceptance ratio = 0.662962962962963\n",
      "currently working on step 271\n"
     ]
    },
    {
     "name": "stderr",
     "output_type": "stream",
     "text": [
      "100%|██████████| 99/99 [00:46<00:00,  2.13it/s]\n"
     ]
    },
    {
     "name": "stdout",
     "output_type": "stream",
     "text": [
      "initial_potential =  80112.87505140831\n",
      "final_potential =  80227.82192981103\n",
      "energy_change =  0.20875569892814383\n",
      "p accept =  0.8115934845844065\n",
      "current step size = 0.0010383245649967724\n",
      "current acceptance ratio = 0.6642066420664207\n",
      "currently working on step 272\n"
     ]
    },
    {
     "name": "stderr",
     "output_type": "stream",
     "text": [
      "100%|██████████| 97/97 [00:42<00:00,  2.31it/s]\n"
     ]
    },
    {
     "name": "stdout",
     "output_type": "stream",
     "text": [
      "initial_potential =  80227.82192981103\n",
      "final_potential =  80745.87104786972\n",
      "energy_change =  1.3511493536061607\n",
      "p accept =  0.2589424730818432\n",
      "current step size = 0.0010383245649967724\n",
      "current acceptance ratio = 0.6617647058823529\n",
      "currently working on step 273\n"
     ]
    },
    {
     "name": "stderr",
     "output_type": "stream",
     "text": [
      "100%|██████████| 98/98 [00:46<00:00,  2.11it/s]\n"
     ]
    },
    {
     "name": "stdout",
     "output_type": "stream",
     "text": [
      "initial_potential =  80227.82192981103\n",
      "final_potential =  80089.85471195448\n",
      "energy_change =  -0.2568179402151145\n",
      "p accept =  1.2928097366699132\n",
      "current step size = 0.0010383245649967724\n",
      "current acceptance ratio = 0.663003663003663\n",
      "currently working on step 274\n"
     ]
    },
    {
     "name": "stderr",
     "output_type": "stream",
     "text": [
      "100%|██████████| 99/99 [00:42<00:00,  2.34it/s]\n"
     ]
    },
    {
     "name": "stdout",
     "output_type": "stream",
     "text": [
      "initial_potential =  80089.85471195448\n",
      "final_potential =  80538.37051585918\n",
      "energy_change =  1.2808754334691912\n",
      "p accept =  0.2777940038052463\n",
      "current step size = 0.0010383245649967724\n",
      "current acceptance ratio = 0.6642335766423357\n",
      "currently working on step 275\n"
     ]
    },
    {
     "name": "stderr",
     "output_type": "stream",
     "text": [
      "100%|██████████| 99/99 [00:46<00:00,  2.11it/s]\n"
     ]
    },
    {
     "name": "stdout",
     "output_type": "stream",
     "text": [
      "initial_potential =  80538.37051585918\n",
      "final_potential =  80478.50940127578\n",
      "energy_change =  -0.1611999238957651\n",
      "p accept =  1.1749198398865213\n",
      "current step size = 0.0010383245649967724\n",
      "current acceptance ratio = 0.6654545454545454\n",
      "currently working on step 276\n"
     ]
    },
    {
     "name": "stderr",
     "output_type": "stream",
     "text": [
      "100%|██████████| 101/101 [00:43<00:00,  2.31it/s]\n"
     ]
    },
    {
     "name": "stdout",
     "output_type": "stream",
     "text": [
      "initial_potential =  80478.50940127578\n",
      "final_potential =  80335.5201701029\n",
      "energy_change =  0.11384469532640651\n",
      "p accept =  0.8923965384739914\n",
      "current step size = 0.0010383245649967724\n",
      "current acceptance ratio = 0.6666666666666666\n",
      "currently working on step 277\n"
     ]
    },
    {
     "name": "stderr",
     "output_type": "stream",
     "text": [
      "100%|██████████| 97/97 [00:45<00:00,  2.15it/s]\n"
     ]
    },
    {
     "name": "stdout",
     "output_type": "stream",
     "text": [
      "initial_potential =  80335.5201701029\n",
      "final_potential =  79909.56081491658\n",
      "energy_change =  -1.236992322432343\n",
      "p accept =  3.4452357079585916\n",
      "current step size = 0.0010383245649967724\n",
      "current acceptance ratio = 0.6678700361010831\n",
      "currently working on step 278\n"
     ]
    },
    {
     "name": "stderr",
     "output_type": "stream",
     "text": [
      "100%|██████████| 98/98 [00:42<00:00,  2.30it/s]\n"
     ]
    },
    {
     "name": "stdout",
     "output_type": "stream",
     "text": [
      "initial_potential =  79909.56081491658\n",
      "final_potential =  80043.38285883958\n",
      "energy_change =  0.5173277970752679\n",
      "p accept =  0.5961113520463291\n",
      "current step size = 0.0010383245649967724\n",
      "current acceptance ratio = 0.6690647482014388\n",
      "currently working on step 279\n"
     ]
    },
    {
     "name": "stderr",
     "output_type": "stream",
     "text": [
      "100%|██████████| 99/99 [00:46<00:00,  2.15it/s]\n"
     ]
    },
    {
     "name": "stdout",
     "output_type": "stream",
     "text": [
      "initial_potential =  80043.38285883958\n",
      "final_potential =  79767.14837130164\n",
      "energy_change =  -1.0708675278583542\n",
      "p accept =  2.917909770292204\n",
      "current step size = 0.0010383245649967724\n",
      "current acceptance ratio = 0.6702508960573477\n",
      "currently working on step 280\n"
     ]
    },
    {
     "name": "stderr",
     "output_type": "stream",
     "text": [
      "100%|██████████| 98/98 [00:42<00:00,  2.31it/s]\n"
     ]
    },
    {
     "name": "stdout",
     "output_type": "stream",
     "text": [
      "initial_potential =  79767.14837130164\n",
      "final_potential =  80323.21423438555\n",
      "energy_change =  1.3462055419222452\n",
      "p accept =  0.26022580556894354\n",
      "current step size = 0.0010383245649967724\n",
      "current acceptance ratio = 0.6678571428571428\n",
      "currently working on step 281\n"
     ]
    },
    {
     "name": "stderr",
     "output_type": "stream",
     "text": [
      "100%|██████████| 97/97 [00:44<00:00,  2.16it/s]\n"
     ]
    },
    {
     "name": "stdout",
     "output_type": "stream",
     "text": [
      "initial_potential =  79767.14837130164\n",
      "final_potential =  79629.74603321408\n",
      "energy_change =  -0.4088751189992763\n",
      "p accept =  1.505123747388883\n",
      "current step size = 0.0010383245649967724\n",
      "current acceptance ratio = 0.6690391459074733\n",
      "currently working on step 282\n"
     ]
    },
    {
     "name": "stderr",
     "output_type": "stream",
     "text": [
      "100%|██████████| 99/99 [00:44<00:00,  2.25it/s]\n"
     ]
    },
    {
     "name": "stdout",
     "output_type": "stream",
     "text": [
      "initial_potential =  79629.74603321408\n",
      "final_potential =  80464.85664436748\n",
      "energy_change =  2.120846968027763\n",
      "p accept =  0.11993000860026987\n",
      "current step size = 0.0010383245649967724\n",
      "current acceptance ratio = 0.6666666666666666\n",
      "currently working on step 283\n"
     ]
    },
    {
     "name": "stderr",
     "output_type": "stream",
     "text": [
      "100%|██████████| 98/98 [00:44<00:00,  2.19it/s]\n"
     ]
    },
    {
     "name": "stdout",
     "output_type": "stream",
     "text": [
      "initial_potential =  79629.74603321408\n",
      "final_potential =  80229.2415357546\n",
      "energy_change =  1.5320248996140435\n",
      "p accept =  0.2160976479491203\n",
      "current step size = 0.0010383245649967724\n",
      "current acceptance ratio = 0.6643109540636042\n",
      "currently working on step 284\n"
     ]
    },
    {
     "name": "stderr",
     "output_type": "stream",
     "text": [
      "100%|██████████| 99/99 [00:44<00:00,  2.24it/s]\n"
     ]
    },
    {
     "name": "stdout",
     "output_type": "stream",
     "text": [
      "initial_potential =  79629.74603321408\n",
      "final_potential =  80180.90799182301\n",
      "energy_change =  1.263610205031\n",
      "p accept =  0.28263182359751443\n",
      "current step size = 0.0010383245649967724\n",
      "current acceptance ratio = 0.6619718309859155\n",
      "currently working on step 285\n"
     ]
    },
    {
     "name": "stderr",
     "output_type": "stream",
     "text": [
      "100%|██████████| 98/98 [00:44<00:00,  2.22it/s]\n"
     ]
    },
    {
     "name": "stdout",
     "output_type": "stream",
     "text": [
      "initial_potential =  79629.74603321408\n",
      "final_potential =  80251.66366306195\n",
      "energy_change =  1.5056848230888136\n",
      "p accept =  0.22186530331226603\n",
      "current step size = 0.0010383245649967724\n",
      "current acceptance ratio = 0.6596491228070176\n",
      "currently working on step 286\n"
     ]
    },
    {
     "name": "stderr",
     "output_type": "stream",
     "text": [
      "100%|██████████| 98/98 [00:43<00:00,  2.27it/s]\n"
     ]
    },
    {
     "name": "stdout",
     "output_type": "stream",
     "text": [
      "initial_potential =  79629.74603321408\n",
      "final_potential =  79999.36504520073\n",
      "energy_change =  1.0546975294710137\n",
      "p accept =  0.34829776118326755\n",
      "current step size = 0.0010383245649967724\n",
      "current acceptance ratio = 0.6608391608391608\n",
      "currently working on step 287\n"
     ]
    },
    {
     "name": "stderr",
     "output_type": "stream",
     "text": [
      "100%|██████████| 97/97 [00:42<00:00,  2.28it/s]\n"
     ]
    },
    {
     "name": "stdout",
     "output_type": "stream",
     "text": [
      "initial_potential =  79999.36504520073\n",
      "final_potential =  80485.20985432087\n",
      "energy_change =  1.2783243193407543\n",
      "p accept =  0.27850359274949493\n",
      "current step size = 0.0010383245649967724\n",
      "current acceptance ratio = 0.6585365853658537\n",
      "currently working on step 288\n"
     ]
    },
    {
     "name": "stderr",
     "output_type": "stream",
     "text": [
      "100%|██████████| 100/100 [00:43<00:00,  2.31it/s]\n"
     ]
    },
    {
     "name": "stdout",
     "output_type": "stream",
     "text": [
      "initial_potential =  79999.36504520073\n",
      "final_potential =  79752.33974130641\n",
      "energy_change =  -0.42233250464778394\n",
      "p accept =  1.5255156814169597\n",
      "current step size = 0.0010383245649967724\n",
      "current acceptance ratio = 0.6597222222222222\n",
      "currently working on step 289\n"
     ]
    },
    {
     "name": "stderr",
     "output_type": "stream",
     "text": [
      "100%|██████████| 99/99 [00:42<00:00,  2.31it/s]\n"
     ]
    },
    {
     "name": "stdout",
     "output_type": "stream",
     "text": [
      "initial_potential =  79752.33974130641\n",
      "final_potential =  80022.9191987498\n",
      "energy_change =  0.7850760266301222\n",
      "p accept =  0.4560850258599437\n",
      "current step size = 0.0010383245649967724\n",
      "current acceptance ratio = 0.6608996539792388\n",
      "currently working on step 290\n"
     ]
    },
    {
     "name": "stderr",
     "output_type": "stream",
     "text": [
      "100%|██████████| 100/100 [00:44<00:00,  2.24it/s]\n"
     ]
    },
    {
     "name": "stdout",
     "output_type": "stream",
     "text": [
      "initial_potential =  80022.9191987498\n",
      "final_potential =  80221.34433598653\n",
      "energy_change =  0.593440787459258\n",
      "p accept =  0.5524232399500775\n",
      "current step size = 0.0010383245649967724\n",
      "current acceptance ratio = 0.6586206896551724\n",
      "currently working on step 291\n"
     ]
    },
    {
     "name": "stderr",
     "output_type": "stream",
     "text": [
      "100%|██████████| 99/99 [00:44<00:00,  2.23it/s]\n"
     ]
    },
    {
     "name": "stdout",
     "output_type": "stream",
     "text": [
      "initial_potential =  80022.9191987498\n",
      "final_potential =  79844.2761756146\n",
      "energy_change =  -0.34626014408422634\n",
      "p accept =  1.4137703519769313\n",
      "current step size = 0.0010383245649967724\n",
      "current acceptance ratio = 0.6597938144329897\n",
      "currently working on step 292\n"
     ]
    },
    {
     "name": "stderr",
     "output_type": "stream",
     "text": [
      "100%|██████████| 101/101 [00:44<00:00,  2.27it/s]\n"
     ]
    },
    {
     "name": "stdout",
     "output_type": "stream",
     "text": [
      "initial_potential =  79844.2761756146\n",
      "final_potential =  80478.16870126627\n",
      "energy_change =  1.3893747554975562\n",
      "p accept =  0.24923108629232213\n",
      "current step size = 0.0010383245649967724\n",
      "current acceptance ratio = 0.6575342465753424\n",
      "currently working on step 293\n"
     ]
    },
    {
     "name": "stderr",
     "output_type": "stream",
     "text": [
      "100%|██████████| 101/101 [00:45<00:00,  2.24it/s]\n"
     ]
    },
    {
     "name": "stdout",
     "output_type": "stream",
     "text": [
      "initial_potential =  79844.2761756146\n",
      "final_potential =  79825.31640928262\n",
      "energy_change =  0.13559861021349207\n",
      "p accept =  0.8731930529295172\n",
      "current step size = 0.0010383245649967724\n",
      "current acceptance ratio = 0.658703071672355\n",
      "currently working on step 294\n"
     ]
    },
    {
     "name": "stderr",
     "output_type": "stream",
     "text": [
      "100%|██████████| 97/97 [00:42<00:00,  2.30it/s]\n"
     ]
    },
    {
     "name": "stdout",
     "output_type": "stream",
     "text": [
      "initial_potential =  79825.31640928262\n",
      "final_potential =  79869.25624415018\n",
      "energy_change =  -0.06536787934601307\n",
      "p accept =  1.067551682369128\n",
      "current step size = 0.0010383245649967724\n",
      "current acceptance ratio = 0.6598639455782312\n",
      "currently working on step 295\n"
     ]
    },
    {
     "name": "stderr",
     "output_type": "stream",
     "text": [
      "100%|██████████| 98/98 [00:45<00:00,  2.16it/s]\n"
     ]
    },
    {
     "name": "stdout",
     "output_type": "stream",
     "text": [
      "initial_potential =  79869.25624415018\n",
      "final_potential =  79836.09382420186\n",
      "energy_change =  0.13941249245544896\n",
      "p accept =  0.8698691399864745\n",
      "current step size = 0.0010383245649967724\n",
      "current acceptance ratio = 0.6610169491525424\n",
      "currently working on step 296\n"
     ]
    },
    {
     "name": "stderr",
     "output_type": "stream",
     "text": [
      "100%|██████████| 100/100 [00:38<00:00,  2.62it/s]\n"
     ]
    },
    {
     "name": "stdout",
     "output_type": "stream",
     "text": [
      "initial_potential =  79836.09382420186\n",
      "final_potential =  80567.92494775687\n",
      "energy_change =  1.399226445122622\n",
      "p accept =  0.24678779402506518\n",
      "current step size = 0.0010383245649967724\n",
      "current acceptance ratio = 0.6587837837837838\n",
      "currently working on step 297\n"
     ]
    },
    {
     "name": "stderr",
     "output_type": "stream",
     "text": [
      "100%|██████████| 98/98 [00:37<00:00,  2.59it/s]\n"
     ]
    },
    {
     "name": "stdout",
     "output_type": "stream",
     "text": [
      "initial_potential =  79836.09382420186\n",
      "final_potential =  80036.19557689657\n",
      "energy_change =  0.42140849243151024\n",
      "p accept =  0.6561220257777883\n",
      "current step size = 0.0010383245649967724\n",
      "current acceptance ratio = 0.6565656565656566\n",
      "currently working on step 298\n"
     ]
    },
    {
     "name": "stderr",
     "output_type": "stream",
     "text": [
      "100%|██████████| 100/100 [00:35<00:00,  2.85it/s]\n"
     ]
    },
    {
     "name": "stdout",
     "output_type": "stream",
     "text": [
      "initial_potential =  79836.09382420186\n",
      "final_potential =  80311.49043658761\n",
      "energy_change =  1.1158512923284434\n",
      "p accept =  0.3276362459244488\n",
      "current step size = 0.0010383245649967724\n",
      "current acceptance ratio = 0.6543624161073825\n",
      "currently working on step 299\n"
     ]
    },
    {
     "name": "stderr",
     "output_type": "stream",
     "text": [
      "100%|██████████| 98/98 [00:38<00:00,  2.57it/s]\n"
     ]
    },
    {
     "name": "stdout",
     "output_type": "stream",
     "text": [
      "initial_potential =  79836.09382420186\n",
      "final_potential =  80123.87857418373\n",
      "energy_change =  0.4914472969248891\n",
      "p accept =  0.6117403832031496\n",
      "current step size = 0.0010383245649967724\n",
      "current acceptance ratio = 0.6555183946488294\n",
      "currently working on step 300\n"
     ]
    },
    {
     "name": "stderr",
     "output_type": "stream",
     "text": [
      "100%|██████████| 97/97 [00:34<00:00,  2.84it/s]\n"
     ]
    },
    {
     "name": "stdout",
     "output_type": "stream",
     "text": [
      "initial_potential =  80123.87857418373\n",
      "final_potential =  80215.85840108395\n",
      "energy_change =  0.07117702288087457\n",
      "p accept =  0.931297016653819\n",
      "current step size = 0.0010383245649967724\n",
      "current acceptance ratio = 0.6566666666666666\n",
      "currently working on step 301\n"
     ]
    },
    {
     "name": "stderr",
     "output_type": "stream",
     "text": [
      "100%|██████████| 100/100 [00:38<00:00,  2.58it/s]\n"
     ]
    },
    {
     "name": "stdout",
     "output_type": "stream",
     "text": [
      "initial_potential =  80215.85840108395\n",
      "final_potential =  80071.09851654572\n",
      "energy_change =  -0.2222174420603551\n",
      "p accept =  1.2488428993162088\n",
      "current step size = 0.0010383245649967724\n",
      "current acceptance ratio = 0.6578073089700996\n",
      "currently working on step 302\n"
     ]
    },
    {
     "name": "stderr",
     "output_type": "stream",
     "text": [
      "100%|██████████| 101/101 [00:35<00:00,  2.83it/s]\n"
     ]
    },
    {
     "name": "stdout",
     "output_type": "stream",
     "text": [
      "initial_potential =  80071.09851654572\n",
      "final_potential =  79879.98622468572\n",
      "energy_change =  -0.45068403478944674\n",
      "p accept =  1.5693853325788847\n",
      "current step size = 0.0010383245649967724\n",
      "current acceptance ratio = 0.6589403973509934\n",
      "currently working on step 303\n"
     ]
    },
    {
     "name": "stderr",
     "output_type": "stream",
     "text": [
      "100%|██████████| 97/97 [00:37<00:00,  2.57it/s]\n"
     ]
    },
    {
     "name": "stdout",
     "output_type": "stream",
     "text": [
      "initial_potential =  79879.98622468572\n",
      "final_potential =  80180.43635930418\n",
      "energy_change =  0.7602606517029926\n",
      "p accept =  0.4675445448443637\n",
      "current step size = 0.0010383245649967724\n",
      "current acceptance ratio = 0.6567656765676567\n",
      "currently working on step 304\n"
     ]
    },
    {
     "name": "stderr",
     "output_type": "stream",
     "text": [
      "100%|██████████| 101/101 [00:35<00:00,  2.82it/s]\n"
     ]
    },
    {
     "name": "stdout",
     "output_type": "stream",
     "text": [
      "initial_potential =  79879.98622468572\n",
      "final_potential =  79613.7210354145\n",
      "energy_change =  -0.5229803880793042\n",
      "p accept =  1.687048222766812\n",
      "current step size = 0.0010383245649967724\n",
      "current acceptance ratio = 0.6578947368421053\n",
      "currently working on step 305\n"
     ]
    },
    {
     "name": "stderr",
     "output_type": "stream",
     "text": [
      "100%|██████████| 100/100 [00:38<00:00,  2.59it/s]\n"
     ]
    },
    {
     "name": "stdout",
     "output_type": "stream",
     "text": [
      "initial_potential =  79613.7210354145\n",
      "final_potential =  79975.45580169135\n",
      "energy_change =  0.9510668035363778\n",
      "p accept =  0.3863286667539183\n",
      "current step size = 0.0010383245649967724\n",
      "current acceptance ratio = 0.6557377049180327\n",
      "currently working on step 306\n"
     ]
    },
    {
     "name": "stderr",
     "output_type": "stream",
     "text": [
      "100%|██████████| 100/100 [00:35<00:00,  2.83it/s]\n"
     ]
    },
    {
     "name": "stdout",
     "output_type": "stream",
     "text": [
      "initial_potential =  79613.7210354145\n",
      "final_potential =  79780.41639859964\n",
      "energy_change =  0.320358450175263\n",
      "p accept =  0.7258887954686958\n",
      "current step size = 0.0010383245649967724\n",
      "current acceptance ratio = 0.6568627450980392\n",
      "currently working on step 307\n"
     ]
    },
    {
     "name": "stderr",
     "output_type": "stream",
     "text": [
      "100%|██████████| 98/98 [00:37<00:00,  2.59it/s]\n"
     ]
    },
    {
     "name": "stdout",
     "output_type": "stream",
     "text": [
      "initial_potential =  79780.41639859964\n",
      "final_potential =  79932.37600324566\n",
      "energy_change =  0.322422340628691\n",
      "p accept =  0.72439218546428\n",
      "current step size = 0.0010383245649967724\n",
      "current acceptance ratio = 0.6579804560260586\n",
      "currently working on step 308\n"
     ]
    },
    {
     "name": "stderr",
     "output_type": "stream",
     "text": [
      "100%|██████████| 101/101 [00:35<00:00,  2.81it/s]\n"
     ]
    },
    {
     "name": "stdout",
     "output_type": "stream",
     "text": [
      "initial_potential =  79932.37600324566\n",
      "final_potential =  79810.89873636613\n",
      "energy_change =  -0.08067415689583868\n",
      "p accept =  1.0840176193473594\n",
      "current step size = 0.0010383245649967724\n",
      "current acceptance ratio = 0.6590909090909091\n",
      "currently working on step 309\n"
     ]
    },
    {
     "name": "stderr",
     "output_type": "stream",
     "text": [
      "100%|██████████| 99/99 [00:38<00:00,  2.58it/s]\n"
     ]
    },
    {
     "name": "stdout",
     "output_type": "stream",
     "text": [
      "initial_potential =  79810.89873636613\n",
      "final_potential =  79854.91879420645\n",
      "energy_change =  0.13628219009842724\n",
      "p accept =  0.8725963596898527\n",
      "current step size = 0.0010383245649967724\n",
      "current acceptance ratio = 0.6601941747572816\n",
      "currently working on step 310\n"
     ]
    },
    {
     "name": "stderr",
     "output_type": "stream",
     "text": [
      "100%|██████████| 97/97 [00:34<00:00,  2.81it/s]\n"
     ]
    },
    {
     "name": "stdout",
     "output_type": "stream",
     "text": [
      "initial_potential =  79854.91879420645\n",
      "final_potential =  79820.91223050353\n",
      "energy_change =  -0.18462630739668384\n",
      "p accept =  1.2027688902984006\n",
      "current step size = 0.0010383245649967724\n",
      "current acceptance ratio = 0.6612903225806451\n",
      "currently working on step 311\n"
     ]
    },
    {
     "name": "stderr",
     "output_type": "stream",
     "text": [
      "100%|██████████| 97/97 [00:37<00:00,  2.59it/s]\n"
     ]
    },
    {
     "name": "stdout",
     "output_type": "stream",
     "text": [
      "initial_potential =  79820.91223050353\n",
      "final_potential =  79863.67986354363\n",
      "energy_change =  -0.08879571425495669\n",
      "p accept =  1.0928573783370918\n",
      "current step size = 0.0010383245649967724\n",
      "current acceptance ratio = 0.662379421221865\n",
      "currently working on step 312\n"
     ]
    },
    {
     "name": "stderr",
     "output_type": "stream",
     "text": [
      "100%|██████████| 97/97 [00:34<00:00,  2.83it/s]\n"
     ]
    },
    {
     "name": "stdout",
     "output_type": "stream",
     "text": [
      "initial_potential =  79863.67986354363\n",
      "final_potential =  80322.17348778526\n",
      "energy_change =  1.2316901664598845\n",
      "p accept =  0.2917989718251264\n",
      "current step size = 0.0010383245649967724\n",
      "current acceptance ratio = 0.6602564102564102\n",
      "currently working on step 313\n"
     ]
    },
    {
     "name": "stderr",
     "output_type": "stream",
     "text": [
      "100%|██████████| 101/101 [00:38<00:00,  2.61it/s]\n"
     ]
    },
    {
     "name": "stdout",
     "output_type": "stream",
     "text": [
      "initial_potential =  79863.67986354363\n",
      "final_potential =  80057.3140496282\n",
      "energy_change =  0.5952050173073076\n",
      "p accept =  0.5514494975866372\n",
      "current step size = 0.0010383245649967724\n",
      "current acceptance ratio = 0.65814696485623\n",
      "currently working on step 314\n"
     ]
    },
    {
     "name": "stderr",
     "output_type": "stream",
     "text": [
      "100%|██████████| 98/98 [00:33<00:00,  2.89it/s]\n"
     ]
    },
    {
     "name": "stdout",
     "output_type": "stream",
     "text": [
      "initial_potential =  79863.67986354363\n",
      "final_potential =  79602.77117511252\n",
      "energy_change =  -0.9023522795177996\n",
      "p accept =  2.4653955952771938\n",
      "current step size = 0.0010383245649967724\n",
      "current acceptance ratio = 0.6592356687898089\n",
      "currently working on step 315\n"
     ]
    },
    {
     "name": "stderr",
     "output_type": "stream",
     "text": [
      "100%|██████████| 99/99 [00:37<00:00,  2.64it/s]\n"
     ]
    },
    {
     "name": "stdout",
     "output_type": "stream",
     "text": [
      "initial_potential =  79602.77117511252\n",
      "final_potential =  79745.71447053805\n",
      "energy_change =  0.14641049969941378\n",
      "p accept =  0.8638030395068863\n",
      "current step size = 0.0010383245649967724\n",
      "current acceptance ratio = 0.6603174603174603\n",
      "currently working on step 316\n"
     ]
    },
    {
     "name": "stderr",
     "output_type": "stream",
     "text": [
      "100%|██████████| 97/97 [00:33<00:00,  2.86it/s]\n"
     ]
    },
    {
     "name": "stdout",
     "output_type": "stream",
     "text": [
      "initial_potential =  79745.71447053805\n",
      "final_potential =  79689.74195407798\n",
      "energy_change =  -0.4216984004015103\n",
      "p accept =  1.5245486520767242\n",
      "current step size = 0.0010383245649967724\n",
      "current acceptance ratio = 0.6613924050632911\n",
      "currently working on step 317\n"
     ]
    },
    {
     "name": "stderr",
     "output_type": "stream",
     "text": [
      "100%|██████████| 97/97 [00:36<00:00,  2.66it/s]\n"
     ]
    },
    {
     "name": "stdout",
     "output_type": "stream",
     "text": [
      "initial_potential =  79689.74195407798\n",
      "final_potential =  79908.93606253121\n",
      "energy_change =  0.5036613273550756\n",
      "p accept =  0.6043140128277111\n",
      "current step size = 0.0010383245649967724\n",
      "current acceptance ratio = 0.6593059936908517\n",
      "currently working on step 318\n"
     ]
    },
    {
     "name": "stderr",
     "output_type": "stream",
     "text": [
      "100%|██████████| 97/97 [00:34<00:00,  2.80it/s]\n"
     ]
    },
    {
     "name": "stdout",
     "output_type": "stream",
     "text": [
      "initial_potential =  79689.74195407798\n",
      "final_potential =  79833.25455314694\n",
      "energy_change =  0.3583419880014844\n",
      "p accept =  0.6988340412783758\n",
      "current step size = 0.0010383245649967724\n",
      "current acceptance ratio = 0.6572327044025157\n",
      "currently working on step 319\n"
     ]
    },
    {
     "name": "stderr",
     "output_type": "stream",
     "text": [
      "100%|██████████| 101/101 [00:38<00:00,  2.62it/s]\n"
     ]
    },
    {
     "name": "stdout",
     "output_type": "stream",
     "text": [
      "initial_potential =  79689.74195407798\n",
      "final_potential =  79637.04718983543\n",
      "energy_change =  0.037349860242102295\n",
      "p accept =  0.9633390423541889\n",
      "current step size = 0.0010383245649967724\n",
      "current acceptance ratio = 0.658307210031348\n",
      "currently working on step 320\n"
     ]
    },
    {
     "name": "stderr",
     "output_type": "stream",
     "text": [
      "100%|██████████| 97/97 [00:34<00:00,  2.85it/s]\n"
     ]
    },
    {
     "name": "stdout",
     "output_type": "stream",
     "text": [
      "initial_potential =  79637.04718983543\n",
      "final_potential =  79478.90754046809\n",
      "energy_change =  -0.1970120645710267\n",
      "p accept =  1.2177587323540038\n",
      "current step size = 0.0010383245649967724\n",
      "current acceptance ratio = 0.659375\n",
      "currently working on step 321\n"
     ]
    },
    {
     "name": "stderr",
     "output_type": "stream",
     "text": [
      "100%|██████████| 99/99 [00:38<00:00,  2.59it/s]\n"
     ]
    },
    {
     "name": "stdout",
     "output_type": "stream",
     "text": [
      "initial_potential =  79478.90754046809\n",
      "final_potential =  79812.32932808851\n",
      "energy_change =  0.8354074307717383\n",
      "p accept =  0.43369774362483876\n",
      "current step size = 0.0010383245649967724\n",
      "current acceptance ratio = 0.660436137071651\n",
      "currently working on step 322\n"
     ]
    },
    {
     "name": "stderr",
     "output_type": "stream",
     "text": [
      "100%|██████████| 101/101 [00:35<00:00,  2.84it/s]\n"
     ]
    },
    {
     "name": "stdout",
     "output_type": "stream",
     "text": [
      "initial_potential =  79812.32932808851\n",
      "final_potential =  80347.57902092677\n",
      "energy_change =  1.3556079399422742\n",
      "p accept =  0.25779052564636445\n",
      "current step size = 0.0010383245649967724\n",
      "current acceptance ratio = 0.6583850931677019\n",
      "currently working on step 323\n"
     ]
    },
    {
     "name": "stderr",
     "output_type": "stream",
     "text": [
      "100%|██████████| 101/101 [00:39<00:00,  2.57it/s]\n"
     ]
    },
    {
     "name": "stdout",
     "output_type": "stream",
     "text": [
      "initial_potential =  79812.32932808851\n",
      "final_potential =  80226.87572953542\n",
      "energy_change =  1.1533098282525316\n",
      "p accept =  0.31559048851411936\n",
      "current step size = 0.0010383245649967724\n",
      "current acceptance ratio = 0.6563467492260062\n",
      "currently working on step 324\n"
     ]
    },
    {
     "name": "stderr",
     "output_type": "stream",
     "text": [
      "100%|██████████| 99/99 [00:35<00:00,  2.82it/s]\n"
     ]
    },
    {
     "name": "stdout",
     "output_type": "stream",
     "text": [
      "initial_potential =  79812.32932808851\n",
      "final_potential =  79861.69632269314\n",
      "energy_change =  -0.19027354754507542\n",
      "p accept =  1.209580430163221\n",
      "current step size = 0.0010383245649967724\n",
      "current acceptance ratio = 0.6574074074074074\n",
      "currently working on step 325\n"
     ]
    },
    {
     "name": "stderr",
     "output_type": "stream",
     "text": [
      "100%|██████████| 100/100 [00:38<00:00,  2.58it/s]\n"
     ]
    },
    {
     "name": "stdout",
     "output_type": "stream",
     "text": [
      "initial_potential =  79861.69632269314\n",
      "final_potential =  80072.38783454736\n",
      "energy_change =  0.6073383367038332\n",
      "p accept =  0.544799012519842\n",
      "current step size = 0.0010383245649967724\n",
      "current acceptance ratio = 0.6553846153846153\n",
      "currently working on step 326\n"
     ]
    },
    {
     "name": "stderr",
     "output_type": "stream",
     "text": [
      "100%|██████████| 97/97 [00:34<00:00,  2.82it/s]\n"
     ]
    },
    {
     "name": "stdout",
     "output_type": "stream",
     "text": [
      "initial_potential =  79861.69632269314\n",
      "final_potential =  80139.31109553138\n",
      "energy_change =  0.5807591361808591\n",
      "p accept =  0.5594734887482045\n",
      "current step size = 0.0010383245649967724\n",
      "current acceptance ratio = 0.656441717791411\n",
      "currently working on step 327\n"
     ]
    },
    {
     "name": "stderr",
     "output_type": "stream",
     "text": [
      "100%|██████████| 98/98 [00:38<00:00,  2.57it/s]\n"
     ]
    },
    {
     "name": "stdout",
     "output_type": "stream",
     "text": [
      "initial_potential =  80139.31109553138\n",
      "final_potential =  80212.68618768927\n",
      "energy_change =  0.4104723469936289\n",
      "p accept =  0.6633368509582531\n",
      "current step size = 0.0010383245649967724\n",
      "current acceptance ratio = 0.6574923547400612\n",
      "currently working on step 328\n"
     ]
    },
    {
     "name": "stderr",
     "output_type": "stream",
     "text": [
      "100%|██████████| 97/97 [00:34<00:00,  2.85it/s]\n"
     ]
    },
    {
     "name": "stdout",
     "output_type": "stream",
     "text": [
      "initial_potential =  80212.68618768927\n",
      "final_potential =  79759.00023061843\n",
      "energy_change =  -1.1240165866329335\n",
      "p accept =  3.0771892114489234\n",
      "current step size = 0.0010383245649967724\n",
      "current acceptance ratio = 0.6585365853658537\n",
      "currently working on step 329\n"
     ]
    },
    {
     "name": "stderr",
     "output_type": "stream",
     "text": [
      "100%|██████████| 97/97 [00:37<00:00,  2.58it/s]\n"
     ]
    },
    {
     "name": "stdout",
     "output_type": "stream",
     "text": [
      "initial_potential =  79759.00023061843\n",
      "final_potential =  80035.5428544512\n",
      "energy_change =  0.7723430398618802\n",
      "p accept =  0.46192948017642693\n",
      "current step size = 0.0010383245649967724\n",
      "current acceptance ratio = 0.6565349544072948\n",
      "currently working on step 330\n"
     ]
    },
    {
     "name": "stderr",
     "output_type": "stream",
     "text": [
      "100%|██████████| 98/98 [00:34<00:00,  2.86it/s]\n"
     ]
    },
    {
     "name": "stdout",
     "output_type": "stream",
     "text": [
      "initial_potential =  79759.00023061843\n",
      "final_potential =  79932.18451488452\n",
      "energy_change =  0.5698162767803296\n",
      "p accept =  0.5656293483989604\n",
      "current step size = 0.0010383245649967724\n",
      "current acceptance ratio = 0.6575757575757576\n",
      "currently working on step 331\n"
     ]
    },
    {
     "name": "stderr",
     "output_type": "stream",
     "text": [
      "100%|██████████| 97/97 [00:35<00:00,  2.70it/s]\n"
     ]
    },
    {
     "name": "stdout",
     "output_type": "stream",
     "text": [
      "initial_potential =  79932.18451488452\n",
      "final_potential =  79729.82247552933\n",
      "energy_change =  -0.353340663947165\n",
      "p accept =  1.4238161036385857\n",
      "current step size = 0.0010383245649967724\n",
      "current acceptance ratio = 0.6586102719033232\n",
      "currently working on step 332\n"
     ]
    },
    {
     "name": "stderr",
     "output_type": "stream",
     "text": [
      "100%|██████████| 99/99 [00:34<00:00,  2.85it/s]\n"
     ]
    },
    {
     "name": "stdout",
     "output_type": "stream",
     "text": [
      "initial_potential =  79729.82247552933\n",
      "final_potential =  80381.99674756889\n",
      "energy_change =  1.697233113751281\n",
      "p accept =  0.18318968851012352\n",
      "current step size = 0.0010383245649967724\n",
      "current acceptance ratio = 0.6596385542168675\n",
      "currently working on step 333\n"
     ]
    },
    {
     "name": "stderr",
     "output_type": "stream",
     "text": [
      "100%|██████████| 97/97 [00:36<00:00,  2.66it/s]\n"
     ]
    },
    {
     "name": "stdout",
     "output_type": "stream",
     "text": [
      "initial_potential =  80381.99674756889\n",
      "final_potential =  80254.43671047814\n",
      "energy_change =  -0.10403396020410582\n",
      "p accept =  1.1096381378133633\n",
      "current step size = 0.0010383245649967724\n",
      "current acceptance ratio = 0.6606606606606606\n",
      "currently working on step 334\n"
     ]
    },
    {
     "name": "stderr",
     "output_type": "stream",
     "text": [
      "100%|██████████| 98/98 [00:34<00:00,  2.82it/s]\n"
     ]
    },
    {
     "name": "stdout",
     "output_type": "stream",
     "text": [
      "initial_potential =  80254.43671047814\n",
      "final_potential =  80025.29654601407\n",
      "energy_change =  -0.5547516531660222\n",
      "p accept =  1.7415084329591906\n",
      "current step size = 0.0010383245649967724\n",
      "current acceptance ratio = 0.6616766467065869\n",
      "currently working on step 335\n"
     ]
    },
    {
     "name": "stderr",
     "output_type": "stream",
     "text": [
      "100%|██████████| 99/99 [00:37<00:00,  2.63it/s]\n"
     ]
    },
    {
     "name": "stdout",
     "output_type": "stream",
     "text": [
      "initial_potential =  80025.29654601407\n",
      "final_potential =  79617.08994184832\n",
      "energy_change =  -1.282467592624016\n",
      "p accept =  3.605525726233273\n",
      "current step size = 0.0010383245649967724\n",
      "current acceptance ratio = 0.6626865671641791\n",
      "currently working on step 336\n"
     ]
    },
    {
     "name": "stderr",
     "output_type": "stream",
     "text": [
      "100%|██████████| 101/101 [00:36<00:00,  2.75it/s]\n"
     ]
    },
    {
     "name": "stdout",
     "output_type": "stream",
     "text": [
      "initial_potential =  79617.08994184832\n",
      "final_potential =  79922.94079705034\n",
      "energy_change =  1.0967147116316482\n",
      "p accept =  0.3339664595250351\n",
      "current step size = 0.0010383245649967724\n",
      "current acceptance ratio = 0.6607142857142857\n",
      "currently working on step 337\n"
     ]
    },
    {
     "name": "stderr",
     "output_type": "stream",
     "text": [
      "100%|██████████| 97/97 [00:36<00:00,  2.63it/s]\n"
     ]
    },
    {
     "name": "stdout",
     "output_type": "stream",
     "text": [
      "initial_potential =  79617.08994184832\n",
      "final_potential =  79781.14403702023\n",
      "energy_change =  0.6918914944399148\n",
      "p accept =  0.5006282374119667\n",
      "current step size = 0.0010383245649967724\n",
      "current acceptance ratio = 0.658753709198813\n",
      "currently working on step 338\n"
     ]
    },
    {
     "name": "stderr",
     "output_type": "stream",
     "text": [
      "100%|██████████| 99/99 [00:36<00:00,  2.74it/s]\n"
     ]
    },
    {
     "name": "stdout",
     "output_type": "stream",
     "text": [
      "initial_potential =  79617.08994184832\n",
      "final_potential =  80067.04768240408\n",
      "energy_change =  0.9633544646785595\n",
      "p accept =  0.3816106371450097\n",
      "current step size = 0.0010383245649967724\n",
      "current acceptance ratio = 0.6597633136094675\n",
      "currently working on step 339\n"
     ]
    },
    {
     "name": "stderr",
     "output_type": "stream",
     "text": [
      "100%|██████████| 100/100 [00:38<00:00,  2.60it/s]\n"
     ]
    },
    {
     "name": "stdout",
     "output_type": "stream",
     "text": [
      "initial_potential =  80067.04768240408\n",
      "final_potential =  80206.0017778814\n",
      "energy_change =  0.4224521818687208\n",
      "p accept =  0.6554375953784805\n",
      "current step size = 0.0010383245649967724\n",
      "current acceptance ratio = 0.6607669616519174\n",
      "currently working on step 340\n"
     ]
    },
    {
     "name": "stderr",
     "output_type": "stream",
     "text": [
      "100%|██████████| 98/98 [00:34<00:00,  2.86it/s]\n"
     ]
    },
    {
     "name": "stdout",
     "output_type": "stream",
     "text": [
      "initial_potential =  80206.0017778814\n",
      "final_potential =  80627.43655981106\n",
      "energy_change =  1.1760011482983828\n",
      "p accept =  0.30850996080467225\n",
      "current step size = 0.0010383245649967724\n",
      "current acceptance ratio = 0.6617647058823529\n",
      "currently working on step 341\n"
     ]
    },
    {
     "name": "stderr",
     "output_type": "stream",
     "text": [
      "100%|██████████| 100/100 [00:36<00:00,  2.76it/s]\n"
     ]
    },
    {
     "name": "stdout",
     "output_type": "stream",
     "text": [
      "initial_potential =  80627.43655981106\n",
      "final_potential =  80556.02264376075\n",
      "energy_change =  -0.29147150192875415\n",
      "p accept =  1.3383954912569043\n",
      "current step size = 0.0010383245649967724\n",
      "current acceptance ratio = 0.6627565982404692\n",
      "currently working on step 342\n"
     ]
    },
    {
     "name": "stderr",
     "output_type": "stream",
     "text": [
      "100%|██████████| 100/100 [00:37<00:00,  2.70it/s]\n"
     ]
    },
    {
     "name": "stdout",
     "output_type": "stream",
     "text": [
      "initial_potential =  80556.02264376075\n",
      "final_potential =  80293.49622720852\n",
      "energy_change =  -1.0241277569439262\n",
      "p accept =  2.784665495817758\n",
      "current step size = 0.0010383245649967724\n",
      "current acceptance ratio = 0.6637426900584795\n",
      "currently working on step 343\n"
     ]
    },
    {
     "name": "stderr",
     "output_type": "stream",
     "text": [
      "100%|██████████| 100/100 [00:35<00:00,  2.83it/s]\n"
     ]
    },
    {
     "name": "stdout",
     "output_type": "stream",
     "text": [
      "initial_potential =  80293.49622720852\n",
      "final_potential =  80435.32256149997\n",
      "energy_change =  0.19897776818834245\n",
      "p accept =  0.8195681136143323\n",
      "current step size = 0.0010383245649967724\n",
      "current acceptance ratio = 0.6647230320699709\n",
      "currently working on step 344\n"
     ]
    },
    {
     "name": "stderr",
     "output_type": "stream",
     "text": [
      "100%|██████████| 100/100 [00:38<00:00,  2.63it/s]\n"
     ]
    },
    {
     "name": "stdout",
     "output_type": "stream",
     "text": [
      "initial_potential =  80435.32256149997\n",
      "final_potential =  80739.31766595657\n",
      "energy_change =  1.105585064040497\n",
      "p accept =  0.3310171593406376\n",
      "current step size = 0.0010383245649967724\n",
      "current acceptance ratio = 0.6656976744186046\n",
      "currently working on step 345\n"
     ]
    },
    {
     "name": "stderr",
     "output_type": "stream",
     "text": [
      "100%|██████████| 98/98 [00:34<00:00,  2.82it/s]\n"
     ]
    },
    {
     "name": "stdout",
     "output_type": "stream",
     "text": [
      "initial_potential =  80739.31766595657\n",
      "final_potential =  79926.55799201413\n",
      "energy_change =  -2.142476244189311\n",
      "p accept =  8.520510391812634\n",
      "current step size = 0.0010383245649967724\n",
      "current acceptance ratio = 0.6666666666666666\n",
      "currently working on step 346\n"
     ]
    },
    {
     "name": "stderr",
     "output_type": "stream",
     "text": [
      "100%|██████████| 101/101 [00:39<00:00,  2.58it/s]\n"
     ]
    },
    {
     "name": "stdout",
     "output_type": "stream",
     "text": [
      "initial_potential =  79926.55799201413\n",
      "final_potential =  80502.40061958415\n",
      "energy_change =  1.3961898428970017\n",
      "p accept =  0.2475383293515582\n",
      "current step size = 0.0010383245649967724\n",
      "current acceptance ratio = 0.6647398843930635\n",
      "currently working on step 347\n"
     ]
    },
    {
     "name": "stderr",
     "output_type": "stream",
     "text": [
      "100%|██████████| 101/101 [00:34<00:00,  2.91it/s]\n"
     ]
    },
    {
     "name": "stdout",
     "output_type": "stream",
     "text": [
      "initial_potential =  79926.55799201413\n",
      "final_potential =  79894.618975054\n",
      "energy_change =  0.2334326375857927\n",
      "p accept =  0.7918109322397809\n",
      "current step size = 0.0010383245649967724\n",
      "current acceptance ratio = 0.6657060518731989\n",
      "currently working on step 348\n"
     ]
    },
    {
     "name": "stderr",
     "output_type": "stream",
     "text": [
      "100%|██████████| 101/101 [00:38<00:00,  2.64it/s]\n"
     ]
    },
    {
     "name": "stdout",
     "output_type": "stream",
     "text": [
      "initial_potential =  79894.618975054\n",
      "final_potential =  80063.22468698796\n",
      "energy_change =  0.34854751895181835\n",
      "p accept =  0.7057123795145887\n",
      "current step size = 0.0010383245649967724\n",
      "current acceptance ratio = 0.6666666666666666\n",
      "currently working on step 349\n"
     ]
    },
    {
     "name": "stderr",
     "output_type": "stream",
     "text": [
      "100%|██████████| 100/100 [00:34<00:00,  2.86it/s]\n"
     ]
    },
    {
     "name": "stdout",
     "output_type": "stream",
     "text": [
      "initial_potential =  80063.22468698796\n",
      "final_potential =  80327.08539447383\n",
      "energy_change =  0.8049327777698636\n",
      "p accept =  0.4471179818170262\n",
      "current step size = 0.0010383245649967724\n",
      "current acceptance ratio = 0.667621776504298\n",
      "currently working on step 350\n"
     ]
    },
    {
     "name": "stderr",
     "output_type": "stream",
     "text": [
      "100%|██████████| 99/99 [00:36<00:00,  2.74it/s]\n"
     ]
    },
    {
     "name": "stdout",
     "output_type": "stream",
     "text": [
      "initial_potential =  80327.08539447383\n",
      "final_potential =  80312.61818905057\n",
      "energy_change =  -0.12392961146542802\n",
      "p accept =  1.1319361928651497\n",
      "current step size = 0.0010383245649967724\n",
      "current acceptance ratio = 0.6685714285714286\n",
      "currently working on step 351\n"
     ]
    },
    {
     "name": "stderr",
     "output_type": "stream",
     "text": [
      "100%|██████████| 97/97 [00:36<00:00,  2.65it/s]\n"
     ]
    },
    {
     "name": "stdout",
     "output_type": "stream",
     "text": [
      "initial_potential =  80312.61818905057\n",
      "final_potential =  80178.42790613195\n",
      "energy_change =  -0.4222175003378652\n",
      "p accept =  1.52534025062659\n",
      "current step size = 0.0010383245649967724\n",
      "current acceptance ratio = 0.6695156695156695\n",
      "currently working on step 352\n"
     ]
    },
    {
     "name": "stderr",
     "output_type": "stream",
     "text": [
      "100%|██████████| 97/97 [00:33<00:00,  2.87it/s]\n"
     ]
    },
    {
     "name": "stdout",
     "output_type": "stream",
     "text": [
      "initial_potential =  80178.42790613195\n",
      "final_potential =  80097.13708623336\n",
      "energy_change =  -0.2768002147786319\n",
      "p accept =  1.3189028474144393\n",
      "current step size = 0.0010383245649967724\n",
      "current acceptance ratio = 0.6704545454545454\n",
      "currently working on step 353\n"
     ]
    },
    {
     "name": "stderr",
     "output_type": "stream",
     "text": [
      "100%|██████████| 97/97 [00:37<00:00,  2.59it/s]\n"
     ]
    },
    {
     "name": "stdout",
     "output_type": "stream",
     "text": [
      "initial_potential =  80097.13708623336\n",
      "final_potential =  80531.93226311661\n",
      "energy_change =  1.1452908568899147\n",
      "p accept =  0.31813137363059973\n",
      "current step size = 0.0010383245649967724\n",
      "current acceptance ratio = 0.6685552407932012\n",
      "currently working on step 354\n"
     ]
    },
    {
     "name": "stderr",
     "output_type": "stream",
     "text": [
      "100%|██████████| 100/100 [00:34<00:00,  2.88it/s]\n"
     ]
    },
    {
     "name": "stdout",
     "output_type": "stream",
     "text": [
      "initial_potential =  80097.13708623336\n",
      "final_potential =  79619.71394212544\n",
      "energy_change =  -1.5009496661368757\n",
      "p accept =  4.4859472002650485\n",
      "current step size = 0.0010383245649967724\n",
      "current acceptance ratio = 0.6694915254237288\n",
      "currently working on step 355\n"
     ]
    },
    {
     "name": "stderr",
     "output_type": "stream",
     "text": [
      "100%|██████████| 101/101 [00:38<00:00,  2.62it/s]\n"
     ]
    },
    {
     "name": "stdout",
     "output_type": "stream",
     "text": [
      "initial_potential =  79619.71394212544\n",
      "final_potential =  79769.84084773574\n",
      "energy_change =  0.8358605894609354\n",
      "p accept =  0.43350125424762675\n",
      "current step size = 0.0010383245649967724\n",
      "current acceptance ratio = 0.6676056338028169\n",
      "currently working on step 356\n"
     ]
    },
    {
     "name": "stderr",
     "output_type": "stream",
     "text": [
      "100%|██████████| 101/101 [00:35<00:00,  2.88it/s]\n"
     ]
    },
    {
     "name": "stdout",
     "output_type": "stream",
     "text": [
      "initial_potential =  79619.71394212544\n",
      "final_potential =  79949.45072000504\n",
      "energy_change =  0.9699492655345239\n",
      "p accept =  0.3791022711665935\n",
      "current step size = 0.0010383245649967724\n",
      "current acceptance ratio = 0.6657303370786517\n",
      "currently working on step 357\n"
     ]
    },
    {
     "name": "stderr",
     "output_type": "stream",
     "text": [
      "100%|██████████| 98/98 [00:36<00:00,  2.66it/s]\n"
     ]
    },
    {
     "name": "stdout",
     "output_type": "stream",
     "text": [
      "initial_potential =  79619.71394212544\n",
      "final_potential =  79650.31547202618\n",
      "energy_change =  0.17922783887479454\n",
      "p accept =  0.8359154236694195\n",
      "current step size = 0.0010383245649967724\n",
      "current acceptance ratio = 0.6666666666666666\n",
      "currently working on step 358\n"
     ]
    },
    {
     "name": "stderr",
     "output_type": "stream",
     "text": [
      "100%|██████████| 100/100 [00:37<00:00,  2.65it/s]\n"
     ]
    },
    {
     "name": "stdout",
     "output_type": "stream",
     "text": [
      "initial_potential =  79650.31547202618\n",
      "final_potential =  79826.71074635492\n",
      "energy_change =  0.4808053800370544\n",
      "p accept =  0.6182852366441576\n",
      "current step size = 0.0010383245649967724\n",
      "current acceptance ratio = 0.664804469273743\n",
      "currently working on step 359\n"
     ]
    },
    {
     "name": "stderr",
     "output_type": "stream",
     "text": [
      "100%|██████████| 100/100 [00:34<00:00,  2.86it/s]\n"
     ]
    },
    {
     "name": "stdout",
     "output_type": "stream",
     "text": [
      "initial_potential =  79650.31547202618\n",
      "final_potential =  79910.04076094693\n",
      "energy_change =  0.7705556468572468\n",
      "p accept =  0.4627558680178415\n",
      "current step size = 0.0010383245649967724\n",
      "current acceptance ratio = 0.6629526462395543\n",
      "currently working on step 360\n"
     ]
    },
    {
     "name": "stderr",
     "output_type": "stream",
     "text": [
      "100%|██████████| 98/98 [00:36<00:00,  2.71it/s]\n"
     ]
    },
    {
     "name": "stdout",
     "output_type": "stream",
     "text": [
      "initial_potential =  79650.31547202618\n",
      "final_potential =  80087.5731662085\n",
      "energy_change =  1.3212728810030967\n",
      "p accept =  0.26679548683271676\n",
      "current step size = 0.0010383245649967724\n",
      "current acceptance ratio = 0.6611111111111111\n",
      "currently working on step 361\n"
     ]
    },
    {
     "name": "stderr",
     "output_type": "stream",
     "text": [
      "100%|██████████| 99/99 [00:32<00:00,  3.06it/s]\n"
     ]
    },
    {
     "name": "stdout",
     "output_type": "stream",
     "text": [
      "initial_potential =  79650.31547202618\n",
      "final_potential =  80179.18458767748\n",
      "energy_change =  1.2395653609419242\n",
      "p accept =  0.28951002296086525\n",
      "current step size = 0.0010383245649967724\n",
      "current acceptance ratio = 0.6592797783933518\n",
      "currently working on step 362\n"
     ]
    },
    {
     "name": "stderr",
     "output_type": "stream",
     "text": [
      "100%|██████████| 97/97 [00:31<00:00,  3.08it/s]\n"
     ]
    },
    {
     "name": "stdout",
     "output_type": "stream",
     "text": [
      "initial_potential =  79650.31547202618\n",
      "final_potential =  79862.11894189367\n",
      "energy_change =  0.4749483337509446\n",
      "p accept =  0.6219171877632759\n",
      "current step size = 0.0010383245649967724\n",
      "current acceptance ratio = 0.6574585635359116\n",
      "currently working on step 363\n"
     ]
    },
    {
     "name": "stderr",
     "output_type": "stream",
     "text": [
      "100%|██████████| 97/97 [00:31<00:00,  3.07it/s]\n"
     ]
    },
    {
     "name": "stdout",
     "output_type": "stream",
     "text": [
      "initial_potential =  79650.31547202618\n",
      "final_potential =  79949.2245604612\n",
      "energy_change =  0.8202167838462628\n",
      "p accept =  0.44033618638626654\n",
      "current step size = 0.0010383245649967724\n",
      "current acceptance ratio = 0.6584022038567493\n",
      "currently working on step 364\n"
     ]
    },
    {
     "name": "stderr",
     "output_type": "stream",
     "text": [
      "100%|██████████| 98/98 [00:31<00:00,  3.06it/s]\n"
     ]
    },
    {
     "name": "stdout",
     "output_type": "stream",
     "text": [
      "initial_potential =  79949.2245604612\n",
      "final_potential =  80289.10410614808\n",
      "energy_change =  1.025981629092712\n",
      "p accept =  0.35844443316795815\n",
      "current step size = 0.0010383245649967724\n",
      "current acceptance ratio = 0.6565934065934066\n",
      "currently working on step 365\n"
     ]
    },
    {
     "name": "stderr",
     "output_type": "stream",
     "text": [
      "100%|██████████| 101/101 [00:32<00:00,  3.07it/s]\n"
     ]
    },
    {
     "name": "stdout",
     "output_type": "stream",
     "text": [
      "initial_potential =  79949.2245604612\n",
      "final_potential =  80234.1372885642\n",
      "energy_change =  0.7788513434352353\n",
      "p accept =  0.4589328649084338\n",
      "current step size = 0.0010383245649967724\n",
      "current acceptance ratio = 0.6575342465753424\n",
      "currently working on step 366\n"
     ]
    },
    {
     "name": "stderr",
     "output_type": "stream",
     "text": [
      "100%|██████████| 97/97 [00:31<00:00,  3.07it/s]\n"
     ]
    },
    {
     "name": "stdout",
     "output_type": "stream",
     "text": [
      "initial_potential =  80234.1372885642\n",
      "final_potential =  80133.39184508604\n",
      "energy_change =  -0.18460703606251627\n",
      "p accept =  1.2027457115605327\n",
      "current step size = 0.0010383245649967724\n",
      "current acceptance ratio = 0.6584699453551912\n",
      "currently working on step 367\n"
     ]
    },
    {
     "name": "stderr",
     "output_type": "stream",
     "text": [
      "100%|██████████| 98/98 [00:31<00:00,  3.07it/s]\n"
     ]
    },
    {
     "name": "stdout",
     "output_type": "stream",
     "text": [
      "initial_potential =  80133.39184508604\n",
      "final_potential =  80199.15698746187\n",
      "energy_change =  0.03473097481764853\n",
      "p accept =  0.9658652233765166\n",
      "current step size = 0.0010383245649967724\n",
      "current acceptance ratio = 0.659400544959128\n",
      "currently working on step 368\n"
     ]
    },
    {
     "name": "stderr",
     "output_type": "stream",
     "text": [
      "100%|██████████| 98/98 [00:31<00:00,  3.07it/s]\n"
     ]
    },
    {
     "name": "stdout",
     "output_type": "stream",
     "text": [
      "initial_potential =  80199.15698746187\n",
      "final_potential =  80572.51528800419\n",
      "energy_change =  1.1829907884821296\n",
      "p accept =  0.3063611057957369\n",
      "current step size = 0.0010383245649967724\n",
      "current acceptance ratio = 0.657608695652174\n",
      "currently working on step 369\n"
     ]
    },
    {
     "name": "stderr",
     "output_type": "stream",
     "text": [
      "100%|██████████| 98/98 [00:30<00:00,  3.21it/s]\n"
     ]
    },
    {
     "name": "stdout",
     "output_type": "stream",
     "text": [
      "initial_potential =  80199.15698746187\n",
      "final_potential =  80469.38455777604\n",
      "energy_change =  0.7622001599520445\n",
      "p accept =  0.46663861715393823\n",
      "current step size = 0.0010383245649967724\n",
      "current acceptance ratio = 0.6558265582655827\n",
      "currently working on step 370\n"
     ]
    },
    {
     "name": "stderr",
     "output_type": "stream",
     "text": [
      "100%|██████████| 100/100 [00:31<00:00,  3.13it/s]\n"
     ]
    },
    {
     "name": "stdout",
     "output_type": "stream",
     "text": [
      "initial_potential =  80199.15698746187\n",
      "final_potential =  79791.43955515017\n",
      "energy_change =  -0.8507320703938603\n",
      "p accept =  2.3413602652114216\n",
      "current step size = 0.0010383245649967724\n",
      "current acceptance ratio = 0.6567567567567567\n",
      "currently working on step 371\n"
     ]
    },
    {
     "name": "stderr",
     "output_type": "stream",
     "text": [
      "100%|██████████| 98/98 [00:31<00:00,  3.09it/s]\n"
     ]
    },
    {
     "name": "stdout",
     "output_type": "stream",
     "text": [
      "initial_potential =  79791.43955515017\n",
      "final_potential =  79464.17323162197\n",
      "energy_change =  -0.4441849944414571\n",
      "p accept =  1.5592189057736132\n",
      "current step size = 0.0010383245649967724\n",
      "current acceptance ratio = 0.6576819407008087\n",
      "currently working on step 372\n"
     ]
    },
    {
     "name": "stderr",
     "output_type": "stream",
     "text": [
      "100%|██████████| 99/99 [00:31<00:00,  3.09it/s]\n"
     ]
    },
    {
     "name": "stdout",
     "output_type": "stream",
     "text": [
      "initial_potential =  79464.17323162197\n",
      "final_potential =  79651.5752663061\n",
      "energy_change =  0.3107948721735738\n",
      "p accept =  0.7328641912904926\n",
      "current step size = 0.0010383245649967724\n",
      "current acceptance ratio = 0.6559139784946236\n",
      "currently working on step 373\n"
     ]
    },
    {
     "name": "stderr",
     "output_type": "stream",
     "text": [
      "100%|██████████| 99/99 [00:32<00:00,  3.08it/s]\n"
     ]
    },
    {
     "name": "stdout",
     "output_type": "stream",
     "text": [
      "initial_potential =  79464.17323162197\n",
      "final_potential =  79419.77063939572\n",
      "energy_change =  -0.30874878459144384\n",
      "p accept =  1.361720242424259\n",
      "current step size = 0.0010383245649967724\n",
      "current acceptance ratio = 0.6568364611260054\n",
      "currently working on step 374\n"
     ]
    },
    {
     "name": "stderr",
     "output_type": "stream",
     "text": [
      "100%|██████████| 98/98 [00:31<00:00,  3.09it/s]\n"
     ]
    },
    {
     "name": "stdout",
     "output_type": "stream",
     "text": [
      "initial_potential =  79419.77063939572\n",
      "final_potential =  79924.79544045837\n",
      "energy_change =  1.194297097681556\n",
      "p accept =  0.30291680028958745\n",
      "current step size = 0.0010383245649967724\n",
      "current acceptance ratio = 0.6577540106951871\n",
      "currently working on step 375\n"
     ]
    },
    {
     "name": "stderr",
     "output_type": "stream",
     "text": [
      "100%|██████████| 98/98 [00:31<00:00,  3.08it/s]\n"
     ]
    },
    {
     "name": "stdout",
     "output_type": "stream",
     "text": [
      "initial_potential =  79924.79544045837\n",
      "final_potential =  79743.66690940825\n",
      "energy_change =  -0.3137945431517437\n",
      "p accept =  1.3686085176666558\n",
      "current step size = 0.0010383245649967724\n",
      "current acceptance ratio = 0.6586666666666666\n",
      "currently working on step 376\n"
     ]
    },
    {
     "name": "stderr",
     "output_type": "stream",
     "text": [
      "100%|██████████| 99/99 [00:32<00:00,  3.07it/s]\n"
     ]
    },
    {
     "name": "stdout",
     "output_type": "stream",
     "text": [
      "initial_potential =  79743.66690940825\n",
      "final_potential =  80008.63100098305\n",
      "energy_change =  0.7754728724830784\n",
      "p accept =  0.46048597835857746\n",
      "current step size = 0.0010383245649967724\n",
      "current acceptance ratio = 0.6569148936170213\n",
      "currently working on step 377\n"
     ]
    },
    {
     "name": "stderr",
     "output_type": "stream",
     "text": [
      "100%|██████████| 101/101 [00:32<00:00,  3.08it/s]\n"
     ]
    },
    {
     "name": "stdout",
     "output_type": "stream",
     "text": [
      "initial_potential =  79743.66690940825\n",
      "final_potential =  79781.01355249931\n",
      "energy_change =  -0.26392957870848477\n",
      "p accept =  1.3020365019802465\n",
      "current step size = 0.0010383245649967724\n",
      "current acceptance ratio = 0.6578249336870027\n",
      "currently working on step 378\n"
     ]
    },
    {
     "name": "stderr",
     "output_type": "stream",
     "text": [
      "100%|██████████| 101/101 [00:32<00:00,  3.09it/s]\n"
     ]
    },
    {
     "name": "stdout",
     "output_type": "stream",
     "text": [
      "initial_potential =  79781.01355249931\n",
      "final_potential =  80002.0243564402\n",
      "energy_change =  0.6207628735573962\n",
      "p accept =  0.5375342105034805\n",
      "current step size = 0.0010383245649967724\n",
      "current acceptance ratio = 0.6587301587301587\n",
      "currently working on step 379\n"
     ]
    },
    {
     "name": "stderr",
     "output_type": "stream",
     "text": [
      "100%|██████████| 98/98 [00:31<00:00,  3.06it/s]\n"
     ]
    },
    {
     "name": "stdout",
     "output_type": "stream",
     "text": [
      "initial_potential =  80002.0243564402\n",
      "final_potential =  80453.28178201434\n",
      "energy_change =  1.137840837938711\n",
      "p accept =  0.3205103089465969\n",
      "current step size = 0.0010383245649967724\n",
      "current acceptance ratio = 0.6569920844327177\n",
      "currently working on step 380\n"
     ]
    },
    {
     "name": "stderr",
     "output_type": "stream",
     "text": [
      "100%|██████████| 98/98 [00:31<00:00,  3.07it/s]\n"
     ]
    },
    {
     "name": "stdout",
     "output_type": "stream",
     "text": [
      "initial_potential =  80002.0243564402\n",
      "final_potential =  80204.95742298893\n",
      "energy_change =  0.5939878437202424\n",
      "p accept =  0.5521211160048821\n",
      "current step size = 0.0010383245649967724\n",
      "current acceptance ratio = 0.6578947368421053\n",
      "currently working on step 381\n"
     ]
    },
    {
     "name": "stderr",
     "output_type": "stream",
     "text": [
      "100%|██████████| 101/101 [00:32<00:00,  3.07it/s]\n"
     ]
    },
    {
     "name": "stdout",
     "output_type": "stream",
     "text": [
      "initial_potential =  80204.95742298893\n",
      "final_potential =  80082.31742220209\n",
      "energy_change =  -0.3882195836631581\n",
      "p accept =  1.474353492687017\n",
      "current step size = 0.0010383245649967724\n",
      "current acceptance ratio = 0.6587926509186351\n",
      "currently working on step 382\n"
     ]
    },
    {
     "name": "stderr",
     "output_type": "stream",
     "text": [
      "100%|██████████| 101/101 [00:32<00:00,  3.08it/s]\n"
     ]
    },
    {
     "name": "stdout",
     "output_type": "stream",
     "text": [
      "initial_potential =  80082.31742220209\n",
      "final_potential =  80297.57809195376\n",
      "energy_change =  0.6601473397458903\n",
      "p accept =  0.5167751873572997\n",
      "current step size = 0.0010383245649967724\n",
      "current acceptance ratio = 0.6570680628272252\n",
      "currently working on step 383\n"
     ]
    },
    {
     "name": "stderr",
     "output_type": "stream",
     "text": [
      "100%|██████████| 100/100 [00:32<00:00,  3.06it/s]\n"
     ]
    },
    {
     "name": "stdout",
     "output_type": "stream",
     "text": [
      "initial_potential =  80082.31742220209\n",
      "final_potential =  80485.6865160347\n",
      "energy_change =  1.2259764590417035\n",
      "p accept =  0.2934709979603195\n",
      "current step size = 0.0010383245649967724\n",
      "current acceptance ratio = 0.6553524804177546\n",
      "currently working on step 384\n"
     ]
    },
    {
     "name": "stderr",
     "output_type": "stream",
     "text": [
      "100%|██████████| 100/100 [00:32<00:00,  3.07it/s]\n"
     ]
    },
    {
     "name": "stdout",
     "output_type": "stream",
     "text": [
      "initial_potential =  80082.31742220209\n",
      "final_potential =  80257.93083898972\n",
      "energy_change =  0.32906776486197487\n",
      "p accept =  0.719594251889665\n",
      "current step size = 0.0010383245649967724\n",
      "current acceptance ratio = 0.6536458333333334\n",
      "currently working on step 385\n"
     ]
    },
    {
     "name": "stderr",
     "output_type": "stream",
     "text": [
      "100%|██████████| 99/99 [00:32<00:00,  3.07it/s]\n"
     ]
    },
    {
     "name": "stdout",
     "output_type": "stream",
     "text": [
      "initial_potential =  80082.31742220209\n",
      "final_potential =  79827.53805848975\n",
      "energy_change =  -0.49781190120847896\n",
      "p accept =  1.645117649657356\n",
      "current step size = 0.0010383245649967724\n",
      "current acceptance ratio = 0.6545454545454545\n",
      "currently working on step 386\n"
     ]
    },
    {
     "name": "stderr",
     "output_type": "stream",
     "text": [
      "100%|██████████| 99/99 [00:32<00:00,  3.07it/s]\n"
     ]
    },
    {
     "name": "stdout",
     "output_type": "stream",
     "text": [
      "initial_potential =  79827.53805848975\n",
      "final_potential =  79794.53231079178\n",
      "energy_change =  0.09051172219915316\n",
      "p accept =  0.9134636260356496\n",
      "current step size = 0.0010383245649967724\n",
      "current acceptance ratio = 0.655440414507772\n",
      "currently working on step 387\n"
     ]
    },
    {
     "name": "stderr",
     "output_type": "stream",
     "text": [
      "100%|██████████| 97/97 [00:31<00:00,  3.06it/s]\n"
     ]
    },
    {
     "name": "stdout",
     "output_type": "stream",
     "text": [
      "initial_potential =  79794.53231079178\n",
      "final_potential =  79702.47732995688\n",
      "energy_change =  -0.32380739226937294\n",
      "p accept =  1.3823810242042949\n",
      "current step size = 0.0010383245649967724\n",
      "current acceptance ratio = 0.6563307493540051\n",
      "currently working on step 388\n"
     ]
    },
    {
     "name": "stderr",
     "output_type": "stream",
     "text": [
      "100%|██████████| 101/101 [00:32<00:00,  3.07it/s]\n"
     ]
    },
    {
     "name": "stdout",
     "output_type": "stream",
     "text": [
      "initial_potential =  79702.47732995688\n",
      "final_potential =  80483.57092329883\n",
      "energy_change =  2.061817091482226\n",
      "p accept =  0.1272225846594852\n",
      "current step size = 0.0010383245649967724\n",
      "current acceptance ratio = 0.654639175257732\n",
      "currently working on step 389\n"
     ]
    },
    {
     "name": "stderr",
     "output_type": "stream",
     "text": [
      "100%|██████████| 98/98 [00:31<00:00,  3.07it/s]\n"
     ]
    },
    {
     "name": "stdout",
     "output_type": "stream",
     "text": [
      "initial_potential =  79702.47732995688\n",
      "final_potential =  79901.03809540656\n",
      "energy_change =  0.3597430736408569\n",
      "p accept =  0.6978556005385308\n",
      "current step size = 0.0010383245649967724\n",
      "current acceptance ratio = 0.6555269922879178\n",
      "currently working on step 390\n"
     ]
    },
    {
     "name": "stderr",
     "output_type": "stream",
     "text": [
      "100%|██████████| 101/101 [00:32<00:00,  3.07it/s]\n"
     ]
    },
    {
     "name": "stdout",
     "output_type": "stream",
     "text": [
      "initial_potential =  79901.03809540656\n",
      "final_potential =  80219.95840363429\n",
      "energy_change =  0.999731520016212\n",
      "p accept =  0.3679782226976819\n",
      "current step size = 0.0010383245649967724\n",
      "current acceptance ratio = 0.6564102564102564\n",
      "currently working on step 391\n"
     ]
    },
    {
     "name": "stderr",
     "output_type": "stream",
     "text": [
      "100%|██████████| 97/97 [00:31<00:00,  3.07it/s]\n"
     ]
    },
    {
     "name": "stdout",
     "output_type": "stream",
     "text": [
      "initial_potential =  80219.95840363429\n",
      "final_potential =  80204.77128757356\n",
      "energy_change =  0.1399386317934841\n",
      "p accept =  0.8694115879915918\n",
      "current step size = 0.0010383245649967724\n",
      "current acceptance ratio = 0.6572890025575447\n",
      "currently working on step 392\n"
     ]
    },
    {
     "name": "stderr",
     "output_type": "stream",
     "text": [
      "100%|██████████| 101/101 [00:33<00:00,  3.06it/s]\n"
     ]
    },
    {
     "name": "stdout",
     "output_type": "stream",
     "text": [
      "initial_potential =  80204.77128757356\n",
      "final_potential =  80488.84703377709\n",
      "energy_change =  0.705770104250405\n",
      "p accept =  0.4937282056234943\n",
      "current step size = 0.0010383245649967724\n",
      "current acceptance ratio = 0.6556122448979592\n",
      "currently working on step 393\n"
     ]
    },
    {
     "name": "stderr",
     "output_type": "stream",
     "text": [
      "100%|██████████| 98/98 [00:31<00:00,  3.07it/s]\n"
     ]
    },
    {
     "name": "stdout",
     "output_type": "stream",
     "text": [
      "initial_potential =  80204.77128757356\n",
      "final_potential =  80344.11192029895\n",
      "energy_change =  0.4119731148821302\n",
      "p accept =  0.6623420829577212\n",
      "current step size = 0.0010383245649967724\n",
      "current acceptance ratio = 0.6564885496183206\n",
      "currently working on step 394\n"
     ]
    },
    {
     "name": "stderr",
     "output_type": "stream",
     "text": [
      "100%|██████████| 100/100 [00:32<00:00,  3.07it/s]\n"
     ]
    },
    {
     "name": "stdout",
     "output_type": "stream",
     "text": [
      "initial_potential =  80344.11192029895\n",
      "final_potential =  80034.53512736368\n",
      "energy_change =  -0.8469217456295155\n",
      "p accept =  2.3324558972507345\n",
      "current step size = 0.0010383245649967724\n",
      "current acceptance ratio = 0.6573604060913706\n",
      "currently working on step 395\n"
     ]
    },
    {
     "name": "stderr",
     "output_type": "stream",
     "text": [
      "100%|██████████| 98/98 [00:31<00:00,  3.07it/s]\n"
     ]
    },
    {
     "name": "stdout",
     "output_type": "stream",
     "text": [
      "initial_potential =  80034.53512736368\n",
      "final_potential =  80183.4553522147\n",
      "energy_change =  0.37060477468185127\n",
      "p accept =  0.6903167182957138\n",
      "current step size = 0.0010383245649967724\n",
      "current acceptance ratio = 0.6582278481012658\n",
      "currently working on step 396\n"
     ]
    },
    {
     "name": "stderr",
     "output_type": "stream",
     "text": [
      "100%|██████████| 99/99 [00:32<00:00,  3.07it/s]\n"
     ]
    },
    {
     "name": "stdout",
     "output_type": "stream",
     "text": [
      "initial_potential =  80183.4553522147\n",
      "final_potential =  79990.36442746477\n",
      "energy_change =  -0.3623440589290112\n",
      "p accept =  1.4366931640460552\n",
      "current step size = 0.0010383245649967724\n",
      "current acceptance ratio = 0.6590909090909091\n",
      "currently working on step 397\n"
     ]
    },
    {
     "name": "stderr",
     "output_type": "stream",
     "text": [
      "100%|██████████| 99/99 [00:32<00:00,  3.06it/s]\n"
     ]
    },
    {
     "name": "stdout",
     "output_type": "stream",
     "text": [
      "initial_potential =  79990.36442746477\n",
      "final_potential =  80422.93122314542\n",
      "energy_change =  1.246415467292536\n",
      "p accept =  0.287533625508744\n",
      "current step size = 0.0010383245649967724\n",
      "current acceptance ratio = 0.6574307304785895\n",
      "currently working on step 398\n"
     ]
    },
    {
     "name": "stderr",
     "output_type": "stream",
     "text": [
      "100%|██████████| 99/99 [00:32<00:00,  3.07it/s]\n"
     ]
    },
    {
     "name": "stdout",
     "output_type": "stream",
     "text": [
      "initial_potential =  79990.36442746477\n",
      "final_potential =  79863.2577825852\n",
      "energy_change =  -0.2152038252679631\n",
      "p accept =  1.2401146379060681\n",
      "current step size = 0.0010383245649967724\n",
      "current acceptance ratio = 0.6582914572864321\n",
      "currently working on step 399\n"
     ]
    },
    {
     "name": "stderr",
     "output_type": "stream",
     "text": [
      "100%|██████████| 98/98 [00:31<00:00,  3.07it/s]\n"
     ]
    },
    {
     "name": "stdout",
     "output_type": "stream",
     "text": [
      "initial_potential =  79863.2577825852\n",
      "final_potential =  79690.87542240538\n",
      "energy_change =  -0.34433313529007137\n",
      "p accept =  1.411048627311668\n",
      "current step size = 0.0010383245649967724\n",
      "current acceptance ratio = 0.6591478696741855\n",
      "currently working on step 400\n"
     ]
    },
    {
     "name": "stderr",
     "output_type": "stream",
     "text": [
      "100%|██████████| 99/99 [00:32<00:00,  3.07it/s]\n"
     ]
    },
    {
     "name": "stdout",
     "output_type": "stream",
     "text": [
      "initial_potential =  79690.87542240538\n",
      "final_potential =  80050.32032077358\n",
      "energy_change =  0.6620590681559406\n",
      "p accept =  0.5157881972791025\n",
      "current step size = 0.0010383245649967724\n",
      "current acceptance ratio = 0.66\n",
      "currently working on step 401\n"
     ]
    },
    {
     "name": "stderr",
     "output_type": "stream",
     "text": [
      "100%|██████████| 100/100 [00:32<00:00,  3.07it/s]\n"
     ]
    },
    {
     "name": "stdout",
     "output_type": "stream",
     "text": [
      "initial_potential =  80050.32032077358\n",
      "final_potential =  79935.07301302817\n",
      "energy_change =  -0.06810686568496749\n",
      "p accept =  1.070479699912781\n",
      "current step size = 0.0010383245649967724\n",
      "current acceptance ratio = 0.6608478802992519\n",
      "currently working on step 402\n"
     ]
    },
    {
     "name": "stderr",
     "output_type": "stream",
     "text": [
      "100%|██████████| 99/99 [00:32<00:00,  3.09it/s]\n"
     ]
    },
    {
     "name": "stdout",
     "output_type": "stream",
     "text": [
      "initial_potential =  79935.07301302817\n",
      "final_potential =  80020.38515582305\n",
      "energy_change =  0.05202552635455504\n",
      "p accept =  0.9493046342469315\n",
      "current step size = 0.0010383245649967724\n",
      "current acceptance ratio = 0.6616915422885572\n",
      "currently working on step 403\n"
     ]
    },
    {
     "name": "stderr",
     "output_type": "stream",
     "text": [
      "100%|██████████| 98/98 [00:30<00:00,  3.17it/s]\n"
     ]
    },
    {
     "name": "stdout",
     "output_type": "stream",
     "text": [
      "initial_potential =  80020.38515582305\n",
      "final_potential =  80096.94523331501\n",
      "energy_change =  0.21630491252290085\n",
      "p accept =  0.8054896605412575\n",
      "current step size = 0.0010383245649967724\n",
      "current acceptance ratio = 0.6625310173697271\n",
      "currently working on step 404\n"
     ]
    },
    {
     "name": "stderr",
     "output_type": "stream",
     "text": [
      "100%|██████████| 99/99 [00:31<00:00,  3.12it/s]\n"
     ]
    },
    {
     "name": "stdout",
     "output_type": "stream",
     "text": [
      "initial_potential =  80096.94523331501\n",
      "final_potential =  80421.36222584297\n",
      "energy_change =  0.5886589516885579\n",
      "p accept =  0.5550711630806033\n",
      "current step size = 0.0010383245649967724\n",
      "current acceptance ratio = 0.6608910891089109\n",
      "currently working on step 405\n"
     ]
    },
    {
     "name": "stderr",
     "output_type": "stream",
     "text": [
      "100%|██████████| 98/98 [00:31<00:00,  3.10it/s]\n"
     ]
    },
    {
     "name": "stdout",
     "output_type": "stream",
     "text": [
      "initial_potential =  80096.94523331501\n",
      "final_potential =  80545.67987932933\n",
      "energy_change =  0.8523317633662373\n",
      "p accept =  0.4264194625188408\n",
      "current step size = 0.0010383245649967724\n",
      "current acceptance ratio = 0.6617283950617284\n",
      "currently working on step 406\n"
     ]
    },
    {
     "name": "stderr",
     "output_type": "stream",
     "text": [
      "100%|██████████| 99/99 [00:31<00:00,  3.10it/s]\n"
     ]
    },
    {
     "name": "stdout",
     "output_type": "stream",
     "text": [
      "initial_potential =  80545.67987932933\n",
      "final_potential =  80067.3178594952\n",
      "energy_change =  -1.1527990187169053\n",
      "p accept =  3.167045133746598\n",
      "current step size = 0.0010383245649967724\n",
      "current acceptance ratio = 0.6625615763546798\n",
      "currently working on step 407\n"
     ]
    },
    {
     "name": "stderr",
     "output_type": "stream",
     "text": [
      "100%|██████████| 99/99 [00:32<00:00,  3.08it/s]\n"
     ]
    },
    {
     "name": "stdout",
     "output_type": "stream",
     "text": [
      "initial_potential =  80067.3178594952\n",
      "final_potential =  79805.61502092204\n",
      "energy_change =  -0.6269214289495721\n",
      "p accept =  1.8718391101881564\n",
      "current step size = 0.0010383245649967724\n",
      "current acceptance ratio = 0.6633906633906634\n",
      "currently working on step 408\n"
     ]
    },
    {
     "name": "stderr",
     "output_type": "stream",
     "text": [
      "100%|██████████| 101/101 [00:32<00:00,  3.07it/s]\n"
     ]
    },
    {
     "name": "stdout",
     "output_type": "stream",
     "text": [
      "initial_potential =  79805.61502092204\n",
      "final_potential =  80543.39344803747\n",
      "energy_change =  2.0019471825216897\n",
      "p accept =  0.13507201713528352\n",
      "current step size = 0.0010383245649967724\n",
      "current acceptance ratio = 0.6617647058823529\n",
      "currently working on step 409\n"
     ]
    },
    {
     "name": "stderr",
     "output_type": "stream",
     "text": [
      "100%|██████████| 99/99 [00:32<00:00,  3.08it/s]\n"
     ]
    },
    {
     "name": "stdout",
     "output_type": "stream",
     "text": [
      "initial_potential =  79805.61502092204\n",
      "final_potential =  79709.23872750335\n",
      "energy_change =  -0.1347546458709985\n",
      "p accept =  1.1442560019724464\n",
      "current step size = 0.0010383245649967724\n",
      "current acceptance ratio = 0.6625916870415648\n",
      "currently working on step 410\n"
     ]
    },
    {
     "name": "stderr",
     "output_type": "stream",
     "text": [
      "100%|██████████| 101/101 [00:32<00:00,  3.07it/s]\n"
     ]
    },
    {
     "name": "stdout",
     "output_type": "stream",
     "text": [
      "initial_potential =  79709.23872750335\n",
      "final_potential =  80207.70861709412\n",
      "energy_change =  0.916981618385762\n",
      "p accept =  0.3997237408382103\n",
      "current step size = 0.0010383245649967724\n",
      "current acceptance ratio = 0.6609756097560976\n",
      "currently working on step 411\n"
     ]
    },
    {
     "name": "stderr",
     "output_type": "stream",
     "text": [
      "100%|██████████| 97/97 [00:31<00:00,  3.06it/s]\n"
     ]
    },
    {
     "name": "stdout",
     "output_type": "stream",
     "text": [
      "initial_potential =  79709.23872750335\n",
      "final_potential =  79611.62324087313\n",
      "energy_change =  -0.18892079137731344\n",
      "p accept =  1.2079452690124346\n",
      "current step size = 0.0010383245649967724\n",
      "current acceptance ratio = 0.6618004866180048\n",
      "currently working on step 412\n"
     ]
    },
    {
     "name": "stderr",
     "output_type": "stream",
     "text": [
      "100%|██████████| 99/99 [00:32<00:00,  3.07it/s]\n"
     ]
    },
    {
     "name": "stdout",
     "output_type": "stream",
     "text": [
      "initial_potential =  79611.62324087313\n",
      "final_potential =  80295.88397396846\n",
      "energy_change =  1.7011910300934687\n",
      "p accept =  0.18246607199968207\n",
      "current step size = 0.0010383245649967724\n",
      "current acceptance ratio = 0.662621359223301\n",
      "currently working on step 413\n"
     ]
    },
    {
     "name": "stderr",
     "output_type": "stream",
     "text": [
      "100%|██████████| 99/99 [00:32<00:00,  3.06it/s]\n"
     ]
    },
    {
     "name": "stdout",
     "output_type": "stream",
     "text": [
      "initial_potential =  80295.88397396846\n",
      "final_potential =  80012.41384124281\n",
      "energy_change =  -0.795752695412375\n",
      "p accept =  2.2161084238369595\n",
      "current step size = 0.0010383245649967724\n",
      "current acceptance ratio = 0.6634382566585957\n",
      "currently working on step 414\n"
     ]
    },
    {
     "name": "stderr",
     "output_type": "stream",
     "text": [
      "100%|██████████| 100/100 [00:32<00:00,  3.06it/s]\n"
     ]
    },
    {
     "name": "stdout",
     "output_type": "stream",
     "text": [
      "initial_potential =  80012.41384124281\n",
      "final_potential =  80266.01907816171\n",
      "energy_change =  0.8631204848643392\n",
      "p accept =  0.42184366955807345\n",
      "current step size = 0.0010383245649967724\n",
      "current acceptance ratio = 0.6642512077294686\n",
      "currently working on step 415\n"
     ]
    },
    {
     "name": "stderr",
     "output_type": "stream",
     "text": [
      "100%|██████████| 101/101 [00:33<00:00,  3.06it/s]\n"
     ]
    },
    {
     "name": "stdout",
     "output_type": "stream",
     "text": [
      "initial_potential =  80266.01907816171\n",
      "final_potential =  79754.6908786238\n",
      "energy_change =  -1.4743561174254864\n",
      "p accept =  4.368222245050984\n",
      "current step size = 0.0010383245649967724\n",
      "current acceptance ratio = 0.6650602409638554\n",
      "currently working on step 416\n"
     ]
    },
    {
     "name": "stderr",
     "output_type": "stream",
     "text": [
      "100%|██████████| 97/97 [00:31<00:00,  3.06it/s]\n"
     ]
    },
    {
     "name": "stdout",
     "output_type": "stream",
     "text": [
      "initial_potential =  79754.6908786238\n",
      "final_potential =  79968.45139690445\n",
      "energy_change =  0.34872902132337913\n",
      "p accept =  0.7055843026675442\n",
      "current step size = 0.0010383245649967724\n",
      "current acceptance ratio = 0.6658653846153846\n",
      "currently working on step 417\n"
     ]
    },
    {
     "name": "stderr",
     "output_type": "stream",
     "text": [
      "100%|██████████| 98/98 [00:31<00:00,  3.06it/s]\n"
     ]
    },
    {
     "name": "stdout",
     "output_type": "stream",
     "text": [
      "initial_potential =  79968.45139690445\n",
      "final_potential =  79775.5339864086\n",
      "energy_change =  -0.5183888571336865\n",
      "p accept =  1.6793198447661715\n",
      "current step size = 0.0010383245649967724\n",
      "current acceptance ratio = 0.6666666666666666\n",
      "currently working on step 418\n"
     ]
    },
    {
     "name": "stderr",
     "output_type": "stream",
     "text": [
      "100%|██████████| 99/99 [00:32<00:00,  3.06it/s]\n"
     ]
    },
    {
     "name": "stdout",
     "output_type": "stream",
     "text": [
      "initial_potential =  79775.5339864086\n",
      "final_potential =  79813.50458801701\n",
      "energy_change =  -0.09695652680238709\n",
      "p accept =  1.1018124732684447\n",
      "current step size = 0.0010383245649967724\n",
      "current acceptance ratio = 0.6674641148325359\n",
      "currently working on step 419\n"
     ]
    },
    {
     "name": "stderr",
     "output_type": "stream",
     "text": [
      "100%|██████████| 98/98 [00:31<00:00,  3.07it/s]\n"
     ]
    },
    {
     "name": "stdout",
     "output_type": "stream",
     "text": [
      "initial_potential =  79813.50458801701\n",
      "final_potential =  80219.38903765287\n",
      "energy_change =  0.9899525535875\n",
      "p accept =  0.3715943214212496\n",
      "current step size = 0.0010383245649967724\n",
      "current acceptance ratio = 0.665871121718377\n",
      "currently working on step 420\n"
     ]
    },
    {
     "name": "stderr",
     "output_type": "stream",
     "text": [
      "100%|██████████| 99/99 [00:32<00:00,  3.06it/s]\n"
     ]
    },
    {
     "name": "stdout",
     "output_type": "stream",
     "text": [
      "initial_potential =  79813.50458801701\n",
      "final_potential =  80182.71127490135\n",
      "energy_change =  1.0267313820077106\n",
      "p accept =  0.358175789130235\n",
      "current step size = 0.0010383245649967724\n",
      "current acceptance ratio = 0.6666666666666666\n",
      "currently working on step 421\n"
     ]
    },
    {
     "name": "stderr",
     "output_type": "stream",
     "text": [
      "100%|██████████| 97/97 [00:31<00:00,  3.06it/s]\n"
     ]
    },
    {
     "name": "stdout",
     "output_type": "stream",
     "text": [
      "initial_potential =  80182.71127490135\n",
      "final_potential =  80051.27018930121\n",
      "energy_change =  -0.3655847864574753\n",
      "p accept =  1.4413566475910398\n",
      "current step size = 0.0010383245649967724\n",
      "current acceptance ratio = 0.667458432304038\n",
      "currently working on step 422\n"
     ]
    },
    {
     "name": "stderr",
     "output_type": "stream",
     "text": [
      "100%|██████████| 101/101 [00:32<00:00,  3.06it/s]\n"
     ]
    },
    {
     "name": "stdout",
     "output_type": "stream",
     "text": [
      "initial_potential =  80051.27018930121\n",
      "final_potential =  80369.27866238813\n",
      "energy_change =  0.8201999728335068\n",
      "p accept =  0.4403435889457349\n",
      "current step size = 0.0010383245649967724\n",
      "current acceptance ratio = 0.6658767772511849\n",
      "currently working on step 423\n"
     ]
    },
    {
     "name": "stderr",
     "output_type": "stream",
     "text": [
      "100%|██████████| 101/101 [00:32<00:00,  3.06it/s]\n"
     ]
    },
    {
     "name": "stdout",
     "output_type": "stream",
     "text": [
      "initial_potential =  80051.27018930121\n",
      "final_potential =  80118.24574018401\n",
      "energy_change =  0.10205313668120652\n",
      "p accept =  0.9029815689503022\n",
      "current step size = 0.0010383245649967724\n",
      "current acceptance ratio = 0.6666666666666666\n",
      "currently working on step 424\n"
     ]
    },
    {
     "name": "stderr",
     "output_type": "stream",
     "text": [
      "100%|██████████| 100/100 [00:32<00:00,  3.05it/s]\n"
     ]
    },
    {
     "name": "stdout",
     "output_type": "stream",
     "text": [
      "initial_potential =  80118.24574018401\n",
      "final_potential =  80592.02391491328\n",
      "energy_change =  1.258167990599759\n",
      "p accept =  0.28417415964166176\n",
      "current step size = 0.0010383245649967724\n",
      "current acceptance ratio = 0.6674528301886793\n",
      "currently working on step 425\n"
     ]
    },
    {
     "name": "stderr",
     "output_type": "stream",
     "text": [
      "100%|██████████| 99/99 [00:32<00:00,  3.07it/s]\n"
     ]
    },
    {
     "name": "stdout",
     "output_type": "stream",
     "text": [
      "initial_potential =  80592.02391491328\n",
      "final_potential =  80202.85974527997\n",
      "energy_change =  -0.924227589101065\n",
      "p accept =  2.5199210939312637\n",
      "current step size = 0.0010383245649967724\n",
      "current acceptance ratio = 0.668235294117647\n",
      "currently working on step 426\n"
     ]
    },
    {
     "name": "stderr",
     "output_type": "stream",
     "text": [
      "100%|██████████| 101/101 [00:33<00:00,  3.06it/s]\n"
     ]
    },
    {
     "name": "stdout",
     "output_type": "stream",
     "text": [
      "initial_potential =  80202.85974527997\n",
      "final_potential =  79929.23179691122\n",
      "energy_change =  -0.48379647458205\n",
      "p accept =  1.6222214487533053\n",
      "current step size = 0.0010383245649967724\n",
      "current acceptance ratio = 0.6690140845070423\n",
      "currently working on step 427\n"
     ]
    },
    {
     "name": "stderr",
     "output_type": "stream",
     "text": [
      "100%|██████████| 98/98 [00:32<00:00,  3.06it/s]\n"
     ]
    },
    {
     "name": "stdout",
     "output_type": "stream",
     "text": [
      "initial_potential =  79929.23179691122\n",
      "final_potential =  80096.41666085545\n",
      "energy_change =  0.22050200687954202\n",
      "p accept =  0.8021160291097655\n",
      "current step size = 0.0010383245649967724\n",
      "current acceptance ratio = 0.667447306791569\n",
      "currently working on step 428\n"
     ]
    },
    {
     "name": "stderr",
     "output_type": "stream",
     "text": [
      "100%|██████████| 98/98 [00:32<00:00,  3.06it/s]\n"
     ]
    },
    {
     "name": "stdout",
     "output_type": "stream",
     "text": [
      "initial_potential =  79929.23179691122\n",
      "final_potential =  80207.54353477358\n",
      "energy_change =  0.30961359839420766\n",
      "p accept =  0.7337304160670802\n",
      "current step size = 0.0010383245649967724\n",
      "current acceptance ratio = 0.6658878504672897\n",
      "currently working on step 429\n"
     ]
    },
    {
     "name": "stderr",
     "output_type": "stream",
     "text": [
      "100%|██████████| 97/97 [00:31<00:00,  3.06it/s]\n"
     ]
    },
    {
     "name": "stdout",
     "output_type": "stream",
     "text": [
      "initial_potential =  79929.23179691122\n",
      "final_potential =  79897.07891791173\n",
      "energy_change =  0.04796121985418722\n",
      "p accept =  0.9531707504614648\n",
      "current step size = 0.0010383245649967724\n",
      "current acceptance ratio = 0.6643356643356644\n",
      "currently working on step 430\n"
     ]
    },
    {
     "name": "stderr",
     "output_type": "stream",
     "text": [
      "100%|██████████| 100/100 [00:32<00:00,  3.07it/s]\n"
     ]
    },
    {
     "name": "stdout",
     "output_type": "stream",
     "text": [
      "initial_potential =  79929.23179691122\n",
      "final_potential =  79995.75517844767\n",
      "energy_change =  0.153651260654442\n",
      "p accept =  0.8575710376314298\n",
      "current step size = 0.0010383245649967724\n",
      "current acceptance ratio = 0.6651162790697674\n",
      "currently working on step 431\n"
     ]
    },
    {
     "name": "stderr",
     "output_type": "stream",
     "text": [
      "100%|██████████| 98/98 [00:32<00:00,  3.06it/s]\n"
     ]
    },
    {
     "name": "stdout",
     "output_type": "stream",
     "text": [
      "initial_potential =  79995.75517844767\n",
      "final_potential =  79663.21035856713\n",
      "energy_change =  -1.0218759328126907\n",
      "p accept =  2.7784019736787156\n",
      "current step size = 0.0010383245649967724\n",
      "current acceptance ratio = 0.665893271461717\n",
      "currently working on step 432\n"
     ]
    },
    {
     "name": "stderr",
     "output_type": "stream",
     "text": [
      "100%|██████████| 98/98 [00:32<00:00,  3.06it/s]\n"
     ]
    },
    {
     "name": "stdout",
     "output_type": "stream",
     "text": [
      "initial_potential =  79663.21035856713\n",
      "final_potential =  79676.04776770795\n",
      "energy_change =  -0.051543177862185985\n",
      "p accept =  1.0528946470506437\n",
      "current step size = 0.0010383245649967724\n",
      "current acceptance ratio = 0.6666666666666666\n",
      "currently working on step 433\n"
     ]
    },
    {
     "name": "stderr",
     "output_type": "stream",
     "text": [
      "100%|██████████| 97/97 [00:31<00:00,  3.06it/s]\n"
     ]
    },
    {
     "name": "stdout",
     "output_type": "stream",
     "text": [
      "initial_potential =  79676.04776770795\n",
      "final_potential =  79593.43967547268\n",
      "energy_change =  -0.12180193606764078\n",
      "p accept =  1.1295303603986016\n",
      "current step size = 0.0010383245649967724\n",
      "current acceptance ratio = 0.6674364896073903\n",
      "currently working on step 434\n"
     ]
    },
    {
     "name": "stderr",
     "output_type": "stream",
     "text": [
      "100%|██████████| 100/100 [00:32<00:00,  3.05it/s]\n"
     ]
    },
    {
     "name": "stdout",
     "output_type": "stream",
     "text": [
      "initial_potential =  79593.43967547268\n",
      "final_potential =  79303.9156773511\n",
      "energy_change =  -0.9258243086514995\n",
      "p accept =  2.523947915204086\n",
      "current step size = 0.0010383245649967724\n",
      "current acceptance ratio = 0.6682027649769585\n",
      "currently working on step 435\n"
     ]
    },
    {
     "name": "stderr",
     "output_type": "stream",
     "text": [
      "100%|██████████| 99/99 [00:32<00:00,  3.03it/s]\n"
     ]
    },
    {
     "name": "stdout",
     "output_type": "stream",
     "text": [
      "initial_potential =  79303.9156773511\n",
      "final_potential =  79475.3761726569\n",
      "energy_change =  0.1637580132810399\n",
      "p accept =  0.8489474310294658\n",
      "current step size = 0.0010383245649967724\n",
      "current acceptance ratio = 0.6689655172413793\n",
      "currently working on step 436\n"
     ]
    },
    {
     "name": "stderr",
     "output_type": "stream",
     "text": [
      "100%|██████████| 101/101 [00:32<00:00,  3.06it/s]\n"
     ]
    },
    {
     "name": "stdout",
     "output_type": "stream",
     "text": [
      "initial_potential =  79475.3761726569\n",
      "final_potential =  80266.80145975773\n",
      "energy_change =  1.8927824210259132\n",
      "p accept =  0.15065204770595056\n",
      "current step size = 0.0010383245649967724\n",
      "current acceptance ratio = 0.6674311926605505\n",
      "currently working on step 437\n"
     ]
    },
    {
     "name": "stderr",
     "output_type": "stream",
     "text": [
      "100%|██████████| 98/98 [00:32<00:00,  3.06it/s]\n"
     ]
    },
    {
     "name": "stdout",
     "output_type": "stream",
     "text": [
      "initial_potential =  79475.3761726569\n",
      "final_potential =  79345.73645788102\n",
      "energy_change =  0.02771252061938867\n",
      "p accept =  0.9726679485917231\n",
      "current step size = 0.0010383245649967724\n",
      "current acceptance ratio = 0.6681922196796338\n",
      "currently working on step 438\n"
     ]
    },
    {
     "name": "stderr",
     "output_type": "stream",
     "text": [
      "100%|██████████| 101/101 [00:32<00:00,  3.06it/s]\n"
     ]
    },
    {
     "name": "stdout",
     "output_type": "stream",
     "text": [
      "initial_potential =  79345.73645788102\n",
      "final_potential =  80213.5357553903\n",
      "energy_change =  2.4362066597677767\n",
      "p accept =  0.08749211011768132\n",
      "current step size = 0.0010383245649967724\n",
      "current acceptance ratio = 0.6666666666666666\n",
      "currently working on step 439\n"
     ]
    },
    {
     "name": "stderr",
     "output_type": "stream",
     "text": [
      "100%|██████████| 100/100 [00:32<00:00,  3.07it/s]\n"
     ]
    },
    {
     "name": "stdout",
     "output_type": "stream",
     "text": [
      "initial_potential =  79345.73645788102\n",
      "final_potential =  79454.84753113659\n",
      "energy_change =  0.44999684870708734\n",
      "p accept =  0.6376301609780144\n",
      "current step size = 0.0010383245649967724\n",
      "current acceptance ratio = 0.6674259681093394\n",
      "currently working on step 440\n"
     ]
    },
    {
     "name": "stderr",
     "output_type": "stream",
     "text": [
      "100%|██████████| 100/100 [00:32<00:00,  3.06it/s]\n"
     ]
    },
    {
     "name": "stdout",
     "output_type": "stream",
     "text": [
      "initial_potential =  79454.84753113659\n",
      "final_potential =  80114.69515897086\n",
      "energy_change =  1.8647268570493907\n",
      "p accept =  0.15493852447141565\n",
      "current step size = 0.0010383245649967724\n",
      "current acceptance ratio = 0.6659090909090909\n",
      "currently working on step 441\n"
     ]
    },
    {
     "name": "stderr",
     "output_type": "stream",
     "text": [
      "100%|██████████| 97/97 [00:31<00:00,  3.05it/s]\n"
     ]
    },
    {
     "name": "stdout",
     "output_type": "stream",
     "text": [
      "initial_potential =  79454.84753113659\n",
      "final_potential =  79906.61427534944\n",
      "energy_change =  1.0620877452893183\n",
      "p accept =  0.3457332533639846\n",
      "current step size = 0.0010383245649967724\n",
      "current acceptance ratio = 0.6643990929705216\n",
      "currently working on step 442\n"
     ]
    },
    {
     "name": "stderr",
     "output_type": "stream",
     "text": [
      "100%|██████████| 101/101 [00:32<00:00,  3.07it/s]\n"
     ]
    },
    {
     "name": "stdout",
     "output_type": "stream",
     "text": [
      "initial_potential =  79454.84753113659\n",
      "final_potential =  80415.84314707853\n",
      "energy_change =  2.335484368610196\n",
      "p accept =  0.0967636019222496\n",
      "current step size = 0.0010383245649967724\n",
      "current acceptance ratio = 0.6628959276018099\n",
      "currently working on step 443\n"
     ]
    },
    {
     "name": "stderr",
     "output_type": "stream",
     "text": [
      "100%|██████████| 98/98 [00:30<00:00,  3.18it/s]\n"
     ]
    },
    {
     "name": "stdout",
     "output_type": "stream",
     "text": [
      "initial_potential =  79454.84753113659\n",
      "final_potential =  79615.85773133565\n",
      "energy_change =  0.39639758539851755\n",
      "p accept =  0.6727391714874088\n",
      "current step size = 0.0010383245649967724\n",
      "current acceptance ratio = 0.6636568848758465\n",
      "currently working on step 444\n"
     ]
    },
    {
     "name": "stderr",
     "output_type": "stream",
     "text": [
      "100%|██████████| 97/97 [00:31<00:00,  3.12it/s]\n"
     ]
    },
    {
     "name": "stdout",
     "output_type": "stream",
     "text": [
      "initial_potential =  79615.85773133565\n",
      "final_potential =  80154.44001736345\n",
      "energy_change =  1.204543364001438\n",
      "p accept =  0.29982888091881527\n",
      "current step size = 0.0010383245649967724\n",
      "current acceptance ratio = 0.6621621621621622\n",
      "currently working on step 445\n"
     ]
    },
    {
     "name": "stderr",
     "output_type": "stream",
     "text": [
      "100%|██████████| 101/101 [00:32<00:00,  3.09it/s]\n"
     ]
    },
    {
     "name": "stdout",
     "output_type": "stream",
     "text": [
      "initial_potential =  79615.85773133565\n",
      "final_potential =  79654.6583840015\n",
      "energy_change =  0.04121744306758046\n",
      "p accept =  0.95962044444686\n",
      "current step size = 0.0010383245649967724\n",
      "current acceptance ratio = 0.6629213483146067\n",
      "currently working on step 446\n"
     ]
    },
    {
     "name": "stderr",
     "output_type": "stream",
     "text": [
      "100%|██████████| 99/99 [00:32<00:00,  3.08it/s]\n"
     ]
    },
    {
     "name": "stdout",
     "output_type": "stream",
     "text": [
      "initial_potential =  79654.6583840015\n",
      "final_potential =  80125.42097796315\n",
      "energy_change =  1.5628364867297933\n",
      "p accept =  0.20954086756602558\n",
      "current step size = 0.0010383245649967724\n",
      "current acceptance ratio = 0.6614349775784754\n",
      "currently working on step 447\n"
     ]
    },
    {
     "name": "stderr",
     "output_type": "stream",
     "text": [
      "100%|██████████| 97/97 [00:31<00:00,  3.08it/s]\n"
     ]
    },
    {
     "name": "stdout",
     "output_type": "stream",
     "text": [
      "initial_potential =  79654.6583840015\n",
      "final_potential =  80071.15388117578\n",
      "energy_change =  1.4685943527147174\n",
      "p accept =  0.23024890657574007\n",
      "current step size = 0.0010383245649967724\n",
      "current acceptance ratio = 0.6599552572706935\n",
      "currently working on step 448\n"
     ]
    },
    {
     "name": "stderr",
     "output_type": "stream",
     "text": [
      "100%|██████████| 97/97 [00:31<00:00,  3.08it/s]\n"
     ]
    },
    {
     "name": "stdout",
     "output_type": "stream",
     "text": [
      "initial_potential =  79654.6583840015\n",
      "final_potential =  80053.58206952499\n",
      "energy_change =  1.2711092177778482\n",
      "p accept =  0.28052029104963166\n",
      "current step size = 0.0010383245649967724\n",
      "current acceptance ratio = 0.6607142857142857\n",
      "currently working on step 449\n"
     ]
    },
    {
     "name": "stderr",
     "output_type": "stream",
     "text": [
      "100%|██████████| 98/98 [00:32<00:00,  3.06it/s]\n"
     ]
    },
    {
     "name": "stdout",
     "output_type": "stream",
     "text": [
      "initial_potential =  80053.58206952499\n",
      "final_potential =  80275.50239643593\n",
      "energy_change =  0.36251766816712916\n",
      "p accept =  0.6959220179034993\n",
      "current step size = 0.0010383245649967724\n",
      "current acceptance ratio = 0.6614699331848553\n",
      "currently working on step 450\n"
     ]
    },
    {
     "name": "stderr",
     "output_type": "stream",
     "text": [
      "100%|██████████| 97/97 [00:31<00:00,  3.06it/s]\n"
     ]
    },
    {
     "name": "stdout",
     "output_type": "stream",
     "text": [
      "initial_potential =  80275.50239643593\n",
      "final_potential =  80207.33342160759\n",
      "energy_change =  -0.3079344223369844\n",
      "p accept =  1.3606117602719683\n",
      "current step size = 0.0010383245649967724\n",
      "current acceptance ratio = 0.6622222222222223\n",
      "currently working on step 451\n"
     ]
    },
    {
     "name": "stderr",
     "output_type": "stream",
     "text": [
      "100%|██████████| 100/100 [00:32<00:00,  3.07it/s]\n"
     ]
    },
    {
     "name": "stdout",
     "output_type": "stream",
     "text": [
      "initial_potential =  80207.33342160759\n",
      "final_potential =  80075.58612328827\n",
      "energy_change =  -0.13894805661402643\n",
      "p accept =  1.149064412157155\n",
      "current step size = 0.0010383245649967724\n",
      "current acceptance ratio = 0.6629711751662971\n",
      "currently working on step 452\n"
     ]
    },
    {
     "name": "stderr",
     "output_type": "stream",
     "text": [
      "100%|██████████| 98/98 [00:32<00:00,  3.06it/s]\n"
     ]
    },
    {
     "name": "stdout",
     "output_type": "stream",
     "text": [
      "initial_potential =  80075.58612328827\n",
      "final_potential =  79874.85883315028\n",
      "energy_change =  -0.42041341547155753\n",
      "p accept =  1.5225908881517818\n",
      "current step size = 0.0010383245649967724\n",
      "current acceptance ratio = 0.6637168141592921\n",
      "currently working on step 453\n"
     ]
    },
    {
     "name": "stderr",
     "output_type": "stream",
     "text": [
      "100%|██████████| 97/97 [00:31<00:00,  3.06it/s]\n"
     ]
    },
    {
     "name": "stdout",
     "output_type": "stream",
     "text": [
      "initial_potential =  79874.85883315028\n",
      "final_potential =  79938.65908287565\n",
      "energy_change =  0.2610977605218068\n",
      "p accept =  0.7702056202311532\n",
      "current step size = 0.0010383245649967724\n",
      "current acceptance ratio = 0.6644591611479028\n",
      "currently working on step 454\n"
     ]
    },
    {
     "name": "stderr",
     "output_type": "stream",
     "text": [
      "100%|██████████| 97/97 [00:31<00:00,  3.06it/s]\n"
     ]
    },
    {
     "name": "stdout",
     "output_type": "stream",
     "text": [
      "initial_potential =  79938.65908287565\n",
      "final_potential =  80292.26443120485\n",
      "energy_change =  0.650431698653847\n",
      "p accept =  0.5218204589401411\n",
      "current step size = 0.0010383245649967724\n",
      "current acceptance ratio = 0.6629955947136564\n",
      "currently working on step 455\n"
     ]
    },
    {
     "name": "stderr",
     "output_type": "stream",
     "text": [
      "100%|██████████| 101/101 [00:32<00:00,  3.07it/s]\n"
     ]
    },
    {
     "name": "stdout",
     "output_type": "stream",
     "text": [
      "initial_potential =  79938.65908287565\n",
      "final_potential =  80117.7273973265\n",
      "energy_change =  -0.01766284555196762\n",
      "p accept =  1.017819756075861\n",
      "current step size = 0.0010383245649967724\n",
      "current acceptance ratio = 0.6637362637362637\n",
      "currently working on step 456\n"
     ]
    },
    {
     "name": "stderr",
     "output_type": "stream",
     "text": [
      "100%|██████████| 97/97 [00:31<00:00,  3.05it/s]\n"
     ]
    },
    {
     "name": "stdout",
     "output_type": "stream",
     "text": [
      "initial_potential =  80117.7273973265\n",
      "final_potential =  80065.022372409\n",
      "energy_change =  -0.0257042502053082\n",
      "p accept =  1.0260374532301875\n",
      "current step size = 0.0010383245649967724\n",
      "current acceptance ratio = 0.6644736842105263\n",
      "currently working on step 457\n"
     ]
    },
    {
     "name": "stderr",
     "output_type": "stream",
     "text": [
      "100%|██████████| 101/101 [00:33<00:00,  3.06it/s]\n"
     ]
    },
    {
     "name": "stdout",
     "output_type": "stream",
     "text": [
      "initial_potential =  80065.022372409\n",
      "final_potential =  80325.34245497339\n",
      "energy_change =  0.8088915754342452\n",
      "p accept =  0.4453514312102402\n",
      "current step size = 0.0010383245649967724\n",
      "current acceptance ratio = 0.6630196936542669\n",
      "currently working on step 458\n"
     ]
    },
    {
     "name": "stderr",
     "output_type": "stream",
     "text": [
      "100%|██████████| 97/97 [00:31<00:00,  3.07it/s]\n"
     ]
    },
    {
     "name": "stdout",
     "output_type": "stream",
     "text": [
      "initial_potential =  80065.022372409\n",
      "final_potential =  80587.3645383817\n",
      "energy_change =  1.4195073610753752\n",
      "p accept =  0.24183312396636775\n",
      "current step size = 0.0010383245649967724\n",
      "current acceptance ratio = 0.6615720524017468\n",
      "currently working on step 459\n"
     ]
    },
    {
     "name": "stderr",
     "output_type": "stream",
     "text": [
      "100%|██████████| 99/99 [00:32<00:00,  3.07it/s]\n"
     ]
    },
    {
     "name": "stdout",
     "output_type": "stream",
     "text": [
      "initial_potential =  80065.022372409\n",
      "final_potential =  80043.89191910959\n",
      "energy_change =  0.007637239410541952\n",
      "p accept =  0.9923918502004833\n",
      "current step size = 0.0010383245649967724\n",
      "current acceptance ratio = 0.6623093681917211\n",
      "currently working on step 460\n"
     ]
    },
    {
     "name": "stderr",
     "output_type": "stream",
     "text": [
      "100%|██████████| 101/101 [00:32<00:00,  3.07it/s]\n"
     ]
    },
    {
     "name": "stdout",
     "output_type": "stream",
     "text": [
      "initial_potential =  80043.89191910959\n",
      "final_potential =  80195.30680976507\n",
      "energy_change =  0.5108578522922471\n",
      "p accept =  0.5999806631958462\n",
      "current step size = 0.0010383245649967724\n",
      "current acceptance ratio = 0.6608695652173913\n",
      "currently working on step 461\n"
     ]
    },
    {
     "name": "stderr",
     "output_type": "stream",
     "text": [
      "100%|██████████| 101/101 [00:33<00:00,  3.06it/s]\n"
     ]
    },
    {
     "name": "stdout",
     "output_type": "stream",
     "text": [
      "initial_potential =  80043.89191910959\n",
      "final_potential =  80117.70492524724\n",
      "energy_change =  0.46522668609395623\n",
      "p accept =  0.6279927318338082\n",
      "current step size = 0.0010383245649967724\n",
      "current acceptance ratio = 0.6616052060737527\n",
      "currently working on step 462\n"
     ]
    },
    {
     "name": "stderr",
     "output_type": "stream",
     "text": [
      "100%|██████████| 97/97 [00:31<00:00,  3.06it/s]\n"
     ]
    },
    {
     "name": "stdout",
     "output_type": "stream",
     "text": [
      "initial_potential =  80117.70492524724\n",
      "final_potential =  80071.14830714969\n",
      "energy_change =  -0.3626908218720928\n",
      "p accept =  1.4371914423831633\n",
      "current step size = 0.0010383245649967724\n",
      "current acceptance ratio = 0.6623376623376623\n",
      "currently working on step 463\n"
     ]
    },
    {
     "name": "stderr",
     "output_type": "stream",
     "text": [
      "100%|██████████| 97/97 [00:31<00:00,  3.07it/s]\n"
     ]
    },
    {
     "name": "stdout",
     "output_type": "stream",
     "text": [
      "initial_potential =  80071.14830714969\n",
      "final_potential =  80253.71248843442\n",
      "energy_change =  0.41841989930253476\n",
      "p accept =  0.6580858406158814\n",
      "current step size = 0.0010383245649967724\n",
      "current acceptance ratio = 0.6630669546436285\n",
      "currently working on step 464\n"
     ]
    },
    {
     "name": "stderr",
     "output_type": "stream",
     "text": [
      "100%|██████████| 97/97 [00:31<00:00,  3.07it/s]\n"
     ]
    },
    {
     "name": "stdout",
     "output_type": "stream",
     "text": [
      "initial_potential =  80253.71248843442\n",
      "final_potential =  80117.94044677663\n",
      "energy_change =  -0.5300348004093394\n",
      "p accept =  1.698991433187104\n",
      "current step size = 0.0010383245649967724\n",
      "current acceptance ratio = 0.6637931034482759\n",
      "currently working on step 465\n"
     ]
    },
    {
     "name": "stderr",
     "output_type": "stream",
     "text": [
      "100%|██████████| 100/100 [00:32<00:00,  3.07it/s]\n"
     ]
    },
    {
     "name": "stdout",
     "output_type": "stream",
     "text": [
      "initial_potential =  80117.94044677663\n",
      "final_potential =  79977.2643275656\n",
      "energy_change =  -0.19648861919995397\n",
      "p accept =  1.2171214689833012\n",
      "current step size = 0.0010383245649967724\n",
      "current acceptance ratio = 0.6645161290322581\n",
      "currently working on step 466\n"
     ]
    },
    {
     "name": "stderr",
     "output_type": "stream",
     "text": [
      "100%|██████████| 98/98 [00:32<00:00,  3.06it/s]\n"
     ]
    },
    {
     "name": "stdout",
     "output_type": "stream",
     "text": [
      "initial_potential =  79977.2643275656\n",
      "final_potential =  79737.65409923322\n",
      "energy_change =  -0.4098739034961909\n",
      "p accept =  1.5066277926372187\n",
      "current step size = 0.0010383245649967724\n",
      "current acceptance ratio = 0.6652360515021459\n",
      "currently working on step 467\n"
     ]
    },
    {
     "name": "stderr",
     "output_type": "stream",
     "text": [
      "100%|██████████| 97/97 [00:31<00:00,  3.06it/s]\n"
     ]
    },
    {
     "name": "stdout",
     "output_type": "stream",
     "text": [
      "initial_potential =  79737.65409923322\n",
      "final_potential =  79729.30308944204\n",
      "energy_change =  -0.04412676626816392\n",
      "p accept =  1.0451148317984944\n",
      "current step size = 0.0010383245649967724\n",
      "current acceptance ratio = 0.6659528907922913\n",
      "currently working on step 468\n"
     ]
    },
    {
     "name": "stderr",
     "output_type": "stream",
     "text": [
      "100%|██████████| 98/98 [00:32<00:00,  3.05it/s]\n"
     ]
    },
    {
     "name": "stdout",
     "output_type": "stream",
     "text": [
      "initial_potential =  79729.30308944204\n",
      "final_potential =  79679.26844822936\n",
      "energy_change =  -0.05002992774825543\n",
      "p accept =  1.0513025590235454\n",
      "current step size = 0.0010383245649967724\n",
      "current acceptance ratio = 0.6666666666666666\n",
      "currently working on step 469\n"
     ]
    },
    {
     "name": "stderr",
     "output_type": "stream",
     "text": [
      "100%|██████████| 98/98 [00:31<00:00,  3.07it/s]\n"
     ]
    },
    {
     "name": "stdout",
     "output_type": "stream",
     "text": [
      "initial_potential =  79679.26844822936\n",
      "final_potential =  79949.00583388207\n",
      "energy_change =  0.8820938400458544\n",
      "p accept =  0.41391533121509627\n",
      "current step size = 0.0010383245649967724\n",
      "current acceptance ratio = 0.6652452025586354\n",
      "currently working on step 470\n"
     ]
    },
    {
     "name": "stderr",
     "output_type": "stream",
     "text": [
      "100%|██████████| 100/100 [00:32<00:00,  3.06it/s]\n"
     ]
    },
    {
     "name": "stdout",
     "output_type": "stream",
     "text": [
      "initial_potential =  79679.26844822936\n",
      "final_potential =  80311.2262059012\n",
      "energy_change =  1.6648178896284662\n",
      "p accept =  0.18922511470036552\n",
      "current step size = 0.0010383245649967724\n",
      "current acceptance ratio = 0.6638297872340425\n",
      "currently working on step 471\n"
     ]
    },
    {
     "name": "stderr",
     "output_type": "stream",
     "text": [
      "100%|██████████| 98/98 [00:32<00:00,  3.06it/s]\n"
     ]
    },
    {
     "name": "stdout",
     "output_type": "stream",
     "text": [
      "initial_potential =  79679.26844822936\n",
      "final_potential =  80121.14723694291\n",
      "energy_change =  1.0543777095736004\n",
      "p accept =  0.3484091715521952\n",
      "current step size = 0.0010383245649967724\n",
      "current acceptance ratio = 0.6624203821656051\n",
      "currently working on step 472\n"
     ]
    },
    {
     "name": "stderr",
     "output_type": "stream",
     "text": [
      "100%|██████████| 97/97 [00:31<00:00,  3.07it/s]\n"
     ]
    },
    {
     "name": "stdout",
     "output_type": "stream",
     "text": [
      "initial_potential =  79679.26844822936\n",
      "final_potential =  80117.99420064087\n",
      "energy_change =  1.164385856129229\n",
      "p accept =  0.3121142862600881\n",
      "current step size = 0.0010383245649967724\n",
      "current acceptance ratio = 0.6610169491525424\n",
      "currently working on step 473\n"
     ]
    },
    {
     "name": "stderr",
     "output_type": "stream",
     "text": [
      "100%|██████████| 99/99 [00:32<00:00,  3.07it/s]\n"
     ]
    },
    {
     "name": "stdout",
     "output_type": "stream",
     "text": [
      "initial_potential =  79679.26844822936\n",
      "final_potential =  79483.46639604132\n",
      "energy_change =  -0.47755236690863967\n",
      "p accept =  1.6121236819371685\n",
      "current step size = 0.0010383245649967724\n",
      "current acceptance ratio = 0.6617336152219874\n",
      "currently working on step 474\n"
     ]
    },
    {
     "name": "stderr",
     "output_type": "stream",
     "text": [
      "100%|██████████| 101/101 [00:32<00:00,  3.08it/s]\n"
     ]
    },
    {
     "name": "stdout",
     "output_type": "stream",
     "text": [
      "initial_potential =  79483.46639604132\n",
      "final_potential =  80072.19297692133\n",
      "energy_change =  1.6159367667278275\n",
      "p accept =  0.1987044435174865\n",
      "current step size = 0.0010383245649967724\n",
      "current acceptance ratio = 0.6603375527426161\n",
      "currently working on step 475\n"
     ]
    },
    {
     "name": "stderr",
     "output_type": "stream",
     "text": [
      "100%|██████████| 101/101 [00:31<00:00,  3.22it/s]\n"
     ]
    },
    {
     "name": "stdout",
     "output_type": "stream",
     "text": [
      "initial_potential =  79483.46639604132\n",
      "final_potential =  80042.46334823439\n",
      "energy_change =  1.5545110526145436\n",
      "p accept =  0.2112926683860394\n",
      "current step size = 0.0010383245649967724\n",
      "current acceptance ratio = 0.6589473684210526\n",
      "currently working on step 476\n"
     ]
    },
    {
     "name": "stderr",
     "output_type": "stream",
     "text": [
      "100%|██████████| 100/100 [00:31<00:00,  3.16it/s]\n"
     ]
    },
    {
     "name": "stdout",
     "output_type": "stream",
     "text": [
      "initial_potential =  79483.46639604132\n",
      "final_potential =  79742.18396400214\n",
      "energy_change =  0.6208838004968129\n",
      "p accept =  0.5374692120666827\n",
      "current step size = 0.0010383245649967724\n",
      "current acceptance ratio = 0.6596638655462185\n",
      "currently working on step 477\n"
     ]
    },
    {
     "name": "stderr",
     "output_type": "stream",
     "text": [
      "100%|██████████| 97/97 [00:31<00:00,  3.12it/s]\n"
     ]
    },
    {
     "name": "stdout",
     "output_type": "stream",
     "text": [
      "initial_potential =  79742.18396400214\n",
      "final_potential =  79751.105512509\n",
      "energy_change =  0.037902786454651505\n",
      "p accept =  0.9628065341785303\n",
      "current step size = 0.0010383245649967724\n",
      "current acceptance ratio = 0.660377358490566\n",
      "currently working on step 478\n"
     ]
    },
    {
     "name": "stderr",
     "output_type": "stream",
     "text": [
      "100%|██████████| 98/98 [00:31<00:00,  3.08it/s]\n"
     ]
    },
    {
     "name": "stdout",
     "output_type": "stream",
     "text": [
      "initial_potential =  79751.105512509\n",
      "final_potential =  80068.42335549473\n",
      "energy_change =  0.9750834018341266\n",
      "p accept =  0.37716089634086447\n",
      "current step size = 0.0010383245649967724\n",
      "current acceptance ratio = 0.6589958158995816\n",
      "currently working on step 479\n"
     ]
    },
    {
     "name": "stderr",
     "output_type": "stream",
     "text": [
      "100%|██████████| 99/99 [00:32<00:00,  3.09it/s]\n"
     ]
    },
    {
     "name": "stdout",
     "output_type": "stream",
     "text": [
      "initial_potential =  79751.105512509\n",
      "final_potential =  80160.41457499977\n",
      "energy_change =  0.7089852240751497\n",
      "p accept =  0.4921433593820557\n",
      "current step size = 0.0010383245649967724\n",
      "current acceptance ratio = 0.6597077244258872\n",
      "currently working on step 480\n"
     ]
    },
    {
     "name": "stderr",
     "output_type": "stream",
     "text": [
      "100%|██████████| 101/101 [00:32<00:00,  3.11it/s]\n"
     ]
    },
    {
     "name": "stdout",
     "output_type": "stream",
     "text": [
      "initial_potential =  80160.41457499977\n",
      "final_potential =  80222.34812624904\n",
      "energy_change =  -0.13662481406936422\n",
      "p accept =  1.1463979554404582\n",
      "current step size = 0.0010383245649967724\n",
      "current acceptance ratio = 0.6604166666666667\n",
      "currently working on step 481\n"
     ]
    },
    {
     "name": "stderr",
     "output_type": "stream",
     "text": [
      "100%|██████████| 101/101 [00:31<00:00,  3.16it/s]\n"
     ]
    },
    {
     "name": "stdout",
     "output_type": "stream",
     "text": [
      "initial_potential =  80222.34812624904\n",
      "final_potential =  80293.16900605454\n",
      "energy_change =  0.15487561572808772\n",
      "p accept =  0.8565217086871852\n",
      "current step size = 0.0010383245649967724\n",
      "current acceptance ratio = 0.6611226611226612\n",
      "currently working on step 482\n"
     ]
    },
    {
     "name": "stderr",
     "output_type": "stream",
     "text": [
      "100%|██████████| 100/100 [00:32<00:00,  3.08it/s]\n"
     ]
    },
    {
     "name": "stdout",
     "output_type": "stream",
     "text": [
      "initial_potential =  80293.16900605454\n",
      "final_potential =  80145.73027351772\n",
      "energy_change =  -0.3290588337695226\n",
      "p accept =  1.3896596120958982\n",
      "current step size = 0.0010383245649967724\n",
      "current acceptance ratio = 0.6618257261410788\n",
      "currently working on step 483\n"
     ]
    },
    {
     "name": "stderr",
     "output_type": "stream",
     "text": [
      "100%|██████████| 100/100 [00:32<00:00,  3.06it/s]\n"
     ]
    },
    {
     "name": "stdout",
     "output_type": "stream",
     "text": [
      "initial_potential =  80145.73027351772\n",
      "final_potential =  80219.64501629764\n",
      "energy_change =  0.0920113573083654\n",
      "p accept =  0.9120947905444706\n",
      "current step size = 0.0010383245649967724\n",
      "current acceptance ratio = 0.6625258799171843\n",
      "currently working on step 484\n"
     ]
    },
    {
     "name": "stderr",
     "output_type": "stream",
     "text": [
      "100%|██████████| 100/100 [00:32<00:00,  3.07it/s]\n"
     ]
    },
    {
     "name": "stdout",
     "output_type": "stream",
     "text": [
      "initial_potential =  80219.64501629764\n",
      "final_potential =  80308.6987341327\n",
      "energy_change =  0.3966224147588946\n",
      "p accept =  0.6725879369713995\n",
      "current step size = 0.0010383245649967724\n",
      "current acceptance ratio = 0.6632231404958677\n",
      "currently working on step 485\n"
     ]
    },
    {
     "name": "stderr",
     "output_type": "stream",
     "text": [
      "100%|██████████| 101/101 [00:32<00:00,  3.07it/s]\n"
     ]
    },
    {
     "name": "stdout",
     "output_type": "stream",
     "text": [
      "initial_potential =  80308.6987341327\n",
      "final_potential =  80902.42338848875\n",
      "energy_change =  1.5731137811671942\n",
      "p accept =  0.2073983827051534\n",
      "current step size = 0.0010383245649967724\n",
      "current acceptance ratio = 0.6618556701030928\n",
      "currently working on step 486\n"
     ]
    },
    {
     "name": "stderr",
     "output_type": "stream",
     "text": [
      "100%|██████████| 98/98 [00:31<00:00,  3.07it/s]\n"
     ]
    },
    {
     "name": "stdout",
     "output_type": "stream",
     "text": [
      "initial_potential =  80308.6987341327\n",
      "final_potential =  80230.25693903488\n",
      "energy_change =  -0.0178176062181592\n",
      "p accept =  1.0179772867288344\n",
      "current step size = 0.0010383245649967724\n",
      "current acceptance ratio = 0.6625514403292181\n",
      "currently working on step 487\n"
     ]
    },
    {
     "name": "stderr",
     "output_type": "stream",
     "text": [
      "100%|██████████| 101/101 [00:32<00:00,  3.08it/s]\n"
     ]
    },
    {
     "name": "stdout",
     "output_type": "stream",
     "text": [
      "initial_potential =  80230.25693903488\n",
      "final_potential =  80287.65533737766\n",
      "energy_change =  -0.00603897962719202\n",
      "p accept =  1.0060572510263461\n",
      "current step size = 0.0010383245649967724\n",
      "current acceptance ratio = 0.6632443531827515\n",
      "currently working on step 488\n"
     ]
    },
    {
     "name": "stderr",
     "output_type": "stream",
     "text": [
      "100%|██████████| 97/97 [00:31<00:00,  3.06it/s]\n"
     ]
    },
    {
     "name": "stdout",
     "output_type": "stream",
     "text": [
      "initial_potential =  80287.65533737766\n",
      "final_potential =  80445.26625477488\n",
      "energy_change =  0.08634230715688318\n",
      "p accept =  0.9172801859007363\n",
      "current step size = 0.0010383245649967724\n",
      "current acceptance ratio = 0.6639344262295082\n",
      "currently working on step 489\n"
     ]
    },
    {
     "name": "stderr",
     "output_type": "stream",
     "text": [
      "100%|██████████| 99/99 [00:32<00:00,  3.07it/s]\n"
     ]
    },
    {
     "name": "stdout",
     "output_type": "stream",
     "text": [
      "initial_potential =  80445.26625477488\n",
      "final_potential =  80408.92117260335\n",
      "energy_change =  -0.01923432043986395\n",
      "p accept =  1.0194204916914276\n",
      "current step size = 0.0010383245649967724\n",
      "current acceptance ratio = 0.6646216768916156\n",
      "currently working on step 490\n"
     ]
    },
    {
     "name": "stderr",
     "output_type": "stream",
     "text": [
      "100%|██████████| 98/98 [00:32<00:00,  3.05it/s]\n"
     ]
    },
    {
     "name": "stdout",
     "output_type": "stream",
     "text": [
      "initial_potential =  80408.92117260335\n",
      "final_potential =  80626.07657455717\n",
      "energy_change =  0.7067037372034974\n",
      "p accept =  0.4932674598180547\n",
      "current step size = 0.0010383245649967724\n",
      "current acceptance ratio = 0.6653061224489796\n",
      "currently working on step 491\n"
     ]
    },
    {
     "name": "stderr",
     "output_type": "stream",
     "text": [
      "100%|██████████| 101/101 [00:32<00:00,  3.06it/s]\n"
     ]
    },
    {
     "name": "stdout",
     "output_type": "stream",
     "text": [
      "initial_potential =  80626.07657455717\n",
      "final_potential =  80283.07090874718\n",
      "energy_change =  -0.6610491925966926\n",
      "p accept =  1.9368233694825943\n",
      "current step size = 0.0010383245649967724\n",
      "current acceptance ratio = 0.6659877800407332\n",
      "currently working on step 492\n"
     ]
    },
    {
     "name": "stderr",
     "output_type": "stream",
     "text": [
      "100%|██████████| 97/97 [00:31<00:00,  3.09it/s]\n"
     ]
    },
    {
     "name": "stdout",
     "output_type": "stream",
     "text": [
      "initial_potential =  80283.07090874718\n",
      "final_potential =  80374.40471004248\n",
      "energy_change =  0.06033585540717468\n",
      "p accept =  0.9414482899823936\n",
      "current step size = 0.0010383245649967724\n",
      "current acceptance ratio = 0.6666666666666666\n",
      "currently working on step 493\n"
     ]
    },
    {
     "name": "stderr",
     "output_type": "stream",
     "text": [
      "100%|██████████| 98/98 [00:31<00:00,  3.06it/s]\n"
     ]
    },
    {
     "name": "stdout",
     "output_type": "stream",
     "text": [
      "initial_potential =  80374.40471004248\n",
      "final_potential =  80613.41586166408\n",
      "energy_change =  0.477453273604624\n",
      "p accept =  0.6203612721650332\n",
      "current step size = 0.0010383245649967724\n",
      "current acceptance ratio = 0.665314401622718\n",
      "currently working on step 494\n"
     ]
    },
    {
     "name": "stderr",
     "output_type": "stream",
     "text": [
      "100%|██████████| 99/99 [00:32<00:00,  3.07it/s]\n"
     ]
    },
    {
     "name": "stdout",
     "output_type": "stream",
     "text": [
      "initial_potential =  80374.40471004248\n",
      "final_potential =  80161.19268777786\n",
      "energy_change =  -0.3334007841767743\n",
      "p accept =  1.3957065634961001\n",
      "current step size = 0.0010383245649967724\n",
      "current acceptance ratio = 0.6659919028340081\n",
      "currently working on step 495\n"
     ]
    },
    {
     "name": "stderr",
     "output_type": "stream",
     "text": [
      "100%|██████████| 101/101 [00:32<00:00,  3.07it/s]\n"
     ]
    },
    {
     "name": "stdout",
     "output_type": "stream",
     "text": [
      "initial_potential =  80161.19268777786\n",
      "final_potential =  80263.47515871073\n",
      "energy_change =  0.2089479268179275\n",
      "p accept =  0.8114374886753652\n",
      "current step size = 0.0010383245649967724\n",
      "current acceptance ratio = 0.6666666666666666\n",
      "currently working on step 496\n"
     ]
    },
    {
     "name": "stderr",
     "output_type": "stream",
     "text": [
      "100%|██████████| 100/100 [00:32<00:00,  3.08it/s]\n"
     ]
    },
    {
     "name": "stdout",
     "output_type": "stream",
     "text": [
      "initial_potential =  80263.47515871073\n",
      "final_potential =  80520.44019444541\n",
      "energy_change =  0.36174614779883996\n",
      "p accept =  0.6964591430899202\n",
      "current step size = 0.0010383245649967724\n",
      "current acceptance ratio = 0.6673387096774194\n",
      "currently working on step 497\n"
     ]
    },
    {
     "name": "stderr",
     "output_type": "stream",
     "text": [
      "100%|██████████| 98/98 [00:31<00:00,  3.07it/s]\n"
     ]
    },
    {
     "name": "stdout",
     "output_type": "stream",
     "text": [
      "initial_potential =  80520.44019444541\n",
      "final_potential =  80121.17781723806\n",
      "energy_change =  -0.8112267314572819\n",
      "p accept =  2.2506672582133707\n",
      "current step size = 0.0010383245649967724\n",
      "current acceptance ratio = 0.6680080482897385\n",
      "currently working on step 498\n"
     ]
    },
    {
     "name": "stderr",
     "output_type": "stream",
     "text": [
      "100%|██████████| 99/99 [00:32<00:00,  3.07it/s]\n"
     ]
    },
    {
     "name": "stdout",
     "output_type": "stream",
     "text": [
      "initial_potential =  80121.17781723806\n",
      "final_potential =  80362.23549330233\n",
      "energy_change =  0.6610854752943851\n",
      "p accept =  0.5162906095188475\n",
      "current step size = 0.0010383245649967724\n",
      "current acceptance ratio = 0.6686746987951807\n",
      "currently working on step 499\n"
     ]
    },
    {
     "name": "stderr",
     "output_type": "stream",
     "text": [
      "100%|██████████| 100/100 [00:32<00:00,  3.06it/s]\n"
     ]
    },
    {
     "name": "stdout",
     "output_type": "stream",
     "text": [
      "initial_potential =  80362.23549330233\n",
      "final_potential =  80493.55946060932\n",
      "energy_change =  0.3164276462048292\n",
      "p accept =  0.7287477373168241\n",
      "current step size = 0.0010383245649967724\n",
      "current acceptance ratio = 0.6693386773547094\n",
      "currently working on step 500\n"
     ]
    },
    {
     "name": "stderr",
     "output_type": "stream",
     "text": [
      "100%|██████████| 97/97 [00:31<00:00,  3.07it/s]\n"
     ]
    },
    {
     "name": "stdout",
     "output_type": "stream",
     "text": [
      "initial_potential =  80493.55946060932\n",
      "final_potential =  80191.1196298906\n",
      "energy_change =  -0.699373395415023\n",
      "p accept =  2.0124912760415974\n",
      "current step size = 0.0010383245649967724\n",
      "current acceptance ratio = 0.67\n",
      "currently working on step 501\n"
     ]
    },
    {
     "name": "stderr",
     "output_type": "stream",
     "text": [
      "100%|██████████| 97/97 [00:31<00:00,  3.07it/s]\n"
     ]
    },
    {
     "name": "stdout",
     "output_type": "stream",
     "text": [
      "initial_potential =  80191.1196298906\n",
      "final_potential =  80169.49890774366\n",
      "energy_change =  0.033552029461134225\n",
      "p accept =  0.9670045971944018\n",
      "current step size = 0.0010383245649967724\n",
      "current acceptance ratio = 0.6706586826347305\n",
      "currently working on step 502\n"
     ]
    },
    {
     "name": "stderr",
     "output_type": "stream",
     "text": [
      "100%|██████████| 99/99 [00:32<00:00,  3.06it/s]\n"
     ]
    },
    {
     "name": "stdout",
     "output_type": "stream",
     "text": [
      "initial_potential =  80169.49890774366\n",
      "final_potential =  80505.24230822995\n",
      "energy_change =  0.8051470867358148\n",
      "p accept =  0.44702217069164313\n",
      "current step size = 0.0010383245649967724\n",
      "current acceptance ratio = 0.6713147410358565\n",
      "currently working on step 503\n"
     ]
    },
    {
     "name": "stderr",
     "output_type": "stream",
     "text": [
      "100%|██████████| 97/97 [00:31<00:00,  3.07it/s]\n"
     ]
    },
    {
     "name": "stdout",
     "output_type": "stream",
     "text": [
      "initial_potential =  80505.24230822995\n",
      "final_potential =  80254.59002278294\n",
      "energy_change =  -0.7322889713104814\n",
      "p accept =  2.079835847880015\n",
      "current step size = 0.0010383245649967724\n",
      "current acceptance ratio = 0.6719681908548708\n",
      "currently working on step 504\n"
     ]
    },
    {
     "name": "stderr",
     "output_type": "stream",
     "text": [
      "100%|██████████| 100/100 [00:32<00:00,  3.07it/s]\n"
     ]
    },
    {
     "name": "stdout",
     "output_type": "stream",
     "text": [
      "initial_potential =  80254.59002278294\n",
      "final_potential =  80863.48654853382\n",
      "energy_change =  1.4924305856693536\n",
      "p accept =  0.22482553317586354\n",
      "current step size = 0.0010383245649967724\n",
      "current acceptance ratio = 0.6706349206349206\n",
      "currently working on step 505\n"
     ]
    },
    {
     "name": "stderr",
     "output_type": "stream",
     "text": [
      "100%|██████████| 100/100 [00:32<00:00,  3.07it/s]\n"
     ]
    },
    {
     "name": "stdout",
     "output_type": "stream",
     "text": [
      "initial_potential =  80254.59002278294\n",
      "final_potential =  80693.24597809973\n",
      "energy_change =  1.194572035688907\n",
      "p accept =  0.3028335283959515\n",
      "current step size = 0.0010383245649967724\n",
      "current acceptance ratio = 0.6693069306930693\n",
      "currently working on step 506\n"
     ]
    },
    {
     "name": "stderr",
     "output_type": "stream",
     "text": [
      "100%|██████████| 100/100 [00:32<00:00,  3.07it/s]\n"
     ]
    },
    {
     "name": "stdout",
     "output_type": "stream",
     "text": [
      "initial_potential =  80254.59002278294\n",
      "final_potential =  80227.661426185\n",
      "energy_change =  -0.06969110487261787\n",
      "p accept =  1.072176939865009\n",
      "current step size = 0.0010383245649967724\n",
      "current acceptance ratio = 0.6699604743083004\n",
      "currently working on step 507\n"
     ]
    },
    {
     "name": "stderr",
     "output_type": "stream",
     "text": [
      "100%|██████████| 100/100 [00:32<00:00,  3.06it/s]\n"
     ]
    },
    {
     "name": "stdout",
     "output_type": "stream",
     "text": [
      "initial_potential =  80227.661426185\n",
      "final_potential =  80239.06285115828\n",
      "energy_change =  0.2676980331307277\n",
      "p accept =  0.7651387927879879\n",
      "current step size = 0.0010383245649967724\n",
      "current acceptance ratio = 0.6686390532544378\n",
      "currently working on step 508\n"
     ]
    },
    {
     "name": "stderr",
     "output_type": "stream",
     "text": [
      "100%|██████████| 100/100 [00:31<00:00,  3.13it/s]\n"
     ]
    },
    {
     "name": "stdout",
     "output_type": "stream",
     "text": [
      "initial_potential =  80227.661426185\n",
      "final_potential =  80153.71660613334\n",
      "energy_change =  0.0006865251925773919\n",
      "p accept =  0.9993137104119234\n",
      "current step size = 0.0010383245649967724\n",
      "current acceptance ratio = 0.6692913385826772\n",
      "currently working on step 509\n"
     ]
    },
    {
     "name": "stderr",
     "output_type": "stream",
     "text": [
      "100%|██████████| 101/101 [00:32<00:00,  3.16it/s]\n"
     ]
    },
    {
     "name": "stdout",
     "output_type": "stream",
     "text": [
      "initial_potential =  80153.71660613334\n",
      "final_potential =  80154.81596111556\n",
      "energy_change =  -0.06907533528283238\n",
      "p accept =  1.0715169291386928\n",
      "current step size = 0.0010383245649967724\n",
      "current acceptance ratio = 0.6699410609037328\n",
      "currently working on step 510\n"
     ]
    },
    {
     "name": "stderr",
     "output_type": "stream",
     "text": [
      "100%|██████████| 98/98 [00:31<00:00,  3.16it/s]\n"
     ]
    },
    {
     "name": "stdout",
     "output_type": "stream",
     "text": [
      "initial_potential =  80154.81596111556\n",
      "final_potential =  80370.7133161953\n",
      "energy_change =  0.5059870226541534\n",
      "p accept =  0.6029101956271969\n",
      "current step size = 0.0010383245649967724\n",
      "current acceptance ratio = 0.6686274509803921\n",
      "currently working on step 511\n"
     ]
    },
    {
     "name": "stderr",
     "output_type": "stream",
     "text": [
      "100%|██████████| 100/100 [00:31<00:00,  3.16it/s]\n"
     ]
    },
    {
     "name": "stdout",
     "output_type": "stream",
     "text": [
      "initial_potential =  80154.81596111556\n",
      "final_potential =  80348.89555022043\n",
      "energy_change =  0.28095056384336203\n",
      "p accept =  0.7550656621019016\n",
      "current step size = 0.0010383245649967724\n",
      "current acceptance ratio = 0.6673189823874756\n",
      "currently working on step 512\n"
     ]
    },
    {
     "name": "stderr",
     "output_type": "stream",
     "text": [
      "100%|██████████| 101/101 [00:31<00:00,  3.17it/s]\n"
     ]
    },
    {
     "name": "stdout",
     "output_type": "stream",
     "text": [
      "initial_potential =  80154.81596111556\n",
      "final_potential =  80833.97201996959\n",
      "energy_change =  1.958916951320134\n",
      "p accept =  0.14101106009077677\n",
      "current step size = 0.0010383245649967724\n",
      "current acceptance ratio = 0.666015625\n",
      "currently working on step 513\n"
     ]
    },
    {
     "name": "stderr",
     "output_type": "stream",
     "text": [
      "100%|██████████| 99/99 [00:31<00:00,  3.16it/s]\n"
     ]
    },
    {
     "name": "stdout",
     "output_type": "stream",
     "text": [
      "initial_potential =  80154.81596111556\n",
      "final_potential =  80229.93719340976\n",
      "energy_change =  0.41638628486543894\n",
      "p accept =  0.6594254951909603\n",
      "current step size = 0.0010383245649967724\n",
      "current acceptance ratio = 0.6666666666666666\n",
      "currently working on step 514\n"
     ]
    },
    {
     "name": "stderr",
     "output_type": "stream",
     "text": [
      "100%|██████████| 101/101 [00:31<00:00,  3.16it/s]\n"
     ]
    },
    {
     "name": "stdout",
     "output_type": "stream",
     "text": [
      "initial_potential =  80229.93719340976\n",
      "final_potential =  80399.26190090559\n",
      "energy_change =  0.36823043558979407\n",
      "p accept =  0.6919577116322553\n",
      "current step size = 0.0010383245649967724\n",
      "current acceptance ratio = 0.6673151750972762\n",
      "currently working on step 515\n"
     ]
    },
    {
     "name": "stderr",
     "output_type": "stream",
     "text": [
      "100%|██████████| 100/100 [00:31<00:00,  3.15it/s]\n"
     ]
    },
    {
     "name": "stdout",
     "output_type": "stream",
     "text": [
      "initial_potential =  80399.26190090559\n",
      "final_potential =  79955.00951054138\n",
      "energy_change =  -1.185608533793129\n",
      "p accept =  3.272677750635957\n",
      "current step size = 0.0010383245649967724\n",
      "current acceptance ratio = 0.6679611650485436\n",
      "currently working on step 516\n"
     ]
    },
    {
     "name": "stderr",
     "output_type": "stream",
     "text": [
      "100%|██████████| 100/100 [00:31<00:00,  3.16it/s]\n"
     ]
    },
    {
     "name": "stdout",
     "output_type": "stream",
     "text": [
      "initial_potential =  79955.00951054138\n",
      "final_potential =  80456.09533363329\n",
      "energy_change =  1.4811561736860313\n",
      "p accept =  0.22737465176586338\n",
      "current step size = 0.0010383245649967724\n",
      "current acceptance ratio = 0.6686046511627907\n",
      "currently working on step 517\n"
     ]
    },
    {
     "name": "stderr",
     "output_type": "stream",
     "text": [
      "100%|██████████| 101/101 [00:31<00:00,  3.16it/s]\n"
     ]
    },
    {
     "name": "stdout",
     "output_type": "stream",
     "text": [
      "initial_potential =  80456.09533363329\n",
      "final_potential =  80170.60236535943\n",
      "energy_change =  -0.6822610371164046\n",
      "p accept =  1.9783457923676686\n",
      "current step size = 0.0010383245649967724\n",
      "current acceptance ratio = 0.6692456479690522\n",
      "currently working on step 518\n"
     ]
    },
    {
     "name": "stderr",
     "output_type": "stream",
     "text": [
      "100%|██████████| 101/101 [00:31<00:00,  3.16it/s]\n"
     ]
    },
    {
     "name": "stdout",
     "output_type": "stream",
     "text": [
      "initial_potential =  80170.60236535943\n",
      "final_potential =  79839.04123330706\n",
      "energy_change =  -0.7573068066267297\n",
      "p accept =  2.1325251769618894\n",
      "current step size = 0.0010383245649967724\n",
      "current acceptance ratio = 0.6698841698841699\n",
      "currently working on step 519\n"
     ]
    },
    {
     "name": "stderr",
     "output_type": "stream",
     "text": [
      "100%|██████████| 99/99 [00:31<00:00,  3.15it/s]\n"
     ]
    },
    {
     "name": "stdout",
     "output_type": "stream",
     "text": [
      "initial_potential =  79839.04123330706\n",
      "final_potential =  80337.72518550309\n",
      "energy_change =  1.332945701549761\n",
      "p accept =  0.2636993365509203\n",
      "current step size = 0.0010383245649967724\n",
      "current acceptance ratio = 0.6685934489402697\n",
      "currently working on step 520\n"
     ]
    },
    {
     "name": "stderr",
     "output_type": "stream",
     "text": [
      "100%|██████████| 97/97 [00:30<00:00,  3.17it/s]\n"
     ]
    },
    {
     "name": "stdout",
     "output_type": "stream",
     "text": [
      "initial_potential =  79839.04123330706\n",
      "final_potential =  79866.78026843307\n",
      "energy_change =  0.17864947603084147\n",
      "p accept =  0.836399025926465\n",
      "current step size = 0.0010383245649967724\n",
      "current acceptance ratio = 0.6692307692307692\n",
      "currently working on step 521\n"
     ]
    },
    {
     "name": "stderr",
     "output_type": "stream",
     "text": [
      "100%|██████████| 97/97 [00:30<00:00,  3.18it/s]\n"
     ]
    },
    {
     "name": "stdout",
     "output_type": "stream",
     "text": [
      "initial_potential =  79866.78026843307\n",
      "final_potential =  79748.91404370888\n",
      "energy_change =  -0.35090813058195636\n",
      "p accept =  1.4203568325624911\n",
      "current step size = 0.0010383245649967724\n",
      "current acceptance ratio = 0.6698656429942419\n",
      "currently working on step 522\n"
     ]
    },
    {
     "name": "stderr",
     "output_type": "stream",
     "text": [
      "100%|██████████| 100/100 [00:31<00:00,  3.15it/s]\n"
     ]
    },
    {
     "name": "stdout",
     "output_type": "stream",
     "text": [
      "initial_potential =  79748.91404370888\n",
      "final_potential =  79660.45901577522\n",
      "energy_change =  -0.35472598689375445\n",
      "p accept =  1.4257899156265341\n",
      "current step size = 0.0010383245649967724\n",
      "current acceptance ratio = 0.6704980842911877\n",
      "currently working on step 523\n"
     ]
    },
    {
     "name": "stderr",
     "output_type": "stream",
     "text": [
      "100%|██████████| 98/98 [00:31<00:00,  3.14it/s]\n"
     ]
    },
    {
     "name": "stdout",
     "output_type": "stream",
     "text": [
      "initial_potential =  79660.45901577522\n",
      "final_potential =  80200.93828296165\n",
      "energy_change =  1.3992403501761146\n",
      "p accept =  0.24678436245144608\n",
      "current step size = 0.0010383245649967724\n",
      "current acceptance ratio = 0.6692160611854685\n",
      "currently working on step 524\n"
     ]
    },
    {
     "name": "stderr",
     "output_type": "stream",
     "text": [
      "100%|██████████| 101/101 [00:31<00:00,  3.16it/s]\n"
     ]
    },
    {
     "name": "stdout",
     "output_type": "stream",
     "text": [
      "initial_potential =  79660.45901577522\n",
      "final_potential =  80002.95127831728\n",
      "energy_change =  0.7166887757484801\n",
      "p accept =  0.4883666732080937\n",
      "current step size = 0.0010383245649967724\n",
      "current acceptance ratio = 0.6698473282442748\n",
      "currently working on step 525\n"
     ]
    },
    {
     "name": "stderr",
     "output_type": "stream",
     "text": [
      "100%|██████████| 100/100 [00:31<00:00,  3.18it/s]\n"
     ]
    },
    {
     "name": "stdout",
     "output_type": "stream",
     "text": [
      "initial_potential =  80002.95127831728\n",
      "final_potential =  80485.069353538\n",
      "energy_change =  1.2680556842824444\n",
      "p accept =  0.2813781782816081\n",
      "current step size = 0.0010383245649967724\n",
      "current acceptance ratio = 0.6704761904761904\n",
      "currently working on step 526\n"
     ]
    },
    {
     "name": "stderr",
     "output_type": "stream",
     "text": [
      "100%|██████████| 99/99 [00:31<00:00,  3.16it/s]\n"
     ]
    },
    {
     "name": "stdout",
     "output_type": "stream",
     "text": [
      "initial_potential =  80485.069353538\n",
      "final_potential =  80747.2295776602\n",
      "energy_change =  0.6185823241830803\n",
      "p accept =  0.5387076092518813\n",
      "current step size = 0.0010383245649967724\n",
      "current acceptance ratio = 0.6711026615969582\n",
      "currently working on step 527\n"
     ]
    },
    {
     "name": "stderr",
     "output_type": "stream",
     "text": [
      "100%|██████████| 98/98 [00:31<00:00,  3.16it/s]\n"
     ]
    },
    {
     "name": "stdout",
     "output_type": "stream",
     "text": [
      "initial_potential =  80747.2295776602\n",
      "final_potential =  80549.95816379483\n",
      "energy_change =  -0.38326951494673267\n",
      "p accept =  1.4670733749928364\n",
      "current step size = 0.0010383245649967724\n",
      "current acceptance ratio = 0.6717267552182163\n",
      "currently working on step 528\n"
     ]
    },
    {
     "name": "stderr",
     "output_type": "stream",
     "text": [
      "100%|██████████| 98/98 [00:31<00:00,  3.14it/s]\n"
     ]
    },
    {
     "name": "stdout",
     "output_type": "stream",
     "text": [
      "initial_potential =  80549.95816379483\n",
      "final_potential =  80354.83331718399\n",
      "energy_change =  -0.49070719053270295\n",
      "p accept =  1.633470986804474\n",
      "current step size = 0.0010383245649967724\n",
      "current acceptance ratio = 0.6723484848484849\n",
      "currently working on step 529\n"
     ]
    },
    {
     "name": "stderr",
     "output_type": "stream",
     "text": [
      "100%|██████████| 100/100 [00:31<00:00,  3.16it/s]\n"
     ]
    },
    {
     "name": "stdout",
     "output_type": "stream",
     "text": [
      "initial_potential =  80354.83331718399\n",
      "final_potential =  80013.19579703391\n",
      "energy_change =  -1.2195411449065432\n",
      "p accept =  3.3856338618055304\n",
      "current step size = 0.0010383245649967724\n",
      "current acceptance ratio = 0.6729678638941399\n",
      "currently working on step 530\n"
     ]
    },
    {
     "name": "stderr",
     "output_type": "stream",
     "text": [
      "100%|██████████| 100/100 [00:31<00:00,  3.17it/s]\n"
     ]
    },
    {
     "name": "stdout",
     "output_type": "stream",
     "text": [
      "initial_potential =  80013.19579703391\n",
      "final_potential =  79704.13205974385\n",
      "energy_change =  -0.751202704384923\n",
      "p accept =  2.1195476735475216\n",
      "current step size = 0.0010383245649967724\n",
      "current acceptance ratio = 0.6735849056603773\n",
      "currently working on step 531\n"
     ]
    },
    {
     "name": "stderr",
     "output_type": "stream",
     "text": [
      "100%|██████████| 98/98 [00:31<00:00,  3.15it/s]\n"
     ]
    },
    {
     "name": "stdout",
     "output_type": "stream",
     "text": [
      "initial_potential =  79704.13205974385\n",
      "final_potential =  79761.51344331836\n",
      "energy_change =  0.03688376647187397\n",
      "p accept =  0.9637881533362328\n",
      "current step size = 0.0010383245649967724\n",
      "current acceptance ratio = 0.6741996233521658\n",
      "currently working on step 532\n"
     ]
    },
    {
     "name": "stderr",
     "output_type": "stream",
     "text": [
      "100%|██████████| 100/100 [00:31<00:00,  3.14it/s]\n"
     ]
    },
    {
     "name": "stdout",
     "output_type": "stream",
     "text": [
      "initial_potential =  79761.51344331836\n",
      "final_potential =  80046.57989848018\n",
      "energy_change =  0.9635045233881101\n",
      "p accept =  0.381553377441515\n",
      "current step size = 0.0010383245649967724\n",
      "current acceptance ratio = 0.674812030075188\n",
      "currently working on step 533\n"
     ]
    },
    {
     "name": "stderr",
     "output_type": "stream",
     "text": [
      "100%|██████████| 99/99 [00:31<00:00,  3.16it/s]\n"
     ]
    },
    {
     "name": "stdout",
     "output_type": "stream",
     "text": [
      "initial_potential =  80046.57989848018\n",
      "final_potential =  80093.99175381106\n",
      "energy_change =  0.45941359136486426\n",
      "p accept =  0.6316539442504502\n",
      "current step size = 0.0010383245649967724\n",
      "current acceptance ratio = 0.6754221388367729\n",
      "currently working on step 534\n"
     ]
    },
    {
     "name": "stderr",
     "output_type": "stream",
     "text": [
      "100%|██████████| 97/97 [00:30<00:00,  3.14it/s]\n"
     ]
    },
    {
     "name": "stdout",
     "output_type": "stream",
     "text": [
      "initial_potential =  80093.99175381106\n",
      "final_potential =  79838.67384310161\n",
      "energy_change =  -1.0078191553475335\n",
      "p accept =  2.739619810135443\n",
      "current step size = 0.0010383245649967724\n",
      "current acceptance ratio = 0.6760299625468165\n",
      "currently working on step 535\n"
     ]
    },
    {
     "name": "stderr",
     "output_type": "stream",
     "text": [
      "100%|██████████| 99/99 [00:31<00:00,  3.14it/s]\n"
     ]
    },
    {
     "name": "stdout",
     "output_type": "stream",
     "text": [
      "initial_potential =  79838.67384310161\n",
      "final_potential =  80104.64110125732\n",
      "energy_change =  0.5446723604691215\n",
      "p accept =  0.5800317935554528\n",
      "current step size = 0.0010383245649967724\n",
      "current acceptance ratio = 0.6747663551401869\n",
      "currently working on step 536\n"
     ]
    },
    {
     "name": "stderr",
     "output_type": "stream",
     "text": [
      "100%|██████████| 99/99 [00:31<00:00,  3.14it/s]\n"
     ]
    },
    {
     "name": "stdout",
     "output_type": "stream",
     "text": [
      "initial_potential =  79838.67384310161\n",
      "final_potential =  80284.36590458448\n",
      "energy_change =  1.1628605732112192\n",
      "p accept =  0.3125907120991179\n",
      "current step size = 0.0010383245649967724\n",
      "current acceptance ratio = 0.6753731343283582\n",
      "currently working on step 537\n"
     ]
    },
    {
     "name": "stderr",
     "output_type": "stream",
     "text": [
      "100%|██████████| 97/97 [00:30<00:00,  3.14it/s]\n"
     ]
    },
    {
     "name": "stdout",
     "output_type": "stream",
     "text": [
      "initial_potential =  80284.36590458448\n",
      "final_potential =  80047.04272440085\n",
      "energy_change =  -0.7867780058877543\n",
      "p accept =  2.1963085206704025\n",
      "current step size = 0.0010383245649967724\n",
      "current acceptance ratio = 0.6759776536312849\n",
      "currently working on step 538\n"
     ]
    },
    {
     "name": "stderr",
     "output_type": "stream",
     "text": [
      "100%|██████████| 98/98 [00:31<00:00,  3.15it/s]\n"
     ]
    },
    {
     "name": "stdout",
     "output_type": "stream",
     "text": [
      "initial_potential =  80047.04272440085\n",
      "final_potential =  79996.24338562883\n",
      "energy_change =  -0.22182985598919913\n",
      "p accept =  1.2483589589936943\n",
      "current step size = 0.0010383245649967724\n",
      "current acceptance ratio = 0.6765799256505576\n",
      "currently working on step 539\n"
     ]
    },
    {
     "name": "stderr",
     "output_type": "stream",
     "text": [
      "100%|██████████| 101/101 [00:32<00:00,  3.14it/s]\n"
     ]
    },
    {
     "name": "stdout",
     "output_type": "stream",
     "text": [
      "initial_potential =  79996.24338562883\n",
      "final_potential =  80248.12347514756\n",
      "energy_change =  0.6275083953514695\n",
      "p accept =  0.5339204637778515\n",
      "current step size = 0.0010383245649967724\n",
      "current acceptance ratio = 0.6753246753246753\n",
      "currently working on step 540\n"
     ]
    },
    {
     "name": "stderr",
     "output_type": "stream",
     "text": [
      "100%|██████████| 101/101 [00:32<00:00,  3.15it/s]\n"
     ]
    },
    {
     "name": "stdout",
     "output_type": "stream",
     "text": [
      "initial_potential =  79996.24338562883\n",
      "final_potential =  80053.10449654037\n",
      "energy_change =  0.29729233105899766\n",
      "p accept =  0.7428268292651532\n",
      "current step size = 0.0010383245649967724\n",
      "current acceptance ratio = 0.6759259259259259\n",
      "currently working on step 541\n"
     ]
    },
    {
     "name": "stderr",
     "output_type": "stream",
     "text": [
      "100%|██████████| 98/98 [00:31<00:00,  3.13it/s]\n"
     ]
    },
    {
     "name": "stdout",
     "output_type": "stream",
     "text": [
      "initial_potential =  80053.10449654037\n",
      "final_potential =  80142.32167421302\n",
      "energy_change =  0.17022363253636286\n",
      "p accept =  0.8434761667885119\n",
      "current step size = 0.0010383245649967724\n",
      "current acceptance ratio = 0.6765249537892791\n",
      "currently working on step 542\n"
     ]
    },
    {
     "name": "stderr",
     "output_type": "stream",
     "text": [
      "100%|██████████| 100/100 [00:31<00:00,  3.13it/s]\n"
     ]
    },
    {
     "name": "stdout",
     "output_type": "stream",
     "text": [
      "initial_potential =  80142.32167421302\n",
      "final_potential =  79905.31015560326\n",
      "energy_change =  -0.8623239595908672\n",
      "p accept =  2.3686589700761598\n",
      "current step size = 0.0010383245649967724\n",
      "current acceptance ratio = 0.6771217712177122\n",
      "currently working on step 543\n"
     ]
    },
    {
     "name": "stderr",
     "output_type": "stream",
     "text": [
      "100%|██████████| 100/100 [00:31<00:00,  3.13it/s]\n"
     ]
    },
    {
     "name": "stdout",
     "output_type": "stream",
     "text": [
      "initial_potential =  79905.31015560326\n",
      "final_potential =  80154.50285190597\n",
      "energy_change =  0.6175695368438028\n",
      "p accept =  0.5392534818778862\n",
      "current step size = 0.0010383245649967724\n",
      "current acceptance ratio = 0.6758747697974218\n",
      "currently working on step 544\n"
     ]
    },
    {
     "name": "stderr",
     "output_type": "stream",
     "text": [
      "100%|██████████| 97/97 [00:32<00:00,  2.97it/s]\n"
     ]
    },
    {
     "name": "stdout",
     "output_type": "stream",
     "text": [
      "initial_potential =  79905.31015560326\n",
      "final_potential =  80259.13568550999\n",
      "energy_change =  0.8649424597388133\n",
      "p accept =  0.4210757807406717\n",
      "current step size = 0.0010383245649967724\n",
      "current acceptance ratio = 0.6764705882352942\n",
      "currently working on step 545\n"
     ]
    },
    {
     "name": "stderr",
     "output_type": "stream",
     "text": [
      "100%|██████████| 98/98 [00:32<00:00,  3.00it/s]\n"
     ]
    },
    {
     "name": "stdout",
     "output_type": "stream",
     "text": [
      "initial_potential =  80259.13568550999\n",
      "final_potential =  80562.71604841643\n",
      "energy_change =  0.697852213634178\n",
      "p accept =  0.49765300912739946\n",
      "current step size = 0.0010383245649967724\n",
      "current acceptance ratio = 0.6770642201834862\n",
      "currently working on step 546\n"
     ]
    },
    {
     "name": "stderr",
     "output_type": "stream",
     "text": [
      "100%|██████████| 101/101 [00:33<00:00,  3.01it/s]\n"
     ]
    },
    {
     "name": "stdout",
     "output_type": "stream",
     "text": [
      "initial_potential =  80562.71604841643\n",
      "final_potential =  80472.7848278883\n",
      "energy_change =  -0.027189509943127632\n",
      "p accept =  1.027562517626981\n",
      "current step size = 0.0010383245649967724\n",
      "current acceptance ratio = 0.6776556776556777\n",
      "currently working on step 547\n"
     ]
    },
    {
     "name": "stderr",
     "output_type": "stream",
     "text": [
      "100%|██████████| 97/97 [00:32<00:00,  3.00it/s]\n"
     ]
    },
    {
     "name": "stdout",
     "output_type": "stream",
     "text": [
      "initial_potential =  80472.7848278883\n",
      "final_potential =  80016.03844186952\n",
      "energy_change =  -1.587191439641174\n",
      "p accept =  4.889995775796808\n",
      "current step size = 0.0010383245649967724\n",
      "current acceptance ratio = 0.6782449725776966\n",
      "currently working on step 548\n"
     ]
    },
    {
     "name": "stderr",
     "output_type": "stream",
     "text": [
      "100%|██████████| 100/100 [00:33<00:00,  3.01it/s]\n"
     ]
    },
    {
     "name": "stdout",
     "output_type": "stream",
     "text": [
      "initial_potential =  80016.03844186952\n",
      "final_potential =  80524.06482995617\n",
      "energy_change =  1.3755039829411544\n",
      "p accept =  0.2527122010666964\n",
      "current step size = 0.0010383245649967724\n",
      "current acceptance ratio = 0.677007299270073\n",
      "currently working on step 549\n"
     ]
    },
    {
     "name": "stderr",
     "output_type": "stream",
     "text": [
      "100%|██████████| 99/99 [00:33<00:00,  3.00it/s]\n"
     ]
    },
    {
     "name": "stdout",
     "output_type": "stream",
     "text": [
      "initial_potential =  80016.03844186952\n",
      "final_potential =  80444.28956859911\n",
      "energy_change =  1.215817598393187\n",
      "p accept =  0.29646752380654057\n",
      "current step size = 0.0010383245649967724\n",
      "current acceptance ratio = 0.6757741347905283\n",
      "currently working on step 550\n"
     ]
    },
    {
     "name": "stderr",
     "output_type": "stream",
     "text": [
      "100%|██████████| 98/98 [00:32<00:00,  3.01it/s]\n"
     ]
    },
    {
     "name": "stdout",
     "output_type": "stream",
     "text": [
      "initial_potential =  80016.03844186952\n",
      "final_potential =  79970.96594780864\n",
      "energy_change =  0.24556810373906046\n",
      "p accept =  0.7822600071489572\n",
      "current step size = 0.0010383245649967724\n",
      "current acceptance ratio = 0.6763636363636364\n",
      "currently working on step 551\n"
     ]
    },
    {
     "name": "stderr",
     "output_type": "stream",
     "text": [
      "100%|██████████| 98/98 [00:32<00:00,  2.99it/s]\n"
     ]
    },
    {
     "name": "stdout",
     "output_type": "stream",
     "text": [
      "initial_potential =  79970.96594780864\n",
      "final_potential =  80295.18573158002\n",
      "energy_change =  1.0853595787193626\n",
      "p accept =  0.3377803054454718\n",
      "current step size = 0.0010383245649967724\n",
      "current acceptance ratio = 0.676950998185118\n",
      "currently working on step 552\n"
     ]
    },
    {
     "name": "stderr",
     "output_type": "stream",
     "text": [
      "100%|██████████| 99/99 [00:33<00:00,  2.99it/s]\n"
     ]
    },
    {
     "name": "stdout",
     "output_type": "stream",
     "text": [
      "initial_potential =  80295.18573158002\n",
      "final_potential =  80176.06310785218\n",
      "energy_change =  -0.2141878460533917\n",
      "p accept =  1.2388553470252712\n",
      "current step size = 0.0010383245649967724\n",
      "current acceptance ratio = 0.677536231884058\n",
      "currently working on step 553\n"
     ]
    },
    {
     "name": "stderr",
     "output_type": "stream",
     "text": [
      "100%|██████████| 98/98 [00:32<00:00,  2.99it/s]\n"
     ]
    },
    {
     "name": "stdout",
     "output_type": "stream",
     "text": [
      "initial_potential =  80176.06310785218\n",
      "final_potential =  80168.82265042652\n",
      "energy_change =  0.03402769938111305\n",
      "p accept =  0.966544731575827\n",
      "current step size = 0.0010383245649967724\n",
      "current acceptance ratio = 0.6781193490054249\n",
      "currently working on step 554\n"
     ]
    },
    {
     "name": "stderr",
     "output_type": "stream",
     "text": [
      "100%|██████████| 100/100 [00:33<00:00,  2.97it/s]\n"
     ]
    },
    {
     "name": "stdout",
     "output_type": "stream",
     "text": [
      "initial_potential =  80168.82265042652\n",
      "final_potential =  80344.13883208504\n",
      "energy_change =  0.3840409049880691\n",
      "p accept =  0.6811035660764778\n",
      "current step size = 0.0010383245649967724\n",
      "current acceptance ratio = 0.6787003610108303\n",
      "currently working on step 555\n"
     ]
    },
    {
     "name": "stderr",
     "output_type": "stream",
     "text": [
      "100%|██████████| 97/97 [00:32<00:00,  2.98it/s]\n"
     ]
    },
    {
     "name": "stdout",
     "output_type": "stream",
     "text": [
      "initial_potential =  80344.13883208504\n",
      "final_potential =  80207.68710676457\n",
      "energy_change =  -0.5964722238131799\n",
      "p accept =  1.815702098076508\n",
      "current step size = 0.0010383245649967724\n",
      "current acceptance ratio = 0.6792792792792792\n",
      "currently working on step 556\n"
     ]
    },
    {
     "name": "stderr",
     "output_type": "stream",
     "text": [
      "100%|██████████| 99/99 [00:33<00:00,  2.98it/s]\n"
     ]
    },
    {
     "name": "stdout",
     "output_type": "stream",
     "text": [
      "initial_potential =  80207.68710676457\n",
      "final_potential =  80096.26223081203\n",
      "energy_change =  -0.18636921310098842\n",
      "p accept =  1.2048670309577931\n",
      "current step size = 0.0010383245649967724\n",
      "current acceptance ratio = 0.6798561151079137\n",
      "currently working on step 557\n"
     ]
    },
    {
     "name": "stderr",
     "output_type": "stream",
     "text": [
      "100%|██████████| 100/100 [00:33<00:00,  2.97it/s]\n"
     ]
    },
    {
     "name": "stdout",
     "output_type": "stream",
     "text": [
      "initial_potential =  80096.26223081203\n",
      "final_potential =  80267.19397048553\n",
      "energy_change =  0.5909716442110948\n",
      "p accept =  0.5537889374206225\n",
      "current step size = 0.0010383245649967724\n",
      "current acceptance ratio = 0.6804308797127468\n",
      "currently working on step 558\n"
     ]
    },
    {
     "name": "stderr",
     "output_type": "stream",
     "text": [
      "100%|██████████| 97/97 [00:32<00:00,  2.97it/s]\n"
     ]
    },
    {
     "name": "stdout",
     "output_type": "stream",
     "text": [
      "initial_potential =  80267.19397048553\n",
      "final_potential =  80187.43254360295\n",
      "energy_change =  -0.5520056316745467\n",
      "p accept =  1.7367327734075395\n",
      "current step size = 0.0010383245649967724\n",
      "current acceptance ratio = 0.6810035842293907\n",
      "currently working on step 559\n"
     ]
    },
    {
     "name": "stderr",
     "output_type": "stream",
     "text": [
      "100%|██████████| 98/98 [00:32<00:00,  2.97it/s]\n"
     ]
    },
    {
     "name": "stdout",
     "output_type": "stream",
     "text": [
      "initial_potential =  80187.43254360295\n",
      "final_potential =  79677.65969493822\n",
      "energy_change =  -1.2018977761035785\n",
      "p accept =  3.3264237438679567\n",
      "current step size = 0.0010383245649967724\n",
      "current acceptance ratio = 0.6815742397137746\n",
      "currently working on step 560\n"
     ]
    },
    {
     "name": "stderr",
     "output_type": "stream",
     "text": [
      "100%|██████████| 97/97 [00:32<00:00,  2.97it/s]\n"
     ]
    },
    {
     "name": "stdout",
     "output_type": "stream",
     "text": [
      "initial_potential =  79677.65969493822\n",
      "final_potential =  80267.56548414934\n",
      "energy_change =  2.0346801095292903\n",
      "p accept =  0.13072229263206006\n",
      "current step size = 0.0010383245649967724\n",
      "current acceptance ratio = 0.6803571428571429\n",
      "currently working on step 561\n"
     ]
    },
    {
     "name": "stderr",
     "output_type": "stream",
     "text": [
      "100%|██████████| 98/98 [00:33<00:00,  2.95it/s]\n"
     ]
    },
    {
     "name": "stdout",
     "output_type": "stream",
     "text": [
      "initial_potential =  79677.65969493822\n",
      "final_potential =  79775.57596741118\n",
      "energy_change =  0.3260446640779264\n",
      "p accept =  0.7217729493885232\n",
      "current step size = 0.0010383245649967724\n",
      "current acceptance ratio = 0.6809269162210339\n",
      "currently working on step 562\n"
     ]
    },
    {
     "name": "stderr",
     "output_type": "stream",
     "text": [
      "100%|██████████| 100/100 [00:33<00:00,  2.96it/s]\n"
     ]
    },
    {
     "name": "stdout",
     "output_type": "stream",
     "text": [
      "initial_potential =  79775.57596741118\n",
      "final_potential =  80319.09421356312\n",
      "energy_change =  1.138042088248767\n",
      "p accept =  0.320445812637714\n",
      "current step size = 0.0010383245649967724\n",
      "current acceptance ratio = 0.6814946619217082\n",
      "currently working on step 563\n"
     ]
    },
    {
     "name": "stderr",
     "output_type": "stream",
     "text": [
      "100%|██████████| 101/101 [00:34<00:00,  2.97it/s]\n"
     ]
    },
    {
     "name": "stdout",
     "output_type": "stream",
     "text": [
      "initial_potential =  80319.09421356312\n",
      "final_potential =  80338.99411487744\n",
      "energy_change =  0.11105744383530691\n",
      "p accept =  0.8948873416914563\n",
      "current step size = 0.0010383245649967724\n",
      "current acceptance ratio = 0.6820603907637656\n",
      "currently working on step 564\n"
     ]
    },
    {
     "name": "stderr",
     "output_type": "stream",
     "text": [
      "100%|██████████| 97/97 [00:32<00:00,  2.96it/s]\n"
     ]
    },
    {
     "name": "stdout",
     "output_type": "stream",
     "text": [
      "initial_potential =  80338.99411487744\n",
      "final_potential =  79971.41779275538\n",
      "energy_change =  -0.9576346139074303\n",
      "p accept =  2.6055261034375055\n",
      "current step size = 0.0010383245649967724\n",
      "current acceptance ratio = 0.6826241134751773\n",
      "currently working on step 565\n"
     ]
    },
    {
     "name": "stderr",
     "output_type": "stream",
     "text": [
      "100%|██████████| 97/97 [00:32<00:00,  2.95it/s]\n"
     ]
    },
    {
     "name": "stdout",
     "output_type": "stream",
     "text": [
      "initial_potential =  79971.41779275538\n",
      "final_potential =  80178.94392832038\n",
      "energy_change =  0.7860653740935959\n",
      "p accept =  0.45563402243281637\n",
      "current step size = 0.0010383245649967724\n",
      "current acceptance ratio = 0.6814159292035398\n",
      "currently working on step 566\n"
     ]
    },
    {
     "name": "stderr",
     "output_type": "stream",
     "text": [
      "100%|██████████| 99/99 [00:33<00:00,  2.96it/s]\n"
     ]
    },
    {
     "name": "stdout",
     "output_type": "stream",
     "text": [
      "initial_potential =  79971.41779275538\n",
      "final_potential =  80491.4766841843\n",
      "energy_change =  1.3116724526626058\n",
      "p accept =  0.2693691722592372\n",
      "current step size = 0.0010383245649967724\n",
      "current acceptance ratio = 0.6802120141342756\n",
      "currently working on step 567\n"
     ]
    },
    {
     "name": "stderr",
     "output_type": "stream",
     "text": [
      "100%|██████████| 97/97 [00:32<00:00,  2.96it/s]\n"
     ]
    },
    {
     "name": "stdout",
     "output_type": "stream",
     "text": [
      "initial_potential =  79971.41779275538\n",
      "final_potential =  80194.05635147415\n",
      "energy_change =  0.41838671907316893\n",
      "p accept =  0.6581076764172719\n",
      "current step size = 0.0010383245649967724\n",
      "current acceptance ratio = 0.6807760141093474\n",
      "currently working on step 568\n"
     ]
    },
    {
     "name": "stderr",
     "output_type": "stream",
     "text": [
      "100%|██████████| 99/99 [00:33<00:00,  2.97it/s]\n"
     ]
    },
    {
     "name": "stdout",
     "output_type": "stream",
     "text": [
      "initial_potential =  80194.05635147415\n",
      "final_potential =  80150.89406855013\n",
      "energy_change =  -0.04025916749378666\n",
      "p accept =  1.0410805534697414\n",
      "current step size = 0.0010383245649967724\n",
      "current acceptance ratio = 0.6813380281690141\n",
      "currently working on step 569\n"
     ]
    },
    {
     "name": "stderr",
     "output_type": "stream",
     "text": [
      "100%|██████████| 101/101 [00:33<00:00,  2.98it/s]\n"
     ]
    },
    {
     "name": "stdout",
     "output_type": "stream",
     "text": [
      "initial_potential =  80150.89406855013\n",
      "final_potential =  80086.187801616\n",
      "energy_change =  -0.3701440133736469\n",
      "p accept =  1.447943122822949\n",
      "current step size = 0.0010383245649967724\n",
      "current acceptance ratio = 0.6818980667838312\n",
      "currently working on step 570\n"
     ]
    },
    {
     "name": "stderr",
     "output_type": "stream",
     "text": [
      "100%|██████████| 97/97 [00:31<00:00,  3.06it/s]\n"
     ]
    },
    {
     "name": "stdout",
     "output_type": "stream",
     "text": [
      "initial_potential =  80086.187801616\n",
      "final_potential =  80332.87328759077\n",
      "energy_change =  0.6019657350843772\n",
      "p accept =  0.5477338774472826\n",
      "current step size = 0.0010383245649967724\n",
      "current acceptance ratio = 0.6807017543859649\n",
      "currently working on step 571\n"
     ]
    },
    {
     "name": "stderr",
     "output_type": "stream",
     "text": [
      "100%|██████████| 101/101 [00:33<00:00,  3.03it/s]\n"
     ]
    },
    {
     "name": "stdout",
     "output_type": "stream",
     "text": [
      "initial_potential =  80086.187801616\n",
      "final_potential =  80019.58345488473\n",
      "energy_change =  -0.3566799520049244\n",
      "p accept =  1.4285785829696178\n",
      "current step size = 0.0010383245649967724\n",
      "current acceptance ratio = 0.681260945709282\n",
      "currently working on step 572\n"
     ]
    },
    {
     "name": "stderr",
     "output_type": "stream",
     "text": [
      "100%|██████████| 100/100 [00:33<00:00,  3.01it/s]\n"
     ]
    },
    {
     "name": "stdout",
     "output_type": "stream",
     "text": [
      "initial_potential =  80019.58345488473\n",
      "final_potential =  80145.7623661803\n",
      "energy_change =  0.42913087795022875\n",
      "p accept =  0.6510747122808584\n",
      "current step size = 0.0010383245649967724\n",
      "current acceptance ratio = 0.6818181818181818\n",
      "currently working on step 573\n"
     ]
    },
    {
     "name": "stderr",
     "output_type": "stream",
     "text": [
      "100%|██████████| 98/98 [00:32<00:00,  3.02it/s]\n"
     ]
    },
    {
     "name": "stdout",
     "output_type": "stream",
     "text": [
      "initial_potential =  80145.7623661803\n",
      "final_potential =  80747.96089364709\n",
      "energy_change =  1.4355683316243812\n",
      "p accept =  0.237980073971513\n",
      "current step size = 0.0010383245649967724\n",
      "current acceptance ratio = 0.6823734729493892\n",
      "currently working on step 574\n"
     ]
    },
    {
     "name": "stderr",
     "output_type": "stream",
     "text": [
      "100%|██████████| 97/97 [00:32<00:00,  3.00it/s]\n"
     ]
    },
    {
     "name": "stdout",
     "output_type": "stream",
     "text": [
      "initial_potential =  80747.96089364709\n",
      "final_potential =  80701.30274614818\n",
      "energy_change =  -0.3368165952269919\n",
      "p accept =  1.4004821850656142\n",
      "current step size = 0.0010383245649967724\n",
      "current acceptance ratio = 0.6829268292682927\n",
      "currently working on step 575\n"
     ]
    },
    {
     "name": "stderr",
     "output_type": "stream",
     "text": [
      "100%|██████████| 98/98 [00:32<00:00,  3.00it/s]\n"
     ]
    },
    {
     "name": "stdout",
     "output_type": "stream",
     "text": [
      "initial_potential =  80701.30274614818\n",
      "final_potential =  80613.80756673892\n",
      "energy_change =  0.15738419169792905\n",
      "p accept =  0.8543757516845768\n",
      "current step size = 0.0010383245649967724\n",
      "current acceptance ratio = 0.6834782608695652\n",
      "currently working on step 576\n"
     ]
    },
    {
     "name": "stderr",
     "output_type": "stream",
     "text": [
      "100%|██████████| 101/101 [00:33<00:00,  3.00it/s]\n"
     ]
    },
    {
     "name": "stdout",
     "output_type": "stream",
     "text": [
      "initial_potential =  80613.80756673892\n",
      "final_potential =  80654.29263029927\n",
      "energy_change =  -0.02209075924474746\n",
      "p accept =  1.0223365667546258\n",
      "current step size = 0.0010383245649967724\n",
      "current acceptance ratio = 0.6840277777777778\n",
      "currently working on step 577\n"
     ]
    },
    {
     "name": "stderr",
     "output_type": "stream",
     "text": [
      "100%|██████████| 98/98 [00:33<00:00,  2.97it/s]\n"
     ]
    },
    {
     "name": "stdout",
     "output_type": "stream",
     "text": [
      "initial_potential =  80654.29263029927\n",
      "final_potential =  80673.53667238055\n",
      "energy_change =  -0.10659364180173725\n",
      "p accept =  1.1124820963961843\n",
      "current step size = 0.0010383245649967724\n",
      "current acceptance ratio = 0.6845753899480069\n",
      "currently working on step 578\n"
     ]
    },
    {
     "name": "stderr",
     "output_type": "stream",
     "text": [
      "100%|██████████| 100/100 [00:33<00:00,  2.99it/s]\n"
     ]
    },
    {
     "name": "stdout",
     "output_type": "stream",
     "text": [
      "initial_potential =  80673.53667238055\n",
      "final_potential =  80468.62226788572\n",
      "energy_change =  -0.4735950636677444\n",
      "p accept =  1.6057566261602827\n",
      "current step size = 0.0010383245649967724\n",
      "current acceptance ratio = 0.6851211072664359\n",
      "currently working on step 579\n"
     ]
    },
    {
     "name": "stderr",
     "output_type": "stream",
     "text": [
      "100%|██████████| 100/100 [00:33<00:00,  2.98it/s]\n"
     ]
    },
    {
     "name": "stdout",
     "output_type": "stream",
     "text": [
      "initial_potential =  80468.62226788572\n",
      "final_potential =  81055.77758635262\n",
      "energy_change =  1.3331228712340817\n",
      "p accept =  0.26365262116110566\n",
      "current step size = 0.0010383245649967724\n",
      "current acceptance ratio = 0.6839378238341969\n",
      "currently working on step 580\n"
     ]
    },
    {
     "name": "stderr",
     "output_type": "stream",
     "text": [
      "100%|██████████| 99/99 [00:33<00:00,  2.95it/s]\n"
     ]
    },
    {
     "name": "stdout",
     "output_type": "stream",
     "text": [
      "initial_potential =  80468.62226788572\n",
      "final_potential =  80714.10482440467\n",
      "energy_change =  0.5175588589627296\n",
      "p accept =  0.5959736293440345\n",
      "current step size = 0.0010383245649967724\n",
      "current acceptance ratio = 0.6827586206896552\n",
      "currently working on step 581\n"
     ]
    },
    {
     "name": "stderr",
     "output_type": "stream",
     "text": [
      "100%|██████████| 100/100 [00:33<00:00,  2.97it/s]\n"
     ]
    },
    {
     "name": "stdout",
     "output_type": "stream",
     "text": [
      "initial_potential =  80468.62226788572\n",
      "final_potential =  80527.47650699533\n",
      "energy_change =  0.20465391327161342\n",
      "p accept =  0.814929303829177\n",
      "current step size = 0.0010383245649967724\n",
      "current acceptance ratio = 0.6833046471600689\n",
      "currently working on step 582\n"
     ]
    },
    {
     "name": "stderr",
     "output_type": "stream",
     "text": [
      "100%|██████████| 100/100 [00:33<00:00,  2.98it/s]\n"
     ]
    },
    {
     "name": "stdout",
     "output_type": "stream",
     "text": [
      "initial_potential =  80527.47650699533\n",
      "final_potential =  80878.16445603028\n",
      "energy_change =  1.0052941495086998\n",
      "p accept =  0.3659369787887838\n",
      "current step size = 0.0010383245649967724\n",
      "current acceptance ratio = 0.6838487972508591\n",
      "currently working on step 583\n"
     ]
    },
    {
     "name": "stderr",
     "output_type": "stream",
     "text": [
      "100%|██████████| 97/97 [00:32<00:00,  2.94it/s]\n"
     ]
    },
    {
     "name": "stdout",
     "output_type": "stream",
     "text": [
      "initial_potential =  80878.16445603028\n",
      "final_potential =  80624.28602805143\n",
      "energy_change =  -0.45458279707236215\n",
      "p accept =  1.5755159360380664\n",
      "current step size = 0.0010383245649967724\n",
      "current acceptance ratio = 0.6843910806174958\n",
      "currently working on step 584\n"
     ]
    },
    {
     "name": "stderr",
     "output_type": "stream",
     "text": [
      "100%|██████████| 101/101 [00:34<00:00,  2.95it/s]\n"
     ]
    },
    {
     "name": "stdout",
     "output_type": "stream",
     "text": [
      "initial_potential =  80624.28602805143\n",
      "final_potential =  80143.45803513085\n",
      "energy_change =  -1.1054216564516537\n",
      "p accept =  3.0204978127208038\n",
      "current step size = 0.0010383245649967724\n",
      "current acceptance ratio = 0.684931506849315\n",
      "currently working on step 585\n"
     ]
    },
    {
     "name": "stderr",
     "output_type": "stream",
     "text": [
      "100%|██████████| 100/100 [00:33<00:00,  2.96it/s]\n"
     ]
    },
    {
     "name": "stdout",
     "output_type": "stream",
     "text": [
      "initial_potential =  80143.45803513085\n",
      "final_potential =  79975.40446257444\n",
      "energy_change =  -0.36726000177441165\n",
      "p accept =  1.443773253927074\n",
      "current step size = 0.0010383245649967724\n",
      "current acceptance ratio = 0.6854700854700855\n",
      "currently working on step 586\n"
     ]
    },
    {
     "name": "stderr",
     "output_type": "stream",
     "text": [
      "100%|██████████| 97/97 [00:32<00:00,  2.95it/s]\n"
     ]
    },
    {
     "name": "stdout",
     "output_type": "stream",
     "text": [
      "initial_potential =  79975.40446257444\n",
      "final_potential =  80152.21018511802\n",
      "energy_change =  0.3714509541168809\n",
      "p accept =  0.6897328335555041\n",
      "current step size = 0.0010383245649967724\n",
      "current acceptance ratio = 0.6860068259385665\n",
      "currently working on step 587\n"
     ]
    },
    {
     "name": "stderr",
     "output_type": "stream",
     "text": [
      "100%|██████████| 101/101 [00:34<00:00,  2.95it/s]\n"
     ]
    },
    {
     "name": "stdout",
     "output_type": "stream",
     "text": [
      "initial_potential =  80152.21018511802\n",
      "final_potential =  80463.94912525697\n",
      "energy_change =  0.5997509555891156\n",
      "p accept =  0.5489483315855416\n",
      "current step size = 0.0010383245649967724\n",
      "current acceptance ratio = 0.686541737649063\n",
      "currently working on step 588\n"
     ]
    },
    {
     "name": "stderr",
     "output_type": "stream",
     "text": [
      "100%|██████████| 97/97 [00:32<00:00,  2.96it/s]\n"
     ]
    },
    {
     "name": "stdout",
     "output_type": "stream",
     "text": [
      "initial_potential =  80463.94912525697\n",
      "final_potential =  80609.85903174391\n",
      "energy_change =  0.41208062309306115\n",
      "p accept =  0.662270879572901\n",
      "current step size = 0.0010383245649967724\n",
      "current acceptance ratio = 0.6870748299319728\n",
      "currently working on step 589\n"
     ]
    },
    {
     "name": "stderr",
     "output_type": "stream",
     "text": [
      "100%|██████████| 97/97 [00:32<00:00,  2.96it/s]\n"
     ]
    },
    {
     "name": "stdout",
     "output_type": "stream",
     "text": [
      "initial_potential =  80609.85903174391\n",
      "final_potential =  80758.44505180027\n",
      "energy_change =  0.4198642679839395\n",
      "p accept =  0.6571360081572762\n",
      "current step size = 0.0010383245649967724\n",
      "current acceptance ratio = 0.6859083191850595\n",
      "currently working on step 590\n"
     ]
    },
    {
     "name": "stderr",
     "output_type": "stream",
     "text": [
      "100%|██████████| 100/100 [00:33<00:00,  2.96it/s]\n"
     ]
    },
    {
     "name": "stdout",
     "output_type": "stream",
     "text": [
      "initial_potential =  80609.85903174391\n",
      "final_potential =  80477.16450251445\n",
      "energy_change =  -0.3008917464176193\n",
      "p accept =  1.3510630762032638\n",
      "current step size = 0.0010383245649967724\n",
      "current acceptance ratio = 0.6864406779661016\n",
      "currently working on step 591\n"
     ]
    },
    {
     "name": "stderr",
     "output_type": "stream",
     "text": [
      "100%|██████████| 98/98 [00:33<00:00,  2.96it/s]\n"
     ]
    },
    {
     "name": "stdout",
     "output_type": "stream",
     "text": [
      "initial_potential =  80477.16450251445\n",
      "final_potential =  80414.2155770673\n",
      "energy_change =  -0.1645352763007395\n",
      "p accept =  1.17884515411431\n",
      "current step size = 0.0010383245649967724\n",
      "current acceptance ratio = 0.6869712351945855\n",
      "currently working on step 592\n"
     ]
    },
    {
     "name": "stderr",
     "output_type": "stream",
     "text": [
      "100%|██████████| 97/97 [00:32<00:00,  2.95it/s]\n"
     ]
    },
    {
     "name": "stdout",
     "output_type": "stream",
     "text": [
      "initial_potential =  80414.2155770673\n",
      "final_potential =  80378.4169871465\n",
      "energy_change =  0.3526919027790427\n",
      "p accept =  0.7027936888071367\n",
      "current step size = 0.0010383245649967724\n",
      "current acceptance ratio = 0.6858108108108109\n",
      "currently working on step 593\n"
     ]
    },
    {
     "name": "stderr",
     "output_type": "stream",
     "text": [
      "100%|██████████| 99/99 [00:33<00:00,  2.95it/s]\n"
     ]
    },
    {
     "name": "stdout",
     "output_type": "stream",
     "text": [
      "initial_potential =  80414.2155770673\n",
      "final_potential =  80252.25534638969\n",
      "energy_change =  -0.009267933026421815\n",
      "p accept =  1.009311013303235\n",
      "current step size = 0.0010383245649967724\n",
      "current acceptance ratio = 0.6863406408094435\n",
      "currently working on step 594\n"
     ]
    },
    {
     "name": "stderr",
     "output_type": "stream",
     "text": [
      "100%|██████████| 98/98 [00:33<00:00,  2.96it/s]\n"
     ]
    },
    {
     "name": "stdout",
     "output_type": "stream",
     "text": [
      "initial_potential =  80252.25534638969\n",
      "final_potential =  80301.66762061823\n",
      "energy_change =  0.1019547909963876\n",
      "p accept =  0.9030703776579845\n",
      "current step size = 0.0010383245649967724\n",
      "current acceptance ratio = 0.6868686868686869\n",
      "currently working on step 595\n"
     ]
    },
    {
     "name": "stderr",
     "output_type": "stream",
     "text": [
      "100%|██████████| 99/99 [00:32<00:00,  3.06it/s]\n"
     ]
    },
    {
     "name": "stdout",
     "output_type": "stream",
     "text": [
      "initial_potential =  80301.66762061823\n",
      "final_potential =  80526.7510245122\n",
      "energy_change =  0.5197877123719081\n",
      "p accept =  0.5946467707244654\n",
      "current step size = 0.0010383245649967724\n",
      "current acceptance ratio = 0.6873949579831933\n",
      "currently working on step 596\n"
     ]
    },
    {
     "name": "stderr",
     "output_type": "stream",
     "text": [
      "100%|██████████| 98/98 [00:32<00:00,  3.03it/s]\n"
     ]
    },
    {
     "name": "stdout",
     "output_type": "stream",
     "text": [
      "initial_potential =  80526.7510245122\n",
      "final_potential =  80390.92715225925\n",
      "energy_change =  -0.404392144002486\n",
      "p accept =  1.4983914169717314\n",
      "current step size = 0.0010383245649967724\n",
      "current acceptance ratio = 0.6879194630872483\n",
      "currently working on step 597\n"
     ]
    },
    {
     "name": "stderr",
     "output_type": "stream",
     "text": [
      "100%|██████████| 99/99 [00:32<00:00,  3.04it/s]\n"
     ]
    },
    {
     "name": "stdout",
     "output_type": "stream",
     "text": [
      "initial_potential =  80390.92715225925\n",
      "final_potential =  80581.69703639325\n",
      "energy_change =  0.48709956952370703\n",
      "p accept =  0.6144058538006665\n",
      "current step size = 0.0010383245649967724\n",
      "current acceptance ratio = 0.6867671691792295\n",
      "currently working on step 598\n"
     ]
    },
    {
     "name": "stderr",
     "output_type": "stream",
     "text": [
      "100%|██████████| 100/100 [00:33<00:00,  3.01it/s]\n"
     ]
    },
    {
     "name": "stdout",
     "output_type": "stream",
     "text": [
      "initial_potential =  80390.92715225925\n",
      "final_potential =  80457.48432831847\n",
      "energy_change =  -0.05752239457797259\n",
      "p accept =  1.0592089909274651\n",
      "current step size = 0.0010383245649967724\n",
      "current acceptance ratio = 0.6872909698996655\n",
      "currently working on step 599\n"
     ]
    },
    {
     "name": "stderr",
     "output_type": "stream",
     "text": [
      "100%|██████████| 101/101 [00:33<00:00,  2.98it/s]\n"
     ]
    },
    {
     "name": "stdout",
     "output_type": "stream",
     "text": [
      "initial_potential =  80457.48432831847\n",
      "final_potential =  79853.25162351667\n",
      "energy_change =  -1.4383180318400264\n",
      "p accept =  4.213602707883483\n",
      "current step size = 0.0010383245649967724\n",
      "current acceptance ratio = 0.6878130217028381\n",
      "currently working on step 600\n"
     ]
    },
    {
     "name": "stderr",
     "output_type": "stream",
     "text": [
      "100%|██████████| 101/101 [00:33<00:00,  3.00it/s]\n"
     ]
    },
    {
     "name": "stdout",
     "output_type": "stream",
     "text": [
      "initial_potential =  79853.25162351667\n",
      "final_potential =  80450.6853428802\n",
      "energy_change =  1.5976235031266697\n",
      "p accept =  0.20237689501956793\n",
      "current step size = 0.0010383245649967724\n",
      "current acceptance ratio = 0.6866666666666666\n",
      "currently working on step 601\n"
     ]
    },
    {
     "name": "stderr",
     "output_type": "stream",
     "text": [
      "100%|██████████| 100/100 [00:33<00:00,  3.00it/s]\n"
     ]
    },
    {
     "name": "stdout",
     "output_type": "stream",
     "text": [
      "initial_potential =  79853.25162351667\n",
      "final_potential =  80350.2267880024\n",
      "energy_change =  1.389175972144585\n",
      "p accept =  0.24928063420780716\n",
      "current step size = 0.0010383245649967724\n",
      "current acceptance ratio = 0.6855241264559068\n",
      "currently working on step 602\n"
     ]
    },
    {
     "name": "stderr",
     "output_type": "stream",
     "text": [
      "100%|██████████| 97/97 [00:32<00:00,  2.99it/s]\n"
     ]
    },
    {
     "name": "stdout",
     "output_type": "stream",
     "text": [
      "initial_potential =  79853.25162351667\n",
      "final_potential =  79980.3856811208\n",
      "energy_change =  0.5028682971023954\n",
      "p accept =  0.6047934421978733\n",
      "current step size = 0.0010383245649967724\n",
      "current acceptance ratio = 0.686046511627907\n",
      "currently working on step 603\n"
     ]
    },
    {
     "name": "stderr",
     "output_type": "stream",
     "text": [
      "100%|██████████| 99/99 [00:33<00:00,  2.99it/s]\n"
     ]
    },
    {
     "name": "stdout",
     "output_type": "stream",
     "text": [
      "initial_potential =  79980.3856811208\n",
      "final_potential =  79840.80458935667\n",
      "energy_change =  -0.49491074681282043\n",
      "p accept =  1.6403518258946637\n",
      "current step size = 0.0010383245649967724\n",
      "current acceptance ratio = 0.6865671641791045\n",
      "currently working on step 604\n"
     ]
    },
    {
     "name": "stderr",
     "output_type": "stream",
     "text": [
      "100%|██████████| 101/101 [00:33<00:00,  2.99it/s]\n"
     ]
    },
    {
     "name": "stdout",
     "output_type": "stream",
     "text": [
      "initial_potential =  79840.80458935667\n",
      "final_potential =  80284.6311892673\n",
      "energy_change =  1.05865872441791\n",
      "p accept =  0.3469208148286034\n",
      "current step size = 0.0010383245649967724\n",
      "current acceptance ratio = 0.6854304635761589\n",
      "currently working on step 605\n"
     ]
    },
    {
     "name": "stderr",
     "output_type": "stream",
     "text": [
      "100%|██████████| 98/98 [00:33<00:00,  2.96it/s]\n"
     ]
    },
    {
     "name": "stdout",
     "output_type": "stream",
     "text": [
      "initial_potential =  79840.80458935667\n",
      "final_potential =  80454.23191435807\n",
      "energy_change =  1.7039394251769409\n",
      "p accept =  0.18196527165833587\n",
      "current step size = 0.0010383245649967724\n",
      "current acceptance ratio = 0.684297520661157\n",
      "currently working on step 606\n"
     ]
    },
    {
     "name": "stderr",
     "output_type": "stream",
     "text": [
      "100%|██████████| 98/98 [00:32<00:00,  3.00it/s]\n"
     ]
    },
    {
     "name": "stdout",
     "output_type": "stream",
     "text": [
      "initial_potential =  79840.80458935667\n",
      "final_potential =  80303.82615324722\n",
      "energy_change =  1.3287243954837322\n",
      "p accept =  0.2648148449546301\n",
      "current step size = 0.0010383245649967724\n",
      "current acceptance ratio = 0.6831683168316832\n",
      "currently working on step 607\n"
     ]
    },
    {
     "name": "stderr",
     "output_type": "stream",
     "text": [
      "100%|██████████| 99/99 [00:33<00:00,  2.98it/s]\n"
     ]
    },
    {
     "name": "stdout",
     "output_type": "stream",
     "text": [
      "initial_potential =  79840.80458935667\n",
      "final_potential =  80404.19681419567\n",
      "energy_change =  1.4998913509189151\n",
      "p accept =  0.22315440435232367\n",
      "current step size = 0.0010383245649967724\n",
      "current acceptance ratio = 0.6820428336079077\n",
      "currently working on step 608\n"
     ]
    },
    {
     "name": "stderr",
     "output_type": "stream",
     "text": [
      "100%|██████████| 98/98 [00:33<00:00,  2.95it/s]\n"
     ]
    },
    {
     "name": "stdout",
     "output_type": "stream",
     "text": [
      "initial_potential =  79840.80458935667\n",
      "final_potential =  80035.46532122855\n",
      "energy_change =  0.6619342346093617\n",
      "p accept =  0.5158525889680903\n",
      "current step size = 0.0010383245649967724\n",
      "current acceptance ratio = 0.680921052631579\n",
      "currently working on step 609\n"
     ]
    },
    {
     "name": "stderr",
     "output_type": "stream",
     "text": [
      "100%|██████████| 97/97 [00:32<00:00,  2.97it/s]\n"
     ]
    },
    {
     "name": "stdout",
     "output_type": "stream",
     "text": [
      "initial_potential =  79840.80458935667\n",
      "final_potential =  80186.11099434945\n",
      "energy_change =  0.9231210288126022\n",
      "p accept =  0.3972771906085305\n",
      "current step size = 0.0010383245649967724\n",
      "current acceptance ratio = 0.6814449917898193\n",
      "currently working on step 610\n"
     ]
    },
    {
     "name": "stderr",
     "output_type": "stream",
     "text": [
      "100%|██████████| 97/97 [00:32<00:00,  2.99it/s]\n"
     ]
    },
    {
     "name": "stdout",
     "output_type": "stream",
     "text": [
      "initial_potential =  80186.11099434945\n",
      "final_potential =  80617.92500069606\n",
      "energy_change =  1.0458175598760135\n",
      "p accept =  0.3514044077619327\n",
      "current step size = 0.0010383245649967724\n",
      "current acceptance ratio = 0.6819672131147541\n",
      "currently working on step 611\n"
     ]
    },
    {
     "name": "stderr",
     "output_type": "stream",
     "text": [
      "100%|██████████| 97/97 [00:32<00:00,  2.96it/s]\n"
     ]
    },
    {
     "name": "stdout",
     "output_type": "stream",
     "text": [
      "initial_potential =  80617.92500069606\n",
      "final_potential =  80438.69503509514\n",
      "energy_change =  -0.19665701017947868\n",
      "p accept =  1.2173264385166898\n",
      "current step size = 0.0010383245649967724\n",
      "current acceptance ratio = 0.6824877250409165\n",
      "currently working on step 612\n"
     ]
    },
    {
     "name": "stderr",
     "output_type": "stream",
     "text": [
      "100%|██████████| 97/97 [00:32<00:00,  2.96it/s]\n"
     ]
    },
    {
     "name": "stdout",
     "output_type": "stream",
     "text": [
      "initial_potential =  80438.69503509514\n",
      "final_potential =  80323.04233453445\n",
      "energy_change =  -0.16954717418411747\n",
      "p accept =  1.1847682361897585\n",
      "current step size = 0.0010383245649967724\n",
      "current acceptance ratio = 0.6830065359477124\n",
      "currently working on step 613\n"
     ]
    },
    {
     "name": "stderr",
     "output_type": "stream",
     "text": [
      "100%|██████████| 98/98 [00:33<00:00,  2.97it/s]\n"
     ]
    },
    {
     "name": "stdout",
     "output_type": "stream",
     "text": [
      "initial_potential =  80323.04233453445\n",
      "final_potential =  80488.76296193933\n",
      "energy_change =  0.37894803285598755\n",
      "p accept =  0.6845811874710672\n",
      "current step size = 0.0010383245649967724\n",
      "current acceptance ratio = 0.6835236541598695\n",
      "currently working on step 614\n"
     ]
    },
    {
     "name": "stderr",
     "output_type": "stream",
     "text": [
      "100%|██████████| 97/97 [00:32<00:00,  2.97it/s]\n"
     ]
    },
    {
     "name": "stdout",
     "output_type": "stream",
     "text": [
      "initial_potential =  80488.76296193933\n",
      "final_potential =  80036.08359507841\n",
      "energy_change =  -1.205827746365685\n",
      "p accept =  3.3395222116965946\n",
      "current step size = 0.0010383245649967724\n",
      "current acceptance ratio = 0.6840390879478827\n",
      "currently working on step 615\n"
     ]
    },
    {
     "name": "stderr",
     "output_type": "stream",
     "text": [
      "100%|██████████| 99/99 [00:33<00:00,  2.95it/s]\n"
     ]
    },
    {
     "name": "stdout",
     "output_type": "stream",
     "text": [
      "initial_potential =  80036.08359507841\n",
      "final_potential =  80146.46668731587\n",
      "energy_change =  0.31646207155426964\n",
      "p accept =  0.7287226503531292\n",
      "current step size = 0.0010383245649967724\n",
      "current acceptance ratio = 0.6829268292682927\n",
      "currently working on step 616\n"
     ]
    },
    {
     "name": "stderr",
     "output_type": "stream",
     "text": [
      "100%|██████████| 101/101 [00:34<00:00,  2.96it/s]\n"
     ]
    },
    {
     "name": "stdout",
     "output_type": "stream",
     "text": [
      "initial_potential =  80036.08359507841\n",
      "final_potential =  80454.0542715441\n",
      "energy_change =  0.9529877292225137\n",
      "p accept =  0.3855872704062806\n",
      "current step size = 0.0010383245649967724\n",
      "current acceptance ratio = 0.6818181818181818\n",
      "currently working on step 617\n"
     ]
    },
    {
     "name": "stderr",
     "output_type": "stream",
     "text": [
      "100%|██████████| 98/98 [00:33<00:00,  2.96it/s]\n"
     ]
    },
    {
     "name": "stdout",
     "output_type": "stream",
     "text": [
      "initial_potential =  80036.08359507841\n",
      "final_potential =  80118.35602997236\n",
      "energy_change =  0.2471326989470981\n",
      "p accept =  0.7810370438610625\n",
      "current step size = 0.0010383245649967724\n",
      "current acceptance ratio = 0.6823338735818476\n",
      "currently working on step 618\n"
     ]
    },
    {
     "name": "stderr",
     "output_type": "stream",
     "text": [
      "100%|██████████| 101/101 [00:34<00:00,  2.96it/s]\n"
     ]
    },
    {
     "name": "stdout",
     "output_type": "stream",
     "text": [
      "initial_potential =  80118.35602997236\n",
      "final_potential =  79667.27089595927\n",
      "energy_change =  -1.2148622865206562\n",
      "p accept =  3.369829961356948\n",
      "current step size = 0.0010383245649967724\n",
      "current acceptance ratio = 0.6828478964401294\n",
      "currently working on step 619\n"
     ]
    },
    {
     "name": "stderr",
     "output_type": "stream",
     "text": [
      "100%|██████████| 98/98 [00:32<00:00,  2.99it/s]\n"
     ]
    },
    {
     "name": "stdout",
     "output_type": "stream",
     "text": [
      "initial_potential =  79667.27089595927\n",
      "final_potential =  79863.5573269325\n",
      "energy_change =  0.861858791206032\n",
      "p accept =  0.42237624294233367\n",
      "current step size = 0.0010383245649967724\n",
      "current acceptance ratio = 0.6817447495961227\n",
      "currently working on step 620\n"
     ]
    },
    {
     "name": "stderr",
     "output_type": "stream",
     "text": [
      "100%|██████████| 97/97 [00:31<00:00,  3.05it/s]\n"
     ]
    },
    {
     "name": "stdout",
     "output_type": "stream",
     "text": [
      "initial_potential =  79667.27089595927\n",
      "final_potential =  80029.24287003571\n",
      "energy_change =  1.0647281056153588\n",
      "p accept =  0.3448215970785873\n",
      "current step size = 0.0010383245649967724\n",
      "current acceptance ratio = 0.6806451612903226\n",
      "currently working on step 621\n"
     ]
    },
    {
     "name": "stderr",
     "output_type": "stream",
     "text": [
      "100%|██████████| 100/100 [00:33<00:00,  3.01it/s]\n"
     ]
    },
    {
     "name": "stdout",
     "output_type": "stream",
     "text": [
      "initial_potential =  79667.27089595927\n",
      "final_potential =  80266.56397411745\n",
      "energy_change =  1.4386782723013312\n",
      "p accept =  0.2372411197067092\n",
      "current step size = 0.0010383245649967724\n",
      "current acceptance ratio = 0.679549114331723\n",
      "currently working on step 622\n"
     ]
    },
    {
     "name": "stderr",
     "output_type": "stream",
     "text": [
      "100%|██████████| 101/101 [00:33<00:00,  3.01it/s]\n"
     ]
    },
    {
     "name": "stdout",
     "output_type": "stream",
     "text": [
      "initial_potential =  79667.27089595927\n",
      "final_potential =  80443.46101975816\n",
      "energy_change =  2.0818944899365306\n",
      "p accept =  0.12469375722031352\n",
      "current step size = 0.0010383245649967724\n",
      "current acceptance ratio = 0.6784565916398714\n",
      "currently working on step 623\n"
     ]
    },
    {
     "name": "stderr",
     "output_type": "stream",
     "text": [
      "100%|██████████| 100/100 [00:33<00:00,  3.03it/s]\n"
     ]
    },
    {
     "name": "stdout",
     "output_type": "stream",
     "text": [
      "initial_potential =  79667.27089595927\n",
      "final_potential =  80451.38195489398\n",
      "energy_change =  2.2187151051475666\n",
      "p accept =  0.10874874980258947\n",
      "current step size = 0.0010383245649967724\n",
      "current acceptance ratio = 0.6773675762439807\n",
      "currently working on step 624\n"
     ]
    },
    {
     "name": "stderr",
     "output_type": "stream",
     "text": [
      "100%|██████████| 99/99 [00:33<00:00,  2.99it/s]\n"
     ]
    },
    {
     "name": "stdout",
     "output_type": "stream",
     "text": [
      "initial_potential =  79667.27089595927\n",
      "final_potential =  80588.431800714\n",
      "energy_change =  2.79777832882246\n",
      "p accept =  0.06094531277370425\n",
      "current step size = 0.0010383245649967724\n",
      "current acceptance ratio = 0.6762820512820513\n",
      "currently working on step 625\n"
     ]
    },
    {
     "name": "stderr",
     "output_type": "stream",
     "text": [
      "100%|██████████| 98/98 [00:32<00:00,  3.00it/s]\n"
     ]
    },
    {
     "name": "stdout",
     "output_type": "stream",
     "text": [
      "initial_potential =  79667.27089595927\n",
      "final_potential =  79614.75522635134\n",
      "energy_change =  0.03318285272689536\n",
      "p accept =  0.9673616586989328\n",
      "current step size = 0.0010383245649967724\n",
      "current acceptance ratio = 0.6768\n",
      "currently working on step 626\n"
     ]
    },
    {
     "name": "stderr",
     "output_type": "stream",
     "text": [
      "100%|██████████| 101/101 [00:33<00:00,  2.98it/s]\n"
     ]
    },
    {
     "name": "stdout",
     "output_type": "stream",
     "text": [
      "initial_potential =  79614.75522635134\n",
      "final_potential =  80238.97358633277\n",
      "energy_change =  1.6428604772663675\n",
      "p accept =  0.19342595963801312\n",
      "current step size = 0.0010383245649967724\n",
      "current acceptance ratio = 0.6757188498402555\n",
      "currently working on step 627\n"
     ]
    },
    {
     "name": "stderr",
     "output_type": "stream",
     "text": [
      "100%|██████████| 101/101 [00:33<00:00,  3.00it/s]\n"
     ]
    },
    {
     "name": "stdout",
     "output_type": "stream",
     "text": [
      "initial_potential =  79614.75522635134\n",
      "final_potential =  80351.97237901458\n",
      "energy_change =  1.5712740966700949\n",
      "p accept =  0.2077802814734519\n",
      "current step size = 0.0010383245649967724\n",
      "current acceptance ratio = 0.6746411483253588\n",
      "currently working on step 628\n"
     ]
    },
    {
     "name": "stderr",
     "output_type": "stream",
     "text": [
      "100%|██████████| 97/97 [00:32<00:00,  2.98it/s]\n"
     ]
    },
    {
     "name": "stdout",
     "output_type": "stream",
     "text": [
      "initial_potential =  79614.75522635134\n",
      "final_potential =  79866.50650774063\n",
      "energy_change =  0.6094599597272463\n",
      "p accept =  0.5436443796726741\n",
      "current step size = 0.0010383245649967724\n",
      "current acceptance ratio = 0.6751592356687898\n",
      "currently working on step 629\n"
     ]
    },
    {
     "name": "stderr",
     "output_type": "stream",
     "text": [
      "100%|██████████| 100/100 [00:33<00:00,  2.96it/s]\n"
     ]
    },
    {
     "name": "stdout",
     "output_type": "stream",
     "text": [
      "initial_potential =  79866.50650774063\n",
      "final_potential =  80337.90457491919\n",
      "energy_change =  1.0656678556697443\n",
      "p accept =  0.3444977031774717\n",
      "current step size = 0.0010383245649967724\n",
      "current acceptance ratio = 0.6756756756756757\n",
      "currently working on step 630\n"
     ]
    },
    {
     "name": "stderr",
     "output_type": "stream",
     "text": [
      "100%|██████████| 101/101 [00:33<00:00,  2.98it/s]\n"
     ]
    },
    {
     "name": "stdout",
     "output_type": "stream",
     "text": [
      "initial_potential =  80337.90457491919\n",
      "final_potential =  80141.70804656266\n",
      "energy_change =  -0.3622632104670629\n",
      "p accept =  1.4365770143087775\n",
      "current step size = 0.0010383245649967724\n",
      "current acceptance ratio = 0.6761904761904762\n",
      "currently working on step 631\n"
     ]
    },
    {
     "name": "stderr",
     "output_type": "stream",
     "text": [
      "100%|██████████| 101/101 [00:33<00:00,  2.99it/s]\n"
     ]
    },
    {
     "name": "stdout",
     "output_type": "stream",
     "text": [
      "initial_potential =  80141.70804656266\n",
      "final_potential =  80154.2951334969\n",
      "energy_change =  -0.20084513543406501\n",
      "p accept =  1.2224354452291062\n",
      "current step size = 0.0010383245649967724\n",
      "current acceptance ratio = 0.6767036450079239\n",
      "currently working on step 632\n"
     ]
    },
    {
     "name": "stderr",
     "output_type": "stream",
     "text": [
      "100%|██████████| 99/99 [00:33<00:00,  2.95it/s]\n"
     ]
    },
    {
     "name": "stdout",
     "output_type": "stream",
     "text": [
      "initial_potential =  80154.2951334969\n",
      "final_potential =  80505.30449584755\n",
      "energy_change =  0.9877970654633828\n",
      "p accept =  0.37239615242621604\n",
      "current step size = 0.0010383245649967724\n",
      "current acceptance ratio = 0.6756329113924051\n",
      "currently working on step 633\n"
     ]
    },
    {
     "name": "stderr",
     "output_type": "stream",
     "text": [
      "100%|██████████| 99/99 [00:33<00:00,  2.96it/s]\n"
     ]
    },
    {
     "name": "stdout",
     "output_type": "stream",
     "text": [
      "initial_potential =  80154.2951334969\n",
      "final_potential =  79863.03214683101\n",
      "energy_change =  -0.7287791433045641\n",
      "p accept =  2.072548777436096\n",
      "current step size = 0.0010383245649967724\n",
      "current acceptance ratio = 0.6761453396524486\n",
      "currently working on step 634\n"
     ]
    },
    {
     "name": "stderr",
     "output_type": "stream",
     "text": [
      "100%|██████████| 101/101 [00:34<00:00,  2.97it/s]\n"
     ]
    },
    {
     "name": "stdout",
     "output_type": "stream",
     "text": [
      "initial_potential =  79863.03214683101\n",
      "final_potential =  79816.4191175251\n",
      "energy_change =  -0.010425814718473703\n",
      "p accept =  1.0104803528949342\n",
      "current step size = 0.0010383245649967724\n",
      "current acceptance ratio = 0.6766561514195584\n",
      "currently working on step 635\n"
     ]
    },
    {
     "name": "stderr",
     "output_type": "stream",
     "text": [
      "100%|██████████| 98/98 [00:33<00:00,  2.95it/s]\n"
     ]
    },
    {
     "name": "stdout",
     "output_type": "stream",
     "text": [
      "initial_potential =  79816.4191175251\n",
      "final_potential =  79954.55794517808\n",
      "energy_change =  0.21819231298286468\n",
      "p accept =  0.8039708127733238\n",
      "current step size = 0.0010383245649967724\n",
      "current acceptance ratio = 0.6771653543307087\n",
      "currently working on step 636\n"
     ]
    },
    {
     "name": "stderr",
     "output_type": "stream",
     "text": [
      "100%|██████████| 101/101 [00:34<00:00,  2.95it/s]\n"
     ]
    },
    {
     "name": "stdout",
     "output_type": "stream",
     "text": [
      "initial_potential =  79954.55794517808\n",
      "final_potential =  79802.93502062313\n",
      "energy_change =  -0.4115976163884625\n",
      "p accept =  1.5092270259096259\n",
      "current step size = 0.0010383245649967724\n",
      "current acceptance ratio = 0.6776729559748428\n",
      "currently working on step 637\n"
     ]
    },
    {
     "name": "stderr",
     "output_type": "stream",
     "text": [
      "100%|██████████| 100/100 [00:33<00:00,  2.96it/s]\n"
     ]
    },
    {
     "name": "stdout",
     "output_type": "stream",
     "text": [
      "initial_potential =  79802.93502062313\n",
      "final_potential =  79744.12968190471\n",
      "energy_change =  0.051002666470594704\n",
      "p accept =  0.9502761366456735\n",
      "current step size = 0.0010383245649967724\n",
      "current acceptance ratio = 0.6781789638932496\n",
      "currently working on step 638\n"
     ]
    },
    {
     "name": "stderr",
     "output_type": "stream",
     "text": [
      "100%|██████████| 101/101 [00:34<00:00,  2.94it/s]\n"
     ]
    },
    {
     "name": "stdout",
     "output_type": "stream",
     "text": [
      "initial_potential =  79744.12968190471\n",
      "final_potential =  79859.2907819165\n",
      "energy_change =  0.24707596492953598\n",
      "p accept =  0.7810813564874304\n",
      "current step size = 0.0010383245649967724\n",
      "current acceptance ratio = 0.6786833855799373\n",
      "currently working on step 639\n"
     ]
    },
    {
     "name": "stderr",
     "output_type": "stream",
     "text": [
      "100%|██████████| 99/99 [00:33<00:00,  2.96it/s]\n"
     ]
    },
    {
     "name": "stdout",
     "output_type": "stream",
     "text": [
      "initial_potential =  79859.2907819165\n",
      "final_potential =  80429.24025550985\n",
      "energy_change =  1.5731562023283914\n",
      "p accept =  0.2073895848115384\n",
      "current step size = 0.0010383245649967724\n",
      "current acceptance ratio = 0.6776212832550861\n",
      "currently working on step 640\n"
     ]
    },
    {
     "name": "stderr",
     "output_type": "stream",
     "text": [
      "100%|██████████| 97/97 [00:32<00:00,  2.96it/s]\n"
     ]
    },
    {
     "name": "stdout",
     "output_type": "stream",
     "text": [
      "initial_potential =  79859.2907819165\n",
      "final_potential =  80066.02043488353\n",
      "energy_change =  0.3681924828561023\n",
      "p accept =  0.6919839738173685\n",
      "current step size = 0.0010383245649967724\n",
      "current acceptance ratio = 0.6765625\n",
      "currently working on step 641\n"
     ]
    },
    {
     "name": "stderr",
     "output_type": "stream",
     "text": [
      "100%|██████████| 97/97 [00:32<00:00,  2.96it/s]\n"
     ]
    },
    {
     "name": "stdout",
     "output_type": "stream",
     "text": [
      "initial_potential =  79859.2907819165\n",
      "final_potential =  80162.17163976244\n",
      "energy_change =  0.9582900921814144\n",
      "p accept =  0.3835481575818875\n",
      "current step size = 0.0010383245649967724\n",
      "current acceptance ratio = 0.6755070202808112\n",
      "currently working on step 642\n"
     ]
    },
    {
     "name": "stderr",
     "output_type": "stream",
     "text": [
      "100%|██████████| 99/99 [00:33<00:00,  2.99it/s]\n"
     ]
    },
    {
     "name": "stdout",
     "output_type": "stream",
     "text": [
      "initial_potential =  79859.2907819165\n",
      "final_potential =  80128.1168445817\n",
      "energy_change =  0.6371386494720355\n",
      "p accept =  0.5288033531169551\n",
      "current step size = 0.0010383245649967724\n",
      "current acceptance ratio = 0.67601246105919\n",
      "currently working on step 643\n"
     ]
    },
    {
     "name": "stderr",
     "output_type": "stream",
     "text": [
      "100%|██████████| 100/100 [00:32<00:00,  3.04it/s]\n"
     ]
    },
    {
     "name": "stdout",
     "output_type": "stream",
     "text": [
      "initial_potential =  80128.1168445817\n",
      "final_potential =  80204.79117450489\n",
      "energy_change =  0.1386790579999797\n",
      "p accept =  0.8705073660053565\n",
      "current step size = 0.0010383245649967724\n",
      "current acceptance ratio = 0.6765163297045101\n",
      "currently working on step 644\n"
     ]
    },
    {
     "name": "stderr",
     "output_type": "stream",
     "text": [
      "100%|██████████| 101/101 [00:33<00:00,  3.05it/s]\n"
     ]
    },
    {
     "name": "stdout",
     "output_type": "stream",
     "text": [
      "initial_potential =  80204.79117450489\n",
      "final_potential =  79957.20341342897\n",
      "energy_change =  -0.3979356419877149\n",
      "p accept =  1.4887482139482058\n",
      "current step size = 0.0010383245649967724\n",
      "current acceptance ratio = 0.6770186335403726\n",
      "currently working on step 645\n"
     ]
    },
    {
     "name": "stderr",
     "output_type": "stream",
     "text": [
      "100%|██████████| 99/99 [00:32<00:00,  3.00it/s]\n"
     ]
    },
    {
     "name": "stdout",
     "output_type": "stream",
     "text": [
      "initial_potential =  79957.20341342897\n",
      "final_potential =  79898.64721372815\n",
      "energy_change =  -0.03760851995320991\n",
      "p accept =  1.038324669912685\n",
      "current step size = 0.0010383245649967724\n",
      "current acceptance ratio = 0.6775193798449612\n",
      "currently working on step 646\n"
     ]
    },
    {
     "name": "stderr",
     "output_type": "stream",
     "text": [
      "100%|██████████| 97/97 [00:32<00:00,  3.02it/s]\n"
     ]
    },
    {
     "name": "stdout",
     "output_type": "stream",
     "text": [
      "initial_potential =  79898.64721372815\n",
      "final_potential =  80195.10477918384\n",
      "energy_change =  0.5440082093700767\n",
      "p accept =  0.5804171502619987\n",
      "current step size = 0.0010383245649967724\n",
      "current acceptance ratio = 0.6764705882352942\n",
      "currently working on step 647\n"
     ]
    },
    {
     "name": "stderr",
     "output_type": "stream",
     "text": [
      "100%|██████████| 98/98 [00:32<00:00,  2.99it/s]\n"
     ]
    },
    {
     "name": "stdout",
     "output_type": "stream",
     "text": [
      "initial_potential =  79898.64721372815\n",
      "final_potential =  79898.75341180572\n",
      "energy_change =  0.1988923602621071\n",
      "p accept =  0.8196381142165854\n",
      "current step size = 0.0010383245649967724\n",
      "current acceptance ratio = 0.6769706336939721\n",
      "currently working on step 648\n"
     ]
    },
    {
     "name": "stderr",
     "output_type": "stream",
     "text": [
      "100%|██████████| 100/100 [00:33<00:00,  3.00it/s]\n"
     ]
    },
    {
     "name": "stdout",
     "output_type": "stream",
     "text": [
      "initial_potential =  79898.75341180572\n",
      "final_potential =  80079.75077048302\n",
      "energy_change =  0.1284039531601593\n",
      "p accept =  0.8794980313684222\n",
      "current step size = 0.0010383245649967724\n",
      "current acceptance ratio = 0.6774691358024691\n",
      "currently working on step 649\n"
     ]
    },
    {
     "name": "stderr",
     "output_type": "stream",
     "text": [
      "100%|██████████| 97/97 [00:32<00:00,  2.96it/s]\n"
     ]
    },
    {
     "name": "stdout",
     "output_type": "stream",
     "text": [
      "initial_potential =  80079.75077048302\n",
      "final_potential =  80390.72719584756\n",
      "energy_change =  0.8640832391683944\n",
      "p accept =  0.42143773318941613\n",
      "current step size = 0.0010383245649967724\n",
      "current acceptance ratio = 0.6779661016949152\n",
      "currently working on step 650\n"
     ]
    },
    {
     "name": "stderr",
     "output_type": "stream",
     "text": [
      "100%|██████████| 101/101 [00:33<00:00,  2.98it/s]\n"
     ]
    },
    {
     "name": "stdout",
     "output_type": "stream",
     "text": [
      "initial_potential =  80390.72719584756\n",
      "final_potential =  79828.14777808891\n",
      "energy_change =  -1.3615119875175878\n",
      "p accept =  3.9020887532349966\n",
      "current step size = 0.0010383245649967724\n",
      "current acceptance ratio = 0.6784615384615384\n",
      "currently working on step 651\n"
     ]
    },
    {
     "name": "stderr",
     "output_type": "stream",
     "text": [
      "100%|██████████| 99/99 [00:33<00:00,  2.96it/s]\n"
     ]
    },
    {
     "name": "stdout",
     "output_type": "stream",
     "text": [
      "initial_potential =  79828.14777808891\n",
      "final_potential =  79943.47614563146\n",
      "energy_change =  0.28282846603542566\n",
      "p accept =  0.7536490531826937\n",
      "current step size = 0.0010383245649967724\n",
      "current acceptance ratio = 0.6789554531490015\n",
      "currently working on step 652\n"
     ]
    },
    {
     "name": "stderr",
     "output_type": "stream",
     "text": [
      "100%|██████████| 98/98 [00:33<00:00,  2.95it/s]\n"
     ]
    },
    {
     "name": "stdout",
     "output_type": "stream",
     "text": [
      "initial_potential =  79943.47614563146\n",
      "final_potential =  79843.34340846486\n",
      "energy_change =  -0.32240699854446575\n",
      "p accept =  1.3804465013555471\n",
      "current step size = 0.0010383245649967724\n",
      "current acceptance ratio = 0.6794478527607362\n",
      "currently working on step 653\n"
     ]
    },
    {
     "name": "stderr",
     "output_type": "stream",
     "text": [
      "100%|██████████| 98/98 [00:33<00:00,  2.97it/s]\n"
     ]
    },
    {
     "name": "stdout",
     "output_type": "stream",
     "text": [
      "initial_potential =  79843.34340846486\n",
      "final_potential =  80031.68441028366\n",
      "energy_change =  0.5317866901750676\n",
      "p accept =  0.5875542538933332\n",
      "current step size = 0.0010383245649967724\n",
      "current acceptance ratio = 0.678407350689127\n",
      "currently working on step 654\n"
     ]
    },
    {
     "name": "stderr",
     "output_type": "stream",
     "text": [
      "100%|██████████| 97/97 [00:32<00:00,  2.96it/s]\n"
     ]
    },
    {
     "name": "stdout",
     "output_type": "stream",
     "text": [
      "initial_potential =  79843.34340846486\n",
      "final_potential =  79803.8235412249\n",
      "energy_change =  0.0527759047690779\n",
      "p accept =  0.9485925637351689\n",
      "current step size = 0.0010383245649967724\n",
      "current acceptance ratio = 0.6788990825688074\n",
      "currently working on step 655\n"
     ]
    },
    {
     "name": "stderr",
     "output_type": "stream",
     "text": [
      "100%|██████████| 98/98 [00:33<00:00,  2.96it/s]\n"
     ]
    },
    {
     "name": "stdout",
     "output_type": "stream",
     "text": [
      "initial_potential =  79803.8235412249\n",
      "final_potential =  79853.52713496349\n",
      "energy_change =  0.44922811264405027\n",
      "p accept =  0.6381205187313345\n",
      "current step size = 0.0010383245649967724\n",
      "current acceptance ratio = 0.6793893129770993\n",
      "currently working on step 656\n"
     ]
    },
    {
     "name": "stderr",
     "output_type": "stream",
     "text": [
      "100%|██████████| 100/100 [00:33<00:00,  2.96it/s]\n"
     ]
    },
    {
     "name": "stdout",
     "output_type": "stream",
     "text": [
      "initial_potential =  79853.52713496349\n",
      "final_potential =  79885.84234808297\n",
      "energy_change =  -0.16301740723429248\n",
      "p accept =  1.1770571788202244\n",
      "current step size = 0.0010383245649967724\n",
      "current acceptance ratio = 0.6798780487804879\n",
      "currently working on step 657\n"
     ]
    },
    {
     "name": "stderr",
     "output_type": "stream",
     "text": [
      "100%|██████████| 99/99 [00:33<00:00,  2.96it/s]\n"
     ]
    },
    {
     "name": "stdout",
     "output_type": "stream",
     "text": [
      "initial_potential =  79885.84234808297\n",
      "final_potential =  79592.17750600178\n",
      "energy_change =  -0.6446685332339257\n",
      "p accept =  1.9053553626091868\n",
      "current step size = 0.0010383245649967724\n",
      "current acceptance ratio = 0.680365296803653\n",
      "currently working on step 658\n"
     ]
    },
    {
     "name": "stderr",
     "output_type": "stream",
     "text": [
      "100%|██████████| 100/100 [00:33<00:00,  2.94it/s]\n"
     ]
    },
    {
     "name": "stdout",
     "output_type": "stream",
     "text": [
      "initial_potential =  79592.17750600178\n",
      "final_potential =  80103.7301403828\n",
      "energy_change =  1.4083230824908242\n",
      "p accept =  0.24455303476350918\n",
      "current step size = 0.0010383245649967724\n",
      "current acceptance ratio = 0.6793313069908815\n",
      "currently working on step 659\n"
     ]
    },
    {
     "name": "stderr",
     "output_type": "stream",
     "text": [
      "100%|██████████| 101/101 [00:34<00:00,  2.95it/s]\n"
     ]
    },
    {
     "name": "stdout",
     "output_type": "stream",
     "text": [
      "initial_potential =  79592.17750600178\n",
      "final_potential =  79722.2129396318\n",
      "energy_change =  0.15112196578411385\n",
      "p accept =  0.8597428330555578\n",
      "current step size = 0.0010383245649967724\n",
      "current acceptance ratio = 0.6798179059180577\n",
      "currently working on step 660\n"
     ]
    },
    {
     "name": "stderr",
     "output_type": "stream",
     "text": [
      "100%|██████████| 98/98 [00:33<00:00,  2.96it/s]\n"
     ]
    },
    {
     "name": "stdout",
     "output_type": "stream",
     "text": [
      "initial_potential =  79722.2129396318\n",
      "final_potential =  79448.76981565241\n",
      "energy_change =  -0.5751110017881729\n",
      "p accept =  1.7773278025291128\n",
      "current step size = 0.0010383245649967724\n",
      "current acceptance ratio = 0.6803030303030303\n",
      "currently working on step 661\n"
     ]
    },
    {
     "name": "stderr",
     "output_type": "stream",
     "text": [
      "100%|██████████| 100/100 [00:34<00:00,  2.93it/s]\n"
     ]
    },
    {
     "name": "stdout",
     "output_type": "stream",
     "text": [
      "initial_potential =  79448.76981565241\n",
      "final_potential =  79867.29542057366\n",
      "energy_change =  0.8859567766776308\n",
      "p accept =  0.4123194868270334\n",
      "current step size = 0.0010383245649967724\n",
      "current acceptance ratio = 0.680786686838124\n",
      "currently working on step 662\n"
     ]
    },
    {
     "name": "stderr",
     "output_type": "stream",
     "text": [
      "100%|██████████| 97/97 [00:32<00:00,  2.95it/s]\n"
     ]
    },
    {
     "name": "stdout",
     "output_type": "stream",
     "text": [
      "initial_potential =  79867.29542057366\n",
      "final_potential =  80218.37383075392\n",
      "energy_change =  0.8996442099451087\n",
      "p accept =  0.4067143389183354\n",
      "current step size = 0.0010383245649967724\n",
      "current acceptance ratio = 0.6797583081570997\n",
      "currently working on step 663\n"
     ]
    },
    {
     "name": "stderr",
     "output_type": "stream",
     "text": [
      "100%|██████████| 99/99 [00:33<00:00,  2.94it/s]\n"
     ]
    },
    {
     "name": "stdout",
     "output_type": "stream",
     "text": [
      "initial_potential =  79867.29542057366\n",
      "final_potential =  79960.9961126529\n",
      "energy_change =  0.05332822090713307\n",
      "p accept =  0.9480687854127039\n",
      "current step size = 0.0010383245649967724\n",
      "current acceptance ratio = 0.6802413273001509\n",
      "currently working on step 664\n"
     ]
    },
    {
     "name": "stderr",
     "output_type": "stream",
     "text": [
      "100%|██████████| 100/100 [00:33<00:00,  2.95it/s]\n"
     ]
    },
    {
     "name": "stdout",
     "output_type": "stream",
     "text": [
      "initial_potential =  79960.9961126529\n",
      "final_potential =  80203.66170848595\n",
      "energy_change =  0.38671634456841275\n",
      "p accept =  0.6792837501268105\n",
      "current step size = 0.0010383245649967724\n",
      "current acceptance ratio = 0.6807228915662651\n",
      "currently working on step 665\n"
     ]
    },
    {
     "name": "stderr",
     "output_type": "stream",
     "text": [
      "100%|██████████| 101/101 [00:33<00:00,  2.97it/s]\n"
     ]
    },
    {
     "name": "stdout",
     "output_type": "stream",
     "text": [
      "initial_potential =  80203.66170848595\n",
      "final_potential =  80252.98751929306\n",
      "energy_change =  0.4160499115823768\n",
      "p accept =  0.6596473456198992\n",
      "current step size = 0.0010383245649967724\n",
      "current acceptance ratio = 0.681203007518797\n",
      "currently working on step 666\n"
     ]
    },
    {
     "name": "stderr",
     "output_type": "stream",
     "text": [
      "100%|██████████| 101/101 [00:33<00:00,  3.04it/s]\n"
     ]
    },
    {
     "name": "stdout",
     "output_type": "stream",
     "text": [
      "initial_potential =  80252.98751929306\n",
      "final_potential =  79879.93429776716\n",
      "energy_change =  -1.040528639627155\n",
      "p accept =  2.8307130459751266\n",
      "current step size = 0.0010383245649967724\n",
      "current acceptance ratio = 0.6816816816816816\n",
      "currently working on step 667\n"
     ]
    },
    {
     "name": "stderr",
     "output_type": "stream",
     "text": [
      "100%|██████████| 98/98 [00:32<00:00,  3.04it/s]\n"
     ]
    },
    {
     "name": "stdout",
     "output_type": "stream",
     "text": [
      "initial_potential =  79879.93429776716\n",
      "final_potential =  79793.39575209361\n",
      "energy_change =  -0.2189503632253036\n",
      "p accept =  1.2447694888114034\n",
      "current step size = 0.0010383245649967724\n",
      "current acceptance ratio = 0.6821589205397302\n",
      "currently working on step 668\n"
     ]
    },
    {
     "name": "stderr",
     "output_type": "stream",
     "text": [
      "100%|██████████| 101/101 [00:33<00:00,  3.01it/s]\n"
     ]
    },
    {
     "name": "stdout",
     "output_type": "stream",
     "text": [
      "initial_potential =  79793.39575209361\n",
      "final_potential =  79997.39993149442\n",
      "energy_change =  0.48750474577536806\n",
      "p accept =  0.6141569615658413\n",
      "current step size = 0.0010383245649967724\n",
      "current acceptance ratio = 0.6811377245508982\n",
      "currently working on step 669\n"
     ]
    },
    {
     "name": "stderr",
     "output_type": "stream",
     "text": [
      "100%|██████████| 97/97 [00:32<00:00,  3.02it/s]\n"
     ]
    },
    {
     "name": "stdout",
     "output_type": "stream",
     "text": [
      "initial_potential =  79793.39575209361\n",
      "final_potential =  79790.53525712957\n",
      "energy_change =  -0.06835929624503478\n",
      "p accept =  1.0707499558119595\n",
      "current step size = 0.0010383245649967724\n",
      "current acceptance ratio = 0.6816143497757847\n",
      "currently working on step 670\n"
     ]
    },
    {
     "name": "stderr",
     "output_type": "stream",
     "text": [
      "100%|██████████| 100/100 [00:33<00:00,  2.99it/s]\n"
     ]
    },
    {
     "name": "stdout",
     "output_type": "stream",
     "text": [
      "initial_potential =  79790.53525712957\n",
      "final_potential =  80483.36120653564\n",
      "energy_change =  1.924904651590623\n",
      "p accept =  0.1458896665407329\n",
      "current step size = 0.0010383245649967724\n",
      "current acceptance ratio = 0.6805970149253732\n",
      "currently working on step 671\n"
     ]
    },
    {
     "name": "stderr",
     "output_type": "stream",
     "text": [
      "100%|██████████| 100/100 [00:33<00:00,  2.99it/s]\n"
     ]
    },
    {
     "name": "stdout",
     "output_type": "stream",
     "text": [
      "initial_potential =  79790.53525712957\n",
      "final_potential =  80425.09751940791\n",
      "energy_change =  1.5381242576404475\n",
      "p accept =  0.21478360251616982\n",
      "current step size = 0.0010383245649967724\n",
      "current acceptance ratio = 0.6810730253353204\n",
      "currently working on step 672\n"
     ]
    },
    {
     "name": "stderr",
     "output_type": "stream",
     "text": [
      "100%|██████████| 97/97 [00:32<00:00,  2.97it/s]\n"
     ]
    },
    {
     "name": "stdout",
     "output_type": "stream",
     "text": [
      "initial_potential =  80425.09751940791\n",
      "final_potential =  79975.33261857562\n",
      "energy_change =  -1.2151665217243135\n",
      "p accept =  3.370855338231494\n",
      "current step size = 0.0010383245649967724\n",
      "current acceptance ratio = 0.6815476190476191\n",
      "currently working on step 673\n"
     ]
    },
    {
     "name": "stderr",
     "output_type": "stream",
     "text": [
      "100%|██████████| 99/99 [00:33<00:00,  2.98it/s]\n"
     ]
    },
    {
     "name": "stdout",
     "output_type": "stream",
     "text": [
      "initial_potential =  79975.33261857562\n",
      "final_potential =  79797.7088667532\n",
      "energy_change =  -0.4752800695132464\n",
      "p accept =  1.6084646163107124\n",
      "current step size = 0.0010383245649967724\n",
      "current acceptance ratio = 0.6820208023774146\n",
      "currently working on step 674\n"
     ]
    },
    {
     "name": "stderr",
     "output_type": "stream",
     "text": [
      "100%|██████████| 98/98 [00:33<00:00,  2.97it/s]\n"
     ]
    },
    {
     "name": "stdout",
     "output_type": "stream",
     "text": [
      "initial_potential =  79797.7088667532\n",
      "final_potential =  80161.3654074542\n",
      "energy_change =  1.088318970054388\n",
      "p accept =  0.33678215901781894\n",
      "current step size = 0.0010383245649967724\n",
      "current acceptance ratio = 0.6810089020771514\n",
      "currently working on step 675\n"
     ]
    },
    {
     "name": "stderr",
     "output_type": "stream",
     "text": [
      "100%|██████████| 98/98 [00:33<00:00,  2.96it/s]\n"
     ]
    },
    {
     "name": "stdout",
     "output_type": "stream",
     "text": [
      "initial_potential =  79797.7088667532\n",
      "final_potential =  79655.79087836556\n",
      "energy_change =  -0.2132211232674308\n",
      "p accept =  1.2376582960342526\n",
      "current step size = 0.0010383245649967724\n",
      "current acceptance ratio = 0.6814814814814815\n",
      "currently working on step 676\n"
     ]
    },
    {
     "name": "stderr",
     "output_type": "stream",
     "text": [
      "100%|██████████| 98/98 [00:33<00:00,  2.97it/s]\n"
     ]
    },
    {
     "name": "stdout",
     "output_type": "stream",
     "text": [
      "initial_potential =  79655.79087836556\n",
      "final_potential =  80057.98031624986\n",
      "energy_change =  1.2821345189004205\n",
      "p accept =  0.2774444575226661\n",
      "current step size = 0.0010383245649967724\n",
      "current acceptance ratio = 0.6819526627218935\n",
      "currently working on step 677\n"
     ]
    },
    {
     "name": "stderr",
     "output_type": "stream",
     "text": [
      "100%|██████████| 100/100 [00:33<00:00,  2.96it/s]\n"
     ]
    },
    {
     "name": "stdout",
     "output_type": "stream",
     "text": [
      "initial_potential =  80057.98031624986\n",
      "final_potential =  79846.13427769172\n",
      "energy_change =  -0.6337147976155393\n",
      "p accept =  1.8845984938754354\n",
      "current step size = 0.0010383245649967724\n",
      "current acceptance ratio = 0.6824224519940916\n",
      "currently working on step 678\n"
     ]
    },
    {
     "name": "stderr",
     "output_type": "stream",
     "text": [
      "100%|██████████| 97/97 [00:32<00:00,  2.96it/s]\n"
     ]
    },
    {
     "name": "stdout",
     "output_type": "stream",
     "text": [
      "initial_potential =  79846.13427769172\n",
      "final_potential =  80280.69262122344\n",
      "energy_change =  1.5908461514045484\n",
      "p accept =  0.20375313277336946\n",
      "current step size = 0.0010383245649967724\n",
      "current acceptance ratio = 0.6814159292035398\n",
      "currently working on step 679\n"
     ]
    },
    {
     "name": "stderr",
     "output_type": "stream",
     "text": [
      "100%|██████████| 98/98 [00:33<00:00,  2.96it/s]\n"
     ]
    },
    {
     "name": "stdout",
     "output_type": "stream",
     "text": [
      "initial_potential =  79846.13427769172\n",
      "final_potential =  80240.86121314441\n",
      "energy_change =  1.0009040288859978\n",
      "p accept =  0.3675470178128578\n",
      "current step size = 0.0010383245649967724\n",
      "current acceptance ratio = 0.6804123711340206\n",
      "currently working on step 680\n"
     ]
    },
    {
     "name": "stderr",
     "output_type": "stream",
     "text": [
      "100%|██████████| 98/98 [00:33<00:00,  2.95it/s]\n"
     ]
    },
    {
     "name": "stdout",
     "output_type": "stream",
     "text": [
      "initial_potential =  79846.13427769172\n",
      "final_potential =  79947.58064541337\n",
      "energy_change =  0.28990588505985215\n",
      "p accept =  0.7483339936734645\n",
      "current step size = 0.0010383245649967724\n",
      "current acceptance ratio = 0.6794117647058824\n",
      "currently working on step 681\n"
     ]
    },
    {
     "name": "stderr",
     "output_type": "stream",
     "text": [
      "100%|██████████| 97/97 [00:32<00:00,  2.95it/s]\n"
     ]
    },
    {
     "name": "stdout",
     "output_type": "stream",
     "text": [
      "initial_potential =  79846.13427769172\n",
      "final_potential =  79877.02895236036\n",
      "energy_change =  -0.08664516918361187\n",
      "p accept =  1.0905096646253194\n",
      "current step size = 0.0010383245649967724\n",
      "current acceptance ratio = 0.6798825256975036\n",
      "currently working on step 682\n"
     ]
    },
    {
     "name": "stderr",
     "output_type": "stream",
     "text": [
      "100%|██████████| 97/97 [00:32<00:00,  2.96it/s]\n"
     ]
    },
    {
     "name": "stdout",
     "output_type": "stream",
     "text": [
      "initial_potential =  79877.02895236036\n",
      "final_potential =  79586.08761418672\n",
      "energy_change =  -0.8595885267714038\n",
      "p accept =  2.362188516371654\n",
      "current step size = 0.0010383245649967724\n",
      "current acceptance ratio = 0.6803519061583577\n",
      "currently working on step 683\n"
     ]
    },
    {
     "name": "stderr",
     "output_type": "stream",
     "text": [
      "100%|██████████| 97/97 [00:32<00:00,  2.96it/s]\n"
     ]
    },
    {
     "name": "stdout",
     "output_type": "stream",
     "text": [
      "initial_potential =  79586.08761418672\n",
      "final_potential =  79917.38156504335\n",
      "energy_change =  0.8092182126129046\n",
      "p accept =  0.4452059866303345\n",
      "current step size = 0.0010383245649967724\n",
      "current acceptance ratio = 0.6808199121522694\n",
      "currently working on step 684\n"
     ]
    },
    {
     "name": "stderr",
     "output_type": "stream",
     "text": [
      "100%|██████████| 98/98 [00:33<00:00,  2.93it/s]\n"
     ]
    },
    {
     "name": "stdout",
     "output_type": "stream",
     "text": [
      "initial_potential =  79917.38156504335\n",
      "final_potential =  79980.97975828493\n",
      "energy_change =  -0.1056488937465474\n",
      "p accept =  1.1114315774151993\n",
      "current step size = 0.0010383245649967724\n",
      "current acceptance ratio = 0.6812865497076024\n",
      "currently working on step 685\n"
     ]
    },
    {
     "name": "stderr",
     "output_type": "stream",
     "text": [
      "100%|██████████| 98/98 [00:33<00:00,  2.96it/s]\n"
     ]
    },
    {
     "name": "stdout",
     "output_type": "stream",
     "text": [
      "initial_potential =  79980.97975828493\n",
      "final_potential =  80267.11784809138\n",
      "energy_change =  0.849395556782838\n",
      "p accept =  0.42767335809935575\n",
      "current step size = 0.0010383245649967724\n",
      "current acceptance ratio = 0.6802919708029197\n",
      "currently working on step 686\n"
     ]
    },
    {
     "name": "stderr",
     "output_type": "stream",
     "text": [
      "100%|██████████| 99/99 [00:33<00:00,  2.95it/s]\n"
     ]
    },
    {
     "name": "stdout",
     "output_type": "stream",
     "text": [
      "initial_potential =  79980.97975828493\n",
      "final_potential =  79570.3335908051\n",
      "energy_change =  -0.9570633363910019\n",
      "p accept =  2.6040380500423383\n",
      "current step size = 0.0010383245649967724\n",
      "current acceptance ratio = 0.6807580174927114\n",
      "currently working on step 687\n"
     ]
    },
    {
     "name": "stderr",
     "output_type": "stream",
     "text": [
      "100%|██████████| 101/101 [00:34<00:00,  2.96it/s]\n"
     ]
    },
    {
     "name": "stdout",
     "output_type": "stream",
     "text": [
      "initial_potential =  79570.3335908051\n",
      "final_potential =  80461.00123250319\n",
      "energy_change =  2.638079205295071\n",
      "p accept =  0.07149847163141321\n",
      "current step size = 0.0010383245649967724\n",
      "current acceptance ratio = 0.6797671033478894\n",
      "currently working on step 688\n"
     ]
    },
    {
     "name": "stderr",
     "output_type": "stream",
     "text": [
      "100%|██████████| 100/100 [00:32<00:00,  3.07it/s]\n"
     ]
    },
    {
     "name": "stdout",
     "output_type": "stream",
     "text": [
      "initial_potential =  79570.3335908051\n",
      "final_potential =  80242.72682263424\n",
      "energy_change =  2.0139014563173987\n",
      "p accept =  0.1334669421277075\n",
      "current step size = 0.0010383245649967724\n",
      "current acceptance ratio = 0.6787790697674418\n",
      "currently working on step 689\n"
     ]
    },
    {
     "name": "stderr",
     "output_type": "stream",
     "text": [
      "100%|██████████| 100/100 [00:33<00:00,  3.03it/s]\n"
     ]
    },
    {
     "name": "stdout",
     "output_type": "stream",
     "text": [
      "initial_potential =  79570.3335908051\n",
      "final_potential =  80035.14244640722\n",
      "energy_change =  1.0964965790044516\n",
      "p accept =  0.3340393164521944\n",
      "current step size = 0.0010383245649967724\n",
      "current acceptance ratio = 0.6777939042089985\n",
      "currently working on step 690\n"
     ]
    },
    {
     "name": "stderr",
     "output_type": "stream",
     "text": [
      "100%|██████████| 100/100 [00:33<00:00,  3.02it/s]\n"
     ]
    },
    {
     "name": "stdout",
     "output_type": "stream",
     "text": [
      "initial_potential =  79570.3335908051\n",
      "final_potential =  79625.4971856449\n",
      "energy_change =  0.16419908322859555\n",
      "p accept =  0.8485730683967067\n",
      "current step size = 0.0010383245649967724\n",
      "current acceptance ratio = 0.6768115942028986\n",
      "currently working on step 691\n"
     ]
    },
    {
     "name": "stderr",
     "output_type": "stream",
     "text": [
      "100%|██████████| 97/97 [00:32<00:00,  3.03it/s]\n"
     ]
    },
    {
     "name": "stdout",
     "output_type": "stream",
     "text": [
      "initial_potential =  79570.3335908051\n",
      "final_potential =  79847.54522359787\n",
      "energy_change =  0.45908463292289525\n",
      "p accept =  0.6318617663283538\n",
      "current step size = 0.0010383245649967724\n",
      "current acceptance ratio = 0.6772793053545586\n",
      "currently working on step 692\n"
     ]
    },
    {
     "name": "stderr",
     "output_type": "stream",
     "text": [
      "100%|██████████| 98/98 [00:32<00:00,  2.99it/s]\n"
     ]
    },
    {
     "name": "stdout",
     "output_type": "stream",
     "text": [
      "initial_potential =  79847.54522359787\n",
      "final_potential =  79993.38738113783\n",
      "energy_change =  0.3856355223688297\n",
      "p accept =  0.6800183319884452\n",
      "current step size = 0.0010383245649967724\n",
      "current acceptance ratio = 0.6777456647398844\n",
      "currently working on step 693\n"
     ]
    },
    {
     "name": "stderr",
     "output_type": "stream",
     "text": [
      "100%|██████████| 98/98 [00:32<00:00,  3.02it/s]\n"
     ]
    },
    {
     "name": "stdout",
     "output_type": "stream",
     "text": [
      "initial_potential =  79993.38738113783\n",
      "final_potential =  79969.76113993692\n",
      "energy_change =  -0.229604717111215\n",
      "p accept =  1.2581026051959947\n",
      "current step size = 0.0010383245649967724\n",
      "current acceptance ratio = 0.6782106782106783\n",
      "currently working on step 694\n"
     ]
    },
    {
     "name": "stderr",
     "output_type": "stream",
     "text": [
      "100%|██████████| 97/97 [00:32<00:00,  2.99it/s]\n"
     ]
    },
    {
     "name": "stdout",
     "output_type": "stream",
     "text": [
      "initial_potential =  79969.76113993692\n",
      "final_potential =  80190.8606812101\n",
      "energy_change =  0.8483592343400232\n",
      "p accept =  0.42811679533083924\n",
      "current step size = 0.0010383245649967724\n",
      "current acceptance ratio = 0.6772334293948127\n",
      "currently working on step 695\n"
     ]
    },
    {
     "name": "stderr",
     "output_type": "stream",
     "text": [
      "100%|██████████| 101/101 [00:33<00:00,  2.99it/s]\n"
     ]
    },
    {
     "name": "stdout",
     "output_type": "stream",
     "text": [
      "initial_potential =  79969.76113993692\n",
      "final_potential =  80231.54662018393\n",
      "energy_change =  1.0014273276901804\n",
      "p accept =  0.36735473121401707\n",
      "current step size = 0.0010383245649967724\n",
      "current acceptance ratio = 0.6762589928057554\n",
      "currently working on step 696\n"
     ]
    },
    {
     "name": "stderr",
     "output_type": "stream",
     "text": [
      "100%|██████████| 100/100 [00:33<00:00,  2.99it/s]\n"
     ]
    },
    {
     "name": "stdout",
     "output_type": "stream",
     "text": [
      "initial_potential =  79969.76113993692\n",
      "final_potential =  80247.13171505905\n",
      "energy_change =  0.9161565348622389\n",
      "p accept =  0.4000536824066952\n",
      "current step size = 0.0010383245649967724\n",
      "current acceptance ratio = 0.6767241379310345\n",
      "currently working on step 697\n"
     ]
    },
    {
     "name": "stderr",
     "output_type": "stream",
     "text": [
      "100%|██████████| 99/99 [00:33<00:00,  2.97it/s]\n"
     ]
    },
    {
     "name": "stdout",
     "output_type": "stream",
     "text": [
      "initial_potential =  80247.13171505905\n",
      "final_potential =  79873.42236730362\n",
      "energy_change =  -0.8067305336007848\n",
      "p accept =  2.240570528368293\n",
      "current step size = 0.0010383245649967724\n",
      "current acceptance ratio = 0.6771879483500718\n",
      "currently working on step 698\n"
     ]
    },
    {
     "name": "stderr",
     "output_type": "stream",
     "text": [
      "100%|██████████| 98/98 [00:32<00:00,  2.98it/s]\n"
     ]
    },
    {
     "name": "stdout",
     "output_type": "stream",
     "text": [
      "initial_potential =  79873.42236730362\n",
      "final_potential =  79924.93801896508\n",
      "energy_change =  0.09878102573566139\n",
      "p accept =  0.9059410640833616\n",
      "current step size = 0.0010383245649967724\n",
      "current acceptance ratio = 0.6776504297994269\n",
      "currently working on step 699\n"
     ]
    },
    {
     "name": "stderr",
     "output_type": "stream",
     "text": [
      "100%|██████████| 100/100 [00:33<00:00,  2.98it/s]\n"
     ]
    },
    {
     "name": "stdout",
     "output_type": "stream",
     "text": [
      "initial_potential =  79924.93801896508\n",
      "final_potential =  79832.62456222673\n",
      "energy_change =  0.14825108693912625\n",
      "p accept =  0.8622145969367465\n",
      "current step size = 0.0010383245649967724\n",
      "current acceptance ratio = 0.6766809728183119\n",
      "currently working on step 700\n"
     ]
    },
    {
     "name": "stderr",
     "output_type": "stream",
     "text": [
      "100%|██████████| 99/99 [00:33<00:00,  2.96it/s]\n"
     ]
    },
    {
     "name": "stdout",
     "output_type": "stream",
     "text": [
      "initial_potential =  79924.93801896508\n",
      "final_potential =  79584.73855640781\n",
      "energy_change =  -0.48039652936859056\n",
      "p accept =  1.6167153502241511\n",
      "current step size = 0.0010383245649967724\n",
      "current acceptance ratio = 0.6771428571428572\n",
      "currently working on step 701\n"
     ]
    },
    {
     "name": "stderr",
     "output_type": "stream",
     "text": [
      "100%|██████████| 98/98 [00:32<00:00,  2.97it/s]\n"
     ]
    },
    {
     "name": "stdout",
     "output_type": "stream",
     "text": [
      "initial_potential =  79584.73855640781\n",
      "final_potential =  80103.10469974656\n",
      "energy_change =  1.698435671045445\n",
      "p accept =  0.18296952482024803\n",
      "current step size = 0.0010383245649967724\n",
      "current acceptance ratio = 0.6776034236804565\n",
      "currently working on step 702\n"
     ]
    },
    {
     "name": "stderr",
     "output_type": "stream",
     "text": [
      "100%|██████████| 98/98 [00:33<00:00,  2.96it/s]\n"
     ]
    },
    {
     "name": "stdout",
     "output_type": "stream",
     "text": [
      "initial_potential =  80103.10469974656\n",
      "final_potential =  80177.34831368149\n",
      "energy_change =  0.23838849342428148\n",
      "p accept =  0.7878965390041669\n",
      "current step size = 0.0010383245649967724\n",
      "current acceptance ratio = 0.6766381766381766\n",
      "currently working on step 703\n"
     ]
    },
    {
     "name": "stderr",
     "output_type": "stream",
     "text": [
      "100%|██████████| 97/97 [00:32<00:00,  2.95it/s]\n"
     ]
    },
    {
     "name": "stdout",
     "output_type": "stream",
     "text": [
      "initial_potential =  80103.10469974656\n",
      "final_potential =  80255.88528049197\n",
      "energy_change =  0.5305663257022388\n",
      "p accept =  0.5882717219278507\n",
      "current step size = 0.0010383245649967724\n",
      "current acceptance ratio = 0.6770981507823614\n",
      "currently working on step 704\n"
     ]
    },
    {
     "name": "stderr",
     "output_type": "stream",
     "text": [
      "100%|██████████| 101/101 [00:34<00:00,  2.97it/s]\n"
     ]
    },
    {
     "name": "stdout",
     "output_type": "stream",
     "text": [
      "initial_potential =  80255.88528049197\n",
      "final_potential =  80390.06826565665\n",
      "energy_change =  0.40304016962181777\n",
      "p accept =  0.6682852540184607\n",
      "current step size = 0.0010383245649967724\n",
      "current acceptance ratio = 0.6761363636363636\n",
      "currently working on step 705\n"
     ]
    },
    {
     "name": "stderr",
     "output_type": "stream",
     "text": [
      "100%|██████████| 98/98 [00:33<00:00,  2.93it/s]\n"
     ]
    },
    {
     "name": "stdout",
     "output_type": "stream",
     "text": [
      "initial_potential =  80255.88528049197\n",
      "final_potential =  80035.59544762073\n",
      "energy_change =  -0.6831997482222505\n",
      "p accept =  1.980203759444899\n",
      "current step size = 0.0010383245649967724\n",
      "current acceptance ratio = 0.676595744680851\n",
      "currently working on step 706\n"
     ]
    },
    {
     "name": "stderr",
     "output_type": "stream",
     "text": [
      "100%|██████████| 99/99 [00:33<00:00,  2.97it/s]\n"
     ]
    },
    {
     "name": "stdout",
     "output_type": "stream",
     "text": [
      "initial_potential =  80035.59544762073\n",
      "final_potential =  80274.40862866063\n",
      "energy_change =  0.6379257731023245\n",
      "p accept =  0.5283872832726257\n",
      "current step size = 0.0010383245649967724\n",
      "current acceptance ratio = 0.6756373937677054\n",
      "currently working on step 707\n"
     ]
    },
    {
     "name": "stderr",
     "output_type": "stream",
     "text": [
      "100%|██████████| 101/101 [00:34<00:00,  2.94it/s]\n"
     ]
    },
    {
     "name": "stdout",
     "output_type": "stream",
     "text": [
      "initial_potential =  80035.59544762073\n",
      "final_potential =  80161.97580083272\n",
      "energy_change =  0.20686137321172282\n",
      "p accept =  0.8131323641028724\n",
      "current step size = 0.0010383245649967724\n",
      "current acceptance ratio = 0.6760961810466761\n",
      "currently working on step 708\n"
     ]
    },
    {
     "name": "stderr",
     "output_type": "stream",
     "text": [
      "100%|██████████| 97/97 [00:32<00:00,  2.96it/s]\n"
     ]
    },
    {
     "name": "stdout",
     "output_type": "stream",
     "text": [
      "initial_potential =  80161.97580083272\n",
      "final_potential =  80030.48221230222\n",
      "energy_change =  -0.266601235314738\n",
      "p accept =  1.3055197473482167\n",
      "current step size = 0.0010383245649967724\n",
      "current acceptance ratio = 0.6765536723163842\n",
      "currently working on step 709\n"
     ]
    },
    {
     "name": "stderr",
     "output_type": "stream",
     "text": [
      "100%|██████████| 99/99 [00:33<00:00,  2.97it/s]\n"
     ]
    },
    {
     "name": "stdout",
     "output_type": "stream",
     "text": [
      "initial_potential =  80030.48221230222\n",
      "final_potential =  79864.4477233781\n",
      "energy_change =  -0.2539472769713029\n",
      "p accept =  1.2891038370175079\n",
      "current step size = 0.0010383245649967724\n",
      "current acceptance ratio = 0.6770098730606487\n",
      "currently working on step 710\n"
     ]
    },
    {
     "name": "stderr",
     "output_type": "stream",
     "text": [
      "100%|██████████| 101/101 [00:34<00:00,  2.97it/s]\n"
     ]
    },
    {
     "name": "stdout",
     "output_type": "stream",
     "text": [
      "initial_potential =  79864.4477233781\n",
      "final_potential =  79881.66668212423\n",
      "energy_change =  -0.14116421050857753\n",
      "p accept =  1.1516137395367634\n",
      "current step size = 0.0010383245649967724\n",
      "current acceptance ratio = 0.6774647887323944\n",
      "currently working on step 711\n"
     ]
    },
    {
     "name": "stderr",
     "output_type": "stream",
     "text": [
      "100%|██████████| 101/101 [00:33<00:00,  3.02it/s]\n"
     ]
    },
    {
     "name": "stdout",
     "output_type": "stream",
     "text": [
      "initial_potential =  79881.66668212423\n",
      "final_potential =  80055.41880903539\n",
      "energy_change =  0.49949788104277104\n",
      "p accept =  0.6068352867281152\n",
      "current step size = 0.0010383245649967724\n",
      "current acceptance ratio = 0.6765119549929677\n",
      "currently working on step 712\n"
     ]
    },
    {
     "name": "stderr",
     "output_type": "stream",
     "text": [
      "100%|██████████| 99/99 [00:32<00:00,  3.02it/s]\n"
     ]
    },
    {
     "name": "stdout",
     "output_type": "stream",
     "text": [
      "initial_potential =  79881.66668212423\n",
      "final_potential =  79483.88219790216\n",
      "energy_change =  -1.1971518014906906\n",
      "p accept =  3.3106740246741517\n",
      "current step size = 0.0010383245649967724\n",
      "current acceptance ratio = 0.6769662921348315\n",
      "currently working on step 713\n"
     ]
    },
    {
     "name": "stderr",
     "output_type": "stream",
     "text": [
      "100%|██████████| 98/98 [00:32<00:00,  3.05it/s]\n"
     ]
    },
    {
     "name": "stdout",
     "output_type": "stream",
     "text": [
      "initial_potential =  79483.88219790216\n",
      "final_potential =  80039.50290330531\n",
      "energy_change =  1.3810848359717056\n",
      "p accept =  0.25130577957968087\n",
      "current step size = 0.0010383245649967724\n",
      "current acceptance ratio = 0.6760168302945302\n",
      "currently working on step 714\n"
     ]
    },
    {
     "name": "stderr",
     "output_type": "stream",
     "text": [
      "100%|██████████| 101/101 [00:33<00:00,  3.02it/s]\n"
     ]
    },
    {
     "name": "stdout",
     "output_type": "stream",
     "text": [
      "initial_potential =  79483.88219790216\n",
      "final_potential =  79936.31123978482\n",
      "energy_change =  0.9204216183861718\n",
      "p accept =  0.3983510535453595\n",
      "current step size = 0.0010383245649967724\n",
      "current acceptance ratio = 0.6750700280112045\n",
      "currently working on step 715\n"
     ]
    },
    {
     "name": "stderr",
     "output_type": "stream",
     "text": [
      "100%|██████████| 100/100 [00:33<00:00,  3.00it/s]\n"
     ]
    },
    {
     "name": "stdout",
     "output_type": "stream",
     "text": [
      "initial_potential =  79483.88219790216\n",
      "final_potential =  80315.84167424632\n",
      "energy_change =  2.1906501465127803\n",
      "p accept =  0.11184400998144099\n",
      "current step size = 0.0010383245649967724\n",
      "current acceptance ratio = 0.6741258741258741\n",
      "currently working on step 716\n"
     ]
    },
    {
     "name": "stderr",
     "output_type": "stream",
     "text": [
      "100%|██████████| 98/98 [00:32<00:00,  3.00it/s]\n"
     ]
    },
    {
     "name": "stdout",
     "output_type": "stream",
     "text": [
      "initial_potential =  79483.88219790216\n",
      "final_potential =  80034.53691316671\n",
      "energy_change =  1.602451665501576\n",
      "p accept =  0.20140214153708005\n",
      "current step size = 0.0010383245649967724\n",
      "current acceptance ratio = 0.6731843575418994\n",
      "currently working on step 717\n"
     ]
    },
    {
     "name": "stderr",
     "output_type": "stream",
     "text": [
      "100%|██████████| 101/101 [00:33<00:00,  2.99it/s]\n"
     ]
    },
    {
     "name": "stdout",
     "output_type": "stream",
     "text": [
      "initial_potential =  79483.88219790216\n",
      "final_potential =  79686.03080281119\n",
      "energy_change =  0.6158949449891225\n",
      "p accept =  0.5401572678913912\n",
      "current step size = 0.0010383245649967724\n",
      "current acceptance ratio = 0.6736401673640168\n",
      "currently working on step 718\n"
     ]
    },
    {
     "name": "stderr",
     "output_type": "stream",
     "text": [
      "100%|██████████| 97/97 [00:32<00:00,  2.99it/s]\n"
     ]
    },
    {
     "name": "stdout",
     "output_type": "stream",
     "text": [
      "initial_potential =  79686.03080281119\n",
      "final_potential =  80360.12270848056\n",
      "energy_change =  1.7304978909669444\n",
      "p accept =  0.1771961636339235\n",
      "current step size = 0.0010383245649967724\n",
      "current acceptance ratio = 0.6727019498607242\n",
      "currently working on step 719\n"
     ]
    },
    {
     "name": "stderr",
     "output_type": "stream",
     "text": [
      "100%|██████████| 98/98 [00:32<00:00,  2.99it/s]\n"
     ]
    },
    {
     "name": "stdout",
     "output_type": "stream",
     "text": [
      "initial_potential =  79686.03080281119\n",
      "final_potential =  79794.69198955952\n",
      "energy_change =  0.11727078497642651\n",
      "p accept =  0.8893443394691039\n",
      "current step size = 0.0010383245649967724\n",
      "current acceptance ratio = 0.6731571627260083\n",
      "currently working on step 720\n"
     ]
    },
    {
     "name": "stderr",
     "output_type": "stream",
     "text": [
      "100%|██████████| 99/99 [00:33<00:00,  2.97it/s]\n"
     ]
    },
    {
     "name": "stdout",
     "output_type": "stream",
     "text": [
      "initial_potential =  79794.69198955952\n",
      "final_potential =  79971.53980095527\n",
      "energy_change =  0.4171093718614429\n",
      "p accept =  0.6589488455409043\n",
      "current step size = 0.0010383245649967724\n",
      "current acceptance ratio = 0.6722222222222223\n",
      "currently working on step 721\n"
     ]
    },
    {
     "name": "stderr",
     "output_type": "stream",
     "text": [
      "100%|██████████| 101/101 [00:33<00:00,  2.97it/s]\n"
     ]
    },
    {
     "name": "stdout",
     "output_type": "stream",
     "text": [
      "initial_potential =  79794.69198955952\n",
      "final_potential =  80029.55363704002\n",
      "energy_change =  0.46454652794636786\n",
      "p accept =  0.628420011499392\n",
      "current step size = 0.0010383245649967724\n",
      "current acceptance ratio = 0.6712898751733704\n",
      "currently working on step 722\n"
     ]
    },
    {
     "name": "stderr",
     "output_type": "stream",
     "text": [
      "100%|██████████| 100/100 [00:33<00:00,  2.98it/s]\n"
     ]
    },
    {
     "name": "stdout",
     "output_type": "stream",
     "text": [
      "initial_potential =  79794.69198955952\n",
      "final_potential =  80047.96122945828\n",
      "energy_change =  1.0160566099802963\n",
      "p accept =  0.36201971403451766\n",
      "current step size = 0.0010383245649967724\n",
      "current acceptance ratio = 0.6703601108033241\n",
      "currently working on step 723\n"
     ]
    },
    {
     "name": "stderr",
     "output_type": "stream",
     "text": [
      "100%|██████████| 100/100 [00:33<00:00,  2.95it/s]\n"
     ]
    },
    {
     "name": "stdout",
     "output_type": "stream",
     "text": [
      "initial_potential =  79794.69198955952\n",
      "final_potential =  80015.92605782722\n",
      "energy_change =  0.7976362916524522\n",
      "p accept =  0.45039230295686306\n",
      "current step size = 0.0010383245649967724\n",
      "current acceptance ratio = 0.669432918395574\n",
      "currently working on step 724\n"
     ]
    },
    {
     "name": "stderr",
     "output_type": "stream",
     "text": [
      "100%|██████████| 100/100 [00:33<00:00,  2.97it/s]\n"
     ]
    },
    {
     "name": "stdout",
     "output_type": "stream",
     "text": [
      "initial_potential =  79794.69198955952\n",
      "final_potential =  80081.17190627211\n",
      "energy_change =  0.5854477155953646\n",
      "p accept =  0.5568564926569669\n",
      "current step size = 0.0010383245649967724\n",
      "current acceptance ratio = 0.669889502762431\n",
      "currently working on step 725\n"
     ]
    },
    {
     "name": "stderr",
     "output_type": "stream",
     "text": [
      "100%|██████████| 97/97 [00:32<00:00,  2.96it/s]\n"
     ]
    },
    {
     "name": "stdout",
     "output_type": "stream",
     "text": [
      "initial_potential =  80081.17190627211\n",
      "final_potential =  79875.33603117321\n",
      "energy_change =  -0.537175245990511\n",
      "p accept =  1.7111664046900446\n",
      "current step size = 0.0010383245649967724\n",
      "current acceptance ratio = 0.670344827586207\n",
      "currently working on step 726\n"
     ]
    },
    {
     "name": "stderr",
     "output_type": "stream",
     "text": [
      "100%|██████████| 98/98 [00:33<00:00,  2.95it/s]\n"
     ]
    },
    {
     "name": "stdout",
     "output_type": "stream",
     "text": [
      "initial_potential =  79875.33603117321\n",
      "final_potential =  79563.33580645359\n",
      "energy_change =  -1.0363611901411787\n",
      "p accept =  2.8189407396308312\n",
      "current step size = 0.0010383245649967724\n",
      "current acceptance ratio = 0.6707988980716253\n",
      "currently working on step 727\n"
     ]
    },
    {
     "name": "stderr",
     "output_type": "stream",
     "text": [
      "100%|██████████| 98/98 [00:33<00:00,  2.96it/s]\n"
     ]
    },
    {
     "name": "stdout",
     "output_type": "stream",
     "text": [
      "initial_potential =  79563.33580645359\n",
      "final_potential =  79823.03782995939\n",
      "energy_change =  1.1433874777867459\n",
      "p accept =  0.318737474876469\n",
      "current step size = 0.0010383245649967724\n",
      "current acceptance ratio = 0.671251719394773\n",
      "currently working on step 728\n"
     ]
    },
    {
     "name": "stderr",
     "output_type": "stream",
     "text": [
      "100%|██████████| 97/97 [00:32<00:00,  2.95it/s]\n"
     ]
    },
    {
     "name": "stdout",
     "output_type": "stream",
     "text": [
      "initial_potential =  79823.03782995939\n",
      "final_potential =  80036.93239493802\n",
      "energy_change =  0.5223568979999982\n",
      "p accept =  0.5931209736545607\n",
      "current step size = 0.0010383245649967724\n",
      "current acceptance ratio = 0.6717032967032966\n",
      "currently working on step 729\n"
     ]
    },
    {
     "name": "stderr",
     "output_type": "stream",
     "text": [
      "100%|██████████| 101/101 [00:34<00:00,  2.96it/s]\n"
     ]
    },
    {
     "name": "stdout",
     "output_type": "stream",
     "text": [
      "initial_potential =  80036.93239493802\n",
      "final_potential =  79744.90054593372\n",
      "energy_change =  -0.9906971583841369\n",
      "p accept =  2.693111343187441\n",
      "current step size = 0.0010383245649967724\n",
      "current acceptance ratio = 0.6721536351165981\n",
      "currently working on step 730\n"
     ]
    },
    {
     "name": "stderr",
     "output_type": "stream",
     "text": [
      "100%|██████████| 99/99 [00:33<00:00,  2.94it/s]\n"
     ]
    },
    {
     "name": "stdout",
     "output_type": "stream",
     "text": [
      "initial_potential =  79744.90054593372\n",
      "final_potential =  80198.95300709586\n",
      "energy_change =  1.2619912380469032\n",
      "p accept =  0.28308976578519085\n",
      "current step size = 0.0010383245649967724\n",
      "current acceptance ratio = 0.6712328767123288\n",
      "currently working on step 731\n"
     ]
    },
    {
     "name": "stderr",
     "output_type": "stream",
     "text": [
      "100%|██████████| 97/97 [00:32<00:00,  2.95it/s]\n"
     ]
    },
    {
     "name": "stdout",
     "output_type": "stream",
     "text": [
      "initial_potential =  79744.90054593372\n",
      "final_potential =  80058.66330600846\n",
      "energy_change =  0.9338191719143651\n",
      "p accept =  0.3930497157573507\n",
      "current step size = 0.0010383245649967724\n",
      "current acceptance ratio = 0.6716826265389877\n",
      "currently working on step 732\n"
     ]
    },
    {
     "name": "stderr",
     "output_type": "stream",
     "text": [
      "100%|██████████| 101/101 [00:34<00:00,  2.96it/s]\n"
     ]
    },
    {
     "name": "stdout",
     "output_type": "stream",
     "text": [
      "initial_potential =  80058.66330600846\n",
      "final_potential =  80212.9306467544\n",
      "energy_change =  0.40060494281351566\n",
      "p accept =  0.6699146633700623\n",
      "current step size = 0.0010383245649967724\n",
      "current acceptance ratio = 0.6707650273224044\n",
      "currently working on step 733\n"
     ]
    },
    {
     "name": "stderr",
     "output_type": "stream",
     "text": [
      "100%|██████████| 98/98 [00:33<00:00,  2.96it/s]\n"
     ]
    },
    {
     "name": "stdout",
     "output_type": "stream",
     "text": [
      "initial_potential =  80058.66330600846\n",
      "final_potential =  80106.9636908553\n",
      "energy_change =  -0.08658121566986665\n",
      "p accept =  1.0904399249305665\n",
      "current step size = 0.0010383245649967724\n",
      "current acceptance ratio = 0.6712141882673943\n",
      "currently working on step 734\n"
     ]
    },
    {
     "name": "stderr",
     "output_type": "stream",
     "text": [
      "100%|██████████| 98/98 [00:32<00:00,  2.98it/s]\n"
     ]
    },
    {
     "name": "stdout",
     "output_type": "stream",
     "text": [
      "initial_potential =  80106.9636908553\n",
      "final_potential =  80269.51567071919\n",
      "energy_change =  0.5397375406464562\n",
      "p accept =  0.5829012201766237\n",
      "current step size = 0.0010383245649967724\n",
      "current acceptance ratio = 0.6716621253405994\n",
      "currently working on step 735\n"
     ]
    },
    {
     "name": "stderr",
     "output_type": "stream",
     "text": [
      "100%|██████████| 97/97 [00:31<00:00,  3.08it/s]\n"
     ]
    },
    {
     "name": "stdout",
     "output_type": "stream",
     "text": [
      "initial_potential =  80269.51567071919\n",
      "final_potential =  80432.40860049253\n",
      "energy_change =  0.3884596566786058\n",
      "p accept =  0.67810057815762\n",
      "current step size = 0.0010383245649967724\n",
      "current acceptance ratio = 0.6707482993197279\n",
      "currently working on step 736\n"
     ]
    },
    {
     "name": "stderr",
     "output_type": "stream",
     "text": [
      "100%|██████████| 100/100 [00:32<00:00,  3.06it/s]\n"
     ]
    },
    {
     "name": "stdout",
     "output_type": "stream",
     "text": [
      "initial_potential =  80269.51567071919\n",
      "final_potential =  79974.48166619206\n",
      "energy_change =  -0.915483271703124\n",
      "p accept =  2.497982164343019\n",
      "current step size = 0.0010383245649967724\n",
      "current acceptance ratio = 0.6711956521739131\n",
      "currently working on step 737\n"
     ]
    },
    {
     "name": "stderr",
     "output_type": "stream",
     "text": [
      "100%|██████████| 97/97 [00:31<00:00,  3.05it/s]\n"
     ]
    },
    {
     "name": "stdout",
     "output_type": "stream",
     "text": [
      "initial_potential =  79974.48166619206\n",
      "final_potential =  80076.11616523573\n",
      "energy_change =  0.47708905552281067\n",
      "p accept =  0.6205872601095621\n",
      "current step size = 0.0010383245649967724\n",
      "current acceptance ratio = 0.6716417910447762\n",
      "currently working on step 738\n"
     ]
    },
    {
     "name": "stderr",
     "output_type": "stream",
     "text": [
      "100%|██████████| 101/101 [00:33<00:00,  3.02it/s]\n"
     ]
    },
    {
     "name": "stdout",
     "output_type": "stream",
     "text": [
      "initial_potential =  80076.11616523573\n",
      "final_potential =  80050.50311237591\n",
      "energy_change =  -0.0026075649075210094\n",
      "p accept =  1.002610967561799\n",
      "current step size = 0.0010383245649967724\n",
      "current acceptance ratio = 0.6720867208672087\n",
      "currently working on step 739\n"
     ]
    },
    {
     "name": "stderr",
     "output_type": "stream",
     "text": [
      "100%|██████████| 97/97 [00:32<00:00,  3.02it/s]\n"
     ]
    },
    {
     "name": "stdout",
     "output_type": "stream",
     "text": [
      "initial_potential =  80050.50311237591\n",
      "final_potential =  79910.86743585225\n",
      "energy_change =  -0.3042633978766389\n",
      "p accept =  1.3556260780986755\n",
      "current step size = 0.0010383245649967724\n",
      "current acceptance ratio = 0.6725304465493911\n",
      "currently working on step 740\n"
     ]
    },
    {
     "name": "stderr",
     "output_type": "stream",
     "text": [
      "100%|██████████| 97/97 [00:32<00:00,  3.01it/s]\n"
     ]
    },
    {
     "name": "stdout",
     "output_type": "stream",
     "text": [
      "initial_potential =  79910.86743585225\n",
      "final_potential =  80208.06747107588\n",
      "energy_change =  0.4715271268505603\n",
      "p accept =  0.6240485389553279\n",
      "current step size = 0.0010383245649967724\n",
      "current acceptance ratio = 0.672972972972973\n",
      "currently working on step 741\n"
     ]
    },
    {
     "name": "stderr",
     "output_type": "stream",
     "text": [
      "100%|██████████| 98/98 [00:32<00:00,  3.00it/s]\n"
     ]
    },
    {
     "name": "stdout",
     "output_type": "stream",
     "text": [
      "initial_potential =  80208.06747107588\n",
      "final_potential =  80062.63898103178\n",
      "energy_change =  -0.2315615770057775\n",
      "p accept =  1.2605669461259217\n",
      "current step size = 0.0010383245649967724\n",
      "current acceptance ratio = 0.6734143049932524\n",
      "currently working on step 742\n"
     ]
    },
    {
     "name": "stderr",
     "output_type": "stream",
     "text": [
      "100%|██████████| 100/100 [00:33<00:00,  3.01it/s]\n"
     ]
    },
    {
     "name": "stdout",
     "output_type": "stream",
     "text": [
      "initial_potential =  80062.63898103178\n",
      "final_potential =  80213.2160236571\n",
      "energy_change =  0.4769417562056333\n",
      "p accept =  0.6206786789220242\n",
      "current step size = 0.0010383245649967724\n",
      "current acceptance ratio = 0.6738544474393531\n",
      "currently working on step 743\n"
     ]
    },
    {
     "name": "stderr",
     "output_type": "stream",
     "text": [
      "100%|██████████| 101/101 [00:33<00:00,  2.99it/s]\n"
     ]
    },
    {
     "name": "stdout",
     "output_type": "stream",
     "text": [
      "initial_potential =  80213.2160236571\n",
      "final_potential =  80233.3245786768\n",
      "energy_change =  0.14832814352121204\n",
      "p accept =  0.8621481601866094\n",
      "current step size = 0.0010383245649967724\n",
      "current acceptance ratio = 0.6729475100942126\n",
      "currently working on step 744\n"
     ]
    },
    {
     "name": "stderr",
     "output_type": "stream",
     "text": [
      "100%|██████████| 99/99 [00:33<00:00,  2.99it/s]\n"
     ]
    },
    {
     "name": "stdout",
     "output_type": "stream",
     "text": [
      "initial_potential =  80213.2160236571\n",
      "final_potential =  79615.74386495378\n",
      "energy_change =  -1.4101272514089942\n",
      "p accept =  4.09647665333167\n",
      "current step size = 0.0010383245649967724\n",
      "current acceptance ratio = 0.6733870967741935\n",
      "currently working on step 745\n"
     ]
    },
    {
     "name": "stderr",
     "output_type": "stream",
     "text": [
      "100%|██████████| 99/99 [00:33<00:00,  2.98it/s]\n"
     ]
    },
    {
     "name": "stdout",
     "output_type": "stream",
     "text": [
      "initial_potential =  79615.74386495378\n",
      "final_potential =  79951.57516255516\n",
      "energy_change =  0.8628398044966161\n",
      "p accept =  0.4219620894126534\n",
      "current step size = 0.0010383245649967724\n",
      "current acceptance ratio = 0.6724832214765101\n",
      "currently working on step 746\n"
     ]
    },
    {
     "name": "stderr",
     "output_type": "stream",
     "text": [
      "100%|██████████| 98/98 [00:32<00:00,  2.97it/s]\n"
     ]
    },
    {
     "name": "stdout",
     "output_type": "stream",
     "text": [
      "initial_potential =  79615.74386495378\n",
      "final_potential =  80035.69322211093\n",
      "energy_change =  0.9800669679534622\n",
      "p accept =  0.37528596587675916\n",
      "current step size = 0.0010383245649967724\n",
      "current acceptance ratio = 0.6715817694369973\n",
      "currently working on step 747\n"
     ]
    },
    {
     "name": "stderr",
     "output_type": "stream",
     "text": [
      "100%|██████████| 101/101 [00:33<00:00,  2.98it/s]\n"
     ]
    },
    {
     "name": "stdout",
     "output_type": "stream",
     "text": [
      "initial_potential =  79615.74386495378\n",
      "final_potential =  79655.36877998468\n",
      "energy_change =  0.00871648476459086\n",
      "p accept =  0.9913213936532891\n",
      "current step size = 0.0010383245649967724\n",
      "current acceptance ratio = 0.6720214190093708\n",
      "currently working on step 748\n"
     ]
    },
    {
     "name": "stderr",
     "output_type": "stream",
     "text": [
      "100%|██████████| 100/100 [00:33<00:00,  2.97it/s]\n"
     ]
    },
    {
     "name": "stdout",
     "output_type": "stream",
     "text": [
      "initial_potential =  79655.36877998468\n",
      "final_potential =  80234.2465023584\n",
      "energy_change =  1.485625169123523\n",
      "p accept =  0.22636078266013318\n",
      "current step size = 0.0010383245649967724\n",
      "current acceptance ratio = 0.6711229946524064\n",
      "currently working on step 749\n"
     ]
    },
    {
     "name": "stderr",
     "output_type": "stream",
     "text": [
      "100%|██████████| 99/99 [00:33<00:00,  2.96it/s]\n"
     ]
    },
    {
     "name": "stdout",
     "output_type": "stream",
     "text": [
      "initial_potential =  79655.36877998468\n",
      "final_potential =  80378.1521020622\n",
      "energy_change =  1.8015428506187163\n",
      "p accept =  0.16504405336622835\n",
      "current step size = 0.0010383245649967724\n",
      "current acceptance ratio = 0.6702269692923899\n",
      "currently working on step 750\n"
     ]
    },
    {
     "name": "stderr",
     "output_type": "stream",
     "text": [
      "100%|██████████| 98/98 [00:32<00:00,  2.98it/s]\n"
     ]
    },
    {
     "name": "stdout",
     "output_type": "stream",
     "text": [
      "initial_potential =  79655.36877998468\n",
      "final_potential =  80009.40583810683\n",
      "energy_change =  0.6954383479314856\n",
      "p accept =  0.4988557276745045\n",
      "current step size = 0.0010383245649967724\n",
      "current acceptance ratio = 0.6693333333333333\n",
      "currently working on step 751\n"
     ]
    },
    {
     "name": "stderr",
     "output_type": "stream",
     "text": [
      "100%|██████████| 101/101 [00:33<00:00,  2.99it/s]\n"
     ]
    },
    {
     "name": "stdout",
     "output_type": "stream",
     "text": [
      "initial_potential =  79655.36877998468\n",
      "final_potential =  80394.31364535198\n",
      "energy_change =  2.0947093132999726\n",
      "p accept =  0.12310602373711228\n",
      "current step size = 0.0010383245649967724\n",
      "current acceptance ratio = 0.6684420772303595\n",
      "currently working on step 752\n"
     ]
    },
    {
     "name": "stderr",
     "output_type": "stream",
     "text": [
      "100%|██████████| 98/98 [00:33<00:00,  2.95it/s]\n"
     ]
    },
    {
     "name": "stdout",
     "output_type": "stream",
     "text": [
      "initial_potential =  79655.36877998468\n",
      "final_potential =  79940.60588660392\n",
      "energy_change =  0.8735019536688924\n",
      "p accept =  0.41748696628027543\n",
      "current step size = 0.0010383245649967724\n",
      "current acceptance ratio = 0.6675531914893617\n",
      "currently working on step 753\n"
     ]
    },
    {
     "name": "stderr",
     "output_type": "stream",
     "text": [
      "100%|██████████| 99/99 [00:33<00:00,  2.97it/s]\n"
     ]
    },
    {
     "name": "stdout",
     "output_type": "stream",
     "text": [
      "initial_potential =  79655.36877998468\n",
      "final_potential =  80057.87725249886\n",
      "energy_change =  1.4091354369884357\n",
      "p accept =  0.2443544516766671\n",
      "current step size = 0.0010383245649967724\n",
      "current acceptance ratio = 0.6666666666666666\n",
      "currently working on step 754\n"
     ]
    },
    {
     "name": "stderr",
     "output_type": "stream",
     "text": [
      "100%|██████████| 97/97 [00:32<00:00,  2.97it/s]\n"
     ]
    },
    {
     "name": "stdout",
     "output_type": "stream",
     "text": [
      "initial_potential =  79655.36877998468\n",
      "final_potential =  79834.86037900236\n",
      "energy_change =  0.4151904418831691\n",
      "p accept =  0.6602145362322801\n",
      "current step size = 0.0010383245649967724\n",
      "current acceptance ratio = 0.6657824933687002\n",
      "currently working on step 755\n"
     ]
    },
    {
     "name": "stderr",
     "output_type": "stream",
     "text": [
      "100%|██████████| 97/97 [00:32<00:00,  2.97it/s]\n"
     ]
    },
    {
     "name": "stdout",
     "output_type": "stream",
     "text": [
      "initial_potential =  79655.36877998468\n",
      "final_potential =  80362.88253127968\n",
      "energy_change =  1.846208504459355\n",
      "p accept =  0.1578344619348395\n",
      "current step size = 0.0010383245649967724\n",
      "current acceptance ratio = 0.6649006622516557\n",
      "currently working on step 756\n"
     ]
    },
    {
     "name": "stderr",
     "output_type": "stream",
     "text": [
      "100%|██████████| 100/100 [00:33<00:00,  2.96it/s]\n"
     ]
    },
    {
     "name": "stdout",
     "output_type": "stream",
     "text": [
      "initial_potential =  79655.36877998468\n",
      "final_potential =  80099.65798957007\n",
      "energy_change =  1.3029131002840586\n",
      "p accept =  0.271739035841533\n",
      "current step size = 0.0010383245649967724\n",
      "current acceptance ratio = 0.6653439153439153\n",
      "currently working on step 757\n"
     ]
    },
    {
     "name": "stderr",
     "output_type": "stream",
     "text": [
      "100%|██████████| 101/101 [00:34<00:00,  2.96it/s]\n"
     ]
    },
    {
     "name": "stdout",
     "output_type": "stream",
     "text": [
      "initial_potential =  80099.65798957007\n",
      "final_potential =  80679.17881259604\n",
      "energy_change =  1.6236331995460205\n",
      "p accept =  0.1971809981847152\n",
      "current step size = 0.0010383245649967724\n",
      "current acceptance ratio = 0.6644649933949802\n",
      "currently working on step 758\n"
     ]
    },
    {
     "name": "stderr",
     "output_type": "stream",
     "text": [
      "100%|██████████| 97/97 [00:32<00:00,  2.95it/s]\n"
     ]
    },
    {
     "name": "stdout",
     "output_type": "stream",
     "text": [
      "initial_potential =  80099.65798957007\n",
      "final_potential =  79928.5830175301\n",
      "energy_change =  -0.4054923537769355\n",
      "p accept =  1.5000408690599065\n",
      "current step size = 0.0010383245649967724\n",
      "current acceptance ratio = 0.6649076517150396\n",
      "currently working on step 759\n"
     ]
    },
    {
     "name": "stderr",
     "output_type": "stream",
     "text": [
      "100%|██████████| 97/97 [00:32<00:00,  2.95it/s]\n"
     ]
    },
    {
     "name": "stdout",
     "output_type": "stream",
     "text": [
      "initial_potential =  79928.5830175301\n",
      "final_potential =  79985.42371983078\n",
      "energy_change =  -0.09581329510547221\n",
      "p accept =  1.100553566073366\n",
      "current step size = 0.0010383245649967724\n",
      "current acceptance ratio = 0.6653491436100132\n",
      "currently working on step 760\n"
     ]
    },
    {
     "name": "stderr",
     "output_type": "stream",
     "text": [
      "100%|██████████| 100/100 [00:31<00:00,  3.17it/s]\n"
     ]
    },
    {
     "name": "stdout",
     "output_type": "stream",
     "text": [
      "initial_potential =  79985.42371983078\n",
      "final_potential =  80056.19121534345\n",
      "energy_change =  -0.04348898370517418\n",
      "p accept =  1.044448488296172\n",
      "current step size = 0.0010383245649967724\n",
      "current acceptance ratio = 0.6657894736842105\n",
      "currently working on step 761\n"
     ]
    },
    {
     "name": "stderr",
     "output_type": "stream",
     "text": [
      "100%|██████████| 100/100 [00:32<00:00,  3.12it/s]\n"
     ]
    },
    {
     "name": "stdout",
     "output_type": "stream",
     "text": [
      "initial_potential =  80056.19121534345\n",
      "final_potential =  80544.64049249688\n",
      "energy_change =  1.2062450846424326\n",
      "p accept =  0.29931908980744115\n",
      "current step size = 0.0010383245649967724\n",
      "current acceptance ratio = 0.6662286465177398\n",
      "currently working on step 762\n"
     ]
    },
    {
     "name": "stderr",
     "output_type": "stream",
     "text": [
      "100%|██████████| 101/101 [00:32<00:00,  3.10it/s]\n"
     ]
    },
    {
     "name": "stdout",
     "output_type": "stream",
     "text": [
      "initial_potential =  80544.64049249688\n",
      "final_potential =  80281.0165535909\n",
      "energy_change =  -0.5527105912333354\n",
      "p accept =  1.7379575314289297\n",
      "current step size = 0.0010383245649967724\n",
      "current acceptance ratio = 0.6666666666666666\n",
      "currently working on step 763\n"
     ]
    },
    {
     "name": "stderr",
     "output_type": "stream",
     "text": [
      "100%|██████████| 100/100 [00:32<00:00,  3.06it/s]\n"
     ]
    },
    {
     "name": "stdout",
     "output_type": "stream",
     "text": [
      "initial_potential =  80281.0165535909\n",
      "final_potential =  80279.33362627111\n",
      "energy_change =  -0.1271621632622555\n",
      "p accept =  1.1356011556389045\n",
      "current step size = 0.0010383245649967724\n",
      "current acceptance ratio = 0.6671035386631717\n",
      "currently working on step 764\n"
     ]
    },
    {
     "name": "stderr",
     "output_type": "stream",
     "text": [
      "100%|██████████| 101/101 [00:33<00:00,  3.05it/s]\n"
     ]
    },
    {
     "name": "stdout",
     "output_type": "stream",
     "text": [
      "initial_potential =  80279.33362627111\n",
      "final_potential =  80579.17540285725\n",
      "energy_change =  0.7935384689480998\n",
      "p accept =  0.4522417174601861\n",
      "current step size = 0.0010383245649967724\n",
      "current acceptance ratio = 0.6662303664921466\n",
      "currently working on step 765\n"
     ]
    },
    {
     "name": "stderr",
     "output_type": "stream",
     "text": [
      "100%|██████████| 99/99 [00:32<00:00,  3.04it/s]\n"
     ]
    },
    {
     "name": "stdout",
     "output_type": "stream",
     "text": [
      "initial_potential =  80279.33362627111\n",
      "final_potential =  79983.36695643685\n",
      "energy_change =  -0.8726330224308185\n",
      "p accept =  2.393203924604907\n",
      "current step size = 0.0010383245649967724\n",
      "current acceptance ratio = 0.6666666666666666\n",
      "currently working on step 766\n"
     ]
    },
    {
     "name": "stderr",
     "output_type": "stream",
     "text": [
      "100%|██████████| 100/100 [00:32<00:00,  3.07it/s]\n"
     ]
    },
    {
     "name": "stdout",
     "output_type": "stream",
     "text": [
      "initial_potential =  79983.36695643685\n",
      "final_potential =  80165.27098174971\n",
      "energy_change =  0.507567098189611\n",
      "p accept =  0.6019583042052267\n",
      "current step size = 0.0010383245649967724\n",
      "current acceptance ratio = 0.6657963446475196\n",
      "currently working on step 767\n"
     ]
    },
    {
     "name": "stderr",
     "output_type": "stream",
     "text": [
      "100%|██████████| 101/101 [00:33<00:00,  3.02it/s]\n"
     ]
    },
    {
     "name": "stdout",
     "output_type": "stream",
     "text": [
      "initial_potential =  79983.36695643685\n",
      "final_potential =  80336.60278306325\n",
      "energy_change =  0.9495404245681129\n",
      "p accept =  0.3869188009753452\n",
      "current step size = 0.0010383245649967724\n",
      "current acceptance ratio = 0.666232073011734\n",
      "currently working on step 768\n"
     ]
    },
    {
     "name": "stderr",
     "output_type": "stream",
     "text": [
      "100%|██████████| 100/100 [00:32<00:00,  3.04it/s]\n"
     ]
    },
    {
     "name": "stdout",
     "output_type": "stream",
     "text": [
      "initial_potential =  80336.60278306325\n",
      "final_potential =  79974.80806113534\n",
      "energy_change =  -0.5797231505857781\n",
      "p accept =  1.7855440354964183\n",
      "current step size = 0.0010383245649967724\n",
      "current acceptance ratio = 0.6666666666666666\n",
      "currently working on step 769\n"
     ]
    },
    {
     "name": "stderr",
     "output_type": "stream",
     "text": [
      "100%|██████████| 98/98 [00:32<00:00,  3.02it/s]\n"
     ]
    },
    {
     "name": "stdout",
     "output_type": "stream",
     "text": [
      "initial_potential =  79974.80806113534\n",
      "final_potential =  80123.97735440618\n",
      "energy_change =  0.5347295461106114\n",
      "p accept =  0.5858277081036198\n",
      "current step size = 0.0010383245649967724\n",
      "current acceptance ratio = 0.6657997399219766\n",
      "currently working on step 770\n"
     ]
    },
    {
     "name": "stderr",
     "output_type": "stream",
     "text": [
      "100%|██████████| 98/98 [00:32<00:00,  3.04it/s]\n"
     ]
    },
    {
     "name": "stdout",
     "output_type": "stream",
     "text": [
      "initial_potential =  79974.80806113534\n",
      "final_potential =  80235.45833952242\n",
      "energy_change =  0.5672551497700624\n",
      "p accept =  0.5670798536721949\n",
      "current step size = 0.0010383245649967724\n",
      "current acceptance ratio = 0.6662337662337663\n",
      "currently working on step 771\n"
     ]
    },
    {
     "name": "stderr",
     "output_type": "stream",
     "text": [
      "100%|██████████| 99/99 [00:32<00:00,  3.01it/s]\n"
     ]
    },
    {
     "name": "stdout",
     "output_type": "stream",
     "text": [
      "initial_potential =  80235.45833952242\n",
      "final_potential =  80378.57440070434\n",
      "energy_change =  0.5986569057567976\n",
      "p accept =  0.5495492370659965\n",
      "current step size = 0.0010383245649967724\n",
      "current acceptance ratio = 0.6653696498054474\n",
      "currently working on step 772\n"
     ]
    },
    {
     "name": "stderr",
     "output_type": "stream",
     "text": [
      "100%|██████████| 97/97 [00:32<00:00,  3.03it/s]\n"
     ]
    },
    {
     "name": "stdout",
     "output_type": "stream",
     "text": [
      "initial_potential =  80235.45833952242\n",
      "final_potential =  79797.90249505025\n",
      "energy_change =  -0.9895623290794902\n",
      "p accept =  2.6900568550036734\n",
      "current step size = 0.0010383245649967724\n",
      "current acceptance ratio = 0.6658031088082902\n",
      "currently working on step 773\n"
     ]
    },
    {
     "name": "stderr",
     "output_type": "stream",
     "text": [
      "100%|██████████| 100/100 [00:32<00:00,  3.06it/s]\n"
     ]
    },
    {
     "name": "stdout",
     "output_type": "stream",
     "text": [
      "initial_potential =  79797.90249505025\n",
      "final_potential =  80572.60854743878\n",
      "energy_change =  2.122717776452191\n",
      "p accept =  0.11970585227198993\n",
      "current step size = 0.0010383245649967724\n",
      "current acceptance ratio = 0.6649417852522639\n",
      "currently working on step 774\n"
     ]
    },
    {
     "name": "stderr",
     "output_type": "stream",
     "text": [
      "100%|██████████| 100/100 [00:31<00:00,  3.18it/s]\n"
     ]
    },
    {
     "name": "stdout",
     "output_type": "stream",
     "text": [
      "initial_potential =  79797.90249505025\n",
      "final_potential =  80573.15725469048\n",
      "energy_change =  1.9600464947288856\n",
      "p accept =  0.1408518718992017\n",
      "current step size = 0.0010383245649967724\n",
      "current acceptance ratio = 0.6640826873385013\n",
      "currently working on step 775\n"
     ]
    },
    {
     "name": "stderr",
     "output_type": "stream",
     "text": [
      "100%|██████████| 99/99 [00:32<00:00,  3.08it/s]\n"
     ]
    },
    {
     "name": "stdout",
     "output_type": "stream",
     "text": [
      "initial_potential =  79797.90249505025\n",
      "final_potential =  80029.35175542672\n",
      "energy_change =  0.8939845630084164\n",
      "p accept =  0.40902272464302974\n",
      "current step size = 0.0010383245649967724\n",
      "current acceptance ratio = 0.6632258064516129\n",
      "currently working on step 776\n"
     ]
    },
    {
     "name": "stderr",
     "output_type": "stream",
     "text": [
      "100%|██████████| 97/97 [00:31<00:00,  3.08it/s]\n"
     ]
    },
    {
     "name": "stdout",
     "output_type": "stream",
     "text": [
      "initial_potential =  79797.90249505025\n",
      "final_potential =  80322.25781085556\n",
      "energy_change =  1.4639278751565143\n",
      "p accept =  0.23132586878674302\n",
      "current step size = 0.0010383245649967724\n",
      "current acceptance ratio = 0.6623711340206185\n",
      "currently working on step 777\n"
     ]
    },
    {
     "name": "stderr",
     "output_type": "stream",
     "text": [
      "100%|██████████| 100/100 [00:32<00:00,  3.07it/s]\n"
     ]
    },
    {
     "name": "stdout",
     "output_type": "stream",
     "text": [
      "initial_potential =  79797.90249505025\n",
      "final_potential =  80113.78354947333\n",
      "energy_change =  0.7897341087227687\n",
      "p accept =  0.45396548469905873\n",
      "current step size = 0.0010383245649967724\n",
      "current acceptance ratio = 0.6628056628056628\n",
      "currently working on step 778\n"
     ]
    },
    {
     "name": "stderr",
     "output_type": "stream",
     "text": [
      "100%|██████████| 99/99 [00:32<00:00,  3.04it/s]\n"
     ]
    },
    {
     "name": "stdout",
     "output_type": "stream",
     "text": [
      "initial_potential =  80113.78354947333\n",
      "final_potential =  80188.02070681247\n",
      "energy_change =  0.049524861155077815\n",
      "p accept =  0.9516814979410485\n",
      "current step size = 0.0010383245649967724\n",
      "current acceptance ratio = 0.6632390745501285\n",
      "currently working on step 779\n"
     ]
    },
    {
     "name": "stderr",
     "output_type": "stream",
     "text": [
      "100%|██████████| 98/98 [00:32<00:00,  3.05it/s]\n"
     ]
    },
    {
     "name": "stdout",
     "output_type": "stream",
     "text": [
      "initial_potential =  80188.02070681247\n",
      "final_potential =  80164.00122338254\n",
      "energy_change =  0.09733463800512254\n",
      "p accept =  0.9072523542114136\n",
      "current step size = 0.0010383245649967724\n",
      "current acceptance ratio = 0.6636713735558408\n",
      "currently working on step 780\n"
     ]
    },
    {
     "name": "stderr",
     "output_type": "stream",
     "text": [
      "100%|██████████| 97/97 [00:31<00:00,  3.03it/s]\n"
     ]
    },
    {
     "name": "stdout",
     "output_type": "stream",
     "text": [
      "initial_potential =  80164.00122338254\n",
      "final_potential =  80181.93232431728\n",
      "energy_change =  -0.0061430882778950036\n",
      "p accept =  1.0061619957416015\n",
      "current step size = 0.0010383245649967724\n",
      "current acceptance ratio = 0.6641025641025641\n",
      "currently working on step 781\n"
     ]
    },
    {
     "name": "stderr",
     "output_type": "stream",
     "text": [
      "100%|██████████| 101/101 [00:33<00:00,  3.03it/s]\n"
     ]
    },
    {
     "name": "stdout",
     "output_type": "stream",
     "text": [
      "initial_potential =  80181.93232431728\n",
      "final_potential =  80341.36122352615\n",
      "energy_change =  0.3256856491207145\n",
      "p accept =  0.7220321231939172\n",
      "current step size = 0.0010383245649967724\n",
      "current acceptance ratio = 0.6632522407170295\n",
      "currently working on step 782\n"
     ]
    },
    {
     "name": "stderr",
     "output_type": "stream",
     "text": [
      "100%|██████████| 99/99 [00:32<00:00,  3.03it/s]\n"
     ]
    },
    {
     "name": "stdout",
     "output_type": "stream",
     "text": [
      "initial_potential =  80181.93232431728\n",
      "final_potential =  79968.48530408587\n",
      "energy_change =  -1.041710406425409\n",
      "p accept =  2.834060266095494\n",
      "current step size = 0.0010383245649967724\n",
      "current acceptance ratio = 0.6636828644501279\n",
      "currently working on step 783\n"
     ]
    },
    {
     "name": "stderr",
     "output_type": "stream",
     "text": [
      "100%|██████████| 99/99 [00:32<00:00,  3.02it/s]\n"
     ]
    },
    {
     "name": "stdout",
     "output_type": "stream",
     "text": [
      "initial_potential =  79968.48530408587\n",
      "final_potential =  80500.80281445183\n",
      "energy_change =  1.3761000938829966\n",
      "p accept =  0.2525616014500028\n",
      "current step size = 0.0010383245649967724\n",
      "current acceptance ratio = 0.6628352490421456\n",
      "currently working on step 784\n"
     ]
    },
    {
     "name": "stderr",
     "output_type": "stream",
     "text": [
      "100%|██████████| 98/98 [00:32<00:00,  3.02it/s]\n"
     ]
    },
    {
     "name": "stdout",
     "output_type": "stream",
     "text": [
      "initial_potential =  79968.48530408587\n",
      "final_potential =  80299.88781217045\n",
      "energy_change =  0.9725373187684454\n",
      "p accept =  0.3781224028303534\n",
      "current step size = 0.0010383245649967724\n",
      "current acceptance ratio = 0.6632653061224489\n",
      "currently working on step 785\n"
     ]
    },
    {
     "name": "stderr",
     "output_type": "stream",
     "text": [
      "100%|██████████| 100/100 [00:33<00:00,  3.02it/s]\n"
     ]
    },
    {
     "name": "stdout",
     "output_type": "stream",
     "text": [
      "initial_potential =  80299.88781217045\n",
      "final_potential =  80607.41471251471\n",
      "energy_change =  0.8607065081596375\n",
      "p accept =  0.42286322044035113\n",
      "current step size = 0.0010383245649967724\n",
      "current acceptance ratio = 0.6636942675159235\n",
      "currently working on step 786\n"
     ]
    },
    {
     "name": "stderr",
     "output_type": "stream",
     "text": [
      "100%|██████████| 97/97 [00:32<00:00,  3.01it/s]\n"
     ]
    },
    {
     "name": "stdout",
     "output_type": "stream",
     "text": [
      "initial_potential =  80607.41471251471\n",
      "final_potential =  80481.00898761892\n",
      "energy_change =  -0.37838776648277417\n",
      "p accept =  1.4599289446424115\n",
      "current step size = 0.0010383245649967724\n",
      "current acceptance ratio = 0.6641221374045801\n",
      "currently working on step 787\n"
     ]
    },
    {
     "name": "stderr",
     "output_type": "stream",
     "text": [
      "100%|██████████| 97/97 [00:32<00:00,  3.03it/s]\n"
     ]
    },
    {
     "name": "stdout",
     "output_type": "stream",
     "text": [
      "initial_potential =  80481.00898761892\n",
      "final_potential =  80480.96548727373\n",
      "energy_change =  0.03013290202943608\n",
      "p accept =  0.9703165679377279\n",
      "current step size = 0.0010383245649967724\n",
      "current acceptance ratio = 0.6645489199491741\n",
      "currently working on step 788\n"
     ]
    },
    {
     "name": "stderr",
     "output_type": "stream",
     "text": [
      "100%|██████████| 101/101 [00:33<00:00,  3.05it/s]\n"
     ]
    },
    {
     "name": "stdout",
     "output_type": "stream",
     "text": [
      "initial_potential =  80480.96548727373\n",
      "final_potential =  80380.15051431736\n",
      "energy_change =  -0.3808812041534111\n",
      "p accept =  1.463573728601877\n",
      "current step size = 0.0010383245649967724\n",
      "current acceptance ratio = 0.6649746192893401\n",
      "currently working on step 789\n"
     ]
    },
    {
     "name": "stderr",
     "output_type": "stream",
     "text": [
      "100%|██████████| 99/99 [00:31<00:00,  3.14it/s]\n"
     ]
    },
    {
     "name": "stdout",
     "output_type": "stream",
     "text": [
      "initial_potential =  80380.15051431736\n",
      "final_potential =  80749.4333283942\n",
      "energy_change =  0.9024220344144851\n",
      "p accept =  0.40558612559040647\n",
      "current step size = 0.0010383245649967724\n",
      "current acceptance ratio = 0.6653992395437263\n",
      "currently working on step 790\n"
     ]
    },
    {
     "name": "stderr",
     "output_type": "stream",
     "text": [
      "100%|██████████| 100/100 [00:32<00:00,  3.09it/s]\n"
     ]
    },
    {
     "name": "stdout",
     "output_type": "stream",
     "text": [
      "initial_potential =  80749.4333283942\n",
      "final_potential =  79941.12373924023\n",
      "energy_change =  -1.9051152132451534\n",
      "p accept =  6.720181836991967\n",
      "current step size = 0.0010383245649967724\n",
      "current acceptance ratio = 0.6658227848101266\n",
      "currently working on step 791\n"
     ]
    },
    {
     "name": "stderr",
     "output_type": "stream",
     "text": [
      "100%|██████████| 99/99 [00:32<00:00,  3.06it/s]\n"
     ]
    },
    {
     "name": "stdout",
     "output_type": "stream",
     "text": [
      "initial_potential =  79941.12373924023\n",
      "final_potential =  80492.43912879762\n",
      "energy_change =  1.4380172124365345\n",
      "p accept =  0.23739800213785295\n",
      "current step size = 0.0010383245649967724\n",
      "current acceptance ratio = 0.6649810366624526\n",
      "currently working on step 792\n"
     ]
    },
    {
     "name": "stderr",
     "output_type": "stream",
     "text": [
      "100%|██████████| 101/101 [00:33<00:00,  3.01it/s]\n"
     ]
    },
    {
     "name": "stdout",
     "output_type": "stream",
     "text": [
      "initial_potential =  79941.12373924023\n",
      "final_potential =  80829.51109819837\n",
      "energy_change =  2.4852435663924553\n",
      "p accept =  0.08330526167879757\n",
      "current step size = 0.0010383245649967724\n",
      "current acceptance ratio = 0.6641414141414141\n",
      "currently working on step 793\n"
     ]
    },
    {
     "name": "stderr",
     "output_type": "stream",
     "text": [
      "100%|██████████| 97/97 [00:32<00:00,  2.98it/s]\n"
     ]
    },
    {
     "name": "stdout",
     "output_type": "stream",
     "text": [
      "initial_potential =  79941.12373924023\n",
      "final_potential =  80517.67060098177\n",
      "energy_change =  1.4744698833674192\n",
      "p accept =  0.2289000386054067\n",
      "current step size = 0.0010383245649967724\n",
      "current acceptance ratio = 0.6633039092055486\n",
      "currently working on step 794\n"
     ]
    },
    {
     "name": "stderr",
     "output_type": "stream",
     "text": [
      "100%|██████████| 98/98 [00:32<00:00,  3.01it/s]\n"
     ]
    },
    {
     "name": "stdout",
     "output_type": "stream",
     "text": [
      "initial_potential =  79941.12373924023\n",
      "final_potential =  80186.90688891176\n",
      "energy_change =  0.8736984713468701\n",
      "p accept =  0.4174049307720539\n",
      "current step size = 0.0010383245649967724\n",
      "current acceptance ratio = 0.6624685138539043\n",
      "currently working on step 795\n"
     ]
    },
    {
     "name": "stderr",
     "output_type": "stream",
     "text": [
      "100%|██████████| 101/101 [00:33<00:00,  3.02it/s]\n"
     ]
    },
    {
     "name": "stdout",
     "output_type": "stream",
     "text": [
      "initial_potential =  79941.12373924023\n",
      "final_potential =  80496.38525244134\n",
      "energy_change =  1.383640534710139\n",
      "p accept =  0.25066433773104624\n",
      "current step size = 0.0010383245649967724\n",
      "current acceptance ratio = 0.6616352201257861\n",
      "currently working on step 796\n"
     ]
    },
    {
     "name": "stderr",
     "output_type": "stream",
     "text": [
      "100%|██████████| 98/98 [00:32<00:00,  3.02it/s]\n"
     ]
    },
    {
     "name": "stdout",
     "output_type": "stream",
     "text": [
      "initial_potential =  79941.12373924023\n",
      "final_potential =  80164.16197440829\n",
      "energy_change =  0.41858446248807013\n",
      "p accept =  0.6579775528239303\n",
      "current step size = 0.0010383245649967724\n",
      "current acceptance ratio = 0.6608040201005025\n",
      "currently working on step 797\n"
     ]
    },
    {
     "name": "stderr",
     "output_type": "stream",
     "text": [
      "100%|██████████| 97/97 [00:32<00:00,  3.03it/s]\n"
     ]
    },
    {
     "name": "stdout",
     "output_type": "stream",
     "text": [
      "initial_potential =  79941.12373924023\n",
      "final_potential =  80256.50873718371\n",
      "energy_change =  0.8946519572637044\n",
      "p accept =  0.4087498362985066\n",
      "current step size = 0.0010383245649967724\n",
      "current acceptance ratio = 0.6599749058971142\n",
      "currently working on step 798\n"
     ]
    },
    {
     "name": "stderr",
     "output_type": "stream",
     "text": [
      "100%|██████████| 98/98 [00:32<00:00,  3.01it/s]\n"
     ]
    },
    {
     "name": "stdout",
     "output_type": "stream",
     "text": [
      "initial_potential =  79941.12373924023\n",
      "final_potential =  80412.72289798269\n",
      "energy_change =  1.4036345516215079\n",
      "p accept =  0.24570232134365572\n",
      "current step size = 0.0010383245649967724\n",
      "current acceptance ratio = 0.6604010025062657\n",
      "currently working on step 799\n"
     ]
    },
    {
     "name": "stderr",
     "output_type": "stream",
     "text": [
      "100%|██████████| 99/99 [00:32<00:00,  3.03it/s]\n"
     ]
    },
    {
     "name": "stdout",
     "output_type": "stream",
     "text": [
      "initial_potential =  80412.72289798269\n",
      "final_potential =  80059.10245969196\n",
      "energy_change =  -0.7846895010443404\n",
      "p accept =  2.1917263063413395\n",
      "current step size = 0.0010383245649967724\n",
      "current acceptance ratio = 0.6608260325406758\n",
      "currently working on step 800\n"
     ]
    },
    {
     "name": "stderr",
     "output_type": "stream",
     "text": [
      "100%|██████████| 100/100 [00:32<00:00,  3.05it/s]\n"
     ]
    },
    {
     "name": "stdout",
     "output_type": "stream",
     "text": [
      "initial_potential =  80059.10245969196\n",
      "final_potential =  79786.62606756912\n",
      "energy_change =  -0.7948019361356273\n",
      "p accept =  2.214002439495433\n",
      "current step size = 0.0010383245649967724\n",
      "current acceptance ratio = 0.66125\n",
      "currently working on step 801\n"
     ]
    },
    {
     "name": "stderr",
     "output_type": "stream",
     "text": [
      "100%|██████████| 98/98 [00:31<00:00,  3.16it/s]\n"
     ]
    },
    {
     "name": "stdout",
     "output_type": "stream",
     "text": [
      "initial_potential =  79786.62606756912\n",
      "final_potential =  79592.13704172212\n",
      "energy_change =  -0.392357193515636\n",
      "p accept =  1.4804664299781485\n",
      "current step size = 0.0010383245649967724\n",
      "current acceptance ratio = 0.66167290886392\n",
      "currently working on step 802\n"
     ]
    },
    {
     "name": "stderr",
     "output_type": "stream",
     "text": [
      "100%|██████████| 99/99 [00:31<00:00,  3.09it/s]\n"
     ]
    },
    {
     "name": "stdout",
     "output_type": "stream",
     "text": [
      "initial_potential =  79592.13704172212\n",
      "final_potential =  79936.46905554962\n",
      "energy_change =  0.9747837933246046\n",
      "p accept =  0.37727391388453063\n",
      "current step size = 0.0010383245649967724\n",
      "current acceptance ratio = 0.6620947630922693\n",
      "currently working on step 803\n"
     ]
    },
    {
     "name": "stderr",
     "output_type": "stream",
     "text": [
      "100%|██████████| 99/99 [00:32<00:00,  3.07it/s]\n"
     ]
    },
    {
     "name": "stdout",
     "output_type": "stream",
     "text": [
      "initial_potential =  79936.46905554962\n",
      "final_potential =  80268.33871961255\n",
      "energy_change =  0.7474570316262543\n",
      "p accept =  0.4735692945645136\n",
      "current step size = 0.0010383245649967724\n",
      "current acceptance ratio = 0.6612702366127023\n",
      "currently working on step 804\n"
     ]
    },
    {
     "name": "stderr",
     "output_type": "stream",
     "text": [
      "100%|██████████| 99/99 [00:32<00:00,  3.05it/s]\n"
     ]
    },
    {
     "name": "stdout",
     "output_type": "stream",
     "text": [
      "initial_potential =  79936.46905554962\n",
      "final_potential =  80180.83122019681\n",
      "energy_change =  0.7764962617657147\n",
      "p accept =  0.46001496300066447\n",
      "current step size = 0.0010383245649967724\n",
      "current acceptance ratio = 0.6604477611940298\n",
      "currently working on step 805\n"
     ]
    },
    {
     "name": "stderr",
     "output_type": "stream",
     "text": [
      "100%|██████████| 99/99 [00:32<00:00,  3.05it/s]\n"
     ]
    },
    {
     "name": "stdout",
     "output_type": "stream",
     "text": [
      "initial_potential =  79936.46905554962\n",
      "final_potential =  80418.73385306273\n",
      "energy_change =  1.187641691241879\n",
      "p accept =  0.3049395583851436\n",
      "current step size = 0.0010383245649967724\n",
      "current acceptance ratio = 0.6596273291925466\n",
      "currently working on step 806\n"
     ]
    },
    {
     "name": "stderr",
     "output_type": "stream",
     "text": [
      "100%|██████████| 100/100 [00:33<00:00,  3.02it/s]\n"
     ]
    },
    {
     "name": "stdout",
     "output_type": "stream",
     "text": [
      "initial_potential =  79936.46905554962\n",
      "final_potential =  79741.47962454999\n",
      "energy_change =  -0.24619034980423748\n",
      "p accept =  1.2791430349958863\n",
      "current step size = 0.0010383245649967724\n",
      "current acceptance ratio = 0.6600496277915633\n",
      "currently working on step 807\n"
     ]
    },
    {
     "name": "stderr",
     "output_type": "stream",
     "text": [
      "100%|██████████| 98/98 [00:32<00:00,  3.02it/s]\n"
     ]
    },
    {
     "name": "stdout",
     "output_type": "stream",
     "text": [
      "initial_potential =  79741.47962454999\n",
      "final_potential =  79701.55971775259\n",
      "energy_change =  -0.21222791558830068\n",
      "p accept =  1.2364296545595665\n",
      "current step size = 0.0010383245649967724\n",
      "current acceptance ratio = 0.6604708798017348\n",
      "currently working on step 808\n"
     ]
    },
    {
     "name": "stderr",
     "output_type": "stream",
     "text": [
      "100%|██████████| 99/99 [00:32<00:00,  3.03it/s]\n"
     ]
    },
    {
     "name": "stdout",
     "output_type": "stream",
     "text": [
      "initial_potential =  79701.55971775259\n",
      "final_potential =  79877.28242175013\n",
      "energy_change =  0.36319137923419476\n",
      "p accept =  0.6954533254376014\n",
      "current step size = 0.0010383245649967724\n",
      "current acceptance ratio = 0.6596534653465347\n",
      "currently working on step 809\n"
     ]
    },
    {
     "name": "stderr",
     "output_type": "stream",
     "text": [
      "100%|██████████| 99/99 [00:32<00:00,  3.02it/s]\n"
     ]
    },
    {
     "name": "stdout",
     "output_type": "stream",
     "text": [
      "initial_potential =  79701.55971775259\n",
      "final_potential =  79784.15158237594\n",
      "energy_change =  0.07059054443379864\n",
      "p accept =  0.9318433624762774\n",
      "current step size = 0.0010383245649967724\n",
      "current acceptance ratio = 0.6600741656365884\n",
      "currently working on step 810\n"
     ]
    },
    {
     "name": "stderr",
     "output_type": "stream",
     "text": [
      "100%|██████████| 98/98 [00:32<00:00,  3.03it/s]\n"
     ]
    },
    {
     "name": "stdout",
     "output_type": "stream",
     "text": [
      "initial_potential =  79784.15158237594\n",
      "final_potential =  80205.00368975755\n",
      "energy_change =  1.3447801705333404\n",
      "p accept =  0.2605969884607494\n",
      "current step size = 0.0010383245649967724\n",
      "current acceptance ratio = 0.6604938271604939\n",
      "currently working on step 811\n"
     ]
    },
    {
     "name": "stderr",
     "output_type": "stream",
     "text": [
      "100%|██████████| 97/97 [00:32<00:00,  3.01it/s]\n"
     ]
    },
    {
     "name": "stdout",
     "output_type": "stream",
     "text": [
      "initial_potential =  80205.00368975755\n",
      "final_potential =  79710.4268739666\n",
      "energy_change =  -1.3946228006388992\n",
      "p accept =  4.033452869812056\n",
      "current step size = 0.0010383245649967724\n",
      "current acceptance ratio = 0.6609124537607891\n",
      "currently working on step 812\n"
     ]
    },
    {
     "name": "stderr",
     "output_type": "stream",
     "text": [
      "100%|██████████| 101/101 [00:33<00:00,  3.00it/s]\n"
     ]
    },
    {
     "name": "stdout",
     "output_type": "stream",
     "text": [
      "initial_potential =  79710.4268739666\n",
      "final_potential =  80072.40741645271\n",
      "energy_change =  0.5995762048987672\n",
      "p accept =  0.5490442690677781\n",
      "current step size = 0.0010383245649967724\n",
      "current acceptance ratio = 0.6600985221674877\n",
      "currently working on step 813\n"
     ]
    },
    {
     "name": "stderr",
     "output_type": "stream",
     "text": [
      "100%|██████████| 98/98 [00:32<00:00,  3.01it/s]\n"
     ]
    },
    {
     "name": "stdout",
     "output_type": "stream",
     "text": [
      "initial_potential =  79710.4268739666\n",
      "final_potential =  79833.03827394509\n",
      "energy_change =  0.1518528806627728\n",
      "p accept =  0.8591146638241418\n",
      "current step size = 0.0010383245649967724\n",
      "current acceptance ratio = 0.6605166051660517\n",
      "currently working on step 814\n"
     ]
    },
    {
     "name": "stderr",
     "output_type": "stream",
     "text": [
      "100%|██████████| 97/97 [00:30<00:00,  3.17it/s]\n"
     ]
    },
    {
     "name": "stdout",
     "output_type": "stream",
     "text": [
      "initial_potential =  79833.03827394509\n",
      "final_potential =  80531.51230739086\n",
      "energy_change =  1.8141807204810902\n",
      "p accept =  0.16297137281831406\n",
      "current step size = 0.0010383245649967724\n",
      "current acceptance ratio = 0.6609336609336609\n",
      "currently working on step 815\n"
     ]
    },
    {
     "name": "stderr",
     "output_type": "stream",
     "text": [
      "100%|██████████| 101/101 [00:32<00:00,  3.11it/s]\n"
     ]
    },
    {
     "name": "stdout",
     "output_type": "stream",
     "text": [
      "initial_potential =  80531.51230739086\n",
      "final_potential =  80305.82081443878\n",
      "energy_change =  -1.0415986068546772\n",
      "p accept =  2.83374343708532\n",
      "current step size = 0.0010383245649967724\n",
      "current acceptance ratio = 0.6613496932515337\n",
      "currently working on step 816\n"
     ]
    },
    {
     "name": "stderr",
     "output_type": "stream",
     "text": [
      "100%|██████████| 99/99 [00:32<00:00,  3.07it/s]\n"
     ]
    },
    {
     "name": "stdout",
     "output_type": "stream",
     "text": [
      "initial_potential =  80305.82081443878\n",
      "final_potential =  80130.21283254985\n",
      "energy_change =  -0.2727970083942637\n",
      "p accept =  1.3136335611724521\n",
      "current step size = 0.0010383245649967724\n",
      "current acceptance ratio = 0.6617647058823529\n",
      "currently working on step 817\n"
     ]
    },
    {
     "name": "stderr",
     "output_type": "stream",
     "text": [
      "100%|██████████| 98/98 [00:32<00:00,  3.05it/s]\n"
     ]
    },
    {
     "name": "stdout",
     "output_type": "stream",
     "text": [
      "initial_potential =  80130.21283254985\n",
      "final_potential =  79962.1877545994\n",
      "energy_change =  -0.31926406698767096\n",
      "p accept =  1.376114663384929\n",
      "current step size = 0.0010383245649967724\n",
      "current acceptance ratio = 0.6621787025703795\n",
      "currently working on step 818\n"
     ]
    },
    {
     "name": "stderr",
     "output_type": "stream",
     "text": [
      "100%|██████████| 98/98 [00:31<00:00,  3.06it/s]\n"
     ]
    },
    {
     "name": "stdout",
     "output_type": "stream",
     "text": [
      "initial_potential =  79962.1877545994\n",
      "final_potential =  80243.51699429918\n",
      "energy_change =  0.8459465091582388\n",
      "p accept =  0.42915097059234464\n",
      "current step size = 0.0010383245649967724\n",
      "current acceptance ratio = 0.6625916870415648\n",
      "currently working on step 819\n"
     ]
    },
    {
     "name": "stderr",
     "output_type": "stream",
     "text": [
      "100%|██████████| 98/98 [00:32<00:00,  3.03it/s]\n"
     ]
    },
    {
     "name": "stdout",
     "output_type": "stream",
     "text": [
      "initial_potential =  80243.51699429918\n",
      "final_potential =  80384.5276509743\n",
      "energy_change =  0.30085281893843785\n",
      "p accept =  0.7401867061952128\n",
      "current step size = 0.0010383245649967724\n",
      "current acceptance ratio = 0.663003663003663\n",
      "currently working on step 820\n"
     ]
    },
    {
     "name": "stderr",
     "output_type": "stream",
     "text": [
      "100%|██████████| 98/98 [00:32<00:00,  3.04it/s]\n"
     ]
    },
    {
     "name": "stdout",
     "output_type": "stream",
     "text": [
      "initial_potential =  80384.5276509743\n",
      "final_potential =  79878.50791726119\n",
      "energy_change =  -1.2501522207749076\n",
      "p accept =  3.4908743006112264\n",
      "current step size = 0.0010383245649967724\n",
      "current acceptance ratio = 0.6634146341463415\n",
      "currently working on step 821\n"
     ]
    },
    {
     "name": "stderr",
     "output_type": "stream",
     "text": [
      "100%|██████████| 101/101 [00:33<00:00,  3.03it/s]\n"
     ]
    },
    {
     "name": "stdout",
     "output_type": "stream",
     "text": [
      "initial_potential =  79878.50791726119\n",
      "final_potential =  80170.11081017583\n",
      "energy_change =  0.6206661487231031\n",
      "p accept =  0.5375862059255021\n",
      "current step size = 0.0010383245649967724\n",
      "current acceptance ratio = 0.6638246041412911\n",
      "currently working on step 822\n"
     ]
    },
    {
     "name": "stderr",
     "output_type": "stream",
     "text": [
      "100%|██████████| 101/101 [00:33<00:00,  3.03it/s]\n"
     ]
    },
    {
     "name": "stdout",
     "output_type": "stream",
     "text": [
      "initial_potential =  80170.11081017583\n",
      "final_potential =  79895.8231918224\n",
      "energy_change =  -0.7550395158468746\n",
      "p accept =  2.1276955993876205\n",
      "current step size = 0.0010383245649967724\n",
      "current acceptance ratio = 0.6642335766423357\n",
      "currently working on step 823\n"
     ]
    },
    {
     "name": "stderr",
     "output_type": "stream",
     "text": [
      "100%|██████████| 99/99 [00:32<00:00,  3.01it/s]\n"
     ]
    },
    {
     "name": "stdout",
     "output_type": "stream",
     "text": [
      "initial_potential =  79895.8231918224\n",
      "final_potential =  79778.15080561694\n",
      "energy_change =  -0.0796085117617622\n",
      "p accept =  1.0828630565324318\n",
      "current step size = 0.0010383245649967724\n",
      "current acceptance ratio = 0.6646415552855407\n",
      "currently working on step 824\n"
     ]
    },
    {
     "name": "stderr",
     "output_type": "stream",
     "text": [
      "100%|██████████| 97/97 [00:32<00:00,  3.03it/s]\n"
     ]
    },
    {
     "name": "stdout",
     "output_type": "stream",
     "text": [
      "initial_potential =  79778.15080561694\n",
      "final_potential =  79965.0699686953\n",
      "energy_change =  0.5499223208753392\n",
      "p accept =  0.5769946290774463\n",
      "current step size = 0.0010383245649967724\n",
      "current acceptance ratio = 0.6650485436893204\n",
      "currently working on step 825\n"
     ]
    },
    {
     "name": "stderr",
     "output_type": "stream",
     "text": [
      "100%|██████████| 101/101 [00:33<00:00,  3.00it/s]\n"
     ]
    },
    {
     "name": "stdout",
     "output_type": "stream",
     "text": [
      "initial_potential =  79965.0699686953\n",
      "final_potential =  80332.30835369081\n",
      "energy_change =  0.7331446037278511\n",
      "p accept =  0.4803959574742878\n",
      "current step size = 0.0010383245649967724\n",
      "current acceptance ratio = 0.6642424242424242\n",
      "currently working on step 826\n"
     ]
    },
    {
     "name": "stderr",
     "output_type": "stream",
     "text": [
      "100%|██████████| 100/100 [00:33<00:00,  3.02it/s]\n"
     ]
    },
    {
     "name": "stdout",
     "output_type": "stream",
     "text": [
      "initial_potential =  79965.0699686953\n",
      "final_potential =  79922.19995260908\n",
      "energy_change =  -0.2078483720542863\n",
      "p accept =  1.23102649737795\n",
      "current step size = 0.0010383245649967724\n",
      "current acceptance ratio = 0.6646489104116223\n",
      "currently working on step 827\n"
     ]
    },
    {
     "name": "stderr",
     "output_type": "stream",
     "text": [
      "100%|██████████| 100/100 [00:33<00:00,  3.01it/s]\n"
     ]
    },
    {
     "name": "stdout",
     "output_type": "stream",
     "text": [
      "initial_potential =  79922.19995260908\n",
      "final_potential =  80450.61362715524\n",
      "energy_change =  1.2818082907469943\n",
      "p accept =  0.2775349824808142\n",
      "current step size = 0.0010383245649967724\n",
      "current acceptance ratio = 0.6638452237001209\n",
      "currently working on step 828\n"
     ]
    },
    {
     "name": "stderr",
     "output_type": "stream",
     "text": [
      "100%|██████████| 98/98 [00:31<00:00,  3.10it/s]\n"
     ]
    },
    {
     "name": "stdout",
     "output_type": "stream",
     "text": [
      "initial_potential =  79922.19995260908\n",
      "final_potential =  79589.73557382726\n",
      "energy_change =  -0.6758335287449881\n",
      "p accept =  1.9656707363767887\n",
      "current step size = 0.0010383245649967724\n",
      "current acceptance ratio = 0.6642512077294686\n",
      "currently working on step 829\n"
     ]
    },
    {
     "name": "stderr",
     "output_type": "stream",
     "text": [
      "100%|██████████| 97/97 [00:31<00:00,  3.11it/s]\n"
     ]
    },
    {
     "name": "stdout",
     "output_type": "stream",
     "text": [
      "initial_potential =  79589.73557382726\n",
      "final_potential =  79718.5695811128\n",
      "energy_change =  0.4818210536031984\n",
      "p accept =  0.6176575794743163\n",
      "current step size = 0.0010383245649967724\n",
      "current acceptance ratio = 0.6634499396863691\n",
      "currently working on step 830\n"
     ]
    },
    {
     "name": "stderr",
     "output_type": "stream",
     "text": [
      "100%|██████████| 98/98 [00:31<00:00,  3.06it/s]\n"
     ]
    },
    {
     "name": "stdout",
     "output_type": "stream",
     "text": [
      "initial_potential =  79589.73557382726\n",
      "final_potential =  80002.42067634469\n",
      "energy_change =  0.9732627443154342\n",
      "p accept =  0.37784820264738495\n",
      "current step size = 0.0010383245649967724\n",
      "current acceptance ratio = 0.6638554216867469\n",
      "currently working on step 831\n"
     ]
    },
    {
     "name": "stderr",
     "output_type": "stream",
     "text": [
      "100%|██████████| 101/101 [00:33<00:00,  3.05it/s]\n"
     ]
    },
    {
     "name": "stdout",
     "output_type": "stream",
     "text": [
      "initial_potential =  80002.42067634469\n",
      "final_potential =  79223.48265850755\n",
      "energy_change =  -1.8849396062432788\n",
      "p accept =  6.58595667933853\n",
      "current step size = 0.0010383245649967724\n",
      "current acceptance ratio = 0.6642599277978339\n",
      "currently working on step 832\n"
     ]
    },
    {
     "name": "stderr",
     "output_type": "stream",
     "text": [
      "100%|██████████| 97/97 [00:31<00:00,  3.05it/s]\n"
     ]
    },
    {
     "name": "stdout",
     "output_type": "stream",
     "text": [
      "initial_potential =  79223.48265850755\n",
      "final_potential =  79613.15056810406\n",
      "energy_change =  1.1286691566929221\n",
      "p accept =  0.32346344926566484\n",
      "current step size = 0.0010383245649967724\n",
      "current acceptance ratio = 0.6634615384615384\n",
      "currently working on step 833\n"
     ]
    },
    {
     "name": "stderr",
     "output_type": "stream",
     "text": [
      "100%|██████████| 101/101 [00:33<00:00,  3.03it/s]\n"
     ]
    },
    {
     "name": "stdout",
     "output_type": "stream",
     "text": [
      "initial_potential =  79223.48265850755\n",
      "final_potential =  80105.75938536394\n",
      "energy_change =  2.1121469454374164\n",
      "p accept =  0.12097795435025806\n",
      "current step size = 0.0010383245649967724\n",
      "current acceptance ratio = 0.6626650660264105\n",
      "currently working on step 834\n"
     ]
    },
    {
     "name": "stderr",
     "output_type": "stream",
     "text": [
      "100%|██████████| 97/97 [00:32<00:00,  3.02it/s]\n"
     ]
    },
    {
     "name": "stdout",
     "output_type": "stream",
     "text": [
      "initial_potential =  79223.48265850755\n",
      "final_potential =  79115.32986123754\n",
      "energy_change =  -0.2676213003578596\n",
      "p accept =  1.306852141854588\n",
      "current step size = 0.0010383245649967724\n",
      "current acceptance ratio = 0.6630695443645084\n",
      "currently working on step 835\n"
     ]
    },
    {
     "name": "stderr",
     "output_type": "stream",
     "text": [
      "100%|██████████| 97/97 [00:32<00:00,  3.03it/s]\n"
     ]
    },
    {
     "name": "stdout",
     "output_type": "stream",
     "text": [
      "initial_potential =  79115.32986123754\n",
      "final_potential =  79461.32417976345\n",
      "energy_change =  1.2012944366433658\n",
      "p accept =  0.3008045873141152\n",
      "current step size = 0.0010383245649967724\n",
      "current acceptance ratio = 0.6634730538922156\n",
      "currently working on step 836\n"
     ]
    },
    {
     "name": "stderr",
     "output_type": "stream",
     "text": [
      "100%|██████████| 99/99 [00:33<00:00,  2.99it/s]\n"
     ]
    },
    {
     "name": "stdout",
     "output_type": "stream",
     "text": [
      "initial_potential =  79461.32417976345\n",
      "final_potential =  79188.65817678795\n",
      "energy_change =  -0.5989464031881653\n",
      "p accept =  1.8202000328128312\n",
      "current step size = 0.0010383245649967724\n",
      "current acceptance ratio = 0.6638755980861244\n",
      "currently working on step 837\n"
     ]
    },
    {
     "name": "stderr",
     "output_type": "stream",
     "text": [
      "100%|██████████| 101/101 [00:33<00:00,  3.01it/s]\n"
     ]
    },
    {
     "name": "stdout",
     "output_type": "stream",
     "text": [
      "initial_potential =  79188.65817678795\n",
      "final_potential =  79812.96712852517\n",
      "energy_change =  1.4187489206087776\n",
      "p accept =  0.24201660956640406\n",
      "current step size = 0.0010383245649967724\n",
      "current acceptance ratio = 0.6642771804062126\n",
      "currently working on step 838\n"
     ]
    },
    {
     "name": "stderr",
     "output_type": "stream",
     "text": [
      "100%|██████████| 98/98 [00:32<00:00,  3.02it/s]\n"
     ]
    },
    {
     "name": "stdout",
     "output_type": "stream",
     "text": [
      "initial_potential =  79812.96712852517\n",
      "final_potential =  80188.44309882417\n",
      "energy_change =  1.057038929546252\n",
      "p accept =  0.3474832107453803\n",
      "current step size = 0.0010383245649967724\n",
      "current acceptance ratio = 0.6634844868735084\n",
      "currently working on step 839\n"
     ]
    },
    {
     "name": "stderr",
     "output_type": "stream",
     "text": [
      "100%|██████████| 98/98 [00:32<00:00,  3.05it/s]\n"
     ]
    },
    {
     "name": "stdout",
     "output_type": "stream",
     "text": [
      "initial_potential =  79812.96712852517\n",
      "final_potential =  80167.97472862786\n",
      "energy_change =  0.8124898831010796\n",
      "p accept =  0.4437517994504714\n",
      "current step size = 0.0010383245649967724\n",
      "current acceptance ratio = 0.6626936829558999\n",
      "currently working on step 840\n"
     ]
    },
    {
     "name": "stderr",
     "output_type": "stream",
     "text": [
      "100%|██████████| 97/97 [00:31<00:00,  3.12it/s]\n"
     ]
    },
    {
     "name": "stdout",
     "output_type": "stream",
     "text": [
      "initial_potential =  79812.96712852517\n",
      "final_potential =  79954.66319660793\n",
      "energy_change =  0.4206292220624164\n",
      "p accept =  0.6566335215018333\n",
      "current step size = 0.0010383245649967724\n",
      "current acceptance ratio = 0.6630952380952381\n",
      "currently working on step 841\n"
     ]
    },
    {
     "name": "stderr",
     "output_type": "stream",
     "text": [
      "100%|██████████| 101/101 [00:32<00:00,  3.07it/s]\n"
     ]
    },
    {
     "name": "stdout",
     "output_type": "stream",
     "text": [
      "initial_potential =  79954.66319660793\n",
      "final_potential =  79690.69052338201\n",
      "energy_change =  -0.7472511490341276\n",
      "p accept =  2.1111886899669745\n",
      "current step size = 0.0010383245649967724\n",
      "current acceptance ratio = 0.6634958382877527\n",
      "currently working on step 842\n"
     ]
    },
    {
     "name": "stderr",
     "output_type": "stream",
     "text": [
      "100%|██████████| 101/101 [00:33<00:00,  3.06it/s]\n"
     ]
    },
    {
     "name": "stdout",
     "output_type": "stream",
     "text": [
      "initial_potential =  79690.69052338201\n",
      "final_potential =  79748.61160515294\n",
      "energy_change =  0.2494581036735326\n",
      "p accept =  0.7792229267235181\n",
      "current step size = 0.0010383245649967724\n",
      "current acceptance ratio = 0.663895486935867\n",
      "currently working on step 843\n"
     ]
    },
    {
     "name": "stderr",
     "output_type": "stream",
     "text": [
      "100%|██████████| 99/99 [00:32<00:00,  3.06it/s]\n"
     ]
    },
    {
     "name": "stdout",
     "output_type": "stream",
     "text": [
      "initial_potential =  79748.61160515294\n",
      "final_potential =  79827.06468961546\n",
      "energy_change =  0.19853430235525593\n",
      "p accept =  0.8199316446714513\n",
      "current step size = 0.0010383245649967724\n",
      "current acceptance ratio = 0.66429418742586\n",
      "currently working on step 844\n"
     ]
    },
    {
     "name": "stderr",
     "output_type": "stream",
     "text": [
      "100%|██████████| 101/101 [00:33<00:00,  3.04it/s]\n"
     ]
    },
    {
     "name": "stdout",
     "output_type": "stream",
     "text": [
      "initial_potential =  79827.06468961546\n",
      "final_potential =  80178.20653705345\n",
      "energy_change =  0.65132712922059\n",
      "p accept =  0.52135341408518\n",
      "current step size = 0.0010383245649967724\n",
      "current acceptance ratio = 0.6635071090047393\n",
      "currently working on step 845\n"
     ]
    },
    {
     "name": "stderr",
     "output_type": "stream",
     "text": [
      "100%|██████████| 97/97 [00:32<00:00,  3.02it/s]\n"
     ]
    },
    {
     "name": "stdout",
     "output_type": "stream",
     "text": [
      "initial_potential =  79827.06468961546\n",
      "final_potential =  79644.6366833487\n",
      "energy_change =  -0.8791741080931388\n",
      "p accept =  2.4089093858693746\n",
      "current step size = 0.0010383245649967724\n",
      "current acceptance ratio = 0.663905325443787\n",
      "currently working on step 846\n"
     ]
    },
    {
     "name": "stderr",
     "output_type": "stream",
     "text": [
      "100%|██████████| 98/98 [00:32<00:00,  3.04it/s]\n"
     ]
    },
    {
     "name": "stdout",
     "output_type": "stream",
     "text": [
      "initial_potential =  79644.6366833487\n",
      "final_potential =  79808.47713034334\n",
      "energy_change =  0.8240755801089108\n",
      "p accept =  0.4386402929139911\n",
      "current step size = 0.0010383245649967724\n",
      "current acceptance ratio = 0.6631205673758865\n",
      "currently working on step 847\n"
     ]
    },
    {
     "name": "stderr",
     "output_type": "stream",
     "text": [
      "100%|██████████| 101/101 [00:33<00:00,  3.02it/s]\n"
     ]
    },
    {
     "name": "stdout",
     "output_type": "stream",
     "text": [
      "initial_potential =  79644.6366833487\n",
      "final_potential =  80260.07582762874\n",
      "energy_change =  1.5078956683864817\n",
      "p accept =  0.22137533527106598\n",
      "current step size = 0.0010383245649967724\n",
      "current acceptance ratio = 0.6623376623376623\n",
      "currently working on step 848\n"
     ]
    },
    {
     "name": "stderr",
     "output_type": "stream",
     "text": [
      "100%|██████████| 98/98 [00:32<00:00,  3.03it/s]\n"
     ]
    },
    {
     "name": "stdout",
     "output_type": "stream",
     "text": [
      "initial_potential =  79644.6366833487\n",
      "final_potential =  79911.27872850282\n",
      "energy_change =  0.6378843620768748\n",
      "p accept =  0.5284091647849254\n",
      "current step size = 0.0010383245649967724\n",
      "current acceptance ratio = 0.6627358490566038\n",
      "currently working on step 849\n"
     ]
    },
    {
     "name": "stderr",
     "output_type": "stream",
     "text": [
      "100%|██████████| 100/100 [00:33<00:00,  3.01it/s]\n"
     ]
    },
    {
     "name": "stdout",
     "output_type": "stream",
     "text": [
      "initial_potential =  79911.27872850282\n",
      "final_potential =  79818.98173996426\n",
      "energy_change =  -0.051395600428804755\n",
      "p accept =  1.0527392750259954\n",
      "current step size = 0.0010383245649967724\n",
      "current acceptance ratio = 0.6631330977620731\n",
      "currently working on step 850\n"
     ]
    },
    {
     "name": "stderr",
     "output_type": "stream",
     "text": [
      "100%|██████████| 97/97 [00:32<00:00,  3.02it/s]\n"
     ]
    },
    {
     "name": "stdout",
     "output_type": "stream",
     "text": [
      "initial_potential =  79818.98173996426\n",
      "final_potential =  79579.70408446058\n",
      "energy_change =  -0.433819581696298\n",
      "p accept =  1.543140432220621\n",
      "current step size = 0.0010383245649967724\n",
      "current acceptance ratio = 0.6635294117647059\n",
      "currently working on step 851\n"
     ]
    },
    {
     "name": "stderr",
     "output_type": "stream",
     "text": [
      "100%|██████████| 101/101 [00:33<00:00,  3.05it/s]\n"
     ]
    },
    {
     "name": "stdout",
     "output_type": "stream",
     "text": [
      "initial_potential =  79579.70408446058\n",
      "final_potential =  79931.67222752966\n",
      "energy_change =  0.5803438566508703\n",
      "p accept =  0.5597058748849161\n",
      "current step size = 0.0010383245649967724\n",
      "current acceptance ratio = 0.663924794359577\n",
      "currently working on step 852\n"
     ]
    },
    {
     "name": "stderr",
     "output_type": "stream",
     "text": [
      "100%|██████████| 99/99 [00:31<00:00,  3.12it/s]\n"
     ]
    },
    {
     "name": "stdout",
     "output_type": "stream",
     "text": [
      "initial_potential =  79931.67222752966\n",
      "final_potential =  80629.11269497429\n",
      "energy_change =  1.5203200462274253\n",
      "p accept =  0.21864190023799196\n",
      "current step size = 0.0010383245649967724\n",
      "current acceptance ratio = 0.6631455399061033\n",
      "currently working on step 853\n"
     ]
    },
    {
     "name": "stderr",
     "output_type": "stream",
     "text": [
      "100%|██████████| 98/98 [00:31<00:00,  3.07it/s]\n"
     ]
    },
    {
     "name": "stdout",
     "output_type": "stream",
     "text": [
      "initial_potential =  79931.67222752966\n",
      "final_potential =  80382.38089870306\n",
      "energy_change =  1.4746762734721415\n",
      "p accept =  0.22885280077734582\n",
      "current step size = 0.0010383245649967724\n",
      "current acceptance ratio = 0.6623681125439624\n",
      "currently working on step 854\n"
     ]
    },
    {
     "name": "stderr",
     "output_type": "stream",
     "text": [
      "100%|██████████| 97/97 [00:31<00:00,  3.06it/s]\n"
     ]
    },
    {
     "name": "stdout",
     "output_type": "stream",
     "text": [
      "initial_potential =  79931.67222752966\n",
      "final_potential =  80063.9624930833\n",
      "energy_change =  0.22571004240307957\n",
      "p accept =  0.797949439626932\n",
      "current step size = 0.0010383245649967724\n",
      "current acceptance ratio = 0.6627634660421545\n",
      "currently working on step 855\n"
     ]
    },
    {
     "name": "stderr",
     "output_type": "stream",
     "text": [
      "100%|██████████| 99/99 [00:32<00:00,  3.05it/s]\n"
     ]
    },
    {
     "name": "stdout",
     "output_type": "stream",
     "text": [
      "initial_potential =  80063.9624930833\n",
      "final_potential =  80506.30785148418\n",
      "energy_change =  1.1250940595055\n",
      "p accept =  0.3246219321438968\n",
      "current step size = 0.0010383245649967724\n",
      "current acceptance ratio = 0.6619883040935672\n",
      "currently working on step 856\n"
     ]
    },
    {
     "name": "stderr",
     "output_type": "stream",
     "text": [
      "100%|██████████| 97/97 [00:32<00:00,  3.02it/s]\n"
     ]
    },
    {
     "name": "stdout",
     "output_type": "stream",
     "text": [
      "initial_potential =  80063.9624930833\n",
      "final_potential =  80386.0976493985\n",
      "energy_change =  0.9040574672981165\n",
      "p accept =  0.40492335880648944\n",
      "current step size = 0.0010383245649967724\n",
      "current acceptance ratio = 0.6623831775700935\n",
      "currently working on step 857\n"
     ]
    },
    {
     "name": "stderr",
     "output_type": "stream",
     "text": [
      "100%|██████████| 97/97 [00:31<00:00,  3.04it/s]\n"
     ]
    },
    {
     "name": "stdout",
     "output_type": "stream",
     "text": [
      "initial_potential =  80386.0976493985\n",
      "final_potential =  80470.48983157994\n",
      "energy_change =  0.25853866373654455\n",
      "p accept =  0.7721791751398253\n",
      "current step size = 0.0010383245649967724\n",
      "current acceptance ratio = 0.662777129521587\n",
      "currently working on step 858\n"
     ]
    },
    {
     "name": "stderr",
     "output_type": "stream",
     "text": [
      "100%|██████████| 97/97 [00:32<00:00,  3.02it/s]\n"
     ]
    },
    {
     "name": "stdout",
     "output_type": "stream",
     "text": [
      "initial_potential =  80470.48983157994\n",
      "final_potential =  80310.84952064048\n",
      "energy_change =  -0.6644516240921803\n",
      "p accept =  1.943424501898349\n",
      "current step size = 0.0010383245649967724\n",
      "current acceptance ratio = 0.6631701631701632\n",
      "currently working on step 859\n"
     ]
    },
    {
     "name": "stderr",
     "output_type": "stream",
     "text": [
      "100%|██████████| 98/98 [00:32<00:00,  3.04it/s]\n"
     ]
    },
    {
     "name": "stdout",
     "output_type": "stream",
     "text": [
      "initial_potential =  80310.84952064048\n",
      "final_potential =  80198.54362678522\n",
      "energy_change =  -0.650201903830748\n",
      "p accept =  1.9159276230915172\n",
      "current step size = 0.0010383245649967724\n",
      "current acceptance ratio = 0.6635622817229336\n",
      "currently working on step 860\n"
     ]
    },
    {
     "name": "stderr",
     "output_type": "stream",
     "text": [
      "100%|██████████| 101/101 [00:33<00:00,  3.01it/s]\n"
     ]
    },
    {
     "name": "stdout",
     "output_type": "stream",
     "text": [
      "initial_potential =  80198.54362678522\n",
      "final_potential =  80778.93961815903\n",
      "energy_change =  1.5250869839219376\n",
      "p accept =  0.21760212815546917\n",
      "current step size = 0.0010383245649967724\n",
      "current acceptance ratio = 0.6627906976744186\n",
      "currently working on step 861\n"
     ]
    },
    {
     "name": "stderr",
     "output_type": "stream",
     "text": [
      "100%|██████████| 100/100 [00:33<00:00,  3.03it/s]\n"
     ]
    },
    {
     "name": "stdout",
     "output_type": "stream",
     "text": [
      "initial_potential =  80198.54362678522\n",
      "final_potential =  80106.27114641899\n",
      "energy_change =  0.0003458710270933807\n",
      "p accept =  0.999654188779395\n",
      "current step size = 0.0010383245649967724\n",
      "current acceptance ratio = 0.6631823461091754\n",
      "currently working on step 862\n"
     ]
    },
    {
     "name": "stderr",
     "output_type": "stream",
     "text": [
      "100%|██████████| 99/99 [00:32<00:00,  3.00it/s]\n"
     ]
    },
    {
     "name": "stdout",
     "output_type": "stream",
     "text": [
      "initial_potential =  80106.27114641899\n",
      "final_potential =  80199.24055978846\n",
      "energy_change =  0.3244784198468551\n",
      "p accept =  0.7229043078672117\n",
      "current step size = 0.0010383245649967724\n",
      "current acceptance ratio = 0.6635730858468677\n",
      "currently working on step 863\n"
     ]
    },
    {
     "name": "stderr",
     "output_type": "stream",
     "text": [
      "100%|██████████| 100/100 [00:33<00:00,  3.02it/s]\n"
     ]
    },
    {
     "name": "stdout",
     "output_type": "stream",
     "text": [
      "initial_potential =  80199.24055978846\n",
      "final_potential =  80228.96540961305\n",
      "energy_change =  0.1068624845938757\n",
      "p accept =  0.8986492426093083\n",
      "current step size = 0.0010383245649967724\n",
      "current acceptance ratio = 0.6639629200463499\n",
      "currently working on step 864\n"
     ]
    },
    {
     "name": "stderr",
     "output_type": "stream",
     "text": [
      "100%|██████████| 98/98 [00:32<00:00,  3.02it/s]\n"
     ]
    },
    {
     "name": "stdout",
     "output_type": "stream",
     "text": [
      "initial_potential =  80228.96540961305\n",
      "final_potential =  80074.25351146815\n",
      "energy_change =  -0.4774481069180183\n",
      "p accept =  1.6119556106989144\n",
      "current step size = 0.0010383245649967724\n",
      "current acceptance ratio = 0.6643518518518519\n",
      "currently working on step 865\n"
     ]
    },
    {
     "name": "stderr",
     "output_type": "stream",
     "text": [
      "100%|██████████| 101/101 [00:32<00:00,  3.15it/s]\n"
     ]
    },
    {
     "name": "stdout",
     "output_type": "stream",
     "text": [
      "initial_potential =  80074.25351146815\n",
      "final_potential =  80070.60721986971\n",
      "energy_change =  -0.08715421537635848\n",
      "p accept =  1.0910649257330365\n",
      "current step size = 0.0010383245649967724\n",
      "current acceptance ratio = 0.6647398843930635\n",
      "currently working on step 866\n"
     ]
    },
    {
     "name": "stderr",
     "output_type": "stream",
     "text": [
      "100%|██████████| 97/97 [00:31<00:00,  3.06it/s]\n"
     ]
    },
    {
     "name": "stdout",
     "output_type": "stream",
     "text": [
      "initial_potential =  80070.60721986971\n",
      "final_potential =  80281.06115388779\n",
      "energy_change =  0.40605928911827505\n",
      "p accept =  0.6662706636536455\n",
      "current step size = 0.0010383245649967724\n",
      "current acceptance ratio = 0.6651270207852193\n",
      "currently working on step 867\n"
     ]
    },
    {
     "name": "stderr",
     "output_type": "stream",
     "text": [
      "100%|██████████| 101/101 [00:33<00:00,  3.04it/s]\n"
     ]
    },
    {
     "name": "stdout",
     "output_type": "stream",
     "text": [
      "initial_potential =  80281.06115388779\n",
      "final_potential =  80472.389817275\n",
      "energy_change =  0.5203686018357985\n",
      "p accept =  0.5943014469877855\n",
      "current step size = 0.0010383245649967724\n",
      "current acceptance ratio = 0.6643598615916955\n",
      "currently working on step 868\n"
     ]
    },
    {
     "name": "stderr",
     "output_type": "stream",
     "text": [
      "100%|██████████| 98/98 [00:32<00:00,  3.04it/s]\n"
     ]
    },
    {
     "name": "stdout",
     "output_type": "stream",
     "text": [
      "initial_potential =  80281.06115388779\n",
      "final_potential =  80144.5128698179\n",
      "energy_change =  -0.3638770029065199\n",
      "p accept =  1.438897223097319\n",
      "current step size = 0.0010383245649967724\n",
      "current acceptance ratio = 0.6647465437788018\n",
      "currently working on step 869\n"
     ]
    },
    {
     "name": "stderr",
     "output_type": "stream",
     "text": [
      "100%|██████████| 97/97 [00:31<00:00,  3.06it/s]\n"
     ]
    },
    {
     "name": "stdout",
     "output_type": "stream",
     "text": [
      "initial_potential =  80144.5128698179\n",
      "final_potential =  80287.73692569834\n",
      "energy_change =  0.3269302455591969\n",
      "p accept =  0.721134043574197\n",
      "current step size = 0.0010383245649967724\n",
      "current acceptance ratio = 0.6651323360184119\n",
      "currently working on step 870\n"
     ]
    },
    {
     "name": "stderr",
     "output_type": "stream",
     "text": [
      "100%|██████████| 99/99 [00:32<00:00,  3.02it/s]\n"
     ]
    },
    {
     "name": "stdout",
     "output_type": "stream",
     "text": [
      "initial_potential =  80287.73692569834\n",
      "final_potential =  80850.44577647018\n",
      "energy_change =  1.5911117981304415\n",
      "p accept =  0.2036990136093654\n",
      "current step size = 0.0010383245649967724\n",
      "current acceptance ratio = 0.664367816091954\n",
      "currently working on step 871\n"
     ]
    },
    {
     "name": "stderr",
     "output_type": "stream",
     "text": [
      "100%|██████████| 101/101 [00:33<00:00,  3.02it/s]\n"
     ]
    },
    {
     "name": "stdout",
     "output_type": "stream",
     "text": [
      "initial_potential =  80287.73692569834\n",
      "final_potential =  80260.50531498143\n",
      "energy_change =  -0.04415761277778074\n",
      "p accept =  1.0451470704404264\n",
      "current step size = 0.0010383245649967724\n",
      "current acceptance ratio = 0.6647531572904707\n",
      "currently working on step 872\n"
     ]
    },
    {
     "name": "stderr",
     "output_type": "stream",
     "text": [
      "100%|██████████| 99/99 [00:32<00:00,  3.03it/s]\n"
     ]
    },
    {
     "name": "stdout",
     "output_type": "stream",
     "text": [
      "initial_potential =  80260.50531498143\n",
      "final_potential =  80123.07657585578\n",
      "energy_change =  -0.2282740276423283\n",
      "p accept =  1.2564295746973886\n",
      "current step size = 0.0010383245649967724\n",
      "current acceptance ratio = 0.6651376146788991\n",
      "currently working on step 873\n"
     ]
    },
    {
     "name": "stderr",
     "output_type": "stream",
     "text": [
      "100%|██████████| 99/99 [00:32<00:00,  3.02it/s]\n"
     ]
    },
    {
     "name": "stdout",
     "output_type": "stream",
     "text": [
      "initial_potential =  80123.07657585578\n",
      "final_potential =  80196.19807884628\n",
      "energy_change =  0.30690551263978705\n",
      "p accept =  0.7357201138745688\n",
      "current step size = 0.0010383245649967724\n",
      "current acceptance ratio = 0.6655211912943871\n",
      "currently working on step 874\n"
     ]
    },
    {
     "name": "stderr",
     "output_type": "stream",
     "text": [
      "100%|██████████| 100/100 [00:33<00:00,  3.03it/s]\n"
     ]
    },
    {
     "name": "stdout",
     "output_type": "stream",
     "text": [
      "initial_potential =  80196.19807884628\n",
      "final_potential =  80308.36900613969\n",
      "energy_change =  0.08901083248201758\n",
      "p accept =  0.9148356635799024\n",
      "current step size = 0.0010383245649967724\n",
      "current acceptance ratio = 0.665903890160183\n",
      "currently working on step 875\n"
     ]
    },
    {
     "name": "stderr",
     "output_type": "stream",
     "text": [
      "100%|██████████| 97/97 [00:30<00:00,  3.15it/s]\n"
     ]
    },
    {
     "name": "stdout",
     "output_type": "stream",
     "text": [
      "initial_potential =  80308.36900613969\n",
      "final_potential =  80073.65242550118\n",
      "energy_change =  -0.6653465133858845\n",
      "p accept =  1.9451644300836575\n",
      "current step size = 0.0010383245649967724\n",
      "current acceptance ratio = 0.6662857142857143\n",
      "currently working on step 876\n"
     ]
    },
    {
     "name": "stderr",
     "output_type": "stream",
     "text": [
      "100%|██████████| 101/101 [00:32<00:00,  3.13it/s]\n"
     ]
    },
    {
     "name": "stdout",
     "output_type": "stream",
     "text": [
      "initial_potential =  80073.65242550118\n",
      "final_potential =  80369.46337862842\n",
      "energy_change =  0.8147712621139362\n",
      "p accept =  0.442740587325934\n",
      "current step size = 0.0010383245649967724\n",
      "current acceptance ratio = 0.6666666666666666\n",
      "currently working on step 877\n"
     ]
    },
    {
     "name": "stderr",
     "output_type": "stream",
     "text": [
      "100%|██████████| 100/100 [00:32<00:00,  3.08it/s]\n"
     ]
    },
    {
     "name": "stdout",
     "output_type": "stream",
     "text": [
      "initial_potential =  80369.46337862842\n",
      "final_potential =  80081.84859767562\n",
      "energy_change =  -0.3164661124465056\n",
      "p accept =  1.3722697385840987\n",
      "current step size = 0.0010383245649967724\n",
      "current acceptance ratio = 0.6670467502850627\n",
      "currently working on step 878\n"
     ]
    },
    {
     "name": "stderr",
     "output_type": "stream",
     "text": [
      "100%|██████████| 98/98 [00:31<00:00,  3.09it/s]\n"
     ]
    },
    {
     "name": "stdout",
     "output_type": "stream",
     "text": [
      "initial_potential =  80081.84859767562\n",
      "final_potential =  80144.55221100943\n",
      "energy_change =  0.2691958680516109\n",
      "p accept =  0.7639935990545147\n",
      "current step size = 0.0010383245649967724\n",
      "current acceptance ratio = 0.6674259681093394\n",
      "currently working on step 879\n"
     ]
    },
    {
     "name": "stderr",
     "output_type": "stream",
     "text": [
      "100%|██████████| 99/99 [00:32<00:00,  3.07it/s]\n"
     ]
    },
    {
     "name": "stdout",
     "output_type": "stream",
     "text": [
      "initial_potential =  80144.55221100943\n",
      "final_potential =  80197.39598407841\n",
      "energy_change =  0.07355063816066831\n",
      "p accept =  0.9290890972373221\n",
      "current step size = 0.0010383245649967724\n",
      "current acceptance ratio = 0.6678043230944255\n",
      "currently working on step 880\n"
     ]
    },
    {
     "name": "stderr",
     "output_type": "stream",
     "text": [
      "100%|██████████| 97/97 [00:31<00:00,  3.07it/s]\n"
     ]
    },
    {
     "name": "stdout",
     "output_type": "stream",
     "text": [
      "initial_potential =  80197.39598407841\n",
      "final_potential =  80320.3321682515\n",
      "energy_change =  0.04598908917978406\n",
      "p accept =  0.9550523825387099\n",
      "current step size = 0.0010383245649967724\n",
      "current acceptance ratio = 0.6670454545454545\n",
      "currently working on step 881\n"
     ]
    },
    {
     "name": "stderr",
     "output_type": "stream",
     "text": [
      "100%|██████████| 100/100 [00:32<00:00,  3.06it/s]\n"
     ]
    },
    {
     "name": "stdout",
     "output_type": "stream",
     "text": [
      "initial_potential =  80197.39598407841\n",
      "final_potential =  80155.6994924033\n",
      "energy_change =  -0.10788818966830149\n",
      "p accept =  1.1139231903019304\n",
      "current step size = 0.0010383245649967724\n",
      "current acceptance ratio = 0.6674233825198638\n",
      "currently working on step 882\n"
     ]
    },
    {
     "name": "stderr",
     "output_type": "stream",
     "text": [
      "100%|██████████| 99/99 [00:32<00:00,  3.06it/s]\n"
     ]
    },
    {
     "name": "stdout",
     "output_type": "stream",
     "text": [
      "initial_potential =  80155.6994924033\n",
      "final_potential =  79849.31338307503\n",
      "energy_change =  -0.9500949782086536\n",
      "p accept =  2.585955257050418\n",
      "current step size = 0.0010383245649967724\n",
      "current acceptance ratio = 0.6678004535147393\n",
      "currently working on step 883\n"
     ]
    },
    {
     "name": "stderr",
     "output_type": "stream",
     "text": [
      "100%|██████████| 98/98 [00:32<00:00,  3.06it/s]\n"
     ]
    },
    {
     "name": "stdout",
     "output_type": "stream",
     "text": [
      "initial_potential =  79849.31338307503\n",
      "final_potential =  79908.7095803922\n",
      "energy_change =  0.04998272511875257\n",
      "p accept =  0.9512458570179958\n",
      "current step size = 0.0010383245649967724\n",
      "current acceptance ratio = 0.6681766704416761\n",
      "currently working on step 884\n"
     ]
    },
    {
     "name": "stderr",
     "output_type": "stream",
     "text": [
      "100%|██████████| 101/101 [00:33<00:00,  3.05it/s]\n"
     ]
    },
    {
     "name": "stdout",
     "output_type": "stream",
     "text": [
      "initial_potential =  79908.7095803922\n",
      "final_potential =  80187.9967835924\n",
      "energy_change =  0.5348210635711439\n",
      "p accept =  0.5857740970926738\n",
      "current step size = 0.0010383245649967724\n",
      "current acceptance ratio = 0.667420814479638\n",
      "currently working on step 885\n"
     ]
    },
    {
     "name": "stderr",
     "output_type": "stream",
     "text": [
      "100%|██████████| 101/101 [00:33<00:00,  3.05it/s]\n"
     ]
    },
    {
     "name": "stdout",
     "output_type": "stream",
     "text": [
      "initial_potential =  79908.7095803922\n",
      "final_potential =  79968.65334661926\n",
      "energy_change =  0.05103463365230709\n",
      "p accept =  0.9502457594812751\n",
      "current step size = 0.0010383245649967724\n",
      "current acceptance ratio = 0.6677966101694915\n",
      "currently working on step 886\n"
     ]
    },
    {
     "name": "stderr",
     "output_type": "stream",
     "text": [
      "100%|██████████| 97/97 [00:31<00:00,  3.06it/s]\n"
     ]
    },
    {
     "name": "stdout",
     "output_type": "stream",
     "text": [
      "initial_potential =  79968.65334661926\n",
      "final_potential =  80127.78818361937\n",
      "energy_change =  0.21316469082375988\n",
      "p accept =  0.8080230522757587\n",
      "current step size = 0.0010383245649967724\n",
      "current acceptance ratio = 0.6670428893905191\n",
      "currently working on step 887\n"
     ]
    },
    {
     "name": "stderr",
     "output_type": "stream",
     "text": [
      "100%|██████████| 99/99 [00:32<00:00,  3.05it/s]\n"
     ]
    },
    {
     "name": "stdout",
     "output_type": "stream",
     "text": [
      "initial_potential =  79968.65334661926\n",
      "final_potential =  80302.2393067804\n",
      "energy_change =  1.0175986989052035\n",
      "p accept =  0.3614618776700931\n",
      "current step size = 0.0010383245649967724\n",
      "current acceptance ratio = 0.6662908680947013\n",
      "currently working on step 888\n"
     ]
    },
    {
     "name": "stderr",
     "output_type": "stream",
     "text": [
      "100%|██████████| 100/100 [00:32<00:00,  3.06it/s]\n"
     ]
    },
    {
     "name": "stdout",
     "output_type": "stream",
     "text": [
      "initial_potential =  79968.65334661926\n",
      "final_potential =  80173.33576664573\n",
      "energy_change =  0.5397704262868501\n",
      "p accept =  0.5828820514119021\n",
      "current step size = 0.0010383245649967724\n",
      "current acceptance ratio = 0.6666666666666666\n",
      "currently working on step 889\n"
     ]
    },
    {
     "name": "stderr",
     "output_type": "stream",
     "text": [
      "100%|██████████| 97/97 [00:31<00:00,  3.05it/s]\n"
     ]
    },
    {
     "name": "stdout",
     "output_type": "stream",
     "text": [
      "initial_potential =  80173.33576664573\n",
      "final_potential =  80108.05819736497\n",
      "energy_change =  -0.15140446973964572\n",
      "p accept =  1.1634671501808176\n",
      "current step size = 0.0010383245649967724\n",
      "current acceptance ratio = 0.6670416197975253\n",
      "currently working on step 890\n"
     ]
    },
    {
     "name": "stderr",
     "output_type": "stream",
     "text": [
      "100%|██████████| 97/97 [00:31<00:00,  3.06it/s]\n"
     ]
    },
    {
     "name": "stdout",
     "output_type": "stream",
     "text": [
      "initial_potential =  80108.05819736497\n",
      "final_potential =  80379.20050562918\n",
      "energy_change =  0.6877880176180042\n",
      "p accept =  0.502686774471577\n",
      "current step size = 0.0010383245649967724\n",
      "current acceptance ratio = 0.6662921348314607\n",
      "currently working on step 891\n"
     ]
    },
    {
     "name": "stderr",
     "output_type": "stream",
     "text": [
      "100%|██████████| 97/97 [00:31<00:00,  3.05it/s]\n"
     ]
    },
    {
     "name": "stdout",
     "output_type": "stream",
     "text": [
      "initial_potential =  80108.05819736497\n",
      "final_potential =  79845.67169884953\n",
      "energy_change =  -0.7191241349792108\n",
      "p accept =  2.05263459224559\n",
      "current step size = 0.0010383245649967724\n",
      "current acceptance ratio = 0.6666666666666666\n",
      "currently working on step 892\n"
     ]
    },
    {
     "name": "stderr",
     "output_type": "stream",
     "text": [
      "100%|██████████| 97/97 [00:31<00:00,  3.05it/s]\n"
     ]
    },
    {
     "name": "stdout",
     "output_type": "stream",
     "text": [
      "initial_potential =  79845.67169884953\n",
      "final_potential =  79956.71884992953\n",
      "energy_change =  0.27747919829562306\n",
      "p accept =  0.7576913257100113\n",
      "current step size = 0.0010383245649967724\n",
      "current acceptance ratio = 0.6670403587443946\n",
      "currently working on step 893\n"
     ]
    },
    {
     "name": "stderr",
     "output_type": "stream",
     "text": [
      "100%|██████████| 100/100 [00:32<00:00,  3.05it/s]\n"
     ]
    },
    {
     "name": "stdout",
     "output_type": "stream",
     "text": [
      "initial_potential =  79956.71884992953\n",
      "final_potential =  80214.59062633815\n",
      "energy_change =  0.793196307728067\n",
      "p accept =  0.45239648351394296\n",
      "current step size = 0.0010383245649967724\n",
      "current acceptance ratio = 0.6674132138857782\n",
      "currently working on step 894\n"
     ]
    },
    {
     "name": "stderr",
     "output_type": "stream",
     "text": [
      "100%|██████████| 97/97 [00:31<00:00,  3.05it/s]\n"
     ]
    },
    {
     "name": "stdout",
     "output_type": "stream",
     "text": [
      "initial_potential =  80214.59062633815\n",
      "final_potential =  80697.86428945561\n",
      "energy_change =  1.1009486207622103\n",
      "p accept =  0.33255546500183647\n",
      "current step size = 0.0010383245649967724\n",
      "current acceptance ratio = 0.6677852348993288\n",
      "currently working on step 895\n"
     ]
    },
    {
     "name": "stderr",
     "output_type": "stream",
     "text": [
      "100%|██████████| 98/98 [00:32<00:00,  3.05it/s]\n"
     ]
    },
    {
     "name": "stdout",
     "output_type": "stream",
     "text": [
      "initial_potential =  80697.86428945561\n",
      "final_potential =  80013.07394235824\n",
      "energy_change =  -1.5693997947964817\n",
      "p accept =  4.803764084133182\n",
      "current step size = 0.0010383245649967724\n",
      "current acceptance ratio = 0.6681564245810055\n",
      "currently working on step 896\n"
     ]
    },
    {
     "name": "stderr",
     "output_type": "stream",
     "text": [
      "100%|██████████| 100/100 [00:32<00:00,  3.05it/s]\n"
     ]
    },
    {
     "name": "stdout",
     "output_type": "stream",
     "text": [
      "initial_potential =  80013.07394235824\n",
      "final_potential =  80545.20534075442\n",
      "energy_change =  1.6594343415927142\n",
      "p accept =  0.19024656423923506\n",
      "current step size = 0.0010383245649967724\n",
      "current acceptance ratio = 0.6685267857142857\n",
      "currently working on step 897\n"
     ]
    },
    {
     "name": "stderr",
     "output_type": "stream",
     "text": [
      "100%|██████████| 97/97 [00:31<00:00,  3.05it/s]\n"
     ]
    },
    {
     "name": "stdout",
     "output_type": "stream",
     "text": [
      "initial_potential =  80545.20534075442\n",
      "final_potential =  80381.78534588899\n",
      "energy_change =  -0.6320489156641997\n",
      "p accept =  1.8814615888411583\n",
      "current step size = 0.0010383245649967724\n",
      "current acceptance ratio = 0.6688963210702341\n",
      "currently working on step 898\n"
     ]
    },
    {
     "name": "stderr",
     "output_type": "stream",
     "text": [
      "100%|██████████| 98/98 [00:32<00:00,  3.05it/s]\n"
     ]
    },
    {
     "name": "stdout",
     "output_type": "stream",
     "text": [
      "initial_potential =  80381.78534588899\n",
      "final_potential =  80497.20162681233\n",
      "energy_change =  0.47996387752937153\n",
      "p accept =  0.6188057441947461\n",
      "current step size = 0.0010383245649967724\n",
      "current acceptance ratio = 0.6692650334075724\n",
      "currently working on step 899\n"
     ]
    },
    {
     "name": "stderr",
     "output_type": "stream",
     "text": [
      "100%|██████████| 98/98 [00:32<00:00,  3.05it/s]\n"
     ]
    },
    {
     "name": "stdout",
     "output_type": "stream",
     "text": [
      "initial_potential =  80497.20162681233\n",
      "final_potential =  79961.31974105895\n",
      "energy_change =  -1.5291006290935911\n",
      "p accept =  4.614025235613134\n",
      "current step size = 0.0010383245649967724\n",
      "current acceptance ratio = 0.6696329254727474\n",
      "currently working on step 900\n"
     ]
    },
    {
     "name": "stderr",
     "output_type": "stream",
     "text": [
      "100%|██████████| 101/101 [00:33<00:00,  3.05it/s]\n"
     ]
    },
    {
     "name": "stdout",
     "output_type": "stream",
     "text": [
      "initial_potential =  79961.31974105895\n",
      "final_potential =  79970.44938009053\n",
      "energy_change =  -0.03888489946257323\n",
      "p accept =  1.0396508123959343\n",
      "current step size = 0.0010383245649967724\n",
      "current acceptance ratio = 0.67\n",
      "currently working on step 901\n"
     ]
    },
    {
     "name": "stderr",
     "output_type": "stream",
     "text": [
      "100%|██████████| 98/98 [00:32<00:00,  3.05it/s]\n"
     ]
    },
    {
     "name": "stdout",
     "output_type": "stream",
     "text": [
      "initial_potential =  79970.44938009053\n",
      "final_potential =  79747.04368881989\n",
      "energy_change =  -0.724682962987572\n",
      "p accept =  2.0640766075417294\n",
      "current step size = 0.0010383245649967724\n",
      "current acceptance ratio = 0.6703662597114317\n",
      "currently working on step 902\n"
     ]
    },
    {
     "name": "stderr",
     "output_type": "stream",
     "text": [
      "100%|██████████| 100/100 [00:32<00:00,  3.03it/s]\n"
     ]
    },
    {
     "name": "stdout",
     "output_type": "stream",
     "text": [
      "initial_potential =  79747.04368881989\n",
      "final_potential =  79319.88193215687\n",
      "energy_change =  -0.823519539902918\n",
      "p accept =  2.2785050313462323\n",
      "current step size = 0.0010383245649967724\n",
      "current acceptance ratio = 0.6707317073170732\n",
      "currently working on step 903\n"
     ]
    },
    {
     "name": "stderr",
     "output_type": "stream",
     "text": [
      "100%|██████████| 98/98 [00:32<00:00,  3.05it/s]\n"
     ]
    },
    {
     "name": "stdout",
     "output_type": "stream",
     "text": [
      "initial_potential =  79319.88193215687\n",
      "final_potential =  79724.33465854487\n",
      "energy_change =  1.1077647464699112\n",
      "p accept =  0.3302964328174063\n",
      "current step size = 0.0010383245649967724\n",
      "current acceptance ratio = 0.6699889258028793\n",
      "currently working on step 904\n"
     ]
    },
    {
     "name": "stderr",
     "output_type": "stream",
     "text": [
      "100%|██████████| 99/99 [00:32<00:00,  3.06it/s]\n"
     ]
    },
    {
     "name": "stdout",
     "output_type": "stream",
     "text": [
      "initial_potential =  79319.88193215687\n",
      "final_potential =  79668.96402782276\n",
      "energy_change =  1.1246407873695716\n",
      "p accept =  0.32476910757318955\n",
      "current step size = 0.0010383245649967724\n",
      "current acceptance ratio = 0.6703539823008849\n",
      "currently working on step 905\n"
     ]
    },
    {
     "name": "stderr",
     "output_type": "stream",
     "text": [
      "100%|██████████| 99/99 [00:32<00:00,  3.05it/s]\n"
     ]
    },
    {
     "name": "stdout",
     "output_type": "stream",
     "text": [
      "initial_potential =  79668.96402782276\n",
      "final_potential =  79977.56577594718\n",
      "energy_change =  1.0710162691539153\n",
      "p accept =  0.3426601055130468\n",
      "current step size = 0.0010383245649967724\n",
      "current acceptance ratio = 0.6696132596685083\n",
      "currently working on step 906\n"
     ]
    },
    {
     "name": "stderr",
     "output_type": "stream",
     "text": [
      "100%|██████████| 98/98 [00:32<00:00,  3.06it/s]\n"
     ]
    },
    {
     "name": "stdout",
     "output_type": "stream",
     "text": [
      "initial_potential =  79668.96402782276\n",
      "final_potential =  80357.12079725855\n",
      "energy_change =  1.7466057980200276\n",
      "p accept =  0.17436476943751708\n",
      "current step size = 0.0010383245649967724\n",
      "current acceptance ratio = 0.6688741721854304\n",
      "currently working on step 907\n"
     ]
    },
    {
     "name": "stderr",
     "output_type": "stream",
     "text": [
      "100%|██████████| 101/101 [00:33<00:00,  3.04it/s]\n"
     ]
    },
    {
     "name": "stdout",
     "output_type": "stream",
     "text": [
      "initial_potential =  79668.96402782276\n",
      "final_potential =  80119.82022873165\n",
      "energy_change =  1.2606938780518249\n",
      "p accept =  0.2834572734656706\n",
      "current step size = 0.0010383245649967724\n",
      "current acceptance ratio = 0.6692392502756339\n",
      "currently working on step 908\n"
     ]
    },
    {
     "name": "stderr",
     "output_type": "stream",
     "text": [
      "100%|██████████| 100/100 [00:32<00:00,  3.05it/s]\n"
     ]
    },
    {
     "name": "stdout",
     "output_type": "stream",
     "text": [
      "initial_potential =  80119.82022873165\n",
      "final_potential =  80081.0182497406\n",
      "energy_change =  -0.25174236664315686\n",
      "p accept =  1.2862646099240587\n",
      "current step size = 0.0010383245649967724\n",
      "current acceptance ratio = 0.6696035242290749\n",
      "currently working on step 909\n"
     ]
    },
    {
     "name": "stderr",
     "output_type": "stream",
     "text": [
      "100%|██████████| 98/98 [00:32<00:00,  3.05it/s]\n"
     ]
    },
    {
     "name": "stdout",
     "output_type": "stream",
     "text": [
      "initial_potential =  80081.0182497406\n",
      "final_potential =  80293.86141661395\n",
      "energy_change =  0.6707064448273741\n",
      "p accept =  0.5113472115663195\n",
      "current step size = 0.0010383245649967724\n",
      "current acceptance ratio = 0.66996699669967\n",
      "currently working on step 910\n"
     ]
    },
    {
     "name": "stderr",
     "output_type": "stream",
     "text": [
      "100%|██████████| 100/100 [00:32<00:00,  3.03it/s]\n"
     ]
    },
    {
     "name": "stdout",
     "output_type": "stream",
     "text": [
      "initial_potential =  80293.86141661395\n",
      "final_potential =  80539.14287408689\n",
      "energy_change =  0.2258658290375024\n",
      "p accept =  0.7978251394516973\n",
      "current step size = 0.0010383245649967724\n",
      "current acceptance ratio = 0.6703296703296703\n",
      "currently working on step 911\n"
     ]
    },
    {
     "name": "stderr",
     "output_type": "stream",
     "text": [
      "100%|██████████| 101/101 [00:33<00:00,  3.05it/s]\n"
     ]
    },
    {
     "name": "stdout",
     "output_type": "stream",
     "text": [
      "initial_potential =  80539.14287408689\n",
      "final_potential =  80192.09060362457\n",
      "energy_change =  -0.896539629495237\n",
      "p accept =  2.451106681972287\n",
      "current step size = 0.0010383245649967724\n",
      "current acceptance ratio = 0.6706915477497256\n",
      "currently working on step 912\n"
     ]
    },
    {
     "name": "stderr",
     "output_type": "stream",
     "text": [
      "100%|██████████| 99/99 [00:32<00:00,  3.04it/s]\n"
     ]
    },
    {
     "name": "stdout",
     "output_type": "stream",
     "text": [
      "initial_potential =  80192.09060362457\n",
      "final_potential =  79795.90682695067\n",
      "energy_change =  -1.1365919365780428\n",
      "p accept =  3.116130278226044\n",
      "current step size = 0.0010383245649967724\n",
      "current acceptance ratio = 0.6710526315789473\n",
      "currently working on step 913\n"
     ]
    },
    {
     "name": "stderr",
     "output_type": "stream",
     "text": [
      "100%|██████████| 101/101 [00:33<00:00,  3.05it/s]\n"
     ]
    },
    {
     "name": "stdout",
     "output_type": "stream",
     "text": [
      "initial_potential =  79795.90682695067\n",
      "final_potential =  80097.31181586087\n",
      "energy_change =  0.6988110155798495\n",
      "p accept =  0.49717608712738587\n",
      "current step size = 0.0010383245649967724\n",
      "current acceptance ratio = 0.6703176341730559\n",
      "currently working on step 914\n"
     ]
    },
    {
     "name": "stderr",
     "output_type": "stream",
     "text": [
      "100%|██████████| 97/97 [00:31<00:00,  3.04it/s]\n"
     ]
    },
    {
     "name": "stdout",
     "output_type": "stream",
     "text": [
      "initial_potential =  79795.90682695067\n",
      "final_potential =  80055.11600368923\n",
      "energy_change =  0.8468154881265946\n",
      "p accept =  0.42877820940892153\n",
      "current step size = 0.0010383245649967724\n",
      "current acceptance ratio = 0.6695842450765864\n",
      "currently working on step 915\n"
     ]
    },
    {
     "name": "stderr",
     "output_type": "stream",
     "text": [
      "100%|██████████| 100/100 [00:32<00:00,  3.04it/s]\n"
     ]
    },
    {
     "name": "stdout",
     "output_type": "stream",
     "text": [
      "initial_potential =  79795.90682695067\n",
      "final_potential =  80140.20649028666\n",
      "energy_change =  0.9366226957645267\n",
      "p accept =  0.39194933469792415\n",
      "current step size = 0.0010383245649967724\n",
      "current acceptance ratio = 0.6699453551912569\n",
      "currently working on step 916\n"
     ]
    },
    {
     "name": "stderr",
     "output_type": "stream",
     "text": [
      "100%|██████████| 101/101 [00:33<00:00,  3.04it/s]\n"
     ]
    },
    {
     "name": "stdout",
     "output_type": "stream",
     "text": [
      "initial_potential =  80140.20649028666\n",
      "final_potential =  80342.23426242999\n",
      "energy_change =  0.5854258101899177\n",
      "p accept =  0.5568686909578182\n",
      "current step size = 0.0010383245649967724\n",
      "current acceptance ratio = 0.6703056768558951\n",
      "currently working on step 917\n"
     ]
    },
    {
     "name": "stderr",
     "output_type": "stream",
     "text": [
      "100%|██████████| 100/100 [00:32<00:00,  3.05it/s]\n"
     ]
    },
    {
     "name": "stdout",
     "output_type": "stream",
     "text": [
      "initial_potential =  80342.23426242999\n",
      "final_potential =  80075.32943151744\n",
      "energy_change =  -0.7150243999785744\n",
      "p accept =  2.0442365609783235\n",
      "current step size = 0.0010383245649967724\n",
      "current acceptance ratio = 0.6706652126499455\n",
      "currently working on step 918\n"
     ]
    },
    {
     "name": "stderr",
     "output_type": "stream",
     "text": [
      "100%|██████████| 98/98 [00:32<00:00,  3.03it/s]\n"
     ]
    },
    {
     "name": "stdout",
     "output_type": "stream",
     "text": [
      "initial_potential =  80075.32943151744\n",
      "final_potential =  80238.13036127899\n",
      "energy_change =  0.22517541761044413\n",
      "p accept =  0.7983761572373693\n",
      "current step size = 0.0010383245649967724\n",
      "current acceptance ratio = 0.6710239651416122\n",
      "currently working on step 919\n"
     ]
    },
    {
     "name": "stderr",
     "output_type": "stream",
     "text": [
      "100%|██████████| 99/99 [00:32<00:00,  3.03it/s]\n"
     ]
    },
    {
     "name": "stdout",
     "output_type": "stream",
     "text": [
      "initial_potential =  80238.13036127899\n",
      "final_potential =  80031.52693731108\n",
      "energy_change =  -0.5506598721258342\n",
      "p accept =  1.73439712066016\n",
      "current step size = 0.0010383245649967724\n",
      "current acceptance ratio = 0.6713819368879217\n",
      "currently working on step 920\n"
     ]
    },
    {
     "name": "stderr",
     "output_type": "stream",
     "text": [
      "100%|██████████| 101/101 [00:33<00:00,  3.04it/s]\n"
     ]
    },
    {
     "name": "stdout",
     "output_type": "stream",
     "text": [
      "initial_potential =  80031.52693731108\n",
      "final_potential =  80504.67328564366\n",
      "energy_change =  1.3241513568209484\n",
      "p accept =  0.2660286266992245\n",
      "current step size = 0.0010383245649967724\n",
      "current acceptance ratio = 0.6706521739130434\n",
      "currently working on step 921\n"
     ]
    },
    {
     "name": "stderr",
     "output_type": "stream",
     "text": [
      "100%|██████████| 101/101 [00:33<00:00,  2.98it/s]\n"
     ]
    },
    {
     "name": "stdout",
     "output_type": "stream",
     "text": [
      "initial_potential =  80031.52693731108\n",
      "final_potential =  80159.31054099865\n",
      "energy_change =  0.5287659912137315\n",
      "p accept =  0.5893317617242363\n",
      "current step size = 0.0010383245649967724\n",
      "current acceptance ratio = 0.6710097719869706\n",
      "currently working on step 922\n"
     ]
    },
    {
     "name": "stderr",
     "output_type": "stream",
     "text": [
      "100%|██████████| 101/101 [00:33<00:00,  3.04it/s]\n"
     ]
    },
    {
     "name": "stdout",
     "output_type": "stream",
     "text": [
      "initial_potential =  80159.31054099865\n",
      "final_potential =  80372.45386895715\n",
      "energy_change =  0.12602011626586318\n",
      "p accept =  0.881597112163147\n",
      "current step size = 0.0010383245649967724\n",
      "current acceptance ratio = 0.6713665943600867\n",
      "currently working on step 923\n"
     ]
    },
    {
     "name": "stderr",
     "output_type": "stream",
     "text": [
      "100%|██████████| 98/98 [00:32<00:00,  3.05it/s]\n"
     ]
    },
    {
     "name": "stdout",
     "output_type": "stream",
     "text": [
      "initial_potential =  80372.45386895715\n",
      "final_potential =  80340.0494014943\n",
      "energy_change =  -0.3049067303072661\n",
      "p accept =  1.3564984769096553\n",
      "current step size = 0.0010383245649967724\n",
      "current acceptance ratio = 0.6717226435536294\n",
      "currently working on step 924\n"
     ]
    },
    {
     "name": "stderr",
     "output_type": "stream",
     "text": [
      "100%|██████████| 97/97 [00:31<00:00,  3.05it/s]\n"
     ]
    },
    {
     "name": "stdout",
     "output_type": "stream",
     "text": [
      "initial_potential =  80340.0494014943\n",
      "final_potential =  80222.74589980512\n",
      "energy_change =  -0.1527131362236105\n",
      "p accept =  1.1649907373617505\n",
      "current step size = 0.0010383245649967724\n",
      "current acceptance ratio = 0.672077922077922\n",
      "currently working on step 925\n"
     ]
    },
    {
     "name": "stderr",
     "output_type": "stream",
     "text": [
      "100%|██████████| 98/98 [00:31<00:00,  3.07it/s]\n"
     ]
    },
    {
     "name": "stdout",
     "output_type": "stream",
     "text": [
      "initial_potential =  80222.74589980512\n",
      "final_potential =  80081.10635427215\n",
      "energy_change =  -0.5352482327143662\n",
      "p accept =  1.707872139376416\n",
      "current step size = 0.0010383245649967724\n",
      "current acceptance ratio = 0.6724324324324324\n",
      "currently working on step 926\n"
     ]
    },
    {
     "name": "stderr",
     "output_type": "stream",
     "text": [
      "100%|██████████| 97/97 [00:31<00:00,  3.05it/s]\n"
     ]
    },
    {
     "name": "stdout",
     "output_type": "stream",
     "text": [
      "initial_potential =  80081.10635427215\n",
      "final_potential =  80302.52627769773\n",
      "energy_change =  0.8294547182158567\n",
      "p accept =  0.43628712089189187\n",
      "current step size = 0.0010383245649967724\n",
      "current acceptance ratio = 0.6727861771058316\n",
      "currently working on step 927\n"
     ]
    },
    {
     "name": "stderr",
     "output_type": "stream",
     "text": [
      "100%|██████████| 97/97 [00:31<00:00,  3.05it/s]\n"
     ]
    },
    {
     "name": "stdout",
     "output_type": "stream",
     "text": [
      "initial_potential =  80302.52627769773\n",
      "final_potential =  80433.79947968069\n",
      "energy_change =  0.3630004297592677\n",
      "p accept =  0.695586134564443\n",
      "current step size = 0.0010383245649967724\n",
      "current acceptance ratio = 0.6720604099244876\n",
      "currently working on step 928\n"
     ]
    },
    {
     "name": "stderr",
     "output_type": "stream",
     "text": [
      "100%|██████████| 101/101 [00:32<00:00,  3.06it/s]\n"
     ]
    },
    {
     "name": "stdout",
     "output_type": "stream",
     "text": [
      "initial_potential =  80302.52627769773\n",
      "final_potential =  80357.04140951572\n",
      "energy_change =  0.36937256157398224\n",
      "p accept =  0.6911678598907998\n",
      "current step size = 0.0010383245649967724\n",
      "current acceptance ratio = 0.6713362068965517\n",
      "currently working on step 929\n"
     ]
    },
    {
     "name": "stderr",
     "output_type": "stream",
     "text": [
      "100%|██████████| 101/101 [00:33<00:00,  3.04it/s]\n"
     ]
    },
    {
     "name": "stdout",
     "output_type": "stream",
     "text": [
      "initial_potential =  80302.52627769773\n",
      "final_potential =  80279.92394815506\n",
      "energy_change =  0.2604429558850825\n",
      "p accept =  0.7707101195987481\n",
      "current step size = 0.0010383245649967724\n",
      "current acceptance ratio = 0.6706135629709364\n",
      "currently working on step 930\n"
     ]
    },
    {
     "name": "stderr",
     "output_type": "stream",
     "text": [
      "100%|██████████| 97/97 [00:31<00:00,  3.05it/s]\n"
     ]
    },
    {
     "name": "stdout",
     "output_type": "stream",
     "text": [
      "initial_potential =  80302.52627769773\n",
      "final_potential =  80205.11185031096\n",
      "energy_change =  -0.1348721884423867\n",
      "p accept =  1.1443905086702213\n",
      "current step size = 0.0010383245649967724\n",
      "current acceptance ratio = 0.6709677419354839\n",
      "currently working on step 931\n"
     ]
    },
    {
     "name": "stderr",
     "output_type": "stream",
     "text": [
      "100%|██████████| 97/97 [00:31<00:00,  3.05it/s]\n"
     ]
    },
    {
     "name": "stdout",
     "output_type": "stream",
     "text": [
      "initial_potential =  80205.11185031096\n",
      "final_potential =  80222.95395456668\n",
      "energy_change =  0.05593674769625068\n",
      "p accept =  0.9455989453105483\n",
      "current step size = 0.0010383245649967724\n",
      "current acceptance ratio = 0.6713211600429646\n",
      "currently working on step 932\n"
     ]
    },
    {
     "name": "stderr",
     "output_type": "stream",
     "text": [
      "100%|██████████| 98/98 [00:31<00:00,  3.07it/s]\n"
     ]
    },
    {
     "name": "stdout",
     "output_type": "stream",
     "text": [
      "initial_potential =  80222.95395456668\n",
      "final_potential =  80461.19890312525\n",
      "energy_change =  0.7876156796701252\n",
      "p accept =  0.4549281977303361\n",
      "current step size = 0.0010383245649967724\n",
      "current acceptance ratio = 0.6716738197424893\n",
      "currently working on step 933\n"
     ]
    },
    {
     "name": "stderr",
     "output_type": "stream",
     "text": [
      "100%|██████████| 101/101 [00:33<00:00,  3.05it/s]\n"
     ]
    },
    {
     "name": "stdout",
     "output_type": "stream",
     "text": [
      "initial_potential =  80461.19890312525\n",
      "final_potential =  80020.38261028595\n",
      "energy_change =  -1.0767606745357625\n",
      "p accept =  2.9351562085422582\n",
      "current step size = 0.0010383245649967724\n",
      "current acceptance ratio = 0.6720257234726688\n",
      "currently working on step 934\n"
     ]
    },
    {
     "name": "stderr",
     "output_type": "stream",
     "text": [
      "100%|██████████| 100/100 [00:33<00:00,  3.02it/s]\n"
     ]
    },
    {
     "name": "stdout",
     "output_type": "stream",
     "text": [
      "initial_potential =  80020.38261028595\n",
      "final_potential =  79903.1728315723\n",
      "energy_change =  -0.14631150232162327\n",
      "p accept =  1.1575567134992895\n",
      "current step size = 0.0010383245649967724\n",
      "current acceptance ratio = 0.6723768736616702\n",
      "currently working on step 935\n"
     ]
    },
    {
     "name": "stderr",
     "output_type": "stream",
     "text": [
      "100%|██████████| 99/99 [00:32<00:00,  3.04it/s]\n"
     ]
    },
    {
     "name": "stdout",
     "output_type": "stream",
     "text": [
      "initial_potential =  79903.1728315723\n",
      "final_potential =  80347.04110489451\n",
      "energy_change =  1.0280991818290204\n",
      "p accept =  0.3576862112484631\n",
      "current step size = 0.0010383245649967724\n",
      "current acceptance ratio = 0.6727272727272727\n",
      "currently working on step 936\n"
     ]
    },
    {
     "name": "stderr",
     "output_type": "stream",
     "text": [
      "100%|██████████| 98/98 [00:31<00:00,  3.07it/s]\n"
     ]
    },
    {
     "name": "stdout",
     "output_type": "stream",
     "text": [
      "initial_potential =  80347.04110489451\n",
      "final_potential =  80062.60852374611\n",
      "energy_change =  -0.9115930143743753\n",
      "p accept =  2.4882832487917805\n",
      "current step size = 0.0010383245649967724\n",
      "current acceptance ratio = 0.6730769230769231\n",
      "currently working on step 937\n"
     ]
    },
    {
     "name": "stderr",
     "output_type": "stream",
     "text": [
      "100%|██████████| 100/100 [00:32<00:00,  3.10it/s]\n"
     ]
    },
    {
     "name": "stdout",
     "output_type": "stream",
     "text": [
      "initial_potential =  80062.60852374611\n",
      "final_potential =  80062.98326119116\n",
      "energy_change =  0.18316283595049754\n",
      "p accept =  0.8326325621829597\n",
      "current step size = 0.0010383245649967724\n",
      "current acceptance ratio = 0.6734258271077909\n",
      "currently working on step 938\n"
     ]
    },
    {
     "name": "stderr",
     "output_type": "stream",
     "text": [
      "100%|██████████| 101/101 [00:31<00:00,  3.18it/s]\n"
     ]
    },
    {
     "name": "stdout",
     "output_type": "stream",
     "text": [
      "initial_potential =  80062.98326119116\n",
      "final_potential =  79981.60682404974\n",
      "energy_change =  -0.15254573669517413\n",
      "p accept =  1.1647957347838085\n",
      "current step size = 0.0010383245649967724\n",
      "current acceptance ratio = 0.673773987206823\n",
      "currently working on step 939\n"
     ]
    },
    {
     "name": "stderr",
     "output_type": "stream",
     "text": [
      "100%|██████████| 100/100 [00:32<00:00,  3.12it/s]\n"
     ]
    },
    {
     "name": "stdout",
     "output_type": "stream",
     "text": [
      "initial_potential =  79981.60682404974\n",
      "final_potential =  80168.8184155377\n",
      "energy_change =  0.49836462270468473\n",
      "p accept =  0.6075233776954163\n",
      "current step size = 0.0010383245649967724\n",
      "current acceptance ratio = 0.6741214057507987\n",
      "currently working on step 940\n"
     ]
    },
    {
     "name": "stderr",
     "output_type": "stream",
     "text": [
      "100%|██████████| 97/97 [00:31<00:00,  3.08it/s]\n"
     ]
    },
    {
     "name": "stdout",
     "output_type": "stream",
     "text": [
      "initial_potential =  80168.8184155377\n",
      "final_potential =  80254.95071478367\n",
      "energy_change =  -0.0006377501413226128\n",
      "p accept =  1.0006379535471823\n",
      "current step size = 0.0010383245649967724\n",
      "current acceptance ratio = 0.674468085106383\n",
      "currently working on step 941\n"
     ]
    },
    {
     "name": "stderr",
     "output_type": "stream",
     "text": [
      "100%|██████████| 97/97 [00:31<00:00,  3.07it/s]\n"
     ]
    },
    {
     "name": "stdout",
     "output_type": "stream",
     "text": [
      "initial_potential =  80254.95071478367\n",
      "final_potential =  80201.55851717241\n",
      "energy_change =  0.021023418114054948\n",
      "p accept =  0.9791960333765662\n",
      "current step size = 0.0010383245649967724\n",
      "current acceptance ratio = 0.6748140276301806\n",
      "currently working on step 942\n"
     ]
    },
    {
     "name": "stderr",
     "output_type": "stream",
     "text": [
      "100%|██████████| 101/101 [00:32<00:00,  3.07it/s]\n"
     ]
    },
    {
     "name": "stdout",
     "output_type": "stream",
     "text": [
      "initial_potential =  80201.55851717241\n",
      "final_potential =  80537.39752581483\n",
      "energy_change =  1.0176950037712231\n",
      "p accept =  0.36142706880855113\n",
      "current step size = 0.0010383245649967724\n",
      "current acceptance ratio = 0.6740976645435244\n",
      "currently working on step 943\n"
     ]
    },
    {
     "name": "stderr",
     "output_type": "stream",
     "text": [
      "100%|██████████| 100/100 [00:32<00:00,  3.07it/s]\n"
     ]
    },
    {
     "name": "stdout",
     "output_type": "stream",
     "text": [
      "initial_potential =  80201.55851717241\n",
      "final_potential =  79974.04226813513\n",
      "energy_change =  -0.40428677946329117\n",
      "p accept =  1.4982335479675921\n",
      "current step size = 0.0010383245649967724\n",
      "current acceptance ratio = 0.6744432661717922\n",
      "currently working on step 944\n"
     ]
    },
    {
     "name": "stderr",
     "output_type": "stream",
     "text": [
      "100%|██████████| 99/99 [00:32<00:00,  3.05it/s]\n"
     ]
    },
    {
     "name": "stdout",
     "output_type": "stream",
     "text": [
      "initial_potential =  79974.04226813513\n",
      "final_potential =  79505.7486498915\n",
      "energy_change =  -1.0009463300229982\n",
      "p accept =  2.720855437714075\n",
      "current step size = 0.0010383245649967724\n",
      "current acceptance ratio = 0.6747881355932204\n",
      "currently working on step 945\n"
     ]
    },
    {
     "name": "stderr",
     "output_type": "stream",
     "text": [
      "100%|██████████| 97/97 [00:31<00:00,  3.06it/s]\n"
     ]
    },
    {
     "name": "stdout",
     "output_type": "stream",
     "text": [
      "initial_potential =  79505.7486498915\n",
      "final_potential =  80168.05163928651\n",
      "energy_change =  1.5513727130601183\n",
      "p accept =  0.2119568181434117\n",
      "current step size = 0.0010383245649967724\n",
      "current acceptance ratio = 0.674074074074074\n",
      "currently working on step 946\n"
     ]
    },
    {
     "name": "stderr",
     "output_type": "stream",
     "text": [
      "100%|██████████| 99/99 [00:32<00:00,  3.06it/s]\n"
     ]
    },
    {
     "name": "stdout",
     "output_type": "stream",
     "text": [
      "initial_potential =  79505.7486498915\n",
      "final_potential =  79967.92424834581\n",
      "energy_change =  0.9270267655374482\n",
      "p accept =  0.3957285567419819\n",
      "current step size = 0.0010383245649967724\n",
      "current acceptance ratio = 0.6733615221987315\n",
      "currently working on step 947\n"
     ]
    },
    {
     "name": "stderr",
     "output_type": "stream",
     "text": [
      "100%|██████████| 97/97 [00:31<00:00,  3.06it/s]\n"
     ]
    },
    {
     "name": "stdout",
     "output_type": "stream",
     "text": [
      "initial_potential =  79505.7486498915\n",
      "final_potential =  79728.17681197272\n",
      "energy_change =  0.631647675530985\n",
      "p accept =  0.5317149850808157\n",
      "current step size = 0.0010383245649967724\n",
      "current acceptance ratio = 0.672650475184794\n",
      "currently working on step 948\n"
     ]
    },
    {
     "name": "stderr",
     "output_type": "stream",
     "text": [
      "100%|██████████| 99/99 [00:32<00:00,  3.05it/s]\n"
     ]
    },
    {
     "name": "stdout",
     "output_type": "stream",
     "text": [
      "initial_potential =  79505.7486498915\n",
      "final_potential =  80092.47885421067\n",
      "energy_change =  1.4176477715955116\n",
      "p accept =  0.24228325269718953\n",
      "current step size = 0.0010383245649967724\n",
      "current acceptance ratio = 0.6729957805907173\n",
      "currently working on step 949\n"
     ]
    },
    {
     "name": "stderr",
     "output_type": "stream",
     "text": [
      "100%|██████████| 97/97 [00:31<00:00,  3.06it/s]\n"
     ]
    },
    {
     "name": "stdout",
     "output_type": "stream",
     "text": [
      "initial_potential =  80092.47885421067\n",
      "final_potential =  79878.04534947149\n",
      "energy_change =  -0.34371226700022817\n",
      "p accept =  1.4101728238709692\n",
      "current step size = 0.0010383245649967724\n",
      "current acceptance ratio = 0.6733403582718651\n",
      "currently working on step 950\n"
     ]
    },
    {
     "name": "stderr",
     "output_type": "stream",
     "text": [
      "100%|██████████| 99/99 [00:32<00:00,  3.05it/s]\n"
     ]
    },
    {
     "name": "stdout",
     "output_type": "stream",
     "text": [
      "initial_potential =  79878.04534947149\n",
      "final_potential =  80084.21313059876\n",
      "energy_change =  0.4787666772608645\n",
      "p accept =  0.6195470222384474\n",
      "current step size = 0.0010383245649967724\n",
      "current acceptance ratio = 0.6736842105263158\n",
      "currently working on step 951\n"
     ]
    },
    {
     "name": "stderr",
     "output_type": "stream",
     "text": [
      "100%|██████████| 97/97 [00:31<00:00,  3.06it/s]\n"
     ]
    },
    {
     "name": "stdout",
     "output_type": "stream",
     "text": [
      "initial_potential =  80084.21313059876\n",
      "final_potential =  80230.06727617001\n",
      "energy_change =  0.32422905310522765\n",
      "p accept =  0.7230845986372997\n",
      "current step size = 0.0010383245649967724\n",
      "current acceptance ratio = 0.6740273396424816\n",
      "currently working on step 952\n"
     ]
    },
    {
     "name": "stderr",
     "output_type": "stream",
     "text": [
      "100%|██████████| 98/98 [00:32<00:00,  3.06it/s]\n"
     ]
    },
    {
     "name": "stdout",
     "output_type": "stream",
     "text": [
      "initial_potential =  80230.06727617001\n",
      "final_potential =  80020.67861341902\n",
      "energy_change =  -0.578279995592311\n",
      "p accept =  1.782969077184414\n",
      "current step size = 0.0010383245649967724\n",
      "current acceptance ratio = 0.6743697478991597\n",
      "currently working on step 953\n"
     ]
    },
    {
     "name": "stderr",
     "output_type": "stream",
     "text": [
      "100%|██████████| 101/101 [00:33<00:00,  3.06it/s]\n"
     ]
    },
    {
     "name": "stdout",
     "output_type": "stream",
     "text": [
      "initial_potential =  80020.67861341902\n",
      "final_potential =  80651.71475573431\n",
      "energy_change =  1.465419489366468\n",
      "p accept =  0.2309810770457886\n",
      "current step size = 0.0010383245649967724\n",
      "current acceptance ratio = 0.6736621196222455\n",
      "currently working on step 954\n"
     ]
    },
    {
     "name": "stderr",
     "output_type": "stream",
     "text": [
      "100%|██████████| 101/101 [00:33<00:00,  3.05it/s]\n"
     ]
    },
    {
     "name": "stdout",
     "output_type": "stream",
     "text": [
      "initial_potential =  80020.67861341902\n",
      "final_potential =  80247.58107151605\n",
      "energy_change =  0.5539713400648907\n",
      "p accept =  0.5746630901603299\n",
      "current step size = 0.0010383245649967724\n",
      "current acceptance ratio = 0.6740041928721174\n",
      "currently working on step 955\n"
     ]
    },
    {
     "name": "stderr",
     "output_type": "stream",
     "text": [
      "100%|██████████| 101/101 [00:33<00:00,  3.05it/s]\n"
     ]
    },
    {
     "name": "stdout",
     "output_type": "stream",
     "text": [
      "initial_potential =  80247.58107151605\n",
      "final_potential =  80178.83916096689\n",
      "energy_change =  -0.3305457663955167\n",
      "p accept =  1.3917274793207721\n",
      "current step size = 0.0010383245649967724\n",
      "current acceptance ratio = 0.6743455497382199\n",
      "currently working on step 956\n"
     ]
    },
    {
     "name": "stderr",
     "output_type": "stream",
     "text": [
      "100%|██████████| 99/99 [00:32<00:00,  3.06it/s]\n"
     ]
    },
    {
     "name": "stdout",
     "output_type": "stream",
     "text": [
      "initial_potential =  80178.83916096689\n",
      "final_potential =  80414.31783658284\n",
      "energy_change =  0.5195809953729622\n",
      "p accept =  0.5947697070264163\n",
      "current step size = 0.0010383245649967724\n",
      "current acceptance ratio = 0.6746861924686193\n",
      "currently working on step 957\n"
     ]
    },
    {
     "name": "stderr",
     "output_type": "stream",
     "text": [
      "100%|██████████| 100/100 [00:32<00:00,  3.06it/s]\n"
     ]
    },
    {
     "name": "stdout",
     "output_type": "stream",
     "text": [
      "initial_potential =  80414.31783658284\n",
      "final_potential =  80424.2705128564\n",
      "energy_change =  0.07119136699475348\n",
      "p accept =  0.9312836581191655\n",
      "current step size = 0.0010383245649967724\n",
      "current acceptance ratio = 0.6750261233019854\n",
      "currently working on step 958\n"
     ]
    },
    {
     "name": "stderr",
     "output_type": "stream",
     "text": [
      "100%|██████████| 98/98 [00:32<00:00,  3.05it/s]\n"
     ]
    },
    {
     "name": "stdout",
     "output_type": "stream",
     "text": [
      "initial_potential =  80424.2705128564\n",
      "final_potential =  80164.92221712634\n",
      "energy_change =  -0.5973531450144947\n",
      "p accept =  1.8173022932694287\n",
      "current step size = 0.0010383245649967724\n",
      "current acceptance ratio = 0.675365344467641\n",
      "currently working on step 959\n"
     ]
    },
    {
     "name": "stderr",
     "output_type": "stream",
     "text": [
      "100%|██████████| 99/99 [00:32<00:00,  3.06it/s]\n"
     ]
    },
    {
     "name": "stdout",
     "output_type": "stream",
     "text": [
      "initial_potential =  80164.92221712634\n",
      "final_potential =  80236.96403797797\n",
      "energy_change =  0.4515504859155044\n",
      "p accept =  0.6366402841885288\n",
      "current step size = 0.0010383245649967724\n",
      "current acceptance ratio = 0.67570385818561\n",
      "currently working on step 960\n"
     ]
    },
    {
     "name": "stderr",
     "output_type": "stream",
     "text": [
      "100%|██████████| 98/98 [00:32<00:00,  3.05it/s]\n"
     ]
    },
    {
     "name": "stdout",
     "output_type": "stream",
     "text": [
      "initial_potential =  80236.96403797797\n",
      "final_potential =  80102.81176169011\n",
      "energy_change =  -0.5071579298819415\n",
      "p accept =  1.660565039816237\n",
      "current step size = 0.0010383245649967724\n",
      "current acceptance ratio = 0.6760416666666667\n",
      "currently working on step 961\n"
     ]
    },
    {
     "name": "stderr",
     "output_type": "stream",
     "text": [
      "100%|██████████| 98/98 [00:32<00:00,  3.05it/s]\n"
     ]
    },
    {
     "name": "stdout",
     "output_type": "stream",
     "text": [
      "initial_potential =  80102.81176169011\n",
      "final_potential =  79922.68762180154\n",
      "energy_change =  -0.4407485764240846\n",
      "p accept =  1.5538699736798753\n",
      "current step size = 0.0010383245649967724\n",
      "current acceptance ratio = 0.676378772112383\n",
      "currently working on step 962\n"
     ]
    },
    {
     "name": "stderr",
     "output_type": "stream",
     "text": [
      "100%|██████████| 97/97 [00:31<00:00,  3.05it/s]\n"
     ]
    },
    {
     "name": "stdout",
     "output_type": "stream",
     "text": [
      "initial_potential =  79922.68762180154\n",
      "final_potential =  80120.98806771271\n",
      "energy_change =  0.6700675788451917\n",
      "p accept =  0.5116739982802156\n",
      "current step size = 0.0010383245649967724\n",
      "current acceptance ratio = 0.6756756756756757\n",
      "currently working on step 963\n"
     ]
    },
    {
     "name": "stderr",
     "output_type": "stream",
     "text": [
      "100%|██████████| 97/97 [00:31<00:00,  3.06it/s]\n"
     ]
    },
    {
     "name": "stdout",
     "output_type": "stream",
     "text": [
      "initial_potential =  79922.68762180154\n",
      "final_potential =  79689.11317320583\n",
      "energy_change =  -0.7742101499461569\n",
      "p accept =  2.168878361772862\n",
      "current step size = 0.0010383245649967724\n",
      "current acceptance ratio = 0.67601246105919\n",
      "currently working on step 964\n"
     ]
    },
    {
     "name": "stderr",
     "output_type": "stream",
     "text": [
      "100%|██████████| 101/101 [00:33<00:00,  3.05it/s]\n"
     ]
    },
    {
     "name": "stdout",
     "output_type": "stream",
     "text": [
      "initial_potential =  79689.11317320583\n",
      "final_potential =  80164.55637660275\n",
      "energy_change =  1.3340875923167914\n",
      "p accept =  0.26339839256851866\n",
      "current step size = 0.0010383245649967724\n",
      "current acceptance ratio = 0.6753112033195021\n",
      "currently working on step 965\n"
     ]
    },
    {
     "name": "stderr",
     "output_type": "stream",
     "text": [
      "100%|██████████| 101/101 [00:33<00:00,  3.05it/s]\n"
     ]
    },
    {
     "name": "stdout",
     "output_type": "stream",
     "text": [
      "initial_potential =  79689.11317320583\n",
      "final_potential =  80102.01867947189\n",
      "energy_change =  1.2910963165340945\n",
      "p accept =  0.2749691645438072\n",
      "current step size = 0.0010383245649967724\n",
      "current acceptance ratio = 0.6756476683937824\n",
      "currently working on step 966\n"
     ]
    },
    {
     "name": "stderr",
     "output_type": "stream",
     "text": [
      "100%|██████████| 100/100 [00:32<00:00,  3.05it/s]\n"
     ]
    },
    {
     "name": "stdout",
     "output_type": "stream",
     "text": [
      "initial_potential =  80102.01867947189\n",
      "final_potential =  80515.36647334998\n",
      "energy_change =  1.0709377821185626\n",
      "p accept =  0.34268700094431975\n",
      "current step size = 0.0010383245649967724\n",
      "current acceptance ratio = 0.6749482401656315\n",
      "currently working on step 967\n"
     ]
    },
    {
     "name": "stderr",
     "output_type": "stream",
     "text": [
      "100%|██████████| 101/101 [00:33<00:00,  3.05it/s]\n"
     ]
    },
    {
     "name": "stdout",
     "output_type": "stream",
     "text": [
      "initial_potential =  80102.01867947189\n",
      "final_potential =  80247.17521152312\n",
      "energy_change =  0.17980258871102706\n",
      "p accept =  0.8354351194571669\n",
      "current step size = 0.0010383245649967724\n",
      "current acceptance ratio = 0.6752843846949328\n",
      "currently working on step 968\n"
     ]
    },
    {
     "name": "stderr",
     "output_type": "stream",
     "text": [
      "100%|██████████| 99/99 [00:32<00:00,  3.07it/s]\n"
     ]
    },
    {
     "name": "stdout",
     "output_type": "stream",
     "text": [
      "initial_potential =  80247.17521152312\n",
      "final_potential =  80658.14875015634\n",
      "energy_change =  1.1799559071077965\n",
      "p accept =  0.30729228770813627\n",
      "current step size = 0.0010383245649967724\n",
      "current acceptance ratio = 0.6756198347107438\n",
      "currently working on step 969\n"
     ]
    },
    {
     "name": "stderr",
     "output_type": "stream",
     "text": [
      "100%|██████████| 97/97 [00:31<00:00,  3.05it/s]\n"
     ]
    },
    {
     "name": "stdout",
     "output_type": "stream",
     "text": [
      "initial_potential =  80658.14875015634\n",
      "final_potential =  80242.32733878473\n",
      "energy_change =  -0.9936422369792126\n",
      "p accept =  2.7010544585667504\n",
      "current step size = 0.0010383245649967724\n",
      "current acceptance ratio = 0.675954592363261\n",
      "currently working on step 970\n"
     ]
    },
    {
     "name": "stderr",
     "output_type": "stream",
     "text": [
      "100%|██████████| 100/100 [00:32<00:00,  3.05it/s]\n"
     ]
    },
    {
     "name": "stdout",
     "output_type": "stream",
     "text": [
      "initial_potential =  80242.32733878473\n",
      "final_potential =  80157.42731534418\n",
      "energy_change =  -0.3852187750162557\n",
      "p accept =  1.4699358715104855\n",
      "current step size = 0.0010383245649967724\n",
      "current acceptance ratio = 0.6762886597938145\n",
      "currently working on step 971\n"
     ]
    },
    {
     "name": "stderr",
     "output_type": "stream",
     "text": [
      "100%|██████████| 100/100 [00:32<00:00,  3.05it/s]\n"
     ]
    },
    {
     "name": "stdout",
     "output_type": "stream",
     "text": [
      "initial_potential =  80157.42731534418\n",
      "final_potential =  80064.62388894527\n",
      "energy_change =  -0.01199959492078051\n",
      "p accept =  1.012071878896708\n",
      "current step size = 0.0010383245649967724\n",
      "current acceptance ratio = 0.6766220391349125\n",
      "currently working on step 972\n"
     ]
    },
    {
     "name": "stderr",
     "output_type": "stream",
     "text": [
      "100%|██████████| 97/97 [00:31<00:00,  3.04it/s]\n"
     ]
    },
    {
     "name": "stdout",
     "output_type": "stream",
     "text": [
      "initial_potential =  80064.62388894527\n",
      "final_potential =  80287.9199113163\n",
      "energy_change =  0.6587618803023361\n",
      "p accept =  0.5174916546243842\n",
      "current step size = 0.0010383245649967724\n",
      "current acceptance ratio = 0.676954732510288\n",
      "currently working on step 973\n"
     ]
    },
    {
     "name": "stderr",
     "output_type": "stream",
     "text": [
      "100%|██████████| 100/100 [00:32<00:00,  3.05it/s]\n"
     ]
    },
    {
     "name": "stdout",
     "output_type": "stream",
     "text": [
      "initial_potential =  80287.9199113163\n",
      "final_potential =  80174.59428356253\n",
      "energy_change =  -0.1398199005634524\n",
      "p accept =  1.1500666538480873\n",
      "current step size = 0.0010383245649967724\n",
      "current acceptance ratio = 0.6772867420349434\n",
      "currently working on step 974\n"
     ]
    },
    {
     "name": "stderr",
     "output_type": "stream",
     "text": [
      "100%|██████████| 97/97 [00:31<00:00,  3.08it/s]\n"
     ]
    },
    {
     "name": "stdout",
     "output_type": "stream",
     "text": [
      "initial_potential =  80174.59428356253\n",
      "final_potential =  79897.66357178477\n",
      "energy_change =  -0.9026918028248474\n",
      "p accept =  2.466232796659532\n",
      "current step size = 0.0010383245649967724\n",
      "current acceptance ratio = 0.6776180698151951\n",
      "currently working on step 975\n"
     ]
    },
    {
     "name": "stderr",
     "output_type": "stream",
     "text": [
      "100%|██████████| 97/97 [00:32<00:00,  3.03it/s]\n"
     ]
    },
    {
     "name": "stdout",
     "output_type": "stream",
     "text": [
      "initial_potential =  79897.66357178477\n",
      "final_potential =  79908.76246272783\n",
      "energy_change =  0.03549071430461481\n",
      "p accept =  0.9651316961073284\n",
      "current step size = 0.0010383245649967724\n",
      "current acceptance ratio = 0.6779487179487179\n",
      "currently working on step 976\n"
     ]
    },
    {
     "name": "stderr",
     "output_type": "stream",
     "text": [
      "100%|██████████| 101/101 [00:33<00:00,  3.05it/s]\n"
     ]
    },
    {
     "name": "stdout",
     "output_type": "stream",
     "text": [
      "initial_potential =  79908.76246272783\n",
      "final_potential =  80533.35972985563\n",
      "energy_change =  1.3347836809116416\n",
      "p accept =  0.2632151077501864\n",
      "current step size = 0.0010383245649967724\n",
      "current acceptance ratio = 0.6772540983606558\n",
      "currently working on step 977\n"
     ]
    },
    {
     "name": "stderr",
     "output_type": "stream",
     "text": [
      "100%|██████████| 100/100 [00:32<00:00,  3.06it/s]\n"
     ]
    },
    {
     "name": "stdout",
     "output_type": "stream",
     "text": [
      "initial_potential =  79908.76246272783\n",
      "final_potential =  79911.911615843\n",
      "energy_change =  -0.15074842609465122\n",
      "p accept =  1.1627041152702506\n",
      "current step size = 0.0010383245649967724\n",
      "current acceptance ratio = 0.6775844421699079\n",
      "currently working on step 978\n"
     ]
    },
    {
     "name": "stderr",
     "output_type": "stream",
     "text": [
      "100%|██████████| 97/97 [00:31<00:00,  3.05it/s]\n"
     ]
    },
    {
     "name": "stdout",
     "output_type": "stream",
     "text": [
      "initial_potential =  79911.911615843\n",
      "final_potential =  79988.44583111137\n",
      "energy_change =  0.1956690308288671\n",
      "p accept =  0.8222843404129799\n",
      "current step size = 0.0010383245649967724\n",
      "current acceptance ratio = 0.6779141104294478\n",
      "currently working on step 979\n"
     ]
    },
    {
     "name": "stderr",
     "output_type": "stream",
     "text": [
      "100%|██████████| 101/101 [00:32<00:00,  3.07it/s]\n"
     ]
    },
    {
     "name": "stdout",
     "output_type": "stream",
     "text": [
      "initial_potential =  79988.44583111137\n",
      "final_potential =  79517.98126851775\n",
      "energy_change =  -1.11108243977651\n",
      "p accept =  3.037644682941826\n",
      "current step size = 0.0010383245649967724\n",
      "current acceptance ratio = 0.6782431052093973\n",
      "currently working on step 980\n"
     ]
    },
    {
     "name": "stderr",
     "output_type": "stream",
     "text": [
      "100%|██████████| 99/99 [00:32<00:00,  3.05it/s]\n"
     ]
    },
    {
     "name": "stdout",
     "output_type": "stream",
     "text": [
      "initial_potential =  79517.98126851775\n",
      "final_potential =  79914.577702137\n",
      "energy_change =  0.8972858731867746\n",
      "p accept =  0.407674640205781\n",
      "current step size = 0.0010383245649967724\n",
      "current acceptance ratio = 0.6775510204081633\n",
      "currently working on step 981\n"
     ]
    },
    {
     "name": "stderr",
     "output_type": "stream",
     "text": [
      "100%|██████████| 100/100 [00:32<00:00,  3.07it/s]\n"
     ]
    },
    {
     "name": "stdout",
     "output_type": "stream",
     "text": [
      "initial_potential =  79517.98126851775\n",
      "final_potential =  79685.21538309292\n",
      "energy_change =  0.30371647578431293\n",
      "p accept =  0.7380700975336755\n",
      "current step size = 0.0010383245649967724\n",
      "current acceptance ratio = 0.6778797145769623\n",
      "currently working on step 982\n"
     ]
    },
    {
     "name": "stderr",
     "output_type": "stream",
     "text": [
      "100%|██████████| 97/97 [00:31<00:00,  3.05it/s]\n"
     ]
    },
    {
     "name": "stdout",
     "output_type": "stream",
     "text": [
      "initial_potential =  79685.21538309292\n",
      "final_potential =  79841.44563440993\n",
      "energy_change =  0.24261221202323213\n",
      "p accept =  0.7845757038119268\n",
      "current step size = 0.0010383245649967724\n",
      "current acceptance ratio = 0.6771894093686355\n",
      "currently working on step 983\n"
     ]
    },
    {
     "name": "stderr",
     "output_type": "stream",
     "text": [
      "100%|██████████| 97/97 [00:31<00:00,  3.07it/s]\n"
     ]
    },
    {
     "name": "stdout",
     "output_type": "stream",
     "text": [
      "initial_potential =  79685.21538309292\n",
      "final_potential =  80118.57250805885\n",
      "energy_change =  1.2531235899077728\n",
      "p accept =  0.2856112696010517\n",
      "current step size = 0.0010383245649967724\n",
      "current acceptance ratio = 0.676500508646999\n",
      "currently working on step 984\n"
     ]
    },
    {
     "name": "stderr",
     "output_type": "stream",
     "text": [
      "100%|██████████| 100/100 [00:32<00:00,  3.05it/s]\n"
     ]
    },
    {
     "name": "stdout",
     "output_type": "stream",
     "text": [
      "initial_potential =  79685.21538309292\n",
      "final_potential =  80111.78102291886\n",
      "energy_change =  1.3174691798631102\n",
      "p accept =  0.2678122295970669\n",
      "current step size = 0.0010383245649967724\n",
      "current acceptance ratio = 0.6758130081300813\n",
      "currently working on step 985\n"
     ]
    },
    {
     "name": "stderr",
     "output_type": "stream",
     "text": [
      "100%|██████████| 101/101 [00:32<00:00,  3.07it/s]\n"
     ]
    },
    {
     "name": "stdout",
     "output_type": "stream",
     "text": [
      "initial_potential =  79685.21538309292\n",
      "final_potential =  80136.27482729201\n",
      "energy_change =  1.0522946592536755\n",
      "p accept =  0.3491356818044686\n",
      "current step size = 0.0010383245649967724\n",
      "current acceptance ratio = 0.6751269035532995\n",
      "currently working on step 986\n"
     ]
    },
    {
     "name": "stderr",
     "output_type": "stream",
     "text": [
      "100%|██████████| 101/101 [00:33<00:00,  3.05it/s]\n"
     ]
    },
    {
     "name": "stdout",
     "output_type": "stream",
     "text": [
      "initial_potential =  79685.21538309292\n",
      "final_potential =  80006.99288385783\n",
      "energy_change =  1.1752101936144754\n",
      "p accept =  0.3087540747320032\n",
      "current step size = 0.0010383245649967724\n",
      "current acceptance ratio = 0.6744421906693712\n",
      "currently working on step 987\n"
     ]
    },
    {
     "name": "stderr",
     "output_type": "stream",
     "text": [
      "100%|██████████| 98/98 [00:31<00:00,  3.07it/s]\n"
     ]
    },
    {
     "name": "stdout",
     "output_type": "stream",
     "text": [
      "initial_potential =  79685.21538309292\n",
      "final_potential =  79374.1275945303\n",
      "energy_change =  -0.6244613822782412\n",
      "p accept =  1.8672399579998271\n",
      "current step size = 0.0010383245649967724\n",
      "current acceptance ratio = 0.6747720364741642\n",
      "currently working on step 988\n"
     ]
    },
    {
     "name": "stderr",
     "output_type": "stream",
     "text": [
      "100%|██████████| 97/97 [00:31<00:00,  3.05it/s]\n"
     ]
    },
    {
     "name": "stdout",
     "output_type": "stream",
     "text": [
      "initial_potential =  79374.1275945303\n",
      "final_potential =  79245.99789302019\n",
      "energy_change =  -0.45724517287453637\n",
      "p accept =  1.579716140322233\n",
      "current step size = 0.0010383245649967724\n",
      "current acceptance ratio = 0.6751012145748988\n",
      "currently working on step 989\n"
     ]
    },
    {
     "name": "stderr",
     "output_type": "stream",
     "text": [
      "100%|██████████| 99/99 [00:32<00:00,  3.05it/s]\n"
     ]
    },
    {
     "name": "stdout",
     "output_type": "stream",
     "text": [
      "initial_potential =  79245.99789302019\n",
      "final_potential =  80078.48010464663\n",
      "energy_change =  2.1020577853778377\n",
      "p accept =  0.12220469829744032\n",
      "current step size = 0.0010383245649967724\n",
      "current acceptance ratio = 0.6744186046511628\n",
      "currently working on step 990\n"
     ]
    },
    {
     "name": "stderr",
     "output_type": "stream",
     "text": [
      "100%|██████████| 97/97 [00:31<00:00,  3.07it/s]\n"
     ]
    },
    {
     "name": "stdout",
     "output_type": "stream",
     "text": [
      "initial_potential =  79245.99789302019\n",
      "final_potential =  79625.94194574132\n",
      "energy_change =  0.8217200980288908\n",
      "p accept =  0.4396747200725667\n",
      "current step size = 0.0010383245649967724\n",
      "current acceptance ratio = 0.6737373737373737\n",
      "currently working on step 991\n"
     ]
    },
    {
     "name": "stderr",
     "output_type": "stream",
     "text": [
      "100%|██████████| 99/99 [00:32<00:00,  3.04it/s]\n"
     ]
    },
    {
     "name": "stdout",
     "output_type": "stream",
     "text": [
      "initial_potential =  79245.99789302019\n",
      "final_potential =  79850.94816249174\n",
      "energy_change =  1.5639414718025364\n",
      "p accept =  0.20930945591199313\n",
      "current step size = 0.0010383245649967724\n",
      "current acceptance ratio = 0.6730575176589304\n",
      "currently working on step 992\n"
     ]
    },
    {
     "name": "stderr",
     "output_type": "stream",
     "text": [
      "100%|██████████| 98/98 [00:32<00:00,  3.05it/s]\n"
     ]
    },
    {
     "name": "stdout",
     "output_type": "stream",
     "text": [
      "initial_potential =  79245.99789302019\n",
      "final_potential =  79808.03180529352\n",
      "energy_change =  1.5551284733228385\n",
      "p accept =  0.21116225218204246\n",
      "current step size = 0.0010383245649967724\n",
      "current acceptance ratio = 0.6723790322580645\n",
      "currently working on step 993\n"
     ]
    },
    {
     "name": "stderr",
     "output_type": "stream",
     "text": [
      "100%|██████████| 99/99 [00:32<00:00,  3.04it/s]\n"
     ]
    },
    {
     "name": "stdout",
     "output_type": "stream",
     "text": [
      "initial_potential =  79245.99789302019\n",
      "final_potential =  79797.38237641487\n",
      "energy_change =  1.1206504096626304\n",
      "p accept =  0.3260676480904517\n",
      "current step size = 0.0010383245649967724\n",
      "current acceptance ratio = 0.6717019133937563\n",
      "currently working on step 994\n"
     ]
    },
    {
     "name": "stderr",
     "output_type": "stream",
     "text": [
      "100%|██████████| 99/99 [00:32<00:00,  3.05it/s]\n"
     ]
    },
    {
     "name": "stdout",
     "output_type": "stream",
     "text": [
      "initial_potential =  79245.99789302019\n",
      "final_potential =  79691.77126020036\n",
      "energy_change =  0.9668237959267572\n",
      "p accept =  0.3802889973656436\n",
      "current step size = 0.0010383245649967724\n",
      "current acceptance ratio = 0.6710261569416499\n",
      "currently working on step 995\n"
     ]
    },
    {
     "name": "stderr",
     "output_type": "stream",
     "text": [
      "100%|██████████| 98/98 [00:32<00:00,  3.05it/s]\n"
     ]
    },
    {
     "name": "stdout",
     "output_type": "stream",
     "text": [
      "initial_potential =  79245.99789302019\n",
      "final_potential =  79665.56127489443\n",
      "energy_change =  1.3092382330214605\n",
      "p accept =  0.2700256747004668\n",
      "current step size = 0.0010383245649967724\n",
      "current acceptance ratio = 0.6703517587939698\n",
      "currently working on step 996\n"
     ]
    },
    {
     "name": "stderr",
     "output_type": "stream",
     "text": [
      "100%|██████████| 99/99 [00:32<00:00,  3.05it/s]\n"
     ]
    },
    {
     "name": "stdout",
     "output_type": "stream",
     "text": [
      "initial_potential =  79245.99789302019\n",
      "final_potential =  79941.07604551275\n",
      "energy_change =  1.9438329457771033\n",
      "p accept =  0.14315419459421322\n",
      "current step size = 0.0010383245649967724\n",
      "current acceptance ratio = 0.6696787148594378\n",
      "currently working on step 997\n"
     ]
    },
    {
     "name": "stderr",
     "output_type": "stream",
     "text": [
      "100%|██████████| 97/97 [00:31<00:00,  3.05it/s]\n"
     ]
    },
    {
     "name": "stdout",
     "output_type": "stream",
     "text": [
      "initial_potential =  79245.99789302019\n",
      "final_potential =  79411.51337292003\n",
      "energy_change =  0.35378240508725867\n",
      "p accept =  0.702027708394905\n",
      "current step size = 0.0010383245649967724\n",
      "current acceptance ratio = 0.6700100300902708\n",
      "currently working on step 998\n"
     ]
    },
    {
     "name": "stderr",
     "output_type": "stream",
     "text": [
      "100%|██████████| 97/97 [00:31<00:00,  3.05it/s]\n"
     ]
    },
    {
     "name": "stdout",
     "output_type": "stream",
     "text": [
      "initial_potential =  79411.51337292003\n",
      "final_potential =  79772.2083454674\n",
      "energy_change =  0.9313636984443292\n",
      "p accept =  0.3940160247943823\n",
      "current step size = 0.0010383245649967724\n",
      "current acceptance ratio = 0.6693386773547094\n",
      "currently working on step 999\n"
     ]
    },
    {
     "name": "stderr",
     "output_type": "stream",
     "text": [
      "100%|██████████| 97/97 [00:31<00:00,  3.05it/s]\n"
     ]
    },
    {
     "name": "stdout",
     "output_type": "stream",
     "text": [
      "initial_potential =  79411.51337292003\n",
      "final_potential =  79679.68669712017\n",
      "energy_change =  0.7005278871511109\n",
      "p accept =  0.4963232319683674\n",
      "current step size = 0.0010383245649967724\n",
      "current acceptance ratio = 0.6686686686686687\n",
      "currently working on step 1000\n"
     ]
    },
    {
     "name": "stderr",
     "output_type": "stream",
     "text": [
      "100%|██████████| 100/100 [00:32<00:00,  3.05it/s]\n"
     ]
    },
    {
     "name": "stdout",
     "output_type": "stream",
     "text": [
      "initial_potential =  79411.51337292003\n",
      "final_potential =  79685.30714082727\n",
      "energy_change =  0.49658165086293593\n",
      "p accept =  0.6086075410001616\n",
      "current step size = 0.0010383245649967724\n",
      "current acceptance ratio = 0.668\n",
      "currently working on step 1001\n"
     ]
    },
    {
     "name": "stderr",
     "output_type": "stream",
     "text": [
      "100%|██████████| 98/98 [00:32<00:00,  3.04it/s]\n"
     ]
    },
    {
     "name": "stdout",
     "output_type": "stream",
     "text": [
      "initial_potential =  79411.51337292003\n",
      "final_potential =  79782.45092673985\n",
      "energy_change =  1.0431908890022896\n",
      "p accept =  0.3523286447865457\n",
      "current step size = 0.0010383245649967724\n",
      "current acceptance ratio = 0.6683316683316683\n",
      "currently working on step 1002\n"
     ]
    },
    {
     "name": "stderr",
     "output_type": "stream",
     "text": [
      "100%|██████████| 99/99 [00:32<00:00,  3.05it/s]\n"
     ]
    },
    {
     "name": "stdout",
     "output_type": "stream",
     "text": [
      "initial_potential =  79782.45092673985\n",
      "final_potential =  79957.19697208525\n",
      "energy_change =  0.42267321061808616\n",
      "p accept =  0.6552927408355859\n",
      "current step size = 0.0010383245649967724\n",
      "current acceptance ratio = 0.6686626746506986\n",
      "currently working on step 1003\n"
     ]
    },
    {
     "name": "stderr",
     "output_type": "stream",
     "text": [
      "100%|██████████| 100/100 [00:32<00:00,  3.05it/s]\n"
     ]
    },
    {
     "name": "stdout",
     "output_type": "stream",
     "text": [
      "initial_potential =  79957.19697208525\n",
      "final_potential =  80347.78684715251\n",
      "energy_change =  1.288421832199674\n",
      "p accept =  0.27570554955297527\n",
      "current step size = 0.0010383245649967724\n",
      "current acceptance ratio = 0.6679960119641076\n",
      "currently working on step 1004\n"
     ]
    },
    {
     "name": "stderr",
     "output_type": "stream",
     "text": [
      "100%|██████████| 99/99 [00:32<00:00,  3.04it/s]\n"
     ]
    },
    {
     "name": "stdout",
     "output_type": "stream",
     "text": [
      "initial_potential =  79957.19697208525\n",
      "final_potential =  80314.28349368814\n",
      "energy_change =  0.8652590170968324\n",
      "p accept =  0.4209425071994676\n",
      "current step size = 0.0010383245649967724\n",
      "current acceptance ratio = 0.6683266932270916\n",
      "currently working on step 1005\n"
     ]
    },
    {
     "name": "stderr",
     "output_type": "stream",
     "text": [
      "100%|██████████| 98/98 [00:32<00:00,  3.04it/s]\n"
     ]
    },
    {
     "name": "stdout",
     "output_type": "stream",
     "text": [
      "initial_potential =  80314.28349368814\n",
      "final_potential =  79858.6864422799\n",
      "energy_change =  -0.988357036258094\n",
      "p accept =  2.6868165019665975\n",
      "current step size = 0.0010383245649967724\n",
      "current acceptance ratio = 0.6686567164179105\n",
      "currently working on step 1006\n"
     ]
    },
    {
     "name": "stderr",
     "output_type": "stream",
     "text": [
      "100%|██████████| 100/100 [00:32<00:00,  3.05it/s]\n"
     ]
    },
    {
     "name": "stdout",
     "output_type": "stream",
     "text": [
      "initial_potential =  79858.6864422799\n",
      "final_potential =  80250.9014504434\n",
      "energy_change =  1.0343071813695133\n",
      "p accept =  0.3554725736533035\n",
      "current step size = 0.0010383245649967724\n",
      "current acceptance ratio = 0.668986083499006\n",
      "currently working on step 1007\n"
     ]
    },
    {
     "name": "stderr",
     "output_type": "stream",
     "text": [
      "100%|██████████| 97/97 [00:31<00:00,  3.05it/s]\n"
     ]
    },
    {
     "name": "stdout",
     "output_type": "stream",
     "text": [
      "initial_potential =  80250.9014504434\n",
      "final_potential =  80141.93353145472\n",
      "energy_change =  -0.35536672634771094\n",
      "p accept =  1.4267037682179697\n",
      "current step size = 0.0010383245649967724\n",
      "current acceptance ratio = 0.6693147964250248\n",
      "currently working on step 1008\n"
     ]
    },
    {
     "name": "stderr",
     "output_type": "stream",
     "text": [
      "100%|██████████| 100/100 [00:32<00:00,  3.04it/s]\n"
     ]
    },
    {
     "name": "stdout",
     "output_type": "stream",
     "text": [
      "initial_potential =  80141.93353145472\n",
      "final_potential =  79428.24779678998\n",
      "energy_change =  -1.73591831716476\n",
      "p accept =  5.674136068566451\n",
      "current step size = 0.0010383245649967724\n",
      "current acceptance ratio = 0.6696428571428571\n",
      "currently working on step 1009\n"
     ]
    },
    {
     "name": "stderr",
     "output_type": "stream",
     "text": [
      "100%|██████████| 100/100 [00:32<00:00,  3.05it/s]\n"
     ]
    },
    {
     "name": "stdout",
     "output_type": "stream",
     "text": [
      "initial_potential =  79428.24779678998\n",
      "final_potential =  80130.21948663963\n",
      "energy_change =  1.6766539084492251\n",
      "p accept =  0.18699864494275642\n",
      "current step size = 0.0010383245649967724\n",
      "current acceptance ratio = 0.6689791873141725\n",
      "currently working on step 1010\n"
     ]
    },
    {
     "name": "stderr",
     "output_type": "stream",
     "text": [
      "100%|██████████| 97/97 [00:31<00:00,  3.04it/s]\n"
     ]
    },
    {
     "name": "stdout",
     "output_type": "stream",
     "text": [
      "initial_potential =  79428.24779678998\n",
      "final_potential =  79558.79712725137\n",
      "energy_change =  0.2540588794508949\n",
      "p accept =  0.7756461310836616\n",
      "current step size = 0.0010383245649967724\n",
      "current acceptance ratio = 0.6693069306930693\n",
      "currently working on step 1011\n"
     ]
    },
    {
     "name": "stderr",
     "output_type": "stream",
     "text": [
      "100%|██████████| 99/99 [00:32<00:00,  3.04it/s]\n"
     ]
    },
    {
     "name": "stdout",
     "output_type": "stream",
     "text": [
      "initial_potential =  79558.79712725137\n",
      "final_potential =  79997.42560171998\n",
      "energy_change =  0.9987007807940245\n",
      "p accept =  0.36835770782623256\n",
      "current step size = 0.0010383245649967724\n",
      "current acceptance ratio = 0.66864490603363\n",
      "currently working on step 1012\n"
     ]
    },
    {
     "name": "stderr",
     "output_type": "stream",
     "text": [
      "100%|██████████| 101/101 [00:33<00:00,  3.05it/s]\n"
     ]
    },
    {
     "name": "stdout",
     "output_type": "stream",
     "text": [
      "initial_potential =  79558.79712725137\n",
      "final_potential =  80043.52115478387\n",
      "energy_change =  1.1585290582152084\n",
      "p accept =  0.3139476401116475\n",
      "current step size = 0.0010383245649967724\n",
      "current acceptance ratio = 0.6679841897233202\n",
      "currently working on step 1013\n"
     ]
    },
    {
     "name": "stderr",
     "output_type": "stream",
     "text": [
      "100%|██████████| 100/100 [00:32<00:00,  3.05it/s]\n"
     ]
    },
    {
     "name": "stdout",
     "output_type": "stream",
     "text": [
      "initial_potential =  79558.79712725137\n",
      "final_potential =  79897.19260581401\n",
      "energy_change =  1.0406243742909282\n",
      "p accept =  0.353234062823982\n",
      "current step size = 0.0010383245649967724\n",
      "current acceptance ratio = 0.667324777887463\n",
      "currently working on step 1014\n"
     ]
    },
    {
     "name": "stderr",
     "output_type": "stream",
     "text": [
      "100%|██████████| 100/100 [00:32<00:00,  3.05it/s]\n"
     ]
    },
    {
     "name": "stdout",
     "output_type": "stream",
     "text": [
      "initial_potential =  79558.79712725137\n",
      "final_potential =  79601.77829571864\n",
      "energy_change =  0.3850265365326777\n",
      "p accept =  0.6804325796436248\n",
      "current step size = 0.0010383245649967724\n",
      "current acceptance ratio = 0.6666666666666666\n",
      "currently working on step 1015\n"
     ]
    },
    {
     "name": "stderr",
     "output_type": "stream",
     "text": [
      "100%|██████████| 97/97 [00:31<00:00,  3.05it/s]\n"
     ]
    },
    {
     "name": "stdout",
     "output_type": "stream",
     "text": [
      "initial_potential =  79558.79712725137\n",
      "final_potential =  79233.55724460322\n",
      "energy_change =  -0.814524132933002\n",
      "p accept =  2.2581008608026587\n",
      "current step size = 0.0010383245649967724\n",
      "current acceptance ratio = 0.6669950738916256\n",
      "currently working on step 1016\n"
     ]
    },
    {
     "name": "stderr",
     "output_type": "stream",
     "text": [
      "100%|██████████| 98/98 [00:32<00:00,  3.05it/s]\n"
     ]
    },
    {
     "name": "stdout",
     "output_type": "stream",
     "text": [
      "initial_potential =  79233.55724460322\n",
      "final_potential =  79858.68815825459\n",
      "energy_change =  1.6281413645483553\n",
      "p accept =  0.1962940744110511\n",
      "current step size = 0.0010383245649967724\n",
      "current acceptance ratio = 0.6673228346456693\n",
      "currently working on step 1017\n"
     ]
    },
    {
     "name": "stderr",
     "output_type": "stream",
     "text": [
      "100%|██████████| 98/98 [00:31<00:00,  3.16it/s]\n"
     ]
    },
    {
     "name": "stdout",
     "output_type": "stream",
     "text": [
      "initial_potential =  79858.68815825459\n",
      "final_potential =  79625.8308809235\n",
      "energy_change =  -0.413395413022954\n",
      "p accept =  1.511942749605499\n",
      "current step size = 0.0010383245649967724\n",
      "current acceptance ratio = 0.6676499508357916\n",
      "currently working on step 1018\n"
     ]
    },
    {
     "name": "stderr",
     "output_type": "stream",
     "text": [
      "100%|██████████| 97/97 [00:30<00:00,  3.13it/s]\n"
     ]
    },
    {
     "name": "stdout",
     "output_type": "stream",
     "text": [
      "initial_potential =  79625.8308809235\n",
      "final_potential =  80027.49190688196\n",
      "energy_change =  0.9750567724113353\n",
      "p accept =  0.377170940051562\n",
      "current step size = 0.0010383245649967724\n",
      "current acceptance ratio = 0.6669941060903732\n",
      "currently working on step 1019\n"
     ]
    },
    {
     "name": "stderr",
     "output_type": "stream",
     "text": [
      "100%|██████████| 101/101 [00:32<00:00,  3.09it/s]\n"
     ]
    },
    {
     "name": "stdout",
     "output_type": "stream",
     "text": [
      "initial_potential =  79625.8308809235\n",
      "final_potential =  79920.07365349622\n",
      "energy_change =  0.638612980954349\n",
      "p accept =  0.5280242961207465\n",
      "current step size = 0.0010383245649967724\n",
      "current acceptance ratio = 0.6673209028459274\n",
      "currently working on step 1020\n"
     ]
    },
    {
     "name": "stderr",
     "output_type": "stream",
     "text": [
      "100%|██████████| 97/97 [00:31<00:00,  3.08it/s]\n"
     ]
    },
    {
     "name": "stdout",
     "output_type": "stream",
     "text": [
      "initial_potential =  79920.07365349622\n",
      "final_potential =  79799.59143474032\n",
      "energy_change =  -0.2907701561343856\n",
      "p accept =  1.3374571422999202\n",
      "current step size = 0.0010383245649967724\n",
      "current acceptance ratio = 0.6676470588235294\n",
      "currently working on step 1021\n"
     ]
    },
    {
     "name": "stderr",
     "output_type": "stream",
     "text": [
      "100%|██████████| 97/97 [00:31<00:00,  3.07it/s]\n"
     ]
    },
    {
     "name": "stdout",
     "output_type": "stream",
     "text": [
      "initial_potential =  79799.59143474032\n",
      "final_potential =  79456.98408204442\n",
      "energy_change =  -0.598959667084273\n",
      "p accept =  1.8202241759170772\n",
      "current step size = 0.0010383245649967724\n",
      "current acceptance ratio = 0.6679725759059746\n",
      "currently working on step 1022\n"
     ]
    },
    {
     "name": "stderr",
     "output_type": "stream",
     "text": [
      "100%|██████████| 100/100 [00:32<00:00,  3.08it/s]\n"
     ]
    },
    {
     "name": "stdout",
     "output_type": "stream",
     "text": [
      "initial_potential =  79456.98408204442\n",
      "final_potential =  79536.45706010089\n",
      "energy_change =  0.4853378073312342\n",
      "p accept =  0.6154892448632137\n",
      "current step size = 0.0010383245649967724\n",
      "current acceptance ratio = 0.6682974559686888\n",
      "currently working on step 1023\n"
     ]
    },
    {
     "name": "stderr",
     "output_type": "stream",
     "text": [
      "100%|██████████| 98/98 [00:32<00:00,  3.06it/s]\n"
     ]
    },
    {
     "name": "stdout",
     "output_type": "stream",
     "text": [
      "initial_potential =  79536.45706010089\n",
      "final_potential =  79776.80896256043\n",
      "energy_change =  0.7944861942669377\n",
      "p accept =  0.45181331956814375\n",
      "current step size = 0.0010383245649967724\n",
      "current acceptance ratio = 0.667644183773216\n",
      "currently working on step 1024\n"
     ]
    },
    {
     "name": "stderr",
     "output_type": "stream",
     "text": [
      "100%|██████████| 98/98 [00:31<00:00,  3.11it/s]\n"
     ]
    },
    {
     "name": "stdout",
     "output_type": "stream",
     "text": [
      "initial_potential =  79536.45706010089\n",
      "final_potential =  79652.43127014501\n",
      "energy_change =  0.3540135580697097\n",
      "p accept =  0.7018654513501686\n",
      "current step size = 0.0010383245649967724\n",
      "current acceptance ratio = 0.6669921875\n",
      "currently working on step 1025\n"
     ]
    },
    {
     "name": "stderr",
     "output_type": "stream",
     "text": [
      "100%|██████████| 100/100 [00:31<00:00,  3.13it/s]\n"
     ]
    },
    {
     "name": "stdout",
     "output_type": "stream",
     "text": [
      "initial_potential =  79536.45706010089\n",
      "final_potential =  79695.82716727063\n",
      "energy_change =  0.29964453051798046\n",
      "p accept =  0.7410816057607996\n",
      "current step size = 0.0010383245649967724\n",
      "current acceptance ratio = 0.6663414634146342\n",
      "currently working on step 1026\n"
     ]
    },
    {
     "name": "stderr",
     "output_type": "stream",
     "text": [
      "100%|██████████| 97/97 [00:31<00:00,  3.06it/s]\n"
     ]
    },
    {
     "name": "stdout",
     "output_type": "stream",
     "text": [
      "initial_potential =  79536.45706010089\n",
      "final_potential =  79499.4683867607\n",
      "energy_change =  -0.0701365350978449\n",
      "p accept =  1.0726546262608976\n",
      "current step size = 0.0010383245649967724\n",
      "current acceptance ratio = 0.6666666666666666\n",
      "currently working on step 1027\n"
     ]
    },
    {
     "name": "stderr",
     "output_type": "stream",
     "text": [
      "100%|██████████| 100/100 [00:32<00:00,  3.06it/s]\n"
     ]
    },
    {
     "name": "stdout",
     "output_type": "stream",
     "text": [
      "initial_potential =  79499.4683867607\n",
      "final_potential =  79571.00296421292\n",
      "energy_change =  0.2196344054536894\n",
      "p accept =  0.8028122480969412\n",
      "current step size = 0.0010383245649967724\n",
      "current acceptance ratio = 0.6660175267770204\n",
      "currently working on step 1028\n"
     ]
    },
    {
     "name": "stderr",
     "output_type": "stream",
     "text": [
      "100%|██████████| 101/101 [00:33<00:00,  3.05it/s]\n"
     ]
    },
    {
     "name": "stdout",
     "output_type": "stream",
     "text": [
      "initial_potential =  79499.4683867607\n",
      "final_potential =  79567.93083607036\n",
      "energy_change =  -0.14562316366937011\n",
      "p accept =  1.1567601966393335\n",
      "current step size = 0.0010383245649967724\n",
      "current acceptance ratio = 0.6663424124513618\n",
      "currently working on step 1029\n"
     ]
    },
    {
     "name": "stderr",
     "output_type": "stream",
     "text": [
      "100%|██████████| 97/97 [00:31<00:00,  3.05it/s]\n"
     ]
    },
    {
     "name": "stdout",
     "output_type": "stream",
     "text": [
      "initial_potential =  79567.93083607036\n",
      "final_potential =  79929.04387678999\n",
      "energy_change =  0.6897532786242664\n",
      "p accept =  0.5016998338709342\n",
      "current step size = 0.0010383245649967724\n",
      "current acceptance ratio = 0.6656948493683188\n",
      "currently working on step 1030\n"
     ]
    },
    {
     "name": "stderr",
     "output_type": "stream",
     "text": [
      "100%|██████████| 98/98 [00:32<00:00,  2.99it/s]\n"
     ]
    },
    {
     "name": "stdout",
     "output_type": "stream",
     "text": [
      "initial_potential =  79567.93083607036\n",
      "final_potential =  79770.02274530414\n",
      "energy_change =  0.20642466301796958\n",
      "p accept =  0.8134875448450273\n",
      "current step size = 0.0010383245649967724\n",
      "current acceptance ratio = 0.6660194174757281\n",
      "currently working on step 1031\n"
     ]
    },
    {
     "name": "stderr",
     "output_type": "stream",
     "text": [
      "100%|██████████| 97/97 [00:38<00:00,  2.50it/s]\n"
     ]
    },
    {
     "name": "stdout",
     "output_type": "stream",
     "text": [
      "initial_potential =  79770.02274530414\n",
      "final_potential =  79941.61490814445\n",
      "energy_change =  0.31608461815631017\n",
      "p accept =  0.728997761111154\n",
      "current step size = 0.0010383245649967724\n",
      "current acceptance ratio = 0.6663433559650824\n",
      "currently working on step 1032\n"
     ]
    },
    {
     "name": "stderr",
     "output_type": "stream",
     "text": [
      "100%|██████████| 99/99 [00:39<00:00,  2.53it/s]\n"
     ]
    },
    {
     "name": "stdout",
     "output_type": "stream",
     "text": [
      "initial_potential =  79941.61490814445\n",
      "final_potential =  80171.24550410062\n",
      "energy_change =  0.4832155370968394\n",
      "p accept =  0.6167968664395543\n",
      "current step size = 0.0010383245649967724\n",
      "current acceptance ratio = 0.6666666666666666\n",
      "currently working on step 1033\n"
     ]
    },
    {
     "name": "stderr",
     "output_type": "stream",
     "text": [
      "100%|██████████| 97/97 [00:44<00:00,  2.17it/s]\n"
     ]
    },
    {
     "name": "stdout",
     "output_type": "stream",
     "text": [
      "initial_potential =  80171.24550410062\n",
      "final_potential =  80059.44245912234\n",
      "energy_change =  -0.1904623867594637\n",
      "p accept =  1.2098088679497196\n",
      "current step size = 0.0010383245649967724\n",
      "current acceptance ratio = 0.6669893514036787\n",
      "currently working on step 1034\n"
     ]
    },
    {
     "name": "stderr",
     "output_type": "stream",
     "text": [
      "100%|██████████| 98/98 [00:43<00:00,  2.26it/s]\n"
     ]
    },
    {
     "name": "stdout",
     "output_type": "stream",
     "text": [
      "initial_potential =  80059.44245912234\n",
      "final_potential =  80212.08858140414\n",
      "energy_change =  0.38181303621968254\n",
      "p accept =  0.6826226669897913\n",
      "current step size = 0.0010383245649967724\n",
      "current acceptance ratio = 0.6663442940038685\n",
      "currently working on step 1035\n"
     ]
    },
    {
     "name": "stderr",
     "output_type": "stream",
     "text": [
      "100%|██████████| 101/101 [00:34<00:00,  2.91it/s]\n"
     ]
    },
    {
     "name": "stdout",
     "output_type": "stream",
     "text": [
      "initial_potential =  80059.44245912234\n",
      "final_potential =  79972.43269338482\n",
      "energy_change =  -0.2631602641195059\n",
      "p accept =  1.3010352115069583\n",
      "current step size = 0.0010383245649967724\n",
      "current acceptance ratio = 0.6666666666666666\n",
      "currently working on step 1036\n"
     ]
    },
    {
     "name": "stderr",
     "output_type": "stream",
     "text": [
      "100%|██████████| 97/97 [00:33<00:00,  2.88it/s]\n"
     ]
    },
    {
     "name": "stdout",
     "output_type": "stream",
     "text": [
      "initial_potential =  79972.43269338482\n",
      "final_potential =  79932.96822855262\n",
      "energy_change =  -0.04641264950623736\n",
      "p accept =  1.0475065748555896\n",
      "current step size = 0.0010383245649967724\n",
      "current acceptance ratio = 0.666988416988417\n",
      "currently working on step 1037\n"
     ]
    },
    {
     "name": "stderr",
     "output_type": "stream",
     "text": [
      "100%|██████████| 97/97 [00:32<00:00,  2.95it/s]\n"
     ]
    },
    {
     "name": "stdout",
     "output_type": "stream",
     "text": [
      "initial_potential =  79932.96822855262\n",
      "final_potential =  80000.07257048634\n",
      "energy_change =  0.14377560006687418\n",
      "p accept =  0.8660820750146264\n",
      "current step size = 0.0010383245649967724\n",
      "current acceptance ratio = 0.6673095467695275\n",
      "currently working on step 1038\n"
     ]
    },
    {
     "name": "stderr",
     "output_type": "stream",
     "text": [
      "100%|██████████| 100/100 [00:34<00:00,  2.89it/s]\n"
     ]
    },
    {
     "name": "stdout",
     "output_type": "stream",
     "text": [
      "initial_potential =  80000.07257048634\n",
      "final_potential =  80186.19151226939\n",
      "energy_change =  0.34310530277434736\n",
      "p accept =  0.7095634886220838\n",
      "current step size = 0.0010383245649967724\n",
      "current acceptance ratio = 0.6666666666666666\n",
      "currently working on step 1039\n"
     ]
    },
    {
     "name": "stderr",
     "output_type": "stream",
     "text": [
      "100%|██████████| 101/101 [00:35<00:00,  2.83it/s]\n"
     ]
    },
    {
     "name": "stdout",
     "output_type": "stream",
     "text": [
      "initial_potential =  80000.07257048634\n",
      "final_potential =  79928.44832149503\n",
      "energy_change =  -0.2262938959756866\n",
      "p accept =  1.2539441402654365\n",
      "current step size = 0.0010383245649967724\n",
      "current acceptance ratio = 0.6669874879692012\n",
      "currently working on step 1040\n"
     ]
    },
    {
     "name": "stderr",
     "output_type": "stream",
     "text": [
      "100%|██████████| 97/97 [00:32<00:00,  2.96it/s]\n"
     ]
    },
    {
     "name": "stdout",
     "output_type": "stream",
     "text": [
      "initial_potential =  79928.44832149503\n",
      "final_potential =  80039.10341787993\n",
      "energy_change =  -0.14005894784349948\n",
      "p accept =  1.1503416070156567\n",
      "current step size = 0.0010383245649967724\n",
      "current acceptance ratio = 0.6673076923076923\n",
      "currently working on step 1041\n"
     ]
    },
    {
     "name": "stderr",
     "output_type": "stream",
     "text": [
      "100%|██████████| 100/100 [00:32<00:00,  3.03it/s]\n"
     ]
    },
    {
     "name": "stdout",
     "output_type": "stream",
     "text": [
      "initial_potential =  80039.10341787993\n",
      "final_potential =  80345.90168102663\n",
      "energy_change =  0.9334744737716392\n",
      "p accept =  0.39318522261751104\n",
      "current step size = 0.0010383245649967724\n",
      "current acceptance ratio = 0.6666666666666666\n",
      "currently working on step 1042\n"
     ]
    },
    {
     "name": "stderr",
     "output_type": "stream",
     "text": [
      "100%|██████████| 98/98 [00:37<00:00,  2.63it/s]\n"
     ]
    },
    {
     "name": "stdout",
     "output_type": "stream",
     "text": [
      "initial_potential =  80039.10341787993\n",
      "final_potential =  80195.27454752369\n",
      "energy_change =  0.3804369738791138\n",
      "p accept =  0.6835626449204459\n",
      "current step size = 0.0010383245649967724\n",
      "current acceptance ratio = 0.6669865642994242\n",
      "currently working on step 1043\n"
     ]
    },
    {
     "name": "stderr",
     "output_type": "stream",
     "text": [
      "100%|██████████| 100/100 [00:35<00:00,  2.79it/s]\n"
     ]
    },
    {
     "name": "stdout",
     "output_type": "stream",
     "text": [
      "initial_potential =  80195.27454752369\n",
      "final_potential =  80043.4880359775\n",
      "energy_change =  -0.4287002676865086\n",
      "p accept =  1.5352607981561144\n",
      "current step size = 0.0010383245649967724\n",
      "current acceptance ratio = 0.6673058485139022\n",
      "currently working on step 1044\n"
     ]
    },
    {
     "name": "stderr",
     "output_type": "stream",
     "text": [
      "100%|██████████| 100/100 [00:36<00:00,  2.77it/s]\n"
     ]
    },
    {
     "name": "stdout",
     "output_type": "stream",
     "text": [
      "initial_potential =  80043.4880359775\n",
      "final_potential =  80229.37667805018\n",
      "energy_change =  0.46530544268898666\n",
      "p accept =  0.6279432752120883\n",
      "current step size = 0.0010383245649967724\n",
      "current acceptance ratio = 0.6676245210727969\n",
      "currently working on step 1045\n"
     ]
    },
    {
     "name": "stderr",
     "output_type": "stream",
     "text": [
      "100%|██████████| 100/100 [00:40<00:00,  2.47it/s]\n"
     ]
    },
    {
     "name": "stdout",
     "output_type": "stream",
     "text": [
      "initial_potential =  80229.37667805018\n",
      "final_potential =  80519.34627711306\n",
      "energy_change =  0.7283781704609282\n",
      "p accept =  0.48269119845833797\n",
      "current step size = 0.0010383245649967724\n",
      "current acceptance ratio = 0.6679425837320574\n",
      "currently working on step 1046\n"
     ]
    },
    {
     "name": "stderr",
     "output_type": "stream",
     "text": [
      "100%|██████████| 101/101 [00:41<00:00,  2.43it/s]\n"
     ]
    },
    {
     "name": "stdout",
     "output_type": "stream",
     "text": [
      "initial_potential =  80519.34627711306\n",
      "final_potential =  80078.66492328909\n",
      "energy_change =  -1.1992244866560213\n",
      "p accept =  3.317543125895288\n",
      "current step size = 0.0010383245649967724\n",
      "current acceptance ratio = 0.6682600382409177\n",
      "currently working on step 1047\n"
     ]
    },
    {
     "name": "stderr",
     "output_type": "stream",
     "text": [
      "100%|██████████| 97/97 [00:40<00:00,  2.38it/s]\n"
     ]
    },
    {
     "name": "stdout",
     "output_type": "stream",
     "text": [
      "initial_potential =  80078.66492328909\n",
      "final_potential =  80393.14703746872\n",
      "energy_change =  1.0647202842519619\n",
      "p accept =  0.3448242940641522\n",
      "current step size = 0.0010383245649967724\n",
      "current acceptance ratio = 0.6685768863419294\n",
      "currently working on step 1048\n"
     ]
    },
    {
     "name": "stderr",
     "output_type": "stream",
     "text": [
      "100%|██████████| 99/99 [00:34<00:00,  2.87it/s]\n"
     ]
    },
    {
     "name": "stdout",
     "output_type": "stream",
     "text": [
      "initial_potential =  80393.14703746872\n",
      "final_potential =  80136.74568900323\n",
      "energy_change =  -0.7575101808761247\n",
      "p accept =  2.1329589217738376\n",
      "current step size = 0.0010383245649967724\n",
      "current acceptance ratio = 0.6688931297709924\n",
      "currently working on step 1049\n"
     ]
    },
    {
     "name": "stderr",
     "output_type": "stream",
     "text": [
      "100%|██████████| 99/99 [00:33<00:00,  2.92it/s]\n"
     ]
    },
    {
     "name": "stdout",
     "output_type": "stream",
     "text": [
      "initial_potential =  80136.74568900323\n",
      "final_potential =  80115.86405792697\n",
      "energy_change =  -0.0013126793201081455\n",
      "p accept =  1.0013135412607161\n",
      "current step size = 0.0010383245649967724\n",
      "current acceptance ratio = 0.669208770257388\n",
      "currently working on step 1050\n"
     ]
    },
    {
     "name": "stderr",
     "output_type": "stream",
     "text": [
      "100%|██████████| 101/101 [00:34<00:00,  2.95it/s]\n"
     ]
    },
    {
     "name": "stdout",
     "output_type": "stream",
     "text": [
      "initial_potential =  80115.86405792697\n",
      "final_potential =  80148.84859274271\n",
      "energy_change =  0.1546448800363578\n",
      "p accept =  0.8567193616180367\n",
      "current step size = 0.0010383245649967724\n",
      "current acceptance ratio = 0.6685714285714286\n"
     ]
    }
   ],
   "source": [
    "vc.prepare_pos_sampling()\n",
    "samples = vc.hamiltonian_monte_carlo(\n",
    "    n_samples = 1000,\n",
    "    m = 1,\n",
    "    initial_position = np.zeros(alpha**l),\n",
    "    tune = 50,\n",
    "    initial_step_size = 1e-10,\n",
    "    num_steps = 100,\n",
    "    max_energy_change=10.0,\n",
    "    intermediate_output=False\n",
    "  )\n",
    "\n",
    "samples0=samples[0]\n",
    "samples0 = map + samples0\n",
    "sample_name = [fl_name, scheme, \"hmc\", str(i + 1), str(j + 1)]\n",
    "pd.DataFrame(samples0).to_csv(dirout + \"_\".join(sample_name) + \".tsv\", header = None, index = None)"
   ]
  },
  {
   "cell_type": "code",
   "execution_count": 11,
   "metadata": {},
   "outputs": [],
   "source": [
    "samples0 = map + samples[0]\n",
    "\n",
    "lambdaspos = []\n",
    "\n",
    "for i in np.arange(0, 1000, 100):\n",
    "    rhod,_ = vc.compute_rhod_and_Nd_custom(np.array(samples0)[i], range(G))\n",
    "    lambdas = sp.linalg.inv(vc.W_kd.T).dot(rhod)\n",
    "    lambdaspos.append(lambdas)\n",
    "\n",
    "pd.DataFrame(lambdaspos).to_csv(dirout + \"/posterior_lambdas.csv\", header = None, index = None)    "
   ]
  },
  {
   "cell_type": "code",
   "execution_count": 60,
   "metadata": {
    "scrolled": true
   },
   "outputs": [
    {
     "name": "stdout",
     "output_type": "stream",
     "text": [
      "/Users/keitokiddo/VC_revision/Simulations/2_16_DEN\r\n"
     ]
    }
   ],
   "source": [
    "!pwd"
   ]
  },
  {
   "cell_type": "code",
   "execution_count": null,
   "metadata": {},
   "outputs": [],
   "source": []
  }
 ],
 "metadata": {
  "kernelspec": {
   "display_name": "Python 3",
   "language": "python",
   "name": "python3"
  },
  "language_info": {
   "codemirror_mode": {
    "name": "ipython",
    "version": 3
   },
   "file_extension": ".py",
   "mimetype": "text/x-python",
   "name": "python",
   "nbconvert_exporter": "python",
   "pygments_lexer": "ipython3",
   "version": "3.8.6"
  }
 },
 "nbformat": 4,
 "nbformat_minor": 4
}
