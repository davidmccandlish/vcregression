{
 "cells": [
  {
   "cell_type": "code",
   "execution_count": 9,
   "metadata": {},
   "outputs": [
    {
     "name": "stdout",
     "output_type": "stream",
     "text": [
      "Loading L_sparse ...\n",
      "0.03 sec\n"
     ]
    }
   ],
   "source": [
    "fl_name = \"2_16_DEN\"\n",
    "alpha, l = 2, 16 \n",
    "\n",
    "import os\n",
    "\n",
    "os.chdir(\"/Users/keitokiddo/VC_revision/Simulations/\" + fl_name + \"_var_ldas\")\n",
    "import scipy as sp\n",
    "import sys\n",
    "sys.path.insert(1, '/Users/keitokiddo/git/vcregression/vcregression')\n",
    "\n",
    "import vc_regression as vc\n",
    "import itertools\n",
    "import os\n",
    "import csv\n",
    "import pandas as pd\n",
    "import numpy as np\n",
    "import arrow\n",
    "import scipy as sp\n",
    "\n",
    "#define sequence space parameters\n",
    "\n",
    "G = alpha**l\n",
    "bases = np.array(range(alpha))\n",
    "seqs = list(itertools.product(bases, repeat=l)) #generate all possible sequences\n",
    "\n",
    "dirin = \"data/\"\n",
    "dirout = \"out/\"\n",
    "vc.preliminary_preparation(alpha, l)\n"
   ]
  },
  {
   "cell_type": "code",
   "execution_count": 10,
   "metadata": {},
   "outputs": [],
   "source": [
    "blist = [3, 2.5, 2, 1.5, 1, 0.75, .5]"
   ]
  },
  {
   "cell_type": "code",
   "execution_count": 19,
   "metadata": {
    "scrolled": false
   },
   "outputs": [
    {
     "name": "stdout",
     "output_type": "stream",
     "text": [
      "working on sample 3,1\n"
     ]
    },
    {
     "name": "stderr",
     "output_type": "stream",
     "text": [
      "  0%|          | 0/10 [00:00<?, ?it/s]/Users/keitokiddo/git/vcregression/vcregression/vc_regression.py:561: RuntimeWarning: overflow encountered in square\n",
      "  frob_loss = (1/N_pairs)*np.sum(N_d*(rho_d_fit - rho_d)**2)\n",
      "/Library/Frameworks/Python.framework/Versions/3.8/lib/python3.8/site-packages/numpy/core/fromnumeric.py:87: RuntimeWarning: invalid value encountered in reduce\n",
      "  return ufunc.reduce(obj, axis, dtype, out, **passkwargs)\n",
      "/Users/keitokiddo/git/vcregression/vcregression/vc_regression.py:557: RuntimeWarning: overflow encountered in exp\n",
      "  rho_d_fit = np.matmul(np.exp(theta), W_kd)\n",
      "/Users/keitokiddo/git/vcregression/vcregression/vc_regression.py:639: RuntimeWarning: overflow encountered in exp\n",
      "  ldas.append(np.exp(res.x))\n",
      " 50%|█████     | 5/10 [00:20<00:20,  4.10s/it]/Users/keitokiddo/git/vcregression/vcregression/vc_regression.py:561: RuntimeWarning: overflow encountered in multiply\n",
      "  frob_loss = (1/N_pairs)*np.sum(N_d*(rho_d_fit - rho_d)**2)\n",
      " 80%|████████  | 8/10 [00:32<00:08,  4.14s/it]/Library/Frameworks/Python.framework/Versions/3.8/lib/python3.8/site-packages/scipy/optimize/optimize.py:2116: RuntimeWarning: invalid value encountered in double_scalars\n",
      "  tmp2 = (x - v) * (fx - fw)\n",
      "/Library/Frameworks/Python.framework/Versions/3.8/lib/python3.8/site-packages/scipy/optimize/optimize.py:2115: RuntimeWarning: invalid value encountered in double_scalars\n",
      "  tmp1 = (x - w) * (fx - fv)\n",
      "/Library/Frameworks/Python.framework/Versions/3.8/lib/python3.8/site-packages/scipy/optimize/optimize.py:2937: RuntimeWarning: invalid value encountered in double_scalars\n",
      "  if (fx2 - fval) > delta:\n",
      "100%|██████████| 10/10 [00:41<00:00,  4.14s/it]\n"
     ]
    },
    {
     "name": "stdout",
     "output_type": "stream",
     "text": [
      "working on sample 3,2\n"
     ]
    },
    {
     "name": "stderr",
     "output_type": "stream",
     "text": [
      " 20%|██        | 2/10 [00:06<00:27,  3.50s/it]/Users/keitokiddo/git/vcregression/vcregression/vc_regression.py:557: RuntimeWarning: overflow encountered in exp\n",
      "  rho_d_fit = np.matmul(np.exp(theta), W_kd)\n",
      "/Library/Frameworks/Python.framework/Versions/3.8/lib/python3.8/site-packages/numpy/core/fromnumeric.py:87: RuntimeWarning: invalid value encountered in reduce\n",
      "  return ufunc.reduce(obj, axis, dtype, out, **passkwargs)\n",
      " 30%|███       | 3/10 [00:10<00:24,  3.47s/it]/Users/keitokiddo/git/vcregression/vcregression/vc_regression.py:561: RuntimeWarning: overflow encountered in square\n",
      "  frob_loss = (1/N_pairs)*np.sum(N_d*(rho_d_fit - rho_d)**2)\n",
      " 70%|███████   | 7/10 [00:23<00:09,  3.32s/it]/Users/keitokiddo/git/vcregression/vcregression/vc_regression.py:639: RuntimeWarning: overflow encountered in exp\n",
      "  ldas.append(np.exp(res.x))\n",
      "100%|██████████| 10/10 [00:33<00:00,  3.36s/it]\n"
     ]
    },
    {
     "name": "stdout",
     "output_type": "stream",
     "text": [
      "working on sample 3,3\n"
     ]
    },
    {
     "name": "stderr",
     "output_type": "stream",
     "text": [
      "100%|██████████| 10/10 [00:36<00:00,  3.63s/it]\n"
     ]
    },
    {
     "name": "stdout",
     "output_type": "stream",
     "text": [
      "working on sample 2.5,1\n"
     ]
    },
    {
     "name": "stderr",
     "output_type": "stream",
     "text": [
      "  0%|          | 0/10 [00:00<?, ?it/s]/Users/keitokiddo/git/vcregression/vcregression/vc_regression.py:561: RuntimeWarning: overflow encountered in square\n",
      "  frob_loss = (1/N_pairs)*np.sum(N_d*(rho_d_fit - rho_d)**2)\n",
      "/Library/Frameworks/Python.framework/Versions/3.8/lib/python3.8/site-packages/numpy/core/fromnumeric.py:87: RuntimeWarning: invalid value encountered in reduce\n",
      "  return ufunc.reduce(obj, axis, dtype, out, **passkwargs)\n",
      "100%|██████████| 10/10 [00:34<00:00,  3.49s/it]\n"
     ]
    },
    {
     "name": "stdout",
     "output_type": "stream",
     "text": [
      "working on sample 2.5,2\n"
     ]
    },
    {
     "name": "stderr",
     "output_type": "stream",
     "text": [
      "  0%|          | 0/10 [00:00<?, ?it/s]/Users/keitokiddo/git/vcregression/vcregression/vc_regression.py:561: RuntimeWarning: overflow encountered in square\n",
      "  frob_loss = (1/N_pairs)*np.sum(N_d*(rho_d_fit - rho_d)**2)\n",
      "/Library/Frameworks/Python.framework/Versions/3.8/lib/python3.8/site-packages/numpy/core/fromnumeric.py:87: RuntimeWarning: invalid value encountered in reduce\n",
      "  return ufunc.reduce(obj, axis, dtype, out, **passkwargs)\n",
      "/Users/keitokiddo/git/vcregression/vcregression/vc_regression.py:557: RuntimeWarning: overflow encountered in exp\n",
      "  rho_d_fit = np.matmul(np.exp(theta), W_kd)\n",
      "/Users/keitokiddo/git/vcregression/vcregression/vc_regression.py:639: RuntimeWarning: overflow encountered in exp\n",
      "  ldas.append(np.exp(res.x))\n",
      " 70%|███████   | 7/10 [00:26<00:11,  3.82s/it]/Users/keitokiddo/git/vcregression/vcregression/vc_regression.py:561: RuntimeWarning: overflow encountered in multiply\n",
      "  frob_loss = (1/N_pairs)*np.sum(N_d*(rho_d_fit - rho_d)**2)\n",
      "100%|██████████| 10/10 [00:38<00:00,  3.85s/it]\n"
     ]
    },
    {
     "name": "stdout",
     "output_type": "stream",
     "text": [
      "working on sample 2.5,3\n"
     ]
    },
    {
     "name": "stderr",
     "output_type": "stream",
     "text": [
      "100%|██████████| 10/10 [00:39<00:00,  3.90s/it]\n"
     ]
    },
    {
     "name": "stdout",
     "output_type": "stream",
     "text": [
      "working on sample 2,1\n"
     ]
    },
    {
     "name": "stderr",
     "output_type": "stream",
     "text": [
      "  0%|          | 0/10 [00:00<?, ?it/s]/Users/keitokiddo/git/vcregression/vcregression/vc_regression.py:561: RuntimeWarning: overflow encountered in square\n",
      "  frob_loss = (1/N_pairs)*np.sum(N_d*(rho_d_fit - rho_d)**2)\n",
      "/Library/Frameworks/Python.framework/Versions/3.8/lib/python3.8/site-packages/numpy/core/fromnumeric.py:87: RuntimeWarning: invalid value encountered in reduce\n",
      "  return ufunc.reduce(obj, axis, dtype, out, **passkwargs)\n",
      "/Users/keitokiddo/git/vcregression/vcregression/vc_regression.py:557: RuntimeWarning: overflow encountered in exp\n",
      "  rho_d_fit = np.matmul(np.exp(theta), W_kd)\n",
      " 10%|█         | 1/10 [00:04<00:38,  4.28s/it]/Users/keitokiddo/git/vcregression/vcregression/vc_regression.py:639: RuntimeWarning: overflow encountered in exp\n",
      "  ldas.append(np.exp(res.x))\n",
      " 80%|████████  | 8/10 [00:33<00:08,  4.16s/it]/Users/keitokiddo/git/vcregression/vcregression/vc_regression.py:561: RuntimeWarning: overflow encountered in multiply\n",
      "  frob_loss = (1/N_pairs)*np.sum(N_d*(rho_d_fit - rho_d)**2)\n",
      "100%|██████████| 10/10 [00:41<00:00,  4.16s/it]\n",
      "/Users/keitokiddo/git/vcregression/vcregression/vc_regression.py:690: RuntimeWarning: overflow encountered in exp\n",
      "  return np.exp(res.x)\n",
      "/Users/keitokiddo/git/vcregression/vcregression/vc_regression.py:293: RuntimeWarning: invalid value encountered in multiply\n",
      "  Lsv[:, 0] = b_k[0] * v\n"
     ]
    },
    {
     "name": "stdout",
     "output_type": "stream",
     "text": [
      "working on sample 2,2\n"
     ]
    },
    {
     "name": "stderr",
     "output_type": "stream",
     "text": [
      "  0%|          | 0/10 [00:00<?, ?it/s]/Users/keitokiddo/git/vcregression/vcregression/vc_regression.py:561: RuntimeWarning: overflow encountered in square\n",
      "  frob_loss = (1/N_pairs)*np.sum(N_d*(rho_d_fit - rho_d)**2)\n",
      "/Library/Frameworks/Python.framework/Versions/3.8/lib/python3.8/site-packages/numpy/core/fromnumeric.py:87: RuntimeWarning: invalid value encountered in reduce\n",
      "  return ufunc.reduce(obj, axis, dtype, out, **passkwargs)\n",
      "/Users/keitokiddo/git/vcregression/vcregression/vc_regression.py:557: RuntimeWarning: overflow encountered in exp\n",
      "  rho_d_fit = np.matmul(np.exp(theta), W_kd)\n",
      "/Users/keitokiddo/git/vcregression/vcregression/vc_regression.py:639: RuntimeWarning: overflow encountered in exp\n",
      "  ldas.append(np.exp(res.x))\n",
      " 10%|█         | 1/10 [00:03<00:33,  3.76s/it]/Users/keitokiddo/git/vcregression/vcregression/vc_regression.py:561: RuntimeWarning: overflow encountered in multiply\n",
      "  frob_loss = (1/N_pairs)*np.sum(N_d*(rho_d_fit - rho_d)**2)\n",
      "100%|██████████| 10/10 [00:38<00:00,  3.83s/it]\n"
     ]
    },
    {
     "name": "stdout",
     "output_type": "stream",
     "text": [
      "working on sample 2,3\n"
     ]
    },
    {
     "name": "stderr",
     "output_type": "stream",
     "text": [
      "100%|██████████| 10/10 [00:41<00:00,  4.14s/it]\n"
     ]
    },
    {
     "name": "stdout",
     "output_type": "stream",
     "text": [
      "working on sample 1.5,1\n"
     ]
    },
    {
     "name": "stderr",
     "output_type": "stream",
     "text": [
      "  0%|          | 0/10 [00:00<?, ?it/s]/Users/keitokiddo/git/vcregression/vcregression/vc_regression.py:561: RuntimeWarning: overflow encountered in square\n",
      "  frob_loss = (1/N_pairs)*np.sum(N_d*(rho_d_fit - rho_d)**2)\n",
      "/Library/Frameworks/Python.framework/Versions/3.8/lib/python3.8/site-packages/numpy/core/fromnumeric.py:87: RuntimeWarning: invalid value encountered in reduce\n",
      "  return ufunc.reduce(obj, axis, dtype, out, **passkwargs)\n",
      " 10%|█         | 1/10 [00:03<00:33,  3.74s/it]/Users/keitokiddo/git/vcregression/vcregression/vc_regression.py:557: RuntimeWarning: overflow encountered in exp\n",
      "  rho_d_fit = np.matmul(np.exp(theta), W_kd)\n",
      "/Users/keitokiddo/git/vcregression/vcregression/vc_regression.py:639: RuntimeWarning: overflow encountered in exp\n",
      "  ldas.append(np.exp(res.x))\n",
      " 40%|████      | 4/10 [00:15<00:22,  3.83s/it]/Users/keitokiddo/git/vcregression/vcregression/vc_regression.py:561: RuntimeWarning: overflow encountered in multiply\n",
      "  frob_loss = (1/N_pairs)*np.sum(N_d*(rho_d_fit - rho_d)**2)\n",
      "100%|██████████| 10/10 [00:38<00:00,  3.87s/it]\n"
     ]
    },
    {
     "name": "stdout",
     "output_type": "stream",
     "text": [
      "working on sample 1.5,2\n"
     ]
    },
    {
     "name": "stderr",
     "output_type": "stream",
     "text": [
      "100%|██████████| 10/10 [00:43<00:00,  4.30s/it]\n"
     ]
    },
    {
     "name": "stdout",
     "output_type": "stream",
     "text": [
      "working on sample 1.5,3\n"
     ]
    },
    {
     "name": "stderr",
     "output_type": "stream",
     "text": [
      "  0%|          | 0/10 [00:00<?, ?it/s]/Users/keitokiddo/git/vcregression/vcregression/vc_regression.py:561: RuntimeWarning: overflow encountered in square\n",
      "  frob_loss = (1/N_pairs)*np.sum(N_d*(rho_d_fit - rho_d)**2)\n",
      "/Library/Frameworks/Python.framework/Versions/3.8/lib/python3.8/site-packages/numpy/core/fromnumeric.py:87: RuntimeWarning: invalid value encountered in reduce\n",
      "  return ufunc.reduce(obj, axis, dtype, out, **passkwargs)\n",
      "/Users/keitokiddo/git/vcregression/vcregression/vc_regression.py:557: RuntimeWarning: overflow encountered in exp\n",
      "  rho_d_fit = np.matmul(np.exp(theta), W_kd)\n",
      " 10%|█         | 1/10 [00:03<00:34,  3.79s/it]/Users/keitokiddo/git/vcregression/vcregression/vc_regression.py:639: RuntimeWarning: overflow encountered in exp\n",
      "  ldas.append(np.exp(res.x))\n",
      "100%|██████████| 10/10 [00:36<00:00,  3.68s/it]\n"
     ]
    },
    {
     "name": "stdout",
     "output_type": "stream",
     "text": [
      "working on sample 1,1\n"
     ]
    },
    {
     "name": "stderr",
     "output_type": "stream",
     "text": [
      "  0%|          | 0/10 [00:00<?, ?it/s]/Users/keitokiddo/git/vcregression/vcregression/vc_regression.py:561: RuntimeWarning: overflow encountered in square\n",
      "  frob_loss = (1/N_pairs)*np.sum(N_d*(rho_d_fit - rho_d)**2)\n",
      "/Library/Frameworks/Python.framework/Versions/3.8/lib/python3.8/site-packages/numpy/core/fromnumeric.py:87: RuntimeWarning: invalid value encountered in reduce\n",
      "  return ufunc.reduce(obj, axis, dtype, out, **passkwargs)\n",
      " 40%|████      | 4/10 [00:15<00:23,  3.98s/it]/Users/keitokiddo/git/vcregression/vcregression/vc_regression.py:557: RuntimeWarning: overflow encountered in exp\n",
      "  rho_d_fit = np.matmul(np.exp(theta), W_kd)\n",
      "100%|██████████| 10/10 [00:39<00:00,  3.91s/it]\n"
     ]
    },
    {
     "name": "stdout",
     "output_type": "stream",
     "text": [
      "working on sample 1,2\n"
     ]
    },
    {
     "name": "stderr",
     "output_type": "stream",
     "text": [
      "100%|██████████| 10/10 [00:40<00:00,  4.09s/it]\n"
     ]
    },
    {
     "name": "stdout",
     "output_type": "stream",
     "text": [
      "working on sample 1,3\n"
     ]
    },
    {
     "name": "stderr",
     "output_type": "stream",
     "text": [
      " 10%|█         | 1/10 [00:03<00:35,  3.91s/it]/Users/keitokiddo/git/vcregression/vcregression/vc_regression.py:557: RuntimeWarning: overflow encountered in exp\n",
      "  rho_d_fit = np.matmul(np.exp(theta), W_kd)\n",
      "/Library/Frameworks/Python.framework/Versions/3.8/lib/python3.8/site-packages/numpy/core/fromnumeric.py:87: RuntimeWarning: invalid value encountered in reduce\n",
      "  return ufunc.reduce(obj, axis, dtype, out, **passkwargs)\n",
      "/Users/keitokiddo/git/vcregression/vcregression/vc_regression.py:639: RuntimeWarning: overflow encountered in exp\n",
      "  ldas.append(np.exp(res.x))\n",
      " 20%|██        | 2/10 [00:07<00:32,  4.00s/it]/Users/keitokiddo/git/vcregression/vcregression/vc_regression.py:561: RuntimeWarning: overflow encountered in square\n",
      "  frob_loss = (1/N_pairs)*np.sum(N_d*(rho_d_fit - rho_d)**2)\n",
      "100%|██████████| 10/10 [00:38<00:00,  3.86s/it]\n"
     ]
    },
    {
     "name": "stdout",
     "output_type": "stream",
     "text": [
      "working on sample 0.75,1\n"
     ]
    },
    {
     "name": "stderr",
     "output_type": "stream",
     "text": [
      "  0%|          | 0/10 [00:00<?, ?it/s]/Users/keitokiddo/git/vcregression/vcregression/vc_regression.py:561: RuntimeWarning: overflow encountered in square\n",
      "  frob_loss = (1/N_pairs)*np.sum(N_d*(rho_d_fit - rho_d)**2)\n",
      "/Library/Frameworks/Python.framework/Versions/3.8/lib/python3.8/site-packages/numpy/core/fromnumeric.py:87: RuntimeWarning: invalid value encountered in reduce\n",
      "  return ufunc.reduce(obj, axis, dtype, out, **passkwargs)\n",
      "/Users/keitokiddo/git/vcregression/vcregression/vc_regression.py:557: RuntimeWarning: overflow encountered in exp\n",
      "  rho_d_fit = np.matmul(np.exp(theta), W_kd)\n",
      "/Users/keitokiddo/git/vcregression/vcregression/vc_regression.py:639: RuntimeWarning: overflow encountered in exp\n",
      "  ldas.append(np.exp(res.x))\n",
      "100%|██████████| 10/10 [00:41<00:00,  4.18s/it]\n"
     ]
    },
    {
     "name": "stdout",
     "output_type": "stream",
     "text": [
      "working on sample 0.75,2\n"
     ]
    },
    {
     "name": "stderr",
     "output_type": "stream",
     "text": [
      "  0%|          | 0/10 [00:00<?, ?it/s]/Users/keitokiddo/git/vcregression/vcregression/vc_regression.py:561: RuntimeWarning: overflow encountered in square\n",
      "  frob_loss = (1/N_pairs)*np.sum(N_d*(rho_d_fit - rho_d)**2)\n",
      "/Library/Frameworks/Python.framework/Versions/3.8/lib/python3.8/site-packages/numpy/core/fromnumeric.py:87: RuntimeWarning: invalid value encountered in reduce\n",
      "  return ufunc.reduce(obj, axis, dtype, out, **passkwargs)\n",
      "/Users/keitokiddo/git/vcregression/vcregression/vc_regression.py:561: RuntimeWarning: overflow encountered in multiply\n",
      "  frob_loss = (1/N_pairs)*np.sum(N_d*(rho_d_fit - rho_d)**2)\n",
      "/Users/keitokiddo/git/vcregression/vcregression/vc_regression.py:557: RuntimeWarning: overflow encountered in exp\n",
      "  rho_d_fit = np.matmul(np.exp(theta), W_kd)\n",
      "/Users/keitokiddo/git/vcregression/vcregression/vc_regression.py:639: RuntimeWarning: overflow encountered in exp\n",
      "  ldas.append(np.exp(res.x))\n",
      " 50%|█████     | 5/10 [00:19<00:19,  3.81s/it]/Library/Frameworks/Python.framework/Versions/3.8/lib/python3.8/site-packages/scipy/optimize/optimize.py:2522: RuntimeWarning: invalid value encountered in double_scalars\n",
      "  w = xb - ((xb - xc) * tmp2 - (xb - xa) * tmp1) / denom\n",
      "100%|██████████| 10/10 [00:38<00:00,  3.80s/it]\n"
     ]
    },
    {
     "name": "stdout",
     "output_type": "stream",
     "text": [
      "working on sample 0.75,3\n"
     ]
    },
    {
     "name": "stderr",
     "output_type": "stream",
     "text": [
      " 40%|████      | 4/10 [00:15<00:23,  3.98s/it]/Users/keitokiddo/git/vcregression/vcregression/vc_regression.py:561: RuntimeWarning: overflow encountered in square\n",
      "  frob_loss = (1/N_pairs)*np.sum(N_d*(rho_d_fit - rho_d)**2)\n",
      "/Library/Frameworks/Python.framework/Versions/3.8/lib/python3.8/site-packages/numpy/core/fromnumeric.py:87: RuntimeWarning: invalid value encountered in reduce\n",
      "  return ufunc.reduce(obj, axis, dtype, out, **passkwargs)\n",
      "/Users/keitokiddo/git/vcregression/vcregression/vc_regression.py:557: RuntimeWarning: overflow encountered in exp\n",
      "  rho_d_fit = np.matmul(np.exp(theta), W_kd)\n",
      "/Users/keitokiddo/git/vcregression/vcregression/vc_regression.py:639: RuntimeWarning: overflow encountered in exp\n",
      "  ldas.append(np.exp(res.x))\n",
      " 70%|███████   | 7/10 [00:27<00:11,  3.94s/it]/Users/keitokiddo/git/vcregression/vcregression/vc_regression.py:561: RuntimeWarning: overflow encountered in multiply\n",
      "  frob_loss = (1/N_pairs)*np.sum(N_d*(rho_d_fit - rho_d)**2)\n",
      "100%|██████████| 10/10 [00:39<00:00,  3.94s/it]\n"
     ]
    },
    {
     "name": "stdout",
     "output_type": "stream",
     "text": [
      "working on sample 0.5,1\n"
     ]
    },
    {
     "name": "stderr",
     "output_type": "stream",
     "text": [
      " 10%|█         | 1/10 [00:04<00:40,  4.46s/it]/Users/keitokiddo/git/vcregression/vcregression/vc_regression.py:561: RuntimeWarning: overflow encountered in square\n",
      "  frob_loss = (1/N_pairs)*np.sum(N_d*(rho_d_fit - rho_d)**2)\n",
      "/Library/Frameworks/Python.framework/Versions/3.8/lib/python3.8/site-packages/numpy/core/fromnumeric.py:87: RuntimeWarning: invalid value encountered in reduce\n",
      "  return ufunc.reduce(obj, axis, dtype, out, **passkwargs)\n",
      "100%|██████████| 10/10 [00:41<00:00,  4.18s/it]\n"
     ]
    },
    {
     "name": "stdout",
     "output_type": "stream",
     "text": [
      "working on sample 0.5,2\n"
     ]
    },
    {
     "name": "stderr",
     "output_type": "stream",
     "text": [
      " 20%|██        | 2/10 [00:09<00:35,  4.49s/it]/Users/keitokiddo/git/vcregression/vcregression/vc_regression.py:561: RuntimeWarning: overflow encountered in square\n",
      "  frob_loss = (1/N_pairs)*np.sum(N_d*(rho_d_fit - rho_d)**2)\n",
      "/Library/Frameworks/Python.framework/Versions/3.8/lib/python3.8/site-packages/numpy/core/fromnumeric.py:87: RuntimeWarning: invalid value encountered in reduce\n",
      "  return ufunc.reduce(obj, axis, dtype, out, **passkwargs)\n",
      "100%|██████████| 10/10 [00:43<00:00,  4.31s/it]\n"
     ]
    },
    {
     "name": "stdout",
     "output_type": "stream",
     "text": [
      "working on sample 0.5,3\n"
     ]
    },
    {
     "name": "stderr",
     "output_type": "stream",
     "text": [
      "100%|██████████| 10/10 [00:40<00:00,  4.02s/it]\n"
     ]
    }
   ],
   "source": [
    "varall = 0*np.ones(G)\n",
    "\n",
    "f = 'f'\n",
    "train = 'tr_mut'\n",
    "scheme = 'mut'\n",
    "\n",
    "\n",
    "for k in range(len(blist)):\n",
    "    for i in range(3):\n",
    "        for j in range(1,2):\n",
    "            response_name = [fl_name, f, str(blist[k]), str(i + 1)]\n",
    "            tr_name = [train, str(j + 1)]\n",
    "            map_name = [fl_name, scheme, \"vc\", str(blist[k]), str(i + 1), str(j + 1)]\n",
    "            lda_name = [fl_name, scheme, \"lda\", str(blist[k]), str(i + 1), str(j + 1)]\n",
    "            response = pd.read_csv(dirin + \"_\".join(response_name) + \".tsv\", header = None)\n",
    "            response = response.to_numpy()\n",
    "            response = response.squeeze()\n",
    "            print(\"working on sample \" + str(blist[k]) + ',' + str(i+1))\n",
    "            tr = pd.read_csv(dirin + \"_\".join(tr_name) + \".tsv\", header = None)\n",
    "            tr = np.array(tr).flatten()\n",
    "            tr -= 1\n",
    "            lambdas,map = vc.compute_posterior_mean_ex(\n",
    "                    np.array(seqs)[tr], np.array(response)[tr], np.array(varall)[tr])\n",
    "\n",
    "            pd.DataFrame(map).to_csv(dirout + \"_\".join(map_name) + \".tsv\", header = None, index = None)\n",
    "            pd.DataFrame(lambdas).to_csv(dirout + \"_\".join(lda_name) + \".tsv\", header = None, index = None)"
   ]
  },
  {
   "cell_type": "code",
   "execution_count": 36,
   "metadata": {},
   "outputs": [
    {
     "name": "stdout",
     "output_type": "stream",
     "text": [
      "working on sample 1,2\n",
      "working on sample 2,2\n",
      "working on sample 3,2\n"
     ]
    }
   ],
   "source": [
    "##prediction using true lambdas\n",
    "\n",
    "\n",
    "\n",
    "\n",
    "tru_lda = pd.read_csv(dirin + \"tru_lda_2.tsv\", header = None)\n",
    "lda = np.concatenate(([0.],np.array(tru_lda).squeeze()))\n",
    "\n",
    "lda[0] = 1e-6\n",
    "\n",
    "varall = 0*np.ones(G)\n",
    "\n",
    "f = 'f'\n",
    "train = 'tr_mut'\n",
    "scheme = 'mut'\n",
    "\n",
    "\n",
    "for i in range(1):\n",
    "    for j in range(1,2):\n",
    "        response_name = [fl_name, f, str(i + 1)]\n",
    "        tr_name = [train, str(j + 1)]\n",
    "        map_name = [fl_name, scheme, \"vc\", str(i + 1), str(j + 1)]\n",
    "        lda_name = [fl_name, scheme, \"lda\", str(i + 1), str(j + 1)]\n",
    "        response = pd.read_csv(dirin + \"_\".join(response_name) + \".tsv\", header = None)\n",
    "        response = response.to_numpy()\n",
    "        response = response.squeeze()\n",
    "        print(\"working on sample \" + str(i+1) + \",\" + str(j+1))\n",
    "        tr = pd.read_csv(dirin + \"_\".join(tr_name) + \".tsv\", header = None)\n",
    "        tr = np.array(tr).flatten()\n",
    "        tr -= 1\n",
    "        map = vc.compute_posterior_mean_lda(np.array(seqs)[tr], \n",
    "                                            np.array(response)[tr], np.array(varall)[tr], lda)        \n",
    "\n",
    "        pd.DataFrame(map).to_csv(dirout + \"_\".join(map_name) + \"_trulda.tsv\", header = None, index = None)"
   ]
  },
  {
   "cell_type": "code",
   "execution_count": 27,
   "metadata": {},
   "outputs": [
    {
     "name": "stdout",
     "output_type": "stream",
     "text": [
      "working on sample 2,1\n"
     ]
    }
   ],
   "source": [
    "tru_lda = pd.read_csv(dirin + \"tru_lda_2.tsv\", header = None)\n",
    "lda = np.concatenate(([0.],np.array(tru_lda).squeeze()))\n",
    "\n",
    "\n",
    "# for k in range(len(blist)):\n",
    "#     for i in range(3):\n",
    "#         for j in range(1,2):\n",
    "\n",
    "k=2\n",
    "i=0\n",
    "j=1\n",
    "\n",
    "response_name = [fl_name, f, str(blist[k]), str(i + 1)]\n",
    "tr_name = [train, str(j + 1)]\n",
    "map_name = [fl_name, scheme, \"vc\", str(blist[k]), str(i + 1), str(j + 1)]\n",
    "lda_name = [fl_name, scheme, \"lda\", str(blist[k]), str(i + 1), str(j + 1)]\n",
    "response = pd.read_csv(dirin + \"_\".join(response_name) + \".tsv\", header = None)\n",
    "response = response.to_numpy()\n",
    "response = response.squeeze()\n",
    "print(\"working on sample \" + str(blist[k]) + ',' + str(i+1))\n",
    "tr = pd.read_csv(dirin + \"_\".join(tr_name) + \".tsv\", header = None)\n",
    "tr = np.array(tr).flatten()\n",
    "tr -= 1\n",
    "map = vc.compute_posterior_mean_lda(np.array(seqs)[tr], \n",
    "                                            np.array(response)[tr], np.array(varall)[tr], lda)        \n",
    "\n",
    "pd.DataFrame(map).to_csv(dirout + \"_\".join(map_name) + \"_trulda.tsv\", header = None, index = None)"
   ]
  },
  {
   "cell_type": "code",
   "execution_count": null,
   "metadata": {},
   "outputs": [],
   "source": []
  }
 ],
 "metadata": {
  "kernelspec": {
   "display_name": "Python 3",
   "language": "python",
   "name": "python3"
  },
  "language_info": {
   "codemirror_mode": {
    "name": "ipython",
    "version": 3
   },
   "file_extension": ".py",
   "mimetype": "text/x-python",
   "name": "python",
   "nbconvert_exporter": "python",
   "pygments_lexer": "ipython3",
   "version": "3.8.6"
  }
 },
 "nbformat": 4,
 "nbformat_minor": 4
}
